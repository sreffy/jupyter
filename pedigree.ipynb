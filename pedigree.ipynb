{
 "cells": [
  {
   "cell_type": "code",
   "execution_count": 46,
   "metadata": {},
   "outputs": [],
   "source": [
    "import seaborn as sns\n",
    "\n",
    "import matplotlib.pyplot as plt\n",
    "\n",
    "import numpy as np\n",
    "\n",
    "import pandas as pd"
   ]
  },
  {
   "cell_type": "code",
   "execution_count": 47,
   "metadata": {},
   "outputs": [],
   "source": [
    "plt.rcParams['font.sans-serif']=['SimHei']\n",
    "plt.rcParams['axes.unicode_minus'] = False"
   ]
  },
  {
   "cell_type": "code",
   "execution_count": 48,
   "metadata": {},
   "outputs": [],
   "source": [
    "ped=pd.read_excel('F:\\\\fertility data\\\\SUMBJ1807\\\\pedigree.xlsx')"
   ]
  },
  {
   "cell_type": "code",
   "execution_count": 49,
   "metadata": {},
   "outputs": [],
   "source": [
    "data=pd.read_csv('F:\\\\fertility data\\\\SUMBJ1807\\\\final.csv',sep=',',low_memory=False)"
   ]
  },
  {
   "cell_type": "code",
   "execution_count": 50,
   "metadata": {},
   "outputs": [
    {
     "data": {
      "text/html": [
       "<div>\n",
       "<style scoped>\n",
       "    .dataframe tbody tr th:only-of-type {\n",
       "        vertical-align: middle;\n",
       "    }\n",
       "\n",
       "    .dataframe tbody tr th {\n",
       "        vertical-align: top;\n",
       "    }\n",
       "\n",
       "    .dataframe thead th {\n",
       "        text-align: right;\n",
       "    }\n",
       "</style>\n",
       "<table border=\"1\" class=\"dataframe\">\n",
       "  <thead>\n",
       "    <tr style=\"text-align: right;\">\n",
       "      <th></th>\n",
       "      <th>DAM</th>\n",
       "      <th>ID</th>\n",
       "      <th>SIRE</th>\n",
       "      <th>IDLIST</th>\n",
       "      <th>SIRECODE</th>\n",
       "      <th>DAMCODE</th>\n",
       "      <th>BIRTH</th>\n",
       "      <th>SEX</th>\n",
       "    </tr>\n",
       "  </thead>\n",
       "  <tbody>\n",
       "    <tr>\n",
       "      <th>0</th>\n",
       "      <td>F0</td>\n",
       "      <td>M0001HO0261</td>\n",
       "      <td>M0</td>\n",
       "      <td>1</td>\n",
       "      <td>0</td>\n",
       "      <td>0</td>\n",
       "      <td>1900/1/0</td>\n",
       "      <td>M</td>\n",
       "    </tr>\n",
       "    <tr>\n",
       "      <th>1</th>\n",
       "      <td>F0</td>\n",
       "      <td>M00-104</td>\n",
       "      <td>M0</td>\n",
       "      <td>2</td>\n",
       "      <td>0</td>\n",
       "      <td>0</td>\n",
       "      <td>1900/1/0</td>\n",
       "      <td>M</td>\n",
       "    </tr>\n",
       "    <tr>\n",
       "      <th>2</th>\n",
       "      <td>F0</td>\n",
       "      <td>M0011HO88013</td>\n",
       "      <td>M0</td>\n",
       "      <td>3</td>\n",
       "      <td>0</td>\n",
       "      <td>0</td>\n",
       "      <td>1900/1/0</td>\n",
       "      <td>M</td>\n",
       "    </tr>\n",
       "    <tr>\n",
       "      <th>3</th>\n",
       "      <td>F0</td>\n",
       "      <td>M001JE00672</td>\n",
       "      <td>M0</td>\n",
       "      <td>4</td>\n",
       "      <td>0</td>\n",
       "      <td>0</td>\n",
       "      <td>1900/1/0</td>\n",
       "      <td>M</td>\n",
       "    </tr>\n",
       "    <tr>\n",
       "      <th>4</th>\n",
       "      <td>F0</td>\n",
       "      <td>M0029HO02611</td>\n",
       "      <td>M0</td>\n",
       "      <td>5</td>\n",
       "      <td>0</td>\n",
       "      <td>0</td>\n",
       "      <td>1900/1/0</td>\n",
       "      <td>M</td>\n",
       "    </tr>\n",
       "  </tbody>\n",
       "</table>\n",
       "</div>"
      ],
      "text/plain": [
       "  DAM            ID SIRE  IDLIST  SIRECODE  DAMCODE     BIRTH SEX\n",
       "0  F0   M0001HO0261   M0       1         0        0  1900/1/0   M\n",
       "1  F0       M00-104   M0       2         0        0  1900/1/0   M\n",
       "2  F0  M0011HO88013   M0       3         0        0  1900/1/0   M\n",
       "3  F0   M001JE00672   M0       4         0        0  1900/1/0   M\n",
       "4  F0  M0029HO02611   M0       5         0        0  1900/1/0   M"
      ]
     },
     "execution_count": 50,
     "metadata": {},
     "output_type": "execute_result"
    }
   ],
   "source": [
    "ped.head()"
   ]
  },
  {
   "cell_type": "code",
   "execution_count": 51,
   "metadata": {},
   "outputs": [],
   "source": [
    "ped1=ped[['ID','IDLIST','DAMCODE']] #SB,CE需要用到母畜效应，保留damcode"
   ]
  },
  {
   "cell_type": "code",
   "execution_count": 52,
   "metadata": {},
   "outputs": [
    {
     "name": "stderr",
     "output_type": "stream",
     "text": [
      "E:\\Anaconda\\lib\\site-packages\\pandas\\core\\frame.py:3027: SettingWithCopyWarning: \n",
      "A value is trying to be set on a copy of a slice from a DataFrame\n",
      "\n",
      "See the caveats in the documentation: http://pandas.pydata.org/pandas-docs/stable/indexing.html#indexing-view-versus-copy\n",
      "  return super(DataFrame, self).rename(**kwargs)\n"
     ]
    }
   ],
   "source": [
    "ped1.rename(columns={'ID':'FID'},inplace=True)"
   ]
  },
  {
   "cell_type": "markdown",
   "metadata": {},
   "source": [
    "# 对繁殖数据的胎次进行筛选整理"
   ]
  },
  {
   "cell_type": "code",
   "execution_count": 53,
   "metadata": {},
   "outputs": [
    {
     "data": {
      "text/html": [
       "<div>\n",
       "<style scoped>\n",
       "    .dataframe tbody tr th:only-of-type {\n",
       "        vertical-align: middle;\n",
       "    }\n",
       "\n",
       "    .dataframe tbody tr th {\n",
       "        vertical-align: top;\n",
       "    }\n",
       "\n",
       "    .dataframe thead th {\n",
       "        text-align: right;\n",
       "    }\n",
       "</style>\n",
       "<table border=\"1\" class=\"dataframe\">\n",
       "  <thead>\n",
       "    <tr style=\"text-align: right;\">\n",
       "      <th></th>\n",
       "      <th>FID</th>\n",
       "      <th>胎次</th>\n",
       "      <th>HERD</th>\n",
       "      <th>cowtai</th>\n",
       "      <th>YMB</th>\n",
       "      <th>HYB</th>\n",
       "      <th>YMC</th>\n",
       "      <th>HYC</th>\n",
       "      <th>YMI</th>\n",
       "      <th>HYI</th>\n",
       "      <th>ST</th>\n",
       "      <th>SC</th>\n",
       "      <th>CALF</th>\n",
       "      <th>AFS</th>\n",
       "      <th>AFC</th>\n",
       "      <th>IFL</th>\n",
       "      <th>CE</th>\n",
       "      <th>SB</th>\n",
       "      <th>ICF</th>\n",
       "    </tr>\n",
       "  </thead>\n",
       "  <tbody>\n",
       "    <tr>\n",
       "      <th>0</th>\n",
       "      <td>F459001097033</td>\n",
       "      <td>--</td>\n",
       "      <td>1</td>\n",
       "      <td>F459001097033.--</td>\n",
       "      <td>199704.0</td>\n",
       "      <td>11997.0</td>\n",
       "      <td>NaN</td>\n",
       "      <td>NaN</td>\n",
       "      <td>200001.0</td>\n",
       "      <td>12000.0</td>\n",
       "      <td>NaN</td>\n",
       "      <td>2.0</td>\n",
       "      <td>NaN</td>\n",
       "      <td>NaN</td>\n",
       "      <td>NaN</td>\n",
       "      <td>0.0</td>\n",
       "      <td>NaN</td>\n",
       "      <td>NaN</td>\n",
       "      <td>NaN</td>\n",
       "    </tr>\n",
       "    <tr>\n",
       "      <th>1</th>\n",
       "      <td>F459001097110</td>\n",
       "      <td>--</td>\n",
       "      <td>1</td>\n",
       "      <td>F459001097110.--</td>\n",
       "      <td>199711.0</td>\n",
       "      <td>11997.0</td>\n",
       "      <td>NaN</td>\n",
       "      <td>NaN</td>\n",
       "      <td>199905.0</td>\n",
       "      <td>11999.0</td>\n",
       "      <td>NaN</td>\n",
       "      <td>2.0</td>\n",
       "      <td>NaN</td>\n",
       "      <td>543.0</td>\n",
       "      <td>820.0</td>\n",
       "      <td>0.0</td>\n",
       "      <td>NaN</td>\n",
       "      <td>NaN</td>\n",
       "      <td>NaN</td>\n",
       "    </tr>\n",
       "    <tr>\n",
       "      <th>2</th>\n",
       "      <td>F459001D97138</td>\n",
       "      <td>--</td>\n",
       "      <td>1</td>\n",
       "      <td>F459001D97138.--</td>\n",
       "      <td>199712.0</td>\n",
       "      <td>11997.0</td>\n",
       "      <td>NaN</td>\n",
       "      <td>NaN</td>\n",
       "      <td>200003.0</td>\n",
       "      <td>12000.0</td>\n",
       "      <td>NaN</td>\n",
       "      <td>2.0</td>\n",
       "      <td>NaN</td>\n",
       "      <td>804.0</td>\n",
       "      <td>1081.0</td>\n",
       "      <td>0.0</td>\n",
       "      <td>NaN</td>\n",
       "      <td>NaN</td>\n",
       "      <td>NaN</td>\n",
       "    </tr>\n",
       "    <tr>\n",
       "      <th>3</th>\n",
       "      <td>F459001098011</td>\n",
       "      <td>--</td>\n",
       "      <td>1</td>\n",
       "      <td>F459001098011.--</td>\n",
       "      <td>199802.0</td>\n",
       "      <td>11998.0</td>\n",
       "      <td>NaN</td>\n",
       "      <td>NaN</td>\n",
       "      <td>200002.0</td>\n",
       "      <td>12000.0</td>\n",
       "      <td>NaN</td>\n",
       "      <td>2.0</td>\n",
       "      <td>NaN</td>\n",
       "      <td>733.0</td>\n",
       "      <td>1010.0</td>\n",
       "      <td>0.0</td>\n",
       "      <td>NaN</td>\n",
       "      <td>NaN</td>\n",
       "      <td>NaN</td>\n",
       "    </tr>\n",
       "    <tr>\n",
       "      <th>4</th>\n",
       "      <td>F459001098047</td>\n",
       "      <td>--</td>\n",
       "      <td>1</td>\n",
       "      <td>F459001098047.--</td>\n",
       "      <td>199806.0</td>\n",
       "      <td>11998.0</td>\n",
       "      <td>NaN</td>\n",
       "      <td>NaN</td>\n",
       "      <td>200001.0</td>\n",
       "      <td>12000.0</td>\n",
       "      <td>NaN</td>\n",
       "      <td>2.0</td>\n",
       "      <td>NaN</td>\n",
       "      <td>580.0</td>\n",
       "      <td>857.0</td>\n",
       "      <td>0.0</td>\n",
       "      <td>NaN</td>\n",
       "      <td>NaN</td>\n",
       "      <td>NaN</td>\n",
       "    </tr>\n",
       "  </tbody>\n",
       "</table>\n",
       "</div>"
      ],
      "text/plain": [
       "             FID  胎次  HERD            cowtai       YMB      HYB  YMC  HYC  \\\n",
       "0  F459001097033  --     1  F459001097033.--  199704.0  11997.0  NaN  NaN   \n",
       "1  F459001097110  --     1  F459001097110.--  199711.0  11997.0  NaN  NaN   \n",
       "2  F459001D97138  --     1  F459001D97138.--  199712.0  11997.0  NaN  NaN   \n",
       "3  F459001098011  --     1  F459001098011.--  199802.0  11998.0  NaN  NaN   \n",
       "4  F459001098047  --     1  F459001098047.--  199806.0  11998.0  NaN  NaN   \n",
       "\n",
       "        YMI      HYI  ST   SC  CALF    AFS     AFC  IFL  CE  SB  ICF  \n",
       "0  200001.0  12000.0 NaN  2.0   NaN    NaN     NaN  0.0 NaN NaN  NaN  \n",
       "1  199905.0  11999.0 NaN  2.0   NaN  543.0   820.0  0.0 NaN NaN  NaN  \n",
       "2  200003.0  12000.0 NaN  2.0   NaN  804.0  1081.0  0.0 NaN NaN  NaN  \n",
       "3  200002.0  12000.0 NaN  2.0   NaN  733.0  1010.0  0.0 NaN NaN  NaN  \n",
       "4  200001.0  12000.0 NaN  2.0   NaN  580.0   857.0  0.0 NaN NaN  NaN  "
      ]
     },
     "execution_count": 53,
     "metadata": {},
     "output_type": "execute_result"
    }
   ],
   "source": [
    "data.head()"
   ]
  },
  {
   "cell_type": "code",
   "execution_count": 54,
   "metadata": {},
   "outputs": [
    {
     "data": {
      "text/plain": [
       "count     690584\n",
       "unique        19\n",
       "top           --\n",
       "freq      337555\n",
       "Name: 胎次, dtype: object"
      ]
     },
     "execution_count": 54,
     "metadata": {},
     "output_type": "execute_result"
    }
   ],
   "source": [
    "data['胎次'].describe() #可以看出胎次有很多类别，汇总一下"
   ]
  },
  {
   "cell_type": "code",
   "execution_count": 55,
   "metadata": {},
   "outputs": [
    {
     "data": {
      "text/plain": [
       "--                       337555\n",
       "1                        136045\n",
       "2                         97901\n",
       "3                         59222\n",
       "4                         30574\n",
       "5                         15113\n",
       "6                          8088\n",
       "7                          3427\n",
       "8                          1575\n",
       "9                           637\n",
       "10                          227\n",
       "255                         130\n",
       "11                           63\n",
       "12                           19\n",
       "13                            3\n",
       "--\u00011,0\\r\\r\\r\\r\\r\\n--\"         2\n",
       "5\u00011,0                         1\n",
       "--\u00011,0\\r\\r\\r\\n--\"             1\n",
       "2\u00011,0                         1\n",
       "Name: 胎次, dtype: int64"
      ]
     },
     "execution_count": 55,
     "metadata": {},
     "output_type": "execute_result"
    }
   ],
   "source": [
    "data['胎次'].value_counts() "
   ]
  },
  {
   "cell_type": "markdown",
   "metadata": {},
   "source": [
    "接下来检查是否日期格式的数据都来自一个牛场？"
   ]
  },
  {
   "cell_type": "code",
   "execution_count": 56,
   "metadata": {},
   "outputs": [],
   "source": [
    "data1=data.copy()"
   ]
  },
  {
   "cell_type": "code",
   "execution_count": 57,
   "metadata": {},
   "outputs": [],
   "source": [
    "data1['胎次']=data1['胎次'].apply(lambda s: str(s))\n",
    "data1['LEN']=data1['胎次'].apply(lambda s: len(s))"
   ]
  },
  {
   "cell_type": "markdown",
   "metadata": {},
   "source": [
    "直接将长度>2的数据删除"
   ]
  },
  {
   "cell_type": "code",
   "execution_count": 58,
   "metadata": {},
   "outputs": [],
   "source": [
    "data2=data1[data1['LEN']<=2]"
   ]
  },
  {
   "cell_type": "code",
   "execution_count": 59,
   "metadata": {},
   "outputs": [
    {
     "data": {
      "text/plain": [
       "<matplotlib.axes._subplots.AxesSubplot at 0x1f810837860>"
      ]
     },
     "execution_count": 59,
     "metadata": {},
     "output_type": "execute_result"
    },
    {
     "data": {
      "image/png": "[encoded data removed]",
      "text/plain": [
       "<matplotlib.figure.Figure at 0x1f81121d0f0>"
      ]
     },
     "metadata": {},
     "output_type": "display_data"
    }
   ],
   "source": [
    "sns.countplot(x='胎次',data=data2)"
   ]
  },
  {
   "cell_type": "markdown",
   "metadata": {},
   "source": [
    "可见胎次分布不是很均匀，先分离青年牛和经产牛，然后将经产牛4胎及以上合并。"
   ]
  },
  {
   "cell_type": "markdown",
   "metadata": {},
   "source": [
    "# AFS均匀分开作为新效应MF添加进DATA中"
   ]
  },
  {
   "cell_type": "code",
   "execution_count": 60,
   "metadata": {},
   "outputs": [
    {
     "name": "stderr",
     "output_type": "stream",
     "text": [
      "E:\\Anaconda\\lib\\site-packages\\ipykernel_launcher.py:1: SettingWithCopyWarning: \n",
      "A value is trying to be set on a copy of a slice from a DataFrame.\n",
      "Try using .loc[row_indexer,col_indexer] = value instead\n",
      "\n",
      "See the caveats in the documentation: http://pandas.pydata.org/pandas-docs/stable/indexing.html#indexing-view-versus-copy\n",
      "  \"\"\"Entry point for launching an IPython kernel.\n"
     ]
    }
   ],
   "source": [
    "data2['MF'] = pd.cut(data2['AFS'], 5,labels=[1, 2, 3, 4, 5]) #数据AFS均分5份"
   ]
  },
  {
   "cell_type": "code",
   "execution_count": 61,
   "metadata": {
    "scrolled": true
   },
   "outputs": [
    {
     "data": {
      "text/html": [
       "<div>\n",
       "<style scoped>\n",
       "    .dataframe tbody tr th:only-of-type {\n",
       "        vertical-align: middle;\n",
       "    }\n",
       "\n",
       "    .dataframe tbody tr th {\n",
       "        vertical-align: top;\n",
       "    }\n",
       "\n",
       "    .dataframe thead th {\n",
       "        text-align: right;\n",
       "    }\n",
       "</style>\n",
       "<table border=\"1\" class=\"dataframe\">\n",
       "  <thead>\n",
       "    <tr style=\"text-align: right;\">\n",
       "      <th></th>\n",
       "      <th>FID</th>\n",
       "      <th>胎次</th>\n",
       "      <th>HERD</th>\n",
       "      <th>cowtai</th>\n",
       "      <th>YMB</th>\n",
       "      <th>HYB</th>\n",
       "      <th>YMC</th>\n",
       "      <th>HYC</th>\n",
       "      <th>YMI</th>\n",
       "      <th>HYI</th>\n",
       "      <th>...</th>\n",
       "      <th>SC</th>\n",
       "      <th>CALF</th>\n",
       "      <th>AFS</th>\n",
       "      <th>AFC</th>\n",
       "      <th>IFL</th>\n",
       "      <th>CE</th>\n",
       "      <th>SB</th>\n",
       "      <th>ICF</th>\n",
       "      <th>LEN</th>\n",
       "      <th>MF</th>\n",
       "    </tr>\n",
       "  </thead>\n",
       "  <tbody>\n",
       "    <tr>\n",
       "      <th>0</th>\n",
       "      <td>F459001097033</td>\n",
       "      <td>--</td>\n",
       "      <td>1</td>\n",
       "      <td>F459001097033.--</td>\n",
       "      <td>199704.0</td>\n",
       "      <td>11997.0</td>\n",
       "      <td>NaN</td>\n",
       "      <td>NaN</td>\n",
       "      <td>200001.0</td>\n",
       "      <td>12000.0</td>\n",
       "      <td>...</td>\n",
       "      <td>2.0</td>\n",
       "      <td>NaN</td>\n",
       "      <td>NaN</td>\n",
       "      <td>NaN</td>\n",
       "      <td>0.0</td>\n",
       "      <td>NaN</td>\n",
       "      <td>NaN</td>\n",
       "      <td>NaN</td>\n",
       "      <td>2</td>\n",
       "      <td>NaN</td>\n",
       "    </tr>\n",
       "    <tr>\n",
       "      <th>1</th>\n",
       "      <td>F459001097110</td>\n",
       "      <td>--</td>\n",
       "      <td>1</td>\n",
       "      <td>F459001097110.--</td>\n",
       "      <td>199711.0</td>\n",
       "      <td>11997.0</td>\n",
       "      <td>NaN</td>\n",
       "      <td>NaN</td>\n",
       "      <td>199905.0</td>\n",
       "      <td>11999.0</td>\n",
       "      <td>...</td>\n",
       "      <td>2.0</td>\n",
       "      <td>NaN</td>\n",
       "      <td>543.0</td>\n",
       "      <td>820.0</td>\n",
       "      <td>0.0</td>\n",
       "      <td>NaN</td>\n",
       "      <td>NaN</td>\n",
       "      <td>NaN</td>\n",
       "      <td>2</td>\n",
       "      <td>3.0</td>\n",
       "    </tr>\n",
       "    <tr>\n",
       "      <th>2</th>\n",
       "      <td>F459001D97138</td>\n",
       "      <td>--</td>\n",
       "      <td>1</td>\n",
       "      <td>F459001D97138.--</td>\n",
       "      <td>199712.0</td>\n",
       "      <td>11997.0</td>\n",
       "      <td>NaN</td>\n",
       "      <td>NaN</td>\n",
       "      <td>200003.0</td>\n",
       "      <td>12000.0</td>\n",
       "      <td>...</td>\n",
       "      <td>2.0</td>\n",
       "      <td>NaN</td>\n",
       "      <td>804.0</td>\n",
       "      <td>1081.0</td>\n",
       "      <td>0.0</td>\n",
       "      <td>NaN</td>\n",
       "      <td>NaN</td>\n",
       "      <td>NaN</td>\n",
       "      <td>2</td>\n",
       "      <td>5.0</td>\n",
       "    </tr>\n",
       "    <tr>\n",
       "      <th>3</th>\n",
       "      <td>F459001098011</td>\n",
       "      <td>--</td>\n",
       "      <td>1</td>\n",
       "      <td>F459001098011.--</td>\n",
       "      <td>199802.0</td>\n",
       "      <td>11998.0</td>\n",
       "      <td>NaN</td>\n",
       "      <td>NaN</td>\n",
       "      <td>200002.0</td>\n",
       "      <td>12000.0</td>\n",
       "      <td>...</td>\n",
       "      <td>2.0</td>\n",
       "      <td>NaN</td>\n",
       "      <td>733.0</td>\n",
       "      <td>1010.0</td>\n",
       "      <td>0.0</td>\n",
       "      <td>NaN</td>\n",
       "      <td>NaN</td>\n",
       "      <td>NaN</td>\n",
       "      <td>2</td>\n",
       "      <td>4.0</td>\n",
       "    </tr>\n",
       "    <tr>\n",
       "      <th>4</th>\n",
       "      <td>F459001098047</td>\n",
       "      <td>--</td>\n",
       "      <td>1</td>\n",
       "      <td>F459001098047.--</td>\n",
       "      <td>199806.0</td>\n",
       "      <td>11998.0</td>\n",
       "      <td>NaN</td>\n",
       "      <td>NaN</td>\n",
       "      <td>200001.0</td>\n",
       "      <td>12000.0</td>\n",
       "      <td>...</td>\n",
       "      <td>2.0</td>\n",
       "      <td>NaN</td>\n",
       "      <td>580.0</td>\n",
       "      <td>857.0</td>\n",
       "      <td>0.0</td>\n",
       "      <td>NaN</td>\n",
       "      <td>NaN</td>\n",
       "      <td>NaN</td>\n",
       "      <td>2</td>\n",
       "      <td>3.0</td>\n",
       "    </tr>\n",
       "  </tbody>\n",
       "</table>\n",
       "<p>5 rows × 21 columns</p>\n",
       "</div>"
      ],
      "text/plain": [
       "             FID  胎次  HERD            cowtai       YMB      HYB  YMC  HYC  \\\n",
       "0  F459001097033  --     1  F459001097033.--  199704.0  11997.0  NaN  NaN   \n",
       "1  F459001097110  --     1  F459001097110.--  199711.0  11997.0  NaN  NaN   \n",
       "2  F459001D97138  --     1  F459001D97138.--  199712.0  11997.0  NaN  NaN   \n",
       "3  F459001098011  --     1  F459001098011.--  199802.0  11998.0  NaN  NaN   \n",
       "4  F459001098047  --     1  F459001098047.--  199806.0  11998.0  NaN  NaN   \n",
       "\n",
       "        YMI      HYI ...    SC  CALF    AFS     AFC  IFL  CE  SB  ICF  LEN  \\\n",
       "0  200001.0  12000.0 ...   2.0   NaN    NaN     NaN  0.0 NaN NaN  NaN    2   \n",
       "1  199905.0  11999.0 ...   2.0   NaN  543.0   820.0  0.0 NaN NaN  NaN    2   \n",
       "2  200003.0  12000.0 ...   2.0   NaN  804.0  1081.0  0.0 NaN NaN  NaN    2   \n",
       "3  200002.0  12000.0 ...   2.0   NaN  733.0  1010.0  0.0 NaN NaN  NaN    2   \n",
       "4  200001.0  12000.0 ...   2.0   NaN  580.0   857.0  0.0 NaN NaN  NaN    2   \n",
       "\n",
       "    MF  \n",
       "0  NaN  \n",
       "1  3.0  \n",
       "2  5.0  \n",
       "3  4.0  \n",
       "4  3.0  \n",
       "\n",
       "[5 rows x 21 columns]"
      ]
     },
     "execution_count": 61,
     "metadata": {},
     "output_type": "execute_result"
    }
   ],
   "source": [
    "data2.head()"
   ]
  },
  {
   "cell_type": "markdown",
   "metadata": {},
   "source": [
    "# 与系谱合并"
   ]
  },
  {
   "cell_type": "code",
   "execution_count": 62,
   "metadata": {},
   "outputs": [
    {
     "name": "stderr",
     "output_type": "stream",
     "text": [
      "E:\\Anaconda\\lib\\site-packages\\ipykernel_launcher.py:1: SettingWithCopyWarning: \n",
      "A value is trying to be set on a copy of a slice from a DataFrame.\n",
      "Try using .loc[row_indexer,col_indexer] = value instead\n",
      "\n",
      "See the caveats in the documentation: http://pandas.pydata.org/pandas-docs/stable/indexing.html#indexing-view-versus-copy\n",
      "  \"\"\"Entry point for launching an IPython kernel.\n"
     ]
    }
   ],
   "source": [
    "data2['FID']=data2['FID'].apply(lambda s: str(s))"
   ]
  },
  {
   "cell_type": "code",
   "execution_count": 63,
   "metadata": {},
   "outputs": [
    {
     "name": "stderr",
     "output_type": "stream",
     "text": [
      "E:\\Anaconda\\lib\\site-packages\\ipykernel_launcher.py:1: SettingWithCopyWarning: \n",
      "A value is trying to be set on a copy of a slice from a DataFrame.\n",
      "Try using .loc[row_indexer,col_indexer] = value instead\n",
      "\n",
      "See the caveats in the documentation: http://pandas.pydata.org/pandas-docs/stable/indexing.html#indexing-view-versus-copy\n",
      "  \"\"\"Entry point for launching an IPython kernel.\n"
     ]
    }
   ],
   "source": [
    "ped1['FID']=ped1['FID'].apply(lambda s: str(s))"
   ]
  },
  {
   "cell_type": "code",
   "execution_count": 64,
   "metadata": {},
   "outputs": [
    {
     "ename": "ValueError",
     "evalue": "Buffer dtype mismatch, expected 'Python object' but got 'double'",
     "output_type": "error",
     "traceback": [
      "\u001b[1;31m---------------------------------------------------------------------------\u001b[0m",
      "\u001b[1;31mValueError\u001b[0m                                Traceback (most recent call last)",
      "\u001b[1;31mValueError\u001b[0m: Buffer dtype mismatch, expected 'Python object' but got 'double'"
     ]
    },
    {
     "name": "stderr",
     "output_type": "stream",
     "text": [
      "Exception ignored in: 'pandas._libs.lib.is_bool_array'\n",
      "ValueError: Buffer dtype mismatch, expected 'Python object' but got 'double'\n"
     ]
    }
   ],
   "source": [
    "data_sum=pd.merge(data2,ped1,on='FID',how='left')"
   ]
  },
  {
   "cell_type": "markdown",
   "metadata": {},
   "source": [
    "筛选出与系谱匹配的数据，并将整型效应缺失值填充0，实型变量缺失值填充为-9999"
   ]
  },
  {
   "cell_type": "code",
   "execution_count": 65,
   "metadata": {},
   "outputs": [],
   "source": [
    "data_sum=data_sum.dropna(axis=0,how='any',subset=['IDLIST'])"
   ]
  },
  {
   "cell_type": "markdown",
   "metadata": {},
   "source": [
    "# 青年牛性状提取"
   ]
  },
  {
   "cell_type": "code",
   "execution_count": 66,
   "metadata": {},
   "outputs": [
    {
     "data": {
      "text/html": [
       "<div>\n",
       "<style scoped>\n",
       "    .dataframe tbody tr th:only-of-type {\n",
       "        vertical-align: middle;\n",
       "    }\n",
       "\n",
       "    .dataframe tbody tr th {\n",
       "        vertical-align: top;\n",
       "    }\n",
       "\n",
       "    .dataframe thead th {\n",
       "        text-align: right;\n",
       "    }\n",
       "</style>\n",
       "<table border=\"1\" class=\"dataframe\">\n",
       "  <thead>\n",
       "    <tr style=\"text-align: right;\">\n",
       "      <th></th>\n",
       "      <th>FID</th>\n",
       "      <th>胎次</th>\n",
       "      <th>HERD</th>\n",
       "      <th>cowtai</th>\n",
       "      <th>YMB</th>\n",
       "      <th>HYB</th>\n",
       "      <th>YMC</th>\n",
       "      <th>HYC</th>\n",
       "      <th>YMI</th>\n",
       "      <th>HYI</th>\n",
       "      <th>...</th>\n",
       "      <th>AFS</th>\n",
       "      <th>AFC</th>\n",
       "      <th>IFL</th>\n",
       "      <th>CE</th>\n",
       "      <th>SB</th>\n",
       "      <th>ICF</th>\n",
       "      <th>LEN</th>\n",
       "      <th>MF</th>\n",
       "      <th>IDLIST</th>\n",
       "      <th>DAMCODE</th>\n",
       "    </tr>\n",
       "  </thead>\n",
       "  <tbody>\n",
       "    <tr>\n",
       "      <th>13000</th>\n",
       "      <td>F110015092111</td>\n",
       "      <td>--</td>\n",
       "      <td>2</td>\n",
       "      <td>F110015092111.--</td>\n",
       "      <td>199206.0</td>\n",
       "      <td>21992.0</td>\n",
       "      <td>NaN</td>\n",
       "      <td>NaN</td>\n",
       "      <td>199310.0</td>\n",
       "      <td>21993.0</td>\n",
       "      <td>...</td>\n",
       "      <td>492.0</td>\n",
       "      <td>769.0</td>\n",
       "      <td>0.0</td>\n",
       "      <td>NaN</td>\n",
       "      <td>NaN</td>\n",
       "      <td>NaN</td>\n",
       "      <td>2</td>\n",
       "      <td>2.0</td>\n",
       "      <td>71877.0</td>\n",
       "      <td>0.0</td>\n",
       "    </tr>\n",
       "    <tr>\n",
       "      <th>13003</th>\n",
       "      <td>F110015092186</td>\n",
       "      <td>--</td>\n",
       "      <td>2</td>\n",
       "      <td>F110015092186.--</td>\n",
       "      <td>199208.0</td>\n",
       "      <td>21992.0</td>\n",
       "      <td>NaN</td>\n",
       "      <td>NaN</td>\n",
       "      <td>199504.0</td>\n",
       "      <td>21995.0</td>\n",
       "      <td>...</td>\n",
       "      <td>NaN</td>\n",
       "      <td>NaN</td>\n",
       "      <td>0.0</td>\n",
       "      <td>NaN</td>\n",
       "      <td>NaN</td>\n",
       "      <td>NaN</td>\n",
       "      <td>2</td>\n",
       "      <td>NaN</td>\n",
       "      <td>71880.0</td>\n",
       "      <td>0.0</td>\n",
       "    </tr>\n",
       "    <tr>\n",
       "      <th>13004</th>\n",
       "      <td>F110015092207</td>\n",
       "      <td>--</td>\n",
       "      <td>2</td>\n",
       "      <td>F110015092207.--</td>\n",
       "      <td>199209.0</td>\n",
       "      <td>21992.0</td>\n",
       "      <td>NaN</td>\n",
       "      <td>NaN</td>\n",
       "      <td>199402.0</td>\n",
       "      <td>21994.0</td>\n",
       "      <td>...</td>\n",
       "      <td>528.0</td>\n",
       "      <td>805.0</td>\n",
       "      <td>0.0</td>\n",
       "      <td>NaN</td>\n",
       "      <td>NaN</td>\n",
       "      <td>NaN</td>\n",
       "      <td>2</td>\n",
       "      <td>3.0</td>\n",
       "      <td>71887.0</td>\n",
       "      <td>0.0</td>\n",
       "    </tr>\n",
       "    <tr>\n",
       "      <th>13005</th>\n",
       "      <td>F110015092240</td>\n",
       "      <td>--</td>\n",
       "      <td>2</td>\n",
       "      <td>F110015092240.--</td>\n",
       "      <td>199211.0</td>\n",
       "      <td>21992.0</td>\n",
       "      <td>NaN</td>\n",
       "      <td>NaN</td>\n",
       "      <td>199401.0</td>\n",
       "      <td>21994.0</td>\n",
       "      <td>...</td>\n",
       "      <td>440.0</td>\n",
       "      <td>717.0</td>\n",
       "      <td>0.0</td>\n",
       "      <td>NaN</td>\n",
       "      <td>NaN</td>\n",
       "      <td>NaN</td>\n",
       "      <td>2</td>\n",
       "      <td>2.0</td>\n",
       "      <td>71895.0</td>\n",
       "      <td>0.0</td>\n",
       "    </tr>\n",
       "    <tr>\n",
       "      <th>13006</th>\n",
       "      <td>F110015093010</td>\n",
       "      <td>--</td>\n",
       "      <td>2</td>\n",
       "      <td>F110015093010.--</td>\n",
       "      <td>199301.0</td>\n",
       "      <td>21993.0</td>\n",
       "      <td>NaN</td>\n",
       "      <td>NaN</td>\n",
       "      <td>199601.0</td>\n",
       "      <td>21996.0</td>\n",
       "      <td>...</td>\n",
       "      <td>NaN</td>\n",
       "      <td>NaN</td>\n",
       "      <td>0.0</td>\n",
       "      <td>NaN</td>\n",
       "      <td>NaN</td>\n",
       "      <td>NaN</td>\n",
       "      <td>2</td>\n",
       "      <td>NaN</td>\n",
       "      <td>71917.0</td>\n",
       "      <td>0.0</td>\n",
       "    </tr>\n",
       "  </tbody>\n",
       "</table>\n",
       "<p>5 rows × 23 columns</p>\n",
       "</div>"
      ],
      "text/plain": [
       "                 FID  胎次  HERD            cowtai       YMB      HYB  YMC  HYC  \\\n",
       "13000  F110015092111  --     2  F110015092111.--  199206.0  21992.0  NaN  NaN   \n",
       "13003  F110015092186  --     2  F110015092186.--  199208.0  21992.0  NaN  NaN   \n",
       "13004  F110015092207  --     2  F110015092207.--  199209.0  21992.0  NaN  NaN   \n",
       "13005  F110015092240  --     2  F110015092240.--  199211.0  21992.0  NaN  NaN   \n",
       "13006  F110015093010  --     2  F110015093010.--  199301.0  21993.0  NaN  NaN   \n",
       "\n",
       "            YMI      HYI   ...       AFS    AFC  IFL  CE  SB  ICF  LEN   MF  \\\n",
       "13000  199310.0  21993.0   ...     492.0  769.0  0.0 NaN NaN  NaN    2  2.0   \n",
       "13003  199504.0  21995.0   ...       NaN    NaN  0.0 NaN NaN  NaN    2  NaN   \n",
       "13004  199402.0  21994.0   ...     528.0  805.0  0.0 NaN NaN  NaN    2  3.0   \n",
       "13005  199401.0  21994.0   ...     440.0  717.0  0.0 NaN NaN  NaN    2  2.0   \n",
       "13006  199601.0  21996.0   ...       NaN    NaN  0.0 NaN NaN  NaN    2  NaN   \n",
       "\n",
       "        IDLIST  DAMCODE  \n",
       "13000  71877.0      0.0  \n",
       "13003  71880.0      0.0  \n",
       "13004  71887.0      0.0  \n",
       "13005  71895.0      0.0  \n",
       "13006  71917.0      0.0  \n",
       "\n",
       "[5 rows x 23 columns]"
      ]
     },
     "execution_count": 66,
     "metadata": {},
     "output_type": "execute_result"
    }
   ],
   "source": [
    "data_sum.head()"
   ]
  },
  {
   "cell_type": "code",
   "execution_count": 67,
   "metadata": {},
   "outputs": [],
   "source": [
    "heifer=data_sum[data_sum['胎次']=='--']\n",
    "heifersb=data_sum[data_sum['胎次']=='1']"
   ]
  },
  {
   "cell_type": "code",
   "execution_count": 68,
   "metadata": {},
   "outputs": [
    {
     "data": {
      "text/plain": [
       "FID        184921\n",
       "胎次         184921\n",
       "HERD       184921\n",
       "cowtai     184921\n",
       "YMB        167461\n",
       "HYB        167461\n",
       "YMC           599\n",
       "HYC           599\n",
       "YMI        132715\n",
       "HYI        132715\n",
       "ST          90825\n",
       "SC         132715\n",
       "CALF          549\n",
       "AFS        119590\n",
       "AFC         91885\n",
       "IFL        123270\n",
       "CE            597\n",
       "SB            599\n",
       "ICF            92\n",
       "LEN        184921\n",
       "MF         119590\n",
       "IDLIST     184921\n",
       "DAMCODE    184921\n",
       "dtype: int64"
      ]
     },
     "execution_count": 68,
     "metadata": {},
     "output_type": "execute_result"
    }
   ],
   "source": [
    "heifer.count() #有一部分产犊数据应该是记录错误，直接舍去即可"
   ]
  },
  {
   "cell_type": "code",
   "execution_count": 69,
   "metadata": {},
   "outputs": [],
   "source": [
    "heifer1=heifer[['YMB','HYB','YMI','HYI','MF','ST','SC','IDLIST','AFS','AFC','IFL']]"
   ]
  },
  {
   "cell_type": "code",
   "execution_count": 70,
   "metadata": {},
   "outputs": [],
   "source": [
    "heifer2=heifersb[['YMC','HYC','MF','CALF','IDLIST','DAMCODE','SB','CE']] #第一胎产犊为青年牛SB,CE数据"
   ]
  },
  {
   "cell_type": "code",
   "execution_count": 71,
   "metadata": {},
   "outputs": [
    {
     "data": {
      "text/plain": [
       "YMB       167461\n",
       "HYB       167461\n",
       "YMI       132715\n",
       "HYI       132715\n",
       "MF        119590\n",
       "ST         90825\n",
       "SC        132715\n",
       "IDLIST    184921\n",
       "AFS       119590\n",
       "AFC        91885\n",
       "IFL       123270\n",
       "dtype: int64"
      ]
     },
     "execution_count": 71,
     "metadata": {},
     "output_type": "execute_result"
    }
   ],
   "source": [
    "heifer1.count()"
   ]
  },
  {
   "cell_type": "code",
   "execution_count": 72,
   "metadata": {},
   "outputs": [
    {
     "data": {
      "text/plain": [
       "YMC        111157\n",
       "HYC        111157\n",
       "MF          94888\n",
       "CALF        79899\n",
       "IDLIST     118097\n",
       "DAMCODE    118097\n",
       "SB         111155\n",
       "CE         109351\n",
       "dtype: int64"
      ]
     },
     "execution_count": 72,
     "metadata": {},
     "output_type": "execute_result"
    }
   ],
   "source": [
    "heifer2.count()"
   ]
  },
  {
   "cell_type": "code",
   "execution_count": 73,
   "metadata": {},
   "outputs": [
    {
     "data": {
      "text/plain": [
       "1.0    101948\n",
       "2.0      9207\n",
       "Name: SB, dtype: int64"
      ]
     },
     "execution_count": 73,
     "metadata": {},
     "output_type": "execute_result"
    }
   ],
   "source": [
    "heifer2['SB'].value_counts()"
   ]
  },
  {
   "cell_type": "code",
   "execution_count": 74,
   "metadata": {},
   "outputs": [
    {
     "data": {
      "text/plain": [
       "1.0    104343\n",
       "2.0      4103\n",
       "3.0       905\n",
       "Name: CE, dtype: int64"
      ]
     },
     "execution_count": 74,
     "metadata": {},
     "output_type": "execute_result"
    }
   ],
   "source": [
    "heifer2['CE'].value_counts()"
   ]
  },
  {
   "cell_type": "code",
   "execution_count": 75,
   "metadata": {},
   "outputs": [],
   "source": [
    "#heifer1.to_csv('F:\\\\fertility data\\\\SUMBJ1807\\\\heifer.csv',index=False,header=False,encoding='utf_8_sig')\n",
    "#heifer2.to_csv('F:\\\\fertility data\\\\SUMBJ1807\\\\heifersb.csv',index=False,header=False,encoding='utf_8_sig')"
   ]
  },
  {
   "cell_type": "code",
   "execution_count": 76,
   "metadata": {},
   "outputs": [],
   "source": [
    "heifer1.to_csv('F:\\\\fertility data\\\\SUMBJ1807\\\\heifer1.csv',index=False,header=True,encoding='utf_8_sig')\n",
    "heifer2.to_csv('F:\\\\fertility data\\\\SUMBJ1807\\\\heifersb1.csv',index=False,header=True,encoding='utf_8_sig')"
   ]
  },
  {
   "cell_type": "markdown",
   "metadata": {},
   "source": [
    "# 经产牛性状提取"
   ]
  },
  {
   "cell_type": "markdown",
   "metadata": {},
   "source": [
    "先将经产牛4胎及以上合并"
   ]
  },
  {
   "cell_type": "code",
   "execution_count": 77,
   "metadata": {},
   "outputs": [],
   "source": [
    "cow=data_sum[data_sum['胎次']!='--']"
   ]
  },
  {
   "cell_type": "code",
   "execution_count": 78,
   "metadata": {},
   "outputs": [
    {
     "name": "stderr",
     "output_type": "stream",
     "text": [
      "E:\\Anaconda\\lib\\site-packages\\ipykernel_launcher.py:1: SettingWithCopyWarning: \n",
      "A value is trying to be set on a copy of a slice from a DataFrame.\n",
      "Try using .loc[row_indexer,col_indexer] = value instead\n",
      "\n",
      "See the caveats in the documentation: http://pandas.pydata.org/pandas-docs/stable/indexing.html#indexing-view-versus-copy\n",
      "  \"\"\"Entry point for launching an IPython kernel.\n"
     ]
    }
   ],
   "source": [
    "cow['胎次']=cow['胎次'].apply(lambda s:int(s))"
   ]
  },
  {
   "cell_type": "code",
   "execution_count": 79,
   "metadata": {},
   "outputs": [],
   "source": [
    "cowsb=cow[cow['胎次']>1]  #作为SB,CE性状的经产牛部分"
   ]
  },
  {
   "cell_type": "code",
   "execution_count": 80,
   "metadata": {},
   "outputs": [],
   "source": [
    "cow1=cow[['胎次','YMC','HYC','YMI','HYI','MF','ST','SC','IDLIST','ICF','IFL']]"
   ]
  },
  {
   "cell_type": "code",
   "execution_count": 81,
   "metadata": {},
   "outputs": [],
   "source": [
    "cow2=cow[['胎次','YMC','HYC','MF','CALF','IDLIST','DAMCODE','SB','CE']]"
   ]
  },
  {
   "cell_type": "code",
   "execution_count": 82,
   "metadata": {},
   "outputs": [
    {
     "data": {
      "text/plain": [
       "胎次        308595\n",
       "YMC       293258\n",
       "HYC       293258\n",
       "YMI       260140\n",
       "HYI       260140\n",
       "MF        241161\n",
       "ST        200038\n",
       "SC        260140\n",
       "IDLIST    308595\n",
       "ICF       250101\n",
       "IFL       242561\n",
       "dtype: int64"
      ]
     },
     "execution_count": 82,
     "metadata": {},
     "output_type": "execute_result"
    }
   ],
   "source": [
    "cow1.count()"
   ]
  },
  {
   "cell_type": "code",
   "execution_count": 83,
   "metadata": {},
   "outputs": [
    {
     "data": {
      "text/plain": [
       "胎次         308595\n",
       "YMC        293258\n",
       "HYC        293258\n",
       "MF         241161\n",
       "CALF       221304\n",
       "IDLIST     308595\n",
       "DAMCODE    308595\n",
       "SB         293254\n",
       "CE         288574\n",
       "dtype: int64"
      ]
     },
     "execution_count": 83,
     "metadata": {},
     "output_type": "execute_result"
    }
   ],
   "source": [
    "cow2.count()"
   ]
  },
  {
   "cell_type": "code",
   "execution_count": 84,
   "metadata": {},
   "outputs": [
    {
     "data": {
      "text/plain": [
       "1.0    273383\n",
       "2.0     19871\n",
       "Name: SB, dtype: int64"
      ]
     },
     "execution_count": 84,
     "metadata": {},
     "output_type": "execute_result"
    }
   ],
   "source": [
    "cow2['SB'].value_counts()"
   ]
  },
  {
   "cell_type": "code",
   "execution_count": 85,
   "metadata": {},
   "outputs": [
    {
     "data": {
      "text/plain": [
       "1.0    275995\n",
       "2.0     10127\n",
       "3.0      2452\n",
       "Name: CE, dtype: int64"
      ]
     },
     "execution_count": 85,
     "metadata": {},
     "output_type": "execute_result"
    }
   ],
   "source": [
    "cow2['CE'].value_counts()"
   ]
  },
  {
   "cell_type": "markdown",
   "metadata": {},
   "source": [
    "# 缺失值填充"
   ]
  },
  {
   "cell_type": "code",
   "execution_count": 86,
   "metadata": {},
   "outputs": [
    {
     "data": {
      "text/html": [
       "<div>\n",
       "<style scoped>\n",
       "    .dataframe tbody tr th:only-of-type {\n",
       "        vertical-align: middle;\n",
       "    }\n",
       "\n",
       "    .dataframe tbody tr th {\n",
       "        vertical-align: top;\n",
       "    }\n",
       "\n",
       "    .dataframe thead th {\n",
       "        text-align: right;\n",
       "    }\n",
       "</style>\n",
       "<table border=\"1\" class=\"dataframe\">\n",
       "  <thead>\n",
       "    <tr style=\"text-align: right;\">\n",
       "      <th></th>\n",
       "      <th>YMC</th>\n",
       "      <th>HYC</th>\n",
       "      <th>MF</th>\n",
       "      <th>CALF</th>\n",
       "      <th>IDLIST</th>\n",
       "      <th>DAMCODE</th>\n",
       "      <th>SB</th>\n",
       "      <th>CE</th>\n",
       "    </tr>\n",
       "  </thead>\n",
       "  <tbody>\n",
       "    <tr>\n",
       "      <th>13008</th>\n",
       "      <td>199407.0</td>\n",
       "      <td>21994.0</td>\n",
       "      <td>2.0</td>\n",
       "      <td>NaN</td>\n",
       "      <td>71877.0</td>\n",
       "      <td>0.0</td>\n",
       "      <td>1.0</td>\n",
       "      <td>1.0</td>\n",
       "    </tr>\n",
       "    <tr>\n",
       "      <th>13010</th>\n",
       "      <td>199410.0</td>\n",
       "      <td>21994.0</td>\n",
       "      <td>2.0</td>\n",
       "      <td>NaN</td>\n",
       "      <td>71895.0</td>\n",
       "      <td>0.0</td>\n",
       "      <td>1.0</td>\n",
       "      <td>1.0</td>\n",
       "    </tr>\n",
       "    <tr>\n",
       "      <th>13011</th>\n",
       "      <td>199411.0</td>\n",
       "      <td>21994.0</td>\n",
       "      <td>3.0</td>\n",
       "      <td>NaN</td>\n",
       "      <td>71887.0</td>\n",
       "      <td>0.0</td>\n",
       "      <td>1.0</td>\n",
       "      <td>1.0</td>\n",
       "    </tr>\n",
       "    <tr>\n",
       "      <th>13028</th>\n",
       "      <td>199601.0</td>\n",
       "      <td>21996.0</td>\n",
       "      <td>NaN</td>\n",
       "      <td>NaN</td>\n",
       "      <td>71880.0</td>\n",
       "      <td>0.0</td>\n",
       "      <td>1.0</td>\n",
       "      <td>1.0</td>\n",
       "    </tr>\n",
       "    <tr>\n",
       "      <th>13043</th>\n",
       "      <td>199607.0</td>\n",
       "      <td>21996.0</td>\n",
       "      <td>3.0</td>\n",
       "      <td>NaN</td>\n",
       "      <td>72007.0</td>\n",
       "      <td>0.0</td>\n",
       "      <td>1.0</td>\n",
       "      <td>1.0</td>\n",
       "    </tr>\n",
       "  </tbody>\n",
       "</table>\n",
       "</div>"
      ],
      "text/plain": [
       "            YMC      HYC   MF  CALF   IDLIST  DAMCODE   SB   CE\n",
       "13008  199407.0  21994.0  2.0   NaN  71877.0      0.0  1.0  1.0\n",
       "13010  199410.0  21994.0  2.0   NaN  71895.0      0.0  1.0  1.0\n",
       "13011  199411.0  21994.0  3.0   NaN  71887.0      0.0  1.0  1.0\n",
       "13028  199601.0  21996.0  NaN   NaN  71880.0      0.0  1.0  1.0\n",
       "13043  199607.0  21996.0  3.0   NaN  72007.0      0.0  1.0  1.0"
      ]
     },
     "execution_count": 86,
     "metadata": {},
     "output_type": "execute_result"
    }
   ],
   "source": [
    "heifer2.head()"
   ]
  },
  {
   "cell_type": "code",
   "execution_count": 87,
   "metadata": {},
   "outputs": [],
   "source": [
    "#for i in range(4):\n",
    "    #for j in range(len(heifer2)):\n",
    "        #if np.isnan(heifer2.iloc[j,i]):\n",
    "            #heifer2[j,i]=666"
   ]
  },
  {
   "cell_type": "code",
   "execution_count": 88,
   "metadata": {},
   "outputs": [],
   "source": [
    "#cow1.to_csv('F:\\\\fertility data\\\\SUMBJ1807\\\\cow.csv',index=False,header=False,encoding='utf_8_sig')\n",
    "#cow2.to_csv('F:\\\\fertility data\\\\SUMBJ1807\\\\cowsb.csv',index=False,header=False,encoding='utf_8_sig')"
   ]
  },
  {
   "cell_type": "code",
   "execution_count": 89,
   "metadata": {},
   "outputs": [],
   "source": [
    "cow1.to_csv('F:\\\\fertility data\\\\SUMBJ1807\\\\cow1.csv',index=False,header=True,encoding='utf_8_sig')\n",
    "cow2.to_csv('F:\\\\fertility data\\\\SUMBJ1807\\\\cowsb1.csv',index=False,header=True,encoding='utf_8_sig')"
   ]
  }
 ],
 "metadata": {
  "kernelspec": {
   "display_name": "Python 3",
   "language": "python",
   "name": "python3"
  },
  "language_info": {
   "codemirror_mode": {
    "name": "ipython",
    "version": 3
   },
   "file_extension": ".py",
   "mimetype": "text/x-python",
   "name": "python",
   "nbconvert_exporter": "python",
   "pygments_lexer": "ipython3",
   "version": "3.6.4"
  },
  "toc": {
   "base_numbering": 1,
   "nav_menu": {},
   "number_sections": true,
   "sideBar": true,
   "skip_h1_title": false,
   "title_cell": "Table of Contents",
   "title_sidebar": "Contents",
   "toc_cell": false,
   "toc_position": {},
   "toc_section_display": true,
   "toc_window_display": false
  }
 },
 "nbformat": 4,
 "nbformat_minor": 2
}
