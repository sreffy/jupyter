{
 "cells": [
  {
   "cell_type": "code",
   "execution_count": 3,
   "metadata": {},
   "outputs": [],
   "source": [
    "import seaborn as sns\n",
    "import matplotlib.pyplot as plt\n",
    "import numpy as np\n",
    "import pandas as pd\n",
    "import os"
   ]
  },
  {
   "cell_type": "code",
   "execution_count": 2,
   "metadata": {},
   "outputs": [],
   "source": [
    "path='F:\\\\fertility data\\\\SUMBJ1807\\\\'"
   ]
  },
  {
   "cell_type": "code",
   "execution_count": 5,
   "metadata": {},
   "outputs": [],
   "source": [
    "cow=pd.read_csv(path+'cow1.csv',sep=',',low_memory=False)\n",
    "cowsb=pd.read_csv(path+'cowsb1.csv',sep=',',low_memory=False)\n",
    "heifer=pd.read_csv(path+'heifer1.csv',sep=',',low_memory=False)\n",
    "heifersb=pd.read_csv(path+'heifersb1.csv',sep=',',low_memory=False)"
   ]
  },
  {
   "cell_type": "code",
   "execution_count": 26,
   "metadata": {},
   "outputs": [],
   "source": [
    "ped=pd.read_excel('F:\\\\fertility data\\\\SUMBJ1807\\\\pedigree.xlsx')"
   ]
  },
  {
   "cell_type": "code",
   "execution_count": 36,
   "metadata": {},
   "outputs": [],
   "source": [
    "data=pd.read_csv('F:\\\\fertility data\\\\SUMBJ1807\\\\final.csv',sep=',',low_memory=False)"
   ]
  },
  {
   "cell_type": "markdown",
   "metadata": {},
   "source": [
    "# 将各个性状分离"
   ]
  },
  {
   "cell_type": "code",
   "execution_count": 6,
   "metadata": {},
   "outputs": [
    {
     "data": {
      "text/html": [
       "<div>\n",
       "<style scoped>\n",
       "    .dataframe tbody tr th:only-of-type {\n",
       "        vertical-align: middle;\n",
       "    }\n",
       "\n",
       "    .dataframe tbody tr th {\n",
       "        vertical-align: top;\n",
       "    }\n",
       "\n",
       "    .dataframe thead th {\n",
       "        text-align: right;\n",
       "    }\n",
       "</style>\n",
       "<table border=\"1\" class=\"dataframe\">\n",
       "  <thead>\n",
       "    <tr style=\"text-align: right;\">\n",
       "      <th></th>\n",
       "      <th>YMB</th>\n",
       "      <th>HYB</th>\n",
       "      <th>YMI</th>\n",
       "      <th>HYI</th>\n",
       "      <th>MF</th>\n",
       "      <th>ST</th>\n",
       "      <th>SC</th>\n",
       "      <th>IDLIST</th>\n",
       "      <th>AFS</th>\n",
       "      <th>AFC</th>\n",
       "      <th>IFL</th>\n",
       "    </tr>\n",
       "  </thead>\n",
       "  <tbody>\n",
       "    <tr>\n",
       "      <th>0</th>\n",
       "      <td>199206.0</td>\n",
       "      <td>21992.0</td>\n",
       "      <td>199310.0</td>\n",
       "      <td>21993.0</td>\n",
       "      <td>2.0</td>\n",
       "      <td>NaN</td>\n",
       "      <td>2.0</td>\n",
       "      <td>71877.0</td>\n",
       "      <td>492.0</td>\n",
       "      <td>769.0</td>\n",
       "      <td>0.0</td>\n",
       "    </tr>\n",
       "    <tr>\n",
       "      <th>1</th>\n",
       "      <td>199208.0</td>\n",
       "      <td>21992.0</td>\n",
       "      <td>199504.0</td>\n",
       "      <td>21995.0</td>\n",
       "      <td>NaN</td>\n",
       "      <td>NaN</td>\n",
       "      <td>2.0</td>\n",
       "      <td>71880.0</td>\n",
       "      <td>NaN</td>\n",
       "      <td>NaN</td>\n",
       "      <td>0.0</td>\n",
       "    </tr>\n",
       "    <tr>\n",
       "      <th>2</th>\n",
       "      <td>199209.0</td>\n",
       "      <td>21992.0</td>\n",
       "      <td>199402.0</td>\n",
       "      <td>21994.0</td>\n",
       "      <td>3.0</td>\n",
       "      <td>NaN</td>\n",
       "      <td>2.0</td>\n",
       "      <td>71887.0</td>\n",
       "      <td>528.0</td>\n",
       "      <td>805.0</td>\n",
       "      <td>0.0</td>\n",
       "    </tr>\n",
       "    <tr>\n",
       "      <th>3</th>\n",
       "      <td>199211.0</td>\n",
       "      <td>21992.0</td>\n",
       "      <td>199401.0</td>\n",
       "      <td>21994.0</td>\n",
       "      <td>2.0</td>\n",
       "      <td>NaN</td>\n",
       "      <td>2.0</td>\n",
       "      <td>71895.0</td>\n",
       "      <td>440.0</td>\n",
       "      <td>717.0</td>\n",
       "      <td>0.0</td>\n",
       "    </tr>\n",
       "    <tr>\n",
       "      <th>4</th>\n",
       "      <td>199301.0</td>\n",
       "      <td>21993.0</td>\n",
       "      <td>199601.0</td>\n",
       "      <td>21996.0</td>\n",
       "      <td>NaN</td>\n",
       "      <td>NaN</td>\n",
       "      <td>2.0</td>\n",
       "      <td>71917.0</td>\n",
       "      <td>NaN</td>\n",
       "      <td>NaN</td>\n",
       "      <td>0.0</td>\n",
       "    </tr>\n",
       "  </tbody>\n",
       "</table>\n",
       "</div>"
      ],
      "text/plain": [
       "        YMB      HYB       YMI      HYI   MF  ST   SC   IDLIST    AFS    AFC  \\\n",
       "0  199206.0  21992.0  199310.0  21993.0  2.0 NaN  2.0  71877.0  492.0  769.0   \n",
       "1  199208.0  21992.0  199504.0  21995.0  NaN NaN  2.0  71880.0    NaN    NaN   \n",
       "2  199209.0  21992.0  199402.0  21994.0  3.0 NaN  2.0  71887.0  528.0  805.0   \n",
       "3  199211.0  21992.0  199401.0  21994.0  2.0 NaN  2.0  71895.0  440.0  717.0   \n",
       "4  199301.0  21993.0  199601.0  21996.0  NaN NaN  2.0  71917.0    NaN    NaN   \n",
       "\n",
       "   IFL  \n",
       "0  0.0  \n",
       "1  0.0  \n",
       "2  0.0  \n",
       "3  0.0  \n",
       "4  0.0  "
      ]
     },
     "execution_count": 6,
     "metadata": {},
     "output_type": "execute_result"
    }
   ],
   "source": [
    "heifer.head()"
   ]
  },
  {
   "cell_type": "code",
   "execution_count": 18,
   "metadata": {},
   "outputs": [],
   "source": [
    "cow.rename(columns={'IDLIST':'CODE','胎次':'Parity'},inplace=True)\n",
    "cowsb.rename(columns={'IDLIST':'CODE','胎次':'Parity','DAMCODE':'DAM','CALF':'calf'},inplace=True)\n",
    "heifer.rename(columns={'IDLIST':'CODE'},inplace=True)\n",
    "heifersb.rename(columns={'IDLIST':'CODE','DAMCODE':'DAM','CALF':'calf'},inplace=True)"
   ]
  },
  {
   "cell_type": "code",
   "execution_count": 19,
   "metadata": {},
   "outputs": [
    {
     "data": {
      "text/html": [
       "<div>\n",
       "<style scoped>\n",
       "    .dataframe tbody tr th:only-of-type {\n",
       "        vertical-align: middle;\n",
       "    }\n",
       "\n",
       "    .dataframe tbody tr th {\n",
       "        vertical-align: top;\n",
       "    }\n",
       "\n",
       "    .dataframe thead th {\n",
       "        text-align: right;\n",
       "    }\n",
       "</style>\n",
       "<table border=\"1\" class=\"dataframe\">\n",
       "  <thead>\n",
       "    <tr style=\"text-align: right;\">\n",
       "      <th></th>\n",
       "      <th>Parity</th>\n",
       "      <th>YMC</th>\n",
       "      <th>HYC</th>\n",
       "      <th>MF</th>\n",
       "      <th>calf</th>\n",
       "      <th>CODE</th>\n",
       "      <th>DAM</th>\n",
       "      <th>SB</th>\n",
       "      <th>CE</th>\n",
       "    </tr>\n",
       "  </thead>\n",
       "  <tbody>\n",
       "    <tr>\n",
       "      <th>0</th>\n",
       "      <td>1</td>\n",
       "      <td>199407.0</td>\n",
       "      <td>21994.0</td>\n",
       "      <td>2.0</td>\n",
       "      <td>NaN</td>\n",
       "      <td>71877.0</td>\n",
       "      <td>0.0</td>\n",
       "      <td>1.0</td>\n",
       "      <td>1.0</td>\n",
       "    </tr>\n",
       "    <tr>\n",
       "      <th>1</th>\n",
       "      <td>1</td>\n",
       "      <td>199410.0</td>\n",
       "      <td>21994.0</td>\n",
       "      <td>2.0</td>\n",
       "      <td>NaN</td>\n",
       "      <td>71895.0</td>\n",
       "      <td>0.0</td>\n",
       "      <td>1.0</td>\n",
       "      <td>1.0</td>\n",
       "    </tr>\n",
       "    <tr>\n",
       "      <th>2</th>\n",
       "      <td>1</td>\n",
       "      <td>199411.0</td>\n",
       "      <td>21994.0</td>\n",
       "      <td>3.0</td>\n",
       "      <td>NaN</td>\n",
       "      <td>71887.0</td>\n",
       "      <td>0.0</td>\n",
       "      <td>1.0</td>\n",
       "      <td>1.0</td>\n",
       "    </tr>\n",
       "    <tr>\n",
       "      <th>3</th>\n",
       "      <td>2</td>\n",
       "      <td>199507.0</td>\n",
       "      <td>21995.0</td>\n",
       "      <td>2.0</td>\n",
       "      <td>NaN</td>\n",
       "      <td>71877.0</td>\n",
       "      <td>0.0</td>\n",
       "      <td>1.0</td>\n",
       "      <td>1.0</td>\n",
       "    </tr>\n",
       "    <tr>\n",
       "      <th>4</th>\n",
       "      <td>2</td>\n",
       "      <td>199510.0</td>\n",
       "      <td>21995.0</td>\n",
       "      <td>2.0</td>\n",
       "      <td>NaN</td>\n",
       "      <td>71895.0</td>\n",
       "      <td>0.0</td>\n",
       "      <td>1.0</td>\n",
       "      <td>1.0</td>\n",
       "    </tr>\n",
       "  </tbody>\n",
       "</table>\n",
       "</div>"
      ],
      "text/plain": [
       "   Parity       YMC      HYC   MF  calf     CODE  DAM   SB   CE\n",
       "0       1  199407.0  21994.0  2.0   NaN  71877.0  0.0  1.0  1.0\n",
       "1       1  199410.0  21994.0  2.0   NaN  71895.0  0.0  1.0  1.0\n",
       "2       1  199411.0  21994.0  3.0   NaN  71887.0  0.0  1.0  1.0\n",
       "3       2  199507.0  21995.0  2.0   NaN  71877.0  0.0  1.0  1.0\n",
       "4       2  199510.0  21995.0  2.0   NaN  71895.0  0.0  1.0  1.0"
      ]
     },
     "execution_count": 19,
     "metadata": {},
     "output_type": "execute_result"
    }
   ],
   "source": [
    "cowsb.head()"
   ]
  },
  {
   "cell_type": "code",
   "execution_count": 20,
   "metadata": {},
   "outputs": [],
   "source": [
    "afs=heifer[['HYB','YMB','ST','CODE','AFS']]\n",
    "afc=heifer[['HYB','YMB','ST','SC','CODE','AFC']]\n",
    "ifl_h=heifer[['HYI','YMI','ST','SC','MF','CODE','IFL']]\n",
    "icf=cow[['HYC','YMC','ST','MF','Parity','CODE','ICF']]\n",
    "ifl_c=cow[['HYI','YMI','ST','SC','MF','Parity','CODE','IFL']]\n",
    "sbh=heifersb[['HYC','YMC','MF','calf','DAM','CODE','SB']]\n",
    "ceh=heifersb[['HYC','YMC','MF','calf','DAM','CODE','CE']]\n",
    "sbc=cowsb[['HYC','YMC','MF','calf','Parity','DAM','CODE','SB']]\n",
    "cec=cowsb[['HYC','YMC','MF','calf','Parity','DAM','CODE','CE']]"
   ]
  },
  {
   "cell_type": "code",
   "execution_count": 37,
   "metadata": {},
   "outputs": [
    {
     "data": {
      "text/html": [
       "<div>\n",
       "<style scoped>\n",
       "    .dataframe tbody tr th:only-of-type {\n",
       "        vertical-align: middle;\n",
       "    }\n",
       "\n",
       "    .dataframe tbody tr th {\n",
       "        vertical-align: top;\n",
       "    }\n",
       "\n",
       "    .dataframe thead th {\n",
       "        text-align: right;\n",
       "    }\n",
       "</style>\n",
       "<table border=\"1\" class=\"dataframe\">\n",
       "  <thead>\n",
       "    <tr style=\"text-align: right;\">\n",
       "      <th></th>\n",
       "      <th>FID</th>\n",
       "      <th>胎次</th>\n",
       "      <th>HERD</th>\n",
       "      <th>cowtai</th>\n",
       "      <th>YMB</th>\n",
       "      <th>HYB</th>\n",
       "      <th>YMC</th>\n",
       "      <th>HYC</th>\n",
       "      <th>YMI</th>\n",
       "      <th>HYI</th>\n",
       "      <th>ST</th>\n",
       "      <th>SC</th>\n",
       "      <th>CALF</th>\n",
       "      <th>AFS</th>\n",
       "      <th>AFC</th>\n",
       "      <th>IFL</th>\n",
       "      <th>CE</th>\n",
       "      <th>SB</th>\n",
       "      <th>ICF</th>\n",
       "    </tr>\n",
       "  </thead>\n",
       "  <tbody>\n",
       "    <tr>\n",
       "      <th>0</th>\n",
       "      <td>F459001097033</td>\n",
       "      <td>--</td>\n",
       "      <td>1</td>\n",
       "      <td>F459001097033.--</td>\n",
       "      <td>199704.0</td>\n",
       "      <td>11997.0</td>\n",
       "      <td>NaN</td>\n",
       "      <td>NaN</td>\n",
       "      <td>200001.0</td>\n",
       "      <td>12000.0</td>\n",
       "      <td>NaN</td>\n",
       "      <td>2.0</td>\n",
       "      <td>NaN</td>\n",
       "      <td>NaN</td>\n",
       "      <td>NaN</td>\n",
       "      <td>0.0</td>\n",
       "      <td>NaN</td>\n",
       "      <td>NaN</td>\n",
       "      <td>NaN</td>\n",
       "    </tr>\n",
       "    <tr>\n",
       "      <th>1</th>\n",
       "      <td>F459001097110</td>\n",
       "      <td>--</td>\n",
       "      <td>1</td>\n",
       "      <td>F459001097110.--</td>\n",
       "      <td>199711.0</td>\n",
       "      <td>11997.0</td>\n",
       "      <td>NaN</td>\n",
       "      <td>NaN</td>\n",
       "      <td>199905.0</td>\n",
       "      <td>11999.0</td>\n",
       "      <td>NaN</td>\n",
       "      <td>2.0</td>\n",
       "      <td>NaN</td>\n",
       "      <td>543.0</td>\n",
       "      <td>820.0</td>\n",
       "      <td>0.0</td>\n",
       "      <td>NaN</td>\n",
       "      <td>NaN</td>\n",
       "      <td>NaN</td>\n",
       "    </tr>\n",
       "    <tr>\n",
       "      <th>2</th>\n",
       "      <td>F459001D97138</td>\n",
       "      <td>--</td>\n",
       "      <td>1</td>\n",
       "      <td>F459001D97138.--</td>\n",
       "      <td>199712.0</td>\n",
       "      <td>11997.0</td>\n",
       "      <td>NaN</td>\n",
       "      <td>NaN</td>\n",
       "      <td>200003.0</td>\n",
       "      <td>12000.0</td>\n",
       "      <td>NaN</td>\n",
       "      <td>2.0</td>\n",
       "      <td>NaN</td>\n",
       "      <td>804.0</td>\n",
       "      <td>1081.0</td>\n",
       "      <td>0.0</td>\n",
       "      <td>NaN</td>\n",
       "      <td>NaN</td>\n",
       "      <td>NaN</td>\n",
       "    </tr>\n",
       "    <tr>\n",
       "      <th>3</th>\n",
       "      <td>F459001098011</td>\n",
       "      <td>--</td>\n",
       "      <td>1</td>\n",
       "      <td>F459001098011.--</td>\n",
       "      <td>199802.0</td>\n",
       "      <td>11998.0</td>\n",
       "      <td>NaN</td>\n",
       "      <td>NaN</td>\n",
       "      <td>200002.0</td>\n",
       "      <td>12000.0</td>\n",
       "      <td>NaN</td>\n",
       "      <td>2.0</td>\n",
       "      <td>NaN</td>\n",
       "      <td>733.0</td>\n",
       "      <td>1010.0</td>\n",
       "      <td>0.0</td>\n",
       "      <td>NaN</td>\n",
       "      <td>NaN</td>\n",
       "      <td>NaN</td>\n",
       "    </tr>\n",
       "    <tr>\n",
       "      <th>4</th>\n",
       "      <td>F459001098047</td>\n",
       "      <td>--</td>\n",
       "      <td>1</td>\n",
       "      <td>F459001098047.--</td>\n",
       "      <td>199806.0</td>\n",
       "      <td>11998.0</td>\n",
       "      <td>NaN</td>\n",
       "      <td>NaN</td>\n",
       "      <td>200001.0</td>\n",
       "      <td>12000.0</td>\n",
       "      <td>NaN</td>\n",
       "      <td>2.0</td>\n",
       "      <td>NaN</td>\n",
       "      <td>580.0</td>\n",
       "      <td>857.0</td>\n",
       "      <td>0.0</td>\n",
       "      <td>NaN</td>\n",
       "      <td>NaN</td>\n",
       "      <td>NaN</td>\n",
       "    </tr>\n",
       "  </tbody>\n",
       "</table>\n",
       "</div>"
      ],
      "text/plain": [
       "             FID  胎次  HERD            cowtai       YMB      HYB  YMC  HYC  \\\n",
       "0  F459001097033  --     1  F459001097033.--  199704.0  11997.0  NaN  NaN   \n",
       "1  F459001097110  --     1  F459001097110.--  199711.0  11997.0  NaN  NaN   \n",
       "2  F459001D97138  --     1  F459001D97138.--  199712.0  11997.0  NaN  NaN   \n",
       "3  F459001098011  --     1  F459001098011.--  199802.0  11998.0  NaN  NaN   \n",
       "4  F459001098047  --     1  F459001098047.--  199806.0  11998.0  NaN  NaN   \n",
       "\n",
       "        YMI      HYI  ST   SC  CALF    AFS     AFC  IFL  CE  SB  ICF  \n",
       "0  200001.0  12000.0 NaN  2.0   NaN    NaN     NaN  0.0 NaN NaN  NaN  \n",
       "1  199905.0  11999.0 NaN  2.0   NaN  543.0   820.0  0.0 NaN NaN  NaN  \n",
       "2  200003.0  12000.0 NaN  2.0   NaN  804.0  1081.0  0.0 NaN NaN  NaN  \n",
       "3  200002.0  12000.0 NaN  2.0   NaN  733.0  1010.0  0.0 NaN NaN  NaN  \n",
       "4  200001.0  12000.0 NaN  2.0   NaN  580.0   857.0  0.0 NaN NaN  NaN  "
      ]
     },
     "execution_count": 37,
     "metadata": {},
     "output_type": "execute_result"
    }
   ],
   "source": [
    "data.head()"
   ]
  },
  {
   "cell_type": "code",
   "execution_count": 35,
   "metadata": {},
   "outputs": [
    {
     "data": {
      "text/html": [
       "<div>\n",
       "<style scoped>\n",
       "    .dataframe tbody tr th:only-of-type {\n",
       "        vertical-align: middle;\n",
       "    }\n",
       "\n",
       "    .dataframe tbody tr th {\n",
       "        vertical-align: top;\n",
       "    }\n",
       "\n",
       "    .dataframe thead th {\n",
       "        text-align: right;\n",
       "    }\n",
       "</style>\n",
       "<table border=\"1\" class=\"dataframe\">\n",
       "  <thead>\n",
       "    <tr style=\"text-align: right;\">\n",
       "      <th></th>\n",
       "      <th>DAM</th>\n",
       "      <th>ID</th>\n",
       "      <th>SIRE</th>\n",
       "      <th>IDLIST</th>\n",
       "      <th>SIRECODE</th>\n",
       "      <th>DAMCODE</th>\n",
       "      <th>BIRTH</th>\n",
       "      <th>SEX</th>\n",
       "    </tr>\n",
       "  </thead>\n",
       "  <tbody>\n",
       "    <tr>\n",
       "      <th>0</th>\n",
       "      <td>F0</td>\n",
       "      <td>M0001HO0261</td>\n",
       "      <td>M0</td>\n",
       "      <td>1</td>\n",
       "      <td>0</td>\n",
       "      <td>0</td>\n",
       "      <td>1900/1/0</td>\n",
       "      <td>M</td>\n",
       "    </tr>\n",
       "    <tr>\n",
       "      <th>1</th>\n",
       "      <td>F0</td>\n",
       "      <td>M00-104</td>\n",
       "      <td>M0</td>\n",
       "      <td>2</td>\n",
       "      <td>0</td>\n",
       "      <td>0</td>\n",
       "      <td>1900/1/0</td>\n",
       "      <td>M</td>\n",
       "    </tr>\n",
       "    <tr>\n",
       "      <th>2</th>\n",
       "      <td>F0</td>\n",
       "      <td>M0011HO88013</td>\n",
       "      <td>M0</td>\n",
       "      <td>3</td>\n",
       "      <td>0</td>\n",
       "      <td>0</td>\n",
       "      <td>1900/1/0</td>\n",
       "      <td>M</td>\n",
       "    </tr>\n",
       "    <tr>\n",
       "      <th>3</th>\n",
       "      <td>F0</td>\n",
       "      <td>M001JE00672</td>\n",
       "      <td>M0</td>\n",
       "      <td>4</td>\n",
       "      <td>0</td>\n",
       "      <td>0</td>\n",
       "      <td>1900/1/0</td>\n",
       "      <td>M</td>\n",
       "    </tr>\n",
       "    <tr>\n",
       "      <th>4</th>\n",
       "      <td>F0</td>\n",
       "      <td>M0029HO02611</td>\n",
       "      <td>M0</td>\n",
       "      <td>5</td>\n",
       "      <td>0</td>\n",
       "      <td>0</td>\n",
       "      <td>1900/1/0</td>\n",
       "      <td>M</td>\n",
       "    </tr>\n",
       "  </tbody>\n",
       "</table>\n",
       "</div>"
      ],
      "text/plain": [
       "  DAM            ID SIRE  IDLIST  SIRECODE  DAMCODE     BIRTH SEX\n",
       "0  F0   M0001HO0261   M0       1         0        0  1900/1/0   M\n",
       "1  F0       M00-104   M0       2         0        0  1900/1/0   M\n",
       "2  F0  M0011HO88013   M0       3         0        0  1900/1/0   M\n",
       "3  F0   M001JE00672   M0       4         0        0  1900/1/0   M\n",
       "4  F0  M0029HO02611   M0       5         0        0  1900/1/0   M"
      ]
     },
     "execution_count": 35,
     "metadata": {},
     "output_type": "execute_result"
    }
   ],
   "source": [
    "ped.head()"
   ]
  },
  {
   "cell_type": "code",
   "execution_count": 32,
   "metadata": {},
   "outputs": [],
   "source": [
    "c_s=ped[['IDLIST','SIRE']]\n",
    "c_s.columns=['CODE','SIRE']"
   ]
  },
  {
   "cell_type": "code",
   "execution_count": 38,
   "metadata": {},
   "outputs": [],
   "source": [
    "c_f=ped[['IDLIST','ID','BIRTH']]\n",
    "c_f.columns=['CODE','FID','BIRTH']"
   ]
  },
  {
   "cell_type": "code",
   "execution_count": 45,
   "metadata": {},
   "outputs": [],
   "source": [
    "s_b_c=ped[['ID','BIRTH','IDLIST']]"
   ]
  },
  {
   "cell_type": "code",
   "execution_count": 33,
   "metadata": {},
   "outputs": [
    {
     "data": {
      "text/html": [
       "<div>\n",
       "<style scoped>\n",
       "    .dataframe tbody tr th:only-of-type {\n",
       "        vertical-align: middle;\n",
       "    }\n",
       "\n",
       "    .dataframe tbody tr th {\n",
       "        vertical-align: top;\n",
       "    }\n",
       "\n",
       "    .dataframe thead th {\n",
       "        text-align: right;\n",
       "    }\n",
       "</style>\n",
       "<table border=\"1\" class=\"dataframe\">\n",
       "  <thead>\n",
       "    <tr style=\"text-align: right;\">\n",
       "      <th></th>\n",
       "      <th>CODE</th>\n",
       "      <th>SIRE</th>\n",
       "    </tr>\n",
       "  </thead>\n",
       "  <tbody>\n",
       "    <tr>\n",
       "      <th>0</th>\n",
       "      <td>1</td>\n",
       "      <td>M0</td>\n",
       "    </tr>\n",
       "    <tr>\n",
       "      <th>1</th>\n",
       "      <td>2</td>\n",
       "      <td>M0</td>\n",
       "    </tr>\n",
       "    <tr>\n",
       "      <th>2</th>\n",
       "      <td>3</td>\n",
       "      <td>M0</td>\n",
       "    </tr>\n",
       "    <tr>\n",
       "      <th>3</th>\n",
       "      <td>4</td>\n",
       "      <td>M0</td>\n",
       "    </tr>\n",
       "    <tr>\n",
       "      <th>4</th>\n",
       "      <td>5</td>\n",
       "      <td>M0</td>\n",
       "    </tr>\n",
       "  </tbody>\n",
       "</table>\n",
       "</div>"
      ],
      "text/plain": [
       "   CODE SIRE\n",
       "0     1   M0\n",
       "1     2   M0\n",
       "2     3   M0\n",
       "3     4   M0\n",
       "4     5   M0"
      ]
     },
     "execution_count": 33,
     "metadata": {},
     "output_type": "execute_result"
    }
   ],
   "source": [
    "c_s.head()"
   ]
  },
  {
   "cell_type": "code",
   "execution_count": 24,
   "metadata": {},
   "outputs": [],
   "source": [
    "afs.to_csv(path+'traits\\\\'+'AFS.csv',index=False,header=True,encoding='utf_8_sig')\n",
    "afc.to_csv(path+'traits\\\\'+'AFC.csv',index=False,header=True,encoding='utf_8_sig')\n",
    "ifl_h.to_csv(path+'traits\\\\'+'IFL_H.csv',index=False,header=True,encoding='utf_8_sig')\n",
    "icf.to_csv(path+'traits\\\\'+'ICF.csv',index=False,header=True,encoding='utf_8_sig')\n",
    "ifl_c.to_csv(path+'traits\\\\'+'IFL_C.csv',index=False,header=True,encoding='utf_8_sig')\n",
    "sbh.to_csv(path+'traits\\\\'+'SBH.csv',index=False,header=True,encoding='utf_8_sig')\n",
    "ceh.to_csv(path+'traits\\\\'+'CEH.csv',index=False,header=True,encoding='utf_8_sig')\n",
    "sbc.to_csv(path+'traits\\\\'+'SBC.csv',index=False,header=True,encoding='utf_8_sig')\n",
    "cec.to_csv(path+'traits\\\\'+'CEC.csv',index=False,header=True,encoding='utf_8_sig')"
   ]
  },
  {
   "cell_type": "code",
   "execution_count": 39,
   "metadata": {},
   "outputs": [],
   "source": [
    "#c_s.to_csv(path+'traits\\\\'+'code-sire.csv',index=False,header=True,encoding='utf_8_sig')\n",
    "c_f.to_csv(path+'traits\\\\RESUALT\\\\'+'code-FID.csv',index=False,header=True,encoding='utf_8_sig')"
   ]
  },
  {
   "cell_type": "code",
   "execution_count": 46,
   "metadata": {},
   "outputs": [],
   "source": [
    "s_b_c.to_csv(path+'traits\\\\RESUALT\\\\'+'sire-birth-code.csv',index=False,header=True,encoding='utf_8_sig')"
   ]
  },
  {
   "cell_type": "markdown",
   "metadata": {},
   "source": [
    "# 处理估计结果"
   ]
  },
  {
   "cell_type": "code",
   "execution_count": 50,
   "metadata": {},
   "outputs": [],
   "source": [
    "PATH='F:\\\\fertility data\\\\SUMBJ1807\\\\SOL\\\\'"
   ]
  },
  {
   "cell_type": "code",
   "execution_count": 49,
   "metadata": {},
   "outputs": [],
   "source": [
    "files=os.listdir(PATH)"
   ]
  },
  {
   "cell_type": "code",
   "execution_count": 82,
   "metadata": {},
   "outputs": [],
   "source": [
    "i=0\n",
    "while i <= len(files)-1:\n",
    "    data=pd.read_table(PATH+files[i],delim_whitespace=True,usecols=[0,4,7,8])\n",
    "    data.columns=['effect','CODE','EBV','SE']\n",
    "    data1=data[data['effect']==4]\n",
    "    data2=data1[['CODE','EBV','SE']]\n",
    "    data2.to_csv(PATH+files[i].split('.')[0]+'1.csv',index=False,header=True,encoding='utf_8_sig')\n",
    "    i+=1"
   ]
  },
  {
   "cell_type": "code",
   "execution_count": 68,
   "metadata": {},
   "outputs": [],
   "source": [
    "a=pd.read_table(PATH+files[0],delim_whitespace=True,usecols=[0,4,7,8])"
   ]
  },
  {
   "cell_type": "code",
   "execution_count": 70,
   "metadata": {},
   "outputs": [],
   "source": [
    "a.columns=['effect','CODE','EBV','SE']"
   ]
  },
  {
   "cell_type": "code",
   "execution_count": 76,
   "metadata": {},
   "outputs": [
    {
     "data": {
      "text/plain": [
       "'AFS'"
      ]
     },
     "execution_count": 76,
     "metadata": {},
     "output_type": "execute_result"
    }
   ],
   "source": [
    "files[1].split('.')[0]"
   ]
  },
  {
   "cell_type": "code",
   "execution_count": 71,
   "metadata": {},
   "outputs": [
    {
     "data": {
      "text/html": [
       "<div>\n",
       "<style scoped>\n",
       "    .dataframe tbody tr th:only-of-type {\n",
       "        vertical-align: middle;\n",
       "    }\n",
       "\n",
       "    .dataframe tbody tr th {\n",
       "        vertical-align: top;\n",
       "    }\n",
       "\n",
       "    .dataframe thead th {\n",
       "        text-align: right;\n",
       "    }\n",
       "</style>\n",
       "<table border=\"1\" class=\"dataframe\">\n",
       "  <thead>\n",
       "    <tr style=\"text-align: right;\">\n",
       "      <th></th>\n",
       "      <th>effect</th>\n",
       "      <th>CODE</th>\n",
       "      <th>EBV</th>\n",
       "      <th>SE</th>\n",
       "    </tr>\n",
       "  </thead>\n",
       "  <tbody>\n",
       "    <tr>\n",
       "      <th>0</th>\n",
       "      <td>2</td>\n",
       "      <td>199112</td>\n",
       "      <td>0.000</td>\n",
       "      <td>0.0000</td>\n",
       "    </tr>\n",
       "    <tr>\n",
       "      <th>1</th>\n",
       "      <td>2</td>\n",
       "      <td>199201</td>\n",
       "      <td>991.344</td>\n",
       "      <td>69.8946</td>\n",
       "    </tr>\n",
       "    <tr>\n",
       "      <th>2</th>\n",
       "      <td>2</td>\n",
       "      <td>199205</td>\n",
       "      <td>812.334</td>\n",
       "      <td>69.6169</td>\n",
       "    </tr>\n",
       "    <tr>\n",
       "      <th>3</th>\n",
       "      <td>2</td>\n",
       "      <td>199206</td>\n",
       "      <td>697.449</td>\n",
       "      <td>120.4470</td>\n",
       "    </tr>\n",
       "    <tr>\n",
       "      <th>4</th>\n",
       "      <td>2</td>\n",
       "      <td>199207</td>\n",
       "      <td>952.779</td>\n",
       "      <td>69.6825</td>\n",
       "    </tr>\n",
       "  </tbody>\n",
       "</table>\n",
       "</div>"
      ],
      "text/plain": [
       "   effect    CODE      EBV        SE\n",
       "0       2  199112    0.000    0.0000\n",
       "1       2  199201  991.344   69.8946\n",
       "2       2  199205  812.334   69.6169\n",
       "3       2  199206  697.449  120.4470\n",
       "4       2  199207  952.779   69.6825"
      ]
     },
     "execution_count": 71,
     "metadata": {},
     "output_type": "execute_result"
    }
   ],
   "source": [
    "a.head()"
   ]
  },
  {
   "cell_type": "code",
   "execution_count": 73,
   "metadata": {},
   "outputs": [],
   "source": [
    "a1=a[a['effect']==4]"
   ]
  },
  {
   "cell_type": "code",
   "execution_count": null,
   "metadata": {},
   "outputs": [],
   "source": []
  },
  {
   "cell_type": "code",
   "execution_count": 67,
   "metadata": {},
   "outputs": [],
   "source": [
    "?pd.read_csv"
   ]
  },
  {
   "cell_type": "markdown",
   "metadata": {},
   "source": [
    "# EBV和表型作图"
   ]
  },
  {
   "cell_type": "code",
   "execution_count": 2,
   "metadata": {},
   "outputs": [],
   "source": [
    "Path='F:\\\\fertility data\\\\SUMBJ1807\\\\traits\\\\RESUALT\\\\final\\\\FINAL\\\\'"
   ]
  },
  {
   "cell_type": "code",
   "execution_count": 8,
   "metadata": {},
   "outputs": [],
   "source": [
    "floders=['SIRE\\\\','FEMALE\\\\']\n",
    "files1=os.listdir(Path+floders[0])\n",
    "files2=os.listdir(Path+floders[1])"
   ]
  },
  {
   "cell_type": "code",
   "execution_count": 83,
   "metadata": {},
   "outputs": [],
   "source": [
    "data=pd.read_csv(Path+floders[0]+files1[0],sep=',',encoding='gbk',low_memory=False)\n",
    "data['Year']=data['BIR_date'].apply(lambda s:s.split('/')[0])\n",
    "data['Year']=data['Year'].apply(lambda s:int(s))\n",
    "data1=data[data['Year']>=1990]\n",
    "plotdata=data1[['Year']].drop_duplicates(keep='first').sort_values(by='Year')\n",
    "plotdataf=plotdata.copy"
   ]
  },
  {
   "cell_type": "code",
   "execution_count": 84,
   "metadata": {},
   "outputs": [],
   "source": [
    "i=0\n",
    "while i <= len(files1)-1:\n",
    "    data=pd.read_csv(Path+floders[0]+files1[i],sep=',',encoding='gbk',low_memory=False)\n",
    "    data['Year']=data['BIR_date'].apply(lambda s:s.split('/')[0])\n",
    "    data['Year']=data['Year'].apply(lambda s:int(s))\n",
    "    data1=data[data['Year']>=1990]\n",
    "    data2=data1[['Year','EBV',files1[i].split('-')[0]+'m']]\n",
    "    data3=data2.groupby([data2['Year']],as_index=False).mean()\n",
    "    data3.rename(columns={'EBV':files1[i].split('-')[0]+'_EBV'},inplace=True)\n",
    "    plotdata=pd.merge(plotdata,data3,on='Year',how='left')\n",
    "    i+=1\n",
    "plotdata.to_csv(Path+'PLOT\\\\'+'SIREPLOT.csv',index=False,header=True,encoding='utf_8_sig')"
   ]
  },
  {
   "cell_type": "markdown",
   "metadata": {},
   "source": [
    "## EBV,表型作图"
   ]
  },
  {
   "cell_type": "code",
   "execution_count": 87,
   "metadata": {},
   "outputs": [
    {
     "data": {
      "text/html": [
       "<div>\n",
       "<style scoped>\n",
       "    .dataframe tbody tr th:only-of-type {\n",
       "        vertical-align: middle;\n",
       "    }\n",
       "\n",
       "    .dataframe tbody tr th {\n",
       "        vertical-align: top;\n",
       "    }\n",
       "\n",
       "    .dataframe thead th {\n",
       "        text-align: right;\n",
       "    }\n",
       "</style>\n",
       "<table border=\"1\" class=\"dataframe\">\n",
       "  <thead>\n",
       "    <tr style=\"text-align: right;\">\n",
       "      <th></th>\n",
       "      <th>Year</th>\n",
       "      <th>AFC_EBV</th>\n",
       "      <th>AFCm</th>\n",
       "      <th>AFS_EBV</th>\n",
       "      <th>AFSm</th>\n",
       "      <th>CEC_EBV</th>\n",
       "      <th>CECm</th>\n",
       "      <th>CEH_EBV</th>\n",
       "      <th>CEHm</th>\n",
       "      <th>ICF_EBV</th>\n",
       "      <th>ICFm</th>\n",
       "      <th>IFL_C_EBV</th>\n",
       "      <th>IFL_Cm</th>\n",
       "      <th>IFL_H_EBV</th>\n",
       "      <th>IFL_Hm</th>\n",
       "      <th>SBC_EBV</th>\n",
       "      <th>SBCm</th>\n",
       "      <th>SBH_EBV</th>\n",
       "      <th>SBHm</th>\n",
       "    </tr>\n",
       "  </thead>\n",
       "  <tbody>\n",
       "    <tr>\n",
       "      <th>0</th>\n",
       "      <td>1990</td>\n",
       "      <td>-3.457090</td>\n",
       "      <td>873.777241</td>\n",
       "      <td>-5.695050</td>\n",
       "      <td>597.247796</td>\n",
       "      <td>-0.000419</td>\n",
       "      <td>1.077315</td>\n",
       "      <td>-0.005721</td>\n",
       "      <td>1.054145</td>\n",
       "      <td>-0.165321</td>\n",
       "      <td>76.029485</td>\n",
       "      <td>1.931671</td>\n",
       "      <td>53.459897</td>\n",
       "      <td>2.029912</td>\n",
       "      <td>16.699304</td>\n",
       "      <td>-0.001288</td>\n",
       "      <td>1.050047</td>\n",
       "      <td>0.005154</td>\n",
       "      <td>1.028693</td>\n",
       "    </tr>\n",
       "    <tr>\n",
       "      <th>1</th>\n",
       "      <td>1991</td>\n",
       "      <td>-4.130687</td>\n",
       "      <td>822.584114</td>\n",
       "      <td>-6.511888</td>\n",
       "      <td>580.922631</td>\n",
       "      <td>-0.000745</td>\n",
       "      <td>1.029828</td>\n",
       "      <td>-0.003597</td>\n",
       "      <td>1.004525</td>\n",
       "      <td>-0.004725</td>\n",
       "      <td>73.073173</td>\n",
       "      <td>1.308864</td>\n",
       "      <td>55.626536</td>\n",
       "      <td>2.618005</td>\n",
       "      <td>9.899298</td>\n",
       "      <td>-0.001169</td>\n",
       "      <td>1.112440</td>\n",
       "      <td>0.004765</td>\n",
       "      <td>1.115045</td>\n",
       "    </tr>\n",
       "    <tr>\n",
       "      <th>2</th>\n",
       "      <td>1992</td>\n",
       "      <td>-2.612025</td>\n",
       "      <td>909.045868</td>\n",
       "      <td>-3.381129</td>\n",
       "      <td>621.372520</td>\n",
       "      <td>-0.000051</td>\n",
       "      <td>1.051058</td>\n",
       "      <td>0.000348</td>\n",
       "      <td>1.000000</td>\n",
       "      <td>-0.024503</td>\n",
       "      <td>70.997773</td>\n",
       "      <td>2.078617</td>\n",
       "      <td>35.893780</td>\n",
       "      <td>1.148543</td>\n",
       "      <td>20.714286</td>\n",
       "      <td>0.000889</td>\n",
       "      <td>1.029738</td>\n",
       "      <td>0.006669</td>\n",
       "      <td>1.046296</td>\n",
       "    </tr>\n",
       "    <tr>\n",
       "      <th>3</th>\n",
       "      <td>1993</td>\n",
       "      <td>-2.725504</td>\n",
       "      <td>853.603952</td>\n",
       "      <td>-4.885973</td>\n",
       "      <td>574.644512</td>\n",
       "      <td>-0.000251</td>\n",
       "      <td>1.049493</td>\n",
       "      <td>0.001021</td>\n",
       "      <td>1.061588</td>\n",
       "      <td>-0.163808</td>\n",
       "      <td>80.920537</td>\n",
       "      <td>1.923713</td>\n",
       "      <td>58.337965</td>\n",
       "      <td>2.661288</td>\n",
       "      <td>14.979586</td>\n",
       "      <td>-0.001784</td>\n",
       "      <td>1.039925</td>\n",
       "      <td>0.003603</td>\n",
       "      <td>1.035749</td>\n",
       "    </tr>\n",
       "    <tr>\n",
       "      <th>4</th>\n",
       "      <td>1994</td>\n",
       "      <td>-4.038265</td>\n",
       "      <td>867.258598</td>\n",
       "      <td>-7.151319</td>\n",
       "      <td>583.596378</td>\n",
       "      <td>-0.000267</td>\n",
       "      <td>1.053137</td>\n",
       "      <td>-0.002003</td>\n",
       "      <td>1.036624</td>\n",
       "      <td>-0.049063</td>\n",
       "      <td>80.746106</td>\n",
       "      <td>2.332808</td>\n",
       "      <td>56.882795</td>\n",
       "      <td>2.953346</td>\n",
       "      <td>10.398167</td>\n",
       "      <td>-0.000927</td>\n",
       "      <td>1.078260</td>\n",
       "      <td>0.005556</td>\n",
       "      <td>1.067940</td>\n",
       "    </tr>\n",
       "  </tbody>\n",
       "</table>\n",
       "</div>"
      ],
      "text/plain": [
       "   Year   AFC_EBV        AFCm   AFS_EBV        AFSm   CEC_EBV      CECm  \\\n",
       "0  1990 -3.457090  873.777241 -5.695050  597.247796 -0.000419  1.077315   \n",
       "1  1991 -4.130687  822.584114 -6.511888  580.922631 -0.000745  1.029828   \n",
       "2  1992 -2.612025  909.045868 -3.381129  621.372520 -0.000051  1.051058   \n",
       "3  1993 -2.725504  853.603952 -4.885973  574.644512 -0.000251  1.049493   \n",
       "4  1994 -4.038265  867.258598 -7.151319  583.596378 -0.000267  1.053137   \n",
       "\n",
       "    CEH_EBV      CEHm   ICF_EBV       ICFm  IFL_C_EBV     IFL_Cm  IFL_H_EBV  \\\n",
       "0 -0.005721  1.054145 -0.165321  76.029485   1.931671  53.459897   2.029912   \n",
       "1 -0.003597  1.004525 -0.004725  73.073173   1.308864  55.626536   2.618005   \n",
       "2  0.000348  1.000000 -0.024503  70.997773   2.078617  35.893780   1.148543   \n",
       "3  0.001021  1.061588 -0.163808  80.920537   1.923713  58.337965   2.661288   \n",
       "4 -0.002003  1.036624 -0.049063  80.746106   2.332808  56.882795   2.953346   \n",
       "\n",
       "      IFL_Hm   SBC_EBV      SBCm   SBH_EBV      SBHm  \n",
       "0  16.699304 -0.001288  1.050047  0.005154  1.028693  \n",
       "1   9.899298 -0.001169  1.112440  0.004765  1.115045  \n",
       "2  20.714286  0.000889  1.029738  0.006669  1.046296  \n",
       "3  14.979586 -0.001784  1.039925  0.003603  1.035749  \n",
       "4  10.398167 -0.000927  1.078260  0.005556  1.067940  "
      ]
     },
     "execution_count": 87,
     "metadata": {},
     "output_type": "execute_result"
    }
   ],
   "source": [
    "plotdata.head()"
   ]
  },
  {
   "cell_type": "code",
   "execution_count": null,
   "metadata": {},
   "outputs": [],
   "source": [
    "plot1=['AFCm','AFSm','IFL_Hm','IFL_Cm','ICFm']"
   ]
  },
  {
   "cell_type": "code",
   "execution_count": null,
   "metadata": {},
   "outputs": [],
   "source": []
  },
  {
   "cell_type": "markdown",
   "metadata": {},
   "source": [
    "# EBV筛选排序"
   ]
  },
  {
   "cell_type": "code",
   "execution_count": 89,
   "metadata": {},
   "outputs": [],
   "source": [
    "PAth='F:\\\\fertility data\\\\SUMBJ1807\\\\traits\\\\RESUALT\\\\final\\\\FINAL\\\\SIRE\\\\'"
   ]
  },
  {
   "cell_type": "code",
   "execution_count": 90,
   "metadata": {},
   "outputs": [],
   "source": [
    "files=os.listdir(PAth)"
   ]
  },
  {
   "cell_type": "code",
   "execution_count": 104,
   "metadata": {},
   "outputs": [],
   "source": [
    "i=0\n",
    "while i<=len(files)-1:\n",
    "    data=pd.read_csv(PAth+files[i],sep=',',encoding='gbk',low_memory=False)\n",
    "    data['Year']=data['BIR_date'].apply(lambda s:s.split('/')[0])\n",
    "    data['Year']=data['Year'].apply(lambda s:int(s))\n",
    "    data1=data[(data['有表型的女儿数']>=5) | (data['Year']>=2010)]\n",
    "    data2=data1[data1['REL']>data1['REL'].mean()].sort_values(by='EBV')\n",
    "    data2.to_csv(PAth+files[i].split('-')[0]+'.csv',index=False,header=True,encoding='utf_8_sig')\n",
    "    i+=1"
   ]
  },
  {
   "cell_type": "code",
   "execution_count": 103,
   "metadata": {},
   "outputs": [
    {
     "data": {
      "text/plain": [
       "'AFC-SIRE.csv'"
      ]
     },
     "execution_count": 103,
     "metadata": {},
     "output_type": "execute_result"
    }
   ],
   "source": [
    "files[0]"
   ]
  },
  {
   "cell_type": "code",
   "execution_count": 94,
   "metadata": {},
   "outputs": [],
   "source": []
  },
  {
   "cell_type": "code",
   "execution_count": 95,
   "metadata": {},
   "outputs": [],
   "source": []
  },
  {
   "cell_type": "code",
   "execution_count": 101,
   "metadata": {},
   "outputs": [],
   "source": []
  }
 ],
 "metadata": {
  "kernelspec": {
   "display_name": "Python 3",
   "language": "python",
   "name": "python3"
  },
  "language_info": {
   "codemirror_mode": {
    "name": "ipython",
    "version": 3
   },
   "file_extension": ".py",
   "mimetype": "text/x-python",
   "name": "python",
   "nbconvert_exporter": "python",
   "pygments_lexer": "ipython3",
   "version": "3.6.4"
  },
  "toc": {
   "base_numbering": 1,
   "nav_menu": {},
   "number_sections": true,
   "sideBar": true,
   "skip_h1_title": false,
   "title_cell": "Table of Contents",
   "title_sidebar": "Contents",
   "toc_cell": false,
   "toc_position": {},
   "toc_section_display": true,
   "toc_window_display": false
  }
 },
 "nbformat": 4,
 "nbformat_minor": 2
}
