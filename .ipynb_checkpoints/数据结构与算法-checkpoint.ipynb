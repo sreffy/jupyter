{
 "cells": [
  {
   "cell_type": "markdown",
   "metadata": {},
   "source": [
    "# 第一讲"
   ]
  },
  {
   "cell_type": "markdown",
   "metadata": {},
   "source": [
    "## 数据结构与算法基本概念"
   ]
  },
  {
   "cell_type": "markdown",
   "metadata": {},
   "source": [
    "数据结构：是数据对象再计算机中的组织方式，包括逻辑结构和物理存储结构。\n",
    "\n",
    "数据对象必定与一系列加在其上的操作相关联\n",
    "\n",
    "完成这些操作所使用的方法就是算法"
   ]
  },
  {
   "cell_type": "markdown",
   "metadata": {},
   "source": [
    "## 编程题"
   ]
  },
  {
   "cell_type": "markdown",
   "metadata": {},
   "source": [
    "### 最大子列和问题—复杂度1"
   ]
  },
  {
   "cell_type": "markdown",
   "metadata": {},
   "source": [
    "给定K个整数组成的序列${N_1,N_2...N_k}$，连续子列”被定义为${N_{i},N_{i+1}...N_j}$，其中$1\\leq i\\leq j \\leq K$。最大子列和”则被定义为所有连续子列元素的和中最大者。例如给定序列{ -2, 11, -4, 13, -5, -2 }，其连续子列{ 11, -4, 13 }有最大的和20。\n",
    "\n",
    "数据输入：输入第1行给出正整数K (≤100000)；第2行给出K个整数，其间以空格分隔。\n",
    "\n",
    "数据输出：在一行中输出最大子列和。如果序列中所有整数皆为负数，则输出0。\n",
    "\n",
    "__使用在线计算（动态规划）的方法__"
   ]
  },
  {
   "cell_type": "code",
   "execution_count": 17,
   "metadata": {},
   "outputs": [
    {
     "name": "stdout",
     "output_type": "stream",
     "text": [
      "6\n",
      "-2 11 -4 13 -5 -2\n",
      "20\n"
     ]
    }
   ],
   "source": [
    "k=eval(input()) #第一行输入为个数\n",
    "\n",
    "a=input().split(' ')#第二行输入为‘ ’分割的字符串\n",
    "\n",
    "maxsum=temsum=0\n",
    "\n",
    "i=0\n",
    "while i <= k-1:\n",
    "    temsum=temsum+int(a[i])\n",
    "    if temsum <0:\n",
    "        temsum=0\n",
    "    elif temsum > maxsum:\n",
    "        maxsum=temsum\n",
    "    i+=1\n",
    "print(maxsum)\n",
    "        \n",
    "    "
   ]
  },
  {
   "cell_type": "markdown",
   "metadata": {},
   "source": [
    "### 最大子列和问题—复杂度2"
   ]
  },
  {
   "cell_type": "markdown",
   "metadata": {},
   "source": [
    "数据描述与输入和问题1相同。\n",
    "\n",
    "数据输出：在第一行中输出最大子列和以及序列第一个和最后一个数，以空格分开两个数字。例如给定序列{ -2, 11, -4, 13, -5, -2 }，其连续子列{ 11, -4, 13 }有最大的和20，则输出 20 11 13。如果最大子列和为负数，返回0，但需要输出整个负数序列的第一个和最后一个值。\n",
    "\n",
    "使用分而治之的方法："
   ]
  },
  {
   "cell_type": "code",
   "execution_count": 64,
   "metadata": {},
   "outputs": [
    {
     "name": "stdout",
     "output_type": "stream",
     "text": [
      "6\n",
      "-2 11 -4 13 -5 -2\n",
      "0 -2 11 -4 13 -5\n"
     ]
    }
   ],
   "source": [
    "k=eval(input()) #第一行输入为个数\n",
    "\n",
    "a=input().split(' ')#第二行输入为‘ ’分割的字符串\n",
    "\n",
    "\n",
    "def conquer(a):\n",
    "    les=0\n",
    "    lupp=rupp=len(a)\n",
    "    llow=rlow=les\n",
    "    \n",
    "    #left:\n",
    "    ltemp=lmax=0\n",
    "    \n",
    "    lmid=(lupp+llow)/2\n",
    "    lupp=lmid\n",
    "    llow=les\n",
    "    \n",
    "    i=llow\n",
    "    while i<lupp:\n",
    "        ltemp+=a[i]\n",
    "        if ltemp>lmax:\n",
    "            lmax=ltemp\n",
    "        i+=1\n",
    "        \n",
    "    #right:\n",
    "    rtemp=rmax=0\n",
    "    \n",
    "    rmid=(rupp+rlow)/2\n",
    "    rupp=len(a)\n",
    "    rlow=rmid\n",
    "    j=rupp\n",
    "    while rlow<j:\n",
    "        rtemp+=a[j]\n",
    "        if rtemp>rmax:\n",
    "            rmax=rtemp\n",
    "        j-=1\n",
    "        \n",
    "    #mid:\n",
    "    \n",
    "    "
   ]
  },
  {
   "cell_type": "code",
   "execution_count": 66,
   "metadata": {},
   "outputs": [
    {
     "name": "stdout",
     "output_type": "stream",
     "text": [
      "5\n",
      "6\n"
     ]
    }
   ],
   "source": [
    "for i in range(5,7):\n",
    "    print(i)"
   ]
  },
  {
   "cell_type": "code",
   "execution_count": 69,
   "metadata": {},
   "outputs": [],
   "source": [
    "a=1\n",
    "b=3\n",
    "b+=a"
   ]
  },
  {
   "cell_type": "code",
   "execution_count": 70,
   "metadata": {},
   "outputs": [
    {
     "data": {
      "text/plain": [
       "4"
      ]
     },
     "execution_count": 70,
     "metadata": {},
     "output_type": "execute_result"
    }
   ],
   "source": [
    "b"
   ]
  },
  {
   "cell_type": "code",
   "execution_count": null,
   "metadata": {},
   "outputs": [],
   "source": []
  },
  {
   "cell_type": "markdown",
   "metadata": {},
   "source": [
    "# 第二讲"
   ]
  },
  {
   "cell_type": "markdown",
   "metadata": {},
   "source": [
    "## 编程题"
   ]
  },
  {
   "cell_type": "markdown",
   "metadata": {},
   "source": [
    "### 一元多项式的加法和乘法"
   ]
  },
  {
   "cell_type": "markdown",
   "metadata": {},
   "source": [
    "设计函数分别求两个一元多项式的乘积与和\n",
    "\n",
    "数据输入：输入分2行，每行分别先给出不同多项式非零项的个数，再以指数递降方式输入一个多项式非零项系数和指数（绝对值均为不超过1000的整数）。数字间以空格分隔。\n",
    "\n",
    "数据输出：输出分2行，分别以指数递降方式输出乘积多项式以及和多项式非零项的系数和指数。数字间以空格分隔，但结尾不能有多余空格。零多项式应输出0 0。"
   ]
  },
  {
   "cell_type": "code",
   "execution_count": 3,
   "metadata": {},
   "outputs": [
    {
     "name": "stdout",
     "output_type": "stream",
     "text": [
      "1 -1000 -1000\n",
      "1 1000 1000\n",
      "-1000000 0\n",
      "1000 1000 -1000 -1000\n"
     ]
    }
   ],
   "source": [
    "p1=input()\n",
    "p2=input()\n",
    "\n",
    "pp1=' '.join(p1.split())\n",
    "pp2=' '.join(p2.split())   #去除多个空格只保留一个\n",
    "\n",
    "\n",
    "k1=pp1.split(' ')[0] #第一个多项式非零项个数\n",
    "k2=pp2.split(' ')[0] #第二个多项式非零项个数\n",
    "\n",
    "fp1=pp1.split(' ')[1:] #第一个多项式非零项的系数和指数\n",
    "fp2=pp2.split(' ')[1:] #第二个多项式非零项的系数和指数\n",
    "\n",
    "\n",
    "#Multiple\n",
    "#Multiple\n",
    "ex=[]\n",
    "co=[]\n",
    "i=0\n",
    "\n",
    "\n",
    "while i <2*int(k1):\n",
    "    for j in range(0,2*int(k2),2):\n",
    "        coeff=int(fp1[i])*int(fp2[j]) #系数相乘\n",
    "        expon=int(fp1[i+1])+int(fp2[j+1])  #指数相加\n",
    "        if expon not in ex:\n",
    "            ex.append(expon)\n",
    "            co.append(coeff)\n",
    "        else:\n",
    "            co[ex.index(expon)]+=coeff\n",
    "            \n",
    "    i+=2\n",
    "    \n",
    "#insert    \n",
    "\n",
    "mul=ex[:]\n",
    "\n",
    "ele=0\n",
    "i=0\n",
    "while i < len(ex)+len(co):\n",
    "    mul.insert(i,co[ele])\n",
    "    ele+=1\n",
    "    i+=2\n",
    "    \n",
    "co_ex=dict(zip(co,ex))\n",
    "mul_ex1 = sorted(co_ex.items(), key=lambda x: x[1],reverse=True) \n",
    "mul_ex2 = []\n",
    "for tu in mul_ex1:\n",
    "    a=list(tu)\n",
    "    mul_ex2.extend(a)\n",
    "\n",
    "\n",
    "for ele in mul_ex2:\n",
    "    if mul_ex2.index(ele)%2 ==0 and ele == 0:  \n",
    "        del mul_ex2[mul_ex2.index(ele):mul_ex2.index(ele)+2]\n",
    "    \n",
    "\n",
    "mulout=''\n",
    "for ele in mul_ex2:\n",
    "    mulout=mulout+' '+str(ele)\n",
    "\n",
    "if len(mulout)==0:\n",
    "    mulout=mulout+' '+'0'\n",
    "    mulout=mulout+' '+'0'\n",
    "    \n",
    "    \n",
    "\n",
    "\n",
    "\n",
    "#sum\n",
    "add=[]\n",
    "i=1\n",
    "j=1\n",
    "\n",
    "while (i<2*int(k1)) and (j<2*int(k2)):\n",
    "    if fp1[i]==fp2[j]:\n",
    "        if (int(fp1[i-1])+int(fp2[j-1]))!=0:\n",
    "            add.append(int(fp1[i-1])+int(fp2[j-1]))  #指代每项的系数相加\n",
    "            add.append(int(fp1[i]))\n",
    "            j+=2\n",
    "            i+=2\n",
    "        else:\n",
    "            j+=2\n",
    "            i+=2\n",
    "    else:\n",
    "        big=max(int(fp1[i]),int(fp2[j]))\n",
    "        if big ==int(fp1[i]):\n",
    "            add.append(int(fp1[i-1]))\n",
    "            add.append(big)\n",
    "            i+=2     #跳过系数项，只看指数项\n",
    "        else:\n",
    "            add.append(int(fp2[j-1]))\n",
    "            add.append(big)\n",
    "            j+=2\n",
    "\n",
    "while i <2*int(k1):\n",
    "    if i==j==1:\n",
    "        for ele in fp1:\n",
    "            add.append(ele)\n",
    "        break\n",
    "    elif i+1<2*int(k1):   #遍历多余项\n",
    "        add.append(int(fp1[i+1]))\n",
    "        add.append(int(fp1[i+2]))\n",
    "        i+=2\n",
    "    else:\n",
    "        add.append(int(fp1[i-1]))\n",
    "        add.append(int(fp1[i]))\n",
    "        i+=2\n",
    "\n",
    "while j<2*int(k2):\n",
    "    if i==j==1:\n",
    "        for ele in fp2:\n",
    "            add.append(ele)\n",
    "        break\n",
    "    elif j+1<2*int(k2):   #遍历多余项\n",
    "        add.append(int(fp2[j+1]))\n",
    "        add.append(int(fp2[j+2]))\n",
    "        j+=2\n",
    "    else:\n",
    "        add.append(int(fp2[j-1]))\n",
    "        add.append(int(fp2[j]))\n",
    "        j+=2\n",
    "        \n",
    "    \n",
    "addout=''\n",
    "for ele in add:\n",
    "    addout=addout+' '+str(ele)\n",
    "    \n",
    "if len(addout)==0:\n",
    "    addout=addout+' '+'0'\n",
    "    addout=addout+' '+'0'\n",
    "\n",
    "mulout1=mulout.lstrip()\n",
    "addout1=addout.lstrip()\n",
    "\n",
    "print(mulout1)\n",
    "print(addout1)"
   ]
  },
  {
   "cell_type": "markdown",
   "metadata": {},
   "source": [
    "### Reversing Linked List"
   ]
  },
  {
   "cell_type": "code",
   "execution_count": 71,
   "metadata": {},
   "outputs": [
    {
     "name": "stdout",
     "output_type": "stream",
     "text": [
      "00100 6 4\n",
      "00000 4 99999\n",
      "00100 1 12309\n",
      "68237 6 -1\n",
      "33218 3 00000\n",
      "99999 5 68237\n",
      "12309 2 33218\n",
      "00000 4 33218\n",
      "33218 3 12309\n",
      "12309 2 00100\n",
      "00100 1 99999\n",
      "99999 5 68237\n",
      "68237 6 -1\n",
      "\n"
     ]
    }
   ],
   "source": [
    "x=' '.join(input().split()).split(' ')\n",
    "re_num=int(x[2])\n",
    "total=int(x[1])\n",
    "\n",
    "node=[]\n",
    "for t in range(total):\n",
    "    line = input()\n",
    "    node.append(line)\n",
    "\n",
    "\n",
    "#SORT\n",
    "\n",
    "i=0\n",
    "index=[]\n",
    "while i<total:\n",
    "    num=' '.join(node[i].split()).split(' ')[1]\n",
    "    index.append(int(num))\n",
    "    i+=1\n",
    "    \n",
    "node_dict=dict(zip(index,node))\n",
    "               \n",
    "#REVERSE\n",
    "\n",
    "seq1=list(range(int(re_num)+1,total+1))\n",
    "seq=list(range(int(re_num),0,-1))\n",
    "seq.extend(seq1)\n",
    "\n",
    "ad=[]\n",
    "for number in seq:\n",
    "    link=node_dict[number].split(\" \")[:2]\n",
    "    ad.append(link)\n",
    "\n",
    "i=0\n",
    "while i < total-1:\n",
    "    ad[i].append(ad[i+1][0])\n",
    "    i+=1\n",
    "\n",
    "ad[-1].append('-1')    \n",
    "\n",
    "ans=''\n",
    "for sub in ad:\n",
    "    seq=' '.join(sub)\n",
    "    ans=ans+seq+'\\n'\n",
    "    \n",
    "print(ans)"
   ]
  },
  {
   "cell_type": "code",
   "execution_count": 72,
   "metadata": {},
   "outputs": [
    {
     "data": {
      "text/plain": [
       "['00100', '6', '4']"
      ]
     },
     "execution_count": 72,
     "metadata": {},
     "output_type": "execute_result"
    }
   ],
   "source": [
    "x"
   ]
  },
  {
   "cell_type": "code",
   "execution_count": 65,
   "metadata": {},
   "outputs": [
    {
     "data": {
      "text/plain": [
       "[['00000', '4', '33218'],\n",
       " ['33218', '3', '12309'],\n",
       " ['12309', '2', '00100'],\n",
       " ['00100', '1', '99999'],\n",
       " ['99999', '5', '68237'],\n",
       " ['68237', '6', -1]]"
      ]
     },
     "execution_count": 65,
     "metadata": {},
     "output_type": "execute_result"
    }
   ],
   "source": [
    "ad"
   ]
  },
  {
   "cell_type": "code",
   "execution_count": 50,
   "metadata": {},
   "outputs": [],
   "source": [
    "a=node_dict[1].split(' ')[:2]\n",
    "b=node_dict[2].split(' ')[:2]"
   ]
  },
  {
   "cell_type": "code",
   "execution_count": 51,
   "metadata": {},
   "outputs": [],
   "source": [
    "c=[]"
   ]
  },
  {
   "cell_type": "code",
   "execution_count": 52,
   "metadata": {},
   "outputs": [],
   "source": [
    "c.append(a)\n",
    "c.append(b)"
   ]
  },
  {
   "cell_type": "code",
   "execution_count": 54,
   "metadata": {},
   "outputs": [],
   "source": [
    "c[0].append(c[1][0])"
   ]
  },
  {
   "cell_type": "code",
   "execution_count": 55,
   "metadata": {},
   "outputs": [
    {
     "data": {
      "text/plain": [
       "[['00100', '1', '12309'], ['12309', '2']]"
      ]
     },
     "execution_count": 55,
     "metadata": {},
     "output_type": "execute_result"
    }
   ],
   "source": [
    "c"
   ]
  },
  {
   "cell_type": "code",
   "execution_count": 5,
   "metadata": {},
   "outputs": [
    {
     "ename": "IndexError",
     "evalue": "list index out of range",
     "output_type": "error",
     "traceback": [
      "\u001b[1;31m---------------------------------------------------------------------------\u001b[0m",
      "\u001b[1;31mIndexError\u001b[0m                                Traceback (most recent call last)",
      "\u001b[1;32m<ipython-input-5-06d5b1c692a9>\u001b[0m in \u001b[0;36m<module>\u001b[1;34m()\u001b[0m\n\u001b[1;32m----> 1\u001b[1;33m \u001b[0mnum\u001b[0m\u001b[1;33m=\u001b[0m\u001b[1;34m' '\u001b[0m\u001b[1;33m.\u001b[0m\u001b[0mjoin\u001b[0m\u001b[1;33m(\u001b[0m\u001b[0mnode\u001b[0m\u001b[1;33m[\u001b[0m\u001b[0mi\u001b[0m\u001b[1;33m]\u001b[0m\u001b[1;33m.\u001b[0m\u001b[0msplit\u001b[0m\u001b[1;33m(\u001b[0m\u001b[1;33m)\u001b[0m\u001b[1;33m)\u001b[0m\u001b[1;33m.\u001b[0m\u001b[0msplit\u001b[0m\u001b[1;33m(\u001b[0m\u001b[1;34m' '\u001b[0m\u001b[1;33m)\u001b[0m\u001b[1;33m\u001b[0m\u001b[0m\n\u001b[0m",
      "\u001b[1;31mIndexError\u001b[0m: list index out of range"
     ]
    }
   ],
   "source": [
    "num=' '.join(node[i].split()).split(' ')"
   ]
  },
  {
   "cell_type": "code",
   "execution_count": 8,
   "metadata": {},
   "outputs": [],
   "source": [
    "seq1=list(range(6,0,-1))\n",
    "seq2=list(range(6+1,10+1))"
   ]
  },
  {
   "cell_type": "code",
   "execution_count": 11,
   "metadata": {},
   "outputs": [
    {
     "data": {
      "text/plain": [
       "[6, 5, 4, 3, 2, 1, 7, 8, 9, 10]"
      ]
     },
     "execution_count": 11,
     "metadata": {},
     "output_type": "execute_result"
    }
   ],
   "source": [
    "seq1"
   ]
  },
  {
   "cell_type": "code",
   "execution_count": 9,
   "metadata": {},
   "outputs": [
    {
     "data": {
      "text/plain": [
       "[7, 8, 9, 10]"
      ]
     },
     "execution_count": 9,
     "metadata": {},
     "output_type": "execute_result"
    }
   ],
   "source": [
    "seq2"
   ]
  },
  {
   "cell_type": "code",
   "execution_count": 2,
   "metadata": {},
   "outputs": [
    {
     "name": "stdout",
     "output_type": "stream",
     "text": [
      "1 2\n",
      "1\n",
      "\n",
      "2\n",
      "3\n",
      "\n",
      "4\n",
      "2\n"
     ]
    }
   ],
   "source": [
    "re_num=int(input().split(' ')[1])\n",
    "node=[]\n",
    "while True:\n",
    "    try:\n",
    "        line = input()\n",
    "        node.append(line)\n",
    "    except:\n",
    "        break"
   ]
  }
 ],
 "metadata": {
  "kernelspec": {
   "display_name": "Python 3",
   "language": "python",
   "name": "python3"
  },
  "language_info": {
   "codemirror_mode": {
    "name": "ipython",
    "version": 3
   },
   "file_extension": ".py",
   "mimetype": "text/x-python",
   "name": "python",
   "nbconvert_exporter": "python",
   "pygments_lexer": "ipython3",
   "version": "3.6.4"
  },
  "toc": {
   "base_numbering": 1,
   "nav_menu": {},
   "number_sections": true,
   "sideBar": true,
   "skip_h1_title": false,
   "title_cell": "Table of Contents",
   "title_sidebar": "Contents",
   "toc_cell": false,
   "toc_position": {},
   "toc_section_display": true,
   "toc_window_display": false
  }
 },
 "nbformat": 4,
 "nbformat_minor": 2
}
