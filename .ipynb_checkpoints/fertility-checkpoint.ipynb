{
 "cells": [
  {
   "cell_type": "markdown",
   "metadata": {},
   "source": [
    "导入数据，原始记录中有5511693条记录，13个变量。"
   ]
  },
  {
   "cell_type": "code",
   "execution_count": 145,
   "metadata": {
    "scrolled": true
   },
   "outputs": [],
   "source": [
    "#coding:utf-8\n",
    "import pandas as pd\n",
    "fz=pd.read_csv(\"F:\\\\fertility data\\\\SUMBJ1807\\\\aa1807.csv\",sep=\",\",low_memory=False)"
   ]
  },
  {
   "cell_type": "code",
   "execution_count": 146,
   "metadata": {},
   "outputs": [],
   "source": [
    "import seaborn as sns\n",
    "import matplotlib.pyplot as plt\n",
    "import numpy as np"
   ]
  },
  {
   "cell_type": "code",
   "execution_count": 147,
   "metadata": {},
   "outputs": [],
   "source": [
    "plt.rcParams['font.sans-serif']=['SimHei']\n",
    "plt.rcParams['axes.unicode_minus'] = False"
   ]
  },
  {
   "cell_type": "code",
   "execution_count": 148,
   "metadata": {
    "scrolled": true
   },
   "outputs": [
    {
     "data": {
      "text/html": [
       "<div>\n",
       "<style scoped>\n",
       "    .dataframe tbody tr th:only-of-type {\n",
       "        vertical-align: middle;\n",
       "    }\n",
       "\n",
       "    .dataframe tbody tr th {\n",
       "        vertical-align: top;\n",
       "    }\n",
       "\n",
       "    .dataframe thead th {\n",
       "        text-align: right;\n",
       "    }\n",
       "</style>\n",
       "<table border=\"1\" class=\"dataframe\">\n",
       "  <thead>\n",
       "    <tr style=\"text-align: right;\">\n",
       "      <th></th>\n",
       "      <th>牛号</th>\n",
       "      <th>日期</th>\n",
       "      <th>事件</th>\n",
       "      <th>事件信息</th>\n",
       "      <th>胎次</th>\n",
       "      <th>泌乳天数</th>\n",
       "      <th>日产量</th>\n",
       "      <th>产犊方式</th>\n",
       "      <th>出生重</th>\n",
       "      <th>配种员</th>\n",
       "      <th>HERD</th>\n",
       "      <th>FID</th>\n",
       "    </tr>\n",
       "  </thead>\n",
       "  <tbody>\n",
       "    <tr>\n",
       "      <th>0</th>\n",
       "      <td>097033</td>\n",
       "      <td>1997/4/10</td>\n",
       "      <td>出生</td>\n",
       "      <td>母亲 号: 94016</td>\n",
       "      <td>--</td>\n",
       "      <td>--</td>\n",
       "      <td>--</td>\n",
       "      <td>--</td>\n",
       "      <td>--</td>\n",
       "      <td>--</td>\n",
       "      <td>110901</td>\n",
       "      <td>F459001097033</td>\n",
       "    </tr>\n",
       "    <tr>\n",
       "      <th>1</th>\n",
       "      <td>097110</td>\n",
       "      <td>1997/11/12</td>\n",
       "      <td>出生</td>\n",
       "      <td>母亲 号: 91076</td>\n",
       "      <td>--</td>\n",
       "      <td>--</td>\n",
       "      <td>--</td>\n",
       "      <td>--</td>\n",
       "      <td>--</td>\n",
       "      <td>--</td>\n",
       "      <td>110901</td>\n",
       "      <td>F459001097110</td>\n",
       "    </tr>\n",
       "    <tr>\n",
       "      <th>2</th>\n",
       "      <td>D97138</td>\n",
       "      <td>1997/12/21</td>\n",
       "      <td>出生</td>\n",
       "      <td>母亲 号: 3045</td>\n",
       "      <td>--</td>\n",
       "      <td>--</td>\n",
       "      <td>--</td>\n",
       "      <td>--</td>\n",
       "      <td>--</td>\n",
       "      <td>--</td>\n",
       "      <td>110901</td>\n",
       "      <td>F459001D97138</td>\n",
       "    </tr>\n",
       "    <tr>\n",
       "      <th>3</th>\n",
       "      <td>098011</td>\n",
       "      <td>1998/2/5</td>\n",
       "      <td>出生</td>\n",
       "      <td>母亲 号: 88062</td>\n",
       "      <td>--</td>\n",
       "      <td>--</td>\n",
       "      <td>--</td>\n",
       "      <td>--</td>\n",
       "      <td>--</td>\n",
       "      <td>--</td>\n",
       "      <td>110901</td>\n",
       "      <td>F459001098011</td>\n",
       "    </tr>\n",
       "    <tr>\n",
       "      <th>4</th>\n",
       "      <td>098047</td>\n",
       "      <td>1998/6/2</td>\n",
       "      <td>出生</td>\n",
       "      <td>母亲 号: 95033</td>\n",
       "      <td>--</td>\n",
       "      <td>--</td>\n",
       "      <td>--</td>\n",
       "      <td>--</td>\n",
       "      <td>--</td>\n",
       "      <td>--</td>\n",
       "      <td>110901</td>\n",
       "      <td>F459001098047</td>\n",
       "    </tr>\n",
       "  </tbody>\n",
       "</table>\n",
       "</div>"
      ],
      "text/plain": [
       "       牛号          日期  事件         事件信息  胎次 泌乳天数 日产量 产犊方式 出生重 配种员    HERD  \\\n",
       "0  097033   1997/4/10  出生  母亲 号: 94016  --   --  --   --  --  --  110901   \n",
       "1  097110  1997/11/12  出生  母亲 号: 91076  --   --  --   --  --  --  110901   \n",
       "2  D97138  1997/12/21  出生   母亲 号: 3045  --   --  --   --  --  --  110901   \n",
       "3  098011    1998/2/5  出生  母亲 号: 88062  --   --  --   --  --  --  110901   \n",
       "4  098047    1998/6/2  出生  母亲 号: 95033  --   --  --   --  --  --  110901   \n",
       "\n",
       "             FID  \n",
       "0  F459001097033  \n",
       "1  F459001097110  \n",
       "2  F459001D97138  \n",
       "3  F459001098011  \n",
       "4  F459001098047  "
      ]
     },
     "execution_count": 148,
     "metadata": {},
     "output_type": "execute_result"
    }
   ],
   "source": [
    "fz.head()\n",
    "#fz.count()"
   ]
  },
  {
   "cell_type": "markdown",
   "metadata": {},
   "source": [
    "按照日期格式转换为python日期格式，一些为长日期，一些为短日期。筛选日期长度>10（xxxx/xx/xx）以及<8（xxxx/x/x）的数据进行检查。"
   ]
  },
  {
   "cell_type": "code",
   "execution_count": 149,
   "metadata": {},
   "outputs": [
    {
     "data": {
      "text/plain": [
       "牛号      object\n",
       "日期      object\n",
       "事件      object\n",
       "事件信息    object\n",
       "胎次      object\n",
       "泌乳天数    object\n",
       "日产量     object\n",
       "产犊方式    object\n",
       "出生重     object\n",
       "配种员     object\n",
       "HERD    object\n",
       "FID     object\n",
       "dtype: object"
      ]
     },
     "execution_count": 149,
     "metadata": {},
     "output_type": "execute_result"
    }
   ],
   "source": [
    "fz.dtypes"
   ]
  },
  {
   "cell_type": "code",
   "execution_count": 150,
   "metadata": {},
   "outputs": [],
   "source": [
    "fz['日期']=fz['日期'].apply(lambda s: str(s))"
   ]
  },
  {
   "cell_type": "code",
   "execution_count": 151,
   "metadata": {},
   "outputs": [],
   "source": [
    "fz['日期长度']=fz['日期'].apply(lambda s: len(s))"
   ]
  },
  {
   "cell_type": "code",
   "execution_count": 152,
   "metadata": {},
   "outputs": [
    {
     "data": {
      "text/plain": [
       "count    7.244866e+06\n",
       "mean     9.624549e+00\n",
       "std      2.217483e+00\n",
       "min      2.000000e+00\n",
       "25%      9.000000e+00\n",
       "50%      9.000000e+00\n",
       "75%      1.000000e+01\n",
       "max      1.900000e+01\n",
       "Name: 日期长度, dtype: float64"
      ]
     },
     "execution_count": 152,
     "metadata": {},
     "output_type": "execute_result"
    }
   ],
   "source": [
    "fz['日期长度'].describe()"
   ]
  },
  {
   "cell_type": "code",
   "execution_count": 153,
   "metadata": {},
   "outputs": [],
   "source": [
    "length=fz[(fz['日期长度']>10)|(fz['日期长度']<8)]"
   ]
  },
  {
   "cell_type": "code",
   "execution_count": 154,
   "metadata": {},
   "outputs": [
    {
     "data": {
      "text/html": [
       "<div>\n",
       "<style scoped>\n",
       "    .dataframe tbody tr th:only-of-type {\n",
       "        vertical-align: middle;\n",
       "    }\n",
       "\n",
       "    .dataframe tbody tr th {\n",
       "        vertical-align: top;\n",
       "    }\n",
       "\n",
       "    .dataframe thead th {\n",
       "        text-align: right;\n",
       "    }\n",
       "</style>\n",
       "<table border=\"1\" class=\"dataframe\">\n",
       "  <thead>\n",
       "    <tr style=\"text-align: right;\">\n",
       "      <th></th>\n",
       "      <th>牛号</th>\n",
       "      <th>日期</th>\n",
       "      <th>事件</th>\n",
       "      <th>事件信息</th>\n",
       "      <th>胎次</th>\n",
       "      <th>泌乳天数</th>\n",
       "      <th>日产量</th>\n",
       "      <th>产犊方式</th>\n",
       "      <th>出生重</th>\n",
       "      <th>配种员</th>\n",
       "      <th>HERD</th>\n",
       "      <th>FID</th>\n",
       "      <th>日期长度</th>\n",
       "    </tr>\n",
       "  </thead>\n",
       "  <tbody>\n",
       "    <tr>\n",
       "      <th>5527419</th>\n",
       "      <td>0000牛号</td>\n",
       "      <td>日期</td>\n",
       "      <td>事件</td>\n",
       "      <td>事件信息</td>\n",
       "      <td>胎次</td>\n",
       "      <td>泌乳天数</td>\n",
       "      <td>日产量</td>\n",
       "      <td>产犊方式</td>\n",
       "      <td>出生重</td>\n",
       "      <td>配种员</td>\n",
       "      <td>110046</td>\n",
       "      <td>F1100460000牛号</td>\n",
       "      <td>2</td>\n",
       "    </tr>\n",
       "    <tr>\n",
       "      <th>6909023</th>\n",
       "      <td>0000牛号</td>\n",
       "      <td>日期</td>\n",
       "      <td>事件</td>\n",
       "      <td>事件信息</td>\n",
       "      <td>胎次</td>\n",
       "      <td>泌乳天数</td>\n",
       "      <td>日产量</td>\n",
       "      <td>产犊方式</td>\n",
       "      <td>出生重</td>\n",
       "      <td>配种员</td>\n",
       "      <td>110055</td>\n",
       "      <td>F1100550000牛号</td>\n",
       "      <td>2</td>\n",
       "    </tr>\n",
       "    <tr>\n",
       "      <th>6462875</th>\n",
       "      <td>0000牛号</td>\n",
       "      <td>日期</td>\n",
       "      <td>事件</td>\n",
       "      <td>事件信息</td>\n",
       "      <td>胎次</td>\n",
       "      <td>泌乳天数</td>\n",
       "      <td>日产量</td>\n",
       "      <td>产犊方式</td>\n",
       "      <td>出生重</td>\n",
       "      <td>配种员</td>\n",
       "      <td>13FW05</td>\n",
       "      <td>F13FW050000牛号</td>\n",
       "      <td>2</td>\n",
       "    </tr>\n",
       "    <tr>\n",
       "      <th>6487588</th>\n",
       "      <td>0000牛号</td>\n",
       "      <td>日期</td>\n",
       "      <td>事件</td>\n",
       "      <td>事件信息</td>\n",
       "      <td>胎次</td>\n",
       "      <td>泌乳天数</td>\n",
       "      <td>日产量</td>\n",
       "      <td>产犊方式</td>\n",
       "      <td>出生重</td>\n",
       "      <td>配种员</td>\n",
       "      <td>13FW05</td>\n",
       "      <td>F13FW050000牛号</td>\n",
       "      <td>2</td>\n",
       "    </tr>\n",
       "    <tr>\n",
       "      <th>5538545</th>\n",
       "      <td>0000牛号</td>\n",
       "      <td>日期</td>\n",
       "      <td>事件</td>\n",
       "      <td>事件信息</td>\n",
       "      <td>胎次</td>\n",
       "      <td>泌乳天数</td>\n",
       "      <td>日产量</td>\n",
       "      <td>产犊方式</td>\n",
       "      <td>出生重</td>\n",
       "      <td>配种员</td>\n",
       "      <td>110046</td>\n",
       "      <td>F1100460000牛号</td>\n",
       "      <td>2</td>\n",
       "    </tr>\n",
       "    <tr>\n",
       "      <th>5812129</th>\n",
       "      <td>0000牛号</td>\n",
       "      <td>日期</td>\n",
       "      <td>事件</td>\n",
       "      <td>事件信息</td>\n",
       "      <td>胎次</td>\n",
       "      <td>泌乳天数</td>\n",
       "      <td>日产量</td>\n",
       "      <td>产犊方式</td>\n",
       "      <td>出生重</td>\n",
       "      <td>配种员</td>\n",
       "      <td>110045</td>\n",
       "      <td>F1100450000牛号</td>\n",
       "      <td>2</td>\n",
       "    </tr>\n",
       "    <tr>\n",
       "      <th>6667808</th>\n",
       "      <td>128229</td>\n",
       "      <td>nan</td>\n",
       "      <td>疾病治疗事件</td>\n",
       "      <td>NaN</td>\n",
       "      <td>NaN</td>\n",
       "      <td>NaN</td>\n",
       "      <td>NaN</td>\n",
       "      <td>NaN</td>\n",
       "      <td>NaN</td>\n",
       "      <td>NaN</td>\n",
       "      <td>151512</td>\n",
       "      <td>F151512128229</td>\n",
       "      <td>3</td>\n",
       "    </tr>\n",
       "    <tr>\n",
       "      <th>6664502</th>\n",
       "      <td>101625</td>\n",
       "      <td>nan</td>\n",
       "      <td>疾病治疗事件</td>\n",
       "      <td>NaN</td>\n",
       "      <td>NaN</td>\n",
       "      <td>NaN</td>\n",
       "      <td>NaN</td>\n",
       "      <td>NaN</td>\n",
       "      <td>NaN</td>\n",
       "      <td>NaN</td>\n",
       "      <td>151512</td>\n",
       "      <td>F151512101625</td>\n",
       "      <td>3</td>\n",
       "    </tr>\n",
       "    <tr>\n",
       "      <th>6664503</th>\n",
       "      <td>101635</td>\n",
       "      <td>nan</td>\n",
       "      <td>疾病治疗事件</td>\n",
       "      <td>NaN</td>\n",
       "      <td>NaN</td>\n",
       "      <td>NaN</td>\n",
       "      <td>NaN</td>\n",
       "      <td>NaN</td>\n",
       "      <td>NaN</td>\n",
       "      <td>NaN</td>\n",
       "      <td>151512</td>\n",
       "      <td>F151512101635</td>\n",
       "      <td>3</td>\n",
       "    </tr>\n",
       "    <tr>\n",
       "      <th>6664504</th>\n",
       "      <td>101638</td>\n",
       "      <td>nan</td>\n",
       "      <td>疾病治疗事件</td>\n",
       "      <td>NaN</td>\n",
       "      <td>NaN</td>\n",
       "      <td>NaN</td>\n",
       "      <td>NaN</td>\n",
       "      <td>NaN</td>\n",
       "      <td>NaN</td>\n",
       "      <td>NaN</td>\n",
       "      <td>151512</td>\n",
       "      <td>F151512101638</td>\n",
       "      <td>3</td>\n",
       "    </tr>\n",
       "  </tbody>\n",
       "</table>\n",
       "</div>"
      ],
      "text/plain": [
       "             牛号   日期      事件  事件信息   胎次  泌乳天数  日产量  产犊方式  出生重  配种员    HERD  \\\n",
       "5527419  0000牛号   日期      事件  事件信息   胎次  泌乳天数  日产量  产犊方式  出生重  配种员  110046   \n",
       "6909023  0000牛号   日期      事件  事件信息   胎次  泌乳天数  日产量  产犊方式  出生重  配种员  110055   \n",
       "6462875  0000牛号   日期      事件  事件信息   胎次  泌乳天数  日产量  产犊方式  出生重  配种员  13FW05   \n",
       "6487588  0000牛号   日期      事件  事件信息   胎次  泌乳天数  日产量  产犊方式  出生重  配种员  13FW05   \n",
       "5538545  0000牛号   日期      事件  事件信息   胎次  泌乳天数  日产量  产犊方式  出生重  配种员  110046   \n",
       "5812129  0000牛号   日期      事件  事件信息   胎次  泌乳天数  日产量  产犊方式  出生重  配种员  110045   \n",
       "6667808  128229  nan  疾病治疗事件   NaN  NaN   NaN  NaN   NaN  NaN  NaN  151512   \n",
       "6664502  101625  nan  疾病治疗事件   NaN  NaN   NaN  NaN   NaN  NaN  NaN  151512   \n",
       "6664503  101635  nan  疾病治疗事件   NaN  NaN   NaN  NaN   NaN  NaN  NaN  151512   \n",
       "6664504  101638  nan  疾病治疗事件   NaN  NaN   NaN  NaN   NaN  NaN  NaN  151512   \n",
       "\n",
       "                   FID  日期长度  \n",
       "5527419  F1100460000牛号     2  \n",
       "6909023  F1100550000牛号     2  \n",
       "6462875  F13FW050000牛号     2  \n",
       "6487588  F13FW050000牛号     2  \n",
       "5538545  F1100460000牛号     2  \n",
       "5812129  F1100450000牛号     2  \n",
       "6667808  F151512128229     3  \n",
       "6664502  F151512101625     3  \n",
       "6664503  F151512101635     3  \n",
       "6664504  F151512101638     3  "
      ]
     },
     "execution_count": 154,
     "metadata": {},
     "output_type": "execute_result"
    }
   ],
   "source": [
    "length.sort_values(by='日期长度').head(10)"
   ]
  },
  {
   "cell_type": "code",
   "execution_count": 155,
   "metadata": {},
   "outputs": [
    {
     "data": {
      "text/html": [
       "<div>\n",
       "<style scoped>\n",
       "    .dataframe tbody tr th:only-of-type {\n",
       "        vertical-align: middle;\n",
       "    }\n",
       "\n",
       "    .dataframe tbody tr th {\n",
       "        vertical-align: top;\n",
       "    }\n",
       "\n",
       "    .dataframe thead th {\n",
       "        text-align: right;\n",
       "    }\n",
       "</style>\n",
       "<table border=\"1\" class=\"dataframe\">\n",
       "  <thead>\n",
       "    <tr style=\"text-align: right;\">\n",
       "      <th></th>\n",
       "      <th>牛号</th>\n",
       "      <th>日期</th>\n",
       "      <th>事件</th>\n",
       "      <th>事件信息</th>\n",
       "      <th>胎次</th>\n",
       "      <th>泌乳天数</th>\n",
       "      <th>日产量</th>\n",
       "      <th>产犊方式</th>\n",
       "      <th>出生重</th>\n",
       "      <th>配种员</th>\n",
       "      <th>HERD</th>\n",
       "      <th>FID</th>\n",
       "      <th>日期长度</th>\n",
       "    </tr>\n",
       "  </thead>\n",
       "  <tbody>\n",
       "    <tr>\n",
       "      <th>6391902</th>\n",
       "      <td>S74165</td>\n",
       "      <td>2017-09-29 00:00:00</td>\n",
       "      <td>入群</td>\n",
       "      <td>在牛场出生</td>\n",
       "      <td>--</td>\n",
       "      <td>--</td>\n",
       "      <td>--</td>\n",
       "      <td>--</td>\n",
       "      <td>20</td>\n",
       "      <td>--</td>\n",
       "      <td>13FW05</td>\n",
       "      <td>F13FW05S74165</td>\n",
       "      <td>19</td>\n",
       "    </tr>\n",
       "    <tr>\n",
       "      <th>6391901</th>\n",
       "      <td>S74165</td>\n",
       "      <td>2017-09-29 00:00:00</td>\n",
       "      <td>出生</td>\n",
       "      <td>母亲 号: 131543</td>\n",
       "      <td>--</td>\n",
       "      <td>--</td>\n",
       "      <td>--</td>\n",
       "      <td>--</td>\n",
       "      <td>20</td>\n",
       "      <td>--</td>\n",
       "      <td>13FW05</td>\n",
       "      <td>F13FW05S74165</td>\n",
       "      <td>19</td>\n",
       "    </tr>\n",
       "    <tr>\n",
       "      <th>6391900</th>\n",
       "      <td>S74164</td>\n",
       "      <td>2017-09-28 00:00:00</td>\n",
       "      <td>离群</td>\n",
       "      <td>死胎</td>\n",
       "      <td>--</td>\n",
       "      <td>--</td>\n",
       "      <td>--</td>\n",
       "      <td>--</td>\n",
       "      <td>--</td>\n",
       "      <td>--</td>\n",
       "      <td>13FW05</td>\n",
       "      <td>F13FW05S74164</td>\n",
       "      <td>19</td>\n",
       "    </tr>\n",
       "    <tr>\n",
       "      <th>6391908</th>\n",
       "      <td>S74167</td>\n",
       "      <td>2017-09-30 00:00:00</td>\n",
       "      <td>入群</td>\n",
       "      <td>在牛场出生</td>\n",
       "      <td>--</td>\n",
       "      <td>--</td>\n",
       "      <td>--</td>\n",
       "      <td>--</td>\n",
       "      <td>25</td>\n",
       "      <td>--</td>\n",
       "      <td>13FW05</td>\n",
       "      <td>F13FW05S74167</td>\n",
       "      <td>19</td>\n",
       "    </tr>\n",
       "    <tr>\n",
       "      <th>6921409</th>\n",
       "      <td>N12238</td>\n",
       "      <td>2018-06-22 00:00:00</td>\n",
       "      <td>体况评分</td>\n",
       "      <td>值:3.00</td>\n",
       "      <td>2</td>\n",
       "      <td>152</td>\n",
       "      <td>--</td>\n",
       "      <td>--</td>\n",
       "      <td>--</td>\n",
       "      <td>--</td>\n",
       "      <td>110055</td>\n",
       "      <td>F110055N12238</td>\n",
       "      <td>19</td>\n",
       "    </tr>\n",
       "  </tbody>\n",
       "</table>\n",
       "</div>"
      ],
      "text/plain": [
       "             牛号                   日期    事件          事件信息  胎次 泌乳天数 日产量 产犊方式  \\\n",
       "6391902  S74165  2017-09-29 00:00:00    入群         在牛场出生  --   --  --   --   \n",
       "6391901  S74165  2017-09-29 00:00:00    出生  母亲 号: 131543  --   --  --   --   \n",
       "6391900  S74164  2017-09-28 00:00:00    离群            死胎  --   --  --   --   \n",
       "6391908  S74167  2017-09-30 00:00:00    入群         在牛场出生  --   --  --   --   \n",
       "6921409  N12238  2018-06-22 00:00:00  体况评分        值:3.00   2  152  --   --   \n",
       "\n",
       "        出生重 配种员    HERD            FID  日期长度  \n",
       "6391902  20  --  13FW05  F13FW05S74165    19  \n",
       "6391901  20  --  13FW05  F13FW05S74165    19  \n",
       "6391900  --  --  13FW05  F13FW05S74164    19  \n",
       "6391908  25  --  13FW05  F13FW05S74167    19  \n",
       "6921409  --  --  110055  F110055N12238    19  "
      ]
     },
     "execution_count": 155,
     "metadata": {},
     "output_type": "execute_result"
    }
   ],
   "source": [
    "length.sort_values(by='日期长度').tail(5)"
   ]
  },
  {
   "cell_type": "markdown",
   "metadata": {},
   "source": [
    "由上可以看出‘日期’，‘nan’字段的日期数据可以删除——直接提取日期长度大于3的数据作分析即可；长度为19左右的日期将“00:00:00”替换即可。"
   ]
  },
  {
   "cell_type": "code",
   "execution_count": 156,
   "metadata": {},
   "outputs": [],
   "source": [
    "fz=fz[fz['日期长度']>3]\n",
    "fz['日期']=fz['日期'].apply(lambda s: s.replace(' 00:00:00',''))\n",
    "fz['日期长度']=fz['日期'].apply(lambda s: len(s))"
   ]
  },
  {
   "cell_type": "code",
   "execution_count": 157,
   "metadata": {},
   "outputs": [
    {
     "data": {
      "text/plain": [
       "count    7.238395e+06\n",
       "mean     9.198624e+00\n",
       "std      7.000419e-01\n",
       "min      8.000000e+00\n",
       "25%      9.000000e+00\n",
       "50%      9.000000e+00\n",
       "75%      1.000000e+01\n",
       "max      1.000000e+01\n",
       "Name: 日期长度, dtype: float64"
      ]
     },
     "execution_count": 157,
     "metadata": {},
     "output_type": "execute_result"
    }
   ],
   "source": [
    "fz['日期长度'].describe()"
   ]
  },
  {
   "cell_type": "markdown",
   "metadata": {},
   "source": [
    "可看出现在日期长度格式统一，接下来进行转换。"
   ]
  },
  {
   "cell_type": "code",
   "execution_count": 158,
   "metadata": {},
   "outputs": [],
   "source": [
    "fz['日期']=pd.to_datetime(fz['日期'],format=\"%Y-%m-%d\")\n",
    "fz['日期']=fz['日期'].apply(lambda s: str(s))"
   ]
  },
  {
   "cell_type": "code",
   "execution_count": 159,
   "metadata": {},
   "outputs": [],
   "source": [
    "fz['日期']=fz['日期'].apply(lambda s: s.replace(' 00:00:00',''))"
   ]
  },
  {
   "cell_type": "markdown",
   "metadata": {},
   "source": [
    "将出生，产犊和配种事件分离，并检查各个事件的原始数据并筛重，数量：出生事件：286,277/284,724条；产犊事件：300,472/298,745条；配种事件：945,611/935,888条。"
   ]
  },
  {
   "cell_type": "code",
   "execution_count": 160,
   "metadata": {},
   "outputs": [],
   "source": [
    "fzb=fz[fz['事件']=='出生'].drop_duplicates(subset=['FID','日期'],keep='first')\n",
    "fzc=fz[fz['事件']=='产犊'].drop_duplicates(subset=['FID','胎次','日期'],keep='first')\n",
    "fzp=fz[fz['事件']=='输精'].drop_duplicates(subset=['FID','胎次','日期'],keep='first')"
   ]
  },
  {
   "cell_type": "code",
   "execution_count": 161,
   "metadata": {},
   "outputs": [
    {
     "data": {
      "text/plain": [
       "牛号      1075931\n",
       "日期      1075931\n",
       "事件      1075931\n",
       "事件信息    1075931\n",
       "胎次      1053017\n",
       "泌乳天数    1075931\n",
       "日产量     1053017\n",
       "产犊方式    1075931\n",
       "出生重     1053017\n",
       "配种员     1057699\n",
       "HERD    1075931\n",
       "FID     1075931\n",
       "日期长度    1075931\n",
       "dtype: int64"
      ]
     },
     "execution_count": 161,
     "metadata": {},
     "output_type": "execute_result"
    }
   ],
   "source": [
    "fzp.count()\n",
    "#fzc.head()"
   ]
  },
  {
   "cell_type": "markdown",
   "metadata": {},
   "source": [
    "选取各事件FID，胎次以及日期列，并按照FID，胎次排列。"
   ]
  },
  {
   "cell_type": "code",
   "execution_count": 162,
   "metadata": {},
   "outputs": [],
   "source": [
    "p =fzp[['FID','胎次','日期','HERD','配种员']].sort_values(by=['FID','胎次'])\n",
    "c =fzc[['FID','胎次','日期','HERD']].sort_values(by=['FID','胎次'])\n",
    "b =fzb[['FID','日期','HERD']].sort_values(by=['FID'])"
   ]
  },
  {
   "cell_type": "markdown",
   "metadata": {},
   "source": [
    "将各个事件的日期分割为年，月2列，并将年月合并作为效应。"
   ]
  },
  {
   "cell_type": "code",
   "execution_count": 163,
   "metadata": {},
   "outputs": [],
   "source": [
    "###出生相关\n",
    "b['年']=list(map(lambda s: s.split('-')[0],b['日期']))\n",
    "b['月']=list(map(lambda s: s.split('-')[1],b['日期']))\n",
    "b['YMB']=list(map(lambda s: s.split('-')[0]+s.split('-')[1],b['日期']))\n",
    "b['HYB']=list(map(lambda s: str(s),b['HERD']))+b['年']\n",
    "\n",
    "###产犊相关\n",
    "c['年']=list(map(lambda s: s.split('-')[0],c['日期']))\n",
    "c['月']=list(map(lambda s: s.split('-')[1],c['日期']))\n",
    "c['YMC']=list(map(lambda s: s.split('-')[0]+s.split('-')[1],c['日期']))\n",
    "c['HYC']=list(map(lambda s: str(s),c['HERD']))+c['年']\n",
    "\n",
    "###配种相关\n",
    "p['年']=list(map(lambda s: s.split('-')[0],p['日期']))\n",
    "p['月']=list(map(lambda s: s.split('-')[1],p['日期']))\n",
    "p['YMI']=list(map(lambda s: s.split('-')[0]+s.split('-')[1],p['日期']))\n",
    "p['HYI']=list(map(lambda s: str(s),p['HERD']))+p['年']"
   ]
  },
  {
   "cell_type": "code",
   "execution_count": 164,
   "metadata": {},
   "outputs": [],
   "source": [
    "b.rename(columns={'日期':'出生日期'},inplace = True)\n",
    "c.rename(columns={'日期':'产犊日期'},inplace = True)\n",
    "p.rename(columns={'日期':'配种日期'},inplace = True)"
   ]
  },
  {
   "cell_type": "code",
   "execution_count": 165,
   "metadata": {},
   "outputs": [
    {
     "data": {
      "text/html": [
       "<div>\n",
       "<style scoped>\n",
       "    .dataframe tbody tr th:only-of-type {\n",
       "        vertical-align: middle;\n",
       "    }\n",
       "\n",
       "    .dataframe tbody tr th {\n",
       "        vertical-align: top;\n",
       "    }\n",
       "\n",
       "    .dataframe thead th {\n",
       "        text-align: right;\n",
       "    }\n",
       "</style>\n",
       "<table border=\"1\" class=\"dataframe\">\n",
       "  <thead>\n",
       "    <tr style=\"text-align: right;\">\n",
       "      <th></th>\n",
       "      <th>FID</th>\n",
       "      <th>胎次</th>\n",
       "      <th>配种日期</th>\n",
       "      <th>HERD</th>\n",
       "      <th>配种员</th>\n",
       "      <th>年</th>\n",
       "      <th>月</th>\n",
       "      <th>YMI</th>\n",
       "      <th>HYI</th>\n",
       "    </tr>\n",
       "  </thead>\n",
       "  <tbody>\n",
       "    <tr>\n",
       "      <th>7144798</th>\n",
       "      <td>F1014000001</td>\n",
       "      <td>--</td>\n",
       "      <td>2015-02-15</td>\n",
       "      <td>1014</td>\n",
       "      <td>--</td>\n",
       "      <td>2015</td>\n",
       "      <td>02</td>\n",
       "      <td>201502</td>\n",
       "      <td>10142015</td>\n",
       "    </tr>\n",
       "    <tr>\n",
       "      <th>7141896</th>\n",
       "      <td>F1014000002</td>\n",
       "      <td>6</td>\n",
       "      <td>2013-01-28</td>\n",
       "      <td>1014</td>\n",
       "      <td>--</td>\n",
       "      <td>2013</td>\n",
       "      <td>01</td>\n",
       "      <td>201301</td>\n",
       "      <td>10142013</td>\n",
       "    </tr>\n",
       "    <tr>\n",
       "      <th>7144802</th>\n",
       "      <td>F1014000002</td>\n",
       "      <td>7</td>\n",
       "      <td>2014-01-28</td>\n",
       "      <td>1014</td>\n",
       "      <td>--</td>\n",
       "      <td>2014</td>\n",
       "      <td>01</td>\n",
       "      <td>201401</td>\n",
       "      <td>10142014</td>\n",
       "    </tr>\n",
       "    <tr>\n",
       "      <th>7144808</th>\n",
       "      <td>F1014000002</td>\n",
       "      <td>8</td>\n",
       "      <td>2015-04-05</td>\n",
       "      <td>1014</td>\n",
       "      <td>--</td>\n",
       "      <td>2015</td>\n",
       "      <td>04</td>\n",
       "      <td>201504</td>\n",
       "      <td>10142015</td>\n",
       "    </tr>\n",
       "    <tr>\n",
       "      <th>7144812</th>\n",
       "      <td>F1014000003</td>\n",
       "      <td>--</td>\n",
       "      <td>2015-02-05</td>\n",
       "      <td>1014</td>\n",
       "      <td>--</td>\n",
       "      <td>2015</td>\n",
       "      <td>02</td>\n",
       "      <td>201502</td>\n",
       "      <td>10142015</td>\n",
       "    </tr>\n",
       "  </tbody>\n",
       "</table>\n",
       "</div>"
      ],
      "text/plain": [
       "                 FID  胎次        配种日期  HERD 配种员     年   月     YMI       HYI\n",
       "7144798  F1014000001  --  2015-02-15  1014  --  2015  02  201502  10142015\n",
       "7141896  F1014000002   6  2013-01-28  1014  --  2013  01  201301  10142013\n",
       "7144802  F1014000002   7  2014-01-28  1014  --  2014  01  201401  10142014\n",
       "7144808  F1014000002   8  2015-04-05  1014  --  2015  04  201504  10142015\n",
       "7144812  F1014000003  --  2015-02-05  1014  --  2015  02  201502  10142015"
      ]
     },
     "execution_count": 165,
     "metadata": {},
     "output_type": "execute_result"
    }
   ],
   "source": [
    "p.head()"
   ]
  },
  {
   "cell_type": "markdown",
   "metadata": {},
   "source": [
    "# 检查各个月份对应效应的数量"
   ]
  },
  {
   "cell_type": "markdown",
   "metadata": {},
   "source": [
    "## 配种月份数量"
   ]
  },
  {
   "cell_type": "code",
   "execution_count": 166,
   "metadata": {},
   "outputs": [
    {
     "data": {
      "text/plain": [
       "Text(0,0.5,'数据量')"
      ]
     },
     "execution_count": 166,
     "metadata": {},
     "output_type": "execute_result"
    },
    {
     "data": {
      "image/png": "[encoded data removed]",
      "text/plain": [
       "<matplotlib.figure.Figure at 0x2022ad0d9b0>"
      ]
     },
     "metadata": {},
     "output_type": "display_data"
    }
   ],
   "source": [
    "ym= list(filter(lambda s: s in '010203040506070809101112',p[\"月\"]))\n",
    "ym=list(map(lambda s: int(s),ym))\n",
    "sns.distplot(ym,norm_hist=False,kde=False)\n",
    "plt.title('配种月数量分布')\n",
    "plt.xlabel('月份')\n",
    "plt.ylabel('数据量')"
   ]
  },
  {
   "cell_type": "markdown",
   "metadata": {},
   "source": [
    "## 产犊月份数量"
   ]
  },
  {
   "cell_type": "code",
   "execution_count": 167,
   "metadata": {},
   "outputs": [
    {
     "data": {
      "text/plain": [
       "Text(0,0.5,'数据量')"
      ]
     },
     "execution_count": 167,
     "metadata": {},
     "output_type": "execute_result"
    },
    {
     "data": {
      "image/png": "[encoded data removed]",
      "text/plain": [
       "<matplotlib.figure.Figure at 0x2033d83f710>"
      ]
     },
     "metadata": {},
     "output_type": "display_data"
    }
   ],
   "source": [
    "cm=list(filter(lambda s: s in '010203040506070809101112',c[\"月\"]))\n",
    "cm=list(map(lambda s: int(s),cm))\n",
    "sns.distplot(cm,norm_hist=False,kde=False)\n",
    "plt.title('产犊月数量分布')\n",
    "plt.xlabel('月份')\n",
    "plt.ylabel('数据量')"
   ]
  },
  {
   "cell_type": "markdown",
   "metadata": {},
   "source": [
    "## 出生月份数量"
   ]
  },
  {
   "cell_type": "code",
   "execution_count": 168,
   "metadata": {},
   "outputs": [
    {
     "data": {
      "text/plain": [
       "Text(0,0.5,'数据量')"
      ]
     },
     "execution_count": 168,
     "metadata": {},
     "output_type": "execute_result"
    },
    {
     "data": {
      "image/png": "[encoded data removed]",
      "text/plain": [
       "<matplotlib.figure.Figure at 0x2020d997080>"
      ]
     },
     "metadata": {},
     "output_type": "display_data"
    }
   ],
   "source": [
    "bm= list(filter(lambda s: s in '010203040506070809101112',b[\"月\"]))\n",
    "bm=list(map(lambda s: int(s),bm))\n",
    "sns.distplot(bm,norm_hist=False,kde=False)\n",
    "plt.title('出生月数量分布')\n",
    "plt.xlabel('月份')\n",
    "plt.ylabel('数据量')"
   ]
  },
  {
   "cell_type": "markdown",
   "metadata": {},
   "source": [
    "# 初配日龄AFS的计算"
   ]
  },
  {
   "cell_type": "markdown",
   "metadata": {},
   "source": [
    "初配日龄为青年牛性状，其意为每头牛首次配种的日期与其出生日期之差（单位：天）。计算时首先筛选出每头牛首次配种的时间，再与出生事件中各牛的出生日期相减即可。"
   ]
  },
  {
   "cell_type": "markdown",
   "metadata": {},
   "source": [
    "## 首次配种日期筛选"
   ]
  },
  {
   "cell_type": "code",
   "execution_count": 169,
   "metadata": {},
   "outputs": [],
   "source": [
    "p0=p[['FID','配种日期']]\n",
    "ps=p0['配种日期'].groupby([p0['FID']]).min()"
   ]
  },
  {
   "cell_type": "code",
   "execution_count": 170,
   "metadata": {},
   "outputs": [
    {
     "data": {
      "text/html": [
       "<div>\n",
       "<style scoped>\n",
       "    .dataframe tbody tr th:only-of-type {\n",
       "        vertical-align: middle;\n",
       "    }\n",
       "\n",
       "    .dataframe tbody tr th {\n",
       "        vertical-align: top;\n",
       "    }\n",
       "\n",
       "    .dataframe thead th {\n",
       "        text-align: right;\n",
       "    }\n",
       "</style>\n",
       "<table border=\"1\" class=\"dataframe\">\n",
       "  <thead>\n",
       "    <tr style=\"text-align: right;\">\n",
       "      <th></th>\n",
       "      <th>配种日期</th>\n",
       "    </tr>\n",
       "    <tr>\n",
       "      <th>FID</th>\n",
       "      <th></th>\n",
       "    </tr>\n",
       "  </thead>\n",
       "  <tbody>\n",
       "    <tr>\n",
       "      <th>F1014000001</th>\n",
       "      <td>2015-02-15</td>\n",
       "    </tr>\n",
       "    <tr>\n",
       "      <th>F1014000002</th>\n",
       "      <td>2013-01-28</td>\n",
       "    </tr>\n",
       "    <tr>\n",
       "      <th>F1014000003</th>\n",
       "      <td>2015-02-05</td>\n",
       "    </tr>\n",
       "    <tr>\n",
       "      <th>F1014000004</th>\n",
       "      <td>2013-02-12</td>\n",
       "    </tr>\n",
       "    <tr>\n",
       "      <th>F1014000005</th>\n",
       "      <td>2013-03-29</td>\n",
       "    </tr>\n",
       "  </tbody>\n",
       "</table>\n",
       "</div>"
      ],
      "text/plain": [
       "                   配种日期\n",
       "FID                    \n",
       "F1014000001  2015-02-15\n",
       "F1014000002  2013-01-28\n",
       "F1014000003  2015-02-05\n",
       "F1014000004  2013-02-12\n",
       "F1014000005  2013-03-29"
      ]
     },
     "execution_count": 170,
     "metadata": {},
     "output_type": "execute_result"
    }
   ],
   "source": [
    "pss=pd.DataFrame(ps)  #series转变为dataframe\n",
    "pss.head()"
   ]
  },
  {
   "cell_type": "markdown",
   "metadata": {},
   "source": [
    "## 出生事件筛选"
   ]
  },
  {
   "cell_type": "code",
   "execution_count": 171,
   "metadata": {},
   "outputs": [
    {
     "data": {
      "text/html": [
       "<div>\n",
       "<style scoped>\n",
       "    .dataframe tbody tr th:only-of-type {\n",
       "        vertical-align: middle;\n",
       "    }\n",
       "\n",
       "    .dataframe tbody tr th {\n",
       "        vertical-align: top;\n",
       "    }\n",
       "\n",
       "    .dataframe thead th {\n",
       "        text-align: right;\n",
       "    }\n",
       "</style>\n",
       "<table border=\"1\" class=\"dataframe\">\n",
       "  <thead>\n",
       "    <tr style=\"text-align: right;\">\n",
       "      <th></th>\n",
       "      <th>FID</th>\n",
       "      <th>出生日期</th>\n",
       "    </tr>\n",
       "  </thead>\n",
       "  <tbody>\n",
       "    <tr>\n",
       "      <th>7142208</th>\n",
       "      <td>F1014000079</td>\n",
       "      <td>2013-08-09</td>\n",
       "    </tr>\n",
       "    <tr>\n",
       "      <th>7142270</th>\n",
       "      <td>F1014000090</td>\n",
       "      <td>2013-09-06</td>\n",
       "    </tr>\n",
       "    <tr>\n",
       "      <th>7142272</th>\n",
       "      <td>F1014000091</td>\n",
       "      <td>2013-07-22</td>\n",
       "    </tr>\n",
       "    <tr>\n",
       "      <th>7158259</th>\n",
       "      <td>F10140000G1</td>\n",
       "      <td>2015-12-14</td>\n",
       "    </tr>\n",
       "    <tr>\n",
       "      <th>7176602</th>\n",
       "      <td>F10140000G2</td>\n",
       "      <td>2016-05-17</td>\n",
       "    </tr>\n",
       "  </tbody>\n",
       "</table>\n",
       "</div>"
      ],
      "text/plain": [
       "                 FID        出生日期\n",
       "7142208  F1014000079  2013-08-09\n",
       "7142270  F1014000090  2013-09-06\n",
       "7142272  F1014000091  2013-07-22\n",
       "7158259  F10140000G1  2015-12-14\n",
       "7176602  F10140000G2  2016-05-17"
      ]
     },
     "execution_count": 171,
     "metadata": {},
     "output_type": "execute_result"
    }
   ],
   "source": [
    "b1=b[['FID','出生日期']]\n",
    "b1.head()"
   ]
  },
  {
   "cell_type": "markdown",
   "metadata": {},
   "source": [
    "## 事件合并计算AFS"
   ]
  },
  {
   "cell_type": "code",
   "execution_count": 172,
   "metadata": {},
   "outputs": [
    {
     "data": {
      "text/html": [
       "<div>\n",
       "<style scoped>\n",
       "    .dataframe tbody tr th:only-of-type {\n",
       "        vertical-align: middle;\n",
       "    }\n",
       "\n",
       "    .dataframe tbody tr th {\n",
       "        vertical-align: top;\n",
       "    }\n",
       "\n",
       "    .dataframe thead th {\n",
       "        text-align: right;\n",
       "    }\n",
       "</style>\n",
       "<table border=\"1\" class=\"dataframe\">\n",
       "  <thead>\n",
       "    <tr style=\"text-align: right;\">\n",
       "      <th></th>\n",
       "      <th>FID</th>\n",
       "      <th>出生日期</th>\n",
       "      <th>配种日期</th>\n",
       "    </tr>\n",
       "  </thead>\n",
       "  <tbody>\n",
       "    <tr>\n",
       "      <th>7142208</th>\n",
       "      <td>F1014000079</td>\n",
       "      <td>2013-08-09</td>\n",
       "      <td>2015-03-26</td>\n",
       "    </tr>\n",
       "    <tr>\n",
       "      <th>7142270</th>\n",
       "      <td>F1014000090</td>\n",
       "      <td>2013-09-06</td>\n",
       "      <td>2015-03-31</td>\n",
       "    </tr>\n",
       "    <tr>\n",
       "      <th>7142272</th>\n",
       "      <td>F1014000091</td>\n",
       "      <td>2013-07-22</td>\n",
       "      <td>2015-05-10</td>\n",
       "    </tr>\n",
       "    <tr>\n",
       "      <th>7142684</th>\n",
       "      <td>F1014010064</td>\n",
       "      <td>2013-08-18</td>\n",
       "      <td>2015-04-28</td>\n",
       "    </tr>\n",
       "    <tr>\n",
       "      <th>7142686</th>\n",
       "      <td>F1014010065</td>\n",
       "      <td>2013-08-06</td>\n",
       "      <td>2015-07-28</td>\n",
       "    </tr>\n",
       "  </tbody>\n",
       "</table>\n",
       "</div>"
      ],
      "text/plain": [
       "                 FID        出生日期        配种日期\n",
       "7142208  F1014000079  2013-08-09  2015-03-26\n",
       "7142270  F1014000090  2013-09-06  2015-03-31\n",
       "7142272  F1014000091  2013-07-22  2015-05-10\n",
       "7142684  F1014010064  2013-08-18  2015-04-28\n",
       "7142686  F1014010065  2013-08-06  2015-07-28"
      ]
     },
     "execution_count": 172,
     "metadata": {},
     "output_type": "execute_result"
    }
   ],
   "source": [
    "bp=pd.merge(b1,pss,left_on=\"FID\",right_index=True)\n",
    "bp.head()"
   ]
  },
  {
   "cell_type": "code",
   "execution_count": 173,
   "metadata": {},
   "outputs": [
    {
     "data": {
      "text/html": [
       "<div>\n",
       "<style scoped>\n",
       "    .dataframe tbody tr th:only-of-type {\n",
       "        vertical-align: middle;\n",
       "    }\n",
       "\n",
       "    .dataframe tbody tr th {\n",
       "        vertical-align: top;\n",
       "    }\n",
       "\n",
       "    .dataframe thead th {\n",
       "        text-align: right;\n",
       "    }\n",
       "</style>\n",
       "<table border=\"1\" class=\"dataframe\">\n",
       "  <thead>\n",
       "    <tr style=\"text-align: right;\">\n",
       "      <th></th>\n",
       "      <th>FID</th>\n",
       "      <th>出生日期</th>\n",
       "      <th>配种日期</th>\n",
       "    </tr>\n",
       "  </thead>\n",
       "  <tbody>\n",
       "    <tr>\n",
       "      <th>7142208</th>\n",
       "      <td>F1014000079</td>\n",
       "      <td>2013-08-09</td>\n",
       "      <td>2015-03-26</td>\n",
       "    </tr>\n",
       "    <tr>\n",
       "      <th>7142270</th>\n",
       "      <td>F1014000090</td>\n",
       "      <td>2013-09-06</td>\n",
       "      <td>2015-03-31</td>\n",
       "    </tr>\n",
       "    <tr>\n",
       "      <th>7142272</th>\n",
       "      <td>F1014000091</td>\n",
       "      <td>2013-07-22</td>\n",
       "      <td>2015-05-10</td>\n",
       "    </tr>\n",
       "    <tr>\n",
       "      <th>7142684</th>\n",
       "      <td>F1014010064</td>\n",
       "      <td>2013-08-18</td>\n",
       "      <td>2015-04-28</td>\n",
       "    </tr>\n",
       "    <tr>\n",
       "      <th>7142686</th>\n",
       "      <td>F1014010065</td>\n",
       "      <td>2013-08-06</td>\n",
       "      <td>2015-07-28</td>\n",
       "    </tr>\n",
       "  </tbody>\n",
       "</table>\n",
       "</div>"
      ],
      "text/plain": [
       "                 FID       出生日期       配种日期\n",
       "7142208  F1014000079 2013-08-09 2015-03-26\n",
       "7142270  F1014000090 2013-09-06 2015-03-31\n",
       "7142272  F1014000091 2013-07-22 2015-05-10\n",
       "7142684  F1014010064 2013-08-18 2015-04-28\n",
       "7142686  F1014010065 2013-08-06 2015-07-28"
      ]
     },
     "execution_count": 173,
     "metadata": {},
     "output_type": "execute_result"
    }
   ],
   "source": [
    "bp['出生日期']=pd.to_datetime(bp['出生日期'],format=\"%Y-%m-%d\")\n",
    "bp['配种日期']=pd.to_datetime(bp['配种日期'],format=\"%Y-%m-%d\")\n",
    "AFS=bp\n",
    "AFS.head()"
   ]
  },
  {
   "cell_type": "code",
   "execution_count": 174,
   "metadata": {},
   "outputs": [
    {
     "data": {
      "text/plain": [
       "FID     139871\n",
       "出生日期    139871\n",
       "配种日期    139871\n",
       "AFS     139871\n",
       "dtype: int64"
      ]
     },
     "execution_count": 174,
     "metadata": {},
     "output_type": "execute_result"
    }
   ],
   "source": [
    "AFS['AFS']=AFS['配种日期']-AFS['出生日期']\n",
    "AFS['AFS']=list(map(lambda s: s.days,AFS['AFS']))  ##timedelta通过.days提取出int格式整数\n",
    "AFS.count()"
   ]
  },
  {
   "cell_type": "markdown",
   "metadata": {},
   "source": [
    "## AFS的分布"
   ]
  },
  {
   "cell_type": "code",
   "execution_count": 175,
   "metadata": {},
   "outputs": [],
   "source": [
    "AFS1=AFS[(AFS['AFS']>=270)&(AFS['AFS']<=900)]"
   ]
  },
  {
   "cell_type": "code",
   "execution_count": 176,
   "metadata": {},
   "outputs": [
    {
     "data": {
      "text/html": [
       "<div>\n",
       "<style scoped>\n",
       "    .dataframe tbody tr th:only-of-type {\n",
       "        vertical-align: middle;\n",
       "    }\n",
       "\n",
       "    .dataframe tbody tr th {\n",
       "        vertical-align: top;\n",
       "    }\n",
       "\n",
       "    .dataframe thead th {\n",
       "        text-align: right;\n",
       "    }\n",
       "</style>\n",
       "<table border=\"1\" class=\"dataframe\">\n",
       "  <thead>\n",
       "    <tr style=\"text-align: right;\">\n",
       "      <th></th>\n",
       "      <th>AFS</th>\n",
       "    </tr>\n",
       "  </thead>\n",
       "  <tbody>\n",
       "    <tr>\n",
       "      <th>count</th>\n",
       "      <td>136551.000000</td>\n",
       "    </tr>\n",
       "    <tr>\n",
       "      <th>mean</th>\n",
       "      <td>482.903574</td>\n",
       "    </tr>\n",
       "    <tr>\n",
       "      <th>std</th>\n",
       "      <td>83.388171</td>\n",
       "    </tr>\n",
       "    <tr>\n",
       "      <th>min</th>\n",
       "      <td>270.000000</td>\n",
       "    </tr>\n",
       "    <tr>\n",
       "      <th>25%</th>\n",
       "      <td>431.000000</td>\n",
       "    </tr>\n",
       "    <tr>\n",
       "      <th>50%</th>\n",
       "      <td>459.000000</td>\n",
       "    </tr>\n",
       "    <tr>\n",
       "      <th>75%</th>\n",
       "      <td>505.000000</td>\n",
       "    </tr>\n",
       "    <tr>\n",
       "      <th>max</th>\n",
       "      <td>900.000000</td>\n",
       "    </tr>\n",
       "  </tbody>\n",
       "</table>\n",
       "</div>"
      ],
      "text/plain": [
       "                 AFS\n",
       "count  136551.000000\n",
       "mean      482.903574\n",
       "std        83.388171\n",
       "min       270.000000\n",
       "25%       431.000000\n",
       "50%       459.000000\n",
       "75%       505.000000\n",
       "max       900.000000"
      ]
     },
     "execution_count": 176,
     "metadata": {},
     "output_type": "execute_result"
    }
   ],
   "source": [
    "AFS1.describe()"
   ]
  },
  {
   "cell_type": "code",
   "execution_count": 177,
   "metadata": {},
   "outputs": [
    {
     "data": {
      "text/plain": [
       "Text(0.5,1,'AFS分布')"
      ]
     },
     "execution_count": 177,
     "metadata": {},
     "output_type": "execute_result"
    },
    {
     "data": {
      "image/png": "[encoded data removed]",
      "text/plain": [
       "<matplotlib.figure.Figure at 0x2020d9ee1d0>"
      ]
     },
     "metadata": {},
     "output_type": "display_data"
    }
   ],
   "source": [
    "sns.distplot(AFS1['AFS'],norm_hist=False,kde=False)\n",
    "plt.title('AFS分布')"
   ]
  },
  {
   "cell_type": "markdown",
   "metadata": {},
   "source": [
    "# 初产日龄AFC的计算"
   ]
  },
  {
   "cell_type": "markdown",
   "metadata": {},
   "source": [
    "初产日龄为青年牛性状，当每头牛胎次为1时即为第一次产犊，产犊的日期与该牛出生日期之差（单位：天）即为初产日龄性状。\n",
    "\n",
    "计算方法：先从产犊事件中筛选出胎次=1时各牛的产犊日期，再与出生事件中各牛出生日期相减即可。"
   ]
  },
  {
   "cell_type": "markdown",
   "metadata": {},
   "source": [
    "## 产犊事件筛选"
   ]
  },
  {
   "cell_type": "code",
   "execution_count": 178,
   "metadata": {},
   "outputs": [
    {
     "data": {
      "text/html": [
       "<div>\n",
       "<style scoped>\n",
       "    .dataframe tbody tr th:only-of-type {\n",
       "        vertical-align: middle;\n",
       "    }\n",
       "\n",
       "    .dataframe tbody tr th {\n",
       "        vertical-align: top;\n",
       "    }\n",
       "\n",
       "    .dataframe thead th {\n",
       "        text-align: right;\n",
       "    }\n",
       "</style>\n",
       "<table border=\"1\" class=\"dataframe\">\n",
       "  <thead>\n",
       "    <tr style=\"text-align: right;\">\n",
       "      <th></th>\n",
       "      <th>FID</th>\n",
       "      <th>产犊日期</th>\n",
       "    </tr>\n",
       "  </thead>\n",
       "  <tbody>\n",
       "    <tr>\n",
       "      <th>7144919</th>\n",
       "      <td>F1014000016</td>\n",
       "      <td>2015-01-15</td>\n",
       "    </tr>\n",
       "    <tr>\n",
       "      <th>7145004</th>\n",
       "      <td>F1014000026</td>\n",
       "      <td>2014-11-03</td>\n",
       "    </tr>\n",
       "    <tr>\n",
       "      <th>7145102</th>\n",
       "      <td>F1014000038</td>\n",
       "      <td>2014-10-07</td>\n",
       "    </tr>\n",
       "    <tr>\n",
       "      <th>7145114</th>\n",
       "      <td>F1014000040</td>\n",
       "      <td>2015-02-16</td>\n",
       "    </tr>\n",
       "    <tr>\n",
       "      <th>7145497</th>\n",
       "      <td>F1014000079</td>\n",
       "      <td>2015-12-27</td>\n",
       "    </tr>\n",
       "  </tbody>\n",
       "</table>\n",
       "</div>"
      ],
      "text/plain": [
       "                 FID        产犊日期\n",
       "7144919  F1014000016  2015-01-15\n",
       "7145004  F1014000026  2014-11-03\n",
       "7145102  F1014000038  2014-10-07\n",
       "7145114  F1014000040  2015-02-16\n",
       "7145497  F1014000079  2015-12-27"
      ]
     },
     "execution_count": 178,
     "metadata": {},
     "output_type": "execute_result"
    }
   ],
   "source": [
    "c1=c[c['胎次']==\"1\"]\n",
    "c1=c1[['FID','产犊日期']]\n",
    "c1.head()"
   ]
  },
  {
   "cell_type": "markdown",
   "metadata": {},
   "source": [
    "## 与出生日期配对并相减"
   ]
  },
  {
   "cell_type": "code",
   "execution_count": 179,
   "metadata": {},
   "outputs": [
    {
     "data": {
      "text/html": [
       "<div>\n",
       "<style scoped>\n",
       "    .dataframe tbody tr th:only-of-type {\n",
       "        vertical-align: middle;\n",
       "    }\n",
       "\n",
       "    .dataframe tbody tr th {\n",
       "        vertical-align: top;\n",
       "    }\n",
       "\n",
       "    .dataframe thead th {\n",
       "        text-align: right;\n",
       "    }\n",
       "</style>\n",
       "<table border=\"1\" class=\"dataframe\">\n",
       "  <thead>\n",
       "    <tr style=\"text-align: right;\">\n",
       "      <th></th>\n",
       "      <th>FID</th>\n",
       "      <th>出生日期</th>\n",
       "      <th>产犊日期</th>\n",
       "    </tr>\n",
       "  </thead>\n",
       "  <tbody>\n",
       "    <tr>\n",
       "      <th>0</th>\n",
       "      <td>F1014000079</td>\n",
       "      <td>2013-08-09</td>\n",
       "      <td>2015-12-27</td>\n",
       "    </tr>\n",
       "    <tr>\n",
       "      <th>1</th>\n",
       "      <td>F1014000090</td>\n",
       "      <td>2013-09-06</td>\n",
       "      <td>2016-01-05</td>\n",
       "    </tr>\n",
       "    <tr>\n",
       "      <th>2</th>\n",
       "      <td>F1014010064</td>\n",
       "      <td>2013-08-18</td>\n",
       "      <td>2016-01-26</td>\n",
       "    </tr>\n",
       "    <tr>\n",
       "      <th>3</th>\n",
       "      <td>F1014010065</td>\n",
       "      <td>2013-08-06</td>\n",
       "      <td>2016-05-03</td>\n",
       "    </tr>\n",
       "    <tr>\n",
       "      <th>4</th>\n",
       "      <td>F1014011138</td>\n",
       "      <td>2013-08-04</td>\n",
       "      <td>2016-01-24</td>\n",
       "    </tr>\n",
       "  </tbody>\n",
       "</table>\n",
       "</div>"
      ],
      "text/plain": [
       "           FID        出生日期        产犊日期\n",
       "0  F1014000079  2013-08-09  2015-12-27\n",
       "1  F1014000090  2013-09-06  2016-01-05\n",
       "2  F1014010064  2013-08-18  2016-01-26\n",
       "3  F1014010065  2013-08-06  2016-05-03\n",
       "4  F1014011138  2013-08-04  2016-01-24"
      ]
     },
     "execution_count": 179,
     "metadata": {},
     "output_type": "execute_result"
    }
   ],
   "source": [
    "bc=pd.merge(b1,c1,on='FID')\n",
    "bc.head()"
   ]
  },
  {
   "cell_type": "code",
   "execution_count": 180,
   "metadata": {},
   "outputs": [],
   "source": [
    "import datetime as dt"
   ]
  },
  {
   "cell_type": "code",
   "execution_count": 181,
   "metadata": {},
   "outputs": [
    {
     "data": {
      "text/html": [
       "<div>\n",
       "<style scoped>\n",
       "    .dataframe tbody tr th:only-of-type {\n",
       "        vertical-align: middle;\n",
       "    }\n",
       "\n",
       "    .dataframe tbody tr th {\n",
       "        vertical-align: top;\n",
       "    }\n",
       "\n",
       "    .dataframe thead th {\n",
       "        text-align: right;\n",
       "    }\n",
       "</style>\n",
       "<table border=\"1\" class=\"dataframe\">\n",
       "  <thead>\n",
       "    <tr style=\"text-align: right;\">\n",
       "      <th></th>\n",
       "      <th>FID</th>\n",
       "      <th>出生日期</th>\n",
       "      <th>产犊日期</th>\n",
       "    </tr>\n",
       "  </thead>\n",
       "  <tbody>\n",
       "    <tr>\n",
       "      <th>0</th>\n",
       "      <td>F1014000079</td>\n",
       "      <td>2013-08-09</td>\n",
       "      <td>2015-12-27</td>\n",
       "    </tr>\n",
       "    <tr>\n",
       "      <th>1</th>\n",
       "      <td>F1014000090</td>\n",
       "      <td>2013-09-06</td>\n",
       "      <td>2016-01-05</td>\n",
       "    </tr>\n",
       "    <tr>\n",
       "      <th>2</th>\n",
       "      <td>F1014010064</td>\n",
       "      <td>2013-08-18</td>\n",
       "      <td>2016-01-26</td>\n",
       "    </tr>\n",
       "    <tr>\n",
       "      <th>3</th>\n",
       "      <td>F1014010065</td>\n",
       "      <td>2013-08-06</td>\n",
       "      <td>2016-05-03</td>\n",
       "    </tr>\n",
       "    <tr>\n",
       "      <th>4</th>\n",
       "      <td>F1014011138</td>\n",
       "      <td>2013-08-04</td>\n",
       "      <td>2016-01-24</td>\n",
       "    </tr>\n",
       "  </tbody>\n",
       "</table>\n",
       "</div>"
      ],
      "text/plain": [
       "           FID       出生日期       产犊日期\n",
       "0  F1014000079 2013-08-09 2015-12-27\n",
       "1  F1014000090 2013-09-06 2016-01-05\n",
       "2  F1014010064 2013-08-18 2016-01-26\n",
       "3  F1014010065 2013-08-06 2016-05-03\n",
       "4  F1014011138 2013-08-04 2016-01-24"
      ]
     },
     "execution_count": 181,
     "metadata": {},
     "output_type": "execute_result"
    }
   ],
   "source": [
    "bc['出生日期']=pd.to_datetime(bc['出生日期'],format=\"%Y-%m-%d\")\n",
    "bc['产犊日期']=pd.to_datetime(bc['产犊日期'],format=\"%Y-%m-%d\")\n",
    "AFC=bc\n",
    "AFC.head()"
   ]
  },
  {
   "cell_type": "code",
   "execution_count": 182,
   "metadata": {},
   "outputs": [
    {
     "data": {
      "text/html": [
       "<div>\n",
       "<style scoped>\n",
       "    .dataframe tbody tr th:only-of-type {\n",
       "        vertical-align: middle;\n",
       "    }\n",
       "\n",
       "    .dataframe tbody tr th {\n",
       "        vertical-align: top;\n",
       "    }\n",
       "\n",
       "    .dataframe thead th {\n",
       "        text-align: right;\n",
       "    }\n",
       "</style>\n",
       "<table border=\"1\" class=\"dataframe\">\n",
       "  <thead>\n",
       "    <tr style=\"text-align: right;\">\n",
       "      <th></th>\n",
       "      <th>FID</th>\n",
       "      <th>出生日期</th>\n",
       "      <th>产犊日期</th>\n",
       "      <th>AFC</th>\n",
       "    </tr>\n",
       "  </thead>\n",
       "  <tbody>\n",
       "    <tr>\n",
       "      <th>0</th>\n",
       "      <td>F1014000079</td>\n",
       "      <td>2013-08-09</td>\n",
       "      <td>2015-12-27</td>\n",
       "      <td>870</td>\n",
       "    </tr>\n",
       "    <tr>\n",
       "      <th>1</th>\n",
       "      <td>F1014000090</td>\n",
       "      <td>2013-09-06</td>\n",
       "      <td>2016-01-05</td>\n",
       "      <td>851</td>\n",
       "    </tr>\n",
       "    <tr>\n",
       "      <th>2</th>\n",
       "      <td>F1014010064</td>\n",
       "      <td>2013-08-18</td>\n",
       "      <td>2016-01-26</td>\n",
       "      <td>891</td>\n",
       "    </tr>\n",
       "    <tr>\n",
       "      <th>3</th>\n",
       "      <td>F1014010065</td>\n",
       "      <td>2013-08-06</td>\n",
       "      <td>2016-05-03</td>\n",
       "      <td>1001</td>\n",
       "    </tr>\n",
       "    <tr>\n",
       "      <th>4</th>\n",
       "      <td>F1014011138</td>\n",
       "      <td>2013-08-04</td>\n",
       "      <td>2016-01-24</td>\n",
       "      <td>903</td>\n",
       "    </tr>\n",
       "  </tbody>\n",
       "</table>\n",
       "</div>"
      ],
      "text/plain": [
       "           FID       出生日期       产犊日期   AFC\n",
       "0  F1014000079 2013-08-09 2015-12-27   870\n",
       "1  F1014000090 2013-09-06 2016-01-05   851\n",
       "2  F1014010064 2013-08-18 2016-01-26   891\n",
       "3  F1014010065 2013-08-06 2016-05-03  1001\n",
       "4  F1014011138 2013-08-04 2016-01-24   903"
      ]
     },
     "execution_count": 182,
     "metadata": {},
     "output_type": "execute_result"
    }
   ],
   "source": [
    "AFC['AFC']=AFC['产犊日期']-AFC['出生日期']\n",
    "AFC['AFC']=list(map(lambda s: s.days,AFC['AFC']))  ##timedelta通过.days提取出int格式整数\n",
    "AFC.head()"
   ]
  },
  {
   "cell_type": "markdown",
   "metadata": {},
   "source": [
    "### AFC的分布"
   ]
  },
  {
   "cell_type": "code",
   "execution_count": 183,
   "metadata": {},
   "outputs": [],
   "source": [
    "AFC1=AFC[(AFC['AFC']>=500)&(AFC['AFC']<=1100)]"
   ]
  },
  {
   "cell_type": "code",
   "execution_count": 184,
   "metadata": {},
   "outputs": [
    {
     "data": {
      "text/html": [
       "<div>\n",
       "<style scoped>\n",
       "    .dataframe tbody tr th:only-of-type {\n",
       "        vertical-align: middle;\n",
       "    }\n",
       "\n",
       "    .dataframe tbody tr th {\n",
       "        vertical-align: top;\n",
       "    }\n",
       "\n",
       "    .dataframe thead th {\n",
       "        text-align: right;\n",
       "    }\n",
       "</style>\n",
       "<table border=\"1\" class=\"dataframe\">\n",
       "  <thead>\n",
       "    <tr style=\"text-align: right;\">\n",
       "      <th></th>\n",
       "      <th>AFC</th>\n",
       "    </tr>\n",
       "  </thead>\n",
       "  <tbody>\n",
       "    <tr>\n",
       "      <th>count</th>\n",
       "      <td>104568.000000</td>\n",
       "    </tr>\n",
       "    <tr>\n",
       "      <th>mean</th>\n",
       "      <td>785.222735</td>\n",
       "    </tr>\n",
       "    <tr>\n",
       "      <th>std</th>\n",
       "      <td>83.653618</td>\n",
       "    </tr>\n",
       "    <tr>\n",
       "      <th>min</th>\n",
       "      <td>505.000000</td>\n",
       "    </tr>\n",
       "    <tr>\n",
       "      <th>25%</th>\n",
       "      <td>726.000000</td>\n",
       "    </tr>\n",
       "    <tr>\n",
       "      <th>50%</th>\n",
       "      <td>767.000000</td>\n",
       "    </tr>\n",
       "    <tr>\n",
       "      <th>75%</th>\n",
       "      <td>821.000000</td>\n",
       "    </tr>\n",
       "    <tr>\n",
       "      <th>max</th>\n",
       "      <td>1100.000000</td>\n",
       "    </tr>\n",
       "  </tbody>\n",
       "</table>\n",
       "</div>"
      ],
      "text/plain": [
       "                 AFC\n",
       "count  104568.000000\n",
       "mean      785.222735\n",
       "std        83.653618\n",
       "min       505.000000\n",
       "25%       726.000000\n",
       "50%       767.000000\n",
       "75%       821.000000\n",
       "max      1100.000000"
      ]
     },
     "execution_count": 184,
     "metadata": {},
     "output_type": "execute_result"
    }
   ],
   "source": [
    "AFC1.describe()"
   ]
  },
  {
   "cell_type": "code",
   "execution_count": 185,
   "metadata": {},
   "outputs": [
    {
     "data": {
      "text/plain": [
       "Text(0.5,1,'AFC分布')"
      ]
     },
     "execution_count": 185,
     "metadata": {},
     "output_type": "execute_result"
    },
    {
     "data": {
      "image/png": "[encoded data removed]",
      "text/plain": [
       "<matplotlib.figure.Figure at 0x2020d0215f8>"
      ]
     },
     "metadata": {},
     "output_type": "display_data"
    }
   ],
   "source": [
    "sns.distplot(AFC1['AFC'],norm_hist=False,kde=False)\n",
    "plt.title('AFC分布')"
   ]
  },
  {
   "cell_type": "markdown",
   "metadata": {},
   "source": [
    "# 首次与末次配种间隔IFL的计算"
   ]
  },
  {
   "cell_type": "markdown",
   "metadata": {},
   "source": [
    "首末配种间隔为青年牛与经产牛共有的性状之一。计算IFL时需先提取牛只每个胎次内第一次配种和最后一次配种的时间，之后相减即可。若首配就配上，则IFL=0"
   ]
  },
  {
   "cell_type": "code",
   "execution_count": 186,
   "metadata": {},
   "outputs": [
    {
     "data": {
      "text/html": [
       "<div>\n",
       "<style scoped>\n",
       "    .dataframe tbody tr th:only-of-type {\n",
       "        vertical-align: middle;\n",
       "    }\n",
       "\n",
       "    .dataframe tbody tr th {\n",
       "        vertical-align: top;\n",
       "    }\n",
       "\n",
       "    .dataframe thead th {\n",
       "        text-align: right;\n",
       "    }\n",
       "</style>\n",
       "<table border=\"1\" class=\"dataframe\">\n",
       "  <thead>\n",
       "    <tr style=\"text-align: right;\">\n",
       "      <th></th>\n",
       "      <th>FID</th>\n",
       "      <th>胎次</th>\n",
       "      <th>配种日期</th>\n",
       "      <th>HERD</th>\n",
       "      <th>配种员</th>\n",
       "      <th>年</th>\n",
       "      <th>月</th>\n",
       "      <th>YMI</th>\n",
       "      <th>HYI</th>\n",
       "    </tr>\n",
       "  </thead>\n",
       "  <tbody>\n",
       "    <tr>\n",
       "      <th>7144798</th>\n",
       "      <td>F1014000001</td>\n",
       "      <td>--</td>\n",
       "      <td>2015-02-15</td>\n",
       "      <td>1014</td>\n",
       "      <td>--</td>\n",
       "      <td>2015</td>\n",
       "      <td>02</td>\n",
       "      <td>201502</td>\n",
       "      <td>10142015</td>\n",
       "    </tr>\n",
       "    <tr>\n",
       "      <th>7141896</th>\n",
       "      <td>F1014000002</td>\n",
       "      <td>6</td>\n",
       "      <td>2013-01-28</td>\n",
       "      <td>1014</td>\n",
       "      <td>--</td>\n",
       "      <td>2013</td>\n",
       "      <td>01</td>\n",
       "      <td>201301</td>\n",
       "      <td>10142013</td>\n",
       "    </tr>\n",
       "    <tr>\n",
       "      <th>7144802</th>\n",
       "      <td>F1014000002</td>\n",
       "      <td>7</td>\n",
       "      <td>2014-01-28</td>\n",
       "      <td>1014</td>\n",
       "      <td>--</td>\n",
       "      <td>2014</td>\n",
       "      <td>01</td>\n",
       "      <td>201401</td>\n",
       "      <td>10142014</td>\n",
       "    </tr>\n",
       "    <tr>\n",
       "      <th>7144808</th>\n",
       "      <td>F1014000002</td>\n",
       "      <td>8</td>\n",
       "      <td>2015-04-05</td>\n",
       "      <td>1014</td>\n",
       "      <td>--</td>\n",
       "      <td>2015</td>\n",
       "      <td>04</td>\n",
       "      <td>201504</td>\n",
       "      <td>10142015</td>\n",
       "    </tr>\n",
       "    <tr>\n",
       "      <th>7144812</th>\n",
       "      <td>F1014000003</td>\n",
       "      <td>--</td>\n",
       "      <td>2015-02-05</td>\n",
       "      <td>1014</td>\n",
       "      <td>--</td>\n",
       "      <td>2015</td>\n",
       "      <td>02</td>\n",
       "      <td>201502</td>\n",
       "      <td>10142015</td>\n",
       "    </tr>\n",
       "  </tbody>\n",
       "</table>\n",
       "</div>"
      ],
      "text/plain": [
       "                 FID  胎次        配种日期  HERD 配种员     年   月     YMI       HYI\n",
       "7144798  F1014000001  --  2015-02-15  1014  --  2015  02  201502  10142015\n",
       "7141896  F1014000002   6  2013-01-28  1014  --  2013  01  201301  10142013\n",
       "7144802  F1014000002   7  2014-01-28  1014  --  2014  01  201401  10142014\n",
       "7144808  F1014000002   8  2015-04-05  1014  --  2015  04  201504  10142015\n",
       "7144812  F1014000003  --  2015-02-05  1014  --  2015  02  201502  10142015"
      ]
     },
     "execution_count": 186,
     "metadata": {},
     "output_type": "execute_result"
    }
   ],
   "source": [
    "p.head()"
   ]
  },
  {
   "cell_type": "markdown",
   "metadata": {},
   "source": [
    "## 各胎次首次配种日期的筛选"
   ]
  },
  {
   "cell_type": "code",
   "execution_count": 187,
   "metadata": {},
   "outputs": [
    {
     "name": "stderr",
     "output_type": "stream",
     "text": [
      "E:\\Anaconda\\lib\\site-packages\\ipykernel_launcher.py:3: SettingWithCopyWarning: \n",
      "A value is trying to be set on a copy of a slice from a DataFrame.\n",
      "Try using .loc[row_indexer,col_indexer] = value instead\n",
      "\n",
      "See the caveats in the documentation: http://pandas.pydata.org/pandas-docs/stable/indexing.html#indexing-view-versus-copy\n",
      "  This is separate from the ipykernel package so we can avoid doing imports until\n"
     ]
    },
    {
     "data": {
      "text/html": [
       "<div>\n",
       "<style scoped>\n",
       "    .dataframe tbody tr th:only-of-type {\n",
       "        vertical-align: middle;\n",
       "    }\n",
       "\n",
       "    .dataframe tbody tr th {\n",
       "        vertical-align: top;\n",
       "    }\n",
       "\n",
       "    .dataframe thead th {\n",
       "        text-align: right;\n",
       "    }\n",
       "</style>\n",
       "<table border=\"1\" class=\"dataframe\">\n",
       "  <thead>\n",
       "    <tr style=\"text-align: right;\">\n",
       "      <th></th>\n",
       "      <th>FID</th>\n",
       "      <th>胎次</th>\n",
       "      <th>配种日期</th>\n",
       "      <th>cowtai</th>\n",
       "    </tr>\n",
       "  </thead>\n",
       "  <tbody>\n",
       "    <tr>\n",
       "      <th>7144798</th>\n",
       "      <td>F1014000001</td>\n",
       "      <td>--</td>\n",
       "      <td>2015-02-15</td>\n",
       "      <td>F1014000001.--</td>\n",
       "    </tr>\n",
       "    <tr>\n",
       "      <th>7141896</th>\n",
       "      <td>F1014000002</td>\n",
       "      <td>6</td>\n",
       "      <td>2013-01-28</td>\n",
       "      <td>F1014000002.6</td>\n",
       "    </tr>\n",
       "    <tr>\n",
       "      <th>7144802</th>\n",
       "      <td>F1014000002</td>\n",
       "      <td>7</td>\n",
       "      <td>2014-01-28</td>\n",
       "      <td>F1014000002.7</td>\n",
       "    </tr>\n",
       "    <tr>\n",
       "      <th>7144808</th>\n",
       "      <td>F1014000002</td>\n",
       "      <td>8</td>\n",
       "      <td>2015-04-05</td>\n",
       "      <td>F1014000002.8</td>\n",
       "    </tr>\n",
       "    <tr>\n",
       "      <th>7144812</th>\n",
       "      <td>F1014000003</td>\n",
       "      <td>--</td>\n",
       "      <td>2015-02-05</td>\n",
       "      <td>F1014000003.--</td>\n",
       "    </tr>\n",
       "  </tbody>\n",
       "</table>\n",
       "</div>"
      ],
      "text/plain": [
       "                 FID  胎次        配种日期          cowtai\n",
       "7144798  F1014000001  --  2015-02-15  F1014000001.--\n",
       "7141896  F1014000002   6  2013-01-28   F1014000002.6\n",
       "7144802  F1014000002   7  2014-01-28   F1014000002.7\n",
       "7144808  F1014000002   8  2015-04-05   F1014000002.8\n",
       "7144812  F1014000003  --  2015-02-05  F1014000003.--"
      ]
     },
     "execution_count": 187,
     "metadata": {},
     "output_type": "execute_result"
    }
   ],
   "source": [
    "p1=p[['FID','胎次','配种日期']]\n",
    "p2=p1\n",
    "p2['cowtai']=p1['FID']+'.'+p1['胎次']\n",
    "p2.head()"
   ]
  },
  {
   "cell_type": "code",
   "execution_count": 188,
   "metadata": {},
   "outputs": [],
   "source": [
    "pmd=p2['配种日期'].groupby([p2['cowtai']]).min()\n",
    "pMd=p2['配种日期'].groupby([p2['cowtai']]).max()"
   ]
  },
  {
   "cell_type": "code",
   "execution_count": 189,
   "metadata": {},
   "outputs": [
    {
     "data": {
      "text/html": [
       "<div>\n",
       "<style scoped>\n",
       "    .dataframe tbody tr th:only-of-type {\n",
       "        vertical-align: middle;\n",
       "    }\n",
       "\n",
       "    .dataframe tbody tr th {\n",
       "        vertical-align: top;\n",
       "    }\n",
       "\n",
       "    .dataframe thead th {\n",
       "        text-align: right;\n",
       "    }\n",
       "</style>\n",
       "<table border=\"1\" class=\"dataframe\">\n",
       "  <thead>\n",
       "    <tr style=\"text-align: right;\">\n",
       "      <th></th>\n",
       "      <th>配种日期</th>\n",
       "    </tr>\n",
       "    <tr>\n",
       "      <th>cowtai</th>\n",
       "      <th></th>\n",
       "    </tr>\n",
       "  </thead>\n",
       "  <tbody>\n",
       "    <tr>\n",
       "      <th>F1014000001.--</th>\n",
       "      <td>2015-02-15</td>\n",
       "    </tr>\n",
       "    <tr>\n",
       "      <th>F1014000002.6</th>\n",
       "      <td>2013-01-28</td>\n",
       "    </tr>\n",
       "    <tr>\n",
       "      <th>F1014000002.7</th>\n",
       "      <td>2014-01-28</td>\n",
       "    </tr>\n",
       "    <tr>\n",
       "      <th>F1014000002.8</th>\n",
       "      <td>2015-04-05</td>\n",
       "    </tr>\n",
       "    <tr>\n",
       "      <th>F1014000003.--</th>\n",
       "      <td>2015-02-05</td>\n",
       "    </tr>\n",
       "  </tbody>\n",
       "</table>\n",
       "</div>"
      ],
      "text/plain": [
       "                      配种日期\n",
       "cowtai                    \n",
       "F1014000001.--  2015-02-15\n",
       "F1014000002.6   2013-01-28\n",
       "F1014000002.7   2014-01-28\n",
       "F1014000002.8   2015-04-05\n",
       "F1014000003.--  2015-02-05"
      ]
     },
     "execution_count": 189,
     "metadata": {},
     "output_type": "execute_result"
    }
   ],
   "source": [
    "pm=pd.DataFrame(pmd)  #series转变为dataframe\n",
    "pM=pMd.to_frame()\n",
    "pm.head()"
   ]
  },
  {
   "cell_type": "markdown",
   "metadata": {},
   "source": [
    "## 注意此时生成的是以cowtai为行索引的dataframe，合并时需按索引合并"
   ]
  },
  {
   "cell_type": "code",
   "execution_count": 190,
   "metadata": {},
   "outputs": [
    {
     "data": {
      "text/html": [
       "<div>\n",
       "<style scoped>\n",
       "    .dataframe tbody tr th:only-of-type {\n",
       "        vertical-align: middle;\n",
       "    }\n",
       "\n",
       "    .dataframe tbody tr th {\n",
       "        vertical-align: top;\n",
       "    }\n",
       "\n",
       "    .dataframe thead th {\n",
       "        text-align: right;\n",
       "    }\n",
       "</style>\n",
       "<table border=\"1\" class=\"dataframe\">\n",
       "  <thead>\n",
       "    <tr style=\"text-align: right;\">\n",
       "      <th></th>\n",
       "      <th>配种日期_min</th>\n",
       "      <th>配种日期_max</th>\n",
       "    </tr>\n",
       "    <tr>\n",
       "      <th>cowtai</th>\n",
       "      <th></th>\n",
       "      <th></th>\n",
       "    </tr>\n",
       "  </thead>\n",
       "  <tbody>\n",
       "    <tr>\n",
       "      <th>F1014000001.--</th>\n",
       "      <td>2015-02-15</td>\n",
       "      <td>2015-02-15</td>\n",
       "    </tr>\n",
       "    <tr>\n",
       "      <th>F1014000002.6</th>\n",
       "      <td>2013-01-28</td>\n",
       "      <td>2013-01-28</td>\n",
       "    </tr>\n",
       "    <tr>\n",
       "      <th>F1014000002.7</th>\n",
       "      <td>2014-01-28</td>\n",
       "      <td>2014-01-28</td>\n",
       "    </tr>\n",
       "    <tr>\n",
       "      <th>F1014000002.8</th>\n",
       "      <td>2015-04-05</td>\n",
       "      <td>2015-04-05</td>\n",
       "    </tr>\n",
       "    <tr>\n",
       "      <th>F1014000003.--</th>\n",
       "      <td>2015-02-05</td>\n",
       "      <td>2015-02-05</td>\n",
       "    </tr>\n",
       "  </tbody>\n",
       "</table>\n",
       "</div>"
      ],
      "text/plain": [
       "                  配种日期_min    配种日期_max\n",
       "cowtai                                \n",
       "F1014000001.--  2015-02-15  2015-02-15\n",
       "F1014000002.6   2013-01-28  2013-01-28\n",
       "F1014000002.7   2014-01-28  2014-01-28\n",
       "F1014000002.8   2015-04-05  2015-04-05\n",
       "F1014000003.--  2015-02-05  2015-02-05"
      ]
     },
     "execution_count": 190,
     "metadata": {},
     "output_type": "execute_result"
    }
   ],
   "source": [
    "pmM=pd.merge(pm,pM,left_index=True,right_index=True,suffixes=('_min','_max'))\n",
    "pmM.head()"
   ]
  },
  {
   "cell_type": "code",
   "execution_count": 191,
   "metadata": {},
   "outputs": [
    {
     "data": {
      "text/html": [
       "<div>\n",
       "<style scoped>\n",
       "    .dataframe tbody tr th:only-of-type {\n",
       "        vertical-align: middle;\n",
       "    }\n",
       "\n",
       "    .dataframe tbody tr th {\n",
       "        vertical-align: top;\n",
       "    }\n",
       "\n",
       "    .dataframe thead th {\n",
       "        text-align: right;\n",
       "    }\n",
       "</style>\n",
       "<table border=\"1\" class=\"dataframe\">\n",
       "  <thead>\n",
       "    <tr style=\"text-align: right;\">\n",
       "      <th></th>\n",
       "      <th>配种日期_min</th>\n",
       "      <th>配种日期_max</th>\n",
       "    </tr>\n",
       "    <tr>\n",
       "      <th>cowtai</th>\n",
       "      <th></th>\n",
       "      <th></th>\n",
       "    </tr>\n",
       "  </thead>\n",
       "  <tbody>\n",
       "    <tr>\n",
       "      <th>F1014000001.--</th>\n",
       "      <td>2015-02-15</td>\n",
       "      <td>2015-02-15</td>\n",
       "    </tr>\n",
       "    <tr>\n",
       "      <th>F1014000002.6</th>\n",
       "      <td>2013-01-28</td>\n",
       "      <td>2013-01-28</td>\n",
       "    </tr>\n",
       "    <tr>\n",
       "      <th>F1014000002.7</th>\n",
       "      <td>2014-01-28</td>\n",
       "      <td>2014-01-28</td>\n",
       "    </tr>\n",
       "    <tr>\n",
       "      <th>F1014000002.8</th>\n",
       "      <td>2015-04-05</td>\n",
       "      <td>2015-04-05</td>\n",
       "    </tr>\n",
       "    <tr>\n",
       "      <th>F1014000003.--</th>\n",
       "      <td>2015-02-05</td>\n",
       "      <td>2015-02-05</td>\n",
       "    </tr>\n",
       "  </tbody>\n",
       "</table>\n",
       "</div>"
      ],
      "text/plain": [
       "                 配种日期_min   配种日期_max\n",
       "cowtai                              \n",
       "F1014000001.-- 2015-02-15 2015-02-15\n",
       "F1014000002.6  2013-01-28 2013-01-28\n",
       "F1014000002.7  2014-01-28 2014-01-28\n",
       "F1014000002.8  2015-04-05 2015-04-05\n",
       "F1014000003.-- 2015-02-05 2015-02-05"
      ]
     },
     "execution_count": 191,
     "metadata": {},
     "output_type": "execute_result"
    }
   ],
   "source": [
    "pmM['配种日期_min']=pd.to_datetime(pmM['配种日期_min'],format=\"%Y-%m-%d\")\n",
    "pmM['配种日期_max']=pd.to_datetime(pmM['配种日期_max'],format=\"%Y-%m-%d\")\n",
    "IFL=pmM\n",
    "IFL.head()"
   ]
  },
  {
   "cell_type": "code",
   "execution_count": 192,
   "metadata": {},
   "outputs": [
    {
     "data": {
      "text/html": [
       "<div>\n",
       "<style scoped>\n",
       "    .dataframe tbody tr th:only-of-type {\n",
       "        vertical-align: middle;\n",
       "    }\n",
       "\n",
       "    .dataframe tbody tr th {\n",
       "        vertical-align: top;\n",
       "    }\n",
       "\n",
       "    .dataframe thead th {\n",
       "        text-align: right;\n",
       "    }\n",
       "</style>\n",
       "<table border=\"1\" class=\"dataframe\">\n",
       "  <thead>\n",
       "    <tr style=\"text-align: right;\">\n",
       "      <th></th>\n",
       "      <th>配种日期_min</th>\n",
       "      <th>配种日期_max</th>\n",
       "      <th>IFL</th>\n",
       "    </tr>\n",
       "    <tr>\n",
       "      <th>cowtai</th>\n",
       "      <th></th>\n",
       "      <th></th>\n",
       "      <th></th>\n",
       "    </tr>\n",
       "  </thead>\n",
       "  <tbody>\n",
       "    <tr>\n",
       "      <th>F1014000001.--</th>\n",
       "      <td>2015-02-15</td>\n",
       "      <td>2015-02-15</td>\n",
       "      <td>0</td>\n",
       "    </tr>\n",
       "    <tr>\n",
       "      <th>F1014000002.6</th>\n",
       "      <td>2013-01-28</td>\n",
       "      <td>2013-01-28</td>\n",
       "      <td>0</td>\n",
       "    </tr>\n",
       "    <tr>\n",
       "      <th>F1014000002.7</th>\n",
       "      <td>2014-01-28</td>\n",
       "      <td>2014-01-28</td>\n",
       "      <td>0</td>\n",
       "    </tr>\n",
       "    <tr>\n",
       "      <th>F1014000002.8</th>\n",
       "      <td>2015-04-05</td>\n",
       "      <td>2015-04-05</td>\n",
       "      <td>0</td>\n",
       "    </tr>\n",
       "    <tr>\n",
       "      <th>F1014000003.--</th>\n",
       "      <td>2015-02-05</td>\n",
       "      <td>2015-02-05</td>\n",
       "      <td>0</td>\n",
       "    </tr>\n",
       "  </tbody>\n",
       "</table>\n",
       "</div>"
      ],
      "text/plain": [
       "                 配种日期_min   配种日期_max  IFL\n",
       "cowtai                                   \n",
       "F1014000001.-- 2015-02-15 2015-02-15    0\n",
       "F1014000002.6  2013-01-28 2013-01-28    0\n",
       "F1014000002.7  2014-01-28 2014-01-28    0\n",
       "F1014000002.8  2015-04-05 2015-04-05    0\n",
       "F1014000003.-- 2015-02-05 2015-02-05    0"
      ]
     },
     "execution_count": 192,
     "metadata": {},
     "output_type": "execute_result"
    }
   ],
   "source": [
    "IFL['IFL']=IFL['配种日期_max']-IFL['配种日期_min']\n",
    "IFL['IFL']=list(map(lambda s: s.days,IFL['IFL']))  ##timedelta通过.days提取出int格式整数\n",
    "IFL.head()"
   ]
  },
  {
   "cell_type": "code",
   "execution_count": 193,
   "metadata": {},
   "outputs": [
    {
     "data": {
      "text/html": [
       "<div>\n",
       "<style scoped>\n",
       "    .dataframe tbody tr th:only-of-type {\n",
       "        vertical-align: middle;\n",
       "    }\n",
       "\n",
       "    .dataframe tbody tr th {\n",
       "        vertical-align: top;\n",
       "    }\n",
       "\n",
       "    .dataframe thead th {\n",
       "        text-align: right;\n",
       "    }\n",
       "</style>\n",
       "<table border=\"1\" class=\"dataframe\">\n",
       "  <thead>\n",
       "    <tr style=\"text-align: right;\">\n",
       "      <th></th>\n",
       "      <th>FID</th>\n",
       "      <th>胎次</th>\n",
       "      <th>cowtai</th>\n",
       "      <th>配种日期_min</th>\n",
       "      <th>配种日期_max</th>\n",
       "      <th>IFL</th>\n",
       "    </tr>\n",
       "  </thead>\n",
       "  <tbody>\n",
       "    <tr>\n",
       "      <th>7144798</th>\n",
       "      <td>F1014000001</td>\n",
       "      <td>--</td>\n",
       "      <td>F1014000001.--</td>\n",
       "      <td>2015-02-15</td>\n",
       "      <td>2015-02-15</td>\n",
       "      <td>0</td>\n",
       "    </tr>\n",
       "    <tr>\n",
       "      <th>7141896</th>\n",
       "      <td>F1014000002</td>\n",
       "      <td>6</td>\n",
       "      <td>F1014000002.6</td>\n",
       "      <td>2013-01-28</td>\n",
       "      <td>2013-01-28</td>\n",
       "      <td>0</td>\n",
       "    </tr>\n",
       "    <tr>\n",
       "      <th>7144802</th>\n",
       "      <td>F1014000002</td>\n",
       "      <td>7</td>\n",
       "      <td>F1014000002.7</td>\n",
       "      <td>2014-01-28</td>\n",
       "      <td>2014-01-28</td>\n",
       "      <td>0</td>\n",
       "    </tr>\n",
       "    <tr>\n",
       "      <th>7144808</th>\n",
       "      <td>F1014000002</td>\n",
       "      <td>8</td>\n",
       "      <td>F1014000002.8</td>\n",
       "      <td>2015-04-05</td>\n",
       "      <td>2015-04-05</td>\n",
       "      <td>0</td>\n",
       "    </tr>\n",
       "    <tr>\n",
       "      <th>7144812</th>\n",
       "      <td>F1014000003</td>\n",
       "      <td>--</td>\n",
       "      <td>F1014000003.--</td>\n",
       "      <td>2015-02-05</td>\n",
       "      <td>2015-02-05</td>\n",
       "      <td>0</td>\n",
       "    </tr>\n",
       "  </tbody>\n",
       "</table>\n",
       "</div>"
      ],
      "text/plain": [
       "                 FID  胎次          cowtai   配种日期_min   配种日期_max  IFL\n",
       "7144798  F1014000001  --  F1014000001.-- 2015-02-15 2015-02-15    0\n",
       "7141896  F1014000002   6   F1014000002.6 2013-01-28 2013-01-28    0\n",
       "7144802  F1014000002   7   F1014000002.7 2014-01-28 2014-01-28    0\n",
       "7144808  F1014000002   8   F1014000002.8 2015-04-05 2015-04-05    0\n",
       "7144812  F1014000003  --  F1014000003.-- 2015-02-05 2015-02-05    0"
      ]
     },
     "execution_count": 193,
     "metadata": {},
     "output_type": "execute_result"
    }
   ],
   "source": [
    "p3=p2[['FID','胎次','cowtai']]\n",
    "IFL1=pd.merge(p3,IFL,left_on='cowtai',right_index=True).drop_duplicates(subset=['FID','胎次','IFL'],keep='first')\n",
    "IFL1.head()"
   ]
  },
  {
   "cell_type": "markdown",
   "metadata": {},
   "source": [
    "## IFL的分布"
   ]
  },
  {
   "cell_type": "code",
   "execution_count": 194,
   "metadata": {},
   "outputs": [],
   "source": [
    "IFLZ=IFL1[(IFL1['IFL']==0)|((IFL1['IFL']>=21)&(IFL1['IFL']<=365))]"
   ]
  },
  {
   "cell_type": "code",
   "execution_count": 195,
   "metadata": {},
   "outputs": [],
   "source": [
    "IFL2=IFL1[(IFL1['IFL']>=21)&(IFL1['IFL']<=365)]"
   ]
  },
  {
   "cell_type": "code",
   "execution_count": 196,
   "metadata": {},
   "outputs": [],
   "source": [
    "IFL3=IFL1[IFL1['IFL']==0]"
   ]
  },
  {
   "cell_type": "code",
   "execution_count": 197,
   "metadata": {},
   "outputs": [
    {
     "data": {
      "text/html": [
       "<div>\n",
       "<style scoped>\n",
       "    .dataframe tbody tr th:only-of-type {\n",
       "        vertical-align: middle;\n",
       "    }\n",
       "\n",
       "    .dataframe tbody tr th {\n",
       "        vertical-align: top;\n",
       "    }\n",
       "\n",
       "    .dataframe thead th {\n",
       "        text-align: right;\n",
       "    }\n",
       "</style>\n",
       "<table border=\"1\" class=\"dataframe\">\n",
       "  <thead>\n",
       "    <tr style=\"text-align: right;\">\n",
       "      <th></th>\n",
       "      <th>IFL</th>\n",
       "    </tr>\n",
       "  </thead>\n",
       "  <tbody>\n",
       "    <tr>\n",
       "      <th>count</th>\n",
       "      <td>197815.000000</td>\n",
       "    </tr>\n",
       "    <tr>\n",
       "      <th>mean</th>\n",
       "      <td>109.747294</td>\n",
       "    </tr>\n",
       "    <tr>\n",
       "      <th>std</th>\n",
       "      <td>82.973234</td>\n",
       "    </tr>\n",
       "    <tr>\n",
       "      <th>min</th>\n",
       "      <td>21.000000</td>\n",
       "    </tr>\n",
       "    <tr>\n",
       "      <th>25%</th>\n",
       "      <td>45.000000</td>\n",
       "    </tr>\n",
       "    <tr>\n",
       "      <th>50%</th>\n",
       "      <td>82.000000</td>\n",
       "    </tr>\n",
       "    <tr>\n",
       "      <th>75%</th>\n",
       "      <td>154.000000</td>\n",
       "    </tr>\n",
       "    <tr>\n",
       "      <th>max</th>\n",
       "      <td>365.000000</td>\n",
       "    </tr>\n",
       "  </tbody>\n",
       "</table>\n",
       "</div>"
      ],
      "text/plain": [
       "                 IFL\n",
       "count  197815.000000\n",
       "mean      109.747294\n",
       "std        82.973234\n",
       "min        21.000000\n",
       "25%        45.000000\n",
       "50%        82.000000\n",
       "75%       154.000000\n",
       "max       365.000000"
      ]
     },
     "execution_count": 197,
     "metadata": {},
     "output_type": "execute_result"
    }
   ],
   "source": [
    "IFL2.describe()"
   ]
  },
  {
   "cell_type": "code",
   "execution_count": 198,
   "metadata": {},
   "outputs": [
    {
     "data": {
      "text/plain": [
       "FID         217595\n",
       "胎次          217595\n",
       "cowtai      217595\n",
       "配种日期_min    217595\n",
       "配种日期_max    217595\n",
       "IFL         217595\n",
       "dtype: int64"
      ]
     },
     "execution_count": 198,
     "metadata": {},
     "output_type": "execute_result"
    }
   ],
   "source": [
    "IFL3.count()"
   ]
  },
  {
   "cell_type": "code",
   "execution_count": 199,
   "metadata": {},
   "outputs": [
    {
     "data": {
      "text/plain": [
       "Text(0.5,1,'IFL分布')"
      ]
     },
     "execution_count": 199,
     "metadata": {},
     "output_type": "execute_result"
    },
    {
     "data": {
      "image/png": "[encoded data removed]",
      "text/plain": [
       "<matplotlib.figure.Figure at 0x202153d5cc0>"
      ]
     },
     "metadata": {},
     "output_type": "display_data"
    }
   ],
   "source": [
    "sns.distplot(IFL2['IFL'],norm_hist=False,kde=False)\n",
    "plt.title('IFL分布')"
   ]
  },
  {
   "cell_type": "code",
   "execution_count": 200,
   "metadata": {},
   "outputs": [
    {
     "data": {
      "text/plain": [
       "Text(0.5,1,'IFL=0分布')"
      ]
     },
     "execution_count": 200,
     "metadata": {},
     "output_type": "execute_result"
    },
    {
     "data": {
      "image/png": "[encoded data removed]",
      "text/plain": [
       "<matplotlib.figure.Figure at 0x20354d7e4a8>"
      ]
     },
     "metadata": {},
     "output_type": "display_data"
    }
   ],
   "source": [
    "sns.countplot(x='IFL',data=IFL3)\n",
    "plt.title('IFL=0分布')"
   ]
  },
  {
   "cell_type": "markdown",
   "metadata": {},
   "source": [
    "# 产后首次配种间隔ICF的计算"
   ]
  },
  {
   "cell_type": "markdown",
   "metadata": {},
   "source": [
    "产后首次配种间隔是经产牛性状，其计算需要每头牛每个胎次的首次配种时间，以及各个胎次对应的产犊时间，利用首次配种时间与产犊时间相减即可得到ICF。"
   ]
  },
  {
   "cell_type": "markdown",
   "metadata": {},
   "source": [
    "## 各胎次产犊时间与首次配种时间的筛选合并"
   ]
  },
  {
   "cell_type": "code",
   "execution_count": 201,
   "metadata": {},
   "outputs": [
    {
     "name": "stderr",
     "output_type": "stream",
     "text": [
      "E:\\Anaconda\\lib\\site-packages\\ipykernel_launcher.py:3: SettingWithCopyWarning: \n",
      "A value is trying to be set on a copy of a slice from a DataFrame.\n",
      "Try using .loc[row_indexer,col_indexer] = value instead\n",
      "\n",
      "See the caveats in the documentation: http://pandas.pydata.org/pandas-docs/stable/indexing.html#indexing-view-versus-copy\n",
      "  This is separate from the ipykernel package so we can avoid doing imports until\n"
     ]
    },
    {
     "data": {
      "text/html": [
       "<div>\n",
       "<style scoped>\n",
       "    .dataframe tbody tr th:only-of-type {\n",
       "        vertical-align: middle;\n",
       "    }\n",
       "\n",
       "    .dataframe tbody tr th {\n",
       "        vertical-align: top;\n",
       "    }\n",
       "\n",
       "    .dataframe thead th {\n",
       "        text-align: right;\n",
       "    }\n",
       "</style>\n",
       "<table border=\"1\" class=\"dataframe\">\n",
       "  <thead>\n",
       "    <tr style=\"text-align: right;\">\n",
       "      <th></th>\n",
       "      <th>FID</th>\n",
       "      <th>胎次</th>\n",
       "      <th>产犊日期</th>\n",
       "      <th>cowtai</th>\n",
       "    </tr>\n",
       "  </thead>\n",
       "  <tbody>\n",
       "    <tr>\n",
       "      <th>7144800</th>\n",
       "      <td>F1014000001</td>\n",
       "      <td>8</td>\n",
       "      <td>2015-11-30</td>\n",
       "      <td>F1014000001.8</td>\n",
       "    </tr>\n",
       "    <tr>\n",
       "      <th>7141900</th>\n",
       "      <td>F1014000002</td>\n",
       "      <td>7</td>\n",
       "      <td>2013-10-25</td>\n",
       "      <td>F1014000002.7</td>\n",
       "    </tr>\n",
       "    <tr>\n",
       "      <th>7144806</th>\n",
       "      <td>F1014000002</td>\n",
       "      <td>8</td>\n",
       "      <td>2014-10-25</td>\n",
       "      <td>F1014000002.8</td>\n",
       "    </tr>\n",
       "    <tr>\n",
       "      <th>7158424</th>\n",
       "      <td>F1014000002</td>\n",
       "      <td>9</td>\n",
       "      <td>2016-01-07</td>\n",
       "      <td>F1014000002.9</td>\n",
       "    </tr>\n",
       "    <tr>\n",
       "      <th>7144814</th>\n",
       "      <td>F1014000003</td>\n",
       "      <td>8</td>\n",
       "      <td>2015-11-12</td>\n",
       "      <td>F1014000003.8</td>\n",
       "    </tr>\n",
       "  </tbody>\n",
       "</table>\n",
       "</div>"
      ],
      "text/plain": [
       "                 FID 胎次        产犊日期         cowtai\n",
       "7144800  F1014000001  8  2015-11-30  F1014000001.8\n",
       "7141900  F1014000002  7  2013-10-25  F1014000002.7\n",
       "7144806  F1014000002  8  2014-10-25  F1014000002.8\n",
       "7158424  F1014000002  9  2016-01-07  F1014000002.9\n",
       "7144814  F1014000003  8  2015-11-12  F1014000003.8"
      ]
     },
     "execution_count": 201,
     "metadata": {},
     "output_type": "execute_result"
    }
   ],
   "source": [
    "c2=c[['FID','胎次','产犊日期']]\n",
    "c3=c2\n",
    "c3['cowtai']=c2['FID']+'.'+c2['胎次']\n",
    "c3.head()"
   ]
  },
  {
   "cell_type": "code",
   "execution_count": 202,
   "metadata": {},
   "outputs": [
    {
     "data": {
      "text/html": [
       "<div>\n",
       "<style scoped>\n",
       "    .dataframe tbody tr th:only-of-type {\n",
       "        vertical-align: middle;\n",
       "    }\n",
       "\n",
       "    .dataframe tbody tr th {\n",
       "        vertical-align: top;\n",
       "    }\n",
       "\n",
       "    .dataframe thead th {\n",
       "        text-align: right;\n",
       "    }\n",
       "</style>\n",
       "<table border=\"1\" class=\"dataframe\">\n",
       "  <thead>\n",
       "    <tr style=\"text-align: right;\">\n",
       "      <th></th>\n",
       "      <th>FID</th>\n",
       "      <th>胎次</th>\n",
       "      <th>产犊日期</th>\n",
       "      <th>cowtai</th>\n",
       "      <th>配种日期</th>\n",
       "    </tr>\n",
       "  </thead>\n",
       "  <tbody>\n",
       "    <tr>\n",
       "      <th>7141900</th>\n",
       "      <td>F1014000002</td>\n",
       "      <td>7</td>\n",
       "      <td>2013-10-25</td>\n",
       "      <td>F1014000002.7</td>\n",
       "      <td>2014-01-28</td>\n",
       "    </tr>\n",
       "    <tr>\n",
       "      <th>7144806</th>\n",
       "      <td>F1014000002</td>\n",
       "      <td>8</td>\n",
       "      <td>2014-10-25</td>\n",
       "      <td>F1014000002.8</td>\n",
       "      <td>2015-04-05</td>\n",
       "    </tr>\n",
       "    <tr>\n",
       "      <th>7144814</th>\n",
       "      <td>F1014000003</td>\n",
       "      <td>8</td>\n",
       "      <td>2015-11-12</td>\n",
       "      <td>F1014000003.8</td>\n",
       "      <td>2016-01-13</td>\n",
       "    </tr>\n",
       "    <tr>\n",
       "      <th>7141906</th>\n",
       "      <td>F1014000004</td>\n",
       "      <td>6</td>\n",
       "      <td>2013-11-09</td>\n",
       "      <td>F1014000004.6</td>\n",
       "      <td>2014-02-12</td>\n",
       "    </tr>\n",
       "    <tr>\n",
       "      <th>7144820</th>\n",
       "      <td>F1014000004</td>\n",
       "      <td>7</td>\n",
       "      <td>2014-11-09</td>\n",
       "      <td>F1014000004.7</td>\n",
       "      <td>2015-03-11</td>\n",
       "    </tr>\n",
       "  </tbody>\n",
       "</table>\n",
       "</div>"
      ],
      "text/plain": [
       "                 FID 胎次        产犊日期         cowtai        配种日期\n",
       "7141900  F1014000002  7  2013-10-25  F1014000002.7  2014-01-28\n",
       "7144806  F1014000002  8  2014-10-25  F1014000002.8  2015-04-05\n",
       "7144814  F1014000003  8  2015-11-12  F1014000003.8  2016-01-13\n",
       "7141906  F1014000004  6  2013-11-09  F1014000004.6  2014-02-12\n",
       "7144820  F1014000004  7  2014-11-09  F1014000004.7  2015-03-11"
      ]
     },
     "execution_count": 202,
     "metadata": {},
     "output_type": "execute_result"
    }
   ],
   "source": [
    "pcm=pd.merge(c3,pm,left_on='cowtai',right_index=True)\n",
    "pcm.head()"
   ]
  },
  {
   "cell_type": "code",
   "execution_count": 203,
   "metadata": {},
   "outputs": [
    {
     "data": {
      "text/html": [
       "<div>\n",
       "<style scoped>\n",
       "    .dataframe tbody tr th:only-of-type {\n",
       "        vertical-align: middle;\n",
       "    }\n",
       "\n",
       "    .dataframe tbody tr th {\n",
       "        vertical-align: top;\n",
       "    }\n",
       "\n",
       "    .dataframe thead th {\n",
       "        text-align: right;\n",
       "    }\n",
       "</style>\n",
       "<table border=\"1\" class=\"dataframe\">\n",
       "  <thead>\n",
       "    <tr style=\"text-align: right;\">\n",
       "      <th></th>\n",
       "      <th>FID</th>\n",
       "      <th>胎次</th>\n",
       "      <th>产犊日期</th>\n",
       "      <th>cowtai</th>\n",
       "      <th>配种日期</th>\n",
       "    </tr>\n",
       "  </thead>\n",
       "  <tbody>\n",
       "    <tr>\n",
       "      <th>7141900</th>\n",
       "      <td>F1014000002</td>\n",
       "      <td>7</td>\n",
       "      <td>2013-10-25</td>\n",
       "      <td>F1014000002.7</td>\n",
       "      <td>2014-01-28</td>\n",
       "    </tr>\n",
       "    <tr>\n",
       "      <th>7144806</th>\n",
       "      <td>F1014000002</td>\n",
       "      <td>8</td>\n",
       "      <td>2014-10-25</td>\n",
       "      <td>F1014000002.8</td>\n",
       "      <td>2015-04-05</td>\n",
       "    </tr>\n",
       "    <tr>\n",
       "      <th>7144814</th>\n",
       "      <td>F1014000003</td>\n",
       "      <td>8</td>\n",
       "      <td>2015-11-12</td>\n",
       "      <td>F1014000003.8</td>\n",
       "      <td>2016-01-13</td>\n",
       "    </tr>\n",
       "    <tr>\n",
       "      <th>7141906</th>\n",
       "      <td>F1014000004</td>\n",
       "      <td>6</td>\n",
       "      <td>2013-11-09</td>\n",
       "      <td>F1014000004.6</td>\n",
       "      <td>2014-02-12</td>\n",
       "    </tr>\n",
       "    <tr>\n",
       "      <th>7144820</th>\n",
       "      <td>F1014000004</td>\n",
       "      <td>7</td>\n",
       "      <td>2014-11-09</td>\n",
       "      <td>F1014000004.7</td>\n",
       "      <td>2015-03-11</td>\n",
       "    </tr>\n",
       "  </tbody>\n",
       "</table>\n",
       "</div>"
      ],
      "text/plain": [
       "                 FID 胎次       产犊日期         cowtai       配种日期\n",
       "7141900  F1014000002  7 2013-10-25  F1014000002.7 2014-01-28\n",
       "7144806  F1014000002  8 2014-10-25  F1014000002.8 2015-04-05\n",
       "7144814  F1014000003  8 2015-11-12  F1014000003.8 2016-01-13\n",
       "7141906  F1014000004  6 2013-11-09  F1014000004.6 2014-02-12\n",
       "7144820  F1014000004  7 2014-11-09  F1014000004.7 2015-03-11"
      ]
     },
     "execution_count": 203,
     "metadata": {},
     "output_type": "execute_result"
    }
   ],
   "source": [
    "pcm['配种日期']=pd.to_datetime(pcm['配种日期'],format=\"%Y-%m-%d\")\n",
    "pcm['产犊日期']=pd.to_datetime(pcm['产犊日期'],format=\"%Y-%m-%d\")\n",
    "ICF=pcm\n",
    "ICF.head()"
   ]
  },
  {
   "cell_type": "code",
   "execution_count": 204,
   "metadata": {},
   "outputs": [
    {
     "data": {
      "text/plain": [
       "FID       284526\n",
       "胎次        284526\n",
       "产犊日期      284526\n",
       "cowtai    284526\n",
       "配种日期      284526\n",
       "ICF       284526\n",
       "dtype: int64"
      ]
     },
     "execution_count": 204,
     "metadata": {},
     "output_type": "execute_result"
    }
   ],
   "source": [
    "ICF['ICF']=ICF['配种日期']-ICF['产犊日期']\n",
    "ICF['ICF']=list(map(lambda s: s.days,ICF['ICF']))  ##timedelta通过.days提取出int格式整数\n",
    "ICF.count()"
   ]
  },
  {
   "cell_type": "markdown",
   "metadata": {},
   "source": [
    "## ICF的分布"
   ]
  },
  {
   "cell_type": "code",
   "execution_count": 205,
   "metadata": {},
   "outputs": [
    {
     "data": {
      "text/plain": [
       "<matplotlib.axes._subplots.AxesSubplot at 0x2024f030278>"
      ]
     },
     "execution_count": 205,
     "metadata": {},
     "output_type": "execute_result"
    },
    {
     "data": {
      "image/png": "[encoded data removed]",
      "text/plain": [
       "<matplotlib.figure.Figure at 0x20214d2be80>"
      ]
     },
     "metadata": {},
     "output_type": "display_data"
    }
   ],
   "source": [
    "ICF1=ICF[(ICF['ICF']>=20)&(ICF['ICF']<=230)]\n",
    "sns.distplot(ICF1['ICF'],norm_hist=False,kde=False)"
   ]
  },
  {
   "cell_type": "markdown",
   "metadata": {},
   "source": [
    "ICF=88数据较多，为系统自动生成。"
   ]
  },
  {
   "cell_type": "markdown",
   "metadata": {},
   "source": [
    "# 产犊难易CE的计算"
   ]
  },
  {
   "cell_type": "markdown",
   "metadata": {},
   "source": [
    "产犊难易是经产牛和青年牛共有的性状之一，分为3个等级：0,1,2对应正常，助产，难产或倒产。计算方式为筛选产犊方式列，按照对应数字赋值即可。"
   ]
  },
  {
   "cell_type": "code",
   "execution_count": 206,
   "metadata": {},
   "outputs": [],
   "source": [
    "ce=fzc[['FID','胎次','日期','HERD','产犊方式']]"
   ]
  },
  {
   "cell_type": "code",
   "execution_count": 207,
   "metadata": {},
   "outputs": [
    {
     "name": "stderr",
     "output_type": "stream",
     "text": [
      "E:\\Anaconda\\lib\\site-packages\\pandas\\core\\frame.py:3027: SettingWithCopyWarning: \n",
      "A value is trying to be set on a copy of a slice from a DataFrame\n",
      "\n",
      "See the caveats in the documentation: http://pandas.pydata.org/pandas-docs/stable/indexing.html#indexing-view-versus-copy\n",
      "  return super(DataFrame, self).rename(**kwargs)\n"
     ]
    }
   ],
   "source": [
    "ce.rename(columns={'日期':'产犊日期'},inplace=True)"
   ]
  },
  {
   "cell_type": "code",
   "execution_count": 208,
   "metadata": {},
   "outputs": [
    {
     "name": "stdout",
     "output_type": "stream",
     "text": [
      "正常          315280\n",
      "早产            7351\n",
      "助产            5125\n",
      "顺产            2502\n",
      "倒产            1244\n",
      "难产            1164\n",
      "助产2           1104\n",
      "1              971\n",
      "不正常            556\n",
      "死胎             448\n",
      "助产3            370\n",
      "流产             323\n",
      "3              292\n",
      "自产、自下          249\n",
      "9530           174\n",
      "轻度助产            60\n",
      "2               58\n",
      "自产、取胎衣          51\n",
      "11109547        47\n",
      "死亡              34\n",
      "剖腹产             22\n",
      "碎胎              22\n",
      "胎位不正            18\n",
      "剖腹              14\n",
      "助产4              9\n",
      "侧切               5\n",
      "--               3\n",
      "坐生               3\n",
      "胎位不正侧切           2\n",
      "难产2              2\n",
      "122 泌乳牛组         2\n",
      "外科助产             1\n",
      "4                1\n",
      "Name: 产犊方式, dtype: int64\n"
     ]
    }
   ],
   "source": [
    "print(ce['产犊方式'].value_counts())"
   ]
  },
  {
   "cell_type": "markdown",
   "metadata": {},
   "source": [
    "如上可看到产犊方式的分布，其中助产，顺产，早产，正常，倒产，难产等数据较多，可用于定义产犊难易。"
   ]
  },
  {
   "cell_type": "code",
   "execution_count": 209,
   "metadata": {},
   "outputs": [],
   "source": [
    "keys=['正常','早产','顺产','倒产','助产','难产']"
   ]
  },
  {
   "cell_type": "code",
   "execution_count": 210,
   "metadata": {},
   "outputs": [],
   "source": [
    "cdfs=ce.copy()\n",
    "cdfs['产犊方式']=ce['产犊方式'].apply(lambda s: np.nan if s not in keys else s)"
   ]
  },
  {
   "cell_type": "code",
   "execution_count": 211,
   "metadata": {},
   "outputs": [],
   "source": [
    "cdfs1=cdfs.dropna(axis=0)"
   ]
  },
  {
   "cell_type": "code",
   "execution_count": 212,
   "metadata": {},
   "outputs": [
    {
     "name": "stderr",
     "output_type": "stream",
     "text": [
      "E:\\Anaconda\\lib\\site-packages\\ipykernel_launcher.py:1: SettingWithCopyWarning: \n",
      "A value is trying to be set on a copy of a slice from a DataFrame.\n",
      "Try using .loc[row_indexer,col_indexer] = value instead\n",
      "\n",
      "See the caveats in the documentation: http://pandas.pydata.org/pandas-docs/stable/indexing.html#indexing-view-versus-copy\n",
      "  \"\"\"Entry point for launching an IPython kernel.\n"
     ]
    }
   ],
   "source": [
    "cdfs1['cowtai']=cdfs1['FID']+'.'+cdfs1['胎次']"
   ]
  },
  {
   "cell_type": "code",
   "execution_count": 213,
   "metadata": {},
   "outputs": [
    {
     "name": "stderr",
     "output_type": "stream",
     "text": [
      "E:\\Anaconda\\lib\\site-packages\\pandas\\core\\frame.py:3027: SettingWithCopyWarning: \n",
      "A value is trying to be set on a copy of a slice from a DataFrame\n",
      "\n",
      "See the caveats in the documentation: http://pandas.pydata.org/pandas-docs/stable/indexing.html#indexing-view-versus-copy\n",
      "  return super(DataFrame, self).rename(**kwargs)\n"
     ]
    }
   ],
   "source": [
    "CE=cdfs1[['cowtai','产犊方式']]\n",
    "CE.rename(columns={'产犊方式':'CE'},inplace=True)"
   ]
  },
  {
   "cell_type": "code",
   "execution_count": 214,
   "metadata": {},
   "outputs": [
    {
     "data": {
      "text/plain": [
       "0    310080\n",
       "1     12156\n",
       "2      2408\n",
       "Name: CE, dtype: int64"
      ]
     },
     "execution_count": 214,
     "metadata": {},
     "output_type": "execute_result"
    }
   ],
   "source": [
    "CE['CE'].replace(keys,[0,1,0,2,1,2]).value_counts()"
   ]
  },
  {
   "cell_type": "markdown",
   "metadata": {},
   "source": [
    "# 死胎SB的计算"
   ]
  },
  {
   "cell_type": "markdown",
   "metadata": {},
   "source": [
    "产犊难易是经产牛和青年牛共有的性状之一，分为2个等级：0,1对应正常，死胎。计算方式为筛选产犊事件信息列，选取出包含死胎的观测，按照对应数字赋值即可。"
   ]
  },
  {
   "cell_type": "code",
   "execution_count": 215,
   "metadata": {},
   "outputs": [
    {
     "name": "stderr",
     "output_type": "stream",
     "text": [
      "E:\\Anaconda\\lib\\site-packages\\pandas\\core\\frame.py:3027: SettingWithCopyWarning: \n",
      "A value is trying to be set on a copy of a slice from a DataFrame\n",
      "\n",
      "See the caveats in the documentation: http://pandas.pydata.org/pandas-docs/stable/indexing.html#indexing-view-versus-copy\n",
      "  return super(DataFrame, self).rename(**kwargs)\n"
     ]
    },
    {
     "data": {
      "text/html": [
       "<div>\n",
       "<style scoped>\n",
       "    .dataframe tbody tr th:only-of-type {\n",
       "        vertical-align: middle;\n",
       "    }\n",
       "\n",
       "    .dataframe tbody tr th {\n",
       "        vertical-align: top;\n",
       "    }\n",
       "\n",
       "    .dataframe thead th {\n",
       "        text-align: right;\n",
       "    }\n",
       "</style>\n",
       "<table border=\"1\" class=\"dataframe\">\n",
       "  <thead>\n",
       "    <tr style=\"text-align: right;\">\n",
       "      <th></th>\n",
       "      <th>FID</th>\n",
       "      <th>胎次</th>\n",
       "      <th>产犊日期</th>\n",
       "      <th>HERD</th>\n",
       "      <th>事件信息</th>\n",
       "    </tr>\n",
       "  </thead>\n",
       "  <tbody>\n",
       "    <tr>\n",
       "      <th>35</th>\n",
       "      <td>F459001097110</td>\n",
       "      <td>1</td>\n",
       "      <td>2000-02-10</td>\n",
       "      <td>110901</td>\n",
       "      <td>正常;</td>\n",
       "    </tr>\n",
       "    <tr>\n",
       "      <th>58</th>\n",
       "      <td>F459001098047</td>\n",
       "      <td>1</td>\n",
       "      <td>2000-10-06</td>\n",
       "      <td>110901</td>\n",
       "      <td>正常;</td>\n",
       "    </tr>\n",
       "    <tr>\n",
       "      <th>60</th>\n",
       "      <td>F459001097033</td>\n",
       "      <td>1</td>\n",
       "      <td>2000-10-12</td>\n",
       "      <td>110901</td>\n",
       "      <td>正常;</td>\n",
       "    </tr>\n",
       "    <tr>\n",
       "      <th>64</th>\n",
       "      <td>F459001098011</td>\n",
       "      <td>1</td>\n",
       "      <td>2000-11-11</td>\n",
       "      <td>110901</td>\n",
       "      <td>正常;</td>\n",
       "    </tr>\n",
       "    <tr>\n",
       "      <th>66</th>\n",
       "      <td>F459001D97138</td>\n",
       "      <td>1</td>\n",
       "      <td>2000-12-06</td>\n",
       "      <td>110901</td>\n",
       "      <td>正常;</td>\n",
       "    </tr>\n",
       "  </tbody>\n",
       "</table>\n",
       "</div>"
      ],
      "text/plain": [
       "              FID 胎次        产犊日期    HERD 事件信息\n",
       "35  F459001097110  1  2000-02-10  110901  正常;\n",
       "58  F459001098047  1  2000-10-06  110901  正常;\n",
       "60  F459001097033  1  2000-10-12  110901  正常;\n",
       "64  F459001098011  1  2000-11-11  110901  正常;\n",
       "66  F459001D97138  1  2000-12-06  110901  正常;"
      ]
     },
     "execution_count": 215,
     "metadata": {},
     "output_type": "execute_result"
    }
   ],
   "source": [
    "sb=fzc[['FID','胎次','日期','HERD','事件信息']]\n",
    "sb.rename(columns={'日期':'产犊日期'},inplace=True)\n",
    "sb.head()"
   ]
  },
  {
   "cell_type": "code",
   "execution_count": 216,
   "metadata": {},
   "outputs": [
    {
     "data": {
      "text/plain": [
       "正常;                                  40541\n",
       "正常;                                   4422\n",
       "死胎;                                   1957\n",
       "出售;                                    701\n",
       "正常; ; 公牛名字: 11100113                   696\n",
       "正常; ; 公牛名字: 11100519                   447\n",
       "死胎; ; 公牛名字: 11109665                   435\n",
       "死胎; ; 公牛名字: 11109745                   325\n",
       "正常; ; 公牛名字: 11101927                   318\n",
       "死胎; ; 公牛名字: 11106002                   314\n",
       "正常; ; 公牛名字: 11101906                   273\n",
       "死胎; ; 公牛名字: 11100113                   269\n",
       "死胎; ; 公牛名字: 96100                      266\n",
       "正常; ; 公牛名字: 11100260                   255\n",
       "正常; ; 公牛名字: 11197580                   255\n",
       "正常; ; 公牛名字: 11101930                   248\n",
       "出售;                                    240\n",
       "正常; ; 公牛名字: 11102909                   233\n",
       "死胎; ; 公牛名字: 11102919                   220\n",
       "正常; ; 公牛名字: 11102912                   217\n",
       "正常; ; 公牛名字: 11101916                   215\n",
       "正常; ; 公牛名字: 11199095                   215\n",
       "死胎; ; 公牛名字: 11101907                   215\n",
       "出售; ; 公牛名字: 534HO0004                  213\n",
       "死胎; ; 公牛名字: 11102910                   212\n",
       "死胎; ; 公牛名字: 11101917                   208\n",
       "正常; ; 公牛名字: 11101902                   203\n",
       "死胎; ; 公牛名字: 11109804                   201\n",
       "死胎; ; 公牛名字: 11111503                   199\n",
       "正常; ; 公牛名字: 11102910                   198\n",
       "                                     ...  \n",
       "140030-正常; ; 公牛名字: 11109722              1\n",
       "M11105-正常; ; 公牛名字: 13108015              1\n",
       "130113-正常; ; 公牛名字: 11109658              1\n",
       "130162-正常; ; 公牛名字: 001HO09509            1\n",
       "G16364-正常; ; 公牛名字: 11109655              1\n",
       "120013-正常; ; 公牛名字: 11199995              1\n",
       "死胎; ; 公牛名字: 133041567                    1\n",
       "G17139-正常; ; 公牛名字: 11108656              1\n",
       "5008-正常; 5009-正常;                        1\n",
       "205041-正常; ; 公牛名字: 132890805             1\n",
       "G13482-正常; ; 公牛名字: 11104737              1\n",
       "G17764-正常; ; 公牛名字: 11114633              1\n",
       "150436-正常; ; 公牛名字: USA138851507          1\n",
       "G282-正常; ; 公牛名字: 12104190                1\n",
       "177-出售; ; 公牛名字: 64105173                 1\n",
       "180128-正常; ; 公牛名字: 11111503              1\n",
       "10182-正常; ; 公牛名字: 性控-1                   1\n",
       "160008-正常; ; 公牛名字: USA64872950           1\n",
       "120344-正常; ; 公牛名字: USA135695137性控        1\n",
       "G14297-正常; ; 公牛名字: 11109804              1\n",
       "9458-正常; ; 公牛名字: 101034031               1\n",
       "264-正常; ; 公牛名字: 97314                    1\n",
       "X11102-正常; ; 公牛名字: 29h011658             1\n",
       "1005-正常;                                 1\n",
       "G8010-正常; ; 公牛名字: 11101929               1\n",
       "G15322-正常; ; 公牛名字: hc11113653            1\n",
       "G11346-正常; ; 公牛名字: 11104070              1\n",
       "170111-正常; ; 公牛名字: 11110524              1\n",
       "180356-正常; ; 公牛名字: 11114626              1\n",
       "G78456-正常; ; 公牛名字: 11114903pj            1\n",
       "Name: 事件信息, Length: 245563, dtype: int64"
      ]
     },
     "execution_count": 216,
     "metadata": {},
     "output_type": "execute_result"
    }
   ],
   "source": [
    "sb['事件信息'].value_counts()"
   ]
  },
  {
   "cell_type": "markdown",
   "metadata": {},
   "source": [
    "从上可以看出要提取包含‘正常’，‘出售’以及‘死胎’3个关键字。"
   ]
  },
  {
   "cell_type": "code",
   "execution_count": 217,
   "metadata": {},
   "outputs": [],
   "source": [
    "pattern1='正常'\n",
    "pattern2='出售'\n",
    "pattern3='死'\n",
    "sb1=sb2=sb3=sb.copy()"
   ]
  },
  {
   "cell_type": "code",
   "execution_count": 218,
   "metadata": {},
   "outputs": [],
   "source": [
    "sb1['事件信息']=sb['事件信息'].str.contains(pattern1)\n",
    "sb1['事件信息']=sb1['事件信息'].apply(lambda s: int(0) if s==True else np.nan)\n",
    "sb1=sb1.dropna(axis=0)"
   ]
  },
  {
   "cell_type": "code",
   "execution_count": 219,
   "metadata": {},
   "outputs": [],
   "source": [
    "sb2['事件信息']=sb['事件信息'].str.contains(pattern2)\n",
    "sb2['事件信息']=sb2['事件信息'].apply(lambda s: int(0) if s==True else np.nan)\n",
    "sb2=sb2.dropna(axis=0)"
   ]
  },
  {
   "cell_type": "code",
   "execution_count": 220,
   "metadata": {},
   "outputs": [],
   "source": [
    "sb3['事件信息']=sb['事件信息'].str.contains(pattern3)\n",
    "sb3['事件信息']=sb3['事件信息'].apply(lambda s: int(1) if s==True else np.nan)\n",
    "sb3=sb3.dropna(axis=0)"
   ]
  },
  {
   "cell_type": "code",
   "execution_count": 221,
   "metadata": {},
   "outputs": [],
   "source": [
    "sba=[sb1,sb2,sb3]\n",
    "SB=pd.concat(sba)"
   ]
  },
  {
   "cell_type": "code",
   "execution_count": 222,
   "metadata": {},
   "outputs": [
    {
     "data": {
      "text/plain": [
       "0.0    307027\n",
       "1.0     22676\n",
       "Name: 事件信息, dtype: int64"
      ]
     },
     "execution_count": 222,
     "metadata": {},
     "output_type": "execute_result"
    }
   ],
   "source": [
    "SB['事件信息'].value_counts()"
   ]
  },
  {
   "cell_type": "code",
   "execution_count": 223,
   "metadata": {},
   "outputs": [],
   "source": [
    "SB['cowtai']=SB['FID']+'.'+SB['胎次']\n",
    "SB.rename(columns={'事件信息':'SB'},inplace=True)\n",
    "SB=SB[['cowtai','SB']]"
   ]
  },
  {
   "cell_type": "code",
   "execution_count": 224,
   "metadata": {},
   "outputs": [
    {
     "data": {
      "text/html": [
       "<div>\n",
       "<style scoped>\n",
       "    .dataframe tbody tr th:only-of-type {\n",
       "        vertical-align: middle;\n",
       "    }\n",
       "\n",
       "    .dataframe tbody tr th {\n",
       "        vertical-align: top;\n",
       "    }\n",
       "\n",
       "    .dataframe thead th {\n",
       "        text-align: right;\n",
       "    }\n",
       "</style>\n",
       "<table border=\"1\" class=\"dataframe\">\n",
       "  <thead>\n",
       "    <tr style=\"text-align: right;\">\n",
       "      <th></th>\n",
       "      <th>cowtai</th>\n",
       "      <th>SB</th>\n",
       "    </tr>\n",
       "  </thead>\n",
       "  <tbody>\n",
       "    <tr>\n",
       "      <th>35</th>\n",
       "      <td>F459001097110.1</td>\n",
       "      <td>0.0</td>\n",
       "    </tr>\n",
       "    <tr>\n",
       "      <th>58</th>\n",
       "      <td>F459001098047.1</td>\n",
       "      <td>0.0</td>\n",
       "    </tr>\n",
       "    <tr>\n",
       "      <th>60</th>\n",
       "      <td>F459001097033.1</td>\n",
       "      <td>0.0</td>\n",
       "    </tr>\n",
       "    <tr>\n",
       "      <th>64</th>\n",
       "      <td>F459001098011.1</td>\n",
       "      <td>0.0</td>\n",
       "    </tr>\n",
       "    <tr>\n",
       "      <th>66</th>\n",
       "      <td>F459001D97138.1</td>\n",
       "      <td>0.0</td>\n",
       "    </tr>\n",
       "  </tbody>\n",
       "</table>\n",
       "</div>"
      ],
      "text/plain": [
       "             cowtai   SB\n",
       "35  F459001097110.1  0.0\n",
       "58  F459001098047.1  0.0\n",
       "60  F459001097033.1  0.0\n",
       "64  F459001098011.1  0.0\n",
       "66  F459001D97138.1  0.0"
      ]
     },
     "execution_count": 224,
     "metadata": {},
     "output_type": "execute_result"
    }
   ],
   "source": [
    "SB.head()"
   ]
  },
  {
   "cell_type": "markdown",
   "metadata": {},
   "source": [
    "# 提取犊牛性别效应"
   ]
  },
  {
   "cell_type": "markdown",
   "metadata": {},
   "source": [
    "犊牛性别可以通过产犊事件信息中的犊牛号来分类，G开头的为公犊牛为1，其余的皆为母犊牛为2。"
   ]
  },
  {
   "cell_type": "code",
   "execution_count": 225,
   "metadata": {},
   "outputs": [],
   "source": [
    "calf1=calf=sb.copy()"
   ]
  },
  {
   "cell_type": "code",
   "execution_count": 226,
   "metadata": {},
   "outputs": [],
   "source": [
    "calf1['犊牛']=calf['事件信息'].str.contains('-正常')\n",
    "calf1['犊牛']=calf1['犊牛'].apply(lambda s: 1 if s==True else np.nan)\n",
    "calf1=calf1.dropna(axis=0)"
   ]
  },
  {
   "cell_type": "code",
   "execution_count": 227,
   "metadata": {},
   "outputs": [
    {
     "name": "stderr",
     "output_type": "stream",
     "text": [
      "E:\\Anaconda\\lib\\site-packages\\ipykernel_launcher.py:1: SettingWithCopyWarning: \n",
      "A value is trying to be set on a copy of a slice from a DataFrame.\n",
      "Try using .loc[row_indexer,col_indexer] = value instead\n",
      "\n",
      "See the caveats in the documentation: http://pandas.pydata.org/pandas-docs/stable/indexing.html#indexing-view-versus-copy\n",
      "  \"\"\"Entry point for launching an IPython kernel.\n",
      "E:\\Anaconda\\lib\\site-packages\\ipykernel_launcher.py:2: SettingWithCopyWarning: \n",
      "A value is trying to be set on a copy of a slice from a DataFrame.\n",
      "Try using .loc[row_indexer,col_indexer] = value instead\n",
      "\n",
      "See the caveats in the documentation: http://pandas.pydata.org/pandas-docs/stable/indexing.html#indexing-view-versus-copy\n",
      "  \n"
     ]
    }
   ],
   "source": [
    "calf1['事件信息']=calf1['事件信息'].str.contains('G')\n",
    "calf1['事件信息']=calf1['事件信息'].apply(lambda s: 1 if s==True else 2)\n",
    "CALF=calf1.dropna(axis=0)"
   ]
  },
  {
   "cell_type": "code",
   "execution_count": 228,
   "metadata": {},
   "outputs": [
    {
     "data": {
      "text/plain": [
       "2    160495\n",
       "1     84333\n",
       "Name: 事件信息, dtype: int64"
      ]
     },
     "execution_count": 228,
     "metadata": {},
     "output_type": "execute_result"
    }
   ],
   "source": [
    "CALF['事件信息'].value_counts()"
   ]
  },
  {
   "cell_type": "code",
   "execution_count": 229,
   "metadata": {},
   "outputs": [],
   "source": [
    "CALF['cowtai']=CALF['FID']+'.'+CALF['胎次']\n",
    "CALF.rename(columns={'事件信息':'CALF'},inplace=True)\n",
    "CALF=CALF[['cowtai','CALF']]"
   ]
  },
  {
   "cell_type": "code",
   "execution_count": 230,
   "metadata": {},
   "outputs": [
    {
     "data": {
      "text/html": [
       "<div>\n",
       "<style scoped>\n",
       "    .dataframe tbody tr th:only-of-type {\n",
       "        vertical-align: middle;\n",
       "    }\n",
       "\n",
       "    .dataframe tbody tr th {\n",
       "        vertical-align: top;\n",
       "    }\n",
       "\n",
       "    .dataframe thead th {\n",
       "        text-align: right;\n",
       "    }\n",
       "</style>\n",
       "<table border=\"1\" class=\"dataframe\">\n",
       "  <thead>\n",
       "    <tr style=\"text-align: right;\">\n",
       "      <th></th>\n",
       "      <th>cowtai</th>\n",
       "      <th>CALF</th>\n",
       "    </tr>\n",
       "  </thead>\n",
       "  <tbody>\n",
       "    <tr>\n",
       "      <th>1511</th>\n",
       "      <td>F459001002049.2</td>\n",
       "      <td>2</td>\n",
       "    </tr>\n",
       "    <tr>\n",
       "      <th>1589</th>\n",
       "      <td>F459001003042.1</td>\n",
       "      <td>2</td>\n",
       "    </tr>\n",
       "    <tr>\n",
       "      <th>1679</th>\n",
       "      <td>F4590010D1076.3</td>\n",
       "      <td>2</td>\n",
       "    </tr>\n",
       "    <tr>\n",
       "      <th>1730</th>\n",
       "      <td>F459001001056.3</td>\n",
       "      <td>2</td>\n",
       "    </tr>\n",
       "    <tr>\n",
       "      <th>1738</th>\n",
       "      <td>F459001001026.3</td>\n",
       "      <td>2</td>\n",
       "    </tr>\n",
       "  </tbody>\n",
       "</table>\n",
       "</div>"
      ],
      "text/plain": [
       "               cowtai  CALF\n",
       "1511  F459001002049.2     2\n",
       "1589  F459001003042.1     2\n",
       "1679  F4590010D1076.3     2\n",
       "1730  F459001001056.3     2\n",
       "1738  F459001001026.3     2"
      ]
     },
     "execution_count": 230,
     "metadata": {},
     "output_type": "execute_result"
    }
   ],
   "source": [
    "CALF.head()"
   ]
  },
  {
   "cell_type": "markdown",
   "metadata": {},
   "source": [
    "# 提取配种员效应"
   ]
  },
  {
   "cell_type": "markdown",
   "metadata": {},
   "source": [
    "配种员效应可以通过配种事件中的配种员列进行提取，按照配种员名字进行分类。"
   ]
  },
  {
   "cell_type": "code",
   "execution_count": 231,
   "metadata": {},
   "outputs": [],
   "source": [
    "tm=fz[['配种员']].drop_duplicates(keep='first')"
   ]
  },
  {
   "cell_type": "code",
   "execution_count": 232,
   "metadata": {},
   "outputs": [
    {
     "data": {
      "text/html": [
       "<div>\n",
       "<style scoped>\n",
       "    .dataframe tbody tr th:only-of-type {\n",
       "        vertical-align: middle;\n",
       "    }\n",
       "\n",
       "    .dataframe tbody tr th {\n",
       "        vertical-align: top;\n",
       "    }\n",
       "\n",
       "    .dataframe thead th {\n",
       "        text-align: right;\n",
       "    }\n",
       "</style>\n",
       "<table border=\"1\" class=\"dataframe\">\n",
       "  <thead>\n",
       "    <tr style=\"text-align: right;\">\n",
       "      <th></th>\n",
       "      <th>配种员</th>\n",
       "    </tr>\n",
       "  </thead>\n",
       "  <tbody>\n",
       "    <tr>\n",
       "      <th>count</th>\n",
       "      <td>387</td>\n",
       "    </tr>\n",
       "    <tr>\n",
       "      <th>unique</th>\n",
       "      <td>387</td>\n",
       "    </tr>\n",
       "    <tr>\n",
       "      <th>top</th>\n",
       "      <td>各组统计</td>\n",
       "    </tr>\n",
       "    <tr>\n",
       "      <th>freq</th>\n",
       "      <td>1</td>\n",
       "    </tr>\n",
       "  </tbody>\n",
       "</table>\n",
       "</div>"
      ],
      "text/plain": [
       "         配种员\n",
       "count    387\n",
       "unique   387\n",
       "top     各组统计\n",
       "freq       1"
      ]
     },
     "execution_count": 232,
     "metadata": {},
     "output_type": "execute_result"
    }
   ],
   "source": [
    "tm.describe() #可以看出有387个类别，但需要进一步筛选。"
   ]
  },
  {
   "cell_type": "code",
   "execution_count": 233,
   "metadata": {},
   "outputs": [],
   "source": [
    "tm.to_csv('F:\\\\fertility data\\\\SUMBJ1807\\\\ST1807.csv',index=False,encoding='utf_8_sig')"
   ]
  },
  {
   "cell_type": "markdown",
   "metadata": {},
   "source": [
    "使用excel进行整理为STrecode之后使用。保留了328个配种员。"
   ]
  },
  {
   "cell_type": "markdown",
   "metadata": {},
   "source": [
    "# 提取性控精液效应"
   ]
  },
  {
   "cell_type": "markdown",
   "metadata": {},
   "source": [
    "性控精液效应可以从配种事件信息中提取含有‘性’的数据进行统计，但提取时要按照配种时间与牛只一一对应，即提取每胎首次配种的性控精液效应即可。"
   ]
  },
  {
   "cell_type": "code",
   "execution_count": 234,
   "metadata": {},
   "outputs": [],
   "source": [
    "sc=fz[fz['事件']=='输精'].drop_duplicates(subset=['FID','胎次','日期'],keep='first')"
   ]
  },
  {
   "cell_type": "code",
   "execution_count": 235,
   "metadata": {},
   "outputs": [],
   "source": [
    "sc['cowtai']=sc['FID']+'.'+sc['胎次']"
   ]
  },
  {
   "cell_type": "code",
   "execution_count": 236,
   "metadata": {},
   "outputs": [],
   "source": [
    "sc1=sc[['FID','胎次','cowtai','事件信息','日期']]"
   ]
  },
  {
   "cell_type": "code",
   "execution_count": 237,
   "metadata": {},
   "outputs": [
    {
     "data": {
      "text/html": [
       "<div>\n",
       "<style scoped>\n",
       "    .dataframe tbody tr th:only-of-type {\n",
       "        vertical-align: middle;\n",
       "    }\n",
       "\n",
       "    .dataframe tbody tr th {\n",
       "        vertical-align: top;\n",
       "    }\n",
       "\n",
       "    .dataframe thead th {\n",
       "        text-align: right;\n",
       "    }\n",
       "</style>\n",
       "<table border=\"1\" class=\"dataframe\">\n",
       "  <thead>\n",
       "    <tr style=\"text-align: right;\">\n",
       "      <th></th>\n",
       "      <th>FID</th>\n",
       "      <th>胎次</th>\n",
       "      <th>cowtai</th>\n",
       "      <th>事件信息</th>\n",
       "      <th>日期</th>\n",
       "    </tr>\n",
       "  </thead>\n",
       "  <tbody>\n",
       "    <tr>\n",
       "      <th>17</th>\n",
       "      <td>F459001097110</td>\n",
       "      <td>--</td>\n",
       "      <td>F459001097110.--</td>\n",
       "      <td>输精 次数:1</td>\n",
       "      <td>1999-05-09</td>\n",
       "    </tr>\n",
       "    <tr>\n",
       "      <th>31</th>\n",
       "      <td>F459001098047</td>\n",
       "      <td>--</td>\n",
       "      <td>F459001098047.--</td>\n",
       "      <td>输精 次数:1</td>\n",
       "      <td>2000-01-03</td>\n",
       "    </tr>\n",
       "    <tr>\n",
       "      <th>33</th>\n",
       "      <td>F459001097033</td>\n",
       "      <td>--</td>\n",
       "      <td>F459001097033.--</td>\n",
       "      <td>输精 次数:1</td>\n",
       "      <td>2000-01-09</td>\n",
       "    </tr>\n",
       "    <tr>\n",
       "      <th>34</th>\n",
       "      <td>F459001098011</td>\n",
       "      <td>--</td>\n",
       "      <td>F459001098011.--</td>\n",
       "      <td>输精 次数:1</td>\n",
       "      <td>2000-02-08</td>\n",
       "    </tr>\n",
       "    <tr>\n",
       "      <th>39</th>\n",
       "      <td>F459001D97138</td>\n",
       "      <td>--</td>\n",
       "      <td>F459001D97138.--</td>\n",
       "      <td>输精 次数:1</td>\n",
       "      <td>2000-03-04</td>\n",
       "    </tr>\n",
       "  </tbody>\n",
       "</table>\n",
       "</div>"
      ],
      "text/plain": [
       "              FID  胎次            cowtai     事件信息          日期\n",
       "17  F459001097110  --  F459001097110.--  输精 次数:1  1999-05-09\n",
       "31  F459001098047  --  F459001098047.--  输精 次数:1  2000-01-03\n",
       "33  F459001097033  --  F459001097033.--  输精 次数:1  2000-01-09\n",
       "34  F459001098011  --  F459001098011.--  输精 次数:1  2000-02-08\n",
       "39  F459001D97138  --  F459001D97138.--  输精 次数:1  2000-03-04"
      ]
     },
     "execution_count": 237,
     "metadata": {},
     "output_type": "execute_result"
    }
   ],
   "source": [
    "sc1.head()"
   ]
  },
  {
   "cell_type": "code",
   "execution_count": 238,
   "metadata": {},
   "outputs": [
    {
     "data": {
      "text/html": [
       "<div>\n",
       "<style scoped>\n",
       "    .dataframe tbody tr th:only-of-type {\n",
       "        vertical-align: middle;\n",
       "    }\n",
       "\n",
       "    .dataframe tbody tr th {\n",
       "        vertical-align: top;\n",
       "    }\n",
       "\n",
       "    .dataframe thead th {\n",
       "        text-align: right;\n",
       "    }\n",
       "</style>\n",
       "<table border=\"1\" class=\"dataframe\">\n",
       "  <thead>\n",
       "    <tr style=\"text-align: right;\">\n",
       "      <th></th>\n",
       "      <th>配种日期</th>\n",
       "    </tr>\n",
       "    <tr>\n",
       "      <th>cowtai</th>\n",
       "      <th></th>\n",
       "    </tr>\n",
       "  </thead>\n",
       "  <tbody>\n",
       "    <tr>\n",
       "      <th>F1014000001.--</th>\n",
       "      <td>2015-02-15</td>\n",
       "    </tr>\n",
       "    <tr>\n",
       "      <th>F1014000002.6</th>\n",
       "      <td>2013-01-28</td>\n",
       "    </tr>\n",
       "    <tr>\n",
       "      <th>F1014000002.7</th>\n",
       "      <td>2014-01-28</td>\n",
       "    </tr>\n",
       "    <tr>\n",
       "      <th>F1014000002.8</th>\n",
       "      <td>2015-04-05</td>\n",
       "    </tr>\n",
       "    <tr>\n",
       "      <th>F1014000003.--</th>\n",
       "      <td>2015-02-05</td>\n",
       "    </tr>\n",
       "  </tbody>\n",
       "</table>\n",
       "</div>"
      ],
      "text/plain": [
       "                      配种日期\n",
       "cowtai                    \n",
       "F1014000001.--  2015-02-15\n",
       "F1014000002.6   2013-01-28\n",
       "F1014000002.7   2014-01-28\n",
       "F1014000002.8   2015-04-05\n",
       "F1014000003.--  2015-02-05"
      ]
     },
     "execution_count": 238,
     "metadata": {},
     "output_type": "execute_result"
    }
   ],
   "source": [
    "pm.head()"
   ]
  },
  {
   "cell_type": "code",
   "execution_count": 239,
   "metadata": {},
   "outputs": [],
   "source": [
    "sc2=pd.merge(sc1,pm,left_on='cowtai',right_index=True)"
   ]
  },
  {
   "cell_type": "markdown",
   "metadata": {},
   "source": [
    "筛选日期与最小配种日期相等的数据，并提取性控精液效应。"
   ]
  },
  {
   "cell_type": "code",
   "execution_count": 240,
   "metadata": {},
   "outputs": [],
   "source": [
    "sc2['日期']=pd.to_datetime(sc2['日期'],format=\"%Y-%m-%d\")\n",
    "sc2['配种日期']=pd.to_datetime(sc2['配种日期'],format=\"%Y-%m-%d\")"
   ]
  },
  {
   "cell_type": "code",
   "execution_count": 241,
   "metadata": {},
   "outputs": [],
   "source": [
    "sc2['valid']=sc2['日期']-sc2['配种日期']\n",
    "sc2['valid']=list(map(lambda s: s.days,sc2['valid'])) "
   ]
  },
  {
   "cell_type": "code",
   "execution_count": 242,
   "metadata": {},
   "outputs": [],
   "source": [
    "sc3=sc2[sc2['valid']==0]"
   ]
  },
  {
   "cell_type": "code",
   "execution_count": 243,
   "metadata": {},
   "outputs": [
    {
     "data": {
      "text/plain": [
       "FID       442858\n",
       "胎次        442858\n",
       "cowtai    442858\n",
       "事件信息      442858\n",
       "日期        442858\n",
       "配种日期      442858\n",
       "valid     442858\n",
       "dtype: int64"
      ]
     },
     "execution_count": 243,
     "metadata": {},
     "output_type": "execute_result"
    }
   ],
   "source": [
    "sc3.count()"
   ]
  },
  {
   "cell_type": "markdown",
   "metadata": {},
   "source": [
    "共计筛选出443，386条各胎次首配数据，接下来进行性控精液的筛选。选取事件信息中包含‘性’字段的数据。"
   ]
  },
  {
   "cell_type": "code",
   "execution_count": 244,
   "metadata": {},
   "outputs": [
    {
     "name": "stderr",
     "output_type": "stream",
     "text": [
      "E:\\Anaconda\\lib\\site-packages\\ipykernel_launcher.py:1: SettingWithCopyWarning: \n",
      "A value is trying to be set on a copy of a slice from a DataFrame.\n",
      "Try using .loc[row_indexer,col_indexer] = value instead\n",
      "\n",
      "See the caveats in the documentation: http://pandas.pydata.org/pandas-docs/stable/indexing.html#indexing-view-versus-copy\n",
      "  \"\"\"Entry point for launching an IPython kernel.\n",
      "E:\\Anaconda\\lib\\site-packages\\ipykernel_launcher.py:2: SettingWithCopyWarning: \n",
      "A value is trying to be set on a copy of a slice from a DataFrame.\n",
      "Try using .loc[row_indexer,col_indexer] = value instead\n",
      "\n",
      "See the caveats in the documentation: http://pandas.pydata.org/pandas-docs/stable/indexing.html#indexing-view-versus-copy\n",
      "  \n"
     ]
    }
   ],
   "source": [
    "sc3['SC']=sc3['事件信息'].str.contains('性')\n",
    "sc3['SC']=sc3['SC'].apply(lambda s: 1 if s==True else 0)\n",
    "sc3=sc3.dropna(axis=0)"
   ]
  },
  {
   "cell_type": "code",
   "execution_count": 245,
   "metadata": {},
   "outputs": [],
   "source": [
    "SC=sc3[['cowtai','SC']]"
   ]
  },
  {
   "cell_type": "code",
   "execution_count": 246,
   "metadata": {},
   "outputs": [],
   "source": [
    "SC1=sc3[sc3['SC']==1]"
   ]
  },
  {
   "cell_type": "code",
   "execution_count": 247,
   "metadata": {},
   "outputs": [
    {
     "data": {
      "text/plain": [
       "FID       13035\n",
       "胎次        13035\n",
       "cowtai    13035\n",
       "事件信息      13035\n",
       "日期        13035\n",
       "配种日期      13035\n",
       "valid     13035\n",
       "SC        13035\n",
       "dtype: int64"
      ]
     },
     "execution_count": 247,
     "metadata": {},
     "output_type": "execute_result"
    }
   ],
   "source": [
    "SC1.count()"
   ]
  },
  {
   "cell_type": "markdown",
   "metadata": {},
   "source": [
    "可见使用性控精液的数据仅有13035条。"
   ]
  },
  {
   "cell_type": "markdown",
   "metadata": {},
   "source": [
    "# 产犊间隔CI的计算"
   ]
  },
  {
   "cell_type": "markdown",
   "metadata": {},
   "source": [
    "产犊间隔指奶牛两次产犊之间的时间间隔，为经产牛性状。计算方法是提取一头牛本次与下次的产犊时间，然后相减即可。"
   ]
  },
  {
   "cell_type": "code",
   "execution_count": 141,
   "metadata": {},
   "outputs": [
    {
     "name": "stderr",
     "output_type": "stream",
     "text": [
      "E:\\Anaconda\\lib\\site-packages\\ipykernel_launcher.py:1: SettingWithCopyWarning: \n",
      "A value is trying to be set on a copy of a slice from a DataFrame.\n",
      "Try using .loc[row_indexer,col_indexer] = value instead\n",
      "\n",
      "See the caveats in the documentation: http://pandas.pydata.org/pandas-docs/stable/indexing.html#indexing-view-versus-copy\n",
      "  \"\"\"Entry point for launching an IPython kernel.\n"
     ]
    },
    {
     "ename": "ValueError",
     "evalue": "invalid literal for int() with base 10: '1900-01-08 00:00:00'",
     "output_type": "error",
     "traceback": [
      "\u001b[1;31m---------------------------------------------------------------------------\u001b[0m",
      "\u001b[1;31mValueError\u001b[0m                                Traceback (most recent call last)",
      "\u001b[1;32m<ipython-input-141-d6ffa11c95db>\u001b[0m in \u001b[0;36m<module>\u001b[1;34m()\u001b[0m\n\u001b[0;32m      1\u001b[0m \u001b[0mc3\u001b[0m\u001b[1;33m[\u001b[0m\u001b[1;34m'胎次'\u001b[0m\u001b[1;33m]\u001b[0m\u001b[1;33m=\u001b[0m\u001b[0mc3\u001b[0m\u001b[1;33m[\u001b[0m\u001b[1;34m'胎次'\u001b[0m\u001b[1;33m]\u001b[0m\u001b[1;33m.\u001b[0m\u001b[0mreplace\u001b[0m\u001b[1;33m(\u001b[0m\u001b[1;34m'--'\u001b[0m\u001b[1;33m,\u001b[0m\u001b[1;36m0\u001b[0m\u001b[1;33m)\u001b[0m\u001b[1;33m\u001b[0m\u001b[0m\n\u001b[1;32m----> 2\u001b[1;33m \u001b[0mc3\u001b[0m\u001b[1;33m[\u001b[0m\u001b[1;34m'胎次'\u001b[0m\u001b[1;33m]\u001b[0m\u001b[1;33m=\u001b[0m\u001b[0mlist\u001b[0m\u001b[1;33m(\u001b[0m\u001b[0mmap\u001b[0m\u001b[1;33m(\u001b[0m\u001b[1;32mlambda\u001b[0m \u001b[0ms\u001b[0m\u001b[1;33m:\u001b[0m\u001b[0mint\u001b[0m\u001b[1;33m(\u001b[0m\u001b[0ms\u001b[0m\u001b[1;33m)\u001b[0m\u001b[1;33m,\u001b[0m\u001b[0mc3\u001b[0m\u001b[1;33m[\u001b[0m\u001b[1;34m'胎次'\u001b[0m\u001b[1;33m]\u001b[0m\u001b[1;33m)\u001b[0m\u001b[1;33m)\u001b[0m\u001b[1;33m\u001b[0m\u001b[0m\n\u001b[0m",
      "\u001b[1;32m<ipython-input-141-d6ffa11c95db>\u001b[0m in \u001b[0;36m<lambda>\u001b[1;34m(s)\u001b[0m\n\u001b[0;32m      1\u001b[0m \u001b[0mc3\u001b[0m\u001b[1;33m[\u001b[0m\u001b[1;34m'胎次'\u001b[0m\u001b[1;33m]\u001b[0m\u001b[1;33m=\u001b[0m\u001b[0mc3\u001b[0m\u001b[1;33m[\u001b[0m\u001b[1;34m'胎次'\u001b[0m\u001b[1;33m]\u001b[0m\u001b[1;33m.\u001b[0m\u001b[0mreplace\u001b[0m\u001b[1;33m(\u001b[0m\u001b[1;34m'--'\u001b[0m\u001b[1;33m,\u001b[0m\u001b[1;36m0\u001b[0m\u001b[1;33m)\u001b[0m\u001b[1;33m\u001b[0m\u001b[0m\n\u001b[1;32m----> 2\u001b[1;33m \u001b[0mc3\u001b[0m\u001b[1;33m[\u001b[0m\u001b[1;34m'胎次'\u001b[0m\u001b[1;33m]\u001b[0m\u001b[1;33m=\u001b[0m\u001b[0mlist\u001b[0m\u001b[1;33m(\u001b[0m\u001b[0mmap\u001b[0m\u001b[1;33m(\u001b[0m\u001b[1;32mlambda\u001b[0m \u001b[0ms\u001b[0m\u001b[1;33m:\u001b[0m\u001b[0mint\u001b[0m\u001b[1;33m(\u001b[0m\u001b[0ms\u001b[0m\u001b[1;33m)\u001b[0m\u001b[1;33m,\u001b[0m\u001b[0mc3\u001b[0m\u001b[1;33m[\u001b[0m\u001b[1;34m'胎次'\u001b[0m\u001b[1;33m]\u001b[0m\u001b[1;33m)\u001b[0m\u001b[1;33m)\u001b[0m\u001b[1;33m\u001b[0m\u001b[0m\n\u001b[0m",
      "\u001b[1;31mValueError\u001b[0m: invalid literal for int() with base 10: '1900-01-08 00:00:00'"
     ]
    }
   ],
   "source": [
    "c3['胎次']=c3['胎次'].replace('--',0)\n",
    "c3['胎次']=list(map(lambda s:int(s),c3['胎次']))"
   ]
  },
  {
   "cell_type": "code",
   "execution_count": null,
   "metadata": {},
   "outputs": [],
   "source": [
    "c4=c3[c3['胎次']>0]"
   ]
  },
  {
   "cell_type": "code",
   "execution_count": null,
   "metadata": {},
   "outputs": [],
   "source": [
    "c4['胎次']=list(map(lambda s:s+1,c4['胎次']))"
   ]
  },
  {
   "cell_type": "code",
   "execution_count": null,
   "metadata": {},
   "outputs": [],
   "source": [
    "c4['胎次']=list(map(lambda s:str(s),c4['胎次']))\n",
    "c4['cowtai']=c4['FID']+'.'+c4['胎次']"
   ]
  },
  {
   "cell_type": "code",
   "execution_count": null,
   "metadata": {},
   "outputs": [],
   "source": [
    "c4.rename(columns={'产犊日期':'上胎产犊日期'},inplace=True)\n",
    "c3.rename(columns={'产犊日期':'本胎产犊日期'},inplace=True)"
   ]
  },
  {
   "cell_type": "code",
   "execution_count": null,
   "metadata": {},
   "outputs": [],
   "source": [
    "c5=c4[['cowtai','上胎产犊日期']]"
   ]
  },
  {
   "cell_type": "code",
   "execution_count": null,
   "metadata": {},
   "outputs": [],
   "source": [
    "ci=pd.merge(c3,c5,on='cowtai')"
   ]
  },
  {
   "cell_type": "code",
   "execution_count": null,
   "metadata": {},
   "outputs": [],
   "source": [
    "ci['本胎产犊日期']=pd.to_datetime(ci['本胎产犊日期'],format=\"%Y-%m-%d\")\n",
    "ci['上胎产犊日期']=pd.to_datetime(ci['上胎产犊日期'],format=\"%Y-%m-%d\")"
   ]
  },
  {
   "cell_type": "code",
   "execution_count": null,
   "metadata": {},
   "outputs": [],
   "source": [
    "ci['CI']=ci['本胎产犊日期']-ci['上胎产犊日期']\n",
    "ci['CI']=list(map(lambda s: s.days,ci['CI']))"
   ]
  },
  {
   "cell_type": "code",
   "execution_count": null,
   "metadata": {},
   "outputs": [],
   "source": [
    "ci.describe()"
   ]
  },
  {
   "cell_type": "code",
   "execution_count": null,
   "metadata": {},
   "outputs": [],
   "source": [
    "ci1=ci[(ci['CI']>=300)&(ci['CI']<=480)]"
   ]
  },
  {
   "cell_type": "code",
   "execution_count": null,
   "metadata": {},
   "outputs": [],
   "source": [
    "ci1.describe()"
   ]
  },
  {
   "cell_type": "code",
   "execution_count": null,
   "metadata": {},
   "outputs": [],
   "source": [
    "sns.distplot(ci1['CI'],norm_hist=False,kde=False)"
   ]
  },
  {
   "cell_type": "markdown",
   "metadata": {},
   "source": [
    "可见365天数据太多，为阿非金系统自动生成。"
   ]
  },
  {
   "cell_type": "markdown",
   "metadata": {},
   "source": [
    "# 配种次数 AIS的计算"
   ]
  },
  {
   "cell_type": "markdown",
   "metadata": {},
   "source": [
    "配种次数AIS为所有母牛的繁殖性状，其是统计一头牛在本胎次配种的总次数。初步计算方法为统计配种日期的次数。"
   ]
  },
  {
   "cell_type": "code",
   "execution_count": null,
   "metadata": {},
   "outputs": [],
   "source": [
    "p2.head()"
   ]
  },
  {
   "cell_type": "code",
   "execution_count": null,
   "metadata": {},
   "outputs": [],
   "source": [
    "ai=p2['配种日期'].groupby([p2['cowtai']]).count()\n",
    "ai1=pd.DataFrame(ai)"
   ]
  },
  {
   "cell_type": "code",
   "execution_count": null,
   "metadata": {},
   "outputs": [],
   "source": [
    "ais=pd.merge(p2,ai1,left_on='cowtai',right_index=True)"
   ]
  },
  {
   "cell_type": "code",
   "execution_count": null,
   "metadata": {},
   "outputs": [],
   "source": [
    "ais.rename(columns={'配种日期_x':'配种日期','配种日期_y':'AIS'},inplace=True)"
   ]
  },
  {
   "cell_type": "code",
   "execution_count": null,
   "metadata": {},
   "outputs": [],
   "source": [
    "ais1=ais[(ais['AIS']>0)&(ais['AIS']<9)]"
   ]
  },
  {
   "cell_type": "code",
   "execution_count": null,
   "metadata": {},
   "outputs": [],
   "source": [
    "ais1.describe()"
   ]
  },
  {
   "cell_type": "code",
   "execution_count": null,
   "metadata": {},
   "outputs": [],
   "source": [
    "sns.countplot(x='AIS',data=ais1)"
   ]
  },
  {
   "cell_type": "markdown",
   "metadata": {},
   "source": [
    "# 配种月效应与IFL的分布"
   ]
  },
  {
   "cell_type": "markdown",
   "metadata": {},
   "source": [
    "## 筛选各胎次牛首次配种的效应"
   ]
  },
  {
   "cell_type": "code",
   "execution_count": 105,
   "metadata": {},
   "outputs": [],
   "source": [
    "pp=p"
   ]
  },
  {
   "cell_type": "code",
   "execution_count": 106,
   "metadata": {},
   "outputs": [],
   "source": [
    "pp['cowtai']=p['FID']+'.'+p['胎次']\n",
    "ppm=pp['配种日期'].groupby([pp['cowtai']]).min()"
   ]
  },
  {
   "cell_type": "code",
   "execution_count": 107,
   "metadata": {},
   "outputs": [],
   "source": [
    "ppm1=pd.DataFrame(ppm)"
   ]
  },
  {
   "cell_type": "code",
   "execution_count": 108,
   "metadata": {},
   "outputs": [],
   "source": [
    "ppp=pp\n",
    "del ppp['配种日期']"
   ]
  },
  {
   "cell_type": "code",
   "execution_count": 109,
   "metadata": {},
   "outputs": [
    {
     "data": {
      "text/html": [
       "<div>\n",
       "<style scoped>\n",
       "    .dataframe tbody tr th:only-of-type {\n",
       "        vertical-align: middle;\n",
       "    }\n",
       "\n",
       "    .dataframe tbody tr th {\n",
       "        vertical-align: top;\n",
       "    }\n",
       "\n",
       "    .dataframe thead th {\n",
       "        text-align: right;\n",
       "    }\n",
       "</style>\n",
       "<table border=\"1\" class=\"dataframe\">\n",
       "  <thead>\n",
       "    <tr style=\"text-align: right;\">\n",
       "      <th></th>\n",
       "      <th>FID</th>\n",
       "      <th>胎次</th>\n",
       "      <th>HERD</th>\n",
       "      <th>配种员</th>\n",
       "      <th>年</th>\n",
       "      <th>月</th>\n",
       "      <th>YMI</th>\n",
       "      <th>HYI</th>\n",
       "      <th>cowtai</th>\n",
       "      <th>配种日期</th>\n",
       "    </tr>\n",
       "  </thead>\n",
       "  <tbody>\n",
       "    <tr>\n",
       "      <th>7144798</th>\n",
       "      <td>F1014000001</td>\n",
       "      <td>--</td>\n",
       "      <td>1014</td>\n",
       "      <td>--</td>\n",
       "      <td>2015</td>\n",
       "      <td>02</td>\n",
       "      <td>201502</td>\n",
       "      <td>10142015</td>\n",
       "      <td>F1014000001.--</td>\n",
       "      <td>2015-02-15</td>\n",
       "    </tr>\n",
       "    <tr>\n",
       "      <th>7141896</th>\n",
       "      <td>F1014000002</td>\n",
       "      <td>6</td>\n",
       "      <td>1014</td>\n",
       "      <td>--</td>\n",
       "      <td>2013</td>\n",
       "      <td>01</td>\n",
       "      <td>201301</td>\n",
       "      <td>10142013</td>\n",
       "      <td>F1014000002.6</td>\n",
       "      <td>2013-01-28</td>\n",
       "    </tr>\n",
       "    <tr>\n",
       "      <th>7144802</th>\n",
       "      <td>F1014000002</td>\n",
       "      <td>7</td>\n",
       "      <td>1014</td>\n",
       "      <td>--</td>\n",
       "      <td>2014</td>\n",
       "      <td>01</td>\n",
       "      <td>201401</td>\n",
       "      <td>10142014</td>\n",
       "      <td>F1014000002.7</td>\n",
       "      <td>2014-01-28</td>\n",
       "    </tr>\n",
       "    <tr>\n",
       "      <th>7144808</th>\n",
       "      <td>F1014000002</td>\n",
       "      <td>8</td>\n",
       "      <td>1014</td>\n",
       "      <td>--</td>\n",
       "      <td>2015</td>\n",
       "      <td>04</td>\n",
       "      <td>201504</td>\n",
       "      <td>10142015</td>\n",
       "      <td>F1014000002.8</td>\n",
       "      <td>2015-04-05</td>\n",
       "    </tr>\n",
       "    <tr>\n",
       "      <th>7144812</th>\n",
       "      <td>F1014000003</td>\n",
       "      <td>--</td>\n",
       "      <td>1014</td>\n",
       "      <td>--</td>\n",
       "      <td>2015</td>\n",
       "      <td>02</td>\n",
       "      <td>201502</td>\n",
       "      <td>10142015</td>\n",
       "      <td>F1014000003.--</td>\n",
       "      <td>2015-02-05</td>\n",
       "    </tr>\n",
       "  </tbody>\n",
       "</table>\n",
       "</div>"
      ],
      "text/plain": [
       "                 FID  胎次  HERD 配种员     年   月     YMI       HYI  \\\n",
       "7144798  F1014000001  --  1014  --  2015  02  201502  10142015   \n",
       "7141896  F1014000002   6  1014  --  2013  01  201301  10142013   \n",
       "7144802  F1014000002   7  1014  --  2014  01  201401  10142014   \n",
       "7144808  F1014000002   8  1014  --  2015  04  201504  10142015   \n",
       "7144812  F1014000003  --  1014  --  2015  02  201502  10142015   \n",
       "\n",
       "                 cowtai        配种日期  \n",
       "7144798  F1014000001.--  2015-02-15  \n",
       "7141896   F1014000002.6  2013-01-28  \n",
       "7144802   F1014000002.7  2014-01-28  \n",
       "7144808   F1014000002.8  2015-04-05  \n",
       "7144812  F1014000003.--  2015-02-05  "
      ]
     },
     "execution_count": 109,
     "metadata": {},
     "output_type": "execute_result"
    }
   ],
   "source": [
    "pe=pd.merge(ppp,ppm1,left_on='cowtai',right_index=True).drop_duplicates(subset=['FID','胎次','配种日期'],keep='first')\n",
    "pe.head()"
   ]
  },
  {
   "cell_type": "code",
   "execution_count": 213,
   "metadata": {},
   "outputs": [
    {
     "data": {
      "text/plain": [
       "FID       443386\n",
       "胎次        443386\n",
       "IFL       443386\n",
       "cowtai    443386\n",
       "YMI       443386\n",
       "月         443386\n",
       "dtype: int64"
      ]
     },
     "execution_count": 213,
     "metadata": {},
     "output_type": "execute_result"
    }
   ],
   "source": [
    "IFLL=IFL1[['FID','胎次','IFL','cowtai']]\n",
    "pe1=pe[['cowtai','YMI','月']]\n",
    "IFLm=pd.merge(IFLL,pe1,on='cowtai')\n",
    "IFLm.count()"
   ]
  },
  {
   "cell_type": "code",
   "execution_count": 214,
   "metadata": {},
   "outputs": [
    {
     "data": {
      "text/plain": [
       "Text(0.5,1,'IFL按配种月分布')"
      ]
     },
     "execution_count": 214,
     "metadata": {},
     "output_type": "execute_result"
    },
    {
     "data": {
      "image/png": "[encoded data removed]",
      "text/plain": [
       "<matplotlib.figure.Figure at 0x1980277d358>"
      ]
     },
     "metadata": {},
     "output_type": "display_data"
    }
   ],
   "source": [
    "IFLm['月']=list(map(lambda s: int(s),IFLm['月']))\n",
    "sns.barplot(x=IFLm['月'],y=IFLm['IFL'])\n",
    "plt.title('IFL按配种月分布')"
   ]
  },
  {
   "cell_type": "markdown",
   "metadata": {},
   "source": [
    "## 筛选青年牛"
   ]
  },
  {
   "cell_type": "code",
   "execution_count": null,
   "metadata": {},
   "outputs": [],
   "source": [
    "IFLmh=IFLm[IFLm['胎次']=='--']\n",
    "IFLmh.describe()"
   ]
  },
  {
   "cell_type": "markdown",
   "metadata": {},
   "source": [
    "### 青年牛配种月效应分布"
   ]
  },
  {
   "cell_type": "code",
   "execution_count": null,
   "metadata": {},
   "outputs": [],
   "source": [
    "sns.barplot(x=IFLmh['月'],y=IFLmh['IFL'])\n",
    "plt.title('青年牛IFL按配种月分布')"
   ]
  },
  {
   "cell_type": "markdown",
   "metadata": {},
   "source": [
    "### 首末配种间隔为0的个体月效应分布"
   ]
  },
  {
   "cell_type": "code",
   "execution_count": null,
   "metadata": {},
   "outputs": [],
   "source": [
    "IFLm1=IFLmh[IFLmh['IFL']==0]"
   ]
  },
  {
   "cell_type": "code",
   "execution_count": null,
   "metadata": {},
   "outputs": [],
   "source": [
    "sns.distplot(IFLm1['月'],norm_hist=False,kde=False)\n",
    "plt.title('IFL=0的数据分布')"
   ]
  },
  {
   "cell_type": "markdown",
   "metadata": {},
   "source": [
    "# 各效应提取与性状合并"
   ]
  },
  {
   "cell_type": "markdown",
   "metadata": {},
   "source": [
    "## 按胎次提取牛号 cowtai"
   ]
  },
  {
   "cell_type": "code",
   "execution_count": 248,
   "metadata": {},
   "outputs": [],
   "source": [
    "cowtai=fz[['FID','胎次','HERD']]"
   ]
  },
  {
   "cell_type": "code",
   "execution_count": 249,
   "metadata": {},
   "outputs": [
    {
     "name": "stderr",
     "output_type": "stream",
     "text": [
      "E:\\Anaconda\\lib\\site-packages\\ipykernel_launcher.py:1: SettingWithCopyWarning: \n",
      "A value is trying to be set on a copy of a slice from a DataFrame.\n",
      "Try using .loc[row_indexer,col_indexer] = value instead\n",
      "\n",
      "See the caveats in the documentation: http://pandas.pydata.org/pandas-docs/stable/indexing.html#indexing-view-versus-copy\n",
      "  \"\"\"Entry point for launching an IPython kernel.\n"
     ]
    }
   ],
   "source": [
    "cowtai['cowtai']=cowtai['FID']+'.'+cowtai['胎次']"
   ]
  },
  {
   "cell_type": "code",
   "execution_count": 250,
   "metadata": {},
   "outputs": [],
   "source": [
    "cowtai=cowtai.drop_duplicates(subset=['cowtai'],keep='first')"
   ]
  },
  {
   "cell_type": "code",
   "execution_count": 251,
   "metadata": {},
   "outputs": [
    {
     "data": {
      "text/plain": [
       "FID       684517\n",
       "胎次        684516\n",
       "HERD      684517\n",
       "cowtai    684516\n",
       "dtype: int64"
      ]
     },
     "execution_count": 251,
     "metadata": {},
     "output_type": "execute_result"
    }
   ],
   "source": [
    "cowtai.count()"
   ]
  },
  {
   "cell_type": "markdown",
   "metadata": {},
   "source": [
    "## 出生事件效应合并"
   ]
  },
  {
   "cell_type": "code",
   "execution_count": 252,
   "metadata": {},
   "outputs": [],
   "source": [
    "bb=b"
   ]
  },
  {
   "cell_type": "code",
   "execution_count": 253,
   "metadata": {},
   "outputs": [],
   "source": [
    "bb=b[['FID','YMB','HYB']]"
   ]
  },
  {
   "cell_type": "code",
   "execution_count": 254,
   "metadata": {},
   "outputs": [
    {
     "data": {
      "text/html": [
       "<div>\n",
       "<style scoped>\n",
       "    .dataframe tbody tr th:only-of-type {\n",
       "        vertical-align: middle;\n",
       "    }\n",
       "\n",
       "    .dataframe tbody tr th {\n",
       "        vertical-align: top;\n",
       "    }\n",
       "\n",
       "    .dataframe thead th {\n",
       "        text-align: right;\n",
       "    }\n",
       "</style>\n",
       "<table border=\"1\" class=\"dataframe\">\n",
       "  <thead>\n",
       "    <tr style=\"text-align: right;\">\n",
       "      <th></th>\n",
       "      <th>FID</th>\n",
       "      <th>YMB</th>\n",
       "      <th>HYB</th>\n",
       "    </tr>\n",
       "  </thead>\n",
       "  <tbody>\n",
       "    <tr>\n",
       "      <th>7142208</th>\n",
       "      <td>F1014000079</td>\n",
       "      <td>201308</td>\n",
       "      <td>10142013</td>\n",
       "    </tr>\n",
       "    <tr>\n",
       "      <th>7142270</th>\n",
       "      <td>F1014000090</td>\n",
       "      <td>201309</td>\n",
       "      <td>10142013</td>\n",
       "    </tr>\n",
       "    <tr>\n",
       "      <th>7142272</th>\n",
       "      <td>F1014000091</td>\n",
       "      <td>201307</td>\n",
       "      <td>10142013</td>\n",
       "    </tr>\n",
       "    <tr>\n",
       "      <th>7158259</th>\n",
       "      <td>F10140000G1</td>\n",
       "      <td>201512</td>\n",
       "      <td>10142015</td>\n",
       "    </tr>\n",
       "    <tr>\n",
       "      <th>7176602</th>\n",
       "      <td>F10140000G2</td>\n",
       "      <td>201605</td>\n",
       "      <td>10142016</td>\n",
       "    </tr>\n",
       "  </tbody>\n",
       "</table>\n",
       "</div>"
      ],
      "text/plain": [
       "                 FID     YMB       HYB\n",
       "7142208  F1014000079  201308  10142013\n",
       "7142270  F1014000090  201309  10142013\n",
       "7142272  F1014000091  201307  10142013\n",
       "7158259  F10140000G1  201512  10142015\n",
       "7176602  F10140000G2  201605  10142016"
      ]
     },
     "execution_count": 254,
     "metadata": {},
     "output_type": "execute_result"
    }
   ],
   "source": [
    "bb.head()"
   ]
  },
  {
   "cell_type": "code",
   "execution_count": 255,
   "metadata": {},
   "outputs": [
    {
     "data": {
      "text/html": [
       "<div>\n",
       "<style scoped>\n",
       "    .dataframe tbody tr th:only-of-type {\n",
       "        vertical-align: middle;\n",
       "    }\n",
       "\n",
       "    .dataframe tbody tr th {\n",
       "        vertical-align: top;\n",
       "    }\n",
       "\n",
       "    .dataframe thead th {\n",
       "        text-align: right;\n",
       "    }\n",
       "</style>\n",
       "<table border=\"1\" class=\"dataframe\">\n",
       "  <thead>\n",
       "    <tr style=\"text-align: right;\">\n",
       "      <th></th>\n",
       "      <th>FID</th>\n",
       "      <th>胎次</th>\n",
       "      <th>HERD</th>\n",
       "      <th>cowtai</th>\n",
       "      <th>YMB</th>\n",
       "      <th>HYB</th>\n",
       "    </tr>\n",
       "  </thead>\n",
       "  <tbody>\n",
       "    <tr>\n",
       "      <th>0</th>\n",
       "      <td>F459001097033</td>\n",
       "      <td>--</td>\n",
       "      <td>110901</td>\n",
       "      <td>F459001097033.--</td>\n",
       "      <td>199704</td>\n",
       "      <td>1109011997</td>\n",
       "    </tr>\n",
       "    <tr>\n",
       "      <th>1</th>\n",
       "      <td>F459001097110</td>\n",
       "      <td>--</td>\n",
       "      <td>110901</td>\n",
       "      <td>F459001097110.--</td>\n",
       "      <td>199711</td>\n",
       "      <td>1109011997</td>\n",
       "    </tr>\n",
       "    <tr>\n",
       "      <th>2</th>\n",
       "      <td>F459001D97138</td>\n",
       "      <td>--</td>\n",
       "      <td>110901</td>\n",
       "      <td>F459001D97138.--</td>\n",
       "      <td>199712</td>\n",
       "      <td>1109011997</td>\n",
       "    </tr>\n",
       "    <tr>\n",
       "      <th>3</th>\n",
       "      <td>F459001098011</td>\n",
       "      <td>--</td>\n",
       "      <td>110901</td>\n",
       "      <td>F459001098011.--</td>\n",
       "      <td>199802</td>\n",
       "      <td>1109011998</td>\n",
       "    </tr>\n",
       "    <tr>\n",
       "      <th>4</th>\n",
       "      <td>F459001098047</td>\n",
       "      <td>--</td>\n",
       "      <td>110901</td>\n",
       "      <td>F459001098047.--</td>\n",
       "      <td>199806</td>\n",
       "      <td>1109011998</td>\n",
       "    </tr>\n",
       "  </tbody>\n",
       "</table>\n",
       "</div>"
      ],
      "text/plain": [
       "             FID  胎次    HERD            cowtai     YMB         HYB\n",
       "0  F459001097033  --  110901  F459001097033.--  199704  1109011997\n",
       "1  F459001097110  --  110901  F459001097110.--  199711  1109011997\n",
       "2  F459001D97138  --  110901  F459001D97138.--  199712  1109011997\n",
       "3  F459001098011  --  110901  F459001098011.--  199802  1109011998\n",
       "4  F459001098047  --  110901  F459001098047.--  199806  1109011998"
      ]
     },
     "execution_count": 255,
     "metadata": {},
     "output_type": "execute_result"
    }
   ],
   "source": [
    "cowtai1=pd.merge(cowtai,bb,on='FID',how='left')\n",
    "cowtai1.head()"
   ]
  },
  {
   "cell_type": "code",
   "execution_count": 256,
   "metadata": {},
   "outputs": [
    {
     "data": {
      "text/plain": [
       "FID       684570\n",
       "胎次        684569\n",
       "HERD      684570\n",
       "cowtai    684569\n",
       "YMB       596475\n",
       "HYB       596475\n",
       "dtype: int64"
      ]
     },
     "execution_count": 256,
     "metadata": {},
     "output_type": "execute_result"
    }
   ],
   "source": [
    "cowtai1.count()"
   ]
  },
  {
   "cell_type": "markdown",
   "metadata": {},
   "source": [
    "## 产犊事件效应合并"
   ]
  },
  {
   "cell_type": "code",
   "execution_count": 257,
   "metadata": {},
   "outputs": [],
   "source": [
    "c['cowtai']=c['FID']+'.'+c['胎次']"
   ]
  },
  {
   "cell_type": "code",
   "execution_count": 258,
   "metadata": {},
   "outputs": [],
   "source": [
    "cc=c[['cowtai','YMC','HYC']]"
   ]
  },
  {
   "cell_type": "code",
   "execution_count": 259,
   "metadata": {},
   "outputs": [
    {
     "data": {
      "text/html": [
       "<div>\n",
       "<style scoped>\n",
       "    .dataframe tbody tr th:only-of-type {\n",
       "        vertical-align: middle;\n",
       "    }\n",
       "\n",
       "    .dataframe tbody tr th {\n",
       "        vertical-align: top;\n",
       "    }\n",
       "\n",
       "    .dataframe thead th {\n",
       "        text-align: right;\n",
       "    }\n",
       "</style>\n",
       "<table border=\"1\" class=\"dataframe\">\n",
       "  <thead>\n",
       "    <tr style=\"text-align: right;\">\n",
       "      <th></th>\n",
       "      <th>FID</th>\n",
       "      <th>胎次</th>\n",
       "      <th>HERD</th>\n",
       "      <th>cowtai</th>\n",
       "      <th>YMB</th>\n",
       "      <th>HYB</th>\n",
       "      <th>YMC</th>\n",
       "      <th>HYC</th>\n",
       "    </tr>\n",
       "  </thead>\n",
       "  <tbody>\n",
       "    <tr>\n",
       "      <th>0</th>\n",
       "      <td>F459001097033</td>\n",
       "      <td>--</td>\n",
       "      <td>110901</td>\n",
       "      <td>F459001097033.--</td>\n",
       "      <td>199704</td>\n",
       "      <td>1109011997</td>\n",
       "      <td>NaN</td>\n",
       "      <td>NaN</td>\n",
       "    </tr>\n",
       "    <tr>\n",
       "      <th>1</th>\n",
       "      <td>F459001097110</td>\n",
       "      <td>--</td>\n",
       "      <td>110901</td>\n",
       "      <td>F459001097110.--</td>\n",
       "      <td>199711</td>\n",
       "      <td>1109011997</td>\n",
       "      <td>NaN</td>\n",
       "      <td>NaN</td>\n",
       "    </tr>\n",
       "    <tr>\n",
       "      <th>2</th>\n",
       "      <td>F459001D97138</td>\n",
       "      <td>--</td>\n",
       "      <td>110901</td>\n",
       "      <td>F459001D97138.--</td>\n",
       "      <td>199712</td>\n",
       "      <td>1109011997</td>\n",
       "      <td>NaN</td>\n",
       "      <td>NaN</td>\n",
       "    </tr>\n",
       "    <tr>\n",
       "      <th>3</th>\n",
       "      <td>F459001098011</td>\n",
       "      <td>--</td>\n",
       "      <td>110901</td>\n",
       "      <td>F459001098011.--</td>\n",
       "      <td>199802</td>\n",
       "      <td>1109011998</td>\n",
       "      <td>NaN</td>\n",
       "      <td>NaN</td>\n",
       "    </tr>\n",
       "    <tr>\n",
       "      <th>4</th>\n",
       "      <td>F459001098047</td>\n",
       "      <td>--</td>\n",
       "      <td>110901</td>\n",
       "      <td>F459001098047.--</td>\n",
       "      <td>199806</td>\n",
       "      <td>1109011998</td>\n",
       "      <td>NaN</td>\n",
       "      <td>NaN</td>\n",
       "    </tr>\n",
       "  </tbody>\n",
       "</table>\n",
       "</div>"
      ],
      "text/plain": [
       "             FID  胎次    HERD            cowtai     YMB         HYB  YMC  HYC\n",
       "0  F459001097033  --  110901  F459001097033.--  199704  1109011997  NaN  NaN\n",
       "1  F459001097110  --  110901  F459001097110.--  199711  1109011997  NaN  NaN\n",
       "2  F459001D97138  --  110901  F459001D97138.--  199712  1109011997  NaN  NaN\n",
       "3  F459001098011  --  110901  F459001098011.--  199802  1109011998  NaN  NaN\n",
       "4  F459001098047  --  110901  F459001098047.--  199806  1109011998  NaN  NaN"
      ]
     },
     "execution_count": 259,
     "metadata": {},
     "output_type": "execute_result"
    }
   ],
   "source": [
    "cowtai2=pd.merge(cowtai1,cc,on='cowtai',how='left')\n",
    "cowtai2.head()"
   ]
  },
  {
   "cell_type": "code",
   "execution_count": 260,
   "metadata": {},
   "outputs": [
    {
     "data": {
      "text/plain": [
       "FID       692840\n",
       "胎次        684817\n",
       "HERD      692840\n",
       "cowtai    684817\n",
       "YMB       596708\n",
       "HYB       596708\n",
       "YMC       337511\n",
       "HYC       337511\n",
       "dtype: int64"
      ]
     },
     "execution_count": 260,
     "metadata": {},
     "output_type": "execute_result"
    }
   ],
   "source": [
    "cowtai2.count()"
   ]
  },
  {
   "cell_type": "markdown",
   "metadata": {},
   "source": [
    "## 配种事件效应合并"
   ]
  },
  {
   "cell_type": "code",
   "execution_count": 261,
   "metadata": {},
   "outputs": [],
   "source": [
    "pp=pe[['cowtai','YMI','HYI','配种员']]"
   ]
  },
  {
   "cell_type": "code",
   "execution_count": 262,
   "metadata": {},
   "outputs": [
    {
     "data": {
      "text/html": [
       "<div>\n",
       "<style scoped>\n",
       "    .dataframe tbody tr th:only-of-type {\n",
       "        vertical-align: middle;\n",
       "    }\n",
       "\n",
       "    .dataframe tbody tr th {\n",
       "        vertical-align: top;\n",
       "    }\n",
       "\n",
       "    .dataframe thead th {\n",
       "        text-align: right;\n",
       "    }\n",
       "</style>\n",
       "<table border=\"1\" class=\"dataframe\">\n",
       "  <thead>\n",
       "    <tr style=\"text-align: right;\">\n",
       "      <th></th>\n",
       "      <th>FID</th>\n",
       "      <th>胎次</th>\n",
       "      <th>HERD</th>\n",
       "      <th>cowtai</th>\n",
       "      <th>YMB</th>\n",
       "      <th>HYB</th>\n",
       "      <th>YMC</th>\n",
       "      <th>HYC</th>\n",
       "      <th>YMI</th>\n",
       "      <th>HYI</th>\n",
       "      <th>配种员</th>\n",
       "    </tr>\n",
       "  </thead>\n",
       "  <tbody>\n",
       "    <tr>\n",
       "      <th>0</th>\n",
       "      <td>F459001097033</td>\n",
       "      <td>--</td>\n",
       "      <td>110901</td>\n",
       "      <td>F459001097033.--</td>\n",
       "      <td>199704</td>\n",
       "      <td>1109011997</td>\n",
       "      <td>NaN</td>\n",
       "      <td>NaN</td>\n",
       "      <td>200001</td>\n",
       "      <td>1109012000</td>\n",
       "      <td>--</td>\n",
       "    </tr>\n",
       "    <tr>\n",
       "      <th>1</th>\n",
       "      <td>F459001097110</td>\n",
       "      <td>--</td>\n",
       "      <td>110901</td>\n",
       "      <td>F459001097110.--</td>\n",
       "      <td>199711</td>\n",
       "      <td>1109011997</td>\n",
       "      <td>NaN</td>\n",
       "      <td>NaN</td>\n",
       "      <td>199905</td>\n",
       "      <td>1109011999</td>\n",
       "      <td>--</td>\n",
       "    </tr>\n",
       "    <tr>\n",
       "      <th>2</th>\n",
       "      <td>F459001D97138</td>\n",
       "      <td>--</td>\n",
       "      <td>110901</td>\n",
       "      <td>F459001D97138.--</td>\n",
       "      <td>199712</td>\n",
       "      <td>1109011997</td>\n",
       "      <td>NaN</td>\n",
       "      <td>NaN</td>\n",
       "      <td>200003</td>\n",
       "      <td>1109012000</td>\n",
       "      <td>--</td>\n",
       "    </tr>\n",
       "    <tr>\n",
       "      <th>3</th>\n",
       "      <td>F459001098011</td>\n",
       "      <td>--</td>\n",
       "      <td>110901</td>\n",
       "      <td>F459001098011.--</td>\n",
       "      <td>199802</td>\n",
       "      <td>1109011998</td>\n",
       "      <td>NaN</td>\n",
       "      <td>NaN</td>\n",
       "      <td>200002</td>\n",
       "      <td>1109012000</td>\n",
       "      <td>--</td>\n",
       "    </tr>\n",
       "    <tr>\n",
       "      <th>4</th>\n",
       "      <td>F459001098047</td>\n",
       "      <td>--</td>\n",
       "      <td>110901</td>\n",
       "      <td>F459001098047.--</td>\n",
       "      <td>199806</td>\n",
       "      <td>1109011998</td>\n",
       "      <td>NaN</td>\n",
       "      <td>NaN</td>\n",
       "      <td>200001</td>\n",
       "      <td>1109012000</td>\n",
       "      <td>--</td>\n",
       "    </tr>\n",
       "  </tbody>\n",
       "</table>\n",
       "</div>"
      ],
      "text/plain": [
       "             FID  胎次    HERD            cowtai     YMB         HYB  YMC  HYC  \\\n",
       "0  F459001097033  --  110901  F459001097033.--  199704  1109011997  NaN  NaN   \n",
       "1  F459001097110  --  110901  F459001097110.--  199711  1109011997  NaN  NaN   \n",
       "2  F459001D97138  --  110901  F459001D97138.--  199712  1109011997  NaN  NaN   \n",
       "3  F459001098011  --  110901  F459001098011.--  199802  1109011998  NaN  NaN   \n",
       "4  F459001098047  --  110901  F459001098047.--  199806  1109011998  NaN  NaN   \n",
       "\n",
       "      YMI         HYI 配种员  \n",
       "0  200001  1109012000  --  \n",
       "1  199905  1109011999  --  \n",
       "2  200003  1109012000  --  \n",
       "3  200002  1109012000  --  \n",
       "4  200001  1109012000  --  "
      ]
     },
     "execution_count": 262,
     "metadata": {},
     "output_type": "execute_result"
    }
   ],
   "source": [
    "cowtai3=pd.merge(cowtai2,pp,on='cowtai',how='outer')\n",
    "cowtai3.head()"
   ]
  },
  {
   "cell_type": "code",
   "execution_count": 263,
   "metadata": {},
   "outputs": [
    {
     "data": {
      "text/plain": [
       "FID       692840\n",
       "胎次        684817\n",
       "HERD      692840\n",
       "cowtai    686248\n",
       "YMB       596708\n",
       "HYB       596708\n",
       "YMC       337511\n",
       "HYC       337511\n",
       "YMI       444102\n",
       "HYI       444102\n",
       "配种员       440161\n",
       "dtype: int64"
      ]
     },
     "execution_count": 263,
     "metadata": {},
     "output_type": "execute_result"
    }
   ],
   "source": [
    "cowtai3.count()"
   ]
  },
  {
   "cell_type": "markdown",
   "metadata": {},
   "source": [
    "## 配种员效应合并"
   ]
  },
  {
   "cell_type": "code",
   "execution_count": 264,
   "metadata": {},
   "outputs": [],
   "source": [
    "tm=pd.read_csv('F:\\\\fertility data\\\\SUMBJ1807\\\\STrecode.csv',sep=',',encoding='gbk')"
   ]
  },
  {
   "cell_type": "code",
   "execution_count": 265,
   "metadata": {},
   "outputs": [
    {
     "data": {
      "text/html": [
       "<div>\n",
       "<style scoped>\n",
       "    .dataframe tbody tr th:only-of-type {\n",
       "        vertical-align: middle;\n",
       "    }\n",
       "\n",
       "    .dataframe tbody tr th {\n",
       "        vertical-align: top;\n",
       "    }\n",
       "\n",
       "    .dataframe thead th {\n",
       "        text-align: right;\n",
       "    }\n",
       "</style>\n",
       "<table border=\"1\" class=\"dataframe\">\n",
       "  <thead>\n",
       "    <tr style=\"text-align: right;\">\n",
       "      <th></th>\n",
       "      <th>配种员</th>\n",
       "      <th>ST</th>\n",
       "    </tr>\n",
       "  </thead>\n",
       "  <tbody>\n",
       "    <tr>\n",
       "      <th>0</th>\n",
       "      <td>屈文安</td>\n",
       "      <td>1</td>\n",
       "    </tr>\n",
       "    <tr>\n",
       "      <th>1</th>\n",
       "      <td>师超宇</td>\n",
       "      <td>2</td>\n",
       "    </tr>\n",
       "    <tr>\n",
       "      <th>2</th>\n",
       "      <td>崔凯</td>\n",
       "      <td>3</td>\n",
       "    </tr>\n",
       "    <tr>\n",
       "      <th>3</th>\n",
       "      <td>曹伟杰</td>\n",
       "      <td>4</td>\n",
       "    </tr>\n",
       "    <tr>\n",
       "      <th>4</th>\n",
       "      <td>赵跃民</td>\n",
       "      <td>5</td>\n",
       "    </tr>\n",
       "  </tbody>\n",
       "</table>\n",
       "</div>"
      ],
      "text/plain": [
       "   配种员  ST\n",
       "0  屈文安   1\n",
       "1  师超宇   2\n",
       "2   崔凯   3\n",
       "3  曹伟杰   4\n",
       "4  赵跃民   5"
      ]
     },
     "execution_count": 265,
     "metadata": {},
     "output_type": "execute_result"
    }
   ],
   "source": [
    "tm.head()"
   ]
  },
  {
   "cell_type": "code",
   "execution_count": 266,
   "metadata": {},
   "outputs": [
    {
     "data": {
      "text/html": [
       "<div>\n",
       "<style scoped>\n",
       "    .dataframe tbody tr th:only-of-type {\n",
       "        vertical-align: middle;\n",
       "    }\n",
       "\n",
       "    .dataframe tbody tr th {\n",
       "        vertical-align: top;\n",
       "    }\n",
       "\n",
       "    .dataframe thead th {\n",
       "        text-align: right;\n",
       "    }\n",
       "</style>\n",
       "<table border=\"1\" class=\"dataframe\">\n",
       "  <thead>\n",
       "    <tr style=\"text-align: right;\">\n",
       "      <th></th>\n",
       "      <th>FID</th>\n",
       "      <th>胎次</th>\n",
       "      <th>HERD</th>\n",
       "      <th>cowtai</th>\n",
       "      <th>YMB</th>\n",
       "      <th>HYB</th>\n",
       "      <th>YMC</th>\n",
       "      <th>HYC</th>\n",
       "      <th>YMI</th>\n",
       "      <th>HYI</th>\n",
       "      <th>配种员</th>\n",
       "      <th>ST</th>\n",
       "    </tr>\n",
       "  </thead>\n",
       "  <tbody>\n",
       "    <tr>\n",
       "      <th>0</th>\n",
       "      <td>F459001097033</td>\n",
       "      <td>--</td>\n",
       "      <td>110901</td>\n",
       "      <td>F459001097033.--</td>\n",
       "      <td>199704</td>\n",
       "      <td>1109011997</td>\n",
       "      <td>NaN</td>\n",
       "      <td>NaN</td>\n",
       "      <td>200001</td>\n",
       "      <td>1109012000</td>\n",
       "      <td>--</td>\n",
       "      <td>NaN</td>\n",
       "    </tr>\n",
       "    <tr>\n",
       "      <th>1</th>\n",
       "      <td>F459001097110</td>\n",
       "      <td>--</td>\n",
       "      <td>110901</td>\n",
       "      <td>F459001097110.--</td>\n",
       "      <td>199711</td>\n",
       "      <td>1109011997</td>\n",
       "      <td>NaN</td>\n",
       "      <td>NaN</td>\n",
       "      <td>199905</td>\n",
       "      <td>1109011999</td>\n",
       "      <td>--</td>\n",
       "      <td>NaN</td>\n",
       "    </tr>\n",
       "    <tr>\n",
       "      <th>2</th>\n",
       "      <td>F459001D97138</td>\n",
       "      <td>--</td>\n",
       "      <td>110901</td>\n",
       "      <td>F459001D97138.--</td>\n",
       "      <td>199712</td>\n",
       "      <td>1109011997</td>\n",
       "      <td>NaN</td>\n",
       "      <td>NaN</td>\n",
       "      <td>200003</td>\n",
       "      <td>1109012000</td>\n",
       "      <td>--</td>\n",
       "      <td>NaN</td>\n",
       "    </tr>\n",
       "    <tr>\n",
       "      <th>3</th>\n",
       "      <td>F459001098011</td>\n",
       "      <td>--</td>\n",
       "      <td>110901</td>\n",
       "      <td>F459001098011.--</td>\n",
       "      <td>199802</td>\n",
       "      <td>1109011998</td>\n",
       "      <td>NaN</td>\n",
       "      <td>NaN</td>\n",
       "      <td>200002</td>\n",
       "      <td>1109012000</td>\n",
       "      <td>--</td>\n",
       "      <td>NaN</td>\n",
       "    </tr>\n",
       "    <tr>\n",
       "      <th>4</th>\n",
       "      <td>F459001098047</td>\n",
       "      <td>--</td>\n",
       "      <td>110901</td>\n",
       "      <td>F459001098047.--</td>\n",
       "      <td>199806</td>\n",
       "      <td>1109011998</td>\n",
       "      <td>NaN</td>\n",
       "      <td>NaN</td>\n",
       "      <td>200001</td>\n",
       "      <td>1109012000</td>\n",
       "      <td>--</td>\n",
       "      <td>NaN</td>\n",
       "    </tr>\n",
       "  </tbody>\n",
       "</table>\n",
       "</div>"
      ],
      "text/plain": [
       "             FID  胎次    HERD            cowtai     YMB         HYB  YMC  HYC  \\\n",
       "0  F459001097033  --  110901  F459001097033.--  199704  1109011997  NaN  NaN   \n",
       "1  F459001097110  --  110901  F459001097110.--  199711  1109011997  NaN  NaN   \n",
       "2  F459001D97138  --  110901  F459001D97138.--  199712  1109011997  NaN  NaN   \n",
       "3  F459001098011  --  110901  F459001098011.--  199802  1109011998  NaN  NaN   \n",
       "4  F459001098047  --  110901  F459001098047.--  199806  1109011998  NaN  NaN   \n",
       "\n",
       "      YMI         HYI 配种员  ST  \n",
       "0  200001  1109012000  -- NaN  \n",
       "1  199905  1109011999  -- NaN  \n",
       "2  200003  1109012000  -- NaN  \n",
       "3  200002  1109012000  -- NaN  \n",
       "4  200001  1109012000  -- NaN  "
      ]
     },
     "execution_count": 266,
     "metadata": {},
     "output_type": "execute_result"
    }
   ],
   "source": [
    "cowtai4=pd.merge(cowtai3,tm,on='配种员',how='left')\n",
    "cowtai4.head()"
   ]
  },
  {
   "cell_type": "code",
   "execution_count": 267,
   "metadata": {},
   "outputs": [
    {
     "data": {
      "text/plain": [
       "FID       693626\n",
       "胎次        685603\n",
       "HERD      693626\n",
       "cowtai    687034\n",
       "YMB       597454\n",
       "HYB       597454\n",
       "YMC       338295\n",
       "HYC       338295\n",
       "YMI       444888\n",
       "HYI       444888\n",
       "ST        326302\n",
       "dtype: int64"
      ]
     },
     "execution_count": 267,
     "metadata": {},
     "output_type": "execute_result"
    }
   ],
   "source": [
    "del cowtai4['配种员']\n",
    "cowtai4.count()"
   ]
  },
  {
   "cell_type": "markdown",
   "metadata": {},
   "source": [
    "## 性控精液效应合并"
   ]
  },
  {
   "cell_type": "code",
   "execution_count": 268,
   "metadata": {},
   "outputs": [
    {
     "data": {
      "text/html": [
       "<div>\n",
       "<style scoped>\n",
       "    .dataframe tbody tr th:only-of-type {\n",
       "        vertical-align: middle;\n",
       "    }\n",
       "\n",
       "    .dataframe tbody tr th {\n",
       "        vertical-align: top;\n",
       "    }\n",
       "\n",
       "    .dataframe thead th {\n",
       "        text-align: right;\n",
       "    }\n",
       "</style>\n",
       "<table border=\"1\" class=\"dataframe\">\n",
       "  <thead>\n",
       "    <tr style=\"text-align: right;\">\n",
       "      <th></th>\n",
       "      <th>FID</th>\n",
       "      <th>胎次</th>\n",
       "      <th>HERD</th>\n",
       "      <th>cowtai</th>\n",
       "      <th>YMB</th>\n",
       "      <th>HYB</th>\n",
       "      <th>YMC</th>\n",
       "      <th>HYC</th>\n",
       "      <th>YMI</th>\n",
       "      <th>HYI</th>\n",
       "      <th>ST</th>\n",
       "      <th>SC</th>\n",
       "    </tr>\n",
       "  </thead>\n",
       "  <tbody>\n",
       "    <tr>\n",
       "      <th>0</th>\n",
       "      <td>F459001097033</td>\n",
       "      <td>--</td>\n",
       "      <td>110901</td>\n",
       "      <td>F459001097033.--</td>\n",
       "      <td>199704</td>\n",
       "      <td>1109011997</td>\n",
       "      <td>NaN</td>\n",
       "      <td>NaN</td>\n",
       "      <td>200001</td>\n",
       "      <td>1109012000</td>\n",
       "      <td>NaN</td>\n",
       "      <td>0.0</td>\n",
       "    </tr>\n",
       "    <tr>\n",
       "      <th>1</th>\n",
       "      <td>F459001097110</td>\n",
       "      <td>--</td>\n",
       "      <td>110901</td>\n",
       "      <td>F459001097110.--</td>\n",
       "      <td>199711</td>\n",
       "      <td>1109011997</td>\n",
       "      <td>NaN</td>\n",
       "      <td>NaN</td>\n",
       "      <td>199905</td>\n",
       "      <td>1109011999</td>\n",
       "      <td>NaN</td>\n",
       "      <td>0.0</td>\n",
       "    </tr>\n",
       "    <tr>\n",
       "      <th>2</th>\n",
       "      <td>F459001D97138</td>\n",
       "      <td>--</td>\n",
       "      <td>110901</td>\n",
       "      <td>F459001D97138.--</td>\n",
       "      <td>199712</td>\n",
       "      <td>1109011997</td>\n",
       "      <td>NaN</td>\n",
       "      <td>NaN</td>\n",
       "      <td>200003</td>\n",
       "      <td>1109012000</td>\n",
       "      <td>NaN</td>\n",
       "      <td>0.0</td>\n",
       "    </tr>\n",
       "    <tr>\n",
       "      <th>3</th>\n",
       "      <td>F459001098011</td>\n",
       "      <td>--</td>\n",
       "      <td>110901</td>\n",
       "      <td>F459001098011.--</td>\n",
       "      <td>199802</td>\n",
       "      <td>1109011998</td>\n",
       "      <td>NaN</td>\n",
       "      <td>NaN</td>\n",
       "      <td>200002</td>\n",
       "      <td>1109012000</td>\n",
       "      <td>NaN</td>\n",
       "      <td>0.0</td>\n",
       "    </tr>\n",
       "    <tr>\n",
       "      <th>4</th>\n",
       "      <td>F459001098047</td>\n",
       "      <td>--</td>\n",
       "      <td>110901</td>\n",
       "      <td>F459001098047.--</td>\n",
       "      <td>199806</td>\n",
       "      <td>1109011998</td>\n",
       "      <td>NaN</td>\n",
       "      <td>NaN</td>\n",
       "      <td>200001</td>\n",
       "      <td>1109012000</td>\n",
       "      <td>NaN</td>\n",
       "      <td>0.0</td>\n",
       "    </tr>\n",
       "  </tbody>\n",
       "</table>\n",
       "</div>"
      ],
      "text/plain": [
       "             FID  胎次    HERD            cowtai     YMB         HYB  YMC  HYC  \\\n",
       "0  F459001097033  --  110901  F459001097033.--  199704  1109011997  NaN  NaN   \n",
       "1  F459001097110  --  110901  F459001097110.--  199711  1109011997  NaN  NaN   \n",
       "2  F459001D97138  --  110901  F459001D97138.--  199712  1109011997  NaN  NaN   \n",
       "3  F459001098011  --  110901  F459001098011.--  199802  1109011998  NaN  NaN   \n",
       "4  F459001098047  --  110901  F459001098047.--  199806  1109011998  NaN  NaN   \n",
       "\n",
       "      YMI         HYI  ST   SC  \n",
       "0  200001  1109012000 NaN  0.0  \n",
       "1  199905  1109011999 NaN  0.0  \n",
       "2  200003  1109012000 NaN  0.0  \n",
       "3  200002  1109012000 NaN  0.0  \n",
       "4  200001  1109012000 NaN  0.0  "
      ]
     },
     "execution_count": 268,
     "metadata": {},
     "output_type": "execute_result"
    }
   ],
   "source": [
    "cowtai5=pd.merge(cowtai4,SC,on='cowtai',how='left')\n",
    "cowtai5.head()"
   ]
  },
  {
   "cell_type": "code",
   "execution_count": 269,
   "metadata": {},
   "outputs": [
    {
     "data": {
      "text/plain": [
       "FID       693626\n",
       "胎次        685603\n",
       "HERD      693626\n",
       "cowtai    687034\n",
       "YMB       597454\n",
       "HYB       597454\n",
       "YMC       338295\n",
       "HYC       338295\n",
       "YMI       444888\n",
       "HYI       444888\n",
       "ST        326302\n",
       "SC        443876\n",
       "dtype: int64"
      ]
     },
     "execution_count": 269,
     "metadata": {},
     "output_type": "execute_result"
    }
   ],
   "source": [
    "cowtai5.count()"
   ]
  },
  {
   "cell_type": "markdown",
   "metadata": {},
   "source": [
    "## 各性状与固定效应合并"
   ]
  },
  {
   "cell_type": "code",
   "execution_count": 270,
   "metadata": {},
   "outputs": [],
   "source": [
    "#AFS1,AFC1,IFL2,ci1,ais1,CE,SB"
   ]
  },
  {
   "cell_type": "code",
   "execution_count": 271,
   "metadata": {},
   "outputs": [],
   "source": [
    "AFS2=AFS1[['FID','AFS']]\n",
    "AFC2=AFC1[['FID','AFC']]\n",
    "IFL3=IFL2[['cowtai','IFL']]\n",
    "#ais2=ais1[['cowtai','AIS']]\n",
    "#ci2=ci1[['cowtai','CI','上胎产犊日期','本胎产犊日期']]"
   ]
  },
  {
   "cell_type": "code",
   "execution_count": 272,
   "metadata": {},
   "outputs": [
    {
     "data": {
      "text/html": [
       "<div>\n",
       "<style scoped>\n",
       "    .dataframe tbody tr th:only-of-type {\n",
       "        vertical-align: middle;\n",
       "    }\n",
       "\n",
       "    .dataframe tbody tr th {\n",
       "        vertical-align: top;\n",
       "    }\n",
       "\n",
       "    .dataframe thead th {\n",
       "        text-align: right;\n",
       "    }\n",
       "</style>\n",
       "<table border=\"1\" class=\"dataframe\">\n",
       "  <thead>\n",
       "    <tr style=\"text-align: right;\">\n",
       "      <th></th>\n",
       "      <th>FID</th>\n",
       "      <th>胎次</th>\n",
       "      <th>HERD</th>\n",
       "      <th>cowtai</th>\n",
       "      <th>YMB</th>\n",
       "      <th>HYB</th>\n",
       "      <th>YMC</th>\n",
       "      <th>HYC</th>\n",
       "      <th>YMI</th>\n",
       "      <th>HYI</th>\n",
       "      <th>ST</th>\n",
       "      <th>SC</th>\n",
       "      <th>AFS</th>\n",
       "    </tr>\n",
       "  </thead>\n",
       "  <tbody>\n",
       "    <tr>\n",
       "      <th>0</th>\n",
       "      <td>F459001097033</td>\n",
       "      <td>--</td>\n",
       "      <td>110901</td>\n",
       "      <td>F459001097033.--</td>\n",
       "      <td>199704</td>\n",
       "      <td>1109011997</td>\n",
       "      <td>NaN</td>\n",
       "      <td>NaN</td>\n",
       "      <td>200001</td>\n",
       "      <td>1109012000</td>\n",
       "      <td>NaN</td>\n",
       "      <td>0.0</td>\n",
       "      <td>NaN</td>\n",
       "    </tr>\n",
       "    <tr>\n",
       "      <th>1</th>\n",
       "      <td>F459001097110</td>\n",
       "      <td>--</td>\n",
       "      <td>110901</td>\n",
       "      <td>F459001097110.--</td>\n",
       "      <td>199711</td>\n",
       "      <td>1109011997</td>\n",
       "      <td>NaN</td>\n",
       "      <td>NaN</td>\n",
       "      <td>199905</td>\n",
       "      <td>1109011999</td>\n",
       "      <td>NaN</td>\n",
       "      <td>0.0</td>\n",
       "      <td>543.0</td>\n",
       "    </tr>\n",
       "    <tr>\n",
       "      <th>2</th>\n",
       "      <td>F459001D97138</td>\n",
       "      <td>--</td>\n",
       "      <td>110901</td>\n",
       "      <td>F459001D97138.--</td>\n",
       "      <td>199712</td>\n",
       "      <td>1109011997</td>\n",
       "      <td>NaN</td>\n",
       "      <td>NaN</td>\n",
       "      <td>200003</td>\n",
       "      <td>1109012000</td>\n",
       "      <td>NaN</td>\n",
       "      <td>0.0</td>\n",
       "      <td>804.0</td>\n",
       "    </tr>\n",
       "    <tr>\n",
       "      <th>3</th>\n",
       "      <td>F459001098011</td>\n",
       "      <td>--</td>\n",
       "      <td>110901</td>\n",
       "      <td>F459001098011.--</td>\n",
       "      <td>199802</td>\n",
       "      <td>1109011998</td>\n",
       "      <td>NaN</td>\n",
       "      <td>NaN</td>\n",
       "      <td>200002</td>\n",
       "      <td>1109012000</td>\n",
       "      <td>NaN</td>\n",
       "      <td>0.0</td>\n",
       "      <td>733.0</td>\n",
       "    </tr>\n",
       "    <tr>\n",
       "      <th>4</th>\n",
       "      <td>F459001098047</td>\n",
       "      <td>--</td>\n",
       "      <td>110901</td>\n",
       "      <td>F459001098047.--</td>\n",
       "      <td>199806</td>\n",
       "      <td>1109011998</td>\n",
       "      <td>NaN</td>\n",
       "      <td>NaN</td>\n",
       "      <td>200001</td>\n",
       "      <td>1109012000</td>\n",
       "      <td>NaN</td>\n",
       "      <td>0.0</td>\n",
       "      <td>580.0</td>\n",
       "    </tr>\n",
       "  </tbody>\n",
       "</table>\n",
       "</div>"
      ],
      "text/plain": [
       "             FID  胎次    HERD            cowtai     YMB         HYB  YMC  HYC  \\\n",
       "0  F459001097033  --  110901  F459001097033.--  199704  1109011997  NaN  NaN   \n",
       "1  F459001097110  --  110901  F459001097110.--  199711  1109011997  NaN  NaN   \n",
       "2  F459001D97138  --  110901  F459001D97138.--  199712  1109011997  NaN  NaN   \n",
       "3  F459001098011  --  110901  F459001098011.--  199802  1109011998  NaN  NaN   \n",
       "4  F459001098047  --  110901  F459001098047.--  199806  1109011998  NaN  NaN   \n",
       "\n",
       "      YMI         HYI  ST   SC    AFS  \n",
       "0  200001  1109012000 NaN  0.0    NaN  \n",
       "1  199905  1109011999 NaN  0.0  543.0  \n",
       "2  200003  1109012000 NaN  0.0  804.0  \n",
       "3  200002  1109012000 NaN  0.0  733.0  \n",
       "4  200001  1109012000 NaN  0.0  580.0  "
      ]
     },
     "execution_count": 272,
     "metadata": {},
     "output_type": "execute_result"
    }
   ],
   "source": [
    "cowtai6=pd.merge(cowtai5,AFS2,on='FID',how='left')\n",
    "cowtai6.head()"
   ]
  },
  {
   "cell_type": "code",
   "execution_count": 273,
   "metadata": {},
   "outputs": [
    {
     "data": {
      "text/html": [
       "<div>\n",
       "<style scoped>\n",
       "    .dataframe tbody tr th:only-of-type {\n",
       "        vertical-align: middle;\n",
       "    }\n",
       "\n",
       "    .dataframe tbody tr th {\n",
       "        vertical-align: top;\n",
       "    }\n",
       "\n",
       "    .dataframe thead th {\n",
       "        text-align: right;\n",
       "    }\n",
       "</style>\n",
       "<table border=\"1\" class=\"dataframe\">\n",
       "  <thead>\n",
       "    <tr style=\"text-align: right;\">\n",
       "      <th></th>\n",
       "      <th>FID</th>\n",
       "      <th>胎次</th>\n",
       "      <th>HERD</th>\n",
       "      <th>cowtai</th>\n",
       "      <th>YMB</th>\n",
       "      <th>HYB</th>\n",
       "      <th>YMC</th>\n",
       "      <th>HYC</th>\n",
       "      <th>YMI</th>\n",
       "      <th>HYI</th>\n",
       "      <th>ST</th>\n",
       "      <th>SC</th>\n",
       "      <th>AFS</th>\n",
       "      <th>AFC</th>\n",
       "    </tr>\n",
       "  </thead>\n",
       "  <tbody>\n",
       "    <tr>\n",
       "      <th>0</th>\n",
       "      <td>F459001097033</td>\n",
       "      <td>--</td>\n",
       "      <td>110901</td>\n",
       "      <td>F459001097033.--</td>\n",
       "      <td>199704</td>\n",
       "      <td>1109011997</td>\n",
       "      <td>NaN</td>\n",
       "      <td>NaN</td>\n",
       "      <td>200001</td>\n",
       "      <td>1109012000</td>\n",
       "      <td>NaN</td>\n",
       "      <td>0.0</td>\n",
       "      <td>NaN</td>\n",
       "      <td>NaN</td>\n",
       "    </tr>\n",
       "    <tr>\n",
       "      <th>1</th>\n",
       "      <td>F459001097110</td>\n",
       "      <td>--</td>\n",
       "      <td>110901</td>\n",
       "      <td>F459001097110.--</td>\n",
       "      <td>199711</td>\n",
       "      <td>1109011997</td>\n",
       "      <td>NaN</td>\n",
       "      <td>NaN</td>\n",
       "      <td>199905</td>\n",
       "      <td>1109011999</td>\n",
       "      <td>NaN</td>\n",
       "      <td>0.0</td>\n",
       "      <td>543.0</td>\n",
       "      <td>820.0</td>\n",
       "    </tr>\n",
       "    <tr>\n",
       "      <th>2</th>\n",
       "      <td>F459001D97138</td>\n",
       "      <td>--</td>\n",
       "      <td>110901</td>\n",
       "      <td>F459001D97138.--</td>\n",
       "      <td>199712</td>\n",
       "      <td>1109011997</td>\n",
       "      <td>NaN</td>\n",
       "      <td>NaN</td>\n",
       "      <td>200003</td>\n",
       "      <td>1109012000</td>\n",
       "      <td>NaN</td>\n",
       "      <td>0.0</td>\n",
       "      <td>804.0</td>\n",
       "      <td>1081.0</td>\n",
       "    </tr>\n",
       "    <tr>\n",
       "      <th>3</th>\n",
       "      <td>F459001098011</td>\n",
       "      <td>--</td>\n",
       "      <td>110901</td>\n",
       "      <td>F459001098011.--</td>\n",
       "      <td>199802</td>\n",
       "      <td>1109011998</td>\n",
       "      <td>NaN</td>\n",
       "      <td>NaN</td>\n",
       "      <td>200002</td>\n",
       "      <td>1109012000</td>\n",
       "      <td>NaN</td>\n",
       "      <td>0.0</td>\n",
       "      <td>733.0</td>\n",
       "      <td>1010.0</td>\n",
       "    </tr>\n",
       "    <tr>\n",
       "      <th>4</th>\n",
       "      <td>F459001098047</td>\n",
       "      <td>--</td>\n",
       "      <td>110901</td>\n",
       "      <td>F459001098047.--</td>\n",
       "      <td>199806</td>\n",
       "      <td>1109011998</td>\n",
       "      <td>NaN</td>\n",
       "      <td>NaN</td>\n",
       "      <td>200001</td>\n",
       "      <td>1109012000</td>\n",
       "      <td>NaN</td>\n",
       "      <td>0.0</td>\n",
       "      <td>580.0</td>\n",
       "      <td>857.0</td>\n",
       "    </tr>\n",
       "  </tbody>\n",
       "</table>\n",
       "</div>"
      ],
      "text/plain": [
       "             FID  胎次    HERD            cowtai     YMB         HYB  YMC  HYC  \\\n",
       "0  F459001097033  --  110901  F459001097033.--  199704  1109011997  NaN  NaN   \n",
       "1  F459001097110  --  110901  F459001097110.--  199711  1109011997  NaN  NaN   \n",
       "2  F459001D97138  --  110901  F459001D97138.--  199712  1109011997  NaN  NaN   \n",
       "3  F459001098011  --  110901  F459001098011.--  199802  1109011998  NaN  NaN   \n",
       "4  F459001098047  --  110901  F459001098047.--  199806  1109011998  NaN  NaN   \n",
       "\n",
       "      YMI         HYI  ST   SC    AFS     AFC  \n",
       "0  200001  1109012000 NaN  0.0    NaN     NaN  \n",
       "1  199905  1109011999 NaN  0.0  543.0   820.0  \n",
       "2  200003  1109012000 NaN  0.0  804.0  1081.0  \n",
       "3  200002  1109012000 NaN  0.0  733.0  1010.0  \n",
       "4  200001  1109012000 NaN  0.0  580.0   857.0  "
      ]
     },
     "execution_count": 273,
     "metadata": {},
     "output_type": "execute_result"
    }
   ],
   "source": [
    "cowtai7=pd.merge(cowtai6,AFC2,on='FID',how='left')\n",
    "cowtai7.head()"
   ]
  },
  {
   "cell_type": "code",
   "execution_count": 274,
   "metadata": {},
   "outputs": [
    {
     "data": {
      "text/html": [
       "<div>\n",
       "<style scoped>\n",
       "    .dataframe tbody tr th:only-of-type {\n",
       "        vertical-align: middle;\n",
       "    }\n",
       "\n",
       "    .dataframe tbody tr th {\n",
       "        vertical-align: top;\n",
       "    }\n",
       "\n",
       "    .dataframe thead th {\n",
       "        text-align: right;\n",
       "    }\n",
       "</style>\n",
       "<table border=\"1\" class=\"dataframe\">\n",
       "  <thead>\n",
       "    <tr style=\"text-align: right;\">\n",
       "      <th></th>\n",
       "      <th>FID</th>\n",
       "      <th>胎次</th>\n",
       "      <th>HERD</th>\n",
       "      <th>cowtai</th>\n",
       "      <th>YMB</th>\n",
       "      <th>HYB</th>\n",
       "      <th>YMC</th>\n",
       "      <th>HYC</th>\n",
       "      <th>YMI</th>\n",
       "      <th>HYI</th>\n",
       "      <th>ST</th>\n",
       "      <th>SC</th>\n",
       "      <th>AFS</th>\n",
       "      <th>AFC</th>\n",
       "      <th>IFL</th>\n",
       "    </tr>\n",
       "  </thead>\n",
       "  <tbody>\n",
       "    <tr>\n",
       "      <th>0</th>\n",
       "      <td>F459001097033</td>\n",
       "      <td>--</td>\n",
       "      <td>110901</td>\n",
       "      <td>F459001097033.--</td>\n",
       "      <td>199704</td>\n",
       "      <td>1109011997</td>\n",
       "      <td>NaN</td>\n",
       "      <td>NaN</td>\n",
       "      <td>200001</td>\n",
       "      <td>1109012000</td>\n",
       "      <td>NaN</td>\n",
       "      <td>0.0</td>\n",
       "      <td>NaN</td>\n",
       "      <td>NaN</td>\n",
       "      <td>NaN</td>\n",
       "    </tr>\n",
       "    <tr>\n",
       "      <th>1</th>\n",
       "      <td>F459001097110</td>\n",
       "      <td>--</td>\n",
       "      <td>110901</td>\n",
       "      <td>F459001097110.--</td>\n",
       "      <td>199711</td>\n",
       "      <td>1109011997</td>\n",
       "      <td>NaN</td>\n",
       "      <td>NaN</td>\n",
       "      <td>199905</td>\n",
       "      <td>1109011999</td>\n",
       "      <td>NaN</td>\n",
       "      <td>0.0</td>\n",
       "      <td>543.0</td>\n",
       "      <td>820.0</td>\n",
       "      <td>NaN</td>\n",
       "    </tr>\n",
       "    <tr>\n",
       "      <th>2</th>\n",
       "      <td>F459001D97138</td>\n",
       "      <td>--</td>\n",
       "      <td>110901</td>\n",
       "      <td>F459001D97138.--</td>\n",
       "      <td>199712</td>\n",
       "      <td>1109011997</td>\n",
       "      <td>NaN</td>\n",
       "      <td>NaN</td>\n",
       "      <td>200003</td>\n",
       "      <td>1109012000</td>\n",
       "      <td>NaN</td>\n",
       "      <td>0.0</td>\n",
       "      <td>804.0</td>\n",
       "      <td>1081.0</td>\n",
       "      <td>NaN</td>\n",
       "    </tr>\n",
       "    <tr>\n",
       "      <th>3</th>\n",
       "      <td>F459001098011</td>\n",
       "      <td>--</td>\n",
       "      <td>110901</td>\n",
       "      <td>F459001098011.--</td>\n",
       "      <td>199802</td>\n",
       "      <td>1109011998</td>\n",
       "      <td>NaN</td>\n",
       "      <td>NaN</td>\n",
       "      <td>200002</td>\n",
       "      <td>1109012000</td>\n",
       "      <td>NaN</td>\n",
       "      <td>0.0</td>\n",
       "      <td>733.0</td>\n",
       "      <td>1010.0</td>\n",
       "      <td>NaN</td>\n",
       "    </tr>\n",
       "    <tr>\n",
       "      <th>4</th>\n",
       "      <td>F459001098047</td>\n",
       "      <td>--</td>\n",
       "      <td>110901</td>\n",
       "      <td>F459001098047.--</td>\n",
       "      <td>199806</td>\n",
       "      <td>1109011998</td>\n",
       "      <td>NaN</td>\n",
       "      <td>NaN</td>\n",
       "      <td>200001</td>\n",
       "      <td>1109012000</td>\n",
       "      <td>NaN</td>\n",
       "      <td>0.0</td>\n",
       "      <td>580.0</td>\n",
       "      <td>857.0</td>\n",
       "      <td>NaN</td>\n",
       "    </tr>\n",
       "  </tbody>\n",
       "</table>\n",
       "</div>"
      ],
      "text/plain": [
       "             FID  胎次    HERD            cowtai     YMB         HYB  YMC  HYC  \\\n",
       "0  F459001097033  --  110901  F459001097033.--  199704  1109011997  NaN  NaN   \n",
       "1  F459001097110  --  110901  F459001097110.--  199711  1109011997  NaN  NaN   \n",
       "2  F459001D97138  --  110901  F459001D97138.--  199712  1109011997  NaN  NaN   \n",
       "3  F459001098011  --  110901  F459001098011.--  199802  1109011998  NaN  NaN   \n",
       "4  F459001098047  --  110901  F459001098047.--  199806  1109011998  NaN  NaN   \n",
       "\n",
       "      YMI         HYI  ST   SC    AFS     AFC  IFL  \n",
       "0  200001  1109012000 NaN  0.0    NaN     NaN  NaN  \n",
       "1  199905  1109011999 NaN  0.0  543.0   820.0  NaN  \n",
       "2  200003  1109012000 NaN  0.0  804.0  1081.0  NaN  \n",
       "3  200002  1109012000 NaN  0.0  733.0  1010.0  NaN  \n",
       "4  200001  1109012000 NaN  0.0  580.0   857.0  NaN  "
      ]
     },
     "execution_count": 274,
     "metadata": {},
     "output_type": "execute_result"
    }
   ],
   "source": [
    "cowtai8=pd.merge(cowtai7,IFL3,on='cowtai',how='left')\n",
    "cowtai8.head()"
   ]
  },
  {
   "cell_type": "code",
   "execution_count": 275,
   "metadata": {},
   "outputs": [
    {
     "data": {
      "text/html": [
       "<div>\n",
       "<style scoped>\n",
       "    .dataframe tbody tr th:only-of-type {\n",
       "        vertical-align: middle;\n",
       "    }\n",
       "\n",
       "    .dataframe tbody tr th {\n",
       "        vertical-align: top;\n",
       "    }\n",
       "\n",
       "    .dataframe thead th {\n",
       "        text-align: right;\n",
       "    }\n",
       "</style>\n",
       "<table border=\"1\" class=\"dataframe\">\n",
       "  <thead>\n",
       "    <tr style=\"text-align: right;\">\n",
       "      <th></th>\n",
       "      <th>FID</th>\n",
       "      <th>胎次</th>\n",
       "      <th>HERD</th>\n",
       "      <th>cowtai</th>\n",
       "      <th>YMB</th>\n",
       "      <th>HYB</th>\n",
       "      <th>YMC</th>\n",
       "      <th>HYC</th>\n",
       "      <th>YMI</th>\n",
       "      <th>HYI</th>\n",
       "      <th>ST</th>\n",
       "      <th>SC</th>\n",
       "      <th>AFS</th>\n",
       "      <th>AFC</th>\n",
       "      <th>IFL</th>\n",
       "      <th>CE</th>\n",
       "    </tr>\n",
       "  </thead>\n",
       "  <tbody>\n",
       "    <tr>\n",
       "      <th>0</th>\n",
       "      <td>F459001097033</td>\n",
       "      <td>--</td>\n",
       "      <td>110901</td>\n",
       "      <td>F459001097033.--</td>\n",
       "      <td>199704</td>\n",
       "      <td>1109011997</td>\n",
       "      <td>NaN</td>\n",
       "      <td>NaN</td>\n",
       "      <td>200001</td>\n",
       "      <td>1109012000</td>\n",
       "      <td>NaN</td>\n",
       "      <td>0.0</td>\n",
       "      <td>NaN</td>\n",
       "      <td>NaN</td>\n",
       "      <td>NaN</td>\n",
       "      <td>NaN</td>\n",
       "    </tr>\n",
       "    <tr>\n",
       "      <th>1</th>\n",
       "      <td>F459001097110</td>\n",
       "      <td>--</td>\n",
       "      <td>110901</td>\n",
       "      <td>F459001097110.--</td>\n",
       "      <td>199711</td>\n",
       "      <td>1109011997</td>\n",
       "      <td>NaN</td>\n",
       "      <td>NaN</td>\n",
       "      <td>199905</td>\n",
       "      <td>1109011999</td>\n",
       "      <td>NaN</td>\n",
       "      <td>0.0</td>\n",
       "      <td>543.0</td>\n",
       "      <td>820.0</td>\n",
       "      <td>NaN</td>\n",
       "      <td>NaN</td>\n",
       "    </tr>\n",
       "    <tr>\n",
       "      <th>2</th>\n",
       "      <td>F459001D97138</td>\n",
       "      <td>--</td>\n",
       "      <td>110901</td>\n",
       "      <td>F459001D97138.--</td>\n",
       "      <td>199712</td>\n",
       "      <td>1109011997</td>\n",
       "      <td>NaN</td>\n",
       "      <td>NaN</td>\n",
       "      <td>200003</td>\n",
       "      <td>1109012000</td>\n",
       "      <td>NaN</td>\n",
       "      <td>0.0</td>\n",
       "      <td>804.0</td>\n",
       "      <td>1081.0</td>\n",
       "      <td>NaN</td>\n",
       "      <td>NaN</td>\n",
       "    </tr>\n",
       "    <tr>\n",
       "      <th>3</th>\n",
       "      <td>F459001098011</td>\n",
       "      <td>--</td>\n",
       "      <td>110901</td>\n",
       "      <td>F459001098011.--</td>\n",
       "      <td>199802</td>\n",
       "      <td>1109011998</td>\n",
       "      <td>NaN</td>\n",
       "      <td>NaN</td>\n",
       "      <td>200002</td>\n",
       "      <td>1109012000</td>\n",
       "      <td>NaN</td>\n",
       "      <td>0.0</td>\n",
       "      <td>733.0</td>\n",
       "      <td>1010.0</td>\n",
       "      <td>NaN</td>\n",
       "      <td>NaN</td>\n",
       "    </tr>\n",
       "    <tr>\n",
       "      <th>4</th>\n",
       "      <td>F459001098047</td>\n",
       "      <td>--</td>\n",
       "      <td>110901</td>\n",
       "      <td>F459001098047.--</td>\n",
       "      <td>199806</td>\n",
       "      <td>1109011998</td>\n",
       "      <td>NaN</td>\n",
       "      <td>NaN</td>\n",
       "      <td>200001</td>\n",
       "      <td>1109012000</td>\n",
       "      <td>NaN</td>\n",
       "      <td>0.0</td>\n",
       "      <td>580.0</td>\n",
       "      <td>857.0</td>\n",
       "      <td>NaN</td>\n",
       "      <td>NaN</td>\n",
       "    </tr>\n",
       "  </tbody>\n",
       "</table>\n",
       "</div>"
      ],
      "text/plain": [
       "             FID  胎次    HERD            cowtai     YMB         HYB  YMC  HYC  \\\n",
       "0  F459001097033  --  110901  F459001097033.--  199704  1109011997  NaN  NaN   \n",
       "1  F459001097110  --  110901  F459001097110.--  199711  1109011997  NaN  NaN   \n",
       "2  F459001D97138  --  110901  F459001D97138.--  199712  1109011997  NaN  NaN   \n",
       "3  F459001098011  --  110901  F459001098011.--  199802  1109011998  NaN  NaN   \n",
       "4  F459001098047  --  110901  F459001098047.--  199806  1109011998  NaN  NaN   \n",
       "\n",
       "      YMI         HYI  ST   SC    AFS     AFC  IFL   CE  \n",
       "0  200001  1109012000 NaN  0.0    NaN     NaN  NaN  NaN  \n",
       "1  199905  1109011999 NaN  0.0  543.0   820.0  NaN  NaN  \n",
       "2  200003  1109012000 NaN  0.0  804.0  1081.0  NaN  NaN  \n",
       "3  200002  1109012000 NaN  0.0  733.0  1010.0  NaN  NaN  \n",
       "4  200001  1109012000 NaN  0.0  580.0   857.0  NaN  NaN  "
      ]
     },
     "execution_count": 275,
     "metadata": {},
     "output_type": "execute_result"
    }
   ],
   "source": [
    "cowtai9=pd.merge(cowtai8,CE,on='cowtai',how='left')\n",
    "cowtai9.head()"
   ]
  },
  {
   "cell_type": "code",
   "execution_count": 276,
   "metadata": {},
   "outputs": [
    {
     "data": {
      "text/html": [
       "<div>\n",
       "<style scoped>\n",
       "    .dataframe tbody tr th:only-of-type {\n",
       "        vertical-align: middle;\n",
       "    }\n",
       "\n",
       "    .dataframe tbody tr th {\n",
       "        vertical-align: top;\n",
       "    }\n",
       "\n",
       "    .dataframe thead th {\n",
       "        text-align: right;\n",
       "    }\n",
       "</style>\n",
       "<table border=\"1\" class=\"dataframe\">\n",
       "  <thead>\n",
       "    <tr style=\"text-align: right;\">\n",
       "      <th></th>\n",
       "      <th>FID</th>\n",
       "      <th>胎次</th>\n",
       "      <th>HERD</th>\n",
       "      <th>cowtai</th>\n",
       "      <th>YMB</th>\n",
       "      <th>HYB</th>\n",
       "      <th>YMC</th>\n",
       "      <th>HYC</th>\n",
       "      <th>YMI</th>\n",
       "      <th>HYI</th>\n",
       "      <th>ST</th>\n",
       "      <th>SC</th>\n",
       "      <th>AFS</th>\n",
       "      <th>AFC</th>\n",
       "      <th>IFL</th>\n",
       "      <th>CE</th>\n",
       "      <th>SB</th>\n",
       "    </tr>\n",
       "  </thead>\n",
       "  <tbody>\n",
       "    <tr>\n",
       "      <th>0</th>\n",
       "      <td>F459001097033</td>\n",
       "      <td>--</td>\n",
       "      <td>110901</td>\n",
       "      <td>F459001097033.--</td>\n",
       "      <td>199704</td>\n",
       "      <td>1109011997</td>\n",
       "      <td>NaN</td>\n",
       "      <td>NaN</td>\n",
       "      <td>200001</td>\n",
       "      <td>1109012000</td>\n",
       "      <td>NaN</td>\n",
       "      <td>0.0</td>\n",
       "      <td>NaN</td>\n",
       "      <td>NaN</td>\n",
       "      <td>NaN</td>\n",
       "      <td>NaN</td>\n",
       "      <td>NaN</td>\n",
       "    </tr>\n",
       "    <tr>\n",
       "      <th>1</th>\n",
       "      <td>F459001097110</td>\n",
       "      <td>--</td>\n",
       "      <td>110901</td>\n",
       "      <td>F459001097110.--</td>\n",
       "      <td>199711</td>\n",
       "      <td>1109011997</td>\n",
       "      <td>NaN</td>\n",
       "      <td>NaN</td>\n",
       "      <td>199905</td>\n",
       "      <td>1109011999</td>\n",
       "      <td>NaN</td>\n",
       "      <td>0.0</td>\n",
       "      <td>543.0</td>\n",
       "      <td>820.0</td>\n",
       "      <td>NaN</td>\n",
       "      <td>NaN</td>\n",
       "      <td>NaN</td>\n",
       "    </tr>\n",
       "    <tr>\n",
       "      <th>2</th>\n",
       "      <td>F459001D97138</td>\n",
       "      <td>--</td>\n",
       "      <td>110901</td>\n",
       "      <td>F459001D97138.--</td>\n",
       "      <td>199712</td>\n",
       "      <td>1109011997</td>\n",
       "      <td>NaN</td>\n",
       "      <td>NaN</td>\n",
       "      <td>200003</td>\n",
       "      <td>1109012000</td>\n",
       "      <td>NaN</td>\n",
       "      <td>0.0</td>\n",
       "      <td>804.0</td>\n",
       "      <td>1081.0</td>\n",
       "      <td>NaN</td>\n",
       "      <td>NaN</td>\n",
       "      <td>NaN</td>\n",
       "    </tr>\n",
       "    <tr>\n",
       "      <th>3</th>\n",
       "      <td>F459001098011</td>\n",
       "      <td>--</td>\n",
       "      <td>110901</td>\n",
       "      <td>F459001098011.--</td>\n",
       "      <td>199802</td>\n",
       "      <td>1109011998</td>\n",
       "      <td>NaN</td>\n",
       "      <td>NaN</td>\n",
       "      <td>200002</td>\n",
       "      <td>1109012000</td>\n",
       "      <td>NaN</td>\n",
       "      <td>0.0</td>\n",
       "      <td>733.0</td>\n",
       "      <td>1010.0</td>\n",
       "      <td>NaN</td>\n",
       "      <td>NaN</td>\n",
       "      <td>NaN</td>\n",
       "    </tr>\n",
       "    <tr>\n",
       "      <th>4</th>\n",
       "      <td>F459001098047</td>\n",
       "      <td>--</td>\n",
       "      <td>110901</td>\n",
       "      <td>F459001098047.--</td>\n",
       "      <td>199806</td>\n",
       "      <td>1109011998</td>\n",
       "      <td>NaN</td>\n",
       "      <td>NaN</td>\n",
       "      <td>200001</td>\n",
       "      <td>1109012000</td>\n",
       "      <td>NaN</td>\n",
       "      <td>0.0</td>\n",
       "      <td>580.0</td>\n",
       "      <td>857.0</td>\n",
       "      <td>NaN</td>\n",
       "      <td>NaN</td>\n",
       "      <td>NaN</td>\n",
       "    </tr>\n",
       "  </tbody>\n",
       "</table>\n",
       "</div>"
      ],
      "text/plain": [
       "             FID  胎次    HERD            cowtai     YMB         HYB  YMC  HYC  \\\n",
       "0  F459001097033  --  110901  F459001097033.--  199704  1109011997  NaN  NaN   \n",
       "1  F459001097110  --  110901  F459001097110.--  199711  1109011997  NaN  NaN   \n",
       "2  F459001D97138  --  110901  F459001D97138.--  199712  1109011997  NaN  NaN   \n",
       "3  F459001098011  --  110901  F459001098011.--  199802  1109011998  NaN  NaN   \n",
       "4  F459001098047  --  110901  F459001098047.--  199806  1109011998  NaN  NaN   \n",
       "\n",
       "      YMI         HYI  ST   SC    AFS     AFC  IFL   CE  SB  \n",
       "0  200001  1109012000 NaN  0.0    NaN     NaN  NaN  NaN NaN  \n",
       "1  199905  1109011999 NaN  0.0  543.0   820.0  NaN  NaN NaN  \n",
       "2  200003  1109012000 NaN  0.0  804.0  1081.0  NaN  NaN NaN  \n",
       "3  200002  1109012000 NaN  0.0  733.0  1010.0  NaN  NaN NaN  \n",
       "4  200001  1109012000 NaN  0.0  580.0   857.0  NaN  NaN NaN  "
      ]
     },
     "execution_count": 276,
     "metadata": {},
     "output_type": "execute_result"
    }
   ],
   "source": [
    "cowtai10=pd.merge(cowtai9,SB,on='cowtai',how='left')\n",
    "cowtai10.head()"
   ]
  },
  {
   "cell_type": "code",
   "execution_count": 277,
   "metadata": {
    "scrolled": true
   },
   "outputs": [
    {
     "data": {
      "text/plain": [
       "FID       696219\n",
       "胎次        688196\n",
       "HERD      696219\n",
       "cowtai    689627\n",
       "YMB       599944\n",
       "HYB       599944\n",
       "YMC       340846\n",
       "HYC       340846\n",
       "YMI       447195\n",
       "HYI       447195\n",
       "ST        327949\n",
       "SC        446184\n",
       "AFS       408894\n",
       "AFC       372584\n",
       "IFL       199120\n",
       "CE        327983\n",
       "SB        332799\n",
       "dtype: int64"
      ]
     },
     "execution_count": 277,
     "metadata": {},
     "output_type": "execute_result"
    }
   ],
   "source": [
    "cowtai10.count()"
   ]
  },
  {
   "cell_type": "code",
   "execution_count": 278,
   "metadata": {},
   "outputs": [],
   "source": [
    "cowtai10.to_csv('F:\\\\fertility data\\\\SUMBJ1807\\\\final.csv',index=False,encoding='utf_8_sig')"
   ]
  }
 ],
 "metadata": {
  "kernelspec": {
   "display_name": "Python 3",
   "language": "python",
   "name": "python3"
  },
  "language_info": {
   "codemirror_mode": {
    "name": "ipython",
    "version": 3
   },
   "file_extension": ".py",
   "mimetype": "text/x-python",
   "name": "python",
   "nbconvert_exporter": "python",
   "pygments_lexer": "ipython3",
   "version": "3.6.4"
  },
  "toc": {
   "base_numbering": 1,
   "nav_menu": {},
   "number_sections": true,
   "sideBar": true,
   "skip_h1_title": false,
   "title_cell": "Table of Contents",
   "title_sidebar": "Contents",
   "toc_cell": false,
   "toc_position": {},
   "toc_section_display": true,
   "toc_window_display": true
  }
 },
 "nbformat": 4,
 "nbformat_minor": 2
}
