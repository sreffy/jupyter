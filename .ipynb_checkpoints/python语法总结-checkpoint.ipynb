{
 "cells": [
  {
   "cell_type": "markdown",
   "metadata": {},
   "source": [
    "对一些使用过的python语法进行总结，温故而知新。"
   ]
  },
  {
   "cell_type": "code",
   "execution_count": 6,
   "metadata": {},
   "outputs": [],
   "source": [
    "import numpy as np \n",
    "import pandas as pd \n",
    "import matplotlib.pyplot as plt\n",
    "import seaborn as sns\n",
    "import os"
   ]
  },
  {
   "cell_type": "markdown",
   "metadata": {},
   "source": [
    "# 基本语法"
   ]
  },
  {
   "cell_type": "markdown",
   "metadata": {},
   "source": [
    "## os 模块"
   ]
  },
  {
   "cell_type": "code",
   "execution_count": 9,
   "metadata": {},
   "outputs": [
    {
     "data": {
      "text/plain": [
       "21"
      ]
     },
     "execution_count": 9,
     "metadata": {},
     "output_type": "execute_result"
    }
   ],
   "source": [
    "# 获取目录下所有文件\n",
    "\n",
    "path='F:\\\\Python\\\\'\n",
    "files= os.listdir(path)\n",
    "\n",
    "len(files)"
   ]
  },
  {
   "cell_type": "markdown",
   "metadata": {},
   "source": [
    "# 第三方包"
   ]
  },
  {
   "cell_type": "markdown",
   "metadata": {},
   "source": [
    "## pandas"
   ]
  },
  {
   "cell_type": "markdown",
   "metadata": {},
   "source": [
    "### 文件数据的读取"
   ]
  },
  {
   "cell_type": "code",
   "execution_count": 5,
   "metadata": {},
   "outputs": [
    {
     "name": "stdout",
     "output_type": "stream",
     "text": [
      "<class 'pandas.core.frame.DataFrame'>\n",
      "RangeIndex: 418 entries, 0 to 417\n",
      "Data columns (total 11 columns):\n",
      "PassengerId    418 non-null int64\n",
      "Pclass         418 non-null int64\n",
      "Name           418 non-null object\n",
      "Sex            418 non-null object\n",
      "Age            332 non-null float64\n",
      "SibSp          418 non-null int64\n",
      "Parch          418 non-null int64\n",
      "Ticket         418 non-null object\n",
      "Fare           417 non-null float64\n",
      "Cabin          91 non-null object\n",
      "Embarked       418 non-null object\n",
      "dtypes: float64(2), int64(4), object(5)\n",
      "memory usage: 36.0+ KB\n",
      "None\n"
     ]
    }
   ],
   "source": [
    "##.csv格式\n",
    "\n",
    "test=pd.read_csv('F:\\\\kaggle\\\\Titanic\\\\test.csv',sep=\",\",encoding='gbk',low_memory=False)\n",
    "\n",
    "#encoding='gbk'是表示对含有中文的csv文件读入的设置，否则会出现乱码\n",
    "#low_memory=False 表示读入的数据列里若有不同类型的数据时保存各自的格式，而不是进行统一转换\n",
    "\n",
    "print(test.info())"
   ]
  },
  {
   "cell_type": "code",
   "execution_count": 15,
   "metadata": {},
   "outputs": [
    {
     "data": {
      "text/html": [
       "<div>\n",
       "<style scoped>\n",
       "    .dataframe tbody tr th:only-of-type {\n",
       "        vertical-align: middle;\n",
       "    }\n",
       "\n",
       "    .dataframe tbody tr th {\n",
       "        vertical-align: top;\n",
       "    }\n",
       "\n",
       "    .dataframe thead th {\n",
       "        text-align: right;\n",
       "    }\n",
       "</style>\n",
       "<table border=\"1\" class=\"dataframe\">\n",
       "  <thead>\n",
       "    <tr style=\"text-align: right;\">\n",
       "      <th></th>\n",
       "      <th>Station_Id_C</th>\n",
       "      <th>Year</th>\n",
       "      <th>Mon</th>\n",
       "      <th>Day</th>\n",
       "      <th>Hour</th>\n",
       "      <th>WIN_S_Max</th>\n",
       "      <th>RHU</th>\n",
       "      <th>WIN_D_S_Max</th>\n",
       "      <th>PRS_Min</th>\n",
       "      <th>TEM_Min</th>\n",
       "      <th>...</th>\n",
       "      <th>PRS_Sea</th>\n",
       "      <th>VAP</th>\n",
       "      <th>PRE_1h</th>\n",
       "      <th>WIN_S_Inst_Max</th>\n",
       "      <th>PRS</th>\n",
       "      <th>WIN_D_INST_Max</th>\n",
       "      <th>TEM_Max</th>\n",
       "      <th>WIN_D_Avg_10mi</th>\n",
       "      <th>TEM</th>\n",
       "      <th>WIN_S_Avg_10mi</th>\n",
       "    </tr>\n",
       "  </thead>\n",
       "  <tbody>\n",
       "    <tr>\n",
       "      <th>0</th>\n",
       "      <td>53392</td>\n",
       "      <td>2016</td>\n",
       "      <td>1</td>\n",
       "      <td>4</td>\n",
       "      <td>0</td>\n",
       "      <td>3.9</td>\n",
       "      <td>77</td>\n",
       "      <td>276</td>\n",
       "      <td>860.6</td>\n",
       "      <td>-21.1</td>\n",
       "      <td>...</td>\n",
       "      <td>1039.8</td>\n",
       "      <td>0.9</td>\n",
       "      <td>0</td>\n",
       "      <td>5.0</td>\n",
       "      <td>861.0</td>\n",
       "      <td>285</td>\n",
       "      <td>-19.4</td>\n",
       "      <td>287</td>\n",
       "      <td>-21.1</td>\n",
       "      <td>2.4</td>\n",
       "    </tr>\n",
       "  </tbody>\n",
       "</table>\n",
       "<p>1 rows × 22 columns</p>\n",
       "</div>"
      ],
      "text/plain": [
       "   Station_Id_C  Year  Mon  Day  Hour  WIN_S_Max  RHU  WIN_D_S_Max  PRS_Min  \\\n",
       "0         53392  2016    1    4     0        3.9   77          276    860.6   \n",
       "\n",
       "   TEM_Min       ...        PRS_Sea  VAP  PRE_1h  WIN_S_Inst_Max    PRS  \\\n",
       "0    -21.1       ...         1039.8  0.9       0             5.0  861.0   \n",
       "\n",
       "   WIN_D_INST_Max  TEM_Max  WIN_D_Avg_10mi   TEM  WIN_S_Avg_10mi  \n",
       "0             285    -19.4             287 -21.1             2.4  \n",
       "\n",
       "[1 rows x 22 columns]"
      ]
     },
     "execution_count": 15,
     "metadata": {},
     "output_type": "execute_result"
    }
   ],
   "source": [
    "##其他格式，如.txt格式\n",
    "\n",
    "path = \"F:\\\\weather\\\\data txt\\\\txt\\\\\" #文件夹目录\n",
    "files= os.listdir(path)\n",
    "\n",
    "data_m=pd.read_table(path+files[0],delim_whitespace=True)\n",
    "data_n=pd.read_table(path+files[0],sep=' ')\n",
    "#path+files[0]刚好指代指定目录下的第一个文件\n",
    "#delim_whitespace=True 表示第一行作为列名时，若列名之间有不等数量的空值，该指令可将这些空值仅作为一个空值进行分割\n",
    "\n",
    "data_m.head(1)"
   ]
  },
  {
   "cell_type": "code",
   "execution_count": 16,
   "metadata": {},
   "outputs": [
    {
     "data": {
      "text/html": [
       "<div>\n",
       "<style scoped>\n",
       "    .dataframe tbody tr th:only-of-type {\n",
       "        vertical-align: middle;\n",
       "    }\n",
       "\n",
       "    .dataframe tbody tr th {\n",
       "        vertical-align: top;\n",
       "    }\n",
       "\n",
       "    .dataframe thead th {\n",
       "        text-align: right;\n",
       "    }\n",
       "</style>\n",
       "<table border=\"1\" class=\"dataframe\">\n",
       "  <thead>\n",
       "    <tr style=\"text-align: right;\">\n",
       "      <th></th>\n",
       "      <th>Station_Id_C</th>\n",
       "      <th>Year</th>\n",
       "      <th>Mon</th>\n",
       "      <th>Day</th>\n",
       "      <th>Hour</th>\n",
       "      <th>WIN_S_Max</th>\n",
       "      <th>RHU</th>\n",
       "      <th>WIN_D_S_Max</th>\n",
       "      <th>PRS_Min</th>\n",
       "      <th>TEM_Min</th>\n",
       "      <th>...</th>\n",
       "      <th>PRS_Sea</th>\n",
       "      <th>VAP</th>\n",
       "      <th>PRE_1h</th>\n",
       "      <th>WIN_S_Inst_Max</th>\n",
       "      <th>PRS</th>\n",
       "      <th>WIN_D_INST_Max</th>\n",
       "      <th>TEM_Max</th>\n",
       "      <th>WIN_D_Avg_10mi</th>\n",
       "      <th>TEM</th>\n",
       "      <th>WIN_S_Avg_10mi</th>\n",
       "    </tr>\n",
       "  </thead>\n",
       "  <tbody>\n",
       "    <tr>\n",
       "      <th>53392</th>\n",
       "      <td>2016</td>\n",
       "      <td>1</td>\n",
       "      <td>4</td>\n",
       "      <td>0</td>\n",
       "      <td>3.9</td>\n",
       "      <td>77</td>\n",
       "      <td>276</td>\n",
       "      <td>860.6</td>\n",
       "      <td>-21.1</td>\n",
       "      <td>861.1</td>\n",
       "      <td>...</td>\n",
       "      <td>0.9</td>\n",
       "      <td>0</td>\n",
       "      <td>5.0</td>\n",
       "      <td>861.0</td>\n",
       "      <td>285</td>\n",
       "      <td>-19.4</td>\n",
       "      <td>287</td>\n",
       "      <td>-21.1</td>\n",
       "      <td>2.4</td>\n",
       "      <td>NaN</td>\n",
       "    </tr>\n",
       "  </tbody>\n",
       "</table>\n",
       "<p>1 rows × 22 columns</p>\n",
       "</div>"
      ],
      "text/plain": [
       "       Station_Id_C  Year  Mon  Day  Hour  WIN_S_Max  RHU  WIN_D_S_Max  \\\n",
       "53392          2016     1    4    0   3.9         77  276        860.6   \n",
       "\n",
       "       PRS_Min  TEM_Min       ...        PRS_Sea  VAP  PRE_1h  WIN_S_Inst_Max  \\\n",
       "53392    -21.1    861.1       ...            0.9    0     5.0           861.0   \n",
       "\n",
       "       PRS  WIN_D_INST_Max  TEM_Max  WIN_D_Avg_10mi  TEM  WIN_S_Avg_10mi  \n",
       "53392  285           -19.4      287           -21.1  2.4             NaN  \n",
       "\n",
       "[1 rows x 22 columns]"
      ]
     },
     "execution_count": 16,
     "metadata": {},
     "output_type": "execute_result"
    }
   ],
   "source": [
    "data_n.head(1)\n",
    "#可以看出下面的表格错了一列值，最后一列全都是缺失。"
   ]
  },
  {
   "cell_type": "code",
   "execution_count": null,
   "metadata": {},
   "outputs": [],
   "source": []
  }
 ],
 "metadata": {
  "kernelspec": {
   "display_name": "Python 3",
   "language": "python",
   "name": "python3"
  },
  "language_info": {
   "codemirror_mode": {
    "name": "ipython",
    "version": 3
   },
   "file_extension": ".py",
   "mimetype": "text/x-python",
   "name": "python",
   "nbconvert_exporter": "python",
   "pygments_lexer": "ipython3",
   "version": "3.6.4"
  },
  "toc": {
   "base_numbering": 1,
   "nav_menu": {},
   "number_sections": true,
   "sideBar": true,
   "skip_h1_title": false,
   "title_cell": "Table of Contents",
   "title_sidebar": "Contents",
   "toc_cell": false,
   "toc_position": {},
   "toc_section_display": true,
   "toc_window_display": false
  }
 },
 "nbformat": 4,
 "nbformat_minor": 2
}
