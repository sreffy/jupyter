{
 "cells": [
  {
   "cell_type": "markdown",
   "metadata": {},
   "source": [
    "# 兄弟串"
   ]
  },
  {
   "cell_type": "markdown",
   "metadata": {},
   "source": [
    "通过交换两个字符得到的字符串称为兄弟串。如A='abc'，其兄弟串为'acb'，'bac'，'cba'。给定两个有小写字母组成的字符串A和B，判断他们是否是兄弟串，若是返回1，否则返回2."
   ]
  },
  {
   "cell_type": "code",
   "execution_count": 47,
   "metadata": {},
   "outputs": [
    {
     "name": "stdout",
     "output_type": "stream",
     "text": [
      "ab  ba\n"
     ]
    },
    {
     "data": {
      "text/plain": [
       "0"
      ]
     },
     "execution_count": 47,
     "metadata": {},
     "output_type": "execute_result"
    }
   ],
   "source": [
    "p=input()\n",
    "pp=' '.join(p.split())\n",
    "A=pp[0]\n",
    "B=pp[1]\n",
    "\n",
    "def orderstr(string):\n",
    "   \n",
    "        \n",
    "\n",
    "def brostr(A,B):\n",
    "    if A==B:\n",
    "        return 0\n",
    "    elif order(A)==order(B):\n",
    "        return 1\n",
    "    else:\n",
    "        return 0\n",
    "        \n",
    "bostr()"
   ]
  },
  {
   "cell_type": "code",
   "execution_count": 48,
   "metadata": {},
   "outputs": [],
   "source": [
    "A='ab'\n",
    "B='ba'"
   ]
  },
  {
   "cell_type": "code",
   "execution_count": 49,
   "metadata": {},
   "outputs": [],
   "source": [
    "def orderstr(string):\n",
    "    orderstring=\"\".join((lambda s:(s.sort(),s)[1])(list(string)))\n",
    "    return orderstring"
   ]
  },
  {
   "cell_type": "code",
   "execution_count": 50,
   "metadata": {},
   "outputs": [
    {
     "data": {
      "text/plain": [
       "True"
      ]
     },
     "execution_count": 50,
     "metadata": {},
     "output_type": "execute_result"
    }
   ],
   "source": [
    "orderstr(A)==orderstr(B)"
   ]
  },
  {
   "cell_type": "code",
   "execution_count": 46,
   "metadata": {},
   "outputs": [
    {
     "data": {
      "text/plain": [
       "'ab'"
      ]
     },
     "execution_count": 46,
     "metadata": {},
     "output_type": "execute_result"
    }
   ],
   "source": [
    "B1"
   ]
  },
  {
   "cell_type": "code",
   "execution_count": 8,
   "metadata": {},
   "outputs": [],
   "source": [
    "alpha='abcdefghijklmnopqrstuvwxyz'"
   ]
  },
  {
   "cell_type": "code",
   "execution_count": 10,
   "metadata": {},
   "outputs": [],
   "source": [
    "ind=[]\n",
    "le=[]\n",
    "for index,letter in enumerate(alpha):\n",
    "    ind.append(index)\n",
    "    le.append(letter)"
   ]
  },
  {
   "cell_type": "code",
   "execution_count": 13,
   "metadata": {},
   "outputs": [],
   "source": [
    "ind_le=dict(zip(ind,le))"
   ]
  },
  {
   "cell_type": "code",
   "execution_count": 18,
   "metadata": {},
   "outputs": [],
   "source": [
    "ind_letter= sorted(ind_le.items(), key=lambda x: x[1],reverse=True) \n",
    "index_letter=[]\n",
    "for tu in ind_letter:\n",
    "    a=list(tu)\n",
    "    index_letter.extend(a)"
   ]
  },
  {
   "cell_type": "markdown",
   "metadata": {},
   "source": [
    "# 计算移动次数"
   ]
  },
  {
   "cell_type": "markdown",
   "metadata": {},
   "source": [
    "假设一个无限长x轴，你站在原点x=0，目标点是x轴上任意整数点。\n",
    "\n",
    "每次移动只能向左或向右，第N次移动只能移动N的距离。\n",
    "\n",
    "现给定一个目标，要求为了达到目标点，移动最少的次数。"
   ]
  },
  {
   "cell_type": "code",
   "execution_count": 74,
   "metadata": {},
   "outputs": [
    {
     "name": "stdout",
     "output_type": "stream",
     "text": [
      "3\n"
     ]
    },
    {
     "data": {
      "text/plain": [
       "2"
      ]
     },
     "execution_count": 74,
     "metadata": {},
     "output_type": "execute_result"
    }
   ],
   "source": [
    "p=input()\n",
    "pp=' '.join(p.split())\n",
    "N=int(pp)\n",
    "\n",
    "def le_nums(N):\n",
    "    n=0\n",
    "    i=1\n",
    "    while n!=N:\n",
    "        if N-n < i :\n",
    "            n-=i\n",
    "        else:\n",
    "            n+=i\n",
    "        i+=1\n",
    "    return i-1\n",
    "\n",
    "le_nums(N)"
   ]
  },
  {
   "cell_type": "code",
   "execution_count": 73,
   "metadata": {},
   "outputs": [
    {
     "data": {
      "text/plain": [
       "4"
      ]
     },
     "execution_count": 73,
     "metadata": {},
     "output_type": "execute_result"
    }
   ],
   "source": [
    "le_nums(4)"
   ]
  },
  {
   "cell_type": "code",
   "execution_count": 61,
   "metadata": {},
   "outputs": [
    {
     "ename": "SyntaxError",
     "evalue": "'return' outside function (<ipython-input-61-95b04466f7ef>, line 6)",
     "output_type": "error",
     "traceback": [
      "\u001b[1;36m  File \u001b[1;32m\"<ipython-input-61-95b04466f7ef>\"\u001b[1;36m, line \u001b[1;32m6\u001b[0m\n\u001b[1;33m    return i\u001b[0m\n\u001b[1;37m    ^\u001b[0m\n\u001b[1;31mSyntaxError\u001b[0m\u001b[1;31m:\u001b[0m 'return' outside function\n"
     ]
    }
   ],
   "source": [
    "n=0\n",
    "for i in range(1,100):\n",
    "    if N-n < i :\n",
    "        n-=i\n",
    "    elif n==N:\n",
    "        break\n",
    "    else:\n",
    "        n+=i"
   ]
  },
  {
   "cell_type": "markdown",
   "metadata": {},
   "source": [
    "# 比较版本号的大小"
   ]
  },
  {
   "cell_type": "markdown",
   "metadata": {},
   "source": [
    "给定两个版本version1 version2\n",
    "\n",
    "如果version1>version2,返回1，如果version1<version2,返回-1。其他情况返回0"
   ]
  },
  {
   "cell_type": "code",
   "execution_count": 106,
   "metadata": {},
   "outputs": [
    {
     "name": "stdout",
     "output_type": "stream",
     "text": [
      "1.0.3  1.2\n",
      "1\n"
     ]
    }
   ],
   "source": [
    "p=input()\n",
    "pp=' '.join(p.split())\n",
    "ppp=pp.split(' ')\n",
    "version11=ppp[0].split('.')\n",
    "version22=ppp[1].split('.')\n",
    "\n",
    "version1=''\n",
    "version2=''\n",
    "\n",
    "for ele in version11:\n",
    "    version1=version1+ele\n",
    "for ele in version22:\n",
    "    version2=version2+ele\n",
    "\n",
    "if len(version1)==len(version1):\n",
    "    if int(version1)>int(version2):\n",
    "        print(1)\n",
    "    elif int(version1)>int(version2):\n",
    "        print(-1)\n",
    "    else:\n",
    "        print(0)\n",
    "elif len(version1)>len(version2):\n",
    "    version2=version2+'0'*(len(version1)-len(version2))\n",
    "    if int(version1)>int(version2):\n",
    "        print(1)\n",
    "    elif int(version1)>int(version2):\n",
    "        print(-1)\n",
    "    else:\n",
    "        print(0)\n",
    "else:\n",
    "    version1=version1+'0'*(len(version2)-len(version1))\n",
    "    if int(version1)>int(version2):\n",
    "        print(1)\n",
    "    elif int(version1)>int(version2):\n",
    "        print(-1)\n",
    "    else:\n",
    "        print(0)"
   ]
  },
  {
   "cell_type": "code",
   "execution_count": 99,
   "metadata": {},
   "outputs": [],
   "source": [
    "version2=version2+'0'*(len(version1)-len(version2))"
   ]
  },
  {
   "cell_type": "code",
   "execution_count": 105,
   "metadata": {},
   "outputs": [
    {
     "data": {
      "text/plain": [
       "3"
      ]
     },
     "execution_count": 105,
     "metadata": {},
     "output_type": "execute_result"
    }
   ],
   "source": [
    "len(version1)"
   ]
  },
  {
   "cell_type": "code",
   "execution_count": null,
   "metadata": {},
   "outputs": [],
   "source": []
  },
  {
   "cell_type": "markdown",
   "metadata": {},
   "source": [
    "# 腾讯"
   ]
  },
  {
   "cell_type": "markdown",
   "metadata": {},
   "source": [
    "## 战斗力"
   ]
  },
  {
   "cell_type": "code",
   "execution_count": null,
   "metadata": {},
   "outputs": [],
   "source": []
  },
  {
   "cell_type": "markdown",
   "metadata": {},
   "source": [
    "## 序列"
   ]
  },
  {
   "cell_type": "markdown",
   "metadata": {},
   "source": [
    "小Q有一个长度为n并包含1~n的整数序列。最开始序列为升序排列。小Q对序列进行m次操作，第i次操作中将xi从序列中取出并放到序列首部。经过m次操作后，序列成什么样？"
   ]
  },
  {
   "cell_type": "markdown",
   "metadata": {},
   "source": [
    "输入包括m+1行，第一行两个整数为n,m。接下来m行为小Q操作的数。"
   ]
  },
  {
   "cell_type": "code",
   "execution_count": null,
   "metadata": {},
   "outputs": [],
   "source": [
    "import sys \n",
    "xi=[]\n",
    "for line in sys.stdin:\n",
    "    line = line.split()\n",
    "    if len(line)>1:\n",
    "        m=int(line[1])\n",
    "        n=int(line[0])\n",
    "    else:\n",
    "        x=int(line[0])\n",
    "        xi.append(x)\n",
    "\n",
    "seq=list(range(1,n+1))\n",
    "seq_dict=dict(zip(seq,seq))\n",
    "for x in xi:\n",
    "    for key in seq_dict.keys():\n",
    "        seq_dict[key]+=1\n",
    "    seq_dict[x]=1\n",
    "\n",
    "ind_letter= sorted(seq_dict.items(), key=lambda x: x[1]) \n",
    "seq_re=''\n",
    "for tu in ind_letter:\n",
    "    a=tu[0]\n",
    "    seq_re=seq_re+' '+str(a)\n",
    "seq_re1=seq_re.lstrip()\n",
    "print(seq_re1)"
   ]
  },
  {
   "cell_type": "code",
   "execution_count": null,
   "metadata": {},
   "outputs": [],
   "source": []
  },
  {
   "cell_type": "code",
   "execution_count": 2,
   "metadata": {},
   "outputs": [],
   "source": [
    "seq=list(range(1,5))"
   ]
  },
  {
   "cell_type": "code",
   "execution_count": 3,
   "metadata": {},
   "outputs": [
    {
     "data": {
      "text/plain": [
       "[1, 2, 3, 4]"
      ]
     },
     "execution_count": 3,
     "metadata": {},
     "output_type": "execute_result"
    }
   ],
   "source": [
    "seq"
   ]
  },
  {
   "cell_type": "code",
   "execution_count": 4,
   "metadata": {},
   "outputs": [],
   "source": [
    "seq_dict=dict(zip(seq,seq))"
   ]
  },
  {
   "cell_type": "code",
   "execution_count": 5,
   "metadata": {},
   "outputs": [
    {
     "data": {
      "text/plain": [
       "{1: 1, 2: 2, 3: 3, 4: 4}"
      ]
     },
     "execution_count": 5,
     "metadata": {},
     "output_type": "execute_result"
    }
   ],
   "source": [
    "seq_dict"
   ]
  },
  {
   "cell_type": "code",
   "execution_count": 22,
   "metadata": {},
   "outputs": [],
   "source": [
    "x=4"
   ]
  },
  {
   "cell_type": "code",
   "execution_count": 6,
   "metadata": {},
   "outputs": [],
   "source": [
    "for key in seq_dict.keys():\n",
    "    seq_dict[key]+=1"
   ]
  },
  {
   "cell_type": "code",
   "execution_count": 60,
   "metadata": {},
   "outputs": [
    {
     "data": {
      "text/plain": [
       "dict_values([2, 3, 4, 1])"
      ]
     },
     "execution_count": 60,
     "metadata": {},
     "output_type": "execute_result"
    }
   ],
   "source": [
    "seq_dict.values()"
   ]
  },
  {
   "cell_type": "code",
   "execution_count": 59,
   "metadata": {},
   "outputs": [],
   "source": [
    "for value in seq_dict.values():\n",
    "    value+=1"
   ]
  },
  {
   "cell_type": "code",
   "execution_count": 26,
   "metadata": {},
   "outputs": [],
   "source": [
    "seq_dict[x]=1"
   ]
  },
  {
   "cell_type": "code",
   "execution_count": 7,
   "metadata": {},
   "outputs": [
    {
     "data": {
      "text/plain": [
       "{1: 2, 2: 3, 3: 4, 4: 5}"
      ]
     },
     "execution_count": 7,
     "metadata": {},
     "output_type": "execute_result"
    }
   ],
   "source": [
    "seq_dict"
   ]
  },
  {
   "cell_type": "code",
   "execution_count": 42,
   "metadata": {},
   "outputs": [
    {
     "data": {
      "text/plain": [
       "3"
      ]
     },
     "execution_count": 42,
     "metadata": {},
     "output_type": "execute_result"
    }
   ],
   "source": [
    "seq_dict[2]"
   ]
  },
  {
   "cell_type": "code",
   "execution_count": 27,
   "metadata": {},
   "outputs": [],
   "source": [
    "a=[2,3,4,1]"
   ]
  },
  {
   "cell_type": "code",
   "execution_count": 40,
   "metadata": {},
   "outputs": [
    {
     "data": {
      "text/plain": [
       "2"
      ]
     },
     "execution_count": 40,
     "metadata": {},
     "output_type": "execute_result"
    }
   ],
   "source": [
    "a[0]"
   ]
  },
  {
   "cell_type": "code",
   "execution_count": 38,
   "metadata": {},
   "outputs": [],
   "source": [
    "ind_letter= sorted(seq_dict.items(), key=lambda x: x[0]) "
   ]
  },
  {
   "cell_type": "code",
   "execution_count": 39,
   "metadata": {},
   "outputs": [
    {
     "data": {
      "text/plain": [
       "[(1, 2), (2, 3), (3, 4), (4, 5)]"
      ]
     },
     "execution_count": 39,
     "metadata": {},
     "output_type": "execute_result"
    }
   ],
   "source": [
    "ind_letter"
   ]
  },
  {
   "cell_type": "code",
   "execution_count": 38,
   "metadata": {},
   "outputs": [],
   "source": [
    "index_letter=''\n",
    "for tu in ind_letter:\n",
    "    a=tu[0]\n",
    "    index_letter=+str(a)"
   ]
  },
  {
   "cell_type": "code",
   "execution_count": 45,
   "metadata": {},
   "outputs": [],
   "source": [
    "b=' '.join('1')"
   ]
  },
  {
   "cell_type": "code",
   "execution_count": 47,
   "metadata": {},
   "outputs": [],
   "source": [
    "b='   a    '"
   ]
  },
  {
   "cell_type": "code",
   "execution_count": 50,
   "metadata": {},
   "outputs": [
    {
     "data": {
      "text/plain": [
       "'a    '"
      ]
     },
     "execution_count": 50,
     "metadata": {},
     "output_type": "execute_result"
    }
   ],
   "source": [
    "b"
   ]
  },
  {
   "cell_type": "code",
   "execution_count": 53,
   "metadata": {},
   "outputs": [],
   "source": [
    "c=b.lstrip()"
   ]
  },
  {
   "cell_type": "code",
   "execution_count": 54,
   "metadata": {},
   "outputs": [
    {
     "data": {
      "text/plain": [
       "'a    '"
      ]
     },
     "execution_count": 54,
     "metadata": {},
     "output_type": "execute_result"
    }
   ],
   "source": [
    "c"
   ]
  },
  {
   "cell_type": "code",
   "execution_count": null,
   "metadata": {},
   "outputs": [],
   "source": []
  },
  {
   "cell_type": "markdown",
   "metadata": {},
   "source": [
    "## 画矩形"
   ]
  },
  {
   "cell_type": "markdown",
   "metadata": {},
   "source": [
    "W*H的白色方格值，M毫升颜料，每毫升可以把一个白色方格涂红。画出一个红色矩形，矩形最大面积是多少？\n"
   ]
  },
  {
   "cell_type": "markdown",
   "metadata": {},
   "source": [
    "输入包括三个整数：W,H,M；输出一个整数代表矩形最大面积。"
   ]
  },
  {
   "cell_type": "code",
   "execution_count": 71,
   "metadata": {},
   "outputs": [
    {
     "ename": "NameError",
     "evalue": "name 'W' is not defined",
     "output_type": "error",
     "traceback": [
      "\u001b[1;31m---------------------------------------------------------------------------\u001b[0m",
      "\u001b[1;31mNameError\u001b[0m                                 Traceback (most recent call last)",
      "\u001b[1;32m<ipython-input-71-f9c5cf08acb6>\u001b[0m in \u001b[0;36m<module>\u001b[1;34m()\u001b[0m\n\u001b[0;32m      9\u001b[0m \u001b[0mS\u001b[0m\u001b[1;33m=\u001b[0m\u001b[1;33m[\u001b[0m\u001b[1;33m]\u001b[0m\u001b[1;33m\u001b[0m\u001b[0m\n\u001b[0;32m     10\u001b[0m \u001b[0mi\u001b[0m\u001b[1;33m=\u001b[0m\u001b[0mj\u001b[0m\u001b[1;33m=\u001b[0m\u001b[1;36m1\u001b[0m\u001b[1;33m\u001b[0m\u001b[0m\n\u001b[1;32m---> 11\u001b[1;33m \u001b[1;32mwhile\u001b[0m \u001b[0mi\u001b[0m \u001b[1;33m<=\u001b[0m\u001b[0mW\u001b[0m\u001b[1;33m:\u001b[0m\u001b[1;33m\u001b[0m\u001b[0m\n\u001b[0m\u001b[0;32m     12\u001b[0m     \u001b[1;32mif\u001b[0m \u001b[0mj\u001b[0m\u001b[1;33m<=\u001b[0m \u001b[0mH\u001b[0m\u001b[1;33m:\u001b[0m\u001b[1;33m\u001b[0m\u001b[0m\n\u001b[0;32m     13\u001b[0m         \u001b[0ms\u001b[0m\u001b[1;33m=\u001b[0m\u001b[0mi\u001b[0m\u001b[1;33m*\u001b[0m\u001b[0mj\u001b[0m\u001b[1;33m\u001b[0m\u001b[0m\n",
      "\u001b[1;31mNameError\u001b[0m: name 'W' is not defined"
     ]
    }
   ],
   "source": [
    "import sys \n",
    "for line in sys.stdin:\n",
    "    line = line.split()\n",
    "    W=int(line[0])\n",
    "    H=int(line[1])\n",
    "    M=int(line[2])\n",
    "\n",
    "\n",
    "S=[]\n",
    "i=j=1\n",
    "while i <=W:\n",
    "    if j<= H:\n",
    "        s=i*j\n",
    "    if s<M:\n",
    "        S.append(s)\n",
    "    i+=1\n",
    "    \n",
    "S_m=S.sort()[-1]"
   ]
  },
  {
   "cell_type": "code",
   "execution_count": 61,
   "metadata": {},
   "outputs": [],
   "source": [
    "s=[2,3,4,5]"
   ]
  },
  {
   "cell_type": "code",
   "execution_count": 68,
   "metadata": {},
   "outputs": [],
   "source": [
    "a=sorted(s)[-1]"
   ]
  },
  {
   "cell_type": "code",
   "execution_count": 69,
   "metadata": {},
   "outputs": [
    {
     "data": {
      "text/plain": [
       "5"
      ]
     },
     "execution_count": 69,
     "metadata": {},
     "output_type": "execute_result"
    }
   ],
   "source": [
    "a"
   ]
  },
  {
   "cell_type": "code",
   "execution_count": null,
   "metadata": {},
   "outputs": [],
   "source": []
  },
  {
   "cell_type": "markdown",
   "metadata": {},
   "source": [
    "# 美团编程题"
   ]
  },
  {
   "cell_type": "markdown",
   "metadata": {},
   "source": [
    "## 外卖满减"
   ]
  },
  {
   "cell_type": "markdown",
   "metadata": {},
   "source": [
    "你打开了美了么外卖，选择了一家店，你手里有一张满X元减10元的券，店里总共有n种菜，第i种菜一份需要Ai元，因为你不想吃太多份同一种菜，所以每种菜你最多只能点一份，现在问你最少需要选择多少元的商品才能使用这张券。\n",
    "\n",
    "输入：\n",
    "第一行两个正整数n和X，分别表示菜品数量和券的最低使用价格。（1≤n≤100, 1≤X≤10000）\n",
    "接下来一行n个整数，第i个整数表示第i种菜品的价格。（1≤Ai≤100）\n",
    "\n",
    "\n",
    "输出：\n",
    "一个数，表示最少需要选择多少元的菜才能使用这张满X元减10元的券，保证有解。"
   ]
  },
  {
   "cell_type": "code",
   "execution_count": 13,
   "metadata": {},
   "outputs": [
    {
     "name": "stdout",
     "output_type": "stream",
     "text": [
      "5 20\n",
      "18 19 17 6 7\n"
     ]
    }
   ],
   "source": [
    "a=input().split(' ')\n",
    "b=input().split(' ')\n",
    "\n",
    "a = [ int(x) for x in a ]\n",
    "b = [ int(x) for x in b ]\n",
    "\n",
    "thres=a[1]\n",
    "\n",
    "total=0\n",
    "remain=[]\n",
    "total=[]\n",
    "\n",
    "for price in b:\n",
    "    if thres - price in b:\n",
    "        print(thres)\n",
    "        break\n",
    "    else:\n",
    "        remain.append(thres-price)\n",
    "        total.append(price)\n",
    "        \n",
    "if min(remain)<min(total):\n",
    "    while i<a[0]:\n",
    "        for re in remain:\n",
    "            final.append(re-min(total))\n",
    "\n"
   ]
  },
  {
   "cell_type": "code",
   "execution_count": 17,
   "metadata": {},
   "outputs": [
    {
     "data": {
      "text/plain": [
       "[2, 1, 3, 14, 13]"
      ]
     },
     "execution_count": 17,
     "metadata": {},
     "output_type": "execute_result"
    }
   ],
   "source": [
    "remain"
   ]
  },
  {
   "cell_type": "code",
   "execution_count": null,
   "metadata": {},
   "outputs": [],
   "source": []
  },
  {
   "cell_type": "markdown",
   "metadata": {},
   "source": [
    "# 树的度序列"
   ]
  },
  {
   "cell_type": "markdown",
   "metadata": {},
   "source": [
    "在图论中，树是一种简单无向图，其中任意两个顶点间存在唯一一条简单路径。或者说，只要没有回路的简单连通图就是树。如下图，就是一棵包含6个顶点，5条边的树\n",
    "\n",
    "在一张简单图中，一个顶点的度数是与其相关联的边的条数，或者说是其邻居的数目。在上图中，1号、2号、3号、6号顶点的度数是1；4号顶点的度数是4；5号顶点的度数是2。我们可以按节点编号的顺序写出它的度序列为：【1，1，1，4，2，1】。现在给出一个整数序列，你需要判断它是否是某一棵树的度序列。\n",
    "\n",
    "用例包含多组数据，\n",
    "\n",
    "第一行一个正整数T，表示数据组数\n",
    "\n",
    "对于每一组数据，第一行包含一个整数n，表示序列的长度。1≤n≤10^5 \n",
    "\n",
    "第二行包含n个整数ai，ai表示顶点i的度数。0≤ai≤10^9 \n",
    "\n",
    "逐行输出判断结果，如果它是某棵树的度序列，输出Yes，或则输出No。"
   ]
  },
  {
   "cell_type": "code",
   "execution_count": null,
   "metadata": {},
   "outputs": [],
   "source": []
  }
 ],
 "metadata": {
  "kernelspec": {
   "display_name": "Python 3",
   "language": "python",
   "name": "python3"
  },
  "language_info": {
   "codemirror_mode": {
    "name": "ipython",
    "version": 3
   },
   "file_extension": ".py",
   "mimetype": "text/x-python",
   "name": "python",
   "nbconvert_exporter": "python",
   "pygments_lexer": "ipython3",
   "version": "3.6.4"
  },
  "toc": {
   "base_numbering": 1,
   "nav_menu": {},
   "number_sections": true,
   "sideBar": true,
   "skip_h1_title": false,
   "title_cell": "Table of Contents",
   "title_sidebar": "Contents",
   "toc_cell": false,
   "toc_position": {},
   "toc_section_display": true,
   "toc_window_display": false
  }
 },
 "nbformat": 4,
 "nbformat_minor": 2
}
