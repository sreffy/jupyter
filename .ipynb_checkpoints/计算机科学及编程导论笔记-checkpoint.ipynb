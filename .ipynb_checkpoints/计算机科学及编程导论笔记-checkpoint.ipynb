{
 "cells": [
  {
   "cell_type": "markdown",
   "metadata": {},
   "source": [
    "# 计算机科学及编程导论笔记"
   ]
  },
  {
   "cell_type": "markdown",
   "metadata": {},
   "source": [
    "## 第一课"
   ]
  },
  {
   "cell_type": "markdown",
   "metadata": {},
   "source": [
    "知识：陈述性知识（事实）+程序性知识（推导，计算过程，方法）\n",
    "\n",
    "如何建立计算机程序？\n",
    "固定程序计算机（fixed-program computers）：只进行特定运算，如计算器，图灵机\n",
    "\n",
    "存储程序计算机（stored-program compiters）：提供一系列指令达到我们想要描述的过程。一般的结构包括：记忆储存器+ALU+控制单元+指令序列+程序计数器\n",
    "\n",
    "程序就是一道程序指令：原语（primitives）+指令\n",
    "图灵兼容性：一种程序语言可做的事，任意另一种语言也可做到\n",
    "\n",
    "使原语变得具有实际意义的语言：编程语言，如Python"
   ]
  }
 ],
 "metadata": {
  "kernelspec": {
   "display_name": "Python 3",
   "language": "python",
   "name": "python3"
  },
  "language_info": {
   "codemirror_mode": {
    "name": "ipython",
    "version": 3
   },
   "file_extension": ".py",
   "mimetype": "text/x-python",
   "name": "python",
   "nbconvert_exporter": "python",
   "pygments_lexer": "ipython3",
   "version": "3.6.4"
  }
 },
 "nbformat": 4,
 "nbformat_minor": 2
}
