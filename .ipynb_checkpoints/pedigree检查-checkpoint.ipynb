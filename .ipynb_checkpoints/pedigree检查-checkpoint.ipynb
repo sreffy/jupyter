{
 "cells": [
  {
   "cell_type": "code",
   "execution_count": 26,
   "metadata": {},
   "outputs": [],
   "source": [
    "import seaborn as sns\n",
    "\n",
    "import matplotlib.pyplot as plt\n",
    "\n",
    "import numpy as np\n",
    "\n",
    "import pandas as pd"
   ]
  },
  {
   "cell_type": "code",
   "execution_count": 27,
   "metadata": {},
   "outputs": [],
   "source": [
    "plt.rcParams['font.sans-serif']=['SimHei']\n",
    "plt.rcParams['axes.unicode_minus'] = False"
   ]
  },
  {
   "cell_type": "code",
   "execution_count": 50,
   "metadata": {},
   "outputs": [],
   "source": [
    "ped=pd.read_excel('F:\\\\fertility data\\\\SUMBJ1807\\\\pedigree.xlsx')"
   ]
  },
  {
   "cell_type": "code",
   "execution_count": 62,
   "metadata": {},
   "outputs": [],
   "source": [
    "recode=pd.read_excel('F:\\\\fertility data\\\\PED-recode.xlsx')"
   ]
  },
  {
   "cell_type": "code",
   "execution_count": 63,
   "metadata": {},
   "outputs": [
    {
     "data": {
      "text/html": [
       "<div>\n",
       "<style scoped>\n",
       "    .dataframe tbody tr th:only-of-type {\n",
       "        vertical-align: middle;\n",
       "    }\n",
       "\n",
       "    .dataframe tbody tr th {\n",
       "        vertical-align: top;\n",
       "    }\n",
       "\n",
       "    .dataframe thead th {\n",
       "        text-align: right;\n",
       "    }\n",
       "</style>\n",
       "<table border=\"1\" class=\"dataframe\">\n",
       "  <thead>\n",
       "    <tr style=\"text-align: right;\">\n",
       "      <th></th>\n",
       "      <th>DAM</th>\n",
       "      <th>RECODE</th>\n",
       "    </tr>\n",
       "  </thead>\n",
       "  <tbody>\n",
       "    <tr>\n",
       "      <th>0</th>\n",
       "      <td>M0</td>\n",
       "      <td>0</td>\n",
       "    </tr>\n",
       "    <tr>\n",
       "      <th>1</th>\n",
       "      <td>F0</td>\n",
       "      <td>0</td>\n",
       "    </tr>\n",
       "    <tr>\n",
       "      <th>2</th>\n",
       "      <td>M0001HO0261</td>\n",
       "      <td>1</td>\n",
       "    </tr>\n",
       "    <tr>\n",
       "      <th>3</th>\n",
       "      <td>M00-104</td>\n",
       "      <td>2</td>\n",
       "    </tr>\n",
       "    <tr>\n",
       "      <th>4</th>\n",
       "      <td>M0011HO88013</td>\n",
       "      <td>3</td>\n",
       "    </tr>\n",
       "  </tbody>\n",
       "</table>\n",
       "</div>"
      ],
      "text/plain": [
       "            DAM  RECODE\n",
       "0            M0       0\n",
       "1            F0       0\n",
       "2   M0001HO0261       1\n",
       "3       M00-104       2\n",
       "4  M0011HO88013       3"
      ]
     },
     "execution_count": 63,
     "metadata": {},
     "output_type": "execute_result"
    }
   ],
   "source": [
    "recode.head()"
   ]
  },
  {
   "cell_type": "code",
   "execution_count": 64,
   "metadata": {},
   "outputs": [],
   "source": [
    "newped=pd.merge(ped,recode,on='DAM')"
   ]
  },
  {
   "cell_type": "code",
   "execution_count": 65,
   "metadata": {},
   "outputs": [
    {
     "data": {
      "text/plain": [
       "449819"
      ]
     },
     "execution_count": 65,
     "metadata": {},
     "output_type": "execute_result"
    }
   ],
   "source": [
    "len(newped)"
   ]
  },
  {
   "cell_type": "code",
   "execution_count": 66,
   "metadata": {},
   "outputs": [
    {
     "data": {
      "text/html": [
       "<div>\n",
       "<style scoped>\n",
       "    .dataframe tbody tr th:only-of-type {\n",
       "        vertical-align: middle;\n",
       "    }\n",
       "\n",
       "    .dataframe tbody tr th {\n",
       "        vertical-align: top;\n",
       "    }\n",
       "\n",
       "    .dataframe thead th {\n",
       "        text-align: right;\n",
       "    }\n",
       "</style>\n",
       "<table border=\"1\" class=\"dataframe\">\n",
       "  <thead>\n",
       "    <tr style=\"text-align: right;\">\n",
       "      <th></th>\n",
       "      <th>ID</th>\n",
       "      <th>SIRE</th>\n",
       "      <th>DAM</th>\n",
       "      <th>IDLIST</th>\n",
       "      <th>SIRECODE</th>\n",
       "      <th>DAMCODE</th>\n",
       "      <th>BIRTH</th>\n",
       "      <th>SEX</th>\n",
       "      <th>RECODE</th>\n",
       "    </tr>\n",
       "  </thead>\n",
       "  <tbody>\n",
       "    <tr>\n",
       "      <th>0</th>\n",
       "      <td>M0001HO0261</td>\n",
       "      <td>M0</td>\n",
       "      <td>F0</td>\n",
       "      <td>1</td>\n",
       "      <td>0</td>\n",
       "      <td>0</td>\n",
       "      <td>1900/1/0</td>\n",
       "      <td>M</td>\n",
       "      <td>0</td>\n",
       "    </tr>\n",
       "    <tr>\n",
       "      <th>1</th>\n",
       "      <td>M00-104</td>\n",
       "      <td>M0</td>\n",
       "      <td>F0</td>\n",
       "      <td>2</td>\n",
       "      <td>0</td>\n",
       "      <td>0</td>\n",
       "      <td>1900/1/0</td>\n",
       "      <td>M</td>\n",
       "      <td>0</td>\n",
       "    </tr>\n",
       "    <tr>\n",
       "      <th>2</th>\n",
       "      <td>M0011HO88013</td>\n",
       "      <td>M0</td>\n",
       "      <td>F0</td>\n",
       "      <td>3</td>\n",
       "      <td>0</td>\n",
       "      <td>0</td>\n",
       "      <td>1900/1/0</td>\n",
       "      <td>M</td>\n",
       "      <td>0</td>\n",
       "    </tr>\n",
       "    <tr>\n",
       "      <th>3</th>\n",
       "      <td>M001JE00672</td>\n",
       "      <td>M0</td>\n",
       "      <td>F0</td>\n",
       "      <td>4</td>\n",
       "      <td>0</td>\n",
       "      <td>0</td>\n",
       "      <td>1900/1/0</td>\n",
       "      <td>M</td>\n",
       "      <td>0</td>\n",
       "    </tr>\n",
       "    <tr>\n",
       "      <th>4</th>\n",
       "      <td>M0029HO02611</td>\n",
       "      <td>M0</td>\n",
       "      <td>F0</td>\n",
       "      <td>5</td>\n",
       "      <td>0</td>\n",
       "      <td>0</td>\n",
       "      <td>1900/1/0</td>\n",
       "      <td>M</td>\n",
       "      <td>0</td>\n",
       "    </tr>\n",
       "  </tbody>\n",
       "</table>\n",
       "</div>"
      ],
      "text/plain": [
       "             ID SIRE DAM  IDLIST  SIRECODE  DAMCODE     BIRTH SEX  RECODE\n",
       "0   M0001HO0261   M0  F0       1         0        0  1900/1/0   M       0\n",
       "1       M00-104   M0  F0       2         0        0  1900/1/0   M       0\n",
       "2  M0011HO88013   M0  F0       3         0        0  1900/1/0   M       0\n",
       "3   M001JE00672   M0  F0       4         0        0  1900/1/0   M       0\n",
       "4  M0029HO02611   M0  F0       5         0        0  1900/1/0   M       0"
      ]
     },
     "execution_count": 66,
     "metadata": {},
     "output_type": "execute_result"
    }
   ],
   "source": [
    "newped.head()"
   ]
  },
  {
   "cell_type": "code",
   "execution_count": 67,
   "metadata": {},
   "outputs": [],
   "source": [
    "newped1=newped.dropna(how='any')"
   ]
  },
  {
   "cell_type": "code",
   "execution_count": 68,
   "metadata": {},
   "outputs": [
    {
     "data": {
      "text/plain": [
       "449819"
      ]
     },
     "execution_count": 68,
     "metadata": {},
     "output_type": "execute_result"
    }
   ],
   "source": [
    "len(newped1)"
   ]
  },
  {
   "cell_type": "code",
   "execution_count": 29,
   "metadata": {},
   "outputs": [],
   "source": [
    "oldped=pd.read_csv('F:\\\\R\\\\FZ12\\\\PED.csv',encoding='gbk',sep=',')"
   ]
  },
  {
   "cell_type": "code",
   "execution_count": 30,
   "metadata": {},
   "outputs": [
    {
     "data": {
      "text/html": [
       "<div>\n",
       "<style scoped>\n",
       "    .dataframe tbody tr th:only-of-type {\n",
       "        vertical-align: middle;\n",
       "    }\n",
       "\n",
       "    .dataframe tbody tr th {\n",
       "        vertical-align: top;\n",
       "    }\n",
       "\n",
       "    .dataframe thead th {\n",
       "        text-align: right;\n",
       "    }\n",
       "</style>\n",
       "<table border=\"1\" class=\"dataframe\">\n",
       "  <thead>\n",
       "    <tr style=\"text-align: right;\">\n",
       "      <th></th>\n",
       "      <th>FID</th>\n",
       "      <th>CODE</th>\n",
       "      <th>DAM</th>\n",
       "    </tr>\n",
       "  </thead>\n",
       "  <tbody>\n",
       "    <tr>\n",
       "      <th>0</th>\n",
       "      <td>F110010008827</td>\n",
       "      <td>1</td>\n",
       "      <td>276698</td>\n",
       "    </tr>\n",
       "    <tr>\n",
       "      <th>1</th>\n",
       "      <td>F110010008444</td>\n",
       "      <td>2</td>\n",
       "      <td>276698</td>\n",
       "    </tr>\n",
       "    <tr>\n",
       "      <th>2</th>\n",
       "      <td>F110031009059</td>\n",
       "      <td>3</td>\n",
       "      <td>260264</td>\n",
       "    </tr>\n",
       "    <tr>\n",
       "      <th>3</th>\n",
       "      <td>F110031009124</td>\n",
       "      <td>4</td>\n",
       "      <td>258267</td>\n",
       "    </tr>\n",
       "    <tr>\n",
       "      <th>4</th>\n",
       "      <td>F110031009149</td>\n",
       "      <td>5</td>\n",
       "      <td>257469</td>\n",
       "    </tr>\n",
       "  </tbody>\n",
       "</table>\n",
       "</div>"
      ],
      "text/plain": [
       "             FID  CODE     DAM\n",
       "0  F110010008827     1  276698\n",
       "1  F110010008444     2  276698\n",
       "2  F110031009059     3  260264\n",
       "3  F110031009124     4  258267\n",
       "4  F110031009149     5  257469"
      ]
     },
     "execution_count": 30,
     "metadata": {},
     "output_type": "execute_result"
    }
   ],
   "source": [
    "oldped.head()"
   ]
  },
  {
   "cell_type": "code",
   "execution_count": 31,
   "metadata": {},
   "outputs": [
    {
     "name": "stderr",
     "output_type": "stream",
     "text": [
      "E:\\Anaconda\\lib\\site-packages\\pandas\\core\\frame.py:3027: SettingWithCopyWarning: \n",
      "A value is trying to be set on a copy of a slice from a DataFrame\n",
      "\n",
      "See the caveats in the documentation: http://pandas.pydata.org/pandas-docs/stable/indexing.html#indexing-view-versus-copy\n",
      "  return super(DataFrame, self).rename(**kwargs)\n"
     ]
    }
   ],
   "source": [
    "ped1=ped[['ID','IDLIST','DAMCODE']] #SB,CE需要用到母畜效应，保留damcode\n",
    "ped1.rename(columns={'ID':'FID'},inplace=True)"
   ]
  },
  {
   "cell_type": "code",
   "execution_count": 32,
   "metadata": {},
   "outputs": [],
   "source": [
    "ped2=ped1.copy()"
   ]
  },
  {
   "cell_type": "code",
   "execution_count": 69,
   "metadata": {},
   "outputs": [
    {
     "data": {
      "text/plain": [
       "0         145573\n",
       "418715        19\n",
       "441542        18\n",
       "25660         18\n",
       "25665         17\n",
       "256289        17\n",
       "416673        16\n",
       "382867        16\n",
       "421898        16\n",
       "25050         16\n",
       "382666        16\n",
       "25739         16\n",
       "382958        15\n",
       "441616        15\n",
       "382855        14\n",
       "441630        14\n",
       "382989        14\n",
       "382595        13\n",
       "269584        13\n",
       "351553        13\n",
       "25715         13\n",
       "25023         13\n",
       "204733        13\n",
       "431749        12\n",
       "421903        12\n",
       "25696         12\n",
       "449609        12\n",
       "256321        12\n",
       "25653         12\n",
       "25654         12\n",
       "           ...  \n",
       "45962          1\n",
       "43913          1\n",
       "62338          1\n",
       "398174         1\n",
       "394076         1\n",
       "402264         1\n",
       "416599         1\n",
       "422738         1\n",
       "113579         1\n",
       "105391         1\n",
       "226290         1\n",
       "93105          1\n",
       "222192         1\n",
       "234478         1\n",
       "250854         1\n",
       "248805         1\n",
       "259042         1\n",
       "134109         1\n",
       "144346         1\n",
       "154583         1\n",
       "162771         1\n",
       "156624         1\n",
       "168910         1\n",
       "175049         1\n",
       "173000         1\n",
       "195523         1\n",
       "191425         1\n",
       "66492          1\n",
       "74680          1\n",
       "441431         1\n",
       "Name: RECODE, Length: 210469, dtype: int64"
      ]
     },
     "execution_count": 69,
     "metadata": {},
     "output_type": "execute_result"
    }
   ],
   "source": [
    "newped['RECODE'].value_counts()"
   ]
  },
  {
   "cell_type": "code",
   "execution_count": 70,
   "metadata": {},
   "outputs": [],
   "source": [
    "newped.to_csv('F:\\\\fertility data\\\\newped.csv',index=False,encoding='utf_8_sig')"
   ]
  },
  {
   "cell_type": "code",
   "execution_count": 14,
   "metadata": {},
   "outputs": [
    {
     "data": {
      "text/plain": [
       "0         101567\n",
       "31490        462\n",
       "46537        109\n",
       "5169          23\n",
       "46516         21\n",
       "342210        20\n",
       "1721          19\n",
       "1215          18\n",
       "24466         17\n",
       "47046         16\n",
       "2092          16\n",
       "303294        16\n",
       "271957        16\n",
       "47045         16\n",
       "47050         15\n",
       "4391          15\n",
       "4820          15\n",
       "5434          14\n",
       "4380          14\n",
       "47064         14\n",
       "1230          14\n",
       "4310          13\n",
       "24434         12\n",
       "274840        12\n",
       "1153          12\n",
       "35822         12\n",
       "4829          12\n",
       "5433          12\n",
       "288335        11\n",
       "24472         11\n",
       "           ...  \n",
       "54656          1\n",
       "339263         1\n",
       "337214         1\n",
       "273695         1\n",
       "267544         1\n",
       "13724          1\n",
       "290071         1\n",
       "288022         1\n",
       "281875         1\n",
       "300296         1\n",
       "312578         1\n",
       "212221         1\n",
       "52611          1\n",
       "62852          1\n",
       "64901          1\n",
       "58758          1\n",
       "60807          1\n",
       "38280          1\n",
       "40329          1\n",
       "36235          1\n",
       "46476          1\n",
       "42382          1\n",
       "44431          1\n",
       "23953          1\n",
       "17810          1\n",
       "19859          1\n",
       "30100          1\n",
       "26006          1\n",
       "3483           1\n",
       "87893          1\n",
       "Name: DAM, Length: 177976, dtype: int64"
      ]
     },
     "execution_count": 14,
     "metadata": {},
     "output_type": "execute_result"
    }
   ],
   "source": [
    "oldped['DAM'].value_counts()"
   ]
  }
 ],
 "metadata": {
  "kernelspec": {
   "display_name": "Python 3",
   "language": "python",
   "name": "python3"
  },
  "language_info": {
   "codemirror_mode": {
    "name": "ipython",
    "version": 3
   },
   "file_extension": ".py",
   "mimetype": "text/x-python",
   "name": "python",
   "nbconvert_exporter": "python",
   "pygments_lexer": "ipython3",
   "version": "3.6.4"
  },
  "toc": {
   "base_numbering": 1,
   "nav_menu": {},
   "number_sections": true,
   "sideBar": true,
   "skip_h1_title": false,
   "title_cell": "Table of Contents",
   "title_sidebar": "Contents",
   "toc_cell": false,
   "toc_position": {},
   "toc_section_display": true,
   "toc_window_display": false
  }
 },
 "nbformat": 4,
 "nbformat_minor": 2
}
