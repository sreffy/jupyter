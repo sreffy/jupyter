{
 "cells": [
  {
   "cell_type": "code",
   "execution_count": 1,
   "metadata": {},
   "outputs": [],
   "source": [
    "#coding:utf-8\n",
    "import pandas as pd\n",
    "import numpy as np\n",
    "import seaborn as sns\n",
    "import matplotlib.pyplot as plt\n",
    "import os\n",
    "\n",
    "plt.rcParams['font.sans-serif']=['SimHei']\n",
    "plt.rcParams['axes.unicode_minus'] = False"
   ]
  },
  {
   "cell_type": "code",
   "execution_count": 2,
   "metadata": {},
   "outputs": [],
   "source": [
    "sh_18=pd.read_csv('F:\\\\data-SH\\\\fertility data18.7\\\\sh_18_final.csv',low_memory=False,encoding='gbk')\n",
    "sh_17=pd.read_csv('F:\\\\data-SH\\\\fertility data17.6\\\\sh_17_final.csv',low_memory=False,encoding='gbk')"
   ]
  },
  {
   "cell_type": "code",
   "execution_count": 3,
   "metadata": {},
   "outputs": [],
   "source": [
    "sh=pd.concat([sh_17,sh_18])"
   ]
  },
  {
   "cell_type": "code",
   "execution_count": 4,
   "metadata": {},
   "outputs": [
    {
     "name": "stdout",
     "output_type": "stream",
     "text": [
      "<class 'pandas.core.frame.DataFrame'>\n",
      "Int64Index: 523576 entries, 0 to 195882\n",
      "Data columns (total 11 columns):\n",
      "FID     502642 non-null object\n",
      "ID      523576 non-null object\n",
      "胎次      365258 non-null float64\n",
      "最近分娩    370122 non-null object\n",
      "配种日期    419995 non-null object\n",
      "配次      257661 non-null object\n",
      "配种员     95277 non-null object\n",
      "犊牛性别    222405 non-null object\n",
      "死胎      220671 non-null float64\n",
      "产犊评分    188717 non-null float64\n",
      "HERD    502642 non-null object\n",
      "dtypes: float64(3), object(8)\n",
      "memory usage: 47.9+ MB\n"
     ]
    }
   ],
   "source": [
    "sh.info()"
   ]
  },
  {
   "cell_type": "markdown",
   "metadata": {},
   "source": [
    "# 提取完整系谱"
   ]
  },
  {
   "cell_type": "code",
   "execution_count": 5,
   "metadata": {},
   "outputs": [],
   "source": [
    "pedigree=pd.read_csv('F:\\Python\\\\PED.csv',low_memory=False)"
   ]
  },
  {
   "cell_type": "code",
   "execution_count": 6,
   "metadata": {},
   "outputs": [],
   "source": [
    "HERD=sh['HERD'].dropna(how='any').drop_duplicates(keep='first').values.tolist()\n",
    "\n",
    "pedigree['HERD']=pedigree['牛号'].apply(lambda s : s[:6])\n",
    "\n",
    "HERD=[str(s) for s in HERD]"
   ]
  },
  {
   "cell_type": "code",
   "execution_count": 7,
   "metadata": {},
   "outputs": [
    {
     "data": {
      "text/plain": [
       "35"
      ]
     },
     "execution_count": 7,
     "metadata": {},
     "output_type": "execute_result"
    }
   ],
   "source": [
    "len(HERD)"
   ]
  },
  {
   "cell_type": "code",
   "execution_count": 9,
   "metadata": {},
   "outputs": [],
   "source": [
    "herdcode=pd.DataFrame(HERD,columns=['herd'])"
   ]
  },
  {
   "cell_type": "code",
   "execution_count": 11,
   "metadata": {},
   "outputs": [],
   "source": [
    "herdcode.to_csv('F:\\\\data-SH\\\\HERD-sh.csv',index=False,encoding='utf_8_sig')"
   ]
  },
  {
   "cell_type": "code",
   "execution_count": 981,
   "metadata": {},
   "outputs": [
    {
     "data": {
      "text/plain": [
       "FID     93518\n",
       "出生日期    89338\n",
       "CODE    93518\n",
       "DAM     68577\n",
       "SIRE    84142\n",
       "dtype: int64"
      ]
     },
     "execution_count": 981,
     "metadata": {},
     "output_type": "execute_result"
    }
   ],
   "source": [
    "pedigree['T']=pedigree['HERD'].apply(lambda s : s in HERD) \n",
    "pedigree_sh=pedigree[pedigree['T']==True][['牛号','出生日期','CODE','DAM','SIRE']]\n",
    "\n",
    "pedigree_sh.rename(columns={'牛号':'FID'},inplace=True)\n",
    "pedigree_sh.count()"
   ]
  },
  {
   "cell_type": "code",
   "execution_count": 982,
   "metadata": {},
   "outputs": [
    {
     "name": "stdout",
     "output_type": "stream",
     "text": [
      "<class 'pandas.core.frame.DataFrame'>\n",
      "Int64Index: 93518 entries, 327204 to 2324474\n",
      "Data columns (total 5 columns):\n",
      "FID     93518 non-null object\n",
      "出生日期    89338 non-null object\n",
      "CODE    93518 non-null int64\n",
      "DAM     68577 non-null float64\n",
      "SIRE    84142 non-null float64\n",
      "dtypes: float64(2), int64(1), object(2)\n",
      "memory usage: 4.3+ MB\n"
     ]
    }
   ],
   "source": [
    "pedigree_sh.info()"
   ]
  },
  {
   "cell_type": "code",
   "execution_count": 983,
   "metadata": {},
   "outputs": [],
   "source": [
    "pedigree_sh['FID']=pedigree_sh['FID'].apply(lambda s :s.upper())"
   ]
  },
  {
   "cell_type": "code",
   "execution_count": 45,
   "metadata": {},
   "outputs": [],
   "source": [
    "pedigree_sh.to_csv('F:\\\\data-SH\\\\ped-sh.csv',index=False,encoding='utf_8_sig')"
   ]
  },
  {
   "cell_type": "markdown",
   "metadata": {},
   "source": [
    "# 系谱与数据合并"
   ]
  },
  {
   "cell_type": "code",
   "execution_count": 984,
   "metadata": {},
   "outputs": [],
   "source": [
    "sh['ID']=sh['ID'].apply(lambda s :s if type(s)==str else str(int(s)))\n",
    "sh['ID']=sh['ID'].apply(lambda s : s.strip())"
   ]
  },
  {
   "cell_type": "code",
   "execution_count": 985,
   "metadata": {},
   "outputs": [],
   "source": [
    "sh['ID']=sh['ID'].apply(lambda s :s.zfill(6))"
   ]
  },
  {
   "cell_type": "code",
   "execution_count": 986,
   "metadata": {},
   "outputs": [],
   "source": [
    "sh['FID']=sh['HERD']+sh['ID']\n"
   ]
  },
  {
   "cell_type": "code",
   "execution_count": 987,
   "metadata": {},
   "outputs": [],
   "source": [
    "sh.dropna(axis=0,subset=['FID'],inplace=True)\n",
    "sh['FID']=sh['FID'].apply(lambda s :s.upper())"
   ]
  },
  {
   "cell_type": "code",
   "execution_count": 988,
   "metadata": {},
   "outputs": [
    {
     "data": {
      "text/plain": [
       "<matplotlib.axes._subplots.AxesSubplot at 0x23581a19748>"
      ]
     },
     "execution_count": 988,
     "metadata": {},
     "output_type": "execute_result"
    },
    {
     "data": {
      "image/png": "[encoded data removed]",
      "text/plain": [
       "<matplotlib.figure.Figure at 0x23581a56d68>"
      ]
     },
     "metadata": {},
     "output_type": "display_data"
    }
   ],
   "source": [
    "sh['Len']=sh['FID'].apply(lambda s :len(s))\n",
    "sns.countplot(sh['Len'])"
   ]
  },
  {
   "cell_type": "code",
   "execution_count": 989,
   "metadata": {},
   "outputs": [],
   "source": [
    "sh_f=pd.merge(sh,pedigree_sh,on='FID',how='outer')"
   ]
  },
  {
   "cell_type": "code",
   "execution_count": 990,
   "metadata": {},
   "outputs": [
    {
     "name": "stdout",
     "output_type": "stream",
     "text": [
      "<class 'pandas.core.frame.DataFrame'>\n",
      "Int64Index: 543091 entries, 0 to 543090\n",
      "Data columns (total 16 columns):\n",
      "FID     543091 non-null object\n",
      "ID      502642 non-null object\n",
      "胎次      352950 non-null float64\n",
      "最近分娩    354096 non-null object\n",
      "配种日期    401583 non-null object\n",
      "配次      239260 non-null object\n",
      "配种员     95277 non-null object\n",
      "犊牛性别    210110 non-null object\n",
      "死胎      208363 non-null float64\n",
      "产犊评分    176408 non-null float64\n",
      "HERD    502642 non-null object\n",
      "Len     502642 non-null float64\n",
      "出生日期    317314 non-null object\n",
      "CODE    325562 non-null float64\n",
      "DAM     248696 non-null float64\n",
      "SIRE    294918 non-null float64\n",
      "dtypes: float64(7), object(9)\n",
      "memory usage: 70.4+ MB\n"
     ]
    }
   ],
   "source": [
    "sh_f.info()"
   ]
  },
  {
   "cell_type": "markdown",
   "metadata": {},
   "source": [
    "__最终提取325,562条数据__"
   ]
  },
  {
   "cell_type": "markdown",
   "metadata": {},
   "source": [
    "# 匹配率"
   ]
  },
  {
   "cell_type": "code",
   "execution_count": 991,
   "metadata": {},
   "outputs": [],
   "source": [
    "missing=sh_f.groupby(sh_f['HERD'],as_index=False).count()[['HERD','FID','CODE']]\n",
    "missing['combine_rate']=missing['CODE']/missing['FID']"
   ]
  },
  {
   "cell_type": "code",
   "execution_count": 992,
   "metadata": {},
   "outputs": [],
   "source": [
    "Order=missing.sort_values(by=['FID','combine_rate'],ascending=False)['HERD'].values.tolist()"
   ]
  },
  {
   "cell_type": "code",
   "execution_count": 993,
   "metadata": {},
   "outputs": [],
   "source": [
    "font2 = {'family' : 'Times New Roman',\n",
    "'weight' : 'normal',\n",
    "'size'   : 20,\n",
    "}"
   ]
  },
  {
   "cell_type": "code",
   "execution_count": 994,
   "metadata": {},
   "outputs": [
    {
     "data": {
      "text/plain": [
       "Text(0,0.5,'C-rate')"
      ]
     },
     "execution_count": 994,
     "metadata": {},
     "output_type": "execute_result"
    },
    {
     "data": {
      "image/png": "[encoded data removed]",
      "text/plain": [
       "<matplotlib.figure.Figure at 0x235b51e5da0>"
      ]
     },
     "metadata": {},
     "output_type": "display_data"
    }
   ],
   "source": [
    "plt.figure(figsize=(25,10))\n",
    "ax=sns.barplot(x='HERD',y='combine_rate',data=missing,order=Order)\n",
    "ax1=ax.set_xticklabels(ax.get_xticklabels(), rotation=-90)\n",
    "ax.tick_params(labelsize=20)\n",
    "plt.xlabel('HERD',font2)\n",
    "plt.ylabel('C-rate',font2)"
   ]
  },
  {
   "cell_type": "code",
   "execution_count": 995,
   "metadata": {},
   "outputs": [],
   "source": [
    "pedigree_sh_t=pedigree[pedigree['T']==True][['牛号','出生日期','CODE','DAM','SIRE','HERD']]\n",
    "\n",
    "ped_herd=pedigree_sh_t[['HERD']].drop_duplicates(keep='first').values.tolist()\n",
    "\n",
    "sh_herd=sh_f[['HERD']].drop_duplicates(keep='first').values.tolist()\n",
    "\n",
    "from tkinter import _flatten\n",
    "sh_herd=list(_flatten(sh_herd))\n",
    "\n",
    "ped_herd=list(_flatten(ped_herd))\n",
    "\n",
    "differ=set(sh_herd)-set(ped_herd)"
   ]
  },
  {
   "cell_type": "code",
   "execution_count": 996,
   "metadata": {},
   "outputs": [
    {
     "data": {
      "text/plain": [
       "{'13ts05', '230423', nan}"
      ]
     },
     "execution_count": 996,
     "metadata": {},
     "output_type": "execute_result"
    }
   ],
   "source": [
    "differ"
   ]
  },
  {
   "cell_type": "code",
   "execution_count": 192,
   "metadata": {},
   "outputs": [],
   "source": [
    "shf=sh_f.dropna(axis=0,subset=['CODE'])"
   ]
  },
  {
   "cell_type": "code",
   "execution_count": 193,
   "metadata": {},
   "outputs": [],
   "source": [
    "shf.to_csv('F:\\\\data-SH\\\\data-sh.csv',index=False,encoding='utf_8_sig')"
   ]
  },
  {
   "cell_type": "markdown",
   "metadata": {},
   "source": [
    "# 预处理"
   ]
  },
  {
   "cell_type": "markdown",
   "metadata": {},
   "source": [
    "## 时间格式"
   ]
  },
  {
   "cell_type": "code",
   "execution_count": 1114,
   "metadata": {},
   "outputs": [],
   "source": [
    "shdata=pd.read_csv('F:\\\\data-SH\\\\sh1718.csv',encoding='gbk',low_memory=False)"
   ]
  },
  {
   "cell_type": "code",
   "execution_count": 1115,
   "metadata": {},
   "outputs": [],
   "source": [
    "shdata['出生日期']=pd.to_datetime(shdata['出生日期'],format=\"%Y-%m-%d\")  #转换为日期格式"
   ]
  },
  {
   "cell_type": "code",
   "execution_count": 1116,
   "metadata": {},
   "outputs": [],
   "source": [
    "shdata['配种日期']=shdata['配种日期'].apply(lambda s :s if pd.isnull(s) else s.strip())\n",
    "shdata['配种日期']=pd.to_datetime(shdata['配种日期'],format=\"%Y-%m-%d\")"
   ]
  },
  {
   "cell_type": "code",
   "execution_count": 1117,
   "metadata": {},
   "outputs": [],
   "source": [
    "shdata['最近分娩']=shdata['最近分娩'].apply(lambda s :s if pd.isnull(s) else s.strip())\n",
    "shdata['最近分娩']=pd.to_datetime(shdata['最近分娩'],format=\"%Y-%m-%d\")"
   ]
  },
  {
   "cell_type": "code",
   "execution_count": 1118,
   "metadata": {},
   "outputs": [
    {
     "name": "stdout",
     "output_type": "stream",
     "text": [
      "<class 'pandas.core.frame.DataFrame'>\n",
      "RangeIndex: 325562 entries, 0 to 325561\n",
      "Data columns (total 15 columns):\n",
      "FID     325562 non-null object\n",
      "ID      285113 non-null object\n",
      "胎次      206876 non-null float64\n",
      "最近分娩    225246 non-null datetime64[ns]\n",
      "配种日期    234304 non-null datetime64[ns]\n",
      "配次      148919 non-null object\n",
      "配种员     52477 non-null object\n",
      "犊牛性别    141992 non-null float64\n",
      "死胎      141039 non-null float64\n",
      "产犊评分    119048 non-null float64\n",
      "HERD    285113 non-null object\n",
      "出生日期    317314 non-null datetime64[ns]\n",
      "CODE    325562 non-null int64\n",
      "DAM     248696 non-null float64\n",
      "SIRE    294918 non-null float64\n",
      "dtypes: datetime64[ns](3), float64(6), int64(1), object(5)\n",
      "memory usage: 37.3+ MB\n"
     ]
    }
   ],
   "source": [
    "shdata.info()"
   ]
  },
  {
   "cell_type": "markdown",
   "metadata": {},
   "source": [
    "## 胎次处理"
   ]
  },
  {
   "cell_type": "markdown",
   "metadata": {},
   "source": [
    "__定义多胎：根据每头牛的分娩日期排序，无分娩日期定位0胎，第一次分娩为1胎，第二次分娩为2胎。。。(注意各胎次间隔必须超过280d)__\n",
    "\n",
    "__定义0胎：若无最近分娩数据，则先将该胎次定义为0胎，再计算配种日期与出生日期的差值，若差值超过1100天，则将该胎次记为未知：666。__"
   ]
  },
  {
   "cell_type": "code",
   "execution_count": 1119,
   "metadata": {},
   "outputs": [],
   "source": [
    "shdata_p=shdata[:]"
   ]
  },
  {
   "cell_type": "code",
   "execution_count": 1120,
   "metadata": {},
   "outputs": [],
   "source": [
    "shdata_p['胎次']=shdata_p['胎次'].apply(lambda s : s if pd.isnull(s) else str(int(s)))"
   ]
  },
  {
   "cell_type": "code",
   "execution_count": 1121,
   "metadata": {},
   "outputs": [],
   "source": [
    "parity=shdata_p[['FID','最近分娩']].drop_duplicates(keep='first').sort_values(by=['FID','最近分娩'])"
   ]
  },
  {
   "cell_type": "code",
   "execution_count": 1122,
   "metadata": {},
   "outputs": [
    {
     "name": "stdout",
     "output_type": "stream",
     "text": [
      "<class 'pandas.core.frame.DataFrame'>\n",
      "Int64Index: 82738 entries, 285113 to 241799\n",
      "Data columns (total 2 columns):\n",
      "FID     82738 non-null object\n",
      "最近分娩    44360 non-null datetime64[ns]\n",
      "dtypes: datetime64[ns](1), object(1)\n",
      "memory usage: 1.9+ MB\n"
     ]
    }
   ],
   "source": [
    "parity.info()"
   ]
  },
  {
   "cell_type": "code",
   "execution_count": 1123,
   "metadata": {},
   "outputs": [],
   "source": [
    "check=parity.groupby(parity['FID'],as_index=False).count().sort_values(by='最近分娩',ascending=False)"
   ]
  },
  {
   "cell_type": "code",
   "execution_count": 1124,
   "metadata": {},
   "outputs": [],
   "source": [
    "checkID=check[check['最近分娩']>10]"
   ]
  },
  {
   "cell_type": "code",
   "execution_count": 1125,
   "metadata": {},
   "outputs": [
    {
     "data": {
      "text/plain": [
       "FID     17\n",
       "最近分娩    17\n",
       "dtype: int64"
      ]
     },
     "execution_count": 1125,
     "metadata": {},
     "output_type": "execute_result"
    }
   ],
   "source": [
    "checkID.count()"
   ]
  },
  {
   "cell_type": "markdown",
   "metadata": {},
   "source": [
    "__有17个FID的分娩次数超过20次，为问题数据，删除这些ID的数据__"
   ]
  },
  {
   "cell_type": "code",
   "execution_count": 1126,
   "metadata": {},
   "outputs": [],
   "source": [
    "ck=checkID['FID'].values.tolist()"
   ]
  },
  {
   "cell_type": "code",
   "execution_count": 1127,
   "metadata": {},
   "outputs": [
    {
     "name": "stderr",
     "output_type": "stream",
     "text": [
      "E:\\Anaconda\\lib\\site-packages\\ipykernel_launcher.py:5: SettingWithCopyWarning: \n",
      "A value is trying to be set on a copy of a slice from a DataFrame.\n",
      "Try using .loc[row_indexer,col_indexer] = value instead\n",
      "\n",
      "See the caveats in the documentation: http://pandas.pydata.org/pandas-docs/stable/indexing.html#indexing-view-versus-copy\n",
      "  \"\"\"\n"
     ]
    }
   ],
   "source": [
    "shdata_p['T']=shdata_p['FID'].apply(lambda s : s in ck)\n",
    "\n",
    "shdata_p_l=shdata_p[shdata_p['T']==False]\n",
    "\n",
    "shdata_p_l['Parity']=shdata_p_l['最近分娩'].groupby(shdata_p_l['FID']).rank(ascending=1,method='dense')"
   ]
  },
  {
   "cell_type": "code",
   "execution_count": 1128,
   "metadata": {},
   "outputs": [
    {
     "data": {
      "text/plain": [
       "True     180188\n",
       "False    145374\n",
       "Name: T, dtype: int64"
      ]
     },
     "execution_count": 1128,
     "metadata": {},
     "output_type": "execute_result"
    }
   ],
   "source": [
    "shdata_p['T'].value_counts()"
   ]
  },
  {
   "cell_type": "code",
   "execution_count": 1129,
   "metadata": {},
   "outputs": [
    {
     "name": "stdout",
     "output_type": "stream",
     "text": [
      "<class 'pandas.core.frame.DataFrame'>\n",
      "Int64Index: 145374 entries, 0 to 325547\n",
      "Data columns (total 17 columns):\n",
      "FID       145374 non-null object\n",
      "ID        109784 non-null object\n",
      "胎次        69251 non-null object\n",
      "最近分娩      85226 non-null datetime64[ns]\n",
      "配种日期      87312 non-null datetime64[ns]\n",
      "配次        38916 non-null object\n",
      "配种员       9780 non-null object\n",
      "犊牛性别      40809 non-null float64\n",
      "死胎        40201 non-null float64\n",
      "产犊评分      21141 non-null float64\n",
      "HERD      109784 non-null object\n",
      "出生日期      139828 non-null datetime64[ns]\n",
      "CODE      145374 non-null int64\n",
      "DAM       121986 non-null float64\n",
      "SIRE      132860 non-null float64\n",
      "T         145374 non-null bool\n",
      "Parity    85226 non-null float64\n",
      "dtypes: bool(1), datetime64[ns](3), float64(6), int64(1), object(6)\n",
      "memory usage: 24.0+ MB\n"
     ]
    }
   ],
   "source": [
    "shdata_p_l.info()"
   ]
  },
  {
   "cell_type": "code",
   "execution_count": 1130,
   "metadata": {},
   "outputs": [
    {
     "name": "stderr",
     "output_type": "stream",
     "text": [
      "E:\\Anaconda\\lib\\site-packages\\ipykernel_launcher.py:1: SettingWithCopyWarning: \n",
      "A value is trying to be set on a copy of a slice from a DataFrame.\n",
      "Try using .loc[row_indexer,col_indexer] = value instead\n",
      "\n",
      "See the caveats in the documentation: http://pandas.pydata.org/pandas-docs/stable/indexing.html#indexing-view-versus-copy\n",
      "  \"\"\"Entry point for launching an IPython kernel.\n"
     ]
    }
   ],
   "source": [
    "shdata_p_l['Parity']=shdata_p_l['Parity'].apply(lambda s : '0' if pd.isnull(s) else s) #无最近分娩数据的定为0胎"
   ]
  },
  {
   "cell_type": "code",
   "execution_count": 1131,
   "metadata": {},
   "outputs": [
    {
     "name": "stderr",
     "output_type": "stream",
     "text": [
      "E:\\Anaconda\\lib\\site-packages\\ipykernel_launcher.py:1: SettingWithCopyWarning: \n",
      "A value is trying to be set on a copy of a slice from a DataFrame.\n",
      "Try using .loc[row_indexer,col_indexer] = value instead\n",
      "\n",
      "See the caveats in the documentation: http://pandas.pydata.org/pandas-docs/stable/indexing.html#indexing-view-versus-copy\n",
      "  \"\"\"Entry point for launching an IPython kernel.\n",
      "E:\\Anaconda\\lib\\site-packages\\ipykernel_launcher.py:2: SettingWithCopyWarning: \n",
      "A value is trying to be set on a copy of a slice from a DataFrame.\n",
      "Try using .loc[row_indexer,col_indexer] = value instead\n",
      "\n",
      "See the caveats in the documentation: http://pandas.pydata.org/pandas-docs/stable/indexing.html#indexing-view-versus-copy\n",
      "  \n",
      "E:\\Anaconda\\lib\\site-packages\\ipykernel_launcher.py:4: SettingWithCopyWarning: \n",
      "A value is trying to be set on a copy of a slice from a DataFrame.\n",
      "Try using .loc[row_indexer,col_indexer] = value instead\n",
      "\n",
      "See the caveats in the documentation: http://pandas.pydata.org/pandas-docs/stable/indexing.html#indexing-view-versus-copy\n",
      "  after removing the cwd from sys.path.\n"
     ]
    }
   ],
   "source": [
    "shdata_p_l['valid']=shdata_p_l['配种日期']-shdata_p_l['出生日期']\n",
    "shdata_p_l['valid']=list(map(lambda s: s.days,shdata_p_l['valid']))\n",
    "\n",
    "shdata_p_l['T']=shdata_p_l['valid'].apply(lambda s : True if s>1100 else False)\n",
    "\n",
    "shdata_p1=shdata_p_l[shdata_p_l['T']==True]\n",
    "shdata_p2=shdata_p_l[shdata_p_l['T']==False]"
   ]
  },
  {
   "cell_type": "code",
   "execution_count": 1132,
   "metadata": {},
   "outputs": [
    {
     "name": "stderr",
     "output_type": "stream",
     "text": [
      "E:\\Anaconda\\lib\\site-packages\\ipykernel_launcher.py:1: SettingWithCopyWarning: \n",
      "A value is trying to be set on a copy of a slice from a DataFrame.\n",
      "Try using .loc[row_indexer,col_indexer] = value instead\n",
      "\n",
      "See the caveats in the documentation: http://pandas.pydata.org/pandas-docs/stable/indexing.html#indexing-view-versus-copy\n",
      "  \"\"\"Entry point for launching an IPython kernel.\n"
     ]
    }
   ],
   "source": [
    "shdata_p1['Parity']=shdata_p1['Parity'].apply(lambda s : '666' if s=='0' else s)"
   ]
  },
  {
   "cell_type": "code",
   "execution_count": 1133,
   "metadata": {},
   "outputs": [],
   "source": [
    "shdata_pp=pd.concat([shdata_p1,shdata_p2])"
   ]
  },
  {
   "cell_type": "code",
   "execution_count": 1134,
   "metadata": {
    "scrolled": false
   },
   "outputs": [
    {
     "name": "stdout",
     "output_type": "stream",
     "text": [
      "1.0     64736\n",
      "2.0     63121\n",
      "3.0     32194\n",
      "0.0     17095\n",
      "4.0     16561\n",
      "5.0      7013\n",
      "6.0      3759\n",
      "7.0      1595\n",
      "8.0       646\n",
      "9.0       106\n",
      "10.0       35\n",
      "11.0       12\n",
      "12.0        2\n",
      "13.0        1\n",
      "Name: 胎次, dtype: int64\n",
      "________________________________________________________________________________________________________________________\n",
      "1     64736\n",
      "2     63121\n",
      "3     32194\n",
      "0     17095\n",
      "4     16561\n",
      "5      7013\n",
      "6      3759\n",
      "7      1595\n",
      "8       646\n",
      "9       106\n",
      "10       35\n",
      "11       12\n",
      "12        2\n",
      "13        1\n",
      "Name: 胎次, dtype: int64\n",
      "________________________________________________________________________________________________________________________\n",
      "0      48219\n",
      "1.0    42431\n",
      "2.0    27135\n",
      "666    11929\n",
      "3.0    10606\n",
      "4.0     3876\n",
      "5.0      862\n",
      "6.0      234\n",
      "7.0       61\n",
      "8.0       17\n",
      "9.0        4\n",
      "Name: Parity, dtype: int64\n"
     ]
    }
   ],
   "source": [
    "print(shdata['胎次'].value_counts())\n",
    "print('____'*30)\n",
    "print(shdata_p['胎次'].value_counts())\n",
    "print('____'*30)\n",
    "print(shdata_pp['Parity'].value_counts())"
   ]
  },
  {
   "cell_type": "markdown",
   "metadata": {},
   "source": [
    "__可以看出有将近1w条未知胎次数据,将4胎以上数据合并__"
   ]
  },
  {
   "cell_type": "code",
   "execution_count": 1135,
   "metadata": {},
   "outputs": [],
   "source": [
    "shdata_pp['Parity']=shdata_pp['Parity'].apply(lambda s:s if pd.isnull(s) else int(s))\n",
    "shdata_pp['Parity']=shdata_pp['Parity'].apply(lambda s:3 if 3<s<666 else s)"
   ]
  },
  {
   "cell_type": "code",
   "execution_count": 1136,
   "metadata": {},
   "outputs": [
    {
     "data": {
      "text/plain": [
       "0      48219\n",
       "1      42431\n",
       "2      27135\n",
       "3      15660\n",
       "666    11929\n",
       "Name: Parity, dtype: int64"
      ]
     },
     "execution_count": 1136,
     "metadata": {},
     "output_type": "execute_result"
    }
   ],
   "source": [
    "shdata_pp['Parity'].value_counts()"
   ]
  },
  {
   "cell_type": "code",
   "execution_count": 1137,
   "metadata": {},
   "outputs": [],
   "source": [
    "shdata_f=shdata_pp[['FID','ID','Parity','最近分娩','配种日期','配次','配种员','犊牛性别','死胎','产犊评分','HERD','出生日期','CODE','DAM','SIRE']]"
   ]
  },
  {
   "cell_type": "code",
   "execution_count": 1138,
   "metadata": {},
   "outputs": [
    {
     "name": "stderr",
     "output_type": "stream",
     "text": [
      "E:\\Anaconda\\lib\\site-packages\\pandas\\core\\frame.py:3781: SettingWithCopyWarning: \n",
      "A value is trying to be set on a copy of a slice from a DataFrame\n",
      "\n",
      "See the caveats in the documentation: http://pandas.pydata.org/pandas-docs/stable/indexing.html#indexing-view-versus-copy\n",
      "  return super(DataFrame, self).rename(**kwargs)\n"
     ]
    }
   ],
   "source": [
    "shdata_f.rename(columns={'Parity':'胎次'},inplace=True)"
   ]
  },
  {
   "cell_type": "code",
   "execution_count": 1139,
   "metadata": {},
   "outputs": [
    {
     "name": "stderr",
     "output_type": "stream",
     "text": [
      "E:\\Anaconda\\lib\\site-packages\\ipykernel_launcher.py:1: SettingWithCopyWarning: \n",
      "A value is trying to be set on a copy of a slice from a DataFrame.\n",
      "Try using .loc[row_indexer,col_indexer] = value instead\n",
      "\n",
      "See the caveats in the documentation: http://pandas.pydata.org/pandas-docs/stable/indexing.html#indexing-view-versus-copy\n",
      "  \"\"\"Entry point for launching an IPython kernel.\n"
     ]
    }
   ],
   "source": [
    "shdata_f['胎次']=shdata_f['胎次'].apply(lambda s : str(int(s)))"
   ]
  },
  {
   "cell_type": "code",
   "execution_count": 1140,
   "metadata": {},
   "outputs": [
    {
     "name": "stdout",
     "output_type": "stream",
     "text": [
      "<class 'pandas.core.frame.DataFrame'>\n",
      "Int64Index: 145374 entries, 0 to 325547\n",
      "Data columns (total 15 columns):\n",
      "FID     145374 non-null object\n",
      "ID      109784 non-null object\n",
      "胎次      145374 non-null object\n",
      "最近分娩    85226 non-null datetime64[ns]\n",
      "配种日期    87312 non-null datetime64[ns]\n",
      "配次      38916 non-null object\n",
      "配种员     9780 non-null object\n",
      "犊牛性别    40809 non-null float64\n",
      "死胎      40201 non-null float64\n",
      "产犊评分    21141 non-null float64\n",
      "HERD    109784 non-null object\n",
      "出生日期    139828 non-null datetime64[ns]\n",
      "CODE    145374 non-null int64\n",
      "DAM     121986 non-null float64\n",
      "SIRE    132860 non-null float64\n",
      "dtypes: datetime64[ns](3), float64(5), int64(1), object(6)\n",
      "memory usage: 17.7+ MB\n"
     ]
    }
   ],
   "source": [
    "shdata_f.info()"
   ]
  },
  {
   "cell_type": "markdown",
   "metadata": {},
   "source": [
    "## 牧场处理"
   ]
  },
  {
   "cell_type": "code",
   "execution_count": 1141,
   "metadata": {},
   "outputs": [],
   "source": [
    "from sklearn import preprocessing"
   ]
  },
  {
   "cell_type": "code",
   "execution_count": 1142,
   "metadata": {},
   "outputs": [
    {
     "name": "stderr",
     "output_type": "stream",
     "text": [
      "E:\\Anaconda\\lib\\site-packages\\ipykernel_launcher.py:1: SettingWithCopyWarning: \n",
      "A value is trying to be set on a copy of a slice from a DataFrame.\n",
      "Try using .loc[row_indexer,col_indexer] = value instead\n",
      "\n",
      "See the caveats in the documentation: http://pandas.pydata.org/pandas-docs/stable/indexing.html#indexing-view-versus-copy\n",
      "  \"\"\"Entry point for launching an IPython kernel.\n"
     ]
    }
   ],
   "source": [
    "shdata_f['HERD']=shdata_f['FID'].apply(lambda s : s[:6])"
   ]
  },
  {
   "cell_type": "code",
   "execution_count": 1143,
   "metadata": {},
   "outputs": [
    {
     "name": "stderr",
     "output_type": "stream",
     "text": [
      "E:\\Anaconda\\lib\\site-packages\\ipykernel_launcher.py:3: SettingWithCopyWarning: \n",
      "A value is trying to be set on a copy of a slice from a DataFrame.\n",
      "Try using .loc[row_indexer,col_indexer] = value instead\n",
      "\n",
      "See the caveats in the documentation: http://pandas.pydata.org/pandas-docs/stable/indexing.html#indexing-view-versus-copy\n",
      "  This is separate from the ipykernel package so we can avoid doing imports until\n"
     ]
    }
   ],
   "source": [
    "lbl = preprocessing.LabelEncoder()\n",
    "lbl.fit(list(shdata_f['HERD'].values.astype('str')))\n",
    "shdata_f['HERD'] = lbl.transform(list(shdata_f['HERD'].values.astype('str')))"
   ]
  },
  {
   "cell_type": "code",
   "execution_count": 1144,
   "metadata": {},
   "outputs": [
    {
     "name": "stderr",
     "output_type": "stream",
     "text": [
      "E:\\Anaconda\\lib\\site-packages\\ipykernel_launcher.py:1: SettingWithCopyWarning: \n",
      "A value is trying to be set on a copy of a slice from a DataFrame.\n",
      "Try using .loc[row_indexer,col_indexer] = value instead\n",
      "\n",
      "See the caveats in the documentation: http://pandas.pydata.org/pandas-docs/stable/indexing.html#indexing-view-versus-copy\n",
      "  \"\"\"Entry point for launching an IPython kernel.\n"
     ]
    }
   ],
   "source": [
    "shdata_f['cowtai']=shdata_f['FID']+'.'+shdata_f['胎次']"
   ]
  },
  {
   "cell_type": "markdown",
   "metadata": {},
   "source": [
    "# 性状计算"
   ]
  },
  {
   "cell_type": "code",
   "execution_count": 1145,
   "metadata": {},
   "outputs": [
    {
     "name": "stderr",
     "output_type": "stream",
     "text": [
      "E:\\Anaconda\\lib\\site-packages\\ipykernel_launcher.py:1: SettingWithCopyWarning: \n",
      "A value is trying to be set on a copy of a slice from a DataFrame.\n",
      "Try using .loc[row_indexer,col_indexer] = value instead\n",
      "\n",
      "See the caveats in the documentation: http://pandas.pydata.org/pandas-docs/stable/indexing.html#indexing-view-versus-copy\n",
      "  \"\"\"Entry point for launching an IPython kernel.\n",
      "E:\\Anaconda\\lib\\site-packages\\ipykernel_launcher.py:2: SettingWithCopyWarning: \n",
      "A value is trying to be set on a copy of a slice from a DataFrame.\n",
      "Try using .loc[row_indexer,col_indexer] = value instead\n",
      "\n",
      "See the caveats in the documentation: http://pandas.pydata.org/pandas-docs/stable/indexing.html#indexing-view-versus-copy\n",
      "  \n"
     ]
    }
   ],
   "source": [
    "shdata_f['FID']=shdata_f['FID'].apply(lambda s :str(s))\n",
    "shdata_f['胎次']=shdata_f['胎次'].apply(lambda s :str(s))"
   ]
  },
  {
   "cell_type": "code",
   "execution_count": 1146,
   "metadata": {},
   "outputs": [
    {
     "name": "stderr",
     "output_type": "stream",
     "text": [
      "E:\\Anaconda\\lib\\site-packages\\ipykernel_launcher.py:1: SettingWithCopyWarning: \n",
      "A value is trying to be set on a copy of a slice from a DataFrame.\n",
      "Try using .loc[row_indexer,col_indexer] = value instead\n",
      "\n",
      "See the caveats in the documentation: http://pandas.pydata.org/pandas-docs/stable/indexing.html#indexing-view-versus-copy\n",
      "  \"\"\"Entry point for launching an IPython kernel.\n"
     ]
    }
   ],
   "source": [
    "shdata_f['cowtai']=shdata_f['FID']+'.'+shdata_f['胎次']"
   ]
  },
  {
   "cell_type": "markdown",
   "metadata": {},
   "source": [
    "## 时间筛选"
   ]
  },
  {
   "cell_type": "code",
   "execution_count": 1147,
   "metadata": {},
   "outputs": [
    {
     "name": "stdout",
     "output_type": "stream",
     "text": [
      "<class 'pandas.core.frame.DataFrame'>\n",
      "Int64Index: 51145 entries, 0 to 325547\n",
      "Data columns (total 2 columns):\n",
      "FID     51145 non-null object\n",
      "出生日期    47877 non-null datetime64[ns]\n",
      "dtypes: datetime64[ns](1), object(1)\n",
      "memory usage: 1.2+ MB\n"
     ]
    }
   ],
   "source": [
    "birth=shdata_f[['FID','出生日期']].drop_duplicates(keep='first')\n",
    "birth.info()"
   ]
  },
  {
   "cell_type": "code",
   "execution_count": 1148,
   "metadata": {},
   "outputs": [
    {
     "name": "stdout",
     "output_type": "stream",
     "text": [
      "<class 'pandas.core.frame.DataFrame'>\n",
      "Int64Index: 132710 entries, 0 to 325547\n",
      "Data columns (total 4 columns):\n",
      "FID       132710 non-null object\n",
      "胎次        132710 non-null object\n",
      "cowtai    132710 non-null object\n",
      "配种日期      82187 non-null datetime64[ns]\n",
      "dtypes: datetime64[ns](1), object(3)\n",
      "memory usage: 5.1+ MB\n"
     ]
    }
   ],
   "source": [
    "ai=shdata_f[['FID','胎次','cowtai','配种日期']].drop_duplicates(keep='first')\n",
    "ai.info()"
   ]
  },
  {
   "cell_type": "code",
   "execution_count": 1149,
   "metadata": {},
   "outputs": [
    {
     "name": "stdout",
     "output_type": "stream",
     "text": [
      "<class 'pandas.core.frame.DataFrame'>\n",
      "Int64Index: 73921 entries, 0 to 325547\n",
      "Data columns (total 4 columns):\n",
      "FID       73921 non-null object\n",
      "胎次        73921 non-null object\n",
      "cowtai    73921 non-null object\n",
      "最近分娩      34134 non-null datetime64[ns]\n",
      "dtypes: datetime64[ns](1), object(3)\n",
      "memory usage: 2.8+ MB\n"
     ]
    }
   ],
   "source": [
    "calve=shdata_f[['FID','胎次','cowtai','最近分娩']].drop_duplicates(keep='first')\n",
    "calve.info()"
   ]
  },
  {
   "cell_type": "markdown",
   "metadata": {},
   "source": [
    "## AFS"
   ]
  },
  {
   "cell_type": "code",
   "execution_count": 1150,
   "metadata": {},
   "outputs": [],
   "source": [
    "aif=ai[ai['胎次']=='0']"
   ]
  },
  {
   "cell_type": "code",
   "execution_count": 1151,
   "metadata": {},
   "outputs": [
    {
     "name": "stdout",
     "output_type": "stream",
     "text": [
      "<class 'pandas.core.frame.DataFrame'>\n",
      "Int64Index: 42275 entries, 208 to 325547\n",
      "Data columns (total 4 columns):\n",
      "FID       42275 non-null object\n",
      "胎次        42275 non-null object\n",
      "cowtai    42275 non-null object\n",
      "配种日期      10263 non-null datetime64[ns]\n",
      "dtypes: datetime64[ns](1), object(3)\n",
      "memory usage: 1.6+ MB\n"
     ]
    }
   ],
   "source": [
    "aif.info()"
   ]
  },
  {
   "cell_type": "code",
   "execution_count": 1152,
   "metadata": {},
   "outputs": [],
   "source": [
    "aiff=pd.DataFrame(aif['配种日期'].groupby(aif['FID']).min())"
   ]
  },
  {
   "cell_type": "code",
   "execution_count": 1153,
   "metadata": {},
   "outputs": [],
   "source": [
    "aiff.dropna(axis=0,subset=['配种日期'],inplace=True)"
   ]
  },
  {
   "cell_type": "code",
   "execution_count": 1154,
   "metadata": {},
   "outputs": [],
   "source": [
    "AFS=pd.merge(birth,aiff,on='FID',right_index=True)"
   ]
  },
  {
   "cell_type": "code",
   "execution_count": 1155,
   "metadata": {},
   "outputs": [],
   "source": [
    "AFS['AFS']=AFS['配种日期']-AFS['出生日期']\n",
    "AFS['AFS']=list(map(lambda s: s.days,AFS['AFS']))"
   ]
  },
  {
   "cell_type": "code",
   "execution_count": 1156,
   "metadata": {},
   "outputs": [],
   "source": [
    "AFS.drop_duplicates(keep='first',inplace=True)"
   ]
  },
  {
   "cell_type": "code",
   "execution_count": 1157,
   "metadata": {},
   "outputs": [],
   "source": [
    "AFSS=AFS[(AFS['AFS'] >=270)&(AFS['AFS'] <=900)]"
   ]
  },
  {
   "cell_type": "code",
   "execution_count": 1158,
   "metadata": {},
   "outputs": [
    {
     "name": "stdout",
     "output_type": "stream",
     "text": [
      "<class 'pandas.core.frame.DataFrame'>\n",
      "Int64Index: 4124 entries, 4945 to 283247\n",
      "Data columns (total 4 columns):\n",
      "FID     4124 non-null object\n",
      "出生日期    4124 non-null datetime64[ns]\n",
      "配种日期    4124 non-null datetime64[ns]\n",
      "AFS     4124 non-null float64\n",
      "dtypes: datetime64[ns](2), float64(1), object(1)\n",
      "memory usage: 161.1+ KB\n"
     ]
    }
   ],
   "source": [
    "AFSS.info()"
   ]
  },
  {
   "cell_type": "code",
   "execution_count": 1159,
   "metadata": {},
   "outputs": [
    {
     "data": {
      "text/html": [
       "<div>\n",
       "<style scoped>\n",
       "    .dataframe tbody tr th:only-of-type {\n",
       "        vertical-align: middle;\n",
       "    }\n",
       "\n",
       "    .dataframe tbody tr th {\n",
       "        vertical-align: top;\n",
       "    }\n",
       "\n",
       "    .dataframe thead th {\n",
       "        text-align: right;\n",
       "    }\n",
       "</style>\n",
       "<table border=\"1\" class=\"dataframe\">\n",
       "  <thead>\n",
       "    <tr style=\"text-align: right;\">\n",
       "      <th></th>\n",
       "      <th>AFS</th>\n",
       "    </tr>\n",
       "  </thead>\n",
       "  <tbody>\n",
       "    <tr>\n",
       "      <th>count</th>\n",
       "      <td>4124.000000</td>\n",
       "    </tr>\n",
       "    <tr>\n",
       "      <th>mean</th>\n",
       "      <td>547.690834</td>\n",
       "    </tr>\n",
       "    <tr>\n",
       "      <th>std</th>\n",
       "      <td>152.181162</td>\n",
       "    </tr>\n",
       "    <tr>\n",
       "      <th>min</th>\n",
       "      <td>283.000000</td>\n",
       "    </tr>\n",
       "    <tr>\n",
       "      <th>25%</th>\n",
       "      <td>448.000000</td>\n",
       "    </tr>\n",
       "    <tr>\n",
       "      <th>50%</th>\n",
       "      <td>474.000000</td>\n",
       "    </tr>\n",
       "    <tr>\n",
       "      <th>75%</th>\n",
       "      <td>578.000000</td>\n",
       "    </tr>\n",
       "    <tr>\n",
       "      <th>max</th>\n",
       "      <td>900.000000</td>\n",
       "    </tr>\n",
       "  </tbody>\n",
       "</table>\n",
       "</div>"
      ],
      "text/plain": [
       "               AFS\n",
       "count  4124.000000\n",
       "mean    547.690834\n",
       "std     152.181162\n",
       "min     283.000000\n",
       "25%     448.000000\n",
       "50%     474.000000\n",
       "75%     578.000000\n",
       "max     900.000000"
      ]
     },
     "execution_count": 1159,
     "metadata": {},
     "output_type": "execute_result"
    }
   ],
   "source": [
    "AFSS.describe()"
   ]
  },
  {
   "cell_type": "code",
   "execution_count": 1160,
   "metadata": {},
   "outputs": [
    {
     "data": {
      "text/plain": [
       "Text(0.5,1,'AFS分布')"
      ]
     },
     "execution_count": 1160,
     "metadata": {},
     "output_type": "execute_result"
    },
    {
     "data": {
      "image/png": "[encoded data removed]",
      "text/plain": [
       "<matplotlib.figure.Figure at 0x2359d818a90>"
      ]
     },
     "metadata": {},
     "output_type": "display_data"
    }
   ],
   "source": [
    "sns.distplot(AFSS['AFS'],norm_hist=False,kde=False)\n",
    "plt.title('AFS分布')"
   ]
  },
  {
   "cell_type": "code",
   "execution_count": 1161,
   "metadata": {},
   "outputs": [],
   "source": [
    "AFSS1=AFSS[['FID','AFS']]"
   ]
  },
  {
   "cell_type": "markdown",
   "metadata": {},
   "source": [
    "## AFC"
   ]
  },
  {
   "cell_type": "code",
   "execution_count": 1162,
   "metadata": {},
   "outputs": [],
   "source": [
    "calvef=calve[calve['胎次']=='1']\n",
    "calveff=pd.DataFrame(calvef['最近分娩'].groupby([calvef['FID']]).min())"
   ]
  },
  {
   "cell_type": "code",
   "execution_count": 1163,
   "metadata": {},
   "outputs": [],
   "source": [
    "calveff.dropna(axis=0,subset=['最近分娩'],inplace=True)"
   ]
  },
  {
   "cell_type": "code",
   "execution_count": 1164,
   "metadata": {},
   "outputs": [],
   "source": [
    "AFC=pd.merge(birth,calveff,on='FID',right_index=True)"
   ]
  },
  {
   "cell_type": "code",
   "execution_count": 1165,
   "metadata": {},
   "outputs": [],
   "source": [
    "AFC['AFC']=AFC['最近分娩']-AFC['出生日期']\n",
    "AFC['AFC']=list(map(lambda s: s.days,AFC['AFC']))"
   ]
  },
  {
   "cell_type": "code",
   "execution_count": 1166,
   "metadata": {},
   "outputs": [
    {
     "name": "stdout",
     "output_type": "stream",
     "text": [
      "<class 'pandas.core.frame.DataFrame'>\n",
      "Int64Index: 20146 entries, 9 to 285112\n",
      "Data columns (total 4 columns):\n",
      "FID     20146 non-null object\n",
      "出生日期    19846 non-null datetime64[ns]\n",
      "最近分娩    20146 non-null datetime64[ns]\n",
      "AFC     19846 non-null float64\n",
      "dtypes: datetime64[ns](2), float64(1), object(1)\n",
      "memory usage: 787.0+ KB\n"
     ]
    }
   ],
   "source": [
    "AFC.drop_duplicates(keep='first',inplace=True)\n",
    "AFC.info()"
   ]
  },
  {
   "cell_type": "code",
   "execution_count": 1167,
   "metadata": {},
   "outputs": [],
   "source": [
    "AFCC=AFC[(AFC['AFC'] >=600)&(AFC['AFC'] <=1100)]"
   ]
  },
  {
   "cell_type": "code",
   "execution_count": 1278,
   "metadata": {},
   "outputs": [
    {
     "name": "stdout",
     "output_type": "stream",
     "text": [
      "<class 'pandas.core.frame.DataFrame'>\n",
      "Int64Index: 10921 entries, 4322 to 285112\n",
      "Data columns (total 4 columns):\n",
      "FID     10921 non-null object\n",
      "出生日期    10921 non-null datetime64[ns]\n",
      "最近分娩    10921 non-null datetime64[ns]\n",
      "AFC     10921 non-null float64\n",
      "dtypes: datetime64[ns](2), float64(1), object(1)\n",
      "memory usage: 426.6+ KB\n"
     ]
    }
   ],
   "source": [
    "AFCC.drop_duplicates(keep='first').info()"
   ]
  },
  {
   "cell_type": "code",
   "execution_count": 1169,
   "metadata": {},
   "outputs": [
    {
     "data": {
      "text/html": [
       "<div>\n",
       "<style scoped>\n",
       "    .dataframe tbody tr th:only-of-type {\n",
       "        vertical-align: middle;\n",
       "    }\n",
       "\n",
       "    .dataframe tbody tr th {\n",
       "        vertical-align: top;\n",
       "    }\n",
       "\n",
       "    .dataframe thead th {\n",
       "        text-align: right;\n",
       "    }\n",
       "</style>\n",
       "<table border=\"1\" class=\"dataframe\">\n",
       "  <thead>\n",
       "    <tr style=\"text-align: right;\">\n",
       "      <th></th>\n",
       "      <th>AFC</th>\n",
       "    </tr>\n",
       "  </thead>\n",
       "  <tbody>\n",
       "    <tr>\n",
       "      <th>count</th>\n",
       "      <td>10921.000000</td>\n",
       "    </tr>\n",
       "    <tr>\n",
       "      <th>mean</th>\n",
       "      <td>788.010439</td>\n",
       "    </tr>\n",
       "    <tr>\n",
       "      <th>std</th>\n",
       "      <td>101.546798</td>\n",
       "    </tr>\n",
       "    <tr>\n",
       "      <th>min</th>\n",
       "      <td>601.000000</td>\n",
       "    </tr>\n",
       "    <tr>\n",
       "      <th>25%</th>\n",
       "      <td>724.000000</td>\n",
       "    </tr>\n",
       "    <tr>\n",
       "      <th>50%</th>\n",
       "      <td>754.000000</td>\n",
       "    </tr>\n",
       "    <tr>\n",
       "      <th>75%</th>\n",
       "      <td>811.000000</td>\n",
       "    </tr>\n",
       "    <tr>\n",
       "      <th>max</th>\n",
       "      <td>1100.000000</td>\n",
       "    </tr>\n",
       "  </tbody>\n",
       "</table>\n",
       "</div>"
      ],
      "text/plain": [
       "                AFC\n",
       "count  10921.000000\n",
       "mean     788.010439\n",
       "std      101.546798\n",
       "min      601.000000\n",
       "25%      724.000000\n",
       "50%      754.000000\n",
       "75%      811.000000\n",
       "max     1100.000000"
      ]
     },
     "execution_count": 1169,
     "metadata": {},
     "output_type": "execute_result"
    }
   ],
   "source": [
    "AFCC.describe()"
   ]
  },
  {
   "cell_type": "code",
   "execution_count": 1170,
   "metadata": {},
   "outputs": [
    {
     "data": {
      "text/plain": [
       "Text(0.5,1,'AFC分布')"
      ]
     },
     "execution_count": 1170,
     "metadata": {},
     "output_type": "execute_result"
    },
    {
     "data": {
      "image/png": "[encoded data removed]",
      "text/plain": [
       "<matplotlib.figure.Figure at 0x2358219f4a8>"
      ]
     },
     "metadata": {},
     "output_type": "display_data"
    }
   ],
   "source": [
    "sns.distplot(AFCC['AFC'],norm_hist=False,kde=False)\n",
    "plt.title('AFC分布')"
   ]
  },
  {
   "cell_type": "code",
   "execution_count": 1171,
   "metadata": {},
   "outputs": [],
   "source": [
    "AFCC1=AFCC[['FID','AFC']]"
   ]
  },
  {
   "cell_type": "code",
   "execution_count": 1251,
   "metadata": {},
   "outputs": [
    {
     "data": {
      "text/html": [
       "<div>\n",
       "<style scoped>\n",
       "    .dataframe tbody tr th:only-of-type {\n",
       "        vertical-align: middle;\n",
       "    }\n",
       "\n",
       "    .dataframe tbody tr th {\n",
       "        vertical-align: top;\n",
       "    }\n",
       "\n",
       "    .dataframe thead th {\n",
       "        text-align: right;\n",
       "    }\n",
       "</style>\n",
       "<table border=\"1\" class=\"dataframe\">\n",
       "  <thead>\n",
       "    <tr style=\"text-align: right;\">\n",
       "      <th></th>\n",
       "      <th>FID</th>\n",
       "      <th>AFC</th>\n",
       "    </tr>\n",
       "  </thead>\n",
       "  <tbody>\n",
       "    <tr>\n",
       "      <th>4322</th>\n",
       "      <td>31SH42004341</td>\n",
       "      <td>1093.0</td>\n",
       "    </tr>\n",
       "    <tr>\n",
       "      <th>4453</th>\n",
       "      <td>31SH42004351</td>\n",
       "      <td>821.0</td>\n",
       "    </tr>\n",
       "    <tr>\n",
       "      <th>4544</th>\n",
       "      <td>31SH42004364</td>\n",
       "      <td>873.0</td>\n",
       "    </tr>\n",
       "    <tr>\n",
       "      <th>4571</th>\n",
       "      <td>31SH42004366</td>\n",
       "      <td>1075.0</td>\n",
       "    </tr>\n",
       "    <tr>\n",
       "      <th>4670</th>\n",
       "      <td>31SH42004374</td>\n",
       "      <td>766.0</td>\n",
       "    </tr>\n",
       "  </tbody>\n",
       "</table>\n",
       "</div>"
      ],
      "text/plain": [
       "               FID     AFC\n",
       "4322  31SH42004341  1093.0\n",
       "4453  31SH42004351   821.0\n",
       "4544  31SH42004364   873.0\n",
       "4571  31SH42004366  1075.0\n",
       "4670  31SH42004374   766.0"
      ]
     },
     "execution_count": 1251,
     "metadata": {},
     "output_type": "execute_result"
    }
   ],
   "source": [
    "AFCC1.head()"
   ]
  },
  {
   "cell_type": "markdown",
   "metadata": {},
   "source": [
    "## IFL"
   ]
  },
  {
   "cell_type": "code",
   "execution_count": 1172,
   "metadata": {},
   "outputs": [],
   "source": [
    "aim=pd.DataFrame(ai['配种日期'].groupby([ai['cowtai']]).min())\n",
    "aiM=pd.DataFrame(ai['配种日期'].groupby([ai['cowtai']]).max())"
   ]
  },
  {
   "cell_type": "code",
   "execution_count": 1173,
   "metadata": {},
   "outputs": [
    {
     "name": "stdout",
     "output_type": "stream",
     "text": [
      "<class 'pandas.core.frame.DataFrame'>\n",
      "Index: 71675 entries, 12A119000901.0 to 410401D16139.1\n",
      "Data columns (total 1 columns):\n",
      "配种日期    34640 non-null datetime64[ns]\n",
      "dtypes: datetime64[ns](1)\n",
      "memory usage: 1.1+ MB\n"
     ]
    }
   ],
   "source": [
    "aim.info()"
   ]
  },
  {
   "cell_type": "code",
   "execution_count": 1174,
   "metadata": {},
   "outputs": [
    {
     "name": "stdout",
     "output_type": "stream",
     "text": [
      "<class 'pandas.core.frame.DataFrame'>\n",
      "Index: 71675 entries, 12A119000901.0 to 410401D16139.1\n",
      "Data columns (total 1 columns):\n",
      "配种日期    34640 non-null datetime64[ns]\n",
      "dtypes: datetime64[ns](1)\n",
      "memory usage: 1.1+ MB\n"
     ]
    }
   ],
   "source": [
    "aiM.info()"
   ]
  },
  {
   "cell_type": "code",
   "execution_count": 1175,
   "metadata": {},
   "outputs": [
    {
     "data": {
      "text/html": [
       "<div>\n",
       "<style scoped>\n",
       "    .dataframe tbody tr th:only-of-type {\n",
       "        vertical-align: middle;\n",
       "    }\n",
       "\n",
       "    .dataframe tbody tr th {\n",
       "        vertical-align: top;\n",
       "    }\n",
       "\n",
       "    .dataframe thead th {\n",
       "        text-align: right;\n",
       "    }\n",
       "</style>\n",
       "<table border=\"1\" class=\"dataframe\">\n",
       "  <thead>\n",
       "    <tr style=\"text-align: right;\">\n",
       "      <th></th>\n",
       "      <th>配种日期_min</th>\n",
       "      <th>配种日期_max</th>\n",
       "    </tr>\n",
       "    <tr>\n",
       "      <th>cowtai</th>\n",
       "      <th></th>\n",
       "      <th></th>\n",
       "    </tr>\n",
       "  </thead>\n",
       "  <tbody>\n",
       "    <tr>\n",
       "      <th>12A119000931.1</th>\n",
       "      <td>2018-01-12</td>\n",
       "      <td>2018-01-12</td>\n",
       "    </tr>\n",
       "    <tr>\n",
       "      <th>12A119001013.1</th>\n",
       "      <td>2018-01-05</td>\n",
       "      <td>2018-04-10</td>\n",
       "    </tr>\n",
       "    <tr>\n",
       "      <th>12A119050102.1</th>\n",
       "      <td>2017-08-25</td>\n",
       "      <td>2017-09-15</td>\n",
       "    </tr>\n",
       "    <tr>\n",
       "      <th>12A119050116.1</th>\n",
       "      <td>2017-11-24</td>\n",
       "      <td>2018-05-09</td>\n",
       "    </tr>\n",
       "    <tr>\n",
       "      <th>12A119050117.1</th>\n",
       "      <td>2017-03-17</td>\n",
       "      <td>2017-03-17</td>\n",
       "    </tr>\n",
       "  </tbody>\n",
       "</table>\n",
       "</div>"
      ],
      "text/plain": [
       "                 配种日期_min   配种日期_max\n",
       "cowtai                              \n",
       "12A119000931.1 2018-01-12 2018-01-12\n",
       "12A119001013.1 2018-01-05 2018-04-10\n",
       "12A119050102.1 2017-08-25 2017-09-15\n",
       "12A119050116.1 2017-11-24 2018-05-09\n",
       "12A119050117.1 2017-03-17 2017-03-17"
      ]
     },
     "execution_count": 1175,
     "metadata": {},
     "output_type": "execute_result"
    }
   ],
   "source": [
    "aimM=pd.merge(aim,aiM,left_index=True,right_index=True,suffixes=('_min','_max'))\n",
    "aimM.dropna(axis=0,inplace=True)\n",
    "aimM.head()"
   ]
  },
  {
   "cell_type": "code",
   "execution_count": 1176,
   "metadata": {},
   "outputs": [],
   "source": [
    "IFL=aimM[:]"
   ]
  },
  {
   "cell_type": "code",
   "execution_count": 1177,
   "metadata": {},
   "outputs": [
    {
     "name": "stderr",
     "output_type": "stream",
     "text": [
      "E:\\Anaconda\\lib\\site-packages\\ipykernel_launcher.py:1: SettingWithCopyWarning: \n",
      "A value is trying to be set on a copy of a slice from a DataFrame.\n",
      "Try using .loc[row_indexer,col_indexer] = value instead\n",
      "\n",
      "See the caveats in the documentation: http://pandas.pydata.org/pandas-docs/stable/indexing.html#indexing-view-versus-copy\n",
      "  \"\"\"Entry point for launching an IPython kernel.\n",
      "E:\\Anaconda\\lib\\site-packages\\ipykernel_launcher.py:2: SettingWithCopyWarning: \n",
      "A value is trying to be set on a copy of a slice from a DataFrame.\n",
      "Try using .loc[row_indexer,col_indexer] = value instead\n",
      "\n",
      "See the caveats in the documentation: http://pandas.pydata.org/pandas-docs/stable/indexing.html#indexing-view-versus-copy\n",
      "  \n"
     ]
    },
    {
     "data": {
      "text/html": [
       "<div>\n",
       "<style scoped>\n",
       "    .dataframe tbody tr th:only-of-type {\n",
       "        vertical-align: middle;\n",
       "    }\n",
       "\n",
       "    .dataframe tbody tr th {\n",
       "        vertical-align: top;\n",
       "    }\n",
       "\n",
       "    .dataframe thead th {\n",
       "        text-align: right;\n",
       "    }\n",
       "</style>\n",
       "<table border=\"1\" class=\"dataframe\">\n",
       "  <thead>\n",
       "    <tr style=\"text-align: right;\">\n",
       "      <th></th>\n",
       "      <th>配种日期_min</th>\n",
       "      <th>配种日期_max</th>\n",
       "      <th>IFL</th>\n",
       "    </tr>\n",
       "    <tr>\n",
       "      <th>cowtai</th>\n",
       "      <th></th>\n",
       "      <th></th>\n",
       "      <th></th>\n",
       "    </tr>\n",
       "  </thead>\n",
       "  <tbody>\n",
       "    <tr>\n",
       "      <th>12A119000931.1</th>\n",
       "      <td>2018-01-12</td>\n",
       "      <td>2018-01-12</td>\n",
       "      <td>0</td>\n",
       "    </tr>\n",
       "    <tr>\n",
       "      <th>12A119001013.1</th>\n",
       "      <td>2018-01-05</td>\n",
       "      <td>2018-04-10</td>\n",
       "      <td>95</td>\n",
       "    </tr>\n",
       "    <tr>\n",
       "      <th>12A119050102.1</th>\n",
       "      <td>2017-08-25</td>\n",
       "      <td>2017-09-15</td>\n",
       "      <td>21</td>\n",
       "    </tr>\n",
       "    <tr>\n",
       "      <th>12A119050116.1</th>\n",
       "      <td>2017-11-24</td>\n",
       "      <td>2018-05-09</td>\n",
       "      <td>166</td>\n",
       "    </tr>\n",
       "    <tr>\n",
       "      <th>12A119050117.1</th>\n",
       "      <td>2017-03-17</td>\n",
       "      <td>2017-03-17</td>\n",
       "      <td>0</td>\n",
       "    </tr>\n",
       "  </tbody>\n",
       "</table>\n",
       "</div>"
      ],
      "text/plain": [
       "                 配种日期_min   配种日期_max  IFL\n",
       "cowtai                                   \n",
       "12A119000931.1 2018-01-12 2018-01-12    0\n",
       "12A119001013.1 2018-01-05 2018-04-10   95\n",
       "12A119050102.1 2017-08-25 2017-09-15   21\n",
       "12A119050116.1 2017-11-24 2018-05-09  166\n",
       "12A119050117.1 2017-03-17 2017-03-17    0"
      ]
     },
     "execution_count": 1177,
     "metadata": {},
     "output_type": "execute_result"
    }
   ],
   "source": [
    "IFL['IFL']=IFL['配种日期_max']-IFL['配种日期_min']\n",
    "IFL['IFL']=list(map(lambda s: s.days,IFL['IFL']))  ##timedelta通过.days提取出int格式整数\n",
    "IFL.head()"
   ]
  },
  {
   "cell_type": "code",
   "execution_count": 1178,
   "metadata": {},
   "outputs": [
    {
     "data": {
      "text/html": [
       "<div>\n",
       "<style scoped>\n",
       "    .dataframe tbody tr th:only-of-type {\n",
       "        vertical-align: middle;\n",
       "    }\n",
       "\n",
       "    .dataframe tbody tr th {\n",
       "        vertical-align: top;\n",
       "    }\n",
       "\n",
       "    .dataframe thead th {\n",
       "        text-align: right;\n",
       "    }\n",
       "</style>\n",
       "<table border=\"1\" class=\"dataframe\">\n",
       "  <thead>\n",
       "    <tr style=\"text-align: right;\">\n",
       "      <th></th>\n",
       "      <th>FID</th>\n",
       "      <th>cowtai</th>\n",
       "      <th>配种日期_min</th>\n",
       "      <th>配种日期_max</th>\n",
       "      <th>IFL</th>\n",
       "    </tr>\n",
       "  </thead>\n",
       "  <tbody>\n",
       "    <tr>\n",
       "      <th>0</th>\n",
       "      <td>31SH44000004</td>\n",
       "      <td>31SH44000004.666</td>\n",
       "      <td>2014-02-07</td>\n",
       "      <td>2014-02-25</td>\n",
       "      <td>18</td>\n",
       "    </tr>\n",
       "    <tr>\n",
       "      <th>9</th>\n",
       "      <td>31SH44000005</td>\n",
       "      <td>31SH44000005.666</td>\n",
       "      <td>2014-02-01</td>\n",
       "      <td>2014-02-07</td>\n",
       "      <td>6</td>\n",
       "    </tr>\n",
       "    <tr>\n",
       "      <th>11</th>\n",
       "      <td>31SH44000005</td>\n",
       "      <td>31SH44000005.1</td>\n",
       "      <td>2014-02-19</td>\n",
       "      <td>2014-02-19</td>\n",
       "      <td>0</td>\n",
       "    </tr>\n",
       "    <tr>\n",
       "      <th>12</th>\n",
       "      <td>31SH44000005</td>\n",
       "      <td>31SH44000005.3</td>\n",
       "      <td>2014-02-19</td>\n",
       "      <td>2014-02-19</td>\n",
       "      <td>0</td>\n",
       "    </tr>\n",
       "    <tr>\n",
       "      <th>13</th>\n",
       "      <td>31SH44000005</td>\n",
       "      <td>31SH44000005.2</td>\n",
       "      <td>2014-02-11</td>\n",
       "      <td>2014-02-11</td>\n",
       "      <td>0</td>\n",
       "    </tr>\n",
       "  </tbody>\n",
       "</table>\n",
       "</div>"
      ],
      "text/plain": [
       "             FID            cowtai   配种日期_min   配种日期_max  IFL\n",
       "0   31SH44000004  31SH44000004.666 2014-02-07 2014-02-25   18\n",
       "9   31SH44000005  31SH44000005.666 2014-02-01 2014-02-07    6\n",
       "11  31SH44000005    31SH44000005.1 2014-02-19 2014-02-19    0\n",
       "12  31SH44000005    31SH44000005.3 2014-02-19 2014-02-19    0\n",
       "13  31SH44000005    31SH44000005.2 2014-02-11 2014-02-11    0"
      ]
     },
     "execution_count": 1178,
     "metadata": {},
     "output_type": "execute_result"
    }
   ],
   "source": [
    "p=ai[['FID','cowtai']]\n",
    "IFL1=pd.merge(p,IFL,left_on='cowtai',right_index=True).drop_duplicates(keep='first')\n",
    "IFL1.head()"
   ]
  },
  {
   "cell_type": "code",
   "execution_count": 1179,
   "metadata": {},
   "outputs": [
    {
     "name": "stdout",
     "output_type": "stream",
     "text": [
      "<class 'pandas.core.frame.DataFrame'>\n",
      "Int64Index: 34640 entries, 0 to 283247\n",
      "Data columns (total 5 columns):\n",
      "FID         34640 non-null object\n",
      "cowtai      34640 non-null object\n",
      "配种日期_min    34640 non-null datetime64[ns]\n",
      "配种日期_max    34640 non-null datetime64[ns]\n",
      "IFL         34640 non-null int64\n",
      "dtypes: datetime64[ns](2), int64(1), object(2)\n",
      "memory usage: 1.6+ MB\n"
     ]
    }
   ],
   "source": [
    "IFL1.info()"
   ]
  },
  {
   "cell_type": "code",
   "execution_count": 1180,
   "metadata": {},
   "outputs": [],
   "source": [
    "IFLZ=IFL1[(IFL1['IFL']==0)|((IFL1['IFL']>=21)&(IFL1['IFL']<=365))]\n",
    "IFL2=IFL1[(IFL1['IFL']>=21)&(IFL1['IFL']<=365)]"
   ]
  },
  {
   "cell_type": "code",
   "execution_count": 1181,
   "metadata": {},
   "outputs": [
    {
     "name": "stdout",
     "output_type": "stream",
     "text": [
      "<class 'pandas.core.frame.DataFrame'>\n",
      "Int64Index: 30706 entries, 11 to 283247\n",
      "Data columns (total 5 columns):\n",
      "FID         30706 non-null object\n",
      "cowtai      30706 non-null object\n",
      "配种日期_min    30706 non-null datetime64[ns]\n",
      "配种日期_max    30706 non-null datetime64[ns]\n",
      "IFL         30706 non-null int64\n",
      "dtypes: datetime64[ns](2), int64(1), object(2)\n",
      "memory usage: 1.4+ MB\n"
     ]
    }
   ],
   "source": [
    "IFLZ.info()"
   ]
  },
  {
   "cell_type": "code",
   "execution_count": 1182,
   "metadata": {},
   "outputs": [
    {
     "data": {
      "text/html": [
       "<div>\n",
       "<style scoped>\n",
       "    .dataframe tbody tr th:only-of-type {\n",
       "        vertical-align: middle;\n",
       "    }\n",
       "\n",
       "    .dataframe tbody tr th {\n",
       "        vertical-align: top;\n",
       "    }\n",
       "\n",
       "    .dataframe thead th {\n",
       "        text-align: right;\n",
       "    }\n",
       "</style>\n",
       "<table border=\"1\" class=\"dataframe\">\n",
       "  <thead>\n",
       "    <tr style=\"text-align: right;\">\n",
       "      <th></th>\n",
       "      <th>IFL</th>\n",
       "    </tr>\n",
       "  </thead>\n",
       "  <tbody>\n",
       "    <tr>\n",
       "      <th>count</th>\n",
       "      <td>30706.000000</td>\n",
       "    </tr>\n",
       "    <tr>\n",
       "      <th>mean</th>\n",
       "      <td>60.324041</td>\n",
       "    </tr>\n",
       "    <tr>\n",
       "      <th>std</th>\n",
       "      <td>88.962681</td>\n",
       "    </tr>\n",
       "    <tr>\n",
       "      <th>min</th>\n",
       "      <td>0.000000</td>\n",
       "    </tr>\n",
       "    <tr>\n",
       "      <th>25%</th>\n",
       "      <td>0.000000</td>\n",
       "    </tr>\n",
       "    <tr>\n",
       "      <th>50%</th>\n",
       "      <td>21.000000</td>\n",
       "    </tr>\n",
       "    <tr>\n",
       "      <th>75%</th>\n",
       "      <td>87.000000</td>\n",
       "    </tr>\n",
       "    <tr>\n",
       "      <th>max</th>\n",
       "      <td>365.000000</td>\n",
       "    </tr>\n",
       "  </tbody>\n",
       "</table>\n",
       "</div>"
      ],
      "text/plain": [
       "                IFL\n",
       "count  30706.000000\n",
       "mean      60.324041\n",
       "std       88.962681\n",
       "min        0.000000\n",
       "25%        0.000000\n",
       "50%       21.000000\n",
       "75%       87.000000\n",
       "max      365.000000"
      ]
     },
     "execution_count": 1182,
     "metadata": {},
     "output_type": "execute_result"
    }
   ],
   "source": [
    "IFLZ.describe()"
   ]
  },
  {
   "cell_type": "code",
   "execution_count": 1183,
   "metadata": {},
   "outputs": [
    {
     "data": {
      "text/plain": [
       "Text(0.5,1,'IFL分布')"
      ]
     },
     "execution_count": 1183,
     "metadata": {},
     "output_type": "execute_result"
    },
    {
     "data": {
      "image/png": "[encoded data removed]",
      "text/plain": [
       "<matplotlib.figure.Figure at 0x236155ac978>"
      ]
     },
     "metadata": {},
     "output_type": "display_data"
    }
   ],
   "source": [
    "sns.distplot(IFL2['IFL'],norm_hist=False,kde=False)\n",
    "plt.title('IFL分布')"
   ]
  },
  {
   "cell_type": "code",
   "execution_count": 1184,
   "metadata": {},
   "outputs": [],
   "source": [
    "IFLL=IFLZ[['cowtai','IFL']]"
   ]
  },
  {
   "cell_type": "markdown",
   "metadata": {},
   "source": [
    "## ICF"
   ]
  },
  {
   "cell_type": "code",
   "execution_count": 1185,
   "metadata": {},
   "outputs": [
    {
     "data": {
      "text/html": [
       "<div>\n",
       "<style scoped>\n",
       "    .dataframe tbody tr th:only-of-type {\n",
       "        vertical-align: middle;\n",
       "    }\n",
       "\n",
       "    .dataframe tbody tr th {\n",
       "        vertical-align: top;\n",
       "    }\n",
       "\n",
       "    .dataframe thead th {\n",
       "        text-align: right;\n",
       "    }\n",
       "</style>\n",
       "<table border=\"1\" class=\"dataframe\">\n",
       "  <thead>\n",
       "    <tr style=\"text-align: right;\">\n",
       "      <th></th>\n",
       "      <th>FID</th>\n",
       "      <th>胎次</th>\n",
       "      <th>cowtai</th>\n",
       "      <th>最近分娩</th>\n",
       "      <th>配种日期</th>\n",
       "    </tr>\n",
       "  </thead>\n",
       "  <tbody>\n",
       "    <tr>\n",
       "      <th>0</th>\n",
       "      <td>31SH44000004</td>\n",
       "      <td>666</td>\n",
       "      <td>31SH44000004.666</td>\n",
       "      <td>NaT</td>\n",
       "      <td>2014-02-07</td>\n",
       "    </tr>\n",
       "    <tr>\n",
       "      <th>9</th>\n",
       "      <td>31SH44000005</td>\n",
       "      <td>666</td>\n",
       "      <td>31SH44000005.666</td>\n",
       "      <td>NaT</td>\n",
       "      <td>2014-02-01</td>\n",
       "    </tr>\n",
       "    <tr>\n",
       "      <th>11</th>\n",
       "      <td>31SH44000005</td>\n",
       "      <td>1</td>\n",
       "      <td>31SH44000005.1</td>\n",
       "      <td>2012-10-20</td>\n",
       "      <td>2014-02-19</td>\n",
       "    </tr>\n",
       "    <tr>\n",
       "      <th>12</th>\n",
       "      <td>31SH44000005</td>\n",
       "      <td>3</td>\n",
       "      <td>31SH44000005.3</td>\n",
       "      <td>2013-02-25</td>\n",
       "      <td>2014-02-19</td>\n",
       "    </tr>\n",
       "    <tr>\n",
       "      <th>13</th>\n",
       "      <td>31SH44000005</td>\n",
       "      <td>2</td>\n",
       "      <td>31SH44000005.2</td>\n",
       "      <td>2013-01-07</td>\n",
       "      <td>2014-02-11</td>\n",
       "    </tr>\n",
       "  </tbody>\n",
       "</table>\n",
       "</div>"
      ],
      "text/plain": [
       "             FID   胎次            cowtai       最近分娩       配种日期\n",
       "0   31SH44000004  666  31SH44000004.666        NaT 2014-02-07\n",
       "9   31SH44000005  666  31SH44000005.666        NaT 2014-02-01\n",
       "11  31SH44000005    1    31SH44000005.1 2012-10-20 2014-02-19\n",
       "12  31SH44000005    3    31SH44000005.3 2013-02-25 2014-02-19\n",
       "13  31SH44000005    2    31SH44000005.2 2013-01-07 2014-02-11"
      ]
     },
     "execution_count": 1185,
     "metadata": {},
     "output_type": "execute_result"
    }
   ],
   "source": [
    "ICF=pd.merge(calve,aim,left_on='cowtai',right_index=True)\n",
    "ICF.head()"
   ]
  },
  {
   "cell_type": "code",
   "execution_count": 1186,
   "metadata": {},
   "outputs": [
    {
     "data": {
      "text/plain": [
       "FID       73921\n",
       "胎次        73921\n",
       "cowtai    73921\n",
       "最近分娩      34134\n",
       "配种日期      36810\n",
       "ICF       27562\n",
       "dtype: int64"
      ]
     },
     "execution_count": 1186,
     "metadata": {},
     "output_type": "execute_result"
    }
   ],
   "source": [
    "ICF['ICF']=ICF['配种日期']-ICF['最近分娩']\n",
    "ICF['ICF']=list(map(lambda s: s.days,ICF['ICF']))  ##timedelta通过.days提取出int格式整数\n",
    "ICF.count()"
   ]
  },
  {
   "cell_type": "code",
   "execution_count": 1187,
   "metadata": {},
   "outputs": [
    {
     "name": "stdout",
     "output_type": "stream",
     "text": [
      "<class 'pandas.core.frame.DataFrame'>\n",
      "Int64Index: 23497 entries, 30 to 281809\n",
      "Data columns (total 2 columns):\n",
      "cowtai    23497 non-null object\n",
      "ICF       23497 non-null float64\n",
      "dtypes: float64(1), object(1)\n",
      "memory usage: 550.7+ KB\n"
     ]
    }
   ],
   "source": [
    "ICF1=ICF[['cowtai','ICF']]\n",
    "ICF2=ICF1[(ICF1['ICF']>=20) & (ICF1['ICF']<=230 )]\n",
    "ICF2.info()"
   ]
  },
  {
   "cell_type": "code",
   "execution_count": 1188,
   "metadata": {},
   "outputs": [
    {
     "data": {
      "text/plain": [
       "Text(0.5,1,'IFL分布')"
      ]
     },
     "execution_count": 1188,
     "metadata": {},
     "output_type": "execute_result"
    },
    {
     "data": {
      "image/png": "[encoded data removed]",
      "text/plain": [
       "<matplotlib.figure.Figure at 0x2358f7b9668>"
      ]
     },
     "metadata": {},
     "output_type": "display_data"
    }
   ],
   "source": [
    "sns.distplot(ICF2['ICF'],norm_hist=False,kde=False)\n",
    "plt.title('IFL分布')"
   ]
  },
  {
   "cell_type": "markdown",
   "metadata": {},
   "source": [
    "## CE"
   ]
  },
  {
   "cell_type": "code",
   "execution_count": 1189,
   "metadata": {},
   "outputs": [],
   "source": [
    "CE=shdata_f[['cowtai','产犊评分']].dropna(axis=0,subset=['产犊评分']).drop_duplicates(keep='first')"
   ]
  },
  {
   "cell_type": "code",
   "execution_count": 1190,
   "metadata": {},
   "outputs": [
    {
     "name": "stdout",
     "output_type": "stream",
     "text": [
      "<class 'pandas.core.frame.DataFrame'>\n",
      "Int64Index: 11777 entries, 177 to 285112\n",
      "Data columns (total 2 columns):\n",
      "cowtai    11777 non-null object\n",
      "产犊评分      11777 non-null float64\n",
      "dtypes: float64(1), object(1)\n",
      "memory usage: 276.0+ KB\n"
     ]
    }
   ],
   "source": [
    "CE.info()"
   ]
  },
  {
   "cell_type": "markdown",
   "metadata": {},
   "source": [
    "## SB"
   ]
  },
  {
   "cell_type": "code",
   "execution_count": 1191,
   "metadata": {},
   "outputs": [
    {
     "name": "stdout",
     "output_type": "stream",
     "text": [
      "<class 'pandas.core.frame.DataFrame'>\n",
      "Int64Index: 19897 entries, 177 to 285112\n",
      "Data columns (total 2 columns):\n",
      "cowtai    19897 non-null object\n",
      "死胎        19897 non-null float64\n",
      "dtypes: float64(1), object(1)\n",
      "memory usage: 466.3+ KB\n"
     ]
    }
   ],
   "source": [
    "SB=shdata_f[['cowtai','死胎']].dropna(axis=0,subset=['死胎']).drop_duplicates(keep='first')\n",
    "SB.info()"
   ]
  },
  {
   "cell_type": "markdown",
   "metadata": {},
   "source": [
    "# 效应提取与性状合并"
   ]
  },
  {
   "cell_type": "markdown",
   "metadata": {},
   "source": [
    "## 按胎次提取FID，cowtai等"
   ]
  },
  {
   "cell_type": "code",
   "execution_count": 1192,
   "metadata": {},
   "outputs": [],
   "source": [
    "cowtai=shdata_f[['FID','HERD','胎次']].drop_duplicates(keep='first')"
   ]
  },
  {
   "cell_type": "code",
   "execution_count": 1193,
   "metadata": {},
   "outputs": [],
   "source": [
    "cowtai['cowtai']=cowtai['FID']+'.'+cowtai['胎次']"
   ]
  },
  {
   "cell_type": "code",
   "execution_count": 1194,
   "metadata": {},
   "outputs": [
    {
     "name": "stdout",
     "output_type": "stream",
     "text": [
      "<class 'pandas.core.frame.DataFrame'>\n",
      "Int64Index: 71675 entries, 0 to 325547\n",
      "Data columns (total 4 columns):\n",
      "FID       71675 non-null object\n",
      "HERD      71675 non-null int64\n",
      "胎次        71675 non-null object\n",
      "cowtai    71675 non-null object\n",
      "dtypes: int64(1), object(3)\n",
      "memory usage: 2.7+ MB\n"
     ]
    }
   ],
   "source": [
    "cowtai.info()"
   ]
  },
  {
   "cell_type": "code",
   "execution_count": 1195,
   "metadata": {},
   "outputs": [
    {
     "data": {
      "text/html": [
       "<div>\n",
       "<style scoped>\n",
       "    .dataframe tbody tr th:only-of-type {\n",
       "        vertical-align: middle;\n",
       "    }\n",
       "\n",
       "    .dataframe tbody tr th {\n",
       "        vertical-align: top;\n",
       "    }\n",
       "\n",
       "    .dataframe thead th {\n",
       "        text-align: right;\n",
       "    }\n",
       "</style>\n",
       "<table border=\"1\" class=\"dataframe\">\n",
       "  <thead>\n",
       "    <tr style=\"text-align: right;\">\n",
       "      <th></th>\n",
       "      <th>FID</th>\n",
       "      <th>HERD</th>\n",
       "      <th>胎次</th>\n",
       "      <th>cowtai</th>\n",
       "    </tr>\n",
       "  </thead>\n",
       "  <tbody>\n",
       "    <tr>\n",
       "      <th>0</th>\n",
       "      <td>31SH44000004</td>\n",
       "      <td>18</td>\n",
       "      <td>666</td>\n",
       "      <td>31SH44000004.666</td>\n",
       "    </tr>\n",
       "    <tr>\n",
       "      <th>9</th>\n",
       "      <td>31SH44000005</td>\n",
       "      <td>18</td>\n",
       "      <td>666</td>\n",
       "      <td>31SH44000005.666</td>\n",
       "    </tr>\n",
       "    <tr>\n",
       "      <th>11</th>\n",
       "      <td>31SH44000005</td>\n",
       "      <td>18</td>\n",
       "      <td>1</td>\n",
       "      <td>31SH44000005.1</td>\n",
       "    </tr>\n",
       "    <tr>\n",
       "      <th>12</th>\n",
       "      <td>31SH44000005</td>\n",
       "      <td>18</td>\n",
       "      <td>3</td>\n",
       "      <td>31SH44000005.3</td>\n",
       "    </tr>\n",
       "    <tr>\n",
       "      <th>13</th>\n",
       "      <td>31SH44000005</td>\n",
       "      <td>18</td>\n",
       "      <td>2</td>\n",
       "      <td>31SH44000005.2</td>\n",
       "    </tr>\n",
       "  </tbody>\n",
       "</table>\n",
       "</div>"
      ],
      "text/plain": [
       "             FID  HERD   胎次            cowtai\n",
       "0   31SH44000004    18  666  31SH44000004.666\n",
       "9   31SH44000005    18  666  31SH44000005.666\n",
       "11  31SH44000005    18    1    31SH44000005.1\n",
       "12  31SH44000005    18    3    31SH44000005.3\n",
       "13  31SH44000005    18    2    31SH44000005.2"
      ]
     },
     "execution_count": 1195,
     "metadata": {},
     "output_type": "execute_result"
    }
   ],
   "source": [
    "cowtai.head()"
   ]
  },
  {
   "cell_type": "markdown",
   "metadata": {},
   "source": [
    "## 出生年月效应"
   ]
  },
  {
   "cell_type": "code",
   "execution_count": 1196,
   "metadata": {},
   "outputs": [
    {
     "name": "stderr",
     "output_type": "stream",
     "text": [
      "E:\\Anaconda\\lib\\site-packages\\ipykernel_launcher.py:3: SettingWithCopyWarning: \n",
      "A value is trying to be set on a copy of a slice from a DataFrame.\n",
      "Try using .loc[row_indexer,col_indexer] = value instead\n",
      "\n",
      "See the caveats in the documentation: http://pandas.pydata.org/pandas-docs/stable/indexing.html#indexing-view-versus-copy\n",
      "  This is separate from the ipykernel package so we can avoid doing imports until\n",
      "E:\\Anaconda\\lib\\site-packages\\ipykernel_launcher.py:5: SettingWithCopyWarning: \n",
      "A value is trying to be set on a copy of a slice from a DataFrame.\n",
      "Try using .loc[row_indexer,col_indexer] = value instead\n",
      "\n",
      "See the caveats in the documentation: http://pandas.pydata.org/pandas-docs/stable/indexing.html#indexing-view-versus-copy\n",
      "  \"\"\"\n",
      "E:\\Anaconda\\lib\\site-packages\\ipykernel_launcher.py:6: SettingWithCopyWarning: \n",
      "A value is trying to be set on a copy of a slice from a DataFrame.\n",
      "Try using .loc[row_indexer,col_indexer] = value instead\n",
      "\n",
      "See the caveats in the documentation: http://pandas.pydata.org/pandas-docs/stable/indexing.html#indexing-view-versus-copy\n",
      "  \n"
     ]
    }
   ],
   "source": [
    "birthYM=shdata_f[['FID','出生日期','HERD']]\n",
    "\n",
    "birthYM['HERD']=birthYM['HERD'].apply(lambda s :str(s))\n",
    "\n",
    "birthYM['YMB']=list(map(lambda s: str(s.year)+str(s.month),birthYM['出生日期']))\n",
    "birthYM['HYB']=birthYM['HERD']+list(map(lambda s: str(s.year),birthYM['出生日期']))\n",
    "\n",
    "BB=birthYM[['FID','YMB','HYB']].drop_duplicates(keep='first')"
   ]
  },
  {
   "cell_type": "code",
   "execution_count": 1197,
   "metadata": {},
   "outputs": [
    {
     "name": "stdout",
     "output_type": "stream",
     "text": [
      "<class 'pandas.core.frame.DataFrame'>\n",
      "Int64Index: 48121 entries, 0 to 325547\n",
      "Data columns (total 3 columns):\n",
      "FID    48121 non-null object\n",
      "YMB    48121 non-null object\n",
      "HYB    48121 non-null object\n",
      "dtypes: object(3)\n",
      "memory usage: 1.5+ MB\n"
     ]
    }
   ],
   "source": [
    "BB.info()"
   ]
  },
  {
   "cell_type": "code",
   "execution_count": 1198,
   "metadata": {},
   "outputs": [],
   "source": [
    "cowtai=pd.merge(cowtai,BB,on='FID',how='left')"
   ]
  },
  {
   "cell_type": "markdown",
   "metadata": {},
   "source": [
    "## 产犊年月效应"
   ]
  },
  {
   "cell_type": "code",
   "execution_count": 1199,
   "metadata": {},
   "outputs": [
    {
     "name": "stderr",
     "output_type": "stream",
     "text": [
      "E:\\Anaconda\\lib\\site-packages\\ipykernel_launcher.py:3: SettingWithCopyWarning: \n",
      "A value is trying to be set on a copy of a slice from a DataFrame.\n",
      "Try using .loc[row_indexer,col_indexer] = value instead\n",
      "\n",
      "See the caveats in the documentation: http://pandas.pydata.org/pandas-docs/stable/indexing.html#indexing-view-versus-copy\n",
      "  This is separate from the ipykernel package so we can avoid doing imports until\n",
      "E:\\Anaconda\\lib\\site-packages\\ipykernel_launcher.py:5: SettingWithCopyWarning: \n",
      "A value is trying to be set on a copy of a slice from a DataFrame.\n",
      "Try using .loc[row_indexer,col_indexer] = value instead\n",
      "\n",
      "See the caveats in the documentation: http://pandas.pydata.org/pandas-docs/stable/indexing.html#indexing-view-versus-copy\n",
      "  \"\"\"\n",
      "E:\\Anaconda\\lib\\site-packages\\ipykernel_launcher.py:6: SettingWithCopyWarning: \n",
      "A value is trying to be set on a copy of a slice from a DataFrame.\n",
      "Try using .loc[row_indexer,col_indexer] = value instead\n",
      "\n",
      "See the caveats in the documentation: http://pandas.pydata.org/pandas-docs/stable/indexing.html#indexing-view-versus-copy\n",
      "  \n"
     ]
    }
   ],
   "source": [
    "calveYM=shdata_f[['FID','cowtai','最近分娩','HERD']]\n",
    "\n",
    "calveYM['HERD']=calveYM['HERD'].apply(lambda s :str(s))\n",
    "\n",
    "calveYM['YMC']=list(map(lambda s: str(s.year)+str(s.month),calveYM['最近分娩']))\n",
    "calveYM['HYC']=calveYM['HERD']+list(map(lambda s: str(s.year),calveYM['最近分娩']))\n",
    "\n",
    "CC=calveYM[['cowtai','YMC','HYC']].drop_duplicates(keep='first')"
   ]
  },
  {
   "cell_type": "code",
   "execution_count": 1200,
   "metadata": {},
   "outputs": [
    {
     "name": "stdout",
     "output_type": "stream",
     "text": [
      "<class 'pandas.core.frame.DataFrame'>\n",
      "Int64Index: 73880 entries, 0 to 325547\n",
      "Data columns (total 3 columns):\n",
      "cowtai    73880 non-null object\n",
      "YMC       73880 non-null object\n",
      "HYC       73880 non-null object\n",
      "dtypes: object(3)\n",
      "memory usage: 2.3+ MB\n"
     ]
    }
   ],
   "source": [
    "CC.info()"
   ]
  },
  {
   "cell_type": "code",
   "execution_count": 1201,
   "metadata": {},
   "outputs": [],
   "source": [
    "cowtai=pd.merge(cowtai,CC,on='cowtai',how='left')"
   ]
  },
  {
   "cell_type": "markdown",
   "metadata": {},
   "source": [
    "## 配种年月效应"
   ]
  },
  {
   "cell_type": "code",
   "execution_count": 1202,
   "metadata": {},
   "outputs": [],
   "source": [
    "aiYM=shdata_f[['FID','cowtai','HERD']]"
   ]
  },
  {
   "cell_type": "code",
   "execution_count": 1203,
   "metadata": {},
   "outputs": [],
   "source": [
    "aiYM=pd.merge(aiYM,aim,on='cowtai',right_index=True)"
   ]
  },
  {
   "cell_type": "code",
   "execution_count": 1204,
   "metadata": {},
   "outputs": [],
   "source": [
    "aiYM['HERD']=aiYM['HERD'].apply(lambda s :str(s))\n",
    "\n",
    "aiYM['YMI']=list(map(lambda s: str(s.year)+str(s.month),aiYM['配种日期']))\n",
    "aiYM['HYI']=aiYM['HERD']+list(map(lambda s: str(s.year),aiYM['配种日期']))\n",
    "\n",
    "II=aiYM[['cowtai','YMI','HYI']].drop_duplicates(keep='first')"
   ]
  },
  {
   "cell_type": "code",
   "execution_count": 1205,
   "metadata": {},
   "outputs": [
    {
     "name": "stdout",
     "output_type": "stream",
     "text": [
      "<class 'pandas.core.frame.DataFrame'>\n",
      "Int64Index: 71675 entries, 0 to 325547\n",
      "Data columns (total 3 columns):\n",
      "cowtai    71675 non-null object\n",
      "YMI       71675 non-null object\n",
      "HYI       71675 non-null object\n",
      "dtypes: object(3)\n",
      "memory usage: 2.2+ MB\n"
     ]
    }
   ],
   "source": [
    "II.info()"
   ]
  },
  {
   "cell_type": "code",
   "execution_count": 1206,
   "metadata": {},
   "outputs": [],
   "source": [
    "cowtai=pd.merge(cowtai,II,on='cowtai',how='left')"
   ]
  },
  {
   "cell_type": "code",
   "execution_count": 1207,
   "metadata": {},
   "outputs": [
    {
     "name": "stdout",
     "output_type": "stream",
     "text": [
      "<class 'pandas.core.frame.DataFrame'>\n",
      "Int64Index: 75287 entries, 0 to 75286\n",
      "Data columns (total 10 columns):\n",
      "FID       75287 non-null object\n",
      "HERD      75287 non-null int64\n",
      "胎次        75287 non-null object\n",
      "cowtai    75287 non-null object\n",
      "YMB       75287 non-null object\n",
      "HYB       75287 non-null object\n",
      "YMC       75287 non-null object\n",
      "HYC       75287 non-null object\n",
      "YMI       75287 non-null object\n",
      "HYI       75287 non-null object\n",
      "dtypes: int64(1), object(9)\n",
      "memory usage: 6.3+ MB\n"
     ]
    }
   ],
   "source": [
    "cowtai.info()"
   ]
  },
  {
   "cell_type": "markdown",
   "metadata": {},
   "source": [
    "## 犊牛性别效应"
   ]
  },
  {
   "cell_type": "code",
   "execution_count": 1208,
   "metadata": {},
   "outputs": [
    {
     "name": "stdout",
     "output_type": "stream",
     "text": [
      "<class 'pandas.core.frame.DataFrame'>\n",
      "Int64Index: 20433 entries, 177 to 285112\n",
      "Data columns (total 2 columns):\n",
      "cowtai    20433 non-null object\n",
      "犊牛性别      20433 non-null float64\n",
      "dtypes: float64(1), object(1)\n",
      "memory usage: 478.9+ KB\n"
     ]
    }
   ],
   "source": [
    "CALF=shdata_f[['cowtai','犊牛性别']].dropna().drop_duplicates(keep='first')\n",
    "CALF.info()"
   ]
  },
  {
   "cell_type": "code",
   "execution_count": 1209,
   "metadata": {},
   "outputs": [],
   "source": [
    "cowtai=pd.merge(cowtai,CALF,on='cowtai',how='left')"
   ]
  },
  {
   "cell_type": "markdown",
   "metadata": {},
   "source": [
    "## 配种员效应"
   ]
  },
  {
   "cell_type": "code",
   "execution_count": 1210,
   "metadata": {},
   "outputs": [
    {
     "name": "stdout",
     "output_type": "stream",
     "text": [
      "<class 'pandas.core.frame.DataFrame'>\n",
      "Int64Index: 4708 entries, 0 to 134744\n",
      "Data columns (total 2 columns):\n",
      "cowtai    4708 non-null object\n",
      "配种员       4708 non-null object\n",
      "dtypes: object(2)\n",
      "memory usage: 110.3+ KB\n"
     ]
    }
   ],
   "source": [
    "AIP=shdata_f[['cowtai','配种员']].dropna().drop_duplicates(keep='first')\n",
    "AIP.info()"
   ]
  },
  {
   "cell_type": "code",
   "execution_count": 1211,
   "metadata": {},
   "outputs": [],
   "source": [
    "cowtai=pd.merge(cowtai,AIP,on='cowtai',how='left')"
   ]
  },
  {
   "cell_type": "code",
   "execution_count": 1212,
   "metadata": {},
   "outputs": [
    {
     "name": "stdout",
     "output_type": "stream",
     "text": [
      "<class 'pandas.core.frame.DataFrame'>\n",
      "Int64Index: 77274 entries, 0 to 77273\n",
      "Data columns (total 12 columns):\n",
      "FID       77274 non-null object\n",
      "HERD      77274 non-null int64\n",
      "胎次        77274 non-null object\n",
      "cowtai    77274 non-null object\n",
      "YMB       77274 non-null object\n",
      "HYB       77274 non-null object\n",
      "YMC       77274 non-null object\n",
      "HYC       77274 non-null object\n",
      "YMI       77274 non-null object\n",
      "HYI       77274 non-null object\n",
      "犊牛性别      24565 non-null float64\n",
      "配种员       4748 non-null object\n",
      "dtypes: float64(1), int64(1), object(10)\n",
      "memory usage: 7.7+ MB\n"
     ]
    }
   ],
   "source": [
    "cowtai.info()"
   ]
  },
  {
   "cell_type": "markdown",
   "metadata": {},
   "source": [
    "## 性状合并"
   ]
  },
  {
   "cell_type": "markdown",
   "metadata": {},
   "source": [
    "AFSS1,AFCC1,IFLL,ICF2,CE,SB"
   ]
  },
  {
   "cell_type": "code",
   "execution_count": 1253,
   "metadata": {},
   "outputs": [],
   "source": [
    "cowtai1=cowtai[:]"
   ]
  },
  {
   "cell_type": "code",
   "execution_count": 1254,
   "metadata": {},
   "outputs": [],
   "source": [
    "cowtai1=pd.merge(cowtai1,AFSS1,on='FID',how='left')\n",
    "cowtai1=pd.merge(cowtai1,AFCC1,on='FID',how='left')\n",
    "cowtai1=pd.merge(cowtai1,IFLL,on='cowtai',how='left')\n",
    "cowtai1=pd.merge(cowtai1,ICF2,on='cowtai',how='left')\n",
    "cowtai1=pd.merge(cowtai1,CE,on='cowtai',how='left')\n",
    "cowtai1=pd.merge(cowtai1,SB,on='cowtai',how='left')"
   ]
  },
  {
   "cell_type": "code",
   "execution_count": 1258,
   "metadata": {},
   "outputs": [],
   "source": [
    "cowtai1=cowtai1.drop_duplicates(keep='first',subset=['cowtai'])"
   ]
  },
  {
   "cell_type": "code",
   "execution_count": 1259,
   "metadata": {},
   "outputs": [
    {
     "data": {
      "text/plain": [
       "0.0    16962\n",
       "1.0     2635\n",
       "Name: 死胎, dtype: int64"
      ]
     },
     "execution_count": 1259,
     "metadata": {},
     "output_type": "execute_result"
    }
   ],
   "source": [
    "cowtai1['死胎'].value_counts()"
   ]
  },
  {
   "cell_type": "markdown",
   "metadata": {},
   "source": [
    "## 系谱合并"
   ]
  },
  {
   "cell_type": "code",
   "execution_count": 1260,
   "metadata": {},
   "outputs": [],
   "source": [
    "code=shdata_f[['FID','CODE','DAM','SIRE']].drop_duplicates(keep='first')"
   ]
  },
  {
   "cell_type": "code",
   "execution_count": 1265,
   "metadata": {},
   "outputs": [],
   "source": [
    "cowtai2=pd.merge(cowtai1,pedigree_sh,on='FID',how='left').dropna(subset=['CODE'])"
   ]
  },
  {
   "cell_type": "code",
   "execution_count": 1273,
   "metadata": {},
   "outputs": [
    {
     "name": "stdout",
     "output_type": "stream",
     "text": [
      "<class 'pandas.core.frame.DataFrame'>\n",
      "Int64Index: 71667 entries, 0 to 71674\n",
      "Data columns (total 22 columns):\n",
      "FID       71667 non-null object\n",
      "HERD      71667 non-null int64\n",
      "胎次        71667 non-null object\n",
      "cowtai    71667 non-null object\n",
      "YMB       71667 non-null object\n",
      "HYB       71667 non-null object\n",
      "YMC       71667 non-null object\n",
      "HYC       71667 non-null object\n",
      "YMI       71667 non-null object\n",
      "HYI       71667 non-null object\n",
      "犊牛性别      19869 non-null float64\n",
      "配种员       4482 non-null float64\n",
      "AFS       13208 non-null float64\n",
      "AFC       26887 non-null float64\n",
      "IFL       30706 non-null float64\n",
      "ICF       23451 non-null float64\n",
      "产犊评分      11754 non-null float64\n",
      "死胎        19593 non-null float64\n",
      "出生日期      67886 non-null object\n",
      "CODE      71667 non-null float64\n",
      "DAM       59492 non-null float64\n",
      "SIRE      65967 non-null float64\n",
      "dtypes: float64(11), int64(1), object(10)\n",
      "memory usage: 12.6+ MB\n"
     ]
    }
   ],
   "source": [
    "cowtai2.info()"
   ]
  },
  {
   "cell_type": "code",
   "execution_count": 1267,
   "metadata": {},
   "outputs": [],
   "source": [
    "lbl = preprocessing.LabelEncoder()\n",
    "lbl.fit(list(cowtai2['配种员'].values.astype('str')))\n",
    "cowtai2['配种员'] = lbl.transform(list(cowtai2['配种员'].values.astype('str')))"
   ]
  },
  {
   "cell_type": "code",
   "execution_count": 1271,
   "metadata": {},
   "outputs": [],
   "source": [
    "cowtai2['配种员']=cowtai2['配种员'].apply(lambda s :np.nan if s==4 else s)"
   ]
  },
  {
   "cell_type": "code",
   "execution_count": 1272,
   "metadata": {},
   "outputs": [
    {
     "data": {
      "text/plain": [
       "7.0    1751\n",
       "0.0    1075\n",
       "1.0    1032\n",
       "5.0     239\n",
       "6.0     232\n",
       "2.0     100\n",
       "3.0      53\n",
       "Name: 配种员, dtype: int64"
      ]
     },
     "execution_count": 1272,
     "metadata": {},
     "output_type": "execute_result"
    }
   ],
   "source": [
    "cowtai2['配种员'].value_counts()"
   ]
  },
  {
   "cell_type": "markdown",
   "metadata": {},
   "source": [
    "# 文件生成"
   ]
  },
  {
   "cell_type": "code",
   "execution_count": 1342,
   "metadata": {},
   "outputs": [],
   "source": [
    "cowtai2['HYB'] = cowtai2['HYB'].apply(lambda s: 66666 if pd.isnull(s) else s)\n",
    "cowtai2['YMB'] = cowtai2['YMB'].apply(lambda s: 66666 if pd.isnull(s) else s)\n",
    "cowtai2['HYI'] = cowtai2['HYI'].apply(lambda s: 66666 if pd.isnull(s) else s)\n",
    "cowtai2['YMI'] = cowtai2['YMI'].apply(lambda s: 66666 if pd.isnull(s) else s)\n",
    "cowtai2['HYC'] = cowtai2['HYC'].apply(lambda s: 66666 if pd.isnull(s) else s)\n",
    "cowtai2['YMC'] = cowtai2['YMC'].apply(lambda s: 66666 if pd.isnull(s) else s)\n",
    "cowtai2['ICF'] = cowtai2['ICF'].apply(lambda s: '-9999' if pd.isnull(s) else s)\n",
    "cowtai2['IFL'] = cowtai2['IFL'].apply(lambda s: '-9999' if pd.isnull(s) else s)\n",
    "cowtai2['AFS'] = cowtai2['AFS'].apply(lambda s: '-9999' if pd.isnull(s) else s)\n",
    "cowtai2['AFC'] = cowtai2['AFC'].apply(lambda s: '-9999' if pd.isnull(s) else s)\n",
    "cowtai2['产犊评分'] = cowtai2['产犊评分'].apply(lambda s: '-9999' if pd.isnull(s) else s)\n",
    "cowtai2['死胎'] = cowtai2['死胎'].apply(lambda s: '-9999' if pd.isnull(s) else s)"
   ]
  },
  {
   "cell_type": "code",
   "execution_count": 1340,
   "metadata": {},
   "outputs": [
    {
     "ename": "TypeError",
     "evalue": "argument of type 'int' is not iterable",
     "output_type": "error",
     "traceback": [
      "\u001b[1;31m---------------------------------------------------------------------------\u001b[0m",
      "\u001b[1;31mTypeError\u001b[0m                                 Traceback (most recent call last)",
      "\u001b[1;32m<ipython-input-1340-1c6722b572ed>\u001b[0m in \u001b[0;36m<module>\u001b[1;34m()\u001b[0m\n\u001b[1;32m----> 1\u001b[1;33m \u001b[0mcowtai2\u001b[0m\u001b[1;33m[\u001b[0m\u001b[1;34m'HYB'\u001b[0m\u001b[1;33m]\u001b[0m \u001b[1;33m=\u001b[0m \u001b[0mcowtai2\u001b[0m\u001b[1;33m[\u001b[0m\u001b[1;34m'HYB'\u001b[0m\u001b[1;33m]\u001b[0m\u001b[1;33m.\u001b[0m\u001b[0mapply\u001b[0m\u001b[1;33m(\u001b[0m\u001b[1;32mlambda\u001b[0m \u001b[0ms\u001b[0m \u001b[1;33m:\u001b[0m \u001b[1;36m66666\u001b[0m \u001b[1;32mif\u001b[0m \u001b[1;34m'nan'\u001b[0m \u001b[1;32min\u001b[0m \u001b[0ms\u001b[0m  \u001b[1;32melse\u001b[0m \u001b[0ms\u001b[0m\u001b[1;33m)\u001b[0m\u001b[1;33m\u001b[0m\u001b[0m\n\u001b[0m\u001b[0;32m      2\u001b[0m \u001b[0mcowtai2\u001b[0m\u001b[1;33m[\u001b[0m\u001b[1;34m'YMB'\u001b[0m\u001b[1;33m]\u001b[0m \u001b[1;33m=\u001b[0m \u001b[0mcowtai2\u001b[0m\u001b[1;33m[\u001b[0m\u001b[1;34m'YMB'\u001b[0m\u001b[1;33m]\u001b[0m\u001b[1;33m.\u001b[0m\u001b[0mapply\u001b[0m\u001b[1;33m(\u001b[0m\u001b[1;32mlambda\u001b[0m \u001b[0ms\u001b[0m \u001b[1;33m:\u001b[0m \u001b[1;36m66666\u001b[0m \u001b[1;32mif\u001b[0m \u001b[1;34m'nan'\u001b[0m \u001b[1;32min\u001b[0m \u001b[0ms\u001b[0m  \u001b[1;32melse\u001b[0m \u001b[0ms\u001b[0m\u001b[1;33m)\u001b[0m\u001b[1;33m\u001b[0m\u001b[0m\n\u001b[0;32m      3\u001b[0m \u001b[0mcowtai2\u001b[0m\u001b[1;33m[\u001b[0m\u001b[1;34m'HYI'\u001b[0m\u001b[1;33m]\u001b[0m \u001b[1;33m=\u001b[0m \u001b[0mcowtai2\u001b[0m\u001b[1;33m[\u001b[0m\u001b[1;34m'HYI'\u001b[0m\u001b[1;33m]\u001b[0m\u001b[1;33m.\u001b[0m\u001b[0mapply\u001b[0m\u001b[1;33m(\u001b[0m\u001b[1;32mlambda\u001b[0m \u001b[0ms\u001b[0m \u001b[1;33m:\u001b[0m \u001b[1;36m66666\u001b[0m \u001b[1;32mif\u001b[0m \u001b[1;34m'nan'\u001b[0m \u001b[1;32min\u001b[0m \u001b[0ms\u001b[0m  \u001b[1;32melse\u001b[0m \u001b[0ms\u001b[0m\u001b[1;33m)\u001b[0m\u001b[1;33m\u001b[0m\u001b[0m\n\u001b[0;32m      4\u001b[0m \u001b[0mcowtai2\u001b[0m\u001b[1;33m[\u001b[0m\u001b[1;34m'YMI'\u001b[0m\u001b[1;33m]\u001b[0m \u001b[1;33m=\u001b[0m \u001b[0mcowtai2\u001b[0m\u001b[1;33m[\u001b[0m\u001b[1;34m'YMI'\u001b[0m\u001b[1;33m]\u001b[0m\u001b[1;33m.\u001b[0m\u001b[0mapply\u001b[0m\u001b[1;33m(\u001b[0m\u001b[1;32mlambda\u001b[0m \u001b[0ms\u001b[0m \u001b[1;33m:\u001b[0m \u001b[1;36m66666\u001b[0m \u001b[1;32mif\u001b[0m \u001b[1;34m'nan'\u001b[0m \u001b[1;32min\u001b[0m \u001b[0ms\u001b[0m  \u001b[1;32melse\u001b[0m \u001b[0ms\u001b[0m\u001b[1;33m)\u001b[0m\u001b[1;33m\u001b[0m\u001b[0m\n\u001b[0;32m      5\u001b[0m \u001b[0mcowtai2\u001b[0m\u001b[1;33m[\u001b[0m\u001b[1;34m'HYC'\u001b[0m\u001b[1;33m]\u001b[0m \u001b[1;33m=\u001b[0m \u001b[0mcowtai2\u001b[0m\u001b[1;33m[\u001b[0m\u001b[1;34m'HYC'\u001b[0m\u001b[1;33m]\u001b[0m\u001b[1;33m.\u001b[0m\u001b[0mapply\u001b[0m\u001b[1;33m(\u001b[0m\u001b[1;32mlambda\u001b[0m \u001b[0ms\u001b[0m \u001b[1;33m:\u001b[0m \u001b[1;36m66666\u001b[0m \u001b[1;32mif\u001b[0m \u001b[1;34m'nan'\u001b[0m \u001b[1;32min\u001b[0m \u001b[0ms\u001b[0m  \u001b[1;32melse\u001b[0m \u001b[0ms\u001b[0m\u001b[1;33m)\u001b[0m\u001b[1;33m\u001b[0m\u001b[0m\n",
      "\u001b[1;32mE:\\Anaconda\\lib\\site-packages\\pandas\\core\\series.py\u001b[0m in \u001b[0;36mapply\u001b[1;34m(self, func, convert_dtype, args, **kwds)\u001b[0m\n\u001b[0;32m   3192\u001b[0m             \u001b[1;32melse\u001b[0m\u001b[1;33m:\u001b[0m\u001b[1;33m\u001b[0m\u001b[0m\n\u001b[0;32m   3193\u001b[0m                 \u001b[0mvalues\u001b[0m \u001b[1;33m=\u001b[0m \u001b[0mself\u001b[0m\u001b[1;33m.\u001b[0m\u001b[0mastype\u001b[0m\u001b[1;33m(\u001b[0m\u001b[0mobject\u001b[0m\u001b[1;33m)\u001b[0m\u001b[1;33m.\u001b[0m\u001b[0mvalues\u001b[0m\u001b[1;33m\u001b[0m\u001b[0m\n\u001b[1;32m-> 3194\u001b[1;33m                 \u001b[0mmapped\u001b[0m \u001b[1;33m=\u001b[0m \u001b[0mlib\u001b[0m\u001b[1;33m.\u001b[0m\u001b[0mmap_infer\u001b[0m\u001b[1;33m(\u001b[0m\u001b[0mvalues\u001b[0m\u001b[1;33m,\u001b[0m \u001b[0mf\u001b[0m\u001b[1;33m,\u001b[0m \u001b[0mconvert\u001b[0m\u001b[1;33m=\u001b[0m\u001b[0mconvert_dtype\u001b[0m\u001b[1;33m)\u001b[0m\u001b[1;33m\u001b[0m\u001b[0m\n\u001b[0m\u001b[0;32m   3195\u001b[0m \u001b[1;33m\u001b[0m\u001b[0m\n\u001b[0;32m   3196\u001b[0m         \u001b[1;32mif\u001b[0m \u001b[0mlen\u001b[0m\u001b[1;33m(\u001b[0m\u001b[0mmapped\u001b[0m\u001b[1;33m)\u001b[0m \u001b[1;32mand\u001b[0m \u001b[0misinstance\u001b[0m\u001b[1;33m(\u001b[0m\u001b[0mmapped\u001b[0m\u001b[1;33m[\u001b[0m\u001b[1;36m0\u001b[0m\u001b[1;33m]\u001b[0m\u001b[1;33m,\u001b[0m \u001b[0mSeries\u001b[0m\u001b[1;33m)\u001b[0m\u001b[1;33m:\u001b[0m\u001b[1;33m\u001b[0m\u001b[0m\n",
      "\u001b[1;32mpandas/_libs/src\\inference.pyx\u001b[0m in \u001b[0;36mpandas._libs.lib.map_infer\u001b[1;34m()\u001b[0m\n",
      "\u001b[1;32m<ipython-input-1340-1c6722b572ed>\u001b[0m in \u001b[0;36m<lambda>\u001b[1;34m(s)\u001b[0m\n\u001b[1;32m----> 1\u001b[1;33m \u001b[0mcowtai2\u001b[0m\u001b[1;33m[\u001b[0m\u001b[1;34m'HYB'\u001b[0m\u001b[1;33m]\u001b[0m \u001b[1;33m=\u001b[0m \u001b[0mcowtai2\u001b[0m\u001b[1;33m[\u001b[0m\u001b[1;34m'HYB'\u001b[0m\u001b[1;33m]\u001b[0m\u001b[1;33m.\u001b[0m\u001b[0mapply\u001b[0m\u001b[1;33m(\u001b[0m\u001b[1;32mlambda\u001b[0m \u001b[0ms\u001b[0m \u001b[1;33m:\u001b[0m \u001b[1;36m66666\u001b[0m \u001b[1;32mif\u001b[0m \u001b[1;34m'nan'\u001b[0m \u001b[1;32min\u001b[0m \u001b[0ms\u001b[0m  \u001b[1;32melse\u001b[0m \u001b[0ms\u001b[0m\u001b[1;33m)\u001b[0m\u001b[1;33m\u001b[0m\u001b[0m\n\u001b[0m\u001b[0;32m      2\u001b[0m \u001b[0mcowtai2\u001b[0m\u001b[1;33m[\u001b[0m\u001b[1;34m'YMB'\u001b[0m\u001b[1;33m]\u001b[0m \u001b[1;33m=\u001b[0m \u001b[0mcowtai2\u001b[0m\u001b[1;33m[\u001b[0m\u001b[1;34m'YMB'\u001b[0m\u001b[1;33m]\u001b[0m\u001b[1;33m.\u001b[0m\u001b[0mapply\u001b[0m\u001b[1;33m(\u001b[0m\u001b[1;32mlambda\u001b[0m \u001b[0ms\u001b[0m \u001b[1;33m:\u001b[0m \u001b[1;36m66666\u001b[0m \u001b[1;32mif\u001b[0m \u001b[1;34m'nan'\u001b[0m \u001b[1;32min\u001b[0m \u001b[0ms\u001b[0m  \u001b[1;32melse\u001b[0m \u001b[0ms\u001b[0m\u001b[1;33m)\u001b[0m\u001b[1;33m\u001b[0m\u001b[0m\n\u001b[0;32m      3\u001b[0m \u001b[0mcowtai2\u001b[0m\u001b[1;33m[\u001b[0m\u001b[1;34m'HYI'\u001b[0m\u001b[1;33m]\u001b[0m \u001b[1;33m=\u001b[0m \u001b[0mcowtai2\u001b[0m\u001b[1;33m[\u001b[0m\u001b[1;34m'HYI'\u001b[0m\u001b[1;33m]\u001b[0m\u001b[1;33m.\u001b[0m\u001b[0mapply\u001b[0m\u001b[1;33m(\u001b[0m\u001b[1;32mlambda\u001b[0m \u001b[0ms\u001b[0m \u001b[1;33m:\u001b[0m \u001b[1;36m66666\u001b[0m \u001b[1;32mif\u001b[0m \u001b[1;34m'nan'\u001b[0m \u001b[1;32min\u001b[0m \u001b[0ms\u001b[0m  \u001b[1;32melse\u001b[0m \u001b[0ms\u001b[0m\u001b[1;33m)\u001b[0m\u001b[1;33m\u001b[0m\u001b[0m\n\u001b[0;32m      4\u001b[0m \u001b[0mcowtai2\u001b[0m\u001b[1;33m[\u001b[0m\u001b[1;34m'YMI'\u001b[0m\u001b[1;33m]\u001b[0m \u001b[1;33m=\u001b[0m \u001b[0mcowtai2\u001b[0m\u001b[1;33m[\u001b[0m\u001b[1;34m'YMI'\u001b[0m\u001b[1;33m]\u001b[0m\u001b[1;33m.\u001b[0m\u001b[0mapply\u001b[0m\u001b[1;33m(\u001b[0m\u001b[1;32mlambda\u001b[0m \u001b[0ms\u001b[0m \u001b[1;33m:\u001b[0m \u001b[1;36m66666\u001b[0m \u001b[1;32mif\u001b[0m \u001b[1;34m'nan'\u001b[0m \u001b[1;32min\u001b[0m \u001b[0ms\u001b[0m  \u001b[1;32melse\u001b[0m \u001b[0ms\u001b[0m\u001b[1;33m)\u001b[0m\u001b[1;33m\u001b[0m\u001b[0m\n\u001b[0;32m      5\u001b[0m \u001b[0mcowtai2\u001b[0m\u001b[1;33m[\u001b[0m\u001b[1;34m'HYC'\u001b[0m\u001b[1;33m]\u001b[0m \u001b[1;33m=\u001b[0m \u001b[0mcowtai2\u001b[0m\u001b[1;33m[\u001b[0m\u001b[1;34m'HYC'\u001b[0m\u001b[1;33m]\u001b[0m\u001b[1;33m.\u001b[0m\u001b[0mapply\u001b[0m\u001b[1;33m(\u001b[0m\u001b[1;32mlambda\u001b[0m \u001b[0ms\u001b[0m \u001b[1;33m:\u001b[0m \u001b[1;36m66666\u001b[0m \u001b[1;32mif\u001b[0m \u001b[1;34m'nan'\u001b[0m \u001b[1;32min\u001b[0m \u001b[0ms\u001b[0m  \u001b[1;32melse\u001b[0m \u001b[0ms\u001b[0m\u001b[1;33m)\u001b[0m\u001b[1;33m\u001b[0m\u001b[0m\n",
      "\u001b[1;31mTypeError\u001b[0m: argument of type 'int' is not iterable"
     ]
    }
   ],
   "source": [
    "cowtai2['HYB'] = cowtai2['HYB'].apply(lambda s : 66666 if 'nan' in s  else s)\n",
    "cowtai2['YMB'] = cowtai2['YMB'].apply(lambda s : 66666 if 'nan' in s  else s)\n",
    "cowtai2['HYI'] = cowtai2['HYI'].apply(lambda s : 66666 if 'nan' in s  else s)\n",
    "cowtai2['YMI'] = cowtai2['YMI'].apply(lambda s : 66666 if 'nan' in s  else s)\n",
    "cowtai2['HYC'] = cowtai2['HYC'].apply(lambda s : 66666 if 'nan' in s  else s)\n",
    "cowtai2['YMC'] = cowtai2['YMC'].apply(lambda s : 66666 if 'nan' in s  else s)"
   ]
  },
  {
   "cell_type": "code",
   "execution_count": 1368,
   "metadata": {},
   "outputs": [
    {
     "name": "stdout",
     "output_type": "stream",
     "text": [
      "<class 'pandas.core.frame.DataFrame'>\n",
      "Int64Index: 71667 entries, 0 to 71674\n",
      "Data columns (total 22 columns):\n",
      "FID       71667 non-null object\n",
      "HERD      71667 non-null int64\n",
      "胎次        71667 non-null int64\n",
      "cowtai    71667 non-null object\n",
      "YMB       71667 non-null object\n",
      "HYB       71667 non-null object\n",
      "YMC       71667 non-null object\n",
      "HYC       71667 non-null object\n",
      "YMI       71667 non-null object\n",
      "HYI       71667 non-null object\n",
      "犊牛性别      71667 non-null int64\n",
      "配种员       71667 non-null int64\n",
      "AFS       71667 non-null object\n",
      "AFC       71667 non-null object\n",
      "IFL       71667 non-null object\n",
      "ICF       71667 non-null object\n",
      "产犊评分      71667 non-null object\n",
      "死胎        71667 non-null object\n",
      "出生日期      67886 non-null object\n",
      "CODE      71667 non-null int64\n",
      "DAM       71667 non-null int64\n",
      "SIRE      71667 non-null int64\n",
      "dtypes: int64(7), object(15)\n",
      "memory usage: 12.6+ MB\n"
     ]
    }
   ],
   "source": [
    "cowtai2['犊牛性别']=cowtai2['犊牛性别'].apply(lambda s : 666666 if pd.isnull(s) else int(s))\n",
    "cowtai2['配种员']=cowtai2['配种员'].apply(lambda s :666666 if pd.isnull(s) else int(s))\n",
    "cowtai2['CODE']=cowtai2['CODE'].apply(lambda s :s if pd.isnull(s) else int(s))\n",
    "cowtai2['DAM']=cowtai2['DAM'].apply(lambda s :0 if pd.isnull(s) else int(s))\n",
    "cowtai2['SIRE']=cowtai2['SIRE'].apply(lambda s :0 if pd.isnull(s) else int(s))\n",
    "cowtai2.info()"
   ]
  },
  {
   "cell_type": "markdown",
   "metadata": {},
   "source": [
    "## 青年牛"
   ]
  },
  {
   "cell_type": "code",
   "execution_count": 1369,
   "metadata": {},
   "outputs": [
    {
     "name": "stdout",
     "output_type": "stream",
     "text": [
      "<class 'pandas.core.frame.DataFrame'>\n",
      "Int64Index: 47661 entries, 0 to 71674\n",
      "Data columns (total 6 columns):\n",
      "HYB     47661 non-null object\n",
      "YMB     47661 non-null object\n",
      "配种员     47661 non-null int64\n",
      "CODE    47661 non-null int64\n",
      "AFS     47661 non-null object\n",
      "AFC     47661 non-null object\n",
      "dtypes: int64(2), object(4)\n",
      "memory usage: 2.5+ MB\n"
     ]
    }
   ],
   "source": [
    "heifera=cowtai2[['HYB','YMB','配种员','CODE','AFS','AFC']].drop_duplicates(keep='first',subset=['CODE'])\n",
    "heifera.info()"
   ]
  },
  {
   "cell_type": "code",
   "execution_count": 1370,
   "metadata": {},
   "outputs": [
    {
     "name": "stdout",
     "output_type": "stream",
     "text": [
      "<class 'pandas.core.frame.DataFrame'>\n",
      "Int64Index: 35276 entries, 21932 to 71674\n",
      "Data columns (total 5 columns):\n",
      "HYI     35276 non-null object\n",
      "YMI     35276 non-null object\n",
      "ST      35276 non-null int64\n",
      "CODE    35276 non-null int64\n",
      "IFL     35276 non-null object\n",
      "dtypes: int64(2), object(3)\n",
      "memory usage: 1.6+ MB\n"
     ]
    }
   ],
   "source": [
    "cowtai2['胎次']=cowtai2['胎次'].apply(lambda s :str(s))\n",
    "iflh=cowtai2[cowtai2['胎次']=='0'][['HYI','YMI','配种员','CODE','IFL']]\n",
    "iflh.rename(columns={'配种员':'ST'},inplace=True)\n",
    "iflh.info()"
   ]
  },
  {
   "cell_type": "code",
   "execution_count": 1371,
   "metadata": {},
   "outputs": [],
   "source": [
    "heiferb=pd.merge(heifera,iflh,on='CODE',how='outer')"
   ]
  },
  {
   "cell_type": "code",
   "execution_count": 1372,
   "metadata": {},
   "outputs": [],
   "source": [
    "heiferb.loc[heiferb['ST'].isnull(),'ST']=heiferb[heiferb['ST'].isnull()]['配种员'] \n",
    "del heiferb['配种员']"
   ]
  },
  {
   "cell_type": "code",
   "execution_count": 1373,
   "metadata": {},
   "outputs": [],
   "source": [
    "heiferb=heiferb[['HYB','YMB','HYI','YMI','ST','CODE','AFS','AFC','IFL']]"
   ]
  },
  {
   "cell_type": "code",
   "execution_count": 1374,
   "metadata": {},
   "outputs": [
    {
     "name": "stdout",
     "output_type": "stream",
     "text": [
      "<class 'pandas.core.frame.DataFrame'>\n",
      "Int64Index: 47661 entries, 0 to 47660\n",
      "Data columns (total 9 columns):\n",
      "HYB     47661 non-null object\n",
      "YMB     47661 non-null object\n",
      "HYI     35276 non-null object\n",
      "YMI     35276 non-null object\n",
      "ST      47661 non-null float64\n",
      "CODE    47661 non-null int64\n",
      "AFS     47661 non-null object\n",
      "AFC     47661 non-null object\n",
      "IFL     35276 non-null object\n",
      "dtypes: float64(1), int64(1), object(7)\n",
      "memory usage: 3.6+ MB\n"
     ]
    }
   ],
   "source": [
    "heiferb.info()"
   ]
  },
  {
   "cell_type": "code",
   "execution_count": 1375,
   "metadata": {
    "scrolled": true
   },
   "outputs": [
    {
     "name": "stdout",
     "output_type": "stream",
     "text": [
      "<class 'pandas.core.frame.DataFrame'>\n",
      "Int64Index: 17366 entries, 2 to 41822\n",
      "Data columns (total 7 columns):\n",
      "HYC     17366 non-null object\n",
      "YMC     17366 non-null object\n",
      "犊牛性别    17366 non-null int64\n",
      "DAM     17366 non-null int64\n",
      "CODE    17366 non-null int64\n",
      "死胎      17366 non-null object\n",
      "产犊评分    17366 non-null object\n",
      "dtypes: int64(3), object(4)\n",
      "memory usage: 1.1+ MB\n"
     ]
    }
   ],
   "source": [
    "heifersb=cowtai2[cowtai2['胎次']=='1'][['HYC','YMC','犊牛性别','DAM','CODE','死胎','产犊评分']]\n",
    "heifersb.info()"
   ]
  },
  {
   "cell_type": "code",
   "execution_count": 1376,
   "metadata": {},
   "outputs": [],
   "source": [
    "heiferb.to_csv('F:\\\\data-SH\\\\heifera.txt',sep=' ',header=False,index=False,encoding='utf_8_sig')\n",
    "heifersb.to_csv('F:\\\\data-SH\\\\heifersb.txt',sep=' ',header=False,index=False,encoding='utf_8_sig')"
   ]
  },
  {
   "cell_type": "markdown",
   "metadata": {},
   "source": [
    "## 经产牛"
   ]
  },
  {
   "cell_type": "code",
   "execution_count": 1377,
   "metadata": {},
   "outputs": [],
   "source": [
    "cowa=cowtai2[cowtai2['胎次']!='0'][['HYI','YMI','HYC','YMC','配种员','胎次','CODE','IFL','ICF']]"
   ]
  },
  {
   "cell_type": "code",
   "execution_count": 1378,
   "metadata": {},
   "outputs": [
    {
     "name": "stdout",
     "output_type": "stream",
     "text": [
      "<class 'pandas.core.frame.DataFrame'>\n",
      "Int64Index: 36391 entries, 0 to 41822\n",
      "Data columns (total 9 columns):\n",
      "HYI     36391 non-null object\n",
      "YMI     36391 non-null object\n",
      "HYC     36391 non-null object\n",
      "YMC     36391 non-null object\n",
      "配种员     36391 non-null int64\n",
      "胎次      36391 non-null object\n",
      "CODE    36391 non-null int64\n",
      "IFL     36391 non-null object\n",
      "ICF     36391 non-null object\n",
      "dtypes: int64(2), object(7)\n",
      "memory usage: 2.8+ MB\n"
     ]
    }
   ],
   "source": [
    "cowa.info()"
   ]
  },
  {
   "cell_type": "code",
   "execution_count": 1389,
   "metadata": {},
   "outputs": [
    {
     "name": "stdout",
     "output_type": "stream",
     "text": [
      "<class 'pandas.core.frame.DataFrame'>\n",
      "Int64Index: 19025 entries, 0 to 41707\n",
      "Data columns (total 8 columns):\n",
      "HYC     19025 non-null object\n",
      "YMC     19025 non-null object\n",
      "胎次      19025 non-null int64\n",
      "犊牛性别    19025 non-null int64\n",
      "DAM     19025 non-null int64\n",
      "CODE    19025 non-null int64\n",
      "死胎      19025 non-null object\n",
      "产犊评分    19025 non-null object\n",
      "dtypes: int64(4), object(4)\n",
      "memory usage: 1.3+ MB\n"
     ]
    }
   ],
   "source": [
    "cowtai2['胎次']=cowtai2['胎次'].apply(lambda s :int(s))\n",
    "cowsb=cowtai2[cowtai2['胎次']>1][['HYC','YMC','胎次','犊牛性别','DAM','CODE','死胎','产犊评分']]\n",
    "cowsb.info()"
   ]
  },
  {
   "cell_type": "code",
   "execution_count": 1390,
   "metadata": {},
   "outputs": [],
   "source": [
    "cowa.to_csv('F:\\\\data-SH\\\\cowa.txt',sep=' ',header=False,index=False,encoding='utf_8_sig')\n",
    "cowsb.to_csv('F:\\\\data-SH\\\\cowsb.txt',sep=' ',header=False,index=False,encoding='utf_8_sig')"
   ]
  },
  {
   "cell_type": "markdown",
   "metadata": {},
   "source": [
    "## 系谱"
   ]
  },
  {
   "cell_type": "code",
   "execution_count": 1386,
   "metadata": {},
   "outputs": [],
   "source": [
    "ped=pedigree_sh[['CODE','SIRE','DAM','出生日期']]"
   ]
  },
  {
   "cell_type": "code",
   "execution_count": 1387,
   "metadata": {},
   "outputs": [
    {
     "name": "stderr",
     "output_type": "stream",
     "text": [
      "E:\\Anaconda\\lib\\site-packages\\ipykernel_launcher.py:1: SettingWithCopyWarning: \n",
      "A value is trying to be set on a copy of a slice from a DataFrame.\n",
      "Try using .loc[row_indexer,col_indexer] = value instead\n",
      "\n",
      "See the caveats in the documentation: http://pandas.pydata.org/pandas-docs/stable/indexing.html#indexing-view-versus-copy\n",
      "  \"\"\"Entry point for launching an IPython kernel.\n",
      "E:\\Anaconda\\lib\\site-packages\\ipykernel_launcher.py:2: SettingWithCopyWarning: \n",
      "A value is trying to be set on a copy of a slice from a DataFrame.\n",
      "Try using .loc[row_indexer,col_indexer] = value instead\n",
      "\n",
      "See the caveats in the documentation: http://pandas.pydata.org/pandas-docs/stable/indexing.html#indexing-view-versus-copy\n",
      "  \n",
      "E:\\Anaconda\\lib\\site-packages\\ipykernel_launcher.py:3: SettingWithCopyWarning: \n",
      "A value is trying to be set on a copy of a slice from a DataFrame.\n",
      "Try using .loc[row_indexer,col_indexer] = value instead\n",
      "\n",
      "See the caveats in the documentation: http://pandas.pydata.org/pandas-docs/stable/indexing.html#indexing-view-versus-copy\n",
      "  This is separate from the ipykernel package so we can avoid doing imports until\n"
     ]
    }
   ],
   "source": [
    "ped['CODE']=ped['CODE'].astype(int)\n",
    "ped['SIRE']=ped['SIRE'].apply(lambda s :0 if pd.isnull(s) else int(s))\n",
    "ped['DAM']=ped['DAM'].apply(lambda s :0 if pd.isnull(s) else int(s))"
   ]
  },
  {
   "cell_type": "code",
   "execution_count": 1388,
   "metadata": {},
   "outputs": [],
   "source": [
    "ped.to_csv('F:\\\\data-SH\\\\pedigree.txt',sep=' ',header=False,index=False,encoding='utf_8_sig')"
   ]
  }
 ],
 "metadata": {
  "kernelspec": {
   "display_name": "Python 3",
   "language": "python",
   "name": "python3"
  },
  "language_info": {
   "codemirror_mode": {
    "name": "ipython",
    "version": 3
   },
   "file_extension": ".py",
   "mimetype": "text/x-python",
   "name": "python",
   "nbconvert_exporter": "python",
   "pygments_lexer": "ipython3",
   "version": "3.6.4"
  },
  "toc": {
   "base_numbering": 1,
   "nav_menu": {},
   "number_sections": true,
   "sideBar": true,
   "skip_h1_title": false,
   "title_cell": "Table of Contents",
   "title_sidebar": "Contents",
   "toc_cell": false,
   "toc_position": {
    "height": "calc(100% - 180px)",
    "left": "10px",
    "top": "150px",
    "width": "165px"
   },
   "toc_section_display": true,
   "toc_window_display": true
  }
 },
 "nbformat": 4,
 "nbformat_minor": 2
}
