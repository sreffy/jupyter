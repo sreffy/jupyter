{
 "cells": [
  {
   "cell_type": "code",
   "execution_count": 2,
   "metadata": {},
   "outputs": [],
   "source": [
    "#coding:utf-8\n",
    "import pandas as pd\n",
    "import numpy as np\n",
    "import seaborn as sns\n",
    "import matplotlib.pyplot as plt\n",
    "import os\n",
    "import xlrd\n",
    "import shutil\n",
    "\n",
    "plt.rcParams['font.sans-serif']=['SimHei']\n",
    "plt.rcParams['axes.unicode_minus'] = False"
   ]
  },
  {
   "cell_type": "markdown",
   "metadata": {},
   "source": [
    "__目前进度：1部产犊记录，2部产犊记录__\n",
    "\n",
    "__需整理:\n",
    "1.3部产犊记录，2.各部配种记录明细__"
   ]
  },
  {
   "cell_type": "markdown",
   "metadata": {},
   "source": [
    "# 一部产犊记录整理"
   ]
  },
  {
   "cell_type": "code",
   "execution_count": 30,
   "metadata": {},
   "outputs": [],
   "source": [
    "path='F:\\\\data-SH\\\\fertility data17.6\\\\sum-yibu\\\\'\n",
    "files=os.listdir(path)"
   ]
  },
  {
   "cell_type": "code",
   "execution_count": 31,
   "metadata": {},
   "outputs": [
    {
     "data": {
      "text/plain": [
       "305"
      ]
     },
     "execution_count": 31,
     "metadata": {},
     "output_type": "execute_result"
    }
   ],
   "source": [
    "len(files)"
   ]
  },
  {
   "cell_type": "code",
   "execution_count": 32,
   "metadata": {},
   "outputs": [],
   "source": [
    "SaveFile_Path='F:\\\\data-SH\\\\fertility data17.6'\n",
    "SaveFile_Name='calve.csv'  "
   ]
  },
  {
   "cell_type": "code",
   "execution_count": 34,
   "metadata": {},
   "outputs": [
    {
     "name": "stderr",
     "output_type": "stream",
     "text": [
      "E:\\Anaconda\\lib\\site-packages\\ipykernel_launcher.py:4: FutureWarning: \n",
      "Passing list-likes to .loc or [] with any missing label will raise\n",
      "KeyError in the future, you can use .reindex() as an alternative.\n",
      "\n",
      "See the documentation here:\n",
      "http://pandas.pydata.org/pandas-docs/stable/indexing.html#deprecate-loc-reindex-listlike\n",
      "  after removing the cwd from sys.path.\n",
      "E:\\Anaconda\\lib\\site-packages\\pandas\\core\\indexing.py:1367: FutureWarning: \n",
      "Passing list-likes to .loc or [] with any missing label will raise\n",
      "KeyError in the future, you can use .reindex() as an alternative.\n",
      "\n",
      "See the documentation here:\n",
      "http://pandas.pydata.org/pandas-docs/stable/indexing.html#deprecate-loc-reindex-listlike\n",
      "  return self._getitem_tuple(key)\n",
      "E:\\Anaconda\\lib\\site-packages\\ipykernel_launcher.py:12: FutureWarning: \n",
      "Passing list-likes to .loc or [] with any missing label will raise\n",
      "KeyError in the future, you can use .reindex() as an alternative.\n",
      "\n",
      "See the documentation here:\n",
      "http://pandas.pydata.org/pandas-docs/stable/indexing.html#deprecate-loc-reindex-listlike\n",
      "  if sys.path[0] == '':\n"
     ]
    }
   ],
   "source": [
    "df1 = pd.read_excel(path+ files[0],sheet_name='产犊明细')   #编码默认UTF-8，若乱码自行更改</span>\n",
    "#将读取的第一个文件写入合并后的文件保存\n",
    "df1['文件']=files[0]\n",
    "df2=df1.loc[:,[\"牧场\",\"牛号\",\"胎次\",\"出生日期\",\"配种日期\",\"实产期\",\"产犊分类\",'死胎',\"性别\",'犊牛编号','产犊评分','与配公牛','文件']]\n",
    "df2.to_csv(SaveFile_Path+'\\\\'+ SaveFile_Name,encoding=\"utf_8_sig\",index=False)\n",
    "\n",
    "#循环遍历列表中各个文件名，并追加到合并后的文件\n",
    "try:\n",
    "    for i in range(1,len(files)):\n",
    "        df1 = (pd.read_excel(path+ files[i],sheet_name='产犊明细'))\n",
    "        df1['文件']=files[i]\n",
    "        df2=df1.loc[:,[\"牧场\",\"牛号\",\"胎次\",\"出生日期\",\"配种日期\",\"实产期\",\"产犊分类\",'死胎',\"性别\",'犊牛编号','产犊评分','与配公牛','文件']]\n",
    "        df2.to_csv(SaveFile_Path+'\\\\'+ SaveFile_Name,encoding=\"utf_8_sig\",index=False, header=False, mode='a+')\n",
    "except Exception as err:\n",
    "    print(err)\n",
    "    print(files[i])     #检测有数据格式问题的Excel表格"
   ]
  },
  {
   "cell_type": "code",
   "execution_count": 35,
   "metadata": {},
   "outputs": [],
   "source": [
    "check=pd.DataFrame(files)\n",
    "check.rename(columns={'0':'文件'},inplace=True)\n",
    "check.to_csv(SaveFile_Path+'\\\\'+ 'check.csv',encoding=\"utf_8_sig\",index=False)"
   ]
  },
  {
   "cell_type": "markdown",
   "metadata": {},
   "source": [
    "检查过后发现有三个文件中无产犊明细记录。"
   ]
  },
  {
   "cell_type": "markdown",
   "metadata": {},
   "source": [
    "# 二部产犊记录整理"
   ]
  },
  {
   "cell_type": "code",
   "execution_count": 6,
   "metadata": {},
   "outputs": [],
   "source": [
    "path='F:\\\\Python\\\\erbu\\\\1SUM\\\\'\n",
    "folders=os.listdir(path)"
   ]
  },
  {
   "cell_type": "code",
   "execution_count": 38,
   "metadata": {},
   "outputs": [],
   "source": [
    "SaveFile_Path='F:\\\\data-SH\\\\fertility data17.6\\\\erbu'\n",
    "SaveFile_Name='calve1.csv'  \n",
    "file_list = os.listdir(path+folders[0])"
   ]
  },
  {
   "cell_type": "markdown",
   "metadata": {},
   "source": [
    "## 判断一个excel工作簿中是否有产犊记录"
   ]
  },
  {
   "cell_type": "markdown",
   "metadata": {},
   "source": [
    "由于上海提供的excel表格参差不齐有500多个，我首先需要找到有产犊记录的excel表格，并把它移动到其他目录的文件夹方便下一步处理。目前想法是遍历整个目录下所有excel工作簿文件，提取它们的工作表，然后利用关键字判别是否有工作表含有关键字，若可能的话仅把该工作表提取出来放到指定目录中。"
   ]
  },
  {
   "cell_type": "code",
   "execution_count": 149,
   "metadata": {},
   "outputs": [],
   "source": [
    "path='F:\\\\Python\\\\erbu\\\\1SUM\\\\'\n",
    "excels=os.listdir(path)"
   ]
  },
  {
   "cell_type": "code",
   "execution_count": 150,
   "metadata": {
    "scrolled": true
   },
   "outputs": [
    {
     "data": {
      "text/plain": [
       "540"
      ]
     },
     "execution_count": 150,
     "metadata": {},
     "output_type": "execute_result"
    }
   ],
   "source": [
    "len(excels) #文件目录下所有excel工作簿"
   ]
  },
  {
   "cell_type": "code",
   "execution_count": 151,
   "metadata": {},
   "outputs": [],
   "source": [
    "a=list(excels)"
   ]
  },
  {
   "cell_type": "code",
   "execution_count": 152,
   "metadata": {},
   "outputs": [
    {
     "data": {
      "text/plain": [
       "540"
      ]
     },
     "execution_count": 152,
     "metadata": {},
     "output_type": "execute_result"
    }
   ],
   "source": [
    "len(excels) #文件目录下所有excel工作簿"
   ]
  },
  {
   "cell_type": "code",
   "execution_count": 156,
   "metadata": {},
   "outputs": [],
   "source": [
    "for i in range(len(excels)):\n",
    "    a[i]=path+excels[i]\n",
    "sheet_names=list(excels)"
   ]
  },
  {
   "cell_type": "code",
   "execution_count": 157,
   "metadata": {},
   "outputs": [],
   "source": [
    "\n",
    "newfile='F:\\\\Python\\\\erbu\\\\calvefile\\\\' #新建一个目录放置有产犊数据的表格"
   ]
  },
  {
   "cell_type": "code",
   "execution_count": 158,
   "metadata": {},
   "outputs": [
    {
     "ename": "FileNotFoundError",
     "evalue": "[Errno 2] No such file or directory: '0810繁殖报表.xls'",
     "output_type": "error",
     "traceback": [
      "\u001b[1;31m---------------------------------------------------------------------------\u001b[0m",
      "\u001b[1;31mFileNotFoundError\u001b[0m                         Traceback (most recent call last)",
      "\u001b[1;32m<ipython-input-158-b69df15d092c>\u001b[0m in \u001b[0;36m<module>\u001b[1;34m()\u001b[0m\n\u001b[0;32m      1\u001b[0m \u001b[1;32mfor\u001b[0m \u001b[0mi\u001b[0m \u001b[1;32min\u001b[0m \u001b[0mrange\u001b[0m\u001b[1;33m(\u001b[0m\u001b[0mlen\u001b[0m\u001b[1;33m(\u001b[0m\u001b[0mexcels\u001b[0m\u001b[1;33m)\u001b[0m\u001b[1;33m)\u001b[0m\u001b[1;33m:\u001b[0m\u001b[1;33m\u001b[0m\u001b[0m\n\u001b[1;32m----> 2\u001b[1;33m     \u001b[0msheet_names\u001b[0m\u001b[1;33m[\u001b[0m\u001b[0mi\u001b[0m\u001b[1;33m]\u001b[0m\u001b[1;33m=\u001b[0m\u001b[0mxlrd\u001b[0m\u001b[1;33m.\u001b[0m\u001b[0mopen_workbook\u001b[0m\u001b[1;33m(\u001b[0m\u001b[0mexcels\u001b[0m\u001b[1;33m[\u001b[0m\u001b[0mi\u001b[0m\u001b[1;33m]\u001b[0m\u001b[1;33m)\u001b[0m\u001b[1;33m.\u001b[0m\u001b[0msheet_names\u001b[0m\u001b[1;33m(\u001b[0m\u001b[1;33m)\u001b[0m\u001b[1;33m\u001b[0m\u001b[0m\n\u001b[0m\u001b[0;32m      3\u001b[0m     \u001b[1;32mfor\u001b[0m \u001b[0mj\u001b[0m \u001b[1;32min\u001b[0m \u001b[0mrange\u001b[0m\u001b[1;33m(\u001b[0m\u001b[0mlen\u001b[0m\u001b[1;33m(\u001b[0m\u001b[0msheet_names\u001b[0m\u001b[1;33m[\u001b[0m\u001b[0mi\u001b[0m\u001b[1;33m]\u001b[0m\u001b[1;33m)\u001b[0m\u001b[1;33m)\u001b[0m\u001b[1;33m:\u001b[0m\u001b[1;33m\u001b[0m\u001b[0m\n\u001b[0;32m      4\u001b[0m         \u001b[1;32mif\u001b[0m \u001b[1;34m'产犊'\u001b[0m \u001b[1;32min\u001b[0m \u001b[0msheet_names\u001b[0m\u001b[1;33m[\u001b[0m\u001b[0mi\u001b[0m\u001b[1;33m]\u001b[0m\u001b[1;33m[\u001b[0m\u001b[0mj\u001b[0m\u001b[1;33m]\u001b[0m\u001b[1;33m:\u001b[0m\u001b[1;33m\u001b[0m\u001b[0m\n\u001b[0;32m      5\u001b[0m             \u001b[0mdf\u001b[0m\u001b[1;33m=\u001b[0m\u001b[0mpd\u001b[0m\u001b[1;33m.\u001b[0m\u001b[0mread_excel\u001b[0m\u001b[1;33m(\u001b[0m\u001b[0mexcels\u001b[0m\u001b[1;33m[\u001b[0m\u001b[0mi\u001b[0m\u001b[1;33m]\u001b[0m\u001b[1;33m,\u001b[0m\u001b[0msheet_name\u001b[0m\u001b[1;33m=\u001b[0m\u001b[0msheet_names\u001b[0m\u001b[1;33m[\u001b[0m\u001b[0mi\u001b[0m\u001b[1;33m]\u001b[0m\u001b[1;33m[\u001b[0m\u001b[0mj\u001b[0m\u001b[1;33m]\u001b[0m\u001b[1;33m,\u001b[0m\u001b[0mencoding\u001b[0m\u001b[1;33m=\u001b[0m\u001b[1;34m'utf8'\u001b[0m\u001b[1;33m)\u001b[0m\u001b[1;33m\u001b[0m\u001b[0m\n",
      "\u001b[1;32mE:\\Anaconda\\lib\\site-packages\\xlrd\\__init__.py\u001b[0m in \u001b[0;36mopen_workbook\u001b[1;34m(filename, logfile, verbosity, use_mmap, file_contents, encoding_override, formatting_info, on_demand, ragged_rows)\u001b[0m\n\u001b[0;32m    114\u001b[0m         \u001b[0mpeek\u001b[0m \u001b[1;33m=\u001b[0m \u001b[0mfile_contents\u001b[0m\u001b[1;33m[\u001b[0m\u001b[1;33m:\u001b[0m\u001b[0mpeeksz\u001b[0m\u001b[1;33m]\u001b[0m\u001b[1;33m\u001b[0m\u001b[0m\n\u001b[0;32m    115\u001b[0m     \u001b[1;32melse\u001b[0m\u001b[1;33m:\u001b[0m\u001b[1;33m\u001b[0m\u001b[0m\n\u001b[1;32m--> 116\u001b[1;33m         \u001b[1;32mwith\u001b[0m \u001b[0mopen\u001b[0m\u001b[1;33m(\u001b[0m\u001b[0mfilename\u001b[0m\u001b[1;33m,\u001b[0m \u001b[1;34m\"rb\"\u001b[0m\u001b[1;33m)\u001b[0m \u001b[1;32mas\u001b[0m \u001b[0mf\u001b[0m\u001b[1;33m:\u001b[0m\u001b[1;33m\u001b[0m\u001b[0m\n\u001b[0m\u001b[0;32m    117\u001b[0m             \u001b[0mpeek\u001b[0m \u001b[1;33m=\u001b[0m \u001b[0mf\u001b[0m\u001b[1;33m.\u001b[0m\u001b[0mread\u001b[0m\u001b[1;33m(\u001b[0m\u001b[0mpeeksz\u001b[0m\u001b[1;33m)\u001b[0m\u001b[1;33m\u001b[0m\u001b[0m\n\u001b[0;32m    118\u001b[0m     \u001b[1;32mif\u001b[0m \u001b[0mpeek\u001b[0m \u001b[1;33m==\u001b[0m \u001b[1;34mb\"PK\\x03\\x04\"\u001b[0m\u001b[1;33m:\u001b[0m \u001b[1;31m# a ZIP file\u001b[0m\u001b[1;33m\u001b[0m\u001b[0m\n",
      "\u001b[1;31mFileNotFoundError\u001b[0m: [Errno 2] No such file or directory: '0810繁殖报表.xls'"
     ]
    }
   ],
   "source": [
    "for i in range(len(excels)):\n",
    "    sheet_names[i]=xlrd.open_workbook(excels[i]).sheet_names()\n",
    "    for j in range(len(sheet_names[i])):\n",
    "        if '产犊' in sheet_names[i][j]:\n",
    "            df=pd.read_excel(excels[i],sheet_name=sheet_names[i][j],encoding='utf8')\n",
    "            df.to_csv(newfile+excels[i]+sheet_names[i][j]+'.csv',encoding=\"utf_8_sig\",index=False)\n",
    "        elif '分娩' in sheet_names[i][j]:\n",
    "            df=pd.read_excel(excels[i],sheet_name=sheet_names[i][j],encoding='utf8')\n",
    "            df.to_csv(newfile+excels[i]+sheet_names[i][j]+'.csv',encoding=\"utf_8_sig\",index=False)"
   ]
  },
  {
   "cell_type": "markdown",
   "metadata": {},
   "source": [
    "目前将有产犊数据的excel表移到了同一文件夹下，但发现一些工作表并不是繁殖数据，但也含有关键字，需要进一步筛选；而且有些工作表上第一行并不是想要的表头，所以还需对表头进行筛选，然后再对工作表中各列数据进行汇总。"
   ]
  },
  {
   "cell_type": "markdown",
   "metadata": {},
   "source": [
    "经过筛选之后，获得485个产犊记录表格，筛选使用的关键词为：产犊情况，犊牛和产犊数据。将含有任意关键词的表格删除即可。接下来需要：（1）检测头几行哪行是表头，若不是则删除将表头放置第一行；（2）一些表格中表头有重复使用，想办法将重复的表头合并在同一表头之下。"
   ]
  },
  {
   "cell_type": "markdown",
   "metadata": {},
   "source": [
    "## 按照不同牛场进行合并"
   ]
  },
  {
   "cell_type": "code",
   "execution_count": 364,
   "metadata": {},
   "outputs": [],
   "source": [
    "path='F:\\\\data-SH\\\\fertility data17.6\\\\erbu\\\\calvefile\\\\'\n",
    "calvefiles=os.listdir(path)\n",
    "SaveFile_path='F:\\\\data-SH\\\\fertility data17.6\\\\erbu\\\\'"
   ]
  },
  {
   "cell_type": "markdown",
   "metadata": {},
   "source": [
    "### 东风牧场"
   ]
  },
  {
   "cell_type": "code",
   "execution_count": 116,
   "metadata": {},
   "outputs": [],
   "source": [
    "calvepath=path+calvefiles[0]+'\\\\'\n",
    "files=os.listdir(calvepath)\n",
    "SaveFile_Name=calvefiles[0]+'产犊明细.csv'"
   ]
  },
  {
   "cell_type": "code",
   "execution_count": 117,
   "metadata": {},
   "outputs": [
    {
     "data": {
      "text/plain": [
       "'F:\\\\data-SH\\\\fertility data17.6\\\\erbu\\\\calvefile\\\\df\\\\'"
      ]
     },
     "execution_count": 117,
     "metadata": {},
     "output_type": "execute_result"
    }
   ],
   "source": [
    "calvepath"
   ]
  },
  {
   "cell_type": "code",
   "execution_count": 49,
   "metadata": {},
   "outputs": [
    {
     "name": "stderr",
     "output_type": "stream",
     "text": [
      "E:\\Anaconda\\lib\\site-packages\\ipykernel_launcher.py:4: FutureWarning: \n",
      "Passing list-likes to .loc or [] with any missing label will raise\n",
      "KeyError in the future, you can use .reindex() as an alternative.\n",
      "\n",
      "See the documentation here:\n",
      "http://pandas.pydata.org/pandas-docs/stable/indexing.html#deprecate-loc-reindex-listlike\n",
      "  after removing the cwd from sys.path.\n",
      "E:\\Anaconda\\lib\\site-packages\\pandas\\core\\indexing.py:1367: FutureWarning: \n",
      "Passing list-likes to .loc or [] with any missing label will raise\n",
      "KeyError in the future, you can use .reindex() as an alternative.\n",
      "\n",
      "See the documentation here:\n",
      "http://pandas.pydata.org/pandas-docs/stable/indexing.html#deprecate-loc-reindex-listlike\n",
      "  return self._getitem_tuple(key)\n",
      "E:\\Anaconda\\lib\\site-packages\\ipykernel_launcher.py:12: FutureWarning: \n",
      "Passing list-likes to .loc or [] with any missing label will raise\n",
      "KeyError in the future, you can use .reindex() as an alternative.\n",
      "\n",
      "See the documentation here:\n",
      "http://pandas.pydata.org/pandas-docs/stable/indexing.html#deprecate-loc-reindex-listlike\n",
      "  if sys.path[0] == '':\n"
     ]
    }
   ],
   "source": [
    "df1 = pd.read_csv(calvepath+ files[0])   #编码默认UTF-8，若乱码自行更改</span>\n",
    "#将读取的第一个文件写入合并后的文件保存\n",
    "df1['文件']=calvefiles[0]\n",
    "df2=df1.loc[:,[\"牛号\",\"胎次\",\"出生日期\",\"上胎产犊\",\"最近分娩\",\"最近配种日期\",'死胎',\"性别\",'犊编','产犊评分','与配公牛','文件']]\n",
    "df2.to_csv(SaveFile_path+'\\\\'+'1'+SaveFile_Name,encoding=\"utf_8_sig\",index=False)\n",
    "\n",
    "#循环遍历列表中各个文件名，并追加到合并后的文件\n",
    "try:\n",
    "    for i in range(1,len(files)):\n",
    "        df1 = pd.read_csv(calvepath+ files[i])\n",
    "        df1['文件']=calvefiles[0]\n",
    "        df2=df1.loc[:,[\"牛号\",\"胎次\",\"出生日期\",\"上胎产犊\",\"最近分娩\",\"最近配种日期\",'死胎',\"性别\",'犊编','产犊评分','与配公牛','文件']]\n",
    "        df2.to_csv(SaveFile_path+'\\\\'+'1'+SaveFile_Name,encoding=\"utf_8_sig\",index=False, header=False, mode='a+')\n",
    "except Exception as err:\n",
    "    print(err)\n",
    "    print(files[i])     #检测有数据格式问题的Excel表格"
   ]
  },
  {
   "cell_type": "code",
   "execution_count": 51,
   "metadata": {},
   "outputs": [
    {
     "name": "stderr",
     "output_type": "stream",
     "text": [
      "E:\\Anaconda\\lib\\site-packages\\ipykernel_launcher.py:4: FutureWarning: \n",
      "Passing list-likes to .loc or [] with any missing label will raise\n",
      "KeyError in the future, you can use .reindex() as an alternative.\n",
      "\n",
      "See the documentation here:\n",
      "http://pandas.pydata.org/pandas-docs/stable/indexing.html#deprecate-loc-reindex-listlike\n",
      "  after removing the cwd from sys.path.\n",
      "E:\\Anaconda\\lib\\site-packages\\pandas\\core\\indexing.py:1367: FutureWarning: \n",
      "Passing list-likes to .loc or [] with any missing label will raise\n",
      "KeyError in the future, you can use .reindex() as an alternative.\n",
      "\n",
      "See the documentation here:\n",
      "http://pandas.pydata.org/pandas-docs/stable/indexing.html#deprecate-loc-reindex-listlike\n",
      "  return self._getitem_tuple(key)\n",
      "E:\\Anaconda\\lib\\site-packages\\ipykernel_launcher.py:13: FutureWarning: \n",
      "Passing list-likes to .loc or [] with any missing label will raise\n",
      "KeyError in the future, you can use .reindex() as an alternative.\n",
      "\n",
      "See the documentation here:\n",
      "http://pandas.pydata.org/pandas-docs/stable/indexing.html#deprecate-loc-reindex-listlike\n",
      "  del sys.path[0]\n"
     ]
    }
   ],
   "source": [
    "df1 = pd.read_csv(calvepath+ files[0])   #编码默认UTF-8，若乱码自行更改</span>\n",
    "#将读取的第一个文件写入合并后的文件保存\n",
    "df1['文件']=calvefiles[0]\n",
    "df2=df1.loc[:,[\"牛号\",\"胎次\",\"出生日期\",\"上胎产犊\",\"分娩日期\",\"配种日期\",'死/活',\"犊牛性别\",'犊牛号','产犊评分','与配公牛','文件']]\n",
    "df2.to_csv(SaveFile_path+'\\\\'+'2'+SaveFile_Name,encoding=\"utf_8_sig\",index=False)\n",
    "\n",
    "#循环遍历列表中各个文件名，并追加到合并后的文件\n",
    "try:\n",
    "    for i in range(1,len(files)):\n",
    "        df1 = pd.read_csv(calvepath+ files[i])\n",
    "        df1['文件']=calvefiles[0]\n",
    "        df2=df1.loc[:,[\"牛号\",\"胎次\",\"出生日期\",\"上胎产犊\",\"分娩日期\",\"配种日期\",'死/活',\"犊牛性别\",'犊牛号','产犊评分','与配公牛',\n",
    "                       '文件']]\n",
    "        df2.to_csv(SaveFile_path+'\\\\'+'2'+SaveFile_Name,encoding=\"utf_8_sig\",index=False, header=False, mode='a+')\n",
    "except Exception as err:\n",
    "    print(err)\n",
    "    print(files[i])     #检测有数据格式问题的Excel表格"
   ]
  },
  {
   "cell_type": "markdown",
   "metadata": {},
   "source": [
    "### 东海牧场"
   ]
  },
  {
   "cell_type": "code",
   "execution_count": 59,
   "metadata": {},
   "outputs": [],
   "source": [
    "calvepath=path+calvefiles[1]+'\\\\'\n",
    "files=os.listdir(calvepath)\n",
    "SaveFile_Name=calvefiles[1]+'产犊明细.csv'"
   ]
  },
  {
   "cell_type": "code",
   "execution_count": 60,
   "metadata": {},
   "outputs": [
    {
     "data": {
      "text/plain": [
       "'F:\\\\data-SH\\\\fertility data17.6\\\\erbu\\\\calvefile\\\\dh\\\\'"
      ]
     },
     "execution_count": 60,
     "metadata": {},
     "output_type": "execute_result"
    }
   ],
   "source": [
    "calvepath"
   ]
  },
  {
   "cell_type": "code",
   "execution_count": 54,
   "metadata": {},
   "outputs": [
    {
     "name": "stderr",
     "output_type": "stream",
     "text": [
      "E:\\Anaconda\\lib\\site-packages\\ipykernel_launcher.py:4: FutureWarning: \n",
      "Passing list-likes to .loc or [] with any missing label will raise\n",
      "KeyError in the future, you can use .reindex() as an alternative.\n",
      "\n",
      "See the documentation here:\n",
      "http://pandas.pydata.org/pandas-docs/stable/indexing.html#deprecate-loc-reindex-listlike\n",
      "  after removing the cwd from sys.path.\n",
      "E:\\Anaconda\\lib\\site-packages\\pandas\\core\\indexing.py:1367: FutureWarning: \n",
      "Passing list-likes to .loc or [] with any missing label will raise\n",
      "KeyError in the future, you can use .reindex() as an alternative.\n",
      "\n",
      "See the documentation here:\n",
      "http://pandas.pydata.org/pandas-docs/stable/indexing.html#deprecate-loc-reindex-listlike\n",
      "  return self._getitem_tuple(key)\n",
      "E:\\Anaconda\\lib\\site-packages\\ipykernel_launcher.py:13: FutureWarning: \n",
      "Passing list-likes to .loc or [] with any missing label will raise\n",
      "KeyError in the future, you can use .reindex() as an alternative.\n",
      "\n",
      "See the documentation here:\n",
      "http://pandas.pydata.org/pandas-docs/stable/indexing.html#deprecate-loc-reindex-listlike\n",
      "  del sys.path[0]\n"
     ]
    }
   ],
   "source": [
    "df1 = pd.read_csv(calvepath+ files[0],skiprows=1)   #编码默认UTF-8，若乱码自行更改</span>\n",
    "#将读取的第一个文件写入合并后的文件保存\n",
    "df1['文件']=calvefiles[1]\n",
    "df2=df1.loc[:,[\"牛号\",\"胎次\",\"出生日期\",\"上胎产犊\",\"分娩日期\",\"配种日期\",'死/活',\"犊牛性别\",'犊牛号','产犊评分','与配公牛','文件']]\n",
    "df2.to_csv(SaveFile_path+'\\\\'+'1'+SaveFile_Name,encoding=\"utf_8_sig\",index=False)\n",
    "\n",
    "#循环遍历列表中各个文件名，并追加到合并后的文件\n",
    "try:\n",
    "    for i in range(1,len(files)):\n",
    "        df1 = pd.read_csv(calvepath+ files[i],skiprows=1)\n",
    "        df1['文件']=calvefiles[1]\n",
    "        df2=df1.loc[:,[\"牛号\",\"胎次\",\"出生日期\",\"上胎产犊\",\"分娩日期\",\"配种日期\",'死/活',\"犊牛性别\",'犊牛号','产犊评分','与配公牛',\n",
    "                       '文件']]\n",
    "        df2.to_csv(SaveFile_path+'\\\\'+'1'+SaveFile_Name,encoding=\"utf_8_sig\",index=False, header=False, mode='a+')\n",
    "except Exception as err:\n",
    "    print(err)\n",
    "    print(files[i])     #检测有数据格式问题的Excel表格"
   ]
  },
  {
   "cell_type": "code",
   "execution_count": 61,
   "metadata": {},
   "outputs": [
    {
     "name": "stderr",
     "output_type": "stream",
     "text": [
      "E:\\Anaconda\\lib\\site-packages\\ipykernel_launcher.py:4: FutureWarning: \n",
      "Passing list-likes to .loc or [] with any missing label will raise\n",
      "KeyError in the future, you can use .reindex() as an alternative.\n",
      "\n",
      "See the documentation here:\n",
      "http://pandas.pydata.org/pandas-docs/stable/indexing.html#deprecate-loc-reindex-listlike\n",
      "  after removing the cwd from sys.path.\n",
      "E:\\Anaconda\\lib\\site-packages\\pandas\\core\\indexing.py:1367: FutureWarning: \n",
      "Passing list-likes to .loc or [] with any missing label will raise\n",
      "KeyError in the future, you can use .reindex() as an alternative.\n",
      "\n",
      "See the documentation here:\n",
      "http://pandas.pydata.org/pandas-docs/stable/indexing.html#deprecate-loc-reindex-listlike\n",
      "  return self._getitem_tuple(key)\n",
      "E:\\Anaconda\\lib\\site-packages\\ipykernel_launcher.py:13: FutureWarning: \n",
      "Passing list-likes to .loc or [] with any missing label will raise\n",
      "KeyError in the future, you can use .reindex() as an alternative.\n",
      "\n",
      "See the documentation here:\n",
      "http://pandas.pydata.org/pandas-docs/stable/indexing.html#deprecate-loc-reindex-listlike\n",
      "  del sys.path[0]\n"
     ]
    }
   ],
   "source": [
    "df1 = pd.read_csv(calvepath+ files[0],skiprows=1)   #编码默认UTF-8，若乱码自行更改</span>\n",
    "#将读取的第一个文件写入合并后的文件保存\n",
    "df1['文件']=calvefiles[1]\n",
    "df2=df1.loc[:,[\"分娩母牛\",\"产犊日期\",\"配种日期\",\"性别\",\"助产否\",'与配公牛','文件']]\n",
    "df2.to_csv(SaveFile_path+'\\\\'+'2'+SaveFile_Name,encoding=\"utf_8_sig\",index=False)\n",
    "\n",
    "#循环遍历列表中各个文件名，并追加到合并后的文件\n",
    "try:\n",
    "    for i in range(1,len(files)):\n",
    "        df1 = pd.read_csv(calvepath+ files[i],skiprows=1)\n",
    "        df1['文件']=calvefiles[1]\n",
    "        df2=df1.loc[:,[\"分娩母牛\",\"产犊日期\",\"配种日期\",'与配公牛',\"性别\",\"助产否\",\n",
    "                       '文件']]\n",
    "        df2.to_csv(SaveFile_path+'\\\\'+'2'+SaveFile_Name,encoding=\"utf_8_sig\",index=False, header=False, mode='a+')\n",
    "except Exception as err:\n",
    "    print(err)\n",
    "    print(files[i])     #检测有数据格式问题的Excel表格"
   ]
  },
  {
   "cell_type": "markdown",
   "metadata": {},
   "source": [
    "### 鸿星牧场"
   ]
  },
  {
   "cell_type": "code",
   "execution_count": 67,
   "metadata": {},
   "outputs": [],
   "source": [
    "calvepath=path+calvefiles[2]+'\\\\'\n",
    "files=os.listdir(calvepath)\n",
    "SaveFile_Name=calvefiles[2]+'产犊明细.csv'"
   ]
  },
  {
   "cell_type": "code",
   "execution_count": 68,
   "metadata": {},
   "outputs": [
    {
     "data": {
      "text/plain": [
       "'F:\\\\data-SH\\\\fertility data17.6\\\\erbu\\\\calvefile\\\\hx\\\\'"
      ]
     },
     "execution_count": 68,
     "metadata": {},
     "output_type": "execute_result"
    }
   ],
   "source": [
    "calvepath"
   ]
  },
  {
   "cell_type": "code",
   "execution_count": 69,
   "metadata": {},
   "outputs": [
    {
     "name": "stderr",
     "output_type": "stream",
     "text": [
      "E:\\Anaconda\\lib\\site-packages\\ipykernel_launcher.py:4: FutureWarning: \n",
      "Passing list-likes to .loc or [] with any missing label will raise\n",
      "KeyError in the future, you can use .reindex() as an alternative.\n",
      "\n",
      "See the documentation here:\n",
      "http://pandas.pydata.org/pandas-docs/stable/indexing.html#deprecate-loc-reindex-listlike\n",
      "  after removing the cwd from sys.path.\n",
      "E:\\Anaconda\\lib\\site-packages\\pandas\\core\\indexing.py:1367: FutureWarning: \n",
      "Passing list-likes to .loc or [] with any missing label will raise\n",
      "KeyError in the future, you can use .reindex() as an alternative.\n",
      "\n",
      "See the documentation here:\n",
      "http://pandas.pydata.org/pandas-docs/stable/indexing.html#deprecate-loc-reindex-listlike\n",
      "  return self._getitem_tuple(key)\n",
      "E:\\Anaconda\\lib\\site-packages\\ipykernel_launcher.py:13: FutureWarning: \n",
      "Passing list-likes to .loc or [] with any missing label will raise\n",
      "KeyError in the future, you can use .reindex() as an alternative.\n",
      "\n",
      "See the documentation here:\n",
      "http://pandas.pydata.org/pandas-docs/stable/indexing.html#deprecate-loc-reindex-listlike\n",
      "  del sys.path[0]\n"
     ]
    }
   ],
   "source": [
    "df1 = pd.read_csv(calvepath+ files[0],skiprows=1)   #编码默认UTF-8，若乱码自行更改</span>\n",
    "#将读取的第一个文件写入合并后的文件保存\n",
    "df1['文件']=calvefiles[2]\n",
    "df2=df1.loc[:,[\"牛号\",\"胎次\",\"出生日期\",\"上胎产犊\",\"分娩日期\",\"配种日期\",'死/活',\"犊牛性别\",'犊牛号','产犊评分','与配公牛','文件']]\n",
    "df2.to_csv(SaveFile_path+'\\\\'+'1'+SaveFile_Name,encoding=\"utf_8_sig\",index=False)\n",
    "\n",
    "#循环遍历列表中各个文件名，并追加到合并后的文件\n",
    "try:\n",
    "    for i in range(1,len(files)):\n",
    "        df1 = pd.read_csv(calvepath+ files[i],skiprows=1)\n",
    "        df1['文件']=calvefiles[2]\n",
    "        df2=df1.loc[:,[\"牛号\",\"胎次\",\"出生日期\",\"上胎产犊\",\"分娩日期\",\"配种日期\",'死/活',\"犊牛性别\",'犊牛号','产犊评分','与配公牛',\n",
    "                       '文件']]\n",
    "        df2.to_csv(SaveFile_path+'\\\\'+'1'+SaveFile_Name,encoding=\"utf_8_sig\",index=False, header=False, mode='a+')\n",
    "except Exception as err:\n",
    "    print(err)\n",
    "    print(files[i])     #检测有数据格式问题的Excel表格"
   ]
  },
  {
   "cell_type": "code",
   "execution_count": 70,
   "metadata": {
    "scrolled": false
   },
   "outputs": [
    {
     "name": "stderr",
     "output_type": "stream",
     "text": [
      "E:\\Anaconda\\lib\\site-packages\\ipykernel_launcher.py:4: FutureWarning: \n",
      "Passing list-likes to .loc or [] with any missing label will raise\n",
      "KeyError in the future, you can use .reindex() as an alternative.\n",
      "\n",
      "See the documentation here:\n",
      "http://pandas.pydata.org/pandas-docs/stable/indexing.html#deprecate-loc-reindex-listlike\n",
      "  after removing the cwd from sys.path.\n",
      "E:\\Anaconda\\lib\\site-packages\\pandas\\core\\indexing.py:1367: FutureWarning: \n",
      "Passing list-likes to .loc or [] with any missing label will raise\n",
      "KeyError in the future, you can use .reindex() as an alternative.\n",
      "\n",
      "See the documentation here:\n",
      "http://pandas.pydata.org/pandas-docs/stable/indexing.html#deprecate-loc-reindex-listlike\n",
      "  return self._getitem_tuple(key)\n",
      "E:\\Anaconda\\lib\\site-packages\\ipykernel_launcher.py:13: FutureWarning: \n",
      "Passing list-likes to .loc or [] with any missing label will raise\n",
      "KeyError in the future, you can use .reindex() as an alternative.\n",
      "\n",
      "See the documentation here:\n",
      "http://pandas.pydata.org/pandas-docs/stable/indexing.html#deprecate-loc-reindex-listlike\n",
      "  del sys.path[0]\n"
     ]
    }
   ],
   "source": [
    "df1 = pd.read_csv(calvepath+ files[0],skiprows=1)   #编码默认UTF-8，若乱码自行更改</span>\n",
    "#将读取的第一个文件写入合并后的文件保存\n",
    "df1['文件']=calvefiles[2]\n",
    "df2=df1.loc[:,[\"分娩母牛\",\"产犊日期\",\"配种日期\",\"性别\",\"助产否\",'与配公牛','文件']]\n",
    "df2.to_csv(SaveFile_path+'\\\\'+'2'+SaveFile_Name,encoding=\"utf_8_sig\",index=False)\n",
    "\n",
    "#循环遍历列表中各个文件名，并追加到合并后的文件\n",
    "try:\n",
    "    for i in range(1,len(files)):\n",
    "        df1 = pd.read_csv(calvepath+ files[i],skiprows=1)\n",
    "        df1['文件']=calvefiles[2]\n",
    "        df2=df1.loc[:,[\"分娩母牛\",\"产犊日期\",\"配种日期\",'与配公牛',\"性别\",\"助产否\",\n",
    "                       '文件']]\n",
    "        df2.to_csv(SaveFile_path+'\\\\'+'2'+SaveFile_Name,encoding=\"utf_8_sig\",index=False, header=False, mode='a+')\n",
    "except Exception as err:\n",
    "    print(err)\n",
    "    print(files[i])     #检测有数据格式问题的Excel表格"
   ]
  },
  {
   "cell_type": "markdown",
   "metadata": {},
   "source": [
    "### 五四"
   ]
  },
  {
   "cell_type": "code",
   "execution_count": 77,
   "metadata": {},
   "outputs": [],
   "source": [
    "calvepath=path+calvefiles[3]+'\\\\'\n",
    "files=os.listdir(calvepath)\n",
    "SaveFile_Name=calvefiles[3]+'产犊明细.csv'"
   ]
  },
  {
   "cell_type": "code",
   "execution_count": 79,
   "metadata": {},
   "outputs": [
    {
     "name": "stderr",
     "output_type": "stream",
     "text": [
      "E:\\Anaconda\\lib\\site-packages\\ipykernel_launcher.py:4: FutureWarning: \n",
      "Passing list-likes to .loc or [] with any missing label will raise\n",
      "KeyError in the future, you can use .reindex() as an alternative.\n",
      "\n",
      "See the documentation here:\n",
      "http://pandas.pydata.org/pandas-docs/stable/indexing.html#deprecate-loc-reindex-listlike\n",
      "  after removing the cwd from sys.path.\n",
      "E:\\Anaconda\\lib\\site-packages\\pandas\\core\\indexing.py:1367: FutureWarning: \n",
      "Passing list-likes to .loc or [] with any missing label will raise\n",
      "KeyError in the future, you can use .reindex() as an alternative.\n",
      "\n",
      "See the documentation here:\n",
      "http://pandas.pydata.org/pandas-docs/stable/indexing.html#deprecate-loc-reindex-listlike\n",
      "  return self._getitem_tuple(key)\n",
      "E:\\Anaconda\\lib\\site-packages\\ipykernel_launcher.py:13: FutureWarning: \n",
      "Passing list-likes to .loc or [] with any missing label will raise\n",
      "KeyError in the future, you can use .reindex() as an alternative.\n",
      "\n",
      "See the documentation here:\n",
      "http://pandas.pydata.org/pandas-docs/stable/indexing.html#deprecate-loc-reindex-listlike\n",
      "  del sys.path[0]\n"
     ]
    }
   ],
   "source": [
    "df1 = pd.read_csv(calvepath+ files[0],skiprows=1)   #编码默认UTF-8，若乱码自行更改</span>\n",
    "#将读取的第一个文件写入合并后的文件保存\n",
    "df1['文件']=calvefiles[3]\n",
    "df2=df1.loc[:,[\"牛号\",\"胎次\",\"出生日期\",\"上胎产犊\",\"分娩日期\",\"配种日期\",'死/活',\"犊牛性别\",'犊牛号','产犊评分','与配公牛','文件']]\n",
    "df2.to_csv(SaveFile_path+'\\\\'+'1'+SaveFile_Name,encoding=\"utf_8_sig\",index=False)\n",
    "\n",
    "#循环遍历列表中各个文件名，并追加到合并后的文件\n",
    "try:\n",
    "    for i in range(1,len(files)):\n",
    "        df1 = pd.read_csv(calvepath+ files[i],skiprows=1)\n",
    "        df1['文件']=calvefiles[3]\n",
    "        df2=df1.loc[:,[\"牛号\",\"胎次\",\"出生日期\",\"上胎产犊\",\"分娩日期\",\"配种日期\",'死/活',\"犊牛性别\",'犊牛号','产犊评分','与配公牛',\n",
    "                       '文件']]\n",
    "        df2.to_csv(SaveFile_path+'\\\\'+'1'+SaveFile_Name,encoding=\"utf_8_sig\",index=False, header=False, mode='a+')\n",
    "except Exception as err:\n",
    "    print(err)\n",
    "    print(files[i])     #检测有数据格式问题的Excel表格"
   ]
  },
  {
   "cell_type": "code",
   "execution_count": 80,
   "metadata": {},
   "outputs": [
    {
     "name": "stderr",
     "output_type": "stream",
     "text": [
      "E:\\Anaconda\\lib\\site-packages\\ipykernel_launcher.py:4: FutureWarning: \n",
      "Passing list-likes to .loc or [] with any missing label will raise\n",
      "KeyError in the future, you can use .reindex() as an alternative.\n",
      "\n",
      "See the documentation here:\n",
      "http://pandas.pydata.org/pandas-docs/stable/indexing.html#deprecate-loc-reindex-listlike\n",
      "  after removing the cwd from sys.path.\n",
      "E:\\Anaconda\\lib\\site-packages\\pandas\\core\\indexing.py:1367: FutureWarning: \n",
      "Passing list-likes to .loc or [] with any missing label will raise\n",
      "KeyError in the future, you can use .reindex() as an alternative.\n",
      "\n",
      "See the documentation here:\n",
      "http://pandas.pydata.org/pandas-docs/stable/indexing.html#deprecate-loc-reindex-listlike\n",
      "  return self._getitem_tuple(key)\n",
      "E:\\Anaconda\\lib\\site-packages\\ipykernel_launcher.py:13: FutureWarning: \n",
      "Passing list-likes to .loc or [] with any missing label will raise\n",
      "KeyError in the future, you can use .reindex() as an alternative.\n",
      "\n",
      "See the documentation here:\n",
      "http://pandas.pydata.org/pandas-docs/stable/indexing.html#deprecate-loc-reindex-listlike\n",
      "  del sys.path[0]\n"
     ]
    }
   ],
   "source": [
    "df1 = pd.read_csv(calvepath+ files[0],skiprows=1)   #编码默认UTF-8，若乱码自行更改</span>\n",
    "#将读取的第一个文件写入合并后的文件保存\n",
    "df1['文件']=calvefiles[3]\n",
    "df2=df1.loc[:,[\"分娩母牛\",\"产犊日期\",\"配种日期\",\"性别\",\"助产否\",'与配公牛','文件']]\n",
    "df2.to_csv(SaveFile_path+'\\\\'+'2'+SaveFile_Name,encoding=\"utf_8_sig\",index=False)\n",
    "\n",
    "#循环遍历列表中各个文件名，并追加到合并后的文件\n",
    "try:\n",
    "    for i in range(1,len(files)):\n",
    "        df1 = pd.read_csv(calvepath+ files[i],skiprows=1)\n",
    "        df1['文件']=calvefiles[3]\n",
    "        df2=df1.loc[:,[\"分娩母牛\",\"产犊日期\",\"配种日期\",'与配公牛',\"性别\",\"助产否\",\n",
    "                       '文件']]\n",
    "        df2.to_csv(SaveFile_path+'\\\\'+'2'+SaveFile_Name,encoding=\"utf_8_sig\",index=False, header=False, mode='a+')\n",
    "except Exception as err:\n",
    "    print(err)\n",
    "    print(files[i])     #检测有数据格式问题的Excel表格"
   ]
  },
  {
   "cell_type": "markdown",
   "metadata": {},
   "source": [
    "### 新东"
   ]
  },
  {
   "cell_type": "code",
   "execution_count": 83,
   "metadata": {},
   "outputs": [],
   "source": [
    "calvepath=path+calvefiles[4]+'\\\\'\n",
    "files=os.listdir(calvepath)\n",
    "SaveFile_Name=calvefiles[4]+'产犊明细.csv'"
   ]
  },
  {
   "cell_type": "code",
   "execution_count": 86,
   "metadata": {},
   "outputs": [
    {
     "name": "stderr",
     "output_type": "stream",
     "text": [
      "E:\\Anaconda\\lib\\site-packages\\ipykernel_launcher.py:4: FutureWarning: \n",
      "Passing list-likes to .loc or [] with any missing label will raise\n",
      "KeyError in the future, you can use .reindex() as an alternative.\n",
      "\n",
      "See the documentation here:\n",
      "http://pandas.pydata.org/pandas-docs/stable/indexing.html#deprecate-loc-reindex-listlike\n",
      "  after removing the cwd from sys.path.\n",
      "E:\\Anaconda\\lib\\site-packages\\pandas\\core\\indexing.py:1367: FutureWarning: \n",
      "Passing list-likes to .loc or [] with any missing label will raise\n",
      "KeyError in the future, you can use .reindex() as an alternative.\n",
      "\n",
      "See the documentation here:\n",
      "http://pandas.pydata.org/pandas-docs/stable/indexing.html#deprecate-loc-reindex-listlike\n",
      "  return self._getitem_tuple(key)\n",
      "E:\\Anaconda\\lib\\site-packages\\ipykernel_launcher.py:13: FutureWarning: \n",
      "Passing list-likes to .loc or [] with any missing label will raise\n",
      "KeyError in the future, you can use .reindex() as an alternative.\n",
      "\n",
      "See the documentation here:\n",
      "http://pandas.pydata.org/pandas-docs/stable/indexing.html#deprecate-loc-reindex-listlike\n",
      "  del sys.path[0]\n"
     ]
    }
   ],
   "source": [
    "df1 = pd.read_csv(calvepath+ files[0],skiprows=1)   #编码默认UTF-8，若乱码自行更改</span>\n",
    "#将读取的第一个文件写入合并后的文件保存\n",
    "df1['文件']=calvefiles[4]\n",
    "df2=df1.loc[:,[\"牛号\",\"胎次\",\"出生日期\",\"上胎产犊\",\"分娩日期\",\"配种日期\",'死/活',\"犊牛性别\",'犊牛号','产犊评分','与配公牛','文件']]\n",
    "df2.to_csv(SaveFile_path+'\\\\'+'1'+SaveFile_Name,encoding=\"utf_8_sig\",index=False)\n",
    "\n",
    "#循环遍历列表中各个文件名，并追加到合并后的文件\n",
    "try:\n",
    "    for i in range(1,len(files)):\n",
    "        df1 = pd.read_csv(calvepath+ files[i],skiprows=1)\n",
    "        df1['文件']=calvefiles[4]\n",
    "        df2=df1.loc[:,[\"牛号\",\"胎次\",\"出生日期\",\"上胎产犊\",\"分娩日期\",\"配种日期\",'死/活',\"犊牛性别\",'犊牛号','产犊评分','与配公牛',\n",
    "                       '文件']]\n",
    "        df2.to_csv(SaveFile_path+'\\\\'+'1'+SaveFile_Name,encoding=\"utf_8_sig\",index=False, header=False, mode='a+')\n",
    "except Exception as err:\n",
    "    print(err)\n",
    "    print(files[i])     #检测有数据格式问题的Excel表格"
   ]
  },
  {
   "cell_type": "markdown",
   "metadata": {},
   "source": [
    "### 瀛博"
   ]
  },
  {
   "cell_type": "code",
   "execution_count": 89,
   "metadata": {},
   "outputs": [],
   "source": [
    "calvepath=path+calvefiles[5]+'\\\\'\n",
    "files=os.listdir(calvepath)\n",
    "SaveFile_Name=calvefiles[5]+'产犊明细.csv'"
   ]
  },
  {
   "cell_type": "code",
   "execution_count": 90,
   "metadata": {},
   "outputs": [
    {
     "name": "stderr",
     "output_type": "stream",
     "text": [
      "E:\\Anaconda\\lib\\site-packages\\ipykernel_launcher.py:4: FutureWarning: \n",
      "Passing list-likes to .loc or [] with any missing label will raise\n",
      "KeyError in the future, you can use .reindex() as an alternative.\n",
      "\n",
      "See the documentation here:\n",
      "http://pandas.pydata.org/pandas-docs/stable/indexing.html#deprecate-loc-reindex-listlike\n",
      "  after removing the cwd from sys.path.\n",
      "E:\\Anaconda\\lib\\site-packages\\pandas\\core\\indexing.py:1367: FutureWarning: \n",
      "Passing list-likes to .loc or [] with any missing label will raise\n",
      "KeyError in the future, you can use .reindex() as an alternative.\n",
      "\n",
      "See the documentation here:\n",
      "http://pandas.pydata.org/pandas-docs/stable/indexing.html#deprecate-loc-reindex-listlike\n",
      "  return self._getitem_tuple(key)\n",
      "E:\\Anaconda\\lib\\site-packages\\ipykernel_launcher.py:13: FutureWarning: \n",
      "Passing list-likes to .loc or [] with any missing label will raise\n",
      "KeyError in the future, you can use .reindex() as an alternative.\n",
      "\n",
      "See the documentation here:\n",
      "http://pandas.pydata.org/pandas-docs/stable/indexing.html#deprecate-loc-reindex-listlike\n",
      "  del sys.path[0]\n"
     ]
    }
   ],
   "source": [
    "df1 = pd.read_csv(calvepath+ files[0],skiprows=1)   #编码默认UTF-8，若乱码自行更改</span>\n",
    "#将读取的第一个文件写入合并后的文件保存\n",
    "df1['文件']=calvefiles[5]\n",
    "df2=df1.loc[:,[\"牛号\",\"胎次\",\"出生日期\",\"上胎产犊\",\"分娩日期\",\"配种日期\",'死/活',\"犊牛性别\",'犊牛号','产犊评分','与配公牛','文件']]\n",
    "df2.to_csv(SaveFile_path+'\\\\'+'1'+SaveFile_Name,encoding=\"utf_8_sig\",index=False)\n",
    "\n",
    "#循环遍历列表中各个文件名，并追加到合并后的文件\n",
    "try:\n",
    "    for i in range(1,len(files)):\n",
    "        df1 = pd.read_csv(calvepath+ files[i],skiprows=1)\n",
    "        df1['文件']=calvefiles[5]\n",
    "        df2=df1.loc[:,[\"牛号\",\"胎次\",\"出生日期\",\"上胎产犊\",\"分娩日期\",\"配种日期\",'死/活',\"犊牛性别\",'犊牛号','产犊评分','与配公牛',\n",
    "                       '文件']]\n",
    "        df2.to_csv(SaveFile_path+'\\\\'+'1'+SaveFile_Name,encoding=\"utf_8_sig\",index=False, header=False, mode='a+')\n",
    "except Exception as err:\n",
    "    print(err)\n",
    "    print(files[i])     #检测有数据格式问题的Excel表格"
   ]
  },
  {
   "cell_type": "code",
   "execution_count": 91,
   "metadata": {},
   "outputs": [
    {
     "name": "stderr",
     "output_type": "stream",
     "text": [
      "E:\\Anaconda\\lib\\site-packages\\ipykernel_launcher.py:13: FutureWarning: \n",
      "Passing list-likes to .loc or [] with any missing label will raise\n",
      "KeyError in the future, you can use .reindex() as an alternative.\n",
      "\n",
      "See the documentation here:\n",
      "http://pandas.pydata.org/pandas-docs/stable/indexing.html#deprecate-loc-reindex-listlike\n",
      "  del sys.path[0]\n",
      "E:\\Anaconda\\lib\\site-packages\\pandas\\core\\indexing.py:1367: FutureWarning: \n",
      "Passing list-likes to .loc or [] with any missing label will raise\n",
      "KeyError in the future, you can use .reindex() as an alternative.\n",
      "\n",
      "See the documentation here:\n",
      "http://pandas.pydata.org/pandas-docs/stable/indexing.html#deprecate-loc-reindex-listlike\n",
      "  return self._getitem_tuple(key)\n"
     ]
    }
   ],
   "source": [
    "df1 = pd.read_csv(calvepath+ files[0],skiprows=1)   #编码默认UTF-8，若乱码自行更改</span>\n",
    "#将读取的第一个文件写入合并后的文件保存\n",
    "df1['文件']=calvefiles[5]\n",
    "df2=df1.loc[:,[\"分娩母牛\",\"产犊日期\",\"配种日期\",\"性别\",\"助产否\",'与配公牛','文件']]\n",
    "df2.to_csv(SaveFile_path+'\\\\'+'2'+SaveFile_Name,encoding=\"utf_8_sig\",index=False)\n",
    "\n",
    "#循环遍历列表中各个文件名，并追加到合并后的文件\n",
    "try:\n",
    "    for i in range(1,len(files)):\n",
    "        df1 = pd.read_csv(calvepath+ files[i],skiprows=1)\n",
    "        df1['文件']=calvefiles[5]\n",
    "        df2=df1.loc[:,[\"分娩母牛\",\"产犊日期\",\"配种日期\",'与配公牛',\"性别\",\"助产否\",\n",
    "                       '文件']]\n",
    "        df2.to_csv(SaveFile_path+'\\\\'+'2'+SaveFile_Name,encoding=\"utf_8_sig\",index=False, header=False, mode='a+')\n",
    "except Exception as err:\n",
    "    print(err)\n",
    "    print(files[i])     #检测有数据格式问题的Excel表格"
   ]
  },
  {
   "cell_type": "markdown",
   "metadata": {},
   "source": [
    "### 跃二"
   ]
  },
  {
   "cell_type": "code",
   "execution_count": 94,
   "metadata": {},
   "outputs": [],
   "source": [
    "calvepath=path+calvefiles[6]+'\\\\'\n",
    "files=os.listdir(calvepath)\n",
    "SaveFile_Name=calvefiles[6]+'产犊明细.csv'"
   ]
  },
  {
   "cell_type": "code",
   "execution_count": 95,
   "metadata": {},
   "outputs": [
    {
     "name": "stderr",
     "output_type": "stream",
     "text": [
      "E:\\Anaconda\\lib\\site-packages\\ipykernel_launcher.py:4: FutureWarning: \n",
      "Passing list-likes to .loc or [] with any missing label will raise\n",
      "KeyError in the future, you can use .reindex() as an alternative.\n",
      "\n",
      "See the documentation here:\n",
      "http://pandas.pydata.org/pandas-docs/stable/indexing.html#deprecate-loc-reindex-listlike\n",
      "  after removing the cwd from sys.path.\n",
      "E:\\Anaconda\\lib\\site-packages\\pandas\\core\\indexing.py:1367: FutureWarning: \n",
      "Passing list-likes to .loc or [] with any missing label will raise\n",
      "KeyError in the future, you can use .reindex() as an alternative.\n",
      "\n",
      "See the documentation here:\n",
      "http://pandas.pydata.org/pandas-docs/stable/indexing.html#deprecate-loc-reindex-listlike\n",
      "  return self._getitem_tuple(key)\n",
      "E:\\Anaconda\\lib\\site-packages\\ipykernel_launcher.py:13: FutureWarning: \n",
      "Passing list-likes to .loc or [] with any missing label will raise\n",
      "KeyError in the future, you can use .reindex() as an alternative.\n",
      "\n",
      "See the documentation here:\n",
      "http://pandas.pydata.org/pandas-docs/stable/indexing.html#deprecate-loc-reindex-listlike\n",
      "  del sys.path[0]\n"
     ]
    }
   ],
   "source": [
    "df1 = pd.read_csv(calvepath+ files[0],skiprows=1)   #编码默认UTF-8，若乱码自行更改</span>\n",
    "#将读取的第一个文件写入合并后的文件保存\n",
    "df1['文件']=calvefiles[6]\n",
    "df2=df1.loc[:,[\"牛号\",\"胎次\",\"出生日期\",\"上胎产犊\",\"分娩日期\",\"配种日期\",'死/活',\"犊牛性别\",'犊牛号','产犊评分','与配公牛','文件']]\n",
    "df2.to_csv(SaveFile_path+'\\\\'+'1'+SaveFile_Name,encoding=\"utf_8_sig\",index=False)\n",
    "\n",
    "#循环遍历列表中各个文件名，并追加到合并后的文件\n",
    "try:\n",
    "    for i in range(1,len(files)):\n",
    "        df1 = pd.read_csv(calvepath+ files[i],skiprows=1)\n",
    "        df1['文件']=calvefiles[6]\n",
    "        df2=df1.loc[:,[\"牛号\",\"胎次\",\"出生日期\",\"上胎产犊\",\"分娩日期\",\"配种日期\",'死/活',\"犊牛性别\",'犊牛号','产犊评分','与配公牛',\n",
    "                       '文件']]\n",
    "        df2.to_csv(SaveFile_path+'\\\\'+'1'+SaveFile_Name,encoding=\"utf_8_sig\",index=False, header=False, mode='a+')\n",
    "except Exception as err:\n",
    "    print(err)\n",
    "    print(files[i])     #检测有数据格式问题的Excel表格"
   ]
  },
  {
   "cell_type": "markdown",
   "metadata": {},
   "source": [
    "### 跃一"
   ]
  },
  {
   "cell_type": "code",
   "execution_count": 98,
   "metadata": {},
   "outputs": [],
   "source": [
    "calvepath=path+calvefiles[7]+'\\\\'\n",
    "files=os.listdir(calvepath)\n",
    "SaveFile_Name=calvefiles[7]+'产犊明细.csv'"
   ]
  },
  {
   "cell_type": "code",
   "execution_count": 100,
   "metadata": {
    "scrolled": true
   },
   "outputs": [
    {
     "name": "stderr",
     "output_type": "stream",
     "text": [
      "E:\\Anaconda\\lib\\site-packages\\ipykernel_launcher.py:4: FutureWarning: \n",
      "Passing list-likes to .loc or [] with any missing label will raise\n",
      "KeyError in the future, you can use .reindex() as an alternative.\n",
      "\n",
      "See the documentation here:\n",
      "http://pandas.pydata.org/pandas-docs/stable/indexing.html#deprecate-loc-reindex-listlike\n",
      "  after removing the cwd from sys.path.\n",
      "E:\\Anaconda\\lib\\site-packages\\pandas\\core\\indexing.py:1367: FutureWarning: \n",
      "Passing list-likes to .loc or [] with any missing label will raise\n",
      "KeyError in the future, you can use .reindex() as an alternative.\n",
      "\n",
      "See the documentation here:\n",
      "http://pandas.pydata.org/pandas-docs/stable/indexing.html#deprecate-loc-reindex-listlike\n",
      "  return self._getitem_tuple(key)\n",
      "E:\\Anaconda\\lib\\site-packages\\ipykernel_launcher.py:13: FutureWarning: \n",
      "Passing list-likes to .loc or [] with any missing label will raise\n",
      "KeyError in the future, you can use .reindex() as an alternative.\n",
      "\n",
      "See the documentation here:\n",
      "http://pandas.pydata.org/pandas-docs/stable/indexing.html#deprecate-loc-reindex-listlike\n",
      "  del sys.path[0]\n"
     ]
    }
   ],
   "source": [
    "df1 = pd.read_csv(calvepath+ files[0])   #编码默认UTF-8，若乱码自行更改</span>\n",
    "#将读取的第一个文件写入合并后的文件保存\n",
    "df1['文件']=calvefiles[7]\n",
    "df2=df1.loc[:,[\"牛号\",\"胎次\",\"日期\",\"备注(难产评分)\",\"犊别\",\"配种日期\",'死/活',\"犊牛性别\",'犊牛号','产犊评分','与配公牛','文件']]\n",
    "df2.to_csv(SaveFile_path+'\\\\'+'1'+SaveFile_Name,encoding=\"utf_8_sig\",index=False)\n",
    "\n",
    "#循环遍历列表中各个文件名，并追加到合并后的文件\n",
    "try:\n",
    "    for i in range(1,len(files)):\n",
    "        df1 = pd.read_csv(calvepath+ files[i])\n",
    "        df1['文件']=calvefiles[7]\n",
    "        df2=df1.loc[:,[\"牛号\",\"胎次\",\"出生日期\",\"上胎产犊\",\"分娩日期\",\"配种日期\",'死/活',\"犊牛性别\",'犊牛号','产犊评分','与配公牛',\n",
    "                       '文件']]\n",
    "        df2.to_csv(SaveFile_path+'\\\\'+'1'+SaveFile_Name,encoding=\"utf_8_sig\",index=False, header=False, mode='a+')\n",
    "except Exception as err:\n",
    "    print(err)\n",
    "    print(files[i])     #检测有数据格式问题的Excel表格"
   ]
  },
  {
   "cell_type": "markdown",
   "metadata": {},
   "source": [
    "### 至江"
   ]
  },
  {
   "cell_type": "markdown",
   "metadata": {},
   "source": [
    "至江产犊数据无明细"
   ]
  },
  {
   "cell_type": "code",
   "execution_count": 365,
   "metadata": {},
   "outputs": [],
   "source": [
    "calvepath=path+calvefiles[8]+'\\\\'\n",
    "files=os.listdir(calvepath)\n",
    "SaveFile_Name=calvefiles[8]+'产犊明细.csv'"
   ]
  },
  {
   "cell_type": "code",
   "execution_count": 366,
   "metadata": {},
   "outputs": [
    {
     "name": "stderr",
     "output_type": "stream",
     "text": [
      "E:\\Anaconda\\lib\\site-packages\\pandas\\core\\indexing.py:1472: FutureWarning: \n",
      "Passing list-likes to .loc or [] with any missing label will raise\n",
      "KeyError in the future, you can use .reindex() as an alternative.\n",
      "\n",
      "See the documentation here:\n",
      "https://pandas.pydata.org/pandas-docs/stable/indexing.html#deprecate-loc-reindex-listlike\n",
      "  return self._getitem_tuple(key)\n"
     ]
    }
   ],
   "source": [
    "df1 = pd.read_csv(calvepath+ files[0],skiprows=1)   #编码默认UTF-8，若乱码自行更改</span>\n",
    "#将读取的第一个文件写入合并后的文件保存\n",
    "df1['文件']=calvefiles[8]\n",
    "df2=df1.loc[:,[\"牛号\",\"胎次\",\"日期\",\"备注(难产评分)\",\"犊别\",\"配种日期\",'死/活',\"犊牛性别\",'犊牛号','产犊评分','与配公牛','文件']]\n",
    "df2.to_csv(SaveFile_path+'\\\\'+'1'+SaveFile_Name,encoding=\"utf_8_sig\",index=False)\n",
    "\n",
    "#循环遍历列表中各个文件名，并追加到合并后的文件\n",
    "try:\n",
    "    for i in range(1,len(files)):\n",
    "        df1 = pd.read_csv(calvepath+ files[i],skiprows=1)\n",
    "        df1['文件']=calvefiles[8]\n",
    "        df2=df1.loc[:,[\"牛号\",\"胎次\",\"出生日期\",\"上胎产犊\",\"分娩日期\",\"配种日期\",'死/活',\"犊牛性别\",'犊牛号','产犊评分','与配公牛',\n",
    "                       '文件']]\n",
    "        df2.to_csv(SaveFile_path+'\\\\'+'1'+SaveFile_Name,encoding=\"utf_8_sig\",index=False, header=False, mode='a+')\n",
    "except Exception as err:\n",
    "    print(err)\n",
    "    print(files[i])     #检测有数据格式问题的Excel表格"
   ]
  },
  {
   "cell_type": "markdown",
   "metadata": {},
   "source": [
    "### 种牛场"
   ]
  },
  {
   "cell_type": "code",
   "execution_count": 101,
   "metadata": {},
   "outputs": [],
   "source": [
    "calvepath=path+calvefiles[9]+'\\\\'\n",
    "files=os.listdir(calvepath)\n",
    "SaveFile_Name=calvefiles[9]+'产犊明细.csv'"
   ]
  },
  {
   "cell_type": "code",
   "execution_count": 105,
   "metadata": {},
   "outputs": [
    {
     "name": "stderr",
     "output_type": "stream",
     "text": [
      "E:\\Anaconda\\lib\\site-packages\\ipykernel_launcher.py:4: FutureWarning: \n",
      "Passing list-likes to .loc or [] with any missing label will raise\n",
      "KeyError in the future, you can use .reindex() as an alternative.\n",
      "\n",
      "See the documentation here:\n",
      "http://pandas.pydata.org/pandas-docs/stable/indexing.html#deprecate-loc-reindex-listlike\n",
      "  after removing the cwd from sys.path.\n",
      "E:\\Anaconda\\lib\\site-packages\\pandas\\core\\indexing.py:1367: FutureWarning: \n",
      "Passing list-likes to .loc or [] with any missing label will raise\n",
      "KeyError in the future, you can use .reindex() as an alternative.\n",
      "\n",
      "See the documentation here:\n",
      "http://pandas.pydata.org/pandas-docs/stable/indexing.html#deprecate-loc-reindex-listlike\n",
      "  return self._getitem_tuple(key)\n",
      "E:\\Anaconda\\lib\\site-packages\\ipykernel_launcher.py:13: FutureWarning: \n",
      "Passing list-likes to .loc or [] with any missing label will raise\n",
      "KeyError in the future, you can use .reindex() as an alternative.\n",
      "\n",
      "See the documentation here:\n",
      "http://pandas.pydata.org/pandas-docs/stable/indexing.html#deprecate-loc-reindex-listlike\n",
      "  del sys.path[0]\n"
     ]
    }
   ],
   "source": [
    "df1 = pd.read_csv(calvepath+ files[0])   #编码默认UTF-8，若乱码自行更改</span>\n",
    "#将读取的第一个文件写入合并后的文件保存\n",
    "df1['文件']=calvefiles[9]\n",
    "df2=df1.loc[:,[\"牛号\",\"胎次\",\"配种日期\",\"配种次数\",\"谌樘\",\"配种员\",'文件']]\n",
    "df2.to_csv(SaveFile_path+'\\\\'+'1'+SaveFile_Name,encoding=\"utf_8_sig\",index=False)\n",
    "\n",
    "#循环遍历列表中各个文件名，并追加到合并后的文件\n",
    "try:\n",
    "    for i in range(1,len(files)):\n",
    "        df1 = pd.read_csv(calvepath+ files[i])\n",
    "        df1['文件']=calvefiles[9]\n",
    "        df2=df1.loc[:,[\"牛号\",\"胎次\",\"出生日期\",\"上胎产犊\",\"分娩日期\",\"配种日期\",'死/活',\"犊牛性别\",'犊牛号','产犊评分','与配公牛',\n",
    "                       '文件']]\n",
    "        df2.to_csv(SaveFile_path+'\\\\'+'1'+SaveFile_Name,encoding=\"utf_8_sig\",index=False, header=False, mode='a+')\n",
    "except Exception as err:\n",
    "    print(err)\n",
    "    print(files[i])     #检测有数据格式问题的Excel表格"
   ]
  },
  {
   "cell_type": "code",
   "execution_count": 104,
   "metadata": {},
   "outputs": [
    {
     "name": "stderr",
     "output_type": "stream",
     "text": [
      "E:\\Anaconda\\lib\\site-packages\\ipykernel_launcher.py:13: FutureWarning: \n",
      "Passing list-likes to .loc or [] with any missing label will raise\n",
      "KeyError in the future, you can use .reindex() as an alternative.\n",
      "\n",
      "See the documentation here:\n",
      "http://pandas.pydata.org/pandas-docs/stable/indexing.html#deprecate-loc-reindex-listlike\n",
      "  del sys.path[0]\n",
      "E:\\Anaconda\\lib\\site-packages\\pandas\\core\\indexing.py:1367: FutureWarning: \n",
      "Passing list-likes to .loc or [] with any missing label will raise\n",
      "KeyError in the future, you can use .reindex() as an alternative.\n",
      "\n",
      "See the documentation here:\n",
      "http://pandas.pydata.org/pandas-docs/stable/indexing.html#deprecate-loc-reindex-listlike\n",
      "  return self._getitem_tuple(key)\n"
     ]
    }
   ],
   "source": [
    "df1 = pd.read_csv(calvepath+ files[0],skiprows=1)   #编码默认UTF-8，若乱码自行更改</span>\n",
    "#将读取的第一个文件写入合并后的文件保存\n",
    "df1['文件']=calvefiles[9]\n",
    "df2=df1.loc[:,[\"分娩母牛\",\"产犊日期\",\"配种日期\",\"性别\",\"难产否\",'与配公牛','文件']]\n",
    "df2.to_csv(SaveFile_path+'\\\\'+'2'+SaveFile_Name,encoding=\"utf_8_sig\",index=False)\n",
    "\n",
    "#循环遍历列表中各个文件名，并追加到合并后的文件\n",
    "try:\n",
    "    for i in range(1,len(files)):\n",
    "        df1 = pd.read_csv(calvepath+ files[i],skiprows=1)\n",
    "        df1['文件']=calvefiles[9]\n",
    "        df2=df1.loc[:,[\"分娩母牛\",\"产犊日期\",\"配种日期\",'与配公牛',\"性别\",\"难产否\",\n",
    "                       '文件']]\n",
    "        df2.to_csv(SaveFile_path+'\\\\'+'2'+SaveFile_Name,encoding=\"utf_8_sig\",index=False, header=False, mode='a+')\n",
    "except Exception as err:\n",
    "    print(err)\n",
    "    print(files[i])     #检测有数据格式问题的Excel表格"
   ]
  },
  {
   "cell_type": "markdown",
   "metadata": {},
   "source": [
    "# 三部产犊记录整理 "
   ]
  },
  {
   "cell_type": "markdown",
   "metadata": {},
   "source": [
    "## 将有产犊记录的工作表移到一个文件夹下"
   ]
  },
  {
   "cell_type": "code",
   "execution_count": 160,
   "metadata": {},
   "outputs": [],
   "source": [
    "path='F:\\\\data-SH\\\\fertility data17.6\\\\sanbu-sum\\\\'\n",
    "excels=os.listdir(path)\n",
    "\n",
    "a=list(excels)\n",
    "\n",
    "for i in range(len(excels)):\n",
    "    a[i]=path+excels[i]\n",
    "    \n",
    "sheet_names=list(excels)\n",
    "\n",
    "newfile='F:\\\\data-SH\\\\fertility data17.6\\\\sanbu\\\\calvefile\\\\' #新建一个目录放置有产犊数据的表格\n",
    "\n",
    "for i in range(len(excels)):\n",
    "    sheet_names[i]=xlrd.open_workbook(a[i]).sheet_names()\n",
    "    for j in range(len(sheet_names[i])):\n",
    "        if '产犊' in sheet_names[i][j]:\n",
    "            df=pd.read_excel(a[i],sheet_name=sheet_names[i][j],encoding='utf8')\n",
    "            df.to_csv(newfile+excels[i]+sheet_names[i][j]+'.csv',encoding=\"utf_8_sig\",index=False)\n",
    "        elif '分娩' in sheet_names[i][j]:\n",
    "            df=pd.read_excel(a[i],sheet_name=sheet_names[i][j],encoding='utf8')\n",
    "            df.to_csv(newfile+excels[i]+sheet_names[i][j]+'.csv',encoding=\"utf_8_sig\",index=False)"
   ]
  },
  {
   "cell_type": "markdown",
   "metadata": {},
   "source": [
    "总计获得182个工作表，将没用的工作表删除后进行合并工作"
   ]
  },
  {
   "cell_type": "markdown",
   "metadata": {},
   "source": [
    "## 产犊记录合并"
   ]
  },
  {
   "cell_type": "markdown",
   "metadata": {},
   "source": [
    "整理后得到46个产犊记录表，下一步进行合并"
   ]
  },
  {
   "cell_type": "code",
   "execution_count": 181,
   "metadata": {},
   "outputs": [],
   "source": [
    "calvepath='F:\\\\data-SH\\\\fertility data17.6\\\\sanbu\\\\calvefile\\\\'\n",
    "files=os.listdir(calvepath)\n",
    "SaveFile_Name='sanbu-calve.csv'\n",
    "SaveFile_path='F:\\\\data-SH\\\\fertility data17.6\\\\sanbu'"
   ]
  },
  {
   "cell_type": "code",
   "execution_count": 183,
   "metadata": {},
   "outputs": [
    {
     "name": "stderr",
     "output_type": "stream",
     "text": [
      "E:\\Anaconda\\lib\\site-packages\\pandas\\core\\indexing.py:1472: FutureWarning: \n",
      "Passing list-likes to .loc or [] with any missing label will raise\n",
      "KeyError in the future, you can use .reindex() as an alternative.\n",
      "\n",
      "See the documentation here:\n",
      "https://pandas.pydata.org/pandas-docs/stable/indexing.html#deprecate-loc-reindex-listlike\n",
      "  return self._getitem_tuple(key)\n"
     ]
    }
   ],
   "source": [
    "df1 = pd.read_csv(calvepath+ files[0])   #编码默认UTF-8，若乱码自行更改</span>\n",
    "#将读取的第一个文件写入合并后的文件保存\n",
    "df1['文件']=files[0]\n",
    "df2=df1.loc[:,[\"牛号\",\"胎次\",\"犊别\",\"日期\",\"备注(难产评分)\",\"死胎\",'文件']]\n",
    "df2.to_csv(SaveFile_path+'\\\\'+'1'+SaveFile_Name,encoding=\"utf_8_sig\",index=False)\n",
    "\n",
    "#循环遍历列表中各个文件名，并追加到合并后的文件\n",
    "try:\n",
    "    for i in range(1,len(files)):\n",
    "        df1 = pd.read_csv(calvepath+ files[i])\n",
    "        df1['文件']=files[i]\n",
    "        df2=df1.loc[:,[\"牛号\",\"胎次\",\"犊别\",\"日期\",\"备注(难产评分)\",\"死胎\",'文件']]\n",
    "        df2.to_csv(SaveFile_path+'\\\\'+'1'+SaveFile_Name,encoding=\"utf_8_sig\",index=False, header=False, mode='a+')\n",
    "except Exception as err:\n",
    "    print(err)\n",
    "    print(files[i])     #检测有数据格式问题的Excel表格"
   ]
  },
  {
   "cell_type": "markdown",
   "metadata": {},
   "source": [
    "# 配种记录整理"
   ]
  },
  {
   "cell_type": "markdown",
   "metadata": {},
   "source": [
    "## 一部 （一部没有配种记录）"
   ]
  },
  {
   "cell_type": "markdown",
   "metadata": {},
   "source": [
    "## 二部"
   ]
  },
  {
   "cell_type": "markdown",
   "metadata": {},
   "source": [
    "### 配种数据提取"
   ]
  },
  {
   "cell_type": "code",
   "execution_count": 184,
   "metadata": {},
   "outputs": [],
   "source": [
    "path='F:\\\\Python\\\\erbu\\\\1SUM\\\\'\n",
    "excels=os.listdir(path)\n",
    "\n",
    "a=list(excels)\n",
    "\n",
    "for i in range(len(excels)):\n",
    "    a[i]=path+excels[i]\n",
    "    \n",
    "sheet_names=list(excels)\n",
    "\n",
    "newfile='F:\\\\data-SH\\\\fertility data17.6\\\\erbu\\\\insfile\\\\' #新建一个目录放置有配种数据的表格\n",
    "\n",
    "for i in range(len(excels)):\n",
    "    sheet_names[i]=xlrd.open_workbook(a[i]).sheet_names()\n",
    "    for j in range(len(sheet_names[i])):\n",
    "        if '成配' in sheet_names[i][j]:\n",
    "            df=pd.read_excel(a[i],sheet_name=sheet_names[i][j],encoding='utf8')\n",
    "            df.to_csv(newfile+excels[i]+sheet_names[i][j]+'.csv',encoding=\"utf_8_sig\",index=False)\n",
    "        elif '后配' in sheet_names[i][j]:\n",
    "            df=pd.read_excel(a[i],sheet_name=sheet_names[i][j],encoding='utf8')\n",
    "            df.to_csv(newfile+excels[i]+sheet_names[i][j]+'.csv',encoding=\"utf_8_sig\",index=False)\n",
    "        elif '成旬' in sheet_names[i][j]:\n",
    "            df=pd.read_excel(a[i],sheet_name=sheet_names[i][j],encoding='utf8')\n",
    "            df.to_csv(newfile+excels[i]+sheet_names[i][j]+'.csv',encoding=\"utf_8_sig\",index=False)\n",
    "        elif '后旬' in sheet_names[i][j]:\n",
    "            df=pd.read_excel(a[i],sheet_name=sheet_names[i][j],encoding='utf8')\n",
    "            df.to_csv(newfile+excels[i]+sheet_names[i][j]+'.csv',encoding=\"utf_8_sig\",index=False)\n",
    "        elif '配种' in sheet_names[i][j]:\n",
    "            df=pd.read_excel(a[i],sheet_name=sheet_names[i][j],encoding='utf8')\n",
    "            df.to_csv(newfile+excels[i]+sheet_names[i][j]+'.csv',encoding=\"utf_8_sig\",index=False)\n",
    "        elif '旬报' in sheet_names[i][j]:\n",
    "            df=pd.read_excel(a[i],sheet_name=sheet_names[i][j],encoding='utf8')\n",
    "            df.to_csv(newfile+excels[i]+sheet_names[i][j]+'.csv',encoding=\"utf_8_sig\",index=False)"
   ]
  },
  {
   "cell_type": "markdown",
   "metadata": {},
   "source": [
    "获得700个文件，按照牛场整理删除无用表格后进行合并"
   ]
  },
  {
   "cell_type": "markdown",
   "metadata": {},
   "source": [
    "### 合并配种记录"
   ]
  },
  {
   "cell_type": "markdown",
   "metadata": {},
   "source": [
    "#### 东风牧场"
   ]
  },
  {
   "cell_type": "code",
   "execution_count": 290,
   "metadata": {},
   "outputs": [],
   "source": [
    "path='F:\\\\data-SH\\\\fertility data17.6\\\\erbu\\\\insfile\\\\'\n",
    "insfiles=os.listdir(path)\n",
    "SaveFile_path='F:\\\\data-SH\\\\fertility data17.6\\\\erbu\\\\'"
   ]
  },
  {
   "cell_type": "code",
   "execution_count": 291,
   "metadata": {},
   "outputs": [],
   "source": [
    "inspath=path+insfiles[0]+'\\\\'\n",
    "files=os.listdir(inspath)\n",
    "SaveFile_Name=insfiles[0]+'配种明细.csv'"
   ]
  },
  {
   "cell_type": "code",
   "execution_count": 292,
   "metadata": {},
   "outputs": [
    {
     "name": "stderr",
     "output_type": "stream",
     "text": [
      "E:\\Anaconda\\lib\\site-packages\\pandas\\core\\indexing.py:1472: FutureWarning: \n",
      "Passing list-likes to .loc or [] with any missing label will raise\n",
      "KeyError in the future, you can use .reindex() as an alternative.\n",
      "\n",
      "See the documentation here:\n",
      "https://pandas.pydata.org/pandas-docs/stable/indexing.html#deprecate-loc-reindex-listlike\n",
      "  return self._getitem_tuple(key)\n"
     ]
    }
   ],
   "source": [
    "df1 = pd.read_csv(inspath+ files[0],skiprows=2)   #编码默认UTF-8，若乱码自行更改</span>\n",
    "#将读取的第一个文件写入合并后的文件保存\n",
    "df1['文件']=insfiles[0]\n",
    "df2=df1.loc[:,[\"牛号\",\"最近分娩日期\",\"配种日期\",'配次','公牛号','文件']]\n",
    "df2.to_csv(SaveFile_path+'\\\\'+'1'+SaveFile_Name,encoding=\"utf_8_sig\",index=False)\n",
    "\n",
    "#循环遍历列表中各个文件名，并追加到合并后的文件\n",
    "try:\n",
    "    for i in range(1,len(files)):\n",
    "        df1 = pd.read_csv(inspath+ files[i],skiprows=2)\n",
    "        df1['文件']=insfiles[0]\n",
    "        df2=df1.loc[:,[\"牛号\",\"最近分娩日期\",\"配种日期\",'配次','公牛号','文件']]\n",
    "        df2.to_csv(SaveFile_path+'\\\\'+'1'+SaveFile_Name,encoding=\"utf_8_sig\",index=False, header=False, mode='a+')\n",
    "except Exception as err:\n",
    "    print(err)\n",
    "    print(files[i])     #检测有数据格式问题的Excel表格"
   ]
  },
  {
   "cell_type": "markdown",
   "metadata": {},
   "source": [
    "#### 东海牧场"
   ]
  },
  {
   "cell_type": "markdown",
   "metadata": {},
   "source": [
    "__配种明细文件中都没有对应最近分娩日期，需要提取相应分娩日期进行合并。__"
   ]
  },
  {
   "cell_type": "code",
   "execution_count": 240,
   "metadata": {},
   "outputs": [
    {
     "name": "stderr",
     "output_type": "stream",
     "text": [
      "E:\\Anaconda\\lib\\site-packages\\pandas\\core\\indexing.py:1472: FutureWarning: \n",
      "Passing list-likes to .loc or [] with any missing label will raise\n",
      "KeyError in the future, you can use .reindex() as an alternative.\n",
      "\n",
      "See the documentation here:\n",
      "https://pandas.pydata.org/pandas-docs/stable/indexing.html#deprecate-loc-reindex-listlike\n",
      "  return self._getitem_tuple(key)\n"
     ]
    }
   ],
   "source": [
    "name='东海'\n",
    "SaveFile_path='F:\\\\data-SH\\\\fertility data17.6\\\\erbu\\\\'\n",
    "SaveFile_Name=name+'最近分娩.csv'\n",
    "\n",
    "df1=pd.DataFrame(columns=[\"牛号\",'胎次',\"最近分娩\",\"最近配种日期\",'文件'])\n",
    "df1.to_csv(SaveFile_path+'\\\\'+SaveFile_Name,encoding=\"utf_8_sig\",index=False, header=True, mode='a+')\n",
    "\n",
    "path='F:\\\\Python\\\\erbu\\\\1SUM\\\\'\n",
    "excels=os.listdir(path)\n",
    "\n",
    "a=list(excels)\n",
    "\n",
    "for i in range(len(excels)):\n",
    "    a[i]=path+excels[i]\n",
    "    \n",
    "\n",
    "newfile='F:\\\\data-SH\\\\fertility data17.6\\\\erbu\\\\insfile\\\\' #新建一个目录放置有配种数据的表格\n",
    "\n",
    "try:\n",
    "    for i in a:\n",
    "        if name in i:\n",
    "            df1 = pd.read_excel(i)\n",
    "            df1['文件']=i\n",
    "            df2=df1.loc[:,[\"牛号\",'胎次',\"最近分娩\",\"最近配种日期\",'文件']]\n",
    "            df2.to_csv(SaveFile_path+'\\\\'+SaveFile_Name,encoding=\"utf_8_sig\",index=False, header=False, mode='a+')\n",
    "except Exception as err:\n",
    "    print(err)\n",
    "    print(files[i])     #检测有数据格式问题的Excel表格"
   ]
  },
  {
   "cell_type": "markdown",
   "metadata": {},
   "source": [
    "__配种明细合并__"
   ]
  },
  {
   "cell_type": "code",
   "execution_count": 293,
   "metadata": {},
   "outputs": [
    {
     "name": "stderr",
     "output_type": "stream",
     "text": [
      "E:\\Anaconda\\lib\\site-packages\\pandas\\core\\indexing.py:1472: FutureWarning: \n",
      "Passing list-likes to .loc or [] with any missing label will raise\n",
      "KeyError in the future, you can use .reindex() as an alternative.\n",
      "\n",
      "See the documentation here:\n",
      "https://pandas.pydata.org/pandas-docs/stable/indexing.html#deprecate-loc-reindex-listlike\n",
      "  return self._getitem_tuple(key)\n"
     ]
    }
   ],
   "source": [
    "path='F:\\\\data-SH\\\\fertility data17.6\\\\erbu\\\\insfile\\\\'\n",
    "insfiles=os.listdir(path)\n",
    "SaveFile_path='F:\\\\data-SH\\\\fertility data17.6\\\\erbu\\\\'\n",
    "\n",
    "inspath=path+insfiles[1]+'\\\\'\n",
    "files=os.listdir(inspath)\n",
    "SaveFile_Name=insfiles[1]+'配种明细.csv'\n",
    "\n",
    "df1 = pd.read_csv(inspath+ files[0],skiprows=1)   #编码默认UTF-8，若乱码自行更改</span>\n",
    "#将读取的第一个文件写入合并后的文件保存\n",
    "df1['文件']=insfiles[1]\n",
    "df2=df1.loc[:,[\"牛号\",\"最近配种\",'与配公牛','配种员','文件']]\n",
    "df2.to_csv(SaveFile_path+'\\\\'+'1'+SaveFile_Name,encoding=\"utf_8_sig\",index=False)\n",
    "\n",
    "#循环遍历列表中各个文件名，并追加到合并后的文件\n",
    "try:\n",
    "    for i in range(1,len(files)):\n",
    "        df1 = pd.read_csv(inspath+ files[i],skiprows=1)\n",
    "        df1['文件']=insfiles[1]\n",
    "        df2=df1.loc[:,[\"牛号\",\"最近配种\",'与配公牛','配种员','文件']]\n",
    "        df2.to_csv(SaveFile_path+'\\\\'+'1'+SaveFile_Name,encoding=\"utf_8_sig\",index=False, header=False, mode='a+')\n",
    "except Exception as err:\n",
    "    print(err)\n",
    "    print(files[i])     #检测有数据格式问题的Excel表格"
   ]
  },
  {
   "cell_type": "code",
   "execution_count": 210,
   "metadata": {},
   "outputs": [
    {
     "name": "stderr",
     "output_type": "stream",
     "text": [
      "E:\\Anaconda\\lib\\site-packages\\pandas\\core\\indexing.py:1472: FutureWarning: \n",
      "Passing list-likes to .loc or [] with any missing label will raise\n",
      "KeyError in the future, you can use .reindex() as an alternative.\n",
      "\n",
      "See the documentation here:\n",
      "https://pandas.pydata.org/pandas-docs/stable/indexing.html#deprecate-loc-reindex-listlike\n",
      "  return self._getitem_tuple(key)\n"
     ]
    }
   ],
   "source": [
    "path='F:\\\\data-SH\\\\fertility data17.6\\\\erbu\\\\insfile\\\\'\n",
    "insfiles=os.listdir(path)\n",
    "SaveFile_path='F:\\\\data-SH\\\\fertility data17.6\\\\erbu\\\\'\n",
    "\n",
    "inspath=path+insfiles[1]+'\\\\'\n",
    "files=os.listdir(inspath)\n",
    "SaveFile_Name=insfiles[1]+'配种明细.csv'\n",
    "\n",
    "df1 = pd.read_csv(inspath+ files[0],skiprows=1)   #编码默认UTF-8，若乱码自行更改</span>\n",
    "#将读取的第一个文件写入合并后的文件保存\n",
    "df1['文件']=insfiles[1]\n",
    "df2=df1.loc[:,[\"牛号.1\",\"最近配种.1\",'配种员.1','文件']]\n",
    "df2.to_csv(SaveFile_path+'\\\\'+'2'+SaveFile_Name,encoding=\"utf_8_sig\",index=False)\n",
    "\n",
    "#循环遍历列表中各个文件名，并追加到合并后的文件\n",
    "try:\n",
    "    for i in range(1,len(files)):\n",
    "        df1 = pd.read_csv(inspath+ files[i],skiprows=1)\n",
    "        df1['文件']=insfiles[1]\n",
    "        df2=df1.loc[:,[\"牛号.1\",\"最近配种.1\",'配种员.1','文件']]\n",
    "        df2.to_csv(SaveFile_path+'\\\\'+'2'+SaveFile_Name,encoding=\"utf_8_sig\",index=False, header=False, mode='a+')\n",
    "except Exception as err:\n",
    "    print(err)\n",
    "    print(files[i])     #检测有数据格式问题的Excel表格"
   ]
  },
  {
   "cell_type": "markdown",
   "metadata": {},
   "source": [
    "#### 鸿星牧场"
   ]
  },
  {
   "cell_type": "code",
   "execution_count": 294,
   "metadata": {},
   "outputs": [
    {
     "name": "stderr",
     "output_type": "stream",
     "text": [
      "E:\\Anaconda\\lib\\site-packages\\pandas\\core\\indexing.py:1472: FutureWarning: \n",
      "Passing list-likes to .loc or [] with any missing label will raise\n",
      "KeyError in the future, you can use .reindex() as an alternative.\n",
      "\n",
      "See the documentation here:\n",
      "https://pandas.pydata.org/pandas-docs/stable/indexing.html#deprecate-loc-reindex-listlike\n",
      "  return self._getitem_tuple(key)\n"
     ]
    }
   ],
   "source": [
    "path='F:\\\\data-SH\\\\fertility data17.6\\\\erbu\\\\insfile\\\\'\n",
    "insfiles=os.listdir(path)\n",
    "SaveFile_path='F:\\\\data-SH\\\\fertility data17.6\\\\erbu\\\\'\n",
    "\n",
    "inspath=path+insfiles[2]+'\\\\'\n",
    "files=os.listdir(inspath)\n",
    "SaveFile_Name=insfiles[2]+'配种明细.csv'\n",
    "\n",
    "df1 = pd.read_csv(inspath+ files[0],skiprows=1)   #编码默认UTF-8，若乱码自行更改</span>\n",
    "#将读取的第一个文件写入合并后的文件保存\n",
    "df1['文件']=insfiles[2]\n",
    "df2=df1.loc[:,[\"牛号\",\"最近分娩日期\",'配种日期','公牛号','配次','文件']]\n",
    "df2.to_csv(SaveFile_path+'\\\\'+'1'+SaveFile_Name,encoding=\"utf_8_sig\",index=False)\n",
    "\n",
    "#循环遍历列表中各个文件名，并追加到合并后的文件\n",
    "try:\n",
    "    for i in range(1,len(files)):\n",
    "        df1 = pd.read_csv(inspath+ files[i],skiprows=1)\n",
    "        df1['文件']=insfiles[2]\n",
    "        df2=df1.loc[:,[\"牛号\",\"最近分娩日期\",'配种日期','公牛号','配次','文件']]\n",
    "        df2.to_csv(SaveFile_path+'\\\\'+'1'+SaveFile_Name,encoding=\"utf_8_sig\",index=False, header=False, mode='a+')\n",
    "except Exception as err:\n",
    "    print(err)\n",
    "    print(files[i])     #检测有数据格式问题的Excel表格"
   ]
  },
  {
   "cell_type": "code",
   "execution_count": 295,
   "metadata": {},
   "outputs": [
    {
     "name": "stderr",
     "output_type": "stream",
     "text": [
      "E:\\Anaconda\\lib\\site-packages\\pandas\\core\\indexing.py:1472: FutureWarning: \n",
      "Passing list-likes to .loc or [] with any missing label will raise\n",
      "KeyError in the future, you can use .reindex() as an alternative.\n",
      "\n",
      "See the documentation here:\n",
      "https://pandas.pydata.org/pandas-docs/stable/indexing.html#deprecate-loc-reindex-listlike\n",
      "  return self._getitem_tuple(key)\n"
     ]
    }
   ],
   "source": [
    "path='F:\\\\data-SH\\\\fertility data17.6\\\\erbu\\\\insfile\\\\'\n",
    "insfiles=os.listdir(path)\n",
    "SaveFile_path='F:\\\\data-SH\\\\fertility data17.6\\\\erbu\\\\'\n",
    "\n",
    "inspath=path+insfiles[2]+'\\\\'\n",
    "files=os.listdir(inspath)\n",
    "SaveFile_Name=insfiles[2]+'配种明细.csv'\n",
    "\n",
    "df1 = pd.read_csv(inspath+ files[0],skiprows=1)   #编码默认UTF-8，若乱码自行更改</span>\n",
    "#将读取的第一个文件写入合并后的文件保存\n",
    "df1['文件']=insfiles[2]\n",
    "df2=df1.loc[:,[\"牛号.1\",\"最近分娩日期.1\",'配种日期.1','公牛号.1','配次.1','文件']]\n",
    "df2.to_csv(SaveFile_path+'\\\\'+'2'+SaveFile_Name,encoding=\"utf_8_sig\",index=False)\n",
    "\n",
    "#循环遍历列表中各个文件名，并追加到合并后的文件\n",
    "try:\n",
    "    for i in range(1,len(files)):\n",
    "        df1 = pd.read_csv(inspath+ files[i],skiprows=1)\n",
    "        df1['文件']=insfiles[2]\n",
    "        df2=df1.loc[:,[\"牛号.1\",\"最近分娩日期.1\",'配种日期.1','公牛号.1','配次.1','文件']]\n",
    "        df2.to_csv(SaveFile_path+'\\\\'+'2'+SaveFile_Name,encoding=\"utf_8_sig\",index=False, header=False, mode='a+')\n",
    "except Exception as err:\n",
    "    print(err)\n",
    "    print(files[i])     #检测有数据格式问题的Excel表格"
   ]
  },
  {
   "cell_type": "markdown",
   "metadata": {},
   "source": [
    "#### 五四"
   ]
  },
  {
   "cell_type": "markdown",
   "metadata": {},
   "source": [
    "__54牧场配种明细数据无最近配种日期，另从调取合并__"
   ]
  },
  {
   "cell_type": "code",
   "execution_count": 241,
   "metadata": {},
   "outputs": [],
   "source": [
    "name='五四'\n",
    "SaveFile_path='F:\\\\data-SH\\\\fertility data17.6\\\\erbu\\\\'\n",
    "SaveFile_Name=name+'最近分娩.csv'\n",
    "\n",
    "df1=pd.DataFrame(columns=[\"牛号\",'胎次',\"最近分娩\",\"最近配种日期\",'文件'])\n",
    "df1.to_csv(SaveFile_path+'\\\\'+SaveFile_Name,encoding=\"utf_8_sig\",index=False, header=True, mode='a+')\n",
    "\n",
    "path='F:\\\\Python\\\\erbu\\\\1SUM\\\\'\n",
    "excels=os.listdir(path)\n",
    "\n",
    "a=list(excels)\n",
    "\n",
    "for i in range(len(excels)):\n",
    "    a[i]=path+excels[i]\n",
    "    \n",
    "\n",
    "newfile='F:\\\\data-SH\\\\fertility data17.6\\\\erbu\\\\insfile\\\\' #新建一个目录放置有配种数据的表格\n",
    "\n",
    "try:\n",
    "    for i in a:\n",
    "        if name in i:\n",
    "            df1 = pd.read_excel(i,sheet_name=1)\n",
    "            df1['文件']=i\n",
    "            df2=df1.loc[:,[\"牛号\",'胎次',\"最近分娩\",\"最近配种日期\",'文件']]\n",
    "            df2.to_csv(SaveFile_path+'\\\\'+SaveFile_Name,encoding=\"utf_8_sig\",index=False, header=False, mode='a+')\n",
    "except Exception as err:\n",
    "    print(err)\n",
    "    print(files[i])     #检测有数据格式问题的Excel表格"
   ]
  },
  {
   "cell_type": "markdown",
   "metadata": {},
   "source": [
    "__配种数据合并__"
   ]
  },
  {
   "cell_type": "code",
   "execution_count": 296,
   "metadata": {},
   "outputs": [
    {
     "name": "stderr",
     "output_type": "stream",
     "text": [
      "E:\\Anaconda\\lib\\site-packages\\pandas\\core\\indexing.py:1472: FutureWarning: \n",
      "Passing list-likes to .loc or [] with any missing label will raise\n",
      "KeyError in the future, you can use .reindex() as an alternative.\n",
      "\n",
      "See the documentation here:\n",
      "https://pandas.pydata.org/pandas-docs/stable/indexing.html#deprecate-loc-reindex-listlike\n",
      "  return self._getitem_tuple(key)\n"
     ]
    }
   ],
   "source": [
    "path='F:\\\\data-SH\\\\fertility data17.6\\\\erbu\\\\insfile\\\\'\n",
    "insfiles=os.listdir(path)\n",
    "SaveFile_path='F:\\\\data-SH\\\\fertility data17.6\\\\erbu\\\\'\n",
    "\n",
    "inspath=path+insfiles[3]+'\\\\'\n",
    "files=os.listdir(inspath)\n",
    "SaveFile_Name=insfiles[3]+'配种明细.csv'\n",
    "\n",
    "df1 = pd.read_csv(inspath+ files[0],skiprows=3)   #编码默认UTF-8，若乱码自行更改</span>\n",
    "#将读取的第一个文件写入合并后的文件保存\n",
    "df1['文件']=insfiles[3]\n",
    "df2=df1.loc[:,[\"牛号\",'配种日期','配次','配种员','与配公牛','文件']]\n",
    "df2.to_csv(SaveFile_path+'\\\\'+'1'+SaveFile_Name,encoding=\"utf_8_sig\",index=False)\n",
    "\n",
    "#循环遍历列表中各个文件名，并追加到合并后的文件\n",
    "try:\n",
    "    for i in range(1,len(files)):\n",
    "        df1 = pd.read_csv(inspath+ files[i],skiprows=3)\n",
    "        df1['文件']=insfiles[3]\n",
    "        df2=df1.loc[:,[\"牛号\",'配种日期','配次','配种员','与配公牛','文件']]\n",
    "        df2.to_csv(SaveFile_path+'\\\\'+'1'+SaveFile_Name,encoding=\"utf_8_sig\",index=False, header=False, mode='a+')\n",
    "except Exception as err:\n",
    "    print(err)\n",
    "    print(files[i])     #检测有数据格式问题的Excel表格"
   ]
  },
  {
   "cell_type": "code",
   "execution_count": 297,
   "metadata": {
    "scrolled": true
   },
   "outputs": [
    {
     "name": "stderr",
     "output_type": "stream",
     "text": [
      "E:\\Anaconda\\lib\\site-packages\\pandas\\core\\indexing.py:1472: FutureWarning: \n",
      "Passing list-likes to .loc or [] with any missing label will raise\n",
      "KeyError in the future, you can use .reindex() as an alternative.\n",
      "\n",
      "See the documentation here:\n",
      "https://pandas.pydata.org/pandas-docs/stable/indexing.html#deprecate-loc-reindex-listlike\n",
      "  return self._getitem_tuple(key)\n"
     ]
    }
   ],
   "source": [
    "path='F:\\\\data-SH\\\\fertility data17.6\\\\erbu\\\\insfile\\\\'\n",
    "insfiles=os.listdir(path)\n",
    "SaveFile_path='F:\\\\data-SH\\\\fertility data17.6\\\\erbu\\\\'\n",
    "\n",
    "inspath=path+insfiles[3]+'\\\\'\n",
    "files=os.listdir(inspath)\n",
    "SaveFile_Name=insfiles[3]+'配种明细.csv'\n",
    "\n",
    "df1 = pd.read_csv(inspath+ files[0],skiprows=3)   #编码默认UTF-8，若乱码自行更改</span>\n",
    "#将读取的第一个文件写入合并后的文件保存\n",
    "df1['文件']=insfiles[3]\n",
    "df2=df1.loc[:,[\"牛号.1\",'配种日期.1','配次.1','配种员.1','与配公牛.1','文件']]\n",
    "df2.to_csv(SaveFile_path+'\\\\'+'2'+SaveFile_Name,encoding=\"utf_8_sig\",index=False)\n",
    "\n",
    "#循环遍历列表中各个文件名，并追加到合并后的文件\n",
    "try:\n",
    "    for i in range(1,len(files)):\n",
    "        df1 = pd.read_csv(inspath+ files[i],skiprows=3)\n",
    "        df1['文件']=insfiles[3]\n",
    "        df2=df1.loc[:,[\"牛号.1\",'配种日期.1','配次.1','配种员.1','与配公牛.1','文件']]\n",
    "        df2.to_csv(SaveFile_path+'\\\\'+'2'+SaveFile_Name,encoding=\"utf_8_sig\",index=False, header=False, mode='a+')\n",
    "except Exception as err:\n",
    "    print(err)\n",
    "    print(files[i])     #检测有数据格式问题的Excel表格"
   ]
  },
  {
   "cell_type": "markdown",
   "metadata": {},
   "source": [
    "#### 新东"
   ]
  },
  {
   "cell_type": "markdown",
   "metadata": {},
   "source": [
    "__新东牧场比较复杂，将成母牛和青年牛配种数据分开，每种有2个不同的格式，先分别合并__"
   ]
  },
  {
   "cell_type": "markdown",
   "metadata": {},
   "source": [
    "__成乳牛__"
   ]
  },
  {
   "cell_type": "code",
   "execution_count": 298,
   "metadata": {},
   "outputs": [
    {
     "name": "stderr",
     "output_type": "stream",
     "text": [
      "E:\\Anaconda\\lib\\site-packages\\pandas\\core\\indexing.py:1472: FutureWarning: \n",
      "Passing list-likes to .loc or [] with any missing label will raise\n",
      "KeyError in the future, you can use .reindex() as an alternative.\n",
      "\n",
      "See the documentation here:\n",
      "https://pandas.pydata.org/pandas-docs/stable/indexing.html#deprecate-loc-reindex-listlike\n",
      "  return self._getitem_tuple(key)\n"
     ]
    }
   ],
   "source": [
    "path='F:\\\\data-SH\\\\fertility data17.6\\\\erbu\\\\insfile\\\\xd\\\\cow\\\\'\n",
    "SaveFile_path='F:\\\\data-SH\\\\fertility data17.6\\\\erbu\\\\xdins'\n",
    "\n",
    "inspath=path+'1'+'\\\\'\n",
    "files=os.listdir(inspath)\n",
    "SaveFile_Name='成母牛.csv'\n",
    "\n",
    "df1 = pd.read_csv(inspath+ files[0],skiprows=1)   #编码默认UTF-8，若乱码自行更改</span>\n",
    "#将读取的第一个文件写入合并后的文件保存\n",
    "df1['文件']=files[0]\n",
    "df2=df1.loc[:,[\"牛号\",'配种日期','与配公牛','配次',\"牛号.1\",'配种日期.1','与配公牛.1','配次.1',\"牛号.2\",'配种日期.2','与配公牛.2','配次.2','文件']]\n",
    "df2.to_csv(SaveFile_path+'\\\\'+'1'+SaveFile_Name,encoding=\"utf_8_sig\",index=False)\n",
    "\n",
    "#循环遍历列表中各个文件名，并追加到合并后的文件\n",
    "try:\n",
    "    for i in range(1,len(files)):\n",
    "        df1 = pd.read_csv(inspath+ files[i],skiprows=1)\n",
    "        df1['文件']=files[i]\n",
    "        df2=df1.loc[:,[\"牛号\",'配种日期','与配公牛','配次',\"牛号.1\",'配种日期.1','与配公牛.1','配次.1',\"牛号.2\",'配种日期.2','与配公牛.2','配次.2','文件']]\n",
    "        df2.to_csv(SaveFile_path+'\\\\'+'1'+SaveFile_Name,encoding=\"utf_8_sig\",index=False, header=False, mode='a+')\n",
    "except Exception as err:\n",
    "    print(err)\n",
    "    print(files[i])     #检测有数据格式问题的Excel表格"
   ]
  },
  {
   "cell_type": "code",
   "execution_count": 237,
   "metadata": {},
   "outputs": [
    {
     "name": "stderr",
     "output_type": "stream",
     "text": [
      "E:\\Anaconda\\lib\\site-packages\\pandas\\core\\indexing.py:1472: FutureWarning: \n",
      "Passing list-likes to .loc or [] with any missing label will raise\n",
      "KeyError in the future, you can use .reindex() as an alternative.\n",
      "\n",
      "See the documentation here:\n",
      "https://pandas.pydata.org/pandas-docs/stable/indexing.html#deprecate-loc-reindex-listlike\n",
      "  return self._getitem_tuple(key)\n"
     ]
    }
   ],
   "source": [
    "path='F:\\\\data-SH\\\\fertility data17.6\\\\erbu\\\\insfile\\\\xd\\\\cow\\\\'\n",
    "SaveFile_path='F:\\\\data-SH\\\\fertility data17.6\\\\erbu\\\\xdins'\n",
    "\n",
    "inspath=path+'2'+'\\\\'\n",
    "files=os.listdir(inspath)\n",
    "SaveFile_Name='成母牛.csv'\n",
    "\n",
    "df1 = pd.read_csv(inspath+ files[0])   #编码默认UTF-8，若乱码自行更改</span>\n",
    "#将读取的第一个文件写入合并后的文件保存\n",
    "df1['文件']=files[0]\n",
    "df2=df1.loc[:,[\"牛号\",'最近配种日期','最近分娩日期','配次','文件']]\n",
    "df2.to_csv(SaveFile_path+'\\\\'+'2'+SaveFile_Name,encoding=\"utf_8_sig\",index=False)\n",
    "\n",
    "#循环遍历列表中各个文件名，并追加到合并后的文件\n",
    "try:\n",
    "    for i in range(1,len(files)):\n",
    "        df1 = pd.read_csv(inspath+ files[i])\n",
    "        df1['文件']=files[i]\n",
    "        df2=df1.loc[:,[\"牛号\",'最近配种日期','最近分娩日期','配次','文件']]\n",
    "        df2.to_csv(SaveFile_path+'\\\\'+'2'+SaveFile_Name,encoding=\"utf_8_sig\",index=False, header=False, mode='a+')\n",
    "except Exception as err:\n",
    "    print(err)\n",
    "    print(files[i])     #检测有数据格式问题的Excel表格"
   ]
  },
  {
   "cell_type": "markdown",
   "metadata": {},
   "source": [
    "__青年牛__"
   ]
  },
  {
   "cell_type": "code",
   "execution_count": 234,
   "metadata": {},
   "outputs": [
    {
     "name": "stderr",
     "output_type": "stream",
     "text": [
      "E:\\Anaconda\\lib\\site-packages\\pandas\\core\\indexing.py:1472: FutureWarning: \n",
      "Passing list-likes to .loc or [] with any missing label will raise\n",
      "KeyError in the future, you can use .reindex() as an alternative.\n",
      "\n",
      "See the documentation here:\n",
      "https://pandas.pydata.org/pandas-docs/stable/indexing.html#deprecate-loc-reindex-listlike\n",
      "  return self._getitem_tuple(key)\n"
     ]
    }
   ],
   "source": [
    "path='F:\\\\data-SH\\\\fertility data17.6\\\\erbu\\\\insfile\\\\xd\\\\heifer\\\\'\n",
    "SaveFile_path='F:\\\\data-SH\\\\fertility data17.6\\\\erbu\\\\xdins'\n",
    "\n",
    "inspath=path+'1'+'\\\\'\n",
    "files=os.listdir(inspath)\n",
    "SaveFile_Name='青年牛.csv'\n",
    "\n",
    "df1 = pd.read_csv(inspath+ files[0],skiprows=1)   #编码默认UTF-8，若乱码自行更改</span>\n",
    "#将读取的第一个文件写入合并后的文件保存\n",
    "df1['文件']=files[0]\n",
    "df2=df1.loc[:,[\"牛号\",'日期','配次',\"牛号.1\",'日期.1','配次.1',\"牛号.2\",'日期.2','配次.2','文件']]\n",
    "df2.to_csv(SaveFile_path+'\\\\'+'1'+SaveFile_Name,encoding=\"utf_8_sig\",index=False)\n",
    "\n",
    "#循环遍历列表中各个文件名，并追加到合并后的文件\n",
    "try:\n",
    "    for i in range(1,len(files)):\n",
    "        df1 = pd.read_csv(inspath+ files[i],skiprows=1)\n",
    "        df1['文件']=files[i]\n",
    "        df2=df1.loc[:,[\"牛号\",'日期','配次',\"牛号.1\",'日期.1','配次.1',\"牛号.2\",'日期.2','配次.2','文件']]\n",
    "        df2.to_csv(SaveFile_path+'\\\\'+'1'+SaveFile_Name,encoding=\"utf_8_sig\",index=False, header=False, mode='a+')\n",
    "except Exception as err:\n",
    "    print(err)\n",
    "    print(files[i])     #检测有数据格式问题的Excel表格"
   ]
  },
  {
   "cell_type": "code",
   "execution_count": 238,
   "metadata": {
    "scrolled": true
   },
   "outputs": [
    {
     "name": "stderr",
     "output_type": "stream",
     "text": [
      "E:\\Anaconda\\lib\\site-packages\\pandas\\core\\indexing.py:1472: FutureWarning: \n",
      "Passing list-likes to .loc or [] with any missing label will raise\n",
      "KeyError in the future, you can use .reindex() as an alternative.\n",
      "\n",
      "See the documentation here:\n",
      "https://pandas.pydata.org/pandas-docs/stable/indexing.html#deprecate-loc-reindex-listlike\n",
      "  return self._getitem_tuple(key)\n"
     ]
    }
   ],
   "source": [
    "path='F:\\\\data-SH\\\\fertility data17.6\\\\erbu\\\\insfile\\\\xd\\\\heifer\\\\'\n",
    "SaveFile_path='F:\\\\data-SH\\\\fertility data17.6\\\\erbu\\\\xdins'\n",
    "\n",
    "inspath=path+'2'+'\\\\'\n",
    "files=os.listdir(inspath)\n",
    "SaveFile_Name='青年牛.csv'\n",
    "\n",
    "df1 = pd.read_csv(inspath+ files[0])   #编码默认UTF-8，若乱码自行更改</span>\n",
    "#将读取的第一个文件写入合并后的文件保存\n",
    "df1['文件']=files[0]\n",
    "df2=df1.loc[:,[\"牛号\",'最近配种日期','最近分娩日期','配次','文件']]\n",
    "df2.to_csv(SaveFile_path+'\\\\'+'2'+SaveFile_Name,encoding=\"utf_8_sig\",index=False)\n",
    "\n",
    "#循环遍历列表中各个文件名，并追加到合并后的文件\n",
    "try:\n",
    "    for i in range(1,len(files)):\n",
    "        df1 = pd.read_csv(inspath+ files[i])\n",
    "        df1['文件']=files[i]\n",
    "        df2=df1.loc[:,[\"牛号\",'最近配种日期','最近分娩日期','配次','文件']]\n",
    "        df2.to_csv(SaveFile_path+'\\\\'+'2'+SaveFile_Name,encoding=\"utf_8_sig\",index=False, header=False, mode='a+')\n",
    "except Exception as err:\n",
    "    print(err)\n",
    "    print(files[i])     #检测有数据格式问题的Excel表格"
   ]
  },
  {
   "cell_type": "markdown",
   "metadata": {},
   "source": [
    "__还需提取最近分娩日期__"
   ]
  },
  {
   "cell_type": "code",
   "execution_count": 242,
   "metadata": {},
   "outputs": [
    {
     "name": "stderr",
     "output_type": "stream",
     "text": [
      "E:\\Anaconda\\lib\\site-packages\\pandas\\core\\indexing.py:1472: FutureWarning: \n",
      "Passing list-likes to .loc or [] with any missing label will raise\n",
      "KeyError in the future, you can use .reindex() as an alternative.\n",
      "\n",
      "See the documentation here:\n",
      "https://pandas.pydata.org/pandas-docs/stable/indexing.html#deprecate-loc-reindex-listlike\n",
      "  return self._getitem_tuple(key)\n"
     ]
    }
   ],
   "source": [
    "name='新东'\n",
    "SaveFile_path='F:\\\\data-SH\\\\fertility data17.6\\\\erbu\\\\'\n",
    "SaveFile_Name=name+'最近分娩.csv'\n",
    "\n",
    "df1=pd.DataFrame(columns=[\"牛号\",'胎次',\"最近分娩日期\",\"最近配种日期\",'文件'])\n",
    "df1.to_csv(SaveFile_path+'\\\\'+SaveFile_Name,encoding=\"utf_8_sig\",index=False, header=True, mode='a+')\n",
    "\n",
    "path='F:\\\\Python\\\\erbu\\\\1SUM\\\\'\n",
    "excels=os.listdir(path)\n",
    "\n",
    "a=list(excels)\n",
    "\n",
    "for i in range(len(excels)):\n",
    "    a[i]=path+excels[i]\n",
    "    \n",
    "\n",
    "newfile='F:\\\\data-SH\\\\fertility data17.6\\\\erbu\\\\insfile\\\\' #新建一个目录放置有配种数据的表格\n",
    "\n",
    "try:\n",
    "    for i in a:\n",
    "        if name in i:\n",
    "            df1 = pd.read_excel(i)\n",
    "            df1['文件']=i\n",
    "            df2=df1.loc[:,[\"牛号\",'胎次',\"最近分娩日期\",\"最近配种日期\",'文件']]\n",
    "            df2.to_csv(SaveFile_path+'\\\\'+SaveFile_Name,encoding=\"utf_8_sig\",index=False, header=False, mode='a+')\n",
    "except Exception as err:\n",
    "    print(err)\n",
    "    print(files[i])     #检测有数据格式问题的Excel表格"
   ]
  },
  {
   "cell_type": "markdown",
   "metadata": {},
   "source": [
    "#### 瀛博"
   ]
  },
  {
   "cell_type": "markdown",
   "metadata": {},
   "source": [
    "__瀛博也需要提取最近分娩日期__"
   ]
  },
  {
   "cell_type": "code",
   "execution_count": 250,
   "metadata": {},
   "outputs": [
    {
     "name": "stderr",
     "output_type": "stream",
     "text": [
      "E:\\Anaconda\\lib\\site-packages\\pandas\\core\\indexing.py:1472: FutureWarning: \n",
      "Passing list-likes to .loc or [] with any missing label will raise\n",
      "KeyError in the future, you can use .reindex() as an alternative.\n",
      "\n",
      "See the documentation here:\n",
      "https://pandas.pydata.org/pandas-docs/stable/indexing.html#deprecate-loc-reindex-listlike\n",
      "  return self._getitem_tuple(key)\n"
     ]
    }
   ],
   "source": [
    "name='瀛博'\n",
    "SaveFile_path='F:\\\\data-SH\\\\fertility data17.6\\\\erbu\\\\'\n",
    "SaveFile_Name=name+'最近分娩.csv'\n",
    "\n",
    "df1=pd.DataFrame(columns=[\"牛号\",'新牛号','胎次',\"最近分娩\",\"最近配种日期\",'文件'])\n",
    "df1.to_csv(SaveFile_path+'\\\\'+SaveFile_Name,encoding=\"utf_8_sig\",index=False, header=True, mode='a+')\n",
    "\n",
    "path='F:\\\\Python\\\\erbu\\\\1SUM\\\\'\n",
    "excels=os.listdir(path)\n",
    "\n",
    "a=list(excels)\n",
    "\n",
    "for i in range(len(excels)):\n",
    "    a[i]=path+excels[i]\n",
    "    \n",
    "\n",
    "newfile='F:\\\\data-SH\\\\fertility data17.6\\\\erbu\\\\insfile\\\\' #新建一个目录放置有配种数据的表格\n",
    "\n",
    "try:\n",
    "    for i in a:\n",
    "        if name in i:\n",
    "            df1 = pd.read_excel(i,sheet_name='成乳牛')\n",
    "            df1['文件']=i\n",
    "            df2=df1.loc[:,[\"牛号\",'新牛号','胎次',\"最近分娩\",\"最近配种日期\",'文件']]\n",
    "            df2.to_csv(SaveFile_path+'\\\\'+SaveFile_Name,encoding=\"utf_8_sig\",index=False, header=False, mode='a+')\n",
    "except Exception as err:\n",
    "    print(err)\n",
    "    print(files[i])     #检测有数据格式问题的Excel表格"
   ]
  },
  {
   "cell_type": "markdown",
   "metadata": {},
   "source": [
    "__合并配种数据__"
   ]
  },
  {
   "cell_type": "code",
   "execution_count": 251,
   "metadata": {},
   "outputs": [
    {
     "name": "stderr",
     "output_type": "stream",
     "text": [
      "E:\\Anaconda\\lib\\site-packages\\pandas\\core\\indexing.py:1472: FutureWarning: \n",
      "Passing list-likes to .loc or [] with any missing label will raise\n",
      "KeyError in the future, you can use .reindex() as an alternative.\n",
      "\n",
      "See the documentation here:\n",
      "https://pandas.pydata.org/pandas-docs/stable/indexing.html#deprecate-loc-reindex-listlike\n",
      "  return self._getitem_tuple(key)\n"
     ]
    }
   ],
   "source": [
    "path='F:\\\\data-SH\\\\fertility data17.6\\\\erbu\\\\insfile\\\\'\n",
    "insfiles=os.listdir(path)\n",
    "SaveFile_path='F:\\\\data-SH\\\\fertility data17.6\\\\erbu\\\\'\n",
    "\n",
    "inspath=path+insfiles[5]+'\\\\'\n",
    "files=os.listdir(inspath)\n",
    "SaveFile_Name=insfiles[5]+'配种明细.csv'\n",
    "\n",
    "df1 = pd.read_csv(inspath+ files[0],skiprows=1,encoding='gbk')   #编码默认UTF-8，若乱码自行更改</span>\n",
    "#将读取的第一个文件写入合并后的文件保存\n",
    "df1['文件']=files[0]\n",
    "df2=df1.loc[:,[\"牛号\",'最近配种日期','牛号.1','最近配种日期.1','文件']]\n",
    "df2.to_csv(SaveFile_path+'\\\\'+'1'+SaveFile_Name,encoding=\"utf_8_sig\",index=False)\n",
    "\n",
    "#循环遍历列表中各个文件名，并追加到合并后的文件\n",
    "try:\n",
    "    for i in range(1,len(files)):\n",
    "        df1 = pd.read_csv(inspath+ files[i],skiprows=1,encoding='gbk')\n",
    "        df1['文件']=files[i]\n",
    "        df2=df1.loc[:,[\"牛号\",'最近配种日期','牛号.1','最近配种日期.1','文件']]\n",
    "        df2.to_csv(SaveFile_path+'\\\\'+'1'+SaveFile_Name,encoding=\"utf_8_sig\",index=False, header=False, mode='a+')\n",
    "except Exception as err:\n",
    "    print(err)\n",
    "    print(files[i])     #检测有数据格式问题的Excel表格"
   ]
  },
  {
   "cell_type": "markdown",
   "metadata": {},
   "source": [
    "#### 跃二"
   ]
  },
  {
   "cell_type": "markdown",
   "metadata": {},
   "source": [
    "__跃二牛场依然分为成母牛，后备牛以及配种明细三部分进行合并，并且需要提取最近分娩日期__"
   ]
  },
  {
   "cell_type": "code",
   "execution_count": 253,
   "metadata": {},
   "outputs": [
    {
     "name": "stderr",
     "output_type": "stream",
     "text": [
      "E:\\Anaconda\\lib\\site-packages\\pandas\\core\\indexing.py:1472: FutureWarning: \n",
      "Passing list-likes to .loc or [] with any missing label will raise\n",
      "KeyError in the future, you can use .reindex() as an alternative.\n",
      "\n",
      "See the documentation here:\n",
      "https://pandas.pydata.org/pandas-docs/stable/indexing.html#deprecate-loc-reindex-listlike\n",
      "  return self._getitem_tuple(key)\n"
     ]
    }
   ],
   "source": [
    "path='F:\\\\data-SH\\\\fertility data17.6\\\\erbu\\\\insfile\\\\ye\\\\cow\\\\'\n",
    "SaveFile_path='F:\\\\data-SH\\\\fertility data17.6\\\\erbu\\\\yeins'\n",
    "\n",
    "inspath=path+'\\\\'\n",
    "files=os.listdir(inspath)\n",
    "SaveFile_Name='成母牛.csv'\n",
    "\n",
    "df1 = pd.read_csv(inspath+ files[0],skiprows=1)   #编码默认UTF-8，若乱码自行更改</span>\n",
    "#将读取的第一个文件写入合并后的文件保存\n",
    "df1['文件']=files[0]\n",
    "df2=df1.loc[:,[\"牛号\",'近期配种','最近分娩日期','配次',\"牛号.1\",'近期配种.1','最近分娩日期.1','配次.1',\"牛号.2\",'近期配种.2','最近分娩日期.2','配次.2','文件']]\n",
    "df2.to_csv(SaveFile_path+'\\\\'+'1'+SaveFile_Name,encoding=\"utf_8_sig\",index=False)\n",
    "\n",
    "#循环遍历列表中各个文件名，并追加到合并后的文件\n",
    "try:\n",
    "    for i in range(1,len(files)):\n",
    "        df1 = pd.read_csv(inspath+ files[i],skiprows=1)\n",
    "        df1['文件']=files[i]\n",
    "        df2=df1.loc[:,[\"牛号\",'近期配种','最近分娩日期','配次',\"牛号.1\",'近期配种.1','最近分娩日期.1','配次.1',\"牛号.2\",'近期配种.2','最近分娩日期.2','配次.2','文件']]\n",
    "        df2.to_csv(SaveFile_path+'\\\\'+'1'+SaveFile_Name,encoding=\"utf_8_sig\",index=False, header=False, mode='a+')\n",
    "except Exception as err:\n",
    "    print(err)\n",
    "    print(files[i])     #检测有数据格式问题的Excel表格"
   ]
  },
  {
   "cell_type": "code",
   "execution_count": 255,
   "metadata": {},
   "outputs": [
    {
     "name": "stderr",
     "output_type": "stream",
     "text": [
      "E:\\Anaconda\\lib\\site-packages\\pandas\\core\\indexing.py:1472: FutureWarning: \n",
      "Passing list-likes to .loc or [] with any missing label will raise\n",
      "KeyError in the future, you can use .reindex() as an alternative.\n",
      "\n",
      "See the documentation here:\n",
      "https://pandas.pydata.org/pandas-docs/stable/indexing.html#deprecate-loc-reindex-listlike\n",
      "  return self._getitem_tuple(key)\n"
     ]
    }
   ],
   "source": [
    "path='F:\\\\data-SH\\\\fertility data17.6\\\\erbu\\\\insfile\\\\ye\\\\heifer\\\\'\n",
    "SaveFile_path='F:\\\\data-SH\\\\fertility data17.6\\\\erbu\\\\yeins'\n",
    "\n",
    "inspath=path+'\\\\'\n",
    "files=os.listdir(inspath)\n",
    "SaveFile_Name='青年牛.csv'\n",
    "\n",
    "df1 = pd.read_csv(inspath+ files[0],skiprows=1)   #编码默认UTF-8，若乱码自行更改</span>\n",
    "#将读取的第一个文件写入合并后的文件保存\n",
    "df1['文件']=files[0]\n",
    "df2=df1.loc[:,[\"牛号\",'近期配种','配次',\"牛号.1\",'近期配种.1','配次.1',\"牛号.2\",'近期配种.2','配次.2','文件']]\n",
    "df2.to_csv(SaveFile_path+'\\\\'+'1'+SaveFile_Name,encoding=\"utf_8_sig\",index=False)\n",
    "\n",
    "#循环遍历列表中各个文件名，并追加到合并后的文件\n",
    "try:\n",
    "    for i in range(1,len(files)):\n",
    "        df1 = pd.read_csv(inspath+ files[i],skiprows=1)\n",
    "        df1['文件']=files[i]\n",
    "        df2=df1.loc[:,[\"牛号\",'近期配种','配次',\"牛号.1\",'近期配种.1','配次.1',\"牛号.2\",'近期配种.2','配次.2','文件']]\n",
    "        df2.to_csv(SaveFile_path+'\\\\'+'1'+SaveFile_Name,encoding=\"utf_8_sig\",index=False, header=False, mode='a+')\n",
    "except Exception as err:\n",
    "    print(err)\n",
    "    print(files[i])     #检测有数据格式问题的Excel表格"
   ]
  },
  {
   "cell_type": "code",
   "execution_count": 257,
   "metadata": {
    "scrolled": true
   },
   "outputs": [
    {
     "name": "stderr",
     "output_type": "stream",
     "text": [
      "E:\\Anaconda\\lib\\site-packages\\pandas\\core\\indexing.py:1472: FutureWarning: \n",
      "Passing list-likes to .loc or [] with any missing label will raise\n",
      "KeyError in the future, you can use .reindex() as an alternative.\n",
      "\n",
      "See the documentation here:\n",
      "https://pandas.pydata.org/pandas-docs/stable/indexing.html#deprecate-loc-reindex-listlike\n",
      "  return self._getitem_tuple(key)\n"
     ]
    }
   ],
   "source": [
    "path='F:\\\\data-SH\\\\fertility data17.6\\\\erbu\\\\insfile\\\\ye\\\\detail\\\\'\n",
    "SaveFile_path='F:\\\\data-SH\\\\fertility data17.6\\\\erbu\\\\yeins'\n",
    "\n",
    "inspath=path+'\\\\'\n",
    "files=os.listdir(inspath)\n",
    "SaveFile_Name='明细.csv'\n",
    "\n",
    "df1 = pd.read_csv(inspath+ files[0],skiprows=1)   #编码默认UTF-8，若乱码自行更改</span>\n",
    "#将读取的第一个文件写入合并后的文件保存\n",
    "df1['文件']=files[0]\n",
    "df2=df1.loc[:,[\"牛号\",'配种日期','最近分娩日期','配次',\"牛号.1\",'配种日期.1','最近分娩日期.1','配次.1','文件']]\n",
    "df2.to_csv(SaveFile_path+'\\\\'+'1'+SaveFile_Name,encoding=\"utf_8_sig\",index=False)\n",
    "\n",
    "#循环遍历列表中各个文件名，并追加到合并后的文件\n",
    "try:\n",
    "    for i in range(1,len(files)):\n",
    "        df1 = pd.read_csv(inspath+ files[i],skiprows=1)\n",
    "        df1['文件']=files[i]\n",
    "        df2=df1.loc[:,[\"牛号\",'配种日期','最近分娩日期','配次',\"牛号.1\",'配种日期.1','最近分娩日期.1','配次.1','文件']]\n",
    "        df2.to_csv(SaveFile_path+'\\\\'+'1'+SaveFile_Name,encoding=\"utf_8_sig\",index=False, header=False, mode='a+')\n",
    "except Exception as err:\n",
    "    print(err)\n",
    "    print(files[i])     #检测有数据格式问题的Excel表格"
   ]
  },
  {
   "cell_type": "markdown",
   "metadata": {},
   "source": [
    "__最近分娩日期__"
   ]
  },
  {
   "cell_type": "code",
   "execution_count": 262,
   "metadata": {},
   "outputs": [
    {
     "name": "stderr",
     "output_type": "stream",
     "text": [
      "E:\\Anaconda\\lib\\site-packages\\pandas\\core\\indexing.py:1472: FutureWarning: \n",
      "Passing list-likes to .loc or [] with any missing label will raise\n",
      "KeyError in the future, you can use .reindex() as an alternative.\n",
      "\n",
      "See the documentation here:\n",
      "https://pandas.pydata.org/pandas-docs/stable/indexing.html#deprecate-loc-reindex-listlike\n",
      "  return self._getitem_tuple(key)\n"
     ]
    }
   ],
   "source": [
    "name='跃二'\n",
    "SaveFile_path='F:\\\\data-SH\\\\fertility data17.6\\\\erbu\\\\'\n",
    "SaveFile_Name=name+'最近分娩.csv'\n",
    "\n",
    "df1=pd.DataFrame(columns=[\"牛号\",'胎次',\"最近分娩\",\"最近配种日期\",'文件'])\n",
    "df1.to_csv(SaveFile_path+'\\\\'+SaveFile_Name,encoding=\"utf_8_sig\",index=False, header=True, mode='a+')\n",
    "\n",
    "path='F:\\\\Python\\\\erbu\\\\1SUM\\\\'\n",
    "excels=os.listdir(path)\n",
    "\n",
    "a=list(excels)\n",
    "\n",
    "for i in range(len(excels)):\n",
    "    a[i]=path+excels[i]\n",
    "    \n",
    "\n",
    "newfile='F:\\\\data-SH\\\\fertility data17.6\\\\erbu\\\\insfile\\\\' #新建一个目录放置有配种数据的表格\n",
    "\n",
    "try:\n",
    "    for i in a:\n",
    "        if name in i:\n",
    "            df1 = pd.read_excel(i,sheet_name='成乳牛')\n",
    "            df1['文件']=i\n",
    "            df2=df1.loc[:,[\"牛号\",'胎次',\"最近分娩\",\"最近配种日期\",'文件']]\n",
    "            df2.to_csv(SaveFile_path+'\\\\'+SaveFile_Name,encoding=\"utf_8_sig\",index=False, header=False, mode='a+')\n",
    "except Exception as err:\n",
    "    print(err)\n",
    "    print(i)     #检测有数据格式问题的Excel表格"
   ]
  },
  {
   "cell_type": "markdown",
   "metadata": {},
   "source": [
    "#### 跃一"
   ]
  },
  {
   "cell_type": "markdown",
   "metadata": {},
   "source": [
    "__处理方法与跃二相同__"
   ]
  },
  {
   "cell_type": "code",
   "execution_count": 268,
   "metadata": {},
   "outputs": [
    {
     "name": "stderr",
     "output_type": "stream",
     "text": [
      "E:\\Anaconda\\lib\\site-packages\\pandas\\core\\indexing.py:1472: FutureWarning: \n",
      "Passing list-likes to .loc or [] with any missing label will raise\n",
      "KeyError in the future, you can use .reindex() as an alternative.\n",
      "\n",
      "See the documentation here:\n",
      "https://pandas.pydata.org/pandas-docs/stable/indexing.html#deprecate-loc-reindex-listlike\n",
      "  return self._getitem_tuple(key)\n"
     ]
    }
   ],
   "source": [
    "path='F:\\\\data-SH\\\\fertility data17.6\\\\erbu\\\\insfile\\\\yy\\\\cow\\\\'\n",
    "SaveFile_path='F:\\\\data-SH\\\\fertility data17.6\\\\erbu\\\\yyins'\n",
    "\n",
    "inspath=path+'\\\\'\n",
    "files=os.listdir(inspath)\n",
    "SaveFile_Name='成母牛.csv'\n",
    "\n",
    "df1 = pd.read_csv(inspath+ files[0],skiprows=1)   #编码默认UTF-8，若乱码自行更改</span>\n",
    "#将读取的第一个文件写入合并后的文件保存\n",
    "df1['文件']=files[0]\n",
    "df2=df1.loc[:,[\"牛号\",'最近配种日期','最近分娩','配次','姓名','文件']]\n",
    "df2.to_csv(SaveFile_path+'\\\\'+'1'+SaveFile_Name,encoding=\"utf_8_sig\",index=False)\n",
    "\n",
    "#循环遍历列表中各个文件名，并追加到合并后的文件\n",
    "try:\n",
    "    for i in range(1,len(files)):\n",
    "        df1 = pd.read_csv(inspath+ files[i],skiprows=1)\n",
    "        df1['文件']=files[i]\n",
    "        df2=df1.loc[:,[\"牛号\",'最近配种日期','最近分娩','配次','姓名','文件']]\n",
    "        df2.to_csv(SaveFile_path+'\\\\'+'1'+SaveFile_Name,encoding=\"utf_8_sig\",index=False, header=False, mode='a+')\n",
    "except Exception as err:\n",
    "    print(err)\n",
    "    print(files[i])     #检测有数据格式问题的Excel表格"
   ]
  },
  {
   "cell_type": "code",
   "execution_count": 267,
   "metadata": {},
   "outputs": [
    {
     "name": "stderr",
     "output_type": "stream",
     "text": [
      "E:\\Anaconda\\lib\\site-packages\\pandas\\core\\indexing.py:1472: FutureWarning: \n",
      "Passing list-likes to .loc or [] with any missing label will raise\n",
      "KeyError in the future, you can use .reindex() as an alternative.\n",
      "\n",
      "See the documentation here:\n",
      "https://pandas.pydata.org/pandas-docs/stable/indexing.html#deprecate-loc-reindex-listlike\n",
      "  return self._getitem_tuple(key)\n"
     ]
    }
   ],
   "source": [
    "path='F:\\\\data-SH\\\\fertility data17.6\\\\erbu\\\\insfile\\\\yy\\\\heifer\\\\'\n",
    "SaveFile_path='F:\\\\data-SH\\\\fertility data17.6\\\\erbu\\\\yyins'\n",
    "\n",
    "inspath=path+'\\\\'\n",
    "files=os.listdir(inspath)\n",
    "SaveFile_Name='青年牛.csv'\n",
    "\n",
    "df1 = pd.read_csv(inspath+ files[0])   #编码默认UTF-8，若乱码自行更改</span>\n",
    "#将读取的第一个文件写入合并后的文件保存\n",
    "df1['文件']=files[0]\n",
    "df2=df1.loc[:,[\"牛号\",'最近配种日期','配次','姓名','文件']]\n",
    "df2.to_csv(SaveFile_path+'\\\\'+'1'+SaveFile_Name,encoding=\"utf_8_sig\",index=False)\n",
    "\n",
    "#循环遍历列表中各个文件名，并追加到合并后的文件\n",
    "try:\n",
    "    for i in range(1,len(files)):\n",
    "        df1 = pd.read_csv(inspath+ files[i])\n",
    "        df1['文件']=files[i]\n",
    "        df2=df1.loc[:,[\"牛号\",'最近配种日期','配次','姓名','文件']]\n",
    "        df2.to_csv(SaveFile_path+'\\\\'+'1'+SaveFile_Name,encoding=\"utf_8_sig\",index=False, header=False, mode='a+')\n",
    "except Exception as err:\n",
    "    print(err)\n",
    "    print(files[i])     #检测有数据格式问题的Excel表格"
   ]
  },
  {
   "cell_type": "code",
   "execution_count": 270,
   "metadata": {},
   "outputs": [],
   "source": [
    "path='F:\\\\data-SH\\\\fertility data17.6\\\\erbu\\\\insfile\\\\yy\\\\detail\\\\'\n",
    "SaveFile_path='F:\\\\data-SH\\\\fertility data17.6\\\\erbu\\\\yyins'\n",
    "\n",
    "inspath=path+'\\\\'\n",
    "files=os.listdir(inspath)\n",
    "SaveFile_Name='配种明细.csv'\n",
    "\n",
    "df1 = pd.read_csv(inspath+ files[0],skiprows=1)   #编码默认UTF-8，若乱码自行更改</span>\n",
    "#将读取的第一个文件写入合并后的文件保存\n",
    "df1['文件']=files[0]\n",
    "df2=df1.loc[:,[\"牛号\",'最近配种',\"牛号.1\",'最近配种.1','文件']]\n",
    "df2.to_csv(SaveFile_path+'\\\\'+'1'+SaveFile_Name,encoding=\"utf_8_sig\",index=False)\n",
    "\n",
    "#循环遍历列表中各个文件名，并追加到合并后的文件\n",
    "try:\n",
    "    for i in range(1,len(files)):\n",
    "        df1 = pd.read_csv(inspath+ files[i],skiprows=1)\n",
    "        df1['文件']=files[i]\n",
    "        df2=df1.loc[:,[\"牛号\",'最近配种',\"牛号.1\",'最近配种.1','文件']]\n",
    "        df2.to_csv(SaveFile_path+'\\\\'+'1'+SaveFile_Name,encoding=\"utf_8_sig\",index=False, header=False, mode='a+')\n",
    "except Exception as err:\n",
    "    print(err)\n",
    "    print(files[i])     #检测有数据格式问题的Excel表格"
   ]
  },
  {
   "cell_type": "markdown",
   "metadata": {},
   "source": [
    "__最近分娩数据__"
   ]
  },
  {
   "cell_type": "code",
   "execution_count": 272,
   "metadata": {},
   "outputs": [],
   "source": [
    "name='跃一'\n",
    "SaveFile_path='F:\\\\data-SH\\\\fertility data17.6\\\\erbu\\\\'\n",
    "SaveFile_Name=name+'最近分娩.csv'\n",
    "\n",
    "df1=pd.DataFrame(columns=[\"牛号\",'胎次',\"最近分娩\",\"最近配种日期\",'文件'])\n",
    "df1.to_csv(SaveFile_path+'\\\\'+SaveFile_Name,encoding=\"utf_8_sig\",index=False, header=True, mode='a+')\n",
    "\n",
    "path='F:\\\\Python\\\\erbu\\\\1SUM\\\\'\n",
    "excels=os.listdir(path)\n",
    "\n",
    "a=list(excels)\n",
    "\n",
    "for i in range(len(excels)):\n",
    "    a[i]=path+excels[i]\n",
    "    \n",
    "\n",
    "newfile='F:\\\\data-SH\\\\fertility data17.6\\\\erbu\\\\insfile\\\\' #新建一个目录放置有配种数据的表格\n",
    "\n",
    "try:\n",
    "    for i in a:\n",
    "        if name in i:\n",
    "            df1 = pd.read_excel(i,sheet_name=0)\n",
    "            df1['文件']=i\n",
    "            df2=df1.loc[:,[\"牛号\",'胎次',\"最近分娩\",\"最近配种日期\",'文件']]\n",
    "            df2.to_csv(SaveFile_path+'\\\\'+SaveFile_Name,encoding=\"utf_8_sig\",index=False, header=False, mode='a+')\n",
    "except Exception as err:\n",
    "    print(err)\n",
    "    print(i)     #检测有数据格式问题的Excel表格"
   ]
  },
  {
   "cell_type": "markdown",
   "metadata": {},
   "source": [
    "#### 至江"
   ]
  },
  {
   "cell_type": "code",
   "execution_count": 273,
   "metadata": {},
   "outputs": [
    {
     "name": "stderr",
     "output_type": "stream",
     "text": [
      "E:\\Anaconda\\lib\\site-packages\\pandas\\core\\indexing.py:1472: FutureWarning: \n",
      "Passing list-likes to .loc or [] with any missing label will raise\n",
      "KeyError in the future, you can use .reindex() as an alternative.\n",
      "\n",
      "See the documentation here:\n",
      "https://pandas.pydata.org/pandas-docs/stable/indexing.html#deprecate-loc-reindex-listlike\n",
      "  return self._getitem_tuple(key)\n"
     ]
    }
   ],
   "source": [
    "path='F:\\\\data-SH\\\\fertility data17.6\\\\erbu\\\\insfile\\\\'\n",
    "insfiles=os.listdir(path)\n",
    "SaveFile_path='F:\\\\data-SH\\\\fertility data17.6\\\\erbu\\\\'\n",
    "\n",
    "inspath=path+insfiles[8]+'\\\\'\n",
    "files=os.listdir(inspath)\n",
    "SaveFile_Name=insfiles[8]+'配种明细.csv'\n",
    "\n",
    "df1 = pd.read_csv(inspath+ files[0],skiprows=1)   #编码默认UTF-8，若乱码自行更改</span>\n",
    "#将读取的第一个文件写入合并后的文件保存\n",
    "df1['文件']=insfiles[8]\n",
    "df2=df1.loc[:,[\"牛号\",\"配种日期\",'最近分娩日期',\"牛号.1\",\"配种日期.1\",'文件']]\n",
    "df2.to_csv(SaveFile_path+'\\\\'+'1'+SaveFile_Name,encoding=\"utf_8_sig\",index=False)\n",
    "\n",
    "#循环遍历列表中各个文件名，并追加到合并后的文件\n",
    "try:\n",
    "    for i in range(1,len(files)):\n",
    "        df1 = pd.read_csv(inspath+ files[i],skiprows=1)\n",
    "        df1['文件']=insfiles[8]\n",
    "        df2=df1.loc[:,[\"牛号\",\"配种日期\",'最近分娩日期',\"牛号.1\",\"配种日期.1\",'文件']]\n",
    "        df2.to_csv(SaveFile_path+'\\\\'+'1'+SaveFile_Name,encoding=\"utf_8_sig\",index=False, header=False, mode='a+')\n",
    "except Exception as err:\n",
    "    print(err)\n",
    "    print(files[i])     #检测有数据格式问题的Excel表格"
   ]
  },
  {
   "cell_type": "markdown",
   "metadata": {},
   "source": [
    "__最近分娩日期提取__"
   ]
  },
  {
   "cell_type": "code",
   "execution_count": 276,
   "metadata": {},
   "outputs": [
    {
     "name": "stderr",
     "output_type": "stream",
     "text": [
      "E:\\Anaconda\\lib\\site-packages\\pandas\\core\\indexing.py:1472: FutureWarning: \n",
      "Passing list-likes to .loc or [] with any missing label will raise\n",
      "KeyError in the future, you can use .reindex() as an alternative.\n",
      "\n",
      "See the documentation here:\n",
      "https://pandas.pydata.org/pandas-docs/stable/indexing.html#deprecate-loc-reindex-listlike\n",
      "  return self._getitem_tuple(key)\n"
     ]
    }
   ],
   "source": [
    "name='至江'\n",
    "SaveFile_path='F:\\\\data-SH\\\\fertility data17.6\\\\erbu\\\\'\n",
    "SaveFile_Name=name+'最近分娩.csv'\n",
    "\n",
    "df1=pd.DataFrame(columns=[\"牛号\",'新牛号','胎次',\"最近分娩\",\"最近配种日期\",'文件'])\n",
    "df1.to_csv(SaveFile_path+'\\\\'+SaveFile_Name,encoding=\"utf_8_sig\",index=False, header=True, mode='a+')\n",
    "\n",
    "path='F:\\\\Python\\\\erbu\\\\1SUM\\\\'\n",
    "excels=os.listdir(path)\n",
    "\n",
    "a=list(excels)\n",
    "\n",
    "for i in range(len(excels)):\n",
    "    a[i]=path+excels[i]\n",
    "    \n",
    "\n",
    "newfile='F:\\\\data-SH\\\\fertility data17.6\\\\erbu\\\\insfile\\\\' #新建一个目录放置有配种数据的表格\n",
    "\n",
    "try:\n",
    "    for i in a:\n",
    "        if name in i:\n",
    "            df1 = pd.read_excel(i,sheet_name=0)\n",
    "            df1['文件']=i\n",
    "            df2=df1.loc[:,[\"牛号\",'新牛号','胎次',\"最近分娩\",\"最近配种日期\",'文件']]\n",
    "            df2.to_csv(SaveFile_path+'\\\\'+SaveFile_Name,encoding=\"utf_8_sig\",index=False, header=False, mode='a+')\n",
    "except Exception as err:\n",
    "    print(err)\n",
    "    print(i)     #检测有数据格式问题的Excel表格"
   ]
  },
  {
   "cell_type": "markdown",
   "metadata": {},
   "source": [
    "#### 种牛场"
   ]
  },
  {
   "cell_type": "code",
   "execution_count": 302,
   "metadata": {},
   "outputs": [
    {
     "name": "stderr",
     "output_type": "stream",
     "text": [
      "E:\\Anaconda\\lib\\site-packages\\pandas\\core\\indexing.py:1472: FutureWarning: \n",
      "Passing list-likes to .loc or [] with any missing label will raise\n",
      "KeyError in the future, you can use .reindex() as an alternative.\n",
      "\n",
      "See the documentation here:\n",
      "https://pandas.pydata.org/pandas-docs/stable/indexing.html#deprecate-loc-reindex-listlike\n",
      "  return self._getitem_tuple(key)\n"
     ]
    }
   ],
   "source": [
    "path='F:\\\\data-SH\\\\fertility data17.6\\\\erbu\\\\insfile\\\\'\n",
    "insfiles=os.listdir(path)\n",
    "SaveFile_path='F:\\\\data-SH\\\\fertility data17.6\\\\erbu\\\\'\n",
    "\n",
    "inspath=path+insfiles[9]+'\\\\'\n",
    "files=os.listdir(inspath)\n",
    "SaveFile_Name=insfiles[9]+'配种明细.csv'\n",
    "\n",
    "df1 = pd.read_csv(inspath+ files[0],skiprows=1)   #编码默认UTF-8，若乱码自行更改</span>\n",
    "#将读取的第一个文件写入合并后的文件保存\n",
    "df1['文件']=files[0]\n",
    "df2=df1.loc[:,[\"牛号\",\"配种日期\",'最近分娩日期',\"牛号.1\",\"配种日期.1\",'文件']]\n",
    "df2.to_csv(SaveFile_path+'\\\\'+'1'+SaveFile_Name,encoding=\"utf_8_sig\",index=False)\n",
    "\n",
    "#循环遍历列表中各个文件名，并追加到合并后的文件\n",
    "try:\n",
    "    for i in range(1,len(files)):\n",
    "        df1 = pd.read_csv(inspath+ files[i],skiprows=1)\n",
    "        df1['文件']=files[i]\n",
    "        df2=df1.loc[:,[\"牛号\",\"配种日期\",'最近分娩日期',\"牛号.1\",\"配种日期.1\",'文件']]\n",
    "        df2.to_csv(SaveFile_path+'\\\\'+'1'+SaveFile_Name,encoding=\"utf_8_sig\",index=False, header=False, mode='a+')\n",
    "except Exception as err:\n",
    "    print(err)\n",
    "    print(files[i])     #检测有数据格式问题的Excel表格"
   ]
  },
  {
   "cell_type": "markdown",
   "metadata": {},
   "source": [
    "__最近分娩日期提取__"
   ]
  },
  {
   "cell_type": "code",
   "execution_count": 283,
   "metadata": {
    "scrolled": true
   },
   "outputs": [
    {
     "name": "stderr",
     "output_type": "stream",
     "text": [
      "E:\\Anaconda\\lib\\site-packages\\pandas\\core\\indexing.py:1472: FutureWarning: \n",
      "Passing list-likes to .loc or [] with any missing label will raise\n",
      "KeyError in the future, you can use .reindex() as an alternative.\n",
      "\n",
      "See the documentation here:\n",
      "https://pandas.pydata.org/pandas-docs/stable/indexing.html#deprecate-loc-reindex-listlike\n",
      "  return self._getitem_tuple(key)\n"
     ]
    }
   ],
   "source": [
    "name='种奶牛场'\n",
    "SaveFile_path='F:\\\\data-SH\\\\fertility data17.6\\\\erbu\\\\'\n",
    "SaveFile_Name=name+'最近分娩.csv'\n",
    "\n",
    "df1=pd.DataFrame(columns=[\"牛号\",'新牛号','胎次','最近分娩日期','最近配种','文件'])\n",
    "df1.to_csv(SaveFile_path+'\\\\'+SaveFile_Name,encoding=\"utf_8_sig\",index=False, header=True, mode='a+')\n",
    "\n",
    "path='F:\\\\Python\\\\erbu\\\\1SUM\\\\'\n",
    "excels=os.listdir(path)\n",
    "\n",
    "a=list(excels)\n",
    "\n",
    "for i in range(len(excels)):\n",
    "    a[i]=path+excels[i]\n",
    "    \n",
    "\n",
    "newfile='F:\\\\data-SH\\\\fertility data17.6\\\\erbu\\\\insfile\\\\' #新建一个目录放置有配种数据的表格\n",
    "\n",
    "try:\n",
    "    for i in a:\n",
    "        if name in i:\n",
    "            df1 = pd.read_excel(i,sheet_name=0,skiprows=1)\n",
    "            df1['文件']=i\n",
    "            df2=df1.loc[:,[\"牛号\",'新牛号','胎次','最近分娩日期','最近配种','文件']]\n",
    "            df2.to_csv(SaveFile_path+'\\\\'+SaveFile_Name,encoding=\"utf_8_sig\",index=False, header=False, mode='a+')\n",
    "except Exception as err:\n",
    "    print(err)\n",
    "    print(i)     #检测有数据格式问题的Excel表格"
   ]
  },
  {
   "cell_type": "markdown",
   "metadata": {},
   "source": [
    "### 部分场配种记录与最近分娩数据进行合并"
   ]
  },
  {
   "cell_type": "markdown",
   "metadata": {},
   "source": [
    "其中至江，瀛博，种牛场3个场有牛号和新牛号，其中至江的最近分娩数据中匹配列为‘牛号’,其他2场为‘新牛号’。将其余2场的牛号与新牛号调换。"
   ]
  },
  {
   "cell_type": "markdown",
   "metadata": {},
   "source": [
    "__最近分娩日期合并__"
   ]
  },
  {
   "cell_type": "code",
   "execution_count": 350,
   "metadata": {},
   "outputs": [
    {
     "name": "stderr",
     "output_type": "stream",
     "text": [
      "E:\\Anaconda\\lib\\site-packages\\pandas\\core\\indexing.py:1472: FutureWarning: \n",
      "Passing list-likes to .loc or [] with any missing label will raise\n",
      "KeyError in the future, you can use .reindex() as an alternative.\n",
      "\n",
      "See the documentation here:\n",
      "https://pandas.pydata.org/pandas-docs/stable/indexing.html#deprecate-loc-reindex-listlike\n",
      "  return self._getitem_tuple(key)\n"
     ]
    }
   ],
   "source": [
    "path='F:\\\\data-SH\\\\fertility data17.6\\\\erbu\\\\recent calve\\\\'\n",
    "files=os.listdir(path)\n",
    "SaveFile_path='F:\\\\data-SH\\\\fertility data17.6\\\\erbu\\\\'\n",
    "\n",
    "SaveFile_Name='recent calvesum.csv'\n",
    "\n",
    "df1 = pd.read_csv(path+ files[0],encoding='gbk')   #编码默认UTF-8，若乱码自行更改</span>\n",
    "#将读取的第一个文件写入合并后的文件保存\n",
    "df1['文件']=files[0].split('.')[0]\n",
    "df2=df1.loc[:,[\"牛号\",'新牛号','胎次',\"最近配种日期\",'最近分娩','文件']]\n",
    "df2.to_csv(SaveFile_path+'\\\\'+SaveFile_Name,encoding=\"utf_8_sig\",index=False)\n",
    "\n",
    "#循环遍历列表中各个文件名，并追加到合并后的文件\n",
    "try:\n",
    "    for i in range(1,len(files)):\n",
    "        df1 = pd.read_csv(path+ files[i],encoding='gbk')\n",
    "        df1['文件']=files[i].split('.')[0]\n",
    "        df2=df1.loc[:,[\"牛号\",'新牛号','胎次',\"最近配种日期\",'最近分娩','文件']]\n",
    "        df2.to_csv(SaveFile_path+'\\\\'+SaveFile_Name,encoding=\"utf_8_sig\",index=False, header=False, mode='a+')\n",
    "except Exception as err:\n",
    "    print(err)\n",
    "    print(files[i])     #检测有数据格式问题的Excel表格"
   ]
  },
  {
   "cell_type": "markdown",
   "metadata": {},
   "source": [
    "__配种数据合并__"
   ]
  },
  {
   "cell_type": "code",
   "execution_count": 339,
   "metadata": {},
   "outputs": [
    {
     "name": "stderr",
     "output_type": "stream",
     "text": [
      "E:\\Anaconda\\lib\\site-packages\\pandas\\core\\indexing.py:1472: FutureWarning: \n",
      "Passing list-likes to .loc or [] with any missing label will raise\n",
      "KeyError in the future, you can use .reindex() as an alternative.\n",
      "\n",
      "See the documentation here:\n",
      "https://pandas.pydata.org/pandas-docs/stable/indexing.html#deprecate-loc-reindex-listlike\n",
      "  return self._getitem_tuple(key)\n"
     ]
    }
   ],
   "source": [
    "path='F:\\\\data-SH\\\\fertility data17.6\\\\erbu\\\\ins-sum\\\\'\n",
    "files=os.listdir(path)\n",
    "SaveFile_path='F:\\\\data-SH\\\\fertility data17.6\\\\erbu\\\\'\n",
    "\n",
    "SaveFile_Name='erbu-ins-sum.csv'\n",
    "\n",
    "df1 = pd.read_csv(path+ files[0],encoding='gbk')   #编码默认UTF-8，若乱码自行更改</span>\n",
    "#将读取的第一个文件写入合并后的文件保存\n",
    "df1['文件']=files[0].split('s')[0]\n",
    "df2=df1.loc[:,[\"牛号\",\"配种日期\",'最近分娩日期',\"配次\",\"配种员\",'备注','文件']]\n",
    "df2.to_csv(SaveFile_path+'\\\\'+SaveFile_Name,encoding=\"utf_8_sig\",index=False)\n",
    "\n",
    "#循环遍历列表中各个文件名，并追加到合并后的文件\n",
    "try:\n",
    "    for i in range(1,len(files)):\n",
    "        df1 = pd.read_csv(path+ files[i],encoding='gbk')\n",
    "        df1['文件']=files[i].split('s')[0]\n",
    "        df2=df1.loc[:,[\"牛号\",\"配种日期\",'最近分娩日期',\"配次\",\"配种员\",'备注','文件']]\n",
    "        df2.to_csv(SaveFile_path+'\\\\'+SaveFile_Name,encoding=\"utf_8_sig\",index=False, header=False, mode='a+')\n",
    "except Exception as err:\n",
    "    print(err)\n",
    "    print(files[i])     #检测有数据格式问题的Excel表格"
   ]
  },
  {
   "cell_type": "markdown",
   "metadata": {},
   "source": [
    "### 最近分娩记录匹配"
   ]
  },
  {
   "cell_type": "code",
   "execution_count": 351,
   "metadata": {},
   "outputs": [],
   "source": [
    "rc=pd.read_csv('F:\\\\data-SH\\\\fertility data17.6\\\\erbu\\\\recent calvesum.csv',low_memory=False)"
   ]
  },
  {
   "cell_type": "code",
   "execution_count": 352,
   "metadata": {},
   "outputs": [
    {
     "data": {
      "text/html": [
       "<div>\n",
       "<style scoped>\n",
       "    .dataframe tbody tr th:only-of-type {\n",
       "        vertical-align: middle;\n",
       "    }\n",
       "\n",
       "    .dataframe tbody tr th {\n",
       "        vertical-align: top;\n",
       "    }\n",
       "\n",
       "    .dataframe thead th {\n",
       "        text-align: right;\n",
       "    }\n",
       "</style>\n",
       "<table border=\"1\" class=\"dataframe\">\n",
       "  <thead>\n",
       "    <tr style=\"text-align: right;\">\n",
       "      <th></th>\n",
       "      <th>牛号</th>\n",
       "      <th>新牛号</th>\n",
       "      <th>胎次</th>\n",
       "      <th>最近配种日期</th>\n",
       "      <th>最近分娩</th>\n",
       "      <th>文件</th>\n",
       "    </tr>\n",
       "  </thead>\n",
       "  <tbody>\n",
       "    <tr>\n",
       "      <th>0</th>\n",
       "      <td>46249</td>\n",
       "      <td>NaN</td>\n",
       "      <td>7</td>\n",
       "      <td>NaN</td>\n",
       "      <td>2015/10/12</td>\n",
       "      <td>dh</td>\n",
       "    </tr>\n",
       "    <tr>\n",
       "      <th>1</th>\n",
       "      <td>5135</td>\n",
       "      <td>NaN</td>\n",
       "      <td>6</td>\n",
       "      <td>2015/2/15</td>\n",
       "      <td>2014/12/18</td>\n",
       "      <td>dh</td>\n",
       "    </tr>\n",
       "    <tr>\n",
       "      <th>2</th>\n",
       "      <td>6041</td>\n",
       "      <td>NaN</td>\n",
       "      <td>8</td>\n",
       "      <td>NaN</td>\n",
       "      <td>2015/10/14</td>\n",
       "      <td>dh</td>\n",
       "    </tr>\n",
       "    <tr>\n",
       "      <th>3</th>\n",
       "      <td>6085</td>\n",
       "      <td>NaN</td>\n",
       "      <td>6</td>\n",
       "      <td>2015/6/11</td>\n",
       "      <td>2014/11/21</td>\n",
       "      <td>dh</td>\n",
       "    </tr>\n",
       "    <tr>\n",
       "      <th>4</th>\n",
       "      <td>6110</td>\n",
       "      <td>NaN</td>\n",
       "      <td>5</td>\n",
       "      <td>2015/8/21</td>\n",
       "      <td>2014/11/10</td>\n",
       "      <td>dh</td>\n",
       "    </tr>\n",
       "  </tbody>\n",
       "</table>\n",
       "</div>"
      ],
      "text/plain": [
       "      牛号  新牛号 胎次     最近配种日期        最近分娩  文件\n",
       "0  46249  NaN  7        NaN  2015/10/12  dh\n",
       "1   5135  NaN  6  2015/2/15  2014/12/18  dh\n",
       "2   6041  NaN  8        NaN  2015/10/14  dh\n",
       "3   6085  NaN  6  2015/6/11  2014/11/21  dh\n",
       "4   6110  NaN  5  2015/8/21  2014/11/10  dh"
      ]
     },
     "execution_count": 352,
     "metadata": {},
     "output_type": "execute_result"
    }
   ],
   "source": [
    "rc.head()"
   ]
  },
  {
   "cell_type": "code",
   "execution_count": 353,
   "metadata": {},
   "outputs": [],
   "source": [
    "ins=pd.read_csv('F:\\\\data-SH\\\\fertility data17.6\\\\erbu\\\\erbu-ins-sum.csv',low_memory=False)"
   ]
  },
  {
   "cell_type": "code",
   "execution_count": 354,
   "metadata": {},
   "outputs": [
    {
     "data": {
      "text/html": [
       "<div>\n",
       "<style scoped>\n",
       "    .dataframe tbody tr th:only-of-type {\n",
       "        vertical-align: middle;\n",
       "    }\n",
       "\n",
       "    .dataframe tbody tr th {\n",
       "        vertical-align: top;\n",
       "    }\n",
       "\n",
       "    .dataframe thead th {\n",
       "        text-align: right;\n",
       "    }\n",
       "</style>\n",
       "<table border=\"1\" class=\"dataframe\">\n",
       "  <thead>\n",
       "    <tr style=\"text-align: right;\">\n",
       "      <th></th>\n",
       "      <th>牛号</th>\n",
       "      <th>最近配种日期</th>\n",
       "      <th>最近分娩日期</th>\n",
       "      <th>配次</th>\n",
       "      <th>配种员</th>\n",
       "      <th>备注</th>\n",
       "      <th>文件</th>\n",
       "    </tr>\n",
       "  </thead>\n",
       "  <tbody>\n",
       "    <tr>\n",
       "      <th>0</th>\n",
       "      <td>10808</td>\n",
       "      <td>2016/6/1 0:00</td>\n",
       "      <td>2015/12/3</td>\n",
       "      <td>NaN</td>\n",
       "      <td>NaN</td>\n",
       "      <td>NaN</td>\n",
       "      <td>df</td>\n",
       "    </tr>\n",
       "    <tr>\n",
       "      <th>1</th>\n",
       "      <td>12117</td>\n",
       "      <td>2016/6/2 0:00</td>\n",
       "      <td>2015/3/11</td>\n",
       "      <td>NaN</td>\n",
       "      <td>NaN</td>\n",
       "      <td>NaN</td>\n",
       "      <td>df</td>\n",
       "    </tr>\n",
       "    <tr>\n",
       "      <th>2</th>\n",
       "      <td>13274</td>\n",
       "      <td>2016/6/2 0:00</td>\n",
       "      <td>2016/2/21</td>\n",
       "      <td>NaN</td>\n",
       "      <td>NaN</td>\n",
       "      <td>NaN</td>\n",
       "      <td>df</td>\n",
       "    </tr>\n",
       "    <tr>\n",
       "      <th>3</th>\n",
       "      <td>11159</td>\n",
       "      <td>2016/6/3 0:00</td>\n",
       "      <td>2016/3/31</td>\n",
       "      <td>NaN</td>\n",
       "      <td>NaN</td>\n",
       "      <td>NaN</td>\n",
       "      <td>df</td>\n",
       "    </tr>\n",
       "    <tr>\n",
       "      <th>4</th>\n",
       "      <td>13092</td>\n",
       "      <td>2016/6/3 0:00</td>\n",
       "      <td>2016/3/29</td>\n",
       "      <td>NaN</td>\n",
       "      <td>NaN</td>\n",
       "      <td>NaN</td>\n",
       "      <td>df</td>\n",
       "    </tr>\n",
       "  </tbody>\n",
       "</table>\n",
       "</div>"
      ],
      "text/plain": [
       "      牛号         最近配种日期     最近分娩日期   配次  配种员   备注  文件\n",
       "0  10808  2016/6/1 0:00  2015/12/3  NaN  NaN  NaN  df\n",
       "1  12117  2016/6/2 0:00  2015/3/11  NaN  NaN  NaN  df\n",
       "2  13274  2016/6/2 0:00  2016/2/21  NaN  NaN  NaN  df\n",
       "3  11159  2016/6/3 0:00  2016/3/31  NaN  NaN  NaN  df\n",
       "4  13092  2016/6/3 0:00  2016/3/29  NaN  NaN  NaN  df"
      ]
     },
     "execution_count": 354,
     "metadata": {},
     "output_type": "execute_result"
    }
   ],
   "source": [
    "ins.rename(columns={\"配种日期\":'最近配种日期'},inplace='True')\n",
    "ins.head()"
   ]
  },
  {
   "cell_type": "code",
   "execution_count": 355,
   "metadata": {},
   "outputs": [],
   "source": [
    "ins_rc=pd.merge(ins,rc,on=['牛号','最近配种日期','文件'],how='outer')"
   ]
  },
  {
   "cell_type": "code",
   "execution_count": 356,
   "metadata": {},
   "outputs": [
    {
     "name": "stdout",
     "output_type": "stream",
     "text": [
      "牛号        99142\n",
      "最近配种日期    98300\n",
      "最近分娩日期    32866\n",
      "配次        25477\n",
      "配种员       19911\n",
      "备注        15042\n",
      "文件        99142\n",
      "dtype: int64\n",
      "------------------------------------------------------------\n",
      "牛号        423015\n",
      "新牛号        73298\n",
      "胎次        414380\n",
      "最近配种日期    312851\n",
      "最近分娩      349598\n",
      "文件        428526\n",
      "dtype: int64\n",
      "------------------------------------------------------------\n",
      "牛号        512887\n",
      "最近配种日期    399601\n",
      "最近分娩日期     37213\n",
      "配次         32940\n",
      "配种员        25693\n",
      "备注         22054\n",
      "文件        518398\n",
      "新牛号        73298\n",
      "胎次        419039\n",
      "最近分娩      352752\n",
      "dtype: int64\n"
     ]
    }
   ],
   "source": [
    "print(ins.count())\n",
    "print('---'*20)\n",
    "print(rc.count())\n",
    "print('---'*20)\n",
    "print(ins_rc.count())"
   ]
  },
  {
   "cell_type": "code",
   "execution_count": 357,
   "metadata": {},
   "outputs": [
    {
     "data": {
      "text/html": [
       "<div>\n",
       "<style scoped>\n",
       "    .dataframe tbody tr th:only-of-type {\n",
       "        vertical-align: middle;\n",
       "    }\n",
       "\n",
       "    .dataframe tbody tr th {\n",
       "        vertical-align: top;\n",
       "    }\n",
       "\n",
       "    .dataframe thead th {\n",
       "        text-align: right;\n",
       "    }\n",
       "</style>\n",
       "<table border=\"1\" class=\"dataframe\">\n",
       "  <thead>\n",
       "    <tr style=\"text-align: right;\">\n",
       "      <th></th>\n",
       "      <th>牛号</th>\n",
       "      <th>最近配种日期</th>\n",
       "      <th>最近分娩日期</th>\n",
       "      <th>配次</th>\n",
       "      <th>配种员</th>\n",
       "      <th>备注</th>\n",
       "      <th>文件</th>\n",
       "      <th>新牛号</th>\n",
       "      <th>胎次</th>\n",
       "      <th>最近分娩</th>\n",
       "    </tr>\n",
       "  </thead>\n",
       "  <tbody>\n",
       "    <tr>\n",
       "      <th>0</th>\n",
       "      <td>10808</td>\n",
       "      <td>2016/6/1 0:00</td>\n",
       "      <td>2015/12/3</td>\n",
       "      <td>NaN</td>\n",
       "      <td>NaN</td>\n",
       "      <td>NaN</td>\n",
       "      <td>df</td>\n",
       "      <td>NaN</td>\n",
       "      <td>NaN</td>\n",
       "      <td>NaN</td>\n",
       "    </tr>\n",
       "    <tr>\n",
       "      <th>1</th>\n",
       "      <td>12117</td>\n",
       "      <td>2016/6/2 0:00</td>\n",
       "      <td>2015/3/11</td>\n",
       "      <td>NaN</td>\n",
       "      <td>NaN</td>\n",
       "      <td>NaN</td>\n",
       "      <td>df</td>\n",
       "      <td>NaN</td>\n",
       "      <td>NaN</td>\n",
       "      <td>NaN</td>\n",
       "    </tr>\n",
       "    <tr>\n",
       "      <th>2</th>\n",
       "      <td>13274</td>\n",
       "      <td>2016/6/2 0:00</td>\n",
       "      <td>2016/2/21</td>\n",
       "      <td>NaN</td>\n",
       "      <td>NaN</td>\n",
       "      <td>NaN</td>\n",
       "      <td>df</td>\n",
       "      <td>NaN</td>\n",
       "      <td>NaN</td>\n",
       "      <td>NaN</td>\n",
       "    </tr>\n",
       "    <tr>\n",
       "      <th>3</th>\n",
       "      <td>11159</td>\n",
       "      <td>2016/6/3 0:00</td>\n",
       "      <td>2016/3/31</td>\n",
       "      <td>NaN</td>\n",
       "      <td>NaN</td>\n",
       "      <td>NaN</td>\n",
       "      <td>df</td>\n",
       "      <td>NaN</td>\n",
       "      <td>NaN</td>\n",
       "      <td>NaN</td>\n",
       "    </tr>\n",
       "    <tr>\n",
       "      <th>4</th>\n",
       "      <td>13092</td>\n",
       "      <td>2016/6/3 0:00</td>\n",
       "      <td>2016/3/29</td>\n",
       "      <td>NaN</td>\n",
       "      <td>NaN</td>\n",
       "      <td>NaN</td>\n",
       "      <td>df</td>\n",
       "      <td>NaN</td>\n",
       "      <td>NaN</td>\n",
       "      <td>NaN</td>\n",
       "    </tr>\n",
       "  </tbody>\n",
       "</table>\n",
       "</div>"
      ],
      "text/plain": [
       "      牛号         最近配种日期     最近分娩日期   配次  配种员   备注  文件  新牛号   胎次 最近分娩\n",
       "0  10808  2016/6/1 0:00  2015/12/3  NaN  NaN  NaN  df  NaN  NaN  NaN\n",
       "1  12117  2016/6/2 0:00  2015/3/11  NaN  NaN  NaN  df  NaN  NaN  NaN\n",
       "2  13274  2016/6/2 0:00  2016/2/21  NaN  NaN  NaN  df  NaN  NaN  NaN\n",
       "3  11159  2016/6/3 0:00  2016/3/31  NaN  NaN  NaN  df  NaN  NaN  NaN\n",
       "4  13092  2016/6/3 0:00  2016/3/29  NaN  NaN  NaN  df  NaN  NaN  NaN"
      ]
     },
     "execution_count": 357,
     "metadata": {},
     "output_type": "execute_result"
    }
   ],
   "source": [
    "ins_rc.head()"
   ]
  },
  {
   "cell_type": "markdown",
   "metadata": {},
   "source": [
    "__将最近分娩统一为一列进行处理，作为二部配种数据__"
   ]
  },
  {
   "cell_type": "code",
   "execution_count": 360,
   "metadata": {},
   "outputs": [],
   "source": [
    "ins_rc.loc[ins_rc['最近分娩'].isnull(),'最近分娩']=ins_rc[ins_rc['最近分娩'].isnull()]['最近分娩日期'] \n",
    "\n",
    "ins_rc.loc[ins_rc['胎次'].isnull(),'胎次']=ins_rc[ins_rc['胎次'].isnull()]['备注'] "
   ]
  },
  {
   "cell_type": "code",
   "execution_count": 361,
   "metadata": {},
   "outputs": [],
   "source": [
    "ins_rc.to_csv('F:\\\\data-SH\\\\fertility data17.6\\\\erbu\\\\ins_rc.csv',index=False,encoding='utf_8_sig')"
   ]
  },
  {
   "cell_type": "markdown",
   "metadata": {},
   "source": [
    "## 三部"
   ]
  },
  {
   "cell_type": "markdown",
   "metadata": {},
   "source": [
    "### 配种数据提取"
   ]
  },
  {
   "cell_type": "code",
   "execution_count": 174,
   "metadata": {},
   "outputs": [
    {
     "ename": "KeyboardInterrupt",
     "evalue": "",
     "output_type": "error",
     "traceback": [
      "\u001b[1;31m---------------------------------------------------------------------------\u001b[0m",
      "\u001b[1;31mKeyboardInterrupt\u001b[0m                         Traceback (most recent call last)",
      "\u001b[1;32m<ipython-input-174-73fd12da96e0>\u001b[0m in \u001b[0;36m<module>\u001b[1;34m()\u001b[0m\n\u001b[0;32m     12\u001b[0m \u001b[1;33m\u001b[0m\u001b[0m\n\u001b[0;32m     13\u001b[0m \u001b[1;32mfor\u001b[0m \u001b[0mi\u001b[0m \u001b[1;32min\u001b[0m \u001b[0mrange\u001b[0m\u001b[1;33m(\u001b[0m\u001b[0mlen\u001b[0m\u001b[1;33m(\u001b[0m\u001b[0mexcels\u001b[0m\u001b[1;33m)\u001b[0m\u001b[1;33m)\u001b[0m\u001b[1;33m:\u001b[0m\u001b[1;33m\u001b[0m\u001b[0m\n\u001b[1;32m---> 14\u001b[1;33m     \u001b[0msheet_names\u001b[0m\u001b[1;33m[\u001b[0m\u001b[0mi\u001b[0m\u001b[1;33m]\u001b[0m\u001b[1;33m=\u001b[0m\u001b[0mxlrd\u001b[0m\u001b[1;33m.\u001b[0m\u001b[0mopen_workbook\u001b[0m\u001b[1;33m(\u001b[0m\u001b[0ma\u001b[0m\u001b[1;33m[\u001b[0m\u001b[0mi\u001b[0m\u001b[1;33m]\u001b[0m\u001b[1;33m)\u001b[0m\u001b[1;33m.\u001b[0m\u001b[0msheet_names\u001b[0m\u001b[1;33m(\u001b[0m\u001b[1;33m)\u001b[0m\u001b[1;33m\u001b[0m\u001b[0m\n\u001b[0m\u001b[0;32m     15\u001b[0m     \u001b[1;32mfor\u001b[0m \u001b[0mj\u001b[0m \u001b[1;32min\u001b[0m \u001b[0mrange\u001b[0m\u001b[1;33m(\u001b[0m\u001b[0mlen\u001b[0m\u001b[1;33m(\u001b[0m\u001b[0msheet_names\u001b[0m\u001b[1;33m[\u001b[0m\u001b[0mi\u001b[0m\u001b[1;33m]\u001b[0m\u001b[1;33m)\u001b[0m\u001b[1;33m)\u001b[0m\u001b[1;33m:\u001b[0m\u001b[1;33m\u001b[0m\u001b[0m\n\u001b[0;32m     16\u001b[0m         \u001b[1;32mif\u001b[0m \u001b[1;34m'配种'\u001b[0m \u001b[1;32min\u001b[0m \u001b[0msheet_names\u001b[0m\u001b[1;33m[\u001b[0m\u001b[0mi\u001b[0m\u001b[1;33m]\u001b[0m\u001b[1;33m[\u001b[0m\u001b[0mj\u001b[0m\u001b[1;33m]\u001b[0m\u001b[1;33m:\u001b[0m\u001b[1;33m\u001b[0m\u001b[0m\n",
      "\u001b[1;32mE:\\Anaconda\\lib\\site-packages\\xlrd\\__init__.py\u001b[0m in \u001b[0;36mopen_workbook\u001b[1;34m(filename, logfile, verbosity, use_mmap, file_contents, encoding_override, formatting_info, on_demand, ragged_rows)\u001b[0m\n\u001b[0;32m    160\u001b[0m         \u001b[0mformatting_info\u001b[0m\u001b[1;33m=\u001b[0m\u001b[0mformatting_info\u001b[0m\u001b[1;33m,\u001b[0m\u001b[1;33m\u001b[0m\u001b[0m\n\u001b[0;32m    161\u001b[0m         \u001b[0mon_demand\u001b[0m\u001b[1;33m=\u001b[0m\u001b[0mon_demand\u001b[0m\u001b[1;33m,\u001b[0m\u001b[1;33m\u001b[0m\u001b[0m\n\u001b[1;32m--> 162\u001b[1;33m         \u001b[0mragged_rows\u001b[0m\u001b[1;33m=\u001b[0m\u001b[0mragged_rows\u001b[0m\u001b[1;33m,\u001b[0m\u001b[1;33m\u001b[0m\u001b[0m\n\u001b[0m\u001b[0;32m    163\u001b[0m         )\n\u001b[0;32m    164\u001b[0m     \u001b[1;32mreturn\u001b[0m \u001b[0mbk\u001b[0m\u001b[1;33m\u001b[0m\u001b[0m\n",
      "\u001b[1;32mE:\\Anaconda\\lib\\site-packages\\xlrd\\book.py\u001b[0m in \u001b[0;36mopen_workbook_xls\u001b[1;34m(filename, logfile, verbosity, use_mmap, file_contents, encoding_override, formatting_info, on_demand, ragged_rows)\u001b[0m\n\u001b[0;32m    117\u001b[0m             \u001b[0mbk\u001b[0m\u001b[1;33m.\u001b[0m\u001b[0m_sheet_list\u001b[0m \u001b[1;33m=\u001b[0m \u001b[1;33m[\u001b[0m\u001b[1;32mNone\u001b[0m \u001b[1;32mfor\u001b[0m \u001b[0msh\u001b[0m \u001b[1;32min\u001b[0m \u001b[0mbk\u001b[0m\u001b[1;33m.\u001b[0m\u001b[0m_sheet_names\u001b[0m\u001b[1;33m]\u001b[0m\u001b[1;33m\u001b[0m\u001b[0m\n\u001b[0;32m    118\u001b[0m             \u001b[1;32mif\u001b[0m \u001b[1;32mnot\u001b[0m \u001b[0mon_demand\u001b[0m\u001b[1;33m:\u001b[0m\u001b[1;33m\u001b[0m\u001b[0m\n\u001b[1;32m--> 119\u001b[1;33m                 \u001b[0mbk\u001b[0m\u001b[1;33m.\u001b[0m\u001b[0mget_sheets\u001b[0m\u001b[1;33m(\u001b[0m\u001b[1;33m)\u001b[0m\u001b[1;33m\u001b[0m\u001b[0m\n\u001b[0m\u001b[0;32m    120\u001b[0m         \u001b[0mbk\u001b[0m\u001b[1;33m.\u001b[0m\u001b[0mnsheets\u001b[0m \u001b[1;33m=\u001b[0m \u001b[0mlen\u001b[0m\u001b[1;33m(\u001b[0m\u001b[0mbk\u001b[0m\u001b[1;33m.\u001b[0m\u001b[0m_sheet_list\u001b[0m\u001b[1;33m)\u001b[0m\u001b[1;33m\u001b[0m\u001b[0m\n\u001b[0;32m    121\u001b[0m         \u001b[1;32mif\u001b[0m \u001b[0mbiff_version\u001b[0m \u001b[1;33m==\u001b[0m \u001b[1;36m45\u001b[0m \u001b[1;32mand\u001b[0m \u001b[0mbk\u001b[0m\u001b[1;33m.\u001b[0m\u001b[0mnsheets\u001b[0m \u001b[1;33m>\u001b[0m \u001b[1;36m1\u001b[0m\u001b[1;33m:\u001b[0m\u001b[1;33m\u001b[0m\u001b[0m\n",
      "\u001b[1;32mE:\\Anaconda\\lib\\site-packages\\xlrd\\book.py\u001b[0m in \u001b[0;36mget_sheets\u001b[1;34m(self)\u001b[0m\n\u001b[0;32m    717\u001b[0m         \u001b[1;32mfor\u001b[0m \u001b[0msheetno\u001b[0m \u001b[1;32min\u001b[0m \u001b[0mxrange\u001b[0m\u001b[1;33m(\u001b[0m\u001b[0mlen\u001b[0m\u001b[1;33m(\u001b[0m\u001b[0mself\u001b[0m\u001b[1;33m.\u001b[0m\u001b[0m_sheet_names\u001b[0m\u001b[1;33m)\u001b[0m\u001b[1;33m)\u001b[0m\u001b[1;33m:\u001b[0m\u001b[1;33m\u001b[0m\u001b[0m\n\u001b[0;32m    718\u001b[0m             \u001b[1;32mif\u001b[0m \u001b[0mDEBUG\u001b[0m\u001b[1;33m:\u001b[0m \u001b[0mprint\u001b[0m\u001b[1;33m(\u001b[0m\u001b[1;34m\"GET_SHEETS: sheetno =\"\u001b[0m\u001b[1;33m,\u001b[0m \u001b[0msheetno\u001b[0m\u001b[1;33m,\u001b[0m \u001b[0mself\u001b[0m\u001b[1;33m.\u001b[0m\u001b[0m_sheet_names\u001b[0m\u001b[1;33m,\u001b[0m \u001b[0mself\u001b[0m\u001b[1;33m.\u001b[0m\u001b[0m_sh_abs_posn\u001b[0m\u001b[1;33m,\u001b[0m \u001b[0mfile\u001b[0m\u001b[1;33m=\u001b[0m\u001b[0mself\u001b[0m\u001b[1;33m.\u001b[0m\u001b[0mlogfile\u001b[0m\u001b[1;33m)\u001b[0m\u001b[1;33m\u001b[0m\u001b[0m\n\u001b[1;32m--> 719\u001b[1;33m             \u001b[0mself\u001b[0m\u001b[1;33m.\u001b[0m\u001b[0mget_sheet\u001b[0m\u001b[1;33m(\u001b[0m\u001b[0msheetno\u001b[0m\u001b[1;33m)\u001b[0m\u001b[1;33m\u001b[0m\u001b[0m\n\u001b[0m\u001b[0;32m    720\u001b[0m \u001b[1;33m\u001b[0m\u001b[0m\n\u001b[0;32m    721\u001b[0m     \u001b[1;32mdef\u001b[0m \u001b[0mfake_globals_get_sheet\u001b[0m\u001b[1;33m(\u001b[0m\u001b[0mself\u001b[0m\u001b[1;33m)\u001b[0m\u001b[1;33m:\u001b[0m \u001b[1;31m# for BIFF 4.0 and earlier\u001b[0m\u001b[1;33m\u001b[0m\u001b[0m\n",
      "\u001b[1;32mE:\\Anaconda\\lib\\site-packages\\xlrd\\book.py\u001b[0m in \u001b[0;36mget_sheet\u001b[1;34m(self, sh_number, update_pos)\u001b[0m\n\u001b[0;32m    708\u001b[0m                 \u001b[0msh_number\u001b[0m\u001b[1;33m,\u001b[0m\u001b[1;33m\u001b[0m\u001b[0m\n\u001b[0;32m    709\u001b[0m                 )\n\u001b[1;32m--> 710\u001b[1;33m         \u001b[0msh\u001b[0m\u001b[1;33m.\u001b[0m\u001b[0mread\u001b[0m\u001b[1;33m(\u001b[0m\u001b[0mself\u001b[0m\u001b[1;33m)\u001b[0m\u001b[1;33m\u001b[0m\u001b[0m\n\u001b[0m\u001b[0;32m    711\u001b[0m         \u001b[0mself\u001b[0m\u001b[1;33m.\u001b[0m\u001b[0m_sheet_list\u001b[0m\u001b[1;33m[\u001b[0m\u001b[0msh_number\u001b[0m\u001b[1;33m]\u001b[0m \u001b[1;33m=\u001b[0m \u001b[0msh\u001b[0m\u001b[1;33m\u001b[0m\u001b[0m\n\u001b[0;32m    712\u001b[0m         \u001b[1;32mreturn\u001b[0m \u001b[0msh\u001b[0m\u001b[1;33m\u001b[0m\u001b[0m\n",
      "\u001b[1;32mE:\\Anaconda\\lib\\site-packages\\xlrd\\sheet.py\u001b[0m in \u001b[0;36mread\u001b[1;34m(self, bk)\u001b[0m\n\u001b[0;32m    788\u001b[0m         \u001b[1;32mwhile\u001b[0m \u001b[1;36m1\u001b[0m\u001b[1;33m:\u001b[0m\u001b[1;33m\u001b[0m\u001b[0m\n\u001b[0;32m    789\u001b[0m             \u001b[1;31m# if DEBUG: print \"SHEET.READ: about to read from position %d\" % bk._position\u001b[0m\u001b[1;33m\u001b[0m\u001b[1;33m\u001b[0m\u001b[0m\n\u001b[1;32m--> 790\u001b[1;33m             \u001b[0mrc\u001b[0m\u001b[1;33m,\u001b[0m \u001b[0mdata_len\u001b[0m\u001b[1;33m,\u001b[0m \u001b[0mdata\u001b[0m \u001b[1;33m=\u001b[0m \u001b[0mbk_get_record_parts\u001b[0m\u001b[1;33m(\u001b[0m\u001b[1;33m)\u001b[0m\u001b[1;33m\u001b[0m\u001b[0m\n\u001b[0m\u001b[0;32m    791\u001b[0m             \u001b[1;31m# if rc in rc_stats:\u001b[0m\u001b[1;33m\u001b[0m\u001b[1;33m\u001b[0m\u001b[0m\n\u001b[0;32m    792\u001b[0m             \u001b[1;31m#     rc_stats[rc] += 1\u001b[0m\u001b[1;33m\u001b[0m\u001b[1;33m\u001b[0m\u001b[0m\n",
      "\u001b[1;32mE:\\Anaconda\\lib\\site-packages\\xlrd\\book.py\u001b[0m in \u001b[0;36mget_record_parts\u001b[1;34m(self)\u001b[0m\n\u001b[0;32m    675\u001b[0m         \u001b[0mpos\u001b[0m \u001b[1;33m=\u001b[0m \u001b[0mself\u001b[0m\u001b[1;33m.\u001b[0m\u001b[0m_position\u001b[0m\u001b[1;33m\u001b[0m\u001b[0m\n\u001b[0;32m    676\u001b[0m         \u001b[0mmem\u001b[0m \u001b[1;33m=\u001b[0m \u001b[0mself\u001b[0m\u001b[1;33m.\u001b[0m\u001b[0mmem\u001b[0m\u001b[1;33m\u001b[0m\u001b[0m\n\u001b[1;32m--> 677\u001b[1;33m         \u001b[0mcode\u001b[0m\u001b[1;33m,\u001b[0m \u001b[0mlength\u001b[0m \u001b[1;33m=\u001b[0m \u001b[0munpack\u001b[0m\u001b[1;33m(\u001b[0m\u001b[1;34m'<HH'\u001b[0m\u001b[1;33m,\u001b[0m \u001b[0mmem\u001b[0m\u001b[1;33m[\u001b[0m\u001b[0mpos\u001b[0m\u001b[1;33m:\u001b[0m\u001b[0mpos\u001b[0m\u001b[1;33m+\u001b[0m\u001b[1;36m4\u001b[0m\u001b[1;33m]\u001b[0m\u001b[1;33m)\u001b[0m\u001b[1;33m\u001b[0m\u001b[0m\n\u001b[0m\u001b[0;32m    678\u001b[0m         \u001b[0mpos\u001b[0m \u001b[1;33m+=\u001b[0m \u001b[1;36m4\u001b[0m\u001b[1;33m\u001b[0m\u001b[0m\n\u001b[0;32m    679\u001b[0m         \u001b[0mdata\u001b[0m \u001b[1;33m=\u001b[0m \u001b[0mmem\u001b[0m\u001b[1;33m[\u001b[0m\u001b[0mpos\u001b[0m\u001b[1;33m:\u001b[0m\u001b[0mpos\u001b[0m\u001b[1;33m+\u001b[0m\u001b[0mlength\u001b[0m\u001b[1;33m]\u001b[0m\u001b[1;33m\u001b[0m\u001b[0m\n",
      "\u001b[1;31mKeyboardInterrupt\u001b[0m: "
     ]
    }
   ],
   "source": [
    "path='F:\\\\data-SH\\\\fertility data17.6\\\\sanbu-sum\\\\'\n",
    "excels=os.listdir(path)\n",
    "\n",
    "a=list(excels)\n",
    "\n",
    "for i in range(len(excels)):\n",
    "    a[i]=path+excels[i]\n",
    "    \n",
    "sheet_names=list(excels)\n",
    "\n",
    "newfile='F:\\\\data-SH\\\\fertility data17.6\\\\sanbu\\\\insfile\\\\' #新建一个目录放置有配种数据的表格\n",
    "\n",
    "for i in range(len(excels)):\n",
    "    sheet_names[i]=xlrd.open_workbook(a[i]).sheet_names()\n",
    "    for j in range(len(sheet_names[i])):\n",
    "        if '配种' in sheet_names[i][j]:\n",
    "            df=pd.read_excel(a[i],sheet_name=sheet_names[i][j],encoding='utf8')\n",
    "            df.to_csv(newfile+excels[i]+sheet_names[i][j]+'.csv',encoding=\"utf_8_sig\",index=False)"
   ]
  },
  {
   "cell_type": "markdown",
   "metadata": {},
   "source": [
    "共获得117个文件，进行整理删除后合并"
   ]
  },
  {
   "cell_type": "markdown",
   "metadata": {},
   "source": [
    "### 合并配种记录"
   ]
  },
  {
   "cell_type": "markdown",
   "metadata": {},
   "source": [
    "经整理剩余46个配种相关文件，接下来进行合并工作"
   ]
  },
  {
   "cell_type": "code",
   "execution_count": 175,
   "metadata": {},
   "outputs": [],
   "source": [
    "inspath='F:\\\\data-SH\\\\fertility data17.6\\\\sanbu\\\\insfile\\\\'\n",
    "files=os.listdir(inspath)\n",
    "SaveFile_Name='sanbu-ins.csv'\n",
    "SaveFile_path='F:\\\\data-SH\\\\fertility data17.6\\\\sanbu'"
   ]
  },
  {
   "cell_type": "code",
   "execution_count": 178,
   "metadata": {},
   "outputs": [
    {
     "name": "stderr",
     "output_type": "stream",
     "text": [
      "E:\\Anaconda\\lib\\site-packages\\pandas\\core\\indexing.py:1472: FutureWarning: \n",
      "Passing list-likes to .loc or [] with any missing label will raise\n",
      "KeyError in the future, you can use .reindex() as an alternative.\n",
      "\n",
      "See the documentation here:\n",
      "https://pandas.pydata.org/pandas-docs/stable/indexing.html#deprecate-loc-reindex-listlike\n",
      "  return self._getitem_tuple(key)\n"
     ]
    }
   ],
   "source": [
    "df1 = pd.read_csv(inspath+ files[0])   #编码默认UTF-8，若乱码自行更改</span>\n",
    "#将读取的第一个文件写入合并后的文件保存\n",
    "df1['文件']=files[0]\n",
    "df2=df1.loc[:,[\"牛号\",\"胎次\",\"配种日期\",\"配种次数\",\"谌樘\",\"配种员\",'文件']]\n",
    "df2.to_csv(SaveFile_path+'\\\\'+'1'+SaveFile_Name,encoding=\"utf_8_sig\",index=False)\n",
    "\n",
    "#循环遍历列表中各个文件名，并追加到合并后的文件\n",
    "try:\n",
    "    for i in range(1,len(files)):\n",
    "        df1 = pd.read_csv(inspath+ files[i])\n",
    "        df1['文件']=files[i]\n",
    "        df2=df1.loc[:,[\"牛号\",\"胎次\",\"配种日期\",\"配种次数\",\"谌樘\",\"配种员\",'文件']]\n",
    "        df2.to_csv(SaveFile_path+'\\\\'+'1'+SaveFile_Name,encoding=\"utf_8_sig\",index=False, header=False, mode='a+')\n",
    "except Exception as err:\n",
    "    print(err)\n",
    "    print(files[i])     #检测有数据格式问题的Excel表格"
   ]
  },
  {
   "cell_type": "markdown",
   "metadata": {},
   "source": [
    "# 各部产犊明细以及配种数据合并"
   ]
  },
  {
   "cell_type": "markdown",
   "metadata": {},
   "source": [
    "## 产犊数据"
   ]
  },
  {
   "cell_type": "code",
   "execution_count": 489,
   "metadata": {},
   "outputs": [],
   "source": [
    "calvedata1=pd.read_csv('F:\\\\data-SH\\\\fertility data17.6\\\\1calvedata.csv',low_memory=False,encoding='gbk')\n",
    "calvedata2=pd.read_csv('F:\\\\data-SH\\\\fertility data17.6\\\\2calvedata.csv',low_memory=False,encoding='gbk')\n",
    "calvedata3=pd.read_csv('F:\\\\data-SH\\\\fertility data17.6\\\\3calvedata.csv',low_memory=False,encoding='gbk')"
   ]
  },
  {
   "cell_type": "markdown",
   "metadata": {},
   "source": [
    "__提取产犊评分__"
   ]
  },
  {
   "cell_type": "code",
   "execution_count": 490,
   "metadata": {},
   "outputs": [],
   "source": [
    "keys=['倒产','难产']\n",
    "keysa=['助产','瘫','子宫']"
   ]
  },
  {
   "cell_type": "code",
   "execution_count": 491,
   "metadata": {},
   "outputs": [],
   "source": [
    "calvedata3['产犊评分']=calvedata3['产犊评分'].apply(lambda s: 3 if s in keys else s)\n",
    "calvedata3['产犊评分']=calvedata3['产犊评分'].apply(lambda s: 2 if s in keysa else s)\n",
    "calvedata3['产犊评分']=calvedata3['产犊评分'].apply(lambda s: 1 if type(s)!=int else s)"
   ]
  },
  {
   "cell_type": "code",
   "execution_count": 492,
   "metadata": {},
   "outputs": [
    {
     "data": {
      "text/plain": [
       "1    22892\n",
       "2     1017\n",
       "3      213\n",
       "Name: 产犊评分, dtype: int64"
      ]
     },
     "execution_count": 492,
     "metadata": {},
     "output_type": "execute_result"
    }
   ],
   "source": [
    "calvedata3['产犊评分'].value_counts()"
   ]
  },
  {
   "cell_type": "code",
   "execution_count": 493,
   "metadata": {},
   "outputs": [],
   "source": [
    "calvedata_1=calvedata1[['牛号','胎次','分娩日期','死胎','犊牛性别','产犊评分','与配公牛','牧场']]\n",
    "calvedata_2=calvedata2[['牛号','胎次','分娩日期','死胎','犊牛性别','产犊评分','与配公牛','牧场']]\n",
    "calvedata_3=calvedata3[['牛号','胎次','分娩日期','死胎','犊牛性别','产犊评分','与配公牛','牧场']]"
   ]
  },
  {
   "cell_type": "code",
   "execution_count": 494,
   "metadata": {},
   "outputs": [],
   "source": [
    "calvedata_sh17=pd.concat([calvedata_1,calvedata_2,calvedata_3])"
   ]
  },
  {
   "cell_type": "code",
   "execution_count": 495,
   "metadata": {},
   "outputs": [
    {
     "data": {
      "text/html": [
       "<div>\n",
       "<style scoped>\n",
       "    .dataframe tbody tr th:only-of-type {\n",
       "        vertical-align: middle;\n",
       "    }\n",
       "\n",
       "    .dataframe tbody tr th {\n",
       "        vertical-align: top;\n",
       "    }\n",
       "\n",
       "    .dataframe thead th {\n",
       "        text-align: right;\n",
       "    }\n",
       "</style>\n",
       "<table border=\"1\" class=\"dataframe\">\n",
       "  <thead>\n",
       "    <tr style=\"text-align: right;\">\n",
       "      <th></th>\n",
       "      <th>牛号</th>\n",
       "      <th>胎次</th>\n",
       "      <th>分娩日期</th>\n",
       "      <th>死胎</th>\n",
       "      <th>犊牛性别</th>\n",
       "      <th>产犊评分</th>\n",
       "      <th>与配公牛</th>\n",
       "      <th>牧场</th>\n",
       "    </tr>\n",
       "  </thead>\n",
       "  <tbody>\n",
       "    <tr>\n",
       "      <th>0</th>\n",
       "      <td>120634</td>\n",
       "      <td>2.0</td>\n",
       "      <td>2016/2/1</td>\n",
       "      <td>0.0</td>\n",
       "      <td>0</td>\n",
       "      <td>1.0</td>\n",
       "      <td>31108520</td>\n",
       "      <td>金华</td>\n",
       "    </tr>\n",
       "    <tr>\n",
       "      <th>1</th>\n",
       "      <td>121017</td>\n",
       "      <td>1.0</td>\n",
       "      <td>2016/2/1</td>\n",
       "      <td>1.0</td>\n",
       "      <td>1</td>\n",
       "      <td>2.0</td>\n",
       "      <td>31106140</td>\n",
       "      <td>金华</td>\n",
       "    </tr>\n",
       "    <tr>\n",
       "      <th>2</th>\n",
       "      <td>117054</td>\n",
       "      <td>3.0</td>\n",
       "      <td>2016/2/2</td>\n",
       "      <td>0.0</td>\n",
       "      <td>1</td>\n",
       "      <td>1.0</td>\n",
       "      <td>31108520</td>\n",
       "      <td>金华</td>\n",
       "    </tr>\n",
       "    <tr>\n",
       "      <th>3</th>\n",
       "      <td>120385</td>\n",
       "      <td>2.0</td>\n",
       "      <td>2016/2/2</td>\n",
       "      <td>0.0</td>\n",
       "      <td>1</td>\n",
       "      <td>1.0</td>\n",
       "      <td>31108520</td>\n",
       "      <td>金华</td>\n",
       "    </tr>\n",
       "    <tr>\n",
       "      <th>4</th>\n",
       "      <td>128027</td>\n",
       "      <td>3.0</td>\n",
       "      <td>2016/2/2</td>\n",
       "      <td>0.0</td>\n",
       "      <td>0</td>\n",
       "      <td>1.0</td>\n",
       "      <td>31108520</td>\n",
       "      <td>金华</td>\n",
       "    </tr>\n",
       "  </tbody>\n",
       "</table>\n",
       "</div>"
      ],
      "text/plain": [
       "       牛号   胎次      分娩日期   死胎 犊牛性别  产犊评分      与配公牛  牧场\n",
       "0  120634  2.0  2016/2/1  0.0    0   1.0  31108520  金华\n",
       "1  121017  1.0  2016/2/1  1.0    1   2.0  31106140  金华\n",
       "2  117054  3.0  2016/2/2  0.0    1   1.0  31108520  金华\n",
       "3  120385  2.0  2016/2/2  0.0    1   1.0  31108520  金华\n",
       "4  128027  3.0  2016/2/2  0.0    0   1.0  31108520  金华"
      ]
     },
     "execution_count": 495,
     "metadata": {},
     "output_type": "execute_result"
    }
   ],
   "source": [
    "calvedata_sh17.head()"
   ]
  },
  {
   "cell_type": "code",
   "execution_count": 496,
   "metadata": {},
   "outputs": [
    {
     "name": "stdout",
     "output_type": "stream",
     "text": [
      "<class 'pandas.core.frame.DataFrame'>\n",
      "Int64Index: 67884 entries, 0 to 24121\n",
      "Data columns (total 8 columns):\n",
      "牛号      67882 non-null object\n",
      "胎次      67419 non-null float64\n",
      "分娩日期    67879 non-null object\n",
      "死胎      65001 non-null float64\n",
      "犊牛性别    65930 non-null object\n",
      "产犊评分    51391 non-null float64\n",
      "与配公牛    32615 non-null object\n",
      "牧场      67883 non-null object\n",
      "dtypes: float64(3), object(5)\n",
      "memory usage: 4.7+ MB\n"
     ]
    }
   ],
   "source": [
    "calvedata_sh17.info()"
   ]
  },
  {
   "cell_type": "markdown",
   "metadata": {},
   "source": [
    "## 配种数据"
   ]
  },
  {
   "cell_type": "code",
   "execution_count": 497,
   "metadata": {},
   "outputs": [],
   "source": [
    "insdata2=pd.read_csv('F:\\\\data-SH\\\\fertility data17.6\\\\2insdata.csv',low_memory=False,encoding='gbk')\n",
    "insdata3=pd.read_csv('F:\\\\data-SH\\\\fertility data17.6\\\\3insdata.csv',low_memory=False,encoding='gbk')"
   ]
  },
  {
   "cell_type": "code",
   "execution_count": 498,
   "metadata": {},
   "outputs": [
    {
     "data": {
      "text/plain": [
       "牛号      512887\n",
       "配种日期    399315\n",
       "配次       32750\n",
       "配种员      25693\n",
       "牧场      518398\n",
       "新牛号      73298\n",
       "胎次      431965\n",
       "最近分娩    383229\n",
       "dtype: int64"
      ]
     },
     "execution_count": 498,
     "metadata": {},
     "output_type": "execute_result"
    }
   ],
   "source": [
    "insdata2.count()"
   ]
  },
  {
   "cell_type": "code",
   "execution_count": 499,
   "metadata": {},
   "outputs": [
    {
     "name": "stdout",
     "output_type": "stream",
     "text": [
      "<class 'pandas.core.frame.DataFrame'>\n",
      "RangeIndex: 78027 entries, 0 to 78026\n",
      "Data columns (total 7 columns):\n",
      "牛号      78027 non-null int64\n",
      "胎次      78027 non-null int64\n",
      "配种日期    70250 non-null object\n",
      "配次      55092 non-null float64\n",
      "谌樘      78027 non-null int64\n",
      "配种员     76054 non-null object\n",
      "牧场      78027 non-null object\n",
      "dtypes: float64(1), int64(3), object(3)\n",
      "memory usage: 4.2+ MB\n"
     ]
    }
   ],
   "source": [
    "insdata3.info()"
   ]
  },
  {
   "cell_type": "markdown",
   "metadata": {},
   "source": [
    "__由于3部数据无最近产犊记录，需要先单独与产犊数据进行合并__"
   ]
  },
  {
   "cell_type": "code",
   "execution_count": 500,
   "metadata": {},
   "outputs": [],
   "source": [
    "calvedata3_p=calvedata3[['牛号','胎次','分娩日期']]"
   ]
  },
  {
   "cell_type": "code",
   "execution_count": 501,
   "metadata": {},
   "outputs": [],
   "source": [
    "insdata_3=pd.merge(insdata3,calvedata3_p,on=['牛号','胎次'],how='left')"
   ]
  },
  {
   "cell_type": "code",
   "execution_count": 502,
   "metadata": {},
   "outputs": [
    {
     "data": {
      "text/plain": [
       "牛号      78055\n",
       "胎次      78055\n",
       "配种日期    70276\n",
       "配次      55108\n",
       "谌樘      78055\n",
       "配种员     76080\n",
       "牧场      78055\n",
       "分娩日期    39980\n",
       "dtype: int64"
      ]
     },
     "execution_count": 502,
     "metadata": {},
     "output_type": "execute_result"
    }
   ],
   "source": [
    "insdata_3.count()"
   ]
  },
  {
   "cell_type": "code",
   "execution_count": 503,
   "metadata": {},
   "outputs": [],
   "source": [
    "insdata_3.rename(columns={'分娩日期':'最近分娩'},inplace=True)"
   ]
  },
  {
   "cell_type": "code",
   "execution_count": 504,
   "metadata": {},
   "outputs": [],
   "source": [
    "insdata3_a=insdata_3[['牛号','胎次','配种日期','配次','配种员','最近分娩','牧场']]"
   ]
  },
  {
   "cell_type": "code",
   "execution_count": 505,
   "metadata": {},
   "outputs": [
    {
     "name": "stderr",
     "output_type": "stream",
     "text": [
      "E:\\Anaconda\\lib\\site-packages\\ipykernel_launcher.py:1: FutureWarning: Sorting because non-concatenation axis is not aligned. A future version\n",
      "of pandas will change to not sort by default.\n",
      "\n",
      "To accept the future behavior, pass 'sort=False'.\n",
      "\n",
      "To retain the current behavior and silence the warning, pass 'sort=True'.\n",
      "\n",
      "  \"\"\"Entry point for launching an IPython kernel.\n"
     ]
    }
   ],
   "source": [
    "insdata_sh17=pd.concat([insdata2,insdata3_a])"
   ]
  },
  {
   "cell_type": "code",
   "execution_count": 506,
   "metadata": {},
   "outputs": [
    {
     "data": {
      "text/html": [
       "<div>\n",
       "<style scoped>\n",
       "    .dataframe tbody tr th:only-of-type {\n",
       "        vertical-align: middle;\n",
       "    }\n",
       "\n",
       "    .dataframe tbody tr th {\n",
       "        vertical-align: top;\n",
       "    }\n",
       "\n",
       "    .dataframe thead th {\n",
       "        text-align: right;\n",
       "    }\n",
       "</style>\n",
       "<table border=\"1\" class=\"dataframe\">\n",
       "  <thead>\n",
       "    <tr style=\"text-align: right;\">\n",
       "      <th></th>\n",
       "      <th>新牛号</th>\n",
       "      <th>最近分娩</th>\n",
       "      <th>牛号</th>\n",
       "      <th>牧场</th>\n",
       "      <th>胎次</th>\n",
       "      <th>配次</th>\n",
       "      <th>配种员</th>\n",
       "      <th>配种日期</th>\n",
       "    </tr>\n",
       "  </thead>\n",
       "  <tbody>\n",
       "    <tr>\n",
       "      <th>0</th>\n",
       "      <td>NaN</td>\n",
       "      <td>NaN</td>\n",
       "      <td>1</td>\n",
       "      <td>新东</td>\n",
       "      <td>NaN</td>\n",
       "      <td>NaN</td>\n",
       "      <td>NaN</td>\n",
       "      <td>2009/12/12</td>\n",
       "    </tr>\n",
       "    <tr>\n",
       "      <th>1</th>\n",
       "      <td>NaN</td>\n",
       "      <td>NaN</td>\n",
       "      <td>1</td>\n",
       "      <td>新东</td>\n",
       "      <td>NaN</td>\n",
       "      <td>NaN</td>\n",
       "      <td>NaN</td>\n",
       "      <td>2009/12/12</td>\n",
       "    </tr>\n",
       "    <tr>\n",
       "      <th>2</th>\n",
       "      <td>NaN</td>\n",
       "      <td>NaN</td>\n",
       "      <td>1</td>\n",
       "      <td>新东</td>\n",
       "      <td>NaN</td>\n",
       "      <td>NaN</td>\n",
       "      <td>NaN</td>\n",
       "      <td>2009/12/19</td>\n",
       "    </tr>\n",
       "    <tr>\n",
       "      <th>3</th>\n",
       "      <td>NaN</td>\n",
       "      <td>NaN</td>\n",
       "      <td>1</td>\n",
       "      <td>新东</td>\n",
       "      <td>NaN</td>\n",
       "      <td>NaN</td>\n",
       "      <td>NaN</td>\n",
       "      <td>2009/12/19</td>\n",
       "    </tr>\n",
       "    <tr>\n",
       "      <th>4</th>\n",
       "      <td>NaN</td>\n",
       "      <td>NaN</td>\n",
       "      <td>1</td>\n",
       "      <td>新东</td>\n",
       "      <td>NaN</td>\n",
       "      <td>NaN</td>\n",
       "      <td>NaN</td>\n",
       "      <td>2009/12/19</td>\n",
       "    </tr>\n",
       "  </tbody>\n",
       "</table>\n",
       "</div>"
      ],
      "text/plain": [
       "   新牛号 最近分娩 牛号  牧场  胎次   配次  配种员        配种日期\n",
       "0  NaN  NaN  1  新东 NaN  NaN  NaN  2009/12/12\n",
       "1  NaN  NaN  1  新东 NaN  NaN  NaN  2009/12/12\n",
       "2  NaN  NaN  1  新东 NaN  NaN  NaN  2009/12/19\n",
       "3  NaN  NaN  1  新东 NaN  NaN  NaN  2009/12/19\n",
       "4  NaN  NaN  1  新东 NaN  NaN  NaN  2009/12/19"
      ]
     },
     "execution_count": 506,
     "metadata": {},
     "output_type": "execute_result"
    }
   ],
   "source": [
    "insdata_sh17.head()"
   ]
  },
  {
   "cell_type": "code",
   "execution_count": 507,
   "metadata": {},
   "outputs": [],
   "source": [
    "insdata_sh17.rename(columns={'分娩日期':'最近分娩'},inplace=True)"
   ]
  },
  {
   "cell_type": "markdown",
   "metadata": {},
   "source": [
    "## 产犊与配种数据合并"
   ]
  },
  {
   "cell_type": "code",
   "execution_count": 508,
   "metadata": {},
   "outputs": [],
   "source": [
    "insdata_sh17_1=insdata_sh17.drop_duplicates(keep='first')\n",
    "calvedata_sh17_1=calvedata_sh17.drop_duplicates(keep='first')"
   ]
  },
  {
   "cell_type": "code",
   "execution_count": 509,
   "metadata": {},
   "outputs": [],
   "source": [
    "sh_17=pd.merge(insdata_sh17_1,calvedata_sh17_1,on=['牛号','牧场','胎次'],how='outer')"
   ]
  },
  {
   "cell_type": "code",
   "execution_count": 510,
   "metadata": {},
   "outputs": [
    {
     "name": "stdout",
     "output_type": "stream",
     "text": [
      "<class 'pandas.core.frame.DataFrame'>\n",
      "Int64Index: 327716 entries, 0 to 327715\n",
      "Data columns (total 13 columns):\n",
      "新牛号     25447 non-null object\n",
      "最近分娩    183663 non-null object\n",
      "牛号      327712 non-null object\n",
      "牧场      327715 non-null object\n",
      "胎次      252534 non-null float64\n",
      "配次      80446 non-null object\n",
      "配种员     95277 non-null object\n",
      "配种日期    242950 non-null object\n",
      "分娩日期    113365 non-null object\n",
      "死胎      107942 non-null float64\n",
      "犊牛性别    109690 non-null object\n",
      "产犊评分    75991 non-null float64\n",
      "与配公牛    53476 non-null object\n",
      "dtypes: float64(3), object(10)\n",
      "memory usage: 35.0+ MB\n"
     ]
    }
   ],
   "source": [
    "sh_17.info()"
   ]
  },
  {
   "cell_type": "code",
   "execution_count": 532,
   "metadata": {},
   "outputs": [],
   "source": [
    "sh_17.dropna(axis=0, how='any', subset=['牛号'], inplace=True)"
   ]
  },
  {
   "cell_type": "code",
   "execution_count": 511,
   "metadata": {},
   "outputs": [],
   "source": [
    "sh_17.loc[sh_17['最近分娩'].isnull(),'最近分娩']=sh_17[sh_17['最近分娩'].isnull()]['分娩日期'] "
   ]
  },
  {
   "cell_type": "code",
   "execution_count": 513,
   "metadata": {},
   "outputs": [],
   "source": [
    "del sh_17['与配公牛']\n",
    "del sh_17['分娩日期']"
   ]
  },
  {
   "cell_type": "code",
   "execution_count": 534,
   "metadata": {},
   "outputs": [],
   "source": [
    "sh_17.to_csv(\"F:\\\\data-SH\\\\fertility data17.6\\\\merge.csv\",sep=',',index=False,encoding='utf_8_sig')"
   ]
  },
  {
   "cell_type": "markdown",
   "metadata": {},
   "source": [
    "## 牧场换为系谱场号"
   ]
  },
  {
   "cell_type": "code",
   "execution_count": 598,
   "metadata": {},
   "outputs": [],
   "source": [
    "sh_17=pd.read_csv('F:\\\\data-SH\\\\fertility data17.6\\\\merge1.csv',encoding='gbk',low_memory=False)"
   ]
  },
  {
   "cell_type": "code",
   "execution_count": 599,
   "metadata": {},
   "outputs": [
    {
     "data": {
      "image/png": "[encoded data removed]",
      "text/plain": [
       "<matplotlib.figure.Figure at 0x20b28de1630>"
      ]
     },
     "metadata": {},
     "output_type": "display_data"
    }
   ],
   "source": [
    "ax=sns.countplot(x=sh_17['牧场'])\n",
    "ax1=ax.set_xticklabels(ax.get_xticklabels(), rotation=-90)"
   ]
  },
  {
   "cell_type": "code",
   "execution_count": 600,
   "metadata": {},
   "outputs": [],
   "source": [
    "Herd=pd.read_excel('F:\\\\data-SH\\\\fertility data17.6\\\\HERD.xlsx')"
   ]
  },
  {
   "cell_type": "code",
   "execution_count": 601,
   "metadata": {},
   "outputs": [],
   "source": [
    "sh_17_h=pd.merge(sh_17,Herd,on='牧场',how='left')"
   ]
  },
  {
   "cell_type": "code",
   "execution_count": 602,
   "metadata": {},
   "outputs": [
    {
     "data": {
      "image/png": "[encoded data removed]",
      "text/plain": [
       "<matplotlib.figure.Figure at 0x20b2acf1160>"
      ]
     },
     "metadata": {},
     "output_type": "display_data"
    }
   ],
   "source": [
    "ax=sns.countplot(x=sh_17_h['HERD'])\n",
    "ax1=ax.set_xticklabels(ax.get_xticklabels(), rotation=-90)"
   ]
  },
  {
   "cell_type": "markdown",
   "metadata": {},
   "source": [
    "## 对牛号进行处理"
   ]
  },
  {
   "cell_type": "code",
   "execution_count": 575,
   "metadata": {},
   "outputs": [
    {
     "name": "stdout",
     "output_type": "stream",
     "text": [
      "<class 'pandas.core.frame.DataFrame'>\n",
      "Int64Index: 327693 entries, 0 to 327692\n",
      "Data columns (total 13 columns):\n",
      "新牛号     25447 non-null object\n",
      "最近分娩    222325 non-null object\n",
      "牛号      327693 non-null object\n",
      "牧场      327692 non-null object\n",
      "胎次      252532 non-null float64\n",
      "配次      80446 non-null object\n",
      "配种员     95277 non-null object\n",
      "配种日期    242933 non-null object\n",
      "死胎      107942 non-null float64\n",
      "犊牛性别    109690 non-null object\n",
      "产犊评分    75990 non-null float64\n",
      "Len     327693 non-null int64\n",
      "HERD    327507 non-null object\n",
      "dtypes: float64(3), int64(1), object(9)\n",
      "memory usage: 45.0+ MB\n"
     ]
    }
   ],
   "source": [
    "sh_17_h.info()"
   ]
  },
  {
   "cell_type": "code",
   "execution_count": 748,
   "metadata": {},
   "outputs": [],
   "source": [
    "#观测牛号长度的分布\n",
    "sh_17_h['牛号']=sh_17_h['牛号'].apply(lambda s :s if type(s)==str else str(int(s)))\n",
    "sh_17_h['牛号']=sh_17_h['牛号'].apply(lambda s : s.strip())\n",
    "sh_17_h['Len']=sh_17_h['牛号'].apply(lambda s :len(s))"
   ]
  },
  {
   "cell_type": "code",
   "execution_count": 749,
   "metadata": {},
   "outputs": [
    {
     "data": {
      "text/plain": [
       "<matplotlib.axes._subplots.AxesSubplot at 0x20b9f63dbe0>"
      ]
     },
     "execution_count": 749,
     "metadata": {},
     "output_type": "execute_result"
    },
    {
     "data": {
      "image/png": "[encoded data removed]",
      "text/plain": [
       "<matplotlib.figure.Figure at 0x20b9f641080>"
      ]
     },
     "metadata": {},
     "output_type": "display_data"
    }
   ],
   "source": [
    "sns.countplot(sh_17_h['Len'])"
   ]
  },
  {
   "cell_type": "markdown",
   "metadata": {},
   "source": [
    "__经过观测，6位及以下牛号应该正常，11位和10位牛号中大部分前缀为FSH42和12003保留第6位开头的数字，其中一个11位前缀为112003；9位牛号若不含HO，则从第5个数字开始算起__"
   ]
  },
  {
   "cell_type": "code",
   "execution_count": 605,
   "metadata": {},
   "outputs": [],
   "source": [
    "sh_17_h['ID']=sh_17_h['牛号'].apply(lambda s : s[5:] if len(s)==10 else s)\n",
    "sh_17_h['ID']=sh_17_h['ID'].apply(lambda s :s[5:] if len(s)==11 else s)\n",
    "sh_17_h['ID']=sh_17_h['ID'].apply(lambda s :s[:3]+s[4:] if len(s)==7 else s)"
   ]
  },
  {
   "cell_type": "code",
   "execution_count": 607,
   "metadata": {},
   "outputs": [
    {
     "data": {
      "text/plain": [
       "<matplotlib.axes._subplots.AxesSubplot at 0x20b31af7588>"
      ]
     },
     "execution_count": 607,
     "metadata": {},
     "output_type": "execute_result"
    },
    {
     "data": {
      "image/png": "[encoded data removed]",
      "text/plain": [
       "<matplotlib.figure.Figure at 0x20b31af79e8>"
      ]
     },
     "metadata": {},
     "output_type": "display_data"
    }
   ],
   "source": [
    "sh_17_h['Len']=sh_17_h['ID'].apply(lambda s :len(s))\n",
    "sns.countplot(sh_17_h['Len'])"
   ]
  },
  {
   "cell_type": "code",
   "execution_count": 608,
   "metadata": {},
   "outputs": [],
   "source": [
    "sh_17_h['ID']=sh_17_h['ID'].apply(lambda s :s.zfill(6))"
   ]
  },
  {
   "cell_type": "markdown",
   "metadata": {},
   "source": [
    "## 做FID与系谱进行匹配"
   ]
  },
  {
   "cell_type": "code",
   "execution_count": 613,
   "metadata": {},
   "outputs": [],
   "source": [
    "sh_17_h['HERD']=sh_17_h['HERD'].apply(lambda s :s if pd.isnull(s) else str(s))\n",
    "sh_17_h['FID']=sh_17_h['HERD']+sh_17_h['ID']"
   ]
  },
  {
   "cell_type": "code",
   "execution_count": 614,
   "metadata": {},
   "outputs": [
    {
     "data": {
      "text/html": [
       "<div>\n",
       "<style scoped>\n",
       "    .dataframe tbody tr th:only-of-type {\n",
       "        vertical-align: middle;\n",
       "    }\n",
       "\n",
       "    .dataframe tbody tr th {\n",
       "        vertical-align: top;\n",
       "    }\n",
       "\n",
       "    .dataframe thead th {\n",
       "        text-align: right;\n",
       "    }\n",
       "</style>\n",
       "<table border=\"1\" class=\"dataframe\">\n",
       "  <thead>\n",
       "    <tr style=\"text-align: right;\">\n",
       "      <th></th>\n",
       "      <th>新牛号</th>\n",
       "      <th>最近分娩</th>\n",
       "      <th>牛号</th>\n",
       "      <th>牧场</th>\n",
       "      <th>胎次</th>\n",
       "      <th>配次</th>\n",
       "      <th>配种员</th>\n",
       "      <th>配种日期</th>\n",
       "      <th>死胎</th>\n",
       "      <th>犊牛性别</th>\n",
       "      <th>产犊评分</th>\n",
       "      <th>HERD</th>\n",
       "      <th>Len</th>\n",
       "      <th>ID</th>\n",
       "      <th>FID</th>\n",
       "    </tr>\n",
       "  </thead>\n",
       "  <tbody>\n",
       "    <tr>\n",
       "      <th>0</th>\n",
       "      <td>NaN</td>\n",
       "      <td>NaN</td>\n",
       "      <td>1</td>\n",
       "      <td>新东</td>\n",
       "      <td>NaN</td>\n",
       "      <td>NaN</td>\n",
       "      <td>NaN</td>\n",
       "      <td>2009/12/12</td>\n",
       "      <td>NaN</td>\n",
       "      <td>NaN</td>\n",
       "      <td>NaN</td>\n",
       "      <td>31sh42</td>\n",
       "      <td>1</td>\n",
       "      <td>000001</td>\n",
       "      <td>31sh42000001</td>\n",
       "    </tr>\n",
       "    <tr>\n",
       "      <th>1</th>\n",
       "      <td>NaN</td>\n",
       "      <td>NaN</td>\n",
       "      <td>1</td>\n",
       "      <td>新东</td>\n",
       "      <td>NaN</td>\n",
       "      <td>NaN</td>\n",
       "      <td>NaN</td>\n",
       "      <td>2009/12/19</td>\n",
       "      <td>NaN</td>\n",
       "      <td>NaN</td>\n",
       "      <td>NaN</td>\n",
       "      <td>31sh42</td>\n",
       "      <td>1</td>\n",
       "      <td>000001</td>\n",
       "      <td>31sh42000001</td>\n",
       "    </tr>\n",
       "    <tr>\n",
       "      <th>2</th>\n",
       "      <td>NaN</td>\n",
       "      <td>NaN</td>\n",
       "      <td>1</td>\n",
       "      <td>新东</td>\n",
       "      <td>NaN</td>\n",
       "      <td>NaN</td>\n",
       "      <td>NaN</td>\n",
       "      <td>2009/12/15</td>\n",
       "      <td>NaN</td>\n",
       "      <td>NaN</td>\n",
       "      <td>NaN</td>\n",
       "      <td>31sh42</td>\n",
       "      <td>1</td>\n",
       "      <td>000001</td>\n",
       "      <td>31sh42000001</td>\n",
       "    </tr>\n",
       "    <tr>\n",
       "      <th>3</th>\n",
       "      <td>NaN</td>\n",
       "      <td>NaN</td>\n",
       "      <td>1</td>\n",
       "      <td>新东</td>\n",
       "      <td>NaN</td>\n",
       "      <td>NaN</td>\n",
       "      <td>NaN</td>\n",
       "      <td>2009/12/11</td>\n",
       "      <td>NaN</td>\n",
       "      <td>NaN</td>\n",
       "      <td>NaN</td>\n",
       "      <td>31sh42</td>\n",
       "      <td>1</td>\n",
       "      <td>000001</td>\n",
       "      <td>31sh42000001</td>\n",
       "    </tr>\n",
       "    <tr>\n",
       "      <th>4</th>\n",
       "      <td>NaN</td>\n",
       "      <td>NaN</td>\n",
       "      <td>1</td>\n",
       "      <td>新东</td>\n",
       "      <td>NaN</td>\n",
       "      <td>NaN</td>\n",
       "      <td>NaN</td>\n",
       "      <td>2009/12/29</td>\n",
       "      <td>NaN</td>\n",
       "      <td>NaN</td>\n",
       "      <td>NaN</td>\n",
       "      <td>31sh42</td>\n",
       "      <td>1</td>\n",
       "      <td>000001</td>\n",
       "      <td>31sh42000001</td>\n",
       "    </tr>\n",
       "  </tbody>\n",
       "</table>\n",
       "</div>"
      ],
      "text/plain": [
       "   新牛号 最近分娩 牛号  牧场  胎次   配次  配种员        配种日期  死胎 犊牛性别  产犊评分    HERD  Len  \\\n",
       "0  NaN  NaN  1  新东 NaN  NaN  NaN  2009/12/12 NaN  NaN   NaN  31sh42    1   \n",
       "1  NaN  NaN  1  新东 NaN  NaN  NaN  2009/12/19 NaN  NaN   NaN  31sh42    1   \n",
       "2  NaN  NaN  1  新东 NaN  NaN  NaN  2009/12/15 NaN  NaN   NaN  31sh42    1   \n",
       "3  NaN  NaN  1  新东 NaN  NaN  NaN  2009/12/11 NaN  NaN   NaN  31sh42    1   \n",
       "4  NaN  NaN  1  新东 NaN  NaN  NaN  2009/12/29 NaN  NaN   NaN  31sh42    1   \n",
       "\n",
       "       ID           FID  \n",
       "0  000001  31sh42000001  \n",
       "1  000001  31sh42000001  \n",
       "2  000001  31sh42000001  \n",
       "3  000001  31sh42000001  \n",
       "4  000001  31sh42000001  "
      ]
     },
     "execution_count": 614,
     "metadata": {},
     "output_type": "execute_result"
    }
   ],
   "source": [
    "sh_17_h.head()"
   ]
  },
  {
   "cell_type": "code",
   "execution_count": 751,
   "metadata": {},
   "outputs": [],
   "source": [
    "sh_17_f=sh_17_h[['FID','ID','胎次','最近分娩','配种日期','配次','配种员','犊牛性别','死胎','产犊评分','HERD']]"
   ]
  },
  {
   "cell_type": "code",
   "execution_count": 752,
   "metadata": {},
   "outputs": [],
   "source": [
    "sh_17_f.to_csv('F:\\\\data-SH\\\\fertility data17.6\\\\sh_17_final.csv',index=False,encoding='utf_8_sig')"
   ]
  },
  {
   "cell_type": "markdown",
   "metadata": {},
   "source": [
    "## 系谱提取"
   ]
  },
  {
   "cell_type": "markdown",
   "metadata": {},
   "source": [
    "根据HERD文件确定牛场，从系谱中提取相应编号的牛场(系谱牛号前6位在牛场编号表中就提取)"
   ]
  },
  {
   "cell_type": "code",
   "execution_count": 747,
   "metadata": {},
   "outputs": [
    {
     "data": {
      "text/plain": [
       "FID     89091\n",
       "出生日期    85048\n",
       "CODE    89091\n",
       "DAM     65213\n",
       "SIRE    80013\n",
       "dtype: int64"
      ]
     },
     "execution_count": 747,
     "metadata": {},
     "output_type": "execute_result"
    }
   ],
   "source": [
    "pedigree=pd.read_csv('F:\\Python\\\\PED.csv',low_memory=False)\n",
    "\n",
    "HERD=Herd['HERD'].dropna(how='any').values.tolist()\n",
    "\n",
    "pedigree['HERD']=pedigree['牛号'].apply(lambda s : s[:6])\n",
    "\n",
    "HERD=[str(s) for s in HERD]\n",
    "\n",
    "pedigree.head()\n",
    "\n",
    "pedigree['T']=pedigree['HERD'].apply(lambda s : s in HERD) \n",
    "pedigree_sh17=pedigree[pedigree['T']==True][['牛号','出生日期','CODE','DAM','SIRE']]\n",
    "\n",
    "pedigree_sh17.rename(columns={'牛号':'FID'},inplace=True)\n",
    "pedigree_sh17.count()"
   ]
  },
  {
   "cell_type": "code",
   "execution_count": 729,
   "metadata": {},
   "outputs": [],
   "source": [
    "pedigree_sh17.to_csv('F:\\\\data-SH\\\\fertility data17.6\\\\ped-sh_17.csv',index=False,encoding='utf_8_sig')"
   ]
  },
  {
   "cell_type": "markdown",
   "metadata": {},
   "source": [
    "## 系谱与数据合并"
   ]
  },
  {
   "cell_type": "code",
   "execution_count": 709,
   "metadata": {},
   "outputs": [],
   "source": [
    "sh17_f=pd.merge(sh_17_f,pedigree_sh17,on='FID',how='outer')"
   ]
  },
  {
   "cell_type": "code",
   "execution_count": 710,
   "metadata": {},
   "outputs": [
    {
     "name": "stdout",
     "output_type": "stream",
     "text": [
      "<class 'pandas.core.frame.DataFrame'>\n",
      "Int64Index: 384459 entries, 0 to 384458\n",
      "Data columns (total 16 columns):\n",
      "FID     384273 non-null object\n",
      "ID      327693 non-null object\n",
      "新牛号     25447 non-null object\n",
      "胎次      252532 non-null float64\n",
      "最近分娩    222325 non-null object\n",
      "配种日期    242933 non-null object\n",
      "配次      80446 non-null object\n",
      "配种员     95277 non-null object\n",
      "犊牛性别    109690 non-null object\n",
      "死胎      107942 non-null float64\n",
      "产犊评分    75990 non-null float64\n",
      "HERD    327507 non-null object\n",
      "出生日期    225013 non-null object\n",
      "CODE    232325 non-null float64\n",
      "DAM     182850 non-null float64\n",
      "SIRE    212352 non-null float64\n",
      "dtypes: float64(6), object(10)\n",
      "memory usage: 49.9+ MB\n"
     ]
    }
   ],
   "source": [
    "sh17_f.info()"
   ]
  },
  {
   "cell_type": "markdown",
   "metadata": {},
   "source": [
    "可见匹配率不是很高，FID与CODE之间相差15w。"
   ]
  },
  {
   "cell_type": "markdown",
   "metadata": {},
   "source": [
    "## 进一步整理"
   ]
  },
  {
   "cell_type": "markdown",
   "metadata": {},
   "source": [
    "### 各场匹配率检查"
   ]
  },
  {
   "cell_type": "code",
   "execution_count": 711,
   "metadata": {},
   "outputs": [],
   "source": [
    "missing=sh17_f.groupby(sh17_f['HERD']).count()[['FID','CODE','新牛号']]\n",
    "missing['combine_rate']=missing['CODE']/missing['FID']"
   ]
  },
  {
   "cell_type": "code",
   "execution_count": 723,
   "metadata": {},
   "outputs": [
    {
     "data": {
      "text/html": [
       "<div>\n",
       "<style scoped>\n",
       "    .dataframe tbody tr th:only-of-type {\n",
       "        vertical-align: middle;\n",
       "    }\n",
       "\n",
       "    .dataframe tbody tr th {\n",
       "        vertical-align: top;\n",
       "    }\n",
       "\n",
       "    .dataframe thead th {\n",
       "        text-align: right;\n",
       "    }\n",
       "</style>\n",
       "<table border=\"1\" class=\"dataframe\">\n",
       "  <thead>\n",
       "    <tr style=\"text-align: right;\">\n",
       "      <th></th>\n",
       "      <th>FID</th>\n",
       "      <th>CODE</th>\n",
       "      <th>新牛号</th>\n",
       "      <th>combine_rate</th>\n",
       "    </tr>\n",
       "    <tr>\n",
       "      <th>HERD</th>\n",
       "      <th></th>\n",
       "      <th></th>\n",
       "      <th></th>\n",
       "      <th></th>\n",
       "    </tr>\n",
       "  </thead>\n",
       "  <tbody>\n",
       "    <tr>\n",
       "      <th>320397</th>\n",
       "      <td>86786</td>\n",
       "      <td>46814</td>\n",
       "      <td>0</td>\n",
       "      <td>0.539419</td>\n",
       "    </tr>\n",
       "    <tr>\n",
       "      <th>31sh42</th>\n",
       "      <td>48608</td>\n",
       "      <td>34091</td>\n",
       "      <td>0</td>\n",
       "      <td>0.701345</td>\n",
       "    </tr>\n",
       "    <tr>\n",
       "      <th>310345</th>\n",
       "      <td>32551</td>\n",
       "      <td>12356</td>\n",
       "      <td>3783</td>\n",
       "      <td>0.379589</td>\n",
       "    </tr>\n",
       "    <tr>\n",
       "      <th>31sh44</th>\n",
       "      <td>31362</td>\n",
       "      <td>1043</td>\n",
       "      <td>0</td>\n",
       "      <td>0.033257</td>\n",
       "    </tr>\n",
       "    <tr>\n",
       "      <th>310409</th>\n",
       "      <td>23982</td>\n",
       "      <td>6034</td>\n",
       "      <td>14397</td>\n",
       "      <td>0.251605</td>\n",
       "    </tr>\n",
       "    <tr>\n",
       "      <th>310405</th>\n",
       "      <td>22199</td>\n",
       "      <td>19684</td>\n",
       "      <td>7267</td>\n",
       "      <td>0.886707</td>\n",
       "    </tr>\n",
       "    <tr>\n",
       "      <th>31sh41</th>\n",
       "      <td>18636</td>\n",
       "      <td>6582</td>\n",
       "      <td>0</td>\n",
       "      <td>0.353187</td>\n",
       "    </tr>\n",
       "    <tr>\n",
       "      <th>31sh48</th>\n",
       "      <td>13957</td>\n",
       "      <td>13728</td>\n",
       "      <td>0</td>\n",
       "      <td>0.983592</td>\n",
       "    </tr>\n",
       "    <tr>\n",
       "      <th>31sh37</th>\n",
       "      <td>10598</td>\n",
       "      <td>10070</td>\n",
       "      <td>0</td>\n",
       "      <td>0.950179</td>\n",
       "    </tr>\n",
       "    <tr>\n",
       "      <th>31sh39</th>\n",
       "      <td>8834</td>\n",
       "      <td>8803</td>\n",
       "      <td>0</td>\n",
       "      <td>0.996491</td>\n",
       "    </tr>\n",
       "    <tr>\n",
       "      <th>31sh75</th>\n",
       "      <td>5498</td>\n",
       "      <td>5417</td>\n",
       "      <td>0</td>\n",
       "      <td>0.985267</td>\n",
       "    </tr>\n",
       "    <tr>\n",
       "      <th>310190</th>\n",
       "      <td>4969</td>\n",
       "      <td>1</td>\n",
       "      <td>0</td>\n",
       "      <td>0.000201</td>\n",
       "    </tr>\n",
       "    <tr>\n",
       "      <th>230398</th>\n",
       "      <td>2358</td>\n",
       "      <td>2192</td>\n",
       "      <td>0</td>\n",
       "      <td>0.929601</td>\n",
       "    </tr>\n",
       "    <tr>\n",
       "      <th>420385</th>\n",
       "      <td>2327</td>\n",
       "      <td>1701</td>\n",
       "      <td>0</td>\n",
       "      <td>0.730984</td>\n",
       "    </tr>\n",
       "    <tr>\n",
       "      <th>370376</th>\n",
       "      <td>2061</td>\n",
       "      <td>2025</td>\n",
       "      <td>0</td>\n",
       "      <td>0.982533</td>\n",
       "    </tr>\n",
       "    <tr>\n",
       "      <th>410401</th>\n",
       "      <td>2056</td>\n",
       "      <td>1968</td>\n",
       "      <td>0</td>\n",
       "      <td>0.957198</td>\n",
       "    </tr>\n",
       "    <tr>\n",
       "      <th>31sh14</th>\n",
       "      <td>1959</td>\n",
       "      <td>977</td>\n",
       "      <td>0</td>\n",
       "      <td>0.498724</td>\n",
       "    </tr>\n",
       "    <tr>\n",
       "      <th>330374</th>\n",
       "      <td>1728</td>\n",
       "      <td>12</td>\n",
       "      <td>0</td>\n",
       "      <td>0.006944</td>\n",
       "    </tr>\n",
       "    <tr>\n",
       "      <th>230423</th>\n",
       "      <td>1150</td>\n",
       "      <td>0</td>\n",
       "      <td>0</td>\n",
       "      <td>0.000000</td>\n",
       "    </tr>\n",
       "    <tr>\n",
       "      <th>310410</th>\n",
       "      <td>1019</td>\n",
       "      <td>644</td>\n",
       "      <td>0</td>\n",
       "      <td>0.631992</td>\n",
       "    </tr>\n",
       "    <tr>\n",
       "      <th>31sh89</th>\n",
       "      <td>914</td>\n",
       "      <td>106</td>\n",
       "      <td>0</td>\n",
       "      <td>0.115974</td>\n",
       "    </tr>\n",
       "    <tr>\n",
       "      <th>310107</th>\n",
       "      <td>727</td>\n",
       "      <td>41</td>\n",
       "      <td>0</td>\n",
       "      <td>0.056396</td>\n",
       "    </tr>\n",
       "    <tr>\n",
       "      <th>31sh12</th>\n",
       "      <td>699</td>\n",
       "      <td>367</td>\n",
       "      <td>0</td>\n",
       "      <td>0.525036</td>\n",
       "    </tr>\n",
       "    <tr>\n",
       "      <th>310101</th>\n",
       "      <td>671</td>\n",
       "      <td>131</td>\n",
       "      <td>0</td>\n",
       "      <td>0.195231</td>\n",
       "    </tr>\n",
       "    <tr>\n",
       "      <th>12A196</th>\n",
       "      <td>625</td>\n",
       "      <td>544</td>\n",
       "      <td>0</td>\n",
       "      <td>0.870400</td>\n",
       "    </tr>\n",
       "    <tr>\n",
       "      <th>31sh27</th>\n",
       "      <td>433</td>\n",
       "      <td>11</td>\n",
       "      <td>0</td>\n",
       "      <td>0.025404</td>\n",
       "    </tr>\n",
       "    <tr>\n",
       "      <th>31sh10</th>\n",
       "      <td>384</td>\n",
       "      <td>9</td>\n",
       "      <td>0</td>\n",
       "      <td>0.023438</td>\n",
       "    </tr>\n",
       "    <tr>\n",
       "      <th>310131</th>\n",
       "      <td>107</td>\n",
       "      <td>0</td>\n",
       "      <td>0</td>\n",
       "      <td>0.000000</td>\n",
       "    </tr>\n",
       "    <tr>\n",
       "      <th>310128</th>\n",
       "      <td>99</td>\n",
       "      <td>95</td>\n",
       "      <td>0</td>\n",
       "      <td>0.959596</td>\n",
       "    </tr>\n",
       "    <tr>\n",
       "      <th>37JN25</th>\n",
       "      <td>75</td>\n",
       "      <td>10</td>\n",
       "      <td>0</td>\n",
       "      <td>0.133333</td>\n",
       "    </tr>\n",
       "    <tr>\n",
       "      <th>320373</th>\n",
       "      <td>55</td>\n",
       "      <td>55</td>\n",
       "      <td>0</td>\n",
       "      <td>1.000000</td>\n",
       "    </tr>\n",
       "    <tr>\n",
       "      <th>12A119</th>\n",
       "      <td>49</td>\n",
       "      <td>48</td>\n",
       "      <td>0</td>\n",
       "      <td>0.979592</td>\n",
       "    </tr>\n",
       "    <tr>\n",
       "      <th>13ts05</th>\n",
       "      <td>31</td>\n",
       "      <td>0</td>\n",
       "      <td>0</td>\n",
       "      <td>0.000000</td>\n",
       "    </tr>\n",
       "  </tbody>\n",
       "</table>\n",
       "</div>"
      ],
      "text/plain": [
       "          FID   CODE    新牛号  combine_rate\n",
       "HERD                                     \n",
       "320397  86786  46814      0      0.539419\n",
       "31sh42  48608  34091      0      0.701345\n",
       "310345  32551  12356   3783      0.379589\n",
       "31sh44  31362   1043      0      0.033257\n",
       "310409  23982   6034  14397      0.251605\n",
       "310405  22199  19684   7267      0.886707\n",
       "31sh41  18636   6582      0      0.353187\n",
       "31sh48  13957  13728      0      0.983592\n",
       "31sh37  10598  10070      0      0.950179\n",
       "31sh39   8834   8803      0      0.996491\n",
       "31sh75   5498   5417      0      0.985267\n",
       "310190   4969      1      0      0.000201\n",
       "230398   2358   2192      0      0.929601\n",
       "420385   2327   1701      0      0.730984\n",
       "370376   2061   2025      0      0.982533\n",
       "410401   2056   1968      0      0.957198\n",
       "31sh14   1959    977      0      0.498724\n",
       "330374   1728     12      0      0.006944\n",
       "230423   1150      0      0      0.000000\n",
       "310410   1019    644      0      0.631992\n",
       "31sh89    914    106      0      0.115974\n",
       "310107    727     41      0      0.056396\n",
       "31sh12    699    367      0      0.525036\n",
       "310101    671    131      0      0.195231\n",
       "12A196    625    544      0      0.870400\n",
       "31sh27    433     11      0      0.025404\n",
       "31sh10    384      9      0      0.023438\n",
       "310131    107      0      0      0.000000\n",
       "310128     99     95      0      0.959596\n",
       "37JN25     75     10      0      0.133333\n",
       "320373     55     55      0      1.000000\n",
       "12A119     49     48      0      0.979592\n",
       "13ts05     31      0      0      0.000000"
      ]
     },
     "execution_count": 723,
     "metadata": {},
     "output_type": "execute_result"
    }
   ],
   "source": [
    "missing.sort_values(by=['FID','combine_rate'],ascending=False)"
   ]
  },
  {
   "cell_type": "markdown",
   "metadata": {},
   "source": [
    "可以看出有的牛场并没有匹配上系谱数据，一些牛场牛号的匹配率不高，需要再检查牛号"
   ]
  },
  {
   "cell_type": "code",
   "execution_count": 743,
   "metadata": {},
   "outputs": [],
   "source": [
    "sh17_check=sh17_f[sh17_f['CODE'].isnull()]"
   ]
  },
  {
   "cell_type": "code",
   "execution_count": 745,
   "metadata": {},
   "outputs": [
    {
     "name": "stdout",
     "output_type": "stream",
     "text": [
      "<class 'pandas.core.frame.DataFrame'>\n",
      "Int64Index: 152134 entries, 0 to 327692\n",
      "Data columns (total 16 columns):\n",
      "FID     151948 non-null object\n",
      "ID      152134 non-null object\n",
      "新牛号     12203 non-null object\n",
      "胎次      123850 non-null float64\n",
      "最近分娩    100463 non-null object\n",
      "配种日期    107855 non-null object\n",
      "配次      30708 non-null object\n",
      "配种员     42800 non-null object\n",
      "犊牛性别    45892 non-null object\n",
      "死胎      45097 non-null float64\n",
      "产犊评分    35071 non-null float64\n",
      "HERD    151948 non-null object\n",
      "出生日期    0 non-null object\n",
      "CODE    0 non-null float64\n",
      "DAM     0 non-null float64\n",
      "SIRE    0 non-null float64\n",
      "dtypes: float64(6), object(10)\n",
      "memory usage: 19.7+ MB\n"
     ]
    }
   ],
   "source": [
    "sh17_check.info()"
   ]
  },
  {
   "cell_type": "code",
   "execution_count": 746,
   "metadata": {},
   "outputs": [],
   "source": [
    "sh17_check.to_csv('F:\\\\data-SH\\\\fertility data17.6\\\\sh17_check.csv',index=False,encoding='utf_8_sig')"
   ]
  },
  {
   "cell_type": "markdown",
   "metadata": {},
   "source": [
    "### 检查系谱牛场"
   ]
  },
  {
   "cell_type": "code",
   "execution_count": 714,
   "metadata": {},
   "outputs": [],
   "source": [
    "pedigree_sh17_t=pedigree[pedigree['T']==True][['牛号','出生日期','CODE','DAM','SIRE','HERD']]\n",
    "\n",
    "ped_herd=pedigree_sh17_t[['HERD']].drop_duplicates(keep='first').values.tolist()\n",
    "\n",
    "sh17_herd=sh_17_f[['HERD']].drop_duplicates(keep='first').values.tolist()\n",
    "\n",
    "from tkinter import _flatten\n",
    "sh17_herd=list(_flatten(sh17_herd))\n",
    "\n",
    "ped_herd=list(_flatten(ped_herd))\n",
    "\n",
    "differ=set(sh17_herd)-set(ped_herd)"
   ]
  },
  {
   "cell_type": "code",
   "execution_count": 720,
   "metadata": {},
   "outputs": [
    {
     "data": {
      "text/plain": [
       "{'13ts05', '230423', nan}"
      ]
     },
     "execution_count": 720,
     "metadata": {},
     "output_type": "execute_result"
    }
   ],
   "source": [
    "differ"
   ]
  },
  {
   "cell_type": "markdown",
   "metadata": {},
   "source": [
    "可见这2个牛场号不存在与系谱中"
   ]
  }
 ],
 "metadata": {
  "kernelspec": {
   "display_name": "Python 3",
   "language": "python",
   "name": "python3"
  },
  "language_info": {
   "codemirror_mode": {
    "name": "ipython",
    "version": 3
   },
   "file_extension": ".py",
   "mimetype": "text/x-python",
   "name": "python",
   "nbconvert_exporter": "python",
   "pygments_lexer": "ipython3",
   "version": "3.6.4"
  },
  "toc": {
   "base_numbering": 1,
   "nav_menu": {},
   "number_sections": true,
   "sideBar": true,
   "skip_h1_title": false,
   "title_cell": "Table of Contents",
   "title_sidebar": "Contents",
   "toc_cell": false,
   "toc_position": {},
   "toc_section_display": true,
   "toc_window_display": true
  }
 },
 "nbformat": 4,
 "nbformat_minor": 2
}
