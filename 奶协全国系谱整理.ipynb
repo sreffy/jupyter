{
 "cells": [
  {
   "cell_type": "code",
   "execution_count": 33,
   "metadata": {},
   "outputs": [],
   "source": [
    "import pandas as pd\n",
    "import numpy as np\n",
    "import matplotlib.pyplot as plt"
   ]
  },
  {
   "cell_type": "code",
   "execution_count": 34,
   "metadata": {},
   "outputs": [],
   "source": [
    "plt.rcParams['font.sans-serif']=['SimHei']\n",
    "plt.rcParams['axes.unicode_minus'] = False"
   ]
  },
  {
   "cell_type": "code",
   "execution_count": 36,
   "metadata": {},
   "outputs": [],
   "source": [
    "ped=pd.read_csv(\"F:\\\\Python\\\\pedigree.csv\",sep=\",\",encoding='gbk',low_memory=False)"
   ]
  },
  {
   "cell_type": "code",
   "execution_count": 37,
   "metadata": {},
   "outputs": [
    {
     "data": {
      "text/html": [
       "<div>\n",
       "<style scoped>\n",
       "    .dataframe tbody tr th:only-of-type {\n",
       "        vertical-align: middle;\n",
       "    }\n",
       "\n",
       "    .dataframe tbody tr th {\n",
       "        vertical-align: top;\n",
       "    }\n",
       "\n",
       "    .dataframe thead th {\n",
       "        text-align: right;\n",
       "    }\n",
       "</style>\n",
       "<table border=\"1\" class=\"dataframe\">\n",
       "  <thead>\n",
       "    <tr style=\"text-align: right;\">\n",
       "      <th></th>\n",
       "      <th>牛号</th>\n",
       "      <th>出生日期</th>\n",
       "      <th>父国别</th>\n",
       "      <th>父号</th>\n",
       "      <th>母国别</th>\n",
       "      <th>母号</th>\n",
       "    </tr>\n",
       "  </thead>\n",
       "  <tbody>\n",
       "    <tr>\n",
       "      <th>0</th>\n",
       "      <td>110001000001</td>\n",
       "      <td>2000/1/6</td>\n",
       "      <td>CHN</td>\n",
       "      <td>11193546</td>\n",
       "      <td>CHN</td>\n",
       "      <td>110001099169</td>\n",
       "    </tr>\n",
       "    <tr>\n",
       "      <th>1</th>\n",
       "      <td>110001000003</td>\n",
       "      <td>2000/1/10</td>\n",
       "      <td>CHN</td>\n",
       "      <td>31195515</td>\n",
       "      <td>CHN</td>\n",
       "      <td>110001095046</td>\n",
       "    </tr>\n",
       "    <tr>\n",
       "      <th>2</th>\n",
       "      <td>110001000006</td>\n",
       "      <td>2000/1/16</td>\n",
       "      <td>CHN</td>\n",
       "      <td>31195515</td>\n",
       "      <td>CHN</td>\n",
       "      <td>110001094056</td>\n",
       "    </tr>\n",
       "    <tr>\n",
       "      <th>3</th>\n",
       "      <td>110001000007</td>\n",
       "      <td>2000/1/21</td>\n",
       "      <td>CHN</td>\n",
       "      <td>11194143</td>\n",
       "      <td>CHN</td>\n",
       "      <td>110001096113</td>\n",
       "    </tr>\n",
       "    <tr>\n",
       "      <th>4</th>\n",
       "      <td>110001000008</td>\n",
       "      <td>2000/1/20</td>\n",
       "      <td>CHN</td>\n",
       "      <td>11194143</td>\n",
       "      <td>CHN</td>\n",
       "      <td>110001090136</td>\n",
       "    </tr>\n",
       "  </tbody>\n",
       "</table>\n",
       "</div>"
      ],
      "text/plain": [
       "             牛号       出生日期  父国别        父号  母国别            母号\n",
       "0  110001000001   2000/1/6  CHN  11193546  CHN  110001099169\n",
       "1  110001000003  2000/1/10  CHN  31195515  CHN  110001095046\n",
       "2  110001000006  2000/1/16  CHN  31195515  CHN  110001094056\n",
       "3  110001000007  2000/1/21  CHN  11194143  CHN  110001096113\n",
       "4  110001000008  2000/1/20  CHN  11194143  CHN  110001090136"
      ]
     },
     "execution_count": 37,
     "metadata": {},
     "output_type": "execute_result"
    }
   ],
   "source": [
    "ped.head()"
   ]
  },
  {
   "cell_type": "code",
   "execution_count": 38,
   "metadata": {},
   "outputs": [],
   "source": [
    "ped1=ped[['牛号','出生日期','父号','母号']]"
   ]
  },
  {
   "cell_type": "markdown",
   "metadata": {},
   "source": [
    "# 所有牛号重新编号"
   ]
  },
  {
   "cell_type": "code",
   "execution_count": 39,
   "metadata": {},
   "outputs": [],
   "source": [
    "a=pd.DataFrame()\n",
    "b=pd.DataFrame()\n",
    "c=pd.DataFrame()"
   ]
  },
  {
   "cell_type": "code",
   "execution_count": 40,
   "metadata": {},
   "outputs": [],
   "source": [
    "a['牛号']=ped1['牛号']\n",
    "b['牛号']=ped1['母号']\n",
    "c['牛号']=ped1['父号']"
   ]
  },
  {
   "cell_type": "code",
   "execution_count": 41,
   "metadata": {},
   "outputs": [],
   "source": [
    "pedlist=pd.concat([a,b,c])"
   ]
  },
  {
   "cell_type": "code",
   "execution_count": 42,
   "metadata": {},
   "outputs": [
    {
     "data": {
      "text/plain": [
       "牛号    7283320\n",
       "dtype: int64"
      ]
     },
     "execution_count": 42,
     "metadata": {},
     "output_type": "execute_result"
    }
   ],
   "source": [
    "pedlist.count()"
   ]
  },
  {
   "cell_type": "code",
   "execution_count": 43,
   "metadata": {},
   "outputs": [],
   "source": [
    "pedlist1=pedlist.drop_duplicates(keep='first').dropna(how='any')"
   ]
  },
  {
   "cell_type": "code",
   "execution_count": 44,
   "metadata": {},
   "outputs": [
    {
     "data": {
      "text/plain": [
       "牛号    4023122\n",
       "dtype: int64"
      ]
     },
     "execution_count": 44,
     "metadata": {},
     "output_type": "execute_result"
    }
   ],
   "source": [
    "pedlist1.count()"
   ]
  },
  {
   "cell_type": "code",
   "execution_count": 45,
   "metadata": {},
   "outputs": [
    {
     "data": {
      "text/plain": [
       "4023122"
      ]
     },
     "execution_count": 45,
     "metadata": {},
     "output_type": "execute_result"
    }
   ],
   "source": [
    "len(pedlist1)"
   ]
  },
  {
   "cell_type": "code",
   "execution_count": 46,
   "metadata": {},
   "outputs": [],
   "source": [
    "pedlist1['CODE']=range(1,len(pedlist1)+1)"
   ]
  },
  {
   "cell_type": "code",
   "execution_count": 47,
   "metadata": {},
   "outputs": [
    {
     "data": {
      "text/plain": [
       "牛号      4023122\n",
       "CODE    4023122\n",
       "dtype: int64"
      ]
     },
     "execution_count": 47,
     "metadata": {},
     "output_type": "execute_result"
    }
   ],
   "source": [
    "pedlist1.count()"
   ]
  },
  {
   "cell_type": "markdown",
   "metadata": {},
   "source": [
    "# 匹配原牛号"
   ]
  },
  {
   "cell_type": "code",
   "execution_count": 48,
   "metadata": {},
   "outputs": [],
   "source": [
    "pedlist2=pedlist1[:].rename(columns={'牛号':'母号','CODE':'DAM'})\n",
    "pedlist3=pedlist1[:].rename(columns={'牛号':'父号','CODE':'SIRE'})"
   ]
  },
  {
   "cell_type": "code",
   "execution_count": 49,
   "metadata": {},
   "outputs": [
    {
     "data": {
      "text/plain": [
       "牛号      2860944\n",
       "出生日期    2788162\n",
       "父号      2251424\n",
       "母号      2170952\n",
       "dtype: int64"
      ]
     },
     "execution_count": 49,
     "metadata": {},
     "output_type": "execute_result"
    }
   ],
   "source": [
    "ped1.count()"
   ]
  },
  {
   "cell_type": "code",
   "execution_count": 50,
   "metadata": {},
   "outputs": [],
   "source": [
    "ped2=pd.merge(ped1,pedlist1,on='牛号',how='left')\n",
    "ped3=pd.merge(ped2,pedlist2,on='母号',how='left')\n",
    "ped4=pd.merge(ped3,pedlist3,on='父号',how='left')"
   ]
  },
  {
   "cell_type": "code",
   "execution_count": 51,
   "metadata": {},
   "outputs": [
    {
     "data": {
      "text/plain": [
       "牛号      2860944\n",
       "出生日期    2788162\n",
       "父号      2251424\n",
       "母号      2170952\n",
       "CODE    2860944\n",
       "DAM     2170952\n",
       "SIRE    2251424\n",
       "dtype: int64"
      ]
     },
     "execution_count": 51,
     "metadata": {},
     "output_type": "execute_result"
    }
   ],
   "source": [
    "ped4.count()"
   ]
  },
  {
   "cell_type": "markdown",
   "metadata": {},
   "source": [
    "# 父母号唯一性验证"
   ]
  },
  {
   "cell_type": "code",
   "execution_count": 52,
   "metadata": {},
   "outputs": [],
   "source": [
    "ped4['valid']=ped4['CODE']==ped4['SIRE']"
   ]
  },
  {
   "cell_type": "code",
   "execution_count": 53,
   "metadata": {},
   "outputs": [],
   "source": [
    "ped4['valid1']=ped4['DAM']==ped4['SIRE']"
   ]
  },
  {
   "cell_type": "code",
   "execution_count": 54,
   "metadata": {},
   "outputs": [],
   "source": [
    "ped4['valid2']=ped4['CODE']==ped4['DAM']"
   ]
  },
  {
   "cell_type": "code",
   "execution_count": 57,
   "metadata": {},
   "outputs": [
    {
     "data": {
      "text/plain": [
       "False    2860943\n",
       "True           1\n",
       "Name: valid, dtype: int64"
      ]
     },
     "execution_count": 57,
     "metadata": {},
     "output_type": "execute_result"
    }
   ],
   "source": [
    "ped4['valid'].value_counts()"
   ]
  },
  {
   "cell_type": "code",
   "execution_count": 58,
   "metadata": {},
   "outputs": [
    {
     "data": {
      "text/plain": [
       "False    2856857\n",
       "True        4087\n",
       "Name: valid1, dtype: int64"
      ]
     },
     "execution_count": 58,
     "metadata": {},
     "output_type": "execute_result"
    }
   ],
   "source": [
    "ped4['valid1'].value_counts()"
   ]
  },
  {
   "cell_type": "code",
   "execution_count": 59,
   "metadata": {},
   "outputs": [
    {
     "data": {
      "text/plain": [
       "False    2859939\n",
       "True        1005\n",
       "Name: valid2, dtype: int64"
      ]
     },
     "execution_count": 59,
     "metadata": {},
     "output_type": "execute_result"
    }
   ],
   "source": [
    "ped4['valid2'].value_counts()"
   ]
  },
  {
   "cell_type": "markdown",
   "metadata": {},
   "source": [
    "一些牛的父号和母号是相同的，将这些数据都换成0。"
   ]
  },
  {
   "cell_type": "code",
   "execution_count": 63,
   "metadata": {},
   "outputs": [],
   "source": [
    "ped4.loc[ped4.valid == True, 'SIRE'] = 0\n",
    "ped4.loc[ped4.valid1 == True, 'SIRE'] = 0\n",
    "ped4.loc[ped4.valid1 == True, 'DAM'] = 0\n",
    "ped4.loc[ped4.valid2 == True, 'DAM'] = 0"
   ]
  },
  {
   "cell_type": "code",
   "execution_count": 66,
   "metadata": {},
   "outputs": [],
   "source": [
    "ped5=ped4[['牛号','出生日期','父号','母号','CODE','DAM','SIRE']]"
   ]
  },
  {
   "cell_type": "code",
   "execution_count": 67,
   "metadata": {},
   "outputs": [
    {
     "data": {
      "text/plain": [
       "牛号      2860944\n",
       "出生日期    2788162\n",
       "父号      2251424\n",
       "母号      2170952\n",
       "CODE    2860944\n",
       "DAM     2170952\n",
       "SIRE    2251424\n",
       "dtype: int64"
      ]
     },
     "execution_count": 67,
     "metadata": {},
     "output_type": "execute_result"
    }
   ],
   "source": [
    "ped5.count() "
   ]
  },
  {
   "cell_type": "code",
   "execution_count": 68,
   "metadata": {},
   "outputs": [],
   "source": [
    "ped5.to_csv(\"F:\\\\Python\\\\PED.csv\",sep=\",\",encoding='utf_8_sig',index=False)"
   ]
  }
 ],
 "metadata": {
  "kernelspec": {
   "display_name": "Python 3",
   "language": "python",
   "name": "python3"
  },
  "language_info": {
   "codemirror_mode": {
    "name": "ipython",
    "version": 3
   },
   "file_extension": ".py",
   "mimetype": "text/x-python",
   "name": "python",
   "nbconvert_exporter": "python",
   "pygments_lexer": "ipython3",
   "version": "3.6.4"
  },
  "toc": {
   "base_numbering": 1,
   "nav_menu": {},
   "number_sections": true,
   "sideBar": true,
   "skip_h1_title": false,
   "title_cell": "Table of Contents",
   "title_sidebar": "Contents",
   "toc_cell": false,
   "toc_position": {},
   "toc_section_display": true,
   "toc_window_display": false
  }
 },
 "nbformat": 4,
 "nbformat_minor": 2
}
