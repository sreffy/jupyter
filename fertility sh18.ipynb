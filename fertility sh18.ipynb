{
 "cells": [
  {
   "cell_type": "code",
   "execution_count": 70,
   "metadata": {},
   "outputs": [],
   "source": [
    "#coding:utf-8\n",
    "import pandas as pd\n",
    "import numpy as np\n",
    "import matplotlib.pyplot as plt\n",
    "import seaborn as sns\n",
    "plt.rcParams['font.sans-serif']=['SimHei']\n",
    "plt.rcParams['axes.unicode_minus'] = False"
   ]
  },
  {
   "cell_type": "code",
   "execution_count": 2,
   "metadata": {},
   "outputs": [
    {
     "name": "stderr",
     "output_type": "stream",
     "text": [
      "E:\\Anaconda\\lib\\site-packages\\IPython\\core\\interactiveshell.py:2728: DtypeWarning: Columns (0,3,4) have mixed types. Specify dtype option on import or set low_memory=False.\n",
      "  interactivity=interactivity, compiler=compiler, result=result)\n"
     ]
    }
   ],
   "source": [
    "insdata=pd.read_csv('F:\\\\data-SH\\\\fertility data18.7\\\\insdata.csv',encoding='gbk',sep='\\t')\n",
    "calvedata=pd.read_csv('F:\\\\data-SH\\\\fertility data18.7\\\\calvedata.csv',encoding='gbk')"
   ]
  },
  {
   "cell_type": "code",
   "execution_count": 3,
   "metadata": {},
   "outputs": [
    {
     "data": {
      "text/html": [
       "<div>\n",
       "<style scoped>\n",
       "    .dataframe tbody tr th:only-of-type {\n",
       "        vertical-align: middle;\n",
       "    }\n",
       "\n",
       "    .dataframe tbody tr th {\n",
       "        vertical-align: top;\n",
       "    }\n",
       "\n",
       "    .dataframe thead th {\n",
       "        text-align: right;\n",
       "    }\n",
       "</style>\n",
       "<table border=\"1\" class=\"dataframe\">\n",
       "  <thead>\n",
       "    <tr style=\"text-align: right;\">\n",
       "      <th></th>\n",
       "      <th>牧场</th>\n",
       "      <th>牛号</th>\n",
       "      <th>胎次</th>\n",
       "      <th>出生日期</th>\n",
       "      <th>配种日期</th>\n",
       "      <th>实产期</th>\n",
       "      <th>产犊分类</th>\n",
       "      <th>死胎</th>\n",
       "      <th>性别</th>\n",
       "      <th>犊牛编号</th>\n",
       "      <th>产犊评分</th>\n",
       "      <th>与配公牛</th>\n",
       "      <th>文件</th>\n",
       "    </tr>\n",
       "  </thead>\n",
       "  <tbody>\n",
       "    <tr>\n",
       "      <th>0</th>\n",
       "      <td>健能</td>\n",
       "      <td>120019</td>\n",
       "      <td>4.0</td>\n",
       "      <td>NaN</td>\n",
       "      <td>2016/8/27</td>\n",
       "      <td>2017/6/1</td>\n",
       "      <td>正产</td>\n",
       "      <td>0</td>\n",
       "      <td>1.0</td>\n",
       "      <td>G036</td>\n",
       "      <td>1</td>\n",
       "      <td>31113676</td>\n",
       "      <td>201706一部健能快报.xls</td>\n",
       "    </tr>\n",
       "    <tr>\n",
       "      <th>1</th>\n",
       "      <td>健能</td>\n",
       "      <td>150023</td>\n",
       "      <td>1.0</td>\n",
       "      <td>NaN</td>\n",
       "      <td>2016/8/27</td>\n",
       "      <td>2017/6/3</td>\n",
       "      <td>正产</td>\n",
       "      <td>0</td>\n",
       "      <td>0.0</td>\n",
       "      <td>170044</td>\n",
       "      <td>2</td>\n",
       "      <td>67681058</td>\n",
       "      <td>201706一部健能快报.xls</td>\n",
       "    </tr>\n",
       "    <tr>\n",
       "      <th>2</th>\n",
       "      <td>健能</td>\n",
       "      <td>150035</td>\n",
       "      <td>1.0</td>\n",
       "      <td>NaN</td>\n",
       "      <td>2016/8/28</td>\n",
       "      <td>2017/6/3</td>\n",
       "      <td>正产</td>\n",
       "      <td>0</td>\n",
       "      <td>0.0</td>\n",
       "      <td>170045</td>\n",
       "      <td>2</td>\n",
       "      <td>67681058</td>\n",
       "      <td>201706一部健能快报.xls</td>\n",
       "    </tr>\n",
       "    <tr>\n",
       "      <th>3</th>\n",
       "      <td>健能</td>\n",
       "      <td>150044</td>\n",
       "      <td>1.0</td>\n",
       "      <td>NaN</td>\n",
       "      <td>2016/8/26</td>\n",
       "      <td>2017/6/4</td>\n",
       "      <td>正产</td>\n",
       "      <td>0</td>\n",
       "      <td>0.0</td>\n",
       "      <td>170048</td>\n",
       "      <td>2</td>\n",
       "      <td>67681058</td>\n",
       "      <td>201706一部健能快报.xls</td>\n",
       "    </tr>\n",
       "    <tr>\n",
       "      <th>4</th>\n",
       "      <td>健能</td>\n",
       "      <td>150011</td>\n",
       "      <td>1.0</td>\n",
       "      <td>NaN</td>\n",
       "      <td>2016/8/31</td>\n",
       "      <td>2017/6/4</td>\n",
       "      <td>正产</td>\n",
       "      <td>0</td>\n",
       "      <td>0.0</td>\n",
       "      <td>170046</td>\n",
       "      <td>2</td>\n",
       "      <td>72128236</td>\n",
       "      <td>201706一部健能快报.xls</td>\n",
       "    </tr>\n",
       "  </tbody>\n",
       "</table>\n",
       "</div>"
      ],
      "text/plain": [
       "   牧场      牛号   胎次 出生日期       配种日期       实产期 产犊分类  死胎   性别    犊牛编号 产犊评分  \\\n",
       "0  健能  120019  4.0  NaN  2016/8/27  2017/6/1   正产   0  1.0    G036    1   \n",
       "1  健能  150023  1.0  NaN  2016/8/27  2017/6/3   正产   0  0.0  170044    2   \n",
       "2  健能  150035  1.0  NaN  2016/8/28  2017/6/3   正产   0  0.0  170045    2   \n",
       "3  健能  150044  1.0  NaN  2016/8/26  2017/6/4   正产   0  0.0  170048    2   \n",
       "4  健能  150011  1.0  NaN  2016/8/31  2017/6/4   正产   0  0.0  170046    2   \n",
       "\n",
       "       与配公牛                文件  \n",
       "0  31113676  201706一部健能快报.xls  \n",
       "1  67681058  201706一部健能快报.xls  \n",
       "2  67681058  201706一部健能快报.xls  \n",
       "3  67681058  201706一部健能快报.xls  \n",
       "4  72128236  201706一部健能快报.xls  "
      ]
     },
     "execution_count": 3,
     "metadata": {},
     "output_type": "execute_result"
    }
   ],
   "source": [
    "calvedata.head()"
   ]
  },
  {
   "cell_type": "code",
   "execution_count": 4,
   "metadata": {},
   "outputs": [
    {
     "data": {
      "text/html": [
       "<div>\n",
       "<style scoped>\n",
       "    .dataframe tbody tr th:only-of-type {\n",
       "        vertical-align: middle;\n",
       "    }\n",
       "\n",
       "    .dataframe tbody tr th {\n",
       "        vertical-align: top;\n",
       "    }\n",
       "\n",
       "    .dataframe thead th {\n",
       "        text-align: right;\n",
       "    }\n",
       "</style>\n",
       "<table border=\"1\" class=\"dataframe\">\n",
       "  <thead>\n",
       "    <tr style=\"text-align: right;\">\n",
       "      <th></th>\n",
       "      <th>序号</th>\n",
       "      <th>牛号</th>\n",
       "      <th>牧场名称</th>\n",
       "      <th>出生日期</th>\n",
       "      <th>最近分娩日期</th>\n",
       "      <th>配种日期</th>\n",
       "      <th>与配公牛</th>\n",
       "      <th>配次</th>\n",
       "      <th>其他</th>\n",
       "    </tr>\n",
       "  </thead>\n",
       "  <tbody>\n",
       "    <tr>\n",
       "      <th>0</th>\n",
       "      <td>95</td>\n",
       "      <td>1345</td>\n",
       "      <td>德州</td>\n",
       "      <td>NaN</td>\n",
       "      <td>2016/1/29</td>\n",
       "      <td>2017/8/1</td>\n",
       "      <td>31115187</td>\n",
       "      <td>13</td>\n",
       "      <td>550</td>\n",
       "    </tr>\n",
       "    <tr>\n",
       "      <th>1</th>\n",
       "      <td>96</td>\n",
       "      <td>2009</td>\n",
       "      <td>德州</td>\n",
       "      <td>NaN</td>\n",
       "      <td>2016/8/27</td>\n",
       "      <td>2017/8/1</td>\n",
       "      <td>31115187</td>\n",
       "      <td>7</td>\n",
       "      <td>339</td>\n",
       "    </tr>\n",
       "    <tr>\n",
       "      <th>2</th>\n",
       "      <td>97</td>\n",
       "      <td>2452</td>\n",
       "      <td>德州</td>\n",
       "      <td>NaN</td>\n",
       "      <td>2016/10/10</td>\n",
       "      <td>2017/8/1</td>\n",
       "      <td>31115187</td>\n",
       "      <td>7</td>\n",
       "      <td>295</td>\n",
       "    </tr>\n",
       "    <tr>\n",
       "      <th>3</th>\n",
       "      <td>98</td>\n",
       "      <td>4462</td>\n",
       "      <td>德州</td>\n",
       "      <td>NaN</td>\n",
       "      <td>2017/1/8</td>\n",
       "      <td>2017/8/1</td>\n",
       "      <td>31115187</td>\n",
       "      <td>4</td>\n",
       "      <td>205</td>\n",
       "    </tr>\n",
       "    <tr>\n",
       "      <th>4</th>\n",
       "      <td>99</td>\n",
       "      <td>2869</td>\n",
       "      <td>德州</td>\n",
       "      <td>NaN</td>\n",
       "      <td>2017/1/31</td>\n",
       "      <td>2017/8/1</td>\n",
       "      <td>31115187</td>\n",
       "      <td>3</td>\n",
       "      <td>182</td>\n",
       "    </tr>\n",
       "  </tbody>\n",
       "</table>\n",
       "</div>"
      ],
      "text/plain": [
       "   序号    牛号 牧场名称 出生日期      最近分娩日期      配种日期      与配公牛  配次   其他\n",
       "0  95  1345   德州  NaN   2016/1/29  2017/8/1  31115187  13  550\n",
       "1  96  2009   德州  NaN   2016/8/27  2017/8/1  31115187   7  339\n",
       "2  97  2452   德州  NaN  2016/10/10  2017/8/1  31115187   7  295\n",
       "3  98  4462   德州  NaN    2017/1/8  2017/8/1  31115187   4  205\n",
       "4  99  2869   德州  NaN   2017/1/31  2017/8/1  31115187   3  182"
      ]
     },
     "execution_count": 4,
     "metadata": {},
     "output_type": "execute_result"
    }
   ],
   "source": [
    "insdata.head()"
   ]
  },
  {
   "cell_type": "code",
   "execution_count": 9,
   "metadata": {},
   "outputs": [],
   "source": [
    "herda=insdata['牧场名称'].drop_duplicates(keep='first')\n",
    "herdb=calvedata['牧场'].drop_duplicates(keep='first')"
   ]
  },
  {
   "cell_type": "code",
   "execution_count": 19,
   "metadata": {},
   "outputs": [
    {
     "data": {
      "text/plain": [
       "申丰       8694\n",
       "海丰       7958\n",
       "滑县       5151\n",
       "富裕       3940\n",
       "金种       3647\n",
       "黄梅       2991\n",
       "德州       2267\n",
       "米特利      2235\n",
       "今日健康     2233\n",
       "武汉       2140\n",
       "五四       1656\n",
       "新东       1618\n",
       "跃一       1396\n",
       "申星       1303\n",
       "瀛博       1295\n",
       "金华       1268\n",
       "山东申牛     1214\n",
       "天津大港     1181\n",
       "集团种      1027\n",
       "至江       1011\n",
       "东风        918\n",
       "星二        857\n",
       "跃二        763\n",
       "祝塘        723\n",
       "鸿星        715\n",
       "哈川        639\n",
       "星一        561\n",
       "神农        554\n",
       "东海        523\n",
       "福建福延      469\n",
       "健能        420\n",
       "南京        324\n",
       "朱桥        265\n",
       "德州牧场      224\n",
       "胡桥        174\n",
       "金华下杨      119\n",
       "海丰奶牛场      83\n",
       "胡桥牧场       22\n",
       "华德          1\n",
       "Name: 牧场, dtype: int64"
      ]
     },
     "execution_count": 19,
     "metadata": {},
     "output_type": "execute_result"
    }
   ],
   "source": [
    "calvedata['牧场'].value_counts()"
   ]
  },
  {
   "cell_type": "code",
   "execution_count": 12,
   "metadata": {},
   "outputs": [],
   "source": [
    "herda.to_csv('F:\\\\data-SH\\\\fertility data18.7\\\\herda.csv',index=False,encoding='utf_8_sig')\n",
    "herdb.to_csv('F:\\\\data-SH\\\\fertility data18.7\\\\herdb.csv',index=False,encoding='utf_8_sig')"
   ]
  },
  {
   "cell_type": "code",
   "execution_count": null,
   "metadata": {},
   "outputs": [],
   "source": []
  },
  {
   "cell_type": "markdown",
   "metadata": {},
   "source": [
    "# 相同牧场场名统一"
   ]
  },
  {
   "cell_type": "code",
   "execution_count": 5,
   "metadata": {},
   "outputs": [],
   "source": [
    "insdata['牧场名称']=insdata['牧场名称'].apply(lambda s :\"健能\" if s=='健能 ' else s)\n",
    "insdata['牧场名称']=insdata['牧场名称'].apply(lambda s :\"金种\" if s=='金山' else s)\n",
    "insdata['牧场名称']=insdata['牧场名称'].apply(lambda s :\"集团种\" if s=='种牛场' else s)\n",
    "insdata['牧场名称']=insdata['牧场名称'].apply(lambda s :\"集团种\" if s=='种奶牛场' else s)\n",
    "insdata['牧场名称']=insdata['牧场名称'].apply(lambda s :\"集团种\" if s=='种奶牛' else s)\n",
    "insdata['牧场名称']=insdata['牧场名称'].apply(lambda s :\"东风\" if s=='东风牛奶一场' else s)\n",
    "insdata['牧场名称']=insdata['牧场名称'].apply(lambda s :\"东风\" if s=='东风一场' else s)\n",
    "insdata['牧场名称']=insdata['牧场名称'].apply(lambda s :\"今日健康\" if s=='今日' else s)\n",
    "insdata['牧场名称']=insdata['牧场名称'].apply(lambda s :\"山东申牛\" if s=='申牛' else s)\n",
    "insdata['牧场名称']=insdata['牧场名称'].apply(lambda s :\"山东申牛\" if s=='申发' else s)\n",
    "insdata['牧场名称']=insdata['牧场名称'].apply(lambda s :\"佳辰\" if s=='佳辰后' else s)\n",
    "insdata['牧场名称']=insdata['牧场名称'].apply(lambda s :\"至江\" if s=='至江一场' else s)"
   ]
  },
  {
   "cell_type": "code",
   "execution_count": 6,
   "metadata": {},
   "outputs": [
    {
     "data": {
      "text/plain": [
       "申丰      28084\n",
       "海丰      26701\n",
       "滑县      13951\n",
       "黄梅      10131\n",
       "金种       9062\n",
       "米特利      8083\n",
       "今日健康     7726\n",
       "富裕       6731\n",
       "五四       6203\n",
       "武汉       4873\n",
       "瀛博       4090\n",
       "佳辰       3954\n",
       "新东       3712\n",
       "跃一       3629\n",
       "德州       3610\n",
       "至江       3586\n",
       "山东申牛     3254\n",
       "集团种      3104\n",
       "申星       2825\n",
       "东风       2779\n",
       "金华       2718\n",
       "星二       2241\n",
       "哈川       1959\n",
       "东海       1795\n",
       "祝塘       1706\n",
       "鸿星       1701\n",
       "跃二       1660\n",
       "神农       1329\n",
       "星一       1319\n",
       "健能       1193\n",
       "南京        352\n",
       "朱桥        302\n",
       "胡桥         94\n",
       "Name: 牧场名称, dtype: int64"
      ]
     },
     "execution_count": 6,
     "metadata": {},
     "output_type": "execute_result"
    }
   ],
   "source": [
    "insdata['牧场名称'].value_counts()"
   ]
  },
  {
   "cell_type": "code",
   "execution_count": 14,
   "metadata": {},
   "outputs": [],
   "source": [
    "calvedata['牧场']=calvedata['牧场'].apply(lambda s :\"金华\" if s=='金华下杨' else s)\n",
    "calvedata['牧场']=calvedata['牧场'].apply(lambda s :\"德州\" if s=='德州牧场' else s)\n",
    "calvedata['牧场']=calvedata['牧场'].apply(lambda s :\"海丰\" if s=='海丰奶牛场' else s)\n",
    "calvedata['牧场']=calvedata['牧场'].apply(lambda s :\"胡桥\" if s=='胡桥牧场' else s)"
   ]
  },
  {
   "cell_type": "code",
   "execution_count": 15,
   "metadata": {},
   "outputs": [
    {
     "data": {
      "text/plain": [
       "申丰      8694\n",
       "海丰      8041\n",
       "滑县      5151\n",
       "富裕      3940\n",
       "金种      3647\n",
       "黄梅      2991\n",
       "德州      2491\n",
       "米特利     2235\n",
       "今日健康    2233\n",
       "武汉      2140\n",
       "五四      1656\n",
       "新东      1618\n",
       "跃一      1396\n",
       "金华      1387\n",
       "申星      1303\n",
       "瀛博      1295\n",
       "山东申牛    1214\n",
       "天津大港    1181\n",
       "集团种     1027\n",
       "至江      1011\n",
       "东风       918\n",
       "星二       857\n",
       "跃二       763\n",
       "祝塘       723\n",
       "鸿星       715\n",
       "哈川       639\n",
       "星一       561\n",
       "神农       554\n",
       "东海       523\n",
       "福建福延     469\n",
       "健能       420\n",
       "南京       324\n",
       "朱桥       265\n",
       "胡桥       196\n",
       "华德         1\n",
       "Name: 牧场, dtype: int64"
      ]
     },
     "execution_count": 15,
     "metadata": {},
     "output_type": "execute_result"
    }
   ],
   "source": [
    "calvedata['牧场'].value_counts()"
   ]
  },
  {
   "cell_type": "markdown",
   "metadata": {},
   "source": [
    "# 产犊数据和配种数据合并"
   ]
  },
  {
   "cell_type": "code",
   "execution_count": 48,
   "metadata": {},
   "outputs": [],
   "source": [
    "insdata.rename(columns={\"牧场名称\":'牧场',\"最近分娩日期\":\"实产期\"},inplace='True')"
   ]
  },
  {
   "cell_type": "code",
   "execution_count": 49,
   "metadata": {},
   "outputs": [
    {
     "name": "stdout",
     "output_type": "stream",
     "text": [
      "<class 'pandas.core.frame.DataFrame'>\n",
      "RangeIndex: 174457 entries, 0 to 174456\n",
      "Data columns (total 9 columns):\n",
      "序号      89927 non-null object\n",
      "牛号      174390 non-null object\n",
      "牧场      174457 non-null object\n",
      "出生日期    46677 non-null object\n",
      "实产期     127146 non-null object\n",
      "配种日期    174390 non-null object\n",
      "与配公牛    171559 non-null object\n",
      "配次      173878 non-null object\n",
      "其他      71729 non-null object\n",
      "dtypes: object(9)\n",
      "memory usage: 12.0+ MB\n"
     ]
    }
   ],
   "source": [
    "insdata.info()"
   ]
  },
  {
   "cell_type": "code",
   "execution_count": 50,
   "metadata": {},
   "outputs": [],
   "source": [
    "insdata1=insdata[['牛号','牧场','实产期','配种日期','配次']]"
   ]
  },
  {
   "cell_type": "code",
   "execution_count": 52,
   "metadata": {},
   "outputs": [],
   "source": [
    "calvedata.rename(columns={'配种日期':'末次配种日期'},inplace=True)"
   ]
  },
  {
   "cell_type": "code",
   "execution_count": 53,
   "metadata": {},
   "outputs": [
    {
     "name": "stdout",
     "output_type": "stream",
     "text": [
      "<class 'pandas.core.frame.DataFrame'>\n",
      "RangeIndex: 62579 entries, 0 to 62578\n",
      "Data columns (total 13 columns):\n",
      "牧场        62579 non-null object\n",
      "牛号        62579 non-null object\n",
      "胎次        62576 non-null float64\n",
      "出生日期      7209 non-null object\n",
      "末次配种日期    62579 non-null object\n",
      "实产期       62579 non-null object\n",
      "产犊分类      52912 non-null object\n",
      "死胎        62579 non-null int64\n",
      "性别        62567 non-null float64\n",
      "犊牛编号      59664 non-null object\n",
      "产犊评分      62577 non-null object\n",
      "与配公牛      62108 non-null object\n",
      "文件        62579 non-null object\n",
      "dtypes: float64(2), int64(1), object(10)\n",
      "memory usage: 6.2+ MB\n"
     ]
    }
   ],
   "source": [
    "calvedata.info()"
   ]
  },
  {
   "cell_type": "code",
   "execution_count": 54,
   "metadata": {},
   "outputs": [],
   "source": [
    "calvedata1=calvedata[['牛号','牧场','胎次','末次配种日期','实产期','产犊分类','死胎','性别','产犊评分']]"
   ]
  },
  {
   "cell_type": "code",
   "execution_count": 62,
   "metadata": {},
   "outputs": [],
   "source": [
    "alldata=pd.merge(insdata1,calvedata1,on=['牛号','牧场','实产期'],how='outer')"
   ]
  },
  {
   "cell_type": "code",
   "execution_count": 63,
   "metadata": {},
   "outputs": [
    {
     "name": "stdout",
     "output_type": "stream",
     "text": [
      "<class 'pandas.core.frame.DataFrame'>\n",
      "Int64Index: 195982 entries, 0 to 195981\n",
      "Data columns (total 11 columns):\n",
      "牛号        195915 non-null object\n",
      "牧场        195982 non-null object\n",
      "实产期       148671 non-null object\n",
      "配种日期      177764 non-null object\n",
      "配次        177245 non-null object\n",
      "胎次        112738 non-null float64\n",
      "末次配种日期    112741 non-null object\n",
      "产犊分类      93658 non-null object\n",
      "死胎        112741 non-null float64\n",
      "性别        112727 non-null float64\n",
      "产犊评分      112739 non-null object\n",
      "dtypes: float64(3), object(8)\n",
      "memory usage: 17.9+ MB\n"
     ]
    }
   ],
   "source": [
    "alldata.info()"
   ]
  },
  {
   "cell_type": "code",
   "execution_count": 64,
   "metadata": {},
   "outputs": [],
   "source": [
    "alldata.to_csv(\"F:\\\\data-SH\\\\fertility data18.7\\\\merge.csv\",sep=',',index=False,encoding='utf_8_sig')"
   ]
  },
  {
   "cell_type": "markdown",
   "metadata": {},
   "source": [
    "# 换为系谱场号，且牛号提取FID"
   ]
  },
  {
   "cell_type": "markdown",
   "metadata": {},
   "source": [
    "## 系谱场号转换"
   ]
  },
  {
   "cell_type": "code",
   "execution_count": 85,
   "metadata": {},
   "outputs": [],
   "source": [
    "alldata=pd.read_csv(\"F:\\\\data-SH\\\\fertility data18.7\\\\merge1.csv\",low_memory=False,encoding='gbk')"
   ]
  },
  {
   "cell_type": "code",
   "execution_count": 86,
   "metadata": {},
   "outputs": [
    {
     "data": {
      "image/png": "[encoded data removed]",
      "text/plain": [
       "<matplotlib.figure.Figure at 0x1b88daa7b00>"
      ]
     },
     "metadata": {},
     "output_type": "display_data"
    }
   ],
   "source": [
    "ax=sns.countplot(x=alldata['牧场'])\n",
    "ax1=ax.set_xticklabels(ax.get_xticklabels(), rotation=-90)"
   ]
  },
  {
   "cell_type": "code",
   "execution_count": 72,
   "metadata": {},
   "outputs": [],
   "source": [
    "Herd=pd.read_csv('F:\\\\data-SH\\\\fertility data18.7\\\\herd-sh18.csv',encoding='gbk',low_memory=False)"
   ]
  },
  {
   "cell_type": "code",
   "execution_count": 88,
   "metadata": {},
   "outputs": [],
   "source": [
    "sh_18=pd.merge(alldata,Herd,on='牧场',how='left')"
   ]
  },
  {
   "cell_type": "code",
   "execution_count": 89,
   "metadata": {},
   "outputs": [
    {
     "data": {
      "image/png": "[encoded data removed]",
      "text/plain": [
       "<matplotlib.figure.Figure at 0x1b882b2c2b0>"
      ]
     },
     "metadata": {},
     "output_type": "display_data"
    }
   ],
   "source": [
    "ax=sns.countplot(x=sh_18['HERD'])\n",
    "ax1=ax.set_xticklabels(ax.get_xticklabels(), rotation=-90)"
   ]
  },
  {
   "cell_type": "markdown",
   "metadata": {},
   "source": [
    "## 牛号处理"
   ]
  },
  {
   "cell_type": "code",
   "execution_count": 105,
   "metadata": {},
   "outputs": [
    {
     "data": {
      "text/plain": [
       "<matplotlib.axes._subplots.AxesSubplot at 0x1b8915c8940>"
      ]
     },
     "execution_count": 105,
     "metadata": {},
     "output_type": "execute_result"
    },
    {
     "data": {
      "image/png": "[encoded data removed]",
      "text/plain": [
       "<matplotlib.figure.Figure at 0x1b8915c84a8>"
      ]
     },
     "metadata": {},
     "output_type": "display_data"
    }
   ],
   "source": [
    "#观测牛号长度的分布\n",
    "sh_18['牛号']=sh_18['牛号'].apply(lambda s :s if type(s)==str else str(int(s)))\n",
    "sh_18['牛号']=sh_18['牛号'].apply(lambda s : s.strip())\n",
    "sh_18['Len']=sh_18['牛号'].apply(lambda s :len(s))\n",
    "\n",
    "sns.countplot(sh_18['Len'])"
   ]
  },
  {
   "cell_type": "markdown",
   "metadata": {},
   "source": [
    "__7位牛号去除第4位的0即可；11位和10位牛号中前缀为FSH27和12003,保留第6位开头的数字;12为保留第7位开头的数字，且不要第9位的0__"
   ]
  },
  {
   "cell_type": "code",
   "execution_count": 107,
   "metadata": {},
   "outputs": [],
   "source": [
    "sh_18['ID']=sh_18['牛号'].apply(lambda s :s[:3]+s[4:] if len(s)==7 else s)\n",
    "sh_18['ID']=sh_18['ID'].apply(lambda s : s[5:] if len(s)==10 else s)\n",
    "sh_18['ID']=sh_18['ID'].apply(lambda s :s[5:] if len(s)==11 else s)\n",
    "sh_18['ID']=sh_18['ID'].apply(lambda s :s[6:8]+s[9:] if len(s)==12 else s)"
   ]
  },
  {
   "cell_type": "code",
   "execution_count": 108,
   "metadata": {},
   "outputs": [
    {
     "data": {
      "text/plain": [
       "<matplotlib.axes._subplots.AxesSubplot at 0x1b88eb352e8>"
      ]
     },
     "execution_count": 108,
     "metadata": {},
     "output_type": "execute_result"
    },
    {
     "data": {
      "image/png": "[encoded data removed]",
      "text/plain": [
       "<matplotlib.figure.Figure at 0x1b88ea04e10>"
      ]
     },
     "metadata": {},
     "output_type": "display_data"
    }
   ],
   "source": [
    "sh_18['Len']=sh_18['ID'].apply(lambda s :len(s))\n",
    "sns.countplot(sh_18['Len'])"
   ]
  },
  {
   "cell_type": "markdown",
   "metadata": {},
   "source": [
    "## 做FID与系谱匹配"
   ]
  },
  {
   "cell_type": "code",
   "execution_count": 109,
   "metadata": {},
   "outputs": [],
   "source": [
    "sh_18['ID']=sh_18['ID'].apply(lambda s :s.zfill(6))\n",
    "sh_18['HERD']=sh_18['HERD'].apply(lambda s :s if pd.isnull(s) else str(s))\n",
    "sh_18['FID']=sh_18['HERD']+sh_18['ID']"
   ]
  },
  {
   "cell_type": "code",
   "execution_count": 111,
   "metadata": {},
   "outputs": [],
   "source": [
    "sh_18.rename(columns={'性别':'犊牛性别'},inplace=True)"
   ]
  },
  {
   "cell_type": "code",
   "execution_count": 112,
   "metadata": {},
   "outputs": [
    {
     "data": {
      "text/html": [
       "<div>\n",
       "<style scoped>\n",
       "    .dataframe tbody tr th:only-of-type {\n",
       "        vertical-align: middle;\n",
       "    }\n",
       "\n",
       "    .dataframe tbody tr th {\n",
       "        vertical-align: top;\n",
       "    }\n",
       "\n",
       "    .dataframe thead th {\n",
       "        text-align: right;\n",
       "    }\n",
       "</style>\n",
       "<table border=\"1\" class=\"dataframe\">\n",
       "  <thead>\n",
       "    <tr style=\"text-align: right;\">\n",
       "      <th></th>\n",
       "      <th>牛号</th>\n",
       "      <th>牧场</th>\n",
       "      <th>最近分娩</th>\n",
       "      <th>配种日期</th>\n",
       "      <th>配次</th>\n",
       "      <th>胎次</th>\n",
       "      <th>末次配种日期</th>\n",
       "      <th>死胎</th>\n",
       "      <th>犊牛性别</th>\n",
       "      <th>产犊评分</th>\n",
       "      <th>HERD</th>\n",
       "      <th>Len</th>\n",
       "      <th>ID</th>\n",
       "      <th>FID</th>\n",
       "    </tr>\n",
       "  </thead>\n",
       "  <tbody>\n",
       "    <tr>\n",
       "      <th>0</th>\n",
       "      <td>1345</td>\n",
       "      <td>德州</td>\n",
       "      <td>2016/1/29</td>\n",
       "      <td>2017/8/1</td>\n",
       "      <td>13</td>\n",
       "      <td>NaN</td>\n",
       "      <td>NaN</td>\n",
       "      <td>NaN</td>\n",
       "      <td>NaN</td>\n",
       "      <td>NaN</td>\n",
       "      <td>370376</td>\n",
       "      <td>4</td>\n",
       "      <td>001345</td>\n",
       "      <td>370376001345</td>\n",
       "    </tr>\n",
       "    <tr>\n",
       "      <th>1</th>\n",
       "      <td>2009</td>\n",
       "      <td>德州</td>\n",
       "      <td>2016/8/27</td>\n",
       "      <td>2017/8/1</td>\n",
       "      <td>7</td>\n",
       "      <td>NaN</td>\n",
       "      <td>NaN</td>\n",
       "      <td>NaN</td>\n",
       "      <td>NaN</td>\n",
       "      <td>NaN</td>\n",
       "      <td>370376</td>\n",
       "      <td>4</td>\n",
       "      <td>002009</td>\n",
       "      <td>370376002009</td>\n",
       "    </tr>\n",
       "    <tr>\n",
       "      <th>2</th>\n",
       "      <td>2452</td>\n",
       "      <td>德州</td>\n",
       "      <td>2016/10/10</td>\n",
       "      <td>2017/8/1</td>\n",
       "      <td>7</td>\n",
       "      <td>NaN</td>\n",
       "      <td>NaN</td>\n",
       "      <td>NaN</td>\n",
       "      <td>NaN</td>\n",
       "      <td>NaN</td>\n",
       "      <td>370376</td>\n",
       "      <td>4</td>\n",
       "      <td>002452</td>\n",
       "      <td>370376002452</td>\n",
       "    </tr>\n",
       "    <tr>\n",
       "      <th>3</th>\n",
       "      <td>2452</td>\n",
       "      <td>德州</td>\n",
       "      <td>2016/10/10</td>\n",
       "      <td>2017/8/30</td>\n",
       "      <td>8</td>\n",
       "      <td>NaN</td>\n",
       "      <td>NaN</td>\n",
       "      <td>NaN</td>\n",
       "      <td>NaN</td>\n",
       "      <td>NaN</td>\n",
       "      <td>370376</td>\n",
       "      <td>4</td>\n",
       "      <td>002452</td>\n",
       "      <td>370376002452</td>\n",
       "    </tr>\n",
       "    <tr>\n",
       "      <th>4</th>\n",
       "      <td>2452</td>\n",
       "      <td>德州</td>\n",
       "      <td>2016/10/10</td>\n",
       "      <td>2017/9/28</td>\n",
       "      <td>9</td>\n",
       "      <td>NaN</td>\n",
       "      <td>NaN</td>\n",
       "      <td>NaN</td>\n",
       "      <td>NaN</td>\n",
       "      <td>NaN</td>\n",
       "      <td>370376</td>\n",
       "      <td>4</td>\n",
       "      <td>002452</td>\n",
       "      <td>370376002452</td>\n",
       "    </tr>\n",
       "  </tbody>\n",
       "</table>\n",
       "</div>"
      ],
      "text/plain": [
       "     牛号  牧场        最近分娩       配种日期  配次  胎次 末次配种日期  死胎  犊牛性别  产犊评分    HERD  \\\n",
       "0  1345  德州   2016/1/29   2017/8/1  13 NaN    NaN NaN   NaN   NaN  370376   \n",
       "1  2009  德州   2016/8/27   2017/8/1   7 NaN    NaN NaN   NaN   NaN  370376   \n",
       "2  2452  德州  2016/10/10   2017/8/1   7 NaN    NaN NaN   NaN   NaN  370376   \n",
       "3  2452  德州  2016/10/10  2017/8/30   8 NaN    NaN NaN   NaN   NaN  370376   \n",
       "4  2452  德州  2016/10/10  2017/9/28   9 NaN    NaN NaN   NaN   NaN  370376   \n",
       "\n",
       "   Len      ID           FID  \n",
       "0    4  001345  370376001345  \n",
       "1    4  002009  370376002009  \n",
       "2    4  002452  370376002452  \n",
       "3    4  002452  370376002452  \n",
       "4    4  002452  370376002452  "
      ]
     },
     "execution_count": 112,
     "metadata": {},
     "output_type": "execute_result"
    }
   ],
   "source": [
    "sh_18.head()"
   ]
  },
  {
   "cell_type": "code",
   "execution_count": 113,
   "metadata": {},
   "outputs": [],
   "source": [
    "sh_18_f=sh_18[['FID','ID','胎次','最近分娩','配种日期','配次','犊牛性别','死胎','产犊评分','HERD']]"
   ]
  },
  {
   "cell_type": "code",
   "execution_count": 114,
   "metadata": {},
   "outputs": [],
   "source": [
    "sh_18_f.to_csv('F:\\\\data-SH\\\\fertility data18.7\\\\sh_18_final.csv',index=False,encoding='utf_8_sig')"
   ]
  },
  {
   "cell_type": "markdown",
   "metadata": {},
   "source": [
    "## 系谱提取"
   ]
  },
  {
   "cell_type": "code",
   "execution_count": 80,
   "metadata": {},
   "outputs": [
    {
     "data": {
      "text/plain": [
       "FID     92588\n",
       "出生日期    88528\n",
       "CODE    92588\n",
       "DAM     68277\n",
       "SIRE    83622\n",
       "dtype: int64"
      ]
     },
     "execution_count": 80,
     "metadata": {},
     "output_type": "execute_result"
    }
   ],
   "source": [
    "pedigree=pd.read_csv('F:\\Python\\\\PED.csv',low_memory=False)\n",
    "\n",
    "HERD=Herd['HERD'].dropna(how='any').values.tolist()\n",
    "\n",
    "pedigree['HERD']=pedigree['牛号'].apply(lambda s : s[:6])\n",
    "\n",
    "HERD=[str(s) for s in HERD]\n",
    "\n",
    "\n",
    "pedigree['T']=pedigree['HERD'].apply(lambda s : s in HERD) \n",
    "pedigree_sh18=pedigree[pedigree['T']==True][['牛号','出生日期','CODE','DAM','SIRE']]\n",
    "\n",
    "pedigree_sh18.rename(columns={'牛号':'FID'},inplace=True)\n",
    "pedigree_sh18.count()"
   ]
  },
  {
   "cell_type": "code",
   "execution_count": 81,
   "metadata": {},
   "outputs": [],
   "source": [
    "pedigree_sh18.to_csv('F:\\\\data-SH\\\\fertility data18.7\\\\ped-sh_18.csv',index=False,encoding='utf_8_sig')"
   ]
  },
  {
   "cell_type": "code",
   "execution_count": 83,
   "metadata": {},
   "outputs": [],
   "source": [
    "pedigree_sh18_t=pedigree[pedigree['T']==True][['牛号','出生日期','CODE','DAM','SIRE','HERD']]\n",
    "\n",
    "ped_herd=pedigree_sh18_t[['HERD']].drop_duplicates(keep='first').values.tolist()\n",
    "\n",
    "sh18_herd=sh_18[['HERD']].drop_duplicates(keep='first').values.tolist()\n",
    "\n",
    "from tkinter import _flatten\n",
    "sh18_herd=list(_flatten(sh18_herd))\n",
    "\n",
    "ped_herd=list(_flatten(ped_herd))\n",
    "\n",
    "differ=set(sh18_herd)-set(ped_herd)"
   ]
  },
  {
   "cell_type": "code",
   "execution_count": 84,
   "metadata": {},
   "outputs": [
    {
     "data": {
      "text/plain": [
       "{'230423', nan}"
      ]
     },
     "execution_count": 84,
     "metadata": {},
     "output_type": "execute_result"
    }
   ],
   "source": [
    "differ"
   ]
  },
  {
   "cell_type": "markdown",
   "metadata": {},
   "source": [
    "## 牛号系谱匹配"
   ]
  },
  {
   "cell_type": "code",
   "execution_count": 115,
   "metadata": {},
   "outputs": [],
   "source": [
    "sh18_f=pd.merge(sh_18_f,pedigree_sh18,on='FID',how='outer')"
   ]
  },
  {
   "cell_type": "code",
   "execution_count": 116,
   "metadata": {},
   "outputs": [
    {
     "name": "stdout",
     "output_type": "stream",
     "text": [
      "<class 'pandas.core.frame.DataFrame'>\n",
      "Int64Index: 247812 entries, 0 to 247811\n",
      "Data columns (total 14 columns):\n",
      "FID     227064 non-null object\n",
      "ID      195883 non-null object\n",
      "胎次      112726 non-null float64\n",
      "最近分娩    148639 non-null object\n",
      "配种日期    177734 non-null object\n",
      "配次      177215 non-null object\n",
      "犊牛性别    112715 non-null float64\n",
      "死胎      112729 non-null float64\n",
      "产犊评分    112727 non-null float64\n",
      "HERD    175135 non-null object\n",
      "出生日期    156845 non-null object\n",
      "CODE    161397 non-null float64\n",
      "DAM     116399 non-null float64\n",
      "SIRE    145147 non-null float64\n",
      "dtypes: float64(7), object(7)\n",
      "memory usage: 28.4+ MB\n"
     ]
    }
   ],
   "source": [
    "sh18_f.info()"
   ]
  }
 ],
 "metadata": {
  "kernelspec": {
   "display_name": "Python 3",
   "language": "python",
   "name": "python3"
  },
  "language_info": {
   "codemirror_mode": {
    "name": "ipython",
    "version": 3
   },
   "file_extension": ".py",
   "mimetype": "text/x-python",
   "name": "python",
   "nbconvert_exporter": "python",
   "pygments_lexer": "ipython3",
   "version": "3.6.4"
  },
  "toc": {
   "base_numbering": 1,
   "nav_menu": {},
   "number_sections": true,
   "sideBar": true,
   "skip_h1_title": false,
   "title_cell": "Table of Contents",
   "title_sidebar": "Contents",
   "toc_cell": false,
   "toc_position": {
    "height": "calc(100% - 180px)",
    "left": "10px",
    "top": "150px",
    "width": "307px"
   },
   "toc_section_display": true,
   "toc_window_display": true
  }
 },
 "nbformat": 4,
 "nbformat_minor": 2
}
