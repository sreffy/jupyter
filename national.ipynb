{
 "cells": [
  {
   "cell_type": "markdown",
   "metadata": {},
   "source": [
    "# 全国繁殖数据整理"
   ]
  },
  {
   "cell_type": "markdown",
   "metadata": {},
   "source": [
    "## 数据导入"
   ]
  },
  {
   "cell_type": "code",
   "execution_count": 3,
   "metadata": {},
   "outputs": [],
   "source": [
    "#coding:utf-8\n",
    "import pandas as pd\n",
    "import numpy as np\n",
    "import matplotlib.pyplot as plt"
   ]
  },
  {
   "cell_type": "code",
   "execution_count": 3,
   "metadata": {},
   "outputs": [],
   "source": [
    "plt.rcParams['font.sans-serif']=['SimHei']\n",
    "plt.rcParams['axes.unicode_minus'] = False"
   ]
  },
  {
   "cell_type": "code",
   "execution_count": 4,
   "metadata": {},
   "outputs": [],
   "source": [
    "fz=pd.read_csv(\"F:\\\\Python\\\\all.csv\",sep=\",\",encoding='gbk',low_memory=False)\n",
    "ped=pd.read_csv(\"F:\\\\Python\\\\PED.csv\",sep=\",\",low_memory=False)"
   ]
  },
  {
   "cell_type": "code",
   "execution_count": 5,
   "metadata": {},
   "outputs": [
    {
     "data": {
      "text/plain": [
       "牛号        object\n",
       "胎次         int64\n",
       "发情日期      object\n",
       "初配日期      object\n",
       "配次       float64\n",
       "配种日期      object\n",
       "与配公牛      object\n",
       "产犊日期      object\n",
       "产犊难易度     object\n",
       "流产日期      object\n",
       "干奶日期      object\n",
       "dtype: object"
      ]
     },
     "execution_count": 5,
     "metadata": {},
     "output_type": "execute_result"
    }
   ],
   "source": [
    "fz.dtypes"
   ]
  },
  {
   "cell_type": "code",
   "execution_count": 6,
   "metadata": {},
   "outputs": [
    {
     "data": {
      "text/plain": [
       "牛号       object\n",
       "出生日期     object\n",
       "父号       object\n",
       "母号       object\n",
       "CODE      int64\n",
       "DAM     float64\n",
       "SIRE    float64\n",
       "dtype: object"
      ]
     },
     "execution_count": 6,
     "metadata": {},
     "output_type": "execute_result"
    }
   ],
   "source": [
    "ped.dtypes"
   ]
  },
  {
   "cell_type": "markdown",
   "metadata": {},
   "source": [
    "## 提取场号"
   ]
  },
  {
   "cell_type": "code",
   "execution_count": 7,
   "metadata": {},
   "outputs": [
    {
     "data": {
      "text/html": [
       "<div>\n",
       "<style scoped>\n",
       "    .dataframe tbody tr th:only-of-type {\n",
       "        vertical-align: middle;\n",
       "    }\n",
       "\n",
       "    .dataframe tbody tr th {\n",
       "        vertical-align: top;\n",
       "    }\n",
       "\n",
       "    .dataframe thead th {\n",
       "        text-align: right;\n",
       "    }\n",
       "</style>\n",
       "<table border=\"1\" class=\"dataframe\">\n",
       "  <thead>\n",
       "    <tr style=\"text-align: right;\">\n",
       "      <th></th>\n",
       "      <th>牛号</th>\n",
       "      <th>胎次</th>\n",
       "      <th>发情日期</th>\n",
       "      <th>初配日期</th>\n",
       "      <th>配次</th>\n",
       "      <th>配种日期</th>\n",
       "      <th>与配公牛</th>\n",
       "      <th>产犊日期</th>\n",
       "      <th>产犊难易度</th>\n",
       "      <th>流产日期</th>\n",
       "      <th>干奶日期</th>\n",
       "      <th>场号</th>\n",
       "    </tr>\n",
       "  </thead>\n",
       "  <tbody>\n",
       "    <tr>\n",
       "      <th>0</th>\n",
       "      <td>110001000001</td>\n",
       "      <td>1</td>\n",
       "      <td>NaN</td>\n",
       "      <td>NaN</td>\n",
       "      <td>NaN</td>\n",
       "      <td>NaN</td>\n",
       "      <td>NaN</td>\n",
       "      <td>2002/1/19</td>\n",
       "      <td>NaN</td>\n",
       "      <td>NaN</td>\n",
       "      <td>NaN</td>\n",
       "      <td>110001</td>\n",
       "    </tr>\n",
       "    <tr>\n",
       "      <th>1</th>\n",
       "      <td>110001000003</td>\n",
       "      <td>1</td>\n",
       "      <td>NaN</td>\n",
       "      <td>NaN</td>\n",
       "      <td>NaN</td>\n",
       "      <td>NaN</td>\n",
       "      <td>NaN</td>\n",
       "      <td>2002/1/18</td>\n",
       "      <td>NaN</td>\n",
       "      <td>NaN</td>\n",
       "      <td>NaN</td>\n",
       "      <td>110001</td>\n",
       "    </tr>\n",
       "    <tr>\n",
       "      <th>2</th>\n",
       "      <td>110001000006</td>\n",
       "      <td>1</td>\n",
       "      <td>NaN</td>\n",
       "      <td>NaN</td>\n",
       "      <td>NaN</td>\n",
       "      <td>NaN</td>\n",
       "      <td>NaN</td>\n",
       "      <td>2002/3/25</td>\n",
       "      <td>NaN</td>\n",
       "      <td>NaN</td>\n",
       "      <td>NaN</td>\n",
       "      <td>110001</td>\n",
       "    </tr>\n",
       "    <tr>\n",
       "      <th>3</th>\n",
       "      <td>110001000007</td>\n",
       "      <td>1</td>\n",
       "      <td>NaN</td>\n",
       "      <td>NaN</td>\n",
       "      <td>NaN</td>\n",
       "      <td>NaN</td>\n",
       "      <td>NaN</td>\n",
       "      <td>2002/7/12</td>\n",
       "      <td>NaN</td>\n",
       "      <td>NaN</td>\n",
       "      <td>NaN</td>\n",
       "      <td>110001</td>\n",
       "    </tr>\n",
       "    <tr>\n",
       "      <th>4</th>\n",
       "      <td>110001000008</td>\n",
       "      <td>1</td>\n",
       "      <td>NaN</td>\n",
       "      <td>NaN</td>\n",
       "      <td>NaN</td>\n",
       "      <td>NaN</td>\n",
       "      <td>NaN</td>\n",
       "      <td>2002/3/4</td>\n",
       "      <td>NaN</td>\n",
       "      <td>NaN</td>\n",
       "      <td>NaN</td>\n",
       "      <td>110001</td>\n",
       "    </tr>\n",
       "  </tbody>\n",
       "</table>\n",
       "</div>"
      ],
      "text/plain": [
       "             牛号  胎次 发情日期 初配日期  配次 配种日期 与配公牛       产犊日期 产犊难易度 流产日期 干奶日期      场号\n",
       "0  110001000001   1  NaN  NaN NaN  NaN  NaN  2002/1/19   NaN  NaN  NaN  110001\n",
       "1  110001000003   1  NaN  NaN NaN  NaN  NaN  2002/1/18   NaN  NaN  NaN  110001\n",
       "2  110001000006   1  NaN  NaN NaN  NaN  NaN  2002/3/25   NaN  NaN  NaN  110001\n",
       "3  110001000007   1  NaN  NaN NaN  NaN  NaN  2002/7/12   NaN  NaN  NaN  110001\n",
       "4  110001000008   1  NaN  NaN NaN  NaN  NaN   2002/3/4   NaN  NaN  NaN  110001"
      ]
     },
     "execution_count": 7,
     "metadata": {},
     "output_type": "execute_result"
    }
   ],
   "source": [
    "fz1=fz\n",
    "fz1['场号']=list(map(lambda s: s[0:6],fz1['牛号']))\n",
    "fz1.head()"
   ]
  },
  {
   "cell_type": "code",
   "execution_count": 8,
   "metadata": {},
   "outputs": [
    {
     "data": {
      "text/html": [
       "<div>\n",
       "<style scoped>\n",
       "    .dataframe tbody tr th:only-of-type {\n",
       "        vertical-align: middle;\n",
       "    }\n",
       "\n",
       "    .dataframe tbody tr th {\n",
       "        vertical-align: top;\n",
       "    }\n",
       "\n",
       "    .dataframe thead th {\n",
       "        text-align: right;\n",
       "    }\n",
       "</style>\n",
       "<table border=\"1\" class=\"dataframe\">\n",
       "  <thead>\n",
       "    <tr style=\"text-align: right;\">\n",
       "      <th></th>\n",
       "      <th>牛号</th>\n",
       "      <th>出生日期</th>\n",
       "      <th>父号</th>\n",
       "      <th>母号</th>\n",
       "      <th>CODE</th>\n",
       "      <th>DAM</th>\n",
       "      <th>SIRE</th>\n",
       "      <th>场号</th>\n",
       "    </tr>\n",
       "  </thead>\n",
       "  <tbody>\n",
       "    <tr>\n",
       "      <th>0</th>\n",
       "      <td>110001000001</td>\n",
       "      <td>2000/1/6</td>\n",
       "      <td>11193546</td>\n",
       "      <td>110001099169</td>\n",
       "      <td>1</td>\n",
       "      <td>1827.0</td>\n",
       "      <td>3970806.0</td>\n",
       "      <td>110001</td>\n",
       "    </tr>\n",
       "    <tr>\n",
       "      <th>1</th>\n",
       "      <td>110001000003</td>\n",
       "      <td>2000/1/10</td>\n",
       "      <td>31195515</td>\n",
       "      <td>110001095046</td>\n",
       "      <td>2</td>\n",
       "      <td>2860945.0</td>\n",
       "      <td>3970807.0</td>\n",
       "      <td>110001</td>\n",
       "    </tr>\n",
       "    <tr>\n",
       "      <th>2</th>\n",
       "      <td>110001000006</td>\n",
       "      <td>2000/1/16</td>\n",
       "      <td>31195515</td>\n",
       "      <td>110001094056</td>\n",
       "      <td>3</td>\n",
       "      <td>2860946.0</td>\n",
       "      <td>3970807.0</td>\n",
       "      <td>110001</td>\n",
       "    </tr>\n",
       "    <tr>\n",
       "      <th>3</th>\n",
       "      <td>110001000007</td>\n",
       "      <td>2000/1/21</td>\n",
       "      <td>11194143</td>\n",
       "      <td>110001096113</td>\n",
       "      <td>4</td>\n",
       "      <td>1496.0</td>\n",
       "      <td>3970808.0</td>\n",
       "      <td>110001</td>\n",
       "    </tr>\n",
       "    <tr>\n",
       "      <th>4</th>\n",
       "      <td>110001000008</td>\n",
       "      <td>2000/1/20</td>\n",
       "      <td>11194143</td>\n",
       "      <td>110001090136</td>\n",
       "      <td>5</td>\n",
       "      <td>2860947.0</td>\n",
       "      <td>3970808.0</td>\n",
       "      <td>110001</td>\n",
       "    </tr>\n",
       "  </tbody>\n",
       "</table>\n",
       "</div>"
      ],
      "text/plain": [
       "             牛号       出生日期        父号            母号  CODE        DAM  \\\n",
       "0  110001000001   2000/1/6  11193546  110001099169     1     1827.0   \n",
       "1  110001000003  2000/1/10  31195515  110001095046     2  2860945.0   \n",
       "2  110001000006  2000/1/16  31195515  110001094056     3  2860946.0   \n",
       "3  110001000007  2000/1/21  11194143  110001096113     4     1496.0   \n",
       "4  110001000008  2000/1/20  11194143  110001090136     5  2860947.0   \n",
       "\n",
       "        SIRE      场号  \n",
       "0  3970806.0  110001  \n",
       "1  3970807.0  110001  \n",
       "2  3970807.0  110001  \n",
       "3  3970808.0  110001  \n",
       "4  3970808.0  110001  "
      ]
     },
     "execution_count": 8,
     "metadata": {},
     "output_type": "execute_result"
    }
   ],
   "source": [
    "ped1=ped\n",
    "ped1['场号']=list(map(lambda s: s[0:6],ped1['牛号']))\n",
    "ped1.head()"
   ]
  },
  {
   "cell_type": "markdown",
   "metadata": {},
   "source": [
    "## 数据集初步提取"
   ]
  },
  {
   "cell_type": "markdown",
   "metadata": {},
   "source": [
    "提取系谱数据中牛只的出生日期数据，繁殖数据中的配种数据及产犊数据，并进行筛重。"
   ]
  },
  {
   "cell_type": "code",
   "execution_count": 9,
   "metadata": {},
   "outputs": [
    {
     "data": {
      "text/html": [
       "<div>\n",
       "<style scoped>\n",
       "    .dataframe tbody tr th:only-of-type {\n",
       "        vertical-align: middle;\n",
       "    }\n",
       "\n",
       "    .dataframe tbody tr th {\n",
       "        vertical-align: top;\n",
       "    }\n",
       "\n",
       "    .dataframe thead th {\n",
       "        text-align: right;\n",
       "    }\n",
       "</style>\n",
       "<table border=\"1\" class=\"dataframe\">\n",
       "  <thead>\n",
       "    <tr style=\"text-align: right;\">\n",
       "      <th></th>\n",
       "      <th>牛号</th>\n",
       "      <th>出生日期</th>\n",
       "      <th>场号</th>\n",
       "    </tr>\n",
       "  </thead>\n",
       "  <tbody>\n",
       "    <tr>\n",
       "      <th>0</th>\n",
       "      <td>110001000001</td>\n",
       "      <td>2000/1/6</td>\n",
       "      <td>110001</td>\n",
       "    </tr>\n",
       "    <tr>\n",
       "      <th>1</th>\n",
       "      <td>110001000003</td>\n",
       "      <td>2000/1/10</td>\n",
       "      <td>110001</td>\n",
       "    </tr>\n",
       "    <tr>\n",
       "      <th>2</th>\n",
       "      <td>110001000006</td>\n",
       "      <td>2000/1/16</td>\n",
       "      <td>110001</td>\n",
       "    </tr>\n",
       "    <tr>\n",
       "      <th>3</th>\n",
       "      <td>110001000007</td>\n",
       "      <td>2000/1/21</td>\n",
       "      <td>110001</td>\n",
       "    </tr>\n",
       "    <tr>\n",
       "      <th>4</th>\n",
       "      <td>110001000008</td>\n",
       "      <td>2000/1/20</td>\n",
       "      <td>110001</td>\n",
       "    </tr>\n",
       "  </tbody>\n",
       "</table>\n",
       "</div>"
      ],
      "text/plain": [
       "             牛号       出生日期      场号\n",
       "0  110001000001   2000/1/6  110001\n",
       "1  110001000003  2000/1/10  110001\n",
       "2  110001000006  2000/1/16  110001\n",
       "3  110001000007  2000/1/21  110001\n",
       "4  110001000008  2000/1/20  110001"
      ]
     },
     "execution_count": 9,
     "metadata": {},
     "output_type": "execute_result"
    }
   ],
   "source": [
    "b0=ped[['牛号','出生日期','场号']]\n",
    "b0.head()"
   ]
  },
  {
   "cell_type": "code",
   "execution_count": 10,
   "metadata": {},
   "outputs": [
    {
     "data": {
      "text/html": [
       "<div>\n",
       "<style scoped>\n",
       "    .dataframe tbody tr th:only-of-type {\n",
       "        vertical-align: middle;\n",
       "    }\n",
       "\n",
       "    .dataframe tbody tr th {\n",
       "        vertical-align: top;\n",
       "    }\n",
       "\n",
       "    .dataframe thead th {\n",
       "        text-align: right;\n",
       "    }\n",
       "</style>\n",
       "<table border=\"1\" class=\"dataframe\">\n",
       "  <thead>\n",
       "    <tr style=\"text-align: right;\">\n",
       "      <th></th>\n",
       "      <th>牛号</th>\n",
       "      <th>胎次</th>\n",
       "      <th>配种日期</th>\n",
       "      <th>场号</th>\n",
       "    </tr>\n",
       "  </thead>\n",
       "  <tbody>\n",
       "    <tr>\n",
       "      <th>0</th>\n",
       "      <td>110001000001</td>\n",
       "      <td>1</td>\n",
       "      <td>NaN</td>\n",
       "      <td>110001</td>\n",
       "    </tr>\n",
       "    <tr>\n",
       "      <th>1</th>\n",
       "      <td>110001000003</td>\n",
       "      <td>1</td>\n",
       "      <td>NaN</td>\n",
       "      <td>110001</td>\n",
       "    </tr>\n",
       "    <tr>\n",
       "      <th>2</th>\n",
       "      <td>110001000006</td>\n",
       "      <td>1</td>\n",
       "      <td>NaN</td>\n",
       "      <td>110001</td>\n",
       "    </tr>\n",
       "    <tr>\n",
       "      <th>3</th>\n",
       "      <td>110001000007</td>\n",
       "      <td>1</td>\n",
       "      <td>NaN</td>\n",
       "      <td>110001</td>\n",
       "    </tr>\n",
       "    <tr>\n",
       "      <th>4</th>\n",
       "      <td>110001000008</td>\n",
       "      <td>1</td>\n",
       "      <td>NaN</td>\n",
       "      <td>110001</td>\n",
       "    </tr>\n",
       "  </tbody>\n",
       "</table>\n",
       "</div>"
      ],
      "text/plain": [
       "             牛号  胎次 配种日期      场号\n",
       "0  110001000001   1  NaN  110001\n",
       "1  110001000003   1  NaN  110001\n",
       "2  110001000006   1  NaN  110001\n",
       "3  110001000007   1  NaN  110001\n",
       "4  110001000008   1  NaN  110001"
      ]
     },
     "execution_count": 10,
     "metadata": {},
     "output_type": "execute_result"
    }
   ],
   "source": [
    "p0=fz[['牛号','胎次','配种日期','场号']].sort_values(by='牛号')\n",
    "p0.head()"
   ]
  },
  {
   "cell_type": "code",
   "execution_count": 11,
   "metadata": {},
   "outputs": [
    {
     "data": {
      "text/plain": [
       "牛号      5814265\n",
       "胎次      5814265\n",
       "初配日期     561280\n",
       "场号      5814265\n",
       "dtype: int64"
      ]
     },
     "execution_count": 11,
     "metadata": {},
     "output_type": "execute_result"
    }
   ],
   "source": [
    "cp0=fz[['牛号','胎次','初配日期','场号']].sort_values(by='牛号')\n",
    "cp0.count()"
   ]
  },
  {
   "cell_type": "code",
   "execution_count": 12,
   "metadata": {},
   "outputs": [
    {
     "data": {
      "text/plain": [
       "牛号      5814265\n",
       "胎次      5814265\n",
       "配次       550963\n",
       "配种日期     763984\n",
       "场号      5814265\n",
       "dtype: int64"
      ]
     },
     "execution_count": 12,
     "metadata": {},
     "output_type": "execute_result"
    }
   ],
   "source": [
    "pc0=fz[['牛号','胎次','配次','配种日期','场号']].sort_values(by='牛号')\n",
    "pc0.count()"
   ]
  },
  {
   "cell_type": "code",
   "execution_count": 13,
   "metadata": {},
   "outputs": [
    {
     "data": {
      "text/html": [
       "<div>\n",
       "<style scoped>\n",
       "    .dataframe tbody tr th:only-of-type {\n",
       "        vertical-align: middle;\n",
       "    }\n",
       "\n",
       "    .dataframe tbody tr th {\n",
       "        vertical-align: top;\n",
       "    }\n",
       "\n",
       "    .dataframe thead th {\n",
       "        text-align: right;\n",
       "    }\n",
       "</style>\n",
       "<table border=\"1\" class=\"dataframe\">\n",
       "  <thead>\n",
       "    <tr style=\"text-align: right;\">\n",
       "      <th></th>\n",
       "      <th>牛号</th>\n",
       "      <th>胎次</th>\n",
       "      <th>产犊日期</th>\n",
       "      <th>场号</th>\n",
       "    </tr>\n",
       "  </thead>\n",
       "  <tbody>\n",
       "    <tr>\n",
       "      <th>0</th>\n",
       "      <td>110001000001</td>\n",
       "      <td>1</td>\n",
       "      <td>2002/1/19</td>\n",
       "      <td>110001</td>\n",
       "    </tr>\n",
       "    <tr>\n",
       "      <th>1</th>\n",
       "      <td>110001000003</td>\n",
       "      <td>1</td>\n",
       "      <td>2002/1/18</td>\n",
       "      <td>110001</td>\n",
       "    </tr>\n",
       "    <tr>\n",
       "      <th>2</th>\n",
       "      <td>110001000006</td>\n",
       "      <td>1</td>\n",
       "      <td>2002/3/25</td>\n",
       "      <td>110001</td>\n",
       "    </tr>\n",
       "    <tr>\n",
       "      <th>3</th>\n",
       "      <td>110001000007</td>\n",
       "      <td>1</td>\n",
       "      <td>2002/7/12</td>\n",
       "      <td>110001</td>\n",
       "    </tr>\n",
       "    <tr>\n",
       "      <th>4</th>\n",
       "      <td>110001000008</td>\n",
       "      <td>1</td>\n",
       "      <td>2002/3/4</td>\n",
       "      <td>110001</td>\n",
       "    </tr>\n",
       "  </tbody>\n",
       "</table>\n",
       "</div>"
      ],
      "text/plain": [
       "             牛号  胎次       产犊日期      场号\n",
       "0  110001000001   1  2002/1/19  110001\n",
       "1  110001000003   1  2002/1/18  110001\n",
       "2  110001000006   1  2002/3/25  110001\n",
       "3  110001000007   1  2002/7/12  110001\n",
       "4  110001000008   1   2002/3/4  110001"
      ]
     },
     "execution_count": 13,
     "metadata": {},
     "output_type": "execute_result"
    }
   ],
   "source": [
    "c0=fz[['牛号','胎次','产犊日期','场号']]\n",
    "c0.head()"
   ]
  },
  {
   "cell_type": "markdown",
   "metadata": {},
   "source": [
    "# 数据描述性统计"
   ]
  },
  {
   "cell_type": "code",
   "execution_count": 14,
   "metadata": {},
   "outputs": [],
   "source": [
    "import seaborn as sns"
   ]
  },
  {
   "cell_type": "code",
   "execution_count": 15,
   "metadata": {},
   "outputs": [
    {
     "data": {
      "text/plain": [
       "牛号      2860944\n",
       "出生日期    2788162\n",
       "场号      2860944\n",
       "dtype: int64"
      ]
     },
     "execution_count": 15,
     "metadata": {},
     "output_type": "execute_result"
    }
   ],
   "source": [
    "b0.count()"
   ]
  },
  {
   "cell_type": "code",
   "execution_count": 16,
   "metadata": {},
   "outputs": [
    {
     "data": {
      "text/plain": [
       "牛号      5814265\n",
       "胎次      5814265\n",
       "配种日期     763984\n",
       "场号      5814265\n",
       "dtype: int64"
      ]
     },
     "execution_count": 16,
     "metadata": {},
     "output_type": "execute_result"
    }
   ],
   "source": [
    "p0.count()"
   ]
  },
  {
   "cell_type": "code",
   "execution_count": 17,
   "metadata": {},
   "outputs": [
    {
     "data": {
      "text/plain": [
       "<matplotlib.axes._subplots.AxesSubplot at 0x1d986768400>"
      ]
     },
     "execution_count": 17,
     "metadata": {},
     "output_type": "execute_result"
    },
    {
     "data": {
      "image/png": "[encoded data removed]",
      "text/plain": [
       "<matplotlib.figure.Figure at 0x1d9866fadd8>"
      ]
     },
     "metadata": {},
     "output_type": "display_data"
    }
   ],
   "source": [
    "sns.distplot(p0['胎次'])"
   ]
  },
  {
   "cell_type": "markdown",
   "metadata": {},
   "source": [
    "由上胎次分布图可知胎次异常数据多"
   ]
  },
  {
   "cell_type": "code",
   "execution_count": 18,
   "metadata": {},
   "outputs": [
    {
     "data": {
      "text/plain": [
       "牛号      5814265\n",
       "胎次      5814265\n",
       "产犊日期    5796187\n",
       "场号      5814265\n",
       "dtype: int64"
      ]
     },
     "execution_count": 18,
     "metadata": {},
     "output_type": "execute_result"
    }
   ],
   "source": [
    "c0.count()"
   ]
  },
  {
   "cell_type": "markdown",
   "metadata": {},
   "source": [
    "## 先将原始数据进行清洗整合，整理出各个数据集按照年做一个分布图"
   ]
  },
  {
   "cell_type": "markdown",
   "metadata": {},
   "source": [
    "### 出生数据"
   ]
  },
  {
   "cell_type": "markdown",
   "metadata": {},
   "source": [
    "1.删除缺失值，提取年，月效应"
   ]
  },
  {
   "cell_type": "code",
   "execution_count": 19,
   "metadata": {},
   "outputs": [
    {
     "data": {
      "text/plain": [
       "牛号      2788162\n",
       "出生日期    2788162\n",
       "场号      2788162\n",
       "dtype: int64"
      ]
     },
     "execution_count": 19,
     "metadata": {},
     "output_type": "execute_result"
    }
   ],
   "source": [
    "b1=b0.dropna(axis=0,how='any') ##删除空值 \n",
    "b1.count()"
   ]
  },
  {
   "cell_type": "code",
   "execution_count": 20,
   "metadata": {},
   "outputs": [
    {
     "name": "stderr",
     "output_type": "stream",
     "text": [
      "E:\\Anaconda\\lib\\site-packages\\ipykernel_launcher.py:1: SettingWithCopyWarning: \n",
      "A value is trying to be set on a copy of a slice from a DataFrame.\n",
      "Try using .loc[row_indexer,col_indexer] = value instead\n",
      "\n",
      "See the caveats in the documentation: http://pandas.pydata.org/pandas-docs/stable/indexing.html#indexing-view-versus-copy\n",
      "  \"\"\"Entry point for launching an IPython kernel.\n",
      "E:\\Anaconda\\lib\\site-packages\\ipykernel_launcher.py:2: SettingWithCopyWarning: \n",
      "A value is trying to be set on a copy of a slice from a DataFrame.\n",
      "Try using .loc[row_indexer,col_indexer] = value instead\n",
      "\n",
      "See the caveats in the documentation: http://pandas.pydata.org/pandas-docs/stable/indexing.html#indexing-view-versus-copy\n",
      "  \n",
      "E:\\Anaconda\\lib\\site-packages\\ipykernel_launcher.py:3: SettingWithCopyWarning: \n",
      "A value is trying to be set on a copy of a slice from a DataFrame.\n",
      "Try using .loc[row_indexer,col_indexer] = value instead\n",
      "\n",
      "See the caveats in the documentation: http://pandas.pydata.org/pandas-docs/stable/indexing.html#indexing-view-versus-copy\n",
      "  This is separate from the ipykernel package so we can avoid doing imports until\n",
      "E:\\Anaconda\\lib\\site-packages\\ipykernel_launcher.py:4: SettingWithCopyWarning: \n",
      "A value is trying to be set on a copy of a slice from a DataFrame.\n",
      "Try using .loc[row_indexer,col_indexer] = value instead\n",
      "\n",
      "See the caveats in the documentation: http://pandas.pydata.org/pandas-docs/stable/indexing.html#indexing-view-versus-copy\n",
      "  after removing the cwd from sys.path.\n"
     ]
    }
   ],
   "source": [
    "b1['yearb']=list(map(lambda s: s.split('/')[0],b1['出生日期']))\n",
    "b1['monthb']=list(map(lambda s: s.split('/')[1],b1['出生日期']))\n",
    "b1['YMB']=list(map(lambda s: s.split('/')[0]+s.split('/')[1],b1['出生日期']))\n",
    "b1['HYB']=list(map(lambda s: str(s),b1['场号']))+b1['yearb']"
   ]
  },
  {
   "cell_type": "markdown",
   "metadata": {},
   "source": [
    "发现一些年份数据有错误，如1900，5002等，根据数据分布对年效应进行质控，区间[1990,2018]"
   ]
  },
  {
   "cell_type": "code",
   "execution_count": 21,
   "metadata": {},
   "outputs": [
    {
     "name": "stderr",
     "output_type": "stream",
     "text": [
      "E:\\Anaconda\\lib\\site-packages\\ipykernel_launcher.py:1: SettingWithCopyWarning: \n",
      "A value is trying to be set on a copy of a slice from a DataFrame.\n",
      "Try using .loc[row_indexer,col_indexer] = value instead\n",
      "\n",
      "See the caveats in the documentation: http://pandas.pydata.org/pandas-docs/stable/indexing.html#indexing-view-versus-copy\n",
      "  \"\"\"Entry point for launching an IPython kernel.\n"
     ]
    }
   ],
   "source": [
    "b1['yearb']=list(map(lambda s:int(s),b1['yearb']))"
   ]
  },
  {
   "cell_type": "code",
   "execution_count": 22,
   "metadata": {},
   "outputs": [],
   "source": [
    "b2=b1[(b1['yearb'] >=1990)&(b1['yearb'] <=2018)]"
   ]
  },
  {
   "cell_type": "markdown",
   "metadata": {},
   "source": [
    "2.以年效应画数据分布图"
   ]
  },
  {
   "cell_type": "code",
   "execution_count": 23,
   "metadata": {},
   "outputs": [
    {
     "data": {
      "image/png": "[encoded data removed]",
      "text/plain": [
       "<matplotlib.figure.Figure at 0x1d98690db70>"
      ]
     },
     "metadata": {},
     "output_type": "display_data"
    }
   ],
   "source": [
    "yb=sns.countplot(x=\"yearb\", data=b2)\n",
    "yb1=yb.set_xticklabels(yb.get_xticklabels(), rotation=-90)"
   ]
  },
  {
   "cell_type": "code",
   "execution_count": 24,
   "metadata": {},
   "outputs": [],
   "source": [
    "yb2=yb.get_figure()\n",
    "yb2.savefig('F:\\\\Python\\\\yb.png',bbox_inches='tight',dpi=500)"
   ]
  },
  {
   "cell_type": "markdown",
   "metadata": {},
   "source": [
    "### 配种数据"
   ]
  },
  {
   "cell_type": "markdown",
   "metadata": {},
   "source": [
    "1.删除缺失值，提取年，月效应"
   ]
  },
  {
   "cell_type": "code",
   "execution_count": 25,
   "metadata": {},
   "outputs": [
    {
     "data": {
      "text/plain": [
       "牛号      763984\n",
       "胎次      763984\n",
       "配种日期    763984\n",
       "场号      763984\n",
       "dtype: int64"
      ]
     },
     "execution_count": 25,
     "metadata": {},
     "output_type": "execute_result"
    }
   ],
   "source": [
    "p1=p0.dropna(axis=0,how='any') ##删除空值 \n",
    "p1.count()"
   ]
  },
  {
   "cell_type": "code",
   "execution_count": 26,
   "metadata": {},
   "outputs": [
    {
     "name": "stderr",
     "output_type": "stream",
     "text": [
      "E:\\Anaconda\\lib\\site-packages\\ipykernel_launcher.py:1: SettingWithCopyWarning: \n",
      "A value is trying to be set on a copy of a slice from a DataFrame.\n",
      "Try using .loc[row_indexer,col_indexer] = value instead\n",
      "\n",
      "See the caveats in the documentation: http://pandas.pydata.org/pandas-docs/stable/indexing.html#indexing-view-versus-copy\n",
      "  \"\"\"Entry point for launching an IPython kernel.\n",
      "E:\\Anaconda\\lib\\site-packages\\ipykernel_launcher.py:2: SettingWithCopyWarning: \n",
      "A value is trying to be set on a copy of a slice from a DataFrame.\n",
      "Try using .loc[row_indexer,col_indexer] = value instead\n",
      "\n",
      "See the caveats in the documentation: http://pandas.pydata.org/pandas-docs/stable/indexing.html#indexing-view-versus-copy\n",
      "  \n",
      "E:\\Anaconda\\lib\\site-packages\\ipykernel_launcher.py:3: SettingWithCopyWarning: \n",
      "A value is trying to be set on a copy of a slice from a DataFrame.\n",
      "Try using .loc[row_indexer,col_indexer] = value instead\n",
      "\n",
      "See the caveats in the documentation: http://pandas.pydata.org/pandas-docs/stable/indexing.html#indexing-view-versus-copy\n",
      "  This is separate from the ipykernel package so we can avoid doing imports until\n",
      "E:\\Anaconda\\lib\\site-packages\\ipykernel_launcher.py:4: SettingWithCopyWarning: \n",
      "A value is trying to be set on a copy of a slice from a DataFrame.\n",
      "Try using .loc[row_indexer,col_indexer] = value instead\n",
      "\n",
      "See the caveats in the documentation: http://pandas.pydata.org/pandas-docs/stable/indexing.html#indexing-view-versus-copy\n",
      "  after removing the cwd from sys.path.\n"
     ]
    }
   ],
   "source": [
    "p1['yearp']=list(map(lambda s: s.split('/')[0],p1['配种日期']))\n",
    "p1['monthp']=list(map(lambda s: s.split('/')[1],p1['配种日期']))\n",
    "p1['YMI']=list(map(lambda s: s.split('/')[0]+s.split('/')[1],p1['配种日期']))\n",
    "p1['HYI']=list(map(lambda s: str(s),p1['场号']))+p1['yearp']"
   ]
  },
  {
   "cell_type": "markdown",
   "metadata": {},
   "source": [
    "根据配种数据按年效应的分布，选择年效应区间[2000,2018]。"
   ]
  },
  {
   "cell_type": "code",
   "execution_count": 27,
   "metadata": {},
   "outputs": [
    {
     "name": "stderr",
     "output_type": "stream",
     "text": [
      "E:\\Anaconda\\lib\\site-packages\\ipykernel_launcher.py:1: SettingWithCopyWarning: \n",
      "A value is trying to be set on a copy of a slice from a DataFrame.\n",
      "Try using .loc[row_indexer,col_indexer] = value instead\n",
      "\n",
      "See the caveats in the documentation: http://pandas.pydata.org/pandas-docs/stable/indexing.html#indexing-view-versus-copy\n",
      "  \"\"\"Entry point for launching an IPython kernel.\n"
     ]
    }
   ],
   "source": [
    "p1['yearp']=list(map(lambda s:int(s),p1['yearp']))"
   ]
  },
  {
   "cell_type": "code",
   "execution_count": 28,
   "metadata": {},
   "outputs": [],
   "source": [
    "p2=p1[(p1['yearp'] >=2000)&(p1['yearp'] <=2018)]"
   ]
  },
  {
   "cell_type": "markdown",
   "metadata": {},
   "source": [
    "2.以年，胎次效应画数据分布图"
   ]
  },
  {
   "cell_type": "code",
   "execution_count": 29,
   "metadata": {},
   "outputs": [
    {
     "data": {
      "image/png": "[encoded data removed]",
      "text/plain": [
       "<matplotlib.figure.Figure at 0x1d986830358>"
      ]
     },
     "metadata": {},
     "output_type": "display_data"
    }
   ],
   "source": [
    "yp=sns.countplot(x=\"yearp\", data=p2)\n",
    "yp1=yp.set_xticklabels(yp.get_xticklabels(), rotation=-90)"
   ]
  },
  {
   "cell_type": "code",
   "execution_count": 30,
   "metadata": {},
   "outputs": [],
   "source": [
    "yp2=yp.get_figure()\n",
    "yp2.savefig('F:\\\\Python\\\\yp.png',bbox_inches='tight',dpi=500)"
   ]
  },
  {
   "cell_type": "code",
   "execution_count": 31,
   "metadata": {},
   "outputs": [
    {
     "data": {
      "image/png": "[encoded data removed]",
      "text/plain": [
       "<matplotlib.figure.Figure at 0x1da4e554748>"
      ]
     },
     "metadata": {},
     "output_type": "display_data"
    }
   ],
   "source": [
    "yp3=sns.countplot(x='胎次',data=p2)"
   ]
  },
  {
   "cell_type": "markdown",
   "metadata": {},
   "source": [
    "### 初配数据"
   ]
  },
  {
   "cell_type": "code",
   "execution_count": 32,
   "metadata": {},
   "outputs": [
    {
     "data": {
      "text/plain": [
       "牛号      561280\n",
       "胎次      561280\n",
       "初配日期    561280\n",
       "场号      561280\n",
       "dtype: int64"
      ]
     },
     "execution_count": 32,
     "metadata": {},
     "output_type": "execute_result"
    }
   ],
   "source": [
    "cp1=cp0.dropna(axis=0,how='any') ##删除空值 \n",
    "cp1.count()"
   ]
  },
  {
   "cell_type": "code",
   "execution_count": 33,
   "metadata": {},
   "outputs": [
    {
     "name": "stderr",
     "output_type": "stream",
     "text": [
      "E:\\Anaconda\\lib\\site-packages\\ipykernel_launcher.py:1: SettingWithCopyWarning: \n",
      "A value is trying to be set on a copy of a slice from a DataFrame.\n",
      "Try using .loc[row_indexer,col_indexer] = value instead\n",
      "\n",
      "See the caveats in the documentation: http://pandas.pydata.org/pandas-docs/stable/indexing.html#indexing-view-versus-copy\n",
      "  \"\"\"Entry point for launching an IPython kernel.\n",
      "E:\\Anaconda\\lib\\site-packages\\ipykernel_launcher.py:2: SettingWithCopyWarning: \n",
      "A value is trying to be set on a copy of a slice from a DataFrame.\n",
      "Try using .loc[row_indexer,col_indexer] = value instead\n",
      "\n",
      "See the caveats in the documentation: http://pandas.pydata.org/pandas-docs/stable/indexing.html#indexing-view-versus-copy\n",
      "  \n",
      "E:\\Anaconda\\lib\\site-packages\\ipykernel_launcher.py:3: SettingWithCopyWarning: \n",
      "A value is trying to be set on a copy of a slice from a DataFrame.\n",
      "Try using .loc[row_indexer,col_indexer] = value instead\n",
      "\n",
      "See the caveats in the documentation: http://pandas.pydata.org/pandas-docs/stable/indexing.html#indexing-view-versus-copy\n",
      "  This is separate from the ipykernel package so we can avoid doing imports until\n",
      "E:\\Anaconda\\lib\\site-packages\\ipykernel_launcher.py:4: SettingWithCopyWarning: \n",
      "A value is trying to be set on a copy of a slice from a DataFrame.\n",
      "Try using .loc[row_indexer,col_indexer] = value instead\n",
      "\n",
      "See the caveats in the documentation: http://pandas.pydata.org/pandas-docs/stable/indexing.html#indexing-view-versus-copy\n",
      "  after removing the cwd from sys.path.\n"
     ]
    }
   ],
   "source": [
    "cp1['yearp']=list(map(lambda s: s.split('/')[0],cp1['初配日期']))\n",
    "cp1['monthp']=list(map(lambda s: s.split('/')[1],cp1['初配日期']))\n",
    "cp1['YMI']=list(map(lambda s: s.split('/')[0]+s.split('/')[1],cp1['初配日期']))\n",
    "cp1['HYI']=list(map(lambda s: str(s),cp1['场号']))+cp1['yearp']"
   ]
  },
  {
   "cell_type": "code",
   "execution_count": 34,
   "metadata": {
    "scrolled": true
   },
   "outputs": [
    {
     "name": "stderr",
     "output_type": "stream",
     "text": [
      "E:\\Anaconda\\lib\\site-packages\\ipykernel_launcher.py:1: SettingWithCopyWarning: \n",
      "A value is trying to be set on a copy of a slice from a DataFrame.\n",
      "Try using .loc[row_indexer,col_indexer] = value instead\n",
      "\n",
      "See the caveats in the documentation: http://pandas.pydata.org/pandas-docs/stable/indexing.html#indexing-view-versus-copy\n",
      "  \"\"\"Entry point for launching an IPython kernel.\n"
     ]
    }
   ],
   "source": [
    "cp1['yearp']=list(map(lambda s:int(s),cp1['yearp']))"
   ]
  },
  {
   "cell_type": "code",
   "execution_count": 35,
   "metadata": {},
   "outputs": [],
   "source": [
    "cp2=cp1[(cp1['yearp'] >=2000)&(cp1['yearp'] <=2018)]"
   ]
  },
  {
   "cell_type": "code",
   "execution_count": 36,
   "metadata": {},
   "outputs": [
    {
     "data": {
      "image/png": "[encoded data removed]",
      "text/plain": [
       "<matplotlib.figure.Figure at 0x1da58761860>"
      ]
     },
     "metadata": {},
     "output_type": "display_data"
    }
   ],
   "source": [
    "ycp=sns.countplot(x=\"yearp\", data=cp2)\n",
    "ycp1=ycp.set_xticklabels(ycp.get_xticklabels(), rotation=-90)"
   ]
  },
  {
   "cell_type": "code",
   "execution_count": 37,
   "metadata": {},
   "outputs": [],
   "source": [
    "ycp2=ycp.get_figure()\n",
    "ycp2.savefig('F:\\\\Python\\\\ycp.png',bbox_inches='tight',dpi=500)"
   ]
  },
  {
   "cell_type": "markdown",
   "metadata": {},
   "source": [
    "初配日期数据为各牛只最早配种时间"
   ]
  },
  {
   "cell_type": "markdown",
   "metadata": {},
   "source": [
    "### 配种次数数据"
   ]
  },
  {
   "cell_type": "code",
   "execution_count": 38,
   "metadata": {},
   "outputs": [
    {
     "data": {
      "text/plain": [
       "牛号      502589\n",
       "胎次      502589\n",
       "配次      502589\n",
       "配种日期    502589\n",
       "场号      502589\n",
       "dtype: int64"
      ]
     },
     "execution_count": 38,
     "metadata": {},
     "output_type": "execute_result"
    }
   ],
   "source": [
    "pc1=pc0.dropna(axis=0,how='any') ##删除空值 \n",
    "pc1.count()"
   ]
  },
  {
   "cell_type": "code",
   "execution_count": 39,
   "metadata": {},
   "outputs": [
    {
     "name": "stderr",
     "output_type": "stream",
     "text": [
      "E:\\Anaconda\\lib\\site-packages\\ipykernel_launcher.py:1: SettingWithCopyWarning: \n",
      "A value is trying to be set on a copy of a slice from a DataFrame.\n",
      "Try using .loc[row_indexer,col_indexer] = value instead\n",
      "\n",
      "See the caveats in the documentation: http://pandas.pydata.org/pandas-docs/stable/indexing.html#indexing-view-versus-copy\n",
      "  \"\"\"Entry point for launching an IPython kernel.\n",
      "E:\\Anaconda\\lib\\site-packages\\ipykernel_launcher.py:2: SettingWithCopyWarning: \n",
      "A value is trying to be set on a copy of a slice from a DataFrame.\n",
      "Try using .loc[row_indexer,col_indexer] = value instead\n",
      "\n",
      "See the caveats in the documentation: http://pandas.pydata.org/pandas-docs/stable/indexing.html#indexing-view-versus-copy\n",
      "  \n",
      "E:\\Anaconda\\lib\\site-packages\\ipykernel_launcher.py:3: SettingWithCopyWarning: \n",
      "A value is trying to be set on a copy of a slice from a DataFrame.\n",
      "Try using .loc[row_indexer,col_indexer] = value instead\n",
      "\n",
      "See the caveats in the documentation: http://pandas.pydata.org/pandas-docs/stable/indexing.html#indexing-view-versus-copy\n",
      "  This is separate from the ipykernel package so we can avoid doing imports until\n",
      "E:\\Anaconda\\lib\\site-packages\\ipykernel_launcher.py:4: SettingWithCopyWarning: \n",
      "A value is trying to be set on a copy of a slice from a DataFrame.\n",
      "Try using .loc[row_indexer,col_indexer] = value instead\n",
      "\n",
      "See the caveats in the documentation: http://pandas.pydata.org/pandas-docs/stable/indexing.html#indexing-view-versus-copy\n",
      "  after removing the cwd from sys.path.\n"
     ]
    }
   ],
   "source": [
    "pc1['yearp']=list(map(lambda s: s.split('/')[0],pc1['配种日期']))\n",
    "pc1['monthp']=list(map(lambda s: s.split('/')[1],pc1['配种日期']))\n",
    "pc1['YMI']=list(map(lambda s: s.split('/')[0]+s.split('/')[1],pc1['配种日期']))\n",
    "pc1['HYI']=list(map(lambda s: str(s),pc1['场号']))+pc1['yearp']"
   ]
  },
  {
   "cell_type": "markdown",
   "metadata": {},
   "source": [
    "检查配种次数的分布"
   ]
  },
  {
   "cell_type": "code",
   "execution_count": 40,
   "metadata": {},
   "outputs": [],
   "source": [
    "pc2=pc1[(pc1['配次'] >=0)&(pc1['配次'] <=20)]"
   ]
  },
  {
   "cell_type": "code",
   "execution_count": 41,
   "metadata": {},
   "outputs": [
    {
     "data": {
      "image/png": "[encoded data removed]",
      "text/plain": [
       "<matplotlib.figure.Figure at 0x1d986befcc0>"
      ]
     },
     "metadata": {},
     "output_type": "display_data"
    }
   ],
   "source": [
    "ypc=sns.countplot(x=\"配次\", data=pc2)\n",
    "ypc1=ypc.set_xticklabels(ypc.get_xticklabels(), rotation=-90)"
   ]
  },
  {
   "cell_type": "markdown",
   "metadata": {},
   "source": [
    "之后验证配次对应的配种日期与后一胎次产犊日期的关系，若后一胎产犊比配种时间大200-365天，则确定该数据为胎次最后配种时间。"
   ]
  },
  {
   "cell_type": "code",
   "execution_count": 42,
   "metadata": {},
   "outputs": [],
   "source": [
    "ypc2=ypc.get_figure()\n",
    "ypc2.savefig('F:\\\\Python\\\\ypc.png',bbox_inches='tight',dpi=500)"
   ]
  },
  {
   "cell_type": "code",
   "execution_count": 43,
   "metadata": {},
   "outputs": [],
   "source": [
    "pcg=pc1[(pc1['配次'] >=1)&(pc1['配次'] <=8)]"
   ]
  },
  {
   "cell_type": "code",
   "execution_count": 44,
   "metadata": {},
   "outputs": [
    {
     "data": {
      "image/png": "[encoded data removed]",
      "text/plain": [
       "<matplotlib.figure.Figure at 0x1da80238fd0>"
      ]
     },
     "metadata": {},
     "output_type": "display_data"
    }
   ],
   "source": [
    "ypcg=sns.countplot(x=\"配次\", data=pcg)\n",
    "ypcg1=ypcg.set_xticklabels(ypcg.get_xticklabels(), rotation=-90)"
   ]
  },
  {
   "cell_type": "code",
   "execution_count": 45,
   "metadata": {},
   "outputs": [
    {
     "data": {
      "text/html": [
       "<div>\n",
       "<style scoped>\n",
       "    .dataframe tbody tr th:only-of-type {\n",
       "        vertical-align: middle;\n",
       "    }\n",
       "\n",
       "    .dataframe tbody tr th {\n",
       "        vertical-align: top;\n",
       "    }\n",
       "\n",
       "    .dataframe thead th {\n",
       "        text-align: right;\n",
       "    }\n",
       "</style>\n",
       "<table border=\"1\" class=\"dataframe\">\n",
       "  <thead>\n",
       "    <tr style=\"text-align: right;\">\n",
       "      <th></th>\n",
       "      <th>胎次</th>\n",
       "      <th>配次</th>\n",
       "    </tr>\n",
       "  </thead>\n",
       "  <tbody>\n",
       "    <tr>\n",
       "      <th>count</th>\n",
       "      <td>459972.000000</td>\n",
       "      <td>459972.000000</td>\n",
       "    </tr>\n",
       "    <tr>\n",
       "      <th>mean</th>\n",
       "      <td>2.192018</td>\n",
       "      <td>2.027806</td>\n",
       "    </tr>\n",
       "    <tr>\n",
       "      <th>std</th>\n",
       "      <td>8.469125</td>\n",
       "      <td>1.584439</td>\n",
       "    </tr>\n",
       "    <tr>\n",
       "      <th>min</th>\n",
       "      <td>0.000000</td>\n",
       "      <td>1.000000</td>\n",
       "    </tr>\n",
       "    <tr>\n",
       "      <th>25%</th>\n",
       "      <td>1.000000</td>\n",
       "      <td>1.000000</td>\n",
       "    </tr>\n",
       "    <tr>\n",
       "      <th>50%</th>\n",
       "      <td>2.000000</td>\n",
       "      <td>1.000000</td>\n",
       "    </tr>\n",
       "    <tr>\n",
       "      <th>75%</th>\n",
       "      <td>3.000000</td>\n",
       "      <td>3.000000</td>\n",
       "    </tr>\n",
       "    <tr>\n",
       "      <th>max</th>\n",
       "      <td>5667.000000</td>\n",
       "      <td>8.000000</td>\n",
       "    </tr>\n",
       "  </tbody>\n",
       "</table>\n",
       "</div>"
      ],
      "text/plain": [
       "                  胎次             配次\n",
       "count  459972.000000  459972.000000\n",
       "mean        2.192018       2.027806\n",
       "std         8.469125       1.584439\n",
       "min         0.000000       1.000000\n",
       "25%         1.000000       1.000000\n",
       "50%         2.000000       1.000000\n",
       "75%         3.000000       3.000000\n",
       "max      5667.000000       8.000000"
      ]
     },
     "execution_count": 45,
     "metadata": {},
     "output_type": "execute_result"
    }
   ],
   "source": [
    "pcg.describe()"
   ]
  },
  {
   "cell_type": "markdown",
   "metadata": {},
   "source": [
    "### 产犊数据"
   ]
  },
  {
   "cell_type": "markdown",
   "metadata": {},
   "source": [
    "1.删除缺失值，提取年，月效应"
   ]
  },
  {
   "cell_type": "code",
   "execution_count": 46,
   "metadata": {},
   "outputs": [
    {
     "data": {
      "text/plain": [
       "牛号      5796187\n",
       "胎次      5796187\n",
       "产犊日期    5796187\n",
       "场号      5796187\n",
       "dtype: int64"
      ]
     },
     "execution_count": 46,
     "metadata": {},
     "output_type": "execute_result"
    }
   ],
   "source": [
    "c1=c0.dropna(axis=0,how='any') ##删除空值 \n",
    "c1.count()"
   ]
  },
  {
   "cell_type": "code",
   "execution_count": 47,
   "metadata": {},
   "outputs": [
    {
     "name": "stderr",
     "output_type": "stream",
     "text": [
      "E:\\Anaconda\\lib\\site-packages\\ipykernel_launcher.py:1: SettingWithCopyWarning: \n",
      "A value is trying to be set on a copy of a slice from a DataFrame.\n",
      "Try using .loc[row_indexer,col_indexer] = value instead\n",
      "\n",
      "See the caveats in the documentation: http://pandas.pydata.org/pandas-docs/stable/indexing.html#indexing-view-versus-copy\n",
      "  \"\"\"Entry point for launching an IPython kernel.\n",
      "E:\\Anaconda\\lib\\site-packages\\ipykernel_launcher.py:2: SettingWithCopyWarning: \n",
      "A value is trying to be set on a copy of a slice from a DataFrame.\n",
      "Try using .loc[row_indexer,col_indexer] = value instead\n",
      "\n",
      "See the caveats in the documentation: http://pandas.pydata.org/pandas-docs/stable/indexing.html#indexing-view-versus-copy\n",
      "  \n",
      "E:\\Anaconda\\lib\\site-packages\\ipykernel_launcher.py:3: SettingWithCopyWarning: \n",
      "A value is trying to be set on a copy of a slice from a DataFrame.\n",
      "Try using .loc[row_indexer,col_indexer] = value instead\n",
      "\n",
      "See the caveats in the documentation: http://pandas.pydata.org/pandas-docs/stable/indexing.html#indexing-view-versus-copy\n",
      "  This is separate from the ipykernel package so we can avoid doing imports until\n",
      "E:\\Anaconda\\lib\\site-packages\\ipykernel_launcher.py:4: SettingWithCopyWarning: \n",
      "A value is trying to be set on a copy of a slice from a DataFrame.\n",
      "Try using .loc[row_indexer,col_indexer] = value instead\n",
      "\n",
      "See the caveats in the documentation: http://pandas.pydata.org/pandas-docs/stable/indexing.html#indexing-view-versus-copy\n",
      "  after removing the cwd from sys.path.\n"
     ]
    }
   ],
   "source": [
    "c1['yearc']=list(map(lambda s: s.split('/')[0],c1['产犊日期']))\n",
    "c1['monthc']=list(map(lambda s: s.split('/')[1],c1['产犊日期']))\n",
    "c1['YMC']=list(map(lambda s: s.split('/')[0]+s.split('/')[1],c1['产犊日期']))\n",
    "c1['HYC']=list(map(lambda s: str(s),c1['场号']))+c1['yearc']"
   ]
  },
  {
   "cell_type": "markdown",
   "metadata": {},
   "source": [
    "根据年效应分布可以看出有很多1900年的异常值，先统计异常值数量"
   ]
  },
  {
   "cell_type": "code",
   "execution_count": 48,
   "metadata": {},
   "outputs": [
    {
     "name": "stderr",
     "output_type": "stream",
     "text": [
      "E:\\Anaconda\\lib\\site-packages\\ipykernel_launcher.py:1: SettingWithCopyWarning: \n",
      "A value is trying to be set on a copy of a slice from a DataFrame.\n",
      "Try using .loc[row_indexer,col_indexer] = value instead\n",
      "\n",
      "See the caveats in the documentation: http://pandas.pydata.org/pandas-docs/stable/indexing.html#indexing-view-versus-copy\n",
      "  \"\"\"Entry point for launching an IPython kernel.\n"
     ]
    }
   ],
   "source": [
    "c1['yearc']=list(map(lambda s:int(s),c1['yearc']))"
   ]
  },
  {
   "cell_type": "code",
   "execution_count": 49,
   "metadata": {},
   "outputs": [],
   "source": [
    "ctest=c1[(c1['yearc'] >=1900)&(c1['yearc'] <=1990)]"
   ]
  },
  {
   "cell_type": "code",
   "execution_count": 50,
   "metadata": {},
   "outputs": [
    {
     "data": {
      "image/png": "[encoded data removed]",
      "text/plain": [
       "<matplotlib.figure.Figure at 0x1da8592f780>"
      ]
     },
     "metadata": {},
     "output_type": "display_data"
    }
   ],
   "source": [
    "ct=sns.countplot(x=\"yearc\", data=ctest)"
   ]
  },
  {
   "cell_type": "markdown",
   "metadata": {},
   "source": [
    "异常值数量可以接受，确定作图区间为[1990,2018]"
   ]
  },
  {
   "cell_type": "code",
   "execution_count": 51,
   "metadata": {},
   "outputs": [],
   "source": [
    "c2=c1[(c1['yearc'] >=1990)&(c1['yearc'] <=2018)]"
   ]
  },
  {
   "cell_type": "markdown",
   "metadata": {},
   "source": [
    "2.以年效应作图"
   ]
  },
  {
   "cell_type": "code",
   "execution_count": 52,
   "metadata": {},
   "outputs": [
    {
     "data": {
      "image/png": "[encoded data removed]",
      "text/plain": [
       "<matplotlib.figure.Figure at 0x1da80305ef0>"
      ]
     },
     "metadata": {},
     "output_type": "display_data"
    }
   ],
   "source": [
    "yc=sns.countplot(x=\"yearc\", data=c2)\n",
    "yc1=yc.set_xticklabels(yc.get_xticklabels(), rotation=-90)"
   ]
  },
  {
   "cell_type": "code",
   "execution_count": 53,
   "metadata": {},
   "outputs": [],
   "source": [
    "yc2=yc.get_figure()\n",
    "yc2.savefig('F:\\\\Python\\\\yc.png',bbox_inches='tight',dpi=500)"
   ]
  },
  {
   "cell_type": "markdown",
   "metadata": {},
   "source": [
    "### 各数据集提取固定效应"
   ]
  },
  {
   "cell_type": "code",
   "execution_count": 54,
   "metadata": {},
   "outputs": [
    {
     "data": {
      "text/html": [
       "<div>\n",
       "<style scoped>\n",
       "    .dataframe tbody tr th:only-of-type {\n",
       "        vertical-align: middle;\n",
       "    }\n",
       "\n",
       "    .dataframe tbody tr th {\n",
       "        vertical-align: top;\n",
       "    }\n",
       "\n",
       "    .dataframe thead th {\n",
       "        text-align: right;\n",
       "    }\n",
       "</style>\n",
       "<table border=\"1\" class=\"dataframe\">\n",
       "  <thead>\n",
       "    <tr style=\"text-align: right;\">\n",
       "      <th></th>\n",
       "      <th>牛号</th>\n",
       "      <th>场号</th>\n",
       "      <th>yearb</th>\n",
       "      <th>monthb</th>\n",
       "      <th>HYB</th>\n",
       "      <th>YMB</th>\n",
       "    </tr>\n",
       "  </thead>\n",
       "  <tbody>\n",
       "    <tr>\n",
       "      <th>0</th>\n",
       "      <td>110001000001</td>\n",
       "      <td>110001</td>\n",
       "      <td>2000</td>\n",
       "      <td>1</td>\n",
       "      <td>1100012000</td>\n",
       "      <td>20001</td>\n",
       "    </tr>\n",
       "    <tr>\n",
       "      <th>1</th>\n",
       "      <td>110001000003</td>\n",
       "      <td>110001</td>\n",
       "      <td>2000</td>\n",
       "      <td>1</td>\n",
       "      <td>1100012000</td>\n",
       "      <td>20001</td>\n",
       "    </tr>\n",
       "    <tr>\n",
       "      <th>2</th>\n",
       "      <td>110001000006</td>\n",
       "      <td>110001</td>\n",
       "      <td>2000</td>\n",
       "      <td>1</td>\n",
       "      <td>1100012000</td>\n",
       "      <td>20001</td>\n",
       "    </tr>\n",
       "    <tr>\n",
       "      <th>3</th>\n",
       "      <td>110001000007</td>\n",
       "      <td>110001</td>\n",
       "      <td>2000</td>\n",
       "      <td>1</td>\n",
       "      <td>1100012000</td>\n",
       "      <td>20001</td>\n",
       "    </tr>\n",
       "    <tr>\n",
       "      <th>4</th>\n",
       "      <td>110001000008</td>\n",
       "      <td>110001</td>\n",
       "      <td>2000</td>\n",
       "      <td>1</td>\n",
       "      <td>1100012000</td>\n",
       "      <td>20001</td>\n",
       "    </tr>\n",
       "  </tbody>\n",
       "</table>\n",
       "</div>"
      ],
      "text/plain": [
       "             牛号      场号  yearb monthb         HYB    YMB\n",
       "0  110001000001  110001   2000      1  1100012000  20001\n",
       "1  110001000003  110001   2000      1  1100012000  20001\n",
       "2  110001000006  110001   2000      1  1100012000  20001\n",
       "3  110001000007  110001   2000      1  1100012000  20001\n",
       "4  110001000008  110001   2000      1  1100012000  20001"
      ]
     },
     "execution_count": 54,
     "metadata": {},
     "output_type": "execute_result"
    }
   ],
   "source": [
    "bb=b2[['牛号','场号','yearb','monthb','HYB','YMB']]\n",
    "bb.head()"
   ]
  },
  {
   "cell_type": "code",
   "execution_count": 55,
   "metadata": {},
   "outputs": [
    {
     "data": {
      "text/html": [
       "<div>\n",
       "<style scoped>\n",
       "    .dataframe tbody tr th:only-of-type {\n",
       "        vertical-align: middle;\n",
       "    }\n",
       "\n",
       "    .dataframe tbody tr th {\n",
       "        vertical-align: top;\n",
       "    }\n",
       "\n",
       "    .dataframe thead th {\n",
       "        text-align: right;\n",
       "    }\n",
       "</style>\n",
       "<table border=\"1\" class=\"dataframe\">\n",
       "  <thead>\n",
       "    <tr style=\"text-align: right;\">\n",
       "      <th></th>\n",
       "      <th>牛号</th>\n",
       "      <th>胎次</th>\n",
       "      <th>场号</th>\n",
       "      <th>yearp</th>\n",
       "      <th>monthp</th>\n",
       "      <th>HYI</th>\n",
       "      <th>YMI</th>\n",
       "    </tr>\n",
       "  </thead>\n",
       "  <tbody>\n",
       "    <tr>\n",
       "      <th>892</th>\n",
       "      <td>110001009001</td>\n",
       "      <td>2</td>\n",
       "      <td>110001</td>\n",
       "      <td>2011</td>\n",
       "      <td>6</td>\n",
       "      <td>1100012011</td>\n",
       "      <td>20116</td>\n",
       "    </tr>\n",
       "    <tr>\n",
       "      <th>929</th>\n",
       "      <td>110001009041</td>\n",
       "      <td>2</td>\n",
       "      <td>110001</td>\n",
       "      <td>2011</td>\n",
       "      <td>7</td>\n",
       "      <td>1100012011</td>\n",
       "      <td>20117</td>\n",
       "    </tr>\n",
       "    <tr>\n",
       "      <th>934</th>\n",
       "      <td>110001009048</td>\n",
       "      <td>2</td>\n",
       "      <td>110001</td>\n",
       "      <td>2011</td>\n",
       "      <td>8</td>\n",
       "      <td>1100012011</td>\n",
       "      <td>20118</td>\n",
       "    </tr>\n",
       "    <tr>\n",
       "      <th>950</th>\n",
       "      <td>110001009055</td>\n",
       "      <td>2</td>\n",
       "      <td>110001</td>\n",
       "      <td>2011</td>\n",
       "      <td>8</td>\n",
       "      <td>1100012011</td>\n",
       "      <td>20118</td>\n",
       "    </tr>\n",
       "    <tr>\n",
       "      <th>963</th>\n",
       "      <td>110001009068</td>\n",
       "      <td>2</td>\n",
       "      <td>110001</td>\n",
       "      <td>2011</td>\n",
       "      <td>7</td>\n",
       "      <td>1100012011</td>\n",
       "      <td>20117</td>\n",
       "    </tr>\n",
       "  </tbody>\n",
       "</table>\n",
       "</div>"
      ],
      "text/plain": [
       "               牛号  胎次      场号  yearp monthp         HYI    YMI\n",
       "892  110001009001   2  110001   2011      6  1100012011  20116\n",
       "929  110001009041   2  110001   2011      7  1100012011  20117\n",
       "934  110001009048   2  110001   2011      8  1100012011  20118\n",
       "950  110001009055   2  110001   2011      8  1100012011  20118\n",
       "963  110001009068   2  110001   2011      7  1100012011  20117"
      ]
     },
     "execution_count": 55,
     "metadata": {},
     "output_type": "execute_result"
    }
   ],
   "source": [
    "pp=p2[['牛号','胎次','场号','yearp','monthp','HYI','YMI']]\n",
    "pp.head()"
   ]
  },
  {
   "cell_type": "code",
   "execution_count": 56,
   "metadata": {},
   "outputs": [
    {
     "data": {
      "text/html": [
       "<div>\n",
       "<style scoped>\n",
       "    .dataframe tbody tr th:only-of-type {\n",
       "        vertical-align: middle;\n",
       "    }\n",
       "\n",
       "    .dataframe tbody tr th {\n",
       "        vertical-align: top;\n",
       "    }\n",
       "\n",
       "    .dataframe thead th {\n",
       "        text-align: right;\n",
       "    }\n",
       "</style>\n",
       "<table border=\"1\" class=\"dataframe\">\n",
       "  <thead>\n",
       "    <tr style=\"text-align: right;\">\n",
       "      <th></th>\n",
       "      <th>牛号</th>\n",
       "      <th>胎次</th>\n",
       "      <th>场号</th>\n",
       "      <th>yearc</th>\n",
       "      <th>monthc</th>\n",
       "      <th>HYC</th>\n",
       "      <th>YMC</th>\n",
       "    </tr>\n",
       "  </thead>\n",
       "  <tbody>\n",
       "    <tr>\n",
       "      <th>0</th>\n",
       "      <td>110001000001</td>\n",
       "      <td>1</td>\n",
       "      <td>110001</td>\n",
       "      <td>2002</td>\n",
       "      <td>1</td>\n",
       "      <td>1100012002</td>\n",
       "      <td>20021</td>\n",
       "    </tr>\n",
       "    <tr>\n",
       "      <th>1</th>\n",
       "      <td>110001000003</td>\n",
       "      <td>1</td>\n",
       "      <td>110001</td>\n",
       "      <td>2002</td>\n",
       "      <td>1</td>\n",
       "      <td>1100012002</td>\n",
       "      <td>20021</td>\n",
       "    </tr>\n",
       "    <tr>\n",
       "      <th>2</th>\n",
       "      <td>110001000006</td>\n",
       "      <td>1</td>\n",
       "      <td>110001</td>\n",
       "      <td>2002</td>\n",
       "      <td>3</td>\n",
       "      <td>1100012002</td>\n",
       "      <td>20023</td>\n",
       "    </tr>\n",
       "    <tr>\n",
       "      <th>3</th>\n",
       "      <td>110001000007</td>\n",
       "      <td>1</td>\n",
       "      <td>110001</td>\n",
       "      <td>2002</td>\n",
       "      <td>7</td>\n",
       "      <td>1100012002</td>\n",
       "      <td>20027</td>\n",
       "    </tr>\n",
       "    <tr>\n",
       "      <th>4</th>\n",
       "      <td>110001000008</td>\n",
       "      <td>1</td>\n",
       "      <td>110001</td>\n",
       "      <td>2002</td>\n",
       "      <td>3</td>\n",
       "      <td>1100012002</td>\n",
       "      <td>20023</td>\n",
       "    </tr>\n",
       "  </tbody>\n",
       "</table>\n",
       "</div>"
      ],
      "text/plain": [
       "             牛号  胎次      场号  yearc monthc         HYC    YMC\n",
       "0  110001000001   1  110001   2002      1  1100012002  20021\n",
       "1  110001000003   1  110001   2002      1  1100012002  20021\n",
       "2  110001000006   1  110001   2002      3  1100012002  20023\n",
       "3  110001000007   1  110001   2002      7  1100012002  20027\n",
       "4  110001000008   1  110001   2002      3  1100012002  20023"
      ]
     },
     "execution_count": 56,
     "metadata": {},
     "output_type": "execute_result"
    }
   ],
   "source": [
    "cc=c2[['牛号','胎次','场号','yearc','monthc','HYC','YMC']]\n",
    "cc.head()"
   ]
  },
  {
   "cell_type": "markdown",
   "metadata": {},
   "source": [
    "# 各个性状的提取"
   ]
  },
  {
   "cell_type": "markdown",
   "metadata": {},
   "source": [
    "## 初配日龄AFS"
   ]
  },
  {
   "cell_type": "markdown",
   "metadata": {},
   "source": [
    "初配日龄为青年牛性状，其意为每头牛首次配种的日期与其出生日期之差（单位：天）。计算时首先筛选出每头牛首次配种的时间，再与出生事件中各牛的出生日期相减即可。"
   ]
  },
  {
   "cell_type": "markdown",
   "metadata": {},
   "source": [
    "### 首次配种日期筛选"
   ]
  },
  {
   "cell_type": "code",
   "execution_count": 57,
   "metadata": {},
   "outputs": [],
   "source": [
    "cpp=cp2[['牛号','初配日期']]"
   ]
  },
  {
   "cell_type": "code",
   "execution_count": 58,
   "metadata": {},
   "outputs": [
    {
     "data": {
      "text/html": [
       "<div>\n",
       "<style scoped>\n",
       "    .dataframe tbody tr th:only-of-type {\n",
       "        vertical-align: middle;\n",
       "    }\n",
       "\n",
       "    .dataframe tbody tr th {\n",
       "        vertical-align: top;\n",
       "    }\n",
       "\n",
       "    .dataframe thead th {\n",
       "        text-align: right;\n",
       "    }\n",
       "</style>\n",
       "<table border=\"1\" class=\"dataframe\">\n",
       "  <thead>\n",
       "    <tr style=\"text-align: right;\">\n",
       "      <th></th>\n",
       "      <th>牛号</th>\n",
       "      <th>初配日期</th>\n",
       "    </tr>\n",
       "  </thead>\n",
       "  <tbody>\n",
       "    <tr>\n",
       "      <th>892</th>\n",
       "      <td>110001009001</td>\n",
       "      <td>2011/2/25</td>\n",
       "    </tr>\n",
       "    <tr>\n",
       "      <th>929</th>\n",
       "      <td>110001009041</td>\n",
       "      <td>2011/7/8</td>\n",
       "    </tr>\n",
       "    <tr>\n",
       "      <th>934</th>\n",
       "      <td>110001009048</td>\n",
       "      <td>2011/8/8</td>\n",
       "    </tr>\n",
       "    <tr>\n",
       "      <th>950</th>\n",
       "      <td>110001009055</td>\n",
       "      <td>2011/8/8</td>\n",
       "    </tr>\n",
       "    <tr>\n",
       "      <th>963</th>\n",
       "      <td>110001009068</td>\n",
       "      <td>2011/7/25</td>\n",
       "    </tr>\n",
       "  </tbody>\n",
       "</table>\n",
       "</div>"
      ],
      "text/plain": [
       "               牛号       初配日期\n",
       "892  110001009001  2011/2/25\n",
       "929  110001009041   2011/7/8\n",
       "934  110001009048   2011/8/8\n",
       "950  110001009055   2011/8/8\n",
       "963  110001009068  2011/7/25"
      ]
     },
     "execution_count": 58,
     "metadata": {},
     "output_type": "execute_result"
    }
   ],
   "source": [
    "cpp.head()"
   ]
  },
  {
   "cell_type": "markdown",
   "metadata": {},
   "source": [
    "### 出生日期筛选"
   ]
  },
  {
   "cell_type": "code",
   "execution_count": 59,
   "metadata": {},
   "outputs": [
    {
     "data": {
      "text/html": [
       "<div>\n",
       "<style scoped>\n",
       "    .dataframe tbody tr th:only-of-type {\n",
       "        vertical-align: middle;\n",
       "    }\n",
       "\n",
       "    .dataframe tbody tr th {\n",
       "        vertical-align: top;\n",
       "    }\n",
       "\n",
       "    .dataframe thead th {\n",
       "        text-align: right;\n",
       "    }\n",
       "</style>\n",
       "<table border=\"1\" class=\"dataframe\">\n",
       "  <thead>\n",
       "    <tr style=\"text-align: right;\">\n",
       "      <th></th>\n",
       "      <th>牛号</th>\n",
       "      <th>出生日期</th>\n",
       "    </tr>\n",
       "  </thead>\n",
       "  <tbody>\n",
       "    <tr>\n",
       "      <th>0</th>\n",
       "      <td>110001000001</td>\n",
       "      <td>2000/1/6</td>\n",
       "    </tr>\n",
       "    <tr>\n",
       "      <th>1</th>\n",
       "      <td>110001000003</td>\n",
       "      <td>2000/1/10</td>\n",
       "    </tr>\n",
       "    <tr>\n",
       "      <th>2</th>\n",
       "      <td>110001000006</td>\n",
       "      <td>2000/1/16</td>\n",
       "    </tr>\n",
       "    <tr>\n",
       "      <th>3</th>\n",
       "      <td>110001000007</td>\n",
       "      <td>2000/1/21</td>\n",
       "    </tr>\n",
       "    <tr>\n",
       "      <th>4</th>\n",
       "      <td>110001000008</td>\n",
       "      <td>2000/1/20</td>\n",
       "    </tr>\n",
       "  </tbody>\n",
       "</table>\n",
       "</div>"
      ],
      "text/plain": [
       "             牛号       出生日期\n",
       "0  110001000001   2000/1/6\n",
       "1  110001000003  2000/1/10\n",
       "2  110001000006  2000/1/16\n",
       "3  110001000007  2000/1/21\n",
       "4  110001000008  2000/1/20"
      ]
     },
     "execution_count": 59,
     "metadata": {},
     "output_type": "execute_result"
    }
   ],
   "source": [
    "b3=b2[['牛号','出生日期']]\n",
    "b3.head()"
   ]
  },
  {
   "cell_type": "markdown",
   "metadata": {},
   "source": [
    "### 计算AFS"
   ]
  },
  {
   "cell_type": "code",
   "execution_count": 60,
   "metadata": {},
   "outputs": [
    {
     "data": {
      "text/html": [
       "<div>\n",
       "<style scoped>\n",
       "    .dataframe tbody tr th:only-of-type {\n",
       "        vertical-align: middle;\n",
       "    }\n",
       "\n",
       "    .dataframe tbody tr th {\n",
       "        vertical-align: top;\n",
       "    }\n",
       "\n",
       "    .dataframe thead th {\n",
       "        text-align: right;\n",
       "    }\n",
       "</style>\n",
       "<table border=\"1\" class=\"dataframe\">\n",
       "  <thead>\n",
       "    <tr style=\"text-align: right;\">\n",
       "      <th></th>\n",
       "      <th>牛号</th>\n",
       "      <th>出生日期</th>\n",
       "      <th>初配日期</th>\n",
       "    </tr>\n",
       "  </thead>\n",
       "  <tbody>\n",
       "    <tr>\n",
       "      <th>0</th>\n",
       "      <td>110001009001</td>\n",
       "      <td>2009/1/6</td>\n",
       "      <td>2011/2/25</td>\n",
       "    </tr>\n",
       "    <tr>\n",
       "      <th>1</th>\n",
       "      <td>110001009041</td>\n",
       "      <td>2009/3/29</td>\n",
       "      <td>2011/7/8</td>\n",
       "    </tr>\n",
       "    <tr>\n",
       "      <th>2</th>\n",
       "      <td>110001009048</td>\n",
       "      <td>2009/4/6</td>\n",
       "      <td>2011/8/8</td>\n",
       "    </tr>\n",
       "    <tr>\n",
       "      <th>3</th>\n",
       "      <td>110001009055</td>\n",
       "      <td>2009/4/25</td>\n",
       "      <td>2011/8/8</td>\n",
       "    </tr>\n",
       "    <tr>\n",
       "      <th>4</th>\n",
       "      <td>110001009068</td>\n",
       "      <td>2009/5/15</td>\n",
       "      <td>2011/7/25</td>\n",
       "    </tr>\n",
       "  </tbody>\n",
       "</table>\n",
       "</div>"
      ],
      "text/plain": [
       "             牛号       出生日期       初配日期\n",
       "0  110001009001   2009/1/6  2011/2/25\n",
       "1  110001009041  2009/3/29   2011/7/8\n",
       "2  110001009048   2009/4/6   2011/8/8\n",
       "3  110001009055  2009/4/25   2011/8/8\n",
       "4  110001009068  2009/5/15  2011/7/25"
      ]
     },
     "execution_count": 60,
     "metadata": {},
     "output_type": "execute_result"
    }
   ],
   "source": [
    "bp=pd.merge(b3,cpp,on=\"牛号\")\n",
    "bp.head()"
   ]
  },
  {
   "cell_type": "code",
   "execution_count": 61,
   "metadata": {},
   "outputs": [
    {
     "data": {
      "text/html": [
       "<div>\n",
       "<style scoped>\n",
       "    .dataframe tbody tr th:only-of-type {\n",
       "        vertical-align: middle;\n",
       "    }\n",
       "\n",
       "    .dataframe tbody tr th {\n",
       "        vertical-align: top;\n",
       "    }\n",
       "\n",
       "    .dataframe thead th {\n",
       "        text-align: right;\n",
       "    }\n",
       "</style>\n",
       "<table border=\"1\" class=\"dataframe\">\n",
       "  <thead>\n",
       "    <tr style=\"text-align: right;\">\n",
       "      <th></th>\n",
       "      <th>牛号</th>\n",
       "      <th>胎次</th>\n",
       "      <th>初配日期</th>\n",
       "      <th>场号</th>\n",
       "      <th>yearp</th>\n",
       "      <th>monthp</th>\n",
       "      <th>YMI</th>\n",
       "      <th>HYI</th>\n",
       "    </tr>\n",
       "  </thead>\n",
       "  <tbody>\n",
       "    <tr>\n",
       "      <th>892</th>\n",
       "      <td>110001009001</td>\n",
       "      <td>2</td>\n",
       "      <td>2011/2/25</td>\n",
       "      <td>110001</td>\n",
       "      <td>2011</td>\n",
       "      <td>2</td>\n",
       "      <td>20112</td>\n",
       "      <td>1100012011</td>\n",
       "    </tr>\n",
       "    <tr>\n",
       "      <th>929</th>\n",
       "      <td>110001009041</td>\n",
       "      <td>2</td>\n",
       "      <td>2011/7/8</td>\n",
       "      <td>110001</td>\n",
       "      <td>2011</td>\n",
       "      <td>7</td>\n",
       "      <td>20117</td>\n",
       "      <td>1100012011</td>\n",
       "    </tr>\n",
       "    <tr>\n",
       "      <th>934</th>\n",
       "      <td>110001009048</td>\n",
       "      <td>2</td>\n",
       "      <td>2011/8/8</td>\n",
       "      <td>110001</td>\n",
       "      <td>2011</td>\n",
       "      <td>8</td>\n",
       "      <td>20118</td>\n",
       "      <td>1100012011</td>\n",
       "    </tr>\n",
       "    <tr>\n",
       "      <th>950</th>\n",
       "      <td>110001009055</td>\n",
       "      <td>2</td>\n",
       "      <td>2011/8/8</td>\n",
       "      <td>110001</td>\n",
       "      <td>2011</td>\n",
       "      <td>8</td>\n",
       "      <td>20118</td>\n",
       "      <td>1100012011</td>\n",
       "    </tr>\n",
       "    <tr>\n",
       "      <th>963</th>\n",
       "      <td>110001009068</td>\n",
       "      <td>2</td>\n",
       "      <td>2011/7/25</td>\n",
       "      <td>110001</td>\n",
       "      <td>2011</td>\n",
       "      <td>7</td>\n",
       "      <td>20117</td>\n",
       "      <td>1100012011</td>\n",
       "    </tr>\n",
       "  </tbody>\n",
       "</table>\n",
       "</div>"
      ],
      "text/plain": [
       "               牛号  胎次       初配日期      场号  yearp monthp    YMI         HYI\n",
       "892  110001009001   2  2011/2/25  110001   2011      2  20112  1100012011\n",
       "929  110001009041   2   2011/7/8  110001   2011      7  20117  1100012011\n",
       "934  110001009048   2   2011/8/8  110001   2011      8  20118  1100012011\n",
       "950  110001009055   2   2011/8/8  110001   2011      8  20118  1100012011\n",
       "963  110001009068   2  2011/7/25  110001   2011      7  20117  1100012011"
      ]
     },
     "execution_count": 61,
     "metadata": {},
     "output_type": "execute_result"
    }
   ],
   "source": [
    "cp2.head()"
   ]
  },
  {
   "cell_type": "code",
   "execution_count": 62,
   "metadata": {},
   "outputs": [
    {
     "data": {
      "text/html": [
       "<div>\n",
       "<style scoped>\n",
       "    .dataframe tbody tr th:only-of-type {\n",
       "        vertical-align: middle;\n",
       "    }\n",
       "\n",
       "    .dataframe tbody tr th {\n",
       "        vertical-align: top;\n",
       "    }\n",
       "\n",
       "    .dataframe thead th {\n",
       "        text-align: right;\n",
       "    }\n",
       "</style>\n",
       "<table border=\"1\" class=\"dataframe\">\n",
       "  <thead>\n",
       "    <tr style=\"text-align: right;\">\n",
       "      <th></th>\n",
       "      <th>牛号</th>\n",
       "      <th>出生日期</th>\n",
       "      <th>初配日期</th>\n",
       "    </tr>\n",
       "  </thead>\n",
       "  <tbody>\n",
       "    <tr>\n",
       "      <th>0</th>\n",
       "      <td>110001009001</td>\n",
       "      <td>2009-01-06</td>\n",
       "      <td>2011-02-25</td>\n",
       "    </tr>\n",
       "    <tr>\n",
       "      <th>1</th>\n",
       "      <td>110001009041</td>\n",
       "      <td>2009-03-29</td>\n",
       "      <td>2011-07-08</td>\n",
       "    </tr>\n",
       "    <tr>\n",
       "      <th>2</th>\n",
       "      <td>110001009048</td>\n",
       "      <td>2009-04-06</td>\n",
       "      <td>2011-08-08</td>\n",
       "    </tr>\n",
       "    <tr>\n",
       "      <th>3</th>\n",
       "      <td>110001009055</td>\n",
       "      <td>2009-04-25</td>\n",
       "      <td>2011-08-08</td>\n",
       "    </tr>\n",
       "    <tr>\n",
       "      <th>4</th>\n",
       "      <td>110001009068</td>\n",
       "      <td>2009-05-15</td>\n",
       "      <td>2011-07-25</td>\n",
       "    </tr>\n",
       "  </tbody>\n",
       "</table>\n",
       "</div>"
      ],
      "text/plain": [
       "             牛号       出生日期       初配日期\n",
       "0  110001009001 2009-01-06 2011-02-25\n",
       "1  110001009041 2009-03-29 2011-07-08\n",
       "2  110001009048 2009-04-06 2011-08-08\n",
       "3  110001009055 2009-04-25 2011-08-08\n",
       "4  110001009068 2009-05-15 2011-07-25"
      ]
     },
     "execution_count": 62,
     "metadata": {},
     "output_type": "execute_result"
    }
   ],
   "source": [
    "bp['出生日期']=pd.to_datetime(bp['出生日期'],format=\"%Y-%m-%d\")  #转换为日期格式\n",
    "bp['初配日期']=pd.to_datetime(bp['初配日期'],format=\"%Y-%m-%d\")\n",
    "AFS=bp\n",
    "AFS.head()"
   ]
  },
  {
   "cell_type": "code",
   "execution_count": 63,
   "metadata": {},
   "outputs": [
    {
     "data": {
      "text/plain": [
       "牛号      558963\n",
       "出生日期    558963\n",
       "初配日期    558963\n",
       "AFS     558963\n",
       "dtype: int64"
      ]
     },
     "execution_count": 63,
     "metadata": {},
     "output_type": "execute_result"
    }
   ],
   "source": [
    "AFS['AFS']=AFS['初配日期']-AFS['出生日期']\n",
    "AFS['AFS']=list(map(lambda s: s.days,AFS['AFS']))  ##timedelta通过.days提取出int格式整数\n",
    "AFS.count()"
   ]
  },
  {
   "cell_type": "code",
   "execution_count": 64,
   "metadata": {},
   "outputs": [],
   "source": [
    "AFSS=AFS[(AFS['AFS'] >=270)&(AFS['AFS'] <=900)]"
   ]
  },
  {
   "cell_type": "code",
   "execution_count": 65,
   "metadata": {},
   "outputs": [
    {
     "data": {
      "text/html": [
       "<div>\n",
       "<style scoped>\n",
       "    .dataframe tbody tr th:only-of-type {\n",
       "        vertical-align: middle;\n",
       "    }\n",
       "\n",
       "    .dataframe tbody tr th {\n",
       "        vertical-align: top;\n",
       "    }\n",
       "\n",
       "    .dataframe thead th {\n",
       "        text-align: right;\n",
       "    }\n",
       "</style>\n",
       "<table border=\"1\" class=\"dataframe\">\n",
       "  <thead>\n",
       "    <tr style=\"text-align: right;\">\n",
       "      <th></th>\n",
       "      <th>AFS</th>\n",
       "    </tr>\n",
       "  </thead>\n",
       "  <tbody>\n",
       "    <tr>\n",
       "      <th>count</th>\n",
       "      <td>356029.000000</td>\n",
       "    </tr>\n",
       "    <tr>\n",
       "      <th>mean</th>\n",
       "      <td>558.552250</td>\n",
       "    </tr>\n",
       "    <tr>\n",
       "      <th>std</th>\n",
       "      <td>153.289277</td>\n",
       "    </tr>\n",
       "    <tr>\n",
       "      <th>min</th>\n",
       "      <td>270.000000</td>\n",
       "    </tr>\n",
       "    <tr>\n",
       "      <th>25%</th>\n",
       "      <td>441.000000</td>\n",
       "    </tr>\n",
       "    <tr>\n",
       "      <th>50%</th>\n",
       "      <td>498.000000</td>\n",
       "    </tr>\n",
       "    <tr>\n",
       "      <th>75%</th>\n",
       "      <td>661.000000</td>\n",
       "    </tr>\n",
       "    <tr>\n",
       "      <th>max</th>\n",
       "      <td>900.000000</td>\n",
       "    </tr>\n",
       "  </tbody>\n",
       "</table>\n",
       "</div>"
      ],
      "text/plain": [
       "                 AFS\n",
       "count  356029.000000\n",
       "mean      558.552250\n",
       "std       153.289277\n",
       "min       270.000000\n",
       "25%       441.000000\n",
       "50%       498.000000\n",
       "75%       661.000000\n",
       "max       900.000000"
      ]
     },
     "execution_count": 65,
     "metadata": {},
     "output_type": "execute_result"
    }
   ],
   "source": [
    "AFSS.describe()"
   ]
  },
  {
   "cell_type": "code",
   "execution_count": 66,
   "metadata": {},
   "outputs": [
    {
     "data": {
      "text/html": [
       "<div>\n",
       "<style scoped>\n",
       "    .dataframe tbody tr th:only-of-type {\n",
       "        vertical-align: middle;\n",
       "    }\n",
       "\n",
       "    .dataframe tbody tr th {\n",
       "        vertical-align: top;\n",
       "    }\n",
       "\n",
       "    .dataframe thead th {\n",
       "        text-align: right;\n",
       "    }\n",
       "</style>\n",
       "<table border=\"1\" class=\"dataframe\">\n",
       "  <thead>\n",
       "    <tr style=\"text-align: right;\">\n",
       "      <th></th>\n",
       "      <th>牛号</th>\n",
       "      <th>出生日期</th>\n",
       "      <th>初配日期</th>\n",
       "      <th>AFS</th>\n",
       "    </tr>\n",
       "  </thead>\n",
       "  <tbody>\n",
       "    <tr>\n",
       "      <th>0</th>\n",
       "      <td>110001009001</td>\n",
       "      <td>2009-01-06</td>\n",
       "      <td>2011-02-25</td>\n",
       "      <td>780</td>\n",
       "    </tr>\n",
       "    <tr>\n",
       "      <th>1</th>\n",
       "      <td>110001009041</td>\n",
       "      <td>2009-03-29</td>\n",
       "      <td>2011-07-08</td>\n",
       "      <td>831</td>\n",
       "    </tr>\n",
       "    <tr>\n",
       "      <th>2</th>\n",
       "      <td>110001009048</td>\n",
       "      <td>2009-04-06</td>\n",
       "      <td>2011-08-08</td>\n",
       "      <td>854</td>\n",
       "    </tr>\n",
       "    <tr>\n",
       "      <th>3</th>\n",
       "      <td>110001009055</td>\n",
       "      <td>2009-04-25</td>\n",
       "      <td>2011-08-08</td>\n",
       "      <td>835</td>\n",
       "    </tr>\n",
       "    <tr>\n",
       "      <th>4</th>\n",
       "      <td>110001009068</td>\n",
       "      <td>2009-05-15</td>\n",
       "      <td>2011-07-25</td>\n",
       "      <td>801</td>\n",
       "    </tr>\n",
       "  </tbody>\n",
       "</table>\n",
       "</div>"
      ],
      "text/plain": [
       "             牛号       出生日期       初配日期  AFS\n",
       "0  110001009001 2009-01-06 2011-02-25  780\n",
       "1  110001009041 2009-03-29 2011-07-08  831\n",
       "2  110001009048 2009-04-06 2011-08-08  854\n",
       "3  110001009055 2009-04-25 2011-08-08  835\n",
       "4  110001009068 2009-05-15 2011-07-25  801"
      ]
     },
     "execution_count": 66,
     "metadata": {},
     "output_type": "execute_result"
    }
   ],
   "source": [
    "AFSS.head()"
   ]
  },
  {
   "cell_type": "code",
   "execution_count": 67,
   "metadata": {},
   "outputs": [],
   "source": [
    "AFSS1=AFSS[['牛号','AFS']]"
   ]
  },
  {
   "cell_type": "markdown",
   "metadata": {},
   "source": [
    "### 效应合并"
   ]
  },
  {
   "cell_type": "markdown",
   "metadata": {},
   "source": [
    "共整理出初配日龄521,727条数据，将性状数据与年月效应合并"
   ]
  },
  {
   "cell_type": "code",
   "execution_count": 68,
   "metadata": {},
   "outputs": [
    {
     "data": {
      "text/plain": [
       "牛号        558963\n",
       "出生日期      558963\n",
       "初配日期      558963\n",
       "AFS       558963\n",
       "场号        558963\n",
       "yearb     558963\n",
       "monthb    558963\n",
       "HYB       558963\n",
       "YMB       558963\n",
       "dtype: int64"
      ]
     },
     "execution_count": 68,
     "metadata": {},
     "output_type": "execute_result"
    }
   ],
   "source": [
    "AFS1=pd.merge(AFS,bb,on='牛号')\n",
    "AFS1.count()"
   ]
  },
  {
   "cell_type": "code",
   "execution_count": 69,
   "metadata": {},
   "outputs": [
    {
     "data": {
      "text/plain": [
       "牛号        398905\n",
       "出生日期      398905\n",
       "初配日期      398905\n",
       "AFS       398905\n",
       "场号        398905\n",
       "yearb     398905\n",
       "monthb    398905\n",
       "HYB       398905\n",
       "YMB       398905\n",
       "yearp     398905\n",
       "monthp    398905\n",
       "HYI       398905\n",
       "YMI       398905\n",
       "dtype: int64"
      ]
     },
     "execution_count": 69,
     "metadata": {},
     "output_type": "execute_result"
    }
   ],
   "source": [
    "cp3=cp2[['牛号','yearp','monthp','HYI','YMI']]\n",
    "AFS2=pd.merge(AFS1,cp3,on='牛号').drop_duplicates(subset=['牛号','HYB'],keep='first')\n",
    "AFS2.count()"
   ]
  },
  {
   "cell_type": "markdown",
   "metadata": {},
   "source": [
    "## 初产日龄AFC"
   ]
  },
  {
   "cell_type": "markdown",
   "metadata": {},
   "source": [
    "初产日龄为青年牛性状，当每头牛胎次为1时即为第一次产犊，产犊的日期与该牛出生日期之差（单位：天）即为初产日龄性状。\n",
    "\n",
    "计算方法：先从产犊事件中筛选出各牛最早的产犊日期，再与出生事件中各牛出生日期相减即可。"
   ]
  },
  {
   "cell_type": "markdown",
   "metadata": {},
   "source": [
    "### 初产日期筛选"
   ]
  },
  {
   "cell_type": "code",
   "execution_count": 70,
   "metadata": {},
   "outputs": [],
   "source": [
    "c3=c2['产犊日期'].groupby([c2['牛号']]).min()"
   ]
  },
  {
   "cell_type": "code",
   "execution_count": 71,
   "metadata": {},
   "outputs": [
    {
     "data": {
      "text/html": [
       "<div>\n",
       "<style scoped>\n",
       "    .dataframe tbody tr th:only-of-type {\n",
       "        vertical-align: middle;\n",
       "    }\n",
       "\n",
       "    .dataframe tbody tr th {\n",
       "        vertical-align: top;\n",
       "    }\n",
       "\n",
       "    .dataframe thead th {\n",
       "        text-align: right;\n",
       "    }\n",
       "</style>\n",
       "<table border=\"1\" class=\"dataframe\">\n",
       "  <thead>\n",
       "    <tr style=\"text-align: right;\">\n",
       "      <th></th>\n",
       "      <th>产犊日期</th>\n",
       "    </tr>\n",
       "    <tr>\n",
       "      <th>牛号</th>\n",
       "      <th></th>\n",
       "    </tr>\n",
       "  </thead>\n",
       "  <tbody>\n",
       "    <tr>\n",
       "      <th>110001000001</th>\n",
       "      <td>2002/1/19</td>\n",
       "    </tr>\n",
       "    <tr>\n",
       "      <th>110001000003</th>\n",
       "      <td>2002/1/18</td>\n",
       "    </tr>\n",
       "    <tr>\n",
       "      <th>110001000006</th>\n",
       "      <td>2002/3/25</td>\n",
       "    </tr>\n",
       "    <tr>\n",
       "      <th>110001000007</th>\n",
       "      <td>2002/7/12</td>\n",
       "    </tr>\n",
       "    <tr>\n",
       "      <th>110001000008</th>\n",
       "      <td>2002/3/4</td>\n",
       "    </tr>\n",
       "  </tbody>\n",
       "</table>\n",
       "</div>"
      ],
      "text/plain": [
       "                   产犊日期\n",
       "牛号                     \n",
       "110001000001  2002/1/19\n",
       "110001000003  2002/1/18\n",
       "110001000006  2002/3/25\n",
       "110001000007  2002/7/12\n",
       "110001000008   2002/3/4"
      ]
     },
     "execution_count": 71,
     "metadata": {},
     "output_type": "execute_result"
    }
   ],
   "source": [
    "c4=pd.DataFrame(c3)\n",
    "c4.head()"
   ]
  },
  {
   "cell_type": "markdown",
   "metadata": {},
   "source": [
    "### 与出生日期配对并计算AFC"
   ]
  },
  {
   "cell_type": "code",
   "execution_count": 72,
   "metadata": {},
   "outputs": [
    {
     "data": {
      "text/html": [
       "<div>\n",
       "<style scoped>\n",
       "    .dataframe tbody tr th:only-of-type {\n",
       "        vertical-align: middle;\n",
       "    }\n",
       "\n",
       "    .dataframe tbody tr th {\n",
       "        vertical-align: top;\n",
       "    }\n",
       "\n",
       "    .dataframe thead th {\n",
       "        text-align: right;\n",
       "    }\n",
       "</style>\n",
       "<table border=\"1\" class=\"dataframe\">\n",
       "  <thead>\n",
       "    <tr style=\"text-align: right;\">\n",
       "      <th></th>\n",
       "      <th>牛号</th>\n",
       "      <th>出生日期</th>\n",
       "      <th>产犊日期</th>\n",
       "    </tr>\n",
       "  </thead>\n",
       "  <tbody>\n",
       "    <tr>\n",
       "      <th>0</th>\n",
       "      <td>110001000001</td>\n",
       "      <td>2000/1/6</td>\n",
       "      <td>2002/1/19</td>\n",
       "    </tr>\n",
       "    <tr>\n",
       "      <th>1</th>\n",
       "      <td>110001000003</td>\n",
       "      <td>2000/1/10</td>\n",
       "      <td>2002/1/18</td>\n",
       "    </tr>\n",
       "    <tr>\n",
       "      <th>2</th>\n",
       "      <td>110001000006</td>\n",
       "      <td>2000/1/16</td>\n",
       "      <td>2002/3/25</td>\n",
       "    </tr>\n",
       "    <tr>\n",
       "      <th>3</th>\n",
       "      <td>110001000007</td>\n",
       "      <td>2000/1/21</td>\n",
       "      <td>2002/7/12</td>\n",
       "    </tr>\n",
       "    <tr>\n",
       "      <th>4</th>\n",
       "      <td>110001000008</td>\n",
       "      <td>2000/1/20</td>\n",
       "      <td>2002/3/4</td>\n",
       "    </tr>\n",
       "  </tbody>\n",
       "</table>\n",
       "</div>"
      ],
      "text/plain": [
       "             牛号       出生日期       产犊日期\n",
       "0  110001000001   2000/1/6  2002/1/19\n",
       "1  110001000003  2000/1/10  2002/1/18\n",
       "2  110001000006  2000/1/16  2002/3/25\n",
       "3  110001000007  2000/1/21  2002/7/12\n",
       "4  110001000008  2000/1/20   2002/3/4"
      ]
     },
     "execution_count": 72,
     "metadata": {},
     "output_type": "execute_result"
    }
   ],
   "source": [
    "bc=pd.merge(b3,c4,left_on='牛号',right_index=True,how='left')\n",
    "bc.head()"
   ]
  },
  {
   "cell_type": "code",
   "execution_count": 73,
   "metadata": {},
   "outputs": [
    {
     "data": {
      "text/html": [
       "<div>\n",
       "<style scoped>\n",
       "    .dataframe tbody tr th:only-of-type {\n",
       "        vertical-align: middle;\n",
       "    }\n",
       "\n",
       "    .dataframe tbody tr th {\n",
       "        vertical-align: top;\n",
       "    }\n",
       "\n",
       "    .dataframe thead th {\n",
       "        text-align: right;\n",
       "    }\n",
       "</style>\n",
       "<table border=\"1\" class=\"dataframe\">\n",
       "  <thead>\n",
       "    <tr style=\"text-align: right;\">\n",
       "      <th></th>\n",
       "      <th>牛号</th>\n",
       "      <th>出生日期</th>\n",
       "      <th>产犊日期</th>\n",
       "    </tr>\n",
       "  </thead>\n",
       "  <tbody>\n",
       "    <tr>\n",
       "      <th>0</th>\n",
       "      <td>110001000001</td>\n",
       "      <td>2000-01-06</td>\n",
       "      <td>2002-01-19</td>\n",
       "    </tr>\n",
       "    <tr>\n",
       "      <th>1</th>\n",
       "      <td>110001000003</td>\n",
       "      <td>2000-01-10</td>\n",
       "      <td>2002-01-18</td>\n",
       "    </tr>\n",
       "    <tr>\n",
       "      <th>2</th>\n",
       "      <td>110001000006</td>\n",
       "      <td>2000-01-16</td>\n",
       "      <td>2002-03-25</td>\n",
       "    </tr>\n",
       "    <tr>\n",
       "      <th>3</th>\n",
       "      <td>110001000007</td>\n",
       "      <td>2000-01-21</td>\n",
       "      <td>2002-07-12</td>\n",
       "    </tr>\n",
       "    <tr>\n",
       "      <th>4</th>\n",
       "      <td>110001000008</td>\n",
       "      <td>2000-01-20</td>\n",
       "      <td>2002-03-04</td>\n",
       "    </tr>\n",
       "  </tbody>\n",
       "</table>\n",
       "</div>"
      ],
      "text/plain": [
       "             牛号       出生日期       产犊日期\n",
       "0  110001000001 2000-01-06 2002-01-19\n",
       "1  110001000003 2000-01-10 2002-01-18\n",
       "2  110001000006 2000-01-16 2002-03-25\n",
       "3  110001000007 2000-01-21 2002-07-12\n",
       "4  110001000008 2000-01-20 2002-03-04"
      ]
     },
     "execution_count": 73,
     "metadata": {},
     "output_type": "execute_result"
    }
   ],
   "source": [
    "bc['出生日期']=pd.to_datetime(bc['出生日期'],format=\"%Y-%m-%d\")\n",
    "bc['产犊日期']=pd.to_datetime(bc['产犊日期'],format=\"%Y-%m-%d\")\n",
    "AFC=bc\n",
    "AFC.head()"
   ]
  },
  {
   "cell_type": "code",
   "execution_count": 74,
   "metadata": {},
   "outputs": [
    {
     "data": {
      "text/plain": [
       "牛号      2786869\n",
       "出生日期    2786869\n",
       "产犊日期    2786103\n",
       "AFC     2786103\n",
       "dtype: int64"
      ]
     },
     "execution_count": 74,
     "metadata": {},
     "output_type": "execute_result"
    }
   ],
   "source": [
    "AFC['AFC']=AFC['产犊日期']-AFC['出生日期']\n",
    "AFC['AFC']=list(map(lambda s: s.days,AFC['AFC']))  ##timedelta通过.days提取出int格式整数\n",
    "AFC.count()"
   ]
  },
  {
   "cell_type": "code",
   "execution_count": 75,
   "metadata": {},
   "outputs": [],
   "source": [
    "AFCC=AFC[(AFC['AFC'] >=600)&(AFC['AFC'] <=1100)]"
   ]
  },
  {
   "cell_type": "code",
   "execution_count": 76,
   "metadata": {},
   "outputs": [],
   "source": [
    "AFCC1=AFCC[['牛号','AFC']]"
   ]
  },
  {
   "cell_type": "code",
   "execution_count": 77,
   "metadata": {},
   "outputs": [
    {
     "data": {
      "text/plain": [
       "牛号     2048679\n",
       "AFC    2048679\n",
       "dtype: int64"
      ]
     },
     "execution_count": 77,
     "metadata": {},
     "output_type": "execute_result"
    }
   ],
   "source": [
    "AFCC1.count()"
   ]
  },
  {
   "cell_type": "markdown",
   "metadata": {},
   "source": [
    "### 效应合并"
   ]
  },
  {
   "cell_type": "markdown",
   "metadata": {},
   "source": [
    "共获得AFC数据2,151,811条，将其与对应年月效应合并"
   ]
  },
  {
   "cell_type": "code",
   "execution_count": 78,
   "metadata": {},
   "outputs": [
    {
     "data": {
      "text/plain": [
       "牛号        2786869\n",
       "出生日期      2786869\n",
       "产犊日期      2786103\n",
       "AFC       2786103\n",
       "场号        2786869\n",
       "yearb     2786869\n",
       "monthb    2786869\n",
       "HYB       2786869\n",
       "YMB       2786869\n",
       "dtype: int64"
      ]
     },
     "execution_count": 78,
     "metadata": {},
     "output_type": "execute_result"
    }
   ],
   "source": [
    "AFC1=pd.merge(AFC,bb,on='牛号')\n",
    "AFC1.count()"
   ]
  },
  {
   "cell_type": "code",
   "execution_count": 79,
   "metadata": {},
   "outputs": [
    {
     "data": {
      "text/plain": [
       "牛号        2786103\n",
       "出生日期      2786103\n",
       "产犊日期      2786103\n",
       "AFC       2786103\n",
       "场号        2786103\n",
       "yearb     2786103\n",
       "monthb    2786103\n",
       "HYB       2786103\n",
       "YMB       2786103\n",
       "yearc     2786103\n",
       "monthc    2786103\n",
       "HYC       2786103\n",
       "YMC       2786103\n",
       "dtype: int64"
      ]
     },
     "execution_count": 79,
     "metadata": {},
     "output_type": "execute_result"
    }
   ],
   "source": [
    "cch=c2[['牛号','yearc','monthc','HYC','YMC']]\n",
    "AFC2=pd.merge(AFC1,cch,on='牛号').drop_duplicates(subset=['牛号','HYB'],keep='first')\n",
    "AFC2.count()"
   ]
  },
  {
   "cell_type": "markdown",
   "metadata": {},
   "source": [
    "## 产后首次配种间隔ICF"
   ]
  },
  {
   "cell_type": "markdown",
   "metadata": {},
   "source": [
    "产后首次配种间隔是经产牛性状，其计算需要每头牛每个胎次的首次配种时间，以及各个胎次对应的产犊时间，利用首次配种时间与产犊时间相减即可得到ICF。"
   ]
  },
  {
   "cell_type": "markdown",
   "metadata": {},
   "source": [
    "### 各胎次产犊时间的筛选"
   ]
  },
  {
   "cell_type": "code",
   "execution_count": 80,
   "metadata": {},
   "outputs": [
    {
     "name": "stderr",
     "output_type": "stream",
     "text": [
      "E:\\Anaconda\\lib\\site-packages\\ipykernel_launcher.py:3: SettingWithCopyWarning: \n",
      "A value is trying to be set on a copy of a slice from a DataFrame.\n",
      "Try using .loc[row_indexer,col_indexer] = value instead\n",
      "\n",
      "See the caveats in the documentation: http://pandas.pydata.org/pandas-docs/stable/indexing.html#indexing-view-versus-copy\n",
      "  This is separate from the ipykernel package so we can avoid doing imports until\n"
     ]
    }
   ],
   "source": [
    "c5=c2[['牛号','胎次','产犊日期']]\n",
    "c6=c5\n",
    "c6['胎次']=list(map(lambda s: str(s),c6['胎次']))  #胎次数据转化为字符串便于处理"
   ]
  },
  {
   "cell_type": "code",
   "execution_count": 81,
   "metadata": {
    "scrolled": true
   },
   "outputs": [
    {
     "name": "stderr",
     "output_type": "stream",
     "text": [
      "E:\\Anaconda\\lib\\site-packages\\ipykernel_launcher.py:1: SettingWithCopyWarning: \n",
      "A value is trying to be set on a copy of a slice from a DataFrame.\n",
      "Try using .loc[row_indexer,col_indexer] = value instead\n",
      "\n",
      "See the caveats in the documentation: http://pandas.pydata.org/pandas-docs/stable/indexing.html#indexing-view-versus-copy\n",
      "  \"\"\"Entry point for launching an IPython kernel.\n"
     ]
    },
    {
     "data": {
      "text/html": [
       "<div>\n",
       "<style scoped>\n",
       "    .dataframe tbody tr th:only-of-type {\n",
       "        vertical-align: middle;\n",
       "    }\n",
       "\n",
       "    .dataframe tbody tr th {\n",
       "        vertical-align: top;\n",
       "    }\n",
       "\n",
       "    .dataframe thead th {\n",
       "        text-align: right;\n",
       "    }\n",
       "</style>\n",
       "<table border=\"1\" class=\"dataframe\">\n",
       "  <thead>\n",
       "    <tr style=\"text-align: right;\">\n",
       "      <th></th>\n",
       "      <th>牛号</th>\n",
       "      <th>胎次</th>\n",
       "      <th>产犊日期</th>\n",
       "      <th>cowtai</th>\n",
       "    </tr>\n",
       "  </thead>\n",
       "  <tbody>\n",
       "    <tr>\n",
       "      <th>0</th>\n",
       "      <td>110001000001</td>\n",
       "      <td>1</td>\n",
       "      <td>2002/1/19</td>\n",
       "      <td>110001000001.1</td>\n",
       "    </tr>\n",
       "    <tr>\n",
       "      <th>1</th>\n",
       "      <td>110001000003</td>\n",
       "      <td>1</td>\n",
       "      <td>2002/1/18</td>\n",
       "      <td>110001000003.1</td>\n",
       "    </tr>\n",
       "    <tr>\n",
       "      <th>2</th>\n",
       "      <td>110001000006</td>\n",
       "      <td>1</td>\n",
       "      <td>2002/3/25</td>\n",
       "      <td>110001000006.1</td>\n",
       "    </tr>\n",
       "    <tr>\n",
       "      <th>3</th>\n",
       "      <td>110001000007</td>\n",
       "      <td>1</td>\n",
       "      <td>2002/7/12</td>\n",
       "      <td>110001000007.1</td>\n",
       "    </tr>\n",
       "    <tr>\n",
       "      <th>4</th>\n",
       "      <td>110001000008</td>\n",
       "      <td>1</td>\n",
       "      <td>2002/3/4</td>\n",
       "      <td>110001000008.1</td>\n",
       "    </tr>\n",
       "  </tbody>\n",
       "</table>\n",
       "</div>"
      ],
      "text/plain": [
       "             牛号 胎次       产犊日期          cowtai\n",
       "0  110001000001  1  2002/1/19  110001000001.1\n",
       "1  110001000003  1  2002/1/18  110001000003.1\n",
       "2  110001000006  1  2002/3/25  110001000006.1\n",
       "3  110001000007  1  2002/7/12  110001000007.1\n",
       "4  110001000008  1   2002/3/4  110001000008.1"
      ]
     },
     "execution_count": 81,
     "metadata": {},
     "output_type": "execute_result"
    }
   ],
   "source": [
    "c6['cowtai']=c6['牛号']+'.'+c6['胎次']\n",
    "c6.head()"
   ]
  },
  {
   "cell_type": "markdown",
   "metadata": {},
   "source": [
    "### 各胎次首次配种时间筛选"
   ]
  },
  {
   "cell_type": "code",
   "execution_count": 82,
   "metadata": {},
   "outputs": [
    {
     "name": "stderr",
     "output_type": "stream",
     "text": [
      "E:\\Anaconda\\lib\\site-packages\\ipykernel_launcher.py:3: SettingWithCopyWarning: \n",
      "A value is trying to be set on a copy of a slice from a DataFrame.\n",
      "Try using .loc[row_indexer,col_indexer] = value instead\n",
      "\n",
      "See the caveats in the documentation: http://pandas.pydata.org/pandas-docs/stable/indexing.html#indexing-view-versus-copy\n",
      "  This is separate from the ipykernel package so we can avoid doing imports until\n"
     ]
    }
   ],
   "source": [
    "cp3=cp2[['牛号','胎次','初配日期']]\n",
    "cp4=cp3\n",
    "cp4['胎次']=list(map(lambda s: str(s),cp4['胎次']))"
   ]
  },
  {
   "cell_type": "code",
   "execution_count": 83,
   "metadata": {},
   "outputs": [
    {
     "name": "stderr",
     "output_type": "stream",
     "text": [
      "E:\\Anaconda\\lib\\site-packages\\ipykernel_launcher.py:1: SettingWithCopyWarning: \n",
      "A value is trying to be set on a copy of a slice from a DataFrame.\n",
      "Try using .loc[row_indexer,col_indexer] = value instead\n",
      "\n",
      "See the caveats in the documentation: http://pandas.pydata.org/pandas-docs/stable/indexing.html#indexing-view-versus-copy\n",
      "  \"\"\"Entry point for launching an IPython kernel.\n"
     ]
    },
    {
     "data": {
      "text/html": [
       "<div>\n",
       "<style scoped>\n",
       "    .dataframe tbody tr th:only-of-type {\n",
       "        vertical-align: middle;\n",
       "    }\n",
       "\n",
       "    .dataframe tbody tr th {\n",
       "        vertical-align: top;\n",
       "    }\n",
       "\n",
       "    .dataframe thead th {\n",
       "        text-align: right;\n",
       "    }\n",
       "</style>\n",
       "<table border=\"1\" class=\"dataframe\">\n",
       "  <thead>\n",
       "    <tr style=\"text-align: right;\">\n",
       "      <th></th>\n",
       "      <th>牛号</th>\n",
       "      <th>胎次</th>\n",
       "      <th>初配日期</th>\n",
       "      <th>cowtai</th>\n",
       "    </tr>\n",
       "  </thead>\n",
       "  <tbody>\n",
       "    <tr>\n",
       "      <th>892</th>\n",
       "      <td>110001009001</td>\n",
       "      <td>2</td>\n",
       "      <td>2011/2/25</td>\n",
       "      <td>110001009001.2</td>\n",
       "    </tr>\n",
       "    <tr>\n",
       "      <th>929</th>\n",
       "      <td>110001009041</td>\n",
       "      <td>2</td>\n",
       "      <td>2011/7/8</td>\n",
       "      <td>110001009041.2</td>\n",
       "    </tr>\n",
       "    <tr>\n",
       "      <th>934</th>\n",
       "      <td>110001009048</td>\n",
       "      <td>2</td>\n",
       "      <td>2011/8/8</td>\n",
       "      <td>110001009048.2</td>\n",
       "    </tr>\n",
       "    <tr>\n",
       "      <th>950</th>\n",
       "      <td>110001009055</td>\n",
       "      <td>2</td>\n",
       "      <td>2011/8/8</td>\n",
       "      <td>110001009055.2</td>\n",
       "    </tr>\n",
       "    <tr>\n",
       "      <th>963</th>\n",
       "      <td>110001009068</td>\n",
       "      <td>2</td>\n",
       "      <td>2011/7/25</td>\n",
       "      <td>110001009068.2</td>\n",
       "    </tr>\n",
       "  </tbody>\n",
       "</table>\n",
       "</div>"
      ],
      "text/plain": [
       "               牛号 胎次       初配日期          cowtai\n",
       "892  110001009001  2  2011/2/25  110001009001.2\n",
       "929  110001009041  2   2011/7/8  110001009041.2\n",
       "934  110001009048  2   2011/8/8  110001009048.2\n",
       "950  110001009055  2   2011/8/8  110001009055.2\n",
       "963  110001009068  2  2011/7/25  110001009068.2"
      ]
     },
     "execution_count": 83,
     "metadata": {},
     "output_type": "execute_result"
    }
   ],
   "source": [
    "cp4['cowtai']=cp4['牛号']+'.'+cp4['胎次']\n",
    "cp4.head()"
   ]
  },
  {
   "cell_type": "code",
   "execution_count": 84,
   "metadata": {
    "scrolled": true
   },
   "outputs": [
    {
     "name": "stderr",
     "output_type": "stream",
     "text": [
      "E:\\Anaconda\\lib\\site-packages\\ipykernel_launcher.py:2: SettingWithCopyWarning: \n",
      "A value is trying to be set on a copy of a slice from a DataFrame.\n",
      "Try using .loc[row_indexer,col_indexer] = value instead\n",
      "\n",
      "See the caveats in the documentation: http://pandas.pydata.org/pandas-docs/stable/indexing.html#indexing-view-versus-copy\n",
      "  \n"
     ]
    }
   ],
   "source": [
    "cp6=cp4\n",
    "cp6['初配日期']=pd.to_datetime(cp6['初配日期'],format=\"%Y-%m-%d\")"
   ]
  },
  {
   "cell_type": "markdown",
   "metadata": {},
   "source": [
    "### 配种次数数据集验证"
   ]
  },
  {
   "cell_type": "markdown",
   "metadata": {},
   "source": [
    "#### 胎次数据筛选"
   ]
  },
  {
   "cell_type": "code",
   "execution_count": 85,
   "metadata": {},
   "outputs": [
    {
     "name": "stderr",
     "output_type": "stream",
     "text": [
      "E:\\Anaconda\\lib\\site-packages\\ipykernel_launcher.py:2: SettingWithCopyWarning: \n",
      "A value is trying to be set on a copy of a slice from a DataFrame.\n",
      "Try using .loc[row_indexer,col_indexer] = value instead\n",
      "\n",
      "See the caveats in the documentation: http://pandas.pydata.org/pandas-docs/stable/indexing.html#indexing-view-versus-copy\n",
      "  \n"
     ]
    }
   ],
   "source": [
    "pc3=pc2\n",
    "pc3['胎次']=list(map(lambda s: int(s),pc3['胎次']))"
   ]
  },
  {
   "cell_type": "code",
   "execution_count": 86,
   "metadata": {},
   "outputs": [],
   "source": [
    "pc4=pc3\n",
    "pc4=pc4[(pc4['胎次'] >=0)&(pc4['胎次'] <=12)]"
   ]
  },
  {
   "cell_type": "code",
   "execution_count": 87,
   "metadata": {},
   "outputs": [
    {
     "data": {
      "text/plain": [
       "<matplotlib.axes._subplots.AxesSubplot at 0x1db7ff648d0>"
      ]
     },
     "execution_count": 87,
     "metadata": {},
     "output_type": "execute_result"
    },
    {
     "data": {
      "image/png": "[encoded data removed]",
      "text/plain": [
       "<matplotlib.figure.Figure at 0x1da804e56d8>"
      ]
     },
     "metadata": {},
     "output_type": "display_data"
    }
   ],
   "source": [
    "sns.countplot(x='胎次',data=pc4)"
   ]
  },
  {
   "cell_type": "code",
   "execution_count": 88,
   "metadata": {},
   "outputs": [
    {
     "name": "stderr",
     "output_type": "stream",
     "text": [
      "E:\\Anaconda\\lib\\site-packages\\ipykernel_launcher.py:2: SettingWithCopyWarning: \n",
      "A value is trying to be set on a copy of a slice from a DataFrame.\n",
      "Try using .loc[row_indexer,col_indexer] = value instead\n",
      "\n",
      "See the caveats in the documentation: http://pandas.pydata.org/pandas-docs/stable/indexing.html#indexing-view-versus-copy\n",
      "  \n"
     ]
    }
   ],
   "source": [
    "c7=c6\n",
    "c7['胎次']=list(map(lambda s: int(s),c7['胎次']))"
   ]
  },
  {
   "cell_type": "code",
   "execution_count": 89,
   "metadata": {},
   "outputs": [],
   "source": [
    "c8=c7\n",
    "c8=c8[(c8['胎次'] >=1)&(c8['胎次'] <=12)]"
   ]
  },
  {
   "cell_type": "code",
   "execution_count": 90,
   "metadata": {},
   "outputs": [
    {
     "data": {
      "text/plain": [
       "<matplotlib.axes._subplots.AxesSubplot at 0x1db7e5683c8>"
      ]
     },
     "execution_count": 90,
     "metadata": {},
     "output_type": "execute_result"
    },
    {
     "data": {
      "image/png": "[encoded data removed]",
      "text/plain": [
       "<matplotlib.figure.Figure at 0x1da804ebe10>"
      ]
     },
     "metadata": {},
     "output_type": "display_data"
    }
   ],
   "source": [
    "sns.countplot(x='胎次',data=c8)"
   ]
  },
  {
   "cell_type": "code",
   "execution_count": 91,
   "metadata": {},
   "outputs": [
    {
     "data": {
      "text/plain": [
       "牛号        26\n",
       "胎次        26\n",
       "产犊日期      26\n",
       "cowtai    26\n",
       "dtype: int64"
      ]
     },
     "execution_count": 91,
     "metadata": {},
     "output_type": "execute_result"
    }
   ],
   "source": [
    "c9=c7[c7['胎次']==0]\n",
    "c9.count()"
   ]
  },
  {
   "cell_type": "markdown",
   "metadata": {},
   "source": [
    "#### 产犊与配次数据匹配"
   ]
  },
  {
   "cell_type": "code",
   "execution_count": 92,
   "metadata": {},
   "outputs": [
    {
     "name": "stderr",
     "output_type": "stream",
     "text": [
      "E:\\Anaconda\\lib\\site-packages\\ipykernel_launcher.py:2: SettingWithCopyWarning: \n",
      "A value is trying to be set on a copy of a slice from a DataFrame.\n",
      "Try using .loc[row_indexer,col_indexer] = value instead\n",
      "\n",
      "See the caveats in the documentation: http://pandas.pydata.org/pandas-docs/stable/indexing.html#indexing-view-versus-copy\n",
      "  \n"
     ]
    }
   ],
   "source": [
    "c10=c8\n",
    "c10['胎次']=list(map(lambda s: str(s),c10['胎次']))"
   ]
  },
  {
   "cell_type": "code",
   "execution_count": 93,
   "metadata": {
    "scrolled": true
   },
   "outputs": [
    {
     "name": "stderr",
     "output_type": "stream",
     "text": [
      "E:\\Anaconda\\lib\\site-packages\\ipykernel_launcher.py:1: SettingWithCopyWarning: \n",
      "A value is trying to be set on a copy of a slice from a DataFrame.\n",
      "Try using .loc[row_indexer,col_indexer] = value instead\n",
      "\n",
      "See the caveats in the documentation: http://pandas.pydata.org/pandas-docs/stable/indexing.html#indexing-view-versus-copy\n",
      "  \"\"\"Entry point for launching an IPython kernel.\n"
     ]
    },
    {
     "data": {
      "text/html": [
       "<div>\n",
       "<style scoped>\n",
       "    .dataframe tbody tr th:only-of-type {\n",
       "        vertical-align: middle;\n",
       "    }\n",
       "\n",
       "    .dataframe tbody tr th {\n",
       "        vertical-align: top;\n",
       "    }\n",
       "\n",
       "    .dataframe thead th {\n",
       "        text-align: right;\n",
       "    }\n",
       "</style>\n",
       "<table border=\"1\" class=\"dataframe\">\n",
       "  <thead>\n",
       "    <tr style=\"text-align: right;\">\n",
       "      <th></th>\n",
       "      <th>牛号</th>\n",
       "      <th>胎次</th>\n",
       "      <th>产犊日期</th>\n",
       "      <th>cowtai</th>\n",
       "    </tr>\n",
       "  </thead>\n",
       "  <tbody>\n",
       "    <tr>\n",
       "      <th>0</th>\n",
       "      <td>110001000001</td>\n",
       "      <td>1</td>\n",
       "      <td>2002/1/19</td>\n",
       "      <td>110001000001.1</td>\n",
       "    </tr>\n",
       "    <tr>\n",
       "      <th>1</th>\n",
       "      <td>110001000003</td>\n",
       "      <td>1</td>\n",
       "      <td>2002/1/18</td>\n",
       "      <td>110001000003.1</td>\n",
       "    </tr>\n",
       "    <tr>\n",
       "      <th>2</th>\n",
       "      <td>110001000006</td>\n",
       "      <td>1</td>\n",
       "      <td>2002/3/25</td>\n",
       "      <td>110001000006.1</td>\n",
       "    </tr>\n",
       "    <tr>\n",
       "      <th>3</th>\n",
       "      <td>110001000007</td>\n",
       "      <td>1</td>\n",
       "      <td>2002/7/12</td>\n",
       "      <td>110001000007.1</td>\n",
       "    </tr>\n",
       "    <tr>\n",
       "      <th>4</th>\n",
       "      <td>110001000008</td>\n",
       "      <td>1</td>\n",
       "      <td>2002/3/4</td>\n",
       "      <td>110001000008.1</td>\n",
       "    </tr>\n",
       "  </tbody>\n",
       "</table>\n",
       "</div>"
      ],
      "text/plain": [
       "             牛号 胎次       产犊日期          cowtai\n",
       "0  110001000001  1  2002/1/19  110001000001.1\n",
       "1  110001000003  1  2002/1/18  110001000003.1\n",
       "2  110001000006  1  2002/3/25  110001000006.1\n",
       "3  110001000007  1  2002/7/12  110001000007.1\n",
       "4  110001000008  1   2002/3/4  110001000008.1"
      ]
     },
     "execution_count": 93,
     "metadata": {},
     "output_type": "execute_result"
    }
   ],
   "source": [
    "c10['cowtai']=c10['牛号']+'.'+c10['胎次']\n",
    "c10.head()"
   ]
  },
  {
   "cell_type": "code",
   "execution_count": 94,
   "metadata": {},
   "outputs": [
    {
     "name": "stderr",
     "output_type": "stream",
     "text": [
      "E:\\Anaconda\\lib\\site-packages\\ipykernel_launcher.py:2: SettingWithCopyWarning: \n",
      "A value is trying to be set on a copy of a slice from a DataFrame.\n",
      "Try using .loc[row_indexer,col_indexer] = value instead\n",
      "\n",
      "See the caveats in the documentation: http://pandas.pydata.org/pandas-docs/stable/indexing.html#indexing-view-versus-copy\n",
      "  \n"
     ]
    }
   ],
   "source": [
    "pc5=pc4\n",
    "pc5['胎次']=list(map(lambda s: str(s),pc5['胎次']))"
   ]
  },
  {
   "cell_type": "code",
   "execution_count": 95,
   "metadata": {},
   "outputs": [
    {
     "name": "stderr",
     "output_type": "stream",
     "text": [
      "E:\\Anaconda\\lib\\site-packages\\ipykernel_launcher.py:1: SettingWithCopyWarning: \n",
      "A value is trying to be set on a copy of a slice from a DataFrame.\n",
      "Try using .loc[row_indexer,col_indexer] = value instead\n",
      "\n",
      "See the caveats in the documentation: http://pandas.pydata.org/pandas-docs/stable/indexing.html#indexing-view-versus-copy\n",
      "  \"\"\"Entry point for launching an IPython kernel.\n"
     ]
    },
    {
     "data": {
      "text/html": [
       "<div>\n",
       "<style scoped>\n",
       "    .dataframe tbody tr th:only-of-type {\n",
       "        vertical-align: middle;\n",
       "    }\n",
       "\n",
       "    .dataframe tbody tr th {\n",
       "        vertical-align: top;\n",
       "    }\n",
       "\n",
       "    .dataframe thead th {\n",
       "        text-align: right;\n",
       "    }\n",
       "</style>\n",
       "<table border=\"1\" class=\"dataframe\">\n",
       "  <thead>\n",
       "    <tr style=\"text-align: right;\">\n",
       "      <th></th>\n",
       "      <th>牛号</th>\n",
       "      <th>胎次</th>\n",
       "      <th>配次</th>\n",
       "      <th>配种日期</th>\n",
       "      <th>场号</th>\n",
       "      <th>yearp</th>\n",
       "      <th>monthp</th>\n",
       "      <th>YMI</th>\n",
       "      <th>HYI</th>\n",
       "      <th>cowtai</th>\n",
       "    </tr>\n",
       "  </thead>\n",
       "  <tbody>\n",
       "    <tr>\n",
       "      <th>892</th>\n",
       "      <td>110001009001</td>\n",
       "      <td>2</td>\n",
       "      <td>0.0</td>\n",
       "      <td>2011/6/15</td>\n",
       "      <td>110001</td>\n",
       "      <td>2011</td>\n",
       "      <td>6</td>\n",
       "      <td>20116</td>\n",
       "      <td>1100012011</td>\n",
       "      <td>110001009001.2</td>\n",
       "    </tr>\n",
       "    <tr>\n",
       "      <th>929</th>\n",
       "      <td>110001009041</td>\n",
       "      <td>2</td>\n",
       "      <td>0.0</td>\n",
       "      <td>2011/7/8</td>\n",
       "      <td>110001</td>\n",
       "      <td>2011</td>\n",
       "      <td>7</td>\n",
       "      <td>20117</td>\n",
       "      <td>1100012011</td>\n",
       "      <td>110001009041.2</td>\n",
       "    </tr>\n",
       "    <tr>\n",
       "      <th>934</th>\n",
       "      <td>110001009048</td>\n",
       "      <td>2</td>\n",
       "      <td>0.0</td>\n",
       "      <td>2011/8/8</td>\n",
       "      <td>110001</td>\n",
       "      <td>2011</td>\n",
       "      <td>8</td>\n",
       "      <td>20118</td>\n",
       "      <td>1100012011</td>\n",
       "      <td>110001009048.2</td>\n",
       "    </tr>\n",
       "    <tr>\n",
       "      <th>950</th>\n",
       "      <td>110001009055</td>\n",
       "      <td>2</td>\n",
       "      <td>0.0</td>\n",
       "      <td>2011/8/8</td>\n",
       "      <td>110001</td>\n",
       "      <td>2011</td>\n",
       "      <td>8</td>\n",
       "      <td>20118</td>\n",
       "      <td>1100012011</td>\n",
       "      <td>110001009055.2</td>\n",
       "    </tr>\n",
       "    <tr>\n",
       "      <th>963</th>\n",
       "      <td>110001009068</td>\n",
       "      <td>2</td>\n",
       "      <td>0.0</td>\n",
       "      <td>2011/7/25</td>\n",
       "      <td>110001</td>\n",
       "      <td>2011</td>\n",
       "      <td>7</td>\n",
       "      <td>20117</td>\n",
       "      <td>1100012011</td>\n",
       "      <td>110001009068.2</td>\n",
       "    </tr>\n",
       "  </tbody>\n",
       "</table>\n",
       "</div>"
      ],
      "text/plain": [
       "               牛号 胎次   配次       配种日期      场号 yearp monthp    YMI         HYI  \\\n",
       "892  110001009001  2  0.0  2011/6/15  110001  2011      6  20116  1100012011   \n",
       "929  110001009041  2  0.0   2011/7/8  110001  2011      7  20117  1100012011   \n",
       "934  110001009048  2  0.0   2011/8/8  110001  2011      8  20118  1100012011   \n",
       "950  110001009055  2  0.0   2011/8/8  110001  2011      8  20118  1100012011   \n",
       "963  110001009068  2  0.0  2011/7/25  110001  2011      7  20117  1100012011   \n",
       "\n",
       "             cowtai  \n",
       "892  110001009001.2  \n",
       "929  110001009041.2  \n",
       "934  110001009048.2  \n",
       "950  110001009055.2  \n",
       "963  110001009068.2  "
      ]
     },
     "execution_count": 95,
     "metadata": {},
     "output_type": "execute_result"
    }
   ],
   "source": [
    "pc5['cowtai']=pc5['牛号']+'.'+pc5['胎次']\n",
    "pc5.head()"
   ]
  },
  {
   "cell_type": "code",
   "execution_count": 96,
   "metadata": {},
   "outputs": [],
   "source": [
    "pc6=pc5[['cowtai','配种日期']]\n",
    "c11=c10[['cowtai','产犊日期']]"
   ]
  },
  {
   "cell_type": "code",
   "execution_count": 97,
   "metadata": {},
   "outputs": [],
   "source": [
    "valid=pd.merge(c11,pc6,on='cowtai')"
   ]
  },
  {
   "cell_type": "code",
   "execution_count": 98,
   "metadata": {},
   "outputs": [],
   "source": [
    "valid['配种日期']=pd.to_datetime(valid['配种日期'],format=\"%Y-%m-%d\")\n",
    "valid['产犊日期']=pd.to_datetime(valid['产犊日期'],format=\"%Y-%m-%d\")"
   ]
  },
  {
   "cell_type": "code",
   "execution_count": 99,
   "metadata": {},
   "outputs": [
    {
     "data": {
      "text/html": [
       "<div>\n",
       "<style scoped>\n",
       "    .dataframe tbody tr th:only-of-type {\n",
       "        vertical-align: middle;\n",
       "    }\n",
       "\n",
       "    .dataframe tbody tr th {\n",
       "        vertical-align: top;\n",
       "    }\n",
       "\n",
       "    .dataframe thead th {\n",
       "        text-align: right;\n",
       "    }\n",
       "</style>\n",
       "<table border=\"1\" class=\"dataframe\">\n",
       "  <thead>\n",
       "    <tr style=\"text-align: right;\">\n",
       "      <th></th>\n",
       "      <th>cowtai</th>\n",
       "      <th>产犊日期</th>\n",
       "      <th>配种日期</th>\n",
       "      <th>valid</th>\n",
       "    </tr>\n",
       "  </thead>\n",
       "  <tbody>\n",
       "    <tr>\n",
       "      <th>0</th>\n",
       "      <td>110001009001.2</td>\n",
       "      <td>2012-05-01</td>\n",
       "      <td>2011-06-15</td>\n",
       "      <td>321</td>\n",
       "    </tr>\n",
       "    <tr>\n",
       "      <th>1</th>\n",
       "      <td>110001009041.2</td>\n",
       "      <td>2012-04-26</td>\n",
       "      <td>2011-07-08</td>\n",
       "      <td>293</td>\n",
       "    </tr>\n",
       "    <tr>\n",
       "      <th>2</th>\n",
       "      <td>110001009048.2</td>\n",
       "      <td>2012-05-15</td>\n",
       "      <td>2011-08-08</td>\n",
       "      <td>281</td>\n",
       "    </tr>\n",
       "    <tr>\n",
       "      <th>3</th>\n",
       "      <td>110001009055.2</td>\n",
       "      <td>2012-05-18</td>\n",
       "      <td>2011-08-08</td>\n",
       "      <td>284</td>\n",
       "    </tr>\n",
       "    <tr>\n",
       "      <th>4</th>\n",
       "      <td>110001009068.2</td>\n",
       "      <td>2012-04-23</td>\n",
       "      <td>2011-07-25</td>\n",
       "      <td>273</td>\n",
       "    </tr>\n",
       "  </tbody>\n",
       "</table>\n",
       "</div>"
      ],
      "text/plain": [
       "           cowtai       产犊日期       配种日期  valid\n",
       "0  110001009001.2 2012-05-01 2011-06-15    321\n",
       "1  110001009041.2 2012-04-26 2011-07-08    293\n",
       "2  110001009048.2 2012-05-15 2011-08-08    281\n",
       "3  110001009055.2 2012-05-18 2011-08-08    284\n",
       "4  110001009068.2 2012-04-23 2011-07-25    273"
      ]
     },
     "execution_count": 99,
     "metadata": {},
     "output_type": "execute_result"
    }
   ],
   "source": [
    "valid['valid']=valid['产犊日期']-valid['配种日期']\n",
    "valid['valid']=list(map(lambda s: s.days,valid['valid']))  ##timedelta通过.days提取出int格式整数\n",
    "valid.head()"
   ]
  },
  {
   "cell_type": "code",
   "execution_count": 100,
   "metadata": {},
   "outputs": [],
   "source": [
    "valid1=valid\n",
    "valid1=valid1[(valid1['valid'] >=200)&(valid1['valid'] <=360)]"
   ]
  },
  {
   "cell_type": "code",
   "execution_count": 101,
   "metadata": {},
   "outputs": [
    {
     "data": {
      "text/html": [
       "<div>\n",
       "<style scoped>\n",
       "    .dataframe tbody tr th:only-of-type {\n",
       "        vertical-align: middle;\n",
       "    }\n",
       "\n",
       "    .dataframe tbody tr th {\n",
       "        vertical-align: top;\n",
       "    }\n",
       "\n",
       "    .dataframe thead th {\n",
       "        text-align: right;\n",
       "    }\n",
       "</style>\n",
       "<table border=\"1\" class=\"dataframe\">\n",
       "  <thead>\n",
       "    <tr style=\"text-align: right;\">\n",
       "      <th></th>\n",
       "      <th>valid</th>\n",
       "    </tr>\n",
       "  </thead>\n",
       "  <tbody>\n",
       "    <tr>\n",
       "      <th>count</th>\n",
       "      <td>489298.000000</td>\n",
       "    </tr>\n",
       "    <tr>\n",
       "      <th>mean</th>\n",
       "      <td>274.378352</td>\n",
       "    </tr>\n",
       "    <tr>\n",
       "      <th>std</th>\n",
       "      <td>15.408607</td>\n",
       "    </tr>\n",
       "    <tr>\n",
       "      <th>min</th>\n",
       "      <td>200.000000</td>\n",
       "    </tr>\n",
       "    <tr>\n",
       "      <th>25%</th>\n",
       "      <td>272.000000</td>\n",
       "    </tr>\n",
       "    <tr>\n",
       "      <th>50%</th>\n",
       "      <td>277.000000</td>\n",
       "    </tr>\n",
       "    <tr>\n",
       "      <th>75%</th>\n",
       "      <td>281.000000</td>\n",
       "    </tr>\n",
       "    <tr>\n",
       "      <th>max</th>\n",
       "      <td>360.000000</td>\n",
       "    </tr>\n",
       "  </tbody>\n",
       "</table>\n",
       "</div>"
      ],
      "text/plain": [
       "               valid\n",
       "count  489298.000000\n",
       "mean      274.378352\n",
       "std        15.408607\n",
       "min       200.000000\n",
       "25%       272.000000\n",
       "50%       277.000000\n",
       "75%       281.000000\n",
       "max       360.000000"
      ]
     },
     "execution_count": 101,
     "metadata": {},
     "output_type": "execute_result"
    }
   ],
   "source": [
    "valid1.describe()"
   ]
  },
  {
   "cell_type": "markdown",
   "metadata": {},
   "source": [
    "<span class=\"burk\">最终如上图所示可得到489,298条数据，同时也说明产犊数据胎次与配种数据胎次相差一胎（产犊数据为上一胎：例如，1胎产犊时间标的胎次为1胎）。配次数据中的配种日期即为每胎配种的末配日期。</span>"
   ]
  },
  {
   "cell_type": "code",
   "execution_count": 102,
   "metadata": {},
   "outputs": [
    {
     "data": {
      "text/plain": [
       "<matplotlib.axes._subplots.AxesSubplot at 0x1dbc0910828>"
      ]
     },
     "execution_count": 102,
     "metadata": {},
     "output_type": "execute_result"
    },
    {
     "data": {
      "image/png": "[encoded data removed]",
      "text/plain": [
       "<matplotlib.figure.Figure at 0x1dbc09100f0>"
      ]
     },
     "metadata": {},
     "output_type": "display_data"
    }
   ],
   "source": [
    "sns.distplot(valid1['valid'], kde=False,bins=40)"
   ]
  },
  {
   "cell_type": "markdown",
   "metadata": {},
   "source": [
    "### 产犊配种数据合并计算ICF"
   ]
  },
  {
   "cell_type": "markdown",
   "metadata": {},
   "source": [
    "#### 计算首次配种即配上的ICF"
   ]
  },
  {
   "cell_type": "markdown",
   "metadata": {},
   "source": [
    "筛选出每胎次只配种一次的牛只数据"
   ]
  },
  {
   "cell_type": "code",
   "execution_count": 103,
   "metadata": {},
   "outputs": [],
   "source": [
    "pcc1=pc5[pc5['配次']==1]"
   ]
  },
  {
   "cell_type": "code",
   "execution_count": 104,
   "metadata": {},
   "outputs": [
    {
     "data": {
      "text/html": [
       "<div>\n",
       "<style scoped>\n",
       "    .dataframe tbody tr th:only-of-type {\n",
       "        vertical-align: middle;\n",
       "    }\n",
       "\n",
       "    .dataframe tbody tr th {\n",
       "        vertical-align: top;\n",
       "    }\n",
       "\n",
       "    .dataframe thead th {\n",
       "        text-align: right;\n",
       "    }\n",
       "</style>\n",
       "<table border=\"1\" class=\"dataframe\">\n",
       "  <thead>\n",
       "    <tr style=\"text-align: right;\">\n",
       "      <th></th>\n",
       "      <th>牛号</th>\n",
       "      <th>胎次</th>\n",
       "      <th>配次</th>\n",
       "      <th>配种日期</th>\n",
       "      <th>场号</th>\n",
       "      <th>yearp</th>\n",
       "      <th>monthp</th>\n",
       "      <th>YMI</th>\n",
       "      <th>HYI</th>\n",
       "      <th>cowtai</th>\n",
       "    </tr>\n",
       "  </thead>\n",
       "  <tbody>\n",
       "    <tr>\n",
       "      <th>26056</th>\n",
       "      <td>110010201304</td>\n",
       "      <td>8</td>\n",
       "      <td>1.0</td>\n",
       "      <td>2011/12/12</td>\n",
       "      <td>110010</td>\n",
       "      <td>2011</td>\n",
       "      <td>12</td>\n",
       "      <td>201112</td>\n",
       "      <td>1100102011</td>\n",
       "      <td>110010201304.8</td>\n",
       "    </tr>\n",
       "    <tr>\n",
       "      <th>52918</th>\n",
       "      <td>110015008172</td>\n",
       "      <td>3</td>\n",
       "      <td>1.0</td>\n",
       "      <td>2012/5/26</td>\n",
       "      <td>110015</td>\n",
       "      <td>2012</td>\n",
       "      <td>5</td>\n",
       "      <td>20125</td>\n",
       "      <td>1100152012</td>\n",
       "      <td>110015008172.3</td>\n",
       "    </tr>\n",
       "    <tr>\n",
       "      <th>53889</th>\n",
       "      <td>110015008627</td>\n",
       "      <td>2</td>\n",
       "      <td>1.0</td>\n",
       "      <td>2012/7/6</td>\n",
       "      <td>110015</td>\n",
       "      <td>2012</td>\n",
       "      <td>7</td>\n",
       "      <td>20127</td>\n",
       "      <td>1100152012</td>\n",
       "      <td>110015008627.2</td>\n",
       "    </tr>\n",
       "    <tr>\n",
       "      <th>54399</th>\n",
       "      <td>110015009131</td>\n",
       "      <td>2</td>\n",
       "      <td>1.0</td>\n",
       "      <td>2012/4/22</td>\n",
       "      <td>110015</td>\n",
       "      <td>2012</td>\n",
       "      <td>4</td>\n",
       "      <td>20124</td>\n",
       "      <td>1100152012</td>\n",
       "      <td>110015009131.2</td>\n",
       "    </tr>\n",
       "    <tr>\n",
       "      <th>54932</th>\n",
       "      <td>110015009363</td>\n",
       "      <td>2</td>\n",
       "      <td>1.0</td>\n",
       "      <td>2012/5/19</td>\n",
       "      <td>110015</td>\n",
       "      <td>2012</td>\n",
       "      <td>5</td>\n",
       "      <td>20125</td>\n",
       "      <td>1100152012</td>\n",
       "      <td>110015009363.2</td>\n",
       "    </tr>\n",
       "  </tbody>\n",
       "</table>\n",
       "</div>"
      ],
      "text/plain": [
       "                 牛号 胎次   配次        配种日期      场号 yearp monthp     YMI  \\\n",
       "26056  110010201304  8  1.0  2011/12/12  110010  2011     12  201112   \n",
       "52918  110015008172  3  1.0   2012/5/26  110015  2012      5   20125   \n",
       "53889  110015008627  2  1.0    2012/7/6  110015  2012      7   20127   \n",
       "54399  110015009131  2  1.0   2012/4/22  110015  2012      4   20124   \n",
       "54932  110015009363  2  1.0   2012/5/19  110015  2012      5   20125   \n",
       "\n",
       "              HYI          cowtai  \n",
       "26056  1100102011  110010201304.8  \n",
       "52918  1100152012  110015008172.3  \n",
       "53889  1100152012  110015008627.2  \n",
       "54399  1100152012  110015009131.2  \n",
       "54932  1100152012  110015009363.2  "
      ]
     },
     "execution_count": 104,
     "metadata": {},
     "output_type": "execute_result"
    }
   ],
   "source": [
    "pcc1.head()"
   ]
  },
  {
   "cell_type": "code",
   "execution_count": 105,
   "metadata": {},
   "outputs": [],
   "source": [
    "pcc2=pcc1[['牛号','cowtai','配次','配种日期','胎次']]"
   ]
  },
  {
   "cell_type": "code",
   "execution_count": 106,
   "metadata": {},
   "outputs": [
    {
     "data": {
      "text/plain": [
       "牛号        260156\n",
       "cowtai    260156\n",
       "配次        260156\n",
       "配种日期      260156\n",
       "胎次        260156\n",
       "dtype: int64"
      ]
     },
     "execution_count": 106,
     "metadata": {},
     "output_type": "execute_result"
    }
   ],
   "source": [
    "pcc2.count()"
   ]
  },
  {
   "cell_type": "markdown",
   "metadata": {},
   "source": [
    "配种数据减去一个胎次"
   ]
  },
  {
   "cell_type": "code",
   "execution_count": 107,
   "metadata": {},
   "outputs": [],
   "source": [
    "cc=c6[['cowtai','产犊日期']]"
   ]
  },
  {
   "cell_type": "code",
   "execution_count": 108,
   "metadata": {},
   "outputs": [
    {
     "name": "stderr",
     "output_type": "stream",
     "text": [
      "E:\\Anaconda\\lib\\site-packages\\ipykernel_launcher.py:1: SettingWithCopyWarning: \n",
      "A value is trying to be set on a copy of a slice from a DataFrame.\n",
      "Try using .loc[row_indexer,col_indexer] = value instead\n",
      "\n",
      "See the caveats in the documentation: http://pandas.pydata.org/pandas-docs/stable/indexing.html#indexing-view-versus-copy\n",
      "  \"\"\"Entry point for launching an IPython kernel.\n"
     ]
    }
   ],
   "source": [
    "pcc2['胎次']=list(map(lambda s:int(s),pcc2['胎次']))"
   ]
  },
  {
   "cell_type": "code",
   "execution_count": 109,
   "metadata": {},
   "outputs": [
    {
     "name": "stderr",
     "output_type": "stream",
     "text": [
      "E:\\Anaconda\\lib\\site-packages\\ipykernel_launcher.py:1: SettingWithCopyWarning: \n",
      "A value is trying to be set on a copy of a slice from a DataFrame.\n",
      "Try using .loc[row_indexer,col_indexer] = value instead\n",
      "\n",
      "See the caveats in the documentation: http://pandas.pydata.org/pandas-docs/stable/indexing.html#indexing-view-versus-copy\n",
      "  \"\"\"Entry point for launching an IPython kernel.\n"
     ]
    },
    {
     "data": {
      "text/html": [
       "<div>\n",
       "<style scoped>\n",
       "    .dataframe tbody tr th:only-of-type {\n",
       "        vertical-align: middle;\n",
       "    }\n",
       "\n",
       "    .dataframe tbody tr th {\n",
       "        vertical-align: top;\n",
       "    }\n",
       "\n",
       "    .dataframe thead th {\n",
       "        text-align: right;\n",
       "    }\n",
       "</style>\n",
       "<table border=\"1\" class=\"dataframe\">\n",
       "  <thead>\n",
       "    <tr style=\"text-align: right;\">\n",
       "      <th></th>\n",
       "      <th>牛号</th>\n",
       "      <th>cowtai</th>\n",
       "      <th>配次</th>\n",
       "      <th>配种日期</th>\n",
       "      <th>胎次</th>\n",
       "    </tr>\n",
       "  </thead>\n",
       "  <tbody>\n",
       "    <tr>\n",
       "      <th>26056</th>\n",
       "      <td>110010201304</td>\n",
       "      <td>110010201304.8</td>\n",
       "      <td>1.0</td>\n",
       "      <td>2011/12/12</td>\n",
       "      <td>7</td>\n",
       "    </tr>\n",
       "    <tr>\n",
       "      <th>52918</th>\n",
       "      <td>110015008172</td>\n",
       "      <td>110015008172.3</td>\n",
       "      <td>1.0</td>\n",
       "      <td>2012/5/26</td>\n",
       "      <td>2</td>\n",
       "    </tr>\n",
       "    <tr>\n",
       "      <th>53889</th>\n",
       "      <td>110015008627</td>\n",
       "      <td>110015008627.2</td>\n",
       "      <td>1.0</td>\n",
       "      <td>2012/7/6</td>\n",
       "      <td>1</td>\n",
       "    </tr>\n",
       "    <tr>\n",
       "      <th>54399</th>\n",
       "      <td>110015009131</td>\n",
       "      <td>110015009131.2</td>\n",
       "      <td>1.0</td>\n",
       "      <td>2012/4/22</td>\n",
       "      <td>1</td>\n",
       "    </tr>\n",
       "    <tr>\n",
       "      <th>54932</th>\n",
       "      <td>110015009363</td>\n",
       "      <td>110015009363.2</td>\n",
       "      <td>1.0</td>\n",
       "      <td>2012/5/19</td>\n",
       "      <td>1</td>\n",
       "    </tr>\n",
       "  </tbody>\n",
       "</table>\n",
       "</div>"
      ],
      "text/plain": [
       "                 牛号          cowtai   配次        配种日期  胎次\n",
       "26056  110010201304  110010201304.8  1.0  2011/12/12   7\n",
       "52918  110015008172  110015008172.3  1.0   2012/5/26   2\n",
       "53889  110015008627  110015008627.2  1.0    2012/7/6   1\n",
       "54399  110015009131  110015009131.2  1.0   2012/4/22   1\n",
       "54932  110015009363  110015009363.2  1.0   2012/5/19   1"
      ]
     },
     "execution_count": 109,
     "metadata": {},
     "output_type": "execute_result"
    }
   ],
   "source": [
    "pcc2['胎次']=list(map(lambda s:s-1,pcc2['胎次']))\n",
    "pcc2.head()"
   ]
  },
  {
   "cell_type": "code",
   "execution_count": 110,
   "metadata": {},
   "outputs": [
    {
     "name": "stderr",
     "output_type": "stream",
     "text": [
      "E:\\Anaconda\\lib\\site-packages\\ipykernel_launcher.py:1: SettingWithCopyWarning: \n",
      "A value is trying to be set on a copy of a slice from a DataFrame.\n",
      "Try using .loc[row_indexer,col_indexer] = value instead\n",
      "\n",
      "See the caveats in the documentation: http://pandas.pydata.org/pandas-docs/stable/indexing.html#indexing-view-versus-copy\n",
      "  \"\"\"Entry point for launching an IPython kernel.\n",
      "E:\\Anaconda\\lib\\site-packages\\ipykernel_launcher.py:2: SettingWithCopyWarning: \n",
      "A value is trying to be set on a copy of a slice from a DataFrame.\n",
      "Try using .loc[row_indexer,col_indexer] = value instead\n",
      "\n",
      "See the caveats in the documentation: http://pandas.pydata.org/pandas-docs/stable/indexing.html#indexing-view-versus-copy\n",
      "  \n"
     ]
    }
   ],
   "source": [
    "pcc2['胎次']=list(map(lambda s:str(s),pcc2['胎次']))\n",
    "pcc2['cowtai']=pcc2['牛号']+'.'+pcc2['胎次']"
   ]
  },
  {
   "cell_type": "code",
   "execution_count": 111,
   "metadata": {},
   "outputs": [
    {
     "data": {
      "text/html": [
       "<div>\n",
       "<style scoped>\n",
       "    .dataframe tbody tr th:only-of-type {\n",
       "        vertical-align: middle;\n",
       "    }\n",
       "\n",
       "    .dataframe tbody tr th {\n",
       "        vertical-align: top;\n",
       "    }\n",
       "\n",
       "    .dataframe thead th {\n",
       "        text-align: right;\n",
       "    }\n",
       "</style>\n",
       "<table border=\"1\" class=\"dataframe\">\n",
       "  <thead>\n",
       "    <tr style=\"text-align: right;\">\n",
       "      <th></th>\n",
       "      <th>cowtai</th>\n",
       "      <th>配种日期</th>\n",
       "      <th>产犊日期</th>\n",
       "    </tr>\n",
       "  </thead>\n",
       "  <tbody>\n",
       "    <tr>\n",
       "      <th>0</th>\n",
       "      <td>110010201304.7</td>\n",
       "      <td>2011/12/12</td>\n",
       "      <td>2011/7/13</td>\n",
       "    </tr>\n",
       "    <tr>\n",
       "      <th>1</th>\n",
       "      <td>110015008172.2</td>\n",
       "      <td>2012/5/26</td>\n",
       "      <td>2011/6/3</td>\n",
       "    </tr>\n",
       "    <tr>\n",
       "      <th>2</th>\n",
       "      <td>110015008627.1</td>\n",
       "      <td>2012/7/6</td>\n",
       "      <td>2010/12/3</td>\n",
       "    </tr>\n",
       "    <tr>\n",
       "      <th>3</th>\n",
       "      <td>110015009131.1</td>\n",
       "      <td>2012/4/22</td>\n",
       "      <td>2011/3/29</td>\n",
       "    </tr>\n",
       "    <tr>\n",
       "      <th>4</th>\n",
       "      <td>110015009363.1</td>\n",
       "      <td>2012/5/19</td>\n",
       "      <td>2011/9/19</td>\n",
       "    </tr>\n",
       "  </tbody>\n",
       "</table>\n",
       "</div>"
      ],
      "text/plain": [
       "           cowtai        配种日期       产犊日期\n",
       "0  110010201304.7  2011/12/12  2011/7/13\n",
       "1  110015008172.2   2012/5/26   2011/6/3\n",
       "2  110015008627.1    2012/7/6  2010/12/3\n",
       "3  110015009131.1   2012/4/22  2011/3/29\n",
       "4  110015009363.1   2012/5/19  2011/9/19"
      ]
     },
     "execution_count": 111,
     "metadata": {},
     "output_type": "execute_result"
    }
   ],
   "source": [
    "pcc3=pcc2[['cowtai','配种日期']]\n",
    "pcm=pd.merge(pcc3,cc,on='cowtai')\n",
    "pcm.head()"
   ]
  },
  {
   "cell_type": "code",
   "execution_count": 112,
   "metadata": {},
   "outputs": [
    {
     "data": {
      "text/html": [
       "<div>\n",
       "<style scoped>\n",
       "    .dataframe tbody tr th:only-of-type {\n",
       "        vertical-align: middle;\n",
       "    }\n",
       "\n",
       "    .dataframe tbody tr th {\n",
       "        vertical-align: top;\n",
       "    }\n",
       "\n",
       "    .dataframe thead th {\n",
       "        text-align: right;\n",
       "    }\n",
       "</style>\n",
       "<table border=\"1\" class=\"dataframe\">\n",
       "  <thead>\n",
       "    <tr style=\"text-align: right;\">\n",
       "      <th></th>\n",
       "      <th>cowtai</th>\n",
       "      <th>配种日期</th>\n",
       "      <th>产犊日期</th>\n",
       "    </tr>\n",
       "  </thead>\n",
       "  <tbody>\n",
       "    <tr>\n",
       "      <th>count</th>\n",
       "      <td>132818</td>\n",
       "      <td>132818</td>\n",
       "      <td>132818</td>\n",
       "    </tr>\n",
       "    <tr>\n",
       "      <th>unique</th>\n",
       "      <td>132818</td>\n",
       "      <td>3934</td>\n",
       "      <td>4042</td>\n",
       "    </tr>\n",
       "    <tr>\n",
       "      <th>top</th>\n",
       "      <td>13rh04120745.1</td>\n",
       "      <td>2016/12/16</td>\n",
       "      <td>2014/1/1</td>\n",
       "    </tr>\n",
       "    <tr>\n",
       "      <th>freq</th>\n",
       "      <td>1</td>\n",
       "      <td>387</td>\n",
       "      <td>229</td>\n",
       "    </tr>\n",
       "  </tbody>\n",
       "</table>\n",
       "</div>"
      ],
      "text/plain": [
       "                cowtai        配种日期      产犊日期\n",
       "count           132818      132818    132818\n",
       "unique          132818        3934      4042\n",
       "top     13rh04120745.1  2016/12/16  2014/1/1\n",
       "freq                 1         387       229"
      ]
     },
     "execution_count": 112,
     "metadata": {},
     "output_type": "execute_result"
    }
   ],
   "source": [
    "pcm.describe()"
   ]
  },
  {
   "cell_type": "code",
   "execution_count": 113,
   "metadata": {},
   "outputs": [],
   "source": [
    "pcm['配种日期']=pd.to_datetime(pcm['配种日期'],format=\"%Y-%m-%d\")\n",
    "pcm['产犊日期']=pd.to_datetime(pcm['产犊日期'],format=\"%Y-%m-%d\")"
   ]
  },
  {
   "cell_type": "code",
   "execution_count": 114,
   "metadata": {},
   "outputs": [],
   "source": [
    "pcm['valid']=pcm['配种日期']-pcm['产犊日期']\n",
    "pcm['valid']=list(map(lambda s: s.days,pcm['valid'])) "
   ]
  },
  {
   "cell_type": "code",
   "execution_count": 115,
   "metadata": {},
   "outputs": [
    {
     "data": {
      "text/html": [
       "<div>\n",
       "<style scoped>\n",
       "    .dataframe tbody tr th:only-of-type {\n",
       "        vertical-align: middle;\n",
       "    }\n",
       "\n",
       "    .dataframe tbody tr th {\n",
       "        vertical-align: top;\n",
       "    }\n",
       "\n",
       "    .dataframe thead th {\n",
       "        text-align: right;\n",
       "    }\n",
       "</style>\n",
       "<table border=\"1\" class=\"dataframe\">\n",
       "  <thead>\n",
       "    <tr style=\"text-align: right;\">\n",
       "      <th></th>\n",
       "      <th>cowtai</th>\n",
       "      <th>配种日期</th>\n",
       "      <th>产犊日期</th>\n",
       "      <th>valid</th>\n",
       "    </tr>\n",
       "  </thead>\n",
       "  <tbody>\n",
       "    <tr>\n",
       "      <th>0</th>\n",
       "      <td>110010201304.7</td>\n",
       "      <td>2011-12-12</td>\n",
       "      <td>2011-07-13</td>\n",
       "      <td>152</td>\n",
       "    </tr>\n",
       "    <tr>\n",
       "      <th>1</th>\n",
       "      <td>110015008172.2</td>\n",
       "      <td>2012-05-26</td>\n",
       "      <td>2011-06-03</td>\n",
       "      <td>358</td>\n",
       "    </tr>\n",
       "    <tr>\n",
       "      <th>2</th>\n",
       "      <td>110015008627.1</td>\n",
       "      <td>2012-07-06</td>\n",
       "      <td>2010-12-03</td>\n",
       "      <td>581</td>\n",
       "    </tr>\n",
       "    <tr>\n",
       "      <th>3</th>\n",
       "      <td>110015009131.1</td>\n",
       "      <td>2012-04-22</td>\n",
       "      <td>2011-03-29</td>\n",
       "      <td>390</td>\n",
       "    </tr>\n",
       "    <tr>\n",
       "      <th>4</th>\n",
       "      <td>110015009363.1</td>\n",
       "      <td>2012-05-19</td>\n",
       "      <td>2011-09-19</td>\n",
       "      <td>243</td>\n",
       "    </tr>\n",
       "  </tbody>\n",
       "</table>\n",
       "</div>"
      ],
      "text/plain": [
       "           cowtai       配种日期       产犊日期  valid\n",
       "0  110010201304.7 2011-12-12 2011-07-13    152\n",
       "1  110015008172.2 2012-05-26 2011-06-03    358\n",
       "2  110015008627.1 2012-07-06 2010-12-03    581\n",
       "3  110015009131.1 2012-04-22 2011-03-29    390\n",
       "4  110015009363.1 2012-05-19 2011-09-19    243"
      ]
     },
     "execution_count": 115,
     "metadata": {},
     "output_type": "execute_result"
    }
   ],
   "source": [
    "pcm1=pcm\n",
    "pcm1.head()"
   ]
  },
  {
   "cell_type": "code",
   "execution_count": 116,
   "metadata": {},
   "outputs": [
    {
     "data": {
      "text/html": [
       "<div>\n",
       "<style scoped>\n",
       "    .dataframe tbody tr th:only-of-type {\n",
       "        vertical-align: middle;\n",
       "    }\n",
       "\n",
       "    .dataframe tbody tr th {\n",
       "        vertical-align: top;\n",
       "    }\n",
       "\n",
       "    .dataframe thead th {\n",
       "        text-align: right;\n",
       "    }\n",
       "</style>\n",
       "<table border=\"1\" class=\"dataframe\">\n",
       "  <thead>\n",
       "    <tr style=\"text-align: right;\">\n",
       "      <th></th>\n",
       "      <th>valid</th>\n",
       "    </tr>\n",
       "  </thead>\n",
       "  <tbody>\n",
       "    <tr>\n",
       "      <th>count</th>\n",
       "      <td>132818.000000</td>\n",
       "    </tr>\n",
       "    <tr>\n",
       "      <th>mean</th>\n",
       "      <td>121.022693</td>\n",
       "    </tr>\n",
       "    <tr>\n",
       "      <th>std</th>\n",
       "      <td>152.028555</td>\n",
       "    </tr>\n",
       "    <tr>\n",
       "      <th>min</th>\n",
       "      <td>-25017.000000</td>\n",
       "    </tr>\n",
       "    <tr>\n",
       "      <th>25%</th>\n",
       "      <td>64.000000</td>\n",
       "    </tr>\n",
       "    <tr>\n",
       "      <th>50%</th>\n",
       "      <td>86.000000</td>\n",
       "    </tr>\n",
       "    <tr>\n",
       "      <th>75%</th>\n",
       "      <td>147.000000</td>\n",
       "    </tr>\n",
       "    <tr>\n",
       "      <th>max</th>\n",
       "      <td>2333.000000</td>\n",
       "    </tr>\n",
       "  </tbody>\n",
       "</table>\n",
       "</div>"
      ],
      "text/plain": [
       "               valid\n",
       "count  132818.000000\n",
       "mean      121.022693\n",
       "std       152.028555\n",
       "min    -25017.000000\n",
       "25%        64.000000\n",
       "50%        86.000000\n",
       "75%       147.000000\n",
       "max      2333.000000"
      ]
     },
     "execution_count": 116,
     "metadata": {},
     "output_type": "execute_result"
    }
   ],
   "source": [
    "pcm.describe()"
   ]
  },
  {
   "cell_type": "code",
   "execution_count": 117,
   "metadata": {},
   "outputs": [
    {
     "data": {
      "text/html": [
       "<div>\n",
       "<style scoped>\n",
       "    .dataframe tbody tr th:only-of-type {\n",
       "        vertical-align: middle;\n",
       "    }\n",
       "\n",
       "    .dataframe tbody tr th {\n",
       "        vertical-align: top;\n",
       "    }\n",
       "\n",
       "    .dataframe thead th {\n",
       "        text-align: right;\n",
       "    }\n",
       "</style>\n",
       "<table border=\"1\" class=\"dataframe\">\n",
       "  <thead>\n",
       "    <tr style=\"text-align: right;\">\n",
       "      <th></th>\n",
       "      <th>valid</th>\n",
       "    </tr>\n",
       "  </thead>\n",
       "  <tbody>\n",
       "    <tr>\n",
       "      <th>count</th>\n",
       "      <td>114944.000000</td>\n",
       "    </tr>\n",
       "    <tr>\n",
       "      <th>mean</th>\n",
       "      <td>95.103546</td>\n",
       "    </tr>\n",
       "    <tr>\n",
       "      <th>std</th>\n",
       "      <td>44.836943</td>\n",
       "    </tr>\n",
       "    <tr>\n",
       "      <th>min</th>\n",
       "      <td>20.000000</td>\n",
       "    </tr>\n",
       "    <tr>\n",
       "      <th>25%</th>\n",
       "      <td>63.000000</td>\n",
       "    </tr>\n",
       "    <tr>\n",
       "      <th>50%</th>\n",
       "      <td>79.000000</td>\n",
       "    </tr>\n",
       "    <tr>\n",
       "      <th>75%</th>\n",
       "      <td>117.000000</td>\n",
       "    </tr>\n",
       "    <tr>\n",
       "      <th>max</th>\n",
       "      <td>230.000000</td>\n",
       "    </tr>\n",
       "  </tbody>\n",
       "</table>\n",
       "</div>"
      ],
      "text/plain": [
       "               valid\n",
       "count  114944.000000\n",
       "mean       95.103546\n",
       "std        44.836943\n",
       "min        20.000000\n",
       "25%        63.000000\n",
       "50%        79.000000\n",
       "75%       117.000000\n",
       "max       230.000000"
      ]
     },
     "execution_count": 117,
     "metadata": {},
     "output_type": "execute_result"
    }
   ],
   "source": [
    "pcm1=pcm1[(pcm1['valid'] >=20)&(pcm1['valid'] <=230)]\n",
    "pcm1.describe()"
   ]
  },
  {
   "cell_type": "code",
   "execution_count": 118,
   "metadata": {},
   "outputs": [
    {
     "data": {
      "text/plain": [
       "<matplotlib.axes._subplots.AxesSubplot at 0x1dbbb04ff98>"
      ]
     },
     "execution_count": 118,
     "metadata": {},
     "output_type": "execute_result"
    },
    {
     "data": {
      "image/png": "[encoded data removed]",
      "text/plain": [
       "<matplotlib.figure.Figure at 0x1db90ad9f60>"
      ]
     },
     "metadata": {},
     "output_type": "display_data"
    }
   ],
   "source": [
    "sns.distplot(pcm1['valid'],kde=False,bins=40)"
   ]
  },
  {
   "cell_type": "code",
   "execution_count": 119,
   "metadata": {},
   "outputs": [
    {
     "name": "stderr",
     "output_type": "stream",
     "text": [
      "E:\\Anaconda\\lib\\site-packages\\pandas\\core\\frame.py:3027: SettingWithCopyWarning: \n",
      "A value is trying to be set on a copy of a slice from a DataFrame\n",
      "\n",
      "See the caveats in the documentation: http://pandas.pydata.org/pandas-docs/stable/indexing.html#indexing-view-versus-copy\n",
      "  return super(DataFrame, self).rename(**kwargs)\n"
     ]
    }
   ],
   "source": [
    "pcm1.rename(columns={'valid':'ICF1'},inplace=True)"
   ]
  },
  {
   "cell_type": "code",
   "execution_count": 120,
   "metadata": {},
   "outputs": [
    {
     "data": {
      "text/html": [
       "<div>\n",
       "<style scoped>\n",
       "    .dataframe tbody tr th:only-of-type {\n",
       "        vertical-align: middle;\n",
       "    }\n",
       "\n",
       "    .dataframe tbody tr th {\n",
       "        vertical-align: top;\n",
       "    }\n",
       "\n",
       "    .dataframe thead th {\n",
       "        text-align: right;\n",
       "    }\n",
       "</style>\n",
       "<table border=\"1\" class=\"dataframe\">\n",
       "  <thead>\n",
       "    <tr style=\"text-align: right;\">\n",
       "      <th></th>\n",
       "      <th>cowtai</th>\n",
       "      <th>配种日期</th>\n",
       "      <th>产犊日期</th>\n",
       "      <th>ICF1</th>\n",
       "    </tr>\n",
       "  </thead>\n",
       "  <tbody>\n",
       "    <tr>\n",
       "      <th>0</th>\n",
       "      <td>110010201304.7</td>\n",
       "      <td>2011-12-12</td>\n",
       "      <td>2011-07-13</td>\n",
       "      <td>152</td>\n",
       "    </tr>\n",
       "    <tr>\n",
       "      <th>6</th>\n",
       "      <td>110015011111.4</td>\n",
       "      <td>2017-05-12</td>\n",
       "      <td>2016-12-09</td>\n",
       "      <td>154</td>\n",
       "    </tr>\n",
       "    <tr>\n",
       "      <th>7</th>\n",
       "      <td>110015011283.1</td>\n",
       "      <td>2013-12-30</td>\n",
       "      <td>2013-06-20</td>\n",
       "      <td>193</td>\n",
       "    </tr>\n",
       "    <tr>\n",
       "      <th>10</th>\n",
       "      <td>110015130180.3</td>\n",
       "      <td>2017-10-02</td>\n",
       "      <td>2017-05-01</td>\n",
       "      <td>154</td>\n",
       "    </tr>\n",
       "    <tr>\n",
       "      <th>11</th>\n",
       "      <td>110015130467.2</td>\n",
       "      <td>2017-10-10</td>\n",
       "      <td>2017-04-28</td>\n",
       "      <td>165</td>\n",
       "    </tr>\n",
       "  </tbody>\n",
       "</table>\n",
       "</div>"
      ],
      "text/plain": [
       "            cowtai       配种日期       产犊日期  ICF1\n",
       "0   110010201304.7 2011-12-12 2011-07-13   152\n",
       "6   110015011111.4 2017-05-12 2016-12-09   154\n",
       "7   110015011283.1 2013-12-30 2013-06-20   193\n",
       "10  110015130180.3 2017-10-02 2017-05-01   154\n",
       "11  110015130467.2 2017-10-10 2017-04-28   165"
      ]
     },
     "execution_count": 120,
     "metadata": {},
     "output_type": "execute_result"
    }
   ],
   "source": [
    "icf=pcm1\n",
    "icf.head()"
   ]
  },
  {
   "cell_type": "markdown",
   "metadata": {},
   "source": [
    "数据质控后筛除了20,000余条数据，即首次配种即配上的数据有114,944条，后续可作为无首次配种日期数据的罚项。但原始首次配种即配上的数据在250,000左右。经过验证发现丢失数据大多是青年牛末次配种数据，根据首次配种日期可计算部分青年牛的首末配种间隔（IFL）。"
   ]
  },
  {
   "cell_type": "markdown",
   "metadata": {},
   "source": [
    "#### 提取青年牛首次配种即配上的数据"
   ]
  },
  {
   "cell_type": "code",
   "execution_count": 121,
   "metadata": {},
   "outputs": [],
   "source": [
    "pch=pcc2[pcc2['胎次']=='0']"
   ]
  },
  {
   "cell_type": "code",
   "execution_count": 122,
   "metadata": {},
   "outputs": [
    {
     "data": {
      "text/html": [
       "<div>\n",
       "<style scoped>\n",
       "    .dataframe tbody tr th:only-of-type {\n",
       "        vertical-align: middle;\n",
       "    }\n",
       "\n",
       "    .dataframe tbody tr th {\n",
       "        vertical-align: top;\n",
       "    }\n",
       "\n",
       "    .dataframe thead th {\n",
       "        text-align: right;\n",
       "    }\n",
       "</style>\n",
       "<table border=\"1\" class=\"dataframe\">\n",
       "  <thead>\n",
       "    <tr style=\"text-align: right;\">\n",
       "      <th></th>\n",
       "      <th>配次</th>\n",
       "    </tr>\n",
       "  </thead>\n",
       "  <tbody>\n",
       "    <tr>\n",
       "      <th>count</th>\n",
       "      <td>123888.0</td>\n",
       "    </tr>\n",
       "    <tr>\n",
       "      <th>mean</th>\n",
       "      <td>1.0</td>\n",
       "    </tr>\n",
       "    <tr>\n",
       "      <th>std</th>\n",
       "      <td>0.0</td>\n",
       "    </tr>\n",
       "    <tr>\n",
       "      <th>min</th>\n",
       "      <td>1.0</td>\n",
       "    </tr>\n",
       "    <tr>\n",
       "      <th>25%</th>\n",
       "      <td>1.0</td>\n",
       "    </tr>\n",
       "    <tr>\n",
       "      <th>50%</th>\n",
       "      <td>1.0</td>\n",
       "    </tr>\n",
       "    <tr>\n",
       "      <th>75%</th>\n",
       "      <td>1.0</td>\n",
       "    </tr>\n",
       "    <tr>\n",
       "      <th>max</th>\n",
       "      <td>1.0</td>\n",
       "    </tr>\n",
       "  </tbody>\n",
       "</table>\n",
       "</div>"
      ],
      "text/plain": [
       "             配次\n",
       "count  123888.0\n",
       "mean        1.0\n",
       "std         0.0\n",
       "min         1.0\n",
       "25%         1.0\n",
       "50%         1.0\n",
       "75%         1.0\n",
       "max         1.0"
      ]
     },
     "execution_count": 122,
     "metadata": {},
     "output_type": "execute_result"
    }
   ],
   "source": [
    "pch.describe()"
   ]
  },
  {
   "cell_type": "markdown",
   "metadata": {},
   "source": [
    "可以看到青年牛首次配种就配上的数据有123，888条"
   ]
  },
  {
   "cell_type": "markdown",
   "metadata": {},
   "source": [
    "#### 计算多次配种的ICF"
   ]
  },
  {
   "cell_type": "code",
   "execution_count": 123,
   "metadata": {},
   "outputs": [],
   "source": [
    "pcd=pc5[pc5['配次']>1]"
   ]
  },
  {
   "cell_type": "code",
   "execution_count": 124,
   "metadata": {},
   "outputs": [
    {
     "name": "stderr",
     "output_type": "stream",
     "text": [
      "E:\\Anaconda\\lib\\site-packages\\ipykernel_launcher.py:1: SettingWithCopyWarning: \n",
      "A value is trying to be set on a copy of a slice from a DataFrame.\n",
      "Try using .loc[row_indexer,col_indexer] = value instead\n",
      "\n",
      "See the caveats in the documentation: http://pandas.pydata.org/pandas-docs/stable/indexing.html#indexing-view-versus-copy\n",
      "  \"\"\"Entry point for launching an IPython kernel.\n",
      "E:\\Anaconda\\lib\\site-packages\\ipykernel_launcher.py:2: SettingWithCopyWarning: \n",
      "A value is trying to be set on a copy of a slice from a DataFrame.\n",
      "Try using .loc[row_indexer,col_indexer] = value instead\n",
      "\n",
      "See the caveats in the documentation: http://pandas.pydata.org/pandas-docs/stable/indexing.html#indexing-view-versus-copy\n",
      "  \n"
     ]
    },
    {
     "data": {
      "text/html": [
       "<div>\n",
       "<style scoped>\n",
       "    .dataframe tbody tr th:only-of-type {\n",
       "        vertical-align: middle;\n",
       "    }\n",
       "\n",
       "    .dataframe tbody tr th {\n",
       "        vertical-align: top;\n",
       "    }\n",
       "\n",
       "    .dataframe thead th {\n",
       "        text-align: right;\n",
       "    }\n",
       "</style>\n",
       "<table border=\"1\" class=\"dataframe\">\n",
       "  <thead>\n",
       "    <tr style=\"text-align: right;\">\n",
       "      <th></th>\n",
       "      <th>牛号</th>\n",
       "      <th>胎次</th>\n",
       "      <th>配次</th>\n",
       "      <th>配种日期</th>\n",
       "      <th>场号</th>\n",
       "      <th>yearp</th>\n",
       "      <th>monthp</th>\n",
       "      <th>YMI</th>\n",
       "      <th>HYI</th>\n",
       "      <th>cowtai</th>\n",
       "    </tr>\n",
       "  </thead>\n",
       "  <tbody>\n",
       "    <tr>\n",
       "      <th>844724</th>\n",
       "      <td>13a003050003</td>\n",
       "      <td>9</td>\n",
       "      <td>3.0</td>\n",
       "      <td>2016/7/12</td>\n",
       "      <td>13a003</td>\n",
       "      <td>2016</td>\n",
       "      <td>7</td>\n",
       "      <td>20167</td>\n",
       "      <td>13a0032016</td>\n",
       "      <td>13a003050003.10</td>\n",
       "    </tr>\n",
       "    <tr>\n",
       "      <th>844876</th>\n",
       "      <td>13a003080027</td>\n",
       "      <td>3</td>\n",
       "      <td>2.0</td>\n",
       "      <td>2014/1/26</td>\n",
       "      <td>13a003</td>\n",
       "      <td>2014</td>\n",
       "      <td>1</td>\n",
       "      <td>20141</td>\n",
       "      <td>13a0032014</td>\n",
       "      <td>13a003080027.4</td>\n",
       "    </tr>\n",
       "    <tr>\n",
       "      <th>845035</th>\n",
       "      <td>13a003090032</td>\n",
       "      <td>2</td>\n",
       "      <td>2.0</td>\n",
       "      <td>2015/1/11</td>\n",
       "      <td>13a003</td>\n",
       "      <td>2015</td>\n",
       "      <td>1</td>\n",
       "      <td>20151</td>\n",
       "      <td>13a0032015</td>\n",
       "      <td>13a003090032.3</td>\n",
       "    </tr>\n",
       "    <tr>\n",
       "      <th>845252</th>\n",
       "      <td>13a003110016</td>\n",
       "      <td>3</td>\n",
       "      <td>3.0</td>\n",
       "      <td>2016/6/6</td>\n",
       "      <td>13a003</td>\n",
       "      <td>2016</td>\n",
       "      <td>6</td>\n",
       "      <td>20166</td>\n",
       "      <td>13a0032016</td>\n",
       "      <td>13a003110016.4</td>\n",
       "    </tr>\n",
       "    <tr>\n",
       "      <th>845266</th>\n",
       "      <td>13a003110030</td>\n",
       "      <td>1</td>\n",
       "      <td>2.0</td>\n",
       "      <td>2014/10/1</td>\n",
       "      <td>13a003</td>\n",
       "      <td>2014</td>\n",
       "      <td>10</td>\n",
       "      <td>201410</td>\n",
       "      <td>13a0032014</td>\n",
       "      <td>13a003110030.2</td>\n",
       "    </tr>\n",
       "  </tbody>\n",
       "</table>\n",
       "</div>"
      ],
      "text/plain": [
       "                  牛号  胎次   配次       配种日期      场号 yearp monthp     YMI  \\\n",
       "844724  13a003050003   9  3.0  2016/7/12  13a003  2016      7   20167   \n",
       "844876  13a003080027   3  2.0  2014/1/26  13a003  2014      1   20141   \n",
       "845035  13a003090032   2  2.0  2015/1/11  13a003  2015      1   20151   \n",
       "845252  13a003110016   3  3.0   2016/6/6  13a003  2016      6   20166   \n",
       "845266  13a003110030   1  2.0  2014/10/1  13a003  2014     10  201410   \n",
       "\n",
       "               HYI           cowtai  \n",
       "844724  13a0032016  13a003050003.10  \n",
       "844876  13a0032014   13a003080027.4  \n",
       "845035  13a0032015   13a003090032.3  \n",
       "845252  13a0032016   13a003110016.4  \n",
       "845266  13a0032014   13a003110030.2  "
      ]
     },
     "execution_count": 124,
     "metadata": {},
     "output_type": "execute_result"
    }
   ],
   "source": [
    "pcd['胎次']=list(map(lambda s:int(s),pcd['胎次']))\n",
    "pcd['胎次']=list(map(lambda s:s-1,pcd['胎次']))\n",
    "pcd.head()"
   ]
  },
  {
   "cell_type": "code",
   "execution_count": 125,
   "metadata": {},
   "outputs": [
    {
     "name": "stderr",
     "output_type": "stream",
     "text": [
      "E:\\Anaconda\\lib\\site-packages\\ipykernel_launcher.py:1: SettingWithCopyWarning: \n",
      "A value is trying to be set on a copy of a slice from a DataFrame.\n",
      "Try using .loc[row_indexer,col_indexer] = value instead\n",
      "\n",
      "See the caveats in the documentation: http://pandas.pydata.org/pandas-docs/stable/indexing.html#indexing-view-versus-copy\n",
      "  \"\"\"Entry point for launching an IPython kernel.\n",
      "E:\\Anaconda\\lib\\site-packages\\ipykernel_launcher.py:2: SettingWithCopyWarning: \n",
      "A value is trying to be set on a copy of a slice from a DataFrame.\n",
      "Try using .loc[row_indexer,col_indexer] = value instead\n",
      "\n",
      "See the caveats in the documentation: http://pandas.pydata.org/pandas-docs/stable/indexing.html#indexing-view-versus-copy\n",
      "  \n"
     ]
    }
   ],
   "source": [
    "pcd['胎次']=list(map(lambda s:str(s),pcd['胎次']))\n",
    "pcd['cowtai']=pcd['牛号']+'.'+pcd['胎次']"
   ]
  },
  {
   "cell_type": "code",
   "execution_count": 126,
   "metadata": {},
   "outputs": [],
   "source": [
    "pcd1=pcd[['牛号','胎次','配次','cowtai','配种日期']]"
   ]
  },
  {
   "cell_type": "code",
   "execution_count": 127,
   "metadata": {},
   "outputs": [
    {
     "name": "stderr",
     "output_type": "stream",
     "text": [
      "E:\\Anaconda\\lib\\site-packages\\ipykernel_launcher.py:1: SettingWithCopyWarning: \n",
      "A value is trying to be set on a copy of a slice from a DataFrame.\n",
      "Try using .loc[row_indexer,col_indexer] = value instead\n",
      "\n",
      "See the caveats in the documentation: http://pandas.pydata.org/pandas-docs/stable/indexing.html#indexing-view-versus-copy\n",
      "  \"\"\"Entry point for launching an IPython kernel.\n"
     ]
    }
   ],
   "source": [
    "pcd1['胎次']=list(map(lambda s:int(s),pcd1['胎次']))\n",
    "pcd2=pcd1[pcd1['胎次']>0]"
   ]
  },
  {
   "cell_type": "code",
   "execution_count": 128,
   "metadata": {},
   "outputs": [
    {
     "data": {
      "text/plain": [
       "牛号        155787\n",
       "胎次        155787\n",
       "配次        155787\n",
       "cowtai    155787\n",
       "配种日期      155787\n",
       "dtype: int64"
      ]
     },
     "execution_count": 128,
     "metadata": {},
     "output_type": "execute_result"
    }
   ],
   "source": [
    "pcd2.count()"
   ]
  },
  {
   "cell_type": "code",
   "execution_count": 129,
   "metadata": {},
   "outputs": [
    {
     "data": {
      "text/plain": [
       "牛号        213398\n",
       "胎次        213398\n",
       "配次        213398\n",
       "cowtai    213398\n",
       "配种日期      213398\n",
       "dtype: int64"
      ]
     },
     "execution_count": 129,
     "metadata": {},
     "output_type": "execute_result"
    }
   ],
   "source": [
    "pcd1.count()"
   ]
  },
  {
   "cell_type": "markdown",
   "metadata": {},
   "source": [
    "可见经产牛中多次配种的数据为155，787条，青年牛中有将近60，000条。是否能用首次即配上的平均天数作为罚项有待讨论。"
   ]
  },
  {
   "cell_type": "code",
   "execution_count": 130,
   "metadata": {},
   "outputs": [
    {
     "data": {
      "text/html": [
       "<div>\n",
       "<style scoped>\n",
       "    .dataframe tbody tr th:only-of-type {\n",
       "        vertical-align: middle;\n",
       "    }\n",
       "\n",
       "    .dataframe tbody tr th {\n",
       "        vertical-align: top;\n",
       "    }\n",
       "\n",
       "    .dataframe thead th {\n",
       "        text-align: right;\n",
       "    }\n",
       "</style>\n",
       "<table border=\"1\" class=\"dataframe\">\n",
       "  <thead>\n",
       "    <tr style=\"text-align: right;\">\n",
       "      <th></th>\n",
       "      <th>牛号</th>\n",
       "      <th>胎次</th>\n",
       "      <th>配次</th>\n",
       "      <th>cowtai</th>\n",
       "      <th>配种日期</th>\n",
       "    </tr>\n",
       "  </thead>\n",
       "  <tbody>\n",
       "    <tr>\n",
       "      <th>844724</th>\n",
       "      <td>13a003050003</td>\n",
       "      <td>9</td>\n",
       "      <td>3.0</td>\n",
       "      <td>13a003050003.9</td>\n",
       "      <td>2016/7/12</td>\n",
       "    </tr>\n",
       "    <tr>\n",
       "      <th>844876</th>\n",
       "      <td>13a003080027</td>\n",
       "      <td>3</td>\n",
       "      <td>2.0</td>\n",
       "      <td>13a003080027.3</td>\n",
       "      <td>2014/1/26</td>\n",
       "    </tr>\n",
       "    <tr>\n",
       "      <th>845035</th>\n",
       "      <td>13a003090032</td>\n",
       "      <td>2</td>\n",
       "      <td>2.0</td>\n",
       "      <td>13a003090032.2</td>\n",
       "      <td>2015/1/11</td>\n",
       "    </tr>\n",
       "    <tr>\n",
       "      <th>845252</th>\n",
       "      <td>13a003110016</td>\n",
       "      <td>3</td>\n",
       "      <td>3.0</td>\n",
       "      <td>13a003110016.3</td>\n",
       "      <td>2016/6/6</td>\n",
       "    </tr>\n",
       "    <tr>\n",
       "      <th>845266</th>\n",
       "      <td>13a003110030</td>\n",
       "      <td>1</td>\n",
       "      <td>2.0</td>\n",
       "      <td>13a003110030.1</td>\n",
       "      <td>2014/10/1</td>\n",
       "    </tr>\n",
       "  </tbody>\n",
       "</table>\n",
       "</div>"
      ],
      "text/plain": [
       "                  牛号  胎次   配次          cowtai       配种日期\n",
       "844724  13a003050003   9  3.0  13a003050003.9  2016/7/12\n",
       "844876  13a003080027   3  2.0  13a003080027.3  2014/1/26\n",
       "845035  13a003090032   2  2.0  13a003090032.2  2015/1/11\n",
       "845252  13a003110016   3  3.0  13a003110016.3   2016/6/6\n",
       "845266  13a003110030   1  2.0  13a003110030.1  2014/10/1"
      ]
     },
     "execution_count": 130,
     "metadata": {},
     "output_type": "execute_result"
    }
   ],
   "source": [
    "pcd2.head()"
   ]
  },
  {
   "cell_type": "code",
   "execution_count": 131,
   "metadata": {},
   "outputs": [
    {
     "name": "stderr",
     "output_type": "stream",
     "text": [
      "E:\\Anaconda\\lib\\site-packages\\ipykernel_launcher.py:2: SettingWithCopyWarning: \n",
      "A value is trying to be set on a copy of a slice from a DataFrame.\n",
      "Try using .loc[row_indexer,col_indexer] = value instead\n",
      "\n",
      "See the caveats in the documentation: http://pandas.pydata.org/pandas-docs/stable/indexing.html#indexing-view-versus-copy\n",
      "  \n"
     ]
    }
   ],
   "source": [
    "icf2=pcd2[['cowtai']]\n",
    "icf2['ICF1']=95"
   ]
  },
  {
   "cell_type": "code",
   "execution_count": 132,
   "metadata": {},
   "outputs": [],
   "source": [
    "icf1=icf[['cowtai','ICF1']]"
   ]
  },
  {
   "cell_type": "code",
   "execution_count": 133,
   "metadata": {},
   "outputs": [],
   "source": [
    "ICF=pd.concat([icf1,icf2])"
   ]
  },
  {
   "cell_type": "markdown",
   "metadata": {},
   "source": [
    "### 效应计算"
   ]
  },
  {
   "cell_type": "markdown",
   "metadata": {},
   "source": [
    "## 首末配种间隔IFL"
   ]
  },
  {
   "cell_type": "markdown",
   "metadata": {},
   "source": [
    "首末配种间隔为青年牛与经产牛共有的性状之一。计算IFL时需先提取牛只每个胎次内第一次配种和最后一次配种的时间，之后相减即可。若首配就配上，则IFL=0"
   ]
  },
  {
   "cell_type": "markdown",
   "metadata": {},
   "source": [
    "根据之前ICF的计算，经产牛首次配种即配上的平均日龄为95.10天（114,944条），经产牛多次配种数据为155,787条。平均日龄作为罚项时，胎次产犊时间加上罚项之后，用末次配种时间与其相减则可得到IFL。但是否能作为罚项还需要讨论（数据相对较少）。青年牛IFL可以使用初配时间与末次配种时间相减即可。"
   ]
  },
  {
   "cell_type": "markdown",
   "metadata": {},
   "source": [
    "### 经产牛IFL的计算"
   ]
  },
  {
   "cell_type": "code",
   "execution_count": 134,
   "metadata": {},
   "outputs": [],
   "source": [
    "import datetime as dt"
   ]
  },
  {
   "cell_type": "code",
   "execution_count": 135,
   "metadata": {},
   "outputs": [
    {
     "name": "stderr",
     "output_type": "stream",
     "text": [
      "E:\\Anaconda\\lib\\site-packages\\ipykernel_launcher.py:1: SettingWithCopyWarning: \n",
      "A value is trying to be set on a copy of a slice from a DataFrame.\n",
      "Try using .loc[row_indexer,col_indexer] = value instead\n",
      "\n",
      "See the caveats in the documentation: http://pandas.pydata.org/pandas-docs/stable/indexing.html#indexing-view-versus-copy\n",
      "  \"\"\"Entry point for launching an IPython kernel.\n"
     ]
    }
   ],
   "source": [
    "c6['产犊日期']=pd.to_datetime(c6['产犊日期'],format=\"%Y-%m-%d\")"
   ]
  },
  {
   "cell_type": "code",
   "execution_count": 136,
   "metadata": {},
   "outputs": [
    {
     "name": "stderr",
     "output_type": "stream",
     "text": [
      "E:\\Anaconda\\lib\\site-packages\\ipykernel_launcher.py:2: SettingWithCopyWarning: \n",
      "A value is trying to be set on a copy of a slice from a DataFrame.\n",
      "Try using .loc[row_indexer,col_indexer] = value instead\n",
      "\n",
      "See the caveats in the documentation: http://pandas.pydata.org/pandas-docs/stable/indexing.html#indexing-view-versus-copy\n",
      "  \n"
     ]
    }
   ],
   "source": [
    "cifl=c6\n",
    "cifl['首次配种罚项']=cifl['产犊日期']+ dt.timedelta(days = 95)"
   ]
  },
  {
   "cell_type": "code",
   "execution_count": 137,
   "metadata": {},
   "outputs": [
    {
     "data": {
      "text/html": [
       "<div>\n",
       "<style scoped>\n",
       "    .dataframe tbody tr th:only-of-type {\n",
       "        vertical-align: middle;\n",
       "    }\n",
       "\n",
       "    .dataframe tbody tr th {\n",
       "        vertical-align: top;\n",
       "    }\n",
       "\n",
       "    .dataframe thead th {\n",
       "        text-align: right;\n",
       "    }\n",
       "</style>\n",
       "<table border=\"1\" class=\"dataframe\">\n",
       "  <thead>\n",
       "    <tr style=\"text-align: right;\">\n",
       "      <th></th>\n",
       "      <th>牛号</th>\n",
       "      <th>胎次</th>\n",
       "      <th>产犊日期</th>\n",
       "      <th>cowtai</th>\n",
       "      <th>首次配种罚项</th>\n",
       "    </tr>\n",
       "  </thead>\n",
       "  <tbody>\n",
       "    <tr>\n",
       "      <th>0</th>\n",
       "      <td>110001000001</td>\n",
       "      <td>1</td>\n",
       "      <td>2002-01-19</td>\n",
       "      <td>110001000001.1</td>\n",
       "      <td>2002-04-24</td>\n",
       "    </tr>\n",
       "    <tr>\n",
       "      <th>1</th>\n",
       "      <td>110001000003</td>\n",
       "      <td>1</td>\n",
       "      <td>2002-01-18</td>\n",
       "      <td>110001000003.1</td>\n",
       "      <td>2002-04-23</td>\n",
       "    </tr>\n",
       "    <tr>\n",
       "      <th>2</th>\n",
       "      <td>110001000006</td>\n",
       "      <td>1</td>\n",
       "      <td>2002-03-25</td>\n",
       "      <td>110001000006.1</td>\n",
       "      <td>2002-06-28</td>\n",
       "    </tr>\n",
       "    <tr>\n",
       "      <th>3</th>\n",
       "      <td>110001000007</td>\n",
       "      <td>1</td>\n",
       "      <td>2002-07-12</td>\n",
       "      <td>110001000007.1</td>\n",
       "      <td>2002-10-15</td>\n",
       "    </tr>\n",
       "    <tr>\n",
       "      <th>4</th>\n",
       "      <td>110001000008</td>\n",
       "      <td>1</td>\n",
       "      <td>2002-03-04</td>\n",
       "      <td>110001000008.1</td>\n",
       "      <td>2002-06-07</td>\n",
       "    </tr>\n",
       "  </tbody>\n",
       "</table>\n",
       "</div>"
      ],
      "text/plain": [
       "             牛号  胎次       产犊日期          cowtai     首次配种罚项\n",
       "0  110001000001   1 2002-01-19  110001000001.1 2002-04-24\n",
       "1  110001000003   1 2002-01-18  110001000003.1 2002-04-23\n",
       "2  110001000006   1 2002-03-25  110001000006.1 2002-06-28\n",
       "3  110001000007   1 2002-07-12  110001000007.1 2002-10-15\n",
       "4  110001000008   1 2002-03-04  110001000008.1 2002-06-07"
      ]
     },
     "execution_count": 137,
     "metadata": {},
     "output_type": "execute_result"
    }
   ],
   "source": [
    "cifl.head()"
   ]
  },
  {
   "cell_type": "code",
   "execution_count": 138,
   "metadata": {},
   "outputs": [
    {
     "name": "stderr",
     "output_type": "stream",
     "text": [
      "E:\\Anaconda\\lib\\site-packages\\ipykernel_launcher.py:2: SettingWithCopyWarning: \n",
      "A value is trying to be set on a copy of a slice from a DataFrame.\n",
      "Try using .loc[row_indexer,col_indexer] = value instead\n",
      "\n",
      "See the caveats in the documentation: http://pandas.pydata.org/pandas-docs/stable/indexing.html#indexing-view-versus-copy\n",
      "  \n"
     ]
    }
   ],
   "source": [
    "cifl1=cifl\n",
    "cifl1['胎次']=list(map(lambda s:int(s),cifl1['胎次']))"
   ]
  },
  {
   "cell_type": "code",
   "execution_count": 139,
   "metadata": {},
   "outputs": [],
   "source": [
    "cifl2=cifl1.copy()"
   ]
  },
  {
   "cell_type": "code",
   "execution_count": 140,
   "metadata": {},
   "outputs": [],
   "source": [
    "cifl2['胎次']=list(map(lambda s:str(s),cifl2['胎次']))\n",
    "cifl2['cowtai']=cifl2['牛号']+'.'+cifl2['胎次']"
   ]
  },
  {
   "cell_type": "code",
   "execution_count": 141,
   "metadata": {},
   "outputs": [
    {
     "data": {
      "text/html": [
       "<div>\n",
       "<style scoped>\n",
       "    .dataframe tbody tr th:only-of-type {\n",
       "        vertical-align: middle;\n",
       "    }\n",
       "\n",
       "    .dataframe tbody tr th {\n",
       "        vertical-align: top;\n",
       "    }\n",
       "\n",
       "    .dataframe thead th {\n",
       "        text-align: right;\n",
       "    }\n",
       "</style>\n",
       "<table border=\"1\" class=\"dataframe\">\n",
       "  <thead>\n",
       "    <tr style=\"text-align: right;\">\n",
       "      <th></th>\n",
       "      <th>牛号</th>\n",
       "      <th>胎次</th>\n",
       "      <th>产犊日期</th>\n",
       "      <th>cowtai</th>\n",
       "      <th>首次配种罚项</th>\n",
       "    </tr>\n",
       "  </thead>\n",
       "  <tbody>\n",
       "    <tr>\n",
       "      <th>0</th>\n",
       "      <td>110001000001</td>\n",
       "      <td>1</td>\n",
       "      <td>2002-01-19</td>\n",
       "      <td>110001000001.1</td>\n",
       "      <td>2002-04-24</td>\n",
       "    </tr>\n",
       "    <tr>\n",
       "      <th>1</th>\n",
       "      <td>110001000003</td>\n",
       "      <td>1</td>\n",
       "      <td>2002-01-18</td>\n",
       "      <td>110001000003.1</td>\n",
       "      <td>2002-04-23</td>\n",
       "    </tr>\n",
       "    <tr>\n",
       "      <th>2</th>\n",
       "      <td>110001000006</td>\n",
       "      <td>1</td>\n",
       "      <td>2002-03-25</td>\n",
       "      <td>110001000006.1</td>\n",
       "      <td>2002-06-28</td>\n",
       "    </tr>\n",
       "    <tr>\n",
       "      <th>3</th>\n",
       "      <td>110001000007</td>\n",
       "      <td>1</td>\n",
       "      <td>2002-07-12</td>\n",
       "      <td>110001000007.1</td>\n",
       "      <td>2002-10-15</td>\n",
       "    </tr>\n",
       "    <tr>\n",
       "      <th>4</th>\n",
       "      <td>110001000008</td>\n",
       "      <td>1</td>\n",
       "      <td>2002-03-04</td>\n",
       "      <td>110001000008.1</td>\n",
       "      <td>2002-06-07</td>\n",
       "    </tr>\n",
       "  </tbody>\n",
       "</table>\n",
       "</div>"
      ],
      "text/plain": [
       "             牛号 胎次       产犊日期          cowtai     首次配种罚项\n",
       "0  110001000001  1 2002-01-19  110001000001.1 2002-04-24\n",
       "1  110001000003  1 2002-01-18  110001000003.1 2002-04-23\n",
       "2  110001000006  1 2002-03-25  110001000006.1 2002-06-28\n",
       "3  110001000007  1 2002-07-12  110001000007.1 2002-10-15\n",
       "4  110001000008  1 2002-03-04  110001000008.1 2002-06-07"
      ]
     },
     "execution_count": 141,
     "metadata": {},
     "output_type": "execute_result"
    }
   ],
   "source": [
    "cifl2.head()"
   ]
  },
  {
   "cell_type": "code",
   "execution_count": 142,
   "metadata": {},
   "outputs": [],
   "source": [
    "pcd3=pcd2[['cowtai','配种日期']]"
   ]
  },
  {
   "cell_type": "code",
   "execution_count": 143,
   "metadata": {},
   "outputs": [],
   "source": [
    "pcifl=pd.merge(cifl2,pcd3,on='cowtai')"
   ]
  },
  {
   "cell_type": "code",
   "execution_count": 144,
   "metadata": {},
   "outputs": [
    {
     "data": {
      "text/html": [
       "<div>\n",
       "<style scoped>\n",
       "    .dataframe tbody tr th:only-of-type {\n",
       "        vertical-align: middle;\n",
       "    }\n",
       "\n",
       "    .dataframe tbody tr th {\n",
       "        vertical-align: top;\n",
       "    }\n",
       "\n",
       "    .dataframe thead th {\n",
       "        text-align: right;\n",
       "    }\n",
       "</style>\n",
       "<table border=\"1\" class=\"dataframe\">\n",
       "  <thead>\n",
       "    <tr style=\"text-align: right;\">\n",
       "      <th></th>\n",
       "      <th>牛号</th>\n",
       "      <th>胎次</th>\n",
       "      <th>产犊日期</th>\n",
       "      <th>cowtai</th>\n",
       "      <th>首次配种罚项</th>\n",
       "      <th>配种日期</th>\n",
       "    </tr>\n",
       "  </thead>\n",
       "  <tbody>\n",
       "    <tr>\n",
       "      <th>0</th>\n",
       "      <td>13a003080027</td>\n",
       "      <td>3</td>\n",
       "      <td>2013-01-28</td>\n",
       "      <td>13a003080027.3</td>\n",
       "      <td>2013-05-03</td>\n",
       "      <td>2014-01-26</td>\n",
       "    </tr>\n",
       "    <tr>\n",
       "      <th>1</th>\n",
       "      <td>13a003090032</td>\n",
       "      <td>2</td>\n",
       "      <td>2012-02-04</td>\n",
       "      <td>13a003090032.2</td>\n",
       "      <td>2012-05-09</td>\n",
       "      <td>2015-01-11</td>\n",
       "    </tr>\n",
       "    <tr>\n",
       "      <th>2</th>\n",
       "      <td>13a003110016</td>\n",
       "      <td>3</td>\n",
       "      <td>2015-08-04</td>\n",
       "      <td>13a003110016.3</td>\n",
       "      <td>2015-11-07</td>\n",
       "      <td>2016-06-06</td>\n",
       "    </tr>\n",
       "    <tr>\n",
       "      <th>3</th>\n",
       "      <td>13a003110030</td>\n",
       "      <td>1</td>\n",
       "      <td>2014-03-05</td>\n",
       "      <td>13a003110030.1</td>\n",
       "      <td>2014-06-08</td>\n",
       "      <td>2014-10-01</td>\n",
       "    </tr>\n",
       "    <tr>\n",
       "      <th>4</th>\n",
       "      <td>13a003111070</td>\n",
       "      <td>4</td>\n",
       "      <td>2016-01-20</td>\n",
       "      <td>13a003111070.4</td>\n",
       "      <td>2016-04-24</td>\n",
       "      <td>2016-06-26</td>\n",
       "    </tr>\n",
       "  </tbody>\n",
       "</table>\n",
       "</div>"
      ],
      "text/plain": [
       "             牛号 胎次       产犊日期          cowtai     首次配种罚项       配种日期\n",
       "0  13a003080027  3 2013-01-28  13a003080027.3 2013-05-03 2014-01-26\n",
       "1  13a003090032  2 2012-02-04  13a003090032.2 2012-05-09 2015-01-11\n",
       "2  13a003110016  3 2015-08-04  13a003110016.3 2015-11-07 2016-06-06\n",
       "3  13a003110030  1 2014-03-05  13a003110030.1 2014-06-08 2014-10-01\n",
       "4  13a003111070  4 2016-01-20  13a003111070.4 2016-04-24 2016-06-26"
      ]
     },
     "execution_count": 144,
     "metadata": {},
     "output_type": "execute_result"
    }
   ],
   "source": [
    "pcifl['配种日期']=pd.to_datetime(pcifl['配种日期'],format=\"%Y-%m-%d\")\n",
    "pcifl.head()"
   ]
  },
  {
   "cell_type": "code",
   "execution_count": 145,
   "metadata": {},
   "outputs": [],
   "source": [
    "pcifl['IFL']=pcifl['配种日期']-pcifl['首次配种罚项']\n",
    "pcifl['IFL']=list(map(lambda s: s.days,pcifl['IFL']))"
   ]
  },
  {
   "cell_type": "code",
   "execution_count": 146,
   "metadata": {},
   "outputs": [
    {
     "data": {
      "text/html": [
       "<div>\n",
       "<style scoped>\n",
       "    .dataframe tbody tr th:only-of-type {\n",
       "        vertical-align: middle;\n",
       "    }\n",
       "\n",
       "    .dataframe tbody tr th {\n",
       "        vertical-align: top;\n",
       "    }\n",
       "\n",
       "    .dataframe thead th {\n",
       "        text-align: right;\n",
       "    }\n",
       "</style>\n",
       "<table border=\"1\" class=\"dataframe\">\n",
       "  <thead>\n",
       "    <tr style=\"text-align: right;\">\n",
       "      <th></th>\n",
       "      <th>IFL</th>\n",
       "    </tr>\n",
       "  </thead>\n",
       "  <tbody>\n",
       "    <tr>\n",
       "      <th>count</th>\n",
       "      <td>151767.000000</td>\n",
       "    </tr>\n",
       "    <tr>\n",
       "      <th>mean</th>\n",
       "      <td>72.676043</td>\n",
       "    </tr>\n",
       "    <tr>\n",
       "      <th>std</th>\n",
       "      <td>130.980250</td>\n",
       "    </tr>\n",
       "    <tr>\n",
       "      <th>min</th>\n",
       "      <td>-6023.000000</td>\n",
       "    </tr>\n",
       "    <tr>\n",
       "      <th>25%</th>\n",
       "      <td>-5.000000</td>\n",
       "    </tr>\n",
       "    <tr>\n",
       "      <th>50%</th>\n",
       "      <td>40.000000</td>\n",
       "    </tr>\n",
       "    <tr>\n",
       "      <th>75%</th>\n",
       "      <td>120.000000</td>\n",
       "    </tr>\n",
       "    <tr>\n",
       "      <th>max</th>\n",
       "      <td>2253.000000</td>\n",
       "    </tr>\n",
       "  </tbody>\n",
       "</table>\n",
       "</div>"
      ],
      "text/plain": [
       "                 IFL\n",
       "count  151767.000000\n",
       "mean       72.676043\n",
       "std       130.980250\n",
       "min     -6023.000000\n",
       "25%        -5.000000\n",
       "50%        40.000000\n",
       "75%       120.000000\n",
       "max      2253.000000"
      ]
     },
     "execution_count": 146,
     "metadata": {},
     "output_type": "execute_result"
    }
   ],
   "source": [
    "pcifl.describe()"
   ]
  },
  {
   "cell_type": "code",
   "execution_count": 147,
   "metadata": {},
   "outputs": [],
   "source": [
    "pcifl1=pcifl[(pcifl['IFL']<366)&(pcifl['IFL']>=25)]"
   ]
  },
  {
   "cell_type": "code",
   "execution_count": 148,
   "metadata": {},
   "outputs": [
    {
     "data": {
      "text/html": [
       "<div>\n",
       "<style scoped>\n",
       "    .dataframe tbody tr th:only-of-type {\n",
       "        vertical-align: middle;\n",
       "    }\n",
       "\n",
       "    .dataframe tbody tr th {\n",
       "        vertical-align: top;\n",
       "    }\n",
       "\n",
       "    .dataframe thead th {\n",
       "        text-align: right;\n",
       "    }\n",
       "</style>\n",
       "<table border=\"1\" class=\"dataframe\">\n",
       "  <thead>\n",
       "    <tr style=\"text-align: right;\">\n",
       "      <th></th>\n",
       "      <th>IFL</th>\n",
       "    </tr>\n",
       "  </thead>\n",
       "  <tbody>\n",
       "    <tr>\n",
       "      <th>count</th>\n",
       "      <td>83005.000000</td>\n",
       "    </tr>\n",
       "    <tr>\n",
       "      <th>mean</th>\n",
       "      <td>121.309042</td>\n",
       "    </tr>\n",
       "    <tr>\n",
       "      <th>std</th>\n",
       "      <td>83.237051</td>\n",
       "    </tr>\n",
       "    <tr>\n",
       "      <th>min</th>\n",
       "      <td>25.000000</td>\n",
       "    </tr>\n",
       "    <tr>\n",
       "      <th>25%</th>\n",
       "      <td>54.000000</td>\n",
       "    </tr>\n",
       "    <tr>\n",
       "      <th>50%</th>\n",
       "      <td>96.000000</td>\n",
       "    </tr>\n",
       "    <tr>\n",
       "      <th>75%</th>\n",
       "      <td>171.000000</td>\n",
       "    </tr>\n",
       "    <tr>\n",
       "      <th>max</th>\n",
       "      <td>365.000000</td>\n",
       "    </tr>\n",
       "  </tbody>\n",
       "</table>\n",
       "</div>"
      ],
      "text/plain": [
       "                IFL\n",
       "count  83005.000000\n",
       "mean     121.309042\n",
       "std       83.237051\n",
       "min       25.000000\n",
       "25%       54.000000\n",
       "50%       96.000000\n",
       "75%      171.000000\n",
       "max      365.000000"
      ]
     },
     "execution_count": 148,
     "metadata": {},
     "output_type": "execute_result"
    }
   ],
   "source": [
    "pcifl1.describe()"
   ]
  },
  {
   "cell_type": "code",
   "execution_count": 149,
   "metadata": {},
   "outputs": [
    {
     "data": {
      "image/png": "[encoded data removed]",
      "text/plain": [
       "<matplotlib.figure.Figure at 0x1dbc4aa3f28>"
      ]
     },
     "metadata": {},
     "output_type": "display_data"
    }
   ],
   "source": [
    "pci=sns.distplot(pcifl1['IFL'],bins=40,kde=False)"
   ]
  },
  {
   "cell_type": "markdown",
   "metadata": {},
   "source": [
    "以与罚项差值=25天为临界点，计算得到经产牛IFL数据83，005条。"
   ]
  },
  {
   "cell_type": "markdown",
   "metadata": {},
   "source": [
    "目前需要考虑的一个问题：如果罚项加的天数之后，其大于牛胎次内末次配种的日期，则会出现负值或比较小的值。所以应先统计产犊日期与配种日期之差小于95+25天的个体。"
   ]
  },
  {
   "cell_type": "code",
   "execution_count": 150,
   "metadata": {},
   "outputs": [],
   "source": [
    "pcifl['valid']=pcifl['配种日期']-pcifl['产犊日期']\n",
    "pcifl['valid']=list(map(lambda s: s.days,pcifl['valid']))"
   ]
  },
  {
   "cell_type": "code",
   "execution_count": 151,
   "metadata": {},
   "outputs": [],
   "source": [
    "pciflv=pcifl.copy()"
   ]
  },
  {
   "cell_type": "code",
   "execution_count": 152,
   "metadata": {},
   "outputs": [],
   "source": [
    "pciflv=pciflv[(pciflv['valid']<=120)&(pciflv['valid']>=0)]"
   ]
  },
  {
   "cell_type": "code",
   "execution_count": 153,
   "metadata": {},
   "outputs": [
    {
     "data": {
      "text/html": [
       "<div>\n",
       "<style scoped>\n",
       "    .dataframe tbody tr th:only-of-type {\n",
       "        vertical-align: middle;\n",
       "    }\n",
       "\n",
       "    .dataframe tbody tr th {\n",
       "        vertical-align: top;\n",
       "    }\n",
       "\n",
       "    .dataframe thead th {\n",
       "        text-align: right;\n",
       "    }\n",
       "</style>\n",
       "<table border=\"1\" class=\"dataframe\">\n",
       "  <thead>\n",
       "    <tr style=\"text-align: right;\">\n",
       "      <th></th>\n",
       "      <th>IFL</th>\n",
       "      <th>valid</th>\n",
       "    </tr>\n",
       "  </thead>\n",
       "  <tbody>\n",
       "    <tr>\n",
       "      <th>count</th>\n",
       "      <td>64220.000000</td>\n",
       "      <td>64220.000000</td>\n",
       "    </tr>\n",
       "    <tr>\n",
       "      <th>mean</th>\n",
       "      <td>-11.212551</td>\n",
       "      <td>83.787449</td>\n",
       "    </tr>\n",
       "    <tr>\n",
       "      <th>std</th>\n",
       "      <td>21.798450</td>\n",
       "      <td>21.798450</td>\n",
       "    </tr>\n",
       "    <tr>\n",
       "      <th>min</th>\n",
       "      <td>-95.000000</td>\n",
       "      <td>0.000000</td>\n",
       "    </tr>\n",
       "    <tr>\n",
       "      <th>25%</th>\n",
       "      <td>-28.000000</td>\n",
       "      <td>67.000000</td>\n",
       "    </tr>\n",
       "    <tr>\n",
       "      <th>50%</th>\n",
       "      <td>-11.000000</td>\n",
       "      <td>84.000000</td>\n",
       "    </tr>\n",
       "    <tr>\n",
       "      <th>75%</th>\n",
       "      <td>7.000000</td>\n",
       "      <td>102.000000</td>\n",
       "    </tr>\n",
       "    <tr>\n",
       "      <th>max</th>\n",
       "      <td>25.000000</td>\n",
       "      <td>120.000000</td>\n",
       "    </tr>\n",
       "  </tbody>\n",
       "</table>\n",
       "</div>"
      ],
      "text/plain": [
       "                IFL         valid\n",
       "count  64220.000000  64220.000000\n",
       "mean     -11.212551     83.787449\n",
       "std       21.798450     21.798450\n",
       "min      -95.000000      0.000000\n",
       "25%      -28.000000     67.000000\n",
       "50%      -11.000000     84.000000\n",
       "75%        7.000000    102.000000\n",
       "max       25.000000    120.000000"
      ]
     },
     "execution_count": 153,
     "metadata": {},
     "output_type": "execute_result"
    }
   ],
   "source": [
    "pciflv.describe()"
   ]
  },
  {
   "cell_type": "markdown",
   "metadata": {},
   "source": [
    "可见有64,420条数据在罚项的范围内，如何处理这些数据？"
   ]
  },
  {
   "cell_type": "markdown",
   "metadata": {},
   "source": [
    "### 青年牛IFL的计算"
   ]
  },
  {
   "cell_type": "code",
   "execution_count": 154,
   "metadata": {},
   "outputs": [],
   "source": [
    "pcd4=pcd1[pcd1['胎次']==0]"
   ]
  },
  {
   "cell_type": "code",
   "execution_count": 155,
   "metadata": {},
   "outputs": [
    {
     "data": {
      "text/html": [
       "<div>\n",
       "<style scoped>\n",
       "    .dataframe tbody tr th:only-of-type {\n",
       "        vertical-align: middle;\n",
       "    }\n",
       "\n",
       "    .dataframe tbody tr th {\n",
       "        vertical-align: top;\n",
       "    }\n",
       "\n",
       "    .dataframe thead th {\n",
       "        text-align: right;\n",
       "    }\n",
       "</style>\n",
       "<table border=\"1\" class=\"dataframe\">\n",
       "  <thead>\n",
       "    <tr style=\"text-align: right;\">\n",
       "      <th></th>\n",
       "      <th>胎次</th>\n",
       "      <th>配次</th>\n",
       "    </tr>\n",
       "  </thead>\n",
       "  <tbody>\n",
       "    <tr>\n",
       "      <th>count</th>\n",
       "      <td>57610.0</td>\n",
       "      <td>57610.000000</td>\n",
       "    </tr>\n",
       "    <tr>\n",
       "      <th>mean</th>\n",
       "      <td>0.0</td>\n",
       "      <td>2.901198</td>\n",
       "    </tr>\n",
       "    <tr>\n",
       "      <th>std</th>\n",
       "      <td>0.0</td>\n",
       "      <td>1.477011</td>\n",
       "    </tr>\n",
       "    <tr>\n",
       "      <th>min</th>\n",
       "      <td>0.0</td>\n",
       "      <td>2.000000</td>\n",
       "    </tr>\n",
       "    <tr>\n",
       "      <th>25%</th>\n",
       "      <td>0.0</td>\n",
       "      <td>2.000000</td>\n",
       "    </tr>\n",
       "    <tr>\n",
       "      <th>50%</th>\n",
       "      <td>0.0</td>\n",
       "      <td>2.000000</td>\n",
       "    </tr>\n",
       "    <tr>\n",
       "      <th>75%</th>\n",
       "      <td>0.0</td>\n",
       "      <td>3.000000</td>\n",
       "    </tr>\n",
       "    <tr>\n",
       "      <th>max</th>\n",
       "      <td>0.0</td>\n",
       "      <td>19.000000</td>\n",
       "    </tr>\n",
       "  </tbody>\n",
       "</table>\n",
       "</div>"
      ],
      "text/plain": [
       "            胎次            配次\n",
       "count  57610.0  57610.000000\n",
       "mean       0.0      2.901198\n",
       "std        0.0      1.477011\n",
       "min        0.0      2.000000\n",
       "25%        0.0      2.000000\n",
       "50%        0.0      2.000000\n",
       "75%        0.0      3.000000\n",
       "max        0.0     19.000000"
      ]
     },
     "execution_count": 155,
     "metadata": {},
     "output_type": "execute_result"
    }
   ],
   "source": [
    "pcd4.describe()"
   ]
  },
  {
   "cell_type": "markdown",
   "metadata": {},
   "source": [
    "由上可知青年牛末配数据为57,610条。"
   ]
  },
  {
   "cell_type": "code",
   "execution_count": 156,
   "metadata": {},
   "outputs": [],
   "source": [
    "iflh=pd.merge(pcd4,cpp,on='牛号')"
   ]
  },
  {
   "cell_type": "code",
   "execution_count": 157,
   "metadata": {},
   "outputs": [
    {
     "data": {
      "text/html": [
       "<div>\n",
       "<style scoped>\n",
       "    .dataframe tbody tr th:only-of-type {\n",
       "        vertical-align: middle;\n",
       "    }\n",
       "\n",
       "    .dataframe tbody tr th {\n",
       "        vertical-align: top;\n",
       "    }\n",
       "\n",
       "    .dataframe thead th {\n",
       "        text-align: right;\n",
       "    }\n",
       "</style>\n",
       "<table border=\"1\" class=\"dataframe\">\n",
       "  <thead>\n",
       "    <tr style=\"text-align: right;\">\n",
       "      <th></th>\n",
       "      <th>牛号</th>\n",
       "      <th>胎次</th>\n",
       "      <th>配次</th>\n",
       "      <th>cowtai</th>\n",
       "      <th>配种日期</th>\n",
       "      <th>初配日期</th>\n",
       "    </tr>\n",
       "  </thead>\n",
       "  <tbody>\n",
       "    <tr>\n",
       "      <th>0</th>\n",
       "      <td>13a003110046</td>\n",
       "      <td>0</td>\n",
       "      <td>2.0</td>\n",
       "      <td>13a003110046.0</td>\n",
       "      <td>2014/11/20</td>\n",
       "      <td>2014/3/5</td>\n",
       "    </tr>\n",
       "    <tr>\n",
       "      <th>1</th>\n",
       "      <td>13a003120084</td>\n",
       "      <td>0</td>\n",
       "      <td>2.0</td>\n",
       "      <td>13a003120084.0</td>\n",
       "      <td>2014/5/9</td>\n",
       "      <td>2013/11/8</td>\n",
       "    </tr>\n",
       "    <tr>\n",
       "      <th>2</th>\n",
       "      <td>13a003120090</td>\n",
       "      <td>0</td>\n",
       "      <td>2.0</td>\n",
       "      <td>13a003120090.0</td>\n",
       "      <td>2014/10/10</td>\n",
       "      <td>2014/3/4</td>\n",
       "    </tr>\n",
       "    <tr>\n",
       "      <th>3</th>\n",
       "      <td>13a003130004</td>\n",
       "      <td>0</td>\n",
       "      <td>2.0</td>\n",
       "      <td>13a003130004.0</td>\n",
       "      <td>2014/11/10</td>\n",
       "      <td>2014/9/3</td>\n",
       "    </tr>\n",
       "    <tr>\n",
       "      <th>4</th>\n",
       "      <td>13a003130036</td>\n",
       "      <td>0</td>\n",
       "      <td>2.0</td>\n",
       "      <td>13a003130036.0</td>\n",
       "      <td>2014/11/5</td>\n",
       "      <td>2014/8/18</td>\n",
       "    </tr>\n",
       "  </tbody>\n",
       "</table>\n",
       "</div>"
      ],
      "text/plain": [
       "             牛号  胎次   配次          cowtai        配种日期       初配日期\n",
       "0  13a003110046   0  2.0  13a003110046.0  2014/11/20   2014/3/5\n",
       "1  13a003120084   0  2.0  13a003120084.0    2014/5/9  2013/11/8\n",
       "2  13a003120090   0  2.0  13a003120090.0  2014/10/10   2014/3/4\n",
       "3  13a003130004   0  2.0  13a003130004.0  2014/11/10   2014/9/3\n",
       "4  13a003130036   0  2.0  13a003130036.0   2014/11/5  2014/8/18"
      ]
     },
     "execution_count": 157,
     "metadata": {},
     "output_type": "execute_result"
    }
   ],
   "source": [
    "iflh.head()"
   ]
  },
  {
   "cell_type": "code",
   "execution_count": 158,
   "metadata": {},
   "outputs": [],
   "source": [
    "iflh['配种日期']=pd.to_datetime(iflh['配种日期'],format=\"%Y-%m-%d\")\n",
    "iflh['初配日期']=pd.to_datetime(iflh['初配日期'],format=\"%Y-%m-%d\")"
   ]
  },
  {
   "cell_type": "code",
   "execution_count": 159,
   "metadata": {},
   "outputs": [],
   "source": [
    "iflhv=iflh.copy()"
   ]
  },
  {
   "cell_type": "code",
   "execution_count": 160,
   "metadata": {},
   "outputs": [],
   "source": [
    "iflhv['IFL']=iflhv['配种日期']-iflhv['初配日期']\n",
    "iflhv['IFL']=list(map(lambda s:s.days,iflhv['IFL']))"
   ]
  },
  {
   "cell_type": "code",
   "execution_count": 161,
   "metadata": {},
   "outputs": [],
   "source": [
    "iflhv=iflhv[((iflhv['IFL']<=365)&(iflhv['IFL']>=25))|(iflhv['IFL']==0)]"
   ]
  },
  {
   "cell_type": "code",
   "execution_count": 162,
   "metadata": {},
   "outputs": [
    {
     "data": {
      "text/html": [
       "<div>\n",
       "<style scoped>\n",
       "    .dataframe tbody tr th:only-of-type {\n",
       "        vertical-align: middle;\n",
       "    }\n",
       "\n",
       "    .dataframe tbody tr th {\n",
       "        vertical-align: top;\n",
       "    }\n",
       "\n",
       "    .dataframe thead th {\n",
       "        text-align: right;\n",
       "    }\n",
       "</style>\n",
       "<table border=\"1\" class=\"dataframe\">\n",
       "  <thead>\n",
       "    <tr style=\"text-align: right;\">\n",
       "      <th></th>\n",
       "      <th>胎次</th>\n",
       "      <th>配次</th>\n",
       "      <th>IFL</th>\n",
       "    </tr>\n",
       "  </thead>\n",
       "  <tbody>\n",
       "    <tr>\n",
       "      <th>count</th>\n",
       "      <td>48765.0</td>\n",
       "      <td>48765.000000</td>\n",
       "      <td>48765.000000</td>\n",
       "    </tr>\n",
       "    <tr>\n",
       "      <th>mean</th>\n",
       "      <td>0.0</td>\n",
       "      <td>3.098821</td>\n",
       "      <td>87.890044</td>\n",
       "    </tr>\n",
       "    <tr>\n",
       "      <th>std</th>\n",
       "      <td>0.0</td>\n",
       "      <td>1.405580</td>\n",
       "      <td>75.863761</td>\n",
       "    </tr>\n",
       "    <tr>\n",
       "      <th>min</th>\n",
       "      <td>0.0</td>\n",
       "      <td>2.000000</td>\n",
       "      <td>0.000000</td>\n",
       "    </tr>\n",
       "    <tr>\n",
       "      <th>25%</th>\n",
       "      <td>0.0</td>\n",
       "      <td>2.000000</td>\n",
       "      <td>40.000000</td>\n",
       "    </tr>\n",
       "    <tr>\n",
       "      <th>50%</th>\n",
       "      <td>0.0</td>\n",
       "      <td>3.000000</td>\n",
       "      <td>63.000000</td>\n",
       "    </tr>\n",
       "    <tr>\n",
       "      <th>75%</th>\n",
       "      <td>0.0</td>\n",
       "      <td>4.000000</td>\n",
       "      <td>114.000000</td>\n",
       "    </tr>\n",
       "    <tr>\n",
       "      <th>max</th>\n",
       "      <td>0.0</td>\n",
       "      <td>18.000000</td>\n",
       "      <td>365.000000</td>\n",
       "    </tr>\n",
       "  </tbody>\n",
       "</table>\n",
       "</div>"
      ],
      "text/plain": [
       "            胎次            配次           IFL\n",
       "count  48765.0  48765.000000  48765.000000\n",
       "mean       0.0      3.098821     87.890044\n",
       "std        0.0      1.405580     75.863761\n",
       "min        0.0      2.000000      0.000000\n",
       "25%        0.0      2.000000     40.000000\n",
       "50%        0.0      3.000000     63.000000\n",
       "75%        0.0      4.000000    114.000000\n",
       "max        0.0     18.000000    365.000000"
      ]
     },
     "execution_count": 162,
     "metadata": {},
     "output_type": "execute_result"
    }
   ],
   "source": [
    "iflhv.describe()"
   ]
  },
  {
   "cell_type": "markdown",
   "metadata": {},
   "source": [
    "以IFL>=25为阈值，最后可得48,765(43,852+4913)条有效范围内的青年牛IFL。"
   ]
  },
  {
   "cell_type": "markdown",
   "metadata": {},
   "source": [
    "### 仅配种一次的数据计算IFL"
   ]
  },
  {
   "cell_type": "code",
   "execution_count": 163,
   "metadata": {},
   "outputs": [],
   "source": [
    "pce=pc5[pc5['配次']==1]"
   ]
  },
  {
   "cell_type": "code",
   "execution_count": 164,
   "metadata": {},
   "outputs": [
    {
     "name": "stderr",
     "output_type": "stream",
     "text": [
      "E:\\Anaconda\\lib\\site-packages\\ipykernel_launcher.py:1: SettingWithCopyWarning: \n",
      "A value is trying to be set on a copy of a slice from a DataFrame.\n",
      "Try using .loc[row_indexer,col_indexer] = value instead\n",
      "\n",
      "See the caveats in the documentation: http://pandas.pydata.org/pandas-docs/stable/indexing.html#indexing-view-versus-copy\n",
      "  \"\"\"Entry point for launching an IPython kernel.\n",
      "E:\\Anaconda\\lib\\site-packages\\ipykernel_launcher.py:2: SettingWithCopyWarning: \n",
      "A value is trying to be set on a copy of a slice from a DataFrame.\n",
      "Try using .loc[row_indexer,col_indexer] = value instead\n",
      "\n",
      "See the caveats in the documentation: http://pandas.pydata.org/pandas-docs/stable/indexing.html#indexing-view-versus-copy\n",
      "  \n"
     ]
    }
   ],
   "source": [
    "pce['胎次']=list(map(lambda s:int(s),pce['胎次']))\n",
    "pce['胎次']=list(map(lambda s:s-1,pce['胎次']))"
   ]
  },
  {
   "cell_type": "code",
   "execution_count": 165,
   "metadata": {},
   "outputs": [],
   "source": [
    "pce1=pce[pce['胎次']==0]\n",
    "pce2=pce[pce['胎次']>0]"
   ]
  },
  {
   "cell_type": "code",
   "execution_count": 166,
   "metadata": {},
   "outputs": [
    {
     "name": "stdout",
     "output_type": "stream",
     "text": [
      "             胎次        配次\n",
      "count  123888.0  123888.0\n",
      "mean        0.0       1.0\n",
      "std         0.0       0.0\n",
      "min         0.0       1.0\n",
      "25%         0.0       1.0\n",
      "50%         0.0       1.0\n",
      "75%         0.0       1.0\n",
      "max         0.0       1.0\n",
      "----------\n",
      "                  胎次        配次\n",
      "count  136268.000000  136268.0\n",
      "mean        2.036296       1.0\n",
      "std         1.276500       0.0\n",
      "min         1.000000       1.0\n",
      "25%         1.000000       1.0\n",
      "50%         2.000000       1.0\n",
      "75%         3.000000       1.0\n",
      "max        11.000000       1.0\n"
     ]
    }
   ],
   "source": [
    "print(pce1.describe())\n",
    "print('-'*10)\n",
    "print(pce2.describe())"
   ]
  },
  {
   "cell_type": "markdown",
   "metadata": {},
   "source": [
    "可见总共有123，888,+136,268条数据为首次配种即配上的数据，即IFL=0。接下来使用初配时间进行验证青年牛数据时，仅有4913条数据IFL=0，而且由于经产牛只有配日期数据，只能依靠配次=1来确定数据集IFL=0。\n",
    "\n",
    "是否直接使用配次=1的数据作为首次配种即配上的数据？应该可以，因为ICF也可以验证：114,944条有效数据/136,268（84.35%）条首次配种即配上数据。"
   ]
  },
  {
   "cell_type": "markdown",
   "metadata": {},
   "source": [
    "将配次=1的数据加上IFL=0一列"
   ]
  },
  {
   "cell_type": "code",
   "execution_count": 167,
   "metadata": {},
   "outputs": [
    {
     "name": "stderr",
     "output_type": "stream",
     "text": [
      "E:\\Anaconda\\lib\\site-packages\\ipykernel_launcher.py:1: SettingWithCopyWarning: \n",
      "A value is trying to be set on a copy of a slice from a DataFrame.\n",
      "Try using .loc[row_indexer,col_indexer] = value instead\n",
      "\n",
      "See the caveats in the documentation: http://pandas.pydata.org/pandas-docs/stable/indexing.html#indexing-view-versus-copy\n",
      "  \"\"\"Entry point for launching an IPython kernel.\n",
      "E:\\Anaconda\\lib\\site-packages\\ipykernel_launcher.py:2: SettingWithCopyWarning: \n",
      "A value is trying to be set on a copy of a slice from a DataFrame.\n",
      "Try using .loc[row_indexer,col_indexer] = value instead\n",
      "\n",
      "See the caveats in the documentation: http://pandas.pydata.org/pandas-docs/stable/indexing.html#indexing-view-versus-copy\n",
      "  \n",
      "E:\\Anaconda\\lib\\site-packages\\ipykernel_launcher.py:3: SettingWithCopyWarning: \n",
      "A value is trying to be set on a copy of a slice from a DataFrame.\n",
      "Try using .loc[row_indexer,col_indexer] = value instead\n",
      "\n",
      "See the caveats in the documentation: http://pandas.pydata.org/pandas-docs/stable/indexing.html#indexing-view-versus-copy\n",
      "  This is separate from the ipykernel package so we can avoid doing imports until\n"
     ]
    }
   ],
   "source": [
    "pce['胎次']=list(map(lambda s:str(s),pce['胎次']))\n",
    "pce['cowtai']=pce['牛号']+'.'+pce['胎次']\n",
    "pce['IFL']=0"
   ]
  },
  {
   "cell_type": "code",
   "execution_count": 168,
   "metadata": {},
   "outputs": [
    {
     "data": {
      "text/html": [
       "<div>\n",
       "<style scoped>\n",
       "    .dataframe tbody tr th:only-of-type {\n",
       "        vertical-align: middle;\n",
       "    }\n",
       "\n",
       "    .dataframe tbody tr th {\n",
       "        vertical-align: top;\n",
       "    }\n",
       "\n",
       "    .dataframe thead th {\n",
       "        text-align: right;\n",
       "    }\n",
       "</style>\n",
       "<table border=\"1\" class=\"dataframe\">\n",
       "  <thead>\n",
       "    <tr style=\"text-align: right;\">\n",
       "      <th></th>\n",
       "      <th>牛号</th>\n",
       "      <th>胎次</th>\n",
       "      <th>配次</th>\n",
       "      <th>配种日期</th>\n",
       "      <th>场号</th>\n",
       "      <th>yearp</th>\n",
       "      <th>monthp</th>\n",
       "      <th>YMI</th>\n",
       "      <th>HYI</th>\n",
       "      <th>cowtai</th>\n",
       "      <th>IFL</th>\n",
       "    </tr>\n",
       "  </thead>\n",
       "  <tbody>\n",
       "    <tr>\n",
       "      <th>26056</th>\n",
       "      <td>110010201304</td>\n",
       "      <td>7</td>\n",
       "      <td>1.0</td>\n",
       "      <td>2011/12/12</td>\n",
       "      <td>110010</td>\n",
       "      <td>2011</td>\n",
       "      <td>12</td>\n",
       "      <td>201112</td>\n",
       "      <td>1100102011</td>\n",
       "      <td>110010201304.7</td>\n",
       "      <td>0</td>\n",
       "    </tr>\n",
       "    <tr>\n",
       "      <th>52918</th>\n",
       "      <td>110015008172</td>\n",
       "      <td>2</td>\n",
       "      <td>1.0</td>\n",
       "      <td>2012/5/26</td>\n",
       "      <td>110015</td>\n",
       "      <td>2012</td>\n",
       "      <td>5</td>\n",
       "      <td>20125</td>\n",
       "      <td>1100152012</td>\n",
       "      <td>110015008172.2</td>\n",
       "      <td>0</td>\n",
       "    </tr>\n",
       "    <tr>\n",
       "      <th>53889</th>\n",
       "      <td>110015008627</td>\n",
       "      <td>1</td>\n",
       "      <td>1.0</td>\n",
       "      <td>2012/7/6</td>\n",
       "      <td>110015</td>\n",
       "      <td>2012</td>\n",
       "      <td>7</td>\n",
       "      <td>20127</td>\n",
       "      <td>1100152012</td>\n",
       "      <td>110015008627.1</td>\n",
       "      <td>0</td>\n",
       "    </tr>\n",
       "    <tr>\n",
       "      <th>54399</th>\n",
       "      <td>110015009131</td>\n",
       "      <td>1</td>\n",
       "      <td>1.0</td>\n",
       "      <td>2012/4/22</td>\n",
       "      <td>110015</td>\n",
       "      <td>2012</td>\n",
       "      <td>4</td>\n",
       "      <td>20124</td>\n",
       "      <td>1100152012</td>\n",
       "      <td>110015009131.1</td>\n",
       "      <td>0</td>\n",
       "    </tr>\n",
       "    <tr>\n",
       "      <th>54932</th>\n",
       "      <td>110015009363</td>\n",
       "      <td>1</td>\n",
       "      <td>1.0</td>\n",
       "      <td>2012/5/19</td>\n",
       "      <td>110015</td>\n",
       "      <td>2012</td>\n",
       "      <td>5</td>\n",
       "      <td>20125</td>\n",
       "      <td>1100152012</td>\n",
       "      <td>110015009363.1</td>\n",
       "      <td>0</td>\n",
       "    </tr>\n",
       "  </tbody>\n",
       "</table>\n",
       "</div>"
      ],
      "text/plain": [
       "                 牛号 胎次   配次        配种日期      场号 yearp monthp     YMI  \\\n",
       "26056  110010201304  7  1.0  2011/12/12  110010  2011     12  201112   \n",
       "52918  110015008172  2  1.0   2012/5/26  110015  2012      5   20125   \n",
       "53889  110015008627  1  1.0    2012/7/6  110015  2012      7   20127   \n",
       "54399  110015009131  1  1.0   2012/4/22  110015  2012      4   20124   \n",
       "54932  110015009363  1  1.0   2012/5/19  110015  2012      5   20125   \n",
       "\n",
       "              HYI          cowtai  IFL  \n",
       "26056  1100102011  110010201304.7    0  \n",
       "52918  1100152012  110015008172.2    0  \n",
       "53889  1100152012  110015008627.1    0  \n",
       "54399  1100152012  110015009131.1    0  \n",
       "54932  1100152012  110015009363.1    0  "
      ]
     },
     "execution_count": 168,
     "metadata": {},
     "output_type": "execute_result"
    }
   ],
   "source": [
    "pce.head()"
   ]
  },
  {
   "cell_type": "markdown",
   "metadata": {},
   "source": [
    "### 效应计算"
   ]
  },
  {
   "cell_type": "markdown",
   "metadata": {},
   "source": [
    "共获得83,005（IFL_C多次配种，罚项），64,420（IFL_C多次配种，罚项范围内），48,765（IFL_H多次配种），260,156（IFL=0），总共456,346条IFL数据。"
   ]
  },
  {
   "cell_type": "markdown",
   "metadata": {},
   "source": [
    "由于经产牛没有首次配种数据，使用罚项值作为其效应？那罚项范围内的数据如何定义首次配种时间？"
   ]
  },
  {
   "cell_type": "code",
   "execution_count": 169,
   "metadata": {},
   "outputs": [],
   "source": [
    "ifl1=pce[['cowtai','IFL']]\n",
    "ifl2=pcifl1[['cowtai','IFL']]\n",
    "ifl3=iflhv[['cowtai','IFL']]"
   ]
  },
  {
   "cell_type": "code",
   "execution_count": 170,
   "metadata": {},
   "outputs": [],
   "source": [
    "iflt=pd.concat([ifl1,ifl2,ifl3])"
   ]
  },
  {
   "cell_type": "code",
   "execution_count": 171,
   "metadata": {},
   "outputs": [
    {
     "data": {
      "text/html": [
       "<div>\n",
       "<style scoped>\n",
       "    .dataframe tbody tr th:only-of-type {\n",
       "        vertical-align: middle;\n",
       "    }\n",
       "\n",
       "    .dataframe tbody tr th {\n",
       "        vertical-align: top;\n",
       "    }\n",
       "\n",
       "    .dataframe thead th {\n",
       "        text-align: right;\n",
       "    }\n",
       "</style>\n",
       "<table border=\"1\" class=\"dataframe\">\n",
       "  <thead>\n",
       "    <tr style=\"text-align: right;\">\n",
       "      <th></th>\n",
       "      <th>cowtai</th>\n",
       "      <th>IFL</th>\n",
       "    </tr>\n",
       "  </thead>\n",
       "  <tbody>\n",
       "    <tr>\n",
       "      <th>26056</th>\n",
       "      <td>110010201304.7</td>\n",
       "      <td>0</td>\n",
       "    </tr>\n",
       "    <tr>\n",
       "      <th>52918</th>\n",
       "      <td>110015008172.2</td>\n",
       "      <td>0</td>\n",
       "    </tr>\n",
       "    <tr>\n",
       "      <th>53889</th>\n",
       "      <td>110015008627.1</td>\n",
       "      <td>0</td>\n",
       "    </tr>\n",
       "    <tr>\n",
       "      <th>54399</th>\n",
       "      <td>110015009131.1</td>\n",
       "      <td>0</td>\n",
       "    </tr>\n",
       "    <tr>\n",
       "      <th>54932</th>\n",
       "      <td>110015009363.1</td>\n",
       "      <td>0</td>\n",
       "    </tr>\n",
       "  </tbody>\n",
       "</table>\n",
       "</div>"
      ],
      "text/plain": [
       "               cowtai  IFL\n",
       "26056  110010201304.7    0\n",
       "52918  110015008172.2    0\n",
       "53889  110015008627.1    0\n",
       "54399  110015009131.1    0\n",
       "54932  110015009363.1    0"
      ]
     },
     "execution_count": 171,
     "metadata": {},
     "output_type": "execute_result"
    }
   ],
   "source": [
    "iflt.head()"
   ]
  },
  {
   "cell_type": "code",
   "execution_count": 172,
   "metadata": {},
   "outputs": [],
   "source": [
    "iflt1=iflt.drop_duplicates(keep='first')"
   ]
  },
  {
   "cell_type": "code",
   "execution_count": 173,
   "metadata": {},
   "outputs": [
    {
     "data": {
      "text/plain": [
       "cowtai    382244\n",
       "IFL       382244\n",
       "dtype: int64"
      ]
     },
     "execution_count": 173,
     "metadata": {},
     "output_type": "execute_result"
    }
   ],
   "source": [
    "iflt1.count()"
   ]
  },
  {
   "cell_type": "markdown",
   "metadata": {},
   "source": [
    "# 验证配种次数数据，再次计算ICF和IFL"
   ]
  },
  {
   "cell_type": "markdown",
   "metadata": {},
   "source": [
    "## 验证配种次数数据"
   ]
  },
  {
   "cell_type": "markdown",
   "metadata": {},
   "source": [
    "__思路：计算同一胎次不同配次下，配次之间相差的平均时间__"
   ]
  },
  {
   "cell_type": "code",
   "execution_count": 174,
   "metadata": {},
   "outputs": [
    {
     "data": {
      "text/html": [
       "<div>\n",
       "<style scoped>\n",
       "    .dataframe tbody tr th:only-of-type {\n",
       "        vertical-align: middle;\n",
       "    }\n",
       "\n",
       "    .dataframe tbody tr th {\n",
       "        vertical-align: top;\n",
       "    }\n",
       "\n",
       "    .dataframe thead th {\n",
       "        text-align: right;\n",
       "    }\n",
       "</style>\n",
       "<table border=\"1\" class=\"dataframe\">\n",
       "  <thead>\n",
       "    <tr style=\"text-align: right;\">\n",
       "      <th></th>\n",
       "      <th>牛号</th>\n",
       "      <th>胎次</th>\n",
       "      <th>配次</th>\n",
       "      <th>配种日期</th>\n",
       "      <th>场号</th>\n",
       "      <th>yearp</th>\n",
       "      <th>monthp</th>\n",
       "      <th>YMI</th>\n",
       "      <th>HYI</th>\n",
       "      <th>cowtai</th>\n",
       "    </tr>\n",
       "  </thead>\n",
       "  <tbody>\n",
       "    <tr>\n",
       "      <th>892</th>\n",
       "      <td>110001009001</td>\n",
       "      <td>2</td>\n",
       "      <td>0.0</td>\n",
       "      <td>2011/6/15</td>\n",
       "      <td>110001</td>\n",
       "      <td>2011</td>\n",
       "      <td>6</td>\n",
       "      <td>20116</td>\n",
       "      <td>1100012011</td>\n",
       "      <td>110001009001.2</td>\n",
       "    </tr>\n",
       "    <tr>\n",
       "      <th>929</th>\n",
       "      <td>110001009041</td>\n",
       "      <td>2</td>\n",
       "      <td>0.0</td>\n",
       "      <td>2011/7/8</td>\n",
       "      <td>110001</td>\n",
       "      <td>2011</td>\n",
       "      <td>7</td>\n",
       "      <td>20117</td>\n",
       "      <td>1100012011</td>\n",
       "      <td>110001009041.2</td>\n",
       "    </tr>\n",
       "    <tr>\n",
       "      <th>934</th>\n",
       "      <td>110001009048</td>\n",
       "      <td>2</td>\n",
       "      <td>0.0</td>\n",
       "      <td>2011/8/8</td>\n",
       "      <td>110001</td>\n",
       "      <td>2011</td>\n",
       "      <td>8</td>\n",
       "      <td>20118</td>\n",
       "      <td>1100012011</td>\n",
       "      <td>110001009048.2</td>\n",
       "    </tr>\n",
       "    <tr>\n",
       "      <th>950</th>\n",
       "      <td>110001009055</td>\n",
       "      <td>2</td>\n",
       "      <td>0.0</td>\n",
       "      <td>2011/8/8</td>\n",
       "      <td>110001</td>\n",
       "      <td>2011</td>\n",
       "      <td>8</td>\n",
       "      <td>20118</td>\n",
       "      <td>1100012011</td>\n",
       "      <td>110001009055.2</td>\n",
       "    </tr>\n",
       "    <tr>\n",
       "      <th>963</th>\n",
       "      <td>110001009068</td>\n",
       "      <td>2</td>\n",
       "      <td>0.0</td>\n",
       "      <td>2011/7/25</td>\n",
       "      <td>110001</td>\n",
       "      <td>2011</td>\n",
       "      <td>7</td>\n",
       "      <td>20117</td>\n",
       "      <td>1100012011</td>\n",
       "      <td>110001009068.2</td>\n",
       "    </tr>\n",
       "  </tbody>\n",
       "</table>\n",
       "</div>"
      ],
      "text/plain": [
       "               牛号 胎次   配次       配种日期      场号 yearp monthp    YMI         HYI  \\\n",
       "892  110001009001  2  0.0  2011/6/15  110001  2011      6  20116  1100012011   \n",
       "929  110001009041  2  0.0   2011/7/8  110001  2011      7  20117  1100012011   \n",
       "934  110001009048  2  0.0   2011/8/8  110001  2011      8  20118  1100012011   \n",
       "950  110001009055  2  0.0   2011/8/8  110001  2011      8  20118  1100012011   \n",
       "963  110001009068  2  0.0  2011/7/25  110001  2011      7  20117  1100012011   \n",
       "\n",
       "             cowtai  \n",
       "892  110001009001.2  \n",
       "929  110001009041.2  \n",
       "934  110001009048.2  \n",
       "950  110001009055.2  \n",
       "963  110001009068.2  "
      ]
     },
     "execution_count": 174,
     "metadata": {},
     "output_type": "execute_result"
    }
   ],
   "source": [
    "pc5.head()"
   ]
  },
  {
   "cell_type": "code",
   "execution_count": 175,
   "metadata": {},
   "outputs": [],
   "source": [
    "pc_valid=pc5[['牛号','胎次','配次','配种日期']].sort_values(by='胎次')"
   ]
  },
  {
   "cell_type": "code",
   "execution_count": 176,
   "metadata": {},
   "outputs": [],
   "source": [
    "pc_valid['胎次']=pc_valid['胎次'].apply(lambda s :int(s))\n",
    "pc_valid['胎次']=pc_valid['胎次'].apply(lambda s :s-1)"
   ]
  },
  {
   "cell_type": "code",
   "execution_count": 177,
   "metadata": {},
   "outputs": [],
   "source": [
    "pc_valid['胎次']=pc_valid['胎次'].apply(lambda s :str(s))\n",
    "pc_valid['cowtai']=pc_valid['牛号']+'.'+pc_valid['胎次']"
   ]
  },
  {
   "cell_type": "code",
   "execution_count": 178,
   "metadata": {},
   "outputs": [
    {
     "data": {
      "text/plain": [
       "牛号        502302\n",
       "胎次        502302\n",
       "配次        502302\n",
       "配种日期      502302\n",
       "cowtai    502302\n",
       "dtype: int64"
      ]
     },
     "execution_count": 178,
     "metadata": {},
     "output_type": "execute_result"
    }
   ],
   "source": [
    "pc_valid.count()"
   ]
  },
  {
   "cell_type": "markdown",
   "metadata": {},
   "source": [
    "### 利用ICF验证"
   ]
  },
  {
   "cell_type": "code",
   "execution_count": 179,
   "metadata": {},
   "outputs": [],
   "source": [
    "pcm_valid=pd.merge(pc_valid,cc,on='cowtai')"
   ]
  },
  {
   "cell_type": "code",
   "execution_count": 180,
   "metadata": {},
   "outputs": [
    {
     "data": {
      "text/plain": [
       "牛号        309713\n",
       "胎次        309713\n",
       "配次        309713\n",
       "配种日期      309713\n",
       "cowtai    309713\n",
       "产犊日期      309713\n",
       "dtype: int64"
      ]
     },
     "execution_count": 180,
     "metadata": {},
     "output_type": "execute_result"
    }
   ],
   "source": [
    "pcm_valid.count()"
   ]
  },
  {
   "cell_type": "code",
   "execution_count": 181,
   "metadata": {},
   "outputs": [
    {
     "data": {
      "text/html": [
       "<div>\n",
       "<style scoped>\n",
       "    .dataframe tbody tr th:only-of-type {\n",
       "        vertical-align: middle;\n",
       "    }\n",
       "\n",
       "    .dataframe tbody tr th {\n",
       "        vertical-align: top;\n",
       "    }\n",
       "\n",
       "    .dataframe thead th {\n",
       "        text-align: right;\n",
       "    }\n",
       "</style>\n",
       "<table border=\"1\" class=\"dataframe\">\n",
       "  <thead>\n",
       "    <tr style=\"text-align: right;\">\n",
       "      <th></th>\n",
       "      <th>牛号</th>\n",
       "      <th>胎次</th>\n",
       "      <th>配次</th>\n",
       "      <th>配种日期</th>\n",
       "      <th>cowtai</th>\n",
       "      <th>产犊日期</th>\n",
       "    </tr>\n",
       "  </thead>\n",
       "  <tbody>\n",
       "    <tr>\n",
       "      <th>0</th>\n",
       "      <td>612004061095</td>\n",
       "      <td>0</td>\n",
       "      <td>2.0</td>\n",
       "      <td>2008/12/29</td>\n",
       "      <td>612004061095.0</td>\n",
       "      <td>2009/7/10</td>\n",
       "    </tr>\n",
       "    <tr>\n",
       "      <th>98156</th>\n",
       "      <td>210088105641</td>\n",
       "      <td>1</td>\n",
       "      <td>4.0</td>\n",
       "      <td>2012/12/2</td>\n",
       "      <td>210088105641.1</td>\n",
       "      <td>2012/10/8</td>\n",
       "    </tr>\n",
       "    <tr>\n",
       "      <th>98155</th>\n",
       "      <td>210088105424</td>\n",
       "      <td>1</td>\n",
       "      <td>5.0</td>\n",
       "      <td>2013/1/1</td>\n",
       "      <td>210088105424.1</td>\n",
       "      <td>2012/10/29</td>\n",
       "    </tr>\n",
       "    <tr>\n",
       "      <th>98154</th>\n",
       "      <td>210088105228</td>\n",
       "      <td>1</td>\n",
       "      <td>2.0</td>\n",
       "      <td>2013/1/3</td>\n",
       "      <td>210088105228.1</td>\n",
       "      <td>2012/11/3</td>\n",
       "    </tr>\n",
       "    <tr>\n",
       "      <th>98153</th>\n",
       "      <td>210088107281</td>\n",
       "      <td>1</td>\n",
       "      <td>4.0</td>\n",
       "      <td>2013/2/22</td>\n",
       "      <td>210088107281.1</td>\n",
       "      <td>2012/11/16</td>\n",
       "    </tr>\n",
       "  </tbody>\n",
       "</table>\n",
       "</div>"
      ],
      "text/plain": [
       "                 牛号 胎次   配次        配种日期          cowtai        产犊日期\n",
       "0      612004061095  0  2.0  2008/12/29  612004061095.0   2009/7/10\n",
       "98156  210088105641  1  4.0   2012/12/2  210088105641.1   2012/10/8\n",
       "98155  210088105424  1  5.0    2013/1/1  210088105424.1  2012/10/29\n",
       "98154  210088105228  1  2.0    2013/1/3  210088105228.1   2012/11/3\n",
       "98153  210088107281  1  4.0   2013/2/22  210088107281.1  2012/11/16"
      ]
     },
     "execution_count": 181,
     "metadata": {},
     "output_type": "execute_result"
    }
   ],
   "source": [
    "pcm_valid.sort_values(by='胎次').head()"
   ]
  },
  {
   "cell_type": "markdown",
   "metadata": {},
   "source": [
    "__计算不同胎次，不同配次下配种日期与产犊日期间隔大小进行比较__——选取前8次配种次数，4胎以后胎次合并"
   ]
  },
  {
   "cell_type": "code",
   "execution_count": 182,
   "metadata": {},
   "outputs": [],
   "source": [
    "pcm_valid['配种日期']=pd.to_datetime(pcm_valid['配种日期'],format=\"%Y-%m-%d\")\n",
    "pcm_valid['产犊日期']=pd.to_datetime(pcm_valid['产犊日期'],format=\"%Y-%m-%d\")"
   ]
  },
  {
   "cell_type": "code",
   "execution_count": 183,
   "metadata": {},
   "outputs": [],
   "source": [
    "pcm_valid['P-C']=(pcm_valid['配种日期']-pcm_valid['产犊日期']).apply(lambda s:s.days)\n",
    "pcm_valid['胎次']=pcm_valid['胎次'].apply(lambda s :int(s))\n",
    "pcm_valid['胎次']=pcm_valid['胎次'].apply(lambda s : 4 if s>4 else s)"
   ]
  },
  {
   "cell_type": "code",
   "execution_count": 184,
   "metadata": {},
   "outputs": [
    {
     "name": "stderr",
     "output_type": "stream",
     "text": [
      "E:\\Anaconda\\lib\\site-packages\\ipykernel_launcher.py:2: SettingWithCopyWarning: \n",
      "A value is trying to be set on a copy of a slice from a DataFrame.\n",
      "Try using .loc[row_indexer,col_indexer] = value instead\n",
      "\n",
      "See the caveats in the documentation: http://pandas.pydata.org/pandas-docs/stable/indexing.html#indexing-view-versus-copy\n",
      "  \n"
     ]
    },
    {
     "data": {
      "text/html": [
       "<div>\n",
       "<style scoped>\n",
       "    .dataframe tbody tr th:only-of-type {\n",
       "        vertical-align: middle;\n",
       "    }\n",
       "\n",
       "    .dataframe tbody tr th {\n",
       "        vertical-align: top;\n",
       "    }\n",
       "\n",
       "    .dataframe thead th {\n",
       "        text-align: right;\n",
       "    }\n",
       "</style>\n",
       "<table border=\"1\" class=\"dataframe\">\n",
       "  <thead>\n",
       "    <tr style=\"text-align: right;\">\n",
       "      <th></th>\n",
       "      <th>牛号</th>\n",
       "      <th>胎次</th>\n",
       "      <th>配次</th>\n",
       "      <th>配种日期</th>\n",
       "      <th>cowtai</th>\n",
       "      <th>产犊日期</th>\n",
       "      <th>P-C</th>\n",
       "    </tr>\n",
       "  </thead>\n",
       "  <tbody>\n",
       "    <tr>\n",
       "      <th>1</th>\n",
       "      <td>44A004040083</td>\n",
       "      <td>4</td>\n",
       "      <td>2</td>\n",
       "      <td>2015-02-15</td>\n",
       "      <td>44A004040083.9</td>\n",
       "      <td>2014-10-22</td>\n",
       "      <td>116</td>\n",
       "    </tr>\n",
       "    <tr>\n",
       "      <th>2</th>\n",
       "      <td>32000400A272</td>\n",
       "      <td>4</td>\n",
       "      <td>2</td>\n",
       "      <td>2012-01-31</td>\n",
       "      <td>32000400A272.9</td>\n",
       "      <td>2011-10-09</td>\n",
       "      <td>114</td>\n",
       "    </tr>\n",
       "    <tr>\n",
       "      <th>3</th>\n",
       "      <td>640035030074</td>\n",
       "      <td>4</td>\n",
       "      <td>1</td>\n",
       "      <td>2013-10-16</td>\n",
       "      <td>640035030074.9</td>\n",
       "      <td>2013-06-18</td>\n",
       "      <td>120</td>\n",
       "    </tr>\n",
       "    <tr>\n",
       "      <th>4</th>\n",
       "      <td>310108006070</td>\n",
       "      <td>4</td>\n",
       "      <td>1</td>\n",
       "      <td>2017-01-01</td>\n",
       "      <td>310108006070.9</td>\n",
       "      <td>2016-10-23</td>\n",
       "      <td>70</td>\n",
       "    </tr>\n",
       "    <tr>\n",
       "      <th>5</th>\n",
       "      <td>44A004040168</td>\n",
       "      <td>4</td>\n",
       "      <td>1</td>\n",
       "      <td>2014-05-23</td>\n",
       "      <td>44A004040168.9</td>\n",
       "      <td>2014-02-04</td>\n",
       "      <td>108</td>\n",
       "    </tr>\n",
       "  </tbody>\n",
       "</table>\n",
       "</div>"
      ],
      "text/plain": [
       "             牛号  胎次  配次       配种日期          cowtai       产犊日期  P-C\n",
       "1  44A004040083   4   2 2015-02-15  44A004040083.9 2014-10-22  116\n",
       "2  32000400A272   4   2 2012-01-31  32000400A272.9 2011-10-09  114\n",
       "3  640035030074   4   1 2013-10-16  640035030074.9 2013-06-18  120\n",
       "4  310108006070   4   1 2017-01-01  310108006070.9 2016-10-23   70\n",
       "5  44A004040168   4   1 2014-05-23  44A004040168.9 2014-02-04  108"
      ]
     },
     "execution_count": 184,
     "metadata": {},
     "output_type": "execute_result"
    }
   ],
   "source": [
    "pcm_valid1=pcm_valid[(pcm_valid['P-C']>0 )&(pcm_valid['配次']>0)&(pcm_valid['配次']<=8)]\n",
    "pcm_valid1['配次']=pcm_valid1['配次'].apply(lambda s :int(s))\n",
    "#pcm_valid1['配次']=pcm_valid1['配次'].apply(lambda s : 8 if s>8 else s)\n",
    "pcm_valid1.head()"
   ]
  },
  {
   "cell_type": "code",
   "execution_count": 185,
   "metadata": {},
   "outputs": [
    {
     "data": {
      "text/plain": [
       "牛号        269853\n",
       "胎次        269853\n",
       "配次        269853\n",
       "配种日期      269853\n",
       "cowtai    269853\n",
       "产犊日期      269853\n",
       "P-C       269853\n",
       "dtype: int64"
      ]
     },
     "execution_count": 185,
     "metadata": {},
     "output_type": "execute_result"
    }
   ],
   "source": [
    "pcm_valid1.count()"
   ]
  },
  {
   "cell_type": "code",
   "execution_count": 186,
   "metadata": {},
   "outputs": [],
   "source": [
    "pcm_valid3=pcm_valid1['P-C'].groupby([pcm_valid1['胎次'],pcm_valid1['配次']]).mean()\n",
    "pcm_valid4=pcm_valid1['P-C'].groupby([pcm_valid1['胎次'],pcm_valid1['配次']]).count()\n",
    "pcm_valid5=pcm_valid1['P-C'].groupby([pcm_valid1['配次']]).mean()\n",
    "pcm_valid6=pcm_valid1['P-C'].groupby([pcm_valid1['配次']]).count()"
   ]
  },
  {
   "cell_type": "code",
   "execution_count": 187,
   "metadata": {},
   "outputs": [
    {
     "data": {
      "text/plain": [
       "配次\n",
       "1    131421\n",
       "2     50123\n",
       "3     30866\n",
       "4     21017\n",
       "5     14675\n",
       "6      9950\n",
       "7      6953\n",
       "8      4848\n",
       "Name: P-C, dtype: int64"
      ]
     },
     "execution_count": 187,
     "metadata": {},
     "output_type": "execute_result"
    }
   ],
   "source": [
    "pcm_valid6"
   ]
  },
  {
   "cell_type": "code",
   "execution_count": 188,
   "metadata": {},
   "outputs": [],
   "source": [
    "valid_pc1=pcm_valid3.to_frame()"
   ]
  },
  {
   "cell_type": "code",
   "execution_count": 189,
   "metadata": {},
   "outputs": [],
   "source": [
    "valid_pc1=valid_pc1.reset_index('胎次')\n",
    "valid_pc1=valid_pc1.reset_index('配次')"
   ]
  },
  {
   "cell_type": "code",
   "execution_count": 190,
   "metadata": {},
   "outputs": [
    {
     "data": {
      "text/html": [
       "<div>\n",
       "<style scoped>\n",
       "    .dataframe tbody tr th:only-of-type {\n",
       "        vertical-align: middle;\n",
       "    }\n",
       "\n",
       "    .dataframe tbody tr th {\n",
       "        vertical-align: top;\n",
       "    }\n",
       "\n",
       "    .dataframe thead th {\n",
       "        text-align: right;\n",
       "    }\n",
       "</style>\n",
       "<table border=\"1\" class=\"dataframe\">\n",
       "  <thead>\n",
       "    <tr style=\"text-align: right;\">\n",
       "      <th></th>\n",
       "      <th>配次</th>\n",
       "      <th>胎次</th>\n",
       "      <th>P-C</th>\n",
       "    </tr>\n",
       "  </thead>\n",
       "  <tbody>\n",
       "    <tr>\n",
       "      <th>0</th>\n",
       "      <td>1</td>\n",
       "      <td>1</td>\n",
       "      <td>127.472543</td>\n",
       "    </tr>\n",
       "    <tr>\n",
       "      <th>1</th>\n",
       "      <td>2</td>\n",
       "      <td>1</td>\n",
       "      <td>135.129890</td>\n",
       "    </tr>\n",
       "    <tr>\n",
       "      <th>2</th>\n",
       "      <td>3</td>\n",
       "      <td>1</td>\n",
       "      <td>155.295568</td>\n",
       "    </tr>\n",
       "    <tr>\n",
       "      <th>3</th>\n",
       "      <td>4</td>\n",
       "      <td>1</td>\n",
       "      <td>173.645100</td>\n",
       "    </tr>\n",
       "    <tr>\n",
       "      <th>4</th>\n",
       "      <td>5</td>\n",
       "      <td>1</td>\n",
       "      <td>201.846016</td>\n",
       "    </tr>\n",
       "  </tbody>\n",
       "</table>\n",
       "</div>"
      ],
      "text/plain": [
       "   配次  胎次         P-C\n",
       "0   1   1  127.472543\n",
       "1   2   1  135.129890\n",
       "2   3   1  155.295568\n",
       "3   4   1  173.645100\n",
       "4   5   1  201.846016"
      ]
     },
     "execution_count": 190,
     "metadata": {},
     "output_type": "execute_result"
    }
   ],
   "source": [
    "valid_pc1.head()"
   ]
  },
  {
   "cell_type": "code",
   "execution_count": 191,
   "metadata": {},
   "outputs": [
    {
     "data": {
      "text/plain": [
       "<matplotlib.axes._subplots.AxesSubplot at 0x1dc2363d518>"
      ]
     },
     "execution_count": 191,
     "metadata": {},
     "output_type": "execute_result"
    },
    {
     "data": {
      "image/png": "[encoded data removed]",
      "text/plain": [
       "<matplotlib.figure.Figure at 0x1dc21ae6390>"
      ]
     },
     "metadata": {},
     "output_type": "display_data"
    }
   ],
   "source": [
    "sns.barplot(y='P-C',x='胎次',hue='配次',data=valid_pc1)"
   ]
  },
  {
   "cell_type": "code",
   "execution_count": 192,
   "metadata": {},
   "outputs": [
    {
     "data": {
      "text/plain": [
       "<matplotlib.axes._subplots.AxesSubplot at 0x1dc21ae62b0>"
      ]
     },
     "execution_count": 192,
     "metadata": {},
     "output_type": "execute_result"
    },
    {
     "data": {
      "image/png": "[encoded data removed]",
      "text/plain": [
       "<matplotlib.figure.Figure at 0x1dc2363dd68>"
      ]
     },
     "metadata": {},
     "output_type": "display_data"
    }
   ],
   "source": [
    "sns.barplot(y='P-C',x='配次',data=valid_pc1)"
   ]
  },
  {
   "cell_type": "markdown",
   "metadata": {},
   "source": [
    "# 各性状先合并，按牛场分布作图"
   ]
  },
  {
   "cell_type": "markdown",
   "metadata": {},
   "source": [
    "## 确定牛场所在省"
   ]
  },
  {
   "cell_type": "code",
   "execution_count": 193,
   "metadata": {},
   "outputs": [],
   "source": [
    "cowtai=fz1[fz1['胎次']<20]"
   ]
  },
  {
   "cell_type": "code",
   "execution_count": 194,
   "metadata": {},
   "outputs": [],
   "source": [
    "cowtai=cowtai[['牛号','胎次','场号']]"
   ]
  },
  {
   "cell_type": "code",
   "execution_count": 195,
   "metadata": {},
   "outputs": [],
   "source": [
    "cowtai['胎次']=list(map(lambda s:str(s),cowtai['胎次']))"
   ]
  },
  {
   "cell_type": "code",
   "execution_count": 196,
   "metadata": {},
   "outputs": [],
   "source": [
    "cowtai['cowtai']=cowtai['牛号']+'.'+cowtai['胎次']"
   ]
  },
  {
   "cell_type": "code",
   "execution_count": 197,
   "metadata": {},
   "outputs": [],
   "source": [
    "cowtai['Region']=cowtai['场号'].apply(lambda s: 'BJ' if s.startswith('11') else s)\n",
    "cowtai['Region']=cowtai['Region'].apply(lambda s: 'SH' if s.startswith('31') else s)\n",
    "cowtai['Region']=cowtai['Region'].apply(lambda s: 'NX' if s.startswith('64') else s)\n",
    "cowtai['Region']=cowtai['Region'].apply(lambda s: s if len(s)==2 else 'other')"
   ]
  },
  {
   "cell_type": "code",
   "execution_count": 198,
   "metadata": {},
   "outputs": [],
   "source": [
    "cowtai=cowtai.drop_duplicates(subset='cowtai',keep='first')"
   ]
  },
  {
   "cell_type": "code",
   "execution_count": 199,
   "metadata": {},
   "outputs": [
    {
     "data": {
      "image/png": "[encoded data removed]",
      "text/plain": [
       "<matplotlib.figure.Figure at 0x1dc21b0a9b0>"
      ]
     },
     "metadata": {},
     "output_type": "display_data"
    }
   ],
   "source": [
    "herd=sns.countplot(x=\"Region\", data=cowtai)"
   ]
  },
  {
   "cell_type": "markdown",
   "metadata": {},
   "source": [
    "## 性状合并"
   ]
  },
  {
   "cell_type": "code",
   "execution_count": 200,
   "metadata": {},
   "outputs": [],
   "source": [
    "pre=pd.merge(cowtai,AFSS1,on='牛号',how='left')"
   ]
  },
  {
   "cell_type": "code",
   "execution_count": 201,
   "metadata": {},
   "outputs": [],
   "source": [
    "pre1=pd.merge(pre,AFCC1,on='牛号',how='left')"
   ]
  },
  {
   "cell_type": "code",
   "execution_count": 202,
   "metadata": {},
   "outputs": [],
   "source": [
    "pre2=pd.merge(pre1,ICF,on='cowtai',how='left')"
   ]
  },
  {
   "cell_type": "code",
   "execution_count": 203,
   "metadata": {},
   "outputs": [],
   "source": [
    "pre3=pd.merge(pre2,iflt1,on='cowtai',how='left')"
   ]
  },
  {
   "cell_type": "code",
   "execution_count": 204,
   "metadata": {},
   "outputs": [
    {
     "name": "stdout",
     "output_type": "stream",
     "text": [
      "牛号     356029\n",
      "AFS    356029\n",
      "dtype: int64\n",
      "--------------------\n",
      "牛号     2048679\n",
      "AFC    2048679\n",
      "dtype: int64\n",
      "--------------------\n",
      "cowtai    270731\n",
      "ICF1      270731\n",
      "dtype: int64\n",
      "--------------------\n",
      "cowtai    382244\n",
      "IFL       382244\n",
      "dtype: int64\n"
     ]
    }
   ],
   "source": [
    "print(AFSS1.count())\n",
    "print('-'*20)\n",
    "print(AFCC1.count())\n",
    "print('-'*20)\n",
    "print(ICF.count())\n",
    "print('-'*20)\n",
    "print(iflt1.count())"
   ]
  },
  {
   "cell_type": "code",
   "execution_count": 205,
   "metadata": {},
   "outputs": [],
   "source": [
    "PRE_R=pre3.groupby([pre3['Region']],as_index=False).count()"
   ]
  },
  {
   "cell_type": "code",
   "execution_count": 206,
   "metadata": {},
   "outputs": [
    {
     "name": "stdout",
     "output_type": "stream",
     "text": [
      "        牛号       胎次       场号   cowtai   Region     AFS      AFC    ICF1  \\\n",
      "0   508210   508210   508210   508210   508210   62823   405554     116   \n",
      "1   306936   306936   306936   306936   306936  156953   244882   99134   \n",
      "2   440928   440928   440928   440928   440928    4210   352176    1675   \n",
      "3  4771940  4771940  4771940  4771940  4771940  566990  3389849  290124   \n",
      "\n",
      "      IFL  \n",
      "0     176  \n",
      "1   92503  \n",
      "2    1304  \n",
      "3  199426  \n"
     ]
    }
   ],
   "source": [
    "print(PRE_R)"
   ]
  },
  {
   "cell_type": "markdown",
   "metadata": {},
   "source": [
    "IFL数据合并之后要比提取的IFL数据少，需要在检查。不过可以看出配种相关的性状IFL,ICF北京和上海几乎没有数据，说明奶协数据的配种记录是其余地区的。"
   ]
  },
  {
   "cell_type": "code",
   "execution_count": 207,
   "metadata": {},
   "outputs": [],
   "source": [
    "pre4=pre3[['Region','AFS','AFC','ICF1','IFL']]"
   ]
  },
  {
   "cell_type": "code",
   "execution_count": 208,
   "metadata": {},
   "outputs": [],
   "source": [
    "PREM_R=pre4.groupby([pre3['Region']],as_index=False).mean()\n",
    "PRES_R=pre4.groupby([pre3['Region']],as_index=False).std()"
   ]
  },
  {
   "cell_type": "code",
   "execution_count": 209,
   "metadata": {},
   "outputs": [
    {
     "name": "stdout",
     "output_type": "stream",
     "text": [
      "          AFS         AFC        ICF1        IFL\n",
      "0  810.878086  796.213002  137.068966   0.000000\n",
      "1  595.098501  780.969504   96.246969  30.069619\n",
      "2  627.249881  778.736677   89.987463  37.505368\n",
      "3  545.926720  809.161480   93.086573  59.636567\n",
      "--------------------\n",
      "          AFS         AFC       ICF1        IFL\n",
      "0   49.783676   83.705587  58.219483   0.000000\n",
      "1  172.875192  103.725298  36.362818  65.333237\n",
      "2  185.782487   76.546828  20.677543  66.385453\n",
      "3  137.437427  101.942078  22.438891  83.472187\n"
     ]
    }
   ],
   "source": [
    "print(PREM_R)\n",
    "print('-'*20)\n",
    "print(PRES_R)"
   ]
  },
  {
   "cell_type": "markdown",
   "metadata": {},
   "source": [
    "# 计算各性状对应效应并合并"
   ]
  },
  {
   "cell_type": "markdown",
   "metadata": {},
   "source": [
    "AFSS,AFCC"
   ]
  },
  {
   "cell_type": "markdown",
   "metadata": {},
   "source": [
    "## AFS的效应"
   ]
  },
  {
   "cell_type": "markdown",
   "metadata": {},
   "source": [
    "评估AFS性状的模型中效应包含YMB,HYB,YMI,HYI"
   ]
  },
  {
   "cell_type": "code",
   "execution_count": 210,
   "metadata": {},
   "outputs": [
    {
     "data": {
      "text/html": [
       "<div>\n",
       "<style scoped>\n",
       "    .dataframe tbody tr th:only-of-type {\n",
       "        vertical-align: middle;\n",
       "    }\n",
       "\n",
       "    .dataframe tbody tr th {\n",
       "        vertical-align: top;\n",
       "    }\n",
       "\n",
       "    .dataframe thead th {\n",
       "        text-align: right;\n",
       "    }\n",
       "</style>\n",
       "<table border=\"1\" class=\"dataframe\">\n",
       "  <thead>\n",
       "    <tr style=\"text-align: right;\">\n",
       "      <th></th>\n",
       "      <th>牛号</th>\n",
       "      <th>出生日期</th>\n",
       "      <th>初配日期</th>\n",
       "      <th>AFS</th>\n",
       "    </tr>\n",
       "  </thead>\n",
       "  <tbody>\n",
       "    <tr>\n",
       "      <th>0</th>\n",
       "      <td>110001009001</td>\n",
       "      <td>2009-01-06</td>\n",
       "      <td>2011-02-25</td>\n",
       "      <td>780</td>\n",
       "    </tr>\n",
       "    <tr>\n",
       "      <th>1</th>\n",
       "      <td>110001009041</td>\n",
       "      <td>2009-03-29</td>\n",
       "      <td>2011-07-08</td>\n",
       "      <td>831</td>\n",
       "    </tr>\n",
       "    <tr>\n",
       "      <th>2</th>\n",
       "      <td>110001009048</td>\n",
       "      <td>2009-04-06</td>\n",
       "      <td>2011-08-08</td>\n",
       "      <td>854</td>\n",
       "    </tr>\n",
       "    <tr>\n",
       "      <th>3</th>\n",
       "      <td>110001009055</td>\n",
       "      <td>2009-04-25</td>\n",
       "      <td>2011-08-08</td>\n",
       "      <td>835</td>\n",
       "    </tr>\n",
       "    <tr>\n",
       "      <th>4</th>\n",
       "      <td>110001009068</td>\n",
       "      <td>2009-05-15</td>\n",
       "      <td>2011-07-25</td>\n",
       "      <td>801</td>\n",
       "    </tr>\n",
       "  </tbody>\n",
       "</table>\n",
       "</div>"
      ],
      "text/plain": [
       "             牛号       出生日期       初配日期  AFS\n",
       "0  110001009001 2009-01-06 2011-02-25  780\n",
       "1  110001009041 2009-03-29 2011-07-08  831\n",
       "2  110001009048 2009-04-06 2011-08-08  854\n",
       "3  110001009055 2009-04-25 2011-08-08  835\n",
       "4  110001009068 2009-05-15 2011-07-25  801"
      ]
     },
     "execution_count": 210,
     "metadata": {},
     "output_type": "execute_result"
    }
   ],
   "source": [
    "AFSS.head()"
   ]
  },
  {
   "cell_type": "code",
   "execution_count": 211,
   "metadata": {},
   "outputs": [
    {
     "name": "stderr",
     "output_type": "stream",
     "text": [
      "E:\\Anaconda\\lib\\site-packages\\ipykernel_launcher.py:1: SettingWithCopyWarning: \n",
      "A value is trying to be set on a copy of a slice from a DataFrame.\n",
      "Try using .loc[row_indexer,col_indexer] = value instead\n",
      "\n",
      "See the caveats in the documentation: http://pandas.pydata.org/pandas-docs/stable/indexing.html#indexing-view-versus-copy\n",
      "  \"\"\"Entry point for launching an IPython kernel.\n",
      "E:\\Anaconda\\lib\\site-packages\\ipykernel_launcher.py:2: SettingWithCopyWarning: \n",
      "A value is trying to be set on a copy of a slice from a DataFrame.\n",
      "Try using .loc[row_indexer,col_indexer] = value instead\n",
      "\n",
      "See the caveats in the documentation: http://pandas.pydata.org/pandas-docs/stable/indexing.html#indexing-view-versus-copy\n",
      "  \n"
     ]
    }
   ],
   "source": [
    "AFSS['出生日期']=list(map(lambda s:str(s),AFSS['出生日期']))\n",
    "AFSS['初配日期']=list(map(lambda s:str(s),AFSS['初配日期']))"
   ]
  },
  {
   "cell_type": "code",
   "execution_count": 212,
   "metadata": {},
   "outputs": [
    {
     "name": "stderr",
     "output_type": "stream",
     "text": [
      "E:\\Anaconda\\lib\\site-packages\\ipykernel_launcher.py:1: SettingWithCopyWarning: \n",
      "A value is trying to be set on a copy of a slice from a DataFrame.\n",
      "Try using .loc[row_indexer,col_indexer] = value instead\n",
      "\n",
      "See the caveats in the documentation: http://pandas.pydata.org/pandas-docs/stable/indexing.html#indexing-view-versus-copy\n",
      "  \"\"\"Entry point for launching an IPython kernel.\n",
      "E:\\Anaconda\\lib\\site-packages\\ipykernel_launcher.py:2: SettingWithCopyWarning: \n",
      "A value is trying to be set on a copy of a slice from a DataFrame.\n",
      "Try using .loc[row_indexer,col_indexer] = value instead\n",
      "\n",
      "See the caveats in the documentation: http://pandas.pydata.org/pandas-docs/stable/indexing.html#indexing-view-versus-copy\n",
      "  \n",
      "E:\\Anaconda\\lib\\site-packages\\ipykernel_launcher.py:3: SettingWithCopyWarning: \n",
      "A value is trying to be set on a copy of a slice from a DataFrame.\n",
      "Try using .loc[row_indexer,col_indexer] = value instead\n",
      "\n",
      "See the caveats in the documentation: http://pandas.pydata.org/pandas-docs/stable/indexing.html#indexing-view-versus-copy\n",
      "  This is separate from the ipykernel package so we can avoid doing imports until\n",
      "E:\\Anaconda\\lib\\site-packages\\ipykernel_launcher.py:4: SettingWithCopyWarning: \n",
      "A value is trying to be set on a copy of a slice from a DataFrame.\n",
      "Try using .loc[row_indexer,col_indexer] = value instead\n",
      "\n",
      "See the caveats in the documentation: http://pandas.pydata.org/pandas-docs/stable/indexing.html#indexing-view-versus-copy\n",
      "  after removing the cwd from sys.path.\n"
     ]
    }
   ],
   "source": [
    "AFSS['HYB']=AFSS['牛号'].apply(lambda s:s[0:6])+AFSS['出生日期'].apply(lambda s:s.split('-')[0])\n",
    "AFSS['YMB']=AFSS['出生日期'].apply(lambda s:s.split('-')[0])+AFSS['出生日期'].apply(lambda s:s.split('-')[1])\n",
    "AFSS['HYI']=AFSS['牛号'].apply(lambda s:s[0:6])+AFSS['初配日期'].apply(lambda s:s.split('-')[0])\n",
    "AFSS['YMI']=AFSS['初配日期'].apply(lambda s:s.split('-')[0])+AFSS['初配日期'].apply(lambda s:s.split('-')[1])"
   ]
  },
  {
   "cell_type": "code",
   "execution_count": 213,
   "metadata": {},
   "outputs": [
    {
     "data": {
      "text/html": [
       "<div>\n",
       "<style scoped>\n",
       "    .dataframe tbody tr th:only-of-type {\n",
       "        vertical-align: middle;\n",
       "    }\n",
       "\n",
       "    .dataframe tbody tr th {\n",
       "        vertical-align: top;\n",
       "    }\n",
       "\n",
       "    .dataframe thead th {\n",
       "        text-align: right;\n",
       "    }\n",
       "</style>\n",
       "<table border=\"1\" class=\"dataframe\">\n",
       "  <thead>\n",
       "    <tr style=\"text-align: right;\">\n",
       "      <th></th>\n",
       "      <th>牛号</th>\n",
       "      <th>出生日期</th>\n",
       "      <th>初配日期</th>\n",
       "      <th>AFS</th>\n",
       "      <th>HYB</th>\n",
       "      <th>YMB</th>\n",
       "      <th>HYI</th>\n",
       "      <th>YMI</th>\n",
       "    </tr>\n",
       "  </thead>\n",
       "  <tbody>\n",
       "    <tr>\n",
       "      <th>0</th>\n",
       "      <td>110001009001</td>\n",
       "      <td>2009-01-06 00:00:00</td>\n",
       "      <td>2011-02-25 00:00:00</td>\n",
       "      <td>780</td>\n",
       "      <td>1100012009</td>\n",
       "      <td>200901</td>\n",
       "      <td>1100012011</td>\n",
       "      <td>201102</td>\n",
       "    </tr>\n",
       "    <tr>\n",
       "      <th>1</th>\n",
       "      <td>110001009041</td>\n",
       "      <td>2009-03-29 00:00:00</td>\n",
       "      <td>2011-07-08 00:00:00</td>\n",
       "      <td>831</td>\n",
       "      <td>1100012009</td>\n",
       "      <td>200903</td>\n",
       "      <td>1100012011</td>\n",
       "      <td>201107</td>\n",
       "    </tr>\n",
       "    <tr>\n",
       "      <th>2</th>\n",
       "      <td>110001009048</td>\n",
       "      <td>2009-04-06 00:00:00</td>\n",
       "      <td>2011-08-08 00:00:00</td>\n",
       "      <td>854</td>\n",
       "      <td>1100012009</td>\n",
       "      <td>200904</td>\n",
       "      <td>1100012011</td>\n",
       "      <td>201108</td>\n",
       "    </tr>\n",
       "    <tr>\n",
       "      <th>3</th>\n",
       "      <td>110001009055</td>\n",
       "      <td>2009-04-25 00:00:00</td>\n",
       "      <td>2011-08-08 00:00:00</td>\n",
       "      <td>835</td>\n",
       "      <td>1100012009</td>\n",
       "      <td>200904</td>\n",
       "      <td>1100012011</td>\n",
       "      <td>201108</td>\n",
       "    </tr>\n",
       "    <tr>\n",
       "      <th>4</th>\n",
       "      <td>110001009068</td>\n",
       "      <td>2009-05-15 00:00:00</td>\n",
       "      <td>2011-07-25 00:00:00</td>\n",
       "      <td>801</td>\n",
       "      <td>1100012009</td>\n",
       "      <td>200905</td>\n",
       "      <td>1100012011</td>\n",
       "      <td>201107</td>\n",
       "    </tr>\n",
       "  </tbody>\n",
       "</table>\n",
       "</div>"
      ],
      "text/plain": [
       "             牛号                 出生日期                 初配日期  AFS         HYB  \\\n",
       "0  110001009001  2009-01-06 00:00:00  2011-02-25 00:00:00  780  1100012009   \n",
       "1  110001009041  2009-03-29 00:00:00  2011-07-08 00:00:00  831  1100012009   \n",
       "2  110001009048  2009-04-06 00:00:00  2011-08-08 00:00:00  854  1100012009   \n",
       "3  110001009055  2009-04-25 00:00:00  2011-08-08 00:00:00  835  1100012009   \n",
       "4  110001009068  2009-05-15 00:00:00  2011-07-25 00:00:00  801  1100012009   \n",
       "\n",
       "      YMB         HYI     YMI  \n",
       "0  200901  1100012011  201102  \n",
       "1  200903  1100012011  201107  \n",
       "2  200904  1100012011  201108  \n",
       "3  200904  1100012011  201108  \n",
       "4  200905  1100012011  201107  "
      ]
     },
     "execution_count": 213,
     "metadata": {},
     "output_type": "execute_result"
    }
   ],
   "source": [
    "AFSS.head()"
   ]
  },
  {
   "cell_type": "code",
   "execution_count": 214,
   "metadata": {},
   "outputs": [],
   "source": [
    "AFSSf=AFSS[['牛号','HYB','YMB','HYI','YMI','AFS']]"
   ]
  },
  {
   "cell_type": "markdown",
   "metadata": {},
   "source": [
    "## AFC的效应"
   ]
  },
  {
   "cell_type": "markdown",
   "metadata": {},
   "source": [
    "评估AFC性状的模型中效应包含YMB,HYB,YMI,HYI，MF之后统一计算"
   ]
  },
  {
   "cell_type": "code",
   "execution_count": 215,
   "metadata": {},
   "outputs": [
    {
     "name": "stderr",
     "output_type": "stream",
     "text": [
      "E:\\Anaconda\\lib\\site-packages\\ipykernel_launcher.py:1: SettingWithCopyWarning: \n",
      "A value is trying to be set on a copy of a slice from a DataFrame.\n",
      "Try using .loc[row_indexer,col_indexer] = value instead\n",
      "\n",
      "See the caveats in the documentation: http://pandas.pydata.org/pandas-docs/stable/indexing.html#indexing-view-versus-copy\n",
      "  \"\"\"Entry point for launching an IPython kernel.\n",
      "E:\\Anaconda\\lib\\site-packages\\ipykernel_launcher.py:2: SettingWithCopyWarning: \n",
      "A value is trying to be set on a copy of a slice from a DataFrame.\n",
      "Try using .loc[row_indexer,col_indexer] = value instead\n",
      "\n",
      "See the caveats in the documentation: http://pandas.pydata.org/pandas-docs/stable/indexing.html#indexing-view-versus-copy\n",
      "  \n",
      "E:\\Anaconda\\lib\\site-packages\\ipykernel_launcher.py:4: SettingWithCopyWarning: \n",
      "A value is trying to be set on a copy of a slice from a DataFrame.\n",
      "Try using .loc[row_indexer,col_indexer] = value instead\n",
      "\n",
      "See the caveats in the documentation: http://pandas.pydata.org/pandas-docs/stable/indexing.html#indexing-view-versus-copy\n",
      "  after removing the cwd from sys.path.\n",
      "E:\\Anaconda\\lib\\site-packages\\ipykernel_launcher.py:5: SettingWithCopyWarning: \n",
      "A value is trying to be set on a copy of a slice from a DataFrame.\n",
      "Try using .loc[row_indexer,col_indexer] = value instead\n",
      "\n",
      "See the caveats in the documentation: http://pandas.pydata.org/pandas-docs/stable/indexing.html#indexing-view-versus-copy\n",
      "  \"\"\"\n",
      "E:\\Anaconda\\lib\\site-packages\\ipykernel_launcher.py:6: SettingWithCopyWarning: \n",
      "A value is trying to be set on a copy of a slice from a DataFrame.\n",
      "Try using .loc[row_indexer,col_indexer] = value instead\n",
      "\n",
      "See the caveats in the documentation: http://pandas.pydata.org/pandas-docs/stable/indexing.html#indexing-view-versus-copy\n",
      "  \n",
      "E:\\Anaconda\\lib\\site-packages\\ipykernel_launcher.py:7: SettingWithCopyWarning: \n",
      "A value is trying to be set on a copy of a slice from a DataFrame.\n",
      "Try using .loc[row_indexer,col_indexer] = value instead\n",
      "\n",
      "See the caveats in the documentation: http://pandas.pydata.org/pandas-docs/stable/indexing.html#indexing-view-versus-copy\n",
      "  import sys\n"
     ]
    }
   ],
   "source": [
    "AFCC['出生日期']=list(map(lambda s:str(s),AFCC['出生日期']))\n",
    "AFCC['产犊日期']=list(map(lambda s:str(s),AFCC['产犊日期']))\n",
    "\n",
    "AFCC['HYB']=AFCC['牛号'].apply(lambda s:s[0:6])+AFCC['出生日期'].apply(lambda s:s.split('-')[0])\n",
    "AFCC['YMB']=AFCC['出生日期'].apply(lambda s:s.split('-')[0])+AFCC['出生日期'].apply(lambda s:s.split('-')[1])\n",
    "AFCC['HYI']=AFCC['牛号'].apply(lambda s:s[0:6])+AFCC['产犊日期'].apply(lambda s:s.split('-')[0])\n",
    "AFCC['YMI']=AFCC['产犊日期'].apply(lambda s:s.split('-')[0])+AFCC['产犊日期'].apply(lambda s:s.split('-')[1])"
   ]
  },
  {
   "cell_type": "code",
   "execution_count": 216,
   "metadata": {},
   "outputs": [],
   "source": [
    "AFCCf=AFCC[['牛号','HYB','YMB','HYI','YMI','AFC']]"
   ]
  },
  {
   "cell_type": "code",
   "execution_count": 217,
   "metadata": {},
   "outputs": [
    {
     "data": {
      "text/html": [
       "<div>\n",
       "<style scoped>\n",
       "    .dataframe tbody tr th:only-of-type {\n",
       "        vertical-align: middle;\n",
       "    }\n",
       "\n",
       "    .dataframe tbody tr th {\n",
       "        vertical-align: top;\n",
       "    }\n",
       "\n",
       "    .dataframe thead th {\n",
       "        text-align: right;\n",
       "    }\n",
       "</style>\n",
       "<table border=\"1\" class=\"dataframe\">\n",
       "  <thead>\n",
       "    <tr style=\"text-align: right;\">\n",
       "      <th></th>\n",
       "      <th>牛号</th>\n",
       "      <th>HYB</th>\n",
       "      <th>YMB</th>\n",
       "      <th>HYI</th>\n",
       "      <th>YMI</th>\n",
       "      <th>AFC</th>\n",
       "    </tr>\n",
       "  </thead>\n",
       "  <tbody>\n",
       "    <tr>\n",
       "      <th>0</th>\n",
       "      <td>110001000001</td>\n",
       "      <td>1100012000</td>\n",
       "      <td>200001</td>\n",
       "      <td>1100012002</td>\n",
       "      <td>200201</td>\n",
       "      <td>744.0</td>\n",
       "    </tr>\n",
       "    <tr>\n",
       "      <th>1</th>\n",
       "      <td>110001000003</td>\n",
       "      <td>1100012000</td>\n",
       "      <td>200001</td>\n",
       "      <td>1100012002</td>\n",
       "      <td>200201</td>\n",
       "      <td>739.0</td>\n",
       "    </tr>\n",
       "    <tr>\n",
       "      <th>2</th>\n",
       "      <td>110001000006</td>\n",
       "      <td>1100012000</td>\n",
       "      <td>200001</td>\n",
       "      <td>1100012002</td>\n",
       "      <td>200203</td>\n",
       "      <td>799.0</td>\n",
       "    </tr>\n",
       "    <tr>\n",
       "      <th>3</th>\n",
       "      <td>110001000007</td>\n",
       "      <td>1100012000</td>\n",
       "      <td>200001</td>\n",
       "      <td>1100012002</td>\n",
       "      <td>200207</td>\n",
       "      <td>903.0</td>\n",
       "    </tr>\n",
       "    <tr>\n",
       "      <th>4</th>\n",
       "      <td>110001000008</td>\n",
       "      <td>1100012000</td>\n",
       "      <td>200001</td>\n",
       "      <td>1100012002</td>\n",
       "      <td>200203</td>\n",
       "      <td>774.0</td>\n",
       "    </tr>\n",
       "  </tbody>\n",
       "</table>\n",
       "</div>"
      ],
      "text/plain": [
       "             牛号         HYB     YMB         HYI     YMI    AFC\n",
       "0  110001000001  1100012000  200001  1100012002  200201  744.0\n",
       "1  110001000003  1100012000  200001  1100012002  200201  739.0\n",
       "2  110001000006  1100012000  200001  1100012002  200203  799.0\n",
       "3  110001000007  1100012000  200001  1100012002  200207  903.0\n",
       "4  110001000008  1100012000  200001  1100012002  200203  774.0"
      ]
     },
     "execution_count": 217,
     "metadata": {},
     "output_type": "execute_result"
    }
   ],
   "source": [
    "AFCCf.head()"
   ]
  },
  {
   "cell_type": "markdown",
   "metadata": {},
   "source": [
    "## 青年牛IFL的效应"
   ]
  },
  {
   "cell_type": "markdown",
   "metadata": {},
   "source": [
    "pce，pcifl1，iflhv"
   ]
  },
  {
   "cell_type": "code",
   "execution_count": 218,
   "metadata": {},
   "outputs": [
    {
     "data": {
      "text/html": [
       "<div>\n",
       "<style scoped>\n",
       "    .dataframe tbody tr th:only-of-type {\n",
       "        vertical-align: middle;\n",
       "    }\n",
       "\n",
       "    .dataframe tbody tr th {\n",
       "        vertical-align: top;\n",
       "    }\n",
       "\n",
       "    .dataframe thead th {\n",
       "        text-align: right;\n",
       "    }\n",
       "</style>\n",
       "<table border=\"1\" class=\"dataframe\">\n",
       "  <thead>\n",
       "    <tr style=\"text-align: right;\">\n",
       "      <th></th>\n",
       "      <th>牛号</th>\n",
       "      <th>胎次</th>\n",
       "      <th>配次</th>\n",
       "      <th>配种日期</th>\n",
       "      <th>场号</th>\n",
       "      <th>yearp</th>\n",
       "      <th>monthp</th>\n",
       "      <th>YMI</th>\n",
       "      <th>HYI</th>\n",
       "      <th>cowtai</th>\n",
       "    </tr>\n",
       "  </thead>\n",
       "  <tbody>\n",
       "    <tr>\n",
       "      <th>310591</th>\n",
       "      <td>110055H11322</td>\n",
       "      <td>0</td>\n",
       "      <td>1.0</td>\n",
       "      <td>2013/4/8</td>\n",
       "      <td>110055</td>\n",
       "      <td>2013</td>\n",
       "      <td>4</td>\n",
       "      <td>20134</td>\n",
       "      <td>1100552013</td>\n",
       "      <td>110055H11322.1</td>\n",
       "    </tr>\n",
       "    <tr>\n",
       "      <th>392955</th>\n",
       "      <td>110120120072</td>\n",
       "      <td>0</td>\n",
       "      <td>1.0</td>\n",
       "      <td>2014/5/8</td>\n",
       "      <td>110120</td>\n",
       "      <td>2014</td>\n",
       "      <td>5</td>\n",
       "      <td>20145</td>\n",
       "      <td>1101202014</td>\n",
       "      <td>110120120072.1</td>\n",
       "    </tr>\n",
       "    <tr>\n",
       "      <th>844715</th>\n",
       "      <td>13a003033500</td>\n",
       "      <td>0</td>\n",
       "      <td>1.0</td>\n",
       "      <td>2013/12/6</td>\n",
       "      <td>13a003</td>\n",
       "      <td>2013</td>\n",
       "      <td>12</td>\n",
       "      <td>201312</td>\n",
       "      <td>13a0032013</td>\n",
       "      <td>13a003033500.1</td>\n",
       "    </tr>\n",
       "    <tr>\n",
       "      <th>844999</th>\n",
       "      <td>13a003090007</td>\n",
       "      <td>0</td>\n",
       "      <td>1.0</td>\n",
       "      <td>2013/7/10</td>\n",
       "      <td>13a003</td>\n",
       "      <td>2013</td>\n",
       "      <td>7</td>\n",
       "      <td>20137</td>\n",
       "      <td>13a0032013</td>\n",
       "      <td>13a003090007.1</td>\n",
       "    </tr>\n",
       "    <tr>\n",
       "      <th>845009</th>\n",
       "      <td>13a003090018</td>\n",
       "      <td>0</td>\n",
       "      <td>1.0</td>\n",
       "      <td>2013/11/8</td>\n",
       "      <td>13a003</td>\n",
       "      <td>2013</td>\n",
       "      <td>11</td>\n",
       "      <td>201311</td>\n",
       "      <td>13a0032013</td>\n",
       "      <td>13a003090018.1</td>\n",
       "    </tr>\n",
       "  </tbody>\n",
       "</table>\n",
       "</div>"
      ],
      "text/plain": [
       "                  牛号  胎次   配次       配种日期      场号 yearp monthp     YMI  \\\n",
       "310591  110055H11322   0  1.0   2013/4/8  110055  2013      4   20134   \n",
       "392955  110120120072   0  1.0   2014/5/8  110120  2014      5   20145   \n",
       "844715  13a003033500   0  1.0  2013/12/6  13a003  2013     12  201312   \n",
       "844999  13a003090007   0  1.0  2013/7/10  13a003  2013      7   20137   \n",
       "845009  13a003090018   0  1.0  2013/11/8  13a003  2013     11  201311   \n",
       "\n",
       "               HYI          cowtai  \n",
       "310591  1100552013  110055H11322.1  \n",
       "392955  1101202014  110120120072.1  \n",
       "844715  13a0032013  13a003033500.1  \n",
       "844999  13a0032013  13a003090007.1  \n",
       "845009  13a0032013  13a003090018.1  "
      ]
     },
     "execution_count": 218,
     "metadata": {},
     "output_type": "execute_result"
    }
   ],
   "source": [
    "pce1.head()"
   ]
  },
  {
   "cell_type": "code",
   "execution_count": 219,
   "metadata": {},
   "outputs": [
    {
     "data": {
      "text/html": [
       "<div>\n",
       "<style scoped>\n",
       "    .dataframe tbody tr th:only-of-type {\n",
       "        vertical-align: middle;\n",
       "    }\n",
       "\n",
       "    .dataframe tbody tr th {\n",
       "        vertical-align: top;\n",
       "    }\n",
       "\n",
       "    .dataframe thead th {\n",
       "        text-align: right;\n",
       "    }\n",
       "</style>\n",
       "<table border=\"1\" class=\"dataframe\">\n",
       "  <thead>\n",
       "    <tr style=\"text-align: right;\">\n",
       "      <th></th>\n",
       "      <th>牛号</th>\n",
       "      <th>胎次</th>\n",
       "      <th>产犊日期</th>\n",
       "      <th>cowtai</th>\n",
       "      <th>首次配种罚项</th>\n",
       "      <th>配种日期</th>\n",
       "      <th>IFL</th>\n",
       "    </tr>\n",
       "  </thead>\n",
       "  <tbody>\n",
       "    <tr>\n",
       "      <th>0</th>\n",
       "      <td>13a003080027</td>\n",
       "      <td>3</td>\n",
       "      <td>2013-01-28</td>\n",
       "      <td>13a003080027.3</td>\n",
       "      <td>2013-05-03</td>\n",
       "      <td>2014-01-26</td>\n",
       "      <td>268</td>\n",
       "    </tr>\n",
       "    <tr>\n",
       "      <th>2</th>\n",
       "      <td>13a003110016</td>\n",
       "      <td>3</td>\n",
       "      <td>2015-08-04</td>\n",
       "      <td>13a003110016.3</td>\n",
       "      <td>2015-11-07</td>\n",
       "      <td>2016-06-06</td>\n",
       "      <td>212</td>\n",
       "    </tr>\n",
       "    <tr>\n",
       "      <th>3</th>\n",
       "      <td>13a003110030</td>\n",
       "      <td>1</td>\n",
       "      <td>2014-03-05</td>\n",
       "      <td>13a003110030.1</td>\n",
       "      <td>2014-06-08</td>\n",
       "      <td>2014-10-01</td>\n",
       "      <td>115</td>\n",
       "    </tr>\n",
       "    <tr>\n",
       "      <th>4</th>\n",
       "      <td>13a003111070</td>\n",
       "      <td>4</td>\n",
       "      <td>2016-01-20</td>\n",
       "      <td>13a003111070.4</td>\n",
       "      <td>2016-04-24</td>\n",
       "      <td>2016-06-26</td>\n",
       "      <td>63</td>\n",
       "    </tr>\n",
       "    <tr>\n",
       "      <th>5</th>\n",
       "      <td>13a003121064</td>\n",
       "      <td>3</td>\n",
       "      <td>2016-01-17</td>\n",
       "      <td>13a003121064.3</td>\n",
       "      <td>2016-04-21</td>\n",
       "      <td>2016-05-31</td>\n",
       "      <td>40</td>\n",
       "    </tr>\n",
       "  </tbody>\n",
       "</table>\n",
       "</div>"
      ],
      "text/plain": [
       "             牛号 胎次       产犊日期          cowtai     首次配种罚项       配种日期  IFL\n",
       "0  13a003080027  3 2013-01-28  13a003080027.3 2013-05-03 2014-01-26  268\n",
       "2  13a003110016  3 2015-08-04  13a003110016.3 2015-11-07 2016-06-06  212\n",
       "3  13a003110030  1 2014-03-05  13a003110030.1 2014-06-08 2014-10-01  115\n",
       "4  13a003111070  4 2016-01-20  13a003111070.4 2016-04-24 2016-06-26   63\n",
       "5  13a003121064  3 2016-01-17  13a003121064.3 2016-04-21 2016-05-31   40"
      ]
     },
     "execution_count": 219,
     "metadata": {},
     "output_type": "execute_result"
    }
   ],
   "source": [
    "pcifl1.head()"
   ]
  },
  {
   "cell_type": "code",
   "execution_count": 220,
   "metadata": {},
   "outputs": [
    {
     "data": {
      "text/html": [
       "<div>\n",
       "<style scoped>\n",
       "    .dataframe tbody tr th:only-of-type {\n",
       "        vertical-align: middle;\n",
       "    }\n",
       "\n",
       "    .dataframe tbody tr th {\n",
       "        vertical-align: top;\n",
       "    }\n",
       "\n",
       "    .dataframe thead th {\n",
       "        text-align: right;\n",
       "    }\n",
       "</style>\n",
       "<table border=\"1\" class=\"dataframe\">\n",
       "  <thead>\n",
       "    <tr style=\"text-align: right;\">\n",
       "      <th></th>\n",
       "      <th>牛号</th>\n",
       "      <th>胎次</th>\n",
       "      <th>配次</th>\n",
       "      <th>cowtai</th>\n",
       "      <th>配种日期</th>\n",
       "      <th>初配日期</th>\n",
       "      <th>IFL</th>\n",
       "    </tr>\n",
       "  </thead>\n",
       "  <tbody>\n",
       "    <tr>\n",
       "      <th>0</th>\n",
       "      <td>13a003110046</td>\n",
       "      <td>0</td>\n",
       "      <td>2.0</td>\n",
       "      <td>13a003110046.0</td>\n",
       "      <td>2014-11-20</td>\n",
       "      <td>2014-03-05</td>\n",
       "      <td>260</td>\n",
       "    </tr>\n",
       "    <tr>\n",
       "      <th>1</th>\n",
       "      <td>13a003120084</td>\n",
       "      <td>0</td>\n",
       "      <td>2.0</td>\n",
       "      <td>13a003120084.0</td>\n",
       "      <td>2014-05-09</td>\n",
       "      <td>2013-11-08</td>\n",
       "      <td>182</td>\n",
       "    </tr>\n",
       "    <tr>\n",
       "      <th>2</th>\n",
       "      <td>13a003120090</td>\n",
       "      <td>0</td>\n",
       "      <td>2.0</td>\n",
       "      <td>13a003120090.0</td>\n",
       "      <td>2014-10-10</td>\n",
       "      <td>2014-03-04</td>\n",
       "      <td>220</td>\n",
       "    </tr>\n",
       "    <tr>\n",
       "      <th>3</th>\n",
       "      <td>13a003130004</td>\n",
       "      <td>0</td>\n",
       "      <td>2.0</td>\n",
       "      <td>13a003130004.0</td>\n",
       "      <td>2014-11-10</td>\n",
       "      <td>2014-09-03</td>\n",
       "      <td>68</td>\n",
       "    </tr>\n",
       "    <tr>\n",
       "      <th>4</th>\n",
       "      <td>13a003130036</td>\n",
       "      <td>0</td>\n",
       "      <td>2.0</td>\n",
       "      <td>13a003130036.0</td>\n",
       "      <td>2014-11-05</td>\n",
       "      <td>2014-08-18</td>\n",
       "      <td>79</td>\n",
       "    </tr>\n",
       "  </tbody>\n",
       "</table>\n",
       "</div>"
      ],
      "text/plain": [
       "             牛号  胎次   配次          cowtai       配种日期       初配日期  IFL\n",
       "0  13a003110046   0  2.0  13a003110046.0 2014-11-20 2014-03-05  260\n",
       "1  13a003120084   0  2.0  13a003120084.0 2014-05-09 2013-11-08  182\n",
       "2  13a003120090   0  2.0  13a003120090.0 2014-10-10 2014-03-04  220\n",
       "3  13a003130004   0  2.0  13a003130004.0 2014-11-10 2014-09-03   68\n",
       "4  13a003130036   0  2.0  13a003130036.0 2014-11-05 2014-08-18   79"
      ]
     },
     "execution_count": 220,
     "metadata": {},
     "output_type": "execute_result"
    }
   ],
   "source": [
    "iflhv.head()"
   ]
  },
  {
   "cell_type": "markdown",
   "metadata": {},
   "source": [
    "青年牛数据为pce1，以及iflhv数据集，先对其进行合并，并添加出生日期数据，青年牛IFL评估所要的效应为HYI,YMI,HYB,YMB，以及MF。"
   ]
  },
  {
   "cell_type": "code",
   "execution_count": 221,
   "metadata": {},
   "outputs": [
    {
     "name": "stderr",
     "output_type": "stream",
     "text": [
      "E:\\Anaconda\\lib\\site-packages\\ipykernel_launcher.py:2: SettingWithCopyWarning: \n",
      "A value is trying to be set on a copy of a slice from a DataFrame.\n",
      "Try using .loc[row_indexer,col_indexer] = value instead\n",
      "\n",
      "See the caveats in the documentation: http://pandas.pydata.org/pandas-docs/stable/indexing.html#indexing-view-versus-copy\n",
      "  \n"
     ]
    }
   ],
   "source": [
    "iflh_1=pce1[['牛号','配种日期']]\n",
    "iflh_1['IFL']=0"
   ]
  },
  {
   "cell_type": "code",
   "execution_count": 222,
   "metadata": {},
   "outputs": [
    {
     "name": "stderr",
     "output_type": "stream",
     "text": [
      "E:\\Anaconda\\lib\\site-packages\\pandas\\core\\frame.py:3027: SettingWithCopyWarning: \n",
      "A value is trying to be set on a copy of a slice from a DataFrame\n",
      "\n",
      "See the caveats in the documentation: http://pandas.pydata.org/pandas-docs/stable/indexing.html#indexing-view-versus-copy\n",
      "  return super(DataFrame, self).rename(**kwargs)\n"
     ]
    }
   ],
   "source": [
    "iflh_2=iflhv[['牛号','初配日期','IFL']]\n",
    "iflh_2.rename(columns={'初配日期':'配种日期'},inplace=True)"
   ]
  },
  {
   "cell_type": "code",
   "execution_count": 223,
   "metadata": {},
   "outputs": [],
   "source": [
    "iflh=pd.concat([iflh_1,iflh_2])"
   ]
  },
  {
   "cell_type": "code",
   "execution_count": 224,
   "metadata": {},
   "outputs": [],
   "source": [
    "iflhb=b1[['牛号','YMB','HYB']]"
   ]
  },
  {
   "cell_type": "code",
   "execution_count": 225,
   "metadata": {},
   "outputs": [],
   "source": [
    "iflh=pd.merge(iflh,iflhb,on='牛号',how='left')"
   ]
  },
  {
   "cell_type": "code",
   "execution_count": 226,
   "metadata": {},
   "outputs": [],
   "source": [
    "iflh['配种日期']=list(map(lambda s:str(s),iflh['配种日期']))\n",
    "iflh['配种日期']=iflh['配种日期'].apply(lambda s : s.replace('/','-'))\n",
    "iflh['HYI']=iflh['牛号'].apply(lambda s:s[0:6])+iflh['配种日期'].apply(lambda s:s.split('-')[0])\n",
    "iflh['YMI']=iflh['配种日期'].apply(lambda s:s.split('-')[0])+iflh['配种日期'].apply(lambda s:s.split('-')[1])"
   ]
  },
  {
   "cell_type": "code",
   "execution_count": 227,
   "metadata": {},
   "outputs": [],
   "source": [
    "iflhf=iflh[['牛号','HYB','YMB','HYI','YMI','IFL']]"
   ]
  },
  {
   "cell_type": "markdown",
   "metadata": {},
   "source": [
    "## 青年牛性状合并计算MF效应"
   ]
  },
  {
   "cell_type": "code",
   "execution_count": 228,
   "metadata": {},
   "outputs": [],
   "source": [
    "heifer=pd.concat([AFSSf,AFCCf,iflhf])"
   ]
  },
  {
   "cell_type": "code",
   "execution_count": 229,
   "metadata": {},
   "outputs": [
    {
     "data": {
      "text/plain": [
       "AFC    2048679\n",
       "AFS     356029\n",
       "HYB    2577101\n",
       "HYI    2577361\n",
       "IFL     172653\n",
       "YMB    2577101\n",
       "YMI    2577361\n",
       "牛号     2577361\n",
       "dtype: int64"
      ]
     },
     "execution_count": 229,
     "metadata": {},
     "output_type": "execute_result"
    }
   ],
   "source": [
    "heifer.count()"
   ]
  },
  {
   "cell_type": "code",
   "execution_count": 230,
   "metadata": {},
   "outputs": [],
   "source": [
    "heifer['MF'] = pd.cut(heifer['AFS'], 5,labels=[1, 2, 3, 4, 5]) #数据AFS均分5份"
   ]
  },
  {
   "cell_type": "code",
   "execution_count": 231,
   "metadata": {},
   "outputs": [
    {
     "data": {
      "text/html": [
       "<div>\n",
       "<style scoped>\n",
       "    .dataframe tbody tr th:only-of-type {\n",
       "        vertical-align: middle;\n",
       "    }\n",
       "\n",
       "    .dataframe tbody tr th {\n",
       "        vertical-align: top;\n",
       "    }\n",
       "\n",
       "    .dataframe thead th {\n",
       "        text-align: right;\n",
       "    }\n",
       "</style>\n",
       "<table border=\"1\" class=\"dataframe\">\n",
       "  <thead>\n",
       "    <tr style=\"text-align: right;\">\n",
       "      <th></th>\n",
       "      <th>AFC</th>\n",
       "      <th>AFS</th>\n",
       "      <th>HYB</th>\n",
       "      <th>HYI</th>\n",
       "      <th>IFL</th>\n",
       "      <th>YMB</th>\n",
       "      <th>YMI</th>\n",
       "      <th>牛号</th>\n",
       "      <th>MF</th>\n",
       "    </tr>\n",
       "  </thead>\n",
       "  <tbody>\n",
       "    <tr>\n",
       "      <th>0</th>\n",
       "      <td>NaN</td>\n",
       "      <td>780.0</td>\n",
       "      <td>1100012009</td>\n",
       "      <td>1100012011</td>\n",
       "      <td>NaN</td>\n",
       "      <td>200901</td>\n",
       "      <td>201102</td>\n",
       "      <td>110001009001</td>\n",
       "      <td>5</td>\n",
       "    </tr>\n",
       "    <tr>\n",
       "      <th>1</th>\n",
       "      <td>NaN</td>\n",
       "      <td>831.0</td>\n",
       "      <td>1100012009</td>\n",
       "      <td>1100012011</td>\n",
       "      <td>NaN</td>\n",
       "      <td>200903</td>\n",
       "      <td>201107</td>\n",
       "      <td>110001009041</td>\n",
       "      <td>5</td>\n",
       "    </tr>\n",
       "    <tr>\n",
       "      <th>2</th>\n",
       "      <td>NaN</td>\n",
       "      <td>854.0</td>\n",
       "      <td>1100012009</td>\n",
       "      <td>1100012011</td>\n",
       "      <td>NaN</td>\n",
       "      <td>200904</td>\n",
       "      <td>201108</td>\n",
       "      <td>110001009048</td>\n",
       "      <td>5</td>\n",
       "    </tr>\n",
       "    <tr>\n",
       "      <th>3</th>\n",
       "      <td>NaN</td>\n",
       "      <td>835.0</td>\n",
       "      <td>1100012009</td>\n",
       "      <td>1100012011</td>\n",
       "      <td>NaN</td>\n",
       "      <td>200904</td>\n",
       "      <td>201108</td>\n",
       "      <td>110001009055</td>\n",
       "      <td>5</td>\n",
       "    </tr>\n",
       "    <tr>\n",
       "      <th>4</th>\n",
       "      <td>NaN</td>\n",
       "      <td>801.0</td>\n",
       "      <td>1100012009</td>\n",
       "      <td>1100012011</td>\n",
       "      <td>NaN</td>\n",
       "      <td>200905</td>\n",
       "      <td>201107</td>\n",
       "      <td>110001009068</td>\n",
       "      <td>5</td>\n",
       "    </tr>\n",
       "  </tbody>\n",
       "</table>\n",
       "</div>"
      ],
      "text/plain": [
       "   AFC    AFS         HYB         HYI  IFL     YMB     YMI            牛号 MF\n",
       "0  NaN  780.0  1100012009  1100012011  NaN  200901  201102  110001009001  5\n",
       "1  NaN  831.0  1100012009  1100012011  NaN  200903  201107  110001009041  5\n",
       "2  NaN  854.0  1100012009  1100012011  NaN  200904  201108  110001009048  5\n",
       "3  NaN  835.0  1100012009  1100012011  NaN  200904  201108  110001009055  5\n",
       "4  NaN  801.0  1100012009  1100012011  NaN  200905  201107  110001009068  5"
      ]
     },
     "execution_count": 231,
     "metadata": {},
     "output_type": "execute_result"
    }
   ],
   "source": [
    "heifer.head()"
   ]
  },
  {
   "cell_type": "markdown",
   "metadata": {},
   "source": [
    "## 经产牛IFL效应"
   ]
  },
  {
   "cell_type": "markdown",
   "metadata": {},
   "source": [
    "经产牛的IFL数据在pcifl1和pce2数据集中，经产牛IFL所需的效应有：HYI,YMI,Parity"
   ]
  },
  {
   "cell_type": "code",
   "execution_count": 232,
   "metadata": {},
   "outputs": [
    {
     "name": "stderr",
     "output_type": "stream",
     "text": [
      "E:\\Anaconda\\lib\\site-packages\\pandas\\core\\frame.py:3027: SettingWithCopyWarning: \n",
      "A value is trying to be set on a copy of a slice from a DataFrame\n",
      "\n",
      "See the caveats in the documentation: http://pandas.pydata.org/pandas-docs/stable/indexing.html#indexing-view-versus-copy\n",
      "  return super(DataFrame, self).rename(**kwargs)\n"
     ]
    }
   ],
   "source": [
    "iflc_1=pcifl1[['牛号','胎次','首次配种罚项','IFL']]\n",
    "iflc_1.rename(columns={'首次配种罚项':'配种日期'},inplace=True)"
   ]
  },
  {
   "cell_type": "code",
   "execution_count": 233,
   "metadata": {},
   "outputs": [
    {
     "name": "stderr",
     "output_type": "stream",
     "text": [
      "E:\\Anaconda\\lib\\site-packages\\ipykernel_launcher.py:2: SettingWithCopyWarning: \n",
      "A value is trying to be set on a copy of a slice from a DataFrame.\n",
      "Try using .loc[row_indexer,col_indexer] = value instead\n",
      "\n",
      "See the caveats in the documentation: http://pandas.pydata.org/pandas-docs/stable/indexing.html#indexing-view-versus-copy\n",
      "  \n"
     ]
    }
   ],
   "source": [
    "iflc_2=pce2[['牛号','胎次','配种日期']]\n",
    "iflc_2['IFL']=0"
   ]
  },
  {
   "cell_type": "code",
   "execution_count": 234,
   "metadata": {},
   "outputs": [],
   "source": [
    "iflc=pd.concat([iflc_1,iflc_2])\n",
    "iflc=pd.merge(iflc,iflhb,on='牛号',how='left')"
   ]
  },
  {
   "cell_type": "code",
   "execution_count": 235,
   "metadata": {},
   "outputs": [],
   "source": [
    "iflc['配种日期']=list(map(lambda s:str(s),iflc['配种日期']))\n",
    "iflc['配种日期']=iflc['配种日期'].apply(lambda s : s.replace('/','-'))\n",
    "iflc['HYI']=iflc['牛号'].apply(lambda s:s[0:6])+iflc['配种日期'].apply(lambda s:s.split('-')[0])\n",
    "iflc['YMI']=iflc['配种日期'].apply(lambda s:s.split('-')[0])+iflc['配种日期'].apply(lambda s:s.split('-')[1])"
   ]
  },
  {
   "cell_type": "code",
   "execution_count": 236,
   "metadata": {},
   "outputs": [],
   "source": [
    "iflc_f=iflc[['牛号','胎次','HYB','YMB','HYI','YMI','IFL']]"
   ]
  },
  {
   "cell_type": "code",
   "execution_count": 237,
   "metadata": {},
   "outputs": [
    {
     "data": {
      "text/plain": [
       "牛号     219273\n",
       "胎次     219273\n",
       "HYB    218337\n",
       "YMB    218337\n",
       "HYI    219273\n",
       "YMI    219273\n",
       "IFL    219273\n",
       "dtype: int64"
      ]
     },
     "execution_count": 237,
     "metadata": {},
     "output_type": "execute_result"
    }
   ],
   "source": [
    "iflc_f.count()"
   ]
  },
  {
   "cell_type": "markdown",
   "metadata": {},
   "source": [
    "## ICF的效应"
   ]
  },
  {
   "cell_type": "markdown",
   "metadata": {},
   "source": [
    "ICF数据包含在icf和pcd2两个数据集中，所需效应为Parity,HYC,YMC以及MF。"
   ]
  },
  {
   "cell_type": "code",
   "execution_count": 238,
   "metadata": {},
   "outputs": [
    {
     "data": {
      "text/html": [
       "<div>\n",
       "<style scoped>\n",
       "    .dataframe tbody tr th:only-of-type {\n",
       "        vertical-align: middle;\n",
       "    }\n",
       "\n",
       "    .dataframe tbody tr th {\n",
       "        vertical-align: top;\n",
       "    }\n",
       "\n",
       "    .dataframe thead th {\n",
       "        text-align: right;\n",
       "    }\n",
       "</style>\n",
       "<table border=\"1\" class=\"dataframe\">\n",
       "  <thead>\n",
       "    <tr style=\"text-align: right;\">\n",
       "      <th></th>\n",
       "      <th>cowtai</th>\n",
       "      <th>配种日期</th>\n",
       "      <th>产犊日期</th>\n",
       "      <th>ICF1</th>\n",
       "    </tr>\n",
       "  </thead>\n",
       "  <tbody>\n",
       "    <tr>\n",
       "      <th>0</th>\n",
       "      <td>110010201304.7</td>\n",
       "      <td>2011-12-12</td>\n",
       "      <td>2011-07-13</td>\n",
       "      <td>152</td>\n",
       "    </tr>\n",
       "    <tr>\n",
       "      <th>6</th>\n",
       "      <td>110015011111.4</td>\n",
       "      <td>2017-05-12</td>\n",
       "      <td>2016-12-09</td>\n",
       "      <td>154</td>\n",
       "    </tr>\n",
       "    <tr>\n",
       "      <th>7</th>\n",
       "      <td>110015011283.1</td>\n",
       "      <td>2013-12-30</td>\n",
       "      <td>2013-06-20</td>\n",
       "      <td>193</td>\n",
       "    </tr>\n",
       "    <tr>\n",
       "      <th>10</th>\n",
       "      <td>110015130180.3</td>\n",
       "      <td>2017-10-02</td>\n",
       "      <td>2017-05-01</td>\n",
       "      <td>154</td>\n",
       "    </tr>\n",
       "    <tr>\n",
       "      <th>11</th>\n",
       "      <td>110015130467.2</td>\n",
       "      <td>2017-10-10</td>\n",
       "      <td>2017-04-28</td>\n",
       "      <td>165</td>\n",
       "    </tr>\n",
       "  </tbody>\n",
       "</table>\n",
       "</div>"
      ],
      "text/plain": [
       "            cowtai       配种日期       产犊日期  ICF1\n",
       "0   110010201304.7 2011-12-12 2011-07-13   152\n",
       "6   110015011111.4 2017-05-12 2016-12-09   154\n",
       "7   110015011283.1 2013-12-30 2013-06-20   193\n",
       "10  110015130180.3 2017-10-02 2017-05-01   154\n",
       "11  110015130467.2 2017-10-10 2017-04-28   165"
      ]
     },
     "execution_count": 238,
     "metadata": {},
     "output_type": "execute_result"
    }
   ],
   "source": [
    "icf.head()"
   ]
  },
  {
   "cell_type": "code",
   "execution_count": 239,
   "metadata": {},
   "outputs": [
    {
     "data": {
      "text/plain": [
       "牛号        155787\n",
       "胎次        155787\n",
       "配次        155787\n",
       "cowtai    155787\n",
       "配种日期      155787\n",
       "dtype: int64"
      ]
     },
     "execution_count": 239,
     "metadata": {},
     "output_type": "execute_result"
    }
   ],
   "source": [
    "pcd2.count()"
   ]
  },
  {
   "cell_type": "code",
   "execution_count": 240,
   "metadata": {},
   "outputs": [
    {
     "name": "stderr",
     "output_type": "stream",
     "text": [
      "E:\\Anaconda\\lib\\site-packages\\ipykernel_launcher.py:1: SettingWithCopyWarning: \n",
      "A value is trying to be set on a copy of a slice from a DataFrame.\n",
      "Try using .loc[row_indexer,col_indexer] = value instead\n",
      "\n",
      "See the caveats in the documentation: http://pandas.pydata.org/pandas-docs/stable/indexing.html#indexing-view-versus-copy\n",
      "  \"\"\"Entry point for launching an IPython kernel.\n",
      "E:\\Anaconda\\lib\\site-packages\\ipykernel_launcher.py:2: SettingWithCopyWarning: \n",
      "A value is trying to be set on a copy of a slice from a DataFrame.\n",
      "Try using .loc[row_indexer,col_indexer] = value instead\n",
      "\n",
      "See the caveats in the documentation: http://pandas.pydata.org/pandas-docs/stable/indexing.html#indexing-view-versus-copy\n",
      "  \n"
     ]
    }
   ],
   "source": [
    "icf['胎次']=icf['cowtai'].apply(lambda s : s.split('.')[1])\n",
    "icf['牛号']=icf['cowtai'].apply(lambda s : s.split('.')[0])"
   ]
  },
  {
   "cell_type": "code",
   "execution_count": 241,
   "metadata": {},
   "outputs": [
    {
     "name": "stderr",
     "output_type": "stream",
     "text": [
      "E:\\Anaconda\\lib\\site-packages\\pandas\\core\\frame.py:3027: SettingWithCopyWarning: \n",
      "A value is trying to be set on a copy of a slice from a DataFrame\n",
      "\n",
      "See the caveats in the documentation: http://pandas.pydata.org/pandas-docs/stable/indexing.html#indexing-view-versus-copy\n",
      "  return super(DataFrame, self).rename(**kwargs)\n"
     ]
    }
   ],
   "source": [
    "icf.rename(columns={'ICF1':'ICF'},inplace=True)"
   ]
  },
  {
   "cell_type": "code",
   "execution_count": 242,
   "metadata": {},
   "outputs": [
    {
     "name": "stderr",
     "output_type": "stream",
     "text": [
      "E:\\Anaconda\\lib\\site-packages\\ipykernel_launcher.py:3: SettingWithCopyWarning: \n",
      "A value is trying to be set on a copy of a slice from a DataFrame.\n",
      "Try using .loc[row_indexer,col_indexer] = value instead\n",
      "\n",
      "See the caveats in the documentation: http://pandas.pydata.org/pandas-docs/stable/indexing.html#indexing-view-versus-copy\n",
      "  This is separate from the ipykernel package so we can avoid doing imports until\n"
     ]
    }
   ],
   "source": [
    "icf_1=icf[['牛号','胎次','ICF','cowtai']]\n",
    "icf_2=pcd2[['牛号','胎次','cowtai']]\n",
    "icf_2['ICF']=95 #罚项平均值"
   ]
  },
  {
   "cell_type": "code",
   "execution_count": 243,
   "metadata": {},
   "outputs": [
    {
     "data": {
      "text/html": [
       "<div>\n",
       "<style scoped>\n",
       "    .dataframe tbody tr th:only-of-type {\n",
       "        vertical-align: middle;\n",
       "    }\n",
       "\n",
       "    .dataframe tbody tr th {\n",
       "        vertical-align: top;\n",
       "    }\n",
       "\n",
       "    .dataframe thead th {\n",
       "        text-align: right;\n",
       "    }\n",
       "</style>\n",
       "<table border=\"1\" class=\"dataframe\">\n",
       "  <thead>\n",
       "    <tr style=\"text-align: right;\">\n",
       "      <th></th>\n",
       "      <th>牛号</th>\n",
       "      <th>胎次</th>\n",
       "      <th>产犊日期</th>\n",
       "      <th>场号</th>\n",
       "      <th>yearc</th>\n",
       "      <th>monthc</th>\n",
       "      <th>YMC</th>\n",
       "      <th>HYC</th>\n",
       "    </tr>\n",
       "  </thead>\n",
       "  <tbody>\n",
       "    <tr>\n",
       "      <th>0</th>\n",
       "      <td>110001000001</td>\n",
       "      <td>1</td>\n",
       "      <td>2002/1/19</td>\n",
       "      <td>110001</td>\n",
       "      <td>2002</td>\n",
       "      <td>1</td>\n",
       "      <td>20021</td>\n",
       "      <td>1100012002</td>\n",
       "    </tr>\n",
       "    <tr>\n",
       "      <th>1</th>\n",
       "      <td>110001000003</td>\n",
       "      <td>1</td>\n",
       "      <td>2002/1/18</td>\n",
       "      <td>110001</td>\n",
       "      <td>2002</td>\n",
       "      <td>1</td>\n",
       "      <td>20021</td>\n",
       "      <td>1100012002</td>\n",
       "    </tr>\n",
       "    <tr>\n",
       "      <th>2</th>\n",
       "      <td>110001000006</td>\n",
       "      <td>1</td>\n",
       "      <td>2002/3/25</td>\n",
       "      <td>110001</td>\n",
       "      <td>2002</td>\n",
       "      <td>3</td>\n",
       "      <td>20023</td>\n",
       "      <td>1100012002</td>\n",
       "    </tr>\n",
       "    <tr>\n",
       "      <th>3</th>\n",
       "      <td>110001000007</td>\n",
       "      <td>1</td>\n",
       "      <td>2002/7/12</td>\n",
       "      <td>110001</td>\n",
       "      <td>2002</td>\n",
       "      <td>7</td>\n",
       "      <td>20027</td>\n",
       "      <td>1100012002</td>\n",
       "    </tr>\n",
       "    <tr>\n",
       "      <th>4</th>\n",
       "      <td>110001000008</td>\n",
       "      <td>1</td>\n",
       "      <td>2002/3/4</td>\n",
       "      <td>110001</td>\n",
       "      <td>2002</td>\n",
       "      <td>3</td>\n",
       "      <td>20023</td>\n",
       "      <td>1100012002</td>\n",
       "    </tr>\n",
       "  </tbody>\n",
       "</table>\n",
       "</div>"
      ],
      "text/plain": [
       "             牛号  胎次       产犊日期      场号  yearc monthc    YMC         HYC\n",
       "0  110001000001   1  2002/1/19  110001   2002      1  20021  1100012002\n",
       "1  110001000003   1  2002/1/18  110001   2002      1  20021  1100012002\n",
       "2  110001000006   1  2002/3/25  110001   2002      3  20023  1100012002\n",
       "3  110001000007   1  2002/7/12  110001   2002      7  20027  1100012002\n",
       "4  110001000008   1   2002/3/4  110001   2002      3  20023  1100012002"
      ]
     },
     "execution_count": 243,
     "metadata": {},
     "output_type": "execute_result"
    }
   ],
   "source": [
    "c1.head()"
   ]
  },
  {
   "cell_type": "code",
   "execution_count": 244,
   "metadata": {},
   "outputs": [],
   "source": [
    "icf_=pd.concat([icf_1,icf_2])"
   ]
  },
  {
   "cell_type": "code",
   "execution_count": 245,
   "metadata": {},
   "outputs": [],
   "source": [
    "icfc=c1[:]"
   ]
  },
  {
   "cell_type": "code",
   "execution_count": 246,
   "metadata": {},
   "outputs": [],
   "source": [
    "icfc['牛号']=list(map(lambda s : str(s),icfc['牛号']))\n",
    "icfc['胎次']=list(map(lambda s : str(s),icfc['胎次']))"
   ]
  },
  {
   "cell_type": "code",
   "execution_count": 247,
   "metadata": {},
   "outputs": [],
   "source": [
    "icfc['cowtai']=icfc['牛号']+'.'+icfc['胎次']"
   ]
  },
  {
   "cell_type": "code",
   "execution_count": 248,
   "metadata": {},
   "outputs": [],
   "source": [
    "icfcf=icfc[['cowtai','HYC','YMC']]"
   ]
  },
  {
   "cell_type": "code",
   "execution_count": 249,
   "metadata": {},
   "outputs": [],
   "source": [
    "icf_f=pd.merge(icf_,icfcf,on='cowtai',how='left')"
   ]
  },
  {
   "cell_type": "code",
   "execution_count": 250,
   "metadata": {},
   "outputs": [
    {
     "data": {
      "text/plain": [
       "ICF       270731\n",
       "cowtai    270731\n",
       "牛号        270731\n",
       "胎次        270731\n",
       "HYC       266711\n",
       "YMC       266711\n",
       "dtype: int64"
      ]
     },
     "execution_count": 250,
     "metadata": {},
     "output_type": "execute_result"
    }
   ],
   "source": [
    "icf_f.count()"
   ]
  },
  {
   "cell_type": "markdown",
   "metadata": {},
   "source": [
    "## 经产牛性状合并计算MF效应"
   ]
  },
  {
   "cell_type": "code",
   "execution_count": 251,
   "metadata": {},
   "outputs": [],
   "source": [
    "cow=pd.concat([icf_f,iflc_f])"
   ]
  },
  {
   "cell_type": "code",
   "execution_count": 252,
   "metadata": {},
   "outputs": [],
   "source": [
    "MF=AFSSf[['牛号','AFS']]"
   ]
  },
  {
   "cell_type": "code",
   "execution_count": 253,
   "metadata": {},
   "outputs": [],
   "source": [
    "cow=pd.merge(cow,MF,on='牛号',how='left')"
   ]
  },
  {
   "cell_type": "code",
   "execution_count": 254,
   "metadata": {},
   "outputs": [],
   "source": [
    "cow['MF'] = pd.cut(cow['AFS'], 5,labels=[1, 2, 3, 4, 5]) #数据AFS均分5份"
   ]
  },
  {
   "cell_type": "code",
   "execution_count": 255,
   "metadata": {},
   "outputs": [
    {
     "data": {
      "text/plain": [
       "HYB       296424\n",
       "HYC       391043\n",
       "HYI       297360\n",
       "ICF       396708\n",
       "IFL       297360\n",
       "YMB       296424\n",
       "YMC       391043\n",
       "YMI       297360\n",
       "cowtai    396708\n",
       "牛号        694068\n",
       "胎次        694068\n",
       "AFS       486204\n",
       "MF        486204\n",
       "dtype: int64"
      ]
     },
     "execution_count": 255,
     "metadata": {},
     "output_type": "execute_result"
    }
   ],
   "source": [
    "cow.count()"
   ]
  },
  {
   "cell_type": "markdown",
   "metadata": {},
   "source": [
    "# 筛选出宁夏、其他地区的数据进行下一步整理"
   ]
  },
  {
   "cell_type": "code",
   "execution_count": 256,
   "metadata": {},
   "outputs": [],
   "source": [
    "cowtai=fz1[fz1['胎次']<20]\n",
    "cowtai=cowtai[['牛号','胎次','场号']]\n",
    "cowtai['胎次']=list(map(lambda s:str(s),cowtai['胎次']))\n",
    "cowtai['cowtai']=cowtai['牛号']+'.'+cowtai['胎次']"
   ]
  },
  {
   "cell_type": "code",
   "execution_count": 257,
   "metadata": {},
   "outputs": [],
   "source": [
    "cowtai['Region']=cowtai['场号'].apply(lambda s: 'BJ' if s.startswith('11') else s)\n",
    "cowtai['Region']=cowtai['Region'].apply(lambda s: 'SH' if s.startswith('31') else s)\n",
    "cowtai['Region']=cowtai['Region'].apply(lambda s: 'NX' if s.startswith('64') else s)\n",
    "cowtai['Region']=cowtai['Region'].apply(lambda s: s if len(s)==2 else 'other')"
   ]
  },
  {
   "cell_type": "code",
   "execution_count": 258,
   "metadata": {},
   "outputs": [
    {
     "data": {
      "text/html": [
       "<div>\n",
       "<style scoped>\n",
       "    .dataframe tbody tr th:only-of-type {\n",
       "        vertical-align: middle;\n",
       "    }\n",
       "\n",
       "    .dataframe tbody tr th {\n",
       "        vertical-align: top;\n",
       "    }\n",
       "\n",
       "    .dataframe thead th {\n",
       "        text-align: right;\n",
       "    }\n",
       "</style>\n",
       "<table border=\"1\" class=\"dataframe\">\n",
       "  <thead>\n",
       "    <tr style=\"text-align: right;\">\n",
       "      <th></th>\n",
       "      <th>牛号</th>\n",
       "      <th>胎次</th>\n",
       "      <th>场号</th>\n",
       "      <th>cowtai</th>\n",
       "      <th>Region</th>\n",
       "    </tr>\n",
       "  </thead>\n",
       "  <tbody>\n",
       "    <tr>\n",
       "      <th>0</th>\n",
       "      <td>110001000001</td>\n",
       "      <td>1</td>\n",
       "      <td>110001</td>\n",
       "      <td>110001000001.1</td>\n",
       "      <td>BJ</td>\n",
       "    </tr>\n",
       "    <tr>\n",
       "      <th>1</th>\n",
       "      <td>110001000003</td>\n",
       "      <td>1</td>\n",
       "      <td>110001</td>\n",
       "      <td>110001000003.1</td>\n",
       "      <td>BJ</td>\n",
       "    </tr>\n",
       "    <tr>\n",
       "      <th>2</th>\n",
       "      <td>110001000006</td>\n",
       "      <td>1</td>\n",
       "      <td>110001</td>\n",
       "      <td>110001000006.1</td>\n",
       "      <td>BJ</td>\n",
       "    </tr>\n",
       "    <tr>\n",
       "      <th>3</th>\n",
       "      <td>110001000007</td>\n",
       "      <td>1</td>\n",
       "      <td>110001</td>\n",
       "      <td>110001000007.1</td>\n",
       "      <td>BJ</td>\n",
       "    </tr>\n",
       "    <tr>\n",
       "      <th>4</th>\n",
       "      <td>110001000008</td>\n",
       "      <td>1</td>\n",
       "      <td>110001</td>\n",
       "      <td>110001000008.1</td>\n",
       "      <td>BJ</td>\n",
       "    </tr>\n",
       "  </tbody>\n",
       "</table>\n",
       "</div>"
      ],
      "text/plain": [
       "             牛号 胎次      场号          cowtai Region\n",
       "0  110001000001  1  110001  110001000001.1     BJ\n",
       "1  110001000003  1  110001  110001000003.1     BJ\n",
       "2  110001000006  1  110001  110001000006.1     BJ\n",
       "3  110001000007  1  110001  110001000007.1     BJ\n",
       "4  110001000008  1  110001  110001000008.1     BJ"
      ]
     },
     "execution_count": 258,
     "metadata": {},
     "output_type": "execute_result"
    }
   ],
   "source": [
    "cowtai.head()"
   ]
  },
  {
   "cell_type": "code",
   "execution_count": 259,
   "metadata": {},
   "outputs": [],
   "source": [
    "heifer['场号']=heifer['牛号'].apply(lambda s : s[0:6])\n",
    "heifer['Region']=heifer['场号'].apply(lambda s: 'BJ' if s.startswith('11') else s)\n",
    "heifer['Region']=heifer['Region'].apply(lambda s: 'SH' if s.startswith('31') else s)\n",
    "heifer['Region']=heifer['Region'].apply(lambda s: 'NX' if s.startswith('64') else s)\n",
    "heifer['Region']=heifer['Region'].apply(lambda s: s if len(s)==2 else 'other')"
   ]
  },
  {
   "cell_type": "code",
   "execution_count": 260,
   "metadata": {},
   "outputs": [],
   "source": [
    "cow['场号']=cow['牛号'].apply(lambda s : s[0:6])\n",
    "cow['Region']=cow['场号'].apply(lambda s: 'BJ' if s.startswith('11') else s)\n",
    "cow['Region']=cow['Region'].apply(lambda s: 'SH' if s.startswith('31') else s)\n",
    "cow['Region']=cow['Region'].apply(lambda s: 'NX' if s.startswith('64') else s)\n",
    "cow['Region']=cow['Region'].apply(lambda s: s if len(s)==2 else 'other')"
   ]
  },
  {
   "cell_type": "markdown",
   "metadata": {},
   "source": [
    "## 将各数据集场号进行重新编号以便后续分析"
   ]
  },
  {
   "cell_type": "code",
   "execution_count": 261,
   "metadata": {},
   "outputs": [],
   "source": [
    "code_1=heifer[['场号']]"
   ]
  },
  {
   "cell_type": "code",
   "execution_count": 262,
   "metadata": {},
   "outputs": [],
   "source": [
    "code_2=cow[['场号']]"
   ]
  },
  {
   "cell_type": "code",
   "execution_count": 263,
   "metadata": {},
   "outputs": [],
   "source": [
    "code=pd.concat([code_1,code_2]).drop_duplicates(keep='first')"
   ]
  },
  {
   "cell_type": "code",
   "execution_count": 264,
   "metadata": {},
   "outputs": [
    {
     "data": {
      "text/plain": [
       "场号      2924\n",
       "HERD    2924\n",
       "dtype: int64"
      ]
     },
     "execution_count": 264,
     "metadata": {},
     "output_type": "execute_result"
    }
   ],
   "source": [
    "code['HERD']=range(1,2925)\n",
    "code.count()  #共有2924个牧场"
   ]
  },
  {
   "cell_type": "code",
   "execution_count": 265,
   "metadata": {},
   "outputs": [
    {
     "data": {
      "text/html": [
       "<div>\n",
       "<style scoped>\n",
       "    .dataframe tbody tr th:only-of-type {\n",
       "        vertical-align: middle;\n",
       "    }\n",
       "\n",
       "    .dataframe tbody tr th {\n",
       "        vertical-align: top;\n",
       "    }\n",
       "\n",
       "    .dataframe thead th {\n",
       "        text-align: right;\n",
       "    }\n",
       "</style>\n",
       "<table border=\"1\" class=\"dataframe\">\n",
       "  <thead>\n",
       "    <tr style=\"text-align: right;\">\n",
       "      <th></th>\n",
       "      <th>场号</th>\n",
       "      <th>HERD</th>\n",
       "    </tr>\n",
       "  </thead>\n",
       "  <tbody>\n",
       "    <tr>\n",
       "      <th>0</th>\n",
       "      <td>110001</td>\n",
       "      <td>1</td>\n",
       "    </tr>\n",
       "    <tr>\n",
       "      <th>19</th>\n",
       "      <td>110010</td>\n",
       "      <td>2</td>\n",
       "    </tr>\n",
       "    <tr>\n",
       "      <th>1369</th>\n",
       "      <td>110012</td>\n",
       "      <td>3</td>\n",
       "    </tr>\n",
       "    <tr>\n",
       "      <th>2856</th>\n",
       "      <td>110015</td>\n",
       "      <td>4</td>\n",
       "    </tr>\n",
       "    <tr>\n",
       "      <th>7625</th>\n",
       "      <td>110017</td>\n",
       "      <td>5</td>\n",
       "    </tr>\n",
       "  </tbody>\n",
       "</table>\n",
       "</div>"
      ],
      "text/plain": [
       "          场号  HERD\n",
       "0     110001     1\n",
       "19    110010     2\n",
       "1369  110012     3\n",
       "2856  110015     4\n",
       "7625  110017     5"
      ]
     },
     "execution_count": 265,
     "metadata": {},
     "output_type": "execute_result"
    }
   ],
   "source": [
    "code.head()"
   ]
  },
  {
   "cell_type": "code",
   "execution_count": 266,
   "metadata": {},
   "outputs": [
    {
     "ename": "ValueError",
     "evalue": "Buffer dtype mismatch, expected 'Python object' but got 'double'",
     "output_type": "error",
     "traceback": [
      "\u001b[1;31m---------------------------------------------------------------------------\u001b[0m",
      "\u001b[1;31mValueError\u001b[0m                                Traceback (most recent call last)",
      "\u001b[1;31mValueError\u001b[0m: Buffer dtype mismatch, expected 'Python object' but got 'double'"
     ]
    },
    {
     "name": "stderr",
     "output_type": "stream",
     "text": [
      "Exception ignored in: 'pandas._libs.lib.is_bool_array'\n",
      "ValueError: Buffer dtype mismatch, expected 'Python object' but got 'double'\n"
     ]
    }
   ],
   "source": [
    "heifer=pd.merge(heifer,code,on='场号',how='left')\n",
    "del heifer['场号']"
   ]
  },
  {
   "cell_type": "code",
   "execution_count": 267,
   "metadata": {},
   "outputs": [
    {
     "ename": "ValueError",
     "evalue": "Buffer dtype mismatch, expected 'Python object' but got 'double'",
     "output_type": "error",
     "traceback": [
      "\u001b[1;31m---------------------------------------------------------------------------\u001b[0m",
      "\u001b[1;31mValueError\u001b[0m                                Traceback (most recent call last)",
      "\u001b[1;31mValueError\u001b[0m: Buffer dtype mismatch, expected 'Python object' but got 'double'"
     ]
    },
    {
     "name": "stderr",
     "output_type": "stream",
     "text": [
      "Exception ignored in: 'pandas._libs.lib.is_bool_array'\n",
      "ValueError: Buffer dtype mismatch, expected 'Python object' but got 'double'\n"
     ]
    }
   ],
   "source": [
    "cow=pd.merge(cow,code,on='场号',how='left')\n",
    "del cow['场号']"
   ]
  },
  {
   "cell_type": "code",
   "execution_count": 268,
   "metadata": {},
   "outputs": [],
   "source": [
    "heifer['HERD']=heifer['HERD'].apply(lambda s : str(s))\n",
    "heifer['HYB']=heifer['HYB'].apply(lambda s : str(s))\n",
    "heifer['HYI']=heifer['HYI'].apply(lambda s : str(s))\n",
    "cow['HERD']=cow['HERD'].apply(lambda s : str(s))\n",
    "cow['HYB']=cow['HYB'].apply(lambda s : str(s))\n",
    "cow['HYI']=cow['HYI'].apply(lambda s : str(s))\n",
    "cow['HYC']=cow['HYC'].apply(lambda s : str(s))"
   ]
  },
  {
   "cell_type": "code",
   "execution_count": 269,
   "metadata": {},
   "outputs": [],
   "source": [
    "heifer['HYB']=heifer['HERD']+heifer['HYB'].apply(lambda s: s[6:])\n",
    "heifer['HYI']=heifer['HERD']+heifer['HYI'].apply(lambda s: s[6:])\n",
    "cow['HYB']=cow['HERD']+cow['HYB'].apply(lambda s: s[6:])\n",
    "cow['HYI']=cow['HERD']+cow['HYI'].apply(lambda s: s[6:])\n",
    "cow['HYC']=cow['HERD']+cow['HYC'].apply(lambda s: s[6:])"
   ]
  },
  {
   "cell_type": "markdown",
   "metadata": {},
   "source": [
    "## 筛选宁夏，其他地区数据"
   ]
  },
  {
   "cell_type": "code",
   "execution_count": 270,
   "metadata": {},
   "outputs": [],
   "source": [
    "heifer_NX=heifer[heifer['Region']=='NX']\n",
    "heifer_other=heifer[heifer['Region']=='other']"
   ]
  },
  {
   "cell_type": "code",
   "execution_count": 271,
   "metadata": {},
   "outputs": [
    {
     "data": {
      "text/html": [
       "<div>\n",
       "<style scoped>\n",
       "    .dataframe tbody tr th:only-of-type {\n",
       "        vertical-align: middle;\n",
       "    }\n",
       "\n",
       "    .dataframe tbody tr th {\n",
       "        vertical-align: top;\n",
       "    }\n",
       "\n",
       "    .dataframe thead th {\n",
       "        text-align: right;\n",
       "    }\n",
       "</style>\n",
       "<table border=\"1\" class=\"dataframe\">\n",
       "  <thead>\n",
       "    <tr style=\"text-align: right;\">\n",
       "      <th></th>\n",
       "      <th>AFC</th>\n",
       "      <th>AFS</th>\n",
       "      <th>HYB</th>\n",
       "      <th>HYI</th>\n",
       "      <th>IFL</th>\n",
       "      <th>YMB</th>\n",
       "      <th>YMI</th>\n",
       "      <th>牛号</th>\n",
       "      <th>MF</th>\n",
       "      <th>Region</th>\n",
       "      <th>HERD</th>\n",
       "    </tr>\n",
       "  </thead>\n",
       "  <tbody>\n",
       "    <tr>\n",
       "      <th>271520</th>\n",
       "      <td>NaN</td>\n",
       "      <td>884.0</td>\n",
       "      <td>7052005</td>\n",
       "      <td>7052008</td>\n",
       "      <td>NaN</td>\n",
       "      <td>200512</td>\n",
       "      <td>200805</td>\n",
       "      <td>640001050337</td>\n",
       "      <td>5</td>\n",
       "      <td>NX</td>\n",
       "      <td>705</td>\n",
       "    </tr>\n",
       "    <tr>\n",
       "      <th>271521</th>\n",
       "      <td>NaN</td>\n",
       "      <td>876.0</td>\n",
       "      <td>7052006</td>\n",
       "      <td>7052008</td>\n",
       "      <td>NaN</td>\n",
       "      <td>200603</td>\n",
       "      <td>200807</td>\n",
       "      <td>640001060363</td>\n",
       "      <td>5</td>\n",
       "      <td>NX</td>\n",
       "      <td>705</td>\n",
       "    </tr>\n",
       "    <tr>\n",
       "      <th>271522</th>\n",
       "      <td>NaN</td>\n",
       "      <td>857.0</td>\n",
       "      <td>7052006</td>\n",
       "      <td>7052008</td>\n",
       "      <td>NaN</td>\n",
       "      <td>200603</td>\n",
       "      <td>200807</td>\n",
       "      <td>640001060372</td>\n",
       "      <td>5</td>\n",
       "      <td>NX</td>\n",
       "      <td>705</td>\n",
       "    </tr>\n",
       "    <tr>\n",
       "      <th>271523</th>\n",
       "      <td>NaN</td>\n",
       "      <td>845.0</td>\n",
       "      <td>7052006</td>\n",
       "      <td>7052008</td>\n",
       "      <td>NaN</td>\n",
       "      <td>200608</td>\n",
       "      <td>200812</td>\n",
       "      <td>640001060443</td>\n",
       "      <td>5</td>\n",
       "      <td>NX</td>\n",
       "      <td>705</td>\n",
       "    </tr>\n",
       "    <tr>\n",
       "      <th>271524</th>\n",
       "      <td>NaN</td>\n",
       "      <td>893.0</td>\n",
       "      <td>7052006</td>\n",
       "      <td>7052009</td>\n",
       "      <td>NaN</td>\n",
       "      <td>200608</td>\n",
       "      <td>200901</td>\n",
       "      <td>640001060445</td>\n",
       "      <td>5</td>\n",
       "      <td>NX</td>\n",
       "      <td>705</td>\n",
       "    </tr>\n",
       "  </tbody>\n",
       "</table>\n",
       "</div>"
      ],
      "text/plain": [
       "        AFC    AFS      HYB      HYI  IFL     YMB     YMI            牛号 MF  \\\n",
       "271520  NaN  884.0  7052005  7052008  NaN  200512  200805  640001050337  5   \n",
       "271521  NaN  876.0  7052006  7052008  NaN  200603  200807  640001060363  5   \n",
       "271522  NaN  857.0  7052006  7052008  NaN  200603  200807  640001060372  5   \n",
       "271523  NaN  845.0  7052006  7052008  NaN  200608  200812  640001060443  5   \n",
       "271524  NaN  893.0  7052006  7052009  NaN  200608  200901  640001060445  5   \n",
       "\n",
       "       Region HERD  \n",
       "271520     NX  705  \n",
       "271521     NX  705  \n",
       "271522     NX  705  \n",
       "271523     NX  705  \n",
       "271524     NX  705  "
      ]
     },
     "execution_count": 271,
     "metadata": {},
     "output_type": "execute_result"
    }
   ],
   "source": [
    "heifer_NX.head()"
   ]
  },
  {
   "cell_type": "code",
   "execution_count": 272,
   "metadata": {},
   "outputs": [],
   "source": [
    "cow_NX=cow[cow['Region']=='NX']\n",
    "cow_other=cow[cow['Region']=='other']"
   ]
  },
  {
   "cell_type": "code",
   "execution_count": 273,
   "metadata": {},
   "outputs": [
    {
     "data": {
      "text/html": [
       "<div>\n",
       "<style scoped>\n",
       "    .dataframe tbody tr th:only-of-type {\n",
       "        vertical-align: middle;\n",
       "    }\n",
       "\n",
       "    .dataframe tbody tr th {\n",
       "        vertical-align: top;\n",
       "    }\n",
       "\n",
       "    .dataframe thead th {\n",
       "        text-align: right;\n",
       "    }\n",
       "</style>\n",
       "<table border=\"1\" class=\"dataframe\">\n",
       "  <thead>\n",
       "    <tr style=\"text-align: right;\">\n",
       "      <th></th>\n",
       "      <th>HYB</th>\n",
       "      <th>HYC</th>\n",
       "      <th>HYI</th>\n",
       "      <th>ICF</th>\n",
       "      <th>IFL</th>\n",
       "      <th>YMB</th>\n",
       "      <th>YMC</th>\n",
       "      <th>YMI</th>\n",
       "      <th>cowtai</th>\n",
       "      <th>牛号</th>\n",
       "      <th>胎次</th>\n",
       "      <th>AFS</th>\n",
       "      <th>MF</th>\n",
       "      <th>Region</th>\n",
       "      <th>HERD</th>\n",
       "    </tr>\n",
       "  </thead>\n",
       "  <tbody>\n",
       "    <tr>\n",
       "      <th>88870</th>\n",
       "      <td>705</td>\n",
       "      <td>7052009</td>\n",
       "      <td>705</td>\n",
       "      <td>43.0</td>\n",
       "      <td>NaN</td>\n",
       "      <td>NaN</td>\n",
       "      <td>20093</td>\n",
       "      <td>NaN</td>\n",
       "      <td>640001000253.6</td>\n",
       "      <td>640001000253</td>\n",
       "      <td>6</td>\n",
       "      <td>NaN</td>\n",
       "      <td>NaN</td>\n",
       "      <td>NX</td>\n",
       "      <td>705</td>\n",
       "    </tr>\n",
       "    <tr>\n",
       "      <th>88871</th>\n",
       "      <td>705</td>\n",
       "      <td>7052008</td>\n",
       "      <td>705</td>\n",
       "      <td>134.0</td>\n",
       "      <td>NaN</td>\n",
       "      <td>NaN</td>\n",
       "      <td>200811</td>\n",
       "      <td>NaN</td>\n",
       "      <td>640001000398.6</td>\n",
       "      <td>640001000398</td>\n",
       "      <td>6</td>\n",
       "      <td>NaN</td>\n",
       "      <td>NaN</td>\n",
       "      <td>NX</td>\n",
       "      <td>705</td>\n",
       "    </tr>\n",
       "    <tr>\n",
       "      <th>88872</th>\n",
       "      <td>705</td>\n",
       "      <td>7052009</td>\n",
       "      <td>705</td>\n",
       "      <td>123.0</td>\n",
       "      <td>NaN</td>\n",
       "      <td>NaN</td>\n",
       "      <td>20094</td>\n",
       "      <td>NaN</td>\n",
       "      <td>640001010418.6</td>\n",
       "      <td>640001010418</td>\n",
       "      <td>6</td>\n",
       "      <td>NaN</td>\n",
       "      <td>NaN</td>\n",
       "      <td>NX</td>\n",
       "      <td>705</td>\n",
       "    </tr>\n",
       "    <tr>\n",
       "      <th>88873</th>\n",
       "      <td>705</td>\n",
       "      <td>7052009</td>\n",
       "      <td>705</td>\n",
       "      <td>59.0</td>\n",
       "      <td>NaN</td>\n",
       "      <td>NaN</td>\n",
       "      <td>20094</td>\n",
       "      <td>NaN</td>\n",
       "      <td>640001010512.6</td>\n",
       "      <td>640001010512</td>\n",
       "      <td>6</td>\n",
       "      <td>NaN</td>\n",
       "      <td>NaN</td>\n",
       "      <td>NX</td>\n",
       "      <td>705</td>\n",
       "    </tr>\n",
       "    <tr>\n",
       "      <th>88874</th>\n",
       "      <td>705</td>\n",
       "      <td>7052009</td>\n",
       "      <td>705</td>\n",
       "      <td>80.0</td>\n",
       "      <td>NaN</td>\n",
       "      <td>NaN</td>\n",
       "      <td>20092</td>\n",
       "      <td>NaN</td>\n",
       "      <td>640001010520.6</td>\n",
       "      <td>640001010520</td>\n",
       "      <td>6</td>\n",
       "      <td>NaN</td>\n",
       "      <td>NaN</td>\n",
       "      <td>NX</td>\n",
       "      <td>705</td>\n",
       "    </tr>\n",
       "  </tbody>\n",
       "</table>\n",
       "</div>"
      ],
      "text/plain": [
       "       HYB      HYC  HYI    ICF  IFL  YMB     YMC  YMI          cowtai  \\\n",
       "88870  705  7052009  705   43.0  NaN  NaN   20093  NaN  640001000253.6   \n",
       "88871  705  7052008  705  134.0  NaN  NaN  200811  NaN  640001000398.6   \n",
       "88872  705  7052009  705  123.0  NaN  NaN   20094  NaN  640001010418.6   \n",
       "88873  705  7052009  705   59.0  NaN  NaN   20094  NaN  640001010512.6   \n",
       "88874  705  7052009  705   80.0  NaN  NaN   20092  NaN  640001010520.6   \n",
       "\n",
       "                 牛号 胎次  AFS  MF Region HERD  \n",
       "88870  640001000253  6  NaN NaN     NX  705  \n",
       "88871  640001000398  6  NaN NaN     NX  705  \n",
       "88872  640001010418  6  NaN NaN     NX  705  \n",
       "88873  640001010512  6  NaN NaN     NX  705  \n",
       "88874  640001010520  6  NaN NaN     NX  705  "
      ]
     },
     "execution_count": 273,
     "metadata": {},
     "output_type": "execute_result"
    }
   ],
   "source": [
    "cow_NX.head()"
   ]
  },
  {
   "cell_type": "code",
   "execution_count": 274,
   "metadata": {},
   "outputs": [
    {
     "data": {
      "text/plain": [
       "HERD    76\n",
       "dtype: int64"
      ]
     },
     "execution_count": 274,
     "metadata": {},
     "output_type": "execute_result"
    }
   ],
   "source": [
    "cow_NX[['HERD']].drop_duplicates(keep='first').count()"
   ]
  },
  {
   "cell_type": "markdown",
   "metadata": {},
   "source": [
    "# 系谱匹配"
   ]
  },
  {
   "cell_type": "markdown",
   "metadata": {},
   "source": [
    "## 系谱进行区域编号"
   ]
  },
  {
   "cell_type": "code",
   "execution_count": 4,
   "metadata": {},
   "outputs": [],
   "source": [
    "ped=pd.read_csv(\"F:\\\\Python\\\\PED.csv\",sep=\",\",low_memory=False)"
   ]
  },
  {
   "cell_type": "code",
   "execution_count": 5,
   "metadata": {},
   "outputs": [],
   "source": [
    "ped['Region']=ped['牛号'].apply(lambda s: 'BJ' if s.startswith('11') else s)\n",
    "ped['Region']=ped['Region'].apply(lambda s: 'SH' if s.startswith('31') else s)\n",
    "ped['Region']=ped['Region'].apply(lambda s: 'NX' if s.startswith('64') else s)\n",
    "ped['Region']=ped['Region'].apply(lambda s: s if len(s)==2 else 'other')"
   ]
  },
  {
   "cell_type": "code",
   "execution_count": 277,
   "metadata": {},
   "outputs": [
    {
     "data": {
      "text/html": [
       "<div>\n",
       "<style scoped>\n",
       "    .dataframe tbody tr th:only-of-type {\n",
       "        vertical-align: middle;\n",
       "    }\n",
       "\n",
       "    .dataframe tbody tr th {\n",
       "        vertical-align: top;\n",
       "    }\n",
       "\n",
       "    .dataframe thead th {\n",
       "        text-align: right;\n",
       "    }\n",
       "</style>\n",
       "<table border=\"1\" class=\"dataframe\">\n",
       "  <thead>\n",
       "    <tr style=\"text-align: right;\">\n",
       "      <th></th>\n",
       "      <th>牛号</th>\n",
       "      <th>出生日期</th>\n",
       "      <th>父号</th>\n",
       "      <th>母号</th>\n",
       "      <th>CODE</th>\n",
       "      <th>DAM</th>\n",
       "      <th>SIRE</th>\n",
       "      <th>Region</th>\n",
       "    </tr>\n",
       "  </thead>\n",
       "  <tbody>\n",
       "    <tr>\n",
       "      <th>0</th>\n",
       "      <td>110001000001</td>\n",
       "      <td>2000/1/6</td>\n",
       "      <td>11193546</td>\n",
       "      <td>110001099169</td>\n",
       "      <td>1</td>\n",
       "      <td>1827.0</td>\n",
       "      <td>3970806.0</td>\n",
       "      <td>BJ</td>\n",
       "    </tr>\n",
       "    <tr>\n",
       "      <th>1</th>\n",
       "      <td>110001000003</td>\n",
       "      <td>2000/1/10</td>\n",
       "      <td>31195515</td>\n",
       "      <td>110001095046</td>\n",
       "      <td>2</td>\n",
       "      <td>2860945.0</td>\n",
       "      <td>3970807.0</td>\n",
       "      <td>BJ</td>\n",
       "    </tr>\n",
       "    <tr>\n",
       "      <th>2</th>\n",
       "      <td>110001000006</td>\n",
       "      <td>2000/1/16</td>\n",
       "      <td>31195515</td>\n",
       "      <td>110001094056</td>\n",
       "      <td>3</td>\n",
       "      <td>2860946.0</td>\n",
       "      <td>3970807.0</td>\n",
       "      <td>BJ</td>\n",
       "    </tr>\n",
       "    <tr>\n",
       "      <th>3</th>\n",
       "      <td>110001000007</td>\n",
       "      <td>2000/1/21</td>\n",
       "      <td>11194143</td>\n",
       "      <td>110001096113</td>\n",
       "      <td>4</td>\n",
       "      <td>1496.0</td>\n",
       "      <td>3970808.0</td>\n",
       "      <td>BJ</td>\n",
       "    </tr>\n",
       "    <tr>\n",
       "      <th>4</th>\n",
       "      <td>110001000008</td>\n",
       "      <td>2000/1/20</td>\n",
       "      <td>11194143</td>\n",
       "      <td>110001090136</td>\n",
       "      <td>5</td>\n",
       "      <td>2860947.0</td>\n",
       "      <td>3970808.0</td>\n",
       "      <td>BJ</td>\n",
       "    </tr>\n",
       "  </tbody>\n",
       "</table>\n",
       "</div>"
      ],
      "text/plain": [
       "             牛号       出生日期        父号            母号  CODE        DAM  \\\n",
       "0  110001000001   2000/1/6  11193546  110001099169     1     1827.0   \n",
       "1  110001000003  2000/1/10  31195515  110001095046     2  2860945.0   \n",
       "2  110001000006  2000/1/16  31195515  110001094056     3  2860946.0   \n",
       "3  110001000007  2000/1/21  11194143  110001096113     4     1496.0   \n",
       "4  110001000008  2000/1/20  11194143  110001090136     5  2860947.0   \n",
       "\n",
       "        SIRE Region  \n",
       "0  3970806.0     BJ  \n",
       "1  3970807.0     BJ  \n",
       "2  3970807.0     BJ  \n",
       "3  3970808.0     BJ  \n",
       "4  3970808.0     BJ  "
      ]
     },
     "execution_count": 277,
     "metadata": {},
     "output_type": "execute_result"
    }
   ],
   "source": [
    "ped.head()"
   ]
  },
  {
   "cell_type": "markdown",
   "metadata": {},
   "source": [
    "## 上海"
   ]
  },
  {
   "cell_type": "code",
   "execution_count": 6,
   "metadata": {},
   "outputs": [],
   "source": [
    "ped_SH=ped[ped['Region']=='SH'][['牛号','CODE','SIRE','DAM','出生日期']].fillna(0)"
   ]
  },
  {
   "cell_type": "code",
   "execution_count": 7,
   "metadata": {},
   "outputs": [
    {
     "data": {
      "text/plain": [
       "牛号      193374\n",
       "CODE    193374\n",
       "SIRE    193374\n",
       "DAM     193374\n",
       "出生日期    193374\n",
       "dtype: int64"
      ]
     },
     "execution_count": 7,
     "metadata": {},
     "output_type": "execute_result"
    }
   ],
   "source": [
    "ped_SH.count()"
   ]
  },
  {
   "cell_type": "code",
   "execution_count": 10,
   "metadata": {},
   "outputs": [],
   "source": [
    "ped_SH.to_csv('F:\\\\fertility data\\\\SH 201809\\\\ped_SH.csv',index=False,sep=\",\",encoding='utf_8_sig')"
   ]
  },
  {
   "cell_type": "markdown",
   "metadata": {},
   "source": [
    "## 宁夏"
   ]
  },
  {
   "cell_type": "code",
   "execution_count": 278,
   "metadata": {},
   "outputs": [],
   "source": [
    "ped_NX=ped[ped['Region']=='NX'][['牛号','CODE','SIRE','DAM','出生日期']].fillna(0)"
   ]
  },
  {
   "cell_type": "code",
   "execution_count": 279,
   "metadata": {},
   "outputs": [
    {
     "data": {
      "text/plain": [
       "牛号      125717\n",
       "CODE    125717\n",
       "SIRE    125717\n",
       "DAM     125717\n",
       "出生日期    125717\n",
       "dtype: int64"
      ]
     },
     "execution_count": 279,
     "metadata": {},
     "output_type": "execute_result"
    }
   ],
   "source": [
    "ped_NX.count()"
   ]
  },
  {
   "cell_type": "code",
   "execution_count": 280,
   "metadata": {},
   "outputs": [],
   "source": [
    "ped_NX.rename(columns={'CODE':'ID'},inplace=True)"
   ]
  },
  {
   "cell_type": "code",
   "execution_count": 281,
   "metadata": {},
   "outputs": [],
   "source": [
    "ped_NX1=ped_NX[['ID','SIRE','DAM','出生日期']].drop_duplicates(keep='first')"
   ]
  },
  {
   "cell_type": "code",
   "execution_count": 282,
   "metadata": {},
   "outputs": [],
   "source": [
    "ped_NX1['ID']=ped_NX1['ID'].apply(lambda s: int(s))\n",
    "ped_NX1['SIRE']=ped_NX1['SIRE'].apply(lambda s: int(s))\n",
    "ped_NX1['DAM']=ped_NX1['DAM'].apply(lambda s: int(s))"
   ]
  },
  {
   "cell_type": "code",
   "execution_count": 283,
   "metadata": {},
   "outputs": [],
   "source": [
    "ped_NX1.to_csv('F:\\\\fertility data\\\\NX 201809\\\\ped_NX.txt',index=False,sep=\" \",header=False,encoding='utf_8_sig')"
   ]
  },
  {
   "cell_type": "code",
   "execution_count": 284,
   "metadata": {},
   "outputs": [
    {
     "ename": "ValueError",
     "evalue": "Buffer dtype mismatch, expected 'Python object' but got 'double'",
     "output_type": "error",
     "traceback": [
      "\u001b[1;31m---------------------------------------------------------------------------\u001b[0m",
      "\u001b[1;31mValueError\u001b[0m                                Traceback (most recent call last)",
      "\u001b[1;31mValueError\u001b[0m: Buffer dtype mismatch, expected 'Python object' but got 'double'"
     ]
    },
    {
     "name": "stderr",
     "output_type": "stream",
     "text": [
      "Exception ignored in: 'pandas._libs.lib.is_bool_array'\n",
      "ValueError: Buffer dtype mismatch, expected 'Python object' but got 'double'\n"
     ]
    },
    {
     "ename": "ValueError",
     "evalue": "Buffer dtype mismatch, expected 'Python object' but got 'double'",
     "output_type": "error",
     "traceback": [
      "\u001b[1;31m---------------------------------------------------------------------------\u001b[0m",
      "\u001b[1;31mValueError\u001b[0m                                Traceback (most recent call last)",
      "\u001b[1;31mValueError\u001b[0m: Buffer dtype mismatch, expected 'Python object' but got 'double'"
     ]
    },
    {
     "name": "stderr",
     "output_type": "stream",
     "text": [
      "Exception ignored in: 'pandas._libs.lib.is_bool_array'\n",
      "ValueError: Buffer dtype mismatch, expected 'Python object' but got 'double'\n"
     ]
    }
   ],
   "source": [
    "NX_heifer=pd.merge(heifer_NX,ped_NX[['牛号','ID']],on='牛号',how='left')\n",
    "NX_cow=pd.merge(cow_NX,ped_NX[['牛号','ID']],on='牛号',how='left')"
   ]
  },
  {
   "cell_type": "code",
   "execution_count": 285,
   "metadata": {},
   "outputs": [],
   "source": [
    "NX_heifer=NX_heifer[['HYB','YMB','HYI','YMI','MF','ID','AFS','AFC','IFL']].drop_duplicates(keep='first')\n",
    "NX_cow=NX_cow[['HYB','YMB','HYI','YMI','HYC','YMC','胎次','MF','ID','ICF','IFL']].drop_duplicates(keep='first')"
   ]
  },
  {
   "cell_type": "code",
   "execution_count": 286,
   "metadata": {},
   "outputs": [],
   "source": [
    "NX_heifer['HYB'] = NX_heifer['HYB'].apply(lambda s: 66666 if pd.isnull(s) else s)\n",
    "NX_heifer['YMB'] = NX_heifer['YMB'].apply(lambda s: 66666 if pd.isnull(s) else s)\n",
    "NX_heifer['HYI'] = NX_heifer['HYI'].apply(lambda s: 66666 if pd.isnull(s) else s)\n",
    "NX_heifer['YMI'] = NX_heifer['YMI'].apply(lambda s: 66666 if pd.isnull(s) else s)\n",
    "NX_heifer['MF']= NX_heifer['MF'].astype(int)\n",
    "NX_heifer['MF'] = NX_heifer['MF'].apply(lambda s: 66666 if s<0 else s)\n",
    "NX_heifer['AFS'] = NX_heifer['AFS'].apply(lambda s: '-9999' if pd.isnull(s) else s)\n",
    "NX_heifer['AFC'] = NX_heifer['AFC'].apply(lambda s: '-9999' if pd.isnull(s) else s)\n",
    "NX_heifer['IFL'] = NX_heifer['IFL'].apply(lambda s: '-9999' if pd.isnull(s) else s)\n",
    "NX_heifer['ID'] = NX_heifer['ID'].apply(lambda s: 0 if pd.isnull(s) else int(s))"
   ]
  },
  {
   "cell_type": "code",
   "execution_count": 287,
   "metadata": {},
   "outputs": [],
   "source": [
    "NX_cow['HYB'] = NX_cow['HYB'].apply(lambda s: 66666 if pd.isnull(s) else s)\n",
    "NX_cow['YMB'] = NX_cow['YMB'].apply(lambda s: 66666 if pd.isnull(s) else s)\n",
    "NX_cow['HYI'] = NX_cow['HYI'].apply(lambda s: 66666 if pd.isnull(s) else s)\n",
    "NX_cow['YMI'] = NX_cow['YMI'].apply(lambda s: 66666 if pd.isnull(s) else s)\n",
    "NX_cow['HYC'] = NX_cow['HYC'].apply(lambda s: 66666 if pd.isnull(s) else s)\n",
    "NX_cow['YMC'] = NX_cow['YMC'].apply(lambda s: 66666 if pd.isnull(s) else s)\n",
    "NX_cow['MF']= NX_cow['MF'].astype(int)\n",
    "NX_cow['MF'] = NX_cow['MF'].apply(lambda s: 66666 if s<0 else s)\n",
    "NX_cow['ICF'] = NX_cow['ICF'].apply(lambda s: '-9999' if pd.isnull(s) else s)\n",
    "NX_cow['IFL'] = NX_cow['IFL'].apply(lambda s: '-9999' if pd.isnull(s) else s)\n",
    "NX_cow['ID'] = NX_cow['ID'].apply(lambda s: 0 if pd.isnull(s) else int(s))"
   ]
  },
  {
   "cell_type": "code",
   "execution_count": 288,
   "metadata": {},
   "outputs": [],
   "source": [
    "NX_heifer1=NX_heifer[NX_heifer['ID']>0]\n",
    "NX_cow1=NX_cow[NX_cow['ID']>0]"
   ]
  },
  {
   "cell_type": "code",
   "execution_count": 289,
   "metadata": {},
   "outputs": [
    {
     "data": {
      "text/html": [
       "<div>\n",
       "<style scoped>\n",
       "    .dataframe tbody tr th:only-of-type {\n",
       "        vertical-align: middle;\n",
       "    }\n",
       "\n",
       "    .dataframe tbody tr th {\n",
       "        vertical-align: top;\n",
       "    }\n",
       "\n",
       "    .dataframe thead th {\n",
       "        text-align: right;\n",
       "    }\n",
       "</style>\n",
       "<table border=\"1\" class=\"dataframe\">\n",
       "  <thead>\n",
       "    <tr style=\"text-align: right;\">\n",
       "      <th></th>\n",
       "      <th>HYB</th>\n",
       "      <th>YMB</th>\n",
       "      <th>HYI</th>\n",
       "      <th>YMI</th>\n",
       "      <th>HYC</th>\n",
       "      <th>YMC</th>\n",
       "      <th>胎次</th>\n",
       "      <th>MF</th>\n",
       "      <th>ID</th>\n",
       "      <th>ICF</th>\n",
       "      <th>IFL</th>\n",
       "    </tr>\n",
       "  </thead>\n",
       "  <tbody>\n",
       "    <tr>\n",
       "      <th>0</th>\n",
       "      <td>705</td>\n",
       "      <td>66666</td>\n",
       "      <td>705</td>\n",
       "      <td>66666</td>\n",
       "      <td>7052009</td>\n",
       "      <td>20093</td>\n",
       "      <td>6</td>\n",
       "      <td>66666</td>\n",
       "      <td>2585937</td>\n",
       "      <td>43</td>\n",
       "      <td>-9999</td>\n",
       "    </tr>\n",
       "    <tr>\n",
       "      <th>1</th>\n",
       "      <td>705</td>\n",
       "      <td>66666</td>\n",
       "      <td>705</td>\n",
       "      <td>66666</td>\n",
       "      <td>7052008</td>\n",
       "      <td>200811</td>\n",
       "      <td>6</td>\n",
       "      <td>66666</td>\n",
       "      <td>2585944</td>\n",
       "      <td>134</td>\n",
       "      <td>-9999</td>\n",
       "    </tr>\n",
       "    <tr>\n",
       "      <th>2</th>\n",
       "      <td>705</td>\n",
       "      <td>66666</td>\n",
       "      <td>705</td>\n",
       "      <td>66666</td>\n",
       "      <td>7052009</td>\n",
       "      <td>20094</td>\n",
       "      <td>6</td>\n",
       "      <td>66666</td>\n",
       "      <td>2585946</td>\n",
       "      <td>123</td>\n",
       "      <td>-9999</td>\n",
       "    </tr>\n",
       "    <tr>\n",
       "      <th>3</th>\n",
       "      <td>705</td>\n",
       "      <td>66666</td>\n",
       "      <td>705</td>\n",
       "      <td>66666</td>\n",
       "      <td>7052009</td>\n",
       "      <td>20094</td>\n",
       "      <td>6</td>\n",
       "      <td>66666</td>\n",
       "      <td>2585954</td>\n",
       "      <td>59</td>\n",
       "      <td>-9999</td>\n",
       "    </tr>\n",
       "    <tr>\n",
       "      <th>4</th>\n",
       "      <td>705</td>\n",
       "      <td>66666</td>\n",
       "      <td>705</td>\n",
       "      <td>66666</td>\n",
       "      <td>7052009</td>\n",
       "      <td>20092</td>\n",
       "      <td>6</td>\n",
       "      <td>66666</td>\n",
       "      <td>2585957</td>\n",
       "      <td>80</td>\n",
       "      <td>-9999</td>\n",
       "    </tr>\n",
       "  </tbody>\n",
       "</table>\n",
       "</div>"
      ],
      "text/plain": [
       "   HYB    YMB  HYI    YMI      HYC     YMC 胎次     MF       ID  ICF    IFL\n",
       "0  705  66666  705  66666  7052009   20093  6  66666  2585937   43  -9999\n",
       "1  705  66666  705  66666  7052008  200811  6  66666  2585944  134  -9999\n",
       "2  705  66666  705  66666  7052009   20094  6  66666  2585946  123  -9999\n",
       "3  705  66666  705  66666  7052009   20094  6  66666  2585954   59  -9999\n",
       "4  705  66666  705  66666  7052009   20092  6  66666  2585957   80  -9999"
      ]
     },
     "execution_count": 289,
     "metadata": {},
     "output_type": "execute_result"
    }
   ],
   "source": [
    "NX_cow.head()"
   ]
  },
  {
   "cell_type": "code",
   "execution_count": 290,
   "metadata": {},
   "outputs": [],
   "source": [
    "NX_heifer1.to_csv('F:\\\\fertility data\\\\NX 201809\\\\heifer_NX.txt',sep=\" \",index=False,header=False,encoding='utf_8_sig')\n",
    "NX_cow1.to_csv('F:\\\\fertility data\\\\NX 201809\\\\cow_NX.txt',sep=\" \",index=False,header=False,encoding='utf_8_sig')"
   ]
  },
  {
   "cell_type": "markdown",
   "metadata": {},
   "source": [
    "## 其他地区"
   ]
  },
  {
   "cell_type": "code",
   "execution_count": 291,
   "metadata": {},
   "outputs": [],
   "source": [
    "ped_other=ped[ped['Region']=='other'][['牛号','CODE','SIRE','DAM','出生日期']].fillna(0)"
   ]
  },
  {
   "cell_type": "code",
   "execution_count": 292,
   "metadata": {},
   "outputs": [
    {
     "data": {
      "text/plain": [
       "牛号      2320443\n",
       "CODE    2320443\n",
       "SIRE    2320443\n",
       "DAM     2320443\n",
       "出生日期    2320443\n",
       "dtype: int64"
      ]
     },
     "execution_count": 292,
     "metadata": {},
     "output_type": "execute_result"
    }
   ],
   "source": [
    "ped_other.count()"
   ]
  },
  {
   "cell_type": "code",
   "execution_count": 293,
   "metadata": {},
   "outputs": [],
   "source": [
    "ped_other.rename(columns={'CODE':'ID'},inplace=True)"
   ]
  },
  {
   "cell_type": "code",
   "execution_count": 294,
   "metadata": {},
   "outputs": [],
   "source": [
    "ped_other1=ped_other[['ID','SIRE','DAM','出生日期']].drop_duplicates(keep='first')"
   ]
  },
  {
   "cell_type": "code",
   "execution_count": 295,
   "metadata": {},
   "outputs": [],
   "source": [
    "ped_other1['ID']=ped_other1['ID'].apply(lambda s : int(s))\n",
    "ped_other1['SIRE']=ped_other1['SIRE'].apply(lambda s : int(s))\n",
    "ped_other1['DAM']=ped_other1['DAM'].apply(lambda s : int(s))"
   ]
  },
  {
   "cell_type": "code",
   "execution_count": 296,
   "metadata": {},
   "outputs": [],
   "source": [
    "ped_other1['出生日期']=ped_other1['出生日期'].apply(lambda s : str(s))"
   ]
  },
  {
   "cell_type": "code",
   "execution_count": 297,
   "metadata": {},
   "outputs": [],
   "source": [
    "ped_other1.to_csv('F:\\\\fertility data\\\\other 201809\\\\ped_other.txt',index=False,header=False,sep='\\t',encoding='utf_8_sig')"
   ]
  },
  {
   "cell_type": "code",
   "execution_count": 298,
   "metadata": {},
   "outputs": [
    {
     "ename": "ValueError",
     "evalue": "Buffer dtype mismatch, expected 'Python object' but got 'double'",
     "output_type": "error",
     "traceback": [
      "\u001b[1;31m---------------------------------------------------------------------------\u001b[0m",
      "\u001b[1;31mValueError\u001b[0m                                Traceback (most recent call last)",
      "\u001b[1;31mValueError\u001b[0m: Buffer dtype mismatch, expected 'Python object' but got 'double'"
     ]
    },
    {
     "name": "stderr",
     "output_type": "stream",
     "text": [
      "Exception ignored in: 'pandas._libs.lib.is_bool_array'\n",
      "ValueError: Buffer dtype mismatch, expected 'Python object' but got 'double'\n"
     ]
    },
    {
     "ename": "ValueError",
     "evalue": "Buffer dtype mismatch, expected 'Python object' but got 'double'",
     "output_type": "error",
     "traceback": [
      "\u001b[1;31m---------------------------------------------------------------------------\u001b[0m",
      "\u001b[1;31mValueError\u001b[0m                                Traceback (most recent call last)",
      "\u001b[1;31mValueError\u001b[0m: Buffer dtype mismatch, expected 'Python object' but got 'double'"
     ]
    },
    {
     "name": "stderr",
     "output_type": "stream",
     "text": [
      "Exception ignored in: 'pandas._libs.lib.is_bool_array'\n",
      "ValueError: Buffer dtype mismatch, expected 'Python object' but got 'double'\n"
     ]
    }
   ],
   "source": [
    "other_heifer=pd.merge(heifer_other,ped_other[['牛号','ID']],on='牛号',how='left')\n",
    "other_cow=pd.merge(cow_other,ped_other[['牛号','ID']],on='牛号',how='left')"
   ]
  },
  {
   "cell_type": "code",
   "execution_count": 299,
   "metadata": {},
   "outputs": [],
   "source": [
    "other_heifer=other_heifer[['HYB','YMB','HYI','YMI','MF','ID','AFS','AFC','IFL']].drop_duplicates(keep='first')\n",
    "other_cow=other_cow[['HYB','YMB','HYI','YMI','HYC','YMC','胎次','MF','ID','ICF','IFL']].drop_duplicates(keep='first')"
   ]
  },
  {
   "cell_type": "code",
   "execution_count": 300,
   "metadata": {},
   "outputs": [],
   "source": [
    "other_heifer['HYB'] = other_heifer['HYB'].apply(lambda s: 66666 if pd.isnull(s) else s)\n",
    "other_heifer['YMB'] = other_heifer['YMB'].apply(lambda s: 66666 if pd.isnull(s) else s)\n",
    "other_heifer['HYI'] = other_heifer['HYI'].apply(lambda s: 66666 if pd.isnull(s) else s)\n",
    "other_heifer['YMI'] = other_heifer['YMI'].apply(lambda s: 66666 if pd.isnull(s) else s)\n",
    "other_heifer['MF']= other_heifer['MF'].astype(int)\n",
    "other_heifer['MF'] = other_heifer['MF'].apply(lambda s: 66666 if s<0 else s)\n",
    "other_heifer['AFS'] = other_heifer['AFS'].apply(lambda s: '-9999' if pd.isnull(s) else s)\n",
    "other_heifer['AFC'] = other_heifer['AFC'].apply(lambda s: '-9999' if pd.isnull(s) else s)\n",
    "other_heifer['IFL'] = other_heifer['IFL'].apply(lambda s: '-9999' if pd.isnull(s) else s)\n",
    "other_heifer['ID'] = other_heifer['ID'].apply(lambda s: 0 if pd.isnull(s) else int(s))"
   ]
  },
  {
   "cell_type": "code",
   "execution_count": 301,
   "metadata": {},
   "outputs": [],
   "source": [
    "other_cow['HYB'] = other_cow['HYB'].apply(lambda s: 66666 if pd.isnull(s) else s)\n",
    "other_cow['YMB'] = other_cow['YMB'].apply(lambda s: 66666 if pd.isnull(s) else s)\n",
    "other_cow['HYI'] = other_cow['HYI'].apply(lambda s: 66666 if pd.isnull(s) else s)\n",
    "other_cow['YMI'] = other_cow['YMI'].apply(lambda s: 66666 if pd.isnull(s) else s)\n",
    "other_cow['HYC'] = other_cow['HYC'].apply(lambda s: 66666 if pd.isnull(s) else s)\n",
    "other_cow['YMC'] = other_cow['YMC'].apply(lambda s: 66666 if pd.isnull(s) else s)\n",
    "other_cow['MF']= other_cow['MF'].astype(int)\n",
    "other_cow['MF'] = other_cow['MF'].apply(lambda s: 66666 if s<0 else s)\n",
    "other_cow['ICF'] = other_cow['ICF'].apply(lambda s: '-9999' if pd.isnull(s) else s)\n",
    "other_cow['IFL'] = other_cow['IFL'].apply(lambda s: '-9999' if pd.isnull(s) else s)\n",
    "other_cow['ID'] = other_cow['ID'].apply(lambda s: 0 if pd.isnull(s) else int(s))"
   ]
  },
  {
   "cell_type": "code",
   "execution_count": 302,
   "metadata": {},
   "outputs": [],
   "source": [
    "other_heifer1=other_heifer[other_heifer['ID']>0]\n",
    "other_cow1=other_cow[other_cow['ID']>0]"
   ]
  },
  {
   "cell_type": "code",
   "execution_count": 303,
   "metadata": {},
   "outputs": [],
   "source": [
    "other_heifer.to_csv('F:\\\\fertility data\\\\other 201809\\\\heifer_other.txt',index=False,header=False,sep='\\t',encoding='utf_8_sig')\n",
    "other_cow.to_csv('F:\\\\fertility data\\\\other 201809\\\\cow_other.txt',index=False,header=False,sep='\\t',encoding='utf_8_sig')"
   ]
  },
  {
   "cell_type": "markdown",
   "metadata": {},
   "source": [
    "# other地区数据最多的前十省份作图"
   ]
  },
  {
   "cell_type": "code",
   "execution_count": 305,
   "metadata": {},
   "outputs": [
    {
     "ename": "NameError",
     "evalue": "name 'pedigree' is not defined",
     "output_type": "error",
     "traceback": [
      "\u001b[1;31m---------------------------------------------------------------------------\u001b[0m",
      "\u001b[1;31mNameError\u001b[0m                                 Traceback (most recent call last)",
      "\u001b[1;32m<ipython-input-305-f5364bf8ebef>\u001b[0m in \u001b[0;36m<module>\u001b[1;34m()\u001b[0m\n\u001b[1;32m----> 1\u001b[1;33m \u001b[0mped_other_plot\u001b[0m\u001b[1;33m=\u001b[0m\u001b[0mpedigree\u001b[0m\u001b[1;33m[\u001b[0m\u001b[0mpedigree\u001b[0m\u001b[1;33m[\u001b[0m\u001b[1;34m'Region'\u001b[0m\u001b[1;33m]\u001b[0m\u001b[1;33m==\u001b[0m\u001b[1;34m'other'\u001b[0m\u001b[1;33m]\u001b[0m\u001b[1;33m[\u001b[0m\u001b[1;33m[\u001b[0m\u001b[1;34m'场号'\u001b[0m\u001b[1;33m]\u001b[0m\u001b[1;33m]\u001b[0m\u001b[1;33m\u001b[0m\u001b[0m\n\u001b[0m",
      "\u001b[1;31mNameError\u001b[0m: name 'pedigree' is not defined"
     ]
    }
   ],
   "source": [
    "ped_other_plot=pedigree[pedigree['Region']=='other'][['场号']]"
   ]
  },
  {
   "cell_type": "code",
   "execution_count": null,
   "metadata": {},
   "outputs": [],
   "source": [
    "ped_other_plot['area']=ped_other_plot['场号'].apply(lambda s:s[0:2])"
   ]
  },
  {
   "cell_type": "code",
   "execution_count": null,
   "metadata": {},
   "outputs": [],
   "source": [
    "top_10=ped_other_plot['area'].value_counts()[0:10]"
   ]
  },
  {
   "cell_type": "code",
   "execution_count": null,
   "metadata": {},
   "outputs": [],
   "source": [
    "top_10=pd.DataFrame(top_10)"
   ]
  },
  {
   "cell_type": "code",
   "execution_count": null,
   "metadata": {},
   "outputs": [],
   "source": [
    "top_10"
   ]
  },
  {
   "cell_type": "code",
   "execution_count": null,
   "metadata": {},
   "outputs": [],
   "source": [
    "p={'area':['河北','天津','内蒙','山西','辽宁','黑龙江','山东','河南','陕西','新疆'],\n",
    "   'counts':[348934,148368,297046,116804,166815,305616,220624,160279,84132,147800]}"
   ]
  },
  {
   "cell_type": "code",
   "execution_count": null,
   "metadata": {},
   "outputs": [],
   "source": [
    "pro=pd.DataFrame(data=p)"
   ]
  },
  {
   "cell_type": "code",
   "execution_count": null,
   "metadata": {},
   "outputs": [],
   "source": [
    "sns.barplot(x=pro['area'],y=pro['counts'])\n",
    "plt.title('数据分布TOP10')"
   ]
  },
  {
   "cell_type": "markdown",
   "metadata": {},
   "source": [
    "# 按各效应作图"
   ]
  },
  {
   "cell_type": "markdown",
   "metadata": {},
   "source": [
    "## 各性状质控前分布图"
   ]
  },
  {
   "cell_type": "code",
   "execution_count": 192,
   "metadata": {},
   "outputs": [
    {
     "data": {
      "text/html": [
       "<div>\n",
       "<style scoped>\n",
       "    .dataframe tbody tr th:only-of-type {\n",
       "        vertical-align: middle;\n",
       "    }\n",
       "\n",
       "    .dataframe tbody tr th {\n",
       "        vertical-align: top;\n",
       "    }\n",
       "\n",
       "    .dataframe thead th {\n",
       "        text-align: right;\n",
       "    }\n",
       "</style>\n",
       "<table border=\"1\" class=\"dataframe\">\n",
       "  <thead>\n",
       "    <tr style=\"text-align: right;\">\n",
       "      <th></th>\n",
       "      <th>AFS</th>\n",
       "      <th>yearb</th>\n",
       "      <th>yearp</th>\n",
       "    </tr>\n",
       "  </thead>\n",
       "  <tbody>\n",
       "    <tr>\n",
       "      <th>count</th>\n",
       "      <td>398905.000000</td>\n",
       "      <td>398905.000000</td>\n",
       "      <td>398905.000000</td>\n",
       "    </tr>\n",
       "    <tr>\n",
       "      <th>mean</th>\n",
       "      <td>857.848332</td>\n",
       "      <td>2011.268274</td>\n",
       "      <td>2013.649511</td>\n",
       "    </tr>\n",
       "    <tr>\n",
       "      <th>std</th>\n",
       "      <td>594.231509</td>\n",
       "      <td>2.943807</td>\n",
       "      <td>2.334806</td>\n",
       "    </tr>\n",
       "    <tr>\n",
       "      <th>min</th>\n",
       "      <td>-5430.000000</td>\n",
       "      <td>1990.000000</td>\n",
       "      <td>2000.000000</td>\n",
       "    </tr>\n",
       "    <tr>\n",
       "      <th>25%</th>\n",
       "      <td>456.000000</td>\n",
       "      <td>2010.000000</td>\n",
       "      <td>2012.000000</td>\n",
       "    </tr>\n",
       "    <tr>\n",
       "      <th>50%</th>\n",
       "      <td>599.000000</td>\n",
       "      <td>2012.000000</td>\n",
       "      <td>2014.000000</td>\n",
       "    </tr>\n",
       "    <tr>\n",
       "      <th>75%</th>\n",
       "      <td>1043.000000</td>\n",
       "      <td>2013.000000</td>\n",
       "      <td>2016.000000</td>\n",
       "    </tr>\n",
       "    <tr>\n",
       "      <th>max</th>\n",
       "      <td>8575.000000</td>\n",
       "      <td>2017.000000</td>\n",
       "      <td>2018.000000</td>\n",
       "    </tr>\n",
       "  </tbody>\n",
       "</table>\n",
       "</div>"
      ],
      "text/plain": [
       "                 AFS          yearb          yearp\n",
       "count  398905.000000  398905.000000  398905.000000\n",
       "mean      857.848332    2011.268274    2013.649511\n",
       "std       594.231509       2.943807       2.334806\n",
       "min     -5430.000000    1990.000000    2000.000000\n",
       "25%       456.000000    2010.000000    2012.000000\n",
       "50%       599.000000    2012.000000    2014.000000\n",
       "75%      1043.000000    2013.000000    2016.000000\n",
       "max      8575.000000    2017.000000    2018.000000"
      ]
     },
     "execution_count": 192,
     "metadata": {},
     "output_type": "execute_result"
    }
   ],
   "source": [
    "AFS2.describe()"
   ]
  },
  {
   "cell_type": "code",
   "execution_count": 193,
   "metadata": {},
   "outputs": [
    {
     "data": {
      "image/png": "[encoded data removed]",
      "text/plain": [
       "<matplotlib.figure.Figure at 0x1987e4c7f60>"
      ]
     },
     "metadata": {},
     "output_type": "display_data"
    }
   ],
   "source": [
    "afs1=sns.distplot(AFS2['AFS'],kde=False,bins=40)"
   ]
  },
  {
   "cell_type": "code",
   "execution_count": 194,
   "metadata": {},
   "outputs": [
    {
     "data": {
      "text/html": [
       "<div>\n",
       "<style scoped>\n",
       "    .dataframe tbody tr th:only-of-type {\n",
       "        vertical-align: middle;\n",
       "    }\n",
       "\n",
       "    .dataframe tbody tr th {\n",
       "        vertical-align: top;\n",
       "    }\n",
       "\n",
       "    .dataframe thead th {\n",
       "        text-align: right;\n",
       "    }\n",
       "</style>\n",
       "<table border=\"1\" class=\"dataframe\">\n",
       "  <thead>\n",
       "    <tr style=\"text-align: right;\">\n",
       "      <th></th>\n",
       "      <th>AFC</th>\n",
       "      <th>yearb</th>\n",
       "      <th>yearc</th>\n",
       "    </tr>\n",
       "  </thead>\n",
       "  <tbody>\n",
       "    <tr>\n",
       "      <th>count</th>\n",
       "      <td>2.786103e+06</td>\n",
       "      <td>2.786103e+06</td>\n",
       "      <td>2.786103e+06</td>\n",
       "    </tr>\n",
       "    <tr>\n",
       "      <th>mean</th>\n",
       "      <td>9.984856e+02</td>\n",
       "      <td>2.009722e+03</td>\n",
       "      <td>2.012456e+03</td>\n",
       "    </tr>\n",
       "    <tr>\n",
       "      <th>std</th>\n",
       "      <td>4.590779e+02</td>\n",
       "      <td>4.127470e+00</td>\n",
       "      <td>3.730893e+00</td>\n",
       "    </tr>\n",
       "    <tr>\n",
       "      <th>min</th>\n",
       "      <td>-5.764000e+03</td>\n",
       "      <td>1.990000e+03</td>\n",
       "      <td>1.990000e+03</td>\n",
       "    </tr>\n",
       "    <tr>\n",
       "      <th>25%</th>\n",
       "      <td>7.460000e+02</td>\n",
       "      <td>2.007000e+03</td>\n",
       "      <td>2.010000e+03</td>\n",
       "    </tr>\n",
       "    <tr>\n",
       "      <th>50%</th>\n",
       "      <td>8.190000e+02</td>\n",
       "      <td>2.011000e+03</td>\n",
       "      <td>2.013000e+03</td>\n",
       "    </tr>\n",
       "    <tr>\n",
       "      <th>75%</th>\n",
       "      <td>1.096000e+03</td>\n",
       "      <td>2.013000e+03</td>\n",
       "      <td>2.015000e+03</td>\n",
       "    </tr>\n",
       "    <tr>\n",
       "      <th>max</th>\n",
       "      <td>7.853000e+03</td>\n",
       "      <td>2.018000e+03</td>\n",
       "      <td>2.018000e+03</td>\n",
       "    </tr>\n",
       "  </tbody>\n",
       "</table>\n",
       "</div>"
      ],
      "text/plain": [
       "                AFC         yearb         yearc\n",
       "count  2.786103e+06  2.786103e+06  2.786103e+06\n",
       "mean   9.984856e+02  2.009722e+03  2.012456e+03\n",
       "std    4.590779e+02  4.127470e+00  3.730893e+00\n",
       "min   -5.764000e+03  1.990000e+03  1.990000e+03\n",
       "25%    7.460000e+02  2.007000e+03  2.010000e+03\n",
       "50%    8.190000e+02  2.011000e+03  2.013000e+03\n",
       "75%    1.096000e+03  2.013000e+03  2.015000e+03\n",
       "max    7.853000e+03  2.018000e+03  2.018000e+03"
      ]
     },
     "execution_count": 194,
     "metadata": {},
     "output_type": "execute_result"
    }
   ],
   "source": [
    "AFC2.describe()"
   ]
  },
  {
   "cell_type": "code",
   "execution_count": 195,
   "metadata": {},
   "outputs": [
    {
     "data": {
      "image/png": "[encoded data removed]",
      "text/plain": [
       "<matplotlib.figure.Figure at 0x1985f7b3898>"
      ]
     },
     "metadata": {},
     "output_type": "display_data"
    }
   ],
   "source": [
    "afc1=sns.distplot(AFC2['AFC'],kde=False,bins=40)"
   ]
  },
  {
   "cell_type": "markdown",
   "metadata": {},
   "source": [
    "## 性状质控后作图"
   ]
  },
  {
   "cell_type": "markdown",
   "metadata": {},
   "source": [
    "将AFS按照文献内国际标准筛选，保留[]"
   ]
  },
  {
   "cell_type": "code",
   "execution_count": 196,
   "metadata": {},
   "outputs": [
    {
     "data": {
      "text/plain": [
       "牛号        274180\n",
       "出生日期      274180\n",
       "初配日期      274180\n",
       "AFS       274180\n",
       "场号        274180\n",
       "yearb     274180\n",
       "monthb    274180\n",
       "HYB       274180\n",
       "YMB       274180\n",
       "yearp     274180\n",
       "monthp    274180\n",
       "HYI       274180\n",
       "YMI       274180\n",
       "dtype: int64"
      ]
     },
     "execution_count": 196,
     "metadata": {},
     "output_type": "execute_result"
    }
   ],
   "source": [
    "AFS3=AFS2[(AFS2['AFS'] >=270)&(AFS2['AFS'] <=900)]\n",
    "AFS3.count()"
   ]
  },
  {
   "cell_type": "code",
   "execution_count": 197,
   "metadata": {},
   "outputs": [
    {
     "data": {
      "text/html": [
       "<div>\n",
       "<style scoped>\n",
       "    .dataframe tbody tr th:only-of-type {\n",
       "        vertical-align: middle;\n",
       "    }\n",
       "\n",
       "    .dataframe tbody tr th {\n",
       "        vertical-align: top;\n",
       "    }\n",
       "\n",
       "    .dataframe thead th {\n",
       "        text-align: right;\n",
       "    }\n",
       "</style>\n",
       "<table border=\"1\" class=\"dataframe\">\n",
       "  <thead>\n",
       "    <tr style=\"text-align: right;\">\n",
       "      <th></th>\n",
       "      <th>AFS</th>\n",
       "      <th>yearb</th>\n",
       "      <th>yearp</th>\n",
       "    </tr>\n",
       "  </thead>\n",
       "  <tbody>\n",
       "    <tr>\n",
       "      <th>count</th>\n",
       "      <td>274180.000000</td>\n",
       "      <td>274180.000000</td>\n",
       "      <td>274180.000000</td>\n",
       "    </tr>\n",
       "    <tr>\n",
       "      <th>mean</th>\n",
       "      <td>548.625950</td>\n",
       "      <td>2012.238026</td>\n",
       "      <td>2013.785119</td>\n",
       "    </tr>\n",
       "    <tr>\n",
       "      <th>std</th>\n",
       "      <td>149.715945</td>\n",
       "      <td>2.260814</td>\n",
       "      <td>2.208016</td>\n",
       "    </tr>\n",
       "    <tr>\n",
       "      <th>min</th>\n",
       "      <td>270.000000</td>\n",
       "      <td>1999.000000</td>\n",
       "      <td>2000.000000</td>\n",
       "    </tr>\n",
       "    <tr>\n",
       "      <th>25%</th>\n",
       "      <td>438.000000</td>\n",
       "      <td>2011.000000</td>\n",
       "      <td>2012.000000</td>\n",
       "    </tr>\n",
       "    <tr>\n",
       "      <th>50%</th>\n",
       "      <td>490.000000</td>\n",
       "      <td>2012.000000</td>\n",
       "      <td>2014.000000</td>\n",
       "    </tr>\n",
       "    <tr>\n",
       "      <th>75%</th>\n",
       "      <td>627.000000</td>\n",
       "      <td>2014.000000</td>\n",
       "      <td>2016.000000</td>\n",
       "    </tr>\n",
       "    <tr>\n",
       "      <th>max</th>\n",
       "      <td>900.000000</td>\n",
       "      <td>2016.000000</td>\n",
       "      <td>2018.000000</td>\n",
       "    </tr>\n",
       "  </tbody>\n",
       "</table>\n",
       "</div>"
      ],
      "text/plain": [
       "                 AFS          yearb          yearp\n",
       "count  274180.000000  274180.000000  274180.000000\n",
       "mean      548.625950    2012.238026    2013.785119\n",
       "std       149.715945       2.260814       2.208016\n",
       "min       270.000000    1999.000000    2000.000000\n",
       "25%       438.000000    2011.000000    2012.000000\n",
       "50%       490.000000    2012.000000    2014.000000\n",
       "75%       627.000000    2014.000000    2016.000000\n",
       "max       900.000000    2016.000000    2018.000000"
      ]
     },
     "execution_count": 197,
     "metadata": {},
     "output_type": "execute_result"
    }
   ],
   "source": [
    "AFS3.describe()"
   ]
  },
  {
   "cell_type": "code",
   "execution_count": 198,
   "metadata": {},
   "outputs": [
    {
     "data": {
      "image/png": "[encoded data removed]",
      "text/plain": [
       "<matplotlib.figure.Figure at 0x19829cb5a20>"
      ]
     },
     "metadata": {},
     "output_type": "display_data"
    }
   ],
   "source": [
    "afs2=sns.distplot(AFS3['AFS'],kde=False,bins=40)"
   ]
  },
  {
   "cell_type": "code",
   "execution_count": 199,
   "metadata": {},
   "outputs": [],
   "source": [
    "afs3=afs2.get_figure()\n",
    "afs3.savefig('F:\\\\Python\\\\afs.png',bbox_inches='tight',dpi=500)"
   ]
  },
  {
   "cell_type": "code",
   "execution_count": 200,
   "metadata": {},
   "outputs": [
    {
     "ename": "KeyboardInterrupt",
     "evalue": "",
     "output_type": "error",
     "traceback": [
      "\u001b[1;31m---------------------------------------------------------------------------\u001b[0m",
      "\u001b[1;31mKeyboardInterrupt\u001b[0m                         Traceback (most recent call last)",
      "\u001b[1;32mE:\\Anaconda\\lib\\codeop.py\u001b[0m in \u001b[0;36m__call__\u001b[1;34m(self, source, filename, symbol)\u001b[0m\n\u001b[0;32m    133\u001b[0m         \u001b[0mcodeob\u001b[0m \u001b[1;33m=\u001b[0m \u001b[0mcompile\u001b[0m\u001b[1;33m(\u001b[0m\u001b[0msource\u001b[0m\u001b[1;33m,\u001b[0m \u001b[0mfilename\u001b[0m\u001b[1;33m,\u001b[0m \u001b[0msymbol\u001b[0m\u001b[1;33m,\u001b[0m \u001b[0mself\u001b[0m\u001b[1;33m.\u001b[0m\u001b[0mflags\u001b[0m\u001b[1;33m,\u001b[0m \u001b[1;36m1\u001b[0m\u001b[1;33m)\u001b[0m\u001b[1;33m\u001b[0m\u001b[0m\n\u001b[0;32m    134\u001b[0m         \u001b[1;32mfor\u001b[0m \u001b[0mfeature\u001b[0m \u001b[1;32min\u001b[0m \u001b[0m_features\u001b[0m\u001b[1;33m:\u001b[0m\u001b[1;33m\u001b[0m\u001b[0m\n\u001b[1;32m--> 135\u001b[1;33m             \u001b[1;32mif\u001b[0m \u001b[0mcodeob\u001b[0m\u001b[1;33m.\u001b[0m\u001b[0mco_flags\u001b[0m \u001b[1;33m&\u001b[0m \u001b[0mfeature\u001b[0m\u001b[1;33m.\u001b[0m\u001b[0mcompiler_flag\u001b[0m\u001b[1;33m:\u001b[0m\u001b[1;33m\u001b[0m\u001b[0m\n\u001b[0m\u001b[0;32m    136\u001b[0m                 \u001b[0mself\u001b[0m\u001b[1;33m.\u001b[0m\u001b[0mflags\u001b[0m \u001b[1;33m|=\u001b[0m \u001b[0mfeature\u001b[0m\u001b[1;33m.\u001b[0m\u001b[0mcompiler_flag\u001b[0m\u001b[1;33m\u001b[0m\u001b[0m\n\u001b[0;32m    137\u001b[0m         \u001b[1;32mreturn\u001b[0m \u001b[0mcodeob\u001b[0m\u001b[1;33m\u001b[0m\u001b[0m\n",
      "\u001b[1;31mKeyboardInterrupt\u001b[0m: "
     ]
    }
   ],
   "source": [
    "AFC3=AFC2[(AFC2['AFC'] >=500)&(AFC2['AFC'] <=1100)]\n",
    "AFC3.count()"
   ]
  },
  {
   "cell_type": "code",
   "execution_count": null,
   "metadata": {},
   "outputs": [],
   "source": [
    "AFC3.describe()"
   ]
  },
  {
   "cell_type": "code",
   "execution_count": null,
   "metadata": {},
   "outputs": [],
   "source": [
    "afc2=sns.distplot(AFC3['AFC'],kde=False,bins=40)"
   ]
  },
  {
   "cell_type": "code",
   "execution_count": null,
   "metadata": {},
   "outputs": [],
   "source": [
    "afc3=afc2.get_figure()\n",
    "afc3.savefig('F:\\\\Python\\\\afc.png',bbox_inches='tight',dpi=500)"
   ]
  },
  {
   "cell_type": "markdown",
   "metadata": {},
   "source": [
    "## 性状按年分布"
   ]
  },
  {
   "cell_type": "code",
   "execution_count": null,
   "metadata": {},
   "outputs": [],
   "source": [
    "afcy = sns.boxplot(x=\"yearc\", y=\"AFC\",data=AFC3, palette=\"Set3\")\n",
    "afcy1=afcy.set_xticklabels(afcy.get_xticklabels(), rotation=-90)"
   ]
  },
  {
   "cell_type": "code",
   "execution_count": null,
   "metadata": {},
   "outputs": [],
   "source": [
    "afcy1=afcy.get_figure()\n",
    "afcy1.savefig('F:\\\\Python\\\\afcy.png',bbox_inches='tight',dpi=500)"
   ]
  },
  {
   "cell_type": "code",
   "execution_count": null,
   "metadata": {},
   "outputs": [],
   "source": [
    "afsy = sns.boxplot(x=\"yearp\", y=\"AFS\",data=AFS3, palette=\"Set2\")\n",
    "afsy1=afsy.set_xticklabels(afsy.get_xticklabels(), rotation=-90)"
   ]
  },
  {
   "cell_type": "code",
   "execution_count": null,
   "metadata": {},
   "outputs": [],
   "source": [
    "afsy1=afsy.get_figure()\n",
    "afsy1.savefig('F:\\\\Python\\\\afsy.png',bbox_inches='tight',dpi=500)"
   ]
  },
  {
   "cell_type": "code",
   "execution_count": null,
   "metadata": {},
   "outputs": [],
   "source": [
    "afsy1=afsy.fig\n",
    "afsy1.savefig('F:\\\\Python\\\\afsy.png',bbox_inches='tight',dpi=500)"
   ]
  }
 ],
 "metadata": {
  "kernelspec": {
   "display_name": "Python 3",
   "language": "python",
   "name": "python3"
  },
  "language_info": {
   "codemirror_mode": {
    "name": "ipython",
    "version": 3
   },
   "file_extension": ".py",
   "mimetype": "text/x-python",
   "name": "python",
   "nbconvert_exporter": "python",
   "pygments_lexer": "ipython3",
   "version": "3.6.4"
  },
  "toc": {
   "base_numbering": 1,
   "nav_menu": {},
   "number_sections": true,
   "sideBar": false,
   "skip_h1_title": false,
   "title_cell": "Table of Contents",
   "title_sidebar": "Contents",
   "toc_cell": false,
   "toc_position": {
    "height": "270px",
    "left": "1328.4px",
    "top": "138.7px",
    "width": "182px"
   },
   "toc_section_display": true,
   "toc_window_display": true
  }
 },
 "nbformat": 4,
 "nbformat_minor": 2
}
