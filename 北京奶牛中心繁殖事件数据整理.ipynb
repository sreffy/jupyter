{
 "cells": [
  {
   "cell_type": "markdown",
   "metadata": {},
   "source": [
    "北京奶牛中心的繁殖事件格式完全一致，但一些牛场在excel表中有多个sheet，需要先将所有excel表分别合并到一个sheet中，再一起合并到同一个文件"
   ]
  },
  {
   "cell_type": "code",
   "execution_count": 55,
   "metadata": {},
   "outputs": [],
   "source": [
    "#coding:utf-8\n",
    "import pandas as pd\n",
    "import numpy as np\n",
    "import seaborn as sns\n",
    "import matplotlib.pyplot as plt\n",
    "import os\n",
    "import xlrd\n",
    "import shutil"
   ]
  },
  {
   "cell_type": "markdown",
   "metadata": {},
   "source": [
    "# 多个sheet合并"
   ]
  },
  {
   "cell_type": "code",
   "execution_count": 56,
   "metadata": {},
   "outputs": [],
   "source": [
    "path='F:\\\\fertility data\\\\BJ-fertility1807\\\\'\n",
    "excels=os.listdir(path)"
   ]
  },
  {
   "cell_type": "code",
   "execution_count": 57,
   "metadata": {},
   "outputs": [
    {
     "data": {
      "text/plain": [
       "33"
      ]
     },
     "execution_count": 57,
     "metadata": {},
     "output_type": "execute_result"
    }
   ],
   "source": [
    "len(excels)"
   ]
  },
  {
   "cell_type": "code",
   "execution_count": 58,
   "metadata": {},
   "outputs": [],
   "source": [
    "excel=list(excels)"
   ]
  },
  {
   "cell_type": "code",
   "execution_count": 59,
   "metadata": {},
   "outputs": [],
   "source": [
    "for i in range(len(excels)):\n",
    "    excel[i]=path+excels[i]"
   ]
  },
  {
   "cell_type": "code",
   "execution_count": 60,
   "metadata": {},
   "outputs": [],
   "source": [
    "newfile='F:\\\\fertility data\\\\sum-BJ1807\\\\' #新建一个目录放置有产犊数据的表格"
   ]
  },
  {
   "cell_type": "code",
   "execution_count": 61,
   "metadata": {},
   "outputs": [],
   "source": [
    "sheet_names=list(excels)"
   ]
  },
  {
   "cell_type": "code",
   "execution_count": 62,
   "metadata": {},
   "outputs": [
    {
     "name": "stderr",
     "output_type": "stream",
     "text": [
      "E:\\Anaconda\\lib\\site-packages\\ipykernel_launcher.py:6: FutureWarning: \n",
      "Passing list-likes to .loc or [] with any missing label will raise\n",
      "KeyError in the future, you can use .reindex() as an alternative.\n",
      "\n",
      "See the documentation here:\n",
      "http://pandas.pydata.org/pandas-docs/stable/indexing.html#deprecate-loc-reindex-listlike\n",
      "  \n",
      "E:\\Anaconda\\lib\\site-packages\\pandas\\core\\indexing.py:1367: FutureWarning: \n",
      "Passing list-likes to .loc or [] with any missing label will raise\n",
      "KeyError in the future, you can use .reindex() as an alternative.\n",
      "\n",
      "See the documentation here:\n",
      "http://pandas.pydata.org/pandas-docs/stable/indexing.html#deprecate-loc-reindex-listlike\n",
      "  return self._getitem_tuple(key)\n"
     ]
    }
   ],
   "source": [
    "for i in range(len(excels)):\n",
    "    sheet_names[i]=xlrd.open_workbook(excel[i]).sheet_names()\n",
    "    df_sum=pd.DataFrame()\n",
    "    for j in range(len(sheet_names[i])):\n",
    "        df=pd.read_excel(excel[i],sheet_name=sheet_names[i][j],encoding='utf8')\n",
    "        df1 =df.loc[:,[\"牛号\",\"日期\",\"事件\",\"事件信息\",\"胎次\",\"泌乳天数\",'日产量',\"产犊方式\",'出生重','配种员']]\n",
    "        df_sum = df_sum.append(df1,ignore_index=True)\n",
    "        df_sum.to_excel(newfile+excels[i]+'.xlsx',encoding=\"utf_8_sig\",index=False)"
   ]
  },
  {
   "cell_type": "markdown",
   "metadata": {},
   "source": [
    "# 多个xlsx文件合并"
   ]
  },
  {
   "cell_type": "code",
   "execution_count": 63,
   "metadata": {},
   "outputs": [],
   "source": [
    "SaveFile_Path='F:\\\\fertility data\\\\SUMBJ1807\\\\'\n",
    "files=os.listdir(newfile)\n",
    "SaveFile_Name='BJ-fertility1807.csv'"
   ]
  },
  {
   "cell_type": "code",
   "execution_count": 64,
   "metadata": {},
   "outputs": [],
   "source": [
    "df1 = pd.read_excel(newfile+ files[0])   #编码默认UTF-8，若乱码自行更改</span>\n",
    "#将读取的第一个文件写入合并后的文件保存\n",
    "df1['文件']=files[0]\n",
    "df2=df1.loc[:,[\"牛号\",\"日期\",\"事件\",\"事件信息\",\"胎次\",\"泌乳天数\",'日产量',\"产犊方式\",'出生重','配种员','文件']]\n",
    "df2.to_csv(SaveFile_Path+'\\\\'+ SaveFile_Name,encoding=\"utf_8_sig\",index=False)\n",
    "\n",
    "#循环遍历列表中各个文件名，并追加到合并后的文件\n",
    "try:\n",
    "    for i in range(1,len(files)):\n",
    "        df1 = (pd.read_excel(newfile+ files[i]))\n",
    "        df1['文件']=files[i]\n",
    "        df2=df1.loc[:,[\"牛号\",\"日期\",\"事件\",\"事件信息\",\"胎次\",\"泌乳天数\",'日产量',\"产犊方式\",'出生重','配种员','文件']]\n",
    "        df2.to_csv(SaveFile_Path+ SaveFile_Name,encoding=\"utf_8_sig\",index=False, header=False, mode='a+')\n",
    "except Exception as err:\n",
    "    print(err)\n",
    "    print(files[i])     #检测有数据格式问题的Excel表格"
   ]
  },
  {
   "cell_type": "markdown",
   "metadata": {},
   "source": [
    "# 与之前外阜3场数据合并"
   ]
  },
  {
   "cell_type": "code",
   "execution_count": 65,
   "metadata": {},
   "outputs": [],
   "source": [
    "dfw=pd.read_csv('F:\\\\fertility data\\\\sum-BJ1712\\\\waifu.csv',sep=\",\",encoding='gbk',low_memory=False)\n",
    "dfn=pd.read_csv('F:\\\\fertility data\\\\SUMBJ1807\\\\BJ-fertility1807.csv',sep=\",\",low_memory=False)"
   ]
  },
  {
   "cell_type": "code",
   "execution_count": 66,
   "metadata": {},
   "outputs": [],
   "source": [
    "dfw=dfw[[\"牛号\",\"日期\",\"事件\",\"事件信息\",\"胎次\",\"泌乳天数\",'日产量',\"产犊方式\",'出生重','配种员','文件']]"
   ]
  },
  {
   "cell_type": "code",
   "execution_count": 67,
   "metadata": {},
   "outputs": [
    {
     "data": {
      "text/html": [
       "<div>\n",
       "<style scoped>\n",
       "    .dataframe tbody tr th:only-of-type {\n",
       "        vertical-align: middle;\n",
       "    }\n",
       "\n",
       "    .dataframe tbody tr th {\n",
       "        vertical-align: top;\n",
       "    }\n",
       "\n",
       "    .dataframe thead th {\n",
       "        text-align: right;\n",
       "    }\n",
       "</style>\n",
       "<table border=\"1\" class=\"dataframe\">\n",
       "  <thead>\n",
       "    <tr style=\"text-align: right;\">\n",
       "      <th></th>\n",
       "      <th>牛号</th>\n",
       "      <th>日期</th>\n",
       "      <th>事件</th>\n",
       "      <th>事件信息</th>\n",
       "      <th>胎次</th>\n",
       "      <th>泌乳天数</th>\n",
       "      <th>日产量</th>\n",
       "      <th>产犊方式</th>\n",
       "      <th>出生重</th>\n",
       "      <th>配种员</th>\n",
       "      <th>文件</th>\n",
       "    </tr>\n",
       "  </thead>\n",
       "  <tbody>\n",
       "    <tr>\n",
       "      <th>0</th>\n",
       "      <td>10174</td>\n",
       "      <td>2013/2/9</td>\n",
       "      <td>兽医</td>\n",
       "      <td>诊断:妊检(+);</td>\n",
       "      <td>1</td>\n",
       "      <td>128</td>\n",
       "      <td>--</td>\n",
       "      <td>--</td>\n",
       "      <td>--</td>\n",
       "      <td>--</td>\n",
       "      <td>巴盟事件导出信息.xls</td>\n",
       "    </tr>\n",
       "    <tr>\n",
       "      <th>1</th>\n",
       "      <td>10174</td>\n",
       "      <td>2013/8/5</td>\n",
       "      <td>干奶牛</td>\n",
       "      <td>胎次:1</td>\n",
       "      <td>1</td>\n",
       "      <td>305</td>\n",
       "      <td>--</td>\n",
       "      <td>--</td>\n",
       "      <td>--</td>\n",
       "      <td>--</td>\n",
       "      <td>巴盟事件导出信息.xls</td>\n",
       "    </tr>\n",
       "    <tr>\n",
       "      <th>2</th>\n",
       "      <td>10174</td>\n",
       "      <td>2013/8/5</td>\n",
       "      <td>改变组别</td>\n",
       "      <td>干奶牛; 以前组别:1; 新组别:1</td>\n",
       "      <td>1</td>\n",
       "      <td>305</td>\n",
       "      <td>--</td>\n",
       "      <td>--</td>\n",
       "      <td>--</td>\n",
       "      <td>--</td>\n",
       "      <td>巴盟事件导出信息.xls</td>\n",
       "    </tr>\n",
       "    <tr>\n",
       "      <th>3</th>\n",
       "      <td>10174</td>\n",
       "      <td>2013/10/4</td>\n",
       "      <td>产犊</td>\n",
       "      <td>正常;</td>\n",
       "      <td>2</td>\n",
       "      <td>0</td>\n",
       "      <td>--</td>\n",
       "      <td>正常</td>\n",
       "      <td>--</td>\n",
       "      <td>--</td>\n",
       "      <td>巴盟事件导出信息.xls</td>\n",
       "    </tr>\n",
       "    <tr>\n",
       "      <th>4</th>\n",
       "      <td>10174</td>\n",
       "      <td>2013/10/4</td>\n",
       "      <td>改变组别</td>\n",
       "      <td>产犊; 以前组别:1; 新组别:1</td>\n",
       "      <td>2</td>\n",
       "      <td>0</td>\n",
       "      <td>--</td>\n",
       "      <td>--</td>\n",
       "      <td>--</td>\n",
       "      <td>--</td>\n",
       "      <td>巴盟事件导出信息.xls</td>\n",
       "    </tr>\n",
       "  </tbody>\n",
       "</table>\n",
       "</div>"
      ],
      "text/plain": [
       "      牛号         日期    事件                事件信息 胎次 泌乳天数 日产量 产犊方式 出生重 配种员  \\\n",
       "0  10174   2013/2/9    兽医          诊断:妊检(+);   1  128  --   --  --  --   \n",
       "1  10174   2013/8/5   干奶牛                胎次:1  1  305  --   --  --  --   \n",
       "2  10174   2013/8/5  改变组别  干奶牛; 以前组别:1; 新组别:1  1  305  --   --  --  --   \n",
       "3  10174  2013/10/4    产犊                正常;   2    0  --   正常  --  --   \n",
       "4  10174  2013/10/4  改变组别   产犊; 以前组别:1; 新组别:1  2    0  --   --  --  --   \n",
       "\n",
       "             文件  \n",
       "0  巴盟事件导出信息.xls  \n",
       "1  巴盟事件导出信息.xls  \n",
       "2  巴盟事件导出信息.xls  \n",
       "3  巴盟事件导出信息.xls  \n",
       "4  巴盟事件导出信息.xls  "
      ]
     },
     "execution_count": 67,
     "metadata": {},
     "output_type": "execute_result"
    }
   ],
   "source": [
    "dfw.head(5)"
   ]
  },
  {
   "cell_type": "code",
   "execution_count": 68,
   "metadata": {},
   "outputs": [
    {
     "data": {
      "text/html": [
       "<div>\n",
       "<style scoped>\n",
       "    .dataframe tbody tr th:only-of-type {\n",
       "        vertical-align: middle;\n",
       "    }\n",
       "\n",
       "    .dataframe tbody tr th {\n",
       "        vertical-align: top;\n",
       "    }\n",
       "\n",
       "    .dataframe thead th {\n",
       "        text-align: right;\n",
       "    }\n",
       "</style>\n",
       "<table border=\"1\" class=\"dataframe\">\n",
       "  <thead>\n",
       "    <tr style=\"text-align: right;\">\n",
       "      <th></th>\n",
       "      <th>牛号</th>\n",
       "      <th>日期</th>\n",
       "      <th>事件</th>\n",
       "      <th>事件信息</th>\n",
       "      <th>胎次</th>\n",
       "      <th>泌乳天数</th>\n",
       "      <th>日产量</th>\n",
       "      <th>产犊方式</th>\n",
       "      <th>出生重</th>\n",
       "      <th>配种员</th>\n",
       "      <th>文件</th>\n",
       "    </tr>\n",
       "  </thead>\n",
       "  <tbody>\n",
       "    <tr>\n",
       "      <th>0</th>\n",
       "      <td>7010</td>\n",
       "      <td>2017-09-03 00:00:00</td>\n",
       "      <td>体况评分</td>\n",
       "      <td>值:2.75</td>\n",
       "      <td>7</td>\n",
       "      <td>372</td>\n",
       "      <td>--</td>\n",
       "      <td>--</td>\n",
       "      <td>--</td>\n",
       "      <td>--</td>\n",
       "      <td>三垡牛场事件导出信息.xls.xlsx</td>\n",
       "    </tr>\n",
       "    <tr>\n",
       "      <th>1</th>\n",
       "      <td>7010</td>\n",
       "      <td>2017-09-08 00:00:00</td>\n",
       "      <td>牛奶检测</td>\n",
       "      <td>乳脂率 (DHI):3.5; 乳蛋白 (DHI):3.0; 乳糖 (DHI):5.00; 体...</td>\n",
       "      <td>7</td>\n",
       "      <td>377</td>\n",
       "      <td>24.3</td>\n",
       "      <td>--</td>\n",
       "      <td>--</td>\n",
       "      <td>--</td>\n",
       "      <td>三垡牛场事件导出信息.xls.xlsx</td>\n",
       "    </tr>\n",
       "    <tr>\n",
       "      <th>2</th>\n",
       "      <td>7010</td>\n",
       "      <td>2017-09-19 00:00:00</td>\n",
       "      <td>牛奶检测</td>\n",
       "      <td>乳脂率 (DHI):4.4; 乳蛋白 (DHI):3.1; 乳糖 (DHI):5.36; 体...</td>\n",
       "      <td>7</td>\n",
       "      <td>388</td>\n",
       "      <td>24.3</td>\n",
       "      <td>--</td>\n",
       "      <td>--</td>\n",
       "      <td>--</td>\n",
       "      <td>三垡牛场事件导出信息.xls.xlsx</td>\n",
       "    </tr>\n",
       "    <tr>\n",
       "      <th>3</th>\n",
       "      <td>7010</td>\n",
       "      <td>2017-10-15 00:00:00</td>\n",
       "      <td>体况评分</td>\n",
       "      <td>值:2.75</td>\n",
       "      <td>7</td>\n",
       "      <td>414</td>\n",
       "      <td>--</td>\n",
       "      <td>--</td>\n",
       "      <td>--</td>\n",
       "      <td>--</td>\n",
       "      <td>三垡牛场事件导出信息.xls.xlsx</td>\n",
       "    </tr>\n",
       "    <tr>\n",
       "      <th>4</th>\n",
       "      <td>7010</td>\n",
       "      <td>2017-10-18 00:00:00</td>\n",
       "      <td>牛奶检测</td>\n",
       "      <td>乳脂率 (DHI):3.5; 乳蛋白 (DHI):3.0; 乳糖 (DHI):5.00; 体...</td>\n",
       "      <td>7</td>\n",
       "      <td>417</td>\n",
       "      <td>12.7</td>\n",
       "      <td>--</td>\n",
       "      <td>--</td>\n",
       "      <td>--</td>\n",
       "      <td>三垡牛场事件导出信息.xls.xlsx</td>\n",
       "    </tr>\n",
       "  </tbody>\n",
       "</table>\n",
       "</div>"
      ],
      "text/plain": [
       "     牛号                   日期    事件  \\\n",
       "0  7010  2017-09-03 00:00:00  体况评分   \n",
       "1  7010  2017-09-08 00:00:00  牛奶检测   \n",
       "2  7010  2017-09-19 00:00:00  牛奶检测   \n",
       "3  7010  2017-10-15 00:00:00  体况评分   \n",
       "4  7010  2017-10-18 00:00:00  牛奶检测   \n",
       "\n",
       "                                                事件信息 胎次 泌乳天数   日产量 产犊方式 出生重  \\\n",
       "0                                             值:2.75  7  372    --   --  --   \n",
       "1  乳脂率 (DHI):3.5; 乳蛋白 (DHI):3.0; 乳糖 (DHI):5.00; 体...  7  377  24.3   --  --   \n",
       "2  乳脂率 (DHI):4.4; 乳蛋白 (DHI):3.1; 乳糖 (DHI):5.36; 体...  7  388  24.3   --  --   \n",
       "3                                             值:2.75  7  414    --   --  --   \n",
       "4  乳脂率 (DHI):3.5; 乳蛋白 (DHI):3.0; 乳糖 (DHI):5.00; 体...  7  417  12.7   --  --   \n",
       "\n",
       "  配种员                   文件  \n",
       "0  --  三垡牛场事件导出信息.xls.xlsx  \n",
       "1  --  三垡牛场事件导出信息.xls.xlsx  \n",
       "2  --  三垡牛场事件导出信息.xls.xlsx  \n",
       "3  --  三垡牛场事件导出信息.xls.xlsx  \n",
       "4  --  三垡牛场事件导出信息.xls.xlsx  "
      ]
     },
     "execution_count": 68,
     "metadata": {},
     "output_type": "execute_result"
    }
   ],
   "source": [
    "dfn.head(5)"
   ]
  },
  {
   "cell_type": "code",
   "execution_count": 69,
   "metadata": {},
   "outputs": [],
   "source": [
    "dfw.to_csv(SaveFile_Path+ SaveFile_Name,encoding=\"utf_8_sig\",index=False, header=False, mode='a+')"
   ]
  },
  {
   "cell_type": "markdown",
   "metadata": {},
   "source": [
    "现有数据合并完成，接下来根据场号对应表提取场号，并筛重，修改一些错误场号后，即可与之前的数据进行合并分析。"
   ]
  },
  {
   "cell_type": "markdown",
   "metadata": {},
   "source": [
    "# 场号的替换及修改并筛重"
   ]
  },
  {
   "cell_type": "code",
   "execution_count": 70,
   "metadata": {},
   "outputs": [],
   "source": [
    "dfn=pd.read_csv('F:\\\\fertility data\\\\SUMBJ1807\\\\BJ-fertility1807.csv',sep=\",\",low_memory=False)"
   ]
  },
  {
   "cell_type": "code",
   "execution_count": 71,
   "metadata": {},
   "outputs": [
    {
     "data": {
      "text/html": [
       "<div>\n",
       "<style scoped>\n",
       "    .dataframe tbody tr th:only-of-type {\n",
       "        vertical-align: middle;\n",
       "    }\n",
       "\n",
       "    .dataframe tbody tr th {\n",
       "        vertical-align: top;\n",
       "    }\n",
       "\n",
       "    .dataframe thead th {\n",
       "        text-align: right;\n",
       "    }\n",
       "</style>\n",
       "<table border=\"1\" class=\"dataframe\">\n",
       "  <thead>\n",
       "    <tr style=\"text-align: right;\">\n",
       "      <th></th>\n",
       "      <th>牛号</th>\n",
       "      <th>日期</th>\n",
       "      <th>事件</th>\n",
       "      <th>事件信息</th>\n",
       "      <th>胎次</th>\n",
       "      <th>泌乳天数</th>\n",
       "      <th>日产量</th>\n",
       "      <th>产犊方式</th>\n",
       "      <th>出生重</th>\n",
       "      <th>配种员</th>\n",
       "      <th>文件</th>\n",
       "    </tr>\n",
       "  </thead>\n",
       "  <tbody>\n",
       "    <tr>\n",
       "      <th>0</th>\n",
       "      <td>7010</td>\n",
       "      <td>2017-09-03 00:00:00</td>\n",
       "      <td>体况评分</td>\n",
       "      <td>值:2.75</td>\n",
       "      <td>7</td>\n",
       "      <td>372</td>\n",
       "      <td>--</td>\n",
       "      <td>--</td>\n",
       "      <td>--</td>\n",
       "      <td>--</td>\n",
       "      <td>三垡牛场事件导出信息.xls.xlsx</td>\n",
       "    </tr>\n",
       "    <tr>\n",
       "      <th>1</th>\n",
       "      <td>7010</td>\n",
       "      <td>2017-09-08 00:00:00</td>\n",
       "      <td>牛奶检测</td>\n",
       "      <td>乳脂率 (DHI):3.5; 乳蛋白 (DHI):3.0; 乳糖 (DHI):5.00; 体...</td>\n",
       "      <td>7</td>\n",
       "      <td>377</td>\n",
       "      <td>24.3</td>\n",
       "      <td>--</td>\n",
       "      <td>--</td>\n",
       "      <td>--</td>\n",
       "      <td>三垡牛场事件导出信息.xls.xlsx</td>\n",
       "    </tr>\n",
       "    <tr>\n",
       "      <th>2</th>\n",
       "      <td>7010</td>\n",
       "      <td>2017-09-19 00:00:00</td>\n",
       "      <td>牛奶检测</td>\n",
       "      <td>乳脂率 (DHI):4.4; 乳蛋白 (DHI):3.1; 乳糖 (DHI):5.36; 体...</td>\n",
       "      <td>7</td>\n",
       "      <td>388</td>\n",
       "      <td>24.3</td>\n",
       "      <td>--</td>\n",
       "      <td>--</td>\n",
       "      <td>--</td>\n",
       "      <td>三垡牛场事件导出信息.xls.xlsx</td>\n",
       "    </tr>\n",
       "    <tr>\n",
       "      <th>3</th>\n",
       "      <td>7010</td>\n",
       "      <td>2017-10-15 00:00:00</td>\n",
       "      <td>体况评分</td>\n",
       "      <td>值:2.75</td>\n",
       "      <td>7</td>\n",
       "      <td>414</td>\n",
       "      <td>--</td>\n",
       "      <td>--</td>\n",
       "      <td>--</td>\n",
       "      <td>--</td>\n",
       "      <td>三垡牛场事件导出信息.xls.xlsx</td>\n",
       "    </tr>\n",
       "    <tr>\n",
       "      <th>4</th>\n",
       "      <td>7010</td>\n",
       "      <td>2017-10-18 00:00:00</td>\n",
       "      <td>牛奶检测</td>\n",
       "      <td>乳脂率 (DHI):3.5; 乳蛋白 (DHI):3.0; 乳糖 (DHI):5.00; 体...</td>\n",
       "      <td>7</td>\n",
       "      <td>417</td>\n",
       "      <td>12.7</td>\n",
       "      <td>--</td>\n",
       "      <td>--</td>\n",
       "      <td>--</td>\n",
       "      <td>三垡牛场事件导出信息.xls.xlsx</td>\n",
       "    </tr>\n",
       "  </tbody>\n",
       "</table>\n",
       "</div>"
      ],
      "text/plain": [
       "     牛号                   日期    事件  \\\n",
       "0  7010  2017-09-03 00:00:00  体况评分   \n",
       "1  7010  2017-09-08 00:00:00  牛奶检测   \n",
       "2  7010  2017-09-19 00:00:00  牛奶检测   \n",
       "3  7010  2017-10-15 00:00:00  体况评分   \n",
       "4  7010  2017-10-18 00:00:00  牛奶检测   \n",
       "\n",
       "                                                事件信息 胎次 泌乳天数   日产量 产犊方式 出生重  \\\n",
       "0                                             值:2.75  7  372    --   --  --   \n",
       "1  乳脂率 (DHI):3.5; 乳蛋白 (DHI):3.0; 乳糖 (DHI):5.00; 体...  7  377  24.3   --  --   \n",
       "2  乳脂率 (DHI):4.4; 乳蛋白 (DHI):3.1; 乳糖 (DHI):5.36; 体...  7  388  24.3   --  --   \n",
       "3                                             值:2.75  7  414    --   --  --   \n",
       "4  乳脂率 (DHI):3.5; 乳蛋白 (DHI):3.0; 乳糖 (DHI):5.00; 体...  7  417  12.7   --  --   \n",
       "\n",
       "  配种员                   文件  \n",
       "0  --  三垡牛场事件导出信息.xls.xlsx  \n",
       "1  --  三垡牛场事件导出信息.xls.xlsx  \n",
       "2  --  三垡牛场事件导出信息.xls.xlsx  \n",
       "3  --  三垡牛场事件导出信息.xls.xlsx  \n",
       "4  --  三垡牛场事件导出信息.xls.xlsx  "
      ]
     },
     "execution_count": 71,
     "metadata": {},
     "output_type": "execute_result"
    }
   ],
   "source": [
    "dfn.head(5)"
   ]
  },
  {
   "cell_type": "markdown",
   "metadata": {},
   "source": [
    "文件一列中包含着需要处理的场号信息，首先读入提供的场号列表："
   ]
  },
  {
   "cell_type": "code",
   "execution_count": 72,
   "metadata": {},
   "outputs": [],
   "source": [
    "herd=pd.read_excel('F:\\\\fertility data\\\\farm.xls',sheet_name=0)"
   ]
  },
  {
   "cell_type": "code",
   "execution_count": 73,
   "metadata": {},
   "outputs": [
    {
     "data": {
      "text/html": [
       "<div>\n",
       "<style scoped>\n",
       "    .dataframe tbody tr th:only-of-type {\n",
       "        vertical-align: middle;\n",
       "    }\n",
       "\n",
       "    .dataframe tbody tr th {\n",
       "        vertical-align: top;\n",
       "    }\n",
       "\n",
       "    .dataframe thead th {\n",
       "        text-align: right;\n",
       "    }\n",
       "</style>\n",
       "<table border=\"1\" class=\"dataframe\">\n",
       "  <thead>\n",
       "    <tr style=\"text-align: right;\">\n",
       "      <th></th>\n",
       "      <th>牛场编号</th>\n",
       "      <th>场名</th>\n",
       "    </tr>\n",
       "  </thead>\n",
       "  <tbody>\n",
       "    <tr>\n",
       "      <th>0</th>\n",
       "      <td>210008</td>\n",
       "      <td>鞍山市恒利奶牛场</td>\n",
       "    </tr>\n",
       "    <tr>\n",
       "      <th>1</th>\n",
       "      <td>1016</td>\n",
       "      <td>巴盟</td>\n",
       "    </tr>\n",
       "    <tr>\n",
       "      <th>2</th>\n",
       "      <td>1014</td>\n",
       "      <td>白城</td>\n",
       "    </tr>\n",
       "    <tr>\n",
       "      <th>3</th>\n",
       "      <td>110120</td>\n",
       "      <td>宝坻京元</td>\n",
       "    </tr>\n",
       "    <tr>\n",
       "      <th>4</th>\n",
       "      <td>110023</td>\n",
       "      <td>北郊二队</td>\n",
       "    </tr>\n",
       "  </tbody>\n",
       "</table>\n",
       "</div>"
      ],
      "text/plain": [
       "     牛场编号        场名\n",
       "0  210008  鞍山市恒利奶牛场\n",
       "1    1016        巴盟\n",
       "2    1014        白城\n",
       "3  110120      宝坻京元\n",
       "4  110023      北郊二队"
      ]
     },
     "execution_count": 73,
     "metadata": {},
     "output_type": "execute_result"
    }
   ],
   "source": [
    "herd.head()"
   ]
  },
  {
   "cell_type": "markdown",
   "metadata": {},
   "source": [
    "将整理数据中的文件名提取出来进行比较"
   ]
  },
  {
   "cell_type": "code",
   "execution_count": 74,
   "metadata": {},
   "outputs": [],
   "source": [
    "data_herd=dfn[['文件']].drop_duplicates(keep='first')"
   ]
  },
  {
   "cell_type": "code",
   "execution_count": 75,
   "metadata": {},
   "outputs": [
    {
     "data": {
      "text/plain": [
       "36"
      ]
     },
     "execution_count": 75,
     "metadata": {},
     "output_type": "execute_result"
    }
   ],
   "source": [
    "len(data_herd)"
   ]
  },
  {
   "cell_type": "markdown",
   "metadata": {},
   "source": [
    "可见本次文件来源于1807提供的33个牛场，外加之前1712提供的3个外阜牛场（文件名不同），一共36个文件。使用excel将牛场号进行匹配."
   ]
  },
  {
   "cell_type": "code",
   "execution_count": 76,
   "metadata": {},
   "outputs": [],
   "source": [
    "data_Herd=pd.read_csv('F:\\\\fertility data\\\\HERD.csv',sep=\"\\t\",encoding='gbk',low_memory=False)"
   ]
  },
  {
   "cell_type": "code",
   "execution_count": 77,
   "metadata": {},
   "outputs": [
    {
     "data": {
      "text/html": [
       "<div>\n",
       "<style scoped>\n",
       "    .dataframe tbody tr th:only-of-type {\n",
       "        vertical-align: middle;\n",
       "    }\n",
       "\n",
       "    .dataframe tbody tr th {\n",
       "        vertical-align: top;\n",
       "    }\n",
       "\n",
       "    .dataframe thead th {\n",
       "        text-align: right;\n",
       "    }\n",
       "</style>\n",
       "<table border=\"1\" class=\"dataframe\">\n",
       "  <thead>\n",
       "    <tr style=\"text-align: right;\">\n",
       "      <th></th>\n",
       "      <th>文件</th>\n",
       "      <th>场号</th>\n",
       "    </tr>\n",
       "  </thead>\n",
       "  <tbody>\n",
       "    <tr>\n",
       "      <th>0</th>\n",
       "      <td>三垡牛场事件导出信息.xls.xlsx</td>\n",
       "      <td>110046</td>\n",
       "    </tr>\n",
       "    <tr>\n",
       "      <th>1</th>\n",
       "      <td>中以牛场事件导出信息.xls.xlsx</td>\n",
       "      <td>110043</td>\n",
       "    </tr>\n",
       "    <tr>\n",
       "      <th>2</th>\n",
       "      <td>云南分公司事件导出信息.xls.xlsx</td>\n",
       "      <td>1017</td>\n",
       "    </tr>\n",
       "    <tr>\n",
       "      <th>3</th>\n",
       "      <td>兰西分公司事件导出信息.xls.xlsx</td>\n",
       "      <td>1015</td>\n",
       "    </tr>\n",
       "    <tr>\n",
       "      <th>4</th>\n",
       "      <td>创辉导出事件.xls.xlsx</td>\n",
       "      <td>110073</td>\n",
       "    </tr>\n",
       "    <tr>\n",
       "      <th>5</th>\n",
       "      <td>副本良种场阿菲金资料.xlsx.xlsx</td>\n",
       "      <td>110054</td>\n",
       "    </tr>\n",
       "    <tr>\n",
       "      <th>6</th>\n",
       "      <td>北京奶牛中心事件-第二牧场.xls.xlsx</td>\n",
       "      <td>110057</td>\n",
       "    </tr>\n",
       "    <tr>\n",
       "      <th>7</th>\n",
       "      <td>半河牛场事件导出信息.xls.xlsx</td>\n",
       "      <td>110045</td>\n",
       "    </tr>\n",
       "    <tr>\n",
       "      <th>8</th>\n",
       "      <td>南口三场导出事件.xls.xlsx</td>\n",
       "      <td>110038</td>\n",
       "    </tr>\n",
       "    <tr>\n",
       "      <th>9</th>\n",
       "      <td>南口二场事件导出信息.xls.xlsx</td>\n",
       "      <td>110037</td>\n",
       "    </tr>\n",
       "    <tr>\n",
       "      <th>10</th>\n",
       "      <td>圣兴达牛场事件导出信息.xls.xlsx</td>\n",
       "      <td>110012</td>\n",
       "    </tr>\n",
       "    <tr>\n",
       "      <th>11</th>\n",
       "      <td>小务牛场牛场事件导出信息.xls.xlsx</td>\n",
       "      <td>110064</td>\n",
       "    </tr>\n",
       "    <tr>\n",
       "      <th>12</th>\n",
       "      <td>小段牛场事件导出信息.xls.xlsx</td>\n",
       "      <td>110313</td>\n",
       "    </tr>\n",
       "    <tr>\n",
       "      <th>13</th>\n",
       "      <td>山东分公司事件导出信息.xls.xlsx</td>\n",
       "      <td>37WF18</td>\n",
       "    </tr>\n",
       "    <tr>\n",
       "      <th>14</th>\n",
       "      <td>巴彦淖尔事件导出信息.xls.xlsx</td>\n",
       "      <td>1016</td>\n",
       "    </tr>\n",
       "    <tr>\n",
       "      <th>15</th>\n",
       "      <td>新绿洲事件导出信息.xls.xlsx</td>\n",
       "      <td>459001</td>\n",
       "    </tr>\n",
       "    <tr>\n",
       "      <th>16</th>\n",
       "      <td>林甸红旗牧场阿菲金系统（事件信息）.xlsx.xlsx</td>\n",
       "      <td>23EE09</td>\n",
       "    </tr>\n",
       "    <tr>\n",
       "      <th>17</th>\n",
       "      <td>河北首农事件导出信息.xls.xlsx</td>\n",
       "      <td>13FW05</td>\n",
       "    </tr>\n",
       "    <tr>\n",
       "      <th>18</th>\n",
       "      <td>河南分公司事件导出信息.xls.xlsx</td>\n",
       "      <td>41GBSY</td>\n",
       "    </tr>\n",
       "    <tr>\n",
       "      <th>19</th>\n",
       "      <td>清水河牧场事件导出信息.xls.xlsx</td>\n",
       "      <td>151512</td>\n",
       "    </tr>\n",
       "    <tr>\n",
       "      <th>20</th>\n",
       "      <td>渠头牛场事件导出信息.xls.xlsx</td>\n",
       "      <td>110044</td>\n",
       "    </tr>\n",
       "    <tr>\n",
       "      <th>21</th>\n",
       "      <td>白城分公司事件导出信息.xls.xlsx</td>\n",
       "      <td>1014</td>\n",
       "    </tr>\n",
       "    <tr>\n",
       "      <th>22</th>\n",
       "      <td>第一牧场事件导出信息.xls.xlsx</td>\n",
       "      <td>110071</td>\n",
       "    </tr>\n",
       "    <tr>\n",
       "      <th>23</th>\n",
       "      <td>绿牧园牛场事件导出信息.xls.xlsx</td>\n",
       "      <td>110017</td>\n",
       "    </tr>\n",
       "    <tr>\n",
       "      <th>24</th>\n",
       "      <td>草场牛场事件导出信息.xls.xlsx</td>\n",
       "      <td>110055</td>\n",
       "    </tr>\n",
       "    <tr>\n",
       "      <th>25</th>\n",
       "      <td>里二泗牛场事件导出信息.xls.xlsx</td>\n",
       "      <td>110709</td>\n",
       "    </tr>\n",
       "    <tr>\n",
       "      <th>26</th>\n",
       "      <td>金星牛场事件导出信息.xls.xlsx</td>\n",
       "      <td>110019</td>\n",
       "    </tr>\n",
       "    <tr>\n",
       "      <th>27</th>\n",
       "      <td>金鑫园导出事件.xls.xlsx</td>\n",
       "      <td>110502</td>\n",
       "    </tr>\n",
       "    <tr>\n",
       "      <th>28</th>\n",
       "      <td>金银岛牛场事件导出信息.xls.xlsx</td>\n",
       "      <td>110015</td>\n",
       "    </tr>\n",
       "    <tr>\n",
       "      <th>29</th>\n",
       "      <td>长三牛场事件导出信息.xls.xlsx</td>\n",
       "      <td>110056</td>\n",
       "    </tr>\n",
       "    <tr>\n",
       "      <th>30</th>\n",
       "      <td>长四导出事件.xls.xlsx</td>\n",
       "      <td>110033</td>\n",
       "    </tr>\n",
       "    <tr>\n",
       "      <th>31</th>\n",
       "      <td>雄特导出事件.xls.xlsx</td>\n",
       "      <td>110238</td>\n",
       "    </tr>\n",
       "    <tr>\n",
       "      <th>32</th>\n",
       "      <td>顺三牛场事件导出信息.xls.xlsx</td>\n",
       "      <td>110364</td>\n",
       "    </tr>\n",
       "    <tr>\n",
       "      <th>33</th>\n",
       "      <td>巴盟事件导出信息.xls</td>\n",
       "      <td>1016</td>\n",
       "    </tr>\n",
       "    <tr>\n",
       "      <th>34</th>\n",
       "      <td>白城事件导出信息.xls</td>\n",
       "      <td>1014</td>\n",
       "    </tr>\n",
       "    <tr>\n",
       "      <th>35</th>\n",
       "      <td>云南分公司事件导出信息.xls</td>\n",
       "      <td>1017</td>\n",
       "    </tr>\n",
       "  </tbody>\n",
       "</table>\n",
       "</div>"
      ],
      "text/plain": [
       "                             文件      场号\n",
       "0           三垡牛场事件导出信息.xls.xlsx  110046\n",
       "1           中以牛场事件导出信息.xls.xlsx  110043\n",
       "2          云南分公司事件导出信息.xls.xlsx    1017\n",
       "3          兰西分公司事件导出信息.xls.xlsx    1015\n",
       "4               创辉导出事件.xls.xlsx  110073\n",
       "5          副本良种场阿菲金资料.xlsx.xlsx  110054\n",
       "6        北京奶牛中心事件-第二牧场.xls.xlsx  110057\n",
       "7           半河牛场事件导出信息.xls.xlsx  110045\n",
       "8             南口三场导出事件.xls.xlsx  110038\n",
       "9           南口二场事件导出信息.xls.xlsx  110037\n",
       "10         圣兴达牛场事件导出信息.xls.xlsx  110012\n",
       "11        小务牛场牛场事件导出信息.xls.xlsx  110064\n",
       "12          小段牛场事件导出信息.xls.xlsx  110313\n",
       "13         山东分公司事件导出信息.xls.xlsx  37WF18\n",
       "14          巴彦淖尔事件导出信息.xls.xlsx    1016\n",
       "15           新绿洲事件导出信息.xls.xlsx  459001\n",
       "16  林甸红旗牧场阿菲金系统（事件信息）.xlsx.xlsx  23EE09\n",
       "17          河北首农事件导出信息.xls.xlsx  13FW05\n",
       "18         河南分公司事件导出信息.xls.xlsx  41GBSY\n",
       "19         清水河牧场事件导出信息.xls.xlsx  151512\n",
       "20          渠头牛场事件导出信息.xls.xlsx  110044\n",
       "21         白城分公司事件导出信息.xls.xlsx    1014\n",
       "22          第一牧场事件导出信息.xls.xlsx  110071\n",
       "23         绿牧园牛场事件导出信息.xls.xlsx  110017\n",
       "24          草场牛场事件导出信息.xls.xlsx  110055\n",
       "25         里二泗牛场事件导出信息.xls.xlsx  110709\n",
       "26          金星牛场事件导出信息.xls.xlsx  110019\n",
       "27             金鑫园导出事件.xls.xlsx  110502\n",
       "28         金银岛牛场事件导出信息.xls.xlsx  110015\n",
       "29          长三牛场事件导出信息.xls.xlsx  110056\n",
       "30              长四导出事件.xls.xlsx  110033\n",
       "31              雄特导出事件.xls.xlsx  110238\n",
       "32          顺三牛场事件导出信息.xls.xlsx  110364\n",
       "33                 巴盟事件导出信息.xls    1016\n",
       "34                 白城事件导出信息.xls    1014\n",
       "35              云南分公司事件导出信息.xls    1017"
      ]
     },
     "execution_count": 77,
     "metadata": {},
     "output_type": "execute_result"
    }
   ],
   "source": [
    "data_Herd"
   ]
  },
  {
   "cell_type": "markdown",
   "metadata": {},
   "source": [
    "将文件对应场号信息与原合并数据合并，然后筛选场号。"
   ]
  },
  {
   "cell_type": "code",
   "execution_count": 78,
   "metadata": {},
   "outputs": [],
   "source": [
    "df1807=pd.merge(dfn,data_Herd,how='left')"
   ]
  },
  {
   "cell_type": "code",
   "execution_count": 79,
   "metadata": {},
   "outputs": [
    {
     "data": {
      "text/plain": [
       "33"
      ]
     },
     "execution_count": 79,
     "metadata": {},
     "output_type": "execute_result"
    }
   ],
   "source": [
    "dfherd=df1807[['场号']].drop_duplicates(keep='first')\n",
    "len(dfherd)"
   ]
  },
  {
   "cell_type": "code",
   "execution_count": 80,
   "metadata": {},
   "outputs": [
    {
     "data": {
      "text/html": [
       "<div>\n",
       "<style scoped>\n",
       "    .dataframe tbody tr th:only-of-type {\n",
       "        vertical-align: middle;\n",
       "    }\n",
       "\n",
       "    .dataframe tbody tr th {\n",
       "        vertical-align: top;\n",
       "    }\n",
       "\n",
       "    .dataframe thead th {\n",
       "        text-align: right;\n",
       "    }\n",
       "</style>\n",
       "<table border=\"1\" class=\"dataframe\">\n",
       "  <thead>\n",
       "    <tr style=\"text-align: right;\">\n",
       "      <th></th>\n",
       "      <th>场号</th>\n",
       "    </tr>\n",
       "  </thead>\n",
       "  <tbody>\n",
       "    <tr>\n",
       "      <th>0</th>\n",
       "      <td>110046</td>\n",
       "    </tr>\n",
       "    <tr>\n",
       "      <th>37041</th>\n",
       "      <td>110043</td>\n",
       "    </tr>\n",
       "    <tr>\n",
       "      <th>88422</th>\n",
       "      <td>1017</td>\n",
       "    </tr>\n",
       "    <tr>\n",
       "      <th>93439</th>\n",
       "      <td>1015</td>\n",
       "    </tr>\n",
       "    <tr>\n",
       "      <th>152896</th>\n",
       "      <td>110073</td>\n",
       "    </tr>\n",
       "  </tbody>\n",
       "</table>\n",
       "</div>"
      ],
      "text/plain": [
       "            场号\n",
       "0       110046\n",
       "37041   110043\n",
       "88422     1017\n",
       "93439     1015\n",
       "152896  110073"
      ]
     },
     "execution_count": 80,
     "metadata": {},
     "output_type": "execute_result"
    }
   ],
   "source": [
    "dfherd.head(5)"
   ]
  },
  {
   "cell_type": "markdown",
   "metadata": {},
   "source": [
    "可见牛场数为33，与本次提供的数量一致，接下来将文件一列删除，并将场号改为HERD，保存为新文件，然后对完整数据进行处理分析，最后统一格式之后再与之前的数据合并进行性状的评估。"
   ]
  },
  {
   "cell_type": "code",
   "execution_count": 81,
   "metadata": {},
   "outputs": [],
   "source": [
    "df1807.rename(columns={'场号':'HERD'},inplace=True)\n",
    "dffinal=df1807.drop(['文件'], axis=1)"
   ]
  },
  {
   "cell_type": "code",
   "execution_count": 82,
   "metadata": {},
   "outputs": [],
   "source": [
    "dffinal.to_csv(SaveFile_Path+'1807final.csv',encoding=\"utf_8_sig\",index=False)"
   ]
  },
  {
   "cell_type": "code",
   "execution_count": 83,
   "metadata": {},
   "outputs": [
    {
     "name": "stdout",
     "output_type": "stream",
     "text": [
      "1733173\n",
      "--------------------\n",
      "1733173\n"
     ]
    }
   ],
   "source": [
    "print(len(dffinal))\n",
    "print('-'*20)\n",
    "print(len(dfn))"
   ]
  },
  {
   "cell_type": "code",
   "execution_count": 84,
   "metadata": {},
   "outputs": [
    {
     "data": {
      "image/png": "[encoded data removed]",
      "text/plain": [
       "<matplotlib.figure.Figure at 0x181822c8080>"
      ]
     },
     "metadata": {},
     "output_type": "display_data"
    }
   ],
   "source": [
    "plt.figure(figsize=(15,10))\n",
    "hedis=sns.countplot(x='HERD',data=dffinal)\n",
    "hedis1=hedis.set_xticklabels(hedis.get_xticklabels(), rotation=-90)\n",
    "plt.savefig(\"C:\\\\Users\\\\mis\\\\Desktop\\\\herd-BJ1807\",bbox_inches='tight',dpi=600)"
   ]
  },
  {
   "cell_type": "markdown",
   "metadata": {},
   "source": [
    "# 数据的进一步筛选分析（按照以前的处理方法）"
   ]
  },
  {
   "cell_type": "markdown",
   "metadata": {},
   "source": [
    "整理标准牛号之前，先查看系谱中：（1）4位牛场号的整理方法；（2）含字母牛场号的整理方法；（3）多个牛场号的牛场保留的号码。经查询，发现：4位牛场号的数据FID=11位，6位牛场号FID=13位，所以使用4位牛场号时不需要添零直接使用即可;含字母的场号也是13位，直接使用即可；多个牛场号的牛场：459001变为110901即可，但是长阳三队系谱中110056，110031都有牛号，如何使用？保留110031"
   ]
  },
  {
   "cell_type": "code",
   "execution_count": 85,
   "metadata": {},
   "outputs": [],
   "source": [
    "dffinal['HERD']=dffinal['HERD'].replace('459001','110901')\n",
    "dffinal['HERD']=dffinal['HERD'].replace('110056','110031')"
   ]
  },
  {
   "cell_type": "markdown",
   "metadata": {},
   "source": [
    "牛号不够6位的在前面添加对应数量的‘0’，补齐6位。"
   ]
  },
  {
   "cell_type": "code",
   "execution_count": 86,
   "metadata": {},
   "outputs": [],
   "source": [
    "dffinali=dffinal.copy()"
   ]
  },
  {
   "cell_type": "code",
   "execution_count": 87,
   "metadata": {},
   "outputs": [],
   "source": [
    "dffinal1=dffinali.fillna('')"
   ]
  },
  {
   "cell_type": "code",
   "execution_count": 88,
   "metadata": {},
   "outputs": [],
   "source": [
    "dffinal1['牛号']=dffinal1['牛号'].apply(lambda s: str(int(s)) if type(s)==float else str(s))"
   ]
  },
  {
   "cell_type": "code",
   "execution_count": 89,
   "metadata": {},
   "outputs": [],
   "source": [
    "dffinal1['牛号']=dffinal1['牛号'].apply(lambda s: s.replace('.0',''))"
   ]
  },
  {
   "cell_type": "code",
   "execution_count": 90,
   "metadata": {},
   "outputs": [],
   "source": [
    "dffinal1['牛号']=dffinal1['牛号'].apply(lambda s: s.zfill(6))"
   ]
  },
  {
   "cell_type": "code",
   "execution_count": 91,
   "metadata": {},
   "outputs": [],
   "source": [
    "length=dffinal1.copy()\n",
    "length['牛号长度']=dffinal1['牛号'].apply(lambda s: len(s))"
   ]
  },
  {
   "cell_type": "code",
   "execution_count": 92,
   "metadata": {},
   "outputs": [
    {
     "data": {
      "text/plain": [
       "count    1.733173e+06\n",
       "mean     6.022364e+00\n",
       "std      3.656249e-01\n",
       "min      6.000000e+00\n",
       "25%      6.000000e+00\n",
       "50%      6.000000e+00\n",
       "75%      6.000000e+00\n",
       "max      1.200000e+01\n",
       "Name: 牛号长度, dtype: float64"
      ]
     },
     "execution_count": 92,
     "metadata": {},
     "output_type": "execute_result"
    }
   ],
   "source": [
    "length['牛号长度'].describe() #可以看出一些牛号的长度超过了6，最多的达到了12"
   ]
  },
  {
   "cell_type": "code",
   "execution_count": 93,
   "metadata": {},
   "outputs": [],
   "source": [
    "length1=length[length['牛号长度']>6]"
   ]
  },
  {
   "cell_type": "code",
   "execution_count": 94,
   "metadata": {},
   "outputs": [
    {
     "data": {
      "text/html": [
       "<div>\n",
       "<style scoped>\n",
       "    .dataframe tbody tr th:only-of-type {\n",
       "        vertical-align: middle;\n",
       "    }\n",
       "\n",
       "    .dataframe tbody tr th {\n",
       "        vertical-align: top;\n",
       "    }\n",
       "\n",
       "    .dataframe thead th {\n",
       "        text-align: right;\n",
       "    }\n",
       "</style>\n",
       "<table border=\"1\" class=\"dataframe\">\n",
       "  <thead>\n",
       "    <tr style=\"text-align: right;\">\n",
       "      <th></th>\n",
       "      <th>牛号</th>\n",
       "      <th>日期</th>\n",
       "      <th>事件</th>\n",
       "      <th>事件信息</th>\n",
       "      <th>胎次</th>\n",
       "      <th>泌乳天数</th>\n",
       "      <th>日产量</th>\n",
       "      <th>产犊方式</th>\n",
       "      <th>出生重</th>\n",
       "      <th>配种员</th>\n",
       "      <th>HERD</th>\n",
       "      <th>牛号长度</th>\n",
       "    </tr>\n",
       "  </thead>\n",
       "  <tbody>\n",
       "    <tr>\n",
       "      <th>336375</th>\n",
       "      <td>0,2010/12/07</td>\n",
       "      <td>1,0</td>\n",
       "      <td>1,0</td>\n",
       "      <td>1,0</td>\n",
       "      <td>1,0</td>\n",
       "      <td>1,0</td>\n",
       "      <td>1,0</td>\n",
       "      <td>1,0</td>\n",
       "      <td>1,0</td>\n",
       "      <td>-1,0</td>\n",
       "      <td>110038</td>\n",
       "      <td>12</td>\n",
       "    </tr>\n",
       "    <tr>\n",
       "      <th>1150660</th>\n",
       "      <td>151502120858</td>\n",
       "      <td></td>\n",
       "      <td>疾病治疗事件</td>\n",
       "      <td></td>\n",
       "      <td></td>\n",
       "      <td></td>\n",
       "      <td></td>\n",
       "      <td></td>\n",
       "      <td></td>\n",
       "      <td></td>\n",
       "      <td>151512</td>\n",
       "      <td>12</td>\n",
       "    </tr>\n",
       "    <tr>\n",
       "      <th>1150661</th>\n",
       "      <td>151502120858</td>\n",
       "      <td></td>\n",
       "      <td>疾病治疗事件</td>\n",
       "      <td></td>\n",
       "      <td></td>\n",
       "      <td></td>\n",
       "      <td></td>\n",
       "      <td></td>\n",
       "      <td></td>\n",
       "      <td></td>\n",
       "      <td>151512</td>\n",
       "      <td>12</td>\n",
       "    </tr>\n",
       "    <tr>\n",
       "      <th>1150662</th>\n",
       "      <td>151502121219</td>\n",
       "      <td></td>\n",
       "      <td>疾病治疗事件</td>\n",
       "      <td></td>\n",
       "      <td></td>\n",
       "      <td></td>\n",
       "      <td></td>\n",
       "      <td></td>\n",
       "      <td></td>\n",
       "      <td></td>\n",
       "      <td>151512</td>\n",
       "      <td>12</td>\n",
       "    </tr>\n",
       "    <tr>\n",
       "      <th>1150663</th>\n",
       "      <td>151503000240</td>\n",
       "      <td></td>\n",
       "      <td>疾病治疗事件</td>\n",
       "      <td></td>\n",
       "      <td></td>\n",
       "      <td></td>\n",
       "      <td></td>\n",
       "      <td></td>\n",
       "      <td></td>\n",
       "      <td></td>\n",
       "      <td>151512</td>\n",
       "      <td>12</td>\n",
       "    </tr>\n",
       "  </tbody>\n",
       "</table>\n",
       "</div>"
      ],
      "text/plain": [
       "                   牛号   日期      事件 事件信息   胎次 泌乳天数  日产量 产犊方式  出生重   配种员  \\\n",
       "336375   0,2010/12/07  1,0     1,0  1,0  1,0  1,0  1,0  1,0  1,0  -1,0   \n",
       "1150660  151502120858       疾病治疗事件                                       \n",
       "1150661  151502120858       疾病治疗事件                                       \n",
       "1150662  151502121219       疾病治疗事件                                       \n",
       "1150663  151503000240       疾病治疗事件                                       \n",
       "\n",
       "           HERD  牛号长度  \n",
       "336375   110038    12  \n",
       "1150660  151512    12  \n",
       "1150661  151512    12  \n",
       "1150662  151512    12  \n",
       "1150663  151512    12  "
      ]
     },
     "execution_count": 94,
     "metadata": {},
     "output_type": "execute_result"
    }
   ],
   "source": [
    "length1.head()"
   ]
  },
  {
   "cell_type": "code",
   "execution_count": 95,
   "metadata": {},
   "outputs": [
    {
     "data": {
      "text/plain": [
       "count       6460\n",
       "unique         2\n",
       "top       151512\n",
       "freq        6459\n",
       "Name: HERD, dtype: object"
      ]
     },
     "execution_count": 95,
     "metadata": {},
     "output_type": "execute_result"
    }
   ],
   "source": [
    "length1['HERD'].describe()"
   ]
  },
  {
   "cell_type": "markdown",
   "metadata": {},
   "source": [
    "可见有一些牧场将场号加到了牛号之前，对此只需保留牛号后六位即可"
   ]
  },
  {
   "cell_type": "code",
   "execution_count": 96,
   "metadata": {},
   "outputs": [],
   "source": [
    "dffinal1['牛号']=dffinal1['牛号'].apply(lambda s: s[6:] if len(s)==12 else s)"
   ]
  },
  {
   "cell_type": "code",
   "execution_count": 97,
   "metadata": {},
   "outputs": [],
   "source": [
    "length=dffinal1.copy()\n",
    "length['牛号长度']=dffinal1['牛号'].apply(lambda s: len(s))"
   ]
  },
  {
   "cell_type": "code",
   "execution_count": 98,
   "metadata": {},
   "outputs": [
    {
     "data": {
      "text/plain": [
       "count    1733173.0\n",
       "mean           6.0\n",
       "std            0.0\n",
       "min            6.0\n",
       "25%            6.0\n",
       "50%            6.0\n",
       "75%            6.0\n",
       "max            6.0\n",
       "Name: 牛号长度, dtype: float64"
      ]
     },
     "execution_count": 98,
     "metadata": {},
     "output_type": "execute_result"
    }
   ],
   "source": [
    "length['牛号长度'].describe() #现在所有牛号达到6位，可做进一步处理，合并成FID"
   ]
  },
  {
   "cell_type": "code",
   "execution_count": 99,
   "metadata": {},
   "outputs": [],
   "source": [
    "dffinal1['HERD']=dffinal1['HERD'].apply(lambda s: str(s))"
   ]
  },
  {
   "cell_type": "code",
   "execution_count": 100,
   "metadata": {},
   "outputs": [],
   "source": [
    "dffinal1['FID']='F'+dffinal1['HERD']+dffinal1['牛号']"
   ]
  },
  {
   "cell_type": "code",
   "execution_count": 101,
   "metadata": {},
   "outputs": [
    {
     "data": {
      "text/html": [
       "<div>\n",
       "<style scoped>\n",
       "    .dataframe tbody tr th:only-of-type {\n",
       "        vertical-align: middle;\n",
       "    }\n",
       "\n",
       "    .dataframe tbody tr th {\n",
       "        vertical-align: top;\n",
       "    }\n",
       "\n",
       "    .dataframe thead th {\n",
       "        text-align: right;\n",
       "    }\n",
       "</style>\n",
       "<table border=\"1\" class=\"dataframe\">\n",
       "  <thead>\n",
       "    <tr style=\"text-align: right;\">\n",
       "      <th></th>\n",
       "      <th>牛号</th>\n",
       "      <th>日期</th>\n",
       "      <th>事件</th>\n",
       "      <th>事件信息</th>\n",
       "      <th>胎次</th>\n",
       "      <th>泌乳天数</th>\n",
       "      <th>日产量</th>\n",
       "      <th>产犊方式</th>\n",
       "      <th>出生重</th>\n",
       "      <th>配种员</th>\n",
       "      <th>HERD</th>\n",
       "      <th>FID</th>\n",
       "    </tr>\n",
       "  </thead>\n",
       "  <tbody>\n",
       "    <tr>\n",
       "      <th>0</th>\n",
       "      <td>007010</td>\n",
       "      <td>2017-09-03 00:00:00</td>\n",
       "      <td>体况评分</td>\n",
       "      <td>值:2.75</td>\n",
       "      <td>7</td>\n",
       "      <td>372</td>\n",
       "      <td>--</td>\n",
       "      <td>--</td>\n",
       "      <td>--</td>\n",
       "      <td>--</td>\n",
       "      <td>110046</td>\n",
       "      <td>F110046007010</td>\n",
       "    </tr>\n",
       "    <tr>\n",
       "      <th>1</th>\n",
       "      <td>007010</td>\n",
       "      <td>2017-09-08 00:00:00</td>\n",
       "      <td>牛奶检测</td>\n",
       "      <td>乳脂率 (DHI):3.5; 乳蛋白 (DHI):3.0; 乳糖 (DHI):5.00; 体...</td>\n",
       "      <td>7</td>\n",
       "      <td>377</td>\n",
       "      <td>24.3</td>\n",
       "      <td>--</td>\n",
       "      <td>--</td>\n",
       "      <td>--</td>\n",
       "      <td>110046</td>\n",
       "      <td>F110046007010</td>\n",
       "    </tr>\n",
       "    <tr>\n",
       "      <th>2</th>\n",
       "      <td>007010</td>\n",
       "      <td>2017-09-19 00:00:00</td>\n",
       "      <td>牛奶检测</td>\n",
       "      <td>乳脂率 (DHI):4.4; 乳蛋白 (DHI):3.1; 乳糖 (DHI):5.36; 体...</td>\n",
       "      <td>7</td>\n",
       "      <td>388</td>\n",
       "      <td>24.3</td>\n",
       "      <td>--</td>\n",
       "      <td>--</td>\n",
       "      <td>--</td>\n",
       "      <td>110046</td>\n",
       "      <td>F110046007010</td>\n",
       "    </tr>\n",
       "    <tr>\n",
       "      <th>3</th>\n",
       "      <td>007010</td>\n",
       "      <td>2017-10-15 00:00:00</td>\n",
       "      <td>体况评分</td>\n",
       "      <td>值:2.75</td>\n",
       "      <td>7</td>\n",
       "      <td>414</td>\n",
       "      <td>--</td>\n",
       "      <td>--</td>\n",
       "      <td>--</td>\n",
       "      <td>--</td>\n",
       "      <td>110046</td>\n",
       "      <td>F110046007010</td>\n",
       "    </tr>\n",
       "    <tr>\n",
       "      <th>4</th>\n",
       "      <td>007010</td>\n",
       "      <td>2017-10-18 00:00:00</td>\n",
       "      <td>牛奶检测</td>\n",
       "      <td>乳脂率 (DHI):3.5; 乳蛋白 (DHI):3.0; 乳糖 (DHI):5.00; 体...</td>\n",
       "      <td>7</td>\n",
       "      <td>417</td>\n",
       "      <td>12.7</td>\n",
       "      <td>--</td>\n",
       "      <td>--</td>\n",
       "      <td>--</td>\n",
       "      <td>110046</td>\n",
       "      <td>F110046007010</td>\n",
       "    </tr>\n",
       "  </tbody>\n",
       "</table>\n",
       "</div>"
      ],
      "text/plain": [
       "       牛号                   日期    事件  \\\n",
       "0  007010  2017-09-03 00:00:00  体况评分   \n",
       "1  007010  2017-09-08 00:00:00  牛奶检测   \n",
       "2  007010  2017-09-19 00:00:00  牛奶检测   \n",
       "3  007010  2017-10-15 00:00:00  体况评分   \n",
       "4  007010  2017-10-18 00:00:00  牛奶检测   \n",
       "\n",
       "                                                事件信息 胎次 泌乳天数   日产量 产犊方式 出生重  \\\n",
       "0                                             值:2.75  7  372    --   --  --   \n",
       "1  乳脂率 (DHI):3.5; 乳蛋白 (DHI):3.0; 乳糖 (DHI):5.00; 体...  7  377  24.3   --  --   \n",
       "2  乳脂率 (DHI):4.4; 乳蛋白 (DHI):3.1; 乳糖 (DHI):5.36; 体...  7  388  24.3   --  --   \n",
       "3                                             值:2.75  7  414    --   --  --   \n",
       "4  乳脂率 (DHI):3.5; 乳蛋白 (DHI):3.0; 乳糖 (DHI):5.00; 体...  7  417  12.7   --  --   \n",
       "\n",
       "  配种员    HERD            FID  \n",
       "0  --  110046  F110046007010  \n",
       "1  --  110046  F110046007010  \n",
       "2  --  110046  F110046007010  \n",
       "3  --  110046  F110046007010  \n",
       "4  --  110046  F110046007010  "
      ]
     },
     "execution_count": 101,
     "metadata": {},
     "output_type": "execute_result"
    }
   ],
   "source": [
    "dffinal1.head()"
   ]
  },
  {
   "cell_type": "code",
   "execution_count": 102,
   "metadata": {},
   "outputs": [],
   "source": [
    "dffinal1.to_csv(SaveFile_Path+'1807final2.csv',encoding=\"utf_8_sig\",index=False)"
   ]
  },
  {
   "cell_type": "markdown",
   "metadata": {},
   "source": [
    "# 数据合并"
   ]
  },
  {
   "cell_type": "markdown",
   "metadata": {},
   "source": [
    "将本次整理的数据与1712的数据进行合并。"
   ]
  },
  {
   "cell_type": "code",
   "execution_count": 103,
   "metadata": {},
   "outputs": [],
   "source": [
    "fz1712=pd.read_csv(\"F:\\\\fertility data\\\\sum-BJ1712\\\\aa.csv\",sep=\",\",encoding='gbk',low_memory=False)"
   ]
  },
  {
   "cell_type": "code",
   "execution_count": 104,
   "metadata": {},
   "outputs": [],
   "source": [
    "fz1807=pd.read_csv(\"F:\\\\fertility data\\\\SUMBJ1807\\\\1807final2.csv\",sep=\",\",low_memory=False)"
   ]
  },
  {
   "cell_type": "code",
   "execution_count": 105,
   "metadata": {},
   "outputs": [],
   "source": [
    "fz1712=fz1712.drop(['重编号'], axis=1)"
   ]
  },
  {
   "cell_type": "code",
   "execution_count": 106,
   "metadata": {},
   "outputs": [],
   "source": [
    "fz1712.to_csv(\"F:\\\\fertility data\\\\SUMBJ1807\\\\aa1807.csv\",encoding=\"utf_8_sig\",index=False)\n",
    "fz1807.to_csv(\"F:\\\\fertility data\\\\SUMBJ1807\\\\aa1807.csv\",encoding=\"utf_8_sig\",index=False, header=False, mode='a+')"
   ]
  },
  {
   "cell_type": "code",
   "execution_count": 107,
   "metadata": {},
   "outputs": [],
   "source": [
    "fz=pd.read_csv(\"F:\\\\fertility data\\\\SUMBJ1807\\\\aa1807.csv\",sep=\",\",low_memory=False)"
   ]
  },
  {
   "cell_type": "code",
   "execution_count": 108,
   "metadata": {},
   "outputs": [
    {
     "data": {
      "text/plain": [
       "牛号      7244866\n",
       "日期      7238402\n",
       "事件      7242735\n",
       "事件信息    6770438\n",
       "胎次      6939831\n",
       "泌乳天数    7238403\n",
       "日产量     6939831\n",
       "产犊方式    7238403\n",
       "出生重     6939830\n",
       "配种员     7186995\n",
       "HERD    7244866\n",
       "FID     7244866\n",
       "dtype: int64"
      ]
     },
     "execution_count": 108,
     "metadata": {},
     "output_type": "execute_result"
    }
   ],
   "source": [
    "fz.count()"
   ]
  },
  {
   "cell_type": "markdown",
   "metadata": {},
   "source": [
    "至此，数据合并完毕"
   ]
  }
 ],
 "metadata": {
  "kernelspec": {
   "display_name": "Python 3",
   "language": "python",
   "name": "python3"
  },
  "language_info": {
   "codemirror_mode": {
    "name": "ipython",
    "version": 3
   },
   "file_extension": ".py",
   "mimetype": "text/x-python",
   "name": "python",
   "nbconvert_exporter": "python",
   "pygments_lexer": "ipython3",
   "version": "3.6.4"
  },
  "toc": {
   "base_numbering": 1,
   "nav_menu": {},
   "number_sections": true,
   "sideBar": true,
   "skip_h1_title": false,
   "title_cell": "Table of Contents",
   "title_sidebar": "Contents",
   "toc_cell": false,
   "toc_position": {},
   "toc_section_display": true,
   "toc_window_display": true
  }
 },
 "nbformat": 4,
 "nbformat_minor": 2
}
