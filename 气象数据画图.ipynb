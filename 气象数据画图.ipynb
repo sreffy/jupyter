{
 "cells": [
  {
   "cell_type": "markdown",
   "metadata": {},
   "source": [
    "# 各地区气象数据合并"
   ]
  },
  {
   "cell_type": "code",
   "execution_count": 1,
   "metadata": {},
   "outputs": [],
   "source": [
    "import pandas as pd\n",
    "import numpy as np\n",
    "import os\n",
    "import seaborn as sns\n",
    "import matplotlib.pyplot as plt"
   ]
  },
  {
   "cell_type": "code",
   "execution_count": 75,
   "metadata": {},
   "outputs": [],
   "source": [
    "plt.rcParams['font.sans-serif']=['SimHei']\n",
    "plt.rcParams['axes.unicode_minus'] = False"
   ]
  },
  {
   "cell_type": "code",
   "execution_count": 2,
   "metadata": {},
   "outputs": [],
   "source": [
    "path='F:\\\\weather\\\\'"
   ]
  },
  {
   "cell_type": "code",
   "execution_count": 3,
   "metadata": {},
   "outputs": [],
   "source": [
    "data_huadong=pd.read_csv(path+'huadong.csv',sep=',')\n",
    "data_huabei=pd.read_csv(path+'huabei.csv',sep=',')\n",
    "data_huanan=pd.read_csv(path+'huanan.csv',sep=',')\n",
    "data_huazhong=pd.read_csv(path+'huazhong.csv',sep=',')\n",
    "data_xibei=pd.read_csv(path+'xibei.csv',sep=',')\n",
    "data_xinan=pd.read_csv(path+'xinan.csv',sep=',')\n",
    "data_dongbei=pd.read_csv(path+'dongbei.csv',sep=',')"
   ]
  },
  {
   "cell_type": "markdown",
   "metadata": {},
   "source": [
    "## 数据全合并"
   ]
  },
  {
   "cell_type": "code",
   "execution_count": 4,
   "metadata": {},
   "outputs": [],
   "source": [
    "data_all=pd.concat([data_huadong,data_huabei,data_huazhong,data_huanan,data_xibei,data_xinan,data_dongbei])"
   ]
  },
  {
   "cell_type": "code",
   "execution_count": 5,
   "metadata": {},
   "outputs": [
    {
     "name": "stdout",
     "output_type": "stream",
     "text": [
      "<class 'pandas.core.frame.DataFrame'>\n",
      "Int64Index: 30557843 entries, 0 to 2888831\n",
      "Data columns (total 11 columns):\n",
      "Station_Id_C    int64\n",
      "Year            float64\n",
      "Mon             float64\n",
      "Day             float64\n",
      "Hour            float64\n",
      "RHU             int64\n",
      "TEM             float64\n",
      "TEM_Max         float64\n",
      "TEM_Min         float64\n",
      "省份              object\n",
      "Area            object\n",
      "dtypes: float64(7), int64(2), object(2)\n",
      "memory usage: 2.7+ GB\n"
     ]
    }
   ],
   "source": [
    "data_all.info()"
   ]
  },
  {
   "cell_type": "markdown",
   "metadata": {},
   "source": [
    "合并后30,557,843条数据"
   ]
  },
  {
   "cell_type": "markdown",
   "metadata": {},
   "source": [
    "__核对温度是否符合：温度最大、最小、平均值之间逻辑关系：最小≤平均≤最大__"
   ]
  },
  {
   "cell_type": "code",
   "execution_count": 5,
   "metadata": {},
   "outputs": [],
   "source": [
    "data_all_valid=data_all[:]"
   ]
  },
  {
   "cell_type": "code",
   "execution_count": 6,
   "metadata": {
    "scrolled": true
   },
   "outputs": [
    {
     "name": "stderr",
     "output_type": "stream",
     "text": [
      "E:\\Anaconda\\lib\\site-packages\\ipykernel_launcher.py:1: SettingWithCopyWarning: \n",
      "A value is trying to be set on a copy of a slice from a DataFrame.\n",
      "Try using .loc[row_indexer,col_indexer] = value instead\n",
      "\n",
      "See the caveats in the documentation: http://pandas.pydata.org/pandas-docs/stable/indexing.html#indexing-view-versus-copy\n",
      "  \"\"\"Entry point for launching an IPython kernel.\n",
      "E:\\Anaconda\\lib\\site-packages\\ipykernel_launcher.py:2: SettingWithCopyWarning: \n",
      "A value is trying to be set on a copy of a slice from a DataFrame.\n",
      "Try using .loc[row_indexer,col_indexer] = value instead\n",
      "\n",
      "See the caveats in the documentation: http://pandas.pydata.org/pandas-docs/stable/indexing.html#indexing-view-versus-copy\n",
      "  \n"
     ]
    }
   ],
   "source": [
    "data_all_valid['valid1']=data_all['TEM_Max']-data_all['TEM']\n",
    "data_all_valid['valid2']=data_all['TEM']-data_all['TEM_Min']"
   ]
  },
  {
   "cell_type": "code",
   "execution_count": 7,
   "metadata": {},
   "outputs": [],
   "source": [
    "data_valid=data_all_valid[(data_all_valid['valid1']>=0) | (data_all_valid['valid2']>=0)]"
   ]
  },
  {
   "cell_type": "code",
   "execution_count": 10,
   "metadata": {
    "scrolled": true
   },
   "outputs": [
    {
     "name": "stdout",
     "output_type": "stream",
     "text": [
      "<class 'pandas.core.frame.DataFrame'>\n",
      "Int64Index: 30557842 entries, 0 to 2888831\n",
      "Data columns (total 13 columns):\n",
      "Station_Id_C    int64\n",
      "Year            float64\n",
      "Mon             float64\n",
      "Day             float64\n",
      "Hour            float64\n",
      "RHU             int64\n",
      "TEM             float64\n",
      "TEM_Max         float64\n",
      "TEM_Min         float64\n",
      "省份              object\n",
      "Area            object\n",
      "valid1          float64\n",
      "valid2          float64\n",
      "dtypes: float64(9), int64(2), object(2)\n",
      "memory usage: 3.2+ GB\n"
     ]
    }
   ],
   "source": [
    "data_valid.info()"
   ]
  },
  {
   "cell_type": "code",
   "execution_count": 8,
   "metadata": {},
   "outputs": [],
   "source": [
    "data_valid.to_csv('F:\\\\weather\\\\data_valid.txt',index=False,sep='\\t',encoding='utf_8_sig')"
   ]
  },
  {
   "cell_type": "markdown",
   "metadata": {},
   "source": [
    "可见只有1条温度数据不符合逻辑。"
   ]
  },
  {
   "cell_type": "code",
   "execution_count": 4,
   "metadata": {},
   "outputs": [],
   "source": [
    "data_valid=pd.read_table(path+'data_valid.txt',sep='\\t')"
   ]
  },
  {
   "cell_type": "markdown",
   "metadata": {},
   "source": [
    "__统计“测定站-年-月-日”，当天数据量≥16条的保留（总共24条），其余剔除__"
   ]
  },
  {
   "cell_type": "code",
   "execution_count": 5,
   "metadata": {},
   "outputs": [],
   "source": [
    "data_allh=data_valid[:]"
   ]
  },
  {
   "cell_type": "code",
   "execution_count": 6,
   "metadata": {},
   "outputs": [],
   "source": [
    "data_allh['Station_Id_C']=data_allh['Station_Id_C'].apply(lambda s : str(s))"
   ]
  },
  {
   "cell_type": "code",
   "execution_count": 7,
   "metadata": {},
   "outputs": [],
   "source": [
    "data_allh['Year']=data_allh['Year'].apply(lambda s : str(s))"
   ]
  },
  {
   "cell_type": "code",
   "execution_count": 8,
   "metadata": {},
   "outputs": [],
   "source": [
    "data_allh['Mon']=data_allh['Mon'].apply(lambda s : str(s))"
   ]
  },
  {
   "cell_type": "code",
   "execution_count": 9,
   "metadata": {},
   "outputs": [],
   "source": [
    "data_allh['Day']=data_allh['Day'].apply(lambda s : str(s))"
   ]
  },
  {
   "cell_type": "code",
   "execution_count": 10,
   "metadata": {},
   "outputs": [],
   "source": [
    "data_allh['SYMD']=data_allh['Station_Id_C']+'-'+data_allh['Year']+'-'+data_allh['Mon']+'-'+data_allh['Day']"
   ]
  },
  {
   "cell_type": "code",
   "execution_count": 11,
   "metadata": {},
   "outputs": [],
   "source": [
    "valid=data_allh['SYMD'].value_counts()\n",
    "valid1=valid.to_frame('SYMD_count')"
   ]
  },
  {
   "cell_type": "code",
   "execution_count": 12,
   "metadata": {},
   "outputs": [],
   "source": [
    "data_allh1=pd.merge(data_allh,valid1,left_on='SYMD',right_index=True)"
   ]
  },
  {
   "cell_type": "code",
   "execution_count": 13,
   "metadata": {},
   "outputs": [],
   "source": [
    "data_allh1.to_csv('F:\\\\weather\\\\data_allh1.txt',index=False,sep='\\t',encoding='utf_8_sig')"
   ]
  },
  {
   "cell_type": "code",
   "execution_count": null,
   "metadata": {},
   "outputs": [],
   "source": []
  },
  {
   "cell_type": "code",
   "execution_count": 3,
   "metadata": {},
   "outputs": [],
   "source": [
    "data_allh1=pd.read_table(path+'data_allh1.txt',sep='\\t')"
   ]
  },
  {
   "cell_type": "code",
   "execution_count": 4,
   "metadata": {},
   "outputs": [],
   "source": [
    "data_allhf=data_allh1[data_allh1['SYMD_count']>=16]"
   ]
  },
  {
   "cell_type": "code",
   "execution_count": 6,
   "metadata": {},
   "outputs": [
    {
     "data": {
      "text/html": [
       "<div>\n",
       "<style scoped>\n",
       "    .dataframe tbody tr th:only-of-type {\n",
       "        vertical-align: middle;\n",
       "    }\n",
       "\n",
       "    .dataframe tbody tr th {\n",
       "        vertical-align: top;\n",
       "    }\n",
       "\n",
       "    .dataframe thead th {\n",
       "        text-align: right;\n",
       "    }\n",
       "</style>\n",
       "<table border=\"1\" class=\"dataframe\">\n",
       "  <thead>\n",
       "    <tr style=\"text-align: right;\">\n",
       "      <th></th>\n",
       "      <th>Station_Id_C</th>\n",
       "      <th>Year</th>\n",
       "      <th>Mon</th>\n",
       "      <th>Day</th>\n",
       "      <th>Hour</th>\n",
       "      <th>RHU</th>\n",
       "      <th>TEM</th>\n",
       "      <th>TEM_Max</th>\n",
       "      <th>TEM_Min</th>\n",
       "      <th>省份</th>\n",
       "      <th>Area</th>\n",
       "      <th>valid1</th>\n",
       "      <th>valid2</th>\n",
       "      <th>SYMD</th>\n",
       "      <th>SYMD_count</th>\n",
       "    </tr>\n",
       "  </thead>\n",
       "  <tbody>\n",
       "    <tr>\n",
       "      <th>0</th>\n",
       "      <td>58361</td>\n",
       "      <td>2015.0</td>\n",
       "      <td>12.0</td>\n",
       "      <td>30.0</td>\n",
       "      <td>0.0</td>\n",
       "      <td>96</td>\n",
       "      <td>4.2</td>\n",
       "      <td>4.2</td>\n",
       "      <td>2.5</td>\n",
       "      <td>上海</td>\n",
       "      <td>huadong</td>\n",
       "      <td>0.0</td>\n",
       "      <td>1.7</td>\n",
       "      <td>58361-2015.0-12.0-30.0</td>\n",
       "      <td>24</td>\n",
       "    </tr>\n",
       "    <tr>\n",
       "      <th>1</th>\n",
       "      <td>58361</td>\n",
       "      <td>2015.0</td>\n",
       "      <td>12.0</td>\n",
       "      <td>30.0</td>\n",
       "      <td>1.0</td>\n",
       "      <td>77</td>\n",
       "      <td>7.7</td>\n",
       "      <td>7.7</td>\n",
       "      <td>4.2</td>\n",
       "      <td>上海</td>\n",
       "      <td>huadong</td>\n",
       "      <td>0.0</td>\n",
       "      <td>3.5</td>\n",
       "      <td>58361-2015.0-12.0-30.0</td>\n",
       "      <td>24</td>\n",
       "    </tr>\n",
       "    <tr>\n",
       "      <th>2</th>\n",
       "      <td>58361</td>\n",
       "      <td>2015.0</td>\n",
       "      <td>12.0</td>\n",
       "      <td>30.0</td>\n",
       "      <td>2.0</td>\n",
       "      <td>70</td>\n",
       "      <td>9.4</td>\n",
       "      <td>9.5</td>\n",
       "      <td>7.7</td>\n",
       "      <td>上海</td>\n",
       "      <td>huadong</td>\n",
       "      <td>0.1</td>\n",
       "      <td>1.7</td>\n",
       "      <td>58361-2015.0-12.0-30.0</td>\n",
       "      <td>24</td>\n",
       "    </tr>\n",
       "    <tr>\n",
       "      <th>3</th>\n",
       "      <td>58361</td>\n",
       "      <td>2015.0</td>\n",
       "      <td>12.0</td>\n",
       "      <td>30.0</td>\n",
       "      <td>3.0</td>\n",
       "      <td>62</td>\n",
       "      <td>10.5</td>\n",
       "      <td>10.6</td>\n",
       "      <td>9.4</td>\n",
       "      <td>上海</td>\n",
       "      <td>huadong</td>\n",
       "      <td>0.1</td>\n",
       "      <td>1.1</td>\n",
       "      <td>58361-2015.0-12.0-30.0</td>\n",
       "      <td>24</td>\n",
       "    </tr>\n",
       "    <tr>\n",
       "      <th>4</th>\n",
       "      <td>58361</td>\n",
       "      <td>2015.0</td>\n",
       "      <td>12.0</td>\n",
       "      <td>30.0</td>\n",
       "      <td>4.0</td>\n",
       "      <td>55</td>\n",
       "      <td>11.4</td>\n",
       "      <td>11.5</td>\n",
       "      <td>10.5</td>\n",
       "      <td>上海</td>\n",
       "      <td>huadong</td>\n",
       "      <td>0.1</td>\n",
       "      <td>0.9</td>\n",
       "      <td>58361-2015.0-12.0-30.0</td>\n",
       "      <td>24</td>\n",
       "    </tr>\n",
       "  </tbody>\n",
       "</table>\n",
       "</div>"
      ],
      "text/plain": [
       "   Station_Id_C    Year   Mon   Day  Hour  RHU   TEM  TEM_Max  TEM_Min  省份  \\\n",
       "0         58361  2015.0  12.0  30.0   0.0   96   4.2      4.2      2.5  上海   \n",
       "1         58361  2015.0  12.0  30.0   1.0   77   7.7      7.7      4.2  上海   \n",
       "2         58361  2015.0  12.0  30.0   2.0   70   9.4      9.5      7.7  上海   \n",
       "3         58361  2015.0  12.0  30.0   3.0   62  10.5     10.6      9.4  上海   \n",
       "4         58361  2015.0  12.0  30.0   4.0   55  11.4     11.5     10.5  上海   \n",
       "\n",
       "      Area  valid1  valid2                    SYMD  SYMD_count  \n",
       "0  huadong     0.0     1.7  58361-2015.0-12.0-30.0          24  \n",
       "1  huadong     0.0     3.5  58361-2015.0-12.0-30.0          24  \n",
       "2  huadong     0.1     1.7  58361-2015.0-12.0-30.0          24  \n",
       "3  huadong     0.1     1.1  58361-2015.0-12.0-30.0          24  \n",
       "4  huadong     0.1     0.9  58361-2015.0-12.0-30.0          24  "
      ]
     },
     "execution_count": 6,
     "metadata": {},
     "output_type": "execute_result"
    }
   ],
   "source": [
    "data_allhf.head()"
   ]
  },
  {
   "cell_type": "code",
   "execution_count": 5,
   "metadata": {},
   "outputs": [
    {
     "data": {
      "text/plain": [
       "29372794"
      ]
     },
     "execution_count": 5,
     "metadata": {},
     "output_type": "execute_result"
    }
   ],
   "source": [
    "data_allhf['Station_Id_C'].count()"
   ]
  },
  {
   "cell_type": "code",
   "execution_count": 7,
   "metadata": {},
   "outputs": [],
   "source": [
    "data_allhf.to_csv('F:\\\\weather\\\\data_allhf.txt',index=False,sep='\\t',encoding='utf_8_sig')"
   ]
  },
  {
   "cell_type": "markdown",
   "metadata": {},
   "source": [
    "保留了足够重复数据29,372,794行"
   ]
  },
  {
   "cell_type": "markdown",
   "metadata": {},
   "source": [
    "__统计“测定站-年-月”，当月数据量≥15天以上保留（总共28-31条），其余剔除__"
   ]
  },
  {
   "cell_type": "code",
   "execution_count": 227,
   "metadata": {},
   "outputs": [],
   "source": [
    "# data_bjd=data_bjhf[:]\n",
    "\n",
    "# data_bjd['SYM']=data_bjd['Station_Id_C']+'-'+data_bjd['Year']+'-'+data_bjd['Mon']\n",
    "\n",
    "# data_bjd1=data_bjd.drop_duplicates('SYMD',keep='first')\n",
    "\n",
    "# valid=data_bjd1['SYM'].value_counts()\n",
    "# valid1=valid.to_frame('SYM_count')\n",
    "\n",
    "# data_bjd2=pd.merge(data_bjd,valid1,left_on='SYM',right_index=True,how='left')\n",
    "\n",
    "# data_bjdf=data_bjd2[data_bjd2['SYM_count']>=15]\n",
    "\n",
    "# data_bjdf.info()"
   ]
  },
  {
   "cell_type": "markdown",
   "metadata": {},
   "source": [
    "保留了足够重复数据154,408行。"
   ]
  },
  {
   "cell_type": "code",
   "execution_count": 4,
   "metadata": {},
   "outputs": [],
   "source": [
    "data_allhf=pd.read_table(path+'data_allhf.txt',sep='\\t')"
   ]
  },
  {
   "cell_type": "markdown",
   "metadata": {},
   "source": [
    "__计算北京市温湿度指数（THI），取平均温度计算。计算公式：THI=0.81*温度+(0.99*温度-14.3)*相对湿度/100+46.3__"
   ]
  },
  {
   "cell_type": "code",
   "execution_count": 14,
   "metadata": {},
   "outputs": [],
   "source": [
    "data_all_final=data_allhf[['Station_Id_C','Year','Mon','Day','Hour','RHU','TEM','TEM_Max','TEM_Min','省份','Area']]"
   ]
  },
  {
   "cell_type": "code",
   "execution_count": 15,
   "metadata": {},
   "outputs": [
    {
     "name": "stderr",
     "output_type": "stream",
     "text": [
      "E:\\Anaconda\\lib\\site-packages\\ipykernel_launcher.py:1: SettingWithCopyWarning: \n",
      "A value is trying to be set on a copy of a slice from a DataFrame.\n",
      "Try using .loc[row_indexer,col_indexer] = value instead\n",
      "\n",
      "See the caveats in the documentation: http://pandas.pydata.org/pandas-docs/stable/indexing.html#indexing-view-versus-copy\n",
      "  \"\"\"Entry point for launching an IPython kernel.\n"
     ]
    }
   ],
   "source": [
    "data_all_final['Year']=data_all_final['Year'].apply(lambda s :float(s))"
   ]
  },
  {
   "cell_type": "code",
   "execution_count": 16,
   "metadata": {},
   "outputs": [
    {
     "name": "stderr",
     "output_type": "stream",
     "text": [
      "E:\\Anaconda\\lib\\site-packages\\ipykernel_launcher.py:1: SettingWithCopyWarning: \n",
      "A value is trying to be set on a copy of a slice from a DataFrame.\n",
      "Try using .loc[row_indexer,col_indexer] = value instead\n",
      "\n",
      "See the caveats in the documentation: http://pandas.pydata.org/pandas-docs/stable/indexing.html#indexing-view-versus-copy\n",
      "  \"\"\"Entry point for launching an IPython kernel.\n"
     ]
    }
   ],
   "source": [
    "data_all_final['Mon']=data_all_final['Mon'].apply(lambda s :float(s))"
   ]
  },
  {
   "cell_type": "code",
   "execution_count": 17,
   "metadata": {},
   "outputs": [
    {
     "name": "stderr",
     "output_type": "stream",
     "text": [
      "E:\\Anaconda\\lib\\site-packages\\ipykernel_launcher.py:1: SettingWithCopyWarning: \n",
      "A value is trying to be set on a copy of a slice from a DataFrame.\n",
      "Try using .loc[row_indexer,col_indexer] = value instead\n",
      "\n",
      "See the caveats in the documentation: http://pandas.pydata.org/pandas-docs/stable/indexing.html#indexing-view-versus-copy\n",
      "  \"\"\"Entry point for launching an IPython kernel.\n"
     ]
    }
   ],
   "source": [
    "data_all_final['Day']=data_all_final['Day'].apply(lambda s :float(s))"
   ]
  },
  {
   "cell_type": "code",
   "execution_count": 18,
   "metadata": {},
   "outputs": [
    {
     "name": "stderr",
     "output_type": "stream",
     "text": [
      "E:\\Anaconda\\lib\\site-packages\\ipykernel_launcher.py:1: SettingWithCopyWarning: \n",
      "A value is trying to be set on a copy of a slice from a DataFrame.\n",
      "Try using .loc[row_indexer,col_indexer] = value instead\n",
      "\n",
      "See the caveats in the documentation: http://pandas.pydata.org/pandas-docs/stable/indexing.html#indexing-view-versus-copy\n",
      "  \"\"\"Entry point for launching an IPython kernel.\n"
     ]
    }
   ],
   "source": [
    "data_all_final['THI']=0.81*data_all_final['TEM']+(0.99*data_all_final['TEM']-14.3)*(data_all_final['RHU']/100)+46.3"
   ]
  },
  {
   "cell_type": "code",
   "execution_count": 19,
   "metadata": {},
   "outputs": [
    {
     "data": {
      "text/html": [
       "<div>\n",
       "<style scoped>\n",
       "    .dataframe tbody tr th:only-of-type {\n",
       "        vertical-align: middle;\n",
       "    }\n",
       "\n",
       "    .dataframe tbody tr th {\n",
       "        vertical-align: top;\n",
       "    }\n",
       "\n",
       "    .dataframe thead th {\n",
       "        text-align: right;\n",
       "    }\n",
       "</style>\n",
       "<table border=\"1\" class=\"dataframe\">\n",
       "  <thead>\n",
       "    <tr style=\"text-align: right;\">\n",
       "      <th></th>\n",
       "      <th>Station_Id_C</th>\n",
       "      <th>Year</th>\n",
       "      <th>Mon</th>\n",
       "      <th>Day</th>\n",
       "      <th>Hour</th>\n",
       "      <th>RHU</th>\n",
       "      <th>TEM</th>\n",
       "      <th>TEM_Max</th>\n",
       "      <th>TEM_Min</th>\n",
       "      <th>省份</th>\n",
       "      <th>Area</th>\n",
       "      <th>THI</th>\n",
       "    </tr>\n",
       "  </thead>\n",
       "  <tbody>\n",
       "    <tr>\n",
       "      <th>0</th>\n",
       "      <td>58361</td>\n",
       "      <td>2015.0</td>\n",
       "      <td>12.0</td>\n",
       "      <td>30.0</td>\n",
       "      <td>0.0</td>\n",
       "      <td>96</td>\n",
       "      <td>4.2</td>\n",
       "      <td>4.2</td>\n",
       "      <td>2.5</td>\n",
       "      <td>上海</td>\n",
       "      <td>huadong</td>\n",
       "      <td>39.96568</td>\n",
       "    </tr>\n",
       "    <tr>\n",
       "      <th>1</th>\n",
       "      <td>58361</td>\n",
       "      <td>2015.0</td>\n",
       "      <td>12.0</td>\n",
       "      <td>30.0</td>\n",
       "      <td>1.0</td>\n",
       "      <td>77</td>\n",
       "      <td>7.7</td>\n",
       "      <td>7.7</td>\n",
       "      <td>4.2</td>\n",
       "      <td>上海</td>\n",
       "      <td>huadong</td>\n",
       "      <td>47.39571</td>\n",
       "    </tr>\n",
       "    <tr>\n",
       "      <th>2</th>\n",
       "      <td>58361</td>\n",
       "      <td>2015.0</td>\n",
       "      <td>12.0</td>\n",
       "      <td>30.0</td>\n",
       "      <td>2.0</td>\n",
       "      <td>70</td>\n",
       "      <td>9.4</td>\n",
       "      <td>9.5</td>\n",
       "      <td>7.7</td>\n",
       "      <td>上海</td>\n",
       "      <td>huadong</td>\n",
       "      <td>50.41820</td>\n",
       "    </tr>\n",
       "    <tr>\n",
       "      <th>3</th>\n",
       "      <td>58361</td>\n",
       "      <td>2015.0</td>\n",
       "      <td>12.0</td>\n",
       "      <td>30.0</td>\n",
       "      <td>3.0</td>\n",
       "      <td>62</td>\n",
       "      <td>10.5</td>\n",
       "      <td>10.6</td>\n",
       "      <td>9.4</td>\n",
       "      <td>上海</td>\n",
       "      <td>huadong</td>\n",
       "      <td>52.38390</td>\n",
       "    </tr>\n",
       "    <tr>\n",
       "      <th>4</th>\n",
       "      <td>58361</td>\n",
       "      <td>2015.0</td>\n",
       "      <td>12.0</td>\n",
       "      <td>30.0</td>\n",
       "      <td>4.0</td>\n",
       "      <td>55</td>\n",
       "      <td>11.4</td>\n",
       "      <td>11.5</td>\n",
       "      <td>10.5</td>\n",
       "      <td>上海</td>\n",
       "      <td>huadong</td>\n",
       "      <td>53.87630</td>\n",
       "    </tr>\n",
       "  </tbody>\n",
       "</table>\n",
       "</div>"
      ],
      "text/plain": [
       "   Station_Id_C    Year   Mon   Day  Hour  RHU   TEM  TEM_Max  TEM_Min  省份  \\\n",
       "0         58361  2015.0  12.0  30.0   0.0   96   4.2      4.2      2.5  上海   \n",
       "1         58361  2015.0  12.0  30.0   1.0   77   7.7      7.7      4.2  上海   \n",
       "2         58361  2015.0  12.0  30.0   2.0   70   9.4      9.5      7.7  上海   \n",
       "3         58361  2015.0  12.0  30.0   3.0   62  10.5     10.6      9.4  上海   \n",
       "4         58361  2015.0  12.0  30.0   4.0   55  11.4     11.5     10.5  上海   \n",
       "\n",
       "      Area       THI  \n",
       "0  huadong  39.96568  \n",
       "1  huadong  47.39571  \n",
       "2  huadong  50.41820  \n",
       "3  huadong  52.38390  \n",
       "4  huadong  53.87630  "
      ]
     },
     "execution_count": 19,
     "metadata": {},
     "output_type": "execute_result"
    }
   ],
   "source": [
    "data_all_final.head()"
   ]
  },
  {
   "cell_type": "code",
   "execution_count": 11,
   "metadata": {},
   "outputs": [
    {
     "name": "stdout",
     "output_type": "stream",
     "text": [
      "<class 'pandas.core.frame.DataFrame'>\n",
      "RangeIndex: 29372794 entries, 0 to 29372793\n",
      "Data columns (total 10 columns):\n",
      "Station_Id_C    int64\n",
      "Year            float64\n",
      "Mon             float64\n",
      "Day             float64\n",
      "Hour            float64\n",
      "RHU             int64\n",
      "TEM             float64\n",
      "TEM_Max         float64\n",
      "TEM_Min         float64\n",
      "THI             float64\n",
      "dtypes: float64(8), int64(2)\n",
      "memory usage: 2.2 GB\n"
     ]
    }
   ],
   "source": [
    "data_all_final.info()"
   ]
  },
  {
   "cell_type": "code",
   "execution_count": 20,
   "metadata": {},
   "outputs": [],
   "source": [
    "data_all_final.to_csv(\"F:\\\\weather\\\\all-plot.csv\",index=False,sep=',')"
   ]
  },
  {
   "cell_type": "code",
   "execution_count": null,
   "metadata": {},
   "outputs": [],
   "source": []
  },
  {
   "cell_type": "markdown",
   "metadata": {},
   "source": [
    "## 画图前数据整合"
   ]
  },
  {
   "cell_type": "markdown",
   "metadata": {},
   "source": [
    "__堆叠柱状图反映365天中THI的变化__"
   ]
  },
  {
   "cell_type": "markdown",
   "metadata": {},
   "source": [
    "### 华东"
   ]
  },
  {
   "cell_type": "code",
   "execution_count": 25,
   "metadata": {},
   "outputs": [],
   "source": [
    "huadong=data_all_final[data_all_final['Area']=='huadong']"
   ]
  },
  {
   "cell_type": "code",
   "execution_count": 26,
   "metadata": {},
   "outputs": [
    {
     "name": "stdout",
     "output_type": "stream",
     "text": [
      "<class 'pandas.core.frame.DataFrame'>\n",
      "Int64Index: 7147835 entries, 0 to 7147834\n",
      "Data columns (total 12 columns):\n",
      "Station_Id_C    int64\n",
      "Year            float64\n",
      "Mon             float64\n",
      "Day             float64\n",
      "Hour            float64\n",
      "RHU             int64\n",
      "TEM             float64\n",
      "TEM_Max         float64\n",
      "TEM_Min         float64\n",
      "省份              object\n",
      "Area            object\n",
      "THI             float64\n",
      "dtypes: float64(8), int64(2), object(2)\n",
      "memory usage: 708.9+ MB\n"
     ]
    }
   ],
   "source": [
    "huadong.info()"
   ]
  },
  {
   "cell_type": "code",
   "execution_count": 44,
   "metadata": {
    "scrolled": true
   },
   "outputs": [
    {
     "name": "stderr",
     "output_type": "stream",
     "text": [
      "E:\\Anaconda\\lib\\site-packages\\ipykernel_launcher.py:1: SettingWithCopyWarning: \n",
      "A value is trying to be set on a copy of a slice from a DataFrame.\n",
      "Try using .loc[row_indexer,col_indexer] = value instead\n",
      "\n",
      "See the caveats in the documentation: http://pandas.pydata.org/pandas-docs/stable/indexing.html#indexing-view-versus-copy\n",
      "  \"\"\"Entry point for launching an IPython kernel.\n",
      "E:\\Anaconda\\lib\\site-packages\\ipykernel_launcher.py:2: SettingWithCopyWarning: \n",
      "A value is trying to be set on a copy of a slice from a DataFrame.\n",
      "Try using .loc[row_indexer,col_indexer] = value instead\n",
      "\n",
      "See the caveats in the documentation: http://pandas.pydata.org/pandas-docs/stable/indexing.html#indexing-view-versus-copy\n",
      "  \n",
      "E:\\Anaconda\\lib\\site-packages\\ipykernel_launcher.py:3: SettingWithCopyWarning: \n",
      "A value is trying to be set on a copy of a slice from a DataFrame.\n",
      "Try using .loc[row_indexer,col_indexer] = value instead\n",
      "\n",
      "See the caveats in the documentation: http://pandas.pydata.org/pandas-docs/stable/indexing.html#indexing-view-versus-copy\n",
      "  This is separate from the ipykernel package so we can avoid doing imports until\n",
      "E:\\Anaconda\\lib\\site-packages\\ipykernel_launcher.py:4: SettingWithCopyWarning: \n",
      "A value is trying to be set on a copy of a slice from a DataFrame.\n",
      "Try using .loc[row_indexer,col_indexer] = value instead\n",
      "\n",
      "See the caveats in the documentation: http://pandas.pydata.org/pandas-docs/stable/indexing.html#indexing-view-versus-copy\n",
      "  after removing the cwd from sys.path.\n"
     ]
    }
   ],
   "source": [
    "huadong['THI']=list(map(lambda s: float(s),huadong['THI']))\n",
    "huadong['Mon']=list(map(lambda s: int(s),huadong['Mon']))\n",
    "huadong['Day']=list(map(lambda s: int(s),huadong['Day']))\n",
    "huadong['Year']=list(map(lambda s: int(s),huadong['Year']))"
   ]
  },
  {
   "cell_type": "code",
   "execution_count": 45,
   "metadata": {},
   "outputs": [],
   "source": [
    "huadong_y=huadong[huadong['THI']<=100] #删除THI异常值"
   ]
  },
  {
   "cell_type": "code",
   "execution_count": 48,
   "metadata": {},
   "outputs": [
    {
     "name": "stderr",
     "output_type": "stream",
     "text": [
      "E:\\Anaconda\\lib\\site-packages\\ipykernel_launcher.py:1: SettingWithCopyWarning: \n",
      "A value is trying to be set on a copy of a slice from a DataFrame.\n",
      "Try using .loc[row_indexer,col_indexer] = value instead\n",
      "\n",
      "See the caveats in the documentation: http://pandas.pydata.org/pandas-docs/stable/indexing.html#indexing-view-versus-copy\n",
      "  \"\"\"Entry point for launching an IPython kernel.\n",
      "E:\\Anaconda\\lib\\site-packages\\ipykernel_launcher.py:2: SettingWithCopyWarning: \n",
      "A value is trying to be set on a copy of a slice from a DataFrame.\n",
      "Try using .loc[row_indexer,col_indexer] = value instead\n",
      "\n",
      "See the caveats in the documentation: http://pandas.pydata.org/pandas-docs/stable/indexing.html#indexing-view-versus-copy\n",
      "  \n",
      "E:\\Anaconda\\lib\\site-packages\\ipykernel_launcher.py:3: SettingWithCopyWarning: \n",
      "A value is trying to be set on a copy of a slice from a DataFrame.\n",
      "Try using .loc[row_indexer,col_indexer] = value instead\n",
      "\n",
      "See the caveats in the documentation: http://pandas.pydata.org/pandas-docs/stable/indexing.html#indexing-view-versus-copy\n",
      "  This is separate from the ipykernel package so we can avoid doing imports until\n"
     ]
    }
   ],
   "source": [
    "huadong_y['Mon']=list(map(lambda s: str(s),huadong_y['Mon']))\n",
    "huadong_y['Day']=list(map(lambda s: str(s),huadong_y['Day']))\n",
    "huadong_y['Year']=list(map(lambda s: str(s),huadong_y['Year']))"
   ]
  },
  {
   "cell_type": "code",
   "execution_count": 49,
   "metadata": {},
   "outputs": [
    {
     "name": "stderr",
     "output_type": "stream",
     "text": [
      "E:\\Anaconda\\lib\\site-packages\\ipykernel_launcher.py:1: SettingWithCopyWarning: \n",
      "A value is trying to be set on a copy of a slice from a DataFrame.\n",
      "Try using .loc[row_indexer,col_indexer] = value instead\n",
      "\n",
      "See the caveats in the documentation: http://pandas.pydata.org/pandas-docs/stable/indexing.html#indexing-view-versus-copy\n",
      "  \"\"\"Entry point for launching an IPython kernel.\n"
     ]
    }
   ],
   "source": [
    "huadong_y['Y-M-D']=huadong_y['Year']+'-'+huadong_y['Mon']+'-'+huadong_y['Day']"
   ]
  },
  {
   "cell_type": "code",
   "execution_count": 50,
   "metadata": {},
   "outputs": [],
   "source": [
    "mean_THI_hd=huadong_y['THI'].groupby([huadong_y['Y-M-D']]).mean()"
   ]
  },
  {
   "cell_type": "code",
   "execution_count": 51,
   "metadata": {},
   "outputs": [],
   "source": [
    "m_THI_hd=mean_THI_hd.to_frame('mean_THI')"
   ]
  },
  {
   "cell_type": "code",
   "execution_count": 52,
   "metadata": {},
   "outputs": [],
   "source": [
    "huadong_f=pd.merge(huadong_y,m_THI_hd,left_on='Y-M-D',right_index=True)"
   ]
  },
  {
   "cell_type": "code",
   "execution_count": 53,
   "metadata": {},
   "outputs": [
    {
     "data": {
      "text/html": [
       "<div>\n",
       "<style scoped>\n",
       "    .dataframe tbody tr th:only-of-type {\n",
       "        vertical-align: middle;\n",
       "    }\n",
       "\n",
       "    .dataframe tbody tr th {\n",
       "        vertical-align: top;\n",
       "    }\n",
       "\n",
       "    .dataframe thead th {\n",
       "        text-align: right;\n",
       "    }\n",
       "</style>\n",
       "<table border=\"1\" class=\"dataframe\">\n",
       "  <thead>\n",
       "    <tr style=\"text-align: right;\">\n",
       "      <th></th>\n",
       "      <th>Station_Id_C</th>\n",
       "      <th>Year</th>\n",
       "      <th>Mon</th>\n",
       "      <th>Day</th>\n",
       "      <th>Hour</th>\n",
       "      <th>RHU</th>\n",
       "      <th>TEM</th>\n",
       "      <th>TEM_Max</th>\n",
       "      <th>TEM_Min</th>\n",
       "      <th>省份</th>\n",
       "      <th>Area</th>\n",
       "      <th>THI</th>\n",
       "      <th>Y-M-D</th>\n",
       "      <th>mean_THI</th>\n",
       "    </tr>\n",
       "  </thead>\n",
       "  <tbody>\n",
       "    <tr>\n",
       "      <th>0</th>\n",
       "      <td>58361</td>\n",
       "      <td>2015</td>\n",
       "      <td>12</td>\n",
       "      <td>30</td>\n",
       "      <td>0.0</td>\n",
       "      <td>96</td>\n",
       "      <td>4.2</td>\n",
       "      <td>4.2</td>\n",
       "      <td>2.5</td>\n",
       "      <td>上海</td>\n",
       "      <td>huadong</td>\n",
       "      <td>39.96568</td>\n",
       "      <td>2015-12-30</td>\n",
       "      <td>44.325135</td>\n",
       "    </tr>\n",
       "    <tr>\n",
       "      <th>1</th>\n",
       "      <td>58361</td>\n",
       "      <td>2015</td>\n",
       "      <td>12</td>\n",
       "      <td>30</td>\n",
       "      <td>1.0</td>\n",
       "      <td>77</td>\n",
       "      <td>7.7</td>\n",
       "      <td>7.7</td>\n",
       "      <td>4.2</td>\n",
       "      <td>上海</td>\n",
       "      <td>huadong</td>\n",
       "      <td>47.39571</td>\n",
       "      <td>2015-12-30</td>\n",
       "      <td>44.325135</td>\n",
       "    </tr>\n",
       "    <tr>\n",
       "      <th>2</th>\n",
       "      <td>58361</td>\n",
       "      <td>2015</td>\n",
       "      <td>12</td>\n",
       "      <td>30</td>\n",
       "      <td>2.0</td>\n",
       "      <td>70</td>\n",
       "      <td>9.4</td>\n",
       "      <td>9.5</td>\n",
       "      <td>7.7</td>\n",
       "      <td>上海</td>\n",
       "      <td>huadong</td>\n",
       "      <td>50.41820</td>\n",
       "      <td>2015-12-30</td>\n",
       "      <td>44.325135</td>\n",
       "    </tr>\n",
       "    <tr>\n",
       "      <th>3</th>\n",
       "      <td>58361</td>\n",
       "      <td>2015</td>\n",
       "      <td>12</td>\n",
       "      <td>30</td>\n",
       "      <td>3.0</td>\n",
       "      <td>62</td>\n",
       "      <td>10.5</td>\n",
       "      <td>10.6</td>\n",
       "      <td>9.4</td>\n",
       "      <td>上海</td>\n",
       "      <td>huadong</td>\n",
       "      <td>52.38390</td>\n",
       "      <td>2015-12-30</td>\n",
       "      <td>44.325135</td>\n",
       "    </tr>\n",
       "    <tr>\n",
       "      <th>4</th>\n",
       "      <td>58361</td>\n",
       "      <td>2015</td>\n",
       "      <td>12</td>\n",
       "      <td>30</td>\n",
       "      <td>4.0</td>\n",
       "      <td>55</td>\n",
       "      <td>11.4</td>\n",
       "      <td>11.5</td>\n",
       "      <td>10.5</td>\n",
       "      <td>上海</td>\n",
       "      <td>huadong</td>\n",
       "      <td>53.87630</td>\n",
       "      <td>2015-12-30</td>\n",
       "      <td>44.325135</td>\n",
       "    </tr>\n",
       "  </tbody>\n",
       "</table>\n",
       "</div>"
      ],
      "text/plain": [
       "   Station_Id_C  Year Mon Day  Hour  RHU   TEM  TEM_Max  TEM_Min  省份     Area  \\\n",
       "0         58361  2015  12  30   0.0   96   4.2      4.2      2.5  上海  huadong   \n",
       "1         58361  2015  12  30   1.0   77   7.7      7.7      4.2  上海  huadong   \n",
       "2         58361  2015  12  30   2.0   70   9.4      9.5      7.7  上海  huadong   \n",
       "3         58361  2015  12  30   3.0   62  10.5     10.6      9.4  上海  huadong   \n",
       "4         58361  2015  12  30   4.0   55  11.4     11.5     10.5  上海  huadong   \n",
       "\n",
       "        THI       Y-M-D   mean_THI  \n",
       "0  39.96568  2015-12-30  44.325135  \n",
       "1  47.39571  2015-12-30  44.325135  \n",
       "2  50.41820  2015-12-30  44.325135  \n",
       "3  52.38390  2015-12-30  44.325135  \n",
       "4  53.87630  2015-12-30  44.325135  "
      ]
     },
     "execution_count": 53,
     "metadata": {},
     "output_type": "execute_result"
    }
   ],
   "source": [
    "huadong_f.head()"
   ]
  },
  {
   "cell_type": "code",
   "execution_count": 55,
   "metadata": {
    "scrolled": true
   },
   "outputs": [],
   "source": [
    "huadong_f['Mon']=list(map(lambda s: int(s),huadong_f['Mon']))\n",
    "huadong_f['Day']=list(map(lambda s: int(s),huadong_f['Day']))"
   ]
  },
  {
   "cell_type": "code",
   "execution_count": 56,
   "metadata": {},
   "outputs": [],
   "source": [
    "huadong_f1=huadong_f.drop_duplicates(['Year','Mon','Day','mean_THI'],keep='first')[['Year','Mon','Day','mean_THI']].sort_values(by=['Year','Mon','Day'])"
   ]
  },
  {
   "cell_type": "code",
   "execution_count": 70,
   "metadata": {},
   "outputs": [],
   "source": [
    "huadong_f2=huadong_f1[(huadong_f1['Year']=='2017')|(huadong_f1['Year']=='2016')]"
   ]
  },
  {
   "cell_type": "code",
   "execution_count": 71,
   "metadata": {},
   "outputs": [
    {
     "name": "stdout",
     "output_type": "stream",
     "text": [
      "<class 'pandas.core.frame.DataFrame'>\n",
      "Int64Index: 660 entries, 48 to 15113\n",
      "Data columns (total 4 columns):\n",
      "Year        660 non-null object\n",
      "Mon         660 non-null int64\n",
      "Day         660 non-null int64\n",
      "mean_THI    660 non-null float64\n",
      "dtypes: float64(1), int64(2), object(1)\n",
      "memory usage: 25.8+ KB\n"
     ]
    }
   ],
   "source": [
    "huadong_f2.info()"
   ]
  },
  {
   "cell_type": "markdown",
   "metadata": {},
   "source": [
    "### 华北"
   ]
  },
  {
   "cell_type": "code",
   "execution_count": 58,
   "metadata": {},
   "outputs": [
    {
     "name": "stdout",
     "output_type": "stream",
     "text": [
      "<class 'pandas.core.frame.DataFrame'>\n",
      "Int64Index: 5554278 entries, 7147835 to 12702112\n",
      "Data columns (total 12 columns):\n",
      "Station_Id_C    int64\n",
      "Year            float64\n",
      "Mon             float64\n",
      "Day             float64\n",
      "Hour            float64\n",
      "RHU             int64\n",
      "TEM             float64\n",
      "TEM_Max         float64\n",
      "TEM_Min         float64\n",
      "省份              object\n",
      "Area            object\n",
      "THI             float64\n",
      "dtypes: float64(8), int64(2), object(2)\n",
      "memory usage: 550.9+ MB\n",
      "None\n",
      "--------------------------------------------------------------------------------\n"
     ]
    },
    {
     "name": "stderr",
     "output_type": "stream",
     "text": [
      "E:\\Anaconda\\lib\\site-packages\\ipykernel_launcher.py:6: SettingWithCopyWarning: \n",
      "A value is trying to be set on a copy of a slice from a DataFrame.\n",
      "Try using .loc[row_indexer,col_indexer] = value instead\n",
      "\n",
      "See the caveats in the documentation: http://pandas.pydata.org/pandas-docs/stable/indexing.html#indexing-view-versus-copy\n",
      "  \n",
      "E:\\Anaconda\\lib\\site-packages\\ipykernel_launcher.py:7: SettingWithCopyWarning: \n",
      "A value is trying to be set on a copy of a slice from a DataFrame.\n",
      "Try using .loc[row_indexer,col_indexer] = value instead\n",
      "\n",
      "See the caveats in the documentation: http://pandas.pydata.org/pandas-docs/stable/indexing.html#indexing-view-versus-copy\n",
      "  import sys\n",
      "E:\\Anaconda\\lib\\site-packages\\ipykernel_launcher.py:8: SettingWithCopyWarning: \n",
      "A value is trying to be set on a copy of a slice from a DataFrame.\n",
      "Try using .loc[row_indexer,col_indexer] = value instead\n",
      "\n",
      "See the caveats in the documentation: http://pandas.pydata.org/pandas-docs/stable/indexing.html#indexing-view-versus-copy\n",
      "  \n",
      "E:\\Anaconda\\lib\\site-packages\\ipykernel_launcher.py:9: SettingWithCopyWarning: \n",
      "A value is trying to be set on a copy of a slice from a DataFrame.\n",
      "Try using .loc[row_indexer,col_indexer] = value instead\n",
      "\n",
      "See the caveats in the documentation: http://pandas.pydata.org/pandas-docs/stable/indexing.html#indexing-view-versus-copy\n",
      "  if __name__ == '__main__':\n",
      "E:\\Anaconda\\lib\\site-packages\\ipykernel_launcher.py:13: SettingWithCopyWarning: \n",
      "A value is trying to be set on a copy of a slice from a DataFrame.\n",
      "Try using .loc[row_indexer,col_indexer] = value instead\n",
      "\n",
      "See the caveats in the documentation: http://pandas.pydata.org/pandas-docs/stable/indexing.html#indexing-view-versus-copy\n",
      "  del sys.path[0]\n",
      "E:\\Anaconda\\lib\\site-packages\\ipykernel_launcher.py:14: SettingWithCopyWarning: \n",
      "A value is trying to be set on a copy of a slice from a DataFrame.\n",
      "Try using .loc[row_indexer,col_indexer] = value instead\n",
      "\n",
      "See the caveats in the documentation: http://pandas.pydata.org/pandas-docs/stable/indexing.html#indexing-view-versus-copy\n",
      "  \n",
      "E:\\Anaconda\\lib\\site-packages\\ipykernel_launcher.py:15: SettingWithCopyWarning: \n",
      "A value is trying to be set on a copy of a slice from a DataFrame.\n",
      "Try using .loc[row_indexer,col_indexer] = value instead\n",
      "\n",
      "See the caveats in the documentation: http://pandas.pydata.org/pandas-docs/stable/indexing.html#indexing-view-versus-copy\n",
      "  from ipykernel import kernelapp as app\n",
      "E:\\Anaconda\\lib\\site-packages\\ipykernel_launcher.py:17: SettingWithCopyWarning: \n",
      "A value is trying to be set on a copy of a slice from a DataFrame.\n",
      "Try using .loc[row_indexer,col_indexer] = value instead\n",
      "\n",
      "See the caveats in the documentation: http://pandas.pydata.org/pandas-docs/stable/indexing.html#indexing-view-versus-copy\n"
     ]
    },
    {
     "name": "stdout",
     "output_type": "stream",
     "text": [
      "<class 'pandas.core.frame.DataFrame'>\n",
      "Int64Index: 670 entries, 7147883 to 7162927\n",
      "Data columns (total 4 columns):\n",
      "Year        670 non-null object\n",
      "Mon         670 non-null int64\n",
      "Day         670 non-null int64\n",
      "mean_THI    670 non-null float64\n",
      "dtypes: float64(1), int64(2), object(1)\n",
      "memory usage: 26.2+ KB\n",
      "None\n"
     ]
    }
   ],
   "source": [
    "huabei=data_all_final[data_all_final['Area']=='huabei']\n",
    "\n",
    "print(huabei.info())\n",
    "print('--'*40)\n",
    "\n",
    "huabei['THI']=list(map(lambda s: float(s),huabei['THI']))\n",
    "huabei['Mon']=list(map(lambda s: int(s),huabei['Mon']))\n",
    "huabei['Day']=list(map(lambda s: int(s),huabei['Day']))\n",
    "huabei['Year']=list(map(lambda s: int(s),huabei['Year']))\n",
    "\n",
    "huabei_y=huabei[huabei['THI']<=100] #删除THI异常值\n",
    "\n",
    "huabei_y['Mon']=list(map(lambda s: str(s),huabei_y['Mon']))\n",
    "huabei_y['Day']=list(map(lambda s: str(s),huabei_y['Day']))\n",
    "huabei_y['Year']=list(map(lambda s: str(s),huabei_y['Year']))\n",
    "\n",
    "huabei_y['Y-M-D']=huabei_y['Year']+'-'+huabei_y['Mon']+'-'+huabei_y['Day']\n",
    "\n",
    "mean_THI_hb=huabei_y['THI'].groupby([huabei_y['Y-M-D']]).mean()\n",
    "\n",
    "m_THI_hb=mean_THI_hb.to_frame('mean_THI')\n",
    "\n",
    "huabei_f=pd.merge(huabei_y,m_THI_hb,left_on='Y-M-D',right_index=True)\n",
    "\n",
    "huabei_f['Mon']=list(map(lambda s: int(s),huabei_f['Mon']))\n",
    "huabei_f['Day']=list(map(lambda s: int(s),huabei_f['Day']))\n",
    "\n",
    "huabei_f1=huabei_f.drop_duplicates(['Year','Mon','Day','mean_THI'],keep='first')[['Year','Mon','Day','mean_THI']].sort_values(by=['Year','Mon','Day'])\n",
    "\n",
    "print(huabei_f1.info())"
   ]
  },
  {
   "cell_type": "code",
   "execution_count": 72,
   "metadata": {},
   "outputs": [
    {
     "name": "stdout",
     "output_type": "stream",
     "text": [
      "<class 'pandas.core.frame.DataFrame'>\n",
      "Int64Index: 662 entries, 7147931 to 7162788\n",
      "Data columns (total 4 columns):\n",
      "Year        662 non-null object\n",
      "Mon         662 non-null int64\n",
      "Day         662 non-null int64\n",
      "mean_THI    662 non-null float64\n",
      "dtypes: float64(1), int64(2), object(1)\n",
      "memory usage: 25.9+ KB\n"
     ]
    }
   ],
   "source": [
    "huabei_f2=huabei_f1[(huabei_f1['Year']=='2017')|(huabei_f1['Year']=='2016')]\n",
    "huabei_f2.info()"
   ]
  },
  {
   "cell_type": "markdown",
   "metadata": {},
   "source": [
    "### 华南"
   ]
  },
  {
   "cell_type": "code",
   "execution_count": 59,
   "metadata": {
    "scrolled": false
   },
   "outputs": [
    {
     "name": "stdout",
     "output_type": "stream",
     "text": [
      "<class 'pandas.core.frame.DataFrame'>\n",
      "Int64Index: 2002105 entries, 16041790 to 18043894\n",
      "Data columns (total 12 columns):\n",
      "Station_Id_C    int64\n",
      "Year            float64\n",
      "Mon             float64\n",
      "Day             float64\n",
      "Hour            float64\n",
      "RHU             int64\n",
      "TEM             float64\n",
      "TEM_Max         float64\n",
      "TEM_Min         float64\n",
      "省份              object\n",
      "Area            object\n",
      "THI             float64\n",
      "dtypes: float64(8), int64(2), object(2)\n",
      "memory usage: 198.6+ MB\n",
      "None\n",
      "--------------------------------------------------------------------------------\n"
     ]
    },
    {
     "name": "stderr",
     "output_type": "stream",
     "text": [
      "E:\\Anaconda\\lib\\site-packages\\ipykernel_launcher.py:6: SettingWithCopyWarning: \n",
      "A value is trying to be set on a copy of a slice from a DataFrame.\n",
      "Try using .loc[row_indexer,col_indexer] = value instead\n",
      "\n",
      "See the caveats in the documentation: http://pandas.pydata.org/pandas-docs/stable/indexing.html#indexing-view-versus-copy\n",
      "  \n",
      "E:\\Anaconda\\lib\\site-packages\\ipykernel_launcher.py:7: SettingWithCopyWarning: \n",
      "A value is trying to be set on a copy of a slice from a DataFrame.\n",
      "Try using .loc[row_indexer,col_indexer] = value instead\n",
      "\n",
      "See the caveats in the documentation: http://pandas.pydata.org/pandas-docs/stable/indexing.html#indexing-view-versus-copy\n",
      "  import sys\n",
      "E:\\Anaconda\\lib\\site-packages\\ipykernel_launcher.py:8: SettingWithCopyWarning: \n",
      "A value is trying to be set on a copy of a slice from a DataFrame.\n",
      "Try using .loc[row_indexer,col_indexer] = value instead\n",
      "\n",
      "See the caveats in the documentation: http://pandas.pydata.org/pandas-docs/stable/indexing.html#indexing-view-versus-copy\n",
      "  \n",
      "E:\\Anaconda\\lib\\site-packages\\ipykernel_launcher.py:9: SettingWithCopyWarning: \n",
      "A value is trying to be set on a copy of a slice from a DataFrame.\n",
      "Try using .loc[row_indexer,col_indexer] = value instead\n",
      "\n",
      "See the caveats in the documentation: http://pandas.pydata.org/pandas-docs/stable/indexing.html#indexing-view-versus-copy\n",
      "  if __name__ == '__main__':\n",
      "E:\\Anaconda\\lib\\site-packages\\ipykernel_launcher.py:13: SettingWithCopyWarning: \n",
      "A value is trying to be set on a copy of a slice from a DataFrame.\n",
      "Try using .loc[row_indexer,col_indexer] = value instead\n",
      "\n",
      "See the caveats in the documentation: http://pandas.pydata.org/pandas-docs/stable/indexing.html#indexing-view-versus-copy\n",
      "  del sys.path[0]\n",
      "E:\\Anaconda\\lib\\site-packages\\ipykernel_launcher.py:14: SettingWithCopyWarning: \n",
      "A value is trying to be set on a copy of a slice from a DataFrame.\n",
      "Try using .loc[row_indexer,col_indexer] = value instead\n",
      "\n",
      "See the caveats in the documentation: http://pandas.pydata.org/pandas-docs/stable/indexing.html#indexing-view-versus-copy\n",
      "  \n",
      "E:\\Anaconda\\lib\\site-packages\\ipykernel_launcher.py:15: SettingWithCopyWarning: \n",
      "A value is trying to be set on a copy of a slice from a DataFrame.\n",
      "Try using .loc[row_indexer,col_indexer] = value instead\n",
      "\n",
      "See the caveats in the documentation: http://pandas.pydata.org/pandas-docs/stable/indexing.html#indexing-view-versus-copy\n",
      "  from ipykernel import kernelapp as app\n",
      "E:\\Anaconda\\lib\\site-packages\\ipykernel_launcher.py:17: SettingWithCopyWarning: \n",
      "A value is trying to be set on a copy of a slice from a DataFrame.\n",
      "Try using .loc[row_indexer,col_indexer] = value instead\n",
      "\n",
      "See the caveats in the documentation: http://pandas.pydata.org/pandas-docs/stable/indexing.html#indexing-view-versus-copy\n"
     ]
    },
    {
     "name": "stdout",
     "output_type": "stream",
     "text": [
      "<class 'pandas.core.frame.DataFrame'>\n",
      "Int64Index: 509 entries, 16041790 to 16053051\n",
      "Data columns (total 4 columns):\n",
      "Year        509 non-null object\n",
      "Mon         509 non-null int64\n",
      "Day         509 non-null int64\n",
      "mean_THI    509 non-null float64\n",
      "dtypes: float64(1), int64(2), object(1)\n",
      "memory usage: 19.9+ KB\n",
      "None\n"
     ]
    }
   ],
   "source": [
    "huanan=data_all_final[data_all_final['Area']=='huanan']\n",
    "\n",
    "print(huanan.info())\n",
    "print('--'*40)\n",
    "\n",
    "huanan['THI']=list(map(lambda s: float(s),huanan['THI']))\n",
    "huanan['Mon']=list(map(lambda s: int(s),huanan['Mon']))\n",
    "huanan['Day']=list(map(lambda s: int(s),huanan['Day']))\n",
    "huanan['Year']=list(map(lambda s: int(s),huanan['Year']))\n",
    "\n",
    "huanan_y=huanan[huanan['THI']<=100] #删除THI异常值\n",
    "\n",
    "huanan_y['Mon']=list(map(lambda s: str(s),huanan_y['Mon']))\n",
    "huanan_y['Day']=list(map(lambda s: str(s),huanan_y['Day']))\n",
    "huanan_y['Year']=list(map(lambda s: str(s),huanan_y['Year']))\n",
    "\n",
    "huanan_y['Y-M-D']=huanan_y['Year']+'-'+huanan_y['Mon']+'-'+huanan_y['Day']\n",
    "\n",
    "mean_THI_hn=huanan_y['THI'].groupby([huanan_y['Y-M-D']]).mean()\n",
    "\n",
    "m_THI_hn=mean_THI_hn.to_frame('mean_THI')\n",
    "\n",
    "huanan_f=pd.merge(huanan_y,m_THI_hn,left_on='Y-M-D',right_index=True)\n",
    "\n",
    "huanan_f['Mon']=list(map(lambda s: int(s),huanan_f['Mon']))\n",
    "huanan_f['Day']=list(map(lambda s: int(s),huanan_f['Day']))\n",
    "\n",
    "huanan_f1=huanan_f.drop_duplicates(['Year','Mon','Day','mean_THI'],keep='first')[['Year','Mon','Day','mean_THI']].sort_values(by=['Year','Mon','Day'])\n",
    "\n",
    "print(huanan_f1.info())"
   ]
  },
  {
   "cell_type": "code",
   "execution_count": 77,
   "metadata": {},
   "outputs": [
    {
     "name": "stdout",
     "output_type": "stream",
     "text": [
      "<class 'pandas.core.frame.DataFrame'>\n",
      "Int64Index: 506 entries, 16041838 to 16053027\n",
      "Data columns (total 4 columns):\n",
      "Year        506 non-null object\n",
      "Mon         506 non-null int64\n",
      "Day         506 non-null int64\n",
      "mean_THI    506 non-null float64\n",
      "dtypes: float64(1), int64(2), object(1)\n",
      "memory usage: 19.8+ KB\n"
     ]
    }
   ],
   "source": [
    "huanan_f2=huanan_f1[(huanan_f1['Year']=='2017')|(huanan_f1['Year']=='2016')]\n",
    "huanan_f2.info()"
   ]
  },
  {
   "cell_type": "markdown",
   "metadata": {},
   "source": [
    "### 华中"
   ]
  },
  {
   "cell_type": "code",
   "execution_count": 60,
   "metadata": {},
   "outputs": [
    {
     "name": "stdout",
     "output_type": "stream",
     "text": [
      "<class 'pandas.core.frame.DataFrame'>\n",
      "Int64Index: 3339677 entries, 12702113 to 16041789\n",
      "Data columns (total 12 columns):\n",
      "Station_Id_C    int64\n",
      "Year            float64\n",
      "Mon             float64\n",
      "Day             float64\n",
      "Hour            float64\n",
      "RHU             int64\n",
      "TEM             float64\n",
      "TEM_Max         float64\n",
      "TEM_Min         float64\n",
      "省份              object\n",
      "Area            object\n",
      "THI             float64\n",
      "dtypes: float64(8), int64(2), object(2)\n",
      "memory usage: 331.2+ MB\n",
      "None\n",
      "--------------------------------------------------------------------------------\n"
     ]
    },
    {
     "name": "stderr",
     "output_type": "stream",
     "text": [
      "E:\\Anaconda\\lib\\site-packages\\ipykernel_launcher.py:6: SettingWithCopyWarning: \n",
      "A value is trying to be set on a copy of a slice from a DataFrame.\n",
      "Try using .loc[row_indexer,col_indexer] = value instead\n",
      "\n",
      "See the caveats in the documentation: http://pandas.pydata.org/pandas-docs/stable/indexing.html#indexing-view-versus-copy\n",
      "  \n",
      "E:\\Anaconda\\lib\\site-packages\\ipykernel_launcher.py:7: SettingWithCopyWarning: \n",
      "A value is trying to be set on a copy of a slice from a DataFrame.\n",
      "Try using .loc[row_indexer,col_indexer] = value instead\n",
      "\n",
      "See the caveats in the documentation: http://pandas.pydata.org/pandas-docs/stable/indexing.html#indexing-view-versus-copy\n",
      "  import sys\n",
      "E:\\Anaconda\\lib\\site-packages\\ipykernel_launcher.py:8: SettingWithCopyWarning: \n",
      "A value is trying to be set on a copy of a slice from a DataFrame.\n",
      "Try using .loc[row_indexer,col_indexer] = value instead\n",
      "\n",
      "See the caveats in the documentation: http://pandas.pydata.org/pandas-docs/stable/indexing.html#indexing-view-versus-copy\n",
      "  \n",
      "E:\\Anaconda\\lib\\site-packages\\ipykernel_launcher.py:9: SettingWithCopyWarning: \n",
      "A value is trying to be set on a copy of a slice from a DataFrame.\n",
      "Try using .loc[row_indexer,col_indexer] = value instead\n",
      "\n",
      "See the caveats in the documentation: http://pandas.pydata.org/pandas-docs/stable/indexing.html#indexing-view-versus-copy\n",
      "  if __name__ == '__main__':\n",
      "E:\\Anaconda\\lib\\site-packages\\ipykernel_launcher.py:13: SettingWithCopyWarning: \n",
      "A value is trying to be set on a copy of a slice from a DataFrame.\n",
      "Try using .loc[row_indexer,col_indexer] = value instead\n",
      "\n",
      "See the caveats in the documentation: http://pandas.pydata.org/pandas-docs/stable/indexing.html#indexing-view-versus-copy\n",
      "  del sys.path[0]\n",
      "E:\\Anaconda\\lib\\site-packages\\ipykernel_launcher.py:14: SettingWithCopyWarning: \n",
      "A value is trying to be set on a copy of a slice from a DataFrame.\n",
      "Try using .loc[row_indexer,col_indexer] = value instead\n",
      "\n",
      "See the caveats in the documentation: http://pandas.pydata.org/pandas-docs/stable/indexing.html#indexing-view-versus-copy\n",
      "  \n",
      "E:\\Anaconda\\lib\\site-packages\\ipykernel_launcher.py:15: SettingWithCopyWarning: \n",
      "A value is trying to be set on a copy of a slice from a DataFrame.\n",
      "Try using .loc[row_indexer,col_indexer] = value instead\n",
      "\n",
      "See the caveats in the documentation: http://pandas.pydata.org/pandas-docs/stable/indexing.html#indexing-view-versus-copy\n",
      "  from ipykernel import kernelapp as app\n",
      "E:\\Anaconda\\lib\\site-packages\\ipykernel_launcher.py:17: SettingWithCopyWarning: \n",
      "A value is trying to be set on a copy of a slice from a DataFrame.\n",
      "Try using .loc[row_indexer,col_indexer] = value instead\n",
      "\n",
      "See the caveats in the documentation: http://pandas.pydata.org/pandas-docs/stable/indexing.html#indexing-view-versus-copy\n"
     ]
    },
    {
     "name": "stdout",
     "output_type": "stream",
     "text": [
      "<class 'pandas.core.frame.DataFrame'>\n",
      "Int64Index: 593 entries, 12702113 to 12715946\n",
      "Data columns (total 4 columns):\n",
      "Year        593 non-null object\n",
      "Mon         593 non-null int64\n",
      "Day         593 non-null int64\n",
      "mean_THI    593 non-null float64\n",
      "dtypes: float64(1), int64(2), object(1)\n",
      "memory usage: 23.2+ KB\n",
      "None\n"
     ]
    }
   ],
   "source": [
    "huazhong=data_all_final[data_all_final['Area']=='huazhong']\n",
    "\n",
    "print(huazhong.info())\n",
    "print('--'*40)\n",
    "\n",
    "huazhong['THI']=list(map(lambda s: float(s),huazhong['THI']))\n",
    "huazhong['Mon']=list(map(lambda s: int(s),huazhong['Mon']))\n",
    "huazhong['Day']=list(map(lambda s: int(s),huazhong['Day']))\n",
    "huazhong['Year']=list(map(lambda s: int(s),huazhong['Year']))\n",
    "\n",
    "huazhong_y=huazhong[huazhong['THI']<=100] #删除THI异常值\n",
    "\n",
    "huazhong_y['Mon']=list(map(lambda s: str(s),huazhong_y['Mon']))\n",
    "huazhong_y['Day']=list(map(lambda s: str(s),huazhong_y['Day']))\n",
    "huazhong_y['Year']=list(map(lambda s: str(s),huazhong_y['Year']))\n",
    "\n",
    "huazhong_y['Y-M-D']=huazhong_y['Year']+'-'+huazhong_y['Mon']+'-'+huazhong_y['Day']\n",
    "\n",
    "mean_THI_hz=huazhong_y['THI'].groupby([huazhong_y['Y-M-D']]).mean()\n",
    "\n",
    "m_THI_hz=mean_THI_hz.to_frame('mean_THI')\n",
    "\n",
    "huazhong_f=pd.merge(huazhong_y,m_THI_hz,left_on='Y-M-D',right_index=True)\n",
    "\n",
    "huazhong_f['Mon']=list(map(lambda s: int(s),huazhong_f['Mon']))\n",
    "huazhong_f['Day']=list(map(lambda s: int(s),huazhong_f['Day']))\n",
    "\n",
    "huazhong_f1=huazhong_f.drop_duplicates(['Year','Mon','Day','mean_THI'],keep='first')[['Year','Mon','Day','mean_THI']].sort_values(by=['Year','Mon','Day'])\n",
    "\n",
    "print(huazhong_f1.info())"
   ]
  },
  {
   "cell_type": "code",
   "execution_count": 73,
   "metadata": {},
   "outputs": [
    {
     "name": "stdout",
     "output_type": "stream",
     "text": [
      "<class 'pandas.core.frame.DataFrame'>\n",
      "Int64Index: 590 entries, 12702161 to 12715922\n",
      "Data columns (total 4 columns):\n",
      "Year        590 non-null object\n",
      "Mon         590 non-null int64\n",
      "Day         590 non-null int64\n",
      "mean_THI    590 non-null float64\n",
      "dtypes: float64(1), int64(2), object(1)\n",
      "memory usage: 23.0+ KB\n"
     ]
    }
   ],
   "source": [
    "huazhong_f2=huazhong_f1[(huazhong_f1['Year']=='2017')|(huazhong_f1['Year']=='2016')]\n",
    "huazhong_f2.info()"
   ]
  },
  {
   "cell_type": "markdown",
   "metadata": {},
   "source": [
    "### 西南"
   ]
  },
  {
   "cell_type": "code",
   "execution_count": 61,
   "metadata": {},
   "outputs": [
    {
     "name": "stdout",
     "output_type": "stream",
     "text": [
      "<class 'pandas.core.frame.DataFrame'>\n",
      "Int64Index: 4935695 entries, 21674520 to 26610214\n",
      "Data columns (total 12 columns):\n",
      "Station_Id_C    int64\n",
      "Year            float64\n",
      "Mon             float64\n",
      "Day             float64\n",
      "Hour            float64\n",
      "RHU             int64\n",
      "TEM             float64\n",
      "TEM_Max         float64\n",
      "TEM_Min         float64\n",
      "省份              object\n",
      "Area            object\n",
      "THI             float64\n",
      "dtypes: float64(8), int64(2), object(2)\n",
      "memory usage: 489.5+ MB\n",
      "None\n",
      "--------------------------------------------------------------------------------\n"
     ]
    },
    {
     "name": "stderr",
     "output_type": "stream",
     "text": [
      "E:\\Anaconda\\lib\\site-packages\\ipykernel_launcher.py:6: SettingWithCopyWarning: \n",
      "A value is trying to be set on a copy of a slice from a DataFrame.\n",
      "Try using .loc[row_indexer,col_indexer] = value instead\n",
      "\n",
      "See the caveats in the documentation: http://pandas.pydata.org/pandas-docs/stable/indexing.html#indexing-view-versus-copy\n",
      "  \n",
      "E:\\Anaconda\\lib\\site-packages\\ipykernel_launcher.py:7: SettingWithCopyWarning: \n",
      "A value is trying to be set on a copy of a slice from a DataFrame.\n",
      "Try using .loc[row_indexer,col_indexer] = value instead\n",
      "\n",
      "See the caveats in the documentation: http://pandas.pydata.org/pandas-docs/stable/indexing.html#indexing-view-versus-copy\n",
      "  import sys\n",
      "E:\\Anaconda\\lib\\site-packages\\ipykernel_launcher.py:8: SettingWithCopyWarning: \n",
      "A value is trying to be set on a copy of a slice from a DataFrame.\n",
      "Try using .loc[row_indexer,col_indexer] = value instead\n",
      "\n",
      "See the caveats in the documentation: http://pandas.pydata.org/pandas-docs/stable/indexing.html#indexing-view-versus-copy\n",
      "  \n",
      "E:\\Anaconda\\lib\\site-packages\\ipykernel_launcher.py:9: SettingWithCopyWarning: \n",
      "A value is trying to be set on a copy of a slice from a DataFrame.\n",
      "Try using .loc[row_indexer,col_indexer] = value instead\n",
      "\n",
      "See the caveats in the documentation: http://pandas.pydata.org/pandas-docs/stable/indexing.html#indexing-view-versus-copy\n",
      "  if __name__ == '__main__':\n",
      "E:\\Anaconda\\lib\\site-packages\\ipykernel_launcher.py:13: SettingWithCopyWarning: \n",
      "A value is trying to be set on a copy of a slice from a DataFrame.\n",
      "Try using .loc[row_indexer,col_indexer] = value instead\n",
      "\n",
      "See the caveats in the documentation: http://pandas.pydata.org/pandas-docs/stable/indexing.html#indexing-view-versus-copy\n",
      "  del sys.path[0]\n",
      "E:\\Anaconda\\lib\\site-packages\\ipykernel_launcher.py:14: SettingWithCopyWarning: \n",
      "A value is trying to be set on a copy of a slice from a DataFrame.\n",
      "Try using .loc[row_indexer,col_indexer] = value instead\n",
      "\n",
      "See the caveats in the documentation: http://pandas.pydata.org/pandas-docs/stable/indexing.html#indexing-view-versus-copy\n",
      "  \n",
      "E:\\Anaconda\\lib\\site-packages\\ipykernel_launcher.py:15: SettingWithCopyWarning: \n",
      "A value is trying to be set on a copy of a slice from a DataFrame.\n",
      "Try using .loc[row_indexer,col_indexer] = value instead\n",
      "\n",
      "See the caveats in the documentation: http://pandas.pydata.org/pandas-docs/stable/indexing.html#indexing-view-versus-copy\n",
      "  from ipykernel import kernelapp as app\n",
      "E:\\Anaconda\\lib\\site-packages\\ipykernel_launcher.py:17: SettingWithCopyWarning: \n",
      "A value is trying to be set on a copy of a slice from a DataFrame.\n",
      "Try using .loc[row_indexer,col_indexer] = value instead\n",
      "\n",
      "See the caveats in the documentation: http://pandas.pydata.org/pandas-docs/stable/indexing.html#indexing-view-versus-copy\n"
     ]
    },
    {
     "name": "stdout",
     "output_type": "stream",
     "text": [
      "<class 'pandas.core.frame.DataFrame'>\n",
      "Int64Index: 631 entries, 21674520 to 21687044\n",
      "Data columns (total 4 columns):\n",
      "Year        631 non-null object\n",
      "Mon         631 non-null int64\n",
      "Day         631 non-null int64\n",
      "mean_THI    631 non-null float64\n",
      "dtypes: float64(1), int64(2), object(1)\n",
      "memory usage: 24.6+ KB\n",
      "None\n"
     ]
    }
   ],
   "source": [
    "xinan=data_all_final[data_all_final['Area']=='xinan']\n",
    "\n",
    "print(xinan.info())\n",
    "print('--'*40)\n",
    "\n",
    "xinan['THI']=list(map(lambda s: float(s),xinan['THI']))\n",
    "xinan['Mon']=list(map(lambda s: int(s),xinan['Mon']))\n",
    "xinan['Day']=list(map(lambda s: int(s),xinan['Day']))\n",
    "xinan['Year']=list(map(lambda s: int(s),xinan['Year']))\n",
    "\n",
    "xinan_y=xinan[xinan['THI']<=100] #删除THI异常值\n",
    "\n",
    "xinan_y['Mon']=list(map(lambda s: str(s),xinan_y['Mon']))\n",
    "xinan_y['Day']=list(map(lambda s: str(s),xinan_y['Day']))\n",
    "xinan_y['Year']=list(map(lambda s: str(s),xinan_y['Year']))\n",
    "\n",
    "xinan_y['Y-M-D']=xinan_y['Year']+'-'+xinan_y['Mon']+'-'+xinan_y['Day']\n",
    "\n",
    "mean_THI_xn=xinan_y['THI'].groupby([xinan_y['Y-M-D']]).mean()\n",
    "\n",
    "m_THI_xn=mean_THI_xn.to_frame('mean_THI')\n",
    "\n",
    "xinan_f=pd.merge(xinan_y,m_THI_xn,left_on='Y-M-D',right_index=True)\n",
    "\n",
    "xinan_f['Mon']=list(map(lambda s: int(s),xinan_f['Mon']))\n",
    "xinan_f['Day']=list(map(lambda s: int(s),xinan_f['Day']))\n",
    "\n",
    "xinan_f1=xinan_f.drop_duplicates(['Year','Mon','Day','mean_THI'],keep='first')[['Year','Mon','Day','mean_THI']].sort_values(by=['Year','Mon','Day'])\n",
    "\n",
    "print(xinan_f1.info())"
   ]
  },
  {
   "cell_type": "code",
   "execution_count": 74,
   "metadata": {},
   "outputs": [
    {
     "name": "stdout",
     "output_type": "stream",
     "text": [
      "<class 'pandas.core.frame.DataFrame'>\n",
      "Int64Index: 628 entries, 21674568 to 21687020\n",
      "Data columns (total 4 columns):\n",
      "Year        628 non-null object\n",
      "Mon         628 non-null int64\n",
      "Day         628 non-null int64\n",
      "mean_THI    628 non-null float64\n",
      "dtypes: float64(1), int64(2), object(1)\n",
      "memory usage: 24.5+ KB\n"
     ]
    }
   ],
   "source": [
    "xinan_f2=xinan_f1[(xinan_f1['Year']=='2017')|(xinan_f1['Year']=='2016')]\n",
    "xinan_f2.info()"
   ]
  },
  {
   "cell_type": "markdown",
   "metadata": {},
   "source": [
    "### 西北"
   ]
  },
  {
   "cell_type": "code",
   "execution_count": 62,
   "metadata": {},
   "outputs": [
    {
     "name": "stdout",
     "output_type": "stream",
     "text": [
      "<class 'pandas.core.frame.DataFrame'>\n",
      "Int64Index: 3630625 entries, 18043895 to 21674519\n",
      "Data columns (total 12 columns):\n",
      "Station_Id_C    int64\n",
      "Year            float64\n",
      "Mon             float64\n",
      "Day             float64\n",
      "Hour            float64\n",
      "RHU             int64\n",
      "TEM             float64\n",
      "TEM_Max         float64\n",
      "TEM_Min         float64\n",
      "省份              object\n",
      "Area            object\n",
      "THI             float64\n",
      "dtypes: float64(8), int64(2), object(2)\n",
      "memory usage: 360.1+ MB\n",
      "None\n",
      "--------------------------------------------------------------------------------\n"
     ]
    },
    {
     "name": "stderr",
     "output_type": "stream",
     "text": [
      "E:\\Anaconda\\lib\\site-packages\\ipykernel_launcher.py:6: SettingWithCopyWarning: \n",
      "A value is trying to be set on a copy of a slice from a DataFrame.\n",
      "Try using .loc[row_indexer,col_indexer] = value instead\n",
      "\n",
      "See the caveats in the documentation: http://pandas.pydata.org/pandas-docs/stable/indexing.html#indexing-view-versus-copy\n",
      "  \n",
      "E:\\Anaconda\\lib\\site-packages\\ipykernel_launcher.py:7: SettingWithCopyWarning: \n",
      "A value is trying to be set on a copy of a slice from a DataFrame.\n",
      "Try using .loc[row_indexer,col_indexer] = value instead\n",
      "\n",
      "See the caveats in the documentation: http://pandas.pydata.org/pandas-docs/stable/indexing.html#indexing-view-versus-copy\n",
      "  import sys\n",
      "E:\\Anaconda\\lib\\site-packages\\ipykernel_launcher.py:8: SettingWithCopyWarning: \n",
      "A value is trying to be set on a copy of a slice from a DataFrame.\n",
      "Try using .loc[row_indexer,col_indexer] = value instead\n",
      "\n",
      "See the caveats in the documentation: http://pandas.pydata.org/pandas-docs/stable/indexing.html#indexing-view-versus-copy\n",
      "  \n",
      "E:\\Anaconda\\lib\\site-packages\\ipykernel_launcher.py:9: SettingWithCopyWarning: \n",
      "A value is trying to be set on a copy of a slice from a DataFrame.\n",
      "Try using .loc[row_indexer,col_indexer] = value instead\n",
      "\n",
      "See the caveats in the documentation: http://pandas.pydata.org/pandas-docs/stable/indexing.html#indexing-view-versus-copy\n",
      "  if __name__ == '__main__':\n",
      "E:\\Anaconda\\lib\\site-packages\\ipykernel_launcher.py:13: SettingWithCopyWarning: \n",
      "A value is trying to be set on a copy of a slice from a DataFrame.\n",
      "Try using .loc[row_indexer,col_indexer] = value instead\n",
      "\n",
      "See the caveats in the documentation: http://pandas.pydata.org/pandas-docs/stable/indexing.html#indexing-view-versus-copy\n",
      "  del sys.path[0]\n",
      "E:\\Anaconda\\lib\\site-packages\\ipykernel_launcher.py:14: SettingWithCopyWarning: \n",
      "A value is trying to be set on a copy of a slice from a DataFrame.\n",
      "Try using .loc[row_indexer,col_indexer] = value instead\n",
      "\n",
      "See the caveats in the documentation: http://pandas.pydata.org/pandas-docs/stable/indexing.html#indexing-view-versus-copy\n",
      "  \n",
      "E:\\Anaconda\\lib\\site-packages\\ipykernel_launcher.py:15: SettingWithCopyWarning: \n",
      "A value is trying to be set on a copy of a slice from a DataFrame.\n",
      "Try using .loc[row_indexer,col_indexer] = value instead\n",
      "\n",
      "See the caveats in the documentation: http://pandas.pydata.org/pandas-docs/stable/indexing.html#indexing-view-versus-copy\n",
      "  from ipykernel import kernelapp as app\n",
      "E:\\Anaconda\\lib\\site-packages\\ipykernel_launcher.py:17: SettingWithCopyWarning: \n",
      "A value is trying to be set on a copy of a slice from a DataFrame.\n",
      "Try using .loc[row_indexer,col_indexer] = value instead\n",
      "\n",
      "See the caveats in the documentation: http://pandas.pydata.org/pandas-docs/stable/indexing.html#indexing-view-versus-copy\n"
     ]
    },
    {
     "name": "stdout",
     "output_type": "stream",
     "text": [
      "<class 'pandas.core.frame.DataFrame'>\n",
      "Int64Index: 586 entries, 18043895 to 18056301\n",
      "Data columns (total 4 columns):\n",
      "Year        586 non-null object\n",
      "Mon         586 non-null int64\n",
      "Day         586 non-null int64\n",
      "mean_THI    586 non-null float64\n",
      "dtypes: float64(1), int64(2), object(1)\n",
      "memory usage: 22.9+ KB\n",
      "None\n"
     ]
    }
   ],
   "source": [
    "xibei=data_all_final[data_all_final['Area']=='xibei']\n",
    "\n",
    "print(xibei.info())\n",
    "print('--'*40)\n",
    "\n",
    "xibei['THI']=list(map(lambda s: float(s),xibei['THI']))\n",
    "xibei['Mon']=list(map(lambda s: int(s),xibei['Mon']))\n",
    "xibei['Day']=list(map(lambda s: int(s),xibei['Day']))\n",
    "xibei['Year']=list(map(lambda s: int(s),xibei['Year']))\n",
    "\n",
    "xibei_y=xibei[xibei['THI']<=100] #删除THI异常值\n",
    "\n",
    "xibei_y['Mon']=list(map(lambda s: str(s),xibei_y['Mon']))\n",
    "xibei_y['Day']=list(map(lambda s: str(s),xibei_y['Day']))\n",
    "xibei_y['Year']=list(map(lambda s: str(s),xibei_y['Year']))\n",
    "\n",
    "xibei_y['Y-M-D']=xibei_y['Year']+'-'+xibei_y['Mon']+'-'+xibei_y['Day']\n",
    "\n",
    "mean_THI_xb=xibei_y['THI'].groupby([xibei_y['Y-M-D']]).mean()\n",
    "\n",
    "m_THI_xb=mean_THI_xb.to_frame('mean_THI')\n",
    "\n",
    "xibei_f=pd.merge(xibei_y,m_THI_xb,left_on='Y-M-D',right_index=True)\n",
    "\n",
    "xibei_f['Mon']=list(map(lambda s: int(s),xibei_f['Mon']))\n",
    "xibei_f['Day']=list(map(lambda s: int(s),xibei_f['Day']))\n",
    "\n",
    "xibei_f1=xibei_f.drop_duplicates(['Year','Mon','Day','mean_THI'],keep='first')[['Year','Mon','Day','mean_THI']].sort_values(by=['Year','Mon','Day'])\n",
    "\n",
    "print(xibei_f1.info())"
   ]
  },
  {
   "cell_type": "code",
   "execution_count": 75,
   "metadata": {},
   "outputs": [
    {
     "name": "stdout",
     "output_type": "stream",
     "text": [
      "<class 'pandas.core.frame.DataFrame'>\n",
      "Int64Index: 582 entries, 18043943 to 18056253\n",
      "Data columns (total 4 columns):\n",
      "Year        582 non-null object\n",
      "Mon         582 non-null int64\n",
      "Day         582 non-null int64\n",
      "mean_THI    582 non-null float64\n",
      "dtypes: float64(1), int64(2), object(1)\n",
      "memory usage: 22.7+ KB\n"
     ]
    }
   ],
   "source": [
    "xibei_f2=xibei_f1[(xibei_f1['Year']=='2017')|(xibei_f1['Year']=='2016')]\n",
    "xibei_f2.info()"
   ]
  },
  {
   "cell_type": "markdown",
   "metadata": {},
   "source": [
    "### 东北"
   ]
  },
  {
   "cell_type": "code",
   "execution_count": 63,
   "metadata": {
    "scrolled": false
   },
   "outputs": [
    {
     "name": "stdout",
     "output_type": "stream",
     "text": [
      "<class 'pandas.core.frame.DataFrame'>\n",
      "Int64Index: 2762579 entries, 26610215 to 29372793\n",
      "Data columns (total 12 columns):\n",
      "Station_Id_C    int64\n",
      "Year            float64\n",
      "Mon             float64\n",
      "Day             float64\n",
      "Hour            float64\n",
      "RHU             int64\n",
      "TEM             float64\n",
      "TEM_Max         float64\n",
      "TEM_Min         float64\n",
      "省份              object\n",
      "Area            object\n",
      "THI             float64\n",
      "dtypes: float64(8), int64(2), object(2)\n",
      "memory usage: 274.0+ MB\n",
      "None\n",
      "--------------------------------------------------------------------------------\n"
     ]
    },
    {
     "name": "stderr",
     "output_type": "stream",
     "text": [
      "E:\\Anaconda\\lib\\site-packages\\ipykernel_launcher.py:6: SettingWithCopyWarning: \n",
      "A value is trying to be set on a copy of a slice from a DataFrame.\n",
      "Try using .loc[row_indexer,col_indexer] = value instead\n",
      "\n",
      "See the caveats in the documentation: http://pandas.pydata.org/pandas-docs/stable/indexing.html#indexing-view-versus-copy\n",
      "  \n",
      "E:\\Anaconda\\lib\\site-packages\\ipykernel_launcher.py:7: SettingWithCopyWarning: \n",
      "A value is trying to be set on a copy of a slice from a DataFrame.\n",
      "Try using .loc[row_indexer,col_indexer] = value instead\n",
      "\n",
      "See the caveats in the documentation: http://pandas.pydata.org/pandas-docs/stable/indexing.html#indexing-view-versus-copy\n",
      "  import sys\n",
      "E:\\Anaconda\\lib\\site-packages\\ipykernel_launcher.py:8: SettingWithCopyWarning: \n",
      "A value is trying to be set on a copy of a slice from a DataFrame.\n",
      "Try using .loc[row_indexer,col_indexer] = value instead\n",
      "\n",
      "See the caveats in the documentation: http://pandas.pydata.org/pandas-docs/stable/indexing.html#indexing-view-versus-copy\n",
      "  \n",
      "E:\\Anaconda\\lib\\site-packages\\ipykernel_launcher.py:9: SettingWithCopyWarning: \n",
      "A value is trying to be set on a copy of a slice from a DataFrame.\n",
      "Try using .loc[row_indexer,col_indexer] = value instead\n",
      "\n",
      "See the caveats in the documentation: http://pandas.pydata.org/pandas-docs/stable/indexing.html#indexing-view-versus-copy\n",
      "  if __name__ == '__main__':\n",
      "E:\\Anaconda\\lib\\site-packages\\ipykernel_launcher.py:13: SettingWithCopyWarning: \n",
      "A value is trying to be set on a copy of a slice from a DataFrame.\n",
      "Try using .loc[row_indexer,col_indexer] = value instead\n",
      "\n",
      "See the caveats in the documentation: http://pandas.pydata.org/pandas-docs/stable/indexing.html#indexing-view-versus-copy\n",
      "  del sys.path[0]\n",
      "E:\\Anaconda\\lib\\site-packages\\ipykernel_launcher.py:14: SettingWithCopyWarning: \n",
      "A value is trying to be set on a copy of a slice from a DataFrame.\n",
      "Try using .loc[row_indexer,col_indexer] = value instead\n",
      "\n",
      "See the caveats in the documentation: http://pandas.pydata.org/pandas-docs/stable/indexing.html#indexing-view-versus-copy\n",
      "  \n",
      "E:\\Anaconda\\lib\\site-packages\\ipykernel_launcher.py:15: SettingWithCopyWarning: \n",
      "A value is trying to be set on a copy of a slice from a DataFrame.\n",
      "Try using .loc[row_indexer,col_indexer] = value instead\n",
      "\n",
      "See the caveats in the documentation: http://pandas.pydata.org/pandas-docs/stable/indexing.html#indexing-view-versus-copy\n",
      "  from ipykernel import kernelapp as app\n",
      "E:\\Anaconda\\lib\\site-packages\\ipykernel_launcher.py:17: SettingWithCopyWarning: \n",
      "A value is trying to be set on a copy of a slice from a DataFrame.\n",
      "Try using .loc[row_indexer,col_indexer] = value instead\n",
      "\n",
      "See the caveats in the documentation: http://pandas.pydata.org/pandas-docs/stable/indexing.html#indexing-view-versus-copy\n"
     ]
    },
    {
     "name": "stdout",
     "output_type": "stream",
     "text": [
      "<class 'pandas.core.frame.DataFrame'>\n",
      "Int64Index: 652 entries, 26610239 to 26625516\n",
      "Data columns (total 4 columns):\n",
      "Year        652 non-null object\n",
      "Mon         652 non-null int64\n",
      "Day         652 non-null int64\n",
      "mean_THI    652 non-null float64\n",
      "dtypes: float64(1), int64(2), object(1)\n",
      "memory usage: 25.5+ KB\n",
      "None\n"
     ]
    }
   ],
   "source": [
    "dongbei=data_all_final[data_all_final['Area']=='dongbei']\n",
    "\n",
    "print(dongbei.info())\n",
    "print('--'*40)\n",
    "\n",
    "dongbei['THI']=list(map(lambda s: float(s),dongbei['THI']))\n",
    "dongbei['Mon']=list(map(lambda s: int(s),dongbei['Mon']))\n",
    "dongbei['Day']=list(map(lambda s: int(s),dongbei['Day']))\n",
    "dongbei['Year']=list(map(lambda s: int(s),dongbei['Year']))\n",
    "\n",
    "dongbei_y=dongbei[dongbei['THI']<=100] #删除THI异常值\n",
    "\n",
    "dongbei_y['Mon']=list(map(lambda s: str(s),dongbei_y['Mon']))\n",
    "dongbei_y['Day']=list(map(lambda s: str(s),dongbei_y['Day']))\n",
    "dongbei_y['Year']=list(map(lambda s: str(s),dongbei_y['Year']))\n",
    "\n",
    "dongbei_y['Y-M-D']=dongbei_y['Year']+'-'+dongbei_y['Mon']+'-'+dongbei_y['Day']\n",
    "\n",
    "mean_THI_db=dongbei_y['THI'].groupby([dongbei_y['Y-M-D']]).mean()\n",
    "\n",
    "m_THI_db=mean_THI_db.to_frame('mean_THI')\n",
    "\n",
    "dongbei_f=pd.merge(dongbei_y,m_THI_db,left_on='Y-M-D',right_index=True)\n",
    "\n",
    "dongbei_f['Mon']=list(map(lambda s: int(s),dongbei_f['Mon']))\n",
    "dongbei_f['Day']=list(map(lambda s: int(s),dongbei_f['Day']))\n",
    "\n",
    "dongbei_f1=dongbei_f.drop_duplicates(['Year','Mon','Day','mean_THI'],keep='first')[['Year','Mon','Day','mean_THI']].sort_values(by=['Year','Mon','Day'])\n",
    "\n",
    "print(dongbei_f1.info())"
   ]
  },
  {
   "cell_type": "code",
   "execution_count": 76,
   "metadata": {},
   "outputs": [
    {
     "name": "stdout",
     "output_type": "stream",
     "text": [
      "<class 'pandas.core.frame.DataFrame'>\n",
      "Int64Index: 644 entries, 26610287 to 26625376\n",
      "Data columns (total 4 columns):\n",
      "Year        644 non-null object\n",
      "Mon         644 non-null int64\n",
      "Day         644 non-null int64\n",
      "mean_THI    644 non-null float64\n",
      "dtypes: float64(1), int64(2), object(1)\n",
      "memory usage: 25.2+ KB\n"
     ]
    }
   ],
   "source": [
    "dongbei_f2=dongbei_f1[(dongbei_f1['Year']=='2017')|(dongbei_f1['Year']=='2016')]\n",
    "dongbei_f2.info()"
   ]
  },
  {
   "cell_type": "markdown",
   "metadata": {},
   "source": [
    "## 画图"
   ]
  },
  {
   "cell_type": "markdown",
   "metadata": {},
   "source": [
    "### __不同地区加上区域标签__"
   ]
  },
  {
   "cell_type": "code",
   "execution_count": 81,
   "metadata": {},
   "outputs": [
    {
     "name": "stderr",
     "output_type": "stream",
     "text": [
      "E:\\Anaconda\\lib\\site-packages\\ipykernel_launcher.py:1: SettingWithCopyWarning: \n",
      "A value is trying to be set on a copy of a slice from a DataFrame.\n",
      "Try using .loc[row_indexer,col_indexer] = value instead\n",
      "\n",
      "See the caveats in the documentation: http://pandas.pydata.org/pandas-docs/stable/indexing.html#indexing-view-versus-copy\n",
      "  \"\"\"Entry point for launching an IPython kernel.\n",
      "E:\\Anaconda\\lib\\site-packages\\ipykernel_launcher.py:3: SettingWithCopyWarning: \n",
      "A value is trying to be set on a copy of a slice from a DataFrame.\n",
      "Try using .loc[row_indexer,col_indexer] = value instead\n",
      "\n",
      "See the caveats in the documentation: http://pandas.pydata.org/pandas-docs/stable/indexing.html#indexing-view-versus-copy\n",
      "  This is separate from the ipykernel package so we can avoid doing imports until\n",
      "E:\\Anaconda\\lib\\site-packages\\ipykernel_launcher.py:5: SettingWithCopyWarning: \n",
      "A value is trying to be set on a copy of a slice from a DataFrame.\n",
      "Try using .loc[row_indexer,col_indexer] = value instead\n",
      "\n",
      "See the caveats in the documentation: http://pandas.pydata.org/pandas-docs/stable/indexing.html#indexing-view-versus-copy\n",
      "  \"\"\"\n",
      "E:\\Anaconda\\lib\\site-packages\\ipykernel_launcher.py:7: SettingWithCopyWarning: \n",
      "A value is trying to be set on a copy of a slice from a DataFrame.\n",
      "Try using .loc[row_indexer,col_indexer] = value instead\n",
      "\n",
      "See the caveats in the documentation: http://pandas.pydata.org/pandas-docs/stable/indexing.html#indexing-view-versus-copy\n",
      "  import sys\n",
      "E:\\Anaconda\\lib\\site-packages\\ipykernel_launcher.py:9: SettingWithCopyWarning: \n",
      "A value is trying to be set on a copy of a slice from a DataFrame.\n",
      "Try using .loc[row_indexer,col_indexer] = value instead\n",
      "\n",
      "See the caveats in the documentation: http://pandas.pydata.org/pandas-docs/stable/indexing.html#indexing-view-versus-copy\n",
      "  if __name__ == '__main__':\n",
      "E:\\Anaconda\\lib\\site-packages\\ipykernel_launcher.py:11: SettingWithCopyWarning: \n",
      "A value is trying to be set on a copy of a slice from a DataFrame.\n",
      "Try using .loc[row_indexer,col_indexer] = value instead\n",
      "\n",
      "See the caveats in the documentation: http://pandas.pydata.org/pandas-docs/stable/indexing.html#indexing-view-versus-copy\n",
      "  # This is added back by InteractiveShellApp.init_path()\n",
      "E:\\Anaconda\\lib\\site-packages\\ipykernel_launcher.py:13: SettingWithCopyWarning: \n",
      "A value is trying to be set on a copy of a slice from a DataFrame.\n",
      "Try using .loc[row_indexer,col_indexer] = value instead\n",
      "\n",
      "See the caveats in the documentation: http://pandas.pydata.org/pandas-docs/stable/indexing.html#indexing-view-versus-copy\n",
      "  del sys.path[0]\n"
     ]
    }
   ],
   "source": [
    "huadong_f2['Area']='huadong'\n",
    "\n",
    "huabei_f2['Area']='huabei'\n",
    "\n",
    "huanan_f2['Area']='huanan'\n",
    "\n",
    "huazhong_f2['Area']='huazhong'\n",
    "\n",
    "xinan_f2['Area']='xinan'\n",
    "\n",
    "xibei_f2['Area']='xibei'\n",
    "\n",
    "dongbei_f2['Area']='dongbei'"
   ]
  },
  {
   "cell_type": "code",
   "execution_count": 82,
   "metadata": {},
   "outputs": [],
   "source": [
    "plot_area=pd.concat([huadong_f2,huabei_f2,huanan_f2,huazhong_f2,xinan_f2,xibei_f2,dongbei_f2])"
   ]
  },
  {
   "cell_type": "code",
   "execution_count": 219,
   "metadata": {},
   "outputs": [],
   "source": [
    "plot_area.to_csv('F:\\\\weather\\\\plot_area.csv',sep=',',index=False,encoding='utf_8_sig')"
   ]
  },
  {
   "cell_type": "markdown",
   "metadata": {},
   "source": [
    "### 北京地区合并"
   ]
  },
  {
   "cell_type": "code",
   "execution_count": 13,
   "metadata": {},
   "outputs": [],
   "source": [
    "plot_area=pd.read_csv('F:\\\\weather\\\\plot_area.csv',sep=',')"
   ]
  },
  {
   "cell_type": "code",
   "execution_count": 14,
   "metadata": {},
   "outputs": [],
   "source": [
    "plot_area['Year']=plot_area['Year'].apply(lambda s :int(s))"
   ]
  },
  {
   "cell_type": "code",
   "execution_count": 15,
   "metadata": {},
   "outputs": [],
   "source": [
    "beijing=pd.read_csv('F:\\\\weather\\\\BJ-plot.csv',sep=',')"
   ]
  },
  {
   "cell_type": "code",
   "execution_count": 16,
   "metadata": {},
   "outputs": [
    {
     "name": "stderr",
     "output_type": "stream",
     "text": [
      "E:\\Anaconda\\lib\\site-packages\\ipykernel_launcher.py:8: SettingWithCopyWarning: \n",
      "A value is trying to be set on a copy of a slice from a DataFrame.\n",
      "Try using .loc[row_indexer,col_indexer] = value instead\n",
      "\n",
      "See the caveats in the documentation: http://pandas.pydata.org/pandas-docs/stable/indexing.html#indexing-view-versus-copy\n",
      "  \n",
      "E:\\Anaconda\\lib\\site-packages\\ipykernel_launcher.py:9: SettingWithCopyWarning: \n",
      "A value is trying to be set on a copy of a slice from a DataFrame.\n",
      "Try using .loc[row_indexer,col_indexer] = value instead\n",
      "\n",
      "See the caveats in the documentation: http://pandas.pydata.org/pandas-docs/stable/indexing.html#indexing-view-versus-copy\n",
      "  if __name__ == '__main__':\n",
      "E:\\Anaconda\\lib\\site-packages\\ipykernel_launcher.py:10: SettingWithCopyWarning: \n",
      "A value is trying to be set on a copy of a slice from a DataFrame.\n",
      "Try using .loc[row_indexer,col_indexer] = value instead\n",
      "\n",
      "See the caveats in the documentation: http://pandas.pydata.org/pandas-docs/stable/indexing.html#indexing-view-versus-copy\n",
      "  # Remove the CWD from sys.path while we load stuff.\n",
      "E:\\Anaconda\\lib\\site-packages\\ipykernel_launcher.py:12: SettingWithCopyWarning: \n",
      "A value is trying to be set on a copy of a slice from a DataFrame.\n",
      "Try using .loc[row_indexer,col_indexer] = value instead\n",
      "\n",
      "See the caveats in the documentation: http://pandas.pydata.org/pandas-docs/stable/indexing.html#indexing-view-versus-copy\n",
      "  if sys.path[0] == '':\n"
     ]
    },
    {
     "name": "stdout",
     "output_type": "stream",
     "text": [
      "<class 'pandas.core.frame.DataFrame'>\n",
      "Int64Index: 390 entries, 432 to 162557\n",
      "Data columns (total 5 columns):\n",
      "Year        390 non-null object\n",
      "Mon         390 non-null int64\n",
      "Day         390 non-null int64\n",
      "mean_THI    390 non-null float64\n",
      "Area        390 non-null object\n",
      "dtypes: float64(1), int64(2), object(2)\n",
      "memory usage: 18.3+ KB\n",
      "None\n"
     ]
    }
   ],
   "source": [
    "beijing['THI']=list(map(lambda s: float(s),beijing['THI']))\n",
    "beijing['Mon']=list(map(lambda s: int(s),beijing['Mon']))\n",
    "beijing['Day']=list(map(lambda s: int(s),beijing['Day']))\n",
    "beijing['Year']=list(map(lambda s: int(s),beijing['Year']))\n",
    "\n",
    "beijing_y=beijing[beijing['THI']<=100] #删除THI异常值\n",
    "\n",
    "beijing_y['Mon']=list(map(lambda s: str(s),beijing_y['Mon']))\n",
    "beijing_y['Day']=list(map(lambda s: str(s),beijing_y['Day']))\n",
    "beijing_y['Year']=list(map(lambda s: str(s),beijing_y['Year']))\n",
    "\n",
    "beijing_y['Y-M-D']=beijing_y['Year']+'-'+beijing_y['Mon']+'-'+beijing_y['Day']\n",
    "\n",
    "mean_THI_db=beijing_y['THI'].groupby([beijing_y['Y-M-D']]).mean()\n",
    "\n",
    "m_THI_db=mean_THI_db.to_frame('mean_THI')\n",
    "\n",
    "beijing_f=pd.merge(beijing_y,m_THI_db,left_on='Y-M-D',right_index=True)\n",
    "\n",
    "beijing_f['Mon']=list(map(lambda s: int(s),beijing_f['Mon']))\n",
    "beijing_f['Day']=list(map(lambda s: int(s),beijing_f['Day']))\n",
    "\n",
    "beijing_f1=beijing_f.drop_duplicates(['Year','Mon','Day','mean_THI'],keep='first')[['Year','Mon','Day','mean_THI']].sort_values(by=['Year','Mon','Day'])\n",
    "beijing_f1['Area']='beijing'\n",
    "\n",
    "print(beijing_f1.info())"
   ]
  },
  {
   "cell_type": "code",
   "execution_count": 17,
   "metadata": {},
   "outputs": [],
   "source": [
    "beijing_f1['Year']=beijing_f1['Year'].apply(lambda s :int(s))"
   ]
  },
  {
   "cell_type": "code",
   "execution_count": 114,
   "metadata": {},
   "outputs": [],
   "source": [
    "plot_area=pd.concat([plot_area,beijing_f1])"
   ]
  },
  {
   "cell_type": "code",
   "execution_count": 115,
   "metadata": {},
   "outputs": [],
   "source": [
    "plot_area2017=plot_area[plot_area['Year']==2017]\n",
    "plot_area2016=plot_area[plot_area['Year']==2016]"
   ]
  },
  {
   "cell_type": "markdown",
   "metadata": {},
   "source": [
    "### THI分组"
   ]
  },
  {
   "cell_type": "markdown",
   "metadata": {},
   "source": [
    "THI的分组为：<=60;60~65;65~70;>70，计算各个阶段的数据量，汇总在一个表中"
   ]
  },
  {
   "cell_type": "code",
   "execution_count": 148,
   "metadata": {},
   "outputs": [],
   "source": [
    "Area=['beijing','huadong','huabei','huanan','huazhong','xinan','xibei','dongbei']\n",
    "Area1=Area[::-1]"
   ]
  },
  {
   "cell_type": "code",
   "execution_count": 149,
   "metadata": {
    "code_folding": []
   },
   "outputs": [],
   "source": [
    "THI0=plot_area2016[plot_area2016['mean_THI']<=60]\n",
    "THI1=plot_area2016[(plot_area2016['mean_THI']>60) & (plot_area2016['mean_THI']<=65)]\n",
    "THI2=plot_area2016[(plot_area2016['mean_THI']>65) & (plot_area2016['mean_THI']<=70)]\n",
    "THI3=plot_area2016[plot_area2016['mean_THI']>70]\n",
    "THI_0=[]\n",
    "THI_1=[]\n",
    "THI_2=[]\n",
    "THI_3=[]\n",
    "\n",
    "i=0\n",
    "while i < len(Area):\n",
    "    THIa=THI0[THI0['Area']==Area[i]]['Area'].count()\n",
    "    THIb=THI1[THI1['Area']==Area[i]]['Area'].count()\n",
    "    THIc=THI2[THI2['Area']==Area[i]]['Area'].count()\n",
    "    THId=THI3[THI3['Area']==Area[i]]['Area'].count()\n",
    "    THI_0.append(THIa)\n",
    "    THI_1.append(THIb)\n",
    "    THI_2.append(THIc)\n",
    "    THI_3.append(THId)\n",
    "    i+=1\n",
    "\n",
    "THIdict={'Area':Area,'THI0':THI_0,'THI1':THI_1,'THI2':THI_2,'THI3':THI_3}\n",
    "\n",
    "THIdata2016=pd.DataFrame(data=THIdict)\n",
    "\n",
    "THIdata2016['Year']=2016"
   ]
  },
  {
   "cell_type": "code",
   "execution_count": 150,
   "metadata": {},
   "outputs": [],
   "source": [
    "THI0=plot_area2017[plot_area2017['mean_THI']<=60]\n",
    "THI1=plot_area2017[(plot_area2017['mean_THI']>60) & (plot_area2017['mean_THI']<=65)]\n",
    "THI2=plot_area2017[(plot_area2017['mean_THI']>65) & (plot_area2017['mean_THI']<=70)]\n",
    "THI3=plot_area2017[plot_area2017['mean_THI']>70]\n",
    "THI_0=[]\n",
    "THI_1=[]\n",
    "THI_2=[]\n",
    "THI_3=[]\n",
    "\n",
    "i=0\n",
    "while i < len(Area):\n",
    "    THIa=THI0[THI0['Area']==Area[i]]['Area'].count()\n",
    "    THIb=THI1[THI1['Area']==Area[i]]['Area'].count()\n",
    "    THIc=THI2[THI2['Area']==Area[i]]['Area'].count()\n",
    "    THId=THI3[THI3['Area']==Area[i]]['Area'].count()\n",
    "    THI_0.append(THIa)\n",
    "    THI_1.append(THIb)\n",
    "    THI_2.append(THIc)\n",
    "    THI_3.append(THId)\n",
    "    i+=1\n",
    "\n",
    "THIdict={'Area':Area,'THI0':THI_0,'THI1':THI_1,'THI2':THI_2,'THI3':THI_3}\n",
    "\n",
    "THIdata2017=pd.DataFrame(data=THIdict)\n",
    "\n",
    "THIdata2017['Year']=2017"
   ]
  },
  {
   "cell_type": "code",
   "execution_count": 151,
   "metadata": {},
   "outputs": [],
   "source": [
    "THIdata2016['THI0']=THIdata2016['THI0'].apply(lambda s :int(s))\n",
    "THIdata2016['THI1']=THIdata2016['THI1'].apply(lambda s :int(s))\n",
    "THIdata2016['THI2']=THIdata2016['THI2'].apply(lambda s :int(s))\n",
    "THIdata2016['THI3']=THIdata2016['THI3'].apply(lambda s :int(s))"
   ]
  },
  {
   "cell_type": "code",
   "execution_count": 152,
   "metadata": {},
   "outputs": [],
   "source": [
    "THIdata2017['THI0']=THIdata2017['THI0'].apply(lambda s :int(s))\n",
    "THIdata2017['THI1']=THIdata2017['THI1'].apply(lambda s :int(s))\n",
    "THIdata2017['THI2']=THIdata2017['THI2'].apply(lambda s :int(s))\n",
    "THIdata2017['THI3']=THIdata2017['THI3'].apply(lambda s :int(s))"
   ]
  },
  {
   "cell_type": "code",
   "execution_count": 153,
   "metadata": {},
   "outputs": [],
   "source": [
    "THIdata=pd.concat([THIdata2016,THIdata2017]).sort_values(by=['Area','Year'])"
   ]
  },
  {
   "cell_type": "code",
   "execution_count": 154,
   "metadata": {
    "scrolled": false
   },
   "outputs": [],
   "source": [
    "THIdata2016['Missing']=365-THIdata2016['THI0']-THIdata2016['THI1']-THIdata2016['THI2']-THIdata2016['THI3']\n",
    "\n",
    "THIdata2017['Missing']=365-THIdata2017['THI0']-THIdata2017['THI1']-THIdata2017['THI2']-THIdata2017['THI3']\n",
    "\n",
    "THIdata['Missing']=365-THIdata['THI0']-THIdata['THI1']-THIdata['THI2']-THIdata['THI3']"
   ]
  },
  {
   "cell_type": "code",
   "execution_count": 155,
   "metadata": {},
   "outputs": [
    {
     "data": {
      "text/html": [
       "<div>\n",
       "<style scoped>\n",
       "    .dataframe tbody tr th:only-of-type {\n",
       "        vertical-align: middle;\n",
       "    }\n",
       "\n",
       "    .dataframe tbody tr th {\n",
       "        vertical-align: top;\n",
       "    }\n",
       "\n",
       "    .dataframe thead th {\n",
       "        text-align: right;\n",
       "    }\n",
       "</style>\n",
       "<table border=\"1\" class=\"dataframe\">\n",
       "  <thead>\n",
       "    <tr style=\"text-align: right;\">\n",
       "      <th></th>\n",
       "      <th>Area</th>\n",
       "      <th>THI0</th>\n",
       "      <th>THI1</th>\n",
       "      <th>THI2</th>\n",
       "      <th>THI3</th>\n",
       "      <th>Year</th>\n",
       "      <th>Missing</th>\n",
       "    </tr>\n",
       "  </thead>\n",
       "  <tbody>\n",
       "    <tr>\n",
       "      <th>0</th>\n",
       "      <td>beijing</td>\n",
       "      <td>64</td>\n",
       "      <td>0</td>\n",
       "      <td>0</td>\n",
       "      <td>0</td>\n",
       "      <td>2016</td>\n",
       "      <td>301</td>\n",
       "    </tr>\n",
       "    <tr>\n",
       "      <th>1</th>\n",
       "      <td>huadong</td>\n",
       "      <td>139</td>\n",
       "      <td>40</td>\n",
       "      <td>46</td>\n",
       "      <td>118</td>\n",
       "      <td>2016</td>\n",
       "      <td>22</td>\n",
       "    </tr>\n",
       "    <tr>\n",
       "      <th>2</th>\n",
       "      <td>huabei</td>\n",
       "      <td>208</td>\n",
       "      <td>39</td>\n",
       "      <td>41</td>\n",
       "      <td>49</td>\n",
       "      <td>2016</td>\n",
       "      <td>28</td>\n",
       "    </tr>\n",
       "    <tr>\n",
       "      <th>3</th>\n",
       "      <td>huanan</td>\n",
       "      <td>75</td>\n",
       "      <td>24</td>\n",
       "      <td>28</td>\n",
       "      <td>206</td>\n",
       "      <td>2016</td>\n",
       "      <td>32</td>\n",
       "    </tr>\n",
       "    <tr>\n",
       "      <th>4</th>\n",
       "      <td>huazhong</td>\n",
       "      <td>147</td>\n",
       "      <td>41</td>\n",
       "      <td>41</td>\n",
       "      <td>100</td>\n",
       "      <td>2016</td>\n",
       "      <td>36</td>\n",
       "    </tr>\n",
       "    <tr>\n",
       "      <th>5</th>\n",
       "      <td>xinan</td>\n",
       "      <td>186</td>\n",
       "      <td>45</td>\n",
       "      <td>52</td>\n",
       "      <td>70</td>\n",
       "      <td>2016</td>\n",
       "      <td>12</td>\n",
       "    </tr>\n",
       "    <tr>\n",
       "      <th>6</th>\n",
       "      <td>xibei</td>\n",
       "      <td>225</td>\n",
       "      <td>44</td>\n",
       "      <td>40</td>\n",
       "      <td>20</td>\n",
       "      <td>2016</td>\n",
       "      <td>36</td>\n",
       "    </tr>\n",
       "    <tr>\n",
       "      <th>7</th>\n",
       "      <td>dongbei</td>\n",
       "      <td>233</td>\n",
       "      <td>39</td>\n",
       "      <td>35</td>\n",
       "      <td>34</td>\n",
       "      <td>2016</td>\n",
       "      <td>24</td>\n",
       "    </tr>\n",
       "  </tbody>\n",
       "</table>\n",
       "</div>"
      ],
      "text/plain": [
       "       Area  THI0  THI1  THI2  THI3  Year  Missing\n",
       "0   beijing    64     0     0     0  2016      301\n",
       "1   huadong   139    40    46   118  2016       22\n",
       "2    huabei   208    39    41    49  2016       28\n",
       "3    huanan    75    24    28   206  2016       32\n",
       "4  huazhong   147    41    41   100  2016       36\n",
       "5     xinan   186    45    52    70  2016       12\n",
       "6     xibei   225    44    40    20  2016       36\n",
       "7   dongbei   233    39    35    34  2016       24"
      ]
     },
     "execution_count": 155,
     "metadata": {},
     "output_type": "execute_result"
    }
   ],
   "source": [
    "THIdata2016"
   ]
  },
  {
   "cell_type": "markdown",
   "metadata": {},
   "source": [
    "### 作图"
   ]
  },
  {
   "cell_type": "code",
   "execution_count": 166,
   "metadata": {},
   "outputs": [
    {
     "data": {
      "text/plain": [
       "Text(0.5,1,'2016 THI')"
      ]
     },
     "execution_count": 166,
     "metadata": {},
     "output_type": "execute_result"
    },
    {
     "data": {
      "text/plain": [
       "<matplotlib.figure.Figure at 0x2bd560c4240>"
      ]
     },
     "metadata": {},
     "output_type": "display_data"
    },
    {
     "data": {
      "image/png": "[encoded data removed]",
      "text/plain": [
       "<matplotlib.figure.Figure at 0x2bd560c4320>"
      ]
     },
     "metadata": {},
     "output_type": "display_data"
    }
   ],
   "source": [
    "plt.clf()\n",
    "fig, axes = plt.subplots(figsize=(7,3))\n",
    "plt.barh(THIdata2016['Area'],THIdata2016['THI0'],color='dodgerblue',label='THI<=60')\n",
    "plt.barh(THIdata2016['Area'],THIdata2016['THI1'],color='lightskyblue',left=THIdata2016['THI0'],label='60<THI<=65')\n",
    "plt.barh(THIdata2016['Area'],THIdata2016['THI2'],color='bisque',left=np.array(THIdata2016['THI0'])+np.array(THIdata2016['THI1']),label='65<THI<=70')\n",
    "plt.barh(THIdata2016['Area'],THIdata2016['THI3'],color='tomato',left=np.array(THIdata2016['THI0'])+np.array(THIdata2016['THI1'])+np.array(THIdata2016['THI2']),label='THI>70')\n",
    "plt.barh(THIdata2016['Area'],THIdata2016['Missing'],color='whitesmoke',left=np.array(THIdata2016['THI0'])+np.array(THIdata2016['THI1'])+np.array(THIdata2016['THI2'])+np.array(THIdata2016['THI3']),label='Missing')\n",
    "plt.legend(loc='lower left', bbox_to_anchor=(1, .48),ncol=1) \n",
    "plt.title('2016 THI')\n"
   ]
  },
  {
   "cell_type": "code",
   "execution_count": 163,
   "metadata": {},
   "outputs": [
    {
     "data": {
      "text/plain": [
       "Text(0.5,1,'2017 THI')"
      ]
     },
     "execution_count": 163,
     "metadata": {},
     "output_type": "execute_result"
    },
    {
     "data": {
      "image/png": "[encoded data removed]",
      "text/plain": [
       "<matplotlib.figure.Figure at 0x2bd5554f9e8>"
      ]
     },
     "metadata": {},
     "output_type": "display_data"
    }
   ],
   "source": [
    "a=fig, axes = plt.subplots(figsize=(7,3))\n",
    "a=plt.barh(THIdata2017['Area'],THIdata2017['THI0'],color='dodgerblue',label='THI<=60')\n",
    "a=plt.barh(THIdata2017['Area'],THIdata2017['THI1'],color='lightskyblue',left=THIdata2017['THI0'],label='60<THI<=65')\n",
    "a=plt.barh(THIdata2017['Area'],THIdata2017['THI2'],color='bisque',left=np.array(THIdata2017['THI0'])+np.array(THIdata2017['THI1']),label='65<THI<=70')\n",
    "a=plt.barh(THIdata2017['Area'],THIdata2017['THI3'],color='tomato',left=np.array(THIdata2017['THI0'])+np.array(THIdata2017['THI1'])+np.array(THIdata2017['THI2']),label='THI>70')\n",
    "a=plt.barh(THIdata2017['Area'],THIdata2017['Missing'],color='whitesmoke',left=np.array(THIdata2017['THI0'])+np.array(THIdata2017['THI1'])+np.array(THIdata2017['THI2'])+np.array(THIdata2017['THI3']),label='Missing')\n",
    "plt.legend(loc='lower left', bbox_to_anchor=(1, .48),ncol=1) \n",
    "plt.title('2017 THI')"
   ]
  },
  {
   "cell_type": "markdown",
   "metadata": {},
   "source": [
    "## 北京2017数据填充"
   ]
  },
  {
   "cell_type": "markdown",
   "metadata": {},
   "source": [
    "### 寻找北京周边站点作为填充候选"
   ]
  },
  {
   "cell_type": "code",
   "execution_count": 3,
   "metadata": {},
   "outputs": [],
   "source": [
    "station_l=pd.read_excel('F:\\\\weather\\\\station.xlsx',sheet_name=0,usecols=[0,1,3,4,5])"
   ]
  },
  {
   "cell_type": "code",
   "execution_count": 4,
   "metadata": {},
   "outputs": [],
   "source": [
    "station_l.rename(columns={'省份':'province','区站号':'Station_Id_C','纬度':'latitude','经度':'longitude','气压传感器拔海高度（米）':'attitude'},inplace=True)"
   ]
  },
  {
   "cell_type": "code",
   "execution_count": 5,
   "metadata": {},
   "outputs": [
    {
     "data": {
      "text/html": [
       "<div>\n",
       "<style scoped>\n",
       "    .dataframe tbody tr th:only-of-type {\n",
       "        vertical-align: middle;\n",
       "    }\n",
       "\n",
       "    .dataframe tbody tr th {\n",
       "        vertical-align: top;\n",
       "    }\n",
       "\n",
       "    .dataframe thead th {\n",
       "        text-align: right;\n",
       "    }\n",
       "</style>\n",
       "<table border=\"1\" class=\"dataframe\">\n",
       "  <thead>\n",
       "    <tr style=\"text-align: right;\">\n",
       "      <th></th>\n",
       "      <th>province</th>\n",
       "      <th>Station_Id_C</th>\n",
       "      <th>latitude</th>\n",
       "      <th>longitude</th>\n",
       "      <th>attitude</th>\n",
       "    </tr>\n",
       "  </thead>\n",
       "  <tbody>\n",
       "    <tr>\n",
       "      <th>0</th>\n",
       "      <td>安徽</td>\n",
       "      <td>58015</td>\n",
       "      <td>34.27</td>\n",
       "      <td>116.20</td>\n",
       "      <td>45.4</td>\n",
       "    </tr>\n",
       "    <tr>\n",
       "      <th>1</th>\n",
       "      <td>安徽</td>\n",
       "      <td>58016</td>\n",
       "      <td>34.11</td>\n",
       "      <td>116.58</td>\n",
       "      <td>35.9</td>\n",
       "    </tr>\n",
       "    <tr>\n",
       "      <th>2</th>\n",
       "      <td>安徽</td>\n",
       "      <td>58102</td>\n",
       "      <td>33.52</td>\n",
       "      <td>115.46</td>\n",
       "      <td>39.2</td>\n",
       "    </tr>\n",
       "    <tr>\n",
       "      <th>3</th>\n",
       "      <td>安徽</td>\n",
       "      <td>58107</td>\n",
       "      <td>33.01</td>\n",
       "      <td>115.17</td>\n",
       "      <td>37.0</td>\n",
       "    </tr>\n",
       "    <tr>\n",
       "      <th>4</th>\n",
       "      <td>安徽</td>\n",
       "      <td>58108</td>\n",
       "      <td>33.14</td>\n",
       "      <td>115.20</td>\n",
       "      <td>35.0</td>\n",
       "    </tr>\n",
       "  </tbody>\n",
       "</table>\n",
       "</div>"
      ],
      "text/plain": [
       "  province  Station_Id_C  latitude  longitude  attitude\n",
       "0       安徽         58015     34.27     116.20      45.4\n",
       "1       安徽         58016     34.11     116.58      35.9\n",
       "2       安徽         58102     33.52     115.46      39.2\n",
       "3       安徽         58107     33.01     115.17      37.0\n",
       "4       安徽         58108     33.14     115.20      35.0"
      ]
     },
     "execution_count": 5,
     "metadata": {},
     "output_type": "execute_result"
    }
   ],
   "source": [
    "station_l.head()"
   ]
  },
  {
   "cell_type": "code",
   "execution_count": 6,
   "metadata": {},
   "outputs": [],
   "source": [
    "station_bjh=station_l[station_l['province']=='北京']"
   ]
  },
  {
   "cell_type": "code",
   "execution_count": 7,
   "metadata": {},
   "outputs": [
    {
     "data": {
      "text/plain": [
       "133.05555555555554"
      ]
     },
     "execution_count": 7,
     "metadata": {},
     "output_type": "execute_result"
    }
   ],
   "source": [
    "station_bjh['attitude'].mean()"
   ]
  },
  {
   "cell_type": "code",
   "execution_count": 8,
   "metadata": {},
   "outputs": [
    {
     "data": {
      "text/plain": [
       "156.46741146217383"
      ]
     },
     "execution_count": 8,
     "metadata": {},
     "output_type": "execute_result"
    }
   ],
   "source": [
    "station_bjh['attitude'].std()"
   ]
  },
  {
   "cell_type": "markdown",
   "metadata": {},
   "source": [
    "北京气象站平均海拔133.056米，标准差156.467米"
   ]
  },
  {
   "cell_type": "markdown",
   "metadata": {},
   "source": [
    "__根据地图选定北京市（北纬39.43~41.05，东经115.41~117.50）周边经度114~119范围内 ，纬度38~42范围内，且海拔为133.056±2*156.467范围内的气象站作为填充对象__"
   ]
  },
  {
   "cell_type": "code",
   "execution_count": 9,
   "metadata": {},
   "outputs": [],
   "source": [
    "station_im1=station_l[(station_l['latitude']>=38) &( station_l['latitude']<=42)]\n",
    "station_im2=station_im1[(station_im1['longitude']>=114) &( station_im1['longitude']<=119)]\n",
    "station_im3=station_im2[(station_im2['attitude']>=-179.88) &( station_im2['attitude']<=445.99)]"
   ]
  },
  {
   "cell_type": "code",
   "execution_count": 10,
   "metadata": {},
   "outputs": [],
   "source": [
    "station_im=station_im3[station_im3['province']!='北京']"
   ]
  },
  {
   "cell_type": "code",
   "execution_count": 11,
   "metadata": {},
   "outputs": [
    {
     "data": {
      "text/plain": [
       "province        81\n",
       "Station_Id_C    81\n",
       "latitude        81\n",
       "longitude       81\n",
       "attitude        81\n",
       "dtype: int64"
      ]
     },
     "execution_count": 11,
     "metadata": {},
     "output_type": "execute_result"
    }
   ],
   "source": [
    "station_im.count()"
   ]
  },
  {
   "cell_type": "markdown",
   "metadata": {},
   "source": [
    "### 北京天数"
   ]
  },
  {
   "cell_type": "code",
   "execution_count": 18,
   "metadata": {},
   "outputs": [],
   "source": [
    "beijing_im=beijing_f1[:]\n",
    "\n",
    "beijing_im['Mon']=list(map(lambda s: str(s),beijing_im['Mon']))\n",
    "beijing_im['Day']=list(map(lambda s: str(s),beijing_im['Day']))\n",
    "beijing_im['Year']=list(map(lambda s: str(s),beijing_im['Year']))\n",
    "\n",
    "beijing_im['Y-M-D']=beijing_im['Year']+'-'+beijing_im['Mon']+'-'+beijing_im['Day']\n"
   ]
  },
  {
   "cell_type": "code",
   "execution_count": 19,
   "metadata": {},
   "outputs": [],
   "source": [
    "beijing2016=beijing_im[beijing_im['Year']=='2016']\n",
    "beijing2017=beijing_im[beijing_im['Year']=='2017']"
   ]
  },
  {
   "cell_type": "code",
   "execution_count": 20,
   "metadata": {},
   "outputs": [
    {
     "data": {
      "text/html": [
       "<div>\n",
       "<style scoped>\n",
       "    .dataframe tbody tr th:only-of-type {\n",
       "        vertical-align: middle;\n",
       "    }\n",
       "\n",
       "    .dataframe tbody tr th {\n",
       "        vertical-align: top;\n",
       "    }\n",
       "\n",
       "    .dataframe thead th {\n",
       "        text-align: right;\n",
       "    }\n",
       "</style>\n",
       "<table border=\"1\" class=\"dataframe\">\n",
       "  <thead>\n",
       "    <tr style=\"text-align: right;\">\n",
       "      <th></th>\n",
       "      <th>Year</th>\n",
       "      <th>Mon</th>\n",
       "      <th>Day</th>\n",
       "      <th>mean_THI</th>\n",
       "      <th>Area</th>\n",
       "      <th>Y-M-D</th>\n",
       "    </tr>\n",
       "  </thead>\n",
       "  <tbody>\n",
       "    <tr>\n",
       "      <th>28367</th>\n",
       "      <td>2017</td>\n",
       "      <td>2</td>\n",
       "      <td>25</td>\n",
       "      <td>46.453478</td>\n",
       "      <td>beijing</td>\n",
       "      <td>2017-2-25</td>\n",
       "    </tr>\n",
       "    <tr>\n",
       "      <th>28391</th>\n",
       "      <td>2017</td>\n",
       "      <td>2</td>\n",
       "      <td>26</td>\n",
       "      <td>45.559923</td>\n",
       "      <td>beijing</td>\n",
       "      <td>2017-2-26</td>\n",
       "    </tr>\n",
       "    <tr>\n",
       "      <th>28415</th>\n",
       "      <td>2017</td>\n",
       "      <td>2</td>\n",
       "      <td>27</td>\n",
       "      <td>50.019964</td>\n",
       "      <td>beijing</td>\n",
       "      <td>2017-2-27</td>\n",
       "    </tr>\n",
       "    <tr>\n",
       "      <th>28439</th>\n",
       "      <td>2017</td>\n",
       "      <td>2</td>\n",
       "      <td>28</td>\n",
       "      <td>51.714369</td>\n",
       "      <td>beijing</td>\n",
       "      <td>2017-2-28</td>\n",
       "    </tr>\n",
       "    <tr>\n",
       "      <th>28463</th>\n",
       "      <td>2017</td>\n",
       "      <td>3</td>\n",
       "      <td>1</td>\n",
       "      <td>45.078609</td>\n",
       "      <td>beijing</td>\n",
       "      <td>2017-3-1</td>\n",
       "    </tr>\n",
       "  </tbody>\n",
       "</table>\n",
       "</div>"
      ],
      "text/plain": [
       "       Year Mon Day   mean_THI     Area      Y-M-D\n",
       "28367  2017   2  25  46.453478  beijing  2017-2-25\n",
       "28391  2017   2  26  45.559923  beijing  2017-2-26\n",
       "28415  2017   2  27  50.019964  beijing  2017-2-27\n",
       "28439  2017   2  28  51.714369  beijing  2017-2-28\n",
       "28463  2017   3   1  45.078609  beijing   2017-3-1"
      ]
     },
     "execution_count": 20,
     "metadata": {},
     "output_type": "execute_result"
    }
   ],
   "source": [
    "beijing2017.head()"
   ]
  },
  {
   "cell_type": "code",
   "execution_count": null,
   "metadata": {},
   "outputs": [],
   "source": []
  },
  {
   "cell_type": "markdown",
   "metadata": {},
   "source": [
    "### 候选地区"
   ]
  },
  {
   "cell_type": "code",
   "execution_count": 21,
   "metadata": {},
   "outputs": [
    {
     "data": {
      "text/html": [
       "<div>\n",
       "<style scoped>\n",
       "    .dataframe tbody tr th:only-of-type {\n",
       "        vertical-align: middle;\n",
       "    }\n",
       "\n",
       "    .dataframe tbody tr th {\n",
       "        vertical-align: top;\n",
       "    }\n",
       "\n",
       "    .dataframe thead th {\n",
       "        text-align: right;\n",
       "    }\n",
       "</style>\n",
       "<table border=\"1\" class=\"dataframe\">\n",
       "  <thead>\n",
       "    <tr style=\"text-align: right;\">\n",
       "      <th></th>\n",
       "      <th>province</th>\n",
       "      <th>Station_Id_C</th>\n",
       "      <th>latitude</th>\n",
       "      <th>longitude</th>\n",
       "      <th>attitude</th>\n",
       "    </tr>\n",
       "  </thead>\n",
       "  <tbody>\n",
       "    <tr>\n",
       "      <th>481</th>\n",
       "      <td>河北</td>\n",
       "      <td>53596</td>\n",
       "      <td>38.51</td>\n",
       "      <td>115.08</td>\n",
       "      <td>53.4</td>\n",
       "    </tr>\n",
       "    <tr>\n",
       "      <th>483</th>\n",
       "      <td>河北</td>\n",
       "      <td>53680</td>\n",
       "      <td>38.18</td>\n",
       "      <td>114.23</td>\n",
       "      <td>110.1</td>\n",
       "    </tr>\n",
       "    <tr>\n",
       "      <th>484</th>\n",
       "      <td>河北</td>\n",
       "      <td>53682</td>\n",
       "      <td>38.38</td>\n",
       "      <td>114.41</td>\n",
       "      <td>105.3</td>\n",
       "    </tr>\n",
       "    <tr>\n",
       "      <th>485</th>\n",
       "      <td>河北</td>\n",
       "      <td>53688</td>\n",
       "      <td>38.25</td>\n",
       "      <td>114.33</td>\n",
       "      <td>101.8</td>\n",
       "    </tr>\n",
       "    <tr>\n",
       "      <th>486</th>\n",
       "      <td>河北</td>\n",
       "      <td>53689</td>\n",
       "      <td>38.01</td>\n",
       "      <td>115.04</td>\n",
       "      <td>43.5</td>\n",
       "    </tr>\n",
       "  </tbody>\n",
       "</table>\n",
       "</div>"
      ],
      "text/plain": [
       "    province  Station_Id_C  latitude  longitude  attitude\n",
       "481       河北         53596     38.51     115.08      53.4\n",
       "483       河北         53680     38.18     114.23     110.1\n",
       "484       河北         53682     38.38     114.41     105.3\n",
       "485       河北         53688     38.25     114.33     101.8\n",
       "486       河北         53689     38.01     115.04      43.5"
      ]
     },
     "execution_count": 21,
     "metadata": {},
     "output_type": "execute_result"
    }
   ],
   "source": [
    "station_im.head()"
   ]
  },
  {
   "cell_type": "code",
   "execution_count": 22,
   "metadata": {},
   "outputs": [],
   "source": [
    "path_2016='F:\\\\weather\\\\data txt\\\\2016txt\\\\'\n",
    "file_2016=os.listdir('F:\\\\weather\\\\data txt\\\\2016txt')"
   ]
  },
  {
   "cell_type": "code",
   "execution_count": 23,
   "metadata": {},
   "outputs": [],
   "source": [
    "path_2017='F:\\\\weather\\\\data txt\\\\2017txt\\\\'\n",
    "file_2017=os.listdir('F:\\\\weather\\\\data txt\\\\2017txt')"
   ]
  },
  {
   "cell_type": "markdown",
   "metadata": {},
   "source": [
    "#### 数据筛选"
   ]
  },
  {
   "cell_type": "code",
   "execution_count": 24,
   "metadata": {},
   "outputs": [],
   "source": [
    "sta_im=station_im['Station_Id_C'].values.tolist()"
   ]
  },
  {
   "cell_type": "markdown",
   "metadata": {},
   "source": [
    "__2016年__"
   ]
  },
  {
   "cell_type": "code",
   "execution_count": 25,
   "metadata": {
    "code_folding": []
   },
   "outputs": [
    {
     "ename": "KeyboardInterrupt",
     "evalue": "",
     "output_type": "error",
     "traceback": [
      "\u001b[1;31m---------------------------------------------------------------------------\u001b[0m",
      "\u001b[1;31mKeyboardInterrupt\u001b[0m                         Traceback (most recent call last)",
      "\u001b[1;32m<ipython-input-25-a60675be1ac5>\u001b[0m in \u001b[0;36m<module>\u001b[1;34m()\u001b[0m\n\u001b[0;32m      8\u001b[0m     \u001b[0mdata_set\u001b[0m\u001b[1;33m[\u001b[0m\u001b[1;34m'Station_Id_C'\u001b[0m\u001b[1;33m]\u001b[0m\u001b[1;33m=\u001b[0m\u001b[0mdata_set\u001b[0m\u001b[1;33m[\u001b[0m\u001b[1;34m'Station_Id_C'\u001b[0m\u001b[1;33m]\u001b[0m\u001b[1;33m.\u001b[0m\u001b[0mapply\u001b[0m\u001b[1;33m(\u001b[0m\u001b[1;32mlambda\u001b[0m \u001b[0ms\u001b[0m\u001b[1;33m:\u001b[0m \u001b[0ms\u001b[0m \u001b[1;32mif\u001b[0m \u001b[0ms\u001b[0m \u001b[1;32min\u001b[0m \u001b[0msta_im\u001b[0m \u001b[1;32melse\u001b[0m \u001b[1;36m0\u001b[0m \u001b[1;33m)\u001b[0m\u001b[1;33m\u001b[0m\u001b[0m\n\u001b[0;32m      9\u001b[0m     \u001b[0mdata_sets\u001b[0m\u001b[1;33m=\u001b[0m\u001b[0mdata_set\u001b[0m\u001b[1;33m[\u001b[0m\u001b[0mdata_set\u001b[0m\u001b[1;33m[\u001b[0m\u001b[1;34m'Station_Id_C'\u001b[0m\u001b[1;33m]\u001b[0m\u001b[1;33m>\u001b[0m\u001b[1;36m0\u001b[0m\u001b[1;33m]\u001b[0m\u001b[1;33m\u001b[0m\u001b[0m\n\u001b[1;32m---> 10\u001b[1;33m     \u001b[0mdata_im2016\u001b[0m\u001b[1;33m=\u001b[0m\u001b[0mpd\u001b[0m\u001b[1;33m.\u001b[0m\u001b[0mconcat\u001b[0m\u001b[1;33m(\u001b[0m\u001b[1;33m[\u001b[0m\u001b[0mdata_im2016\u001b[0m\u001b[1;33m,\u001b[0m\u001b[0mdata_sets\u001b[0m\u001b[1;33m]\u001b[0m\u001b[1;33m)\u001b[0m\u001b[1;33m\u001b[0m\u001b[0m\n\u001b[0m\u001b[0;32m     11\u001b[0m     \u001b[0mi\u001b[0m\u001b[1;33m+=\u001b[0m\u001b[1;36m1\u001b[0m\u001b[1;33m\u001b[0m\u001b[0m\n\u001b[0;32m     12\u001b[0m \u001b[1;32melse\u001b[0m\u001b[1;33m:\u001b[0m\u001b[1;33m\u001b[0m\u001b[0m\n",
      "\u001b[1;32mE:\\Anaconda\\lib\\site-packages\\pandas\\core\\reshape\\concat.py\u001b[0m in \u001b[0;36mconcat\u001b[1;34m(objs, axis, join, join_axes, ignore_index, keys, levels, names, verify_integrity, copy)\u001b[0m\n\u001b[0;32m    211\u001b[0m                        \u001b[0mverify_integrity\u001b[0m\u001b[1;33m=\u001b[0m\u001b[0mverify_integrity\u001b[0m\u001b[1;33m,\u001b[0m\u001b[1;33m\u001b[0m\u001b[0m\n\u001b[0;32m    212\u001b[0m                        copy=copy)\n\u001b[1;32m--> 213\u001b[1;33m     \u001b[1;32mreturn\u001b[0m \u001b[0mop\u001b[0m\u001b[1;33m.\u001b[0m\u001b[0mget_result\u001b[0m\u001b[1;33m(\u001b[0m\u001b[1;33m)\u001b[0m\u001b[1;33m\u001b[0m\u001b[0m\n\u001b[0m\u001b[0;32m    214\u001b[0m \u001b[1;33m\u001b[0m\u001b[0m\n\u001b[0;32m    215\u001b[0m \u001b[1;33m\u001b[0m\u001b[0m\n",
      "\u001b[1;32mE:\\Anaconda\\lib\\site-packages\\pandas\\core\\reshape\\concat.py\u001b[0m in \u001b[0;36mget_result\u001b[1;34m(self)\u001b[0m\n\u001b[0;32m    406\u001b[0m             new_data = concatenate_block_managers(\n\u001b[0;32m    407\u001b[0m                 \u001b[0mmgrs_indexers\u001b[0m\u001b[1;33m,\u001b[0m \u001b[0mself\u001b[0m\u001b[1;33m.\u001b[0m\u001b[0mnew_axes\u001b[0m\u001b[1;33m,\u001b[0m \u001b[0mconcat_axis\u001b[0m\u001b[1;33m=\u001b[0m\u001b[0mself\u001b[0m\u001b[1;33m.\u001b[0m\u001b[0maxis\u001b[0m\u001b[1;33m,\u001b[0m\u001b[1;33m\u001b[0m\u001b[0m\n\u001b[1;32m--> 408\u001b[1;33m                 copy=self.copy)\n\u001b[0m\u001b[0;32m    409\u001b[0m             \u001b[1;32mif\u001b[0m \u001b[1;32mnot\u001b[0m \u001b[0mself\u001b[0m\u001b[1;33m.\u001b[0m\u001b[0mcopy\u001b[0m\u001b[1;33m:\u001b[0m\u001b[1;33m\u001b[0m\u001b[0m\n\u001b[0;32m    410\u001b[0m                 \u001b[0mnew_data\u001b[0m\u001b[1;33m.\u001b[0m\u001b[0m_consolidate_inplace\u001b[0m\u001b[1;33m(\u001b[0m\u001b[1;33m)\u001b[0m\u001b[1;33m\u001b[0m\u001b[0m\n",
      "\u001b[1;32mE:\\Anaconda\\lib\\site-packages\\pandas\\core\\internals.py\u001b[0m in \u001b[0;36mconcatenate_block_managers\u001b[1;34m(mgrs_indexers, axes, concat_axis, copy)\u001b[0m\n\u001b[0;32m   5201\u001b[0m         \u001b[1;32melse\u001b[0m\u001b[1;33m:\u001b[0m\u001b[1;33m\u001b[0m\u001b[0m\n\u001b[0;32m   5202\u001b[0m             b = make_block(\n\u001b[1;32m-> 5203\u001b[1;33m                 \u001b[0mconcatenate_join_units\u001b[0m\u001b[1;33m(\u001b[0m\u001b[0mjoin_units\u001b[0m\u001b[1;33m,\u001b[0m \u001b[0mconcat_axis\u001b[0m\u001b[1;33m,\u001b[0m \u001b[0mcopy\u001b[0m\u001b[1;33m=\u001b[0m\u001b[0mcopy\u001b[0m\u001b[1;33m)\u001b[0m\u001b[1;33m,\u001b[0m\u001b[1;33m\u001b[0m\u001b[0m\n\u001b[0m\u001b[0;32m   5204\u001b[0m                 placement=placement)\n\u001b[0;32m   5205\u001b[0m         \u001b[0mblocks\u001b[0m\u001b[1;33m.\u001b[0m\u001b[0mappend\u001b[0m\u001b[1;33m(\u001b[0m\u001b[0mb\u001b[0m\u001b[1;33m)\u001b[0m\u001b[1;33m\u001b[0m\u001b[0m\n",
      "\u001b[1;32mE:\\Anaconda\\lib\\site-packages\\pandas\\core\\internals.py\u001b[0m in \u001b[0;36mconcatenate_join_units\u001b[1;34m(join_units, concat_axis, copy)\u001b[0m\n\u001b[0;32m   5326\u001b[0m         \u001b[1;32mraise\u001b[0m \u001b[0mAssertionError\u001b[0m\u001b[1;33m(\u001b[0m\u001b[1;34m\"Concatenating join units along axis0\"\u001b[0m\u001b[1;33m)\u001b[0m\u001b[1;33m\u001b[0m\u001b[0m\n\u001b[0;32m   5327\u001b[0m \u001b[1;33m\u001b[0m\u001b[0m\n\u001b[1;32m-> 5328\u001b[1;33m     \u001b[0mempty_dtype\u001b[0m\u001b[1;33m,\u001b[0m \u001b[0mupcasted_na\u001b[0m \u001b[1;33m=\u001b[0m \u001b[0mget_empty_dtype_and_na\u001b[0m\u001b[1;33m(\u001b[0m\u001b[0mjoin_units\u001b[0m\u001b[1;33m)\u001b[0m\u001b[1;33m\u001b[0m\u001b[0m\n\u001b[0m\u001b[0;32m   5329\u001b[0m \u001b[1;33m\u001b[0m\u001b[0m\n\u001b[0;32m   5330\u001b[0m     to_concat = [ju.get_reindexed_values(empty_dtype=empty_dtype,\n",
      "\u001b[1;32mE:\\Anaconda\\lib\\site-packages\\pandas\\core\\internals.py\u001b[0m in \u001b[0;36mget_empty_dtype_and_na\u001b[1;34m(join_units)\u001b[0m\n\u001b[0;32m   5279\u001b[0m         \u001b[1;31m# are only null blocks, when same upcasting rules must be applied to\u001b[0m\u001b[1;33m\u001b[0m\u001b[1;33m\u001b[0m\u001b[0m\n\u001b[0;32m   5280\u001b[0m         \u001b[1;31m# null upcast classes.\u001b[0m\u001b[1;33m\u001b[0m\u001b[1;33m\u001b[0m\u001b[0m\n\u001b[1;32m-> 5281\u001b[1;33m         \u001b[1;32mif\u001b[0m \u001b[0munit\u001b[0m\u001b[1;33m.\u001b[0m\u001b[0mis_na\u001b[0m\u001b[1;33m:\u001b[0m\u001b[1;33m\u001b[0m\u001b[0m\n\u001b[0m\u001b[0;32m   5282\u001b[0m             \u001b[0mnull_upcast_classes\u001b[0m\u001b[1;33m[\u001b[0m\u001b[0mupcast_cls\u001b[0m\u001b[1;33m]\u001b[0m\u001b[1;33m.\u001b[0m\u001b[0mappend\u001b[0m\u001b[1;33m(\u001b[0m\u001b[0mdtype\u001b[0m\u001b[1;33m)\u001b[0m\u001b[1;33m\u001b[0m\u001b[0m\n\u001b[0;32m   5283\u001b[0m         \u001b[1;32melse\u001b[0m\u001b[1;33m:\u001b[0m\u001b[1;33m\u001b[0m\u001b[0m\n",
      "\u001b[1;32mpandas/_libs/properties.pyx\u001b[0m in \u001b[0;36mpandas._libs.properties.cache_readonly.__get__\u001b[1;34m()\u001b[0m\n",
      "\u001b[1;32mE:\\Anaconda\\lib\\site-packages\\pandas\\core\\internals.py\u001b[0m in \u001b[0;36mis_na\u001b[1;34m(self)\u001b[0m\n\u001b[0;32m   5572\u001b[0m         \u001b[0mchunk_len\u001b[0m \u001b[1;33m=\u001b[0m \u001b[0mmax\u001b[0m\u001b[1;33m(\u001b[0m\u001b[0mtotal_len\u001b[0m \u001b[1;33m//\u001b[0m \u001b[1;36m40\u001b[0m\u001b[1;33m,\u001b[0m \u001b[1;36m1000\u001b[0m\u001b[1;33m)\u001b[0m\u001b[1;33m\u001b[0m\u001b[0m\n\u001b[0;32m   5573\u001b[0m         \u001b[1;32mfor\u001b[0m \u001b[0mi\u001b[0m \u001b[1;32min\u001b[0m \u001b[0mrange\u001b[0m\u001b[1;33m(\u001b[0m\u001b[1;36m0\u001b[0m\u001b[1;33m,\u001b[0m \u001b[0mtotal_len\u001b[0m\u001b[1;33m,\u001b[0m \u001b[0mchunk_len\u001b[0m\u001b[1;33m)\u001b[0m\u001b[1;33m:\u001b[0m\u001b[1;33m\u001b[0m\u001b[0m\n\u001b[1;32m-> 5574\u001b[1;33m             \u001b[1;32mif\u001b[0m \u001b[1;32mnot\u001b[0m \u001b[0misna\u001b[0m\u001b[1;33m(\u001b[0m\u001b[0mvalues_flat\u001b[0m\u001b[1;33m[\u001b[0m\u001b[0mi\u001b[0m\u001b[1;33m:\u001b[0m\u001b[0mi\u001b[0m \u001b[1;33m+\u001b[0m \u001b[0mchunk_len\u001b[0m\u001b[1;33m]\u001b[0m\u001b[1;33m)\u001b[0m\u001b[1;33m.\u001b[0m\u001b[0mall\u001b[0m\u001b[1;33m(\u001b[0m\u001b[1;33m)\u001b[0m\u001b[1;33m:\u001b[0m\u001b[1;33m\u001b[0m\u001b[0m\n\u001b[0m\u001b[0;32m   5575\u001b[0m                 \u001b[1;32mreturn\u001b[0m \u001b[1;32mFalse\u001b[0m\u001b[1;33m\u001b[0m\u001b[0m\n\u001b[0;32m   5576\u001b[0m \u001b[1;33m\u001b[0m\u001b[0m\n",
      "\u001b[1;32mE:\\Anaconda\\lib\\site-packages\\numpy\\core\\_methods.py\u001b[0m in \u001b[0;36m_all\u001b[1;34m(a, axis, dtype, out, keepdims)\u001b[0m\n\u001b[0;32m     39\u001b[0m \u001b[1;33m\u001b[0m\u001b[0m\n\u001b[0;32m     40\u001b[0m \u001b[1;32mdef\u001b[0m \u001b[0m_all\u001b[0m\u001b[1;33m(\u001b[0m\u001b[0ma\u001b[0m\u001b[1;33m,\u001b[0m \u001b[0maxis\u001b[0m\u001b[1;33m=\u001b[0m\u001b[1;32mNone\u001b[0m\u001b[1;33m,\u001b[0m \u001b[0mdtype\u001b[0m\u001b[1;33m=\u001b[0m\u001b[1;32mNone\u001b[0m\u001b[1;33m,\u001b[0m \u001b[0mout\u001b[0m\u001b[1;33m=\u001b[0m\u001b[1;32mNone\u001b[0m\u001b[1;33m,\u001b[0m \u001b[0mkeepdims\u001b[0m\u001b[1;33m=\u001b[0m\u001b[1;32mFalse\u001b[0m\u001b[1;33m)\u001b[0m\u001b[1;33m:\u001b[0m\u001b[1;33m\u001b[0m\u001b[0m\n\u001b[1;32m---> 41\u001b[1;33m     \u001b[1;32mreturn\u001b[0m \u001b[0mumr_all\u001b[0m\u001b[1;33m(\u001b[0m\u001b[0ma\u001b[0m\u001b[1;33m,\u001b[0m \u001b[0maxis\u001b[0m\u001b[1;33m,\u001b[0m \u001b[0mdtype\u001b[0m\u001b[1;33m,\u001b[0m \u001b[0mout\u001b[0m\u001b[1;33m,\u001b[0m \u001b[0mkeepdims\u001b[0m\u001b[1;33m)\u001b[0m\u001b[1;33m\u001b[0m\u001b[0m\n\u001b[0m\u001b[0;32m     42\u001b[0m \u001b[1;33m\u001b[0m\u001b[0m\n\u001b[0;32m     43\u001b[0m \u001b[1;32mdef\u001b[0m \u001b[0m_count_reduce_items\u001b[0m\u001b[1;33m(\u001b[0m\u001b[0marr\u001b[0m\u001b[1;33m,\u001b[0m \u001b[0maxis\u001b[0m\u001b[1;33m)\u001b[0m\u001b[1;33m:\u001b[0m\u001b[1;33m\u001b[0m\u001b[0m\n",
      "\u001b[1;31mKeyboardInterrupt\u001b[0m: "
     ]
    }
   ],
   "source": [
    "data_m=pd.read_table(path_2016+file_2016[0],delim_whitespace=True)#多个空值作分隔符,读取第一个文件\n",
    "data_m['Station_Id_C']=data_m['Station_Id_C'].apply(lambda s: s if s in sta_im else 0 )\n",
    "data_im2016=data_m[data_m['Station_Id_C']>0]\n",
    "\n",
    "i=1\n",
    "while i<=len(file_2016)-1:\n",
    "    data_set=pd.read_table(path_2016+file_2016[i],delim_whitespace=True)\n",
    "    data_set['Station_Id_C']=data_set['Station_Id_C'].apply(lambda s: s if s in sta_im else 0 )\n",
    "    data_sets=data_set[data_set['Station_Id_C']>0]\n",
    "    data_im2016=pd.concat([data_im2016,data_sets])\n",
    "    i+=1\n",
    "else:\n",
    "    print('merge complete!')"
   ]
  },
  {
   "cell_type": "markdown",
   "metadata": {},
   "source": [
    "__2017年__"
   ]
  },
  {
   "cell_type": "code",
   "execution_count": null,
   "metadata": {},
   "outputs": [],
   "source": [
    "data_m=pd.read_table(path_2017+file_2017[0],delim_whitespace=True)#多个空值作分隔符,读取第一个文件\n",
    "data_m['Station_Id_C']=data_m['Station_Id_C'].apply(lambda s: s if s in sta_im else 0 )\n",
    "data_im2017=data_m[data_m['Station_Id_C']>0]\n",
    "\n",
    "i=1\n",
    "while i<=len(file_2017)-1:\n",
    "    data_set=pd.read_table(path_2017+file_2017[i],delim_whitespace=True)\n",
    "    data_set['Station_Id_C']=data_set['Station_Id_C'].apply(lambda s: s if s in sta_im else 0 )\n",
    "    data_sets=data_set[data_set['Station_Id_C']>0]\n",
    "    data_im2017=pd.concat([data_im2017,data_sets])\n",
    "    i+=1\n",
    "else:\n",
    "    print('merge complete!')"
   ]
  },
  {
   "cell_type": "markdown",
   "metadata": {},
   "source": [
    "#### 数据质控"
   ]
  },
  {
   "cell_type": "markdown",
   "metadata": {},
   "source": [
    "__2016年__"
   ]
  },
  {
   "cell_type": "markdown",
   "metadata": {},
   "source": [
    "__保留关键指标：相对湿度（0~100），平均、最大、最小温度（-50~+100），风速（RHU、TEM、TEM_Max、TEM_Min、WIN_D_Avg_2mi）__"
   ]
  },
  {
   "cell_type": "code",
   "execution_count": 35,
   "metadata": {},
   "outputs": [],
   "source": [
    "data_imp2016=data_im2016[['Station_Id_C','Year','Mon','Day','Hour','RHU','TEM','TEM_Max','TEM_Min']]"
   ]
  },
  {
   "cell_type": "code",
   "execution_count": 36,
   "metadata": {
    "scrolled": true
   },
   "outputs": [
    {
     "name": "stdout",
     "output_type": "stream",
     "text": [
      "<class 'pandas.core.frame.DataFrame'>\n",
      "Int64Index: 845834 entries, 208 to 21759\n",
      "Data columns (total 9 columns):\n",
      "Station_Id_C    845834 non-null object\n",
      "Year            845834 non-null float64\n",
      "Mon             845834 non-null float64\n",
      "Day             845834 non-null float64\n",
      "Hour            845834 non-null float64\n",
      "RHU             845834 non-null object\n",
      "TEM             845834 non-null float64\n",
      "TEM_Max         845834 non-null float64\n",
      "TEM_Min         845834 non-null float64\n",
      "dtypes: float64(7), object(2)\n",
      "memory usage: 64.5+ MB\n"
     ]
    }
   ],
   "source": [
    "data_imp2016.info()"
   ]
  },
  {
   "cell_type": "markdown",
   "metadata": {},
   "source": [
    "__删除重复值：每次导出数据可能有重叠，合并“测定站-年-月-日-时间”删重__"
   ]
  },
  {
   "cell_type": "code",
   "execution_count": 37,
   "metadata": {},
   "outputs": [],
   "source": [
    "data_imp2016_drop=data_imp2016.drop_duplicates(['Station_Id_C','Year','Mon','Day','Hour'],keep='first')"
   ]
  },
  {
   "cell_type": "code",
   "execution_count": 38,
   "metadata": {},
   "outputs": [
    {
     "name": "stdout",
     "output_type": "stream",
     "text": [
      "<class 'pandas.core.frame.DataFrame'>\n",
      "Int64Index: 663565 entries, 208 to 21759\n",
      "Data columns (total 9 columns):\n",
      "Station_Id_C    663565 non-null object\n",
      "Year            663565 non-null float64\n",
      "Mon             663565 non-null float64\n",
      "Day             663565 non-null float64\n",
      "Hour            663565 non-null float64\n",
      "RHU             663565 non-null object\n",
      "TEM             663565 non-null float64\n",
      "TEM_Max         663565 non-null float64\n",
      "TEM_Min         663565 non-null float64\n",
      "dtypes: float64(7), object(2)\n",
      "memory usage: 50.6+ MB\n"
     ]
    }
   ],
   "source": [
    "data_imp2016_drop.info()"
   ]
  },
  {
   "cell_type": "markdown",
   "metadata": {},
   "source": [
    "去重前845,834条数据，去重后663,565条数据。"
   ]
  },
  {
   "cell_type": "markdown",
   "metadata": {},
   "source": [
    "__2017年__"
   ]
  },
  {
   "cell_type": "markdown",
   "metadata": {},
   "source": [
    "__保留关键指标：相对湿度（0~100），平均、最大、最小温度（-50~+100），风速（RHU、TEM、TEM_Max、TEM_Min、WIN_D_Avg_2mi）__"
   ]
  },
  {
   "cell_type": "code",
   "execution_count": 39,
   "metadata": {},
   "outputs": [],
   "source": [
    "data_imp2017=data_im2017[['Station_Id_C','Year','Mon','Day','Hour','RHU','TEM','TEM_Max','TEM_Min']]"
   ]
  },
  {
   "cell_type": "code",
   "execution_count": 40,
   "metadata": {},
   "outputs": [
    {
     "name": "stdout",
     "output_type": "stream",
     "text": [
      "<class 'pandas.core.frame.DataFrame'>\n",
      "Int64Index: 755102 entries, 0 to 19994\n",
      "Data columns (total 9 columns):\n",
      "Station_Id_C    755102 non-null object\n",
      "Year            755102 non-null float64\n",
      "Mon             755102 non-null float64\n",
      "Day             755102 non-null float64\n",
      "Hour            755102 non-null float64\n",
      "RHU             755102 non-null object\n",
      "TEM             755102 non-null float64\n",
      "TEM_Max         755102 non-null float64\n",
      "TEM_Min         755102 non-null float64\n",
      "dtypes: float64(7), object(2)\n",
      "memory usage: 57.6+ MB\n"
     ]
    }
   ],
   "source": [
    "data_imp2017.info()"
   ]
  },
  {
   "cell_type": "markdown",
   "metadata": {},
   "source": [
    "__删除重复值：每次导出数据可能有重叠，合并“测定站-年-月-日-时间”删重__"
   ]
  },
  {
   "cell_type": "code",
   "execution_count": 41,
   "metadata": {},
   "outputs": [],
   "source": [
    "data_imp2017_drop=data_imp2017.drop_duplicates(['Station_Id_C','Year','Mon','Day','Hour'],keep='first')"
   ]
  },
  {
   "cell_type": "code",
   "execution_count": 42,
   "metadata": {},
   "outputs": [
    {
     "name": "stdout",
     "output_type": "stream",
     "text": [
      "<class 'pandas.core.frame.DataFrame'>\n",
      "Int64Index: 619193 entries, 0 to 19994\n",
      "Data columns (total 9 columns):\n",
      "Station_Id_C    619193 non-null object\n",
      "Year            619193 non-null float64\n",
      "Mon             619193 non-null float64\n",
      "Day             619193 non-null float64\n",
      "Hour            619193 non-null float64\n",
      "RHU             619193 non-null object\n",
      "TEM             619193 non-null float64\n",
      "TEM_Max         619193 non-null float64\n",
      "TEM_Min         619193 non-null float64\n",
      "dtypes: float64(7), object(2)\n",
      "memory usage: 47.2+ MB\n"
     ]
    }
   ],
   "source": [
    "data_imp2017_drop.info()"
   ]
  },
  {
   "cell_type": "markdown",
   "metadata": {},
   "source": [
    "去重前755,102条数据，去重后619,193条数据。"
   ]
  },
  {
   "cell_type": "markdown",
   "metadata": {},
   "source": [
    "__两年数据合并__"
   ]
  },
  {
   "cell_type": "code",
   "execution_count": 43,
   "metadata": {},
   "outputs": [],
   "source": [
    "data_imputation=pd.concat([data_imp2016_drop,data_imp2017_drop])"
   ]
  },
  {
   "cell_type": "code",
   "execution_count": 44,
   "metadata": {},
   "outputs": [
    {
     "data": {
      "text/plain": [
       "Station_Id_C    1282758\n",
       "Year            1282758\n",
       "Mon             1282758\n",
       "Day             1282758\n",
       "Hour            1282758\n",
       "RHU             1282758\n",
       "TEM             1282758\n",
       "TEM_Max         1282758\n",
       "TEM_Min         1282758\n",
       "dtype: int64"
      ]
     },
     "execution_count": 44,
     "metadata": {},
     "output_type": "execute_result"
    }
   ],
   "source": [
    "data_imputation['Station_Id_C']=data_imputation['Station_Id_C'].apply(lambda s:int(s))\n",
    "data_imputation.count()"
   ]
  },
  {
   "cell_type": "code",
   "execution_count": 61,
   "metadata": {},
   "outputs": [
    {
     "data": {
      "text/plain": [
       "81"
      ]
     },
     "execution_count": 61,
     "metadata": {},
     "output_type": "execute_result"
    }
   ],
   "source": [
    "station_im['Station_Id_C'].count()"
   ]
  },
  {
   "cell_type": "markdown",
   "metadata": {},
   "source": [
    "填充地区站点共有81个，筛选后的数据1,282,758条。"
   ]
  },
  {
   "cell_type": "code",
   "execution_count": 63,
   "metadata": {},
   "outputs": [],
   "source": [
    "data_imputation.to_csv('F:\\\\weather\\\\imputation.csv',index=False,encoding='utf_8_sig',sep=',')"
   ]
  },
  {
   "cell_type": "code",
   "execution_count": null,
   "metadata": {},
   "outputs": [],
   "source": []
  },
  {
   "cell_type": "markdown",
   "metadata": {},
   "source": [
    "__核对温度是否符合：温度最大、最小、平均值之间逻辑关系：最小≤平均≤最大__"
   ]
  },
  {
   "cell_type": "code",
   "execution_count": 26,
   "metadata": {},
   "outputs": [],
   "source": [
    "data_imputation=pd.read_csv('F:\\\\weather\\\\imputation.csv',sep=',')"
   ]
  },
  {
   "cell_type": "code",
   "execution_count": 27,
   "metadata": {},
   "outputs": [],
   "source": [
    "data_imputation_valid=data_imputation[:]"
   ]
  },
  {
   "cell_type": "code",
   "execution_count": 28,
   "metadata": {
    "scrolled": true
   },
   "outputs": [
    {
     "name": "stderr",
     "output_type": "stream",
     "text": [
      "E:\\Anaconda\\lib\\site-packages\\ipykernel_launcher.py:1: SettingWithCopyWarning: \n",
      "A value is trying to be set on a copy of a slice from a DataFrame.\n",
      "Try using .loc[row_indexer,col_indexer] = value instead\n",
      "\n",
      "See the caveats in the documentation: http://pandas.pydata.org/pandas-docs/stable/indexing.html#indexing-view-versus-copy\n",
      "  \"\"\"Entry point for launching an IPython kernel.\n",
      "E:\\Anaconda\\lib\\site-packages\\ipykernel_launcher.py:2: SettingWithCopyWarning: \n",
      "A value is trying to be set on a copy of a slice from a DataFrame.\n",
      "Try using .loc[row_indexer,col_indexer] = value instead\n",
      "\n",
      "See the caveats in the documentation: http://pandas.pydata.org/pandas-docs/stable/indexing.html#indexing-view-versus-copy\n",
      "  \n"
     ]
    }
   ],
   "source": [
    "data_imputation_valid['valid1']=data_imputation['TEM_Max']-data_imputation['TEM']\n",
    "data_imputation_valid['valid2']=data_imputation['TEM']-data_imputation['TEM_Min']"
   ]
  },
  {
   "cell_type": "code",
   "execution_count": 29,
   "metadata": {},
   "outputs": [],
   "source": [
    "data_valid=data_imputation_valid[(data_imputation_valid['valid1']>=0) | (data_imputation_valid['valid2']>=0)]"
   ]
  },
  {
   "cell_type": "code",
   "execution_count": 30,
   "metadata": {
    "scrolled": true
   },
   "outputs": [
    {
     "name": "stdout",
     "output_type": "stream",
     "text": [
      "<class 'pandas.core.frame.DataFrame'>\n",
      "Int64Index: 1282758 entries, 0 to 1282757\n",
      "Data columns (total 11 columns):\n",
      "Station_Id_C    1282758 non-null int64\n",
      "Year            1282758 non-null float64\n",
      "Mon             1282758 non-null float64\n",
      "Day             1282758 non-null float64\n",
      "Hour            1282758 non-null float64\n",
      "RHU             1282758 non-null int64\n",
      "TEM             1282758 non-null float64\n",
      "TEM_Max         1282758 non-null float64\n",
      "TEM_Min         1282758 non-null float64\n",
      "valid1          1282758 non-null float64\n",
      "valid2          1282758 non-null float64\n",
      "dtypes: float64(9), int64(2)\n",
      "memory usage: 117.4 MB\n"
     ]
    }
   ],
   "source": [
    "data_valid.info()"
   ]
  },
  {
   "cell_type": "markdown",
   "metadata": {},
   "source": [
    "可见所有温度数据符合逻辑。"
   ]
  },
  {
   "cell_type": "markdown",
   "metadata": {},
   "source": [
    "__统计“测定站-年-月-日”，当天数据量≥16条的保留（总共24条），其余剔除__"
   ]
  },
  {
   "cell_type": "code",
   "execution_count": 31,
   "metadata": {},
   "outputs": [],
   "source": [
    "data_imputationh=data_valid[:]"
   ]
  },
  {
   "cell_type": "code",
   "execution_count": 32,
   "metadata": {},
   "outputs": [],
   "source": [
    "data_imputationh['Station_Id_C']=data_imputationh['Station_Id_C'].apply(lambda s : str(s))"
   ]
  },
  {
   "cell_type": "code",
   "execution_count": 33,
   "metadata": {},
   "outputs": [],
   "source": [
    "data_imputationh['Year']=data_imputationh['Year'].apply(lambda s : str(s))"
   ]
  },
  {
   "cell_type": "code",
   "execution_count": 34,
   "metadata": {},
   "outputs": [],
   "source": [
    "data_imputationh['Mon']=data_imputationh['Mon'].apply(lambda s : str(s))"
   ]
  },
  {
   "cell_type": "code",
   "execution_count": 35,
   "metadata": {},
   "outputs": [],
   "source": [
    "data_imputationh['Day']=data_imputationh['Day'].apply(lambda s : str(s))"
   ]
  },
  {
   "cell_type": "code",
   "execution_count": 36,
   "metadata": {},
   "outputs": [],
   "source": [
    "data_imputationh['SYMD']=data_imputationh['Station_Id_C']+'-'+data_imputationh['Year']+'-'+data_imputationh['Mon']+'-'+data_imputationh['Day']"
   ]
  },
  {
   "cell_type": "code",
   "execution_count": 37,
   "metadata": {},
   "outputs": [],
   "source": [
    "valid=data_imputationh['SYMD'].value_counts()\n",
    "valid1=valid.to_frame('SYMD_count')"
   ]
  },
  {
   "cell_type": "code",
   "execution_count": 38,
   "metadata": {},
   "outputs": [],
   "source": [
    "data_imputationh1=pd.merge(data_imputationh,valid1,left_on='SYMD',right_index=True)"
   ]
  },
  {
   "cell_type": "code",
   "execution_count": 39,
   "metadata": {},
   "outputs": [],
   "source": [
    "data_imputationhf=data_imputationh1[data_imputationh1['SYMD_count']>=16]"
   ]
  },
  {
   "cell_type": "code",
   "execution_count": 40,
   "metadata": {},
   "outputs": [
    {
     "data": {
      "text/html": [
       "<div>\n",
       "<style scoped>\n",
       "    .dataframe tbody tr th:only-of-type {\n",
       "        vertical-align: middle;\n",
       "    }\n",
       "\n",
       "    .dataframe tbody tr th {\n",
       "        vertical-align: top;\n",
       "    }\n",
       "\n",
       "    .dataframe thead th {\n",
       "        text-align: right;\n",
       "    }\n",
       "</style>\n",
       "<table border=\"1\" class=\"dataframe\">\n",
       "  <thead>\n",
       "    <tr style=\"text-align: right;\">\n",
       "      <th></th>\n",
       "      <th>Station_Id_C</th>\n",
       "      <th>Year</th>\n",
       "      <th>Mon</th>\n",
       "      <th>Day</th>\n",
       "      <th>Hour</th>\n",
       "      <th>RHU</th>\n",
       "      <th>TEM</th>\n",
       "      <th>TEM_Max</th>\n",
       "      <th>TEM_Min</th>\n",
       "      <th>valid1</th>\n",
       "      <th>valid2</th>\n",
       "      <th>SYMD</th>\n",
       "      <th>SYMD_count</th>\n",
       "    </tr>\n",
       "  </thead>\n",
       "  <tbody>\n",
       "    <tr>\n",
       "      <th>0</th>\n",
       "      <td>53596</td>\n",
       "      <td>2016.0</td>\n",
       "      <td>1.0</td>\n",
       "      <td>4.0</td>\n",
       "      <td>0.0</td>\n",
       "      <td>92</td>\n",
       "      <td>-4.6</td>\n",
       "      <td>-3.8</td>\n",
       "      <td>-4.6</td>\n",
       "      <td>0.8</td>\n",
       "      <td>0.0</td>\n",
       "      <td>53596-2016.0-1.0-4.0</td>\n",
       "      <td>24</td>\n",
       "    </tr>\n",
       "    <tr>\n",
       "      <th>1</th>\n",
       "      <td>53596</td>\n",
       "      <td>2016.0</td>\n",
       "      <td>1.0</td>\n",
       "      <td>4.0</td>\n",
       "      <td>1.0</td>\n",
       "      <td>94</td>\n",
       "      <td>-4.0</td>\n",
       "      <td>-4.0</td>\n",
       "      <td>-4.7</td>\n",
       "      <td>0.0</td>\n",
       "      <td>0.7</td>\n",
       "      <td>53596-2016.0-1.0-4.0</td>\n",
       "      <td>24</td>\n",
       "    </tr>\n",
       "    <tr>\n",
       "      <th>2</th>\n",
       "      <td>53596</td>\n",
       "      <td>2016.0</td>\n",
       "      <td>1.0</td>\n",
       "      <td>4.0</td>\n",
       "      <td>2.0</td>\n",
       "      <td>91</td>\n",
       "      <td>-1.1</td>\n",
       "      <td>-1.1</td>\n",
       "      <td>-4.0</td>\n",
       "      <td>0.0</td>\n",
       "      <td>2.9</td>\n",
       "      <td>53596-2016.0-1.0-4.0</td>\n",
       "      <td>24</td>\n",
       "    </tr>\n",
       "    <tr>\n",
       "      <th>3</th>\n",
       "      <td>53596</td>\n",
       "      <td>2016.0</td>\n",
       "      <td>1.0</td>\n",
       "      <td>4.0</td>\n",
       "      <td>3.0</td>\n",
       "      <td>52</td>\n",
       "      <td>1.2</td>\n",
       "      <td>1.2</td>\n",
       "      <td>-1.2</td>\n",
       "      <td>0.0</td>\n",
       "      <td>2.4</td>\n",
       "      <td>53596-2016.0-1.0-4.0</td>\n",
       "      <td>24</td>\n",
       "    </tr>\n",
       "    <tr>\n",
       "      <th>4</th>\n",
       "      <td>53596</td>\n",
       "      <td>2016.0</td>\n",
       "      <td>1.0</td>\n",
       "      <td>4.0</td>\n",
       "      <td>4.0</td>\n",
       "      <td>50</td>\n",
       "      <td>1.7</td>\n",
       "      <td>1.9</td>\n",
       "      <td>1.1</td>\n",
       "      <td>0.2</td>\n",
       "      <td>0.6</td>\n",
       "      <td>53596-2016.0-1.0-4.0</td>\n",
       "      <td>24</td>\n",
       "    </tr>\n",
       "  </tbody>\n",
       "</table>\n",
       "</div>"
      ],
      "text/plain": [
       "  Station_Id_C    Year  Mon  Day  Hour  RHU  TEM  TEM_Max  TEM_Min  valid1  \\\n",
       "0        53596  2016.0  1.0  4.0   0.0   92 -4.6     -3.8     -4.6     0.8   \n",
       "1        53596  2016.0  1.0  4.0   1.0   94 -4.0     -4.0     -4.7     0.0   \n",
       "2        53596  2016.0  1.0  4.0   2.0   91 -1.1     -1.1     -4.0     0.0   \n",
       "3        53596  2016.0  1.0  4.0   3.0   52  1.2      1.2     -1.2     0.0   \n",
       "4        53596  2016.0  1.0  4.0   4.0   50  1.7      1.9      1.1     0.2   \n",
       "\n",
       "   valid2                  SYMD  SYMD_count  \n",
       "0     0.0  53596-2016.0-1.0-4.0          24  \n",
       "1     0.7  53596-2016.0-1.0-4.0          24  \n",
       "2     2.9  53596-2016.0-1.0-4.0          24  \n",
       "3     2.4  53596-2016.0-1.0-4.0          24  \n",
       "4     0.6  53596-2016.0-1.0-4.0          24  "
      ]
     },
     "execution_count": 40,
     "metadata": {},
     "output_type": "execute_result"
    }
   ],
   "source": [
    "data_imputationhf.head()"
   ]
  },
  {
   "cell_type": "code",
   "execution_count": 41,
   "metadata": {},
   "outputs": [
    {
     "data": {
      "text/plain": [
       "1219097"
      ]
     },
     "execution_count": 41,
     "metadata": {},
     "output_type": "execute_result"
    }
   ],
   "source": [
    "data_imputationhf['Station_Id_C'].count()"
   ]
  },
  {
   "cell_type": "markdown",
   "metadata": {},
   "source": [
    "保留了足够重复数据1,219,097行"
   ]
  },
  {
   "cell_type": "markdown",
   "metadata": {},
   "source": [
    "__统计“测定站-年-月”，当月数据量≥15天以上保留（总共28-31条），其余剔除__"
   ]
  },
  {
   "cell_type": "code",
   "execution_count": 227,
   "metadata": {},
   "outputs": [],
   "source": [
    "# data_bjd=data_bjhf[:]\n",
    "\n",
    "# data_bjd['SYM']=data_bjd['Station_Id_C']+'-'+data_bjd['Year']+'-'+data_bjd['Mon']\n",
    "\n",
    "# data_bjd1=data_bjd.drop_duplicates('SYMD',keep='first')\n",
    "\n",
    "# valid=data_bjd1['SYM'].value_counts()\n",
    "# valid1=valid.to_frame('SYM_count')\n",
    "\n",
    "# data_bjd2=pd.merge(data_bjd,valid1,left_on='SYM',right_index=True,how='left')\n",
    "\n",
    "# data_bjdf=data_bjd2[data_bjd2['SYM_count']>=15]\n",
    "\n",
    "# data_bjdf.info()"
   ]
  },
  {
   "cell_type": "markdown",
   "metadata": {},
   "source": [
    "保留了足够重复数据154,408行。"
   ]
  },
  {
   "cell_type": "markdown",
   "metadata": {},
   "source": [
    "__计算北京市温湿度指数（THI），取平均温度计算。计算公式：THI=0.81*温度+(0.99*温度-14.3)*相对湿度/100+46.3__"
   ]
  },
  {
   "cell_type": "code",
   "execution_count": 42,
   "metadata": {},
   "outputs": [],
   "source": [
    "data_imputation_final=data_imputationhf[['Station_Id_C','Year','Mon','Day','Hour','RHU','TEM','TEM_Max','TEM_Min']]"
   ]
  },
  {
   "cell_type": "code",
   "execution_count": 43,
   "metadata": {},
   "outputs": [
    {
     "name": "stderr",
     "output_type": "stream",
     "text": [
      "E:\\Anaconda\\lib\\site-packages\\ipykernel_launcher.py:1: SettingWithCopyWarning: \n",
      "A value is trying to be set on a copy of a slice from a DataFrame.\n",
      "Try using .loc[row_indexer,col_indexer] = value instead\n",
      "\n",
      "See the caveats in the documentation: http://pandas.pydata.org/pandas-docs/stable/indexing.html#indexing-view-versus-copy\n",
      "  \"\"\"Entry point for launching an IPython kernel.\n"
     ]
    }
   ],
   "source": [
    "data_imputation_final['Year']=data_imputation_final['Year'].apply(lambda s :float(s))"
   ]
  },
  {
   "cell_type": "code",
   "execution_count": 44,
   "metadata": {},
   "outputs": [
    {
     "name": "stderr",
     "output_type": "stream",
     "text": [
      "E:\\Anaconda\\lib\\site-packages\\ipykernel_launcher.py:1: SettingWithCopyWarning: \n",
      "A value is trying to be set on a copy of a slice from a DataFrame.\n",
      "Try using .loc[row_indexer,col_indexer] = value instead\n",
      "\n",
      "See the caveats in the documentation: http://pandas.pydata.org/pandas-docs/stable/indexing.html#indexing-view-versus-copy\n",
      "  \"\"\"Entry point for launching an IPython kernel.\n"
     ]
    }
   ],
   "source": [
    "data_imputation_final['Mon']=data_imputation_final['Mon'].apply(lambda s :float(s))"
   ]
  },
  {
   "cell_type": "code",
   "execution_count": 45,
   "metadata": {},
   "outputs": [
    {
     "name": "stderr",
     "output_type": "stream",
     "text": [
      "E:\\Anaconda\\lib\\site-packages\\ipykernel_launcher.py:1: SettingWithCopyWarning: \n",
      "A value is trying to be set on a copy of a slice from a DataFrame.\n",
      "Try using .loc[row_indexer,col_indexer] = value instead\n",
      "\n",
      "See the caveats in the documentation: http://pandas.pydata.org/pandas-docs/stable/indexing.html#indexing-view-versus-copy\n",
      "  \"\"\"Entry point for launching an IPython kernel.\n"
     ]
    }
   ],
   "source": [
    "data_imputation_final['Day']=data_imputation_final['Day'].apply(lambda s :float(s))"
   ]
  },
  {
   "cell_type": "code",
   "execution_count": 46,
   "metadata": {},
   "outputs": [
    {
     "name": "stderr",
     "output_type": "stream",
     "text": [
      "E:\\Anaconda\\lib\\site-packages\\ipykernel_launcher.py:1: SettingWithCopyWarning: \n",
      "A value is trying to be set on a copy of a slice from a DataFrame.\n",
      "Try using .loc[row_indexer,col_indexer] = value instead\n",
      "\n",
      "See the caveats in the documentation: http://pandas.pydata.org/pandas-docs/stable/indexing.html#indexing-view-versus-copy\n",
      "  \"\"\"Entry point for launching an IPython kernel.\n"
     ]
    }
   ],
   "source": [
    "data_imputation_final['THI']=0.81*data_imputation_final['TEM']+(0.99*data_imputation_final['TEM']-14.3)*(data_imputation_final['RHU']/100)+46.3"
   ]
  },
  {
   "cell_type": "code",
   "execution_count": 47,
   "metadata": {},
   "outputs": [
    {
     "data": {
      "text/html": [
       "<div>\n",
       "<style scoped>\n",
       "    .dataframe tbody tr th:only-of-type {\n",
       "        vertical-align: middle;\n",
       "    }\n",
       "\n",
       "    .dataframe tbody tr th {\n",
       "        vertical-align: top;\n",
       "    }\n",
       "\n",
       "    .dataframe thead th {\n",
       "        text-align: right;\n",
       "    }\n",
       "</style>\n",
       "<table border=\"1\" class=\"dataframe\">\n",
       "  <thead>\n",
       "    <tr style=\"text-align: right;\">\n",
       "      <th></th>\n",
       "      <th>Station_Id_C</th>\n",
       "      <th>Year</th>\n",
       "      <th>Mon</th>\n",
       "      <th>Day</th>\n",
       "      <th>Hour</th>\n",
       "      <th>RHU</th>\n",
       "      <th>TEM</th>\n",
       "      <th>TEM_Max</th>\n",
       "      <th>TEM_Min</th>\n",
       "      <th>THI</th>\n",
       "    </tr>\n",
       "  </thead>\n",
       "  <tbody>\n",
       "    <tr>\n",
       "      <th>0</th>\n",
       "      <td>53596</td>\n",
       "      <td>2016.0</td>\n",
       "      <td>1.0</td>\n",
       "      <td>4.0</td>\n",
       "      <td>0.0</td>\n",
       "      <td>92</td>\n",
       "      <td>-4.6</td>\n",
       "      <td>-3.8</td>\n",
       "      <td>-4.6</td>\n",
       "      <td>25.22832</td>\n",
       "    </tr>\n",
       "    <tr>\n",
       "      <th>1</th>\n",
       "      <td>53596</td>\n",
       "      <td>2016.0</td>\n",
       "      <td>1.0</td>\n",
       "      <td>4.0</td>\n",
       "      <td>1.0</td>\n",
       "      <td>94</td>\n",
       "      <td>-4.0</td>\n",
       "      <td>-4.0</td>\n",
       "      <td>-4.7</td>\n",
       "      <td>25.89560</td>\n",
       "    </tr>\n",
       "    <tr>\n",
       "      <th>2</th>\n",
       "      <td>53596</td>\n",
       "      <td>2016.0</td>\n",
       "      <td>1.0</td>\n",
       "      <td>4.0</td>\n",
       "      <td>2.0</td>\n",
       "      <td>91</td>\n",
       "      <td>-1.1</td>\n",
       "      <td>-1.1</td>\n",
       "      <td>-4.0</td>\n",
       "      <td>31.40501</td>\n",
       "    </tr>\n",
       "    <tr>\n",
       "      <th>3</th>\n",
       "      <td>53596</td>\n",
       "      <td>2016.0</td>\n",
       "      <td>1.0</td>\n",
       "      <td>4.0</td>\n",
       "      <td>3.0</td>\n",
       "      <td>52</td>\n",
       "      <td>1.2</td>\n",
       "      <td>1.2</td>\n",
       "      <td>-1.2</td>\n",
       "      <td>40.45376</td>\n",
       "    </tr>\n",
       "    <tr>\n",
       "      <th>4</th>\n",
       "      <td>53596</td>\n",
       "      <td>2016.0</td>\n",
       "      <td>1.0</td>\n",
       "      <td>4.0</td>\n",
       "      <td>4.0</td>\n",
       "      <td>50</td>\n",
       "      <td>1.7</td>\n",
       "      <td>1.9</td>\n",
       "      <td>1.1</td>\n",
       "      <td>41.36850</td>\n",
       "    </tr>\n",
       "  </tbody>\n",
       "</table>\n",
       "</div>"
      ],
      "text/plain": [
       "  Station_Id_C    Year  Mon  Day  Hour  RHU  TEM  TEM_Max  TEM_Min       THI\n",
       "0        53596  2016.0  1.0  4.0   0.0   92 -4.6     -3.8     -4.6  25.22832\n",
       "1        53596  2016.0  1.0  4.0   1.0   94 -4.0     -4.0     -4.7  25.89560\n",
       "2        53596  2016.0  1.0  4.0   2.0   91 -1.1     -1.1     -4.0  31.40501\n",
       "3        53596  2016.0  1.0  4.0   3.0   52  1.2      1.2     -1.2  40.45376\n",
       "4        53596  2016.0  1.0  4.0   4.0   50  1.7      1.9      1.1  41.36850"
      ]
     },
     "execution_count": 47,
     "metadata": {},
     "output_type": "execute_result"
    }
   ],
   "source": [
    "data_imputation_final.head()"
   ]
  },
  {
   "cell_type": "code",
   "execution_count": 48,
   "metadata": {},
   "outputs": [
    {
     "name": "stdout",
     "output_type": "stream",
     "text": [
      "<class 'pandas.core.frame.DataFrame'>\n",
      "Int64Index: 1219097 entries, 0 to 1282751\n",
      "Data columns (total 10 columns):\n",
      "Station_Id_C    1219097 non-null object\n",
      "Year            1219097 non-null float64\n",
      "Mon             1219097 non-null float64\n",
      "Day             1219097 non-null float64\n",
      "Hour            1219097 non-null float64\n",
      "RHU             1219097 non-null int64\n",
      "TEM             1219097 non-null float64\n",
      "TEM_Max         1219097 non-null float64\n",
      "TEM_Min         1219097 non-null float64\n",
      "THI             1219097 non-null float64\n",
      "dtypes: float64(8), int64(1), object(1)\n",
      "memory usage: 102.3+ MB\n"
     ]
    }
   ],
   "source": [
    "data_imputation_final.info()"
   ]
  },
  {
   "cell_type": "code",
   "execution_count": 89,
   "metadata": {},
   "outputs": [],
   "source": [
    "data_imputation_final.to_csv(\"F:\\\\weather\\\\imputation-plot.csv\",index=False,sep=',')"
   ]
  },
  {
   "cell_type": "markdown",
   "metadata": {},
   "source": [
    "#### 计算天数"
   ]
  },
  {
   "cell_type": "code",
   "execution_count": 49,
   "metadata": {},
   "outputs": [
    {
     "name": "stdout",
     "output_type": "stream",
     "text": [
      "<class 'pandas.core.frame.DataFrame'>\n",
      "Int64Index: 1219097 entries, 0 to 1282751\n",
      "Data columns (total 10 columns):\n",
      "Station_Id_C    1219097 non-null object\n",
      "Year            1219097 non-null float64\n",
      "Mon             1219097 non-null float64\n",
      "Day             1219097 non-null float64\n",
      "Hour            1219097 non-null float64\n",
      "RHU             1219097 non-null int64\n",
      "TEM             1219097 non-null float64\n",
      "TEM_Max         1219097 non-null float64\n",
      "TEM_Min         1219097 non-null float64\n",
      "THI             1219097 non-null float64\n",
      "dtypes: float64(8), int64(1), object(1)\n",
      "memory usage: 102.3+ MB\n",
      "None\n",
      "--------------------------------------------------------------------------------\n"
     ]
    },
    {
     "name": "stderr",
     "output_type": "stream",
     "text": [
      "E:\\Anaconda\\lib\\site-packages\\ipykernel_launcher.py:13: SettingWithCopyWarning: \n",
      "A value is trying to be set on a copy of a slice from a DataFrame.\n",
      "Try using .loc[row_indexer,col_indexer] = value instead\n",
      "\n",
      "See the caveats in the documentation: http://pandas.pydata.org/pandas-docs/stable/indexing.html#indexing-view-versus-copy\n",
      "  del sys.path[0]\n",
      "E:\\Anaconda\\lib\\site-packages\\ipykernel_launcher.py:14: SettingWithCopyWarning: \n",
      "A value is trying to be set on a copy of a slice from a DataFrame.\n",
      "Try using .loc[row_indexer,col_indexer] = value instead\n",
      "\n",
      "See the caveats in the documentation: http://pandas.pydata.org/pandas-docs/stable/indexing.html#indexing-view-versus-copy\n",
      "  \n",
      "E:\\Anaconda\\lib\\site-packages\\ipykernel_launcher.py:15: SettingWithCopyWarning: \n",
      "A value is trying to be set on a copy of a slice from a DataFrame.\n",
      "Try using .loc[row_indexer,col_indexer] = value instead\n",
      "\n",
      "See the caveats in the documentation: http://pandas.pydata.org/pandas-docs/stable/indexing.html#indexing-view-versus-copy\n",
      "  from ipykernel import kernelapp as app\n",
      "E:\\Anaconda\\lib\\site-packages\\ipykernel_launcher.py:17: SettingWithCopyWarning: \n",
      "A value is trying to be set on a copy of a slice from a DataFrame.\n",
      "Try using .loc[row_indexer,col_indexer] = value instead\n",
      "\n",
      "See the caveats in the documentation: http://pandas.pydata.org/pandas-docs/stable/indexing.html#indexing-view-versus-copy\n"
     ]
    },
    {
     "name": "stdout",
     "output_type": "stream",
     "text": [
      "<class 'pandas.core.frame.DataFrame'>\n",
      "Int64Index: 635 entries, 1794 to 1270969\n",
      "Data columns (total 4 columns):\n",
      "Year        635 non-null object\n",
      "Mon         635 non-null int64\n",
      "Day         635 non-null int64\n",
      "mean_THI    635 non-null float64\n",
      "dtypes: float64(1), int64(2), object(1)\n",
      "memory usage: 24.8+ KB\n",
      "None\n"
     ]
    }
   ],
   "source": [
    "imputation=data_imputation_final[:]\n",
    "\n",
    "print(imputation.info())\n",
    "print('--'*40)\n",
    "\n",
    "imputation['THI']=list(map(lambda s: float(s),imputation['THI']))\n",
    "imputation['Mon']=list(map(lambda s: int(s),imputation['Mon']))\n",
    "imputation['Day']=list(map(lambda s: int(s),imputation['Day']))\n",
    "imputation['Year']=list(map(lambda s: int(s),imputation['Year']))\n",
    "\n",
    "imputation_y=imputation[imputation['THI']<=100] #删除THI异常值\n",
    "\n",
    "imputation_y['Mon']=list(map(lambda s: str(s),imputation_y['Mon']))\n",
    "imputation_y['Day']=list(map(lambda s: str(s),imputation_y['Day']))\n",
    "imputation_y['Year']=list(map(lambda s: str(s),imputation_y['Year']))\n",
    "\n",
    "imputation_y['Y-M-D']=imputation_y['Year']+'-'+imputation_y['Mon']+'-'+imputation_y['Day']\n",
    "\n",
    "mean_THI_db=imputation_y['THI'].groupby([imputation_y['Y-M-D']]).mean()\n",
    "\n",
    "m_THI_db=mean_THI_db.to_frame('mean_THI')\n",
    "\n",
    "imputation_f=pd.merge(imputation_y,m_THI_db,left_on='Y-M-D',right_index=True)\n",
    "\n",
    "imputation_f['Mon']=list(map(lambda s: int(s),imputation_f['Mon']))\n",
    "imputation_f['Day']=list(map(lambda s: int(s),imputation_f['Day']))\n",
    "\n",
    "imputation_f1=imputation_f.drop_duplicates(['Year','Mon','Day','mean_THI'],keep='first')[['Year','Mon','Day','mean_THI']].sort_values(by=['Year','Mon','Day'])\n",
    "\n",
    "print(imputation_f1.info())"
   ]
  },
  {
   "cell_type": "code",
   "execution_count": 50,
   "metadata": {},
   "outputs": [],
   "source": [
    "imputation_im=imputation_f1[:]\n",
    "\n",
    "imputation_im['Mon']=list(map(lambda s: str(s),imputation_im['Mon']))\n",
    "imputation_im['Day']=list(map(lambda s: str(s),imputation_im['Day']))\n",
    "imputation_im['Year']=list(map(lambda s: str(s),imputation_im['Year']))\n",
    "\n",
    "imputation_im['Y-M-D']=imputation_im['Year']+'-'+imputation_im['Mon']+'-'+imputation_im['Day']\n"
   ]
  },
  {
   "cell_type": "code",
   "execution_count": 51,
   "metadata": {},
   "outputs": [
    {
     "data": {
      "text/html": [
       "<div>\n",
       "<style scoped>\n",
       "    .dataframe tbody tr th:only-of-type {\n",
       "        vertical-align: middle;\n",
       "    }\n",
       "\n",
       "    .dataframe tbody tr th {\n",
       "        vertical-align: top;\n",
       "    }\n",
       "\n",
       "    .dataframe thead th {\n",
       "        text-align: right;\n",
       "    }\n",
       "</style>\n",
       "<table border=\"1\" class=\"dataframe\">\n",
       "  <thead>\n",
       "    <tr style=\"text-align: right;\">\n",
       "      <th></th>\n",
       "      <th>Year</th>\n",
       "      <th>Mon</th>\n",
       "      <th>Day</th>\n",
       "      <th>mean_THI</th>\n",
       "      <th>Y-M-D</th>\n",
       "    </tr>\n",
       "  </thead>\n",
       "  <tbody>\n",
       "    <tr>\n",
       "      <th>1794</th>\n",
       "      <td>2015</td>\n",
       "      <td>12</td>\n",
       "      <td>30</td>\n",
       "      <td>35.919817</td>\n",
       "      <td>2015-12-30</td>\n",
       "    </tr>\n",
       "    <tr>\n",
       "      <th>1818</th>\n",
       "      <td>2015</td>\n",
       "      <td>12</td>\n",
       "      <td>31</td>\n",
       "      <td>35.312431</td>\n",
       "      <td>2015-12-31</td>\n",
       "    </tr>\n",
       "    <tr>\n",
       "      <th>1842</th>\n",
       "      <td>2016</td>\n",
       "      <td>1</td>\n",
       "      <td>1</td>\n",
       "      <td>32.830729</td>\n",
       "      <td>2016-1-1</td>\n",
       "    </tr>\n",
       "    <tr>\n",
       "      <th>1866</th>\n",
       "      <td>2016</td>\n",
       "      <td>1</td>\n",
       "      <td>2</td>\n",
       "      <td>34.158305</td>\n",
       "      <td>2016-1-2</td>\n",
       "    </tr>\n",
       "    <tr>\n",
       "      <th>1890</th>\n",
       "      <td>2016</td>\n",
       "      <td>1</td>\n",
       "      <td>3</td>\n",
       "      <td>31.475090</td>\n",
       "      <td>2016-1-3</td>\n",
       "    </tr>\n",
       "  </tbody>\n",
       "</table>\n",
       "</div>"
      ],
      "text/plain": [
       "      Year Mon Day   mean_THI       Y-M-D\n",
       "1794  2015  12  30  35.919817  2015-12-30\n",
       "1818  2015  12  31  35.312431  2015-12-31\n",
       "1842  2016   1   1  32.830729    2016-1-1\n",
       "1866  2016   1   2  34.158305    2016-1-2\n",
       "1890  2016   1   3  31.475090    2016-1-3"
      ]
     },
     "execution_count": 51,
     "metadata": {},
     "output_type": "execute_result"
    }
   ],
   "source": [
    "imputation_im.head()"
   ]
  },
  {
   "cell_type": "markdown",
   "metadata": {},
   "source": [
    "### 北京缺失天数填充"
   ]
  },
  {
   "cell_type": "markdown",
   "metadata": {},
   "source": [
    "#### 2016年"
   ]
  },
  {
   "cell_type": "code",
   "execution_count": 52,
   "metadata": {},
   "outputs": [],
   "source": [
    "bj_im2016=beijing2016['Y-M-D'].values.tolist()"
   ]
  },
  {
   "cell_type": "code",
   "execution_count": 53,
   "metadata": {},
   "outputs": [
    {
     "data": {
      "text/html": [
       "<div>\n",
       "<style scoped>\n",
       "    .dataframe tbody tr th:only-of-type {\n",
       "        vertical-align: middle;\n",
       "    }\n",
       "\n",
       "    .dataframe tbody tr th {\n",
       "        vertical-align: top;\n",
       "    }\n",
       "\n",
       "    .dataframe thead th {\n",
       "        text-align: right;\n",
       "    }\n",
       "</style>\n",
       "<table border=\"1\" class=\"dataframe\">\n",
       "  <thead>\n",
       "    <tr style=\"text-align: right;\">\n",
       "      <th></th>\n",
       "      <th>Year</th>\n",
       "      <th>Mon</th>\n",
       "      <th>Day</th>\n",
       "      <th>mean_THI</th>\n",
       "      <th>Y-M-D</th>\n",
       "    </tr>\n",
       "  </thead>\n",
       "  <tbody>\n",
       "    <tr>\n",
       "      <th>1842</th>\n",
       "      <td>2016</td>\n",
       "      <td>1</td>\n",
       "      <td>1</td>\n",
       "      <td>32.830729</td>\n",
       "      <td>2016-1-1</td>\n",
       "    </tr>\n",
       "    <tr>\n",
       "      <th>1866</th>\n",
       "      <td>2016</td>\n",
       "      <td>1</td>\n",
       "      <td>2</td>\n",
       "      <td>34.158305</td>\n",
       "      <td>2016-1-2</td>\n",
       "    </tr>\n",
       "    <tr>\n",
       "      <th>1890</th>\n",
       "      <td>2016</td>\n",
       "      <td>1</td>\n",
       "      <td>3</td>\n",
       "      <td>31.475090</td>\n",
       "      <td>2016-1-3</td>\n",
       "    </tr>\n",
       "    <tr>\n",
       "      <th>0</th>\n",
       "      <td>2016</td>\n",
       "      <td>1</td>\n",
       "      <td>4</td>\n",
       "      <td>37.103256</td>\n",
       "      <td>2016-1-4</td>\n",
       "    </tr>\n",
       "    <tr>\n",
       "      <th>24</th>\n",
       "      <td>2016</td>\n",
       "      <td>1</td>\n",
       "      <td>5</td>\n",
       "      <td>33.997130</td>\n",
       "      <td>2016-1-5</td>\n",
       "    </tr>\n",
       "  </tbody>\n",
       "</table>\n",
       "</div>"
      ],
      "text/plain": [
       "      Year Mon Day   mean_THI     Y-M-D\n",
       "1842  2016   1   1  32.830729  2016-1-1\n",
       "1866  2016   1   2  34.158305  2016-1-2\n",
       "1890  2016   1   3  31.475090  2016-1-3\n",
       "0     2016   1   4  37.103256  2016-1-4\n",
       "24    2016   1   5  33.997130  2016-1-5"
      ]
     },
     "execution_count": 53,
     "metadata": {},
     "output_type": "execute_result"
    }
   ],
   "source": [
    "imputation2016=imputation_im[imputation_im['Year']=='2016']\n",
    "imputation2016.head()"
   ]
  },
  {
   "cell_type": "code",
   "execution_count": 54,
   "metadata": {},
   "outputs": [
    {
     "name": "stderr",
     "output_type": "stream",
     "text": [
      "E:\\Anaconda\\lib\\site-packages\\ipykernel_launcher.py:1: SettingWithCopyWarning: \n",
      "A value is trying to be set on a copy of a slice from a DataFrame.\n",
      "Try using .loc[row_indexer,col_indexer] = value instead\n",
      "\n",
      "See the caveats in the documentation: http://pandas.pydata.org/pandas-docs/stable/indexing.html#indexing-view-versus-copy\n",
      "  \"\"\"Entry point for launching an IPython kernel.\n"
     ]
    }
   ],
   "source": [
    "imputation2016['Y-M-D']=imputation2016['Y-M-D'].apply(lambda s : s if s not in bj_im2016 else 0)"
   ]
  },
  {
   "cell_type": "code",
   "execution_count": 55,
   "metadata": {},
   "outputs": [],
   "source": [
    "imputation2016_im=imputation2016[imputation2016['Y-M-D']!=0]"
   ]
  },
  {
   "cell_type": "code",
   "execution_count": 56,
   "metadata": {},
   "outputs": [
    {
     "name": "stderr",
     "output_type": "stream",
     "text": [
      "E:\\Anaconda\\lib\\site-packages\\ipykernel_launcher.py:1: SettingWithCopyWarning: \n",
      "A value is trying to be set on a copy of a slice from a DataFrame.\n",
      "Try using .loc[row_indexer,col_indexer] = value instead\n",
      "\n",
      "See the caveats in the documentation: http://pandas.pydata.org/pandas-docs/stable/indexing.html#indexing-view-versus-copy\n",
      "  \"\"\"Entry point for launching an IPython kernel.\n"
     ]
    }
   ],
   "source": [
    "imputation2016_im['Area']='beijing'"
   ]
  },
  {
   "cell_type": "code",
   "execution_count": 57,
   "metadata": {},
   "outputs": [
    {
     "data": {
      "text/plain": [
       "Year        265\n",
       "Mon         265\n",
       "Day         265\n",
       "mean_THI    265\n",
       "Y-M-D       265\n",
       "Area        265\n",
       "dtype: int64"
      ]
     },
     "execution_count": 57,
     "metadata": {},
     "output_type": "execute_result"
    }
   ],
   "source": [
    "imputation2016_im.count()"
   ]
  },
  {
   "cell_type": "markdown",
   "metadata": {},
   "source": [
    "#### 2017年"
   ]
  },
  {
   "cell_type": "code",
   "execution_count": 58,
   "metadata": {},
   "outputs": [
    {
     "name": "stderr",
     "output_type": "stream",
     "text": [
      "E:\\Anaconda\\lib\\site-packages\\ipykernel_launcher.py:6: SettingWithCopyWarning: \n",
      "A value is trying to be set on a copy of a slice from a DataFrame.\n",
      "Try using .loc[row_indexer,col_indexer] = value instead\n",
      "\n",
      "See the caveats in the documentation: http://pandas.pydata.org/pandas-docs/stable/indexing.html#indexing-view-versus-copy\n",
      "  \n",
      "E:\\Anaconda\\lib\\site-packages\\ipykernel_launcher.py:10: SettingWithCopyWarning: \n",
      "A value is trying to be set on a copy of a slice from a DataFrame.\n",
      "Try using .loc[row_indexer,col_indexer] = value instead\n",
      "\n",
      "See the caveats in the documentation: http://pandas.pydata.org/pandas-docs/stable/indexing.html#indexing-view-versus-copy\n",
      "  # Remove the CWD from sys.path while we load stuff.\n"
     ]
    },
    {
     "data": {
      "text/plain": [
       "Year        106\n",
       "Mon         106\n",
       "Day         106\n",
       "mean_THI    106\n",
       "Y-M-D       106\n",
       "Area        106\n",
       "dtype: int64"
      ]
     },
     "execution_count": 58,
     "metadata": {},
     "output_type": "execute_result"
    }
   ],
   "source": [
    "bj_im2017=beijing2017['Y-M-D'].values.tolist()\n",
    "\n",
    "imputation2017=imputation_im[imputation_im['Year']=='2017']\n",
    "imputation2017.head()\n",
    "\n",
    "imputation2017['Y-M-D']=imputation2017['Y-M-D'].apply(lambda s : s if s not in bj_im2017 else 0)\n",
    "\n",
    "imputation2017_im=imputation2017[imputation2017['Y-M-D']!=0]\n",
    "\n",
    "imputation2017_im['Area']='beijing'\n",
    "\n",
    "imputation2017_im.count()"
   ]
  },
  {
   "cell_type": "markdown",
   "metadata": {},
   "source": [
    "__2016年可填充265天，2017年可填充106天__"
   ]
  },
  {
   "cell_type": "markdown",
   "metadata": {},
   "source": [
    "#### 填充"
   ]
  },
  {
   "cell_type": "code",
   "execution_count": 59,
   "metadata": {},
   "outputs": [],
   "source": [
    "beijing2016_new=pd.concat([beijing2016,imputation2016_im])[['Year','Mon','Day','mean_THI','Area']]\n",
    "\n",
    "beijing2017_new=pd.concat([beijing2017,imputation2017_im])[['Year','Mon','Day','mean_THI','Area']]"
   ]
  },
  {
   "cell_type": "code",
   "execution_count": 60,
   "metadata": {},
   "outputs": [
    {
     "data": {
      "text/plain": [
       "Year        324\n",
       "Mon         324\n",
       "Day         324\n",
       "mean_THI    324\n",
       "Area        324\n",
       "dtype: int64"
      ]
     },
     "execution_count": 60,
     "metadata": {},
     "output_type": "execute_result"
    }
   ],
   "source": [
    "beijing2017_new.count()"
   ]
  },
  {
   "cell_type": "code",
   "execution_count": 61,
   "metadata": {},
   "outputs": [],
   "source": [
    "plot_area=pd.read_csv('F:\\\\weather\\\\plot_area.csv',sep=',')"
   ]
  },
  {
   "cell_type": "code",
   "execution_count": 62,
   "metadata": {},
   "outputs": [],
   "source": [
    "plot_area['Year']=plot_area['Year'].apply(lambda s :str(s))"
   ]
  },
  {
   "cell_type": "code",
   "execution_count": 63,
   "metadata": {},
   "outputs": [],
   "source": [
    "plot_area2017_new=plot_area[plot_area['Year']=='2017']\n",
    "plot_area2016_new=plot_area[plot_area['Year']=='2016']\n",
    "\n",
    "plot_area2017_new=pd.concat([plot_area2017_new,beijing2017_new])\n",
    "plot_area2016_new=pd.concat([plot_area2016_new,beijing2016_new])"
   ]
  },
  {
   "cell_type": "markdown",
   "metadata": {},
   "source": [
    "#### THI分组"
   ]
  },
  {
   "cell_type": "code",
   "execution_count": 64,
   "metadata": {},
   "outputs": [],
   "source": [
    "Area=['beijing','huadong','huabei','huanan','huazhong','xinan','xibei','dongbei']"
   ]
  },
  {
   "cell_type": "code",
   "execution_count": 65,
   "metadata": {
    "code_folding": []
   },
   "outputs": [],
   "source": [
    "THI0=plot_area2016_new[plot_area2016_new['mean_THI']<=68]\n",
    "THI1=plot_area2016_new[(plot_area2016_new['mean_THI']>68) & (plot_area2016_new['mean_THI']<=72)]\n",
    "THI2=plot_area2016_new[(plot_area2016_new['mean_THI']>72) & (plot_area2016_new['mean_THI']<=78)]\n",
    "THI3=plot_area2016_new[plot_area2016_new['mean_THI']>78]\n",
    "THI_0=[]\n",
    "THI_1=[]\n",
    "THI_2=[]\n",
    "THI_3=[]\n",
    "\n",
    "i=0\n",
    "while i < len(Area):\n",
    "    THIa=THI0[THI0['Area']==Area[i]]['Area'].count()\n",
    "    THIb=THI1[THI1['Area']==Area[i]]['Area'].count()\n",
    "    THIc=THI2[THI2['Area']==Area[i]]['Area'].count()\n",
    "    THId=THI3[THI3['Area']==Area[i]]['Area'].count()\n",
    "    THI_0.append(THIa)\n",
    "    THI_1.append(THIb)\n",
    "    THI_2.append(THIc)\n",
    "    THI_3.append(THId)\n",
    "    i+=1\n",
    "\n",
    "THIdict={'Area':Area,'THI0':THI_0,'THI1':THI_1,'THI2':THI_2,'THI3':THI_3}\n",
    "\n",
    "THIdata2016=pd.DataFrame(data=THIdict)\n",
    "\n",
    "THIdata2016['Year']='2016'"
   ]
  },
  {
   "cell_type": "code",
   "execution_count": 66,
   "metadata": {},
   "outputs": [],
   "source": [
    "THI0=plot_area2017_new[plot_area2017_new['mean_THI']<=68]\n",
    "THI1=plot_area2017_new[(plot_area2017_new['mean_THI']>68) & (plot_area2017_new['mean_THI']<=72)]\n",
    "THI2=plot_area2017_new[(plot_area2017_new['mean_THI']>72) & (plot_area2017_new['mean_THI']<=78)]\n",
    "THI3=plot_area2017_new[plot_area2017_new['mean_THI']>78]\n",
    "THI_0=[]\n",
    "THI_1=[]\n",
    "THI_2=[]\n",
    "THI_3=[]\n",
    "\n",
    "i=0\n",
    "while i < len(Area):\n",
    "    THIa=THI0[THI0['Area']==Area[i]]['Area'].count()\n",
    "    THIb=THI1[THI1['Area']==Area[i]]['Area'].count()\n",
    "    THIc=THI2[THI2['Area']==Area[i]]['Area'].count()\n",
    "    THId=THI3[THI3['Area']==Area[i]]['Area'].count()\n",
    "    THI_0.append(THIa)\n",
    "    THI_1.append(THIb)\n",
    "    THI_2.append(THIc)\n",
    "    THI_3.append(THId)\n",
    "    i+=1\n",
    "\n",
    "THIdict={'Area':Area,'THI0':THI_0,'THI1':THI_1,'THI2':THI_2,'THI3':THI_3}\n",
    "\n",
    "THIdata2017=pd.DataFrame(data=THIdict)\n",
    "\n",
    "THIdata2017['Year']='2017'"
   ]
  },
  {
   "cell_type": "code",
   "execution_count": 67,
   "metadata": {},
   "outputs": [],
   "source": [
    "THIdata2016['THI0']=THIdata2016['THI0'].apply(lambda s :int(s))\n",
    "THIdata2016['THI1']=THIdata2016['THI1'].apply(lambda s :int(s))\n",
    "THIdata2016['THI2']=THIdata2016['THI2'].apply(lambda s :int(s))\n",
    "THIdata2016['THI3']=THIdata2016['THI3'].apply(lambda s :int(s))"
   ]
  },
  {
   "cell_type": "code",
   "execution_count": 68,
   "metadata": {},
   "outputs": [],
   "source": [
    "THIdata2017['THI0']=THIdata2017['THI0'].apply(lambda s :int(s))\n",
    "THIdata2017['THI1']=THIdata2017['THI1'].apply(lambda s :int(s))\n",
    "THIdata2017['THI2']=THIdata2017['THI2'].apply(lambda s :int(s))\n",
    "THIdata2017['THI3']=THIdata2017['THI3'].apply(lambda s :int(s))"
   ]
  },
  {
   "cell_type": "code",
   "execution_count": 69,
   "metadata": {},
   "outputs": [],
   "source": [
    "THIdata=pd.concat([THIdata2016,THIdata2017]).sort_values(by=['Area','Year'])"
   ]
  },
  {
   "cell_type": "code",
   "execution_count": 70,
   "metadata": {
    "scrolled": false
   },
   "outputs": [],
   "source": [
    "THIdata2016['Missing']=365-THIdata2016['THI0']-THIdata2016['THI1']-THIdata2016['THI2']-THIdata2016['THI3']\n",
    "\n",
    "THIdata2017['Missing']=365-THIdata2017['THI0']-THIdata2017['THI1']-THIdata2017['THI2']-THIdata2017['THI3']\n",
    "\n",
    "THIdata['Missing']=365-THIdata['THI0']-THIdata['THI1']-THIdata['THI2']-THIdata['THI3']"
   ]
  },
  {
   "cell_type": "code",
   "execution_count": 71,
   "metadata": {
    "scrolled": true
   },
   "outputs": [
    {
     "data": {
      "text/html": [
       "<div>\n",
       "<style scoped>\n",
       "    .dataframe tbody tr th:only-of-type {\n",
       "        vertical-align: middle;\n",
       "    }\n",
       "\n",
       "    .dataframe tbody tr th {\n",
       "        vertical-align: top;\n",
       "    }\n",
       "\n",
       "    .dataframe thead th {\n",
       "        text-align: right;\n",
       "    }\n",
       "</style>\n",
       "<table border=\"1\" class=\"dataframe\">\n",
       "  <thead>\n",
       "    <tr style=\"text-align: right;\">\n",
       "      <th></th>\n",
       "      <th>Area</th>\n",
       "      <th>THI0</th>\n",
       "      <th>THI1</th>\n",
       "      <th>THI2</th>\n",
       "      <th>THI3</th>\n",
       "      <th>Year</th>\n",
       "      <th>Missing</th>\n",
       "    </tr>\n",
       "  </thead>\n",
       "  <tbody>\n",
       "    <tr>\n",
       "      <th>0</th>\n",
       "      <td>beijing</td>\n",
       "      <td>223</td>\n",
       "      <td>37</td>\n",
       "      <td>46</td>\n",
       "      <td>23</td>\n",
       "      <td>2016</td>\n",
       "      <td>36</td>\n",
       "    </tr>\n",
       "    <tr>\n",
       "      <th>1</th>\n",
       "      <td>huadong</td>\n",
       "      <td>207</td>\n",
       "      <td>35</td>\n",
       "      <td>50</td>\n",
       "      <td>51</td>\n",
       "      <td>2016</td>\n",
       "      <td>22</td>\n",
       "    </tr>\n",
       "    <tr>\n",
       "      <th>2</th>\n",
       "      <td>huabei</td>\n",
       "      <td>275</td>\n",
       "      <td>23</td>\n",
       "      <td>34</td>\n",
       "      <td>5</td>\n",
       "      <td>2016</td>\n",
       "      <td>28</td>\n",
       "    </tr>\n",
       "    <tr>\n",
       "      <th>3</th>\n",
       "      <td>huanan</td>\n",
       "      <td>115</td>\n",
       "      <td>25</td>\n",
       "      <td>86</td>\n",
       "      <td>107</td>\n",
       "      <td>2016</td>\n",
       "      <td>32</td>\n",
       "    </tr>\n",
       "    <tr>\n",
       "      <th>4</th>\n",
       "      <td>huazhong</td>\n",
       "      <td>216</td>\n",
       "      <td>29</td>\n",
       "      <td>45</td>\n",
       "      <td>39</td>\n",
       "      <td>2016</td>\n",
       "      <td>36</td>\n",
       "    </tr>\n",
       "    <tr>\n",
       "      <th>5</th>\n",
       "      <td>xinan</td>\n",
       "      <td>258</td>\n",
       "      <td>52</td>\n",
       "      <td>36</td>\n",
       "      <td>7</td>\n",
       "      <td>2016</td>\n",
       "      <td>12</td>\n",
       "    </tr>\n",
       "    <tr>\n",
       "      <th>6</th>\n",
       "      <td>xibei</td>\n",
       "      <td>291</td>\n",
       "      <td>38</td>\n",
       "      <td>0</td>\n",
       "      <td>0</td>\n",
       "      <td>2016</td>\n",
       "      <td>36</td>\n",
       "    </tr>\n",
       "    <tr>\n",
       "      <th>7</th>\n",
       "      <td>dongbei</td>\n",
       "      <td>293</td>\n",
       "      <td>25</td>\n",
       "      <td>22</td>\n",
       "      <td>1</td>\n",
       "      <td>2016</td>\n",
       "      <td>24</td>\n",
       "    </tr>\n",
       "  </tbody>\n",
       "</table>\n",
       "</div>"
      ],
      "text/plain": [
       "       Area  THI0  THI1  THI2  THI3  Year  Missing\n",
       "0   beijing   223    37    46    23  2016       36\n",
       "1   huadong   207    35    50    51  2016       22\n",
       "2    huabei   275    23    34     5  2016       28\n",
       "3    huanan   115    25    86   107  2016       32\n",
       "4  huazhong   216    29    45    39  2016       36\n",
       "5     xinan   258    52    36     7  2016       12\n",
       "6     xibei   291    38     0     0  2016       36\n",
       "7   dongbei   293    25    22     1  2016       24"
      ]
     },
     "execution_count": 71,
     "metadata": {},
     "output_type": "execute_result"
    }
   ],
   "source": [
    "THIdata2016"
   ]
  },
  {
   "cell_type": "code",
   "execution_count": 72,
   "metadata": {},
   "outputs": [
    {
     "data": {
      "text/html": [
       "<div>\n",
       "<style scoped>\n",
       "    .dataframe tbody tr th:only-of-type {\n",
       "        vertical-align: middle;\n",
       "    }\n",
       "\n",
       "    .dataframe tbody tr th {\n",
       "        vertical-align: top;\n",
       "    }\n",
       "\n",
       "    .dataframe thead th {\n",
       "        text-align: right;\n",
       "    }\n",
       "</style>\n",
       "<table border=\"1\" class=\"dataframe\">\n",
       "  <thead>\n",
       "    <tr style=\"text-align: right;\">\n",
       "      <th></th>\n",
       "      <th>Area</th>\n",
       "      <th>THI0</th>\n",
       "      <th>THI1</th>\n",
       "      <th>THI2</th>\n",
       "      <th>THI3</th>\n",
       "      <th>Year</th>\n",
       "      <th>Missing</th>\n",
       "    </tr>\n",
       "  </thead>\n",
       "  <tbody>\n",
       "    <tr>\n",
       "      <th>0</th>\n",
       "      <td>beijing</td>\n",
       "      <td>222</td>\n",
       "      <td>28</td>\n",
       "      <td>55</td>\n",
       "      <td>19</td>\n",
       "      <td>2017</td>\n",
       "      <td>41</td>\n",
       "    </tr>\n",
       "    <tr>\n",
       "      <th>1</th>\n",
       "      <td>huadong</td>\n",
       "      <td>195</td>\n",
       "      <td>22</td>\n",
       "      <td>49</td>\n",
       "      <td>51</td>\n",
       "      <td>2017</td>\n",
       "      <td>48</td>\n",
       "    </tr>\n",
       "    <tr>\n",
       "      <th>2</th>\n",
       "      <td>huabei</td>\n",
       "      <td>248</td>\n",
       "      <td>33</td>\n",
       "      <td>42</td>\n",
       "      <td>2</td>\n",
       "      <td>2017</td>\n",
       "      <td>40</td>\n",
       "    </tr>\n",
       "    <tr>\n",
       "      <th>3</th>\n",
       "      <td>huanan</td>\n",
       "      <td>95</td>\n",
       "      <td>26</td>\n",
       "      <td>43</td>\n",
       "      <td>9</td>\n",
       "      <td>2017</td>\n",
       "      <td>192</td>\n",
       "    </tr>\n",
       "    <tr>\n",
       "      <th>4</th>\n",
       "      <td>huazhong</td>\n",
       "      <td>174</td>\n",
       "      <td>26</td>\n",
       "      <td>44</td>\n",
       "      <td>17</td>\n",
       "      <td>2017</td>\n",
       "      <td>104</td>\n",
       "    </tr>\n",
       "    <tr>\n",
       "      <th>5</th>\n",
       "      <td>xinan</td>\n",
       "      <td>201</td>\n",
       "      <td>51</td>\n",
       "      <td>22</td>\n",
       "      <td>1</td>\n",
       "      <td>2017</td>\n",
       "      <td>90</td>\n",
       "    </tr>\n",
       "    <tr>\n",
       "      <th>6</th>\n",
       "      <td>xibei</td>\n",
       "      <td>233</td>\n",
       "      <td>19</td>\n",
       "      <td>1</td>\n",
       "      <td>0</td>\n",
       "      <td>2017</td>\n",
       "      <td>112</td>\n",
       "    </tr>\n",
       "    <tr>\n",
       "      <th>7</th>\n",
       "      <td>dongbei</td>\n",
       "      <td>248</td>\n",
       "      <td>27</td>\n",
       "      <td>28</td>\n",
       "      <td>0</td>\n",
       "      <td>2017</td>\n",
       "      <td>62</td>\n",
       "    </tr>\n",
       "  </tbody>\n",
       "</table>\n",
       "</div>"
      ],
      "text/plain": [
       "       Area  THI0  THI1  THI2  THI3  Year  Missing\n",
       "0   beijing   222    28    55    19  2017       41\n",
       "1   huadong   195    22    49    51  2017       48\n",
       "2    huabei   248    33    42     2  2017       40\n",
       "3    huanan    95    26    43     9  2017      192\n",
       "4  huazhong   174    26    44    17  2017      104\n",
       "5     xinan   201    51    22     1  2017       90\n",
       "6     xibei   233    19     1     0  2017      112\n",
       "7   dongbei   248    27    28     0  2017       62"
      ]
     },
     "execution_count": 72,
     "metadata": {},
     "output_type": "execute_result"
    }
   ],
   "source": [
    "THIdata2017"
   ]
  },
  {
   "cell_type": "markdown",
   "metadata": {},
   "source": [
    "#### 作图"
   ]
  },
  {
   "cell_type": "code",
   "execution_count": 80,
   "metadata": {},
   "outputs": [],
   "source": [
    "area_en=['Beijing','Dongbei','Huabei','Huadong','Huanan','Huazhong','Xibei','Xinan']\n",
    "area_ch=['北京','东北','华北','华东','华南','华中','西北','西南']"
   ]
  },
  {
   "cell_type": "code",
   "execution_count": 96,
   "metadata": {},
   "outputs": [
    {
     "data": {
      "text/plain": [
       "<matplotlib.figure.Figure at 0x283a3ca69e8>"
      ]
     },
     "metadata": {},
     "output_type": "display_data"
    },
    {
     "data": {
      "image/png": "[encoded data removed]",
      "text/plain": [
       "<matplotlib.figure.Figure at 0x283f20bfa58>"
      ]
     },
     "metadata": {},
     "output_type": "display_data"
    }
   ],
   "source": [
    "plt.clf()\n",
    "fig, axes = plt.subplots(figsize=(7,3))\n",
    "plt.barh(THIdata2016['Area'],THIdata2016['THI0'],color='dodgerblue',label='THI<=68')\n",
    "plt.barh(THIdata2016['Area'],THIdata2016['THI1'],color='lightskyblue',left=THIdata2016['THI0'],label='68<THI<=72')\n",
    "plt.barh(THIdata2016['Area'],THIdata2016['THI2'],color='bisque',left=np.array(THIdata2016['THI0'])+np.array(THIdata2016['THI1']),label='72<THI<=78')\n",
    "plt.barh(THIdata2016['Area'],THIdata2016['THI3'],color='tomato',left=np.array(THIdata2016['THI0'])+np.array(THIdata2016['THI1'])+np.array(THIdata2016['THI2']),label='THI>78')\n",
    "plt.barh(THIdata2016['Area'],THIdata2016['Missing'],color='whitesmoke',left=np.array(THIdata2016['THI0'])+np.array(THIdata2016['THI1'])+np.array(THIdata2016['THI2'])+np.array(THIdata2016['THI3']),label='Missing')\n",
    "plt.legend(loc='lower left', bbox_to_anchor=(1, .48),ncol=1) \n",
    "plt.title('2016 THI')\n",
    "plt.yticks(np.arange(len(area_en)),area_en)\n",
    "plt.xlabel('Number of days per year')\n",
    "plt.savefig(\"F:\\\\weather\\\\2016THI_en.png\",bbox_inches='tight',dpi=600)"
   ]
  },
  {
   "cell_type": "code",
   "execution_count": 97,
   "metadata": {},
   "outputs": [
    {
     "data": {
      "image/png": "[encoded data removed]",
      "text/plain": [
       "<matplotlib.figure.Figure at 0x283f2420198>"
      ]
     },
     "metadata": {},
     "output_type": "display_data"
    }
   ],
   "source": [
    "a=fig, axes = plt.subplots(figsize=(7,3))\n",
    "a=plt.barh(THIdata2017['Area'],THIdata2017['THI0'],color='dodgerblue',label='THI<=68')\n",
    "a=plt.barh(THIdata2017['Area'],THIdata2017['THI1'],color='lightskyblue',left=THIdata2017['THI0'],label='68<THI<=72')\n",
    "a=plt.barh(THIdata2017['Area'],THIdata2017['THI2'],color='bisque',left=np.array(THIdata2017['THI0'])+np.array(THIdata2017['THI1']),label='72<THI<=78')\n",
    "a=plt.barh(THIdata2017['Area'],THIdata2017['THI3'],color='tomato',left=np.array(THIdata2017['THI0'])+np.array(THIdata2017['THI1'])+np.array(THIdata2017['THI2']),label='THI>78')\n",
    "a=plt.barh(THIdata2017['Area'],THIdata2017['Missing'],color='whitesmoke',left=np.array(THIdata2017['THI0'])+np.array(THIdata2017['THI1'])+np.array(THIdata2017['THI2'])+np.array(THIdata2017['THI3']),label='Missing')\n",
    "plt.legend(loc='lower left', bbox_to_anchor=(1, .48),ncol=1) \n",
    "plt.title('2017 THI')\n",
    "plt.yticks(np.arange(len(area_en)),area_en)\n",
    "plt.xlabel('Number of days per year')\n",
    "plt.savefig(\"F:\\\\weather\\\\2017THI_en.png\",bbox_inches='tight',dpi=600)"
   ]
  },
  {
   "cell_type": "code",
   "execution_count": 98,
   "metadata": {},
   "outputs": [
    {
     "data": {
      "text/plain": [
       "<matplotlib.figure.Figure at 0x283f2160d68>"
      ]
     },
     "metadata": {},
     "output_type": "display_data"
    },
    {
     "data": {
      "image/png": "[encoded data removed]",
      "text/plain": [
       "<matplotlib.figure.Figure at 0x283f21d50f0>"
      ]
     },
     "metadata": {},
     "output_type": "display_data"
    }
   ],
   "source": [
    "plt.clf()\n",
    "fig, axes = plt.subplots(figsize=(7,3))\n",
    "plt.barh(THIdata2016['Area'],THIdata2016['THI0'],color='dodgerblue',label='THI<=68')\n",
    "plt.barh(THIdata2016['Area'],THIdata2016['THI1'],color='lightskyblue',left=THIdata2016['THI0'],label='68<THI<=72')\n",
    "plt.barh(THIdata2016['Area'],THIdata2016['THI2'],color='bisque',left=np.array(THIdata2016['THI0'])+np.array(THIdata2016['THI1']),label='72<THI<=78')\n",
    "plt.barh(THIdata2016['Area'],THIdata2016['THI3'],color='tomato',left=np.array(THIdata2016['THI0'])+np.array(THIdata2016['THI1'])+np.array(THIdata2016['THI2']),label='THI>78')\n",
    "plt.barh(THIdata2016['Area'],THIdata2016['Missing'],color='whitesmoke',left=np.array(THIdata2016['THI0'])+np.array(THIdata2016['THI1'])+np.array(THIdata2016['THI2'])+np.array(THIdata2016['THI3']),label='缺失')\n",
    "plt.legend(loc='lower left', bbox_to_anchor=(1, .48),ncol=1) \n",
    "plt.title('2016 THI')\n",
    "plt.yticks(np.arange(len(area_ch)),area_ch)\n",
    "plt.xlabel('一年内天数')\n",
    "plt.savefig(\"F:\\\\weather\\\\2016THI_ch.png\",bbox_inches='tight',dpi=600)"
   ]
  },
  {
   "cell_type": "code",
   "execution_count": 99,
   "metadata": {},
   "outputs": [
    {
     "data": {
      "image/png": "[encoded data removed]",
      "text/plain": [
       "<matplotlib.figure.Figure at 0x283f24631d0>"
      ]
     },
     "metadata": {},
     "output_type": "display_data"
    }
   ],
   "source": [
    "a=fig, axes = plt.subplots(figsize=(7,3))\n",
    "a=plt.barh(THIdata2017['Area'],THIdata2017['THI0'],color='dodgerblue',label='THI<=68')\n",
    "a=plt.barh(THIdata2017['Area'],THIdata2017['THI1'],color='lightskyblue',left=THIdata2017['THI0'],label='68<THI<=72')\n",
    "a=plt.barh(THIdata2017['Area'],THIdata2017['THI2'],color='bisque',left=np.array(THIdata2017['THI0'])+np.array(THIdata2017['THI1']),label='72<THI<=78')\n",
    "a=plt.barh(THIdata2017['Area'],THIdata2017['THI3'],color='tomato',left=np.array(THIdata2017['THI0'])+np.array(THIdata2017['THI1'])+np.array(THIdata2017['THI2']),label='THI>78')\n",
    "a=plt.barh(THIdata2017['Area'],THIdata2017['Missing'],color='whitesmoke',left=np.array(THIdata2017['THI0'])+np.array(THIdata2017['THI1'])+np.array(THIdata2017['THI2'])+np.array(THIdata2017['THI3']),label='缺失')\n",
    "plt.legend(loc='lower left', bbox_to_anchor=(1, .48),ncol=1) \n",
    "plt.title('2017 THI')\n",
    "plt.yticks(np.arange(len(area_ch)),area_ch)\n",
    "plt.xlabel('一年内天数')\n",
    "plt.savefig(\"F:\\\\weather\\\\2017THI_ch.png\",bbox_inches='tight',dpi=600)"
   ]
  }
 ],
 "metadata": {
  "kernelspec": {
   "display_name": "Python 3",
   "language": "python",
   "name": "python3"
  },
  "language_info": {
   "codemirror_mode": {
    "name": "ipython",
    "version": 3
   },
   "file_extension": ".py",
   "mimetype": "text/x-python",
   "name": "python",
   "nbconvert_exporter": "python",
   "pygments_lexer": "ipython3",
   "version": "3.6.4"
  },
  "toc": {
   "base_numbering": 1,
   "nav_menu": {},
   "number_sections": true,
   "sideBar": true,
   "skip_h1_title": false,
   "title_cell": "Table of Contents",
   "title_sidebar": "Contents",
   "toc_cell": false,
   "toc_position": {
    "height": "calc(100% - 180px)",
    "left": "10px",
    "top": "150px",
    "width": "341px"
   },
   "toc_section_display": true,
   "toc_window_display": true
  }
 },
 "nbformat": 4,
 "nbformat_minor": 2
}
