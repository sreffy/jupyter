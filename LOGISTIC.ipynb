{
 "cells": [
  {
   "cell_type": "markdown",
   "metadata": {},
   "source": [
    "# Logistic回归"
   ]
  },
  {
   "cell_type": "markdown",
   "metadata": {},
   "source": [
    "## 线性回归与Logistic回归的联系"
   ]
  },
  {
   "cell_type": "markdown",
   "metadata": {},
   "source": [
    "已知线性回归的模型可以表示为：y=w<sup>T</sup>x+b，假设我们认为示例所对应的输出标记是在指数尺度上的变化，那就可将输出标记的对数作为线性模型逼近的目标，即：lny=w<sup>T</sup>x+b。这就是对数线性回归模型，它实际上是试图让e<sup>w<sup>T</sup>x+b</sup>逼近y，实质上是在求取输入空间到输出空间的非线性函数映射。"
   ]
  },
  {
   "cell_type": "markdown",
   "metadata": {},
   "source": [
    "更一般地，考虑单调可微函数g（.），令y=g<sup>-1</sup>(w<sup>T</sup>x+b)，由此得到的模型称为广义线性模型，其中函数g（.）称为联系函数。显然，对数线性回归是广义线性模型在g（.）=ln（.）时的特例。在进行分类任务时，只需找一个单调可微函数将分类任务的真实标记y与线性回归模型的预测值联系起来即可。\n",
    "\n",
    "考虑二分类任务，输出标记y为0,1；但线性回归模型产生的预测值z=w<sup>T</sup>x+b是一个实值，于是，我们需要将实值z转化为0/1值。logistic函数则可做到这点：$$ y = \\dfrac{1}{1+e^{-z}} $$\n",
    "\n",
    "将两式子联合可得到：$$ y = \\dfrac{1}{1+e^{-{w^Tx+b}}} $$\n",
    "\n",
    "变换为对数形式：$$ ln\\dfrac{y}{1-y} = w^Tx+b $$"
   ]
  },
  {
   "cell_type": "markdown",
   "metadata": {},
   "source": [
    "若将y视为样本作为正类的可能性，则1-y就是其反例的可能性，二者比值称为几率（odds）反映了x作为正类的相对可能性。对几率取对数称为对数几率，即logit，这也就是logisitic回归与线性回归之间的联系。"
   ]
  },
  {
   "cell_type": "markdown",
   "metadata": {},
   "source": [
    "## 最大熵模型"
   ]
  },
  {
   "cell_type": "markdown",
   "metadata": {},
   "source": [
    "### 最大熵原理"
   ]
  },
  {
   "cell_type": "markdown",
   "metadata": {},
   "source": [
    "最大熵原理是概率模型学习的一个准则。在学习概率模型时，在所有可能的概率分布中，熵最大的模型就是最好的模型。\n",
    "假设离散随机变量X的概率分布为P(X)，其熵为 $$\tH(P)=-\\sum_{x}\\ P(x)logP(x) $$\n",
    "熵满足下列不等式：$$ 0\\leq H(P)\\leq log|X|$$"
   ]
  },
  {
   "cell_type": "markdown",
   "metadata": {},
   "source": [
    "当X服从均匀分布时，熵达到最大。"
   ]
  }
 ],
 "metadata": {
  "kernelspec": {
   "display_name": "Python 3",
   "language": "python",
   "name": "python3"
  },
  "language_info": {
   "codemirror_mode": {
    "name": "ipython",
    "version": 3
   },
   "file_extension": ".py",
   "mimetype": "text/x-python",
   "name": "python",
   "nbconvert_exporter": "python",
   "pygments_lexer": "ipython3",
   "version": "3.6.4"
  }
 },
 "nbformat": 4,
 "nbformat_minor": 2
}
