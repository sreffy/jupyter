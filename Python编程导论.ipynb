{
 "cells": [
  {
   "cell_type": "markdown",
   "metadata": {},
   "source": [
    "# Week 1 Python Basics (MITX 6.00.1x)"
   ]
  },
  {
   "cell_type": "markdown",
   "metadata": {},
   "source": [
    "## 第1章 启程"
   ]
  },
  {
   "cell_type": "markdown",
   "metadata": {},
   "source": [
    "计算机能且只能做两件事：（1）执行计算(caculations);（2）保存结果(remembers)。尽管计算机的计算速度飞快（10亿次/秒），存储量巨大（GB）但如果只进行简单计算要完成一项复杂任务所花费的时间也会很长，所以好的算法能够提高计算机的效率。除了复杂问题需要的时间多以外，一些问题也被认为是计算机无法解决的，如图灵停机问题：不存在程序P：当且仅当P永远运行时输出为True。\n",
    "\n",
    "所有的知识可以归为两类：（1）陈述性知识(declarative knowledge)；（2）程序性知识(imperative knowledge)。\n",
    "陈述性知识即是对事实的描述组成，程序性知识说明‘如何做’，描述信息演绎的过程。例如计算平方根的方法：\n",
    "\n",
    "(1) 随机选择一个数g；\n",
    "\n",
    "(2) 如果g × g足够接近x，那么停止计算，将g作为答案；\n",
    "\n",
    "(3) 否则，将g和x/g的平均数作为新数，也就是(g + x/g)/2；\n",
    "\n",
    "(4) 使用新选择的数——还是称其为g——重复这个过程，直到g × g足够接近x。\n",
    "\n",
    "这种‘如何做’的方法被称为算法，算法大致包括三个要素：（1）一系列步骤(sequece of steps)；（2）一个控制流(control flow)决定步骤执行的条件;（3）结束的控制(when to stop)。算法是一系列的步骤及想法的结合，而算法的实例化，就是程序。\n",
    "\n",
    "那么什么是计算机思维？其实就是把每件事情当做数学问题来进行思考，用一些数字及公式加以描述。"
   ]
  },
  {
   "cell_type": "markdown",
   "metadata": {},
   "source": [
    "为了将算法思维应用到机械过程中，一般有2种方式：（1）设计解决特定问题的计算机(fixed program computer)，如计算器；（2）设计具有存储并可处理一系列指令的计算机(stored program computer)，如现代计算机，其基本结构如下：具有一个储存器，一个算术逻辑单元和控制单元。"
   ]
  },
  {
   "cell_type": "markdown",
   "metadata": {},
   "source": [
    "<img src='machine.PNG' width='40%'>"
   ]
  },
  {
   "cell_type": "markdown",
   "metadata": {},
   "source": [
    "存储单元中的一系列指令是由计算机原语组成，而现代计算机的核心是一个可以执行任意合法指令集的程序（称为解释器），这样计算机便可以按照所给顺序计算一系列的指令。\n",
    "\n",
    "图灵提出：使用6个原语就能计算任何问题。现代计算机可以简化一些方法创造新的原语，并且原语能够被使用于任何程序语言中，所以没有哪一门语言是最好的。"
   ]
  },
  {
   "cell_type": "markdown",
   "metadata": {},
   "source": [
    "想要在一门语言中创造算法，必须遵守语言的基本结构和语法。以自然语言英语为例，那么基本结构就是单词，语法则用来描述哪些单词放在一起可以组成通顺的句子，静态语义定义了哪些句子是有意义的，语义则定义了句子的实际含义。\n",
    "\n",
    "Python的基本结构包括：字面量（3.2,'abc'）和中缀操作符(+,.)；语法定义了字符与符号组成句子的正确形式：3.2+3.2；静态语义定义了哪些语法有效的句子是有意义的：3.2/'abc' vs 3.2/1.0；语义为每个语法正确又没有静态语义错误的句子关联一个含义：每个程序都只有一种确切含义。可能的错误如下：\n",
    "\n",
    "语法错误(syntactic errors)：危害性小，程序绝不允许语法错误。\n",
    "\n",
    "静态语义错误(static semantic errors)：Python弱静态语义检查，Java强。\n",
    "\n",
    "语义错误(semantic errors)：含义错误，并不是你想要的含义（导致奔溃，无限循环等）。\n",
    "\n",
    "我们的目标可总结为：\n",
    "\n",
    "（1）学习程序语言的基本结构、语法以及语义；\n",
    "\n",
    "（2）学习使用这些基本元素创造计算机可运行的算法；\n",
    "\n",
    "（3）学习使用计算机思维将实际问题转变为电脑能够运行的算法，进而解决实际问题。"
   ]
  },
  {
   "cell_type": "markdown",
   "metadata": {},
   "source": [
    "## 第2章 Python简介"
   ]
  },
  {
   "cell_type": "markdown",
   "metadata": {},
   "source": [
    "### Python基础"
   ]
  },
  {
   "cell_type": "markdown",
   "metadata": {},
   "source": [
    "Python是一门面向对象(object)的通用性及解释型编程语言。\n",
    "Python使用的程序是一系列定义和命令，有时称为脚本； Python解释器，有时称为shell，用来求值这些定义并执行命令；命令通常称为语句，用来指示解释器做一些事情，如 print(\"Python\")。\n",
    "\n",
    "对象是Python程序处理的核心元素,定义了程序能够在这个对象上做的操作。对象类型分为标量（不可分，如整数）和非标量（具有内部结构，如字符串）：int表示整数，2；float表示实数，2.0；bool表示布尔值，True；NoneType表示None值。可以使用type()函数判断对象的类型，float()等使对象类型进行转换："
   ]
  },
  {
   "cell_type": "code",
   "execution_count": 1,
   "metadata": {},
   "outputs": [
    {
     "data": {
      "text/plain": [
       "int"
      ]
     },
     "execution_count": 1,
     "metadata": {},
     "output_type": "execute_result"
    }
   ],
   "source": [
    "type(2)"
   ]
  },
  {
   "cell_type": "code",
   "execution_count": 2,
   "metadata": {},
   "outputs": [
    {
     "data": {
      "text/plain": [
       "3.0"
      ]
     },
     "execution_count": 2,
     "metadata": {},
     "output_type": "execute_result"
    }
   ],
   "source": [
    "float(3)"
   ]
  },
  {
   "cell_type": "markdown",
   "metadata": {},
   "source": [
    "表达式=对象+操作符。int和float类型支持的操作符如下，算术优先级与数学相同：\n",
    "\n",
    "<img src='machine2.PNG' width='40%'>\n",
    "\n",
    "除此外，i==j表示相等，i!=j表示不等。\n",
    "\n",
    "bool类型上的基本操作符为and、 or和not。\n",
    "\n",
    "（1）a and b：当a和b都为True时，值为True，否则为False；\n",
    "\n",
    "（2）a or b：当a和b至少有一个为True时，值为True，否则为False；\n",
    "\n",
    "（3）not a：如果a为False，值为True；如果a为True，值为False。"
   ]
  },
  {
   "cell_type": "markdown",
   "metadata": {},
   "source": [
    "‘=’为Python中的赋值符号，可以将值赋给特定变量，在Python中，变量仅是名称，没有其他意义。赋值语句如下所示。给变量赋值可以方便修改代码，也便于重复调用。\n",
    "\n",
    "Python中有少量的保留字，如and,if等，不可用作变量名"
   ]
  },
  {
   "cell_type": "code",
   "execution_count": 3,
   "metadata": {},
   "outputs": [
    {
     "data": {
      "text/plain": [
       "15.205295600000001"
      ]
     },
     "execution_count": 3,
     "metadata": {},
     "output_type": "execute_result"
    }
   ],
   "source": [
    "pi=3.14159\n",
    "radius=2.2\n",
    "pi*(radius**2)"
   ]
  },
  {
   "cell_type": "markdown",
   "metadata": {},
   "source": [
    "Python还支持多重赋值："
   ]
  },
  {
   "cell_type": "code",
   "execution_count": 4,
   "metadata": {},
   "outputs": [
    {
     "name": "stdout",
     "output_type": "stream",
     "text": [
      "x = 3\n",
      "y = 2\n"
     ]
    }
   ],
   "source": [
    "x, y = 2, 3\n",
    "x, y = y, x\n",
    "print ('x =', x)\n",
    "print ('y =', y)"
   ]
  },
  {
   "cell_type": "markdown",
   "metadata": {},
   "source": [
    "### 程序分支"
   ]
  },
  {
   "cell_type": "markdown",
   "metadata": {},
   "source": [
    "条件语句包括3个部分：\n",
    "\n",
    "（1）测试：即一个表达式，取值或者为True，或者为False；\n",
    "\n",
    "（2）代码块：测试条件取值为True时执行；\n",
    "\n",
    "（3）可选代码块：测试条件取值为False时执行。\n",
    "\n",
    "<img src='machine3.PNG' width='30%'>"
   ]
  },
  {
   "cell_type": "code",
   "execution_count": 5,
   "metadata": {},
   "outputs": [
    {
     "name": "stdout",
     "output_type": "stream",
     "text": [
      "Even\n",
      "Done with conditional\n"
     ]
    }
   ],
   "source": [
    "x=4\n",
    "if x%2==0:\n",
    "    print('Even')\n",
    "else:\n",
    "    print('Odd')\n",
    "print('Done with conditional')"
   ]
  },
  {
   "cell_type": "markdown",
   "metadata": {},
   "source": [
    "缩进在Python中是具有语义意义的。例如，如果上面代码中的最后一条语句是缩进的，那么它就会属于else代码块，而不是与条件语句并列的语句。"
   ]
  },
  {
   "cell_type": "code",
   "execution_count": 15,
   "metadata": {},
   "outputs": [
    {
     "name": "stdout",
     "output_type": "stream",
     "text": [
      "11\n"
     ]
    }
   ],
   "source": [
    "#P14 实际练习：编写一个程序，检查3个变量x、 y和z，输出其中最大的奇数。如果其中没有奇数，就输出一个消息进行说明。\n",
    "x,y,z=5,11,18\n",
    "if x>y and x>z:\n",
    "    if x%2!=0:\n",
    "        print(x)\n",
    "    elif y>z:\n",
    "        if y%2!=0:\n",
    "            print(y)\n",
    "        elif z%2!=0:\n",
    "            print(z)\n",
    "        else:\n",
    "            print('None of them is Odd!')\n",
    "    elif z%2!=0:\n",
    "        print(z)\n",
    "    else:\n",
    "        print('None of them is Odd!')\n",
    "elif y>x and y>z:\n",
    "    if y%2!=0:\n",
    "        print(y)\n",
    "    elif x>z:\n",
    "        if x%2!=0:\n",
    "            print(x)\n",
    "        elif z%2!=0:\n",
    "            print(z)\n",
    "        else:\n",
    "            print('None of them is Odd!')\n",
    "    elif z%2!=0:\n",
    "        print(z)\n",
    "    else:\n",
    "        print('None of them is Odd!')\n",
    "elif z%2!=0:\n",
    "    print(z)\n",
    "elif x>y:\n",
    "    if x%2!=0:\n",
    "        print(x)\n",
    "    elif y%2!=0:\n",
    "        print(y)\n",
    "    else:\n",
    "        print('None of them is Odd!')\n",
    "elif y%2!=0:\n",
    "    print(y)\n",
    "else:\n",
    "    print('None of them is Odd!')"
   ]
  },
  {
   "cell_type": "markdown",
   "metadata": {},
   "source": [
    "条件语句可以使我们将程序编写得比直线型程序更有趣，但分支型程序的等级仍然有限。对于某种等级的程序，衡量其能力的方法可以是看看它能够运行多长时间。有n行代码的分支型程序的运行的时间可能会少于n个单位时间，但绝不会超过n个单位时间。如果一个程序运行的最长时间是由程序度决定的，那么可以称为以常数时间运行，而常数时间程序的功能很有限。如上述练习代码嵌套就比较复杂。"
   ]
  },
  {
   "cell_type": "markdown",
   "metadata": {},
   "source": [
    "### 字符串和输入输出"
   ]
  },
  {
   "cell_type": "markdown",
   "metadata": {},
   "source": [
    "str类型的对象用来表示由字符组成的字符串。str类型的字面量可以用单引号或双引号表示，如'abc'或\"abc\"。字面量'123'表示有3个字符的字符串，而不是数值123。字符串的基本操作如下：\n",
    "\n",
    "<img src='machine4.PNG' width='40%'>"
   ]
  },
  {
   "cell_type": "code",
   "execution_count": 16,
   "metadata": {},
   "outputs": [
    {
     "data": {
      "text/plain": [
       "'ytho'"
      ]
     },
     "execution_count": 16,
     "metadata": {},
     "output_type": "execute_result"
    }
   ],
   "source": [
    "'Python'[1:-1]"
   ]
  },
  {
   "cell_type": "markdown",
   "metadata": {},
   "source": [
    "Python 3中有一个input函数，可以直接接受用户输入。它可以使用一个字符串作为参数，显示在shell中作为提示信息，然后等待用户输入，用户输入以回车键结束。用户输入的行信息被看作一个字符串，并成为这个函数的返回值。若要输入数字，则需进行类型转换："
   ]
  },
  {
   "cell_type": "code",
   "execution_count": 17,
   "metadata": {},
   "outputs": [
    {
     "name": "stdout",
     "output_type": "stream",
     "text": [
      "Type a number... 5\n",
      "25\n"
     ]
    }
   ],
   "source": [
    "num = int(input(\"Type a number... \"))\n",
    "print(5*num)"
   ]
  },
  {
   "cell_type": "markdown",
   "metadata": {},
   "source": [
    "当print语句有多个参数时，会在每个参数对应的值之间加上一个空格。为了控制空格数量，一般多个输出参数可以用‘+’连接。"
   ]
  },
  {
   "cell_type": "code",
   "execution_count": 18,
   "metadata": {},
   "outputs": [
    {
     "name": "stdout",
     "output_type": "stream",
     "text": [
      "Enter your name: SR\n",
      "Are you really SR ?\n",
      "Are you really SR?\n"
     ]
    }
   ],
   "source": [
    "name = input('Enter your name: ')\n",
    "print('Are you really', name, '?')\n",
    "print('Are you really ' + name + '?')"
   ]
  },
  {
   "cell_type": "markdown",
   "metadata": {},
   "source": [
    "### 迭代"
   ]
  },
  {
   "cell_type": "markdown",
   "metadata": {},
   "source": [
    "多数计算任务不能使用分支程序完成。例如，假设要编写一个程序，先询问用户想输出多少个字母X，然后输出包含该数量X的字符串，这样写条件从句时会有无穷多个。\n",
    "\n",
    "需要程序多次做同一件事情的时候，可以使用迭代语句。一般的迭代（也称循环）机制如图：\n",
    "\n",
    "<img src='machine5.PNG' width='30%'>\n",
    "\n",
    "与条件语句类似，它从一个测试条件开始。如果测试条件取值为True，程序就执行一次循环体，然后重新检查测试条件。一直重复这个过程，直到测试条件为False，此后程序控制权就传递给迭代语句后面的代码。"
   ]
  },
  {
   "cell_type": "code",
   "execution_count": 21,
   "metadata": {},
   "outputs": [
    {
     "name": "stdout",
     "output_type": "stream",
     "text": [
      "3*3 = 9\n"
     ]
    }
   ],
   "source": [
    "x = 3\n",
    "ans = 0\n",
    "itersLeft = x\n",
    "while (itersLeft != 0):\n",
    "    ans = ans + x\n",
    "    itersLeft = itersLeft - 1\n",
    "print(str(x) + '*' + str(x) + ' = ' + str(ans))"
   ]
  },
  {
   "cell_type": "markdown",
   "metadata": {},
   "source": [
    "有时候，不用检查循环条件就跳出循环是非常方便的。我们可以使用break语句结束它所在的循环，将控制流转到紧随循环语句后面的代码中。"
   ]
  },
  {
   "cell_type": "code",
   "execution_count": 22,
   "metadata": {},
   "outputs": [
    {
     "name": "stdout",
     "output_type": "stream",
     "text": [
      "132 is divisible by 11 and 12\n"
     ]
    }
   ],
   "source": [
    "x = 1\n",
    "while True:\n",
    "    if x%11 == 0 and x%12 == 0:\n",
    "        break\n",
    "    x = x + 1\n",
    "print(x, 'is divisible by 11 and 12')"
   ]
  },
  {
   "cell_type": "code",
   "execution_count": 27,
   "metadata": {},
   "outputs": [
    {
     "name": "stdout",
     "output_type": "stream",
     "text": [
      "Enter a integer: 2\n",
      "Enter a integer: 2\n",
      "Enter a integer: 2\n",
      "Enter a integer: 2\n",
      "Enter a integer: 2\n",
      "Enter a integer: 2\n",
      "Enter a integer: 2\n",
      "Enter a integer: 2\n",
      "Enter a integer: 2\n",
      "Enter a integer: 2\n",
      "No Odd!\n"
     ]
    }
   ],
   "source": [
    "#P19实际练习：编写一个程序，要求用户输入10个整数，然后输出其中最大的奇数。如果用户没有输入奇数，则输出一个消息进行说明。\n",
    "num=0\n",
    "i=1\n",
    "while i<=10:\n",
    "    new=int(input('Enter a integer: '))\n",
    "    if num<new and new%2 !=0:\n",
    "        num=new\n",
    "    i+=1\n",
    "if num!=0:\n",
    "    print(num)\n",
    "else:\n",
    "    print('No Odd!')"
   ]
  },
  {
   "cell_type": "markdown",
   "metadata": {},
   "source": [
    "while循环是高度程式化的，即都按照一个整数序列进行迭代。 Python提供了一种语言机制简化使用这种迭代方式的程序，这就是for循环。\n",
    "\n",
    "for variable in sequence:\n",
    "    \n",
    "    code block\n",
    "    \n",
    "for后面的变量被绑定到序列中的第一个值，并执行下面的代码块。然后变量被赋给序列中的第二个值，再次执行代码块。该过程一直继续，直到穷尽这个序列或者执行到代码块中的break语句。"
   ]
  },
  {
   "cell_type": "code",
   "execution_count": 29,
   "metadata": {},
   "outputs": [
    {
     "name": "stdout",
     "output_type": "stream",
     "text": [
      "0\n",
      "1\n",
      "2\n",
      "3\n"
     ]
    }
   ],
   "source": [
    "x = 4\n",
    "for i in range(0, x):\n",
    "    print(i)"
   ]
  },
  {
   "cell_type": "markdown",
   "metadata": {},
   "source": [
    "for循环和while循环的比较如下所示：\n",
    "\n",
    "<img src='machine6.PNG' width='40%'>"
   ]
  },
  {
   "cell_type": "markdown",
   "metadata": {},
   "source": [
    "## 第3章 一些简单数值程序"
   ]
  },
  {
   "cell_type": "code",
   "execution_count": 36,
   "metadata": {},
   "outputs": [
    {
     "name": "stdout",
     "output_type": "stream",
     "text": [
      "26\n"
     ]
    }
   ],
   "source": [
    "#P24实际练习：假设s是包含多个小数的字符串，由逗号隔开，如s = '1.23, 2.4, 3.123'。编写一个程序，输出s中所有数值的和。\n",
    "s='1.28,2.4,3.123'\n",
    "\n",
    "total=0\n",
    "for c in s:\n",
    "    if c!='.'and c!=',':\n",
    "        total=total+int(c)\n",
    "print(total)"
   ]
  },
  {
   "cell_type": "code",
   "execution_count": 40,
   "metadata": {},
   "outputs": [
    {
     "name": "stdout",
     "output_type": "stream",
     "text": [
      "low = -27 high = 1.0 ans = -13.0\n",
      "low = -13.0 high = 1.0 ans = -6.0\n",
      "low = -6.0 high = 1.0 ans = -2.5\n",
      "low = -6.0 high = -2.5 ans = -4.25\n",
      "low = -4.25 high = -2.5 ans = -3.375\n",
      "low = -3.375 high = -2.5 ans = -2.9375\n",
      "low = -3.375 high = -2.9375 ans = -3.15625\n",
      "low = -3.15625 high = -2.9375 ans = -3.046875\n",
      "low = -3.046875 high = -2.9375 ans = -2.9921875\n",
      "low = -3.046875 high = -2.9921875 ans = -3.01953125\n",
      "low = -3.01953125 high = -2.9921875 ans = -3.005859375\n",
      "low = -3.005859375 high = -2.9921875 ans = -2.9990234375\n",
      "low = -3.005859375 high = -2.9990234375 ans = -3.00244140625\n",
      "low = -3.00244140625 high = -2.9990234375 ans = -3.000732421875\n",
      "numGuesses = 14\n",
      "-2.9998779296875 is close to cube root of -27\n"
     ]
    }
   ],
   "source": [
    "#P27实际练习：应该如何修改图3-4中的代码，才能求出一个数的立方根？这个数既可以是正数，也可以是负数。（提示：修改low保证答案位于待查找区域。）\n",
    "\n",
    "x = -27\n",
    "epsilon = 0.01\n",
    "numGuesses = 0\n",
    "low = min(0.0,x)\n",
    "high = max(1.0, x)\n",
    "ans = (high + low)/2.0\n",
    "while abs(ans**3 - x) >= epsilon:\n",
    "    print('low =', low, 'high =', high, 'ans =', ans)\n",
    "    numGuesses += 1\n",
    "    if ans**3 < x:\n",
    "        low = ans\n",
    "    else:\n",
    "        high = ans\n",
    "    ans = (high + low)/2.0\n",
    "print('numGuesses =', numGuesses)\n",
    "print(ans, 'is close to cube root of', x)"
   ]
  },
  {
   "cell_type": "code",
   "execution_count": 42,
   "metadata": {},
   "outputs": [
    {
     "name": "stdout",
     "output_type": "stream",
     "text": [
      "Square root of 25.0 is about 5.000012953048684\n",
      "numGuesses = 4\n"
     ]
    }
   ],
   "source": [
    "#P30实际练习：在牛顿拉弗森法的实现中添加一些代码，跟踪求平方根所用的迭代次数。\n",
    "#在这段代码的基础上编写一个程序，比较牛顿拉弗森法和二分查找法的效率.\n",
    "\n",
    "epsilon = 0.01\n",
    "k = 25.0\n",
    "guess = k/2.0\n",
    "numguesses=0\n",
    "while abs(guess*guess - k) >= epsilon:\n",
    "    guess = guess - (((guess**2) - k)/(2*guess))\n",
    "    numguesses+=1\n",
    "print('Square root of', k, 'is about', guess)\n",
    "print('numGuesses =', numguesses)"
   ]
  },
  {
   "cell_type": "code",
   "execution_count": 52,
   "metadata": {},
   "outputs": [
    {
     "name": "stdout",
     "output_type": "stream",
     "text": [
      "Please input a string: aidugasigfigfauo\n",
      "Number of vowels:  9\n"
     ]
    }
   ],
   "source": [
    "#edX problem set 1 \n",
    "#problem 1 : Assume s is a string of lower case characters. \n",
    "#Write a program that counts up the number of vowels contained in the string s. \n",
    "#Valid vowels are: 'a', 'e', 'i', 'o', and 'u'.\n",
    "\n",
    "s=input('Please input a string: ')\n",
    "\n",
    "vowels=0\n",
    "for char in s:\n",
    "    if char == 'a' or char == 'e' or char == 'i' or char == 'o' or char == 'u':\n",
    "        vowels+=1\n",
    "print('Number of vowels: ',vowels)"
   ]
  },
  {
   "cell_type": "code",
   "execution_count": 53,
   "metadata": {
    "code_folding": []
   },
   "outputs": [
    {
     "name": "stdout",
     "output_type": "stream",
     "text": [
      "Please input a string: bobobobaofbaofboasfboabfo\n",
      "Number of bobs:  3\n"
     ]
    }
   ],
   "source": [
    "#edX problem set 1 \n",
    "#problem 2 : Assume s is a string of lower case characters.\n",
    "#Write a program that prints the number of times the string 'bob' occurs in s. \n",
    "\n",
    "s=input('Please input a string: ')\n",
    "\n",
    "bob_nums=0\n",
    "i=0\n",
    "j=3\n",
    "while j<=len(s)+1:\n",
    "    if s[i:j]=='bob':\n",
    "        bob_nums+=1\n",
    "    i+=1\n",
    "    j+=1\n",
    "print('Number of bobs: ',bob_nums)"
   ]
  },
  {
   "cell_type": "code",
   "execution_count": 63,
   "metadata": {},
   "outputs": [
    {
     "name": "stdout",
     "output_type": "stream",
     "text": [
      "Please input a string: ahfkuhafuhabcdefggh\n",
      "abcdefg\n"
     ]
    }
   ],
   "source": [
    "#edX problem set 1 \n",
    "#problem 3 : Assume s is a string of lower case characters.\n",
    "#Write a program that prints the longest substring of s in which the letters occur in alphabetical order.\n",
    "\n",
    "s=input('Please input a string: ')\n",
    "\n",
    "alpha='abcdefghijklmnopqrstuvwxyz'\n",
    "order_num=''\n",
    "i=0\n",
    "while i<=len(s):\n",
    "    for j in range(len(s)+1):\n",
    "        if s[i:j] in alpha and len(s[i:j])>len(order_num):\n",
    "            order_num=s[i:j]\n",
    "    i+=1\n",
    "print(order_num)"
   ]
  },
  {
   "cell_type": "markdown",
   "metadata": {},
   "source": [
    "# Week 2 Simple Programs"
   ]
  },
  {
   "cell_type": "markdown",
   "metadata": {},
   "source": [
    "## 第4章 函数，作用域与抽象"
   ]
  },
  {
   "cell_type": "markdown",
   "metadata": {},
   "source": [
    "### 函数定义"
   ]
  },
  {
   "cell_type": "markdown",
   "metadata": {},
   "source": [
    "一个程序包含的代码越多，就越容易出错，也越难以维护。一个好的程序通常包含了许许多多函数，函数可以实现问题的分解及抽象。在Python中，函数定义如下：\n",
    "\n",
    "          def name of function (list of formal parameters):\n",
    "\n",
    "              body of function"
   ]
  },
  {
   "cell_type": "code",
   "execution_count": 2,
   "metadata": {},
   "outputs": [],
   "source": [
    "def maxval(x,y):\n",
    "    \"\"\"\n",
    "    input: x, y, a int\n",
    "    \n",
    "    \"\"\"\n",
    "    if x> y:\n",
    "        return x\n",
    "    else:\n",
    "        return y"
   ]
  },
  {
   "cell_type": "markdown",
   "metadata": {},
   "source": [
    "上述代码即定义了一个函数，可以发现函数在被调用(called,invoked)之前不会有输出结果。函数的结构包括几个部分：\n",
    "\n",
    "（1）函数名，如上例 'maxval'；\n",
    "\n",
    "（2）形式参数，如上例 '(x,y)'；\n",
    "\n",
    "（3）说明，可选，如上例 \"\"\" \"\"\"标注部分；\n",
    "\n",
    "（4）函数体，如上例 if循环体。\n",
    "\n",
    "当函数被调用时，会执行如下过程：\n",
    "\n",
    "（1） 构成实参的表达式被求值，函数的形参被绑定到求值结果；\n",
    "\n",
    "（2） 执行点（要执行的下一条指令）从调用点转到函数体的第一条语句；\n",
    "\n",
    "（3） 执行函数体中的代码，直至遇到return语句。这时， return后面的表达式的值就成为这\n",
    "次函数调用的值；或者没有语句可以继续执行，这时函数返回的值为None；如果return后面没\n",
    "有表达式，这次调用的值也为None；\n",
    "\n",
    "（4） 这次函数调用的值就是返回值；\n",
    "\n",
    "（5） 执行点移动到紧跟在这次函数调用后面的代码。\n",
    "\n",
    "为了更直接明了的区别return语句和print语句的区别，现有如下对比图：\n",
    "\n",
    "<img src='machine7.PNG' width='50%'>"
   ]
  },
  {
   "cell_type": "code",
   "execution_count": 10,
   "metadata": {},
   "outputs": [],
   "source": [
    "#P33实际练习 编写一个函数isIn，接受两个字符串作为参数，如果一个字符串是另一个字符串的一部分，返回True\n",
    "#否则返回False。提示：你可以使用内置的str类型的操作符in。\n",
    "\n",
    "def isIn(a,b):\n",
    "    '''\n",
    "    a,b : strings\n",
    "    \n",
    "    '''\n",
    "    if a in b or b in a:\n",
    "        return True\n",
    "    else:\n",
    "        return False"
   ]
  },
  {
   "cell_type": "code",
   "execution_count": 11,
   "metadata": {},
   "outputs": [
    {
     "data": {
      "text/plain": [
       "True"
      ]
     },
     "execution_count": 11,
     "metadata": {},
     "output_type": "execute_result"
    }
   ],
   "source": [
    "isIn('abc','gsagaabcagadg')"
   ]
  },
  {
   "cell_type": "markdown",
   "metadata": {},
   "source": [
    "### 关键字参数和默认值"
   ]
  },
  {
   "cell_type": "markdown",
   "metadata": {},
   "source": [
    "在Python中，有两种方法可以将形参绑定到实参。最常用的方法是使用位置参数，即第一个形参绑定到第一个实参，第二个形参绑定到第二个实参，以此类推；另一种方法关键字参数：形参根据名称绑定到实参。"
   ]
  },
  {
   "cell_type": "code",
   "execution_count": 6,
   "metadata": {},
   "outputs": [],
   "source": [
    "def printName(firstName, lastName, reverse=False):\n",
    "    if reverse:\n",
    "        print(lastName + ', ' + firstName)\n",
    "    else:\n",
    "        print(firstName, lastName)"
   ]
  },
  {
   "cell_type": "markdown",
   "metadata": {},
   "source": [
    "'reverse=False'一项为定义的默认参数，即在不指定reverse参数时，默认为False"
   ]
  },
  {
   "cell_type": "code",
   "execution_count": 7,
   "metadata": {},
   "outputs": [
    {
     "name": "stdout",
     "output_type": "stream",
     "text": [
      "Olga Puchmajerova\n",
      "Puchmajerova, Olga\n",
      "Olga Puchmajerova\n",
      "Olga Puchmajerova\n",
      " Olga Puchmajerova\n"
     ]
    }
   ],
   "source": [
    "printName('Olga', 'Puchmajerova')\n",
    "printName('Olga', 'Puchmajerova', True)\n",
    "printName('Olga', 'Puchmajerova', reverse = False)\n",
    "printName('Olga', lastName = 'Puchmajerova', reverse = False)\n",
    "printName(lastName = 'Puchmajerova', firstName = ' Olga',\n",
    "reverse = False)"
   ]
  },
  {
   "cell_type": "code",
   "execution_count": 5,
   "metadata": {},
   "outputs": [
    {
     "ename": "SyntaxError",
     "evalue": "positional argument follows keyword argument (<ipython-input-5-85ff8ba07542>, line 1)",
     "output_type": "error",
     "traceback": [
      "\u001b[1;36m  File \u001b[1;32m\"<ipython-input-5-85ff8ba07542>\"\u001b[1;36m, line \u001b[1;32m1\u001b[0m\n\u001b[1;33m    printName('Olga', lastName = 'Puchmajerova', False)\u001b[0m\n\u001b[1;37m                                                ^\u001b[0m\n\u001b[1;31mSyntaxError\u001b[0m\u001b[1;31m:\u001b[0m positional argument follows keyword argument\n"
     ]
    }
   ],
   "source": [
    "printName('Olga', lastName = 'Puchmajerova', False)"
   ]
  },
  {
   "cell_type": "markdown",
   "metadata": {},
   "source": [
    "尽管关键字参数可以在实参列表中以任意顺序出现，但将关键字参数放在非关键字参数后面\n",
    "是不合法的。因此，上面的代码会产生错误。\n",
    "\n",
    "除此之外，函数也可以作为参数使用："
   ]
  },
  {
   "cell_type": "code",
   "execution_count": 12,
   "metadata": {},
   "outputs": [],
   "source": [
    "def func_a():\n",
    "    print('inside function_a')\n",
    "def func_b(y):\n",
    "    print('inside function_b')\n",
    "    return y()"
   ]
  },
  {
   "cell_type": "code",
   "execution_count": 15,
   "metadata": {},
   "outputs": [
    {
     "name": "stdout",
     "output_type": "stream",
     "text": [
      "inside function_b\n",
      "<function func_a at 0x000001D5456738C8>\n"
     ]
    }
   ],
   "source": [
    "print(func_b(func_a))"
   ]
  },
  {
   "cell_type": "markdown",
   "metadata": {},
   "source": [
    "### 作用域"
   ]
  },
  {
   "cell_type": "markdown",
   "metadata": {},
   "source": [
    "每个函数都定义了一个命名空间，也称为作用域。调用函数时，函数作用域中的形式参数和局部变量会被使用，但函数中的赋值语句根本不会影响函数作用域之外变量的绑定。并且在函数内部也不能修改作用域之外的变量。对于作用域的理解如下：\n",
    "\n",
    "（1）在最顶层，比如shell层，有一个符号表会跟踪记录这一层所有的名称定义和它们当前的绑定。\n",
    "\n",
    "（2）调用函数时，会建立一个新的符号表（常称为栈帧）。这个表跟踪记录函数中所有的名称\n",
    "定义（包括形参）和它们当前的绑定。如果函数体内又调用了一个函数，就再建立一个栈帧。\n",
    "\n",
    "（3）函数结束时，它的栈帧也随之消失。\n",
    "\n",
    "引用名称时，顺序并不重要。只要在函数体内任何地方有对象与名称进行绑定（即使在名称作为赋值语句左侧项之前，就已经出现在某个表达式中），就认为这个名称是函数的局部变量:"
   ]
  },
  {
   "cell_type": "code",
   "execution_count": 16,
   "metadata": {},
   "outputs": [],
   "source": [
    "def f():\n",
    "    print(x)\n",
    "def g():\n",
    "    print(x)\n",
    "    x = 1"
   ]
  },
  {
   "cell_type": "code",
   "execution_count": 17,
   "metadata": {},
   "outputs": [
    {
     "name": "stdout",
     "output_type": "stream",
     "text": [
      "3\n"
     ]
    }
   ],
   "source": [
    "x=3\n",
    "f()"
   ]
  },
  {
   "cell_type": "code",
   "execution_count": 18,
   "metadata": {},
   "outputs": [
    {
     "ename": "UnboundLocalError",
     "evalue": "local variable 'x' referenced before assignment",
     "output_type": "error",
     "traceback": [
      "\u001b[1;31m---------------------------------------------------------------------------\u001b[0m",
      "\u001b[1;31mUnboundLocalError\u001b[0m                         Traceback (most recent call last)",
      "\u001b[1;32m<ipython-input-18-bcde41f2681a>\u001b[0m in \u001b[0;36m<module>\u001b[1;34m()\u001b[0m\n\u001b[0;32m      1\u001b[0m \u001b[0mx\u001b[0m\u001b[1;33m=\u001b[0m\u001b[1;36m3\u001b[0m\u001b[1;33m\u001b[0m\u001b[0m\n\u001b[1;32m----> 2\u001b[1;33m \u001b[0mg\u001b[0m\u001b[1;33m(\u001b[0m\u001b[1;33m)\u001b[0m\u001b[1;33m\u001b[0m\u001b[0m\n\u001b[0m",
      "\u001b[1;32m<ipython-input-16-36770b58b266>\u001b[0m in \u001b[0;36mg\u001b[1;34m()\u001b[0m\n\u001b[0;32m      2\u001b[0m     \u001b[0mprint\u001b[0m\u001b[1;33m(\u001b[0m\u001b[0mx\u001b[0m\u001b[1;33m)\u001b[0m\u001b[1;33m\u001b[0m\u001b[0m\n\u001b[0;32m      3\u001b[0m \u001b[1;32mdef\u001b[0m \u001b[0mg\u001b[0m\u001b[1;33m(\u001b[0m\u001b[1;33m)\u001b[0m\u001b[1;33m:\u001b[0m\u001b[1;33m\u001b[0m\u001b[0m\n\u001b[1;32m----> 4\u001b[1;33m     \u001b[0mprint\u001b[0m\u001b[1;33m(\u001b[0m\u001b[0mx\u001b[0m\u001b[1;33m)\u001b[0m\u001b[1;33m\u001b[0m\u001b[0m\n\u001b[0m\u001b[0;32m      5\u001b[0m     \u001b[0mx\u001b[0m \u001b[1;33m=\u001b[0m \u001b[1;36m1\u001b[0m\u001b[1;33m\u001b[0m\u001b[0m\n",
      "\u001b[1;31mUnboundLocalError\u001b[0m: local variable 'x' referenced before assignment"
     ]
    }
   ],
   "source": [
    "x=3\n",
    "g()"
   ]
  },
  {
   "cell_type": "markdown",
   "metadata": {},
   "source": [
    "如上报错是因为print语句后面的赋值语句使x成为函数g中的局部变量，执行print语句时还没有被赋值。"
   ]
  },
  {
   "cell_type": "markdown",
   "metadata": {},
   "source": [
    "### 递归"
   ]
  },
  {
   "cell_type": "markdown",
   "metadata": {},
   "source": [
    "一般情况下，递归定义包括两部分。其中至少有一种基本情形可以直接得出某种特定情形的结果，还至少有一种递归情形（或称归纳情形）定义了该问题在其他情形下的结果，其他情形通常是同样问题的简化版本。\n",
    "\n",
    "以乘法运算为例，乘法即是将某个数与自身相加n次，即$a*b=a+a+...+a$，但应用递归的思维，我们可以把它看做$a*b=a+a*(b-1)$，并一直往后递推。可见当b=1时，a就是其自身，这就是定义中说到的基本情形(base case)，当b>1时则为递归情形(recursive step)。代码实现如下："
   ]
  },
  {
   "cell_type": "code",
   "execution_count": 19,
   "metadata": {},
   "outputs": [],
   "source": [
    "def mult(a,b):\n",
    "    if b==1:\n",
    "        return a\n",
    "    else:\n",
    "        return a + mult(a,b-1)"
   ]
  },
  {
   "cell_type": "markdown",
   "metadata": {},
   "source": [
    "可见递归在函数最后又再一次调用函数，上例中当进行递归调用时，使用的值总是比调用它所用的值小1。最终，递归会在调用mult(a,1)时结束。下图为递归调用时作用域的变化：\n",
    "\n",
    "<img src='machine8.PNG' width='70%'>"
   ]
  },
  {
   "cell_type": "markdown",
   "metadata": {},
   "source": [
    "由上我们可以观察到：\n",
    "\n",
    "（1）每次调用递归函数时都会各自创建一个新的作用域；\n",
    "\n",
    "（2）在各自的作用域中，绑定变量的值不会随着递归的进行而发生改变；\n",
    "\n",
    "（3）当递归函数最后的返回值时，它会按顺序往前传递函数结果值，最终得到递归结果。\n",
    "\n",
    "递归代码往往比迭代代码更加简单，能让程序员更加容易理解代码含义，但是递归算法的运行内存消耗要大于迭代算法。"
   ]
  },
  {
   "cell_type": "markdown",
   "metadata": {},
   "source": [
    "回文检测是递归在非数值问题中的应用，使用递归方法可以检查一个字符串在顺读和倒读时是否一样，其代码如下："
   ]
  },
  {
   "cell_type": "code",
   "execution_count": 20,
   "metadata": {},
   "outputs": [],
   "source": [
    "def isPalindrome(s):\n",
    "    def toChars(s):\n",
    "        s = s.lower()\n",
    "        ans = ''\n",
    "    for c in s:\n",
    "        if c in 'abcdefghijklmnopqrstuvwxyz':\n",
    "            ans = ans + c\n",
    "    return ans\n",
    "    def isPal(s):\n",
    "        if len(s) <= 1:\n",
    "            return True\n",
    "        else:\n",
    "            return s[0] == s[-1] and isPal(s[1:-1])\n",
    "    return isPal(toChars(s))"
   ]
  },
  {
   "cell_type": "markdown",
   "metadata": {},
   "source": [
    "toChars函数表示将输入字符串全变为小写，并且去除空格，isPal函数使用递归完成实际的工作。else字句中的合取项①是从左到右进行求值的。代码先检查字符串的第一个字母和最后一个字母是否相同，如果相同，则继续检查去掉这两个字母之后的字符串是否是回文字符串。除非第一个合取项取值为True，否则第二个合取项不被求值。\n",
    "\n",
    "此函数的实现是分治策略的典型例子(divide and conquer)：\n",
    "\n",
    "（1）子问题比初始问题更容易解决；\n",
    "\n",
    "（2）子问题的解决方案可以组合起来解决初始问题。"
   ]
  },
  {
   "cell_type": "markdown",
   "metadata": {},
   "source": [
    "### 模块与文件"
   ]
  },
  {
   "cell_type": "markdown",
   "metadata": {},
   "source": [
    "模块就是一个包含Python定义和语句的.py文件。运行import M语句后，会将模块M绑定到import语句所在的作用域中。因此，在导入上下文中，我们使用点标记法表示引用的名称是定义在导入模块中的。\n",
    "\n",
    "还有一种import语句的变种，允许导入程序不需使用模块名称即可访问定义在被导入模块中的名称。执行语句from M import *会将M中定义的所有对象绑定到当前作用域，而不是M本身。"
   ]
  },
  {
   "cell_type": "markdown",
   "metadata": {},
   "source": [
    "Python中一些常用的文件操作总结如下：\n",
    "\n",
    "open(fn, 'w')：fn是一个表示文件名的字符串。创建一个文件用来写入数据，返回文件句柄\n",
    "\n",
    "open(fn, 'r')：fn是一个表示文件名的字符串。打开一个已有文件读取数据，返回文件句柄。\n",
    "\n",
    "open(fn, 'a')：fn是一个表示文件名的字符串。打开一个已有文件用来追加数据，返回文件句柄。\n",
    "\n",
    "fh.read()：返回一个字符串，其中包含与文件句柄fh相关的文件中的内容。\n",
    "\n",
    "fh.readline()：返回与文件句柄fh相关的文件中的下一行。\n",
    "\n",
    "fh.readlines()：返回一个列表，列表中的每个元素都是与文件句柄fh相关的文件中的行。\n",
    "\n",
    "fh.write(s)：将字符串s写入与文件句柄fh相关的文件末尾。\n",
    "\n",
    "fh.writeLines(S)：S是个字符串序列。将S中的每个元素作为一个单独的行写入与文件句柄fh相关的文件。\n",
    "\n",
    "fh.close()：关闭与文件句柄fh相关的文件"
   ]
  },
  {
   "cell_type": "markdown",
   "metadata": {},
   "source": [
    "## 习题总结"
   ]
  },
  {
   "cell_type": "code",
   "execution_count": 2,
   "metadata": {},
   "outputs": [
    {
     "name": "stdout",
     "output_type": "stream",
     "text": [
      "Please think of a number between 0 and 100!\n",
      "Is your secret number 50?\n",
      "Enter 'h' to indicate the guess is too high. Enter 'l' to indicate the guess is too low.Enter 'c' to indicate I guessed correctly. h\n",
      "Is your secret number 25?\n",
      "Enter 'h' to indicate the guess is too high. Enter 'l' to indicate the guess is too low.Enter 'c' to indicate I guessed correctly. l\n",
      "Is your secret number 37?\n",
      "Enter 'h' to indicate the guess is too high. Enter 'l' to indicate the guess is too low.Enter 'c' to indicate I guessed correctly. y\n",
      "Sorry, I did not understand your input.\n",
      "Is your secret number 37?\n",
      "Enter 'h' to indicate the guess is too high. Enter 'l' to indicate the guess is too low.Enter 'c' to indicate I guessed correctly. c\n",
      "Game over. Your secret number was: 37\n"
     ]
    }
   ],
   "source": [
    "#edX Excercise 3: guess my number\n",
    "#In this problem, you'll create a program that guesses a secret number!\n",
    "#The program works as follows: you (the user) thinks of an integer between 0 (inclusive) and 100 (not inclusive). \n",
    "#The computer makes guesses, and you give it input - is its guess too high or too low? \n",
    "#Using bisection search, the computer will guess the user's secret number!\n",
    "\n",
    "min=0\n",
    "max=100\n",
    "ans=int((min+max)/2)\n",
    "print('Please think of a number between 0 and 100!')\n",
    "\n",
    "while True:\n",
    "    print('Is your secret number '+str(ans)+'?')\n",
    "    hint=input(\"Enter 'h' to indicate the guess is too high. Enter 'l' to indicate the guess is too low.Enter 'c' to indicate I guessed correctly. \")\n",
    "    if hint=='l':\n",
    "        min=ans\n",
    "        ans=int((min+max)/2)\n",
    "    elif hint=='h':\n",
    "        max=ans\n",
    "        ans=int((min+max)/2)\n",
    "    elif hint=='c':\n",
    "        print('Game over. Your secret number was: '+str(ans))\n",
    "        break\n",
    "    else:\n",
    "        print('Sorry, I did not understand your input.')"
   ]
  },
  {
   "cell_type": "markdown",
   "metadata": {},
   "source": [
    "二分法的定义，要不断地缩小查找范围，即min，max要随着猜测进行更新。"
   ]
  },
  {
   "cell_type": "code",
   "execution_count": 5,
   "metadata": {},
   "outputs": [
    {
     "data": {
      "text/plain": [
       "4"
      ]
     },
     "execution_count": 5,
     "metadata": {},
     "output_type": "execute_result"
    }
   ],
   "source": [
    "#edX Excercise 4.4-1\n",
    "\n",
    "a = 10\n",
    "def f(x):\n",
    "    return x + a\n",
    "a = 3\n",
    "f(1)"
   ]
  },
  {
   "cell_type": "markdown",
   "metadata": {},
   "source": [
    "定义完函数后，变量a进行了更新，用最新值绑定函数的形式参数进行计算。"
   ]
  },
  {
   "cell_type": "code",
   "execution_count": 10,
   "metadata": {},
   "outputs": [],
   "source": [
    "#edX Excercise 4:gcd recur\n",
    "#The greatest common divisor of two positive integers is the largest integer that divides each of them without remainder\n",
    "\n",
    "def gcdRecur(a, b):\n",
    "    '''\n",
    "    a, b: positive integers\n",
    "    \n",
    "    returns: a positive integer, the greatest common divisor of a & b.\n",
    "    '''\n",
    "    # Your code here\n",
    "    if b==0:\n",
    "        return a\n",
    "    return gcdRecur(b,a%b)\n",
    "    "
   ]
  },
  {
   "cell_type": "markdown",
   "metadata": {},
   "source": [
    "举一个实际例子来帮助理解，以gcdRecur(4,12)为例进行递归：\n",
    "\n",
    "（1）return gcdRecur(12,4%12)——4%12=4，所以第一次递归返回gcdRecur(12,4);\n",
    "\n",
    "（2）gcdRecur(12,4)——return gcdRecur(4,12%4)——12%4=0，所以第二次递归返回gcdRecur(4,0);\n",
    "\n",
    "（3）gcdRecur(4,0)——return a 即返回4为最大公约数。"
   ]
  },
  {
   "cell_type": "code",
   "execution_count": 49,
   "metadata": {},
   "outputs": [],
   "source": [
    "#edX Excercise 4:is in (recursive)\n",
    "#We can use the idea of bisection search to determine if a character is in a string, so long as the string is sorted in alphabetical order.\n",
    "\n",
    "def isIn(char, aStr):\n",
    "    '''\n",
    "    char: a single character\n",
    "    aStr: an alphabetized string\n",
    "    \n",
    "    returns: True if char is in aStr; False otherwise\n",
    "    '''\n",
    "    \n",
    "    if aStr=='':\n",
    "        return False\n",
    "    if len(aStr)==1:\n",
    "        return aStr==char\n",
    "    max=len(aStr)\n",
    "    mid=int(max/2)\n",
    "    midchar=aStr[mid]\n",
    "    if char == midchar:\n",
    "        return True\n",
    "    elif char<midchar:\n",
    "        return isIn(char,aStr[:mid])\n",
    "    else:\n",
    "        return isIn(char,aStr[mid+1:])"
   ]
  },
  {
   "cell_type": "code",
   "execution_count": 50,
   "metadata": {},
   "outputs": [
    {
     "data": {
      "text/plain": [
       "True"
      ]
     },
     "execution_count": 50,
     "metadata": {},
     "output_type": "execute_result"
    }
   ],
   "source": [
    "isIn('k','abcdefghijk')"
   ]
  },
  {
   "cell_type": "code",
   "execution_count": 58,
   "metadata": {},
   "outputs": [],
   "source": [
    "#edX Excercise 4: Grader \n",
    "#A regular polygon has n number of sides. Each side has length s.\n",
    "#Write a function called polysum that takes 2 arguments, n and s. This function should sum the area and square of the perimeter of the regular polygon. \n",
    "#The function returns the sum, rounded to 4 decimal places.\n",
    "\n",
    "def polysum(n,s):\n",
    "    import math\n",
    "    area=(0.25*n*s**2)/math.tan(math.pi/n)\n",
    "    perimeter=n*s\n",
    "    return round(area+perimeter**2,4)"
   ]
  },
  {
   "cell_type": "code",
   "execution_count": 60,
   "metadata": {
    "scrolled": true
   },
   "outputs": [
    {
     "data": {
      "text/plain": [
       "1723.1073"
      ]
     },
     "execution_count": 60,
     "metadata": {},
     "output_type": "execute_result"
    }
   ],
   "source": [
    "polysum(10,4)"
   ]
  },
  {
   "cell_type": "markdown",
   "metadata": {},
   "source": [
    "# Week 3 Structured Types"
   ]
  },
  {
   "cell_type": "markdown",
   "metadata": {},
   "source": [
    "## 第5章 结构化类型、可变性与高阶函数"
   ]
  },
  {
   "cell_type": "markdown",
   "metadata": {},
   "source": [
    "### 元组(tuple)"
   ]
  },
  {
   "cell_type": "markdown",
   "metadata": {},
   "source": [
    "与字符串一样，元组是一些元素的不可变有序序列。与字符串的区别是，元组中的元素不一定是字符，其中的单个元素可以是任意类型，且它们彼此之间的类型也可以不同。如t2 = (1, 'two', 3)。\n",
    "\n",
    "元组可以方便地绑定多个值到多个变量：(x,y)=(y,x)这样可以简洁地实现变量值的调换。想要表示只含一个元素的单元素元组，应该写成(x,)，若不加逗号则仅仅是一个元素x的值，并不能构成元组。"
   ]
  },
  {
   "cell_type": "code",
   "execution_count": 2,
   "metadata": {},
   "outputs": [
    {
     "name": "stdout",
     "output_type": "stream",
     "text": [
      "(1,)\n",
      "--------------------\n",
      "(1, 2, (3, 'John', 4))\n",
      "--------------------\n"
     ]
    },
    {
     "ename": "TypeError",
     "evalue": "'tuple' object does not support item assignment",
     "output_type": "error",
     "traceback": [
      "\u001b[1;31m---------------------------------------------------------------------------\u001b[0m",
      "\u001b[1;31mTypeError\u001b[0m                                 Traceback (most recent call last)",
      "\u001b[1;32m<ipython-input-2-68b8509e0a9c>\u001b[0m in \u001b[0;36m<module>\u001b[1;34m()\u001b[0m\n\u001b[0;32m      7\u001b[0m \u001b[0mprint\u001b[0m\u001b[1;33m(\u001b[0m\u001b[0mx\u001b[0m\u001b[1;33m[\u001b[0m\u001b[1;36m0\u001b[0m\u001b[1;33m:\u001b[0m\u001b[1;33m-\u001b[0m\u001b[1;36m1\u001b[0m\u001b[1;33m]\u001b[0m\u001b[1;33m)\u001b[0m\u001b[1;33m\u001b[0m\u001b[0m\n\u001b[0;32m      8\u001b[0m \u001b[0mprint\u001b[0m\u001b[1;33m(\u001b[0m\u001b[1;34m'-'\u001b[0m\u001b[1;33m*\u001b[0m\u001b[1;36m20\u001b[0m\u001b[1;33m)\u001b[0m\u001b[1;33m\u001b[0m\u001b[0m\n\u001b[1;32m----> 9\u001b[1;33m \u001b[0mx\u001b[0m\u001b[1;33m[\u001b[0m\u001b[1;36m0\u001b[0m\u001b[1;33m]\u001b[0m\u001b[1;33m=\u001b[0m\u001b[1;36m8\u001b[0m\u001b[1;33m\u001b[0m\u001b[0m\n\u001b[0m",
      "\u001b[1;31mTypeError\u001b[0m: 'tuple' object does not support item assignment"
     ]
    }
   ],
   "source": [
    "#edX Excercise 1\n",
    "\n",
    "x=(1,2,(3,'John',4),'Hi')\n",
    "\n",
    "print(x[0:1])\n",
    "print('-'*20)\n",
    "print(x[0:-1])\n",
    "print('-'*20)\n",
    "x[0]=8"
   ]
  },
  {
   "cell_type": "markdown",
   "metadata": {},
   "source": [
    "上述为第一题练习，由上可以看出元组切片和字符串一样，包含左边界限但不包含右边界限；并且赋值语句不能改变元组的元素。"
   ]
  },
  {
   "cell_type": "code",
   "execution_count": 3,
   "metadata": {},
   "outputs": [],
   "source": [
    "#edX Exercise: odd tuples\n",
    "\n",
    "def oddTuples(aTup):\n",
    "    '''\n",
    "    aTup: a tuple\n",
    "    \n",
    "    returns: tuple, every other element of aTup. \n",
    "    '''\n",
    "    return aTup[::2] "
   ]
  },
  {
   "cell_type": "code",
   "execution_count": 4,
   "metadata": {},
   "outputs": [
    {
     "data": {
      "text/plain": [
       "(1, 3, 5)"
      ]
     },
     "execution_count": 4,
     "metadata": {},
     "output_type": "execute_result"
    }
   ],
   "source": [
    "oddTuples((1,2,3,4,5,6))"
   ]
  },
  {
   "cell_type": "markdown",
   "metadata": {},
   "source": [
    "使用切片操作可以获得索引为奇数的元组元素。"
   ]
  },
  {
   "cell_type": "markdown",
   "metadata": {},
   "source": [
    "### 范围(range)"
   ]
  },
  {
   "cell_type": "markdown",
   "metadata": {},
   "source": [
    "和字符串与元组一样，范围也是不可变的。range函数接受3个整数参数： start、 stop和step，并返回整数数列start、 start +step、 start + 2 * step、等等。如果两个范围表示同样的整数序列，那么就返回True，就算只是顺序不一样也会返回False。"
   ]
  },
  {
   "cell_type": "markdown",
   "metadata": {},
   "source": [
    "### 列表与可变性(list)"
   ]
  },
  {
   "cell_type": "markdown",
   "metadata": {},
   "source": [
    "与元组类似，列表也是值的有序序列，每个值都可以由索引进行标识。列表与元组的最大区别是列表为可变的，而元组和字符串是不可变的。如下："
   ]
  },
  {
   "cell_type": "code",
   "execution_count": 7,
   "metadata": {},
   "outputs": [
    {
     "name": "stdout",
     "output_type": "stream",
     "text": [
      "[1, 5, 3]\n"
     ]
    }
   ],
   "source": [
    "L=[1,2,3]\n",
    "L[1]=5\n",
    "print(L)"
   ]
  },
  {
   "cell_type": "markdown",
   "metadata": {},
   "source": [
    "遍历一个列表的所有元素可以使用两种方法："
   ]
  },
  {
   "cell_type": "code",
   "execution_count": 9,
   "metadata": {
    "code_folding": []
   },
   "outputs": [
    {
     "name": "stdout",
     "output_type": "stream",
     "text": [
      "9\n"
     ]
    }
   ],
   "source": [
    "total=0\n",
    "for i in range(len(L)):\n",
    "    total+=L[i]\n",
    "print(total) #使用range函数"
   ]
  },
  {
   "cell_type": "code",
   "execution_count": 10,
   "metadata": {
    "code_folding": []
   },
   "outputs": [
    {
     "name": "stdout",
     "output_type": "stream",
     "text": [
      "9\n"
     ]
    }
   ],
   "source": [
    "total=0\n",
    "for i in L:\n",
    "    total+=i\n",
    "print(total) #直接使用列表对象"
   ]
  },
  {
   "cell_type": "markdown",
   "metadata": {},
   "source": [
    "利用append方法，可以往一个list中添加元素L.append(element)，但是此方法并不是创造一个新的list，而是改变了原有的list，在其末尾添加了一个新元素，因此使用时要非常谨慎。另外，我们将一个列表追加到另一个列表中时，会保持原来的结构。也就是说，结果是一个包含列表的列表。如果我们不想保持原来的结构，而想将一个列表中的元素添加到另一个列表，那么可以使用列表连接操作或extend方法。操作符+没有副作用，它会创建并返回一个新的列表。"
   ]
  },
  {
   "cell_type": "code",
   "execution_count": 15,
   "metadata": {},
   "outputs": [
    {
     "name": "stdout",
     "output_type": "stream",
     "text": [
      "[2, 1, 3, 4, 5, 6]\n",
      "[2, 1, 3, [4, 5, 6]]\n",
      "[2, 1, 3, [4, 5, 6], 4, 5, 6]\n"
     ]
    }
   ],
   "source": [
    "L1=[2,1,3]\n",
    "L2=[4,5,6]\n",
    "L3=L1+L2\n",
    "print(L3)\n",
    "L1.append(L2)\n",
    "print(L1)\n",
    "L1.extend(L2)\n",
    "print(L1)"
   ]
  },
  {
   "cell_type": "code",
   "execution_count": 16,
   "metadata": {},
   "outputs": [
    {
     "data": {
      "text/plain": [
       "[1]"
      ]
     },
     "execution_count": 16,
     "metadata": {},
     "output_type": "execute_result"
    }
   ],
   "source": [
    "#edX Excercise 2\n",
    "\n",
    "x = [1, 2, [3, 'John', 4], 'Hi']\n",
    "\n",
    "x[0:1]"
   ]
  },
  {
   "cell_type": "markdown",
   "metadata": {},
   "source": [
    "上述练习中，列表的切片规则与元组，字符串一致，但注意切片返回只有一个元素时，返回的是包含元素的列表，而不是元素的值本身。"
   ]
  },
  {
   "cell_type": "markdown",
   "metadata": {},
   "source": [
    "### 列表的改变，别名，克隆以及列表推导"
   ]
  },
  {
   "cell_type": "markdown",
   "metadata": {},
   "source": [
    "在使用列表的过程中，要注意‘改变’，‘别名’以及‘克隆’三个关键词的区别。\n",
    "\n",
    "（1）改变(mutation)指改变了列表中元素，顺序等，如append方法可以改变列表；\n",
    "\n",
    "（2）别名(aliasing)指可以用不同的方式引用同一个列表对象，无意形成的别名会导致程序错误，而且这种错误非常难以捕获；\n",
    "\n",
    "（3）克隆(cloning)即创造一个新的列表对象，复制原列表对象的值到新列表对象中，使两个列表无关联。\n",
    "\n",
    "具体如下代码所示："
   ]
  },
  {
   "cell_type": "code",
   "execution_count": 22,
   "metadata": {},
   "outputs": [
    {
     "name": "stdout",
     "output_type": "stream",
     "text": [
      "[1, 2, 3, 4, 1]\n",
      "--------------------\n",
      "[[1, 2, 3, 4, 1, 3], [5, 6]]\n",
      "--------------------\n",
      "[8, 2, 3, 4, 1, 3]\n",
      "--------------------\n",
      "[8, 2, 3, 4, 1, 3, '100']\n",
      "--------------------\n",
      "[8, 2, 3, 4, 1, 3]\n"
     ]
    }
   ],
   "source": [
    "L=[1,2,3,4]\n",
    "#列表的改变\n",
    "L.append(1)\n",
    "print(L)\n",
    "print('-'*20)\n",
    "\n",
    "#列表的别名\n",
    "L2=[L,[5,6]]\n",
    "L.append(3) \n",
    "print(L2)         #改变L导致L2的改变\n",
    "print('-'*20)\n",
    "L2[0][0]=8        #改变L2导致L的改变\n",
    "print(L)\n",
    "print('-'*20)\n",
    "\n",
    "#列表的克隆\n",
    "new=L\n",
    "new1=L[:]\n",
    "L.append('100')\n",
    "print(new)       #与L完全绑定，发生改变\n",
    "print('-'*20)\n",
    "print(new1)     #没有变化，与之前的L一致，克隆列表需要切片操作"
   ]
  },
  {
   "cell_type": "markdown",
   "metadata": {},
   "source": [
    "列表中与排序相关的函数区别如下："
   ]
  },
  {
   "cell_type": "code",
   "execution_count": 26,
   "metadata": {},
   "outputs": [
    {
     "data": {
      "text/plain": [
       "<function list.sort>"
      ]
     },
     "execution_count": 26,
     "metadata": {},
     "output_type": "execute_result"
    }
   ],
   "source": [
    "list=[3,2,1]\n",
    "list.sort #返回一个函数"
   ]
  },
  {
   "cell_type": "code",
   "execution_count": 27,
   "metadata": {},
   "outputs": [],
   "source": [
    "list.sort() #返回None，但此时list已经被排序,"
   ]
  },
  {
   "cell_type": "code",
   "execution_count": 28,
   "metadata": {},
   "outputs": [
    {
     "data": {
      "text/plain": [
       "[1, 2, 3]"
      ]
     },
     "execution_count": 28,
     "metadata": {},
     "output_type": "execute_result"
    }
   ],
   "source": [
    "sorted(list) #返回排序的list"
   ]
  },
  {
   "cell_type": "code",
   "execution_count": 34,
   "metadata": {},
   "outputs": [],
   "source": [
    "#edX Excercise 3\n",
    "\n",
    "listA = [1, 4, 3, 0]\n",
    "listB = ['x', 'z', 't', 'q']"
   ]
  },
  {
   "cell_type": "code",
   "execution_count": 35,
   "metadata": {},
   "outputs": [],
   "source": [
    "listA.insert(0, 100) #返回NoneType\n",
    "listA.remove(3) #返回NoneType，只去掉第一个3\n",
    "listA.extend([4, 1, 6, 3, 4]) #返回Nonetype"
   ]
  },
  {
   "cell_type": "code",
   "execution_count": 32,
   "metadata": {},
   "outputs": [
    {
     "data": {
      "text/plain": [
       "'q'"
      ]
     },
     "execution_count": 32,
     "metadata": {},
     "output_type": "execute_result"
    }
   ],
   "source": [
    "listB.pop() #返回去除的值"
   ]
  },
  {
   "cell_type": "code",
   "execution_count": 36,
   "metadata": {},
   "outputs": [
    {
     "data": {
      "text/plain": [
       "4"
      ]
     },
     "execution_count": 36,
     "metadata": {},
     "output_type": "execute_result"
    }
   ],
   "source": [
    "listA.pop(4) #删除索引=4的值，返回该值"
   ]
  },
  {
   "cell_type": "markdown",
   "metadata": {},
   "source": [
    "上面为列表函数应用部分习题总结，可以看出一些函数改变了列表，但本身并不返回值，需要注意。"
   ]
  },
  {
   "cell_type": "markdown",
   "metadata": {},
   "source": [
    "列表推导式提供了一种简洁的方式，将某种操作应用到序列中的一个值上。它会创建一个新列表，其中的每个元素都是一个序列中的值（如另一个列表中的元素）应用给定操作后的结果。"
   ]
  },
  {
   "cell_type": "code",
   "execution_count": 40,
   "metadata": {},
   "outputs": [
    {
     "name": "stdout",
     "output_type": "stream",
     "text": [
      "L= [1, 4, 9, 16, 25, 36]\n",
      "INT= [1, 4, 9]\n"
     ]
    }
   ],
   "source": [
    "L = [x**2 for x in range(1,7)]\n",
    "print('L=',L)\n",
    "\n",
    "mixed = [1, 2, 'a', 3, 4.0]\n",
    "print('INT=',[x**2 for x in mixed if type(x) == int])"
   ]
  },
  {
   "cell_type": "markdown",
   "metadata": {},
   "source": [
    "### 函数对象，高阶函数"
   ]
  },
  {
   "cell_type": "markdown",
   "metadata": {},
   "source": [
    "在Python中，函数是一等对象。这意味着我们可以像对待其他类型的对象（如int或list）一样对待函数。使用函数作为实参可以实现一种名为高阶编程的编码方式，Python中有一个内置的高阶函数map，map函数被设计为与for循环结合使用。在map函数的最简形式中，第一个参数是个一元函数（即只有一个参数的函数），第二个参数是有序的值集合，集合中的值可以一元函数的参数。\n",
    "\n",
    "在for循环中使用map函数时，它的作用类似于range函数，为循环的每次迭代返回一个值。如下："
   ]
  },
  {
   "cell_type": "code",
   "execution_count": 42,
   "metadata": {},
   "outputs": [
    {
     "name": "stdout",
     "output_type": "stream",
     "text": [
      "1\n",
      "2\n",
      "11\n"
     ]
    }
   ],
   "source": [
    "for i in map(abs,[-1,-2,-11]):\n",
    "    print(i)"
   ]
  },
  {
   "cell_type": "markdown",
   "metadata": {},
   "source": [
    "Python还支持创建匿名函数（即没有绑定名称的函数），这时要使用保留字lambda。"
   ]
  },
  {
   "cell_type": "code",
   "execution_count": 43,
   "metadata": {},
   "outputs": [
    {
     "name": "stdout",
     "output_type": "stream",
     "text": [
      "[1, 4, 3, 1]\n"
     ]
    }
   ],
   "source": [
    "L = []\n",
    "for i in map(lambda x, y: x**y, [1 ,2 ,3, 4], [3, 2, 1, 0]):\n",
    "    L.append(i)\n",
    "print(L)"
   ]
  },
  {
   "cell_type": "markdown",
   "metadata": {},
   "source": [
    "### 字符串，元组，范围与列表"
   ]
  },
  {
   "cell_type": "markdown",
   "metadata": {},
   "source": [
    "以下总结了一些字符串，元组，范围及列表的操作方法，并进行了对比：\n",
    "<img src='machine9.PNG' width='50%'>\n",
    "\n",
    "<img src='machine10.PNG' width='50%'>\n"
   ]
  },
  {
   "cell_type": "markdown",
   "metadata": {},
   "source": [
    "字符串是不可变的，所以这些方法都返回一个值，而不会对原字符串产生副作用。\n",
    "\n",
    "<img src='machine11.PNG' width='60%'>"
   ]
  },
  {
   "cell_type": "markdown",
   "metadata": {},
   "source": [
    "### 字典(dict)"
   ]
  },
  {
   "cell_type": "markdown",
   "metadata": {},
   "source": [
    "字典类型的对象与列表很相似，区别在于字典使用键对其中的值进行引用，可以将字典看作一个键/值对的集合，但字典中的项目是无序的，不能通过索引引用，和列表一样，字典是可变的。"
   ]
  },
  {
   "cell_type": "code",
   "execution_count": 54,
   "metadata": {},
   "outputs": [
    {
     "name": "stdout",
     "output_type": "stream",
     "text": [
      "B\n",
      "--------------------------------------------------\n",
      "{'John': 'A+', 'Denise': 'A', 'Katy': 'A', 'Sylvan': 'A'}\n",
      "--------------------------------------------------\n",
      "dict_keys(['John', 'Denise', 'Katy', 'Sylvan'])\n",
      "--------------------------------------------------\n",
      "dict_values(['A+', 'A', 'A', 'A'])\n"
     ]
    }
   ],
   "source": [
    "grades = {'Ana':'B', 'John':'A+', 'Denise':'A', 'Katy':'A'}\n",
    "print(grades['Ana'])\n",
    "print('-'*50)\n",
    "grades['Sylvan'] = 'A'\n",
    "del(grades['Ana'])\n",
    "print(grades)\n",
    "print('-'*50)\n",
    "print(grades.keys()) #获取字典中的索引（键）\n",
    "print('-'*50)\n",
    "print(grades.values()) #获取键对应的值"
   ]
  },
  {
   "cell_type": "markdown",
   "metadata": {},
   "source": [
    "字典中的键与值的要求总结如下：\n",
    "\n",
    "对于键：\n",
    "\n",
    "（1）键必须独一无二；\n",
    "\n",
    "（2）键必须为不可变类型，如int,float,string,tuple,bool。也称可散列类型(hash)；\n",
    "\n",
    "（3）谨慎使用float类型作为键（二进制约等）。\n",
    "\n",
    "对于值：\n",
    "\n",
    "（1）值的类型可以是可变类型，也可以是不可变类型；\n",
    "\n",
    "（2）值可以重复；\n",
    "\n",
    "（3）值甚至可以是列表，字典。\n",
    "\n",
    "字典与列表的对比如下图所示：\n",
    "\n",
    "<img src='machine12.PNG' width='50%'>"
   ]
  },
  {
   "cell_type": "markdown",
   "metadata": {},
   "source": [
    "### 迭代器与生成器"
   ]
  },
  {
   "cell_type": "markdown",
   "metadata": {},
   "source": [
    "如下图为python中一些概念以及之间的关系\n",
    "\n",
    "<img src='machine13.PNG' width='70%'>"
   ]
  },
  {
   "cell_type": "markdown",
   "metadata": {},
   "source": [
    "#### 容器(container)"
   ]
  },
  {
   "cell_type": "markdown",
   "metadata": {},
   "source": [
    "容器是一种把多个元素组织在一起的数据结构，容器中的元素可以逐个地迭代获取，可以用in, not in关键字判断元素是否包含在容器中:如list,dict,tuple。从技术角度来说，当它可以用来询问某个元素是否包含在其中时，那么这个对象就可以认为是一个容器。\n",
    "\n",
    "尽管绝大多数容器都提供了某种方式来获取其中的每一个元素，但这并不是容器本身提供的能力，而是可迭代对象赋予了容器这种能力，当然并不是所有的容器都是可迭代的。"
   ]
  },
  {
   "cell_type": "markdown",
   "metadata": {},
   "source": [
    "#### 可迭代对象(iterable)"
   ]
  },
  {
   "cell_type": "markdown",
   "metadata": {},
   "source": [
    "但凡是可以返回一个迭代器的对象都可称之为可迭代对象，除了容器之外，处于打开状态的files，sockets等都是可迭代对象。"
   ]
  },
  {
   "cell_type": "code",
   "execution_count": 56,
   "metadata": {},
   "outputs": [
    {
     "name": "stdout",
     "output_type": "stream",
     "text": [
      "1\n",
      "<class 'list_iterator'>\n"
     ]
    }
   ],
   "source": [
    "x=[1,2,3]\n",
    "y=iter(x)\n",
    "print(next(y))\n",
    "print(type(y))"
   ]
  },
  {
   "cell_type": "markdown",
   "metadata": {},
   "source": [
    "#### 迭代器(iterator)"
   ]
  },
  {
   "cell_type": "markdown",
   "metadata": {},
   "source": [
    "迭代器是一个带状态的对象，能在你调用next()方法时返回容器中的下一个值，任何实现了__iter__和__next__()都是一个迭代器，如上面代码y就是一个迭代器。"
   ]
  },
  {
   "cell_type": "markdown",
   "metadata": {},
   "source": [
    "#### 生成器(generator)"
   ]
  },
  {
   "cell_type": "markdown",
   "metadata": {},
   "source": [
    "生成器其实是一种特殊的迭代器，不过这种迭代器更加优雅。它不需要再像上面的类一样写__iter__()和__next__()方法了，只需要一个yiled关键字。 生成器一定是迭代器（反之不成立），因此任何生成器也是以一种懒加载的模式生成值。"
   ]
  },
  {
   "cell_type": "code",
   "execution_count": 57,
   "metadata": {},
   "outputs": [],
   "source": [
    "def fib():\n",
    "    prev,curr=0,1\n",
    "    while True:\n",
    "        yield curr\n",
    "        prev,curr=curr,curr+prev"
   ]
  },
  {
   "cell_type": "code",
   "execution_count": 65,
   "metadata": {},
   "outputs": [
    {
     "data": {
      "text/plain": [
       "generator"
      ]
     },
     "execution_count": 65,
     "metadata": {},
     "output_type": "execute_result"
    }
   ],
   "source": [
    "f=fib()\n",
    "type(f)"
   ]
  },
  {
   "cell_type": "markdown",
   "metadata": {},
   "source": [
    "fib就是一个普通的python函数，它特殊的地方在于函数体中没有return关键字，函数的返回值是一个生成器对象。当执行f=fib()返回的是一个生成器对象，此时函数体中的代码并不会执行，只有显示或隐示地调用next的时候才会真正执行里面的代码。"
   ]
  },
  {
   "cell_type": "markdown",
   "metadata": {},
   "source": [
    "#### 生成器表达式(generator expression)"
   ]
  },
  {
   "cell_type": "markdown",
   "metadata": {},
   "source": [
    "生成器表达式是列表推倒式的生成器版本，看起来像列表推导式，但是它返回的是一个生成器对象而不是列表对象。"
   ]
  },
  {
   "cell_type": "code",
   "execution_count": 68,
   "metadata": {},
   "outputs": [
    {
     "name": "stdout",
     "output_type": "stream",
     "text": [
      "<class 'generator'>\n",
      "285\n",
      "----------------------------------------\n",
      "<class 'list'>\n"
     ]
    }
   ],
   "source": [
    "a=(x*x for x in range(10))\n",
    "print(type(a))\n",
    "print(sum(a))\n",
    "\n",
    "print('--'*20)\n",
    "\n",
    "b=[x*x for x in range(10)]\n",
    "print(type(b))"
   ]
  },
  {
   "cell_type": "markdown",
   "metadata": {},
   "source": [
    "#### 总结"
   ]
  },
  {
   "cell_type": "markdown",
   "metadata": {},
   "source": [
    "（1）容器是一系列元素的集合，str、list、set、dict、file、sockets对象都可以看作是容器，容器都可以被迭代（用在for，while等语句中），因此他们被称为可迭代对象。\n",
    "\n",
    "（2）可迭代对象实现了__iter__方法，该方法返回一个迭代器对象。\n",
    "\n",
    "（3）迭代器持有一个内部状态的字段，用于记录下次迭代返回值，它实现了__next__和__iter__方法，迭代器不会一次性把所有元素加载到内存，而是需要的时候才生成返回结果。\n",
    "\n",
    "（4）生成器是一种特殊的迭代器，它的返回值不是通过return而是用yield。"
   ]
  },
  {
   "cell_type": "markdown",
   "metadata": {},
   "source": [
    "# Week 4 Good Programing Practices & Midterm Exam"
   ]
  },
  {
   "cell_type": "markdown",
   "metadata": {},
   "source": [
    "## 第6章 测试与调试"
   ]
  },
  {
   "cell_type": "markdown",
   "metadata": {},
   "source": [
    "测试(testing)指通过运行程序以确定它是否按照预期工作。调试(debugging)则指修复已知的未按预期工作的程序。"
   ]
  },
  {
   "cell_type": "markdown",
   "metadata": {},
   "source": [
    "### 测试"
   ]
  },
  {
   "cell_type": "markdown",
   "metadata": {},
   "source": [
    "测试的关键就是找到这样一组输入，可以称之为测试套件。它有很大可能发现程序错误，又不需要程序运行太长时间。找到这样的输入的关键是，对所有可能的输入空间进行分区，将其划分为对程序正确性提供相同信息的多个子集，然后构建测试套件，使其包含来自每个分区的至少一个输入。\n",
    "\n",
    "基于代码探索路径的启发式方法称为白盒测试(glass box testing)，基于规范探索路径的启发式方法称为黑盒测试(black box testing)。\n",
    "\n",
    "测试一般分为2-3个阶段：\n",
    "\n",
    "（1）确定每段独立代码的单元测试(unit testing)；\n",
    "\n",
    "（2）重复测试一个单元，彻底排查可能的输入错误(regression testing)；\n",
    "\n",
    "（3）确定整个程序能否按期运行的集成测试(integration testing)。"
   ]
  },
  {
   "cell_type": "markdown",
   "metadata": {},
   "source": [
    "### 调试"
   ]
  },
  {
   "cell_type": "markdown",
   "metadata": {},
   "source": [
    "错误不会在程序中繁衍，如果你的程序中有很多错误，那肯定是因为你犯了很多错误。运行时错误可以按照以下两个维度进行分类:\n",
    "\n",
    "（1）显性(overt)或隐性(covert)？\n",
    "\n",
    "显性有明显的特征——程序崩溃或无限循环；隐性无明显特征——通常会返回结果，但不一定是你想要的值；\n",
    "\n",
    "（2）持续性(persistent)或间歇性(intermittent)？\n",
    "\n",
    "持续性——每次运行都会报错；间歇性——尽管相同的输入也不一定每次都出现。\n",
    "\n",
    "根据这两个维度，常见的错误可分为以下3类：\n",
    "\n",
    "（1）显性的持续性错误：很好检测，程序员使用的防御性编程即是尽量使错误显性且持续；\n",
    "\n",
    "（2）显性的间歇性错误：跟踪和修复比较容易，问题迟早会暴露；\n",
    "\n",
    "（3）隐性错误：最危险的错误，表面看来没有问题，程序可以在很长一段时间内给出一个错误答案，而我们根本意识不到这个情况。\n",
    "\n",
    "一般来说，最好的方法是执行二分查找。先找出代码中间点，然后设计一个实验，确定是否因为中间点前面存在问题才导致程序出现这种症状。中间点最好选在能够提供某些中间值的地方，这些中间值应该既易于检查，又能提供有价值的信息。\n"
   ]
  },
  {
   "cell_type": "markdown",
   "metadata": {},
   "source": [
    "## 异常与断言"
   ]
  },
  {
   "cell_type": "markdown",
   "metadata": {},
   "source": [
    "Python中最常见的异常类型为：\n",
    "\n",
    "（1）IndexError: test = [1,2,3], test[3];\n",
    "\n",
    "（2）TypeError: int(test)\n",
    "\n",
    "（3）NameError: a\n",
    "\n",
    "（4）ValueError: test.index(5)\n",
    "\n",
    "（5）IOError: file not found\n",
    "\n",
    "try...except语句为处理异常的良好语句，如果表达式正确，不会抛出异常；若出现异常，控制流就立刻跳到except代码块，执行except代码后的语句。"
   ]
  },
  {
   "cell_type": "code",
   "execution_count": 6,
   "metadata": {},
   "outputs": [
    {
     "data": {
      "text/plain": [
       "13"
      ]
     },
     "execution_count": 6,
     "metadata": {},
     "output_type": "execute_result"
    }
   ],
   "source": [
    "#P78 实际练习 实现一个满足以下规范的函数。请使用try-except代码块。\n",
    "\n",
    "def sumDigits(s):\n",
    "    \"\"\"假设s是一个字符串\n",
    "    返回s中十进制数字之和\n",
    "    例如，如果s是'a2b3c'，则返回5\"\"\"\n",
    "    sumnumber=0\n",
    "    for c in s:\n",
    "        try:\n",
    "            sumnumber+=int(c)\n",
    "        except ValueError:\n",
    "            continue\n",
    "    return sumnumber\n",
    "\n",
    "sumDigits('a34g6')"
   ]
  },
  {
   "cell_type": "markdown",
   "metadata": {},
   "source": [
    "上述代码实现的主要障碍错误是int(str)导致的ValueError，只需要在遍历到字符串时跳过即可，使用continue语句。"
   ]
  },
  {
   "cell_type": "markdown",
   "metadata": {},
   "source": [
    "在很多编程语言中，处理错误的标准方法是使函数返回一个特定值（与Python中的None很相似）来表示出现错误。每次函数调用都必须检查返回值是否是这个特定值。在Python中，更常见的做法是，当函数不能返回一个符合规格说明的结果时，就抛出一个异常。Python语言中的raise语句可以强制引发一个特定的异常。\n",
    "\n",
    "raise exceptionName(arguments)\n",
    "\n",
    "当然，程序员可以通过为内置的Exception类创建一个子类，来定义一个新的异常。"
   ]
  },
  {
   "cell_type": "code",
   "execution_count": 28,
   "metadata": {},
   "outputs": [
    {
     "data": {
      "text/plain": [
       "20"
      ]
     },
     "execution_count": 28,
     "metadata": {},
     "output_type": "execute_result"
    }
   ],
   "source": [
    "#P80 实际练习 实现一个满足以下规范的函数。\n",
    "\n",
    "def findAnEven(L):\n",
    "    \"\"\"假设L是一个整数列表\n",
    "    返回L中的第一个偶数\n",
    "    如果L中没有偶数，则抛出ValueError异常\"\"\"\n",
    "    c=0\n",
    "    for i in L:\n",
    "        if i%2!=0:\n",
    "            c+=1\n",
    "        else:\n",
    "            return i\n",
    "            break\n",
    "    if c==len(L):\n",
    "        raise ValueError('No Even numbers in the List!')\n",
    "\n",
    "L=[19,17,19,17,15,19,20]\n",
    "findAnEven(L)"
   ]
  },
  {
   "cell_type": "markdown",
   "metadata": {},
   "source": [
    "上述代码中采用了2个if语句，为的是放置检测到奇数时就报错，采用一个控制量，当所有数都是奇数时，返回ValueError。"
   ]
  },
  {
   "cell_type": "code",
   "execution_count": 29,
   "metadata": {},
   "outputs": [
    {
     "ename": "AssertionError",
     "evalue": "no grades data",
     "output_type": "error",
     "traceback": [
      "\u001b[1;31m---------------------------------------------------------------------------\u001b[0m",
      "\u001b[1;31mAssertionError\u001b[0m                            Traceback (most recent call last)",
      "\u001b[1;32m<ipython-input-29-80ad7f08049a>\u001b[0m in \u001b[0;36m<module>\u001b[1;34m()\u001b[0m\n\u001b[0;32m      3\u001b[0m     \u001b[1;32mreturn\u001b[0m \u001b[0msum\u001b[0m\u001b[1;33m(\u001b[0m\u001b[0mgrades\u001b[0m\u001b[1;33m)\u001b[0m\u001b[1;33m/\u001b[0m\u001b[0mlen\u001b[0m\u001b[1;33m(\u001b[0m\u001b[0mgrades\u001b[0m\u001b[1;33m)\u001b[0m\u001b[1;33m\u001b[0m\u001b[0m\n\u001b[0;32m      4\u001b[0m \u001b[0ml\u001b[0m\u001b[1;33m=\u001b[0m\u001b[1;33m[\u001b[0m\u001b[1;33m]\u001b[0m\u001b[1;33m\u001b[0m\u001b[0m\n\u001b[1;32m----> 5\u001b[1;33m \u001b[0mavg\u001b[0m\u001b[1;33m(\u001b[0m\u001b[0ml\u001b[0m\u001b[1;33m)\u001b[0m\u001b[1;33m\u001b[0m\u001b[0m\n\u001b[0m",
      "\u001b[1;32m<ipython-input-29-80ad7f08049a>\u001b[0m in \u001b[0;36mavg\u001b[1;34m(grades)\u001b[0m\n\u001b[0;32m      1\u001b[0m \u001b[1;32mdef\u001b[0m \u001b[0mavg\u001b[0m\u001b[1;33m(\u001b[0m\u001b[0mgrades\u001b[0m\u001b[1;33m)\u001b[0m\u001b[1;33m:\u001b[0m\u001b[1;33m\u001b[0m\u001b[0m\n\u001b[1;32m----> 2\u001b[1;33m     \u001b[1;32massert\u001b[0m \u001b[1;32mnot\u001b[0m \u001b[0mlen\u001b[0m\u001b[1;33m(\u001b[0m\u001b[0mgrades\u001b[0m\u001b[1;33m)\u001b[0m \u001b[1;33m==\u001b[0m \u001b[1;36m0\u001b[0m\u001b[1;33m,\u001b[0m \u001b[1;34m'no grades data'\u001b[0m\u001b[1;33m\u001b[0m\u001b[0m\n\u001b[0m\u001b[0;32m      3\u001b[0m     \u001b[1;32mreturn\u001b[0m \u001b[0msum\u001b[0m\u001b[1;33m(\u001b[0m\u001b[0mgrades\u001b[0m\u001b[1;33m)\u001b[0m\u001b[1;33m/\u001b[0m\u001b[0mlen\u001b[0m\u001b[1;33m(\u001b[0m\u001b[0mgrades\u001b[0m\u001b[1;33m)\u001b[0m\u001b[1;33m\u001b[0m\u001b[0m\n\u001b[0;32m      4\u001b[0m \u001b[0ml\u001b[0m\u001b[1;33m=\u001b[0m\u001b[1;33m[\u001b[0m\u001b[1;33m]\u001b[0m\u001b[1;33m\u001b[0m\u001b[0m\n\u001b[0;32m      5\u001b[0m \u001b[0mavg\u001b[0m\u001b[1;33m(\u001b[0m\u001b[0ml\u001b[0m\u001b[1;33m)\u001b[0m\u001b[1;33m\u001b[0m\u001b[0m\n",
      "\u001b[1;31mAssertionError\u001b[0m: no grades data"
     ]
    }
   ],
   "source": [
    "def avg(grades):\n",
    "    assert not len(grades) == 0, 'no grades data'\n",
    "    return sum(grades)/len(grades)\n",
    "l=[]\n",
    "avg(l)"
   ]
  },
  {
   "cell_type": "markdown",
   "metadata": {},
   "source": [
    "执行assert语句时，先对布尔表达式求值。如果值为True，程序就愉快地继续向下执行；如果值为False，就抛出一个AssersionError异常，断言语句通常用于检测输入或输出，能够更快的发现异常所在。"
   ]
  },
  {
   "cell_type": "markdown",
   "metadata": {},
   "source": [
    "## Midterm Exam"
   ]
  },
  {
   "cell_type": "code",
   "execution_count": 46,
   "metadata": {},
   "outputs": [
    {
     "name": "stdout",
     "output_type": "stream",
     "text": [
      "2\n",
      "2\n",
      "0\n"
     ]
    }
   ],
   "source": [
    "#problem 4\n",
    "#Implement a function called closest_power that meets the specifications below.\n",
    "\n",
    "def closest_power(base, num):\n",
    "    '''\n",
    "    base: base of the exponential, integer > 1\n",
    "    num: number you want to be closest to, integer > 0\n",
    "    Find the integer exponent such that base**exponent is closest to num.\n",
    "    Note that the base**exponent may be either greater or smaller than num.\n",
    "    In case of a tie, return the smaller value.\n",
    "    Returns the exponent.\n",
    "    '''\n",
    "    exponent=0\n",
    "    while True:\n",
    "        if base**exponent==num:\n",
    "            return exponent\n",
    "        elif base**exponent<num:\n",
    "            exponent+=1\n",
    "        else:\n",
    "            if base**exponent-num<num-base**(exponent-1):\n",
    "                return exponent\n",
    "            else:\n",
    "                return exponent-1\n",
    "\n",
    "print(closest_power(3,12))\n",
    "print(closest_power(4,12))\n",
    "print(closest_power(4,1))"
   ]
  },
  {
   "cell_type": "markdown",
   "metadata": {},
   "source": [
    "本题主要使用if-else条件控制语句，需要注意的是比较相近两个冪值与数字的差距大小。函数主体较简单，可以使用try等语句来检测输入异常。"
   ]
  },
  {
   "cell_type": "code",
   "execution_count": 51,
   "metadata": {},
   "outputs": [],
   "source": [
    "#problem 5 \n",
    "#Write a Python function that returns the sum of the pairwise products of listA and listB. \n",
    "#You should assume that listA and listB have the same length and are two lists of integer numbers.\n",
    "def dotProduct(listA, listB):\n",
    "    '''\n",
    "    listA: a list of numbers\n",
    "    listB: a list of numbers of the same length as listA\n",
    "    '''\n",
    "    sum=0\n",
    "    if len(listA)==len(listB):\n",
    "        try:\n",
    "            for i in range(len(listA)):\n",
    "                sum+=listA[i]*listB[i]\n",
    "            return sum\n",
    "        except:\n",
    "            raise TypeError('Not all integers in the list')\n",
    "    else:\n",
    "        print('Length of two list mast be same')\n",
    "        \n",
    "listA=[1,2,3]\n",
    "listB=[4,2,3]\n",
    "listC=['A',2,3]"
   ]
  },
  {
   "cell_type": "code",
   "execution_count": 55,
   "metadata": {},
   "outputs": [
    {
     "data": {
      "text/plain": [
       "17"
      ]
     },
     "execution_count": 55,
     "metadata": {},
     "output_type": "execute_result"
    }
   ],
   "source": [
    "dotProduct(listA, listB)"
   ]
  },
  {
   "cell_type": "code",
   "execution_count": 54,
   "metadata": {},
   "outputs": [
    {
     "ename": "TypeError",
     "evalue": "Not all integers in the list",
     "output_type": "error",
     "traceback": [
      "\u001b[1;31m---------------------------------------------------------------------------\u001b[0m",
      "\u001b[1;31mTypeError\u001b[0m                                 Traceback (most recent call last)",
      "\u001b[1;32m<ipython-input-51-6845662b74e6>\u001b[0m in \u001b[0;36mdotProduct\u001b[1;34m(listA, listB)\u001b[0m\n\u001b[0;32m     12\u001b[0m             \u001b[1;32mfor\u001b[0m \u001b[0mi\u001b[0m \u001b[1;32min\u001b[0m \u001b[0mrange\u001b[0m\u001b[1;33m(\u001b[0m\u001b[0mlen\u001b[0m\u001b[1;33m(\u001b[0m\u001b[0mlistA\u001b[0m\u001b[1;33m)\u001b[0m\u001b[1;33m)\u001b[0m\u001b[1;33m:\u001b[0m\u001b[1;33m\u001b[0m\u001b[0m\n\u001b[1;32m---> 13\u001b[1;33m                 \u001b[0msum\u001b[0m\u001b[1;33m+=\u001b[0m\u001b[0mlistA\u001b[0m\u001b[1;33m[\u001b[0m\u001b[0mi\u001b[0m\u001b[1;33m]\u001b[0m\u001b[1;33m*\u001b[0m\u001b[0mlistB\u001b[0m\u001b[1;33m[\u001b[0m\u001b[0mi\u001b[0m\u001b[1;33m]\u001b[0m\u001b[1;33m\u001b[0m\u001b[0m\n\u001b[0m\u001b[0;32m     14\u001b[0m             \u001b[1;32mreturn\u001b[0m \u001b[0msum\u001b[0m\u001b[1;33m\u001b[0m\u001b[0m\n",
      "\u001b[1;31mTypeError\u001b[0m: unsupported operand type(s) for +=: 'int' and 'str'",
      "\nDuring handling of the above exception, another exception occurred:\n",
      "\u001b[1;31mTypeError\u001b[0m                                 Traceback (most recent call last)",
      "\u001b[1;32m<ipython-input-54-128325a4840a>\u001b[0m in \u001b[0;36m<module>\u001b[1;34m()\u001b[0m\n\u001b[1;32m----> 1\u001b[1;33m \u001b[0mdotProduct\u001b[0m\u001b[1;33m(\u001b[0m\u001b[0mlistA\u001b[0m\u001b[1;33m,\u001b[0m \u001b[0mlistC\u001b[0m\u001b[1;33m)\u001b[0m\u001b[1;33m\u001b[0m\u001b[0m\n\u001b[0m",
      "\u001b[1;32m<ipython-input-51-6845662b74e6>\u001b[0m in \u001b[0;36mdotProduct\u001b[1;34m(listA, listB)\u001b[0m\n\u001b[0;32m     14\u001b[0m             \u001b[1;32mreturn\u001b[0m \u001b[0msum\u001b[0m\u001b[1;33m\u001b[0m\u001b[0m\n\u001b[0;32m     15\u001b[0m         \u001b[1;32mexcept\u001b[0m\u001b[1;33m:\u001b[0m\u001b[1;33m\u001b[0m\u001b[0m\n\u001b[1;32m---> 16\u001b[1;33m             \u001b[1;32mraise\u001b[0m \u001b[0mTypeError\u001b[0m\u001b[1;33m(\u001b[0m\u001b[1;34m'Not all integers in the list'\u001b[0m\u001b[1;33m)\u001b[0m\u001b[1;33m\u001b[0m\u001b[0m\n\u001b[0m\u001b[0;32m     17\u001b[0m     \u001b[1;32melse\u001b[0m\u001b[1;33m:\u001b[0m\u001b[1;33m\u001b[0m\u001b[0m\n\u001b[0;32m     18\u001b[0m         \u001b[0mprint\u001b[0m\u001b[1;33m(\u001b[0m\u001b[1;34m'Length of two list mast be same'\u001b[0m\u001b[1;33m)\u001b[0m\u001b[1;33m\u001b[0m\u001b[0m\n",
      "\u001b[1;31mTypeError\u001b[0m: Not all integers in the list"
     ]
    }
   ],
   "source": [
    "dotProduct(listA, listC)"
   ]
  },
  {
   "cell_type": "markdown",
   "metadata": {},
   "source": [
    "本题使用try语句检测相同长度的列表是否都是数字元素。"
   ]
  },
  {
   "cell_type": "code",
   "execution_count": 75,
   "metadata": {},
   "outputs": [],
   "source": [
    "#problem 6\n",
    "#Implement a function that meets the specifications below.\n",
    "\n",
    "def deep_reverse(L):\n",
    "    \"\"\" assumes L is a list of lists whose elements are ints\n",
    "    Mutates L such that it reverses its elements and also \n",
    "    reverses the order of the int elements in every element of L. \n",
    "    It does not return anything.\n",
    "    \"\"\"\n",
    "    for i in L:\n",
    "        i.reverse()\n",
    "    L.reverse()\n",
    "    return L"
   ]
  },
  {
   "cell_type": "code",
   "execution_count": 76,
   "metadata": {},
   "outputs": [
    {
     "data": {
      "text/plain": [
       "[[7, 6, 5], [4, 3], [2, 1]]"
      ]
     },
     "execution_count": 76,
     "metadata": {},
     "output_type": "execute_result"
    }
   ],
   "source": [
    "L = [[1, 2], [3, 4], [5, 6, 7]]\n",
    "deep_reverse(L)"
   ]
  },
  {
   "cell_type": "markdown",
   "metadata": {},
   "source": [
    "本题使用了for循环遍历列表，i.reverse()返回的值是NoneType，需要注意。"
   ]
  },
  {
   "cell_type": "markdown",
   "metadata": {},
   "source": [
    "# Week 5 Algorithmic Complexity  "
   ]
  },
  {
   "cell_type": "markdown",
   "metadata": {},
   "source": [
    "## 第9章 算法复杂度简介"
   ]
  },
  {
   "cell_type": "markdown",
   "metadata": {},
   "source": [
    "### 计算复杂度与渐进表示法"
   ]
  },
  {
   "cell_type": "markdown",
   "metadata": {},
   "source": [
    "在考虑算法的运算时间时，一般而言，我们需要考虑三种常见的情形：\n",
    "\n",
    "（1）最佳情形运行时间是在输入最有利的情况下算法的运行时间。\n",
    "\n",
    "（2）最差情形运行时间是在给定输入规模的情况下最长的运行时间。\n",
    "\n",
    "（3）平均情形（也被称为期望情形）运行时间是在给定输入规模的情况下的平均运行时间。\n",
    "\n",
    "人们通常最关注最差情形，最差情形给出了运行时间的上界。"
   ]
  },
  {
   "cell_type": "markdown",
   "metadata": {},
   "source": [
    "我们使用渐近表示法（“大O”表示法）讨论算法运行时间与输入规模之间的关系：\n",
    "\n",
    "（1）如果运行时间是一个多项式的和，那么保留增长速度最快的项，去掉其他各项；\n",
    "\n",
    "（2）如果剩下的项是个乘积，那么去掉所有常数。\n",
    "\n",
    "从渐近的意义上说，公式$f(x) \\in O(x^2)$表示函数f的增长不会快于二次多项式$x^2$。\n",
    "\n",
    "下面列出了一些最常用的大O表示法实例。 n表示函数的输入规模:\n",
    "\n",
    "（1）$O(1)$表示常数运行时间。\n",
    "\n",
    "（2）$O(logn)$表示对数运行时间。\n",
    "\n",
    "（3）$O(n)$表示线性运行时间。\n",
    "\n",
    "（4）$O(nlogn)$表示对数线性运行时间。\n",
    "\n",
    "（5）$O(n^k)$表示多项式运行时间，注意k是常数。\n",
    "\n",
    "（6）$O(c^n)$表示指数运行时间，这时常数c为底数，复杂度为c的n次方。"
   ]
  },
  {
   "cell_type": "markdown",
   "metadata": {},
   "source": [
    "### 重要复杂度"
   ]
  },
  {
   "cell_type": "markdown",
   "metadata": {},
   "source": [
    "常数复杂度的意义是，渐近复杂度与输入规模无关。这样的程序一般没有什么太大的价值，但在所有程序中，都有一些代码片段（如求Python列表的长度，或计算两个浮点数的积）可以归于此类。"
   ]
  },
  {
   "cell_type": "markdown",
   "metadata": {},
   "source": [
    "对数复杂度增长速度至少是某个输入的对数。如下面的函数：迭代次数就是一直用i除以10做整数除法，在结果为0之前能够做的整数除法的次数。"
   ]
  },
  {
   "cell_type": "code",
   "execution_count": 2,
   "metadata": {},
   "outputs": [],
   "source": [
    "def intToStr(i):\n",
    "    \"\"\"假设i是非负整数\n",
    "    返回一个表示i的十进制字符串\"\"\"\n",
    "    digits = '0123456789'\n",
    "    if i == 0:\n",
    "        return '0'\n",
    "    result = ''\n",
    "    while i > 0:\n",
    "        result = digits[i%10] + result #i%10表示提取数字的个位，并与digits中相应字符串对应，每次循环将末位数字加到最后\n",
    "        i = i//10 #i//10表示将数字的末位去除，将前几位数作为新的i代入循环中继续转换为相应字符串\n",
    "    return result"
   ]
  },
  {
   "cell_type": "markdown",
   "metadata": {},
   "source": [
    "很多处理列表或其他类型序列的程序具有线性复杂度，因为它们对序列中的每个元素都进行常数（大于0）次处理:"
   ]
  },
  {
   "cell_type": "code",
   "execution_count": 1,
   "metadata": {},
   "outputs": [],
   "source": [
    "def addDigits(s):\n",
    "    \"\"\"假设s是字符串，其中每个字符都是十进制数。\n",
    "    decimal digit.返回s中所有数值之和\"\"\"\n",
    "    val = 0\n",
    "    for c in s:\n",
    "        val += int(c)\n",
    "    return val"
   ]
  },
  {
   "cell_type": "markdown",
   "metadata": {},
   "source": [
    "我们仍然假设表示数字的字符在常数时间内被转换为整数，那么这个函数的复杂度就与s的长度成线性关系，也就是O(len(s))。"
   ]
  },
  {
   "cell_type": "markdown",
   "metadata": {},
   "source": [
    "对数线性复杂度比前面几种复杂度稍微复杂一点，它是两个项的乘积，每个项都依赖于输入的规模。这个复杂度非常重要，因为很多实用算法的复杂度都是对数线性的。最常用的对数线性复杂度算法可能是归并排序法，它的复杂度是$O(nlog(n))$，这里的n是待排序列表的长度。"
   ]
  },
  {
   "cell_type": "markdown",
   "metadata": {},
   "source": [
    "一些常用Python语句的复杂度如下图所示：\n",
    "\n",
    "<img src='machine14.PNG' width='40%'>"
   ]
  },
  {
   "cell_type": "markdown",
   "metadata": {},
   "source": [
    "### 复杂度练习总结"
   ]
  },
  {
   "cell_type": "code",
   "execution_count": null,
   "metadata": {},
   "outputs": [],
   "source": [
    "#edX Exercise 2 \n",
    "def program1(x):\n",
    "    total = 0\n",
    "    for i in range(1000):\n",
    "        total += i\n",
    "\n",
    "    while x > 0:\n",
    "        x -= 1\n",
    "        total += x\n",
    "\n",
    "    return total"
   ]
  },
  {
   "cell_type": "markdown",
   "metadata": {},
   "source": [
    "（1）最佳情形：$x<=0$，不触发while循环。total=0赋值语句1步，for循环中有3步（每次赋值i，+=运算2步），循环1000次共3000步，while条件判断1步，return语句1步 。总共1+3×1000+1+1=3003步。\n",
    "\n",
    "（2）最坏情形：$x=n(n>0)$。total=0赋值语句1步，for循环中有3步（每次赋值i，+=运算2步），循环1000次共3000步，while循环中有步（条件判断1步，-=运算2步，+=运算2步）循环n次，当x=0时仅条件判断1步，return语句1步。总共1+3×5×n+1+1=5×n+3003步。"
   ]
  },
  {
   "cell_type": "code",
   "execution_count": null,
   "metadata": {},
   "outputs": [],
   "source": [
    "#edX Exercise 2 \n",
    "def program3(L):\n",
    "    totalSum = 0\n",
    "    highestFound = None\n",
    "    for x in L:\n",
    "        totalSum += x\n",
    "\n",
    "    for x in L:\n",
    "        if highestFound == None:\n",
    "            highestFound = x\n",
    "        elif x > highestFound:\n",
    "            highestFound = x\n",
    "\n",
    "    return (totalSum, highestFound)"
   ]
  },
  {
   "cell_type": "markdown",
   "metadata": {},
   "source": [
    "最坏情形：L中有n个元素。totalSum=0赋值1步，highestFound = None赋值1步，第一个for循环中有3步（赋值x1步，+=运算2步）循环n次，第二个for循环中，首先执行3步（1步条件判断，1步赋值x，1步highestFound = x）；接下来n-1步，for循环执行4步（1步if条件判断，1步elif条件判断，1步赋值x，1步highestFound = x），总共执行3+4xn-4步，return语句1步。总共1+1+3xn+4xn-4+1=7n+2步。"
   ]
  },
  {
   "cell_type": "markdown",
   "metadata": {},
   "source": [
    "## 第10章 一些简单算法和数据结构"
   ]
  },
  {
   "cell_type": "markdown",
   "metadata": {},
   "source": [
    "### 搜索算法"
   ]
  },
  {
   "cell_type": "markdown",
   "metadata": {},
   "source": [
    "搜索算法就是在一个项目集合中找出一个或一组具有某种特点的项目。我们将项目集合称为搜索空间。"
   ]
  },
  {
   "cell_type": "code",
   "execution_count": null,
   "metadata": {},
   "outputs": [],
   "source": [
    "for i in range(len(L)):\n",
    "    if L[i]==e:\n",
    "        return True\n",
    "return False"
   ]
  },
  {
   "cell_type": "markdown",
   "metadata": {},
   "source": [
    "使用上述代码可以实现在列表中进行元素的线性搜索，如果元素e不在列表中，那么算法就会执行$O(len(L))$次测试，复杂度至多与L的长度呈线性关系。\n",
    "\n",
    "但是假如我们对元素的存储顺序有所了解，就可以使用有序列表的线性搜索算法，这种算法可以缩短平均运行时间，但不会改变最差情形下的算法复杂度，因为在最差情形下还是需要检查L中的每个元素。"
   ]
  },
  {
   "cell_type": "code",
   "execution_count": null,
   "metadata": {},
   "outputs": [],
   "source": [
    "def search(L, e):\n",
    "    \"\"\"假设L是列表，其中元素按升序排列。\n",
    "        ascending order.\n",
    "    如果e是L中的元素，则返回True，否则返回False\"\"\"\n",
    "    for i in range(len(L)):\n",
    "        if L[i] == e:\n",
    "            return True\n",
    "        if L[i] > e:\n",
    "            return False\n",
    "    return False"
   ]
  },
  {
   "cell_type": "markdown",
   "metadata": {},
   "source": [
    "但是，通过使用一种称为二分查找的算法，我们可以显著改善最差情形下的复杂度：\n",
    "\n",
    "(1) 选择一个可以将列表L大致一分为二的索引i；\n",
    "\n",
    "(2) 检查是否有L[i] == e；\n",
    "\n",
    "(3) 如果不是，检查L[i]大于还是小于e；\n",
    "\n",
    "(4) 根据上一步的结果，确定在L的左半部分还是右半部分搜索e。"
   ]
  },
  {
   "cell_type": "code",
   "execution_count": 2,
   "metadata": {},
   "outputs": [],
   "source": [
    "def search(L, e):\n",
    "    \"\"\"假设L是列表，其中元素按升序排列。\n",
    "    ascending order.\n",
    "    如果e是L中的元素，则返回True，否则返回False\"\"\"\n",
    "    \n",
    "    def bSearch(L, e, low, high):\n",
    "        #Decrements high – low\n",
    "        if high == low:\n",
    "            return L[low] == e\n",
    "        mid = (low + high)//2\n",
    "        if L[mid] == e:\n",
    "            return True\n",
    "        elif L[mid] > e:\n",
    "            if low == mid: #nothing left to search\n",
    "                return False\n",
    "            else:\n",
    "                return bSearch(L, e, low, mid - 1)\n",
    "        else:\n",
    "            return bSearch(L, e, mid + 1, high)\n",
    "        \n",
    "    if len(L) == 0:\n",
    "        return False\n",
    "    else:\n",
    "        return bSearch(L, e, 0, len(L) - 1)"
   ]
  },
  {
   "cell_type": "markdown",
   "metadata": {},
   "source": [
    "上述函数主体bSearch()中的递减函数为high - low，但在high - low == 0之前， high - low的值会减半多少次呢？回忆一下，$log_y(x)$表示的是为了达到x值，y需要和自己相乘的次数。相反，如果x被y除了$log_y(x)$次，那么结果就是1。这说明high - low在等于0之前，至多使用整数除法减半$log_2(high-low)$次即可。因此，二分查找的算法复杂度为$O(log(len(L)))$，也可以用下图来解释：\n",
    "\n",
    "<img src='machine15.PNG' width='50%'>"
   ]
  },
  {
   "cell_type": "markdown",
   "metadata": {},
   "source": [
    "### 排序算法"
   ]
  },
  {
   "cell_type": "markdown",
   "metadata": {},
   "source": [
    "选择排序是一个简单但低效的算法，选择排序的工作原理是维持一个循环不变式，它会将列表分成前缀部分L[0 : i]和后缀部分L[i+1 : len(L)]，前缀部分已经排好序，而且其中的每一个元素都不大于后缀部分中的最小元素。但该算法的复杂度是$O(len(L)^2)$。"
   ]
  },
  {
   "cell_type": "code",
   "execution_count": null,
   "metadata": {},
   "outputs": [],
   "source": [
    "def selSort(L):\n",
    "    \"\"\"假设L是列表，其中的元素可以用>进行比较。\n",
    "        compared using >.\n",
    "        对L进行升序排列\"\"\"\n",
    "    suffixStart = 0\n",
    "    while suffixStart != len(L):\n",
    "        #检查后缀集合中的每个元素\n",
    "        for i in range(suffixStart, len(L)):\n",
    "            if L[i] < L[suffixStart]:\n",
    "                #交换元素位置\n",
    "                L[suffixStart], L[i] = L[i], L[suffixStart]\n",
    "        suffixStart += 1"
   ]
  },
  {
   "cell_type": "markdown",
   "metadata": {},
   "source": [
    "我们可以使用分治算法得到比平方复杂度好得多的结果，分治算法一般具有以下特征：\n",
    "\n",
    "（1）一个输入规模的阈值，低于这个阈值的问题不会进行分解；\n",
    "\n",
    "（2）一个实例分解成子实例的规模和数量；\n",
    "\n",
    "（3）合并子解的算法。\n",
    "\n",
    "归并排序是一种典型的分治算法，它的描述为：\n",
    "\n",
    "（1）如果列表的长度是0或1，那么它已经排好序了；\n",
    "\n",
    "（2）如果列表包含多于1个元素，就将其分成两个列表，并分别使用归并排序法进行排序；\n",
    "\n",
    "（3）合并结果。\n",
    "\n",
    "如下代码所示，我们已经知道，merge的时间复杂度是$O(len(L))$。在每层递归中，要合并的元素总数是len(L)。因此， mergeSort的时间复杂度是$O(len(L))$乘以递归的层数。因为mergeSort每次将列表分为两半，所以我们可知递归层数是$O(log(len(L)))$。因此，mergeSort的时间复杂度是$O(n*log(n))$，这里的n是$len(L)$。"
   ]
  },
  {
   "cell_type": "code",
   "execution_count": 3,
   "metadata": {},
   "outputs": [],
   "source": [
    "def merge(left, right, compare):\n",
    "    \"\"\"假设left和right是两个有序列表， compare定义了一种元素排序规则。\n",
    "    返回一个新的有序列表（按照compare定义的顺序），其中包含与\n",
    "    （ left+right）相同的元素。 \"\"\"\n",
    "    result = []\n",
    "    i,j = 0, 0\n",
    "    while i < len(left) and j < len(right):\n",
    "        if compare(left[i], right[j]):\n",
    "            result.append(left[i])\n",
    "            i += 1\n",
    "        else:\n",
    "            result.append(right[j])\n",
    "            j += 1\n",
    "    while (i < len(left)):\n",
    "        result.append(left[i])\n",
    "        i += 1\n",
    "    while (j < len(right)):\n",
    "        result.append(right[j])\n",
    "        j += 1\n",
    "    return result\n",
    "\n",
    "def mergeSort(L, compare = lambda x, y: x < y):\n",
    "    \"\"\"假设L是列表， compare定义了L中元素的排序规则\n",
    "        on elements of L\n",
    "    返回一个新的具有L中相同元素的有序列表。 \"\"\"\n",
    "    if len(L) < 2:\n",
    "        return L[:]\n",
    "    else:\n",
    "        middle = len(L)//2\n",
    "        left = mergeSort(L[:middle], compare)\n",
    "        right = mergeSort(L[middle:], compare)\n",
    "        return merge(left, right, compare)"
   ]
  },
  {
   "cell_type": "markdown",
   "metadata": {},
   "source": [
    "\n",
    "\n",
    "如果我们将归并排序与二分查找结合起来，就可以很好地解决列表搜索的问题。使用归并排序在$O(n*log(n))$时间内对列表进行预处理，然后使用二分查找在$O(log(n))$时间内检验元素是否在列表中。如果对列表进行k次搜索，那么总体时间复杂度就是$O(n*log(n)) + k*O(log(n))$。"
   ]
  },
  {
   "cell_type": "markdown",
   "metadata": {},
   "source": [
    "# Week 6 Object Oriented Programming"
   ]
  },
  {
   "cell_type": "markdown",
   "metadata": {},
   "source": [
    "## 类的定义"
   ]
  },
  {
   "cell_type": "markdown",
   "metadata": {},
   "source": [
    "抽象数据类型的概念非常简单， 抽象数据类型是一个由对象以及对象上的操作组成的集合，对象和操作被捆绑为一个整体，可以从程序的一个部分传递到另一个部分。\n",
    "\n",
    "类定义中存在一个函数定义时，被定义的函数称为方法，并与这个类相关联，类支持两种操作：\n",
    "\n",
    "（1）实例化：创建类的实例，只要一个类被实例化，就会调用该类中定义的__init__方法。\n",
    "\n",
    "（2）属性引用：通过点标记法访问与类关联的属性，点号前面的对象会被隐含地作为第一个实参传入方法。"
   ]
  },
  {
   "cell_type": "markdown",
   "metadata": {},
   "source": [
    "## 继承"
   ]
  },
  {
   "cell_type": "markdown",
   "metadata": {},
   "source": [
    "不同的类型中有许多通用的属性，继承提供了一种方便的机制，可以建立一组彼此相关的抽象。它使程序员能够建立一个类型的层次结构，其中每个类型都可以从上层的类型继承属性。\n",
    "除了继承属性之外，子类还可以做如下事情：\n",
    "\n",
    "（1）添加新的属性。\n",
    "\n",
    "（2）覆盖——也就是替换——超类（superclass）中的属性。如果一个方法被覆盖，那么调用这个方法时使用的版本就要根据调用这个方法的对象来确定。如果这个对象的类型是子类，那么就使用定义在子类中的方法版本；如果对象的类型是超类，那么就使用超类中的版本。\n",
    "\n",
    "Python保留字pass作为类中内容，这说明它们只有继承自超类的属性。使用子类定义一个类型的层次结构时，子类应该被看作对超类行为的扩展，这种扩展是通过添加新属性或对继承自超类的属性进行覆盖来实现的。"
   ]
  },
  {
   "cell_type": "markdown",
   "metadata": {},
   "source": [
    "## 封装与信息隐藏"
   ]
  },
  {
   "cell_type": "markdown",
   "metadata": {},
   "source": [
    "面向对象编程的核心思想有两个重要概念。\n",
    "\n",
    "（1）第一个就是封装，将数据属性和操作数据属性的方法打包在一起。\n",
    "\n",
    "（2）第二个重要概念是信息隐藏，这是模块化的关键要素之一。如果程序中使用类的那部分代码（即类的客户代码）必须严格依照类方法的规范进行编写，那么程序员实现类时，就可以随心所欲地修改类的实现代码（如提高效率），而不用担心会破坏那些使用类的代码。"
   ]
  },
  {
   "cell_type": "markdown",
   "metadata": {},
   "source": [
    "## 练习总结"
   ]
  },
  {
   "cell_type": "code",
   "execution_count": 6,
   "metadata": {},
   "outputs": [],
   "source": [
    "#edX Excercise 3\n",
    "\n",
    "class Weird(object):\n",
    "    def __init__(self, x, y): \n",
    "        self.y = y\n",
    "        self.x = x\n",
    "    def getX(self):\n",
    "        return x \n",
    "    def getY(self):\n",
    "        return y\n",
    "\n",
    "X = 7\n",
    "Y = 8"
   ]
  },
  {
   "cell_type": "code",
   "execution_count": 7,
   "metadata": {},
   "outputs": [
    {
     "ename": "NameError",
     "evalue": "name 'x' is not defined",
     "output_type": "error",
     "traceback": [
      "\u001b[1;31m---------------------------------------------------------------------------\u001b[0m",
      "\u001b[1;31mNameError\u001b[0m                                 Traceback (most recent call last)",
      "\u001b[1;32m<ipython-input-7-3a702173a17e>\u001b[0m in \u001b[0;36m<module>\u001b[1;34m()\u001b[0m\n\u001b[0;32m      1\u001b[0m \u001b[0mw1\u001b[0m \u001b[1;33m=\u001b[0m \u001b[0mWeird\u001b[0m\u001b[1;33m(\u001b[0m\u001b[0mX\u001b[0m\u001b[1;33m,\u001b[0m \u001b[0mY\u001b[0m\u001b[1;33m)\u001b[0m\u001b[1;33m\u001b[0m\u001b[0m\n\u001b[1;32m----> 2\u001b[1;33m \u001b[0mprint\u001b[0m\u001b[1;33m(\u001b[0m\u001b[0mw1\u001b[0m\u001b[1;33m.\u001b[0m\u001b[0mgetX\u001b[0m\u001b[1;33m(\u001b[0m\u001b[1;33m)\u001b[0m\u001b[1;33m)\u001b[0m\u001b[1;33m\u001b[0m\u001b[0m\n\u001b[0m",
      "\u001b[1;32m<ipython-input-6-9820d7df0330>\u001b[0m in \u001b[0;36mgetX\u001b[1;34m(self)\u001b[0m\n\u001b[0;32m      6\u001b[0m         \u001b[0mself\u001b[0m\u001b[1;33m.\u001b[0m\u001b[0mx\u001b[0m \u001b[1;33m=\u001b[0m \u001b[0mx\u001b[0m\u001b[1;33m\u001b[0m\u001b[0m\n\u001b[0;32m      7\u001b[0m     \u001b[1;32mdef\u001b[0m \u001b[0mgetX\u001b[0m\u001b[1;33m(\u001b[0m\u001b[0mself\u001b[0m\u001b[1;33m)\u001b[0m\u001b[1;33m:\u001b[0m\u001b[1;33m\u001b[0m\u001b[0m\n\u001b[1;32m----> 8\u001b[1;33m         \u001b[1;32mreturn\u001b[0m \u001b[0mx\u001b[0m\u001b[1;33m\u001b[0m\u001b[0m\n\u001b[0m\u001b[0;32m      9\u001b[0m     \u001b[1;32mdef\u001b[0m \u001b[0mgetY\u001b[0m\u001b[1;33m(\u001b[0m\u001b[0mself\u001b[0m\u001b[1;33m)\u001b[0m\u001b[1;33m:\u001b[0m\u001b[1;33m\u001b[0m\u001b[0m\n\u001b[0;32m     10\u001b[0m         \u001b[1;32mreturn\u001b[0m \u001b[0my\u001b[0m\u001b[1;33m\u001b[0m\u001b[0m\n",
      "\u001b[1;31mNameError\u001b[0m: name 'x' is not defined"
     ]
    }
   ],
   "source": [
    "w1 = Weird(X, Y)\n",
    "print(w1.getX())"
   ]
  },
  {
   "cell_type": "markdown",
   "metadata": {},
   "source": [
    "x前没加self，被认为是没有定义的变量，在类中定义新变量必须加self。"
   ]
  },
  {
   "cell_type": "code",
   "execution_count": 8,
   "metadata": {},
   "outputs": [],
   "source": [
    "#edX Excercise 4\n",
    "\n",
    "class Coordinate(object):\n",
    "    def __init__(self,x,y):\n",
    "        self.x = x\n",
    "        self.y = y\n",
    "\n",
    "    def getX(self):\n",
    "        # Getter method for a Coordinate object's x coordinate.\n",
    "        # Getter methods are better practice than just accessing an attribute directly\n",
    "        return self.x\n",
    "\n",
    "    def getY(self):\n",
    "        # Getter method for a Coordinate object's y coordinate\n",
    "        return self.y\n",
    "\n",
    "    def __str__(self):\n",
    "        return '<' + str(self.getX()) + ',' + str(self.getY()) + '>'\n",
    "\n",
    "    def __eq__(self, other):\n",
    "        # First make sure `other` is of the same type \n",
    "        assert type(other) == type(self)\n",
    "        # Since `other` is the same type, test if coordinates are equal\n",
    "        return self.getX() == other.getX() and self.getY() == other.getY()\n",
    "\n",
    "    def __repr__(self):\n",
    "        return 'Coordinate(' + str(self.getX()) + ',' + str(self.getY()) + ')'"
   ]
  },
  {
   "cell_type": "markdown",
   "metadata": {},
   "source": [
    " \\__eq__方法首先要使用assert语句判断两个数据是否属于同一种类型，然后再进行坐标相等的检查。"
   ]
  },
  {
   "cell_type": "code",
   "execution_count": 9,
   "metadata": {},
   "outputs": [],
   "source": [
    "#edX Excercise int set\n",
    "\n",
    "def intersect(self, other):\n",
    "        \"\"\"Assumes other is an intSet\n",
    "           Returns a new intSet containing elements that appear in both sets.\"\"\"\n",
    "        # Initialize a new intSet    \n",
    "        commonValueSet = intSet()\n",
    "        # Go through the values in this set\n",
    "        for val in self.vals:\n",
    "            # Check if each value is a member of the other set    \n",
    "            if other.member(val):\n",
    "                commonValueSet.insert(val)\n",
    "        return commonValueSet\n",
    "    \n",
    "def __len__(self):\n",
    "        \"\"\"Returns the length of the set.\n",
    "           This method is called by the `len` built-in function.\"\"\"\n",
    "        return len(self.vals)"
   ]
  },
  {
   "cell_type": "markdown",
   "metadata": {},
   "source": [
    "intersect方法使用类本身定义的member和insert方法来进行操作。"
   ]
  },
  {
   "cell_type": "code",
   "execution_count": 11,
   "metadata": {},
   "outputs": [],
   "source": [
    "#edX Excercise 4\n",
    "\n",
    "class A(object):\n",
    "    def __init__(self):\n",
    "        self.a = 1\n",
    "    def x(self):\n",
    "        print(\"A.x\")\n",
    "    def y(self):\n",
    "        print(\"A.y\")\n",
    "    def z(self):\n",
    "        print(\"A.z\")\n",
    "\n",
    "class B(A):\n",
    "    def __init__(self):\n",
    "        A.__init__(self)\n",
    "        self.a = 2\n",
    "        self.b = 3\n",
    "    def y(self):\n",
    "        print(\"B.y\")\n",
    "    def z(self):\n",
    "        print(\"B.z\")\n",
    "\n",
    "class C(object):\n",
    "    def __init__(self):\n",
    "        self.a = 4\n",
    "        self.c = 5\n",
    "    def y(self):\n",
    "        print(\"C.y\")\n",
    "    def z(self):\n",
    "        print(\"C.z\")\n",
    "\n",
    "class D(C, B):\n",
    "    def __init__(self):\n",
    "        C.__init__(self)\n",
    "        B.__init__(self)\n",
    "        self.d = 6\n",
    "    def z(self):\n",
    "        print(\"D.z\")\n",
    "\n",
    "obj = D()"
   ]
  },
  {
   "cell_type": "code",
   "execution_count": 12,
   "metadata": {},
   "outputs": [
    {
     "name": "stdout",
     "output_type": "stream",
     "text": [
      "2\n"
     ]
    }
   ],
   "source": [
    "print(obj.a)"
   ]
  },
  {
   "cell_type": "markdown",
   "metadata": {},
   "source": [
    "有两个父类继承对象时：\n",
    "\n",
    "（1）方法的搜索从括号的左至右进行搜索，直到搜索到相应的方法，然后使用的是__第一个__找到的方法。\n",
    "\n",
    "（2）对于类变量，\\__init\\__函数的调用是按照函数内从上到下的顺序依次调用，使用__最后__调用的值。\n",
    "\n",
    "如上述题目中：\n",
    "\n",
    "（1）Class D 先调用 C类的\\__init__，定义 self.a=4；\n",
    "\n",
    "（2）然后调用 B类的\\__init__，定义self.a-->2。\n",
    "\n",
    "所以最后答案为2"
   ]
  },
  {
   "cell_type": "code",
   "execution_count": 22,
   "metadata": {},
   "outputs": [],
   "source": [
    "import datetime\n",
    "\n",
    "class Person(object):\n",
    "    def __init__(self, name):\n",
    "        \"\"\"create a person called name\"\"\"\n",
    "        self.name = name\n",
    "        self.birthday = None\n",
    "        self.lastName = name.split(' ')[-1]\n",
    "    def setBirthday(self,month,day,year):\n",
    "        \"\"\"sets self's birthday to birthDate\"\"\"\n",
    "        self.birthday = datetime.date(year,month,day)\n",
    "    def getAge(self):\n",
    "        \"\"\"returns self's current age in days\"\"\"\n",
    "        if self.birthday == None:\n",
    "            raise ValueError\n",
    "        return (datetime.date.today() - self.birthday).days\n",
    "    def __lt__(self, other):\n",
    "        \"\"\"return True if self's name is lexicographically\n",
    "            less than other's name, and False otherwise\"\"\"\n",
    "        if self.lastName == other.lastName:\n",
    "            return self.name < other.name\n",
    "        return self.lastName < other.lastName\n",
    "    def getLastName(self):\n",
    "        \"\"\"return self's last name\"\"\"\n",
    "        return self.lastName\n",
    "    def __str__(self):\n",
    "        \"\"\"return self's name\"\"\"\n",
    "        return self.name"
   ]
  },
  {
   "cell_type": "code",
   "execution_count": 24,
   "metadata": {},
   "outputs": [],
   "source": [
    "p1 = Person('Mark Zuckerberg')\n",
    "p1.setBirthday(5,14,84)\n",
    "p2 = Person('Drew Houston')\n",
    "p2.setBirthday(3,4,83)\n",
    "p3 = Person('Bill Gates')\n",
    "p3.setBirthday(10,28,55)\n",
    "p4 = Person('Andrew Gates')\n",
    "p5 = Person('Steve Wozniak')\n",
    "\n",
    "personList = [p1, p2, p3, p4, p5]"
   ]
  },
  {
   "cell_type": "code",
   "execution_count": 25,
   "metadata": {},
   "outputs": [
    {
     "name": "stdout",
     "output_type": "stream",
     "text": [
      "Andrew Gates\n",
      "Bill Gates\n",
      "Drew Houston\n",
      "Steve Wozniak\n",
      "Mark Zuckerberg\n"
     ]
    }
   ],
   "source": [
    "personList.sort()\n",
    "for e in personList:\n",
    "    print(e)"
   ]
  },
  {
   "cell_type": "code",
   "execution_count": null,
   "metadata": {},
   "outputs": [],
   "source": []
  },
  {
   "cell_type": "code",
   "execution_count": 26,
   "metadata": {},
   "outputs": [],
   "source": [
    "class MITPerson(Person):\n",
    "    nextIdNum = 0 # next ID number to assign\n",
    "    def __init__(self, name):\n",
    "        Person.__init__(self, name) # initialize Person attributes\n",
    "        self.idNum = MITPerson.nextIdNum # MITPerson attribute: unique ID\n",
    "        MITPerson.nextIdNum += 1\n",
    "    def getIdNum(self):\n",
    "        return self.idNum\n",
    "# sorting MIT people uses their ID number, not name!\n",
    "    def __lt__(self, other):\n",
    "        return self.idNum < other.idNum\n",
    "    def speak(self, utterance):\n",
    "        return (self.getLastName() + \" says: \" + utterance)"
   ]
  },
  {
   "cell_type": "code",
   "execution_count": 27,
   "metadata": {},
   "outputs": [],
   "source": [
    "m3 = MITPerson('Mark Zuckerberg')\n",
    "Person.setBirthday(m3,5,14,84)\n",
    "m2= MITPerson('Drew Houston')\n",
    "Person.setBirthday(m2,3,4,83)\n",
    "m1 = MITPerson('Bill Gates')\n",
    "Person.setBirthday(m1,10,28,55)\n",
    "MITPersonList = [m1, m2, m3]"
   ]
  },
  {
   "cell_type": "code",
   "execution_count": 28,
   "metadata": {},
   "outputs": [
    {
     "name": "stdout",
     "output_type": "stream",
     "text": [
      "Mark Zuckerberg\n",
      "Drew Houston\n",
      "Bill Gates\n"
     ]
    }
   ],
   "source": [
    "MITPersonList.sort()\n",
    "for e in MITPersonList:\n",
    "    print(e)"
   ]
  },
  {
   "cell_type": "code",
   "execution_count": 30,
   "metadata": {},
   "outputs": [],
   "source": [
    "p1 = MITPerson('Eric')\n",
    "p2 = MITPerson('John')\n",
    "p3 = MITPerson('John')\n",
    "p4 = Person('John')"
   ]
  },
  {
   "cell_type": "code",
   "execution_count": 31,
   "metadata": {},
   "outputs": [
    {
     "ename": "AttributeError",
     "evalue": "'Person' object has no attribute 'idNum'",
     "output_type": "error",
     "traceback": [
      "\u001b[1;31m---------------------------------------------------------------------------\u001b[0m",
      "\u001b[1;31mAttributeError\u001b[0m                            Traceback (most recent call last)",
      "\u001b[1;32m<ipython-input-31-e4b6153c0891>\u001b[0m in \u001b[0;36m<module>\u001b[1;34m()\u001b[0m\n\u001b[1;32m----> 1\u001b[1;33m \u001b[0mp1\u001b[0m\u001b[1;33m<\u001b[0m\u001b[0mp4\u001b[0m\u001b[1;33m\u001b[0m\u001b[0m\n\u001b[0m",
      "\u001b[1;32m<ipython-input-26-28944a64f135>\u001b[0m in \u001b[0;36m__lt__\u001b[1;34m(self, other)\u001b[0m\n\u001b[0;32m      9\u001b[0m \u001b[1;31m# sorting MIT people uses their ID number, not name!\u001b[0m\u001b[1;33m\u001b[0m\u001b[1;33m\u001b[0m\u001b[0m\n\u001b[0;32m     10\u001b[0m     \u001b[1;32mdef\u001b[0m \u001b[0m__lt__\u001b[0m\u001b[1;33m(\u001b[0m\u001b[0mself\u001b[0m\u001b[1;33m,\u001b[0m \u001b[0mother\u001b[0m\u001b[1;33m)\u001b[0m\u001b[1;33m:\u001b[0m\u001b[1;33m\u001b[0m\u001b[0m\n\u001b[1;32m---> 11\u001b[1;33m         \u001b[1;32mreturn\u001b[0m \u001b[0mself\u001b[0m\u001b[1;33m.\u001b[0m\u001b[0midNum\u001b[0m \u001b[1;33m<\u001b[0m \u001b[0mother\u001b[0m\u001b[1;33m.\u001b[0m\u001b[0midNum\u001b[0m\u001b[1;33m\u001b[0m\u001b[0m\n\u001b[0m\u001b[0;32m     12\u001b[0m     \u001b[1;32mdef\u001b[0m \u001b[0mspeak\u001b[0m\u001b[1;33m(\u001b[0m\u001b[0mself\u001b[0m\u001b[1;33m,\u001b[0m \u001b[0mutterance\u001b[0m\u001b[1;33m)\u001b[0m\u001b[1;33m:\u001b[0m\u001b[1;33m\u001b[0m\u001b[0m\n\u001b[0;32m     13\u001b[0m         \u001b[1;32mreturn\u001b[0m \u001b[1;33m(\u001b[0m\u001b[0mself\u001b[0m\u001b[1;33m.\u001b[0m\u001b[0mgetLastName\u001b[0m\u001b[1;33m(\u001b[0m\u001b[1;33m)\u001b[0m \u001b[1;33m+\u001b[0m \u001b[1;34m\" says: \"\u001b[0m \u001b[1;33m+\u001b[0m \u001b[0mutterance\u001b[0m\u001b[1;33m)\u001b[0m\u001b[1;33m\u001b[0m\u001b[0m\n",
      "\u001b[1;31mAttributeError\u001b[0m: 'Person' object has no attribute 'idNum'"
     ]
    }
   ],
   "source": [
    "p1<p4"
   ]
  },
  {
   "cell_type": "markdown",
   "metadata": {},
   "source": [
    "Why does p4 < p1 work, but p1 < p4 doesn’t?◦ p4 < p1 is equivalent to p4.\\__lt\\__(p1), which means we use the \\__lt\\__ method associated with the type of p4, namely a Person (the one that compares based on name)◦\n",
    "\n",
    "p1 < p4 is equivalent to p1.\\__lt\\__(p4), which means we use the \\__lt\\__ method associated with the type of p1, namely an MITPerson (the one that compares based on IDNum) and since p4 is a Person, it does not have an IDNum"
   ]
  },
  {
   "cell_type": "markdown",
   "metadata": {},
   "source": [
    "## 进阶示例：抵押贷款"
   ]
  },
  {
   "cell_type": "markdown",
   "metadata": {},
   "source": [
    "抵押贷款刚出现的时候，非常简单明了。人们从银行借钱，每月支付固定的还款金额，在整个抵押贷款的期限范围内一直这样做，通常持续15~30年。到达贷款期限时，银行收回初始贷款（本金）和（最重要的）利息，房主们则“完全和彻底地”拥有了房屋。\n",
    "\n",
    "20世纪末，抵押贷款开始变得越来越复杂。在贷款期间，借款人可以通过向出借人支付“点数”的方式获得比较低的利率，一个点就是贷款总额的1%，需要用现金支付。人们还可以选择在一定时期内“只付利息”的抵押贷款，也就是说，在贷款初期的若干个月中，借款人只需偿还应付的利息，不需偿还本金。还有一些贷款具有多种利率。一般来说，初始利率（又称“引诱利率”）比较低，随着时间的推移，利率会逐渐升高。这种贷款一般具有浮动利率，即初始阶段后的利率要根据某种指数来确定，这种指数可以反映出借人在信贷批发市场上融资的成本。\n",
    "\n",
    "下面，我们编写一个程序，计算以下三种贷款方式的实际成本：\n",
    "\n",
    "（1）不带“点数”的固定利率抵押贷款；\n",
    "\n",
    "（2）带有“点数”的固定利率抵押贷款；\n",
    "\n",
    "（3）初始引诱利率较低，但随后需要支付更高利率的抵押贷款。"
   ]
  },
  {
   "cell_type": "code",
   "execution_count": 1,
   "metadata": {},
   "outputs": [],
   "source": [
    "def findPayment(loan, r, m):\n",
    "    \"\"\"假设loan和r是浮点数， m是整数\n",
    "    返回一个总额为loan，月利率为r，期限为m个月的抵押贷款的每月还款额\"\"\"\n",
    "    return loan*((r*(1+r)**m)/((1+r)**m - 1))\n",
    "\n",
    "class Mortgage(object):\n",
    "    '''用来建立不同种类抵押贷款的抽象类'''\n",
    "    def __init__(self,loan,annRate,months):\n",
    "        \"\"\"假设loan和annRate为浮点数， month为整数\n",
    "        创建一个总额为loan，期限为months，年利率为annRate的新抵押贷款\"\"\"\n",
    "        self.loan=loan\n",
    "        self.rate=annRate/12\n",
    "        self.months=months\n",
    "        self.paid=[0.0]\n",
    "        self.outstanding=[loan]\n",
    "        self.payment=findPayment(loan,self.rate,months)\n",
    "        self.legend=None #这是贷款的种类描述项\n",
    "    \n",
    "    def makePayment(self):\n",
    "        \"\"\"支付每月还款额\"\"\"\n",
    "        self.paid.append(self.payment)\n",
    "        reduction=self.payment - self.outstanding[-1]*self.rate\n",
    "        self.outstanding.append(self.outstanding[-1]-reduction)\n",
    "    \n",
    "    def getTotalPaid(self):\n",
    "        '''返回至今为止的支付总额'''\n",
    "        return sum(self,paid)\n",
    "    \n",
    "    def __str__(self):\n",
    "        return self.legend"
   ]
  },
  {
   "cell_type": "markdown",
   "metadata": {},
   "source": [
    "下面代码为三种贷款的继承类:"
   ]
  },
  {
   "cell_type": "code",
   "execution_count": 4,
   "metadata": {},
   "outputs": [],
   "source": [
    "class Fixed(Mortgage):\n",
    "    def __init__(self, loan, r, months):\n",
    "        Mortgage.__init__(self, loan, r, months)\n",
    "        self.legend = 'Fixed, ' + str(round(r*100, 2)) + '%' #固定利率贷款\n",
    "\n",
    "\n",
    "class FixedWithPts(Mortgage):\n",
    "    def __init__(self, loan, r, months, pts):\n",
    "        Mortgage.__init__(self, loan, r, months)\n",
    "        self.pts = pts\n",
    "        self.paid = [loan*(pts/100)]\n",
    "        self.legend = 'Fixed, ' + str(round(r*100, 2)) + '%, '\\\n",
    "                        + str(pts) + ' points'\n",
    "\n",
    "class TwoRate(Mortgage):\n",
    "    def __init__(self, loan, r, months, teaserRate, teaserMonths):\n",
    "        Mortgage.__init__(self, loan, teaserRate, months)\n",
    "        self.teaserMonths = teaserMonths\n",
    "        self.teaserRate = teaserRate\n",
    "        self.nextRate = r/12\n",
    "        self.legend = str(teaserRate*100)\\\n",
    "                        + '% for ' + str(self.teaserMonths)\\\n",
    "                        + ' months, then ' + str(round(r*100, 2)) + '%'\n",
    "    def makePayment(self):\n",
    "        if len(self.paid) == self.teaserMonths + 1:\n",
    "            self.rate = self.nextRate\n",
    "            self.payment = findPayment(self.outstanding[-1],\n",
    "                                            self.rate,\n",
    "                                            self.months - self.teaserMonths)\n",
    "        Mortgage.makePayment(self)"
   ]
  },
  {
   "cell_type": "markdown",
   "metadata": {},
   "source": [
    "因为self.paid在初始化时使用的是带有一个元素的列表，所以其中的元素数 量 要 比 已 经 发 生 的 还 款 次 数 多 1 。 因 此 ， makePayment 方 法 要 比 较 len(self.paid) 和self.teaserMonth + 1"
   ]
  },
  {
   "cell_type": "markdown",
   "metadata": {},
   "source": [
    "# Week 7 Plotting and Final Exam"
   ]
  },
  {
   "cell_type": "markdown",
   "metadata": {},
   "source": [
    "## pylab库绘图基本"
   ]
  },
  {
   "cell_type": "markdown",
   "metadata": {},
   "source": [
    "PyLab是一个Python标准库模块，提供了MATLAB的很多功能。 "
   ]
  },
  {
   "cell_type": "code",
   "execution_count": 60,
   "metadata": {},
   "outputs": [],
   "source": [
    "import pylab as plt"
   ]
  },
  {
   "cell_type": "markdown",
   "metadata": {},
   "source": [
    "### 简单示例"
   ]
  },
  {
   "cell_type": "code",
   "execution_count": 34,
   "metadata": {},
   "outputs": [],
   "source": [
    "mySamples = []\n",
    "myLinear = []\n",
    "myQuadratic = []\n",
    "myCubic = []\n",
    "myExponential = []\n",
    "\n",
    "for i in range(0, 30):\n",
    "    mySamples.append(i)\n",
    "    myLinear.append(i)\n",
    "    myQuadratic.append(i**2)\n",
    "    myCubic.append(i**3)\n",
    "    myExponential.append(1.5**i)"
   ]
  },
  {
   "cell_type": "code",
   "execution_count": 35,
   "metadata": {},
   "outputs": [
    {
     "data": {
      "text/plain": [
       "[<matplotlib.lines.Line2D at 0x1b6cc5febe0>]"
      ]
     },
     "execution_count": 35,
     "metadata": {},
     "output_type": "execute_result"
    },
    {
     "data": {
      "image/png": "[encoded data removed]",
      "text/plain": [
       "<matplotlib.figure.Figure at 0x1b6cc43f978>"
      ]
     },
     "metadata": {},
     "output_type": "display_data"
    }
   ],
   "source": [
    "plt.plot(mySamples,myLinear)"
   ]
  },
  {
   "cell_type": "markdown",
   "metadata": {},
   "source": [
    "pylab.plot中的两个参数必须是同样长度的序列。第一个参数指定了图中所有点的X轴坐标，第二个参数指定Y轴坐标。两个参数一起提供一个序列，这些点依次绘制在图中，绘制每个点时，都用一条直线与前面的点相连。"
   ]
  },
  {
   "cell_type": "markdown",
   "metadata": {},
   "source": [
    "### 分离绘图"
   ]
  },
  {
   "cell_type": "code",
   "execution_count": 37,
   "metadata": {},
   "outputs": [
    {
     "data": {
      "text/plain": [
       "[<matplotlib.lines.Line2D at 0x1b6cca91ac8>]"
      ]
     },
     "execution_count": 37,
     "metadata": {},
     "output_type": "execute_result"
    },
    {
     "data": {
      "image/png": "[encoded data removed]",
      "text/plain": [
       "<matplotlib.figure.Figure at 0x1b6cce39780>"
      ]
     },
     "metadata": {},
     "output_type": "display_data"
    }
   ],
   "source": [
    "plt.plot(mySamples, myLinear)\n",
    "plt.plot(mySamples, myQuadratic)\n",
    "plt.plot(mySamples, myCubic)\n",
    "plt.plot(mySamples, myExponential)"
   ]
  },
  {
   "cell_type": "markdown",
   "metadata": {},
   "source": [
    "当数轴的尺度相差的数量级比较大时，不同数量级的绘图无法清楚地表示出来。此时使用plt.figure(<arg>)可以分开画图。"
   ]
  },
  {
   "cell_type": "code",
   "execution_count": 38,
   "metadata": {},
   "outputs": [
    {
     "data": {
      "text/plain": [
       "[<matplotlib.lines.Line2D at 0x1b6cc51c978>]"
      ]
     },
     "execution_count": 38,
     "metadata": {},
     "output_type": "execute_result"
    },
    {
     "data": {
      "image/png": "[encoded data removed]",
      "text/plain": [
       "<matplotlib.figure.Figure at 0x1b6cce39908>"
      ]
     },
     "metadata": {},
     "output_type": "display_data"
    },
    {
     "data": {
      "image/png": "[encoded data removed]",
      "text/plain": [
       "<matplotlib.figure.Figure at 0x1b6cca9cba8>"
      ]
     },
     "metadata": {},
     "output_type": "display_data"
    },
    {
     "data": {
      "image/png": "[encoded data removed]",
      "text/plain": [
       "<matplotlib.figure.Figure at 0x1b6cc5da198>"
      ]
     },
     "metadata": {},
     "output_type": "display_data"
    },
    {
     "data": {
      "image/png": "[encoded data removed]",
      "text/plain": [
       "<matplotlib.figure.Figure at 0x1b6cc885780>"
      ]
     },
     "metadata": {},
     "output_type": "display_data"
    }
   ],
   "source": [
    "plt.figure('lin')\n",
    "plt.plot(mySamples, myLinear)\n",
    "plt.figure('quad')\n",
    "plt.plot(mySamples, myQuadratic)\n",
    "plt.figure('cube')\n",
    "plt.plot(mySamples, myCubic)\n",
    "plt.figure('expo')\n",
    "plt.plot(mySamples, myExponential)"
   ]
  },
  {
   "cell_type": "markdown",
   "metadata": {},
   "source": [
    "### 坐标轴添加标签"
   ]
  },
  {
   "cell_type": "code",
   "execution_count": 42,
   "metadata": {},
   "outputs": [
    {
     "data": {
      "text/plain": [
       "Text(0.5,1,'Quadratic')"
      ]
     },
     "execution_count": 42,
     "metadata": {},
     "output_type": "execute_result"
    },
    {
     "data": {
      "image/png": "[encoded data removed]",
      "text/plain": [
       "<matplotlib.figure.Figure at 0x1b6ccab5908>"
      ]
     },
     "metadata": {},
     "output_type": "display_data"
    },
    {
     "data": {
      "image/png": "[encoded data removed]",
      "text/plain": [
       "<matplotlib.figure.Figure at 0x1b6cc7844e0>"
      ]
     },
     "metadata": {},
     "output_type": "display_data"
    }
   ],
   "source": [
    "plt.figure('quad')\n",
    "plt.plot(mySamples, myQuadratic)\n",
    "plt.figure('lin')\n",
    "plt.xlabel('sample points')\n",
    "plt.ylabel('linear function')\n",
    "plt.plot(mySamples, myLinear)\n",
    "plt.figure('quad')  #隔行调用‘quad’图进行标签的添加\n",
    "plt.ylabel('quadratic function')\n",
    "plt.figure('lin')\n",
    "plt.title('Linear')\n",
    "plt.figure('quad')\n",
    "plt.title('Quadratic')"
   ]
  },
  {
   "cell_type": "markdown",
   "metadata": {},
   "source": [
    "可以使用plt.xlabel和plt.ylabel分别添加横纵坐标的坐标名，使用plt.title()添加图表标题。plt.figure()选择相应的图后，进行对应标签的添加，可以控制添加的是哪个图。\n",
    "\n",
    "由于plt方法画图时是打开一个画板，按照指令逐步往画板上添加内容，若要重新画图，只需在定义画板之后加上plt.clf()语句即可。"
   ]
  },
  {
   "cell_type": "code",
   "execution_count": 44,
   "metadata": {},
   "outputs": [
    {
     "data": {
      "text/plain": [
       "[<matplotlib.lines.Line2D at 0x1b6ccdab4a8>]"
      ]
     },
     "execution_count": 44,
     "metadata": {},
     "output_type": "execute_result"
    },
    {
     "data": {
      "image/png": "[encoded data removed]",
      "text/plain": [
       "<matplotlib.figure.Figure at 0x1b6cc84a2b0>"
      ]
     },
     "metadata": {},
     "output_type": "display_data"
    }
   ],
   "source": [
    "plt.figure('lin')\n",
    "plt.title('Linear')\n",
    "plt.figure('lin')\n",
    "plt.clf() #将之前添加的标题去除了\n",
    "plt.plot(mySamples, myLinear)"
   ]
  },
  {
   "cell_type": "markdown",
   "metadata": {},
   "source": [
    "### 数据比较以及图例添加"
   ]
  },
  {
   "cell_type": "markdown",
   "metadata": {},
   "source": [
    "要比较两个函数时，首先要限制函数在一定范围内的取值，即限制x或y轴的取值范围，这样比较时能够看清楚函数的数据分布。"
   ]
  },
  {
   "cell_type": "code",
   "execution_count": 48,
   "metadata": {},
   "outputs": [
    {
     "data": {
      "text/plain": [
       "Text(0.5,1,'Cubic vs. Exponential')"
      ]
     },
     "execution_count": 48,
     "metadata": {},
     "output_type": "execute_result"
    },
    {
     "data": {
      "image/png": "[encoded data removed]",
      "text/plain": [
       "<matplotlib.figure.Figure at 0x1b6cc6eb940>"
      ]
     },
     "metadata": {},
     "output_type": "display_data"
    },
    {
     "data": {
      "image/png": "[encoded data removed]",
      "text/plain": [
       "<matplotlib.figure.Figure at 0x1b6cc6f9320>"
      ]
     },
     "metadata": {},
     "output_type": "display_data"
    }
   ],
   "source": [
    "plt.figure('lin quad')\n",
    "plt.clf()\n",
    "plt.plot(mySamples, myLinear, label = 'linear') # 为不同的线添加标签\n",
    "plt.plot(mySamples, myQuadratic, label = 'quadratic')\n",
    "plt.legend(loc = 'upper left') #添加图例\n",
    "plt.title('Linear vs. Quadratic')\n",
    "plt.figure('cube exp')\n",
    "plt.clf()\n",
    "plt.plot(mySamples, myCubic, label = 'cubic')\n",
    "plt.plot(mySamples, myExponential, label = 'exponential')\n",
    "plt.legend()\n",
    "plt.title('Cubic vs. Exponential')"
   ]
  },
  {
   "cell_type": "markdown",
   "metadata": {},
   "source": [
    "plt.legend()不指定位置时，python会根据图形找到最适合放置图例的位置。"
   ]
  },
  {
   "cell_type": "markdown",
   "metadata": {},
   "source": [
    "### 图形样例的设置及数据转换"
   ]
  },
  {
   "cell_type": "code",
   "execution_count": 53,
   "metadata": {},
   "outputs": [
    {
     "data": {
      "text/plain": [
       "Text(0.5,1,'Linear vs. Quadratic')"
      ]
     },
     "execution_count": 53,
     "metadata": {},
     "output_type": "execute_result"
    },
    {
     "data": {
      "image/png": "[encoded data removed]",
      "text/plain": [
       "<matplotlib.figure.Figure at 0x1b6cc9f54e0>"
      ]
     },
     "metadata": {},
     "output_type": "display_data"
    }
   ],
   "source": [
    "plt.figure('lin quad')\n",
    "plt.clf()\n",
    "plt.plot(mySamples, myLinear,'b-' ,label = 'linear',linewidth=2.0) # 为不同的线添加标签\n",
    "plt.plot(mySamples, myQuadratic, 'r--',label = 'quadratic',linewidth=10.0)\n",
    "plt.legend(loc = 'upper left') #添加图例\n",
    "plt.title('Linear vs. Quadratic')"
   ]
  },
  {
   "cell_type": "markdown",
   "metadata": {},
   "source": [
    "参数'b-','r--'表示数据点的颜色及表示样式，如b为蓝色，r为红色；-表示实线，--表示虚线。参数linewidth表示线的粗细程度。"
   ]
  },
  {
   "cell_type": "code",
   "execution_count": 57,
   "metadata": {},
   "outputs": [
    {
     "data": {
      "text/plain": [
       "Text(0.5,1,'Cubic vs. Exponential')"
      ]
     },
     "execution_count": 57,
     "metadata": {},
     "output_type": "execute_result"
    },
    {
     "data": {
      "image/png": "[encoded data removed]",
      "text/plain": [
       "<matplotlib.figure.Figure at 0x1b6cc802b38>"
      ]
     },
     "metadata": {},
     "output_type": "display_data"
    }
   ],
   "source": [
    "plt.figure('cube exp log')\n",
    "plt.clf()\n",
    "plt.plot(mySamples, myCubic, 'g--', label = 'cubic',linewidth = 2.0)\n",
    "plt.plot(mySamples, myExponential, 'r^',label = 'exponential', linewidth = 4.0)\n",
    "plt.yscale('log')\n",
    "plt.legend()\n",
    "plt.title('Cubic vs. Exponential')"
   ]
  },
  {
   "cell_type": "markdown",
   "metadata": {},
   "source": [
    "使用plt.yscale函数可以将数据作相应的转换，方便绘图。"
   ]
  },
  {
   "cell_type": "markdown",
   "metadata": {},
   "source": [
    "### 子图（Subplots）的绘制"
   ]
  },
  {
   "cell_type": "code",
   "execution_count": 59,
   "metadata": {},
   "outputs": [
    {
     "data": {
      "text/plain": [
       "Text(0.5,1,'Cubic vs. Exponential')"
      ]
     },
     "execution_count": 59,
     "metadata": {},
     "output_type": "execute_result"
    },
    {
     "data": {
      "image/png": "[encoded data removed]",
      "text/plain": [
       "<matplotlib.figure.Figure at 0x1b6cc87e080>"
      ]
     },
     "metadata": {},
     "output_type": "display_data"
    },
    {
     "data": {
      "image/png": "[encoded data removed]",
      "text/plain": [
       "<matplotlib.figure.Figure at 0x1b6ce100e80>"
      ]
     },
     "metadata": {},
     "output_type": "display_data"
    }
   ],
   "source": [
    "plt.figure('lin quad')\n",
    "plt.clf()\n",
    "plt.subplot(211)\n",
    "plt.ylim(0,900)\n",
    "plt.plot(mySamples, myLinear, 'b-', label = 'linear', linewidth = 2.0)\n",
    "plt.subplot(212)\n",
    "plt.ylim(0,900)\n",
    "plt.plot(mySamples, myQuadratic, 'r', label = 'quadratic', linewidth = 3.0)\n",
    "plt.legend(loc = 'upper left')\n",
    "plt.title('Linear vs. Quadratic')\n",
    "plt.figure('cube exp')\n",
    "plt.clf()\n",
    "plt.subplot(121)\n",
    "plt.ylim(0, 140000)\n",
    "plt.plot(mySamples, myCubic, 'g--', label = 'cubic', linewidth = 4.0)\n",
    "plt.subplot(122)\n",
    "plt.ylim(0, 140000)\n",
    "plt.plot(mySamples, myExponential, 'r',label = 'exponential', linewidth = 5.0)\n",
    "plt.legend()\n",
    "plt.title('Cubic vs. Exponential')"
   ]
  },
  {
   "cell_type": "markdown",
   "metadata": {},
   "source": [
    "使用plt.subplot()语句可以将多图绘制在一个画板上，并按照区域分为不同子图，plt.subplot()的参数为一个3位整数，其中第一个数代表子图的行数，第二个数代表子图的列数，第三个数代表子图的位置编号（编号从1开始，从左到右然后从上到下依次递增）。\n",
    "\n",
    "如plt.subplot(223)则表示绘制4个子图，分布两行两列，3表示在第二行第一列的位置，即左下角。"
   ]
  },
  {
   "cell_type": "markdown",
   "metadata": {},
   "source": [
    "## Final Exam"
   ]
  },
  {
   "cell_type": "code",
   "execution_count": 72,
   "metadata": {},
   "outputs": [],
   "source": [
    "#Probelm 3 We want to write a procedure that converts an American number (between 0 and 99), written as a string, into the equivalent Mandarin.\n",
    "\n",
    "def convert_to_mandarin(us_num):\n",
    "    '''\n",
    "    us_num, a string representing a US number 0 to 99\n",
    "    returns the string mandarin representation of us_num\n",
    "    '''\n",
    "    trans = {'0':'ling', '1':'yi', '2':'er', '3':'san', '4': 'si',\n",
    "          '5':'wu', '6':'liu', '7':'qi', '8':'ba', '9':'jiu', '10': 'shi'}\n",
    "    if len(us_num)==1:\n",
    "        return trans[us_num]\n",
    "    elif len(us_num)==2 and us_num[0]=='1':\n",
    "        return trans['10']+' '+trans[us_num[1]]\n",
    "    elif len(us_num)==2 and us_num[1]=='0':\n",
    "        return trans[us_num[0]]+' '+trans['10']\n",
    "    else:\n",
    "        return trans[us_num[0]]+' '+trans['10']+' '+trans[us_num[1]]"
   ]
  },
  {
   "cell_type": "code",
   "execution_count": 75,
   "metadata": {},
   "outputs": [
    {
     "name": "stdout",
     "output_type": "stream",
     "text": [
      "san shi\n",
      "qi\n",
      "si shi liu\n",
      "shi jiu\n"
     ]
    }
   ],
   "source": [
    "print(convert_to_mandarin('30'))\n",
    "print(convert_to_mandarin('7'))\n",
    "print(convert_to_mandarin('46'))\n",
    "print(convert_to_mandarin('19'))"
   ]
  },
  {
   "cell_type": "markdown",
   "metadata": {},
   "source": [
    "这道题只需要搞清楚普通话读数字时的几个不同分类读法：<10时只有一个发音；10~19发2个音；整十数发两个音（30,40）；其余数字发3个音。然后根据输入字符串长度判断，按以上四个条件写出条件句即可。调用字典对应值使用D[i]即可。"
   ]
  },
  {
   "cell_type": "code",
   "execution_count": 124,
   "metadata": {},
   "outputs": [],
   "source": [
    "#problem 4 Implement a function that meets the specifications below.\n",
    "\n",
    "def longest_run(L):\n",
    "    \"\"\"\n",
    "    Assumes L is a list of integers containing at least 2 elements.\n",
    "    Finds the longest run of numbers in L, where the longest run can\n",
    "    either be monotonically increasing or monotonically decreasing. \n",
    "    In case of a tie for the longest run, choose the longest run \n",
    "    that occurs first.\n",
    "    Does not modify the list.\n",
    "    Returns the sum of the longest run. \n",
    "    \"\"\"\n",
    "    incre=[]\n",
    "    MAXi=[]\n",
    "    decre=[]\n",
    "    MAXd=[]\n",
    "    for ele in L:\n",
    "        if incre==[]:\n",
    "            incre.append(ele)\n",
    "        elif ele>=incre[-1]:\n",
    "            incre.append(ele)\n",
    "        else:\n",
    "            if len(incre)>len(MAXi):\n",
    "                MAXi=incre[:]\n",
    "                incre=[ele] #新元素作为第一个\n",
    "    \n",
    "    for ele in L:\n",
    "        if decre==[]:\n",
    "            decre.append(ele)\n",
    "        elif ele<=decre[-1]:\n",
    "            decre.append(ele)\n",
    "        else:\n",
    "            if len(decre)>len(MAXd):\n",
    "                MAXd=decre[:]\n",
    "                decre=[ele] #新元素作为第一个\n",
    "                \n",
    "    return print('The longest run of monotonically increasing numbers in L is',MAXi,'\\n'\\\n",
    "                 'The longest run of monotonically decreasing numbers in L is',MAXd)"
   ]
  },
  {
   "cell_type": "code",
   "execution_count": 125,
   "metadata": {},
   "outputs": [
    {
     "name": "stdout",
     "output_type": "stream",
     "text": [
      "The longest run of monotonically increasing numbers in L is [4, 4, 5, 7, 7] \n",
      "The longest run of monotonically decreasing numbers in L is [10, 4, 3, 2, 2]\n"
     ]
    }
   ],
   "source": [
    "L = [10, 4, 3, 2, 2, 4, 5, 7, 7, 2]\n",
    "longest_run(L)"
   ]
  },
  {
   "cell_type": "markdown",
   "metadata": {},
   "source": [
    "本题主要考查列表的使用，append方法可以按顺序往列表添加元素，List[-1]则可以检查列表最后一个元素，这些方法在与顺序有关的算法中经常用到，注意本题中下个元素不是递减或递增时，条件返回要将该元素作为新列表的第一个元素incre=[ele]，若返回空列表则会丢失一个元素；另外注意列表的克隆，复制列表时使用List1=list[:]，不能直接List1=list。"
   ]
  },
  {
   "cell_type": "code",
   "execution_count": 189,
   "metadata": {},
   "outputs": [],
   "source": [
    "#problem 6 class hierarchy debugging\n",
    "\n",
    "class Person(object):     \n",
    "    def __init__(self, name):         \n",
    "        self.name = name     \n",
    "    def say(self, stuff):         \n",
    "        return self.name + ' says: ' + stuff     \n",
    "    def __str__(self):         \n",
    "        return self.name  \n",
    "\n",
    "class Lecturer(Person):     \n",
    "    def lecture(self, stuff):         \n",
    "        return 'I believe that ' + Person.say(self, stuff)  \n",
    "\n",
    "class Professor(Lecturer): \n",
    "    def say(self, stuff): \n",
    "        return self.name + ' says: ' + self.lecture(stuff)\n",
    "\n",
    "class ArrogantProfessor(Professor): \n",
    "    def say(self, stuff): \n",
    "        return 'It is obvious that ' + self.say(stuff)\n",
    "    \n",
    "\n",
    "e = Person('eric') \n",
    "le = Lecturer('eric') \n",
    "pe = Professor('eric') \n",
    "ae = ArrogantProfessor('eric')\n"
   ]
  },
  {
   "cell_type": "code",
   "execution_count": 170,
   "metadata": {},
   "outputs": [
    {
     "ename": "RecursionError",
     "evalue": "maximum recursion depth exceeded",
     "output_type": "error",
     "traceback": [
      "\u001b[1;31m---------------------------------------------------------------------------\u001b[0m",
      "\u001b[1;31mRecursionError\u001b[0m                            Traceback (most recent call last)",
      "\u001b[1;32m<ipython-input-170-8403feea8a86>\u001b[0m in \u001b[0;36m<module>\u001b[1;34m()\u001b[0m\n\u001b[1;32m----> 1\u001b[1;33m \u001b[0mae\u001b[0m\u001b[1;33m.\u001b[0m\u001b[0msay\u001b[0m\u001b[1;33m(\u001b[0m\u001b[1;34m'the sky is blue'\u001b[0m\u001b[1;33m)\u001b[0m\u001b[1;33m\u001b[0m\u001b[0m\n\u001b[0m",
      "\u001b[1;32m<ipython-input-168-dfa9f75cd267>\u001b[0m in \u001b[0;36msay\u001b[1;34m(self, stuff)\u001b[0m\n\u001b[0;32m     19\u001b[0m \u001b[1;32mclass\u001b[0m \u001b[0mArrogantProfessor\u001b[0m\u001b[1;33m(\u001b[0m\u001b[0mProfessor\u001b[0m\u001b[1;33m)\u001b[0m\u001b[1;33m:\u001b[0m\u001b[1;33m\u001b[0m\u001b[0m\n\u001b[0;32m     20\u001b[0m     \u001b[1;32mdef\u001b[0m \u001b[0msay\u001b[0m\u001b[1;33m(\u001b[0m\u001b[0mself\u001b[0m\u001b[1;33m,\u001b[0m \u001b[0mstuff\u001b[0m\u001b[1;33m)\u001b[0m\u001b[1;33m:\u001b[0m\u001b[1;33m\u001b[0m\u001b[0m\n\u001b[1;32m---> 21\u001b[1;33m         \u001b[1;32mreturn\u001b[0m \u001b[1;34m'It is obvious that '\u001b[0m \u001b[1;33m+\u001b[0m \u001b[0mself\u001b[0m\u001b[1;33m.\u001b[0m\u001b[0msay\u001b[0m\u001b[1;33m(\u001b[0m\u001b[0mstuff\u001b[0m\u001b[1;33m)\u001b[0m\u001b[1;33m\u001b[0m\u001b[0m\n\u001b[0m\u001b[0;32m     22\u001b[0m \u001b[1;33m\u001b[0m\u001b[0m\n\u001b[0;32m     23\u001b[0m \u001b[1;33m\u001b[0m\u001b[0m\n",
      "... last 1 frames repeated, from the frame below ...\n",
      "\u001b[1;32m<ipython-input-168-dfa9f75cd267>\u001b[0m in \u001b[0;36msay\u001b[1;34m(self, stuff)\u001b[0m\n\u001b[0;32m     19\u001b[0m \u001b[1;32mclass\u001b[0m \u001b[0mArrogantProfessor\u001b[0m\u001b[1;33m(\u001b[0m\u001b[0mProfessor\u001b[0m\u001b[1;33m)\u001b[0m\u001b[1;33m:\u001b[0m\u001b[1;33m\u001b[0m\u001b[0m\n\u001b[0;32m     20\u001b[0m     \u001b[1;32mdef\u001b[0m \u001b[0msay\u001b[0m\u001b[1;33m(\u001b[0m\u001b[0mself\u001b[0m\u001b[1;33m,\u001b[0m \u001b[0mstuff\u001b[0m\u001b[1;33m)\u001b[0m\u001b[1;33m:\u001b[0m\u001b[1;33m\u001b[0m\u001b[0m\n\u001b[1;32m---> 21\u001b[1;33m         \u001b[1;32mreturn\u001b[0m \u001b[1;34m'It is obvious that '\u001b[0m \u001b[1;33m+\u001b[0m \u001b[0mself\u001b[0m\u001b[1;33m.\u001b[0m\u001b[0msay\u001b[0m\u001b[1;33m(\u001b[0m\u001b[0mstuff\u001b[0m\u001b[1;33m)\u001b[0m\u001b[1;33m\u001b[0m\u001b[0m\n\u001b[0m\u001b[0;32m     22\u001b[0m \u001b[1;33m\u001b[0m\u001b[0m\n\u001b[0;32m     23\u001b[0m \u001b[1;33m\u001b[0m\u001b[0m\n",
      "\u001b[1;31mRecursionError\u001b[0m: maximum recursion depth exceeded"
     ]
    }
   ],
   "source": [
    "ae.say('the sky is blue')"
   ]
  },
  {
   "cell_type": "markdown",
   "metadata": {},
   "source": [
    "导致无限循环的原因是：ArrogantProfessor类中的方法say其返回值是self.say，因此导致了方法一直在递归，修改此处即可。"
   ]
  },
  {
   "cell_type": "code",
   "execution_count": 192,
   "metadata": {},
   "outputs": [],
   "source": [
    "#6-1 As written, this code leads to an infinite loop when using the Arrogant Professor class.\n",
    "#Change the definition of ArrogantProfessor o that the following behavior is achieved:\n",
    "\n",
    "#>>> ae.say('the sky is blue')\n",
    "#eric says: It is obvious that eric says: the sky is blue\n",
    "\n",
    "#>>> ae.lecture('the sky is blue')\n",
    "#It is obvious that eric says: the sky is blue\n",
    "\n",
    "\n",
    "class ArrogantProfessor(Professor): \n",
    "    def say(self, stuff): \n",
    "        return Professor.say(self,stuff) \n",
    "    def lecture(self, stuff): \n",
    "        return 'It is obvious that ' + Person.say(self, stuff)\n",
    "\n",
    "ae=ArrogantProfessor('eric')"
   ]
  },
  {
   "cell_type": "code",
   "execution_count": 193,
   "metadata": {},
   "outputs": [
    {
     "data": {
      "text/plain": [
       "'eric says: It is obvious that eric says: the sky is blue'"
      ]
     },
     "execution_count": 193,
     "metadata": {},
     "output_type": "execute_result"
    }
   ],
   "source": [
    "ae.say('the sky is blue')"
   ]
  },
  {
   "cell_type": "code",
   "execution_count": 194,
   "metadata": {},
   "outputs": [
    {
     "data": {
      "text/plain": [
       "'It is obvious that eric says: the sky is blue'"
      ]
     },
     "execution_count": 194,
     "metadata": {},
     "output_type": "execute_result"
    }
   ],
   "source": [
    "ae.lecture('the sky is blue')"
   ]
  },
  {
   "cell_type": "code",
   "execution_count": 195,
   "metadata": {},
   "outputs": [],
   "source": [
    "#6-2 You change your mind, and now except that you want:\n",
    "\n",
    "#>>> ae.say('the sky is blue')\n",
    "#eric says: It is obvious that I believe that eric says: the sky is blue\n",
    "\n",
    "#>>> ae.lecture('the sky is blue')\n",
    "#It is obvious that I believe that eric says: the sky is blue\n",
    "\n",
    "#Change the definition of ArrogantProfessor so that the behavior described above is achieved.\n",
    "\n",
    "class ArrogantProfessor(Professor):\n",
    "    def say(self, stuff): \n",
    "        return Professor.say(self,stuff) \n",
    "    def lecture(self, stuff): \n",
    "        return 'It is obvious that ' +  Lecturer.lecture(self, stuff)\n",
    "\n",
    "ae=ArrogantProfessor('eric')"
   ]
  },
  {
   "cell_type": "code",
   "execution_count": 196,
   "metadata": {},
   "outputs": [
    {
     "data": {
      "text/plain": [
       "'eric says: It is obvious that I believe that eric says: the sky is blue'"
      ]
     },
     "execution_count": 196,
     "metadata": {},
     "output_type": "execute_result"
    }
   ],
   "source": [
    "ae.say('the sky is blue')"
   ]
  },
  {
   "cell_type": "code",
   "execution_count": 197,
   "metadata": {},
   "outputs": [
    {
     "data": {
      "text/plain": [
       "'It is obvious that I believe that eric says: the sky is blue'"
      ]
     },
     "execution_count": 197,
     "metadata": {},
     "output_type": "execute_result"
    }
   ],
   "source": [
    "ae.lecture('the sky is blue')"
   ]
  },
  {
   "cell_type": "code",
   "execution_count": 198,
   "metadata": {},
   "outputs": [],
   "source": [
    "#6-3 You change your mind once more, You want to keep the behavior from Part 2, but now you would like:\n",
    "\n",
    "#>>> pe.say('the sky is blue')\n",
    "#Prof. eric says: I believe that eric says: the sky is blue \n",
    "\n",
    "#>>> ae.say('the sky is blue')\n",
    "#Prof. eric says: It is obvious that I believe that eric says: the sky is blue \n",
    "\n",
    "#Change the Professor class definition in order to achieve this.\n",
    "\n",
    "class Professor(Lecturer): \n",
    "    def say(self, stuff): \n",
    "        return 'Prof. '+ self.name + ' says: ' + self.lecture(stuff)\n",
    "\n",
    "pe=Professor('eric')\n",
    "ae=ArrogantProfessor('eric')"
   ]
  },
  {
   "cell_type": "code",
   "execution_count": 199,
   "metadata": {},
   "outputs": [
    {
     "data": {
      "text/plain": [
       "'Prof. eric says: I believe that eric says: the sky is blue'"
      ]
     },
     "execution_count": 199,
     "metadata": {},
     "output_type": "execute_result"
    }
   ],
   "source": [
    "pe.say('the sky is blue')"
   ]
  },
  {
   "cell_type": "code",
   "execution_count": 200,
   "metadata": {},
   "outputs": [
    {
     "data": {
      "text/plain": [
       "'Prof. eric says: It is obvious that I believe that eric says: the sky is blue'"
      ]
     },
     "execution_count": 200,
     "metadata": {},
     "output_type": "execute_result"
    }
   ],
   "source": [
    "ae.say('the sky is blue')"
   ]
  },
  {
   "cell_type": "code",
   "execution_count": 203,
   "metadata": {},
   "outputs": [],
   "source": [
    "#problem 7 Write a function called general_poly, that meets the specifications below.\n",
    "\n",
    "def general_poly(L):\n",
    "    \"\"\" L, a list of numbers (n0, n1, n2, ... nk)\n",
    "    Returns a function, which when applied to a value x, returns the value \n",
    "    n0 * x^k + n1 * x^(k-1) + ... nk * x^0 \"\"\"\n",
    "    \n",
    "    x=int(input('Please input a number: '))\n",
    "    a=0\n",
    "    i=len(L)-1\n",
    "    \n",
    "    for num in L:\n",
    "        a+=num*x**i\n",
    "        i-=1\n",
    "    return a\n"
   ]
  },
  {
   "cell_type": "code",
   "execution_count": 204,
   "metadata": {},
   "outputs": [
    {
     "name": "stdout",
     "output_type": "stream",
     "text": [
      "Please input a number: 10\n"
     ]
    },
    {
     "data": {
      "text/plain": [
       "1234"
      ]
     },
     "execution_count": 204,
     "metadata": {},
     "output_type": "execute_result"
    }
   ],
   "source": [
    "general_poly([1, 2, 3, 4]) "
   ]
  },
  {
   "cell_type": "code",
   "execution_count": 205,
   "metadata": {},
   "outputs": [
    {
     "name": "stdout",
     "output_type": "stream",
     "text": [
      "Please input a number: 5\n"
     ]
    },
    {
     "data": {
      "text/plain": [
       "38"
      ]
     },
     "execution_count": 205,
     "metadata": {},
     "output_type": "execute_result"
    }
   ],
   "source": [
    "general_poly([0,1,2,3]) "
   ]
  },
  {
   "cell_type": "markdown",
   "metadata": {},
   "source": [
    "上述列表和x的输出分别为：\n",
    "\n",
    "（1）$1*10^3+2*10^2+3*10^1+4*10^0=1234$\n",
    "\n",
    "（2）$0*5^3+1*5^2+2*5^1+3*5^0=38$"
   ]
  },
  {
   "cell_type": "markdown",
   "metadata": {},
   "source": [
    "# Week 8 More on Plotting (MITX 6.00.2x)"
   ]
  },
  {
   "cell_type": "markdown",
   "metadata": {},
   "source": [
    "## 进阶示例：绘制抵押贷款"
   ]
  },
  {
   "cell_type": "markdown",
   "metadata": {},
   "source": [
    "在第8章中，我们开发了一个有层次结构的抵押贷款类，并以此为例介绍了子类的用法。当时我们留下了一个伏笔：“程序应该能够生成一些图形，以显示抵押贷款随着时间发生的变化。”下面向类添加了一些方法，可以轻松生成前面所说的那些图形。"
   ]
  },
  {
   "cell_type": "code",
   "execution_count": 2,
   "metadata": {},
   "outputs": [],
   "source": [
    "import pylab\n",
    "def findPayment(loan, r, m):\n",
    "    \"\"\"假设loan和r是浮点数， m是整数\n",
    "    返回一个总额为loan，月利率为r，期限为m个月的抵押贷款的每月还款额\"\"\"\n",
    "    return loan*((r*(1+r)**m)/((1+r)**m - 1))\n",
    "\n",
    "class Mortgage(object):\n",
    "    '''用来建立不同种类抵押贷款的抽象类'''\n",
    "    def __init__(self,loan,annRate,months):\n",
    "        \"\"\"假设loan和annRate为浮点数， month为整数\n",
    "        创建一个总额为loan，期限为months，年利率为annRate的新抵押贷款\"\"\"\n",
    "        self.loan=loan\n",
    "        self.rate=annRate/12\n",
    "        self.months=months\n",
    "        self.paid=[0.0]\n",
    "        self.outstanding=[loan]\n",
    "        self.payment=findPayment(loan,self.rate,months)\n",
    "        self.legend=None #这是贷款的种类描述项\n",
    "    \n",
    "    def makePayment(self):\n",
    "        \"\"\"支付每月还款额\"\"\"\n",
    "        self.paid.append(self.payment)\n",
    "        reduction=self.payment - self.outstanding[-1]*self.rate\n",
    "        self.outstanding.append(self.outstanding[-1]-reduction)\n",
    "    \n",
    "    def getTotalPaid(self):\n",
    "        '''返回至今为止的支付总额'''\n",
    "        return sum(self,paid)\n",
    "    \n",
    "    def __str__(self):\n",
    "        return self.legend\n",
    "    \n",
    "    def plotPayments(self,style):\n",
    "        pylab.plot(self.paid[1:],style,label = self.legend)\n",
    "        #画出每月的还款额\n",
    "        \n",
    "    def plotBalance(self,style):\n",
    "        pylab.plot(self.outstanding,style, label = self.legend)\n",
    "        \n",
    "    def plotTotPd(self,style):\n",
    "        totPd = [self.paid[0]]\n",
    "        for i in range(1,len(self.paid)):\n",
    "            totPd.append(totPd[-1]+self.paid[i])\n",
    "        pylab.plot(totPd,style,label=self.legend)\n",
    "    \n",
    "    def plotNet(self, style):\n",
    "        totPd = [self.paid[0]]\n",
    "        for i in range(1, len(self.paid)):\n",
    "            totPd.append(totPd[-1] + self.paid[i])\n",
    "        equityAcquired = pylab.array([self.loan] * \\\n",
    "                        len(self.outstanding))\n",
    "        equityAcquired = equityAcquired - \\\n",
    "                        pylab.array(self.outstanding)\n",
    "        net = pylab.array(totPd) - equityAcquired\n",
    "        pylab.plot(net, style, label = self.legend)"
   ]
  },
  {
   "cell_type": "markdown",
   "metadata": {},
   "source": [
    "Mortgage的子类新定义如下："
   ]
  },
  {
   "cell_type": "code",
   "execution_count": 3,
   "metadata": {},
   "outputs": [],
   "source": [
    "class Fixed(Mortgage):\n",
    "    def __init__(self, loan, r, months):\n",
    "        Mortgage.__init__(self, loan, r, months)\n",
    "        self.legend = 'Fixed, ' + str(r*100) + '%'\n",
    "\n",
    "class FixedWithPts(Mortgage):\n",
    "    def __init__(self, loan, r, months, pts):\n",
    "        Mortgage.__init__(self, loan, r, months)\n",
    "        self.pts = pts\n",
    "        self.paid = [loan*(pts/100.0)]\n",
    "        self.legend = 'Fixed, ' + str(r*100) + '%, '\\\n",
    "                        + str(pts) + ' points'\n",
    "\n",
    "class TwoRate(Mortgage):\n",
    "    def __init__(self, loan, r, months, teaserRate, teaserMonths):\n",
    "        Mortgage.__init__(self, loan, teaserRate, months)\n",
    "        self.teaserMonths = teaserMonths\n",
    "        self.teaserRate = teaserRate\n",
    "        self.nextRate = r/12.0\n",
    "        self.legend = str(teaserRate*100)\\\n",
    "                        + '% for ' + str(self.teaserMonths)\\\n",
    "                        + ' months, then ' + str(r*100) + '%'\n",
    "def makePayment(self):\n",
    "    if len(self.paid) == self.teaserMonths + 1:\n",
    "        self.rate = self.nextRate\n",
    "        self.payment = findPayment(self.outstanding[-1],\n",
    "                        self.rate,\n",
    "                        self.months - self.teaserMonths)\n",
    "    Mortgage.makePayment(self)"
   ]
  },
  {
   "cell_type": "code",
   "execution_count": 19,
   "metadata": {},
   "outputs": [],
   "source": [
    "#plotMortgage函数使用Mortgage类中的绘图方法生成图形，图形包含三种抵押贷款的信息。\n",
    "def plotMortgages(morts, amt):\n",
    "    def labelPlot(figure, title, xLabel, yLabel):\n",
    "        pylab.figure(figure)\n",
    "        pylab.title(title)\n",
    "        pylab.xlabel(xLabel)\n",
    "        pylab.ylabel(yLabel)\n",
    "        pylab.legend(loc = 'best')\n",
    "    styles = ['k-','k-.','k:']\n",
    "    #给图编号赋名\n",
    "    payments, cost, balance, netCost = 0, 1, 2, 3\n",
    "    for i in range(len(morts)):\n",
    "        pylab.figure(payments)\n",
    "        morts[i].plotPayments(styles[i])\n",
    "        pylab.figure(cost)\n",
    "        morts[i].plotTotPd(styles[i])\n",
    "        pylab.figure(balance)\n",
    "        morts[i].plotBalance(styles[i])\n",
    "        pylab.figure(netCost)\n",
    "        morts[i].plotNet(styles[i])\n",
    "    labelPlot(payments, 'Monthly Payments of $' + str(amt) +\n",
    "                ' Mortgages', 'Months', 'Monthly Payments')\n",
    "    labelPlot(cost, 'Cash Outlay of $' + str(amt) +\n",
    "                'Mortgages', 'Months', 'Total Payments')\n",
    "    labelPlot(balance, 'Balance Remaining of $' + str(amt) +\n",
    "                'Mortgages', 'Months', 'Remaining Loan Balance of $')\n",
    "    labelPlot(netCost, 'Net Cost of $' + str(amt) + ' Mortgages',\n",
    "                'Months', 'Payments - Equity $')"
   ]
  },
  {
   "cell_type": "code",
   "execution_count": 20,
   "metadata": {},
   "outputs": [],
   "source": [
    "#compareMortgage函数创建了一个包含不同类型抵押贷款的列表，并模拟了每种贷款的一系列还款\n",
    "\n",
    "def compareMortgages(amt, years, fixedRate, pts, ptsRate,varRate1, varRate2, varMonths):\n",
    "    totMonths = years*12\n",
    "    fixed1 = Fixed(amt, fixedRate, totMonths)\n",
    "    fixed2 = FixedWithPts(amt, ptsRate, totMonths, pts)\n",
    "    twoRate = TwoRate(amt, varRate2, totMonths, varRate1, varMonths)\n",
    "    morts = [fixed1, fixed2, twoRate]\n",
    "    for m in range(totMonths):\n",
    "        for mort in morts:\n",
    "            mort.makePayment()\n",
    "    plotMortgages(morts, amt)"
   ]
  },
  {
   "cell_type": "code",
   "execution_count": 21,
   "metadata": {},
   "outputs": [
    {
     "data": {
      "image/png": "[encoded data removed]",
      "text/plain": [
       "<matplotlib.figure.Figure at 0x1fa911f6c88>"
      ]
     },
     "metadata": {},
     "output_type": "display_data"
    },
    {
     "data": {
      "image/png": "[encoded data removed]",
      "text/plain": [
       "<matplotlib.figure.Figure at 0x1fa9123eac8>"
      ]
     },
     "metadata": {},
     "output_type": "display_data"
    },
    {
     "data": {
      "image/png": "[encoded data removed]",
      "text/plain": [
       "<matplotlib.figure.Figure at 0x1fa914acb00>"
      ]
     },
     "metadata": {},
     "output_type": "display_data"
    },
    {
     "data": {
      "image/png": "[encoded data removed]",
      "text/plain": [
       "<matplotlib.figure.Figure at 0x1fa912630b8>"
      ]
     },
     "metadata": {},
     "output_type": "display_data"
    }
   ],
   "source": [
    "compareMortgages(amt=200000, years=30, fixedRate=0.07,\n",
    "                    pts = 3.25, ptsRate=0.05,\n",
    "                    varRate1=0.045, varRate2=0.095, varMonths=48)"
   ]
  },
  {
   "cell_type": "markdown",
   "metadata": {},
   "source": [
    "## 示例：绘制养老基金"
   ]
  },
  {
   "cell_type": "markdown",
   "metadata": {},
   "source": [
    "假设每月存入m金额至养老基金中，然后每年的投资利率为r%，想要知道在退休时整个养老基金的数额会增加到多少。"
   ]
  },
  {
   "cell_type": "code",
   "execution_count": 28,
   "metadata": {},
   "outputs": [],
   "source": [
    "import pylab as plt\n",
    "\n",
    "def retire(monthly,rate,terms): #monthly为每月存款，rate为年利率，terms为工作月数\n",
    "    savings=[0] #每月存入基金的金额，初始为0\n",
    "    base=[0] #存入的月数，初始为0\n",
    "    mRate=rate/12\n",
    "    for i in range(terms):\n",
    "        base+=[i]\n",
    "        savings+=[savings[-1]*(1+mRate)+monthly]\n",
    "    return base,savings\n",
    "\n",
    "def displayRetireWMonthlies(monthlies,rate,terms):\n",
    "    plt.figure('retireMonth')\n",
    "    plt.clf()\n",
    "    for monthly in monthlies:\n",
    "        xvals,yvals=retire(monthly,rate,terms) #将base，savings分别赋值给x,y\n",
    "        plt.plot(xvals,yvals,label='retire:'+str(monthly))\n",
    "        plt.legend(loc='upper left')"
   ]
  },
  {
   "cell_type": "code",
   "execution_count": 29,
   "metadata": {},
   "outputs": [
    {
     "data": {
      "image/png": "[encoded data removed]",
      "text/plain": [
       "<matplotlib.figure.Figure at 0x1fa9154b630>"
      ]
     },
     "metadata": {},
     "output_type": "display_data"
    }
   ],
   "source": [
    "displayRetireWMonthlies([500, 600, 700, 800, 900,\n",
    "1000, 1100], .05, 40* 12)"
   ]
  },
  {
   "cell_type": "markdown",
   "metadata": {},
   "source": [
    "可以看出每月存入的金额差别在600元，最后的退休基金的差距可以达到100w！那么，是什么因素导致了这样的增长差异呢？下面对利率因素画图进行分析。"
   ]
  },
  {
   "cell_type": "code",
   "execution_count": 30,
   "metadata": {},
   "outputs": [],
   "source": [
    "def displayRetireWRates(month, rates, terms):\n",
    "    plt.figure('retireRate')\n",
    "    plt.clf()\n",
    "    for rate in rates:\n",
    "        xvals, yvals = retire(month, rate, terms)\n",
    "        plt.plot(xvals, yvals,\n",
    "                    label = 'retire:'+str(month)+ ':' + \\\n",
    "                            str(int(rate*100)))\n",
    "        plt.legend(loc = 'upper left')"
   ]
  },
  {
   "cell_type": "code",
   "execution_count": 31,
   "metadata": {},
   "outputs": [
    {
     "data": {
      "image/png": "[encoded data removed]",
      "text/plain": [
       "<matplotlib.figure.Figure at 0x1fa9159c198>"
      ]
     },
     "metadata": {},
     "output_type": "display_data"
    }
   ],
   "source": [
    "displayRetireWRates(800,[.03, .05, .07], 40*12)"
   ]
  },
  {
   "cell_type": "markdown",
   "metadata": {},
   "source": [
    "可以看出3%和7%的利率之间，最后的养老基金可以相差150w。如果我们想把两个因素同时展示时该怎么画图呢？"
   ]
  },
  {
   "cell_type": "code",
   "execution_count": 48,
   "metadata": {},
   "outputs": [],
   "source": [
    "def displayRetireWMonthsAndRates(monthlies, rates, terms):\n",
    "    plt.figure('retireBoth')\n",
    "    plt.clf()\n",
    "    plt.xlim(30*12, 40*12) #查看最后10年的情况\n",
    "    monthLabels = ['r', 'b', 'g', 'k'] #创造标签，4个不同存款金额\n",
    "    rateLabels = ['-', 'o', '--'] #创造标签，3个不同利率\n",
    "    for i in range(len(monthlies)):\n",
    "        monthly=monthlies[i]\n",
    "        monthLabel = monthLabels[i%len(monthLabels)] #根据数据组数量选择不同标签\n",
    "        for j in range(len(rates)):\n",
    "            rate=rates[j]\n",
    "            rateLabel = rateLabels[j%len(rateLabels)]\n",
    "            xvals, yvals = retire(monthly, rate, terms)\n",
    "            plt.plot(xvals, yvals,monthLabel+rateLabel,\n",
    "                     label = 'retire:'+str(monthly)+ ':' \\\n",
    "                            + str(int(rate*100)))\n",
    "            plt.legend(loc = 'upper left')"
   ]
  },
  {
   "cell_type": "code",
   "execution_count": 49,
   "metadata": {},
   "outputs": [
    {
     "data": {
      "image/png": "[encoded data removed]",
      "text/plain": [
       "<matplotlib.figure.Figure at 0x1fa91540780>"
      ]
     },
     "metadata": {},
     "output_type": "display_data"
    }
   ],
   "source": [
    "displayRetireWMonthsAndRates([500, 700, 900, 1100], [.03, .05, .07],40*12)"
   ]
  },
  {
   "cell_type": "markdown",
   "metadata": {},
   "source": [
    "如上图可以根据颜色区分不同的存款金额，根据线的形状区分不同的利率。"
   ]
  },
  {
   "cell_type": "markdown",
   "metadata": {},
   "source": [
    "# Week 9 Simulations and Random Walks"
   ]
  },
  {
   "cell_type": "markdown",
   "metadata": {},
   "source": [
    "一个过程，如果它的下一个状态依赖于一些随机因素，那么这个过程就是随机的，称为随机过程。随机过程的结果通常是不确定的，因此，我们很少对随机过程的行为做出明确描述，而是对它可能的行为做出概率上的描述。\n",
    "\n",
    "编写程序来帮助理解不确定的情况时，这种程序很多的都被称为是模拟模型，模拟模型会模仿实际系统的活动。"
   ]
  },
  {
   "cell_type": "markdown",
   "metadata": {},
   "source": [
    "## 醉汉游走"
   ]
  },
  {
   "cell_type": "markdown",
   "metadata": {},
   "source": [
    "随机游走的定义起源于布朗运动，布朗运动是随机游走的一种。随机游走广泛应用于对物理过程（如扩散）、生物过程（如DNA在异源双链中替换RNA的动力学过程）和社会过程（如股市走向）的建模。\n",
    "\n",
    "接下来设计的醉汉游走程序可以帮助我们理解随机游走方法，开始这个设计过程时，我们应该先设计一些数据抽象，帮助建立这个模拟模型，这些数据抽象也可能应用于其他类型的随机游走过程的模拟。一般来说，我们开发出的新数据类型应该对应于建模情形中出现的对象。这个情形中有3个明显的类型： Location、 Field和Drunk。"
   ]
  },
  {
   "cell_type": "code",
   "execution_count": 78,
   "metadata": {},
   "outputs": [],
   "source": [
    "#Location 类的设计\n",
    "class Location(object):\n",
    "    def __init__(self, x, y):\n",
    "        \"\"\"x和y为数值型\"\"\"\n",
    "        self.x, self.y = x, y\n",
    "        \n",
    "    def move(self, deltaX, deltaY):\n",
    "        \"\"\"deltaX和deltaY为数值型\"\"\"\n",
    "        return Location(self.x + deltaX, self.y + deltaY)\n",
    "    \n",
    "    def getX(self):\n",
    "        return self.x\n",
    "    \n",
    "    def getY(self):\n",
    "        return self.y\n",
    "    \n",
    "    def distFrom(self, other):\n",
    "        ox, oy = other.x, other.y\n",
    "        xDist, yDist = self.x - ox, self.y - oy\n",
    "        return (xDist**2 + yDist**2)**0.5 #计算离原点的距离\n",
    "    \n",
    "    def __str__(self):\n",
    "        return '<' + str(self.x) + ', ' + str(self.y) + '>' #返回坐标\n",
    "       \n",
    "    \n",
    "#Field 类的设计\n",
    "\n",
    "class Field(object):\n",
    "    def __init__(self):\n",
    "        self.drunks={} #设计一个字典来保存醉汉的信息\n",
    "    \n",
    "    def moveDrunk(self,drunk):\n",
    "        if drunk not in self.drunks:\n",
    "            raise ValueError('Drunk not in field')\n",
    "        xDist, yDist = drunk.takeStep() #使用Drunk的方法使醉汉随机游走\n",
    "        currentLocation=self.drunks[drunk] #根据醉汉名称在字典中读取位置信息\n",
    "        self.drunks[drunk] = currentLocation.move(xDist, yDist)#使用Location的move方法获得一个新位置\n",
    "        \n",
    "    def addDrunk(self,drunk,loc):\n",
    "        if drunk in self.drunks:\n",
    "            raise ValueError('Duplicate drunk')\n",
    "        else:\n",
    "            self.drunks[drunk] = loc #更新醉汉的位置信息\n",
    "        \n",
    "    def getLoc(self, drunk):\n",
    "        if drunk not in self.drunks:\n",
    "            raise ValueError('Drunk not in field')\n",
    "        return self.drunks[drunk] #提取醉汉的位置数据\n",
    "    \n",
    "\n",
    " #Drunk 类的设计\n",
    "import random\n",
    "\n",
    "class Drunk(object):\n",
    "    def __init__(self,name=None):\n",
    "        \"\"\"假设name是字符串\"\"\"\n",
    "        self.name = name\n",
    "    \n",
    "    def __str__(self):\n",
    "        if self != None:\n",
    "            return self.name\n",
    "        return 'Anonymous'\n",
    "    \n",
    "class UsualDrunk(Drunk):\n",
    "    def takeStep(self):\n",
    "        stepChoices = [(0,1), (0,-1), (1, 0), (-1, 0)]\n",
    "        return random.choice(stepChoices)\n",
    "        return random.choice(stepChoices) #随机走一步"
   ]
  },
  {
   "cell_type": "markdown",
   "metadata": {},
   "source": [
    "下一步使用类来建立一个模拟器进行模拟："
   ]
  },
  {
   "cell_type": "code",
   "execution_count": 81,
   "metadata": {},
   "outputs": [],
   "source": [
    "def walk(f,d,numSteps):\n",
    "    \"\"\"假设f是一个Field对象， d是f中的一个Drunk对象， numSteps是正整数。\n",
    "        将d移动numSteps次；返回这次游走最终位置与开始位置之间的距离\"\"\"\n",
    "    start = f.getLoc(d)\n",
    "    for s in range(numSteps):\n",
    "        f.moveDrunk(d)\n",
    "    return start.distFrom(f.getLoc(d))\n",
    "\n",
    "def simWalks(numSteps,numTrials,dClass):\n",
    "    \"\"\"假设numSteps是非负整数， numTrials是正整数，\n",
    "    dClass是Drunk的一个子类。\n",
    "    模拟numTrials次游走，每次游走numSteps步。\n",
    "    返回一个列表，表示每次模拟的最终距离\"\"\"\n",
    "    Homer=dClass()\n",
    "    origin=Location(0,0)\n",
    "    distances=[]\n",
    "    for t in range(numTrials):\n",
    "        f = Field()\n",
    "        f.addDrunk(Homer,origin)\n",
    "        distances.append(round(walk(f,Homer,numSteps),1))\n",
    "    return distances\n",
    "\n",
    "def drunkTest(walkLengths, numTrials, dClass):\n",
    "    \"\"\"假设walkLengths是非负整数序列\n",
    "        numTrials是正整数， dClass是Drunk的一个子类\n",
    "        对于walkLengths中的每个步数，运行numTrials次simWalks函数，并输出结果\"\"\"\n",
    "    for numSteps in walkLengths:\n",
    "        distances = simWalks(numSteps, numTrials, dClass)\n",
    "        print(dClass.__name__, 'random walk of', numSteps, 'steps')\n",
    "        print(' Mean =', round(sum(distances)/len(distances), 4))\n",
    "        print(' Max =', max(distances), 'Min =', min(distances))"
   ]
  },
  {
   "cell_type": "code",
   "execution_count": 82,
   "metadata": {},
   "outputs": [
    {
     "name": "stdout",
     "output_type": "stream",
     "text": [
      "UsualDrunk random walk of 10 steps\n",
      " Mean = 2.738\n",
      " Max = 7.2 Min = 0.0\n",
      "UsualDrunk random walk of 100 steps\n",
      " Mean = 9.692\n",
      " Max = 24.3 Min = 2.0\n",
      "UsualDrunk random walk of 1000 steps\n",
      " Mean = 29.096\n",
      " Max = 74.1 Min = 1.4\n",
      "UsualDrunk random walk of 10000 steps\n",
      " Mean = 95.845\n",
      " Max = 297.3 Min = 8.9\n"
     ]
    }
   ],
   "source": [
    "drunkTest((10, 100, 1000, 10000), 100, UsualDrunk)"
   ]
  },
  {
   "cell_type": "markdown",
   "metadata": {},
   "source": [
    "## 有偏的随机游走"
   ]
  },
  {
   "cell_type": "markdown",
   "metadata": {},
   "source": [
    "既然已经有了一个可用的模拟模型，我们就可以对其进行修改来研究其他类型的随机游走。举例来说，假设要研究一个北半球的醉酒的农夫行为，他讨厌寒冷，喜欢温暖，即使烂醉如泥，向南方进行随机移动时的速度还是其他方向的两倍。或者有一个喜欢阳光的醉汉，总是向着太阳移动（上午向东，下午向西）。这些都属于有偏随机游走。游走仍然是随机的，但结果是有偏的。"
   ]
  },
  {
   "cell_type": "code",
   "execution_count": 106,
   "metadata": {},
   "outputs": [],
   "source": [
    "class ColdDrunk(Drunk):\n",
    "    def takeStep(self):\n",
    "        stepChoices=[(0.0,1.0),(0.0,-2.0),(1.0,0.0),(-1.0,0.0)]\n",
    "        return random.choice(stepChoices)\n",
    "\n",
    "class EWDrunk(Drunk):\n",
    "    def takeStep(self):\n",
    "        stepChoices = [(1.0, 0.0), (-1.0, 0.0)]\n",
    "        return random.choice(stepChoices)\n",
    "    \n",
    "def simAll(drunkKinds, walkLengths, numTrials):\n",
    "    for dClass in drunkKinds:\n",
    "        drunkTest(walkLengths, numTrials, dClass)"
   ]
  },
  {
   "cell_type": "code",
   "execution_count": 107,
   "metadata": {},
   "outputs": [
    {
     "name": "stdout",
     "output_type": "stream",
     "text": [
      "UsualDrunk random walk of 100 steps\n",
      " Mean = 10.22\n",
      " Max = 20.9 Min = 5.7\n",
      "UsualDrunk random walk of 1000 steps\n",
      " Mean = 23.01\n",
      " Max = 47.0 Min = 6.3\n",
      "ColdDrunk random walk of 100 steps\n",
      " Mean = 30.63\n",
      " Max = 46.5 Min = 17.0\n",
      "ColdDrunk random walk of 1000 steps\n",
      " Mean = 247.01\n",
      " Max = 303.7 Min = 201.0\n",
      "EWDrunk random walk of 100 steps\n",
      " Mean = 6.8\n",
      " Max = 16.0 Min = 2.0\n",
      "EWDrunk random walk of 1000 steps\n",
      " Mean = 23.8\n",
      " Max = 38.0 Min = 0.0\n"
     ]
    }
   ],
   "source": [
    "simAll((UsualDrunk, ColdDrunk, EWDrunk), (100, 1000), 10)"
   ]
  },
  {
   "cell_type": "markdown",
   "metadata": {},
   "source": [
    "## 数据可视化"
   ]
  },
  {
   "cell_type": "markdown",
   "metadata": {},
   "source": [
    "因为要在同一张图中表示多个不同类型的醉汉，所以要为每种类型的醉汉关联一种明确的样式以便更好地区分。样式包含以下3部分内容：\n",
    "\n",
    "（1）线和标记的颜色；\n",
    "\n",
    "（2）标记的形状；\n",
    "\n",
    "（3）线的类型，如实线或虚线。"
   ]
  },
  {
   "cell_type": "code",
   "execution_count": 108,
   "metadata": {},
   "outputs": [],
   "source": [
    "#下面是一个迭代器，可以在一个样式序列间滚动轮换\n",
    "class styleIterator(object):\n",
    "    def __init__(self,styles):\n",
    "        self.index=0\n",
    "        self.styles=styles\n",
    "        \n",
    "    def nextStyle(self):\n",
    "        result = self.styles[self.index]\n",
    "        if self.index == len(self.styles) - 1:\n",
    "            self.index = 0\n",
    "        else:\n",
    "            self.index += 1\n",
    "        return result"
   ]
  },
  {
   "cell_type": "code",
   "execution_count": 109,
   "metadata": {},
   "outputs": [],
   "source": [
    "def simDrunk(numTrials,dClass,walkLengths):\n",
    "    meanDistances = []\n",
    "    for numSteps in walkLengths:\n",
    "        print('Starting simulation of',numSteps,'steps')\n",
    "        trials = simWalks(numSteps,numTrials,dClass)\n",
    "        mean = sum(trials)/len(trials)\n",
    "        meanDistances.append(mean)\n",
    "    return meanDistances\n",
    "\n",
    "import pylab\n",
    "\n",
    "def simAll1(drunkKinds,walkLengths,numTrials):\n",
    "    styleChoice = styleIterator(('m-','r:','k-.'))\n",
    "    for dClass in drunkKinds:\n",
    "        curStyle = styleChoice.nextStyle()\n",
    "        print('Starting simulation of', dClass.__name__)\n",
    "        means = simDrunk(numTrials, dClass, walkLengths)\n",
    "        pylab.plot(walkLengths,means,curStyle,label = dClass.__name__)\n",
    "        pylab.title('Mean Distance from Origin (' + str(numTrials) + 'trials)')\n",
    "        pylab.xlabel('Number of Steps')\n",
    "        pylab.ylabel('Distance from Origin')\n",
    "        pylab.legend(loc='best')\n",
    "        pylab.semilogx()\n",
    "        pylab.semilogy()#通过调用绘图函数pylab.semilogx和semilogy转换坐标轴标度"
   ]
  },
  {
   "cell_type": "code",
   "execution_count": 110,
   "metadata": {},
   "outputs": [
    {
     "name": "stdout",
     "output_type": "stream",
     "text": [
      "Starting simulation of UsualDrunk\n",
      "Starting simulation of 10 steps\n",
      "Starting simulation of 100 steps\n",
      "Starting simulation of 1000 steps\n",
      "Starting simulation of 10000 steps\n",
      "Starting simulation of 100000 steps\n",
      "Starting simulation of ColdDrunk\n",
      "Starting simulation of 10 steps\n",
      "Starting simulation of 100 steps\n",
      "Starting simulation of 1000 steps\n",
      "Starting simulation of 10000 steps\n",
      "Starting simulation of 100000 steps\n",
      "Starting simulation of EWDrunk\n",
      "Starting simulation of 10 steps\n",
      "Starting simulation of 100 steps\n",
      "Starting simulation of 1000 steps\n",
      "Starting simulation of 10000 steps\n",
      "Starting simulation of 100000 steps\n"
     ]
    },
    {
     "data": {
      "image/png": "[encoded data removed]",
      "text/plain": [
       "<matplotlib.figure.Figure at 0x1fa917b5cf8>"
      ]
     },
     "metadata": {},
     "output_type": "display_data"
    }
   ],
   "source": [
    "simAll1((UsualDrunk, ColdDrunk, EWDrunk),(10,100,1000,10000,100000), 100)"
   ]
  },
  {
   "cell_type": "code",
   "execution_count": 112,
   "metadata": {},
   "outputs": [
    {
     "data": {
      "image/png": "[encoded data removed]",
      "text/plain": [
       "<matplotlib.figure.Figure at 0x1fa916e1fd0>"
      ]
     },
     "metadata": {},
     "output_type": "display_data"
    }
   ],
   "source": [
    "#绘制对于某个特定的步数，各个醉汉的最终位置分布。\n",
    "def getFinalLocs(numSteps, numTrials, dClass):\n",
    "    locs = []\n",
    "    d = dClass()\n",
    "    for t in range(numTrials):\n",
    "        f = Field()\n",
    "        f.addDrunk(d,Location(0,0))\n",
    "        for s in range(numSteps):\n",
    "            f.moveDrunk(d)\n",
    "        locs.append(f.getLoc(d))\n",
    "    return locs\n",
    "\n",
    "def plotLocs(drunkKinds, numSteps, numTrials):\n",
    "    styleChoice = styleIterator(('k+', 'r^', 'mo'))\n",
    "    for dClass in drunkKinds:\n",
    "        locs = getFinalLocs(numSteps,numTrials,dClass)\n",
    "        xVals,yVals=[],[]\n",
    "        for loc in locs:\n",
    "            xVals.append(loc.getX())\n",
    "            yVals.append(loc.getY())\n",
    "        meanX = sum(xVals)/len(xVals)\n",
    "        meanY = sum(yVals)/len(yVals)\n",
    "        curStyle = styleChoice.nextStyle()\n",
    "        pylab.plot(xVals,yVals,curStyle,\n",
    "                      label = dClass.__name__+' mean loc. = <' \n",
    "                       + str(meanX) + ','+ str(meanY) + '>')\n",
    "    pylab.title('Location at End of Walks (' + str(numSteps) + 'steps)')\n",
    "    pylab.xlabel('Steps East/West of Origin')\n",
    "    pylab.ylabel('Steps North/South of Origin')\n",
    "    pylab.legend(loc = 'lower left')\n",
    "    \n",
    "plotLocs((UsualDrunk, ColdDrunk, EWDrunk), 100, 200)"
   ]
  },
  {
   "cell_type": "markdown",
   "metadata": {},
   "source": [
    "还有一个问题至少对我来说不那么一目了然，那就是，从平均意义上说，为什么ColdDrunk相对于其他两种类型的醉汉，总是试图从原点走得更远。要搞清这个问题，恐怕不能从多次游走的终点入手，而应该看一下单次游走经过的路径。"
   ]
  },
  {
   "cell_type": "code",
   "execution_count": 113,
   "metadata": {},
   "outputs": [
    {
     "data": {
      "image/png": "[encoded data removed]",
      "text/plain": [
       "<matplotlib.figure.Figure at 0x1fa9177d5c0>"
      ]
     },
     "metadata": {},
     "output_type": "display_data"
    }
   ],
   "source": [
    "def traceWalk(drunkKinds,numSteps):\n",
    "    styleChoice = styleIterator(('k+', 'r^', 'mo'))\n",
    "    f = Field()\n",
    "    for dClass in drunkKinds:\n",
    "        d = dClass()\n",
    "        f.addDrunk(d, Location(0, 0))\n",
    "        locs = []\n",
    "        for s in range(numSteps):\n",
    "            f.moveDrunk(d)\n",
    "            locs.append(f.getLoc(d))\n",
    "        xVals,yVals=[],[]\n",
    "        for loc in locs:\n",
    "            xVals.append(loc.getX())\n",
    "            yVals.append(loc.getY())\n",
    "        curStyle = styleChoice.nextStyle()\n",
    "        pylab.plot(xVals, yVals, curStyle,label = dClass.__name__)\n",
    "        pylab.title('Spots Visited on Walk (' + str(numSteps) + ' steps)')\n",
    "        pylab.xlabel('Steps East/West of Origin')\n",
    "        pylab.ylabel('Steps North/South of Origin')\n",
    "        pylab.legend(loc = 'best')\n",
    "traceWalk((UsualDrunk, ColdDrunk, EWDrunk), 200)"
   ]
  },
  {
   "cell_type": "markdown",
   "metadata": {},
   "source": [
    "## Odd Fileds"
   ]
  },
  {
   "cell_type": "markdown",
   "metadata": {},
   "source": [
    "通过创建一个带有虫洞的Field，可以在随机游走问题中轻松加入虫洞的特性。"
   ]
  },
  {
   "cell_type": "code",
   "execution_count": 114,
   "metadata": {},
   "outputs": [
    {
     "data": {
      "image/png": "[encoded data removed]",
      "text/plain": [
       "<matplotlib.figure.Figure at 0x1fa92976f98>"
      ]
     },
     "metadata": {},
     "output_type": "display_data"
    }
   ],
   "source": [
    "class oddField(Field):\n",
    "    def __init__(self,numHoles,xRange,yRange):\n",
    "        Field.__init__(self)\n",
    "        self.wormholes={}\n",
    "        for w in range(numHoles):\n",
    "            x = random.randint(-xRange, xRange)\n",
    "            y = random.randint(-yRange, yRange)\n",
    "            newX = random.randint(-xRange, xRange)\n",
    "            newY = random.randint(-yRange, yRange)\n",
    "            newLoc = Location(newX, newY)\n",
    "            self.wormholes[(x, y)] = newLoc\n",
    "    \n",
    "    def moveDrunk(self, drunk):\n",
    "        Field.moveDrunk(self, drunk)\n",
    "        x = self.drunks[drunk].getX()\n",
    "        y = self.drunks[drunk].getY()\n",
    "        if (x, y) in self.wormholes:\n",
    "            self.drunks[drunk] = self.wormholes[(x, y)]\n",
    "\n",
    "def traceWalk(drunkKinds,numSteps):\n",
    "    styleChoice = styleIterator(('k+', 'r^', 'mo'))\n",
    "    f = oddField(1000, 100, 200)\n",
    "    for dClass in drunkKinds:\n",
    "        d = dClass()\n",
    "        f.addDrunk(d, Location(0, 0))\n",
    "        locs = []\n",
    "        for s in range(numSteps):\n",
    "            f.moveDrunk(d)\n",
    "            locs.append(f.getLoc(d))\n",
    "        xVals,yVals=[],[]\n",
    "        for loc in locs:\n",
    "            xVals.append(loc.getX())\n",
    "            yVals.append(loc.getY())\n",
    "        curStyle = styleChoice.nextStyle()\n",
    "        pylab.plot(xVals, yVals, curStyle,label = dClass.__name__)\n",
    "        pylab.title('Spots Visited on Walk (' + str(numSteps) + ' steps)')\n",
    "        pylab.xlabel('Steps East/West of Origin')\n",
    "        pylab.ylabel('Steps North/South of Origin')\n",
    "        pylab.legend(loc = 'best')\n",
    "traceWalk((UsualDrunk, ColdDrunk, EWDrunk), 200)"
   ]
  },
  {
   "cell_type": "markdown",
   "metadata": {},
   "source": [
    "## 练习"
   ]
  },
  {
   "cell_type": "markdown",
   "metadata": {},
   "source": [
    "### 练习总结"
   ]
  },
  {
   "cell_type": "code",
   "execution_count": 213,
   "metadata": {},
   "outputs": [],
   "source": [
    "#edX Exercice 2 \n",
    "#Fill out the definition for the function genEven(). Please generate a uniform distribution over the even numbers between 0 and 100 (not including 100).\n",
    "\n",
    "import random\n",
    "def genEven():\n",
    "    '''\n",
    "    Returns a random even number x, where 0 <= x < 100\n",
    "    '''\n",
    "    return random.randrange(0, 100, 2) #step参数=2时输出偶数。"
   ]
  },
  {
   "cell_type": "code",
   "execution_count": 217,
   "metadata": {},
   "outputs": [
    {
     "data": {
      "text/plain": [
       "74"
      ]
     },
     "execution_count": 217,
     "metadata": {},
     "output_type": "execute_result"
    }
   ],
   "source": [
    "genEven()"
   ]
  },
  {
   "cell_type": "code",
   "execution_count": 117,
   "metadata": {},
   "outputs": [
    {
     "name": "stdout",
     "output_type": "stream",
     "text": [
      "1\n",
      "5\n",
      "5\n",
      "2\n",
      "10\n"
     ]
    }
   ],
   "source": [
    "#edX Exercice 3 \n",
    "import random\n",
    "random.seed(9001)\n",
    "for i in range(5):\n",
    "    print(random.randint(1, 10))"
   ]
  },
  {
   "cell_type": "code",
   "execution_count": 118,
   "metadata": {},
   "outputs": [
    {
     "name": "stdout",
     "output_type": "stream",
     "text": [
      "1\n",
      "1\n",
      "5\n",
      "1\n",
      "1\n"
     ]
    }
   ],
   "source": [
    "random.seed(9001)\n",
    "d = random.randint(1, 10)\n",
    "for i in range(random.randint(1, 10)):\n",
    "    if random.randint(1, 10) < 7:\n",
    "        print(d)\n",
    "    else:\n",
    "        random.seed(9001)\n",
    "        d = random.randint(1, 10)\n",
    "        print(random.randint(1, 10))"
   ]
  },
  {
   "cell_type": "markdown",
   "metadata": {},
   "source": [
    "每次调用random.randint()方法时，随机数会改变，因此出现了不规则的输出。"
   ]
  },
  {
   "cell_type": "markdown",
   "metadata": {},
   "source": [
    "### edX Problem Set 2"
   ]
  },
  {
   "cell_type": "code",
   "execution_count": 162,
   "metadata": {},
   "outputs": [],
   "source": [
    "# === Provided class Position\n",
    "class Position(object):\n",
    "    \"\"\"\n",
    "    A Position represents a location in a two-dimensional room.\n",
    "    \"\"\"\n",
    "    def __init__(self, x, y):\n",
    "        \"\"\"\n",
    "        Initializes a position with coordinates (x, y).\n",
    "        \"\"\"\n",
    "        self.x = x\n",
    "        self.y = y\n",
    "        \n",
    "    def getX(self):\n",
    "        return self.x\n",
    "    \n",
    "    def getY(self):\n",
    "        return self.y\n",
    "    \n",
    "    def getNewPosition(self, angle, speed):\n",
    "        \"\"\"\n",
    "        Computes and returns the new Position after a single clock-tick has\n",
    "        passed, with this object as the current position, and with the\n",
    "        specified angle and speed.\n",
    "\n",
    "        Does NOT test whether the returned position fits inside the room.\n",
    "\n",
    "        angle: number representing angle in degrees, 0 <= angle < 360\n",
    "        speed: positive float representing speed\n",
    "\n",
    "        Returns: a Position object representing the new position.\n",
    "        \"\"\"\n",
    "        import math\n",
    "        old_x, old_y = self.getX(), self.getY()\n",
    "        angle = float(angle)\n",
    "        # Compute the change in position\n",
    "        delta_y = speed * math.cos(math.radians(angle))\n",
    "        delta_x = speed * math.sin(math.radians(angle))\n",
    "        # Add that to the existing position\n",
    "        new_x = old_x + delta_x\n",
    "        new_y = old_y + delta_y\n",
    "        return Position(new_x, new_y)\n",
    "\n",
    "    def __str__(self):  \n",
    "        return \"(%0.2f, %0.2f)\" % (self.x, self.y)\n",
    "\n",
    "\n",
    "# === Problem 1\n",
    "class RectangularRoom(object):\n",
    "    \"\"\"\n",
    "    A RectangularRoom represents a rectangular region containing clean or dirty\n",
    "    tiles.\n",
    "\n",
    "    A room has a width and a height and contains (width * height) tiles. At any\n",
    "    particular time, each of these tiles is either clean or dirty.\n",
    "    \"\"\"\n",
    "    def __init__(self, width, height):\n",
    "        \"\"\"\n",
    "        Initializes a rectangular room with the specified width and height.\n",
    "\n",
    "        Initially, no tiles in the room have been cleaned.\n",
    "\n",
    "        width: an integer > 0\n",
    "        height: an integer > 0\n",
    "        \"\"\"\n",
    "        self.width = width\n",
    "        self.height = height\n",
    "        #tiles\n",
    "        self.tiles={}\n",
    "        for i in range(self.width):\n",
    "            for j in range(self.height):\n",
    "                tile=\"(\"+str(i)+','+str(j)+')'\n",
    "                self.tiles[tile]='Not Cleaned'\n",
    "    \n",
    "    def cleanTileAtPosition(self, pos):\n",
    "        \"\"\"\n",
    "        Mark the tile under the position POS as cleaned.\n",
    "\n",
    "        Assumes that POS represents a valid position inside this room.\n",
    "\n",
    "        pos: a Position\n",
    "        \"\"\"\n",
    "        import math\n",
    "        tile_c=\"(\"+str(math.floor(pos.x))+','+str(math.floor(pos.y))+')'\n",
    "        self.tiles[tile_c]='Cleaned'\n",
    "\n",
    "    def isTileCleaned(self, m, n):\n",
    "        \"\"\"\n",
    "        Return True if the tile (m, n) has been cleaned.\n",
    "\n",
    "        Assumes that (m, n) represents a valid tile inside the room.\n",
    "\n",
    "        m: an integer\n",
    "        n: an integer\n",
    "        returns: True if (m, n) is cleaned, False otherwise\n",
    "        \"\"\"\n",
    "        tile_n=\"(\"+str(m)+','+str(n)+')'\n",
    "        if self.tiles[tile_n] =='Cleaned':\n",
    "            return True\n",
    "        else:\n",
    "            return False\n",
    "            \n",
    "    def getNumTiles(self):\n",
    "        \"\"\"\n",
    "        Return the total number of tiles in the room.\n",
    "\n",
    "        returns: an integer\n",
    "        \"\"\"\n",
    "        return len(self.tiles)\n",
    "\n",
    "    def getNumCleanedTiles(self):\n",
    "        \"\"\"\n",
    "        Return the total number of clean tiles in the room.\n",
    "\n",
    "        returns: an integer\n",
    "        \"\"\"\n",
    "        i=0\n",
    "        for key in self.tiles:\n",
    "            if self.tiles[key]=='Cleaned':\n",
    "                i+=1\n",
    "        return i\n",
    "\n",
    "    def getRandomPosition(self):\n",
    "        \"\"\"\n",
    "        Return a random position inside the room.\n",
    "\n",
    "        returns: a Position object.\n",
    "        \"\"\"\n",
    "        import random\n",
    "        x=random.uniform(0,self.width)\n",
    "        y=random.uniform(0,self.height)\n",
    "        rpos=Position(x,y)\n",
    "        return rpos\n",
    "\n",
    "    def isPositionInRoom(self, pos):\n",
    "        \"\"\"\n",
    "        Return True if pos is inside the room.\n",
    "\n",
    "        pos: a Position object.\n",
    "        returns: True if pos is in the room, False otherwise.\n",
    "        \"\"\"\n",
    "\n",
    "        if (pos.x>=0 and pos.x<self.width) and (pos.y>=0 and pos.y<self.height):\n",
    "            return True\n",
    "        else:\n",
    "            return False"
   ]
  },
  {
   "cell_type": "code",
   "execution_count": 163,
   "metadata": {},
   "outputs": [],
   "source": [
    "# === Problem 2\n",
    "class Robot(object):\n",
    "    \"\"\"\n",
    "    Represents a robot cleaning a particular room.\n",
    "\n",
    "    At all times the robot has a particular position and direction in the room.\n",
    "    The robot also has a fixed speed.\n",
    "\n",
    "    Subclasses of Robot should provide movement strategies by implementing\n",
    "    updatePositionAndClean(), which simulates a single time-step.\n",
    "    \"\"\"\n",
    "    def __init__(self, room, speed):\n",
    "        \"\"\"\n",
    "        Initializes a Robot with the given speed in the specified room. The\n",
    "        robot initially has a random direction and a random position in the\n",
    "        room. The robot cleans the tile it is on.\n",
    "\n",
    "        room:  a RectangularRoom object.\n",
    "        speed: a float (speed > 0)\n",
    "        \"\"\"\n",
    "        import random\n",
    "        self.room=room\n",
    "        self.speed=speed\n",
    "        \n",
    "        self.position=self.room.getRandomPosition()\n",
    "        self.angle=random.randint(0,360)\n",
    "       \n",
    "\n",
    "    def getRobotPosition(self):\n",
    "        \"\"\"\n",
    "        Return the position of the robot.\n",
    "\n",
    "        returns: a Position object giving the robot's position.\n",
    "        \"\"\"\n",
    "        return self.position\n",
    "    \n",
    "    def getRobotDirection(self):\n",
    "        \"\"\"\n",
    "        Return the direction of the robot.\n",
    "\n",
    "        returns: an integer d giving the direction of the robot as an angle in\n",
    "        degrees, 0 <= d < 360.\n",
    "        \"\"\"\n",
    "        return self.angle\n",
    "\n",
    "    def setRobotPosition(self, position):\n",
    "        \"\"\"\n",
    "        Set the position of the robot to POSITION.\n",
    "\n",
    "        position: a Position object.\n",
    "        \"\"\"\n",
    "        x=position.x\n",
    "        y=position.y\n",
    "        self.position=Position(x,y)\n",
    "        return self.position\n",
    "        \n",
    "\n",
    "    def setRobotDirection(self, direction):\n",
    "        \"\"\"\n",
    "        Set the direction of the robot to DIRECTION.\n",
    "\n",
    "        direction: integer representing an angle in degrees\n",
    "        \"\"\"\n",
    "        self.angle=direction\n",
    "        return self.angle\n",
    "        \n",
    "\n",
    "    def updatePositionAndClean(self):\n",
    "        \"\"\"\n",
    "        Simulate the passage of a single time-step.\n",
    "\n",
    "        Move the robot to a new position and mark the tile it is on as having\n",
    "        been cleaned.\n",
    "        \"\"\"\n",
    "        n_position=self.position.getNewPosition(self.angle,self.speed)\n",
    "        self.room.cleanTileAtPosition(n_position)\n",
    "        raise NotImplementedError # don't change this!"
   ]
  },
  {
   "cell_type": "code",
   "execution_count": 150,
   "metadata": {},
   "outputs": [
    {
     "data": {
      "text/plain": [
       "<__main__.Robot at 0x2a9a24c0358>"
      ]
     },
     "execution_count": 150,
     "metadata": {},
     "output_type": "execute_result"
    }
   ],
   "source": [
    "Robot(RectangularRoom(1,2),2)"
   ]
  },
  {
   "cell_type": "code",
   "execution_count": 174,
   "metadata": {},
   "outputs": [],
   "source": [
    "# === Problem 3\n",
    "class StandardRobot(Robot):\n",
    "    \"\"\"\n",
    "    A StandardRobot is a Robot with the standard movement strategy.\n",
    "\n",
    "    At each time-step, a StandardRobot attempts to move in its current\n",
    "    direction; when it would hit a wall, it *instead* chooses a new direction\n",
    "    randomly.\n",
    "    \"\"\"\n",
    "    def updatePositionAndClean(self):\n",
    "        \"\"\"\n",
    "        Simulate the passage of a single time-step.\n",
    "\n",
    "        Move the robot to a new position and mark the tile it is on as having\n",
    "        been cleaned.\n",
    "        \"\"\"\n",
    "        import random\n",
    "        n_position=self.position.getNewPosition(self.angle,self.speed)\n",
    "        if n_position.x<=0 or n_position.x>=self.room.width or n_position.y<=0 or n_position.x>=self.room.height:\n",
    "            self.angle=random.randint(0,360)\n",
    "            \n",
    "        else:\n",
    "            return self.room.cleanTileAtPosition(n_position)\n",
    "        "
   ]
  },
  {
   "cell_type": "code",
   "execution_count": 175,
   "metadata": {},
   "outputs": [],
   "source": [
    "robot=StandardRobot(RectangularRoom(5,8),1.0)"
   ]
  },
  {
   "cell_type": "code",
   "execution_count": 176,
   "metadata": {},
   "outputs": [
    {
     "data": {
      "text/plain": [
       "90"
      ]
     },
     "execution_count": 176,
     "metadata": {},
     "output_type": "execute_result"
    }
   ],
   "source": [
    "robot.setRobotDirection(90)"
   ]
  },
  {
   "cell_type": "code",
   "execution_count": 177,
   "metadata": {},
   "outputs": [
    {
     "data": {
      "text/plain": [
       "<__main__.Position at 0x2a9a2396ef0>"
      ]
     },
     "execution_count": 177,
     "metadata": {},
     "output_type": "execute_result"
    }
   ],
   "source": [
    "robot.setRobotPosition(Position(1.5,2.5))"
   ]
  },
  {
   "cell_type": "code",
   "execution_count": 178,
   "metadata": {},
   "outputs": [
    {
     "name": "stdout",
     "output_type": "stream",
     "text": [
      "(2.50, 2.50)\n"
     ]
    }
   ],
   "source": [
    "robot.updatePositionAndClean()"
   ]
  },
  {
   "cell_type": "code",
   "execution_count": null,
   "metadata": {},
   "outputs": [],
   "source": []
  },
  {
   "cell_type": "markdown",
   "metadata": {},
   "source": [
    "# Week 10 Stochastic Thinking"
   ]
  },
  {
   "cell_type": "markdown",
   "metadata": {},
   "source": [
    "## 随机程序、概率与分布"
   ]
  },
  {
   "cell_type": "markdown",
   "metadata": {},
   "source": [
    "### 随机程序"
   ]
  },
  {
   "cell_type": "markdown",
   "metadata": {},
   "source": [
    "如果一个程序运行时使用相同输入就会产生相同输出，那么这个程序就是确定性的。请注意，这并不是说输出完全是由问题的规范来定义的。就算规范相同，使用不同的算法也可以使程序称为确定性的，如："
   ]
  },
  {
   "cell_type": "code",
   "execution_count": null,
   "metadata": {},
   "outputs": [],
   "source": [
    "def squareRoot(x, epsilon):\n",
    "    \"\"\"假设x和epsilon为浮点数类型； x >= 0, epsilon > 0\n",
    "    返回浮点数y，使得x-epsilon<=y*y<=x+epsilon\"\"\""
   ]
  },
  {
   "cell_type": "markdown",
   "metadata": {},
   "source": [
    "从这个规范可以看出，函数调用squareRoot(2, 0.001)可以返回的值有很多种可能。但是，如果使用连续逼近算法实现这个函数，那么总会返回同一个值。规范中并没有要求具体实现是确定性的，但它也确实允许确定性的实现。\n",
    "\n",
    "包括Python在内，很多编程语言都可以通过一种简单的方式编写随机程序，即利用随机性的程序。"
   ]
  },
  {
   "cell_type": "code",
   "execution_count": 180,
   "metadata": {},
   "outputs": [
    {
     "name": "stdout",
     "output_type": "stream",
     "text": [
      "4653452445\n"
     ]
    }
   ],
   "source": [
    "import random \n",
    "\n",
    "def rollDie():\n",
    "    '''返回一个1~6的随机整数'''\n",
    "    return random.choice([1,2,3,4,5,6])\n",
    "\n",
    "def rollN(n):\n",
    "    result=''\n",
    "    for i in range(n):\n",
    "        result = result + str(rollDie())\n",
    "    print(result)\n",
    "    \n",
    "rollN(10)"
   ]
  },
  {
   "cell_type": "markdown",
   "metadata": {},
   "source": [
    "在随机过程中，如果一个事件的结果不会影响另一个事件的结果，我们就称这两个事件是相互独立的。因此输出1111111111或5442462412的概率是相同的。"
   ]
  },
  {
   "cell_type": "markdown",
   "metadata": {},
   "source": [
    "### 计算简单概率"
   ]
  },
  {
   "cell_type": "markdown",
   "metadata": {},
   "source": [
    "假设我们想知道掷10次骰子但是没有一次掷出1的概率。解决这个问题的一种方法是将它转换为：在610个序列中，不包含1的序列有多少。这个问题可以计算如下：\n",
    "\n",
    "(1) 在一次投掷中，没有掷出1的概率为5/6；\n",
    "\n",
    "(2) 第一次和第二次投掷都没有掷出1的概率为(5/6) × (5/6)，即$(5/6)^2$；\n",
    "\n",
    "(3) 所以，一连10次都没有掷出1的概率为$(5/6)^{10}$，稍大于0.16。\n",
    "\n",
    "第二步应用了独立概率的乘法法则。举例来说，考虑两个独立事件A和B。如果A发生的概率\n",
    "是1/3， B发生的概率是1/4，那么A和B同时发生的概率就是(1/3) × (1/4)。\n",
    "那么至少掷出一次1的概率是多少呢？只要用1减去没有掷出1的概率即可，即1 – $(5/6)^{10}$。"
   ]
  },
  {
   "cell_type": "markdown",
   "metadata": {},
   "source": [
    "### 统计推断"
   ]
  },
  {
   "cell_type": "markdown",
   "metadata": {},
   "source": [
    "简而言之，统计推断的指导原则就是：一个从总体数据中随机抽取的样本往往可以表现出与总体相同的特性。统计推断的要点可以概括为：\n",
    "\n",
    "（1）总体（population）；\n",
    "\n",
    "（2）抽样样本（sample）；\n",
    "\n",
    "（3）目的：根据样本的观测推断总体；\n",
    "\n",
    "（4）关键点：如果样本是随机抽取的，那么样本更能反映总体的情况。"
   ]
  },
  {
   "cell_type": "code",
   "execution_count": 183,
   "metadata": {},
   "outputs": [],
   "source": [
    "def flip(numFlips):\n",
    "    '''假设numFlip是一个正整数'''\n",
    "    heads=0\n",
    "    for i in range(numFlips):\n",
    "        if random.choice(('H','T'))=='H':\n",
    "            heads+=1\n",
    "    return heads/numFlips\n",
    "\n",
    "def flipSim(numFlipsPerTrial,numTrials):\n",
    "    '''假设numFlipsPerTrial和numTrials为正整数'''\n",
    "    fracHeads=[]\n",
    "    for i in range(numTrials):\n",
    "        fracHeads.append(flip(numFlipsPerTrial))\n",
    "    mean = sum(fracHeads)/len(fracHeads)\n",
    "    return mean"
   ]
  },
  {
   "cell_type": "code",
   "execution_count": 185,
   "metadata": {},
   "outputs": [
    {
     "name": "stdout",
     "output_type": "stream",
     "text": [
      "0.4\n",
      "0.3\n",
      "----------------------------------------\n",
      "0.49984200000000134\n",
      "0.4997279999999966\n"
     ]
    }
   ],
   "source": [
    "print(flipSim(10,1))\n",
    "print(flipSim(10,1))\n",
    "print('--'*20)\n",
    "print(flipSim(10,100000))\n",
    "print(flipSim(10,100000))"
   ]
  },
  {
   "cell_type": "markdown",
   "metadata": {},
   "source": [
    "我们的依据就是大数定律（也称为伯努利定理）。这个定律说明，在独立可重复的实验中，如果每次实验中出现某种特定结果的实际概率为p（例如，每次抛硬币正面向上的实际概率为0.5），那么实验次数接近无穷大时，出现这种结果的比例与实际概率p之间的差收敛于0。\n",
    "\n",
    "值得注意的是，大数定律并不意味着如果预期行为出现偏差，那么这些偏差会在未来被相反的偏差“扯平”，尽管太多的人都是这样认为的。这种对大数定律的滥用称为赌徒谬误。 \n",
    "\n",
    "人们经常将赌徒谬误与均值回归混淆。 均值回归说明，如果出现一个极端的随机事件，那么下一个随机事件很可能就不是极端的。如果你将一个均匀的硬币抛了6次，每次都是正面向上，那么均值回归就意味着如果再抛6次硬币，结果就非常可能接近3次正面向上这个期望值。而不是像赌徒谬误那样，认为在下一个抛掷序列中，正面向上的概率要小于反面向上的概率。"
   ]
  },
  {
   "cell_type": "code",
   "execution_count": 188,
   "metadata": {},
   "outputs": [],
   "source": [
    "def regressToMean(numFlips,numTrials):\n",
    "    import pylab\n",
    "    #获取每次实验（抛掷numFlips次硬币）中正面向上的比例\n",
    "    fracHeads = []\n",
    "    for t in range(numTrials):\n",
    "        fracHeads.append(flip(numFlips))\n",
    "    #找出具有极端结果的实验，以及这些实验的下一次实验\n",
    "    extremes, nextTrials=[], []\n",
    "    for i in range(len(fracHeads) - 1):\n",
    "        if fracHeads[i]<0.33 or fracHeads[i]>0.66:\n",
    "            extremes.append(fracHeads[i])\n",
    "            nextTrials.append(fracHeads[i+1])\n",
    "    #绘制结果\n",
    "    pylab.plot(range(len(extremes)),extremes,'ko',label = 'Extreme')\n",
    "    pylab.plot(range(len(nextTrials)),nextTrials,'k^',label = 'Next Trial')\n",
    "    pylab.axhline(0.5) #在图中作一条横线\n",
    "    pylab.ylim(0, 1)\n",
    "    pylab.xlim(-1, len(extremes) + 1)\n",
    "    pylab.xlabel('Extreme Example and Next Trial')\n",
    "    pylab.ylabel('Fraction Heads')\n",
    "    pylab.title('Regression to the Mean')\n",
    "    pylab.legend(loc = 'best')"
   ]
  },
  {
   "cell_type": "code",
   "execution_count": 190,
   "metadata": {},
   "outputs": [
    {
     "data": {
      "image/png": "[encoded data removed]",
      "text/plain": [
       "<matplotlib.figure.Figure at 0x2a9a330f828>"
      ]
     },
     "metadata": {},
     "output_type": "display_data"
    }
   ],
   "source": [
    "regressToMean(15,40)"
   ]
  },
  {
   "cell_type": "markdown",
   "metadata": {},
   "source": [
    "可以看出如果实验得到了极端结果，那么紧跟在它后面的实验结果一般会比上次的极端结果更靠近均值，但也并非总是如此。"
   ]
  },
  {
   "cell_type": "markdown",
   "metadata": {},
   "source": [
    "### 概率分布"
   ]
  },
  {
   "cell_type": "markdown",
   "metadata": {},
   "source": [
    "不使用总体数据而只使用抽样数据，是不可能得到完全准确的结果的。不管我们使用了多少个样本，只要没有检查总体中所有的数据，就不能确定样本集可以代表总体，当然，这并不是说我们估计不出精确的结果。这取决于基础分布的方差。方差是一种测量方式，用来表示可能出现的不同结果的分散程度：$$variance(X)=\\frac{\\sum_{x\\in X}{(x-\\mu)^2}}{|X|}$$"
   ]
  },
  {
   "cell_type": "markdown",
   "metadata": {},
   "source": [
    "通俗地说，方差描述了集合中接近于均值的数值的比例。如果很多值都非常接近均值，方差就会很小。如果很多值都非常远离均值，方差就会很大。如果所有值都一样，方差就是0。个数值集合的标准差是方差的平方根。"
   ]
  },
  {
   "cell_type": "code",
   "execution_count": 1,
   "metadata": {},
   "outputs": [],
   "source": [
    "#方差和标准差的实现\n",
    "\n",
    "def variance(X):\n",
    "    \"\"\"假设X是一个数值型列表。\n",
    "        返回X的方差\"\"\"\n",
    "    mean=sum(X)/len(X)\n",
    "    tot=0.0\n",
    "    for x in X:\n",
    "        tot +=(x-mean)**2\n",
    "    return tot/len(X)\n",
    "\n",
    "def stdDev(X):\n",
    "    \"\"\"假设X是一个数值型列表。\n",
    "        返回X的标准差\"\"\"\n",
    "    return variance(X)**0.5"
   ]
  },
  {
   "cell_type": "markdown",
   "metadata": {},
   "source": [
    "标准差除以均值所得的值称为变异系数。当我们比较具有不同均值的数据集合时，变异系数比标准差更合适。"
   ]
  },
  {
   "cell_type": "code",
   "execution_count": 2,
   "metadata": {},
   "outputs": [],
   "source": [
    "def CV(X):\n",
    "    mean = sum(X)/len(X)\n",
    "    try:\n",
    "        return stdDev(X)/mean\n",
    "    except ZeroDivisionError:\n",
    "        return float('nan')"
   ]
  },
  {
   "cell_type": "markdown",
   "metadata": {},
   "source": [
    "直方图用来表示数据集中数值的分布。它先对数值进行排序，再将其分到固定数量的等宽区间中，然后绘制一张图表示每个区间中的元素数量。"
   ]
  },
  {
   "cell_type": "code",
   "execution_count": 6,
   "metadata": {},
   "outputs": [
    {
     "data": {
      "image/png": "[encoded data removed]",
      "text/plain": [
       "<matplotlib.figure.Figure at 0x21b4d71bef0>"
      ]
     },
     "metadata": {},
     "output_type": "display_data"
    }
   ],
   "source": [
    "import random\n",
    "import pylab\n",
    "vals=[]\n",
    "for i in range(1000):\n",
    "    num1 = random.choice(range(0,101))\n",
    "    num2 = random.choice(range(0,101))\n",
    "    vals.append(num1+num2)\n",
    "pylab.hist(vals,bins=20) #生成20个等宽区间的直方图\n",
    "pylab.xlabel('Number of Occurrences')\n",
    "pylab.show()"
   ]
  },
  {
   "cell_type": "markdown",
   "metadata": {},
   "source": [
    "直方图表示的是一种频率分布，它告诉我们一个随机变量的取值落在某个范围内的频繁程度。概率分布给出一个随机变量取值在某个范围内的概率，并以此反映相对频率。根据随机变量是离散型的还是连续型的，概率分布可以分成两类：离散型概率分布和连续型概率分布：\n",
    "\n",
    "（1）离散型随机变量取值为有限的集合，每个值的概率可以计算；\n",
    "\n",
    "（2）连续型随机变量的取值是无限的，取某个特定的值的概率通常为0，用概率密度函数（probability density function, PDF）来描述连续型概率分布。\n",
    "\n",
    "PDF描述了一个随机变量位于两个数值之间的概率。你可以将PDF看作定义在X轴上随机变量的最小值与最大值之间的一条曲线。如果假设x1和x2是随机变量的两个值，那么随机变量取值在x1和x2之间的概率就是x1和x2之间的曲线下面积。"
   ]
  },
  {
   "cell_type": "markdown",
   "metadata": {},
   "source": [
    "#### 正态分布"
   ]
  },
  {
   "cell_type": "markdown",
   "metadata": {},
   "source": [
    "正态分布（又称高斯分布）由以下概率密度函数定义：$$P(x)=\\frac{1}{\\sigma \\sqrt{2\\pi}}*e^{-\\frac{(x-\\mu)^2}{2\\sigma ^2}}$$\n",
    "\n",
    "这里的μ表示均值， σ表示标准差， e是欧拉数（大约为2.718）。\n",
    "\n",
    "正态分布具有良好的数学特性，它可以由两个参数完全确定：均值和标准差。知道这两个值就等于知道了整个分布。正态分布的形状（在某些人眼中）有点像钟，所以有时又被称为钟形曲线。"
   ]
  },
  {
   "cell_type": "code",
   "execution_count": 7,
   "metadata": {},
   "outputs": [
    {
     "data": {
      "text/plain": [
       "(array([1.0000e+00, 7.0000e+00, 1.8000e+01, 3.8000e+01, 1.0900e+02,\n",
       "        2.5700e+02, 5.9200e+02, 1.1210e+03, 2.0650e+03, 3.6370e+03,\n",
       "        5.2610e+03, 7.2620e+03, 9.2670e+03, 1.1042e+04, 1.1630e+04,\n",
       "        1.1589e+04, 1.0379e+04, 8.5000e+03, 6.4720e+03, 4.5060e+03,\n",
       "        2.8100e+03, 1.7750e+03, 8.9700e+02, 4.3800e+02, 2.0600e+02,\n",
       "        7.2000e+01, 2.9000e+01, 1.1000e+01, 7.0000e+00, 2.0000e+00]),\n",
       " array([-131.55755557, -122.66429055, -113.77102554, -104.87776052,\n",
       "         -95.98449551,  -87.09123049,  -78.19796548,  -69.30470046,\n",
       "         -60.41143545,  -51.51817043,  -42.62490542,  -33.7316404 ,\n",
       "         -24.83837539,  -15.94511037,   -7.05184536,    1.84141965,\n",
       "          10.73468467,   19.62794968,   28.5212147 ,   37.41447971,\n",
       "          46.30774473,   55.20100974,   64.09427476,   72.98753977,\n",
       "          81.88080479,   90.7740698 ,   99.66733482,  108.56059983,\n",
       "         117.45386485,  126.34712986,  135.24039488]),\n",
       " <a list of 30 Patch objects>)"
      ]
     },
     "execution_count": 7,
     "metadata": {},
     "output_type": "execute_result"
    },
    {
     "data": {
      "image/png": "[encoded data removed]",
      "text/plain": [
       "<matplotlib.figure.Figure at 0x21b4907fcf8>"
      ]
     },
     "metadata": {},
     "output_type": "display_data"
    }
   ],
   "source": [
    "#生成正态分布\n",
    "dist=[]\n",
    "for i in range(100000):\n",
    "    dist.append(random.gauss(0,30)) #生成平均值=0，标准差=30的正态数列\n",
    "pylab.hist(dist,30)"
   ]
  },
  {
   "cell_type": "markdown",
   "metadata": {},
   "source": [
    "经验法则：\n",
    "\n",
    "（1）68.27%的数据都位于距均值1个标准差的范围内；\n",
    "\n",
    "（2）大约95.45%的数据位于距均值2个标准差的范围内；\n",
    "\n",
    "（3）大约99.73%的数据位于距均值3个标准差的范围内。"
   ]
  },
  {
   "cell_type": "markdown",
   "metadata": {},
   "source": [
    "使用函数scipy.integrate.quad可以求出一个函数在两个点之间的积分的近似值。scipy.integrate.quad有3个必需的参数和一个可选的参数：\n",
    "\n",
    "（1）一个要进行积分的函数或方法（如果这个函数有多个参数，就按照第一个参数进行积分）；\n",
    "\n",
    "（2）表示积分下限的数值；\n",
    "\n",
    "（3）表示积分上限的数值；\n",
    "\n",
    "（4）一个可选的元组，为要进行积分的函数提供所有参数，第一个参数除外。"
   ]
  },
  {
   "cell_type": "code",
   "execution_count": 8,
   "metadata": {},
   "outputs": [
    {
     "name": "stdout",
     "output_type": "stream",
     "text": [
      "For mu = -3 and sigma = 8\n",
      " Fraction within 1 std = 0.6827\n",
      " Fraction within 2 std = 0.9545\n",
      " Fraction within 3 std = 0.9973\n",
      "For mu = 4 and sigma = 2\n",
      " Fraction within 1 std = 0.6827\n",
      " Fraction within 2 std = 0.9545\n",
      " Fraction within 3 std = 0.9973\n",
      "For mu = -6 and sigma = 10\n",
      " Fraction within 1 std = 0.6827\n",
      " Fraction within 2 std = 0.9545\n",
      " Fraction within 3 std = 0.9973\n"
     ]
    }
   ],
   "source": [
    "import scipy.integrate\n",
    "import pylab\n",
    "\n",
    "def gaussian(x,mu,sigma):\n",
    "    factor1 = (1.0/(sigma*((2*pylab.pi)**0.5)))\n",
    "    factor2 = pylab.e**-(((x-mu)**2)/(2*sigma**2))\n",
    "    return factor1*factor2\n",
    "\n",
    "def checkEmpirical(numTrials):\n",
    "    for t in range(numTrials):\n",
    "        mu = random.randint(-10, 10)\n",
    "        sigma = random.randint(1, 10)\n",
    "        print('For mu =', mu, 'and sigma =', sigma)\n",
    "        for numStd in (1, 2, 3):\n",
    "            area = scipy.integrate.quad(gaussian, mu-numStd*sigma,\n",
    "                                        mu+numStd*sigma,\n",
    "                                            (mu, sigma))[0]\n",
    "            print(' Fraction within', numStd, 'std =',round(area, 4))\n",
    "            \n",
    "checkEmpirical(3)"
   ]
  },
  {
   "cell_type": "markdown",
   "metadata": {},
   "source": [
    "#### 连续型和离散型均匀分布"
   ]
  },
  {
   "cell_type": "markdown",
   "metadata": {},
   "source": [
    "均匀分布可以是离散型的，也可以是连续型的。 连续型均匀分布也称为矩形分布，它的特点是所有长度相同的区间都具有相同概率。我们可以使用一个参数完全描述出连续型均匀分布的特性:$$P(x,y)=\\begin{cases} \\frac{y-x}{max-min}, & \\text {若$x\\geq{min}$且$y\\leq{max}$} \\\\0, &\\text{其他} \\end{cases}$$\n",
    "\n",
    "调用random.uniform(min, max)可以生成一个连续型均匀分布的值，它会返回在min和max之间随机选择的一个浮点数。\n",
    "\n",
    "离散型均匀分布描述的是，结果不是连续的而且每个结果发生的概率完全相同的情况。我们可以使用下面的公式来完整地描述离散型均匀分布：$$P(x)=\\begin{cases} \\frac{1}{|S|},& \\text{若$x\\in S$} \\\\ 0,&\\text{其他} \\end{cases}$$\n",
    "\n",
    "这里的S是可能出现的结果的集合， |S|是S中的元素数量。"
   ]
  },
  {
   "cell_type": "markdown",
   "metadata": {},
   "source": [
    "#### 二项式分布与多项式分布"
   ]
  },
  {
   "cell_type": "markdown",
   "metadata": {},
   "source": [
    "只能在一个离散集合中取值的随机变量称为分类变量，也称名义变量或离散变量。如果分类变量只可能有两个值（如成功或失败），那么这时的概率分布就称为二项式分布。可以将二项式分布理解为n次独立实验中正好成功k次的概率。如果单次实验成功的概率为p，那么n次独立实验中正好成功k次的概率可以由以下公式给出：\n",
    "$$\\begin{pmatrix}n\\\\k\\\\ \\end{pmatrix}*p^k*(1-p)^{n-)}$$\n",
    "\n",
    "其中$$\\begin{pmatrix}n\\\\k\\\\ \\end{pmatrix} = \\frac{n!}{k!*(n-k)!}$$\n",
    "\n",
    "$\\begin{pmatrix}n\\\\k\\\\ \\end{pmatrix} $称为二项式系数，它的一种读法是“n选k”，因为它等价于从大小为n的集合中选择出的大小为k的子集数量。"
   ]
  },
  {
   "cell_type": "markdown",
   "metadata": {},
   "source": [
    "#### 指数分布和几何分布"
   ]
  },
  {
   "cell_type": "markdown",
   "metadata": {},
   "source": [
    "指数分布非常常见，它经常用来对两次输入的时间间隔进行建模。"
   ]
  },
  {
   "cell_type": "code",
   "execution_count": 10,
   "metadata": {},
   "outputs": [],
   "source": [
    "def clear(n, p, steps):\n",
    "    \"\"\"假设n和steps都是正整数， p是个浮点数\n",
    "        n：分子的初始数量\n",
    "        p：一个分子被清除的概率\n",
    "        steps：模拟的时间长度\"\"\"\n",
    "    numRemaining = [n]\n",
    "    for t in range(steps):\n",
    "        numRemaining.append(n*((1-p)**t))\n",
    "    pylab.plot(numRemaining)\n",
    "    pylab.xlabel('Time')\n",
    "    pylab.ylabel('Molecules Remaining')\n",
    "    pylab.title('Clearance of Drug')"
   ]
  },
  {
   "cell_type": "code",
   "execution_count": 18,
   "metadata": {},
   "outputs": [
    {
     "data": {
      "image/png": "[encoded data removed]",
      "text/plain": [
       "<matplotlib.figure.Figure at 0x21b4f12b978>"
      ]
     },
     "metadata": {},
     "output_type": "display_data"
    }
   ],
   "source": [
    "clear(1000,0.01,1000)"
   ]
  },
  {
   "cell_type": "markdown",
   "metadata": {},
   "source": [
    "何分布是指数分布的离散模拟，经常用于描述在第一次成功（或第一次失败）之前所需的独立尝试次数。"
   ]
  },
  {
   "cell_type": "code",
   "execution_count": 20,
   "metadata": {},
   "outputs": [
    {
     "data": {
      "text/plain": [
       "Text(0.5,1,'Probability of Starting Each Try = 0.5')"
      ]
     },
     "execution_count": 20,
     "metadata": {},
     "output_type": "execute_result"
    },
    {
     "data": {
      "image/png": "[encoded data removed]",
      "text/plain": [
       "<matplotlib.figure.Figure at 0x21b4f396e80>"
      ]
     },
     "metadata": {},
     "output_type": "display_data"
    }
   ],
   "source": [
    "def successfulStarts(successProb, numTrials):\n",
    "    \"\"\"假设successProb是一个浮点数，表示单次尝试成功的概率。 numTrials是个正整数。\n",
    "        返回一个列表，其中的元素是每次实验成功之前的尝试次数。 \"\"\"\n",
    "    triesBeforeSuccess = []\n",
    "    for t in range(numTrials):\n",
    "        consecFailures = 0\n",
    "        while random.random() > successProb:\n",
    "            consecFailures += 1\n",
    "        triesBeforeSuccess.append(consecFailures)\n",
    "    return triesBeforeSuccess\n",
    "\n",
    "probOfSuccess = 0.5\n",
    "numTrials = 5000\n",
    "distribution = successfulStarts(probOfSuccess, numTrials)\n",
    "pylab.hist(distribution, bins = 14)\n",
    "pylab.xlabel('Tries Before Success')\n",
    "pylab.ylabel('Number of Occurrences Out of ' + str(numTrials))\n",
    "pylab.title('Probability of Starting Each Try = '\\\n",
    "            + str(probOfSuccess))"
   ]
  },
  {
   "cell_type": "markdown",
   "metadata": {},
   "source": [
    "#### 本福德分布"
   ]
  },
  {
   "cell_type": "markdown",
   "metadata": {},
   "source": [
    "对于一个十进制数的集合，如果第一位数字是d的概率符合$P(d) = log10(1 + 1/d)$，就称它满足本福德定律。\n",
    "\n",
    "举例来说，根据这个定律，首位数字是1的概率大约有30%！令人震惊的是，很多实际数据集都符合这个定律。例如，斐波那契数列就完美满足这个定律。这还情有可原，因为斐波那契数列是由公式生成的。但更加令人难以理解的是，像iPhone密码、 Twitter用户的关注者数量、每个国家的人口以及星星与地球之间的距离等各式各样的数据集，也都非常近似地符合本福德定律。"
   ]
  },
  {
   "cell_type": "markdown",
   "metadata": {},
   "source": [
    "## 抽样与置信区间"
   ]
  },
  {
   "cell_type": "markdown",
   "metadata": {},
   "source": [
    "统计推断的中心就是，从总体数据中随机选择一个子集，并根据对这个子集的分析来推断总体特性。这个子集就称为样本。样本与总体之间的一致性是最重要的。如果样本不能代表总体，那么不论数学推导多么精彩，都不能得出有效的推断。\n",
    "\n",
    "（1）概率抽样：总体中的每个个体都有一定的非零概率被抽中；\n",
    "\n",
    "（2）简单随机抽样：总体的每个个体被抽中的机会都是相等的；\n",
    "\n",
    "（3）分层抽样：先将总体划分为若干层，对每一层进行随机抽样，然后组成样本，分层抽样可以提高样本在整体上代表总体的概率。"
   ]
  },
  {
   "cell_type": "markdown",
   "metadata": {},
   "source": [
    "# Week 11 "
   ]
  },
  {
   "cell_type": "markdown",
   "metadata": {},
   "source": [
    "## 蒙特卡罗模拟"
   ]
  },
  {
   "cell_type": "markdown",
   "metadata": {},
   "source": [
    "蒙特卡罗模拟用于求事件的近似概率，它多次执行同一模拟，然后将结果进行平均。"
   ]
  },
  {
   "cell_type": "markdown",
   "metadata": {},
   "source": [
    "### 帕斯卡问题"
   ]
  },
  {
   "cell_type": "code",
   "execution_count": 21,
   "metadata": {},
   "outputs": [],
   "source": [
    "def rollDie():\n",
    "    return random.choice([1,2,3,4,5,6])\n",
    "\n",
    "def checkPascal(numTrials):\n",
    "    '''假设numTrials是正整数\n",
    "        输出获胜概率的估值'''\n",
    "    numWins = 0\n",
    "    for i in range(numTrials):\n",
    "        for j in range(24):\n",
    "            d1=rollDie()\n",
    "            d2=rollDie()\n",
    "            if d1 == 6 and d2 ==6:\n",
    "                numWins += 1\n",
    "                break\n",
    "    print('Probability of winning =', numWins/numTrials)"
   ]
  },
  {
   "cell_type": "code",
   "execution_count": 22,
   "metadata": {},
   "outputs": [
    {
     "name": "stdout",
     "output_type": "stream",
     "text": [
      "Probability of winning = 0.491865\n"
     ]
    }
   ],
   "source": [
    "checkPascal(1000000)"
   ]
  },
  {
   "cell_type": "markdown",
   "metadata": {},
   "source": [
    "### 求π的值"
   ]
  },
  {
   "cell_type": "markdown",
   "metadata": {},
   "source": [
    "解决不确定性起重要作用的问题时，蒙特卡罗模拟的用处显而易见。有趣的是，蒙特卡罗模拟（以及一般的随机算法）也可以用于解决那些本质上不随机的问题，也就是说，这些问题的结果并不存在不确定性。比如求π值。\n",
    "\n",
    "早在计算机发明以前，法国数学家布冯（1707—1788）和拉普拉斯（1749—1827）提出了使用随机模拟来估算π值的方法。假设要在一个边长为2的正方形中嵌一个圆，那么这个圆的半径r就是1。\n",
    "\n",
    "根据π的定义，面积 = $πr^2$。因为r为1，所以π = 面积。但是圆的面积是多少呢？布冯认为可以估计出圆的面积，方法是向正方形附加扔大量的针（他宣称针是按照随机路径下落的），然后找出针尖落在正方形内的针的数量，再找出针尖落在圆内的针的数量，用二者的比值就可以估计出圆的面积。\n",
    "\n",
    "如果针的位置确实是随机的，那么有：$$\\frac{圆内针的数量}{正方形内针的数量}=\\frac{圆的面积}{正方形的面积}$$\n",
    "\n",
    "解出圆的面积：$$圆的面积=\\frac{正方形的面积*圆内针的数量}{正方形内针的数量}$$\n",
    "\n",
    "2x2的正方形的面积为4，所以：$$圆的面积=\\frac{4*圆内针的数量}{正方形内针的数量}$$"
   ]
  },
  {
   "cell_type": "code",
   "execution_count": 21,
   "metadata": {},
   "outputs": [],
   "source": [
    "#只考虑落在正方形右上1/4面积中的针。\n",
    "import random\n",
    "import numpy as np\n",
    "\n",
    "def throwNeedles(numNeedles):\n",
    "    inCircle = 0\n",
    "    for Needles in range(1, numNeedles + 1):\n",
    "        x = random.random()\n",
    "        y = random.random()\n",
    "        if (x*x + y*y)**0.5 <= 1:\n",
    "            inCircle += 1\n",
    "    #数出一个1/4圆中的针数，所以要乘以4。\n",
    "    return 4*(inCircle/numNeedles)\n",
    "\n",
    "def getEst(numNeedles, numTrials):\n",
    "    estimates = []\n",
    "    for t in range(numTrials):\n",
    "        piGuess = throwNeedles(numNeedles)\n",
    "        estimates.append(piGuess)\n",
    "    sDev = np.std(estimates,ddof=1)\n",
    "    curEst = sum(estimates)/len(estimates)\n",
    "    print('Est. =', str(round(curEst, 5)) + ',',\n",
    "            'Std. dev. =', str(round(sDev, 5)) + ',',\n",
    "            'Needles =', numNeedles)\n",
    "    return (curEst, sDev)\n",
    "\n",
    "def estPi(precision, numTrials):\n",
    "    numNeedles = 1000\n",
    "    sDev = precision\n",
    "    while sDev > precision/1.96:\n",
    "        curEst, sDev = getEst(numNeedles, numTrials)\n",
    "        numNeedles *= 2\n",
    "    return curEst"
   ]
  },
  {
   "cell_type": "code",
   "execution_count": 22,
   "metadata": {},
   "outputs": [
    {
     "name": "stdout",
     "output_type": "stream",
     "text": [
      "Est. = 3.1486, Std. dev. = 0.05214, Needles = 1000\n",
      "Est. = 3.14296, Std. dev. = 0.03417, Needles = 2000\n",
      "Est. = 3.14151, Std. dev. = 0.02253, Needles = 4000\n",
      "Est. = 3.13929, Std. dev. = 0.01804, Needles = 8000\n",
      "Est. = 3.14173, Std. dev. = 0.01379, Needles = 16000\n",
      "Est. = 3.14343, Std. dev. = 0.00888, Needles = 32000\n",
      "Est. = 3.14122, Std. dev. = 0.00592, Needles = 64000\n",
      "Est. = 3.14211, Std. dev. = 0.00418, Needles = 128000\n"
     ]
    },
    {
     "data": {
      "text/plain": [
       "3.1421062499999977"
      ]
     },
     "execution_count": 22,
     "metadata": {},
     "output_type": "execute_result"
    }
   ],
   "source": [
    "estPi(0.01,100)"
   ]
  },
  {
   "cell_type": "markdown",
   "metadata": {},
   "source": [
    "模拟模型是描述性而非规定性的。它可以描述出系统如何在给定的条件下运行，但不能告诉我们如何安排条件才能使系统运行得最好。模拟模型只会进行描述，不会进行优化。模拟模型可以按照三个维度进行分类：\n",
    "\n",
    "（1）确定性与随机性；\n",
    "\n",
    "（2）静态与动态；\n",
    "\n",
    "（3）离散与连续。"
   ]
  },
  {
   "cell_type": "markdown",
   "metadata": {},
   "source": [
    "确定性模拟的行为完全由模型定义，重新运行模拟不会改变结果。\n",
    "\n",
    "在静态模型中，时间的作用不大。本章中估计π值的扔针模拟就是一个静态模型。在动态模型中，时间（或类似的项目）是个基本要素。\n",
    "\n",
    "在离散模型中，相关变量的值是可数的，例如所有值都是整数。在连续模型中，相关变量的值位于一个不可数集合中，例如实数集合。"
   ]
  },
  {
   "cell_type": "markdown",
   "metadata": {},
   "source": [
    "## 随机试验与假设检验"
   ]
  },
  {
   "cell_type": "markdown",
   "metadata": {},
   "source": [
    "### 假设检验与P值"
   ]
  },
  {
   "cell_type": "markdown",
   "metadata": {},
   "source": [
    "在任何实验中，只要包括从总体随机抽取样本的步骤，就会存在一种可能性：观测到的效果仅仅出于偶然。因此我们需要分辨差异是由抽样随机造成的，还是具有一定统计学意义，这时就需要用到统计显著性。假设检验一种使用统计学方法，最常用于计算观测结果出于偶然性的概率：\n",
    "\n",
    "(1) 定义一个原假设和一个备择假设。\n",
    "\n",
    "(2) 理解待评价样本的统计学假设。\n",
    "\n",
    "(3) 计算相关的检验统计量。\n",
    "\n",
    "(4) 在原假设成立的情况下，推导出检验统计量的概率。\n",
    "\n",
    "(5) 确定这个概率是否足够小到可以使你放心地认为原假设是错的，即拒绝原假设。\n",
    "\n",
    "一般选择一个阈值α作为统计显著性，并试图证明：如果总体分布与原假设一致，那么从总体中抽取出现有数据的概率小于α。然后，我们就可以在置信度为α的情况下拒绝原假设，接受概率为1-α的与原假设相反的假设。通常，我们选择α = 0.05或0.01。"
   ]
  },
  {
   "cell_type": "markdown",
   "metadata": {},
   "source": [
    "下一个步骤是计算检验统计量。最常用的检验统计量是t统计量。t统计量告诉我们，以标准误差为单位时，从样本数据中得出的估计值与原假设之间的差异有多大。 t统计量越大，拒绝原假设的可能性就越大。"
   ]
  },
  {
   "cell_type": "code",
   "execution_count": 24,
   "metadata": {},
   "outputs": [
    {
     "data": {
      "image/png": "[encoded data removed]",
      "text/plain": [
       "<matplotlib.figure.Figure at 0x268130fa668>"
      ]
     },
     "metadata": {},
     "output_type": "display_data"
    }
   ],
   "source": [
    "import scipy\n",
    "import pylab\n",
    "\n",
    "tStat = -2.13165598142\n",
    "tDist=[]\n",
    "numBins = 1000\n",
    "for i in range(100000000):\n",
    "    tDist.append(scipy.random.standard_t(198)) #198为自由度\n",
    "    \n",
    "pylab.hist(tDist, bins = numBins,\n",
    "            weights = pylab.array(len(tDist)*[1.0])/len(tDist))\n",
    "pylab.axvline(tStat, color = 'w')\n",
    "pylab.axvline(-tStat, color = 'w')\n",
    "pylab.title('T-distribution with 198 Degrees of Freedom')\n",
    "pylab.xlabel('T-statistic')\n",
    "pylab.ylabel('Probability')\n",
    "pylab.show()"
   ]
  },
  {
   "cell_type": "markdown",
   "metadata": {},
   "source": [
    "当样本可以代表总体，且原假设为真时，我们关注的是直方图中白线左右两侧的面积，这两个面积之和占总面积的比例就等于能够得到像观测值这样极端，甚至比它还极端的统计量的概率。在原假设成立的前提之下，能够得到像观测值这样极端，甚至比它还极端的统计量的概率称为P-值。\n",
    "\n",
    "P-值的含义很容易被误解，它经常被认为是原假设为真的概率，但实际上不是。如果P-值很小，就意味着在原假设为真的情况下，得到特定样本的可能性很小。但得到一个较小的P-值可能确实因为原假设是错的，也可能仅仅因为样本不能代表其来自的总体。"
   ]
  },
  {
   "cell_type": "markdown",
   "metadata": {},
   "source": [
    "## 条件概率与贝叶斯统计"
   ]
  },
  {
   "cell_type": "markdown",
   "metadata": {},
   "source": [
    "### 条件概率"
   ]
  },
  {
   "cell_type": "markdown",
   "metadata": {},
   "source": [
    "$P(A | B)$表示当B为真时， A为真的概率，它经常读作“给定B时， A的概率”。有如下公式：$$P(A | B)=\\frac{P(A+B)}{P(B)}$$\n",
    "如果$P(A)$和$P(B)$是独立的，那么$P(A|B) = P(A)$\n",
    "\n",
    "公式$P(A|B, C)$表示当B和C同时成立时， A成立的概率。假设B和C是互不相关的，那么通过\n",
    "条件概率的定义和独立概率的乘法法则可知：\n",
    "$$P(A | B,C)=\\frac{P(A,B,C)}{P(B,C)}$$\n",
    "这里的$P(A, B, C)$表示A、 B和C同时为真的概率。\n",
    "\n",
    "同样地， $P(A, B|C)$表示当C为真时， A和B同时为真的概率。假设A和B是互不相关的，那么：\n",
    "$$P(A,B | C)=P(A|C)*P(B|C)$$"
   ]
  },
  {
   "cell_type": "markdown",
   "metadata": {},
   "source": [
    "### 贝叶斯定理"
   ]
  },
  {
   "cell_type": "markdown",
   "metadata": {},
   "source": [
    "$$P(A | B)=\\frac{P(A)*P(B|A)}{P(B)}$$"
   ]
  },
  {
   "cell_type": "markdown",
   "metadata": {},
   "source": [
    "在贝叶斯统计中，概率测量的是可信度。贝叶斯定理表明了不考虑证据的可信度和考虑了证据的可信度之间的关系。公式等号左边的部分$P(A | B)$是后验概率，即考虑了B之后的A的可信度。后验概率定义为先验概率$P(A)$与证据B对A的支持度的乘积。支持度是A成立的情况下B成立的概率与不考虑A时B成立的概率的比值，即$\\frac{P(B|A)}{P(B)}$"
   ]
  },
  {
   "cell_type": "markdown",
   "metadata": {},
   "source": [
    "假设患有乳腺癌的女性通过乳腺X光检查确诊的真阳性概率为0.9，即$P(Pos|Canc)=0.9$，而没有患乳腺癌的女性通过乳腺X光检查误诊为乳腺癌的假阳性概率为0.07，即$P(Pos|not Canc)=0.07$。对于四十多岁的女性来说，患有乳腺癌的比例是0.008，即$P(Canc)=0.008$，所以$P(not Canc)=0.992$。现要计算以为女性患有乳腺癌的概率。"
   ]
  },
  {
   "cell_type": "markdown",
   "metadata": {},
   "source": [
    "根据贝叶斯定理：$$P(Canc|Pos)=\\frac{P(Canc)*P(Pos|Canc)}{P(Pos)}$$\n",
    "\n",
    "其中检查结果为阳性，P(Pos)的概率为：\n",
    "$$P(Pos)=P(Pos|Canc)*P(Canc)+P(Pos|not Canc)*(1-P(Canc))$$\n",
    "\n",
    "所以：$$P(Canc|Pos)=\\frac{0.008*0.9}{0.9*0.008+0.07*0.992}=\\frac{0.0072}{0.07664}=0.094$$"
   ]
  },
  {
   "cell_type": "markdown",
   "metadata": {},
   "source": [
    "计算结果说明：检查结果为阳性时，真正患上癌症的概率仅为9.4%，假阳性的概率为90%，贝叶斯定理能够起作用的原因就是我们对先验概率有一个准确估计，如果先验概率是错的，那么计算后验概率时，只能使结果更坏。"
   ]
  },
  {
   "cell_type": "markdown",
   "metadata": {},
   "source": [
    "### 贝叶斯更新"
   ]
  },
  {
   "cell_type": "markdown",
   "metadata": {},
   "source": [
    "通过应用贝叶斯定理，贝叶斯推理提供了一种理论方法，可以使用新的证据修正先前的可信度。贝叶斯定理可以迭代使用：观测到一些新证据之后，可以将原来的后验概率作为先验概率，并根据新的证据计算出新的后验概率。这使得贝叶斯定理可以应用在各种类型的证据上，无论是一下子同时出现的证据，还是随着时间推移逐渐出现的证据。这个过程就称作贝叶斯更新。"
   ]
  },
  {
   "cell_type": "markdown",
   "metadata": {},
   "source": [
    "我们看一个例子。假设你有一个袋子，其中装有相同数量的三种骰子，每种骰子掷出6的概率都不一样。 A类型的骰子掷出6的概率是1/5， B类型的骰子掷出6的概率是1/6， C类型的骰子掷出6的概率是1/7。把手伸进袋子，抓出1个骰子，并估计这个骰子是A类型的概率。我们可知的是第一次抓骰子为A的概率为1/3，但随后抓取就需根据结果进行修正：\n",
    "$$P(A|6)=\\frac{P(A)*P(6|A)}{P(6)}$$\n",
    "\n",
    "其中：$$P(A)=\\frac{1}{3},P(6|A)=\\frac{1}{5},P(6)=\\frac{\\frac{1}{5}+\\frac{1}{6}+\\frac{1}{7}}{3}$$"
   ]
  },
  {
   "cell_type": "code",
   "execution_count": 32,
   "metadata": {},
   "outputs": [
    {
     "name": "stdout",
     "output_type": "stream",
     "text": [
      "Probability of type A = 0.3925\n",
      "Probability of type A = 0.4622\n"
     ]
    }
   ],
   "source": [
    "def calcBayes(priorA, probBifA, probB):\n",
    "    \"\"\"priorA： A独立于B时的初始概率估计值\n",
    "        probBifA： A为真时， B的概率估计值\n",
    "        probB： B的概率估计值\n",
    "        返回priorA*probBifA/probB\"\"\"\n",
    "    return priorA*probBifA/probB\n",
    "\n",
    "priorA = 1/3\n",
    "prob6ifA = 1/5\n",
    "prob6 = (1/5 + 1/6 + 1/7)/3\n",
    "postA = calcBayes(priorA, prob6ifA, prob6)\n",
    "print('Probability of type A =', round(postA, 4))\n",
    "postA = calcBayes(postA, prob6ifA, prob6) #第二次调用使用了第一次的结果\n",
    "print('Probability of type A =', round(postA, 4))"
   ]
  },
  {
   "cell_type": "markdown",
   "metadata": {},
   "source": [
    "# Week12 Quiz"
   ]
  },
  {
   "cell_type": "markdown",
   "metadata": {},
   "source": [
    "## Problem1 Implementing a Simple Simulation"
   ]
  },
  {
   "cell_type": "code",
   "execution_count": 2,
   "metadata": {},
   "outputs": [],
   "source": [
    "#SimpleVirus class\n",
    "\n",
    "class SimpleVirus(object):\n",
    "\n",
    "    \"\"\"\n",
    "    Representation of a simple virus (does not model drug effects/resistance).\n",
    "    \"\"\"\n",
    "    def __init__(self, maxBirthProb, clearProb):\n",
    "        \"\"\"\n",
    "        Initialize a SimpleVirus instance, saves all parameters as attributes\n",
    "        of the instance.        \n",
    "        maxBirthProb: Maximum reproduction probability (a float between 0-1)        \n",
    "        clearProb: Maximum clearance probability (a float between 0-1).\n",
    "        \"\"\"\n",
    "        self.maxBirthProb=maxBirthProb\n",
    "        self.clearProb = clearProb\n",
    "        \n",
    "\n",
    "    def getMaxBirthProb(self):\n",
    "        \"\"\"\n",
    "        Returns the max birth probability.\n",
    "        \"\"\"\n",
    "        return self.maxBirthProb\n",
    "\n",
    "    def getClearProb(self):\n",
    "        \"\"\"\n",
    "        Returns the clear probability.\n",
    "        \"\"\"\n",
    "        return self.clearProb\n",
    "\n",
    "    def doesClear(self):\n",
    "        \"\"\" Stochastically determines whether this virus particle is cleared from the\n",
    "        patient's body at a time step. \n",
    "        returns: True with probability self.getClearProb and otherwise returns\n",
    "        False.\n",
    "        \"\"\"\n",
    "        step=random.random()\n",
    "        if step > self.getClearProb():\n",
    "            return False\n",
    "        else:\n",
    "            return True\n",
    "\n",
    "\n",
    "    \n",
    "    def reproduce(self, popDensity):\n",
    "        \"\"\"\n",
    "        Stochastically determines whether this virus particle reproduces at a\n",
    "        time step. Called by the update() method in the Patient and\n",
    "        TreatedPatient classes. The virus particle reproduces with probability\n",
    "        self.maxBirthProb * (1 - popDensity).\n",
    "        \n",
    "        If this virus particle reproduces, then reproduce() creates and returns\n",
    "        the instance of the offspring SimpleVirus (which has the same\n",
    "        maxBirthProb and clearProb values as its parent).         \n",
    "\n",
    "        popDensity: the population density (a float), defined as the current\n",
    "        virus population divided by the maximum population.         \n",
    "        \n",
    "        returns: a new instance of the SimpleVirus class representing the\n",
    "        offspring of this virus particle. The child should have the same\n",
    "        maxBirthProb and clearProb values as this virus. Raises a\n",
    "        NoChildException if this virus particle does not reproduce.               \n",
    "        \"\"\"\n",
    "\n",
    "        self.popDensity=popDensity\n",
    "        reProb=self.maxBirthProb * (1 - popDensity)\n",
    "        step=random.random()\n",
    "        if step < reProb:\n",
    "            off=SimpleVirus(self.maxBirthProb,self.clearProb)\n",
    "            return off\n",
    "        else:\n",
    "            raise Exception('NoChildException')"
   ]
  },
  {
   "cell_type": "markdown",
   "metadata": {},
   "source": [
    "使用raise Exception('NoChildException')语句可以生成一个新的异常，用于控制程序。"
   ]
  },
  {
   "cell_type": "code",
   "execution_count": 3,
   "metadata": {},
   "outputs": [],
   "source": [
    "class Patient(object):\n",
    "    \"\"\"\n",
    "    Representation of a simplified patient. The patient does not take any drugs\n",
    "    and his/her virus populations have no drug resistance.\n",
    "    \"\"\"    \n",
    "\n",
    "    def __init__(self, viruses, maxPop):\n",
    "        \"\"\"\n",
    "        Initialization function, saves the viruses and maxPop parameters as\n",
    "        attributes.\n",
    "\n",
    "        viruses: the list representing the virus population (a list of\n",
    "        SimpleVirus instances)\n",
    "\n",
    "        maxPop: the maximum virus population for this patient (an integer)\n",
    "        \"\"\"\n",
    "\n",
    "        self.viruses=viruses\n",
    "        self.maxPop=maxPop\n",
    "\n",
    "    def getViruses(self):\n",
    "        \"\"\"\n",
    "        Returns the viruses in this Patient.\n",
    "        \"\"\"\n",
    "        return self.viruses\n",
    "\n",
    "\n",
    "    def getMaxPop(self):\n",
    "        \"\"\"\n",
    "        Returns the max population.\n",
    "        \"\"\"\n",
    "        return self.maxPop\n",
    "\n",
    "\n",
    "    def getTotalPop(self):\n",
    "        \"\"\"\n",
    "        Gets the size of the current total virus population. \n",
    "        returns: The total virus population (an integer)\n",
    "        \"\"\"\n",
    "\n",
    "        return len(self.viruses)        \n",
    "\n",
    "\n",
    "    def update(self):\n",
    "        \"\"\"\n",
    "        Update the state of the virus population in this patient for a single\n",
    "        time step. update() should execute the following steps in this order:\n",
    "        \n",
    "        - Determine whether each virus particle survives and updates the list\n",
    "        of virus particles accordingly.   \n",
    "        \n",
    "        - The current population density is calculated. This population density\n",
    "          value is used until the next call to update() \n",
    "        \n",
    "        - Based on this value of population density, determine whether each \n",
    "          virus particle should reproduce and add offspring virus particles to \n",
    "          the list of viruses in this patient.                    \n",
    "\n",
    "        returns: The total virus population at the end of the update (an\n",
    "        integer)\n",
    "        \"\"\"\n",
    "        sur=0\n",
    "        virus=[]\n",
    "        for i in self.viruses:\n",
    "            if not i.doesClear():\n",
    "                sur+=1\n",
    "                virus.append(i)\n",
    "            else:\n",
    "                del i\n",
    "        PopDensity=sur/self.maxPop\n",
    "        childvirus=[]\n",
    "        for j in virus:\n",
    "            try:\n",
    "                off=j.reproduce(PopDensity)\n",
    "                childvirus.append(j)\n",
    "            except :\n",
    "                pass\n",
    "        virus.extend(childvirus)\n",
    "        self.viruses=virus\n",
    "        return len(self.viruses)"
   ]
  },
  {
   "cell_type": "markdown",
   "metadata": {},
   "source": [
    "进行循环处理时注意要复制列表，ListA=ListB[:]，并且循环添加元素时要使用空列表，避免造成无限循环。pass语句表示略过，当生成的不是想要的值时，可以用pass将其略过，不加入列表，其次使用pass语句可以避免异常的生成打断程序的运行。"
   ]
  },
  {
   "cell_type": "markdown",
   "metadata": {},
   "source": [
    "## Problem 2-1 :Running and Analyzing a Simple Simulation"
   ]
  },
  {
   "cell_type": "code",
   "execution_count": null,
   "metadata": {},
   "outputs": [],
   "source": [
    "\n",
    "\n",
    "def simulationWithoutDrug(numViruses, maxPop, maxBirthProb, clearProb,\n",
    "                          numTrials):\n",
    "    \"\"\"\n",
    "    Run the simulation and plot the graph for problem 3 (no drugs are used,\n",
    "    viruses do not have any drug resistance).    \n",
    "    For each of numTrials trial, instantiates a patient, runs a simulation\n",
    "    for 300 timesteps, and plots the average virus population size as a\n",
    "    function of time.\n",
    "\n",
    "    numViruses: number of SimpleVirus to create for patient (an integer)\n",
    "    maxPop: maximum virus population for patient (an integer)\n",
    "    maxBirthProb: Maximum reproduction probability (a float between 0-1)        \n",
    "    clearProb: Maximum clearance probability (a float between 0-1)\n",
    "    numTrials: number of simulation runs to execute (an integer)\n",
    "    \"\"\"\n",
    "    \n",
    "    pylab.plot(, label = \"SimpleVirus\")\n",
    "    pylab.title(\"SimpleVirus simulation\")\n",
    "    pylab.xlabel(\"Time Steps\")\n",
    "    pylab.ylabel(\"Average Virus Population\")\n",
    "    pylab.legend(loc = \"best\")\n",
    "    pylab.show()\n",
    "        "
   ]
  },
  {
   "cell_type": "markdown",
   "metadata": {},
   "source": [
    "## Problem 3 Implementing a Simulation With Drugs"
   ]
  },
  {
   "cell_type": "code",
   "execution_count": 161,
   "metadata": {},
   "outputs": [],
   "source": [
    "class ResistantVirus(SimpleVirus):\n",
    "    \"\"\"\n",
    "    Representation of a virus which can have drug resistance.\n",
    "    \"\"\"   \n",
    "\n",
    "    def __init__(self, maxBirthProb, clearProb, resistances, mutProb):\n",
    "        \"\"\"\n",
    "        Initialize a ResistantVirus instance, saves all parameters as attributes\n",
    "        of the instance.\n",
    "\n",
    "        maxBirthProb: Maximum reproduction probability (a float between 0-1)       \n",
    "\n",
    "        clearProb: Maximum clearance probability (a float between 0-1).\n",
    "\n",
    "        resistances: A dictionary of drug names (strings) mapping to the state\n",
    "        of this virus particle's resistance (either True or False) to each drug.\n",
    "        e.g. {'guttagonol':False, 'srinol':False}, means that this virus\n",
    "        particle is resistant to neither guttagonol nor srinol.\n",
    "\n",
    "        mutProb: Mutation probability for this virus particle (a float). This is\n",
    "        the probability of the offspring acquiring or losing resistance to a drug.\n",
    "        \"\"\"\n",
    "\n",
    "        SimpleVirus.__init__(self,maxBirthProb, clearProb )\n",
    "        self.resistances=resistances\n",
    "        self.mutProb=mutProb\n",
    "\n",
    "\n",
    "    def getResistances(self):\n",
    "        \"\"\"\n",
    "        Returns the resistances for this virus.\n",
    "        \"\"\"\n",
    "        return self.resistances\n",
    "\n",
    "    def getMutProb(self):\n",
    "        \"\"\"\n",
    "        Returns the mutation probability for this virus.\n",
    "        \"\"\"\n",
    "        return self.mutProb\n",
    "\n",
    "    def isResistantTo(self, drug):\n",
    "        \"\"\"\n",
    "        Get the state of this virus particle's resistance to a drug. This method\n",
    "        is called by getResistPop() in TreatedPatient to determine how many virus\n",
    "        particles have resistance to a drug.       \n",
    "\n",
    "        drug: The drug (a string)\n",
    "\n",
    "        returns: True if this virus instance is resistant to the drug, False\n",
    "        otherwise.\n",
    "        \"\"\"\n",
    "        return self.resistances.get(drug)\n",
    "        \n",
    "\n",
    "\n",
    "    def reproduce(self, popDensity, activeDrugs):\n",
    "        \"\"\"\n",
    "        Stochastically determines whether this virus particle reproduces at a\n",
    "        time step. Called by the update() method in the TreatedPatient class.\n",
    "\n",
    "        A virus particle will only reproduce if it is resistant to ALL the drugs\n",
    "        in the activeDrugs list. For example, if there are 2 drugs in the\n",
    "        activeDrugs list, and the virus particle is resistant to 1 or no drugs,\n",
    "        then it will NOT reproduce.\n",
    "\n",
    "        Hence, if the virus is resistant to all drugs\n",
    "        in activeDrugs, then the virus reproduces with probability:      \n",
    "\n",
    "        self.maxBirthProb * (1 - popDensity).                       \n",
    "\n",
    "        If this virus particle reproduces, then reproduce() creates and returns\n",
    "        the instance of the offspring ResistantVirus (which has the same\n",
    "        maxBirthProb and clearProb values as its parent). The offspring virus\n",
    "        will have the same maxBirthProb, clearProb, and mutProb as the parent.\n",
    "\n",
    "        For each drug resistance trait of the virus (i.e. each key of\n",
    "        self.resistances), the offspring has probability 1-mutProb of\n",
    "        inheriting that resistance trait from the parent, and probability\n",
    "        mutProb of switching that resistance trait in the offspring.       \n",
    "\n",
    "        For example, if a virus particle is resistant to guttagonol but not\n",
    "        srinol, and self.mutProb is 0.1, then there is a 10% chance that\n",
    "        that the offspring will lose resistance to guttagonol and a 90%\n",
    "        chance that the offspring will be resistant to guttagonol.\n",
    "        There is also a 10% chance that the offspring will gain resistance to\n",
    "        srinol and a 90% chance that the offspring will not be resistant to\n",
    "        srinol.\n",
    "\n",
    "        popDensity: the population density (a float), defined as the current\n",
    "        virus population divided by the maximum population       \n",
    "\n",
    "        activeDrugs: a list of the drug names acting on this virus particle\n",
    "        (a list of strings).\n",
    "\n",
    "        returns: a new instance of the ResistantVirus class representing the\n",
    "        offspring of this virus particle. The child should have the same\n",
    "        maxBirthProb and clearProb values as this virus. Raises a\n",
    "        NoChildException if this virus particle does not reproduce.\n",
    "        \"\"\"\n",
    "        \n",
    "        reProb=self.maxBirthProb * (1 - popDensity)\n",
    "        drugs=[]\n",
    "        for i in self.resistances.keys():\n",
    "            if self.resistances[i]:\n",
    "                drugs.append(i)\n",
    "\n",
    "        if drugs>=activeDrugs and random.random() <= reProb:\n",
    "            for i in self.resistances.keys():\n",
    "                if random.random()<=self.mutProb:\n",
    "                    self.resistances[i]=not self.resistances[i]\n",
    "            off=ResistantVirus(self.maxBirthProb,self.clearProb,self.resistances,self.mutProb)\n",
    "            return off\n",
    "        else:\n",
    "            raise Exception('NoChildException')"
   ]
  },
  {
   "cell_type": "markdown",
   "metadata": {},
   "source": [
    "列表之间是可以用>=,>等符号进行逻辑运算的，表示集合的运算，如下代码所示：空集是任何集合的子集，因此返回值为True。"
   ]
  },
  {
   "cell_type": "code",
   "execution_count": 106,
   "metadata": {},
   "outputs": [],
   "source": [
    "a=['a','b']\n",
    "b=['a']\n",
    "c=[]"
   ]
  },
  {
   "cell_type": "code",
   "execution_count": 107,
   "metadata": {},
   "outputs": [
    {
     "data": {
      "text/plain": [
       "True"
      ]
     },
     "execution_count": 107,
     "metadata": {},
     "output_type": "execute_result"
    }
   ],
   "source": [
    "a>=c"
   ]
  },
  {
   "cell_type": "markdown",
   "metadata": {},
   "source": [
    "## Problem 4 TreatedPatient Class"
   ]
  },
  {
   "cell_type": "code",
   "execution_count": 165,
   "metadata": {},
   "outputs": [],
   "source": [
    "class TreatedPatient(Patient):\n",
    "    \"\"\"\n",
    "    Representation of a patient. The patient is able to take drugs and his/her\n",
    "    virus population can acquire resistance to the drugs he/she takes.\n",
    "    \"\"\"\n",
    "\n",
    "    def __init__(self, viruses, maxPop):\n",
    "        \"\"\"\n",
    "        Initialization function, saves the viruses and maxPop parameters as\n",
    "        attributes. Also initializes the list of drugs being administered\n",
    "        (which should initially include no drugs).              \n",
    "\n",
    "        viruses: The list representing the virus population (a list of\n",
    "        virus instances)\n",
    "\n",
    "        maxPop: The  maximum virus population for this patient (an integer)\n",
    "        \"\"\"\n",
    "        Patient.__init__(self,viruses, maxPop )\n",
    "        self.drugs=[]\n",
    "\n",
    "\n",
    "    def addPrescription(self, newDrug):\n",
    "        \"\"\"\n",
    "        Administer a drug to this patient. After a prescription is added, the\n",
    "        drug acts on the virus population for all subsequent time steps. If the\n",
    "        newDrug is already prescribed to this patient, the method has no effect.\n",
    "\n",
    "        newDrug: The name of the drug to administer to the patient (a string).\n",
    "\n",
    "        postcondition: The list of drugs being administered to a patient is updated\n",
    "        \"\"\"\n",
    "        \n",
    "        if newDrug not in self.drugs:\n",
    "            self.drugs.append(newDrug)\n",
    "\n",
    "\n",
    "    def getPrescriptions(self):\n",
    "        \"\"\"\n",
    "        Returns the drugs that are being administered to this patient.\n",
    "\n",
    "        returns: The list of drug names (strings) being administered to this\n",
    "        patient.\n",
    "        \"\"\"\n",
    "\n",
    "        return self.drugs\n",
    "\n",
    "\n",
    "    def getResistPop(self, drugResist):\n",
    "        \"\"\"\n",
    "        Get the population of virus particles resistant to the drugs listed in\n",
    "        drugResist.       \n",
    "\n",
    "        drugResist: Which drug resistances to include in the population (a list\n",
    "        of strings - e.g. ['guttagonol'] or ['guttagonol', 'srinol'])\n",
    "\n",
    "        returns: The population of viruses (an integer) with resistances to all\n",
    "        drugs in the drugResist list.\n",
    "        \"\"\"\n",
    "        ResistPop=len(self.viruses)\n",
    "        for virus in self.viruses:\n",
    "            for drugs in drugResist:\n",
    "                if not virus.isResistantTo(drugs):\n",
    "                    ResistPop-=1\n",
    "                    break\n",
    "        \n",
    "        return ResistPop\n",
    "        \n",
    "                    \n",
    "\n",
    "\n",
    "    def update(self):\n",
    "        \"\"\"\n",
    "        Update the state of the virus population in this patient for a single\n",
    "        time step. update() should execute these actions in order:\n",
    "\n",
    "        - Determine whether each virus particle survives and update the list of\n",
    "          virus particles accordingly\n",
    "\n",
    "        - The current population density is calculated. This population density\n",
    "          value is used until the next call to update().\n",
    "\n",
    "        - Based on this value of population density, determine whether each \n",
    "          virus particle should reproduce and add offspring virus particles to \n",
    "          the list of viruses in this patient.\n",
    "          The list of drugs being administered should be accounted for in the\n",
    "          determination of whether each virus particle reproduces.\n",
    "\n",
    "        returns: The total virus population at the end of the update (an\n",
    "        integer)\n",
    "        \"\"\"\n",
    "\n",
    "        sur=0\n",
    "        virus=[]\n",
    "        for i in self.viruses:\n",
    "            if not i.doesClear():\n",
    "                sur+=1\n",
    "                virus.append(i)\n",
    "        PopDensity=sur/self.maxPop\n",
    "        \n",
    "        childvirus=[]\n",
    "        for j in virus:\n",
    "            try:\n",
    "                off=j.reproduce(PopDensity,self.drugs)\n",
    "                childvirus.append(off)\n",
    "            except :\n",
    "                pass\n",
    "        virus.extend(childvirus)\n",
    "        self.viruses=virus[:]\n",
    "        return len(self.viruses)"
   ]
  },
  {
   "cell_type": "code",
   "execution_count": 166,
   "metadata": {},
   "outputs": [],
   "source": [
    "virus = ResistantVirus(1.0, 0.0, {}, 0.0)\n",
    "patient = TreatedPatient([virus], 100)"
   ]
  },
  {
   "cell_type": "code",
   "execution_count": 176,
   "metadata": {},
   "outputs": [
    {
     "data": {
      "text/plain": [
       "100"
      ]
     },
     "execution_count": 176,
     "metadata": {},
     "output_type": "execute_result"
    }
   ],
   "source": [
    "patient.update()"
   ]
  },
  {
   "cell_type": "markdown",
   "metadata": {},
   "source": [
    "# Week 13 Optimization and the Knapsack Problem"
   ]
  },
  {
   "cell_type": "markdown",
   "metadata": {},
   "source": [
    "## 背包问题"
   ]
  },
  {
   "cell_type": "markdown",
   "metadata": {},
   "source": [
    "贪婪算法是找出背包问题近似解的最简单方法，下面定义了3种贪婪算法："
   ]
  },
  {
   "cell_type": "code",
   "execution_count": 1,
   "metadata": {},
   "outputs": [],
   "source": [
    "class Item(object):\n",
    "    def __init__(self,n,v,w):\n",
    "        self.name = n\n",
    "        self.value = v\n",
    "        self.weight = w\n",
    "    def getName(self):\n",
    "        return self.name\n",
    "    def getValue(self):\n",
    "        return self.value\n",
    "    def getWeight(self):\n",
    "        return self.weight\n",
    "    def __str__(self):\n",
    "        result = '<'+self.name+', '+str(self.value)+', '+str(self.weight)+'>'\n",
    "        return result\n",
    "    \n",
    "def value(item):\n",
    "    return item.getValue()\n",
    "\n",
    "def weightInverse(item):\n",
    "    return 1.0/item.getWeight()\n",
    "\n",
    "def density(item):\n",
    "    return item.getValue()/item.getWeight()"
   ]
  },
  {
   "cell_type": "code",
   "execution_count": 10,
   "metadata": {},
   "outputs": [],
   "source": [
    "def greedy(items, maxWeight, keyFunction):\n",
    "    \"\"\"假设Items是列表， maxWeight >= 0\n",
    "        keyFunctions将物品元素映射为数值\"\"\"\n",
    "    itemsCopy = sorted(items, key=keyFunction, reverse = True)\n",
    "    result = []\n",
    "    totalValue, totalWeight = 0.0, 0.0\n",
    "    for i in range(len(itemsCopy)):\n",
    "        if (totalWeight + itemsCopy[i].getWeight()) <= maxWeight:\n",
    "            result.append(itemsCopy[i])\n",
    "            totalWeight += itemsCopy[i].getWeight()\n",
    "            totalValue += itemsCopy[i].getValue()\n",
    "    return (result, totalValue)"
   ]
  },
  {
   "cell_type": "code",
   "execution_count": 11,
   "metadata": {},
   "outputs": [],
   "source": [
    "def buildItems():\n",
    "    names = ['clock','painting','radio','vase','book','computer']\n",
    "    values = [175,90,20,50,10,200]\n",
    "    weights = [10,9,4,2,1,20]\n",
    "    Items = []\n",
    "    for i in range(len(values)):\n",
    "        Items.append(Item(names[i],values[i],weights[i]))\n",
    "    return Items\n",
    "\n",
    "def testGreedy(items, maxWeight, keyFunction):\n",
    "    taken, val =greedy(items,maxWeight,keyFunction)\n",
    "    print('Total value of items taken is ',val)\n",
    "    for item in taken:\n",
    "        print(' ',item)\n",
    "\n",
    "def testGreedys(maxWeight = 20):\n",
    "    items = buildItems()\n",
    "    print('Use greedy by value to fill knapsack of size', maxWeight)\n",
    "    testGreedy(items, maxWeight, value)\n",
    "    print('\\nUse greedy by weight to fill knapsack of size',\n",
    "            maxWeight)\n",
    "    testGreedy(items, maxWeight, weightInverse)\n",
    "    print('\\nUse greedy by density to fill knapsack of size',\n",
    "            maxWeight)\n",
    "    testGreedy(items, maxWeight, density)"
   ]
  },
  {
   "cell_type": "code",
   "execution_count": 12,
   "metadata": {},
   "outputs": [
    {
     "name": "stdout",
     "output_type": "stream",
     "text": [
      "Use greedy by value to fill knapsack of size 20\n",
      "Total value of items taken is  200.0\n",
      "  <computer, 200, 20>\n",
      "\n",
      "Use greedy by weight to fill knapsack of size 20\n",
      "Total value of items taken is  170.0\n",
      "  <book, 10, 1>\n",
      "  <vase, 50, 2>\n",
      "  <radio, 20, 4>\n",
      "  <painting, 90, 9>\n",
      "\n",
      "Use greedy by density to fill knapsack of size 20\n",
      "Total value of items taken is  255.0\n",
      "  <vase, 50, 2>\n",
      "  <clock, 175, 10>\n",
      "  <book, 10, 1>\n",
      "  <radio, 20, 4>\n"
     ]
    }
   ],
   "source": [
    "testGreedys(20)"
   ]
  },
  {
   "cell_type": "markdown",
   "metadata": {},
   "source": [
    "0/1 背包问题的定义如下： \n",
    "\n",
    "（1）每个物品都可以用一个值对<价值, 重量>表示；\n",
    "\n",
    "（2）背包能够容纳的物品总重量不能超过w；\n",
    "\n",
    "（3）长度为n的向量I表示一个可用的物品集合，向量中的每个元素都代表一个物品；\n",
    "\n",
    "（4）长度为n的向量V表示物品是否被窃贼带走。如果$V[i] = 1$，则物品$I[i]$被带走；如果$V[i] = 0$，则物品$I[i]$没有被带走；\n",
    "\n",
    "（5）目标是找到一个V，使得：\n",
    "\n",
    "$$\\sum^{n-1}_{i=0}V[i]*I[i].value$$\n",
    "的值最大，并满足以下约束条件：\n",
    "$$\\sum^{n-1}_{i=0}V[i]*I[i].weight\\leq w$$"
   ]
  },
  {
   "cell_type": "markdown",
   "metadata": {},
   "source": [
    "直接解决问题的方法如下：\n",
    "\n",
    "(1) 枚举所有可能的物品组合。也就是说，生成物品集合的所有子集。 \n",
    "\n",
    "(2) 去掉所有超过背包允许重量的物品组合。\n",
    "\n",
    "(3) 在余下的物品组合中，选出任意一个价值最大的组合。\n",
    "\n",
    "这种方法一定可以找到一个最优解。但如果初始物品集合很大，就需要运行很长时间。"
   ]
  },
  {
   "cell_type": "code",
   "execution_count": 18,
   "metadata": {},
   "outputs": [],
   "source": [
    "def chooseBest(pset, maxWeight, getVal, getWeight):\n",
    "    bestVal = 0.0\n",
    "    bestSet = None\n",
    "    for items in pset:\n",
    "        itemsVal = 0.0\n",
    "        itemsWeight = 0.0\n",
    "        for item in items:\n",
    "            itemsVal += getVal(item)\n",
    "            itemsWeight += getWeight(item)\n",
    "        if itemsWeight <= maxWeight and itemsVal > bestVal:\n",
    "            bestVal = itemsVal\n",
    "            bestSet = items\n",
    "    return (bestSet, bestVal)\n",
    "\n",
    "\n",
    "def getBinaryRep(n, numDigits):\n",
    "    \"\"\"假设n和numDigits为非负整数\n",
    "    返回一个长度为numDigits的字符串，为n的二进制表\n",
    "    示\"\"\"\n",
    "    result = ''\n",
    "    while n > 0:\n",
    "        result = str(n%2) + result\n",
    "        n = n//2\n",
    "    if len(result) > numDigits:\n",
    "        raise ValueError('not enough digits')\n",
    "    for i in range(numDigits - len(result)):\n",
    "        result = '0' + result\n",
    "    return result\n",
    "\n",
    "\n",
    "def genPowerset(L):\n",
    "    \"\"\"假设L是列表\n",
    "        返回一个列表，包含L中元素所有可能的集合。例如，\n",
    "        如果L=[1, 2]，则返回的列表包含元素[1]、 [2]和[1,\n",
    "        2]\"\"\"\n",
    "    powerset = []\n",
    "    for i in range(0, 2**len(L)):\n",
    "        binStr = getBinaryRep(i, len(L))\n",
    "        subset = []\n",
    "        for j in range(len(L)):\n",
    "            if binStr[j] == '1':\n",
    "                subset.append(L[j])\n",
    "        powerset.append(subset)\n",
    "    return powerset\n",
    "\n",
    "\n",
    "def testBest(maxWeight = 20):\n",
    "    items = buildItems()\n",
    "    pset = genPowerset(items)\n",
    "    taken, val = chooseBest(pset, maxWeight, Item.getValue,\n",
    "                            Item.getWeight)\n",
    "    print('Total value of items taken is', val)\n",
    "    for item in taken:\n",
    "        print(item)"
   ]
  },
  {
   "cell_type": "code",
   "execution_count": 19,
   "metadata": {},
   "outputs": [
    {
     "name": "stdout",
     "output_type": "stream",
     "text": [
      "Total value of items taken is 275.0\n",
      "<clock, 175, 10>\n",
      "<painting, 90, 9>\n",
      "<book, 10, 1>\n"
     ]
    }
   ],
   "source": [
    "testBest(20)"
   ]
  },
  {
   "cell_type": "markdown",
   "metadata": {},
   "source": [
    "背包问题有一个变种，称为分数背包问题，或者连续背包问题。对于这种问题，贪婪算法一\n",
    "定可以找到最优解。因为物品是无限可分的，所以对于具有最高价值/重量比值的物品来说，肯\n",
    "定拿得越多越好。举例来说，假如我们的窃贼在一间屋子中只发现3种有价值的物品：一袋金粉、\n",
    "一袋银粉和一袋葡萄干。那么在这种情况下，密度贪婪算法肯定能找到最优解。"
   ]
  },
  {
   "cell_type": "markdown",
   "metadata": {},
   "source": [
    "## 图的最优化问题"
   ]
  },
  {
   "cell_type": "markdown",
   "metadata": {},
   "source": [
    "图是由边连接起来的节点对象的集合，边也可称为弧，节点也可称为顶点。如果边是单向\n",
    "的，则图称为有向图。在有向图中，从节点n1到n2有一条边，我们就称n1为源节点或父节点， n2为目标节点或子节点。通常，当事物的各个部分之间存在某种有价值的关系时，就可以用图表示。"
   ]
  },
  {
   "cell_type": "code",
   "execution_count": null,
   "metadata": {},
   "outputs": [],
   "source": [
    "class Node(object):\n",
    "    def __init__(self, name):\n",
    "        \"\"\"假设name是字符串\"\"\"\n",
    "        self.name = name\n",
    "    def getName(self):\n",
    "        return self.name\n",
    "    def __str__(self):\n",
    "        return self.name\n",
    "    \n",
    "class Edge(object):\n",
    "    def __init__(self, src, dest):\n",
    "        \"\"\"假设src和dest是节点\"\"\"\n",
    "        self.src = src\n",
    "        self.dest = dest\n",
    "    def getSource(self):\n",
    "        return self.src\n",
    "    def getDestination(self):\n",
    "        return self.dest\n",
    "    def __str__(self):\n",
    "        return self.src.getName() + '->' + self.dest.getName()\n",
    "    \n",
    "class WeightedEdge(Edge):\n",
    "    def __init__(self, src, dest, weight = 1.0):\n",
    "        \"\"\"假设src和dest是节点， weight是个数值\"\"\"\n",
    "        self.src = src\n",
    "        self.dest = dest\n",
    "        self.weight = weight\n",
    "    def getWeight(self):\n",
    "        return self.weight\n",
    "    def __str__(self):\n",
    "        return self.src.getName() + '->(' + str(self.weight) + ')'\\\n",
    "                + self.dest.getName()"
   ]
  },
  {
   "cell_type": "markdown",
   "metadata": {},
   "source": [
    "# Week 16 动态规划"
   ]
  },
  {
   "cell_type": "markdown",
   "metadata": {},
   "source": [
    "动态规划是一种非常高效的方法，适用于解决具有重复子问题和最优子结构的问题。如果一个问题的全局最优解可以通过组合局部子问题的最优解求出，那么这个问题就具有最优子结构。比如归并排序问题，其对一个列表进行排序的方式就是先对子列表进行排序，然后再合并子列表的排序结果。\n",
    "\n",
    "如果求出一个问题的最优解时需要对同样的某个问题求解多次，那么这个问题就具有重叠子问题。"
   ]
  },
  {
   "cell_type": "markdown",
   "metadata": {},
   "source": [
    "## 动态规划常见算法                                                                                "
   ]
  },
  {
   "cell_type": "markdown",
   "metadata": {},
   "source": [
    "使用动态规划特征：\n",
    "\n",
    "1. 求一个问题的最优解 \n",
    "\n",
    "2. 大问题可以分解为子问题，子问题还有重叠的更小的子问题 \n",
    "\n",
    "3. 整体问题最优解取决于子问题的最优解（状态转移方程）\n",
    "\n",
    "4. 从上往下分析问题，从下往上解决问题 \n",
    "\n",
    "5. 讨论底层的边界问题"
   ]
  },
  {
   "cell_type": "code",
   "execution_count": 4,
   "metadata": {},
   "outputs": [
    {
     "name": "stdout",
     "output_type": "stream",
     "text": [
      "[0, 1, 2, 3, 4, 6, 9, 12, 18, 0, 0, 0, 0, 0, 0, 0, 0, 0, 0, 0, 0, 0, 0, 0, 0, 0, 0, 0, 0, 0, 0, 0, 0, 0, 0, 0, 0, 0, 0, 0, 0, 0, 0, 0, 0, 0, 0, 0, 0, 0]\n",
      "18\n"
     ]
    }
   ],
   "source": [
    "#实例1  剪绳子问题 \n",
    "#给你一根长度为N的绳子，请把绳子剪成M段（m,n都是整数），每段绳子的 \n",
    "#长度记为k[0],k[1],k[2]…. 请问如何剪绳子使得k[0],k[1],k[2] 的乘积最大 \n",
    "#例如 绳子长度8 最大乘积18 = 2*3*3\n",
    "\n",
    "def jianshengzi(n):\n",
    "    # 先对边界问题进行求解，因为明显剪的值小于不剪的值\n",
    "    # 则提出先讨论这三种情况\n",
    "    if n < 2:\n",
    "        return 0\n",
    "    if n == 2:\n",
    "        return 1    #长度为2，只能剪成1*1\n",
    "    if n == 3:\n",
    "        return 2    #长度为3，剪成2*1 > 1*1*1\n",
    "\n",
    "    #若绳子长于４呢,申请一个长度为50的数组\n",
    "    #罗列出切割的边界问题\n",
    "\n",
    "    h = [0]*50\n",
    "    h[0] = 0\n",
    "    h[1] = 1\n",
    "    h[2] = 2\n",
    "    h[3] = 3\n",
    "    # 递归问题是 f(n) = max{f(i)*f(n-i)}\n",
    "    for i in range(4,n+1):\n",
    "        maxs = 0\n",
    "        for j in range(1,i//2+1):\n",
    "            mult = h[j] * h[i-j]\n",
    "            if maxs < mult:\n",
    "                maxs = mult\n",
    "            h[i] = maxs     # 每次J的迭代轮询出该长度的最大值\n",
    "    print(h)\n",
    "    return h[n]\n",
    "\n",
    "print (jianshengzi(8))"
   ]
  },
  {
   "cell_type": "code",
   "execution_count": 6,
   "metadata": {},
   "outputs": [
    {
     "name": "stdout",
     "output_type": "stream",
     "text": [
      "3\n"
     ]
    }
   ],
   "source": [
    "#实例2 \n",
    "#硬币问题 \n",
    "#我们有面值为1元3元5元的硬币若干枚，如何用最少的硬币凑够11元？ \n",
    "#分析： \n",
    "#1 求问题的最优解：最小的硬币数 \n",
    "#2 是否有子问题：f(n)表示的最少硬币数是是上一次拿时候的硬币数最少。 \n",
    "#注意：f(n)是n元的最小硬币数，最后一次可拿的硬币数为1,3,5 则下一步 \n",
    "#的最小硬币数为 f(n-vi) 它的状态变更不是按元数的，是按照上次拿的硬币钱目 \n",
    "#3 状态转移方程为 f(n)= min(f(n-vi)+1) \n",
    "#4 边界问题(找到最后一个重复的问题) 这里 \n",
    "#f(1)=1 ,f(2)=f(1)+f(1)=2 f(3)=min(1,f(2)+1) \n",
    "#f(4)=f(3)+1 f(5)=1 \n",
    "#5 从上往下分析问题，从下往上解决问题。\n",
    "\n",
    "def f(n):\n",
    "    if n == 1:\n",
    "        return 1\n",
    "    if n == 2:\n",
    "        return 2\n",
    "    if n == 3:\n",
    "        return 1\n",
    "    if n == 4:\n",
    "        return 3\n",
    "    if n == 5:\n",
    "        return 1\n",
    "\n",
    "    h = [1,3,5]\n",
    "    for x in range(6,n+1):     #从下往上的思维解决\n",
    "        minx = n\n",
    "        for i in range(3):      \n",
    "            coun = f(x-h[i])+1   #从下往上的思维解决 \n",
    "            if minx > coun:\n",
    "                minx = coun\n",
    "    return minx\n",
    "print(f(11))"
   ]
  },
  {
   "cell_type": "markdown",
   "metadata": {},
   "source": [
    "与分治算法一样，动态规划的基础也是先解决独立的子问题，再将子问题的解组合起来。但\n",
    "是，二者之间也有一些重要的不同之处。\n",
    "\n",
    "分治算法的基础是找到规模远远小于初始问题的子问题。例如，归并排序的工作原理是在每\n",
    "一步都将问题规模减半。相比之下，动态规划解决的子问题的规模只稍稍小于初始问题。举例来\n",
    "说，计算第19个斐波那契数并不是一个规模远远小于计算第20个斐波那契数的问题。\n",
    "\n",
    "另一个重要的区别是，分治算法的效率并不取决于算法结构，所以同样的问题会被重复解决。\n",
    "相比之下，只有在不同子问题的数量远远小于所有子问题的数量时，动态规划才是有效率的。"
   ]
  }
 ],
 "metadata": {
  "kernelspec": {
   "display_name": "Python 3",
   "language": "python",
   "name": "python3"
  },
  "language_info": {
   "codemirror_mode": {
    "name": "ipython",
    "version": 3
   },
   "file_extension": ".py",
   "mimetype": "text/x-python",
   "name": "python",
   "nbconvert_exporter": "python",
   "pygments_lexer": "ipython3",
   "version": "3.6.4"
  },
  "toc": {
   "base_numbering": 1,
   "nav_menu": {},
   "number_sections": true,
   "sideBar": false,
   "skip_h1_title": false,
   "title_cell": "Table of Contents",
   "title_sidebar": "Contents",
   "toc_cell": false,
   "toc_position": {
    "height": "342px",
    "left": "1227px",
    "top": "137.8px",
    "width": "266px"
   },
   "toc_section_display": true,
   "toc_window_display": true
  }
 },
 "nbformat": 4,
 "nbformat_minor": 2
}
